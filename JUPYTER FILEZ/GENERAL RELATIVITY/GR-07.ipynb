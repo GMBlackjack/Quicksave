{
 "cells": [
  {
   "cell_type": "markdown",
   "id": "0c1bfe81",
   "metadata": {},
   "source": [
    "# General Relativity Problems Chapter 7: Physics in a Curved Spacetime\n",
    "\n",
    "## Authors: Gabriel M Steward"
   ]
  },
  {
   "cell_type": "markdown",
   "id": "479540e4",
   "metadata": {},
   "source": [
    "https://github.com/zachetienne/nrpytutorial/blob/master/Tutorial-Template_Style_Guide.ipynb\n",
    "\n",
    "Link to the Style Guide. Not internal in case something breaks. "
   ]
  },
  {
   "cell_type": "markdown",
   "id": "10780970",
   "metadata": {},
   "source": [
    "### </list_source_code> NRPy+ Source Code for this module:\n",
    "None! \n",
    "\n",
    "## Introduction:\n",
    "Now maybe we can apply what we've learned to some actual physical problems. Maybe. One can hope.\n",
    "\n",
    "## </other>  Other (Optional): \n",
    "Placeholder. \n",
    "\n",
    "### Note on Notation:\n",
    "Any new notation will be brought up in the notebook when it becomes relevant. \n",
    "\n",
    "### Citations:\n",
    "\n",
    "<a id='1'></a>\n",
    "[1] https://www.wolframalpha.com/input?i=y%27%28x%29+%3D+cosx+sinx+y+-+y%5C%28tanx%29+-+1 (Wolfram likes differential equations.)\n"
   ]
  },
  {
   "cell_type": "markdown",
   "id": "56664bc2",
   "metadata": {},
   "source": [
    "<a id='toc'></a>\n",
    "\n",
    "# Table of Contents\n",
    "$$\\label{toc}$$\n",
    "\n",
    "[Problem 1](#P1) (A thought experiment)\n",
    "\n",
    "[Problem 2](#P2) (Newtonian Metric)\n",
    "\n",
    "[Problem 3](#P3) (Newtonian Metric Christoffel Symbols)\n",
    "\n",
    "[Problem 4](#P4) (g00)\n",
    "\n",
    "[Problem 5](#P5) (The Static Fluid Problem, incomplete)\n",
    "\n",
    "[Problem 6](#P6) (Geodesic Momentum)\n",
    "\n",
    "[Problem 7](#P7) (Playing with Complicated Metrics and Their Momentums)\n",
    "\n",
    "[Problem 8](#P8) (Independent Components, Stress-Energy Tensors, and Integrals, incomplete)\n",
    "\n",
    "[Problem 9](#P9) (Calculating R and R properties, largely skipped.)\n",
    "\n",
    "[Problem 10](#P10) (**KILLING** vector fields.)\n",
    "\n",
    "[PDF](#latex_pdf_output) (turn this into a PDF)"
   ]
  },
  {
   "cell_type": "markdown",
   "id": "7daf72fa",
   "metadata": {},
   "source": [
    "<a id='P1'></a>\n",
    "\n",
    "# Problem 1 \\[Back to [top](#toc)\\]\n",
    "$$\\label{P1}$$ \n",
    "\n",
    "*If 7.3 were the corret genrealization of 7.1 to a curved spacetime, how would you interpret it? What would happen to the number of particles in a comoving volume of the fluid, as time evolves? In principle, can we distinguish experimetnally between 7.2 and 7.3?*"
   ]
  },
  {
   "cell_type": "markdown",
   "id": "5b58e2c0",
   "metadata": {},
   "source": [
    "7.1: $(nU^\\alpha)_{,\\alpha}=0$\n",
    "\n",
    "7.2: $(nU^\\alpha)_{;\\alpha}=0$\n",
    "\n",
    "7.3: $(nU^\\alpha)_{;\\alpha}=qR^2$\n",
    "\n",
    "The exact value of qR^2 is irrelevant, besides the fact that it vanishes in a Lorentz frame as R vanishes there. \n",
    "\n",
    "$nU^\\alpha$ is the particle density times its actual \"speed\" at any given reference frame. We know this quantity to be N. The first component is the number density, the rest are the flux. \n",
    "\n",
    "7.1 says many things, but one of the things it says is that the flux values are constants with respect to all coordinates: they do not change. (for something of constant density everywher,e which is what n is). No matter where we are or when we are, everything is the same. \n",
    "\n",
    "7.2 asserts this is true no matter your reference frame or curvature. \n",
    "\n",
    "7.3, on the other hand, disagrees, saying that the fluxes do change with curvature. This means that while locally it may seem that everything is conserved, globally it is not, the values of the fluxes could be different at large differences. Also the number density could change. \n",
    "\n",
    "The number density is the big thing. Elsewhere, we have a different density. This means there have to be *more particles* over there. But we established a constant density, so curvature must be *creating* particles. \n",
    "\n",
    "This seems like nonsense, to be sure. \n",
    "\n",
    "Depending on the curvature, the number of particles would go up or down (we don't know the sign of q). R, however, is squared and always positive. So this means curvature can only CREATE or DESTROY particles, not both. There would be no \"going back\" afterward. \n",
    "\n",
    "Which means we can definitely test it. Just gather a bunch of particles and accelerate them to near light speeds and then count them along the whole trip. \n",
    "\n",
    "((we understand that virtual particles throw a wrench into this, but that usually keeps particle number conserved over large times, so just consider them noise.))\n",
    "\n",
    "At this juncture all experiments show that particles are in fact conserved. As well as all the other conservation laws. Still, though, the gradual incerasing or decreasing of particles would be rather interesting. Since it can't go back down or up, though, it sure seems like that would violate energy conservation... and entropy... and a whole slew of other things. \n",
    "\n",
    "Now if there were an alternative 7.3 that could take both positive and negative values, then that would be a different story. And something like this kind of has to be true, as at any given moment particle number in the universe is not conserved. The aforementioned virtual particles at black hole horizons kind of throw a wrench into this. (Though that theory would involve interactions between particles, which we are ignoring right now, and is probably a million times more complicated than we realize.)"
   ]
  },
  {
   "cell_type": "markdown",
   "id": "b7e71e8b",
   "metadata": {},
   "source": [
    "<a id='P2'></a>\n",
    "\n",
    "# Problem 2 \\[Back to [top](#toc)\\]\n",
    "$$\\label{P2}$$ \n",
    "\n",
    "*To first order in $\\phi$, compute $g^{\\alpha\\beta}$ for 7.8*"
   ]
  },
  {
   "cell_type": "markdown",
   "id": "4fe500ed",
   "metadata": {},
   "source": [
    "Ah, 7.8! The \"Newtonian\" metric! 7.8 is rather helpful but we'll write it out for reference:\n",
    "\n",
    "$$ ds^2 = -(1+2\\phi)dt^2 + (1-2\\phi)(dx^2+dy^2+dz^2)  $$\n",
    "\n",
    "Which gives us a metric with diagonal\n",
    "\n",
    "$$(-(1+2\\phi),1-2\\phi,1-2\\phi,1-2\\phi)$$\n",
    "\n",
    "Now we could calculat the inverse metric the long way... or we could just find this matrix's inverse that returns us to the (-1,1,1,1) matrix. Which is actually rather easy, just invert everything.\n",
    "\n",
    "$$(-\\frac{1}{(1+2\\phi)},\\frac{1}{1-2\\phi},\\frac{1}{1-2\\phi},\\frac{1}{1-2\\phi})$$\n",
    "\n",
    "NOTE: The metrics are inverses of each other, they form the identity, NOT the Lorentz metricwhen together. They do convert back and forth between the Lorentz metric, but that's when STARTING from the Lorentz metric. Be careful."
   ]
  },
  {
   "cell_type": "markdown",
   "id": "8a445f23",
   "metadata": {},
   "source": [
    "<a id='P3'></a>\n",
    "\n",
    "# Problem 3 \\[Back to [top](#toc)\\]\n",
    "$$\\label{P3}$$ \n",
    "\n",
    "*Calculate all the Christoffel symbols for the metric given by 7.8 to first order in $\\phi$. Assume $\\phi$ is a general function of t,x,y,z.*\n",
    "\n",
    "Ah, see, this is more challenging, since now we've got to take derivatives of the metric we declared in **Problem 2** and since we know nothing about the actual form of $\\phi$ this could get quite ugly. Fortunately we can ignore anything squared or higher in our approximation, which is neat. \n",
    "\n",
    "Anyway, we need derivatives of the metric with respect to everything. This is:\n",
    "\n",
    "$$(-2\\phi_{,t},-2\\phi_{,x},-2\\phi_{,y},-2\\phi_{,z})$$\n",
    "\n",
    "It actually doesn't matter which element is being used, they're all the same in terms of derivative, bizarrely.\n",
    "\n",
    "And fortunately for us we don't have to calculate derivatives of the inverse metric. Yet. \n",
    "\n",
    "The general formula for the Christoffel symbols are: \n",
    "\n",
    "$$ \\Gamma^\\gamma_{\\beta\\mu} = \\frac{1}{2} g^{\\alpha\\gamma} (g_{\\alpha\\beta,\\mu} + g_{\\alpha\\mu,\\beta} - g_{\\beta\\mu,\\alpha})  $$\n",
    "\n",
    "Which means we'll have... a 4x4x4 result. This is gonna be a spicy one. "
   ]
  },
  {
   "cell_type": "markdown",
   "id": "e9f607bf",
   "metadata": {},
   "source": [
    "Fortunately the vast majority of these are just going to be zero because the metric has a lot of zeroes. We only need concern ourselves with the situations where the three inner metrics aren't zero, that is, their indeces match. Unfortunately there are still a lot of those. This time the bottom coordinates $\\beta\\mu$ represent the row/column while the top coordinate $\\gamma$ is the matrix itself. Coordinates are in order (txyz) or (0123) depending on what system is being used. \n",
    "\n",
    "\n",
    "\n",
    "$$ \\Gamma^{\\gamma}_{\\beta\\mu} = \\begin{bmatrix}\n",
    "\\frac{\\phi_{,t}}{1+2\\phi} & \\frac{\\phi_{,x}}{1+2\\phi} & \\frac{\\phi_{,y}}{1+2\\phi} & \\frac{\\phi_{,z}}{1+2\\phi} \\\\ \n",
    "\\frac{\\phi_{,x}}{1+2\\phi} & -\\frac{\\phi_{,t}}{1+2\\phi} & 0 & 0 \\\\\n",
    "\\frac{\\phi_{,y}}{1+2\\phi} & 0 & -\\frac{\\phi_{,t}}{1+2\\phi} & 0 \\\\\n",
    "\\frac{\\phi_{,z}}{1+2\\phi} & 0 & 0 & -\\frac{\\phi_{,t}}{1+2\\phi}\n",
    "\\end{bmatrix},\\begin{bmatrix}\n",
    "\\frac{\\phi_{,x}}{1-2\\phi} & -\\frac{\\phi_{,t}}{1-2\\phi} & 0 & 0 \\\\ \n",
    "-\\frac{\\phi_{,t}}{1-2\\phi} & -\\frac{\\phi_{,x}}{1-2\\phi} & -\\frac{\\phi_{,y}}{1-2\\phi} & -\\frac{\\phi_{,z}}{1-2\\phi} \\\\\n",
    "0 & -\\frac{\\phi_{,y}}{1-2\\phi} & \\frac{\\phi_{,x}}{1-2\\phi} & 0 \\\\\n",
    "0 & -\\frac{\\phi_{,z}}{1-2\\phi} & 0 & \\frac{\\phi_{,x}}{1-2\\phi}\n",
    "\\end{bmatrix},\\begin{bmatrix}\n",
    "\\frac{\\phi_{,y}}{1-2\\phi} & 0 & -\\frac{\\phi_{,t}}{1-2\\phi} & 0 \\\\ \n",
    "0 & \\frac{\\phi_{,y}}{1-2\\phi} & -\\frac{\\phi_{,x}}{1-2\\phi} & 0 \\\\\n",
    "-\\frac{\\phi_{,t}}{1-2\\phi} & -\\frac{\\phi_{,x}}{1-2\\phi} & -\\frac{\\phi_{,y}}{1-2\\phi} & -\\frac{\\phi_{,z}}{1-2\\phi} \\\\\n",
    "0 & 0 & -\\frac{\\phi_{,z}}{1-2\\phi} & \\frac{\\phi_{,y}}{1-2\\phi}\n",
    "\\end{bmatrix},\\begin{bmatrix}\n",
    "\\frac{\\phi_{,z}}{1-2\\phi} & 0 & 0 & -\\frac{\\phi_{,t}}{1-2\\phi} \\\\ \n",
    "0 & \\frac{\\phi_{,z}}{1-2\\phi} & 0 & -\\frac{\\phi_{,x}}{1-2\\phi} \\\\\n",
    "0 & 0 & \\frac{\\phi_{,z}}{1-2\\phi} & -\\frac{\\phi_{,y}}{1-2\\phi} \\\\\n",
    "-\\frac{\\phi_{,t}}{1-2\\phi} & -\\frac{\\phi_{,x}}{1-2\\phi} & -\\frac{\\phi_{,y}}{1-2\\phi} & -\\frac{\\phi_{,z}}{1-2\\phi}\n",
    "\\end{bmatrix}\n",
    "$$"
   ]
  },
  {
   "cell_type": "markdown",
   "id": "f49d2fb1",
   "metadata": {},
   "source": [
    "And there they all. All of them. We suspect that in a known field many of the derivatives will vanish. \n",
    "\n",
    "Apparently the book considers \"to first order\" approximations to include removing the fraction since phi is small. Which is fine, 1 dominates, but methinks that's not a very strict definition of \"to first order.\"\n",
    "\n",
    "$$ \\Gamma^{\\gamma}_{\\beta\\mu} = \\begin{bmatrix}\n",
    "\\phi_{,t} & \\phi_{,x} & \\phi_{,y} & \\phi_{,z} \\\\ \n",
    "\\phi_{,x} & -\\phi_{,t} & 0 & 0 \\\\\n",
    "\\phi_{,y} & 0 & -\\phi_{,t} & 0 \\\\\n",
    "\\phi_{,z} & 0 & 0 & -\\phi_{,t}\n",
    "\\end{bmatrix},\\begin{bmatrix}\n",
    "\\phi_{,x} & -\\phi_{,t} & 0 & 0 \\\\ \n",
    "-\\phi_{,t} & -\\phi_{,x} & -\\phi_{,y} & -\\phi_{,z} \\\\\n",
    "0 & -\\phi_{,y} & \\phi_{,x} & 0 \\\\\n",
    "0 & -\\phi_{,z} & 0 & \\phi_{,x}\n",
    "\\end{bmatrix},\\begin{bmatrix}\n",
    "\\phi_{,y} & 0 & -\\phi_{,t} & 0 \\\\ \n",
    "0 & \\phi_{,y} & -\\phi_{,x} & 0 \\\\\n",
    "-\\phi_{,t} & -\\phi_{,x} & -\\phi_{,y} & -\\phi_{,z} \\\\\n",
    "0 & 0 & -\\phi_{,z} & \\phi_{,y}\n",
    "\\end{bmatrix},\\begin{bmatrix}\n",
    "\\phi_{,z} & 0 & 0 & -\\phi_{,t} \\\\ \n",
    "0 & \\phi_{,z} & 0 & -\\phi_{,x} \\\\\n",
    "0 & 0 & \\phi_{,z} & -\\phi_{,y} \\\\\n",
    "-\\phi_{,t} & -\\phi_{,x} & -\\phi_{,y} & -\\phi_{,z}\n",
    "\\end{bmatrix}\n",
    "$$"
   ]
  },
  {
   "cell_type": "markdown",
   "id": "9d726270",
   "metadata": {},
   "source": [
    "Random factoid: determinant g is equal to $1-8\\phi$."
   ]
  },
  {
   "cell_type": "markdown",
   "id": "7964a86f",
   "metadata": {},
   "source": [
    "<a id='P4'></a>\n",
    "\n",
    "# Problem 4 \\[Back to [top](#toc)\\]\n",
    "$$\\label{P4}$$ \n",
    "\n",
    "*Verify that hte results 7.15 and 7.24 depend only on $g_{00}$, the form of $g_{xx}$ doesn't affect them, as long as it is 1+O($\\phi$).*"
   ]
  },
  {
   "cell_type": "markdown",
   "id": "9d4ed37a",
   "metadata": {},
   "source": [
    "This is essentially the same as asking for the dependence of the Christoffel symbols. For instance...\n",
    "\n",
    "7.15: $\\frac{d}{d\\tau} p^0 = -m \\frac{\\partial \\phi}{\\partial \\tau}$\n",
    "\n",
    "This was derived from a Christoffel symbol of $\\Gamma^0_00$. As we saw in **Problem 3**, this is calculated from \n",
    "\n",
    "$$ \\Gamma^\\gamma_{\\beta\\mu} = \\frac{1}{2} g^{\\alpha\\gamma} (g_{\\alpha\\beta,\\mu} + g_{\\alpha\\mu,\\beta} - g_{\\beta\\mu,\\alpha})  $$\n",
    "\n",
    "$$ \\Rightarrow \\Gamma^0_{0} = \\frac{1}{2} g^{00} (g_{00,0} + g_{00,0} - g_{00,0})  $$\n",
    "\n",
    "Which obviously only includes the metric's 00. (The inverse metric can be calculated from it directly).\n",
    "\n",
    "7.24 relies instead on $\\Gamma^i_{00}$. It's rather self evident that the normal g-metrics all cancel unless they are 00. HOWEVER... the inverse metric *does* matter. Now, its term cannot be derived from $g_00$, and is in fact the inverse of whatever xx, yy, zz. While the inverse metric does appear to vanish, it still carries with it hte *sign* of those components. \n",
    "\n",
    "In fact this is even directly shown in equation 7.20, where the inverse metric is calculated. It provides a positive sign, while for the t-value it would be negative. \n",
    "\n",
    "...That said in the actual limit we're discussion, that of the first order, then we're actually fine, seeing as *all* the matrix values an be argued to depend only on $g_00$ as all their values are correlated to derivatives of it. But that seems to be more a trick of fate than anything. "
   ]
  },
  {
   "cell_type": "markdown",
   "id": "23828dd8",
   "metadata": {},
   "source": [
    "<a id='P5'></a>\n",
    "\n",
    "# Problem 5 \\[Back to [top](#toc)\\]\n",
    "$$\\label{P5}$$ \n",
    "\n",
    "*a) For a perfect fluid, verify that the spatial components of 7.6 in the Newtonian limit reduce to $\\textbf{v}_{,t} + (\\textbf{v}\\cdot \\nabla)\\textbf{v} + \\nabla p/\\rho + \\nabla \\phi = 0$ for the metric 7.8. This is known as Euler's equation for nonrelativistic fluid flow in a gravitaitonal field. You will need to use 7.2 to get this result.*"
   ]
  },
  {
   "cell_type": "markdown",
   "id": "fc387ca5",
   "metadata": {},
   "source": [
    "7.6 is the statement of the conservation of four-monentum, given by\n",
    "\n",
    "$$ T^{\\mu\\nu}_{;\\nu}=0 $$\n",
    "\n",
    "$$ T^{\\mu\\nu} = (\\rho + p)U^\\mu U^\\nu + pg^{\\mu\\nu} $$\n",
    "\n",
    "A hint on page 177 points out that in the nonrelativistic limit, v has to be small, and p << $\\rho$ since the individual constituent particles also have to be moving slowly in relation to each other. \n",
    "\n",
    "7.2 is $(nU^\\alpha)_{;\\alpha}=0$\n",
    "\n",
    "Let's not assume that n is a constant, at least not at first.\n",
    "\n",
    "$$ n_{;\\alpha}U^\\alpha + nU^\\alpha_{;\\alpha} =0 $$\n",
    "\n",
    "For this part, we only care about the spatial components, however we do end up with a time derivative so we shall not ignore the variety of potential sums here. \n",
    "\n",
    "The inverse metric is already known from previous problems, time component $-\\frac{1}{1+2\\phi}$ and space components $\\frac{1}{1-2\\phi}$. (along the diagonal, all else is zero). "
   ]
  },
  {
   "cell_type": "markdown",
   "id": "8c35434e",
   "metadata": {},
   "source": [
    "So now we take the covariant derivative. Funny thing, the covariant derivative of any metric component is guaranteed to be zero, but because we have a p out front it doesn't just simply vanish. We also set $\\mu = i$ to remind ourselves we are only computing the physical section. So the covariant derivative of our term becomes...\n",
    "\n",
    "$$ T^{i\\nu}_{\\nu} = \\left[ (\\rho + p)U^i U^\\nu + pg^{i\\nu} \\right]_{,\\nu} + \\left[ (\\rho + p)U^\\alpha U^\\nu + pg^{\\alpha\\nu} \\right]\\Gamma^i_{\\alpha\\nu} + \\left[ (\\rho + p)U^i U^\\alpha + pg^{i\\alpha} \\right]\\Gamma^\\nu_{\\alpha\\nu} $$\n",
    "\n",
    "$$  = \\left[ (\\rho + p)U^i U^\\nu \\right]_{,\\nu} + \\left[ (\\rho + p)U^\\alpha U^\\nu \\right]\\Gamma^i_{\\alpha\\nu} + \\left[ (\\rho + p)U^i U^\\alpha \\right]\\Gamma^\\nu_{\\alpha\\nu} + \\left[pg^{i\\nu} \\right]_{,\\nu} + \\left[pg^{\\alpha\\nu} \\right]\\Gamma^i_{\\alpha\\nu} + \\left[pg^{i\\alpha} \\right]\\Gamma^\\nu_{\\alpha\\nu} $$\n",
    "\n",
    "Split up everything using the product rule.\n",
    "\n",
    "$$ = (\\rho_{,\\nu} + p_{,\\nu})U^i U^\\nu + (\\rho + p)U^i_{,\\nu} U^\\nu  + (\\rho + p)U^i U^\\nu_{,\\nu}  + \\left[ (\\rho + p)U^\\alpha U^\\nu \\right]\\Gamma^i_{\\alpha\\nu} + \\left[ (\\rho + p)U^i U^\\alpha \\right]\\Gamma^\\nu_{\\alpha\\nu} + p_{,\\nu}g^{i\\nu} + pg^{i\\nu}_{,\\nu} + \\left[pg^{\\alpha\\nu} \\right]\\Gamma^i_{\\alpha\\nu} + \\left[pg^{i\\alpha} \\right]\\Gamma^\\nu_{\\alpha\\nu} $$\n",
    "\n",
    "The last three terms are just the expansion of a covariant derivative of a metric, it has to be zero, cut all of them off. \n",
    "\n",
    "$$ = (\\rho_{,\\nu} + p_{,\\nu})U^i U^\\nu + (\\rho + p)U^i_{,\\nu} U^\\nu  + (\\rho + p)U^i U^\\nu_{,\\nu}  + \\left[ (\\rho + p)U^\\alpha U^\\nu \\right]\\Gamma^i_{\\alpha\\nu} + \\left[ (\\rho + p)U^i U^\\alpha \\right]\\Gamma^\\nu_{\\alpha\\nu} + p_{,\\nu}g^{i\\nu}$$"
   ]
  },
  {
   "cell_type": "markdown",
   "id": "51965ec7",
   "metadata": {},
   "source": [
    "Now at this point we have to remind ourselves what $\\rho$ and p represent. p = mU (the magnitude of U, not the components, we want to be clear), and $\\rho = mn$. The n is important, since it's part of the 7.2 relation we have. n and U may not be constant, however, m is. m is the mass per particle and as we're assuming a perfect fluid each particle has to have the same amount, so we can pull this m out of everything we might want. (Thus it is perfectly fine not to split up $\\rho$ and p into components). Because of this, 7.2 implies:\n",
    "\n",
    "$$ \\rho_{;\\alpha}U^\\alpha + \\rho U^\\alpha_{;\\alpha} =0 $$\n",
    "\n",
    "$\\rho$ is a scalar so there's no need to apply the derivative expansion to it. (?). However, U is a vector, so it can be split here.\n",
    "\n",
    "$$ \\rho_{,\\alpha}U^\\alpha + \\rho U^\\alpha_{,\\alpha} + \\Gamma^\\alpha_{\\mu\\alpha}U^\\mu =0 $$"
   ]
  },
  {
   "cell_type": "markdown",
   "id": "25975ac7",
   "metadata": {},
   "source": [
    "Now we do actually have this form in existence in our above relation, but it isn't exactly obvious where it is. So let's split everything up.\n",
    "\n",
    "$$ = \\rho_{,\\nu}U^i U^\\nu + p_{,\\nu}U^i U^\\nu + \\rho U^i_{,\\nu} U^\\nu + pU^i_{,\\nu} U^\\nu  + \\rho U^i U^\\nu_{,\\nu} + pU^i U^\\nu_{,\\nu}  + \\rho U^\\alpha U^\\nu \\Gamma^i_{\\alpha\\nu} + pU^\\alpha U^\\nu \\Gamma^i_{\\alpha\\nu} + \\rho U^i U^\\alpha \\Gamma^\\nu_{\\alpha\\nu} + pU^i U^\\alpha \\Gamma^\\nu_{\\alpha\\nu} + p_{,\\nu}g^{i\\nu}$$"
   ]
  },
  {
   "cell_type": "markdown",
   "id": "a89b24b9",
   "metadata": {},
   "source": [
    "With $\\alpha = \\nu$ we can find every term we want multiplied by a $U^i$. Remove them. \n",
    "\n",
    "$$ = p_{,\\nu}U^i U^\\nu + \\rho U^i_{,\\nu} U^\\nu + pU^i_{,\\nu} U^\\nu + pU^i U^\\nu_{,\\nu}  + \\rho U^\\alpha U^\\nu \\Gamma^i_{\\alpha\\nu} + pU^\\alpha U^\\nu \\Gamma^i_{\\alpha\\nu} + pU^i U^\\alpha \\Gamma^\\nu_{\\alpha\\nu} + p_{,\\nu}g^{i\\nu}$$"
   ]
  },
  {
   "cell_type": "markdown",
   "id": "8d8f051a",
   "metadata": {},
   "source": [
    "Now we can actually extract two of the terms we want out of this if we just divide through by $\\rho$. \n",
    "\n",
    "$$ = \\frac1\\rho p_{,\\nu}U^i U^\\nu + U^i_{,\\nu} U^\\nu + \\frac1\\rho pU^i_{,\\nu} U^\\nu + \\frac1\\rho pU^i U^\\nu_{,\\nu}  + U^\\alpha U^\\nu \\Gamma^i_{\\alpha\\nu} + \\frac1\\rho pU^\\alpha U^\\nu \\Gamma^i_{\\alpha\\nu} + \\frac1\\rho pU^i U^\\alpha \\Gamma^\\nu_{\\alpha\\nu} + \\frac{p_{,\\nu}}{\\rho}g^{i\\nu}$$\n",
    "\n",
    "The second term is, if we apply the spatial limitation, $ v_{,t} + (v\\cdot \\nabla)v$, and if we apply the spatial limitation on the last term it becomes simply $\\nabla p/\\rho$ since the metric is locally $\\eta$. This is almost everything in the relation we need, we're just missing the peasky $\\nabla \\phi$ term. \n",
    "\n",
    "However, we've got a lot of extra terms. We note that p << $\\rho$ and we have a lot of p/$\\rho$ terms, which naturally will be *really* small compared to everything else. So let's just remove all those terms.\n",
    "\n",
    "$$ = \\frac1\\rho p_{,\\nu}U^i U^\\nu + U^i_{;,\\nu} U^\\nu + U^\\alpha U^\\nu \\Gamma^i_{\\alpha\\nu} + \\frac{p_{,\\nu}}{\\rho}g^{i\\nu}$$"
   ]
  },
  {
   "cell_type": "markdown",
   "id": "734ff65f",
   "metadata": {},
   "source": [
    "We know the metric is of order 1 in its terms, meanwhile the U values are all TINY. So the first term vanishes.\n",
    "\n",
    "$$ = U^i_{;,\\nu} U^\\nu + U^\\alpha U^\\nu \\Gamma^i_{\\alpha\\nu} + \\frac{p_{,\\nu}}{\\rho}g^{i\\nu}$$\n",
    "\n",
    "Which means all we have to do is somehow extract the phi-dependence from that middle term. "
   ]
  },
  {
   "cell_type": "markdown",
   "id": "5e9f3cf8",
   "metadata": {},
   "source": [
    "Since U is small usually, all the terms for the middle term vanish EXCEPT for when both are the time coordinate: then they're both 1. Which leaves just $\\Gamma^i_{tt}$, which is always $\\phi_{,i}$ which becomes exactly what we seek. Yes!\n",
    "\n",
    "$$ = U^i_{;,\\nu} U^\\nu + \\Gamma^i_{tt} + \\frac{p_{,\\nu}}{\\rho}g^{i\\nu}$$\n",
    "\n",
    "$$ \\Rightarrow \\textbf{v}_{,t} + (\\textbf{v}\\cdot \\nabla)\\textbf{v} + \\nabla p/\\rho + \\nabla \\phi = 0$$"
   ]
  },
  {
   "cell_type": "markdown",
   "id": "aa960463",
   "metadata": {},
   "source": [
    "*b) Examine the time component of 7.6 under the same assumptions and interpret each term.*"
   ]
  },
  {
   "cell_type": "markdown",
   "id": "2ce734da",
   "metadata": {},
   "source": [
    "*c) 7.38 implies that a static fluid (v=0) in a static Newtonian gravitaitonal field obeys the equation of hydrostatic equlibrium. $\\nabla p + \\rho \\nabla \\phi = 0$. A metric tensor is said to be static if there exists coordisnates in which $\\vec e_0$ is timelike, $g_{i0}=0$, and $g_{\\alpha\\beta,0}=0$. Deduce from 7.6 that a static fluid $(U^i=0, p_{,0}=0, etc)$ obeys the relativistic equation of hydrostatic equilibrium*\n",
    "\n",
    "$$ p_{,i} + (\\rho + p) \\left[ \\frac12 ln(-g_{00}) \\right]_{,i} = 0 $$"
   ]
  },
  {
   "cell_type": "markdown",
   "id": "466fd02a",
   "metadata": {},
   "source": []
  },
  {
   "cell_type": "markdown",
   "id": "9c09fbe7",
   "metadata": {},
   "source": [
    "*d) This suggests that, at least for static situations, there is a close relation between $g_{00}$ and $-exp(2\\phi)$, where $\\phi$ is the Newtonian potential for a similar physical situation. Show that 7.8 and **Problem 4** are consistent with this.*"
   ]
  },
  {
   "cell_type": "markdown",
   "id": "adb69369",
   "metadata": {},
   "source": [
    "<a id='P6'></a>\n",
    "\n",
    "# Problem 6 \\[Back to [top](#toc)\\]\n",
    "$$\\label{P6}$$\n",
    "\n",
    "*Deduce 7.25 from 7.10*"
   ]
  },
  {
   "cell_type": "markdown",
   "id": "3e195708",
   "metadata": {},
   "source": [
    "7.10: $\\nabla_{\\vec p} \\vec p = 0$\n",
    "\n",
    "7.25: $p^\\alpha p_{\\beta;\\alpha} = 0$\n",
    "\n",
    "Here we go!\n",
    "\n",
    "$$ \\nabla_{\\vec p} \\vec p $$\n",
    "$$ = p^\\beta p^\\alpha_{;\\beta} $$ \n",
    "\n",
    "Ooooh, the index is in the wrong spot. This suddenly became interesting.\n",
    "\n",
    "While it looks complicated, it's actually not. Just transform both sides of the equality using a metric. \n",
    "\n",
    "$$  g_{\\alpha\\nu} p^\\beta p^\\alpha_{;\\beta} = g_{\\alpha\\nu}(0)$$\n",
    "\n",
    "$$  p^\\beta p_{\\alpha;\\beta} = 0 $$\n",
    "\n",
    "Tah-dah! While they definitely aren't equal to each other in an exact sense (one is a zero one-form and one is a zero vector) they do both evaluate to zero. "
   ]
  },
  {
   "cell_type": "markdown",
   "id": "da145f42",
   "metadata": {},
   "source": [
    "<a id='P7'></a>\n",
    "\n",
    "# Problem 7 \\[Back to [top](#toc)\\]\n",
    "$$\\label{P7}$$\n",
    "\n",
    "*Consider the following four different metrics, as given by their line elements.*\n",
    "\n",
    "*i) $ds^2 = -dt^2+dx^2+dy^2+dz^2$*\n",
    "\n",
    "*ii) $ds^2 = -(1-2M/r)dt^2+(1-2M/r)^{-1}dr^2+r^2(d\\theta^2+ sin^2\\theta d\\phi^2)$, where M is a constant.*\n",
    "\n",
    "*iii) $ds^2 = -\\frac{\\Delta - a^2sin^2\\theta}{\\rho^2}dt^2 - 2a\\frac{2Mrsin^2\\theta}{\\rho^2}dtd\\phi + \\frac{(r^2+a^2)^2-a^2\\Delta sin^2\\theta}{\\rho^2}sin^2\\theta d\\phi^2 + \\frac{\\rho^2}{\\Delta}dr^2 + \\rho^2 d\\theta^2$, where M and a are constants and we have introduced the shorthand notation $\\Delta = r^2-2Mr+a^2 ; \\rho^2 = r^2+a^2cos^2\\theta$*\n",
    "\n",
    "*iv) $ds^2 = -dt^2 + R^2(t)[(1-kr)^{-1}dr^2 + r^2(d\\theta^2 + sin^2\\theta d\\phi^2)]$ where k is a cosntant and R(t) is an arbitrary function of t alone.*\n",
    "\n",
    "*The first one should be familiar by now. We shall encounter the other three in later chapters. Their names are, respectively, the Schwarzschild, Kerr, and Robertson-Walker metrics.*\n",
    "\n",
    "*a) For each metric find as many conserved components $\\rho_\\alpha$ of a freely falling particle's four momentum as possible.*"
   ]
  },
  {
   "cell_type": "markdown",
   "id": "2ba1401b",
   "metadata": {},
   "source": [
    "This relies entirely on the evaluation of 7.29\n",
    "\n",
    "$$ m \\frac{dp_\\beta}{d\\tau} = \\frac12 g_{\\nu\\alpha,\\beta} p^\\nu p^\\alpha$$\n",
    "\n",
    "That is, the momentum is conserved if the term on the right is zero. Which means that if every term of the metric is independent of that variable. \n",
    "\n",
    "In the case of i), every single term depends on no variables whatsoever. Thus, all four terms of the four momentum are conserved. Which it BETTER be since energy conservation is a pretty important part of the standard theory. \n",
    "\n",
    "Note--for latter options, be careful, just because not all of them are dependent doesn't mean the metrics don't always cancel. Check for canceling. "
   ]
  },
  {
   "cell_type": "markdown",
   "id": "6fc9bb6a",
   "metadata": {},
   "source": [
    "In the case of ii), as we are time independent in every case, $p_t$ is conserved, meaning we can apply a conservation of energy. However, r-momentum and $\\theta$-momentum are not conserved. Curiously, $\\phi$-momentum IS conserved, none of the components depend on it. Fascinating. No opportunity for canceling as everything is unique and along the diagonal. \n",
    "\n",
    "iii) Likes to hide in complexity, but it might help to assign dependencies to the \"compressed\" objects. $\\Delta$ only has dependence on r. $\\rho$ has dependence on both r and $\\theta$. Even though some terms are on the off-diagonal, we do have to consider them as we use all of them here. Nothing depends on t, so energy conservation applies. everything depends on r, so that's not conserved. Everything also depends on $\\theta$. Once again, though, $\\phi$-momentum is conserved. \n",
    "\n",
    "Now, we consider canceling, as we do in fact have some off-diagonal terms. However, the diagonal terms are still terrible and kill both r and $\\theta$ each and every time. \n",
    "\n",
    "iv) for once, energy is not conserved, as we have a pretty clear time dependence. And an r dependence. And there's $\\theta$ dependence. But again there is NOT $\\phi$ dependence! $\\phi$ just likes to be conserved, it seems. \n",
    "\n",
    "Cancelation *almost* occurs for r, and if k = $1+sin^2\\theta$ it actually would. But sadly it does not. "
   ]
  },
  {
   "cell_type": "markdown",
   "id": "bd0a0a48",
   "metadata": {},
   "source": [
    "*b) Use the result of **Problem 6-28** to put i) in the form $i') ds^2 = -dt^2 + dr^2 + r^2(d\\theta^2 + sin^2\\theta d\\phi^2)$. From this, argue that ii) and iv) are spherically symmetric. Does this increase the number of conserved components $p^\\alpha$?*"
   ]
  },
  {
   "cell_type": "markdown",
   "id": "58c010be",
   "metadata": {},
   "source": [
    "Well we know the cartesian spherical metric is $(1,r^2,r^2sin^2\\theta)$. Naturally the portion of it in the time metric must retain the transformation, so it becomes $(-1,1,r^2,r^2sin^2\\theta)$.\n",
    "\n",
    "If we used the full metric we would have to add t-dependency to the relations in the matrix, but in Minowski spacetime the components are independent of time, so this produces a bunch of zeroes. t=t so the transformation for the time component is just 1, so it leaves -1.\n",
    "\n",
    "This obviously indicates that if we ignored the t and r components fir ii) and iv) they reduce to the spherical shell metric; absolutely in the case of ii), and with an added time dependence R(t) in the case of iv). This would arguably demand that $\\theta$-momentum be conserved as well for both of them. Does this mean that 7.29 is not a guarantee of finding *all* conserved quantities? \n",
    "\n",
    "Unfortunately this couldn't be true, for a nonzero derivative indicates change, and the restricted-to-shell coordinates do not have any other $\\theta$ dependencies to reduce it to zero. Perhaps, then, the momentum components at that point themselves cancel to zero? $p^\\phi p^\\phi = 0$? But this would only be true if the particle wasn't moving in the $\\phi$ direction, and we're looking for a general case. Thus, even though the potentials are spherically symmetric, momentum is not always conserved along said shell. \n",
    "\n",
    "This implies it is also true for Minkowski space, that $\\theta$-momentum is not conserved. \n",
    "\n",
    "We can actually visually think of why this is. Momentum is conserved in a circular orbit, that we know without question. A circular orbit is effectively a geodesic along a spherical shell space. Howeever, if we were to model that orbit at a 45 degree angle, it has to *change direction* in $\\theta$ to complete its orbit. Meanwhile in $\\phi$ it keeps going the same direction at the same rate. (Imagine viewing a clock from above, then tilting it left or right. it still goes around the center at the same rate in terms of $\\phi$.)\n",
    "\n",
    "So what actually happens is we *Decreased* the conserved components of i)! In fact, r-momentum is no longer conserved either. This is a little less obvious as to why, for a circular geodesic maintains zero r-momentum, and a line going directly away also maintains r-momentum. Our method of \"Defining a well known geodesic that clarly violates the result\" may not work here. It does make sense, though, as ostensibly eliptical orbits are geodesics that clearly increase and decrease r, obviously not keepin the component conserved.\n",
    "\n",
    "One things that Kepler's Second Law (the one about sweeping out equal areas) might be related to $\\phi$-momentum conservation. "
   ]
  },
  {
   "cell_type": "markdown",
   "id": "d1f02a01",
   "metadata": {},
   "source": [
    "*c) It can be shown that for i') and ii)-iv), a geodesic that begins with $\\theta = \\pi/2$ and $p^\\theta = 0$ - i.e., one which begins tangent to the equatorial plane - always has $\\theta = \\pi/2$ and $p^\\theta = 0$. For cases i'), ii), and iii), use the equation $\\vec p \\cdot \\vec p = -m^2$ to solve for p^r in terms of m, other conserved quantities, and known functions of position.*"
   ]
  },
  {
   "cell_type": "markdown",
   "id": "b202493a",
   "metadata": {},
   "source": [
    "The dot product uses the metric! Since we don't have to worry about $\\theta$ let's just use the general metric and we get:\n",
    "\n",
    "$$g_{tt} (p^t)^2 + g_{rr} (p^r)^2 + g{\\phi\\phi} (p^\\phi)^2 = m^2$$\n",
    "$$\\Rightarrow g_{rr} (p^r)^2 +  = m^2 - g{\\phi\\phi} (p^\\phi)^2 - g_{tt} (p^t)^2 $$\n",
    "$$\\Rightarrow (p^r)^2 +  = \\frac{m^2 - g{\\phi\\phi} (p^\\phi)^2 - g_{tt} (p^t)^2}{g_{rr}} $$\n",
    "\n",
    "Now this is the general solution for i'), ii), and it would work for iv) as well if t were conserved.\n",
    "\n",
    "However, iii) throws its wrench into it all since it's all \"hey I have off diagonal terms!\" So we need to treat it separately. \n",
    "\n",
    "Fortunately the form is exactly the same, we just need to add an extra term. \n",
    "\n",
    "$$(p^r)^2 +  = \\frac{m^2 - g{\\phi\\phi} (p^\\phi)^2 - g_{tt} (p^t)^2 - 2g_{t\\phi}p^tp^\\phi}{g_{rr}} $$\n",
    "\n",
    "Notably there are two copies because all metrics are symmetric. \n",
    "\n",
    "Yes, these could be simplified. Yes, they coudl be fully substituted. But that would be tedius and not lead to much in the way of insights, since the only metric we have context for is i'). Which, by the way, becomes:\n",
    "\n",
    "$$\\Rightarrow (p^r)^2 +  = m^2 - r^2sin^2\\theta (p^\\phi)^2 + (p^t)^2$$"
   ]
  },
  {
   "cell_type": "markdown",
   "id": "43639ef4",
   "metadata": {},
   "source": [
    "*d) For iv) spherical ysmmetry implies that if a geodesic begins with $p^\\theta = p^\\phi = 0,$ these remain zero. Use this to show from 7.29 that when k=0, $p_r$ is a conserved quantity.*"
   ]
  },
  {
   "cell_type": "markdown",
   "id": "9c163d6c",
   "metadata": {},
   "source": [
    "Now this is trivial. With two components of p being zero, the only parts of 7.29 that matter are the tt and rr terms, -1 and $R^2(t)(1-kr^2)^{-1}$. If k=0, the r dependence vanishes, and thus r is conserved. "
   ]
  },
  {
   "cell_type": "markdown",
   "id": "a0824a95",
   "metadata": {},
   "source": [
    "<a id='P8'></a>\n",
    "\n",
    "# Problem 8 \\[Back to [top](#toc)\\]\n",
    "$$\\label{P8}$$\n",
    "\n",
    "*Suppose that in some coordinate system the components of the metric $g_{\\alpha\\beta}$ are independent of some coordinate $x^\\mu$*\n",
    "\n",
    "*a) Show that the conservation law $T^\\nu_{\\mu;\\nu}$ for any stress-energy tensor becomes*\n",
    "\n",
    "$$ \\frac{(\\sqrt{-g} T^\\nu_\\mu)_{,\\nu}}{\\sqrt{-g}} = 0 $$"
   ]
  },
  {
   "cell_type": "markdown",
   "id": "981b782b",
   "metadata": {},
   "source": [
    "First of all, we have this exact relation already proven for from **Problem 6-34c** for antisymmetric \"double up\" Tensors. (aka, double \"vector\" tensor, or just $2\\choose0$.) Does the argument still hold for symmetric $1\\choose1$ tensors? (The stress-energy tensor is in fact symmetric)\n",
    "\n",
    "The answer is... kinda! Because the covariant derivative of a $1\\choose1$ tensor is of the form $B' + \\Gamma B - \\Gamma B$, while $2\\choose0$ is $B' + \\Gamma B + \\Gamma B$. Which means that all the \"by symmetry\" arguments come out to be \"by antisymmetry\" EXCEPT... the argument was that one term self-canceled. So now we have to worry about that instead. \n",
    "\n",
    "So let's write it out: $T^{\\nu}_{\\mu,\\nu} - \\Gamma^\\alpha_{\\mu\\nu}T^\\nu_\\alpha + \\Gamma^\\nu_{\\alpha\\nu}T^\\alpha_{\\mu} = T^{\\nu}_{\\mu;\\nu} = 0$. "
   ]
  },
  {
   "cell_type": "markdown",
   "id": "8715811b",
   "metadata": {},
   "source": [
    "And it is rather evident that with the different locations of indeces the symmetry in the lower-indeces of the Chrsitoffel symbols does not apply. The third term can rather easily be set into the form we want:\n",
    "\n",
    "$$T^{\\nu}_{\\mu,\\nu} - \\Gamma^\\alpha_{\\mu\\nu}T^\\nu_\\alpha + \\frac{\\sqrt{-g}_{,\\alpha}}{\\sqrt{-g}}T^\\alpha_{\\mu} = T^{\\nu}_{\\mu;\\nu} = 0$$\n",
    "\n",
    "Which we can combine with the first term after some index shuffling and inverse product rule to get:\n",
    "\n",
    "$$ \\frac{(\\sqrt{-g}T^\\nu_\\mu)_{,\\nu}}{\\sqrt{-g}} - \\Gamma^\\alpha_{\\mu\\nu}T^\\nu_\\alpha = T^{\\nu}_{\\mu;\\nu} = 0$$"
   ]
  },
  {
   "cell_type": "markdown",
   "id": "c4677aae",
   "metadata": {},
   "source": [
    "Which implies that the term subtracted off here has to self cancel. But how does it? Well, let's expand the Christoffel coefficient into its definition. \n",
    "\n",
    "$$ \\Gamma^\\alpha_{\\mu\\nu}T^\\nu_\\alpha = \\frac12 g^{\\alpha\\beta}(g_{\\beta\\mu,\\nu}+g_{\\beta\\nu,\\mu}-g_{\\mu\\nu,\\beta}) T^\\nu_\\alpha$$"
   ]
  },
  {
   "cell_type": "markdown",
   "id": "99b54fa2",
   "metadata": {},
   "source": [
    "Now, the first and last terms can be argued to cancel: since T is symmmetric (being a stress energy tensor), flipping its indeces does nothing to it. What it does do it swap the locations of the first and last term since $\\beta$ and $\\alpha$ are linked via the metric. So cancelation occurs.\n",
    "\n",
    "$$ \\Gamma^\\alpha_{\\mu\\nu}T^\\nu_\\alpha = \\frac12 g^{\\alpha\\beta}g_{\\beta\\nu,\\mu} T^\\nu_\\alpha$$\n",
    "\n",
    "We note that the only derivative is with respect to $\\mu$, the very coordinate we were told the metric was independent of. Thus, the entire thing goes to zero. And we finally have\n",
    "\n",
    "$$ \\frac{(\\sqrt{-g}T^\\nu_\\mu)_{,\\nu}}{\\sqrt{-g}} = T^{\\nu}_{\\mu;\\nu} = 0$$"
   ]
  },
  {
   "cell_type": "markdown",
   "id": "754b16fa",
   "metadata": {},
   "source": [
    "*b) Suppose that in these coordinates $T^{\\alpha\\beta}\\neq 0$ only in some bounded region of each spacelike hypersurface $x^0 = const$. Show that 7.41 (the above) implies*\n",
    "\n",
    "$$ \\int_{x_0 = const} T^\\nu_\\mu \\sqrt{-g} n_\\nu d^3x $$\n",
    "\n",
    "*is independent of $x^0$ if $n_\\nu$ is the unit normal to the hypersurface. This is the generalization to continua of the conservation law stated after 7.29.*"
   ]
  },
  {
   "cell_type": "markdown",
   "id": "9d682805",
   "metadata": {},
   "source": [
    "*c) Consider flat Minkowski space in a global inertial frame with spherical polar coordinates $(t,r,\\theta,\\phi)$. Show from b) that*\n",
    "\n",
    "$$ J = \\int_{t=const} T^0_\\phi r^2sin\\theta drd\\theta d\\phi$$\n",
    "\n",
    "*is independent of t. This is the total angular momentum of the system.*"
   ]
  },
  {
   "cell_type": "markdown",
   "id": "662fc7f8",
   "metadata": {},
   "source": [
    "*d) Express the integral in c) in terms of the components $T^{\\alpha\\beta}$ on the cartesian basis (t,x,y,z) showing that*\n",
    "\n",
    "$$ J = \\int_{t=const} (xT^{y0}-yT^{x0}) dxdydz$$\n",
    "\n",
    "*This is the continuum version of the nonrelativistic expression $(\\textbf{r} \\times \\textbf{p})_z$ for a particle's angular momentum about the z axis.*"
   ]
  },
  {
   "cell_type": "markdown",
   "id": "b86eb60a",
   "metadata": {},
   "source": [
    "<a id='P9'></a>\n",
    "\n",
    "# Problem 9 \\[Back to [top](#toc)\\]\n",
    "$$\\label{P9}$$\n",
    "\n",
    "*a) Find the components of the Reimann tensor $R_{\\alpha\\beta\\mu\\nu}$* for the metric 7.8 to first order in $\\phi$*\n",
    "\n",
    "If we don't find a trick quickly this will be dismissed as needlessly tedious. \n",
    "\n",
    "Actually we decide it isn't really, since we have all the christoffel coefficients and they're all really simple! Though naturally we find $R^{\\alpha}_{\\beta\\mu\\nu}$ instead since that one uses the coefficients directly. We can just straight-up write them out maybe! 6.63 says:\n",
    "\n",
    "$$ R^\\alpha_{\\beta\\mu\\nu} = \\Gamma^\\alpha_{\\beta\\nu,\\mu} - \\Gamma^\\alpha_{\\beta\\mu,\\nu} + \\Gamma^\\alpha_{\\sigma\\mu}\\Gamma^\\sigma_{\\beta\\mu,\\nu} - \\Gamma^\\alpha_{\\sigma\\nu}\\Gamma^\\sigma_{\\beta\\mu} $$\n",
    "\n",
    "and here are the Christoff symbols we already found:\n",
    "\n",
    "$$ \\Gamma^{\\gamma}_{\\beta\\mu} = \\begin{bmatrix}\n",
    "\\phi_{,t} & \\phi_{,x} & \\phi_{,y} & \\phi_{,z} \\\\ \n",
    "\\phi_{,x} & -\\phi_{,t} & 0 & 0 \\\\\n",
    "\\phi_{,y} & 0 & -\\phi_{,t} & 0 \\\\\n",
    "\\phi_{,z} & 0 & 0 & -\\phi_{,t}\n",
    "\\end{bmatrix},\\begin{bmatrix}\n",
    "\\phi_{,x} & -\\phi_{,t} & 0 & 0 \\\\ \n",
    "-\\phi_{,t} & -\\phi_{,x} & -\\phi_{,y} & -\\phi_{,z} \\\\\n",
    "0 & -\\phi_{,y} & \\phi_{,x} & 0 \\\\\n",
    "0 & -\\phi_{,z} & 0 & \\phi_{,x}\n",
    "\\end{bmatrix},\\begin{bmatrix}\n",
    "\\phi_{,y} & 0 & -\\phi_{,t} & 0 \\\\ \n",
    "0 & \\phi_{,y} & -\\phi_{,x} & 0 \\\\\n",
    "-\\phi_{,t} & -\\phi_{,x} & -\\phi_{,y} & -\\phi_{,z} \\\\\n",
    "0 & 0 & -\\phi_{,z} & \\phi_{,y}\n",
    "\\end{bmatrix},\\begin{bmatrix}\n",
    "\\phi_{,z} & 0 & 0 & -\\phi_{,t} \\\\ \n",
    "0 & \\phi_{,z} & 0 & -\\phi_{,x} \\\\\n",
    "0 & 0 & \\phi_{,z} & -\\phi_{,y} \\\\\n",
    "-\\phi_{,t} & -\\phi_{,x} & -\\phi_{,y} & -\\phi_{,z}\n",
    "\\end{bmatrix}\n",
    "$$\n",
    "\n",
    "Second derivatives would just add another comma term to any of these if they end up being used. \n",
    "\n",
    "Now, we know that there are only 20 distinct terms in R, so we'll look at those. **Problem 6-18** lists those.\n",
    "\n",
    "Even with just 20 of them... we have deemed this to be tedous. All the tools are above, it's essentially just a lookup table at this point. "
   ]
  },
  {
   "cell_type": "markdown",
   "id": "89a99db4",
   "metadata": {},
   "source": [
    "*b) Show that the equation of geodesic deviation, 6.87, implies (to lowest order in $\\phi$ and velocities)*\n",
    "\n",
    "$$ \\frac{d^2\\xi^i}{dt^2} = -\\phi_{,ij}\\xi^j $$"
   ]
  },
  {
   "cell_type": "markdown",
   "id": "7b10186e",
   "metadata": {},
   "source": [
    "6.87: $ \\nabla_V \\nabla_V \\xi^\\alpha = R^\\alpha_{\\mu\\nu\\beta} V^\\mu V^\\nu \\xi^\\beta$\n",
    "\n",
    "...Obviously this would require us to fully evaluate a). To avoid tedium, it is pretty clear from the form of the actual Christoffel symbolst hat such an answer is reasonable, as it would just be second derivatives. \n",
    "\n",
    "Using a trick from **Problem 10** might give us some greater insight though, sicne the double covariant derivatives will actually become something in addition to the actual time up there via 6.85:"
   ]
  },
  {
   "cell_type": "markdown",
   "id": "8e61a429",
   "metadata": {},
   "source": [
    "$$ \\frac{d^2}{d\\tau^2} \\xi^\\alpha + \\Gamma^\\alpha_{\\beta 0,0}\\xi^\\beta $$\n",
    "\n",
    "Which provides\n",
    "\n",
    "$$  \\frac{d^2}{d\\tau^2} \\xi^\\alpha = R^\\alpha_{\\mu\\nu\\beta} V^\\mu V^\\nu \\xi^\\beta - \\Gamma^\\alpha_{\\beta 0,0}\\xi^\\beta $$\n",
    "\n",
    "$$ \\Rightarrow \\frac{d^2}{d\\tau^2} \\xi^\\alpha = (R^\\alpha_{\\mu\\nu\\beta} V^\\mu V^\\nu - \\Gamma^\\alpha_{\\beta 0,0} ) \\xi^\\beta $$"
   ]
  },
  {
   "cell_type": "markdown",
   "id": "b516e883",
   "metadata": {},
   "source": [
    "Which is essentially just a huge sum of Christoffel symbols, lots of them. it's not at all unreasonable to expect it to turn out like the equation above. "
   ]
  },
  {
   "cell_type": "markdown",
   "id": "f8a7744b",
   "metadata": {},
   "source": [
    "*c) Interpret this equation when the geodesics are world lines of freely falling particles which begin from rest at nearby poitns in a Newtonian gravitaitonal field.*"
   ]
  },
  {
   "cell_type": "markdown",
   "id": "85ed83f7",
   "metadata": {},
   "source": [
    "Okay, so we need to remember that $\\vec \\xi$ is the distance between two lines that started out paralell. $\\phi$ is the strength of the Newtonian field (often just considered the force). \n",
    "\n",
    "Thus, what we are looking at is relative acceleration between the two particles. Normally when we think of dropping things in gravity, they drop together at the same rate--they accelerate with respect to the ground, but not each other. \n",
    "\n",
    "Since this term is celarly nonzero, the point is that this doesn't happen. They will eventually diverge, that is, no longer be paralell. Notably, if one imagines a uniform gravitaitonal field, then this goes away: the distance between them isn't increasing at all and they truly are falling in tandem. Such a gravity field does not really exist, though. \n",
    "\n",
    "It is interesting that the exact relation of how the distance relative acceleration changes depends on entirely different components, indicating some kind of rotational effect in play. "
   ]
  },
  {
   "cell_type": "markdown",
   "id": "1e04c6a3",
   "metadata": {},
   "source": [
    "<a id='P10'></a>\n",
    "\n",
    "# Problem 10 \\[Back to [top](#toc)\\]\n",
    "$$\\label{P10}$$\n",
    "\n",
    "*a) Show that if a vector field $\\xi^\\alpha$ satisfies **Killing's Equation**, $\\nabla_\\alpha \\xi_\\beta + \\nabla_\\beta \\xi_\\alpha = 0$. Then along a geodesic, $p^\\alpha\\xi_\\alpha$ = const. This is a coordinate invariant way of characterizing the cosnervation law we deduced from 7.29. We only have to know whether a metric admits Killing Fields*"
   ]
  },
  {
   "cell_type": "markdown",
   "id": "0797d9cb",
   "metadata": {},
   "source": [
    "An important thing to note is that the equation is acting on one-forms, not the vectors themselves. \n",
    "\n",
    "OKAY so this is long and convoluted so BEAR WITH ME.\n",
    "\n",
    "Start with $$ p^\\alpha \\xi_\\alpha $$\n",
    "\n",
    "Take the derivative with respect to proper time, the product rule makes it split.\n",
    "\n",
    "$$ \\frac{dp^\\alpha}{d\\tau} \\xi_\\alpha + p^\\alpha \\frac{d \\xi_\\alpha}{d\\tau} $$\n",
    "\n",
    "Now both of these derivatives can be substituted, but each one is a bit odd. Start with the momentum.\n",
    "\n",
    "$$ \\frac{dp^\\alpha}{d\\tau} \\Rightarrow U^\\beta p^\\alpha_{,\\beta} $$\n",
    "\n",
    "This is part of the expansion of the covariant derivative. Perhaps more important, though, is that p=mU, and so....\n",
    "\n",
    "$$ = m U^\\beta U^\\alpha_{,\\beta} $$\n",
    "\n",
    "Which is part of the *geodesic*, times m. The sum of the geodesic is zero, so the other half of the geodesic can be equated to this one. Precisely:\n",
    "\n",
    "$$ m U^\\beta U^\\alpha_{,\\beta} = - m \\Gamma^\\alpha_{\\mu\\beta} U^\\beta U^\\alpha = - \\Gamma^\\alpha_{\\mu\\beta} U^\\beta p^\\alpha $$\n",
    "\n",
    "Which we will substitute back into the start when we get back to it.\n",
    "\n",
    "Now we turn to the other half, but we don't know as much about it. Like previously, though, we can identify it with a covariant derivative expansion, although this one is a one-form.\n",
    "\n",
    "$$ \\frac{d\\xi_\\alpha}{d\\tau} = U^\\beta\\xi_{\\alpha,\\beta} = U^\\beta \\xi_{\\alpha;\\beta} + \\Gamma^\\mu_{\\alpha\\beta} U^\\beta \\xi_\\mu $$\n",
    "\n",
    "Note that the covariant derivative remains instead of being able to be set to zero. Now, if we make this substitution in the original:\n",
    "\n",
    "$$ \\frac{dp^\\alpha}{d\\tau} \\xi_\\alpha + p^\\alpha \\frac{d \\xi_\\alpha}{d\\tau} $$\n",
    "\n",
    "$$ = - \\Gamma^\\alpha_{\\mu\\beta} U^\\beta p^\\alpha \\xi_\\alpha + p^\\alpha  U^\\beta \\xi_{\\alpha;\\beta} + p^\\alpha \\Gamma^\\mu_{\\alpha\\beta} U^\\beta \\xi_\\mu $$\n",
    "\n",
    "With index shuffling the first and last terms cancel, leaving only:\n",
    "\n",
    "$$ =  p^\\alpha  U^\\beta \\xi_{\\alpha;\\beta} $$\n",
    "\n",
    "Now we finally bring in the **KILLING** property, which basically says the covariant derivatives are antisymmetric. \n",
    "\n",
    "$$ = - p^\\alpha  U^\\beta \\xi_{\\beta;\\alpha} $$\n",
    "\n",
    "Which wouldn't tell us much... but once again, p=mU. so we can pull the m out of the first p and move it to the second.\n",
    "\n",
    "$$ = - U^\\alpha  p^\\beta \\xi_{\\beta;\\alpha} $$\n",
    "\n",
    "So this allows us to do this trick that's so clever it looks like cheating.\n",
    "\n",
    "$$ p^\\alpha  U^\\beta \\xi_{\\alpha;\\beta} = - U^\\alpha  p^\\beta \\xi_{\\beta;\\alpha} $$\n",
    "\n",
    "$$ \\Rightarrow p^\\alpha  U^\\beta \\xi_{\\alpha;\\beta} = - U^\\beta  p^\\alpha \\xi_{\\alpha;\\beta} $$\n",
    "\n",
    "The magic of INDEXING. Suddenly, it is equal to its own negative which means both sides have to be zero which MEANS the derivative is zero and thus THE VALUE IS CONSTANT. "
   ]
  },
  {
   "cell_type": "markdown",
   "id": "f2249e10",
   "metadata": {},
   "source": [
    "*b) Find ten Killing fields of Minkowski spacetime.*"
   ]
  },
  {
   "cell_type": "markdown",
   "id": "4ca28844",
   "metadata": {},
   "source": [
    "So one-form and vector fields are identical in Minkowski spacetime, so we don't have to worry much about changing everything. \n",
    "\n",
    "Obviously the null field works (0,0,0,0). \n",
    "\n",
    "Then any constant field (a,b,c,d). Naturally one could cheat and just make more out of this one, but we'll only count it as one distinct one (though the zero was considered a special case.)\n",
    "\n",
    "The simplest non-trivial one is (x,-t,0,0) \n",
    "\n",
    "One can also play on the other side (0,0,z,-y).\n",
    "\n",
    "And they can be combined due to obvious independence (x,-t,z,-y).\n",
    "\n",
    "Or we can fixate on one coordinate: (x+y+z, -t, -t, -t)\n",
    "\n",
    "Notably we can add any of these together to make even more. (2x+y+z, -2t, -t, -t) and (2x+y+z,-2t,z-t,-y-t) for example.\n",
    "\n",
    "I think that's enough to get a general idea of how this works, though there may be a few odd-derivative cases here and there that might be able to be made to work. \n",
    "\n",
    "NOTE: aha, yes, there was a note we missed: the SUMMATION over the indeces. Which means something like t=t can work, as everything gets added. Say (x-t,t-x,0,0). That works. What we're actually doing is trying every combination of derivatives, ensuring that they equal zero in the end. "
   ]
  },
  {
   "cell_type": "markdown",
   "id": "4e8d67d7",
   "metadata": {},
   "source": [
    "*c) Show that if $\\vec \\xi$ and $\\vec \\eta$ are Killing fields, then so is $\\alpha\\vec\\xi+\\beta\\vec\\eta$ for constant $\\alpha$ and $\\beta$*"
   ]
  },
  {
   "cell_type": "markdown",
   "id": "7131d76e",
   "metadata": {},
   "source": [
    "We *demonstrated* this above, but did nothing about showing it was always true for all possible killing fields. Furthermore, b) was only in Minkowski space, this will be in *other* space and thus technically the **KILLING** property is determined by one-forms rather than the vectors themselves. \n",
    "\n",
    "Fortunately showing that the property holds no matter which way one goes is trivial.\n",
    "\n",
    "$$\\nabla_\\alpha \\xi_\\beta + \\nabla_\\beta \\xi_\\alpha = 0$$\n",
    "\n",
    "Apply a raising metric to both sides. They can move in and out of covariant derivatives at will and do nothing to 0-one-forms aside from turn them into 0-vectors. Which means the flipped form holds as well:\n",
    "\n",
    "$$\\nabla_\\alpha g^{\\beta\\alpha} \\xi_\\beta + \\nabla_\\beta g^{\\beta\\alpha} \\xi_\\alpha = 0$$\n",
    "\n",
    "$$\\nabla_\\alpha \\xi^\\alpha + \\nabla_\\beta \\xi^\\beta = 0$$\n",
    "\n",
    "Look at how the indeces have changed, fascinating. Now the requirement is that self-covariant-derivatives of the vectors themselves eventually add to zero. "
   ]
  },
  {
   "cell_type": "markdown",
   "id": "8c73e4ed",
   "metadata": {},
   "source": [
    "Since this a bit suspicious, we note that adding vectors created a new vector, but adding the one-forms the original vectors correlate to creates a one-form that correlates to the new vector. Which means we can also see if we can prove the one-form fields on their own maintain the property. \n",
    "\n",
    "Which... is rahter easy to show. Let a one-form be a combination of two one-forms...\n",
    "\n",
    "$$\\nabla_\\alpha \\xi_\\beta + \\nabla_\\beta \\xi_\\alpha $$\n",
    "$$ = \\nabla_\\alpha (\\omega_\\beta + \\iota_\\beta) + \\nabla_\\beta (\\omega_\\alpha + \\iota_\\alpha) $$\n",
    "$$ = \\nabla_\\alpha \\omega_\\beta + \\nabla_\\alpha \\iota_\\beta + \\nabla_\\beta \\omega_\\alpha + \\nabla_\\beta \\iota_\\alpha $$\n",
    "\n",
    "Which just contains two copies of the original relation, both equal zero, so it holds. "
   ]
  },
  {
   "cell_type": "markdown",
   "id": "bcc4ee7e",
   "metadata": {},
   "source": [
    "*d) Show that Lorentz transformations of the fields in b) simply produce linear combinations as in c).*"
   ]
  },
  {
   "cell_type": "markdown",
   "id": "d47b2d5f",
   "metadata": {},
   "source": [
    "Lorentz transformations can always be represented as $$(\\gamma, -v\\gamma) (-v\\gamma, \\gamma)$$ with enough coordinate rotations. Let's use some two-fields to make this easier: (x,-t) is our example, the result becomes $(x\\gamma + v\\gamma t, -vx\\gamma - t\\gamma)$. Which yes is a linear combination of (x,-t) and (t,-x). Very simple. \n",
    "\n",
    "Note: the metric does not change. "
   ]
  },
  {
   "cell_type": "markdown",
   "id": "5615f3e3",
   "metadata": {},
   "source": [
    "*e) If you did **Problem 7** use the results of 7-a to find Killing vectors of metrics ii)-iv)*"
   ]
  },
  {
   "cell_type": "markdown",
   "id": "caa5a266",
   "metadata": {},
   "source": [
    "Will you take the zero vector? No? Well in that case, conserved quantities will help us here. The conserved quantities can refer to each other easily with no issue, so having a $$\\phi , -t$$ swap will work for ii) and iii). However, iv) only has one conserved quantity...\n",
    "\n",
    "But, as we showed also in **Problem 7**, it's analagous to spherical shell coordinates. Since we don't wanna waste time on this the method is rather obvious: take the covariant derivative of either $\\theta$ or $\\phi$, find out what the result is, and then use that result on the other coordinate to make it equal the negative of the first. The Chrsistoffel symbol calculation (and typing) will take up most of the time here. "
   ]
  },
  {
   "cell_type": "markdown",
   "id": "6e9de4d0",
   "metadata": {},
   "source": [
    "Edit: all right, the day is new, might as well actually calculate it. Go ahead and use the r=1 metric, which has diagonal $(1,sin^2\\theta)$. \n",
    "\n",
    "Since it might be helpful to write them out, here's the relations in shorthand:\n",
    "\n",
    "$$ \\theta\\theta\\theta = 1/2 $$\n",
    "$$ \\theta\\theta\\phi = \\theta\\phi\\theta = \\phi\\phi\\phi = \\phi\\theta\\theta = 0 $$\n",
    "$$ \\theta\\phi\\phi = -cos\\theta sin\\theta $$\n",
    "$$ \\phi\\theta\\phi = \\phi\\phi\\theta = 1/tan\\theta $$\n",
    "\n"
   ]
  },
  {
   "cell_type": "markdown",
   "id": "95014bb7",
   "metadata": {},
   "source": [
    "Let's let the $\\theta$ component be $\\phi$, and then differentiate it with respect to $\\phi$. \n",
    "\n",
    "$$ V^\\theta_{;\\phi} = V^\\theta_{,\\phi} + \\Gamma^\\theta_{\\mu\\phi} V^\\mu $$\n",
    "$$ = 1 + \\Gamma^\\theta_{\\theta\\phi} V^\\theta + \\Gamma^\\theta_{\\phi\\phi} V^\\phi $$\n",
    "$$ = 1 + 0 - cos\\theta sin\\theta V^\\phi $$\n",
    "\n",
    "We're going to end up with a differential equation, since:\n",
    "\n",
    "$$ V^\\phi_{;\\theta} = -V^\\theta_{;\\phi} = cos\\theta sin\\theta V^\\phi - 1 $$\n",
    "$$ V^\\phi_{;\\theta} = V^\\phi_{,\\theta} + \\Gamma^\\phi_{\\phi\\theta} V^\\phi + \\Gamma^\\phi_{\\theta\\theta} V^\\theta $$\n",
    "$$ = V^\\phi_{,\\theta}$$\n",
    "\n",
    "Which brings us to:\n",
    "\n",
    "$$ cos\\theta sin\\theta V^\\phi - 1 = V^\\phi_{,\\theta} + \\frac{1}{tan\\theta} V^\\phi$$\n",
    "\n",
    "Solve for $V^\\phi$"
   ]
  },
  {
   "attachments": {
    "Screenshot%20from%202022-06-07%2008-42-16.png": {
     "image/png": "[encoded data removed]"
    }
   },
   "cell_type": "markdown",
   "id": "a06d50e7",
   "metadata": {},
   "source": [
    "$$ cos\\theta sin\\theta V^\\phi - 1 - \\frac{1}{tan\\theta} V^\\phi = V^\\phi_{,\\theta} $$\n",
    "\n",
    "Let's just have a calculator do this.\n",
    "\n",
    "...Hmm well. At least we have a answer. \n",
    "\n",
    "![Screenshot%20from%202022-06-07%2008-42-16.png](attachment:Screenshot%20from%202022-06-07%2008-42-16.png)\n",
    "\n",
    "There's probably a wiser and better choice somewhere that will be more evident, but this proves the principle. \n",
    "\n",
    "Derived using [1](#1)"
   ]
  },
  {
   "cell_type": "markdown",
   "id": "df50096e",
   "metadata": {},
   "source": [
    "<a id='latex_pdf_output'></a>\n",
    "\n",
    "# Addendum: Output this notebook to $\\LaTeX$-formatted PDF file \\[Back to [top](#toc)\\]\n",
    "$$\\label{latex_pdf_output}$$\n",
    "\n",
    "The following code cell converts this Jupyter notebook into a proper, clickable $\\LaTeX$-formatted PDF file. After the cell is successfully run, the generated PDF may be found in the root NRPy+ tutorial directory, with filename\n",
    "[GR-07.pdf](GR-07.pdf) (Note that clicking on this link may not work; you may need to open the PDF file through another means.)\n",
    "\n",
    "**Important Note**: Make sure that the file name is right in all six locations, two here in the Markdown, four in the code below. \n",
    "\n",
    "* GR-07.pdf\n",
    "* GR-07.ipynb\n",
    "* GR-07.tex"
   ]
  },
  {
   "cell_type": "code",
   "execution_count": 1,
   "id": "abf583ef",
   "metadata": {
    "scrolled": false
   },
   "outputs": [
    {
     "name": "stdout",
     "output_type": "stream",
     "text": [
      "Created GR-07.tex, and compiled LaTeX file to PDF file GR-07.pdf\n"
     ]
    }
   ],
   "source": [
    "import cmdline_helper as cmd    # NRPy+: Multi-platform Python command-line interface\n",
    "cmd.output_Jupyter_notebook_to_LaTeXed_PDF(\"GR-07\")"
   ]
  },
  {
   "cell_type": "code",
   "execution_count": null,
   "id": "d0d0db4d",
   "metadata": {},
   "outputs": [],
   "source": []
  },
  {
   "cell_type": "code",
   "execution_count": null,
   "id": "41264965",
   "metadata": {},
   "outputs": [],
   "source": []
  }
 ],
 "metadata": {
  "kernelspec": {
   "display_name": "Python 3 (ipykernel)",
   "language": "python",
   "name": "python3"
  },
  "language_info": {
   "codemirror_mode": {
    "name": "ipython",
    "version": 3
   },
   "file_extension": ".py",
   "mimetype": "text/x-python",
   "name": "python",
   "nbconvert_exporter": "python",
   "pygments_lexer": "ipython3",
   "version": "3.10.4"
  }
 },
 "nbformat": 4,
 "nbformat_minor": 5
}
