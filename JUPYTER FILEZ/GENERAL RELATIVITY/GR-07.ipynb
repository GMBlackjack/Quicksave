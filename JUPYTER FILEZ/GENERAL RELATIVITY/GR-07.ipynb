{
 "cells": [
  {
   "cell_type": "markdown",
   "id": "0c1bfe81",
   "metadata": {},
   "source": [
    "# General Relativity Problems Chapter 7: Physics in a Curved Spacetime\n",
    "\n",
    "## Authors: Gabriel M Steward"
   ]
  },
  {
   "cell_type": "markdown",
   "id": "479540e4",
   "metadata": {},
   "source": [
    "https://github.com/zachetienne/nrpytutorial/blob/master/Tutorial-Template_Style_Guide.ipynb\n",
    "\n",
    "Link to the Style Guide. Not internal in case something breaks. "
   ]
  },
  {
   "cell_type": "markdown",
   "id": "10780970",
   "metadata": {},
   "source": [
    "### </list_source_code> NRPy+ Source Code for this module:\n",
    "None! \n",
    "\n",
    "## Introduction:\n",
    "Now maybe we can apply what we've learned to some actual physical problems. Maybe. One can hope.\n",
    "\n",
    "## </other>  Other (Optional): \n",
    "Placeholder. \n",
    "\n",
    "### Note on Notation:\n",
    "Any new notation will be brought up in the notebook when it becomes relevant. \n",
    "\n",
    "### Citations:\n",
    "\n",
    "<a id='1'></a>\n",
    "[1] (Link) (Placeholder)\n"
   ]
  },
  {
   "cell_type": "markdown",
   "id": "56664bc2",
   "metadata": {},
   "source": [
    "<a id='toc'></a>\n",
    "\n",
    "# Table of Contents\n",
    "$$\\label{toc}$$\n",
    "\n",
    "[Problem 1](#P1) (A thought experiment)\n",
    "\n",
    "[Problem 2](#P2) (Newtonian Metric)\n",
    "\n",
    "[Problem 3](#P3) (Newtonian Metric Christoffel Symbols)\n",
    "\n",
    "[PDF](#latex_pdf_output) (turn this into a PDF)"
   ]
  },
  {
   "cell_type": "markdown",
   "id": "7daf72fa",
   "metadata": {},
   "source": [
    "<a id='P1'></a>\n",
    "\n",
    "# Problem 1 \\[Back to [top](#toc)\\]\n",
    "$$\\label{P1}$$ \n",
    "\n",
    "*If 7.3 were the corret genrealization of 7.1 to a curved spacetime, how would you interpret it? What would happen to the number of particles in a comoving volume of the fluid, as time evolves? In principle, can we distinguish experimetnally between 7.2 and 7.3?*"
   ]
  },
  {
   "cell_type": "markdown",
   "id": "5b58e2c0",
   "metadata": {},
   "source": [
    "7.1: $(nU^\\alpha)_{,\\alpha}=0$\n",
    "\n",
    "7.2: $(nU^\\alpha)_{;\\alpha}=0$\n",
    "\n",
    "7.3: $(nU^\\alpha)_{;\\alpha}=qR^2$\n",
    "\n",
    "The exact value of qR^2 is irrelevant, besides the fact that it vanishes in a Lorentz frame as R vanishes there. \n",
    "\n",
    "$nU^\\alpha$ is the particle density times its actual \"speed\" at any given reference frame. We know this quantity to be N. The first component is the number density, the rest are the flux. \n",
    "\n",
    "7.1 says many things, but one of the things it says is that the flux values are constants with respect to all coordinates: they do not change. (for something of constant density everywher,e which is what n is). No matter where we are or when we are, everything is the same. \n",
    "\n",
    "7.2 asserts this is true no matter your reference frame or curvature. \n",
    "\n",
    "7.3, on the other hand, disagrees, saying that the fluxes do change with curvature. This means that while locally it may seem that everything is conserved, globally it is not, the values of the fluxes could be different at large differences. Also the number density could change. \n",
    "\n",
    "The number density is the big thing. Elsewhere, we have a different density. This means there have to be *more particles* over there. But we established a constant density, so curvature must be *creating* particles. \n",
    "\n",
    "This seems like nonsense, to be sure. \n",
    "\n",
    "Depending on the curvature, the number of particles would go up or down (we don't know the sign of q). R, however, is squared and always positive. So this means curvature can only CREATE or DESTROY particles, not both. There would be no \"going back\" afterward. \n",
    "\n",
    "Which means we can definitely test it. Just gather a bunch of particles and accelerate them to near light speeds and then count them along the whole trip. \n",
    "\n",
    "((we understand that virtual particles throw a wrench into this, but that usually keeps particle number conserved over large times, so just consider them noise.))\n",
    "\n",
    "At this juncture all experiments show that particles are in fact conserved. As well as all the other conservation laws. Still, though, the gradual incerasing or decreasing of particles would be rather interesting. Since it can't go back down or up, though, it sure seems like that would violate energy conservation... and entropy... and a whole slew of other things. \n",
    "\n",
    "Now if there were an alternative 7.3 that could take both positive and negative values, then that would be a different story. And something like this kind of has to be true, as at any given moment particle number in the universe is not conserved. The aforementioned virtual particles at black hole horizons kind of throw a wrench into this. (Though that theory would involve interactions between particles, which we are ignoring right now, and is probably a million times more complicated than we realize.)"
   ]
  },
  {
   "cell_type": "markdown",
   "id": "b7e71e8b",
   "metadata": {},
   "source": [
    "<a id='P2'></a>\n",
    "\n",
    "# Problem 2 \\[Back to [top](#toc)\\]\n",
    "$$\\label{P2}$$ \n",
    "\n",
    "*To first order in $\\phi$, compute $g^{\\alpha\\beta}$ for 7.8*"
   ]
  },
  {
   "cell_type": "markdown",
   "id": "4fe500ed",
   "metadata": {},
   "source": [
    "Ah, 7.8! The \"Newtonian\" metric! 7.8 is rather helpful but we'll write it out for reference:\n",
    "\n",
    "$$ ds^2 = -(1+2\\phi)dt^2 + (1-2\\phi)(dx^2+dy^2+dz^2)  $$\n",
    "\n",
    "Which gives us a metric with diagonal\n",
    "\n",
    "$$(-(1+2\\phi),1-2\\phi,1-2\\phi,1-2\\phi)$$\n",
    "\n",
    "Now we could calculat the inverse metric the long way... or we could just find this matrix's inverse that returns us to the (-1,1,1,1) matrix. Which is actually rather easy, just invert everything.\n",
    "\n",
    "$$(-\\frac{1}{(1+2\\phi)},\\frac{1}{1-2\\phi},\\frac{1}{1-2\\phi},\\frac{1}{1-2\\phi})$$\n",
    "\n",
    "NOTE: The metrics are inverses of each other, they form the identity, NOT the Lorentz metricwhen together. They do convert back and forth between the Lorentz metric, but that's when STARTING from the Lorentz metric. Be careful."
   ]
  },
  {
   "cell_type": "markdown",
   "id": "8a445f23",
   "metadata": {},
   "source": [
    "<a id='P3'></a>\n",
    "\n",
    "# Problem 3 \\[Back to [top](#toc)\\]\n",
    "$$\\label{P3}$$ \n",
    "\n",
    "*Calculate all the Christoffel symbols for the metric given by 7.8 to first order in $\\phi$. Assume $\\phi$ is a general function of t,x,y,z.*\n",
    "\n",
    "Ah, see, this is more challenging, since now we've got to take derivatives of the metric we declared in **Problem 2** and since we know nothing about the actual form of $\\phi$ this could get quite ugly. Fortunately we can ignore anything squared or higher in our approximation, which is neat. \n",
    "\n",
    "Anyway, we need derivatives of the metric with respect to everything. This is:\n",
    "\n",
    "$$(-2\\phi_{,t},-2\\phi_{,x},-2\\phi_{,y},-2\\phi_{,z})$$\n",
    "\n",
    "It actually doesn't matter which element is being used, they're all the same in terms of derivative, bizarrely.\n",
    "\n",
    "And fortunately for us we don't have to calculate derivatives of the inverse metric. Yet. \n",
    "\n",
    "The general formula for the Christoffel symbols are: \n",
    "\n",
    "$$ \\Gamma^\\gamma_{\\beta\\mu} = \\frac{1}{2} g^{\\alpha\\gamma} (g_{\\alpha\\beta,\\mu} + g_{\\alpha\\mu,\\beta} - g_{\\beta\\mu,\\alpha})  $$\n",
    "\n",
    "Which means we'll have... a 4x4x4 result. This is gonna be a spicy one. "
   ]
  },
  {
   "cell_type": "markdown",
   "id": "e9f607bf",
   "metadata": {},
   "source": [
    "Fortunately the vast majority of these are just going to be zero because the metric has a lot of zeroes. We only need concern ourselves with the situations where the three inner metrics aren't zero, that is, their indeces match. Unfortunately there are still a lot of those. This time the bottom coordinates $\\beta\\mu$ represent the row/column while the top coordinate $\\gamma$ is the matrix itself. Coordinates are in order (txyz) or (0123) depending on what system is being used. \n",
    "\n",
    "\n",
    "\n",
    "$$ \\Gamma^{\\gamma}_{\\beta\\mu} = \\begin{bmatrix}\n",
    "\\frac{\\phi_{,t}}{1+2\\phi} & \\frac{\\phi_{,x}}{1+2\\phi} & . & . \\\\ \n",
    ". & . & . & . \\\\\n",
    ". & . & . & . \\\\\n",
    ". & . & . & .\n",
    "\\end{bmatrix},\\begin{bmatrix}\n",
    ". & . & . & . \\\\ \n",
    ". & . & . & . \\\\\n",
    ". & . & . & . \\\\\n",
    ". & . & . & .\n",
    "\\end{bmatrix},\\begin{bmatrix}\n",
    ". & . & . & . \\\\ \n",
    ". & . & . & . \\\\\n",
    ". & . & . & . \\\\\n",
    ". & . & . & .\n",
    "\\end{bmatrix},\\begin{bmatrix}\n",
    ". & . & . & . \\\\ \n",
    ". & . & . & . \\\\\n",
    ". & . & . & . \\\\\n",
    ". & . & . & .\n",
    "\\end{bmatrix}\n",
    "$$"
   ]
  },
  {
   "cell_type": "markdown",
   "id": "df50096e",
   "metadata": {},
   "source": [
    "<a id='latex_pdf_output'></a>\n",
    "\n",
    "# Addendum: Output this notebook to $\\LaTeX$-formatted PDF file \\[Back to [top](#toc)\\]\n",
    "$$\\label{latex_pdf_output}$$\n",
    "\n",
    "The following code cell converts this Jupyter notebook into a proper, clickable $\\LaTeX$-formatted PDF file. After the cell is successfully run, the generated PDF may be found in the root NRPy+ tutorial directory, with filename\n",
    "[GR-07.pdf](GR-07.pdf) (Note that clicking on this link may not work; you may need to open the PDF file through another means.)\n",
    "\n",
    "**Important Note**: Make sure that the file name is right in all six locations, two here in the Markdown, four in the code below. \n",
    "\n",
    "* GR-07.pdf\n",
    "* GR-07.ipynb\n",
    "* GR-07.tex"
   ]
  },
  {
   "cell_type": "code",
   "execution_count": 1,
   "id": "abf583ef",
   "metadata": {
    "scrolled": false
   },
   "outputs": [
    {
     "name": "stdout",
     "output_type": "stream",
     "text": [
      "Created GR-07.tex, and compiled LaTeX file to PDF file GR-07.pdf\n"
     ]
    }
   ],
   "source": [
    "import cmdline_helper as cmd    # NRPy+: Multi-platform Python command-line interface\n",
    "cmd.output_Jupyter_notebook_to_LaTeXed_PDF(\"GR-07\")"
   ]
  },
  {
   "cell_type": "code",
   "execution_count": null,
   "id": "d0d0db4d",
   "metadata": {},
   "outputs": [],
   "source": []
  },
  {
   "cell_type": "code",
   "execution_count": null,
   "id": "41264965",
   "metadata": {},
   "outputs": [],
   "source": []
  }
 ],
 "metadata": {
  "kernelspec": {
   "display_name": "Python 3 (ipykernel)",
   "language": "python",
   "name": "python3"
  },
  "language_info": {
   "codemirror_mode": {
    "name": "ipython",
    "version": 3
   },
   "file_extension": ".py",
   "mimetype": "text/x-python",
   "name": "python",
   "nbconvert_exporter": "python",
   "pygments_lexer": "ipython3",
   "version": "3.10.4"
  }
 },
 "nbformat": 4,
 "nbformat_minor": 5
}
