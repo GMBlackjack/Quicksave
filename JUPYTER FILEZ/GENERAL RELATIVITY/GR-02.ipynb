{
 "cells": [
  {
   "cell_type": "markdown",
   "id": "0c1bfe81",
   "metadata": {},
   "source": [
    "# GR02: Vector Analysis in Special Relativity\n",
    "**Gabriel M Steward**"
   ]
  },
  {
   "cell_type": "markdown",
   "id": "239684db",
   "metadata": {},
   "source": [
    "## Problem 1\n",
    "\n",
    "*Given the numbers, {$A^0=5,A^1=0,A^2=-1,A^3=-6$},{$B^0=0,B^1=-2,B^2=4, B^3=0$}, {$C_{00}=1,C_{01}=0,C_{02}=2,C_{03}=3,C_{30}=-1, C_{10}=5,C_{11}=-2,C_{12}=-2,C_{13}=0,C_{21}=5,C_{22}=2,C_{23}=-2,C_{20}=4,C_{31}=-1,C_{32}=-3,C_{33}=0$} find:*\n",
    "\n",
    "*a) $A^\\alpha B_\\alpha$*"
   ]
  },
  {
   "cell_type": "markdown",
   "id": "cb662707",
   "metadata": {},
   "source": [
    "This is essentially just practicing adding things. Before we start, though, we consider making it easier to find all these numbers by making their vecctor nature explicit. \n",
    "\n",
    "A = [5, 0, -1, -6]\n",
    "\n",
    "B = [0, -2, 4, 0]\n",
    "\n",
    "$$C=\\begin{bmatrix}\n",
    "1 & 0 & 2 & 3\\\\ \n",
    "5 & -2 & -2 & 0\\\\ \n",
    "4 & 5 & 2 & -2\\\\ \n",
    "-1 & -1 & -3 & 0\n",
    "\\end{bmatrix}$$"
   ]
  },
  {
   "cell_type": "markdown",
   "id": "112ddf91",
   "metadata": {},
   "source": [
    "We note that our problem is essentially the dot product for vectors of size 4, since the summation is implied. Thus we have:\n",
    "5(0)+0(-2)+(-1)4+(-6)0 = 0+0-4+0 = -4"
   ]
  },
  {
   "cell_type": "markdown",
   "id": "e4482260",
   "metadata": {},
   "source": [
    "*b) $A^\\alpha C_{\\alpha\\beta}$ for all $\\beta$*"
   ]
  },
  {
   "cell_type": "markdown",
   "id": "a69c2fa0",
   "metadata": {},
   "source": [
    "THis is just a dot product of size 4 for each row in the matrix C. \n",
    "\n",
    "[5 0 -1 -6]*[1 0 2 3] = 5+0-2-18 = -15\n",
    "\n",
    "[5 0 -1 -6]*[5 -2 -2 0] = 25+0+2+0 = 27\n",
    "\n",
    "[5 0 -1 -6]*[4 5 2 -2] = 20+0-2+12 = 30\n",
    "\n",
    "[5 0 -1 -6]*[-1 -1 -3 0] = -5+0+3+0=-2"
   ]
  },
  {
   "cell_type": "markdown",
   "id": "d9cef35a",
   "metadata": {},
   "source": [
    "*c) $A^\\gamma C_{\\gamma \\sigma}$ for all $\\sigma$*\n",
    "\n",
    "Identical to b, what we have is a dummy variable. "
   ]
  },
  {
   "cell_type": "markdown",
   "id": "5a1d9c33",
   "metadata": {},
   "source": [
    "*d) $A^\\nu C_{\\mu\\nu}$ for all $\\mu$*\n",
    "\n",
    "Same as b, except with C columns instead of rows. "
   ]
  },
  {
   "cell_type": "markdown",
   "id": "2d22a6b4",
   "metadata": {},
   "source": [
    "[5 0 -1 -6]*[1 5 4 -1] = 5+0-4+6 = 7\n",
    "\n",
    "[5 0 -1 -6]*[0 -2 5 -1] = 0+0-5+6 = 1\n",
    "\n",
    "[5 0 -1 -6]*[2 -2 2 -3] = 10+0-2+18 = 26\n",
    "\n",
    "[5 0 -1 -6]*[3 0 -2 0] = 15+0+2+0 = 17"
   ]
  },
  {
   "cell_type": "markdown",
   "id": "919dbc99",
   "metadata": {},
   "source": [
    "*e) $A^\\alpha B_\\beta$ for all $\\alpha,\\beta$*"
   ]
  },
  {
   "cell_type": "markdown",
   "id": "0a480167",
   "metadata": {},
   "source": [
    "Note that we have no implied summation as nothing matches. So what we really have is just every possible multiplication of the terms in A and B. We shall construct a matrix out of the solutions with rows and columns notated by $\\alpha, \\beta$. \n",
    "\n",
    "$$AandB=\\begin{bmatrix}\n",
    "0 & -10 & 20 & 0\\\\ \n",
    "0 & 0 & 0 & 0\\\\ \n",
    "0 & 2 & -4 & 0\\\\ \n",
    "0 & 12 & -24 & 0\n",
    "\\end{bmatrix}$$\n",
    "\n"
   ]
  },
  {
   "cell_type": "markdown",
   "id": "8494d2e5",
   "metadata": {},
   "source": [
    "*f) $A^iB_i$*\n",
    "\n",
    "There is implied summation here, but only over i=1,2,3 as it is not greek. \n",
    "\n",
    "Anyway, this is 0+0-4 = -4. \n",
    "\n",
    "Note that even if this wasn't implied summation of only 1,2,3 and we included 0, nothing would change, as $B_0=0$ so there would be no change to the sum. "
   ]
  },
  {
   "cell_type": "markdown",
   "id": "34fc2c3a",
   "metadata": {},
   "source": [
    "*g) $A^jB_k$ for all j,k*"
   ]
  },
  {
   "cell_type": "markdown",
   "id": "0de1ff32",
   "metadata": {},
   "source": [
    "No summation here, each answer will stand on its own, and as the indeces are latin we drop of the \"0\" case. Otherwise this is actually the same as e). \n",
    "\n",
    "$$AandB=\\begin{bmatrix}\n",
    "0 & 0 & 0\\\\ \n",
    "2 & -4 & 0\\\\ \n",
    "12 & -24 & 0\n",
    "\\end{bmatrix}$$"
   ]
  },
  {
   "cell_type": "markdown",
   "id": "db7ea22f",
   "metadata": {},
   "source": [
    "## Problem 2\n",
    "\n",
    "*Identify the free and dummy indices in the following equations and change them into equivalent expressions with different indices. How many different equations does each expression represent?*\n",
    "\n",
    "*a) $A^\\alpha B_\\alpha = 5$*\n",
    "\n",
    "Only dummy indeces today, $\\alpha$. We could easily change every single one into $\\beta$ and change nothing. This expression has a sum with four terms on one side and a number on the other, so it is truly just one equation. "
   ]
  },
  {
   "cell_type": "markdown",
   "id": "ef8a2ce3",
   "metadata": {},
   "source": [
    "*b) $A^{\\bar{\\mu}} = \\Lambda^{\\bar{\\mu}}_\\nu A^\\nu$*"
   ]
  },
  {
   "cell_type": "markdown",
   "id": "78ce7a9e",
   "metadata": {},
   "source": [
    "The $\\mu$ is a free index, while $\\nu$ is the dummy index. Change them to other greek letters, like $\\alpha, \\beta$. Since we are not summing over $\\mu$, and it takes greek values, we know we have four different equations in the above expression. "
   ]
  },
  {
   "cell_type": "markdown",
   "id": "b0dccd17",
   "metadata": {},
   "source": [
    "*c) $T^{\\alpha \\mu \\lambda}A_\\mu C_\\lambda^\\gamma=D^{\\lambda\\alpha}$*"
   ]
  },
  {
   "cell_type": "markdown",
   "id": "03d7d22e",
   "metadata": {},
   "source": [
    "FREE: $\\alpha, \\gamma$--note how gamma is not in both sub and superscript locations.\n",
    "\n",
    "DUMMY: $\\mu, \\lambda$\n",
    "\n",
    "All of them are greek so we can just substitute with any greek values. \n",
    "\n",
    "We have two free variables so 16 equations, one for each combination of the free variables. "
   ]
  },
  {
   "cell_type": "markdown",
   "id": "51e34842",
   "metadata": {},
   "source": [
    "*d) $R_{\\mu\\nu}-\\frac{1}{2}g_{\\mu\\nu}R=G_{\\mu\\nu}$*"
   ]
  },
  {
   "cell_type": "markdown",
   "id": "f6ba3271",
   "metadata": {},
   "source": [
    "No dummy variables at all, only free ones, and two of them, so sixteen equations again. Note that variables duplicate BUT are all in subscript form, so there is no sum. "
   ]
  },
  {
   "cell_type": "markdown",
   "id": "00f857f8",
   "metadata": {},
   "source": [
    "## Problem 3\n",
    "*Prove Equation 2.5*\n",
    "$$\\Lambda^{\\bar\\alpha}_\\beta \\Delta x^\\beta = \\Lambda^{\\bar\\alpha}_0 \\Delta x^0 + \\Lambda^{\\bar\\alpha}_i \\Delta x^i$$"
   ]
  },
  {
   "cell_type": "markdown",
   "id": "6902bf13",
   "metadata": {},
   "source": [
    "This seems EXCEEDINGLY trivial. All greek indeces can be split into 0,1,2,3 due to Einstein Notation Convention. When left with just 1,2,3, we can represent this with a latin index, in this case i. The full expansion appears something like this: \n",
    "\n",
    "$$\\Lambda^{\\bar\\alpha}_\\beta \\Delta x^\\beta = \\Lambda^{\\bar\\alpha}_0 \\Delta x^0 + \\Lambda^{\\bar\\alpha}_1 \\Delta x^1 + \\Lambda^{\\bar\\alpha}_2 \\Delta x^2 + \\Lambda^{\\bar\\alpha}_3 \\Delta x^3 =  \\Lambda^{\\bar\\alpha}_0 \\Delta x^0 + \\Lambda^{\\bar\\alpha}_i \\Delta x^i$$\n",
    "\n",
    "It seems scarily trivial..."
   ]
  },
  {
   "cell_type": "markdown",
   "id": "52db7dce",
   "metadata": {},
   "source": [
    "## Problem 4\n",
    "\n",
    "*Given the vectors $\\vec{A} \\rightarrow_\\mathcal{O} (5,-1,0,1)$ and $\\vec{B} \\rightarrow_\\mathcal{O} (-2,1,1,-6)$ find the components in $\\mathcal{O}$ of...*\n",
    "\n",
    "*a) -6$\\vec{A}$*\n",
    "\n",
    "Just multiply the vector by -six, get (-30, 6, 0, -6)."
   ]
  },
  {
   "cell_type": "markdown",
   "id": "603ce85e",
   "metadata": {},
   "source": [
    "*b)$3\\vec A + \\vec B$*\n",
    "\n",
    "Multiply through by constants then add directly\n",
    "\n",
    "(15, -3, 0 3) + (-2, 1, 1, -6) = (13, -2, 1, -3)"
   ]
  },
  {
   "cell_type": "markdown",
   "id": "0dee11ad",
   "metadata": {},
   "source": [
    "*c)$-6 \\vec A + 3 \\vec B$*\n",
    "\n",
    "Take the answer to part one, combine with 3$\\vec B$\n",
    "\n",
    "(-30, 6, 0, -6) + (-6, 3, 3, -18) = (-36, 9, 3, -24)"
   ]
  },
  {
   "cell_type": "markdown",
   "id": "65cd10e5",
   "metadata": {},
   "source": [
    "## Problem 5\n",
    "\n",
    "*A collection of vectors $[\\vec a,\\vec b,\\vec c, \\vec d]$ is said to be linearly independent if no linear combination of them is zero except the trivial one $0\\vec a + 0\\vec b + 0\\vec c + 0\\vec d = 0$*\n",
    "\n",
    "*a) Show that the basis vectors in Eq 2.9 ar elinearly independent*\n",
    "\n",
    "The 2.9 vectors are (1,0,0,0) (0,1,0,0) (0,0,1,0) and (0,0,0,1). Visually, we can immediately tell that there is no zero solution unless all the vectors themselves are zero.\n",
    "\n",
    "To demonstrate this, we start by assigning the t-vector (1,0,0,0) a value of 1. No matter what we assign the other vectors, this \"1\" cannot be undone. If we make this \"1\" an arbitrtary constant C then this is still true. We can also take this into account for each of the four vectors, showing that none of them can undo each other. In fact, they are so independent, that adjusting one has NO influence whatsoever on what the others do by their adjustments. Admittedly this is just because our coordinates are played out neatly in the representation we're using, but a neat thing about unit vectors is that they should always be simplifiable in this way to things pointing in completely disparate directions; if we're allowed to twist our reference frame, that is. "
   ]
  },
  {
   "cell_type": "markdown",
   "id": "8ce34282",
   "metadata": {},
   "source": [
    "*b) Is the following set linearly independent? $[\\vec a,\\vec b,\\vec c, 5\\vec a + 3\\vec b - 2\\vec c]$*\n",
    "\n",
    "NO! You can make the fourth vector out of the other three and can find a zero state for them, specifically with -5, -3, and 2 for a,b,c. Easy. "
   ]
  },
  {
   "cell_type": "code",
   "execution_count": null,
   "id": "ec39c80c",
   "metadata": {},
   "outputs": [],
   "source": []
  }
 ],
 "metadata": {
  "kernelspec": {
   "display_name": "Python 3 (ipykernel)",
   "language": "python",
   "name": "python3"
  },
  "language_info": {
   "codemirror_mode": {
    "name": "ipython",
    "version": 3
   },
   "file_extension": ".py",
   "mimetype": "text/x-python",
   "name": "python",
   "nbconvert_exporter": "python",
   "pygments_lexer": "ipython3",
   "version": "3.7.9"
  }
 },
 "nbformat": 4,
 "nbformat_minor": 5
}
