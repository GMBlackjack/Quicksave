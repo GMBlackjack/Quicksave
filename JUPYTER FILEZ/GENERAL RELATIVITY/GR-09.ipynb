{
 "cells": [
  {
   "cell_type": "markdown",
   "id": "0c1bfe81",
   "metadata": {},
   "source": [
    "# General Relativity Problems Chapter 9: Gravitational Radiation\n",
    "\n",
    "## Authors: Gabriel M Steward"
   ]
  },
  {
   "cell_type": "markdown",
   "id": "479540e4",
   "metadata": {},
   "source": [
    "https://github.com/zachetienne/nrpytutorial/blob/master/Tutorial-Template_Style_Guide.ipynb\n",
    "\n",
    "Link to the Style Guide. Not internal in case something breaks. "
   ]
  },
  {
   "cell_type": "markdown",
   "id": "10780970",
   "metadata": {},
   "source": [
    "### </list_source_code> NRPy+ Source Code for this module:\n",
    "None! ...well except for the pdf thing at the bottom.\n",
    "\n",
    "## Introduction:\n",
    "In our final chapter that we'll be working, we'll be dealing with GRAVITATIONAL WAVES. Yes! True application awaits...\n",
    "\n",
    "## </other>  Other (Optional): \n",
    "Note: this chapter is not being worked to completion, just to satisfaction, as suggested by Dr. Etienne. Skipped problems will not be mentioned in the Table of Contents, though they may have a small note in the notebook itself. \n",
    "\n",
    "### Note on Notation:\n",
    "Any new notation will be brought up in the notebook when it becomes relevant. \n",
    "\n",
    "### Citations:\n",
    "\n",
    "<a id='1'></a>\n",
    "[1] Linky (Describey)"
   ]
  },
  {
   "cell_type": "markdown",
   "id": "56664bc2",
   "metadata": {},
   "source": [
    "<a id='toc'></a>\n",
    "\n",
    "# Table of Contents\n",
    "$$\\label{toc}$$\n",
    "\n",
    "[Problem 1](#P1) (The Point Particle)\n",
    "\n",
    "[Problem 5](#P5) (Playing with the Gauge, incomplete)\n",
    "\n",
    "[Problem 8](#P5) (Being rocked, but feeling nothing)\n",
    "\n",
    "[Problem 9](#P5) (Seeing is Believing)\n",
    "\n",
    "[PDF](#latex_pdf_output) (turn this into a PDF)"
   ]
  },
  {
   "cell_type": "markdown",
   "id": "cd9e5529",
   "metadata": {},
   "source": [
    "<a id='P1'></a>\n",
    "\n",
    "# Problem 1 \\[Back to [top](#toc)\\]\n",
    "$$\\label{P1}$$\n",
    "\n",
    "*A function f(s) has derivatife f'(s) = df/ds. Prove that $\\partial f(k_\\mu x^\\mu)/\\partial x^\\nu = k_\\nu f' (k_\\mu x^\\mu)$. Use this to prove 9.4 and the one following it.*"
   ]
  },
  {
   "cell_type": "markdown",
   "id": "57275e91",
   "metadata": {},
   "source": [
    "Call me crazy but is this not just the chain rule? f(g(x))' = f'(g(x)) g'(x). Granted, this is only if k is a constant value at each of its indeces, but if it is, this is trivial. Page 203 informs us that, yes, k values are constant. \n",
    "\n",
    "So now we do our proving. We will begin using $\\delta_\\mu$ to represent the derivatives rather than comma notation until we want to recombine things at the end. \n",
    "\n",
    "$$ \\bar{h}^{\\alpha\\beta}_{,\\mu} $$\n",
    "$$ = \\delta_\\mu \\bar{h}^{\\alpha\\beta} $$\n",
    "$$ = \\delta_\\mu A^{\\alpha\\beta} exp[ik_\\alpha x^\\alpha] $$"
   ]
  },
  {
   "cell_type": "markdown",
   "id": "bdb36a4c",
   "metadata": {},
   "source": [
    "Need to be careful with the shared indeces, as $\\alpha$ is being summed. However, applying the derivative changes nothing about A. Applying it to the exponential does the usual thing of only pulling out the constant when $\\alpha = \\mu$, which will always be the case since the internal in the exponential is being summed. Thus...\n",
    "\n",
    "$$ = ik_\\mu A^{\\alpha\\beta} exp[ik_\\alpha x^\\alpha] $$\n",
    "$$ = ik_\\mu \\bar{h}^{\\alpha\\beta} $$"
   ]
  },
  {
   "cell_type": "markdown",
   "id": "0d8c1f42",
   "metadata": {},
   "source": [
    "Which is the first part of what we sought, but we need to develop this further. But it's trivially true and a waste to bother typing out: it's just doing this twice with two different derivatives, resulting in a $-k_1k_2$ form since the imaginary terms interfere and produce a -1. Tah-dah!"
   ]
  },
  {
   "cell_type": "markdown",
   "id": "243ffb84",
   "metadata": {},
   "source": [
    "<a id='P2'></a>\n",
    "\n",
    "# Problem 2 \\[Back to [top](#toc)\\]\n",
    "$$\\label{P2}$$\n",
    "\n",
    "Skipped, it's just deriving the frequency of a wave equation. "
   ]
  },
  {
   "cell_type": "markdown",
   "id": "f35c8cc8",
   "metadata": {},
   "source": [
    "<a id='P3'></a>\n",
    "\n",
    "# Problem 3 \\[Back to [top](#toc)\\]\n",
    "$$\\label{P3}$$\n",
    "\n",
    "Skipped, just proves that all solutions are linear combinations of plane wave solutions, that is to say, superpositions. This should just make sense at this point. "
   ]
  },
  {
   "cell_type": "markdown",
   "id": "7f80d99b",
   "metadata": {},
   "source": [
    "<a id='P4'></a>\n",
    "\n",
    "# Problem 4 \\[Back to [top](#toc)\\]\n",
    "$$\\label{P4}$$\n",
    "\n",
    "Skipped, just working out the details of the proof of h-metrics being used to adjust the A-terms. "
   ]
  },
  {
   "cell_type": "markdown",
   "id": "b5c3d7a1",
   "metadata": {},
   "source": [
    "<a id='P5'></a>\n",
    "\n",
    "# Problem 5 \\[Back to [top](#toc)\\]\n",
    "$$\\label{P5}$$\n",
    "\n",
    "Oh hey finally a problem seemingly worth doing. \n",
    "\n",
    "*a) Show that $A^{NEW}_{\\alpha\\beta}$ , given by 9.17, satisfies the gauge condition $A^{\\alpha\\beta}k_\\beta = 0$ if $A^{OLD}_{\\alpha\\beta}$ does.*"
   ]
  },
  {
   "cell_type": "markdown",
   "id": "fb1c31a3",
   "metadata": {},
   "source": [
    "9.17 is\n",
    "\n",
    "$$ A^{NEW}_{\\alpha\\beta} = A^{OLD}_{\\alpha\\beta} -iB_\\alpha k_\\beta - iB_\\beta k_\\alpha + i\\eta_{\\alpha\\beta} B^\\mu k_\\mu$$\n",
    "\n",
    "if we adjuste the gague condition, we see that it also says:\n",
    "\n",
    "$$\\eta^{\\alpha\\mu} \\eta^{\\beta\\nu} \\eta_{\\beta\\nu} A_{\\alpha\\beta} k^\\beta = 0$$\n",
    "$$\\eta^{\\alpha\\mu} A_{\\alpha\\beta} k^\\beta = 0$$"
   ]
  },
  {
   "cell_type": "markdown",
   "id": "8d879ad1",
   "metadata": {},
   "source": [
    "Which means in order to actually examine the gague condition we have to apply the raising metric to every term. AND we need to apply the k. \n",
    "\n",
    "$$ \\eta^{\\alpha\\nu}k^\\beta A^{NEW}_{\\alpha\\beta} = \\eta^{\\alpha\\nu}k^\\beta A^{OLD}_{\\alpha\\beta} -\\eta^{\\alpha\\nu}k^\\beta iB_\\alpha k_\\beta - \\eta^{\\alpha\\nu}k^\\beta iB_\\beta k_\\alpha + \\eta^{\\alpha\\nu}k^\\beta i\\eta_{\\alpha\\beta} B^\\mu k_\\mu$$\n",
    "\n",
    "Now we know the OLD goes to zero, and the raising metrics can raise the index on several things.\n",
    "\n",
    "$$ \\Rightarrow \\eta^{\\alpha\\nu}A^{NEW}_{\\alpha\\beta}k^\\beta = -iB^\\nu k_\\beta k^\\beta -iB_\\beta k^\\nu k^\\beta + i\\delta^\\nu_\\beta B^\\mu k_\\mu k^\\beta$$"
   ]
  },
  {
   "cell_type": "markdown",
   "id": "cfcbe100",
   "metadata": {},
   "source": [
    "All we want is those three terms at the end to cancel... Remove the i, it's just getting in the way of seeing what's going on. \n",
    "\n",
    "$$ \\Rightarrow -i \\eta^{\\alpha\\nu}A^{NEW}_{\\alpha\\beta}k^\\beta = -B^\\nu k_\\beta k^\\beta -B_\\beta k^\\nu k^\\beta + \\delta^\\nu_\\beta B^\\mu k_\\mu k^\\beta$$"
   ]
  },
  {
   "cell_type": "markdown",
   "id": "ed8dc627",
   "metadata": {},
   "source": [
    "k is known to be a null fector, and so the dot product is zero, which means the first term is zero as the indeces match, just convert it to $\\eta_{\\beta\\beta}k^\\beta k^\\beta$. \n",
    "\n",
    "$$ \\Rightarrow -i \\eta^{\\alpha\\nu}A^{NEW}_{\\alpha\\beta}k^\\beta = -B_\\beta k^\\nu k^\\beta + \\delta^\\nu_\\beta B^\\mu k_\\mu k^\\beta$$ \n",
    "\n",
    "Only one index declares what everything is going to be. If we purposefully set $\\nu$ we can get rid of the delta, for it is always one. \n",
    "\n",
    "$$ \\Rightarrow -i \\eta^{\\alpha\\nu}A^{NEW}_{\\alpha\\beta}k^\\beta = -B_\\beta k^\\nu k^\\beta + B^\\mu k_\\mu k^\\nu$$"
   ]
  },
  {
   "cell_type": "markdown",
   "id": "e02ad746",
   "metadata": {},
   "source": [
    "The $\\mu$ and $\\beta$ indeces can be set to each other. By applying the double metric, we find that swapping up and down actually produces a $\\eta_{\\beta\\beta} \\eta^{\\beta\\beta}$ term which is just always 1. Thus, the last two temrs cancel by the sign difference. \n",
    "\n",
    "$$ \\Rightarrow -i \\eta^{\\alpha\\nu}A^{NEW}_{\\alpha\\beta}k^\\beta = 0$$\n",
    "$$ \\Rightarrow \\eta^{\\alpha\\nu}A^{NEW}_{\\alpha\\beta}k^\\beta = 0$$\n",
    "\n",
    "Success!"
   ]
  },
  {
   "cell_type": "markdown",
   "id": "b5e8d8c7",
   "metadata": {},
   "source": [
    "*b) Use 9.18 for $A^{NEW}_{\\alpha\\beta}$ to constrain $B^\\mu$*"
   ]
  },
  {
   "cell_type": "markdown",
   "id": "d97847af",
   "metadata": {},
   "source": [
    "Right, just go with it. Apply the raising metric $\\eta^{\\alpha\\nu}$ and then proceed to set $\\nu = \\alpha$ to set up the trace. \n",
    "\n",
    "$$ A^{NEW\\nu}_{\\alpha} = A^{OLD\\nu}_{\\alpha} -iB_\\alpha k^{\\nu} - iB^{\\nu} k_\\alpha + i\\delta_{\\alpha}^{\\nu} B^\\mu k_\\mu = 0$$\n",
    "\n",
    "Which we transform to:\n",
    "\n",
    "$$ A^{NEW\\alpha}_{\\alpha} = A^{OLD\\alpha}_{\\alpha} -iB_\\alpha k^{\\alpha} - iB^{\\alpha} k_\\alpha + i\\delta_{\\alpha}^{\\alpha} B^\\mu k_\\mu = 0$$\n",
    "\n",
    "$$ \\Rightarrow A^{NEW\\alpha}_{\\alpha} = A^{OLD\\alpha}_{\\alpha} -iB_\\alpha k^{\\alpha} - iB^{\\alpha} k_\\alpha + i B^\\mu k_\\mu = 0$$\n",
    "\n",
    "From last part we know the double index flip changes nothing, so we can combine terms.\n",
    "\n",
    "$$ \\Rightarrow A^{NEW\\alpha}_{\\alpha} = A^{OLD\\alpha}_{\\alpha}- iB^{\\alpha} k_\\alpha = 0$$\n",
    "\n",
    "Which does provide us a constraint of:\n",
    "\n",
    "$$ A^{OLD\\alpha}_{\\alpha} = iB^{\\alpha} k_\\alpha $$\n",
    "$$ \\Rightarrow -iA^{OLD\\alpha}_{\\alpha}/k_\\alpha = B^{\\alpha}$$"
   ]
  },
  {
   "cell_type": "markdown",
   "id": "cd3a537f",
   "metadata": {},
   "source": [
    "So we define B in terms of the OLD trace. "
   ]
  },
  {
   "cell_type": "markdown",
   "id": "1c88520f",
   "metadata": {},
   "source": [
    "*c) Show that 9.19 for $A^{NEW}_{\\alpha\\beta}$ imposes only three constraints on $B^\\mu$, not the four that we might expect form the fact that the free index $\\alpha$ can take any values from 0 to 3. Do this by showing that the particular linear combination $k^\\alpha (A_{\\alpha\\beta}U^\\beta)$ vanishes for any $B^\\mu$.*"
   ]
  },
  {
   "cell_type": "markdown",
   "id": "76d7e659",
   "metadata": {},
   "source": [
    "9.19 says $A_{\\alpha\\beta} U^\\beta = 0$. Which for once doesn't involve us playing monkey with a million raising and lowering operators. Instead we just slap the velocity on the end.\n",
    "\n",
    "$$ A^{NEW}_{\\alpha\\beta} U^\\beta = A^{OLD}_{\\alpha\\beta} U^\\beta -iB_\\alpha k_\\beta U^\\beta - iB_\\beta k_\\alpha U^\\beta + i\\eta_{\\alpha\\beta} B^\\mu k_\\mu U^\\beta = 0$$"
   ]
  },
  {
   "cell_type": "markdown",
   "id": "e2787f1b",
   "metadata": {},
   "source": []
  },
  {
   "cell_type": "markdown",
   "id": "782d50ed",
   "metadata": {},
   "source": [
    "*d) Using b) and c) solve for $B^\\mu$ as a function of $k^\\mu$, $A^{OLD}_{\\alpha\\beta}$, and $U^\\mu$. These determine $B^\\mu$, there is no further gauge freedom.*"
   ]
  },
  {
   "cell_type": "markdown",
   "id": "d4fa8610",
   "metadata": {},
   "source": [
    "*e) Show that it is possible to choose $\\xi^\\beta$ in 9.15 to make any superposition of plane waves satisfy 9.18 and 9.19 so that these are generally applicable to gravitaitonal waves of any sort.*"
   ]
  },
  {
   "cell_type": "markdown",
   "id": "381d57c6",
   "metadata": {},
   "source": [
    "*f) Show that we cannot achieve 9.18 and 9.19 for a static solution, i.e., one for which $\\omega=0$.*"
   ]
  },
  {
   "cell_type": "markdown",
   "id": "18840879",
   "metadata": {},
   "source": [
    "<a id='P6'></a>\n",
    "\n",
    "# Problem 6 \\[Back to [top](#toc)\\]\n",
    "$$\\label{P6}$$\n",
    "\n",
    "Skipped, just filling in algebra to construct the matrix. "
   ]
  },
  {
   "cell_type": "markdown",
   "id": "e6802e59",
   "metadata": {},
   "source": [
    "<a id='P7'></a>\n",
    "\n",
    "# Problem 7 \\[Back to [top](#toc)\\]\n",
    "$$\\label{P7}$$\n",
    "\n",
    "Skipped, just a more rigorous proof of something staying stationary in a \"waving\" spacetime. Which is a conclusion that seems rather obvious.  "
   ]
  },
  {
   "cell_type": "markdown",
   "id": "10d0f700",
   "metadata": {},
   "source": [
    "<a id='P8'></a>\n",
    "\n",
    "# Problem 8 \\[Back to [top](#toc)\\]\n",
    "$$\\label{P8}$$\n",
    "\n",
    "*Does the free particle of hte disussion following 9.23 feel any acceleration? For example, if hte particle is a bowl of soup (whose diameter is much less than a wavelength) does the soup slosh about in the bowl as the wave passes?*\n",
    "\n",
    "Could have skipped this one but it offers a nice chance to explain some thing. No, the soup does not slosh about in the bowl because the *Bowl itself* is being bent as well. Every individual particle remains stationary as far as it is concerned, feeling nothing. "
   ]
  },
  {
   "cell_type": "markdown",
   "id": "3311b0a5",
   "metadata": {},
   "source": [
    "<a id='P9'></a>\n",
    "\n",
    "# Problem 9 \\[Back to [top](#toc)\\]\n",
    "$$\\label{P9}$$\n",
    "\n",
    "*Does the free particle see any acceleration?...*\n",
    "\n",
    "Not writing out in full, but yes--it feels no acceleration itself, but once there are other particles it is possible for it to think the particles around it are accelerating because the distance between them is changing. If we couldn't see this effect, how would we ever detect gravity waves? "
   ]
  },
  {
   "cell_type": "markdown",
   "id": "df50096e",
   "metadata": {},
   "source": [
    "<a id='latex_pdf_output'></a>\n",
    "\n",
    "# Addendum: Output this notebook to $\\LaTeX$-formatted PDF file \\[Back to [top](#toc)\\]\n",
    "$$\\label{latex_pdf_output}$$\n",
    "\n",
    "The following code cell converts this Jupyter notebook into a proper, clickable $\\LaTeX$-formatted PDF file. After the cell is successfully run, the generated PDF may be found in the root NRPy+ tutorial directory, with filename\n",
    "[GR-09.pdf](GR-09.pdf) (Note that clicking on this link may not work; you may need to open the PDF file through another means.)\n",
    "\n",
    "**Important Note**: Make sure that the file name is right in all six locations, two here in the Markdown, four in the code below. \n",
    "\n",
    "* GR-09.pdf\n",
    "* GR-09.ipynb\n",
    "* GR-09.tex"
   ]
  },
  {
   "cell_type": "code",
   "execution_count": 1,
   "id": "abf583ef",
   "metadata": {
    "scrolled": false
   },
   "outputs": [
    {
     "name": "stdout",
     "output_type": "stream",
     "text": [
      "Created GR-08.tex, and compiled LaTeX file to PDF file GR-08.pdf\n"
     ]
    }
   ],
   "source": [
    "import cmdline_helper as cmd    # NRPy+: Multi-platform Python command-line interface\n",
    "cmd.output_Jupyter_notebook_to_LaTeXed_PDF(\"GR-09\")"
   ]
  },
  {
   "cell_type": "code",
   "execution_count": null,
   "id": "d0d0db4d",
   "metadata": {},
   "outputs": [],
   "source": []
  },
  {
   "cell_type": "code",
   "execution_count": null,
   "id": "41264965",
   "metadata": {},
   "outputs": [],
   "source": []
  }
 ],
 "metadata": {
  "kernelspec": {
   "display_name": "Python 3 (ipykernel)",
   "language": "python",
   "name": "python3"
  },
  "language_info": {
   "codemirror_mode": {
    "name": "ipython",
    "version": 3
   },
   "file_extension": ".py",
   "mimetype": "text/x-python",
   "name": "python",
   "nbconvert_exporter": "python",
   "pygments_lexer": "ipython3",
   "version": "3.10.4"
  }
 },
 "nbformat": 4,
 "nbformat_minor": 5
}
