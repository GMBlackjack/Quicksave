{
 "cells": [
  {
   "cell_type": "markdown",
   "id": "0c1bfe81",
   "metadata": {},
   "source": [
    "# General Relativity Problems Chapter 9: Gravitational Radiation\n",
    "\n",
    "## Authors: Gabriel M Steward"
   ]
  },
  {
   "cell_type": "markdown",
   "id": "479540e4",
   "metadata": {},
   "source": [
    "https://github.com/zachetienne/nrpytutorial/blob/master/Tutorial-Template_Style_Guide.ipynb\n",
    "\n",
    "Link to the Style Guide. Not internal in case something breaks. "
   ]
  },
  {
   "cell_type": "markdown",
   "id": "10780970",
   "metadata": {},
   "source": [
    "### </list_source_code> NRPy+ Source Code for this module:\n",
    "None! ...well except for the pdf thing at the bottom.\n",
    "\n",
    "## Introduction:\n",
    "In our final chapter that we'll be working, we'll be dealing with GRAVITATIONAL WAVES. Yes! True application awaits...\n",
    "\n",
    "## </other>  Other (Optional): \n",
    "Note: this chapter is not being worked to completion, just to satisfaction, as suggested by Dr. Etienne. Skipped problems will not be mentioned in the Table of Contents, though they may have a small note in the notebook itself. \n",
    "\n",
    "### Note on Notation:\n",
    "Any new notation will be brought up in the notebook when it becomes relevant. \n",
    "\n",
    "### Citations:\n",
    "\n",
    "<a id='1'></a>\n",
    "[1] https://www.physicsforums.com/threads/what-is-coordinate-speed.997660/ (coordinate speed)"
   ]
  },
  {
   "cell_type": "markdown",
   "id": "56664bc2",
   "metadata": {},
   "source": [
    "<a id='toc'></a>\n",
    "\n",
    "# Table of Contents\n",
    "$$\\label{toc}$$\n",
    "\n",
    "[Problem 1](#P1) (The Point Particle)\n",
    "\n",
    "[Problem 5](#P5) (Playing with the Gauge, suspected part d incorrect)\n",
    "\n",
    "[Problem 8](#P5) (Being rocked, but feeling nothing)\n",
    "\n",
    "[Problem 9](#P9) (Seeing is Believing)\n",
    "\n",
    "[Problem 12](#P12) (Nothing happens in the forward direction)\n",
    "\n",
    "[Problem 14](#P14) (Metrics and displacements, incomplete)\n",
    "\n",
    "[Problem 17-25](#P17) (Notes on resonant detectors, no problems worked)\n",
    "\n",
    "[Problem 26](#P26) (Shooting light in rings)\n",
    "\n",
    "[Problem 27](#P27) (Angled Gravity Waves, incomplete)\n",
    "\n",
    "[PDF](#latex_pdf_output) (turn this into a PDF)"
   ]
  },
  {
   "cell_type": "markdown",
   "id": "cd9e5529",
   "metadata": {},
   "source": [
    "<a id='P1'></a>\n",
    "\n",
    "# Problem 1 \\[Back to [top](#toc)\\]\n",
    "$$\\label{P1}$$\n",
    "\n",
    "*A function f(s) has derivatife f'(s) = df/ds. Prove that $\\partial f(k_\\mu x^\\mu)/\\partial x^\\nu = k_\\nu f' (k_\\mu x^\\mu)$. Use this to prove 9.4 and the one following it.*"
   ]
  },
  {
   "cell_type": "markdown",
   "id": "57275e91",
   "metadata": {},
   "source": [
    "Call me crazy but is this not just the chain rule? f(g(x))' = f'(g(x)) g'(x). Granted, this is only if k is a constant value at each of its indeces, but if it is, this is trivial. Page 203 informs us that, yes, k values are constant. \n",
    "\n",
    "So now we do our proving. We will begin using $\\delta_\\mu$ to represent the derivatives rather than comma notation until we want to recombine things at the end. \n",
    "\n",
    "$$ \\bar{h}^{\\alpha\\beta}_{,\\mu} $$\n",
    "$$ = \\delta_\\mu \\bar{h}^{\\alpha\\beta} $$\n",
    "$$ = \\delta_\\mu A^{\\alpha\\beta} exp[ik_\\alpha x^\\alpha] $$"
   ]
  },
  {
   "cell_type": "markdown",
   "id": "bdb36a4c",
   "metadata": {},
   "source": [
    "Need to be careful with the shared indeces, as $\\alpha$ is being summed. However, applying the derivative changes nothing about A. Applying it to the exponential does the usual thing of only pulling out the constant when $\\alpha = \\mu$, which will always be the case since the internal in the exponential is being summed. Thus...\n",
    "\n",
    "$$ = ik_\\mu A^{\\alpha\\beta} exp[ik_\\alpha x^\\alpha] $$\n",
    "$$ = ik_\\mu \\bar{h}^{\\alpha\\beta} $$"
   ]
  },
  {
   "cell_type": "markdown",
   "id": "0d8c1f42",
   "metadata": {},
   "source": [
    "Which is the first part of what we sought, but we need to develop this further. But it's trivially true and a waste to bother typing out: it's just doing this twice with two different derivatives, resulting in a $-k_1k_2$ form since the imaginary terms interfere and produce a -1. Tah-dah!"
   ]
  },
  {
   "cell_type": "markdown",
   "id": "243ffb84",
   "metadata": {},
   "source": [
    "<a id='P2'></a>\n",
    "\n",
    "# Problem 2 \\[Back to [top](#toc)\\]\n",
    "$$\\label{P2}$$\n",
    "\n",
    "Skipped, it's just deriving the frequency of a wave equation. "
   ]
  },
  {
   "cell_type": "markdown",
   "id": "f35c8cc8",
   "metadata": {},
   "source": [
    "<a id='P3'></a>\n",
    "\n",
    "# Problem 3 \\[Back to [top](#toc)\\]\n",
    "$$\\label{P3}$$\n",
    "\n",
    "Skipped, just proves that all solutions are linear combinations of plane wave solutions, that is to say, superpositions. This should just make sense at this point. "
   ]
  },
  {
   "cell_type": "markdown",
   "id": "7f80d99b",
   "metadata": {},
   "source": [
    "<a id='P4'></a>\n",
    "\n",
    "# Problem 4 \\[Back to [top](#toc)\\]\n",
    "$$\\label{P4}$$\n",
    "\n",
    "Skipped, just working out the details of the proof of h-metrics being used to adjust the A-terms. "
   ]
  },
  {
   "cell_type": "markdown",
   "id": "b5c3d7a1",
   "metadata": {},
   "source": [
    "<a id='P5'></a>\n",
    "\n",
    "# Problem 5 \\[Back to [top](#toc)\\]\n",
    "$$\\label{P5}$$\n",
    "\n",
    "Oh hey finally a problem seemingly worth doing. \n",
    "\n",
    "*a) Show that $A^{NEW}_{\\alpha\\beta}$ , given by 9.17, satisfies the gauge condition $A^{\\alpha\\beta}k_\\beta = 0$ if $A^{OLD}_{\\alpha\\beta}$ does.*"
   ]
  },
  {
   "cell_type": "markdown",
   "id": "fb1c31a3",
   "metadata": {},
   "source": [
    "9.17 is\n",
    "\n",
    "$$ A^{NEW}_{\\alpha\\beta} = A^{OLD}_{\\alpha\\beta} -iB_\\alpha k_\\beta - iB_\\beta k_\\alpha + i\\eta_{\\alpha\\beta} B^\\mu k_\\mu$$\n",
    "\n",
    "if we adjuste the gague condition, we see that it also says:\n",
    "\n",
    "$$\\eta^{\\alpha\\mu} \\eta^{\\beta\\nu} \\eta_{\\beta\\nu} A_{\\alpha\\beta} k^\\beta = 0$$\n",
    "$$\\eta^{\\alpha\\mu} A_{\\alpha\\beta} k^\\beta = 0$$"
   ]
  },
  {
   "cell_type": "markdown",
   "id": "8d879ad1",
   "metadata": {},
   "source": [
    "Which means in order to actually examine the gague condition we have to apply the raising metric to every term. AND we need to apply the k. \n",
    "\n",
    "$$ \\eta^{\\alpha\\nu}k^\\beta A^{NEW}_{\\alpha\\beta} = \\eta^{\\alpha\\nu}k^\\beta A^{OLD}_{\\alpha\\beta} -\\eta^{\\alpha\\nu}k^\\beta iB_\\alpha k_\\beta - \\eta^{\\alpha\\nu}k^\\beta iB_\\beta k_\\alpha + \\eta^{\\alpha\\nu}k^\\beta i\\eta_{\\alpha\\beta} B^\\mu k_\\mu$$\n",
    "\n",
    "Now we know the OLD goes to zero, and the raising metrics can raise the index on several things.\n",
    "\n",
    "$$ \\Rightarrow \\eta^{\\alpha\\nu}A^{NEW}_{\\alpha\\beta}k^\\beta = -iB^\\nu k_\\beta k^\\beta -iB_\\beta k^\\nu k^\\beta + i\\delta^\\nu_\\beta B^\\mu k_\\mu k^\\beta$$"
   ]
  },
  {
   "cell_type": "markdown",
   "id": "cfcbe100",
   "metadata": {},
   "source": [
    "All we want is those three terms at the end to cancel... Remove the i, it's just getting in the way of seeing what's going on. \n",
    "\n",
    "$$ \\Rightarrow -i \\eta^{\\alpha\\nu}A^{NEW}_{\\alpha\\beta}k^\\beta = -B^\\nu k_\\beta k^\\beta -B_\\beta k^\\nu k^\\beta + \\delta^\\nu_\\beta B^\\mu k_\\mu k^\\beta$$"
   ]
  },
  {
   "cell_type": "markdown",
   "id": "ed8dc627",
   "metadata": {},
   "source": [
    "k is known to be a null fector, and so the dot product is zero, which means the first term is zero as the indeces match, just convert it to $\\eta_{\\beta\\beta}k^\\beta k^\\beta$. \n",
    "\n",
    "$$ \\Rightarrow -i \\eta^{\\alpha\\nu}A^{NEW}_{\\alpha\\beta}k^\\beta = -B_\\beta k^\\nu k^\\beta + \\delta^\\nu_\\beta B^\\mu k_\\mu k^\\beta$$ \n",
    "\n",
    "Only one index declares what everything is going to be. If we purposefully set $\\nu$ we can get rid of the delta, for it is always one. \n",
    "\n",
    "$$ \\Rightarrow -i \\eta^{\\alpha\\nu}A^{NEW}_{\\alpha\\beta}k^\\beta = -B_\\beta k^\\nu k^\\beta + B^\\mu k_\\mu k^\\nu$$"
   ]
  },
  {
   "cell_type": "markdown",
   "id": "e02ad746",
   "metadata": {},
   "source": [
    "The $\\mu$ and $\\beta$ indeces can be set to each other. By applying the double metric, we find that swapping up and down actually produces a $\\eta_{\\beta\\beta} \\eta^{\\beta\\beta}$ term which is just always 1. Thus, the last two temrs cancel by the sign difference. \n",
    "\n",
    "$$ \\Rightarrow -i \\eta^{\\alpha\\nu}A^{NEW}_{\\alpha\\beta}k^\\beta = 0$$\n",
    "$$ \\Rightarrow \\eta^{\\alpha\\nu}A^{NEW}_{\\alpha\\beta}k^\\beta = 0$$\n",
    "\n",
    "Success!"
   ]
  },
  {
   "cell_type": "markdown",
   "id": "b5e8d8c7",
   "metadata": {},
   "source": [
    "*b) Use 9.18 for $A^{NEW}_{\\alpha\\beta}$ to constrain $B^\\mu$*"
   ]
  },
  {
   "cell_type": "markdown",
   "id": "d97847af",
   "metadata": {},
   "source": [
    "Right, just go with it. Apply the raising metric $\\eta^{\\alpha\\nu}$ and then proceed to set $\\nu = \\alpha$ to set up the trace. \n",
    "\n",
    "$$ A^{NEW\\nu}_{\\alpha} = A^{OLD\\nu}_{\\alpha} -iB_\\alpha k^{\\nu} - iB^{\\nu} k_\\alpha + i\\delta_{\\alpha}^{\\nu} B^\\mu k_\\mu = 0$$\n",
    "\n",
    "Which we transform to:\n",
    "\n",
    "$$ A^{NEW\\alpha}_{\\alpha} = A^{OLD\\alpha}_{\\alpha} -iB_\\alpha k^{\\alpha} - iB^{\\alpha} k_\\alpha + i\\delta_{\\alpha}^{\\alpha} B^\\mu k_\\mu = 0$$\n",
    "\n",
    "$$ \\Rightarrow A^{NEW\\alpha}_{\\alpha} = A^{OLD\\alpha}_{\\alpha} -iB_\\alpha k^{\\alpha} - iB^{\\alpha} k_\\alpha + i B^\\mu k_\\mu = 0$$\n",
    "\n",
    "From last part we know the double index flip changes nothing, so we can combine terms.\n",
    "\n",
    "$$ \\Rightarrow A^{NEW\\alpha}_{\\alpha} = A^{OLD\\alpha}_{\\alpha}- iB^{\\alpha} k_\\alpha = 0$$\n",
    "\n",
    "Which does provide us a constraint of:\n",
    "\n",
    "$$ A^{OLD\\alpha}_{\\alpha} = iB^{\\alpha} k_\\alpha $$\n",
    "$$ \\Rightarrow -iA^{OLD\\alpha}_{\\alpha}/k_\\alpha = B^{\\alpha}$$"
   ]
  },
  {
   "cell_type": "markdown",
   "id": "cd3a537f",
   "metadata": {},
   "source": [
    "So we define B in terms of the OLD trace. "
   ]
  },
  {
   "cell_type": "markdown",
   "id": "1c88520f",
   "metadata": {},
   "source": [
    "*c) Show that 9.19 for $A^{NEW}_{\\alpha\\beta}$ imposes only three constraints on $B^\\mu$, not the four that we might expect form the fact that the free index $\\alpha$ can take any values from 0 to 3. Do this by showing that the particular linear combination $k^\\alpha (A_{\\alpha\\beta}U^\\beta)$ vanishes for any $B^\\mu$.*"
   ]
  },
  {
   "cell_type": "markdown",
   "id": "76d7e659",
   "metadata": {},
   "source": [
    "9.19 says $A_{\\alpha\\beta} U^\\beta = 0$. Which for once doesn't involve us playing monkey with a million raising and lowering operators. Instead we just slap the velocity on the end.\n",
    "\n",
    "$$ A^{NEW}_{\\alpha\\beta} U^\\beta = A^{OLD}_{\\alpha\\beta} U^\\beta -iB_\\alpha k_\\beta U^\\beta - iB_\\beta k_\\alpha U^\\beta + i\\eta_{\\alpha\\beta} B^\\mu k_\\mu U^\\beta = 0$$"
   ]
  },
  {
   "cell_type": "markdown",
   "id": "e2787f1b",
   "metadata": {},
   "source": [
    "The hint indicates that we should multiply by k at the end and then show that it still goes to zero.\n",
    "\n",
    "$$ k^\\alpha A^{NEW}_{\\alpha\\beta} U^\\beta = k^\\alpha A^{OLD}_{\\alpha\\beta} U^\\beta -k^\\alpha iB_\\alpha k_\\beta U^\\beta - k^\\alpha iB_\\beta k_\\alpha U^\\beta + k^\\alpha i\\eta_{\\alpha\\beta} B^\\mu k_\\mu U^\\beta$$\n",
    "\n",
    "Of course the fact that this equals zero is obvious: every term that k is multiplying into is zero, no matter what the index $\\alpha$ is, so it remains zero. However, we suspect the additional k will assist us in placing the restriction on B. "
   ]
  },
  {
   "cell_type": "markdown",
   "id": "f38d6815",
   "metadata": {},
   "source": [
    "$$ \\Rightarrow - k^\\alpha A^{OLD}_{\\alpha\\beta} U^\\beta = -k^\\alpha iB_\\alpha k_\\beta U^\\beta - k^\\alpha iB_\\beta k_\\alpha U^\\beta + k^\\alpha i\\eta_{\\alpha\\beta} B^\\mu k_\\mu U^\\beta$$\n",
    "\n",
    "$$ \\Rightarrow i k^\\alpha A^{OLD}_{\\alpha\\beta} U^\\beta = -k^\\alpha B_\\alpha k_\\beta U^\\beta - k^\\alpha B_\\beta k_\\alpha U^\\beta + k^\\alpha \\eta_{\\alpha\\beta} B^\\mu k_\\mu U^\\beta$$"
   ]
  },
  {
   "cell_type": "markdown",
   "id": "30f40aaa",
   "metadata": {},
   "source": [
    "In all three terms all indeces are being summed over, so we don't need to worry about making sure everything matches as everything always adds. In fact for the last term $\\alpha = \\beta$ due to the metric. All the metric will do, though, is flip the sign when the coordinate is \"t\". \n",
    "\n",
    "While we are free to pick U = (1,0,0,0) as it can always be found to be this with a proper transformation, this will remove the xyz relations and not give us all the limitations. (in fact if our work is correct it gives no limitaitons at all as everything can be made to just vanish.) First, examine the middle term. $k_\\alpha = \\eta_{\\alpha\\beta} k^\\beta$ which allows us to \"dot product\" the two k values together as if they were vectors, which we know is zero. This can't be done with the first term or the third term as the indeces don't match. What we can do is lower the k-index on the third term using the metric.\n",
    "\n",
    "$$ \\Rightarrow i k^\\alpha A^{OLD}_{\\alpha\\beta} U^\\beta = -k^\\alpha B_\\alpha k_\\beta U^\\beta + k_\\beta B^\\mu k_\\mu U^\\beta$$"
   ]
  },
  {
   "cell_type": "markdown",
   "id": "30eabdb3",
   "metadata": {},
   "source": [
    "Which if we flip both indeces just... equals zero. Well, we knew this to be true, we just hoped it was true in a more illuminating way. What we want are limitaitons on B, not showcses that B vanishes no matter what it is. We've now inevitably shown the first part of the proof that was suggested earlier. Now... how exactly does this help us?"
   ]
  },
  {
   "cell_type": "markdown",
   "id": "e9778c07",
   "metadata": {},
   "source": [
    "As it turns out the problem does not ask us to find out what the restraint actually is, merely that it is three restrictions, not four. Which means showing that it equals zero is actually sufficient. If a (nonzero) linear combination of four \"vectors\" can equal zero, that means at least one of those \"vectors\" is NOT independent of the others! Thus ther eare only three restrictions imposed by the case. Huh. We were overcomplicating it. "
   ]
  },
  {
   "cell_type": "markdown",
   "id": "782d50ed",
   "metadata": {},
   "source": [
    "*d) Using b) and c) solve for $B^\\mu$ as a function of $k^\\mu$, $A^{OLD}_{\\alpha\\beta}$, and $U^\\mu$. These determine $B^\\mu$, there is no further gauge freedom.*"
   ]
  },
  {
   "cell_type": "markdown",
   "id": "393e5c7e",
   "metadata": {},
   "source": [
    "We kind of already have that. \n",
    "\n",
    "$$-iA^{OLD\\alpha}_{\\alpha}/k_\\alpha = B^{\\alpha}$$\n",
    "\n",
    "However, this is missing U, and the index on k is in the wrong spot. So let's see if we can extract a relation out of part c as well and constrain further.\n",
    "\n",
    "$$ i A^{OLD}_{\\alpha\\beta} U^\\beta = -B_\\alpha k_\\beta U^\\beta - B_\\beta k_\\alpha U^\\beta + \\eta_{\\alpha\\beta} B^\\mu k_\\mu U^\\beta $$\n",
    "\n",
    "$$ \\Rightarrow i A^{OLD}_{\\alpha\\beta} U^\\beta = -B_\\alpha k_\\beta U^\\beta - B_\\beta k_\\alpha U^\\beta + B^\\mu k_\\mu U_\\alpha $$\n",
    "\n",
    "$$ \\Rightarrow i A^{OLD}_{\\alpha\\beta} U^\\beta = -B^\\beta k_\\beta U_\\alpha - B^\\alpha k_\\alpha U_\\alpha + B^\\mu k_\\mu U_\\alpha $$\n",
    "\n",
    "First and third terms cancel. We arrive at:\n",
    "\n",
    "$$ \\Rightarrow - \\frac{i A^{OLD}_{\\alpha\\beta} U^\\beta}{k_\\alpha U_\\alpha} = B^\\alpha $$"
   ]
  },
  {
   "cell_type": "markdown",
   "id": "c28800bd",
   "metadata": {},
   "source": [
    "Which is annoyingly just the same requirement as above. Apply a few metrics to get the U-terms to cancel. That metric is then applied to A to raise the index and nothing changes. \n",
    "\n",
    "Well, we've spent enough time on this problem, and the above IS an answer. We just don't think it's what the problem was looking for. "
   ]
  },
  {
   "cell_type": "markdown",
   "id": "d4fa8610",
   "metadata": {},
   "source": [
    "*e) Show that it is possible to choose $\\xi^\\beta$ in 9.15 to make any superposition of plane waves satisfy 9.18 and 9.19 so that these are generally applicable to gravitaitonal waves of any sort.*"
   ]
  },
  {
   "cell_type": "markdown",
   "id": "d3712eb9",
   "metadata": {},
   "source": [
    "This is almost trivial, all we need is to be able to choose a plane wave based on its derivative that gets an i out every time. This is, to put it simply, part of the properties of plane waves themselves. Just tack an i onto the inside, Let B be determined by the \"outside\" derivative, and k by the \"inside.\" as k is usually the frequency this is naturally giong to occur. \n",
    "\n",
    "Like, just look at 9.14."
   ]
  },
  {
   "cell_type": "markdown",
   "id": "381d57c6",
   "metadata": {},
   "source": [
    "*f) Show that we cannot achieve 9.18 and 9.19 for a static solution, i.e., one for which $\\omega=0$.*"
   ]
  },
  {
   "cell_type": "markdown",
   "id": "d917b836",
   "metadata": {},
   "source": [
    "First of all, this results in all ks being zero, as it's the frequency. You can't have a frequency for a static solution! This means our adjustment vector is just equal to B, with B just being a constant one-form. Which we have to take the derivative of. Which, since we have a STATIC result, naturally cannot produce anything but zeroes. Meaning we cannot transform form OLD to NEW, as every transformation vanishes. "
   ]
  },
  {
   "cell_type": "markdown",
   "id": "18840879",
   "metadata": {},
   "source": [
    "<a id='P6'></a>\n",
    "\n",
    "# Problem 6 \\[Back to [top](#toc)\\]\n",
    "$$\\label{P6}$$\n",
    "\n",
    "Skipped, just filling in algebra to construct the matrix. "
   ]
  },
  {
   "cell_type": "markdown",
   "id": "e6802e59",
   "metadata": {},
   "source": [
    "<a id='P7'></a>\n",
    "\n",
    "# Problem 7 \\[Back to [top](#toc)\\]\n",
    "$$\\label{P7}$$\n",
    "\n",
    "Skipped, just a more rigorous proof of something staying stationary in a \"waving\" spacetime. Which is a conclusion that seems rather obvious.  "
   ]
  },
  {
   "cell_type": "markdown",
   "id": "10d0f700",
   "metadata": {},
   "source": [
    "<a id='P8'></a>\n",
    "\n",
    "# Problem 8 \\[Back to [top](#toc)\\]\n",
    "$$\\label{P8}$$\n",
    "\n",
    "*Does the free particle of hte disussion following 9.23 feel any acceleration? For example, if hte particle is a bowl of soup (whose diameter is much less than a wavelength) does the soup slosh about in the bowl as the wave passes?*\n",
    "\n",
    "Could have skipped this one but it offers a nice chance to explain some thing. No, the soup does not slosh about in the bowl because the *Bowl itself* is being bent as well. Every individual particle remains stationary as far as it is concerned, feeling nothing. "
   ]
  },
  {
   "cell_type": "markdown",
   "id": "3311b0a5",
   "metadata": {},
   "source": [
    "<a id='P9'></a>\n",
    "\n",
    "# Problem 9 \\[Back to [top](#toc)\\]\n",
    "$$\\label{P9}$$\n",
    "\n",
    "*Does the free particle see any acceleration?...*\n",
    "\n",
    "Not writing out in full, but yes--it feels no acceleration itself, but once there are other particles it is possible for it to think the particles around it are accelerating because the distance between them is changing. If we couldn't see this effect, how would we ever detect gravity waves? "
   ]
  },
  {
   "cell_type": "markdown",
   "id": "96d3fdb1",
   "metadata": {},
   "source": [
    "<a id='P10'></a>\n",
    "\n",
    "# Problem 10 \\[Back to [top](#toc)\\]\n",
    "$$\\label{P10}$$\n",
    "\n",
    "Skipped. Entirely because we don't want to calculate the full R-tensor twice. Egh... \n",
    "\n",
    "The conclusion to be drawn from this problem, though, is obvious: the R metric can be used to show if two proposed spacetimes have \"identical geometries\" if the R is the same in both, and then the gauge transformation can be derived to go between them. "
   ]
  },
  {
   "cell_type": "markdown",
   "id": "b28231cc",
   "metadata": {},
   "source": [
    "<a id='P11'></a>\n",
    "\n",
    "# Problem 11 \\[Back to [top](#toc)\\]\n",
    "$$\\label{P11}$$\n",
    "\n",
    "Skipped. Just the derivation of the Reimann-tensor components for particle separation due to gravity waves, followed by solving those equations for the case of the oscillating rings. The answer is evident, as we already know what the rings do! "
   ]
  },
  {
   "cell_type": "markdown",
   "id": "83a64fa2",
   "metadata": {},
   "source": [
    "<a id='P12'></a>\n",
    "\n",
    "# Problem 12 \\[Back to [top](#toc)\\]\n",
    "$$\\label{P12}$$\n",
    "\n",
    "*Do calculations analagous to those leading to 9.28 and 9.32 to show that the separation of particles in the z direction (the direction of travel of the wave) is unaffected.*\n",
    "\n",
    "Fascinating... the mere fact that this question is being asked means we misunderstood how the warping occurs. We assumed that it was like a longitudinal wave, pushing back and forth, but clearly that's not what's happening. We imagined several crests hitting a planet and pulling it and squishing it in the direction of travel. Well then, since we misunderstood, it's time to do this problem and show that no that's not how it works. "
   ]
  },
  {
   "cell_type": "markdown",
   "id": "ed6a895a",
   "metadata": {},
   "source": [
    "Of course via 9.29 it's almost trivial to see this is true\n",
    "\n",
    "$$ \\frac{\\partial^2}{\\partial t^2} \\xi^i = -R^i_{0j0}\\xi^j$$\n",
    "\n",
    "But we know from 9.27 that any R with a z in it is zero, since the A matrix only has xx, yy, and xy terms that are nonzero. Thus, the separation in the z direction does not change. \n",
    "\n",
    "Thinking about this, this means that gravitational waves are transverse waves, that is, the waves make things oscillate in directions perpendicular to the direction of motion. Curuiously, when one direction is pulled, the other is squished. \n",
    "\n",
    "This implies a few things about interferometer gravitational telescopes: they would prefer to be hit head on from above, which would cause the maximum distortion. This is likely why we want some on the southern hemisphere: so we can catch things coming at perpendicular directions. Notably the second interferometer arm will still react unless the wave goes *directly* between the two arms, making their distortions the same. But we want larger reactions, not smaller ones. "
   ]
  },
  {
   "cell_type": "markdown",
   "id": "d15c8831",
   "metadata": {},
   "source": [
    "<a id='P13'></a>\n",
    "\n",
    "# Problem 13 \\[Back to [top](#toc)\\]\n",
    "$$\\label{P13}$$\n",
    "\n",
    "Skipped, just shows that the inverse polarization of a gravitational wave results in a 45 degree actual shift. (as for why this is, think about it. The gravitational wave oscillates in both x and y directions, twisting it by 90 or 180 degrees would result in the same exact pattern, just phase shifted slightly. Perpendicular polarization would have to be by 45 degrees.) "
   ]
  },
  {
   "cell_type": "markdown",
   "id": "38196893",
   "metadata": {},
   "source": [
    "<a id='P14'></a>\n",
    "\n",
    "# Problem 14 \\[Back to [top](#toc)\\]\n",
    "$$\\label{P14}$$\n",
    "\n",
    "*a) Show that a plane wave with $A_{xy}=0$ in 9.21 has the metric*\n",
    "\n",
    "$$ ds^2 = -dt^2 + (1+h_+)dx^2 + (1-h_+)dy^2 + dz^2 $$\n",
    "\n",
    "*where $h_+ = A_{xx} sin(\\omega(t-z))$*"
   ]
  },
  {
   "cell_type": "markdown",
   "id": "a712d579",
   "metadata": {},
   "source": [
    "So this basically becomes the question of how we derive a metric from the A-matrix. We only have two terms: $A_{xx}$ at xx and $-A_{xx}$ at yy. This obviously gets the LOCATION of the distortion correct (as well as the sign), but why is the distortion influenced by the factor of the trig function? Logically, it makes sense: the frequency tells us where the distortion is happening in time with the phase factor difference of z. But mathematically where do we get this? \n",
    "\n",
    "What is the exact relation between A and h? \n",
    "\n",
    "9.2 $\\bar{h}^{\\alpha\\beta} = A^{\\alpha\\beta} exp(ik_\\mu x^\\mu)$"
   ]
  },
  {
   "cell_type": "markdown",
   "id": "ae7b1418",
   "metadata": {},
   "source": [
    "now due to 9.20 we know that in our case of A here, $\\bar h = h$ so the distortion IS the plane wave. However, there's a pesky i in it, and the indeces are in the wrong spot. Let's expand it into trig form and see what happens.\n",
    "\n",
    "$h^{\\alpha\\beta} = A^{\\alpha\\beta} cos(k_\\mu x^\\mu) + A^{\\alpha\\beta} i sin(k_\\mu x^\\mu)$\n",
    "\n",
    "Now we know k has to be a null vector, and that $k_\\alpha x^\\alpha$ is a constant. Physically, the cartesian components of k are hte direction of travel, which we know is z so the xy portions are just zero. Thus it only has t and z components. In order for the vector one-form to be null, it's self-dot-product has to be zero, meaning the two components are related. Since the t component is $\\omega$, this means the z component is $\\pm\\omega$. The sign depends entirely on which direction the wave is going, forward or backward. (This is essentially the statement of 9.10). This gives us an interior to the exponential of $i\\omega(t\\pm z)$. \n",
    "\n",
    "If we assume forward propogation (which is not unreasonable) then by necessity the unsure sign becomes a minus: after all, places \"further along\" will experience the distortion at a later time, thus it's effectively like starting later. $i\\omega(t - z)$.\n",
    "\n"
   ]
  },
  {
   "cell_type": "markdown",
   "id": "3dc90728",
   "metadata": {},
   "source": [
    "Now we have the proper interior. \n",
    "\n",
    "$$h^{\\alpha\\beta} = A^{\\alpha\\beta} cos(\\omega(t - z)) + A^{\\alpha\\beta} i sin(\\omega(t - z)) = A^{\\alpha\\beta} exp(i\\omega(t-z)) $$\n",
    "\n",
    "We can lower the indeces for free since we have an equality here. \n",
    "\n",
    "$$h_{\\alpha\\beta} = A_{\\alpha\\beta} cos(\\omega(t - z)) + A_{\\alpha\\beta} i sin(\\omega(t - z)) = A_{\\alpha\\beta} exp(i\\omega(t-z)) $$"
   ]
  },
  {
   "cell_type": "markdown",
   "id": "1cf24242",
   "metadata": {},
   "source": [
    "Now A is arbitrary and can, in fact, be complex. As mentioned on page 204, we use only the real part of this equation, allowing A to be complex, which means it can suck the i into itself while simultaneously making the sin function part the real part as A is, well, complex. \n",
    "\n",
    "$$h_{\\alpha\\beta} = A_{\\alpha\\beta} sin(\\omega(t - z))$$ \n",
    "\n",
    "Which only exists at xx and yy as we discussed before. This is exactly the relation $h_+ = A_{xx} sin(\\omega(t - z))$ that we were looking for. \n",
    "\n",
    "We are very, very suspicious of this last step here. *Very* suspicious. "
   ]
  },
  {
   "cell_type": "markdown",
   "id": "8a3e6347",
   "metadata": {},
   "source": [
    "*b) Show that this wave does not change proper separations of free particles if they are aligned along a line bisecting the angle between the x and y axes.*"
   ]
  },
  {
   "cell_type": "markdown",
   "id": "2fcd29b2",
   "metadata": {},
   "source": [
    "Visually this is obviously true, but mathematically?\n",
    "\n",
    "With the geodesic definition we realize that $\\xi = (0,\\epsilon,\\epsilon,0)$, not $(0,\\epsilon,0,0)$ which means the result is slightly different. This turns 9.26 into\n",
    "\n",
    "$$ \\frac{\\partial^2}{\\partial t^2} \\xi^\\alpha = -\\epsilon(R^\\alpha_{0x0} + R^\\alpha_{0y0}) $$\n",
    "\n",
    "Which... seems to NOT go to zero... "
   ]
  },
  {
   "cell_type": "markdown",
   "id": "d3f86496",
   "metadata": {},
   "source": [
    "*c) Show that a plane wave with $A_{xx}=0$ in 9.21 has the metric*\n",
    "\n",
    "$$ ds^2 = -dt^2 + dx^2 + 2h_x dxdy + dy^2 + dz^2 $$\n",
    "\n",
    "*where $h_x = A_{xy} sin(\\omega(t-z))$*"
   ]
  },
  {
   "cell_type": "markdown",
   "id": "0c576e9b",
   "metadata": {},
   "source": [
    "Same as a), except the two diagonal terms are the same so they add, producing the 2, and they add away from the default metric so there's no 1+h term. "
   ]
  },
  {
   "cell_type": "markdown",
   "id": "f9f2e6f7",
   "metadata": {},
   "source": [
    "*d) Show that the wave in c) does not change proper separations of free particles if they are aligned along the coordinate axes.*"
   ]
  },
  {
   "cell_type": "markdown",
   "id": "4cf514fc",
   "metadata": {},
   "source": [
    "Same problem as b, if the xx and yy locaitons are zero, nothing cancels. Eh?"
   ]
  },
  {
   "cell_type": "markdown",
   "id": "62eb5b1b",
   "metadata": {},
   "source": [
    "*e) Show that the wave in c) produces an elliptical distortion of the circle that is rotated by 45 degrees to that of the wave in a).*"
   ]
  },
  {
   "cell_type": "markdown",
   "id": "47076adc",
   "metadata": {},
   "source": [
    "This, meanwhile, is obvious and not worth doing, since the 45 degree turn is evident in the shape of the matrix and is also outright stated elswhere in the relation between teh various coefficients. "
   ]
  },
  {
   "cell_type": "markdown",
   "id": "16d7cb87",
   "metadata": {},
   "source": [
    "<a id='P15'></a>\n",
    "\n",
    "# Problem 15 \\[Back to [top](#toc)\\]\n",
    "$$\\label{P15}$$\n",
    "\n",
    "Skipped, its just pointing out that linear polarization is not the only kind. Circular polarization rotates particles without changing their relative distance. Eliptical polarization is a genrealization of all of these that can take any type of polarization of the wave. "
   ]
  },
  {
   "cell_type": "markdown",
   "id": "75344ebb",
   "metadata": {},
   "source": [
    "<a id='P16'></a>\n",
    "\n",
    "# Problem 16 \\[Back to [top](#toc)\\]\n",
    "$$\\label{P16}$$\n",
    "\n",
    "Skipped. Just more reinforcement of the fact that orthogonal polarizations are 45 degrees off of each other. "
   ]
  },
  {
   "cell_type": "markdown",
   "id": "dd5fb8c9",
   "metadata": {},
   "source": [
    "<a id='P17'></a>\n",
    "\n",
    "# Problem 17-25 \\[Back to [top](#toc)\\]\n",
    "$$\\label{P17}$$\n",
    "\n",
    "Skipped. ALL of this is just proving relations for the resonant detector of gravitational waves, even though yes they obviously should work simply from the work we've done before: the proper distance between the two particles on the spring is adjusted, \"seen\" as a gravitational force acting on them, and the other force is the spring force pulling them back.\n",
    "\n",
    "However, as this is an entire section, we should go over it a little more carefully to see what insights we can glean from it. Perhaps work a problem where a step doesn't make sense. Consider this the Self-Understanding Challenge. "
   ]
  },
  {
   "cell_type": "markdown",
   "id": "c822454b",
   "metadata": {},
   "source": [
    "For reference the section starts on page 215. \n",
    "\n",
    "The situation is that of two free qual masses on a spring. The equation of motion for a spring is derived from F = -kx, though in this case the damping constant v is added (internal friction of the spring) and we eventually put everything in terms of the separation distance $\\xi$ to remove all ambiguity. This is 9.36 and it is a tad awkward to look at but it has the bennefit of being highly specific. \n",
    "\n",
    "The first argument in the section is that we can use the TT coordinates without a problem, as the gravitational forces induced will not push things \"off\" the coordinates enough as the influences will be of order $h^2.$ Keep in mind the particles are definitely not stationary as the spring is going to pull them back and forth all over the place. Basically consider the gravitational forces *to be* the gague transformation. \n",
    "\n",
    "The second argument is that all motions are slow. Which, to be fair, is generally true for gravity waves given their really long wavelengths. (Order of seconds at light speed equates to REALLY long distances, do you have any idea how long a light-second is?) All this to say is that the gravitational force isn't going to do much directly. However, the proper extension it tries to enforce on the *spring* will do stuff. We grab the stretch from the earlier equations and use it to rewrite the earlier equations of motion for the particles.\n",
    "\n",
    "Then we apply the definition of stretch, which is then equated back to the other equations to derive a relation between teh stretch and the h-xx portion of the h-metric. Notably we are going in exactly one direction here so this is simpler than usual, but that's fine. \n",
    "\n",
    "The result is a forced damped harmonic oscillator. \n",
    "\n",
    "Which is of course what we would have gotten, what else could it have been? \n",
    "\n",
    "All in all this gives us the impression of not having a complicated enough understanding of harmonic oscillators to really work this out on our own, at least in any rasonable amount of time, even if the answers are obvious. \n",
    "\n",
    "Detectors of this sort that operate based on resonance would be best if they chose a specific resonant frequency that correlated to what they wanted to detect, because resulting interacitons would be stronger and easier to detect. \n",
    "\n",
    "But yeah these sorts of detectors aren't used anymore so we think the details of the calculations can be left for now. \n",
    "\n",
    "Meanwhile measuring things with light may be more relevant..."
   ]
  },
  {
   "cell_type": "markdown",
   "id": "53839942",
   "metadata": {},
   "source": [
    "<a id='P26'></a>\n",
    "\n",
    "# Problem 26 \\[Back to [top](#toc)\\]\n",
    "$$\\label{P26}$$\n",
    "\n",
    "*a) Use the metric for a plane wave with '+' polarization 9.58 to show that the square of the coordinate speed in the TT coordinate system of a photon moving in the x direction is $(\\frac{dx}{dt})^2 = \\frac{1}{1+h_+}$. This is not identically one. Does this violate relativity? Why or why not?*"
   ]
  },
  {
   "cell_type": "markdown",
   "id": "25db9204",
   "metadata": {},
   "source": [
    "So with dy and dz being zero, the metric tells us that:\n",
    "\n",
    "$$ ds^2 = -dt^2 + (1+h_+)dx^2 $$\n",
    "$$ \\Rightarrow ds^2 + dt^2 = (1+h_+)dx^2 $$\n",
    "$$ \\Rightarrow \\frac{ds^2}{dt^2} + 1 = (1+h_+)\\frac{dx^2}{dt^2} $$\n",
    "$$ \\Rightarrow \\frac{ds^2}{dt^2 (1+h_+)} + \\frac{1}{(1+h_+)} = \\frac{dx^2}{dt^2} $$"
   ]
  },
  {
   "cell_type": "markdown",
   "id": "4113ad2d",
   "metadata": {},
   "source": [
    "Now clearly that first term has to go to zero. However, photons always travel along null world lines, which mean $ds^2=0$ no matter what, so it vanishes.\n",
    "\n",
    "$$ \\Rightarrow \\frac{1}{(1+h_+)} = \\frac{dx^2}{dt^2} $$"
   ]
  },
  {
   "cell_type": "markdown",
   "id": "87ba8c20",
   "metadata": {},
   "source": [
    "This does not violate relativity as it is a coordinate speed. Space is stretching and contracting here. However, to gain a better understanding of this, we turn to [1](#1). Which points out, qutie simply, that our reference here is not an inertial frame. In fact, we recall that photons cannot have an inertial reference frame! So yeah, that makes sense.\n",
    "\n",
    "For illustration, define a coordinate system where the earth is stationary. The stars move around Earth at light years per second. This does not violate relativity. "
   ]
  },
  {
   "cell_type": "markdown",
   "id": "e76824f8",
   "metadata": {},
   "source": [
    "*b) Imagine that an experimenter at the center of hte circle of particles in Fig 9.1 sends a photon to the particle on the circle at coordinate location x=L on the positive-x axis, and that the photon is reflected when it reaches the particle and returns to the experimenter. Suppose further that this takes such a short time that $h_+$ does not change significantly during the experiment. To first order in $h_+$, show that the experimenter's proper time that elabses between sending out the photon and receiving it back is $(2+h_+)L$*"
   ]
  },
  {
   "cell_type": "markdown",
   "id": "eb6629ee",
   "metadata": {},
   "source": [
    "So, we have a speed, and that speed is $\\sqrt{\\frac{1}{1+h_+}}$. Time taken to go a distane is L / v, or in this case we end up with $L \\sqrt{1+h_+}$ for one way, multiplied by 2 for the round trip. \n",
    "\n",
    "$$2 L \\sqrt{1+h_+}$$\n",
    "\n",
    "Since $h_+$ is small we use the square root approximation which to lowest order is\n",
    "\n",
    "$$2 L (1+h_+/2)$$\n",
    "\n",
    "Which indeed is what we sought. "
   ]
  },
  {
   "cell_type": "markdown",
   "id": "86bff6d7",
   "metadata": {},
   "source": [
    "*c) The experimenter says that this proves that the proper distance between herself and the particle is $(1+h_+/2)L$. Is this a correct interpretation of her experiment? If the experimenter uses an alternative measuring process for proper distance, such as laying out a number of standard meter sticks between her location and the particle, would that produce the same answer? Why or why not?*"
   ]
  },
  {
   "cell_type": "markdown",
   "id": "61f00901",
   "metadata": {},
   "source": [
    "This is correct, as outlined on page 220 the method for finding the distance is essentially the same as for normal radar. Of course, this hangs entirely on the fact that the h-metric's rate of change is slow in relation to the speed of light itself. \n",
    "\n",
    "Now the curious thing is that using rulers also works just fine, but only because of the electromagnetic forces between atoms in the ruler--as mentioned earlier in the chapter, in practice the actual physical bulk of objects do not warp in gravity waves as the EM forces are so much larger. Light, meanwhile, is not feeling any of those so it is free to be shifted by the gravity waves. This means the light *sees* more or less distance than was originally in L. Meanwhile the rulers will also see more or less distance--they themselves may be stationary, but the point they measure will wobble. Assuming weak gravity waves, the effects should be the same. "
   ]
  },
  {
   "cell_type": "markdown",
   "id": "1c9af8fe",
   "metadata": {},
   "source": [
    "*d) Show that if hte experimenter simultaneously does the same experiment with a particle on the y-axis at y=L, that photon will return after a proper time of $(2-h_+)L$*"
   ]
  },
  {
   "cell_type": "markdown",
   "id": "90025f73",
   "metadata": {},
   "source": [
    "Trivial, just replace the minus with a plus for part a) "
   ]
  },
  {
   "cell_type": "markdown",
   "id": "2600fdcd",
   "metadata": {},
   "source": [
    "*e) The difference in these return times is $2h_+L$ and can be used to measure the wave amplitude. Does this result depend on our use of TT gauge, ie, would we have obtained the same answer had we used a different coordinate system?*"
   ]
  },
  {
   "cell_type": "markdown",
   "id": "5cc404c4",
   "metadata": {},
   "source": [
    "We are measuring proper distance here; so the answer will always be the same. The powerful trick here is that it works no matter where you are, as light always follows null vectors and is the same in all reference frames: it will reveal the proper distance between objects no matter what. ...Well, barring interference. And gravity waves that aren't strong. "
   ]
  },
  {
   "cell_type": "markdown",
   "id": "303336fe",
   "metadata": {},
   "source": [
    "<a id='P27'></a>\n",
    "\n",
    "# Problem 27 \\[Back to [top](#toc)\\]\n",
    "$$\\label{P27}$$\n",
    "\n",
    "*a) Derive the full three-term relation 9.63 for the rate of change of the return time for a beam traveling through a plane wave $h_+$ along the x-direction, when the wave is moving at an angle $\\theta$ to the z-axis in the xz plane.*"
   ]
  },
  {
   "cell_type": "markdown",
   "id": "c425aab7",
   "metadata": {},
   "source": [
    "*b) Show that in the limit where L is small compared to a wavelength of the gravitational wave, the derivative of the return time is the derivative of $t+\\delta L$, where $\\delta L = Lcos^2\\theta h(t)$ is the excess proper distance for small L. Explain where the factor of $cos^2\\theta$ comes from.*"
   ]
  },
  {
   "cell_type": "markdown",
   "id": "bc681b77",
   "metadata": {},
   "source": [
    "*c) Examine the limit of the three-term formula in a) when the gravitational wave is traveling along the x-axis too ($\\theta = \\pm \\pi/2$): what happens to light going parallel to a gravitational wave?*"
   ]
  },
  {
   "cell_type": "markdown",
   "id": "df50096e",
   "metadata": {},
   "source": [
    "<a id='latex_pdf_output'></a>\n",
    "\n",
    "# Addendum: Output this notebook to $\\LaTeX$-formatted PDF file \\[Back to [top](#toc)\\]\n",
    "$$\\label{latex_pdf_output}$$\n",
    "\n",
    "The following code cell converts this Jupyter notebook into a proper, clickable $\\LaTeX$-formatted PDF file. After the cell is successfully run, the generated PDF may be found in the root NRPy+ tutorial directory, with filename\n",
    "[GR-09.pdf](GR-09.pdf) (Note that clicking on this link may not work; you may need to open the PDF file through another means.)\n",
    "\n",
    "**Important Note**: Make sure that the file name is right in all six locations, two here in the Markdown, four in the code below. \n",
    "\n",
    "* GR-09.pdf\n",
    "* GR-09.ipynb\n",
    "* GR-09.tex"
   ]
  },
  {
   "cell_type": "code",
   "execution_count": 1,
   "id": "abf583ef",
   "metadata": {
    "scrolled": false
   },
   "outputs": [
    {
     "name": "stdout",
     "output_type": "stream",
     "text": [
      "Created GR-08.tex, and compiled LaTeX file to PDF file GR-08.pdf\n"
     ]
    }
   ],
   "source": [
    "import cmdline_helper as cmd    # NRPy+: Multi-platform Python command-line interface\n",
    "cmd.output_Jupyter_notebook_to_LaTeXed_PDF(\"GR-09\")"
   ]
  },
  {
   "cell_type": "code",
   "execution_count": null,
   "id": "d0d0db4d",
   "metadata": {},
   "outputs": [],
   "source": []
  },
  {
   "cell_type": "code",
   "execution_count": null,
   "id": "41264965",
   "metadata": {},
   "outputs": [],
   "source": []
  }
 ],
 "metadata": {
  "kernelspec": {
   "display_name": "Python 3 (ipykernel)",
   "language": "python",
   "name": "python3"
  },
  "language_info": {
   "codemirror_mode": {
    "name": "ipython",
    "version": 3
   },
   "file_extension": ".py",
   "mimetype": "text/x-python",
   "name": "python",
   "nbconvert_exporter": "python",
   "pygments_lexer": "ipython3",
   "version": "3.10.4"
  }
 },
 "nbformat": 4,
 "nbformat_minor": 5
}
