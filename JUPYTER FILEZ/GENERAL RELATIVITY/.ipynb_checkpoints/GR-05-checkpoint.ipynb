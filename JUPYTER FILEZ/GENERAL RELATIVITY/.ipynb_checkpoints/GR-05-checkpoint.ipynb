{
 "cells": [
  {
   "cell_type": "markdown",
   "id": "0c1bfe81",
   "metadata": {},
   "source": [
    "# GR05: Preface to Curvature\n",
    "**Gabriel M Steward**"
   ]
  },
  {
   "cell_type": "markdown",
   "id": "381338e7",
   "metadata": {},
   "source": [
    "## Problem 1\n",
    "\n",
    "*Repeat the argument that led to 5.1 under more realistic assumptions: suppose a fraction $\\epsilon$ of the kinetic energy of the mass at the bottom can be converted into a photon and sent back up, the remaining energy staying at ground level in a useful form. Devise a perpetual motion engine if 5.1 is violated.*"
   ]
  },
  {
   "cell_type": "markdown",
   "id": "ea4b1893",
   "metadata": {},
   "source": [
    "So the argument goes like this: someone drops a particle of mass m from the a tower of height h. The particle falls freely with acceleration g, reaching a velocity of v=$\\sqrt{2gh}$. The total energy in the small-v approximation (which we expect to be if g is treated as constant) is $m+\\frac{mv^2}{2}$. So far everything is the same as before. \n",
    "\n",
    "The original experiment has the observer on the ground convert all the energy into a photon that's pointed directly upward. Then the person at the top of the tower takes the energy that went upward and converts it back into mass.\n",
    "\n",
    "The crux of the argument is that we gained energy by falling, but photons don't loose energy as they climb, so the photon arrives at the top with more energy than it started, and we create new mass out of nothing. This naturally does not happen since there is a redshift in photons as they climb gravitaitonal fields--but what if we allow for imperfect mass-energy conversion? "
   ]
  },
  {
   "cell_type": "markdown",
   "id": "bea06279",
   "metadata": {},
   "source": [
    "The fraction converted is $\\epsilon$. We note that this still causes a violation--even though we don't get all the mass we dropped back, we should expect to get $\\epsilon m$ back, but we'll get more than that as the energy is m+kinetic terms. However, even though this is a clear violation, can we really construct perpetual motion out of it? If $\\epsilon$ is high, we can be burning about 90% of our energy every drop. "
   ]
  },
  {
   "cell_type": "markdown",
   "id": "b41f1043",
   "metadata": {},
   "source": [
    "Let's run the thought experiment a bit. Let's say we really do lose 90% energy in the conversion and. We drop a ball of mass m. When it reaches the ground it has energy of m + K. When we convert it into energy and send it back up, it becomes 0.1m +0.1K. When we convert it back at the top, we have 0.1m, but we also have extra energy 0.1K. If we were to carry this task out to infinity (assuming we could) we would end up with 0.11111... K extra energy after burning the ball into \"nothing.\" "
   ]
  },
  {
   "cell_type": "markdown",
   "id": "d3bc8e22",
   "metadata": {},
   "source": [
    "Now, if we could turn 0.11111... K into more mass than we started with, we would be cooking. Unfortunately k's maximum value is m/2, so that's just not possible. However, for low values of epsilon it is clearly going to produce more energy than we need... right? \n",
    "\n",
    "Well, let's try a itny epsilon, see how it goes. The final K would be $\\sum (1-\\epsilon)^n K$ If epsilon is tiny, this blows up to infinity. But where is the bondary where it stops?\n",
    "\n",
    "Using geogebra the boundary appears to be $\\epsilon = 0.5$, where the sum to infinity produces 1K at the end. Anything lower than 50% efficiency is going to produce more than 1K of extra energy. We can then turn this extra energy into mass and then keep dropping more and more and produce infinite power. \n",
    "\n",
    "Very high efficiency mass-energy conversion does exist. Antimatter reactions come to mind. Allowing for minor inefficiencies in the mechanism, we could still trigger a matter-antimatter annihilation at the base of the tower and shoot the photons back up. (How they're converted BACK we won't concern ourselves with, and also doesn't matter, as we'll have gotten back more kinetic energy than mass, and we can use that power for something). \n",
    "\n",
    "Curiously, the efficiency could be even lower than 50%, because that's just what we get to get more K value. The ACTUAL limit would be $m = \\epsilon m + \\epsilon K \\Rightarrow (1-\\epsilon)m = \\epsilon K$ is the point at which we get an equal return on investment. But at this point I think we get the idea and move on. \n",
    "\n",
    "Keep in mind that a nuclear reactor would only have 0.1% efficiency, a bit too low to make use of this. Plus, not as easy to make work via falling, like antimatter would be. \n",
    "\n",
    "...reiterating, this wouldn't actually work due to photonic redshift. \n",
    "\n",
    "NOTE: shoddy math above, realized it later. Concept still works, though. "
   ]
  },
  {
   "cell_type": "markdown",
   "id": "f7e92666",
   "metadata": {},
   "source": [
    "## Problem 2\n",
    "\n",
    "*Explain why a **uniform** external gravitaitonal field would raise no tides on earth.*\n",
    "\n",
    "Simple. Tides arise due to a differential, one end is being pulled more than the other, which is where the tides come from. If there's no differential every poriton is being pulled the same way at the same time, so there can be no difference in force between any part of them. \n",
    "\n",
    "Astrophysics for the win!"
   ]
  },
  {
   "cell_type": "markdown",
   "id": "82403d05",
   "metadata": {},
   "source": [
    "## Problem 3\n",
    "\n",
    "*a) Show that the coordinate transformation $(x,y) -> (\\xi,\\eta)$ with $\\xi = x$ and $\\eta = 1$ violates 5.6*"
   ]
  },
  {
   "cell_type": "markdown",
   "id": "d76a8cf5",
   "metadata": {},
   "source": [
    "Ah our good friend the jacobian, how I missed you. \n",
    "\n",
    "$$ det \\begin{bmatrix}\n",
    "\\partial\\xi/\\partial x & \\partial\\xi/\\partial y \\\\ \n",
    "\\partial\\eta/\\partial x & \\partial\\eta/\\partial y \n",
    "\\end{bmatrix} $$\n",
    "\n",
    "If the jacobian is zero, bad things. If it's not zero, good things! \n",
    "\n",
    "For the setup given above we have:\n",
    "\n",
    "$$ det \\begin{bmatrix}\n",
    "1 & 0 \\\\ \n",
    "0 & 0 \n",
    "\\end{bmatrix} = 0 $$\n",
    "\n",
    "Mmm yep, that ain't good, chief. "
   ]
  },
  {
   "cell_type": "markdown",
   "id": "851189c9",
   "metadata": {},
   "source": [
    "*b) Are the following coordinate transformations good ones? Compute the Jacobian and list any points at which the transformations fail.*\n",
    "\n",
    "*i) $\\xi = (x^2+y^2)^{1/2}, \\eta = arctan(y/x)$*"
   ]
  },
  {
   "cell_type": "markdown",
   "id": "e04e9782",
   "metadata": {},
   "source": [
    "Oh Jacobian, what do you say?\n",
    "\n",
    "$$ det \\begin{bmatrix}\n",
    "\\frac{x}{\\sqrt{x^2+y^2}} & \\frac{y}{\\sqrt{x^2+y^2}} \\\\ \n",
    "\\frac{-y}{x^2+y^2} & \\frac{x}{x^2+y^2} \n",
    "\\end{bmatrix} = \\frac{x^2}{(x^2+y^2)^{3/2}} + \\frac{y^2}{(x^2+y^2)^{3/2}} = \\frac{x^2+y^2}{(x^2+y^2)^{3/2}} = \\frac{1}{\\sqrt{x^2+y^2}} $$"
   ]
  },
  {
   "cell_type": "markdown",
   "id": "7501bf0f",
   "metadata": {},
   "source": [
    "This seems really good, actually. Only awkward point is x=y=0. Which, yeah, the center of polar coordinates has always been annoying. (What *does* a determinant that approahces infinity even mean...?)"
   ]
  },
  {
   "cell_type": "markdown",
   "id": "dfe9322a",
   "metadata": {},
   "source": [
    "*ii) $\\xi = lnx, \\eta = y$*"
   ]
  },
  {
   "cell_type": "markdown",
   "id": "4fdfb5a5",
   "metadata": {},
   "source": [
    "$$ det \\begin{bmatrix}\n",
    "1/x & 0 \\\\ \n",
    "0 & 1 \n",
    "\\end{bmatrix} = 1/x $$\n",
    "\n",
    "Coordinate transforms just fine. Though we have a discontinuity at x=0. Again. This is just the definition of a logarithmic scale. "
   ]
  },
  {
   "cell_type": "markdown",
   "id": "e7c46f1a",
   "metadata": {},
   "source": [
    "*iii) $\\xi = arctan(y/x), \\eta = (x^2+y^2)^{-1/2}$*"
   ]
  },
  {
   "cell_type": "markdown",
   "id": "69fe259d",
   "metadata": {},
   "source": [
    "$$ det \\begin{bmatrix}\n",
    "\\frac{-y}{x^2+y^2} & \\frac{x}{x^2+y^2} \\\\ \n",
    "\\frac{-x}{(x^2+y^2)^{3/2}} & \\frac{-y}{(x^2+y^2)^{3/2}} \n",
    "\\end{bmatrix} = \\frac{y^2}{(x^2+y^2)^{2}} + \\frac{x^2}{(x^2+y^2)^2} = \\frac{1}{x^2+y^2}  $$"
   ]
  },
  {
   "cell_type": "markdown",
   "id": "fb094bb1",
   "metadata": {},
   "source": [
    "Still works, not sure what coordinate system it represents though. Once again we only have an issue at x=y=0. "
   ]
  },
  {
   "cell_type": "markdown",
   "id": "0b6e7b5a",
   "metadata": {},
   "source": [
    "## Problem 4\n",
    "\n",
    "*A curve is defined by {$x=f(\\lambda), y=g(\\lambda), 0\\leq \\lambda \\leq 1$}. Show that the tangent vector $(dx/d\\lambda, dy/d\\lambda)$ does actually lie tangent to the curve.*"
   ]
  },
  {
   "cell_type": "markdown",
   "id": "6ffdc419",
   "metadata": {},
   "source": [
    "I might be able to prove this just by memory from math clases. Each derivative can be thought of as the velocity in that direction--velocity of x, velocity of y. Velocities point in the direction of motion, and a conitnuous curve will trace out the motion. So uh. yeah. \n",
    "\n",
    "There's probably a more mathematical way to put this but physics brain like physics way. "
   ]
  },
  {
   "cell_type": "markdown",
   "id": "d9e0770a",
   "metadata": {},
   "source": [
    "## Problem 5\n",
    "\n",
    "*Sketch the following curves. Which have the same paths? Find also their tangent vectors where the parameter equals zero.*\n",
    "\n",
    "Oooooh CODING TIME! For each of the curves the curve itself will be plotted, as well as the 0,0 point. \n",
    "\n",
    "*a) $x=sin\\lambda, y=cos\\lambda*. This is obviously giong to be a circle. "
   ]
  },
  {
   "cell_type": "code",
   "execution_count": 1,
   "id": "0240c8a6",
   "metadata": {},
   "outputs": [
    {
     "data": {
      "image/png": "[encoded data removed]",
      "text/plain": [
       "<Figure size 720x720 with 1 Axes>"
      ]
     },
     "metadata": {
      "needs_background": "light"
     },
     "output_type": "display_data"
    }
   ],
   "source": [
    "import matplotlib.pyplot as plt\n",
    "import numpy as np\n",
    "t=np.arange(-5.0,5.0,0.2) # The \"ticker\", adjust for precision. \n",
    "\n",
    "plt.figure(figsize=(10,10)) #make it larger\n",
    "plt.gca().set_aspect('equal') #make it square so the axes are easier to see.\n",
    "\n",
    "plt.xlabel(\"x (m)\")\n",
    "plt.ylabel(\"t (m)\")\n",
    "\n",
    "plt.axis([-2,2,-2,2])\n",
    "\n",
    "plt.axvline(x=0,color='black')\n",
    "plt.axhline(y=0,color='black') #add central axes\n",
    "\n",
    "plt.plot(np.sin(t),np.cos(t),'blue')\n",
    "plt.plot(np.sin(0),np.cos(0),'or')\n",
    "\n",
    "plt.show()\n"
   ]
  },
  {
   "cell_type": "markdown",
   "id": "82b06971",
   "metadata": {},
   "source": [
    "Prediction correct, is circle. \n",
    "\n",
    "Tangent vector is (cos,-sin) or (1,0), straight to the right. \n",
    "\n",
    "*b) $x=cos(2\\pi t^2), y=sin(2 \\pi t^2 + \\pi)$*\n",
    "\n",
    "This will also be a circle but the direction will be different. "
   ]
  },
  {
   "cell_type": "code",
   "execution_count": 2,
   "id": "a3a8cee6",
   "metadata": {},
   "outputs": [
    {
     "data": {
      "image/png": "[encoded data removed]",
      "text/plain": [
       "<Figure size 720x720 with 1 Axes>"
      ]
     },
     "metadata": {
      "needs_background": "light"
     },
     "output_type": "display_data"
    }
   ],
   "source": [
    "import matplotlib.pyplot as plt\n",
    "import numpy as np\n",
    "t=np.arange(-5.0,5.0,0.0001) # The \"ticker\", adjust for precision. \n",
    "\n",
    "plt.figure(figsize=(10,10)) #make it larger\n",
    "plt.gca().set_aspect('equal') #make it square so the axes are easier to see.\n",
    "\n",
    "plt.xlabel(\"x (m)\")\n",
    "plt.ylabel(\"t (m)\")\n",
    "\n",
    "plt.axis([-2,2,-2,2])\n",
    "\n",
    "plt.axvline(x=0,color='black')\n",
    "plt.axhline(y=0,color='black') #add central axes\n",
    "\n",
    "plt.plot(np.cos(2*3.1415*t**2),np.sin(2*3.1415*t**2 + 3.1415),'blue')\n",
    "plt.plot(np.cos(0),np.sin(3.1415),'or')\n",
    "\n",
    "plt.show()"
   ]
  },
  {
   "cell_type": "markdown",
   "id": "e8b5de12",
   "metadata": {},
   "source": [
    "Direction is (-sin, cos) so (0,1) which is to say up from the point. This is in fact the other direction as the previous one. \n",
    "\n",
    "Also this one needs too many sample points to be done nicely, prefer the other definition for drawing it. \n",
    "\n",
    "*c) x=s, y=s+4.*\n",
    "\n",
    "Just going to be an offset line. "
   ]
  },
  {
   "cell_type": "code",
   "execution_count": 3,
   "id": "a8969640",
   "metadata": {},
   "outputs": [
    {
     "data": {
      "image/png": "[encoded data removed]",
      "text/plain": [
       "<Figure size 720x720 with 1 Axes>"
      ]
     },
     "metadata": {
      "needs_background": "light"
     },
     "output_type": "display_data"
    }
   ],
   "source": [
    "import matplotlib.pyplot as plt\n",
    "import numpy as np\n",
    "t=np.arange(-7.0,7.0,0.2) # The \"ticker\", adjust for precision. \n",
    "\n",
    "plt.figure(figsize=(10,10)) #make it larger\n",
    "plt.gca().set_aspect('equal') #make it square so the axes are easier to see.\n",
    "\n",
    "plt.xlabel(\"x (m)\")\n",
    "plt.ylabel(\"t (m)\")\n",
    "\n",
    "plt.axis([-6,6,-6,6])\n",
    "\n",
    "plt.axvline(x=0,color='black')\n",
    "plt.axhline(y=0,color='black') #add central axes\n",
    "\n",
    "plt.plot(t,t+4,'blue')\n",
    "plt.plot(0,4,'or')\n",
    "\n",
    "plt.show()\n"
   ]
  },
  {
   "cell_type": "markdown",
   "id": "c5f27601",
   "metadata": {},
   "source": [
    "Tangent vector is (1,1). Right along the line, upward. \n",
    "\n",
    "*d) $x=s^2, y=-(s-2)(s+2)$*\n",
    "\n",
    "hmm, double quadratic. Perhaps an ellipse? conic section? I'm curious, let's see."
   ]
  },
  {
   "cell_type": "code",
   "execution_count": 4,
   "id": "bb19781d",
   "metadata": {},
   "outputs": [
    {
     "data": {
      "image/png": "[encoded data removed]",
      "text/plain": [
       "<Figure size 720x720 with 1 Axes>"
      ]
     },
     "metadata": {
      "needs_background": "light"
     },
     "output_type": "display_data"
    }
   ],
   "source": [
    "import matplotlib.pyplot as plt\n",
    "import numpy as np\n",
    "t=np.arange(-5.0,5.0,0.2) # The \"ticker\", adjust for precision. \n",
    "\n",
    "plt.figure(figsize=(10,10)) #make it larger\n",
    "plt.gca().set_aspect('equal') #make it square so the axes are easier to see.\n",
    "\n",
    "plt.xlabel(\"x (m)\")\n",
    "plt.ylabel(\"t (m)\")\n",
    "\n",
    "plt.axis([-6,6,-6,6])\n",
    "\n",
    "plt.axvline(x=0,color='black')\n",
    "plt.axhline(y=0,color='black') #add central axes\n",
    "\n",
    "plt.plot(t**2,-(t-2)*(t+2),'blue')\n",
    "plt.plot(0,4,'or')\n",
    "\n",
    "plt.show()\n"
   ]
  },
  {
   "cell_type": "markdown",
   "id": "309514e3",
   "metadata": {},
   "source": [
    "Ah, it's a line, but it's a line that has no solutions along negative x at all. \n",
    "\n",
    "The tangent for the y component needs some calculating: (0,0) Oho! We start *stationary!* Null vector! Fascinating! However, by taking limits we can see that the total derivative is (2s,-2s) meaning there is a constant direction, but we're accelerating. \n",
    "\n",
    "*e) $x=\\mu$, y=1*\n",
    "\n",
    "A line across y=1."
   ]
  },
  {
   "cell_type": "code",
   "execution_count": 5,
   "id": "5492a497",
   "metadata": {},
   "outputs": [
    {
     "data": {
      "image/png": "[encoded data removed]",
      "text/plain": [
       "<Figure size 720x720 with 1 Axes>"
      ]
     },
     "metadata": {
      "needs_background": "light"
     },
     "output_type": "display_data"
    }
   ],
   "source": [
    "import matplotlib.pyplot as plt\n",
    "import numpy as np\n",
    "t=np.arange(-5.0,5.0,0.2) # The \"ticker\", adjust for precision. \n",
    "\n",
    "plt.figure(figsize=(10,10)) #make it larger\n",
    "plt.gca().set_aspect('equal') #make it square so the axes are easier to see.\n",
    "\n",
    "plt.xlabel(\"x (m)\")\n",
    "plt.ylabel(\"t (m)\")\n",
    "\n",
    "plt.axis([-2,2,-2,2])\n",
    "\n",
    "plt.axvline(x=0,color='black')\n",
    "plt.axhline(y=0,color='black') #add central axes\n",
    "\n",
    "plt.plot(t,t-t+1,'blue') #haven't the foggiest idea why I can't just put in a constant here. \n",
    "plt.plot(0,1,'or')\n",
    "\n",
    "plt.show()\n"
   ]
  },
  {
   "cell_type": "markdown",
   "id": "ddc0a422",
   "metadata": {},
   "source": [
    "Velocity is pretty clearly always (1,0)"
   ]
  },
  {
   "cell_type": "markdown",
   "id": "21352863",
   "metadata": {},
   "source": [
    "## Problem 6\n",
    "\n",
    "*Justify the pictures in fig 5.5*"
   ]
  },
  {
   "cell_type": "markdown",
   "id": "11d25687",
   "metadata": {},
   "source": [
    "Simple: for the vectors, they point in the direction of \"increasing\" r or theta. In the case of r, they all can trace back to pointing away from the origin, while theta is 90 degrees offset from this. \n",
    "\n",
    "One-forms in physical space are drawn over the vectors, so they \"point\" in the same direciton as a series of lines of equivalent separation. Further out the theta unit vector is longer. \n",
    "\n",
    "Curiously if we drew all the one forms of r at a certain theta we would nend up with circles. Fun. \n"
   ]
  },
  {
   "cell_type": "markdown",
   "id": "d1cf64f4",
   "metadata": {},
   "source": [
    "## Problem 7\n",
    "\n",
    "*Calculate all elements of the transform matrices $\\Lambda^{\\alpha'}_\\beta$ and $\\Lambda^{\\mu}_{\\nu'}$ for the transformation from cartesian (x,y) - the unprimed indeces - to polar (r,$\\theta$), - the primed indices.*\n",
    "\n"
   ]
  },
  {
   "cell_type": "markdown",
   "id": "85e0e49b",
   "metadata": {},
   "source": [
    "All right so it appears we originally completley misunderstood this problem which at first seems simple, so we need to be EXTREMELY careful. \n",
    "\n",
    "It seems like we have these already, and if we do the Jacobians for cartesian-to-polar and polar-to-cartesian, we get:\n",
    "\n",
    "$$ \\begin{bmatrix}\n",
    "\\frac{x}{\\sqrt{x^2+y^2}} & \\frac{y}{\\sqrt{x^2+y^2}} \\\\ \n",
    "\\frac{-y}{x^2+y^2} & \\frac{x}{x^2+y^2} \n",
    "\\end{bmatrix} $$\n",
    "\n",
    "$$ \\begin{bmatrix}\n",
    "cos\\theta & -rsin\\theta \\\\ \n",
    "sin\\theta & rcos\\theta \n",
    "\\end{bmatrix} $$\n",
    "\n",
    "Which can also be noted from the relations on page 118 and 122."
   ]
  },
  {
   "cell_type": "markdown",
   "id": "c569afab",
   "metadata": {},
   "source": [
    "We do note that this is a weakness here.. Polar coordinates have an angle range of 0 to $2\\pi$ (which can be adjusted to $\\pm\\pi$), but atan can only produce values from $-\\pi/2$ to $\\pi/2$\n",
    "\n",
    "In fact, we find that for the full circle we have:\n",
    "\n",
    "https://en.wikipedia.org/wiki/Polar_coordinate_system\n"
   ]
  },
  {
   "attachments": {
    "Screenshot%20from%202022-05-26%2010-45-52.png": {
     "image/png": "[encoded data removed]"
    }
   },
   "cell_type": "markdown",
   "id": "cb4eee07",
   "metadata": {},
   "source": [
    "![Screenshot%20from%202022-05-26%2010-45-52.png](attachment:Screenshot%20from%202022-05-26%2010-45-52.png)"
   ]
  },
  {
   "cell_type": "markdown",
   "id": "22a33195",
   "metadata": {},
   "source": [
    "So basically the original one is immensely oversimplified. So we turn to the polar coordinate version of the same transformation, found by taking the inverse. \n",
    "\n",
    "$$ \\begin{bmatrix}\n",
    "cos\\theta & sin\\theta \\\\ \n",
    "(-1/r)sin\\theta & (1/r)cos\\theta \n",
    "\\end{bmatrix} $$\n",
    "\n",
    "http://math_research.uct.ac.za/omei/gr/chap6/node4.html"
   ]
  },
  {
   "cell_type": "markdown",
   "id": "1b1c5e3e",
   "metadata": {},
   "source": [
    "This is actually calculated the same way as the cartesion version, except being far more reasonable. And not working on an incorrect function. Now we actually have the matrices and can just... move on."
   ]
  },
  {
   "cell_type": "markdown",
   "id": "a67e48a5",
   "metadata": {},
   "source": [
    "## Problem 8\n",
    "\n",
    "*a) (Uses the result of **Problem 7**.) Let $f = x^2+y^2+2xy,$ and in Cartesian coordinates $\\vec{V} \\rightarrow (x^2+3y, y^2+3x), \\vec{W} \\rightarrow (1,1)$. Compute f as a funciton of r and $\\theta$, and find the components of $\\vec V$ and $\\vec W$ on the polar basis, expressing them as functions of r and $\\theta$.*"
   ]
  },
  {
   "cell_type": "markdown",
   "id": "1183511d",
   "metadata": {},
   "source": [
    "This problem was the source of grief, so we're doing it again. Time for round 2!\n",
    "\n",
    "First of all, the function f is rather easy, for it can be done by direct substitution rather than some funky matrix:\n",
    "\n",
    "$$ f = r^2cos^2\\theta + r^2sin^2\\theta + 2r^2sin\\theta cos\\theta $$\n",
    "$$ \\Rightarrow f = r^2 + 2r^2sin\\theta cos\\theta $$"
   ]
  },
  {
   "cell_type": "markdown",
   "id": "571a235d",
   "metadata": {},
   "source": [
    "Now, $\\vec W$ is actually much easier to think about. We think of it as a single vector, but we actually don't know *where* it is, so we have no choice but to treat it as a vector FIELD--one that's just exactly the same everywhere. (pointing up and to the right.)\n",
    "\n",
    "Now, while this vector field is constant in cartesian, it is NOT constant in polar. We apply the cartesian to polar matrix we got in **Problem 7** and get the curious vector:\n",
    "\n",
    "$$\\vec W = ( cos\\theta + sin\\theta , -(1/r)sin\\theta + (1/r)cos\\theta )$$\n",
    "\n",
    "Note that the angular component vanishes when sin = cos, which is exactly when radius portion would line up exactly with the vector given. "
   ]
  },
  {
   "cell_type": "markdown",
   "id": "8dbef3c5",
   "metadata": {},
   "source": [
    "Similarly, $\\vec V$ is also a vector field, though more explicitly. the relation we use is much the same:\n",
    "\n",
    "$$\\vec V = ( cos\\theta(x^2+3y) + sin\\theta(y^2+3x) , -(1/r)sin\\theta(x^2+3y) + (1/r)cos\\theta(y^2+3x) )$$"
   ]
  },
  {
   "cell_type": "markdown",
   "id": "f5d184a3",
   "metadata": {},
   "source": [
    "However we need this in polar, so we substitute the x and y ones into it. \n",
    "\n",
    "$$\\vec V = ( cos\\theta(r^2cos^2\\theta+3rsin\\theta) + sin\\theta(r^2sin^2\\theta+3rcos\\theta) , -(1/r)sin\\theta(r^2cos^2\\theta+3rsin\\theta) + (1/r)cos\\theta(r^2sin^2\\theta+3rcos\\theta))$$"
   ]
  },
  {
   "cell_type": "markdown",
   "id": "4fb196b5",
   "metadata": {},
   "source": [
    "$$\\vec V = ( r^2cos^3\\theta+3rcos\\theta sin\\theta + r^2sin^3\\theta+3rsin\\theta cos\\theta , -rsin\\theta cos^2\\theta-3sin^2\\theta + rcos\\theta sin^2\\theta+3cos^2\\theta)$$\n",
    "\n",
    "$$\\vec V = ( r^2cos^3\\theta+3rcos\\theta sin\\theta + r^2sin^3\\theta+3rsin\\theta cos\\theta , -rsin\\theta cos^2\\theta-3sin^2\\theta + rcos\\theta sin^2\\theta+3cos^2\\theta)$$"
   ]
  },
  {
   "cell_type": "markdown",
   "id": "44e44a54",
   "metadata": {},
   "source": [
    "Which, while not exactly the neatest hting ever, is certainly the correct answer. "
   ]
  },
  {
   "cell_type": "markdown",
   "id": "0c45b6b9",
   "metadata": {},
   "source": [
    "*b) Find the components of $\\tilde df$ in cartesian coordinates and obtain them in polars i) by direct calcluation in polars and ii) by transforming components from Cartesian.*"
   ]
  },
  {
   "cell_type": "markdown",
   "id": "1333abb5",
   "metadata": {},
   "source": [
    "First of all, for polar, use the result from a) for f and differentiate with respect to each of the polar coordinates. \n",
    "\n",
    "$$(2r+4rsin\\theta cos\\theta, 2r^2 (cos^2\\theta - sin^2\\theta)$$"
   ]
  },
  {
   "cell_type": "markdown",
   "id": "32eeb552",
   "metadata": {},
   "source": [
    "Cartesian: (2x+2y, 2y+2x). Curious. This vector field we have just defined poitns very strongly in the (1,1) direction, but it changes its strength as it goes. \n",
    "\n",
    "From part a) we actually already have f in polar coordinates, so its gradient in polar is... well I hope it's just differentiating with respect to r and then the angle to get\n",
    "\n",
    "Now let's see if this matches the other way. Conversion from Cartesian to Polar is given by:\n",
    "\n",
    "$$ \\begin{bmatrix}\n",
    "cos\\theta & sin\\theta \\\\ \n",
    "(-1/r)sin\\theta & (1/r)cos\\theta \n",
    "\\end{bmatrix} $$\n",
    "\n",
    "So, bear with me here, this might be a little bit crazy. But we're going to transform it as a vector, even though it's a one form, then we'll transform the result into the one-form form. \n",
    "\n",
    "This gives... with 2x+2y = $2rcos\\theta+2rsin\\theta$\n",
    "\n",
    "$$ (2x+2y)( cos\\theta + sin\\theta , - (1/r)sin\\theta + (1/r)cos\\theta )$$\n",
    "$$ = ( 2rcos^2\\theta+2rcos\\theta sin\\theta + 2rsin^2\\theta + 2rcos\\theta sin\\theta , -2sin^2\\theta - 2sin\\theta cos\\theta + 2cos^2\\theta + 2cos\\theta sin\\theta )$$\n",
    "$$ = ( 2r + 4rcos\\theta sin\\theta, -2sin^2\\theta + 2cos^2\\theta )$$\n"
   ]
  },
  {
   "cell_type": "markdown",
   "id": "7d915013",
   "metadata": {},
   "source": [
    "Now if we apply the metric to this...\n",
    "\n",
    "$$ \\begin{bmatrix}\n",
    "1 & 0 \\\\ \n",
    "0 & r^2\n",
    "\\end{bmatrix} $$\n",
    "\n",
    "We convert it to the one-form \n",
    "\n",
    "$$ = ( 2r + 4rcos\\theta sin\\theta, 2r^2(cos^2\\theta - sin^2\\theta))$$"
   ]
  },
  {
   "cell_type": "markdown",
   "id": "2f42eda6",
   "metadata": {},
   "source": [
    "ADDENDUM: for completeness sake use the one-form transformation directly. It does, in fact, work. ...Though on a piece of paper not here so I dunno why I'm recording this. "
   ]
  },
  {
   "cell_type": "markdown",
   "id": "6272518f",
   "metadata": {},
   "source": [
    "*c) i) Use the metric tensor in polar coordiantes to find the polar components of the one-forms $\\tilde V$ and $\\tilde W$ associated with $\\vec V$ and $\\vec W$. ii) Obtain the polar components of $\\tilde V$ and $\\tilde W$ by transformation of their Cartesian components.*"
   ]
  },
  {
   "cell_type": "markdown",
   "id": "0202d100",
   "metadata": {},
   "source": [
    "$$ \\begin{bmatrix}\n",
    "1 & 0 \\\\ \n",
    "0 & r^2\n",
    "\\end{bmatrix} $$\n",
    "\n",
    "Is the metric tensor. We had a long and very detailed rant in the previous part as to why it needs to be used to transform the transformation matrix. \n",
    "\n",
    "Anyway for the things we already converted, this is simple.\n",
    "\n",
    "$$\\vec W = ( cos\\theta + sin\\theta , -(1/r)sin\\theta + (1/r)cos\\theta )$$\n",
    "$$\\tilde W = ( cos\\theta + sin\\theta , -rsin\\theta + rcos\\theta )$$\n",
    "\n",
    "$$\\vec V = ( r^2cos^3\\theta+3rcos\\theta sin\\theta + r^2sin^3\\theta+3rsin\\theta cos\\theta , -rsin\\theta cos^2\\theta-3sin^2\\theta + rcos\\theta sin^2\\theta+3cos^2\\theta)$$\n",
    "$$\\tilde V = ( r^2cos^3\\theta+3rcos\\theta sin\\theta + r^2sin^3\\theta+3rsin\\theta cos\\theta , -r^3sin\\theta cos^2\\theta-3r^2sin^2\\theta + r^3cos\\theta sin^2\\theta+3r^2cos^2\\theta)$$"
   ]
  },
  {
   "cell_type": "markdown",
   "id": "861e0ec2",
   "metadata": {},
   "source": [
    "So this is what we got via the metric tensor diretly. \n",
    "\n",
    "Now by transformation of the components we use what we derived in the previous part\n",
    "\n",
    "$$ \\Lambda^\\iota_\\mu = \\begin{bmatrix}\n",
    "cos\\theta & sin\\theta \\\\ \n",
    "-rsin\\theta & rcos\\theta \n",
    "\\end{bmatrix} $$"
   ]
  },
  {
   "cell_type": "markdown",
   "id": "9df8f18f",
   "metadata": {},
   "source": [
    "Which pretty obviously transforms the (1,1) W rather masterfully into its polar one-form. \n",
    "\n",
    "As for V... I don't wanna bother with tedious math so moving on. \n",
    "\n",
    "ADDENDUM: turns out math is not tedius, just replace (1/r) with r, tah-dah. "
   ]
  },
  {
   "cell_type": "markdown",
   "id": "b758db73",
   "metadata": {},
   "source": [
    "## Problem 9\n",
    "\n",
    "*Draw a diagram similar to fig 5.6 to explain equation 5.38*"
   ]
  },
  {
   "cell_type": "markdown",
   "id": "67e9c457",
   "metadata": {},
   "source": [
    "$$ \\frac{\\partial}{\\partial r} \\vec e_\\theta = \\frac{1}{r}  \\vec e_\\theta $$\n",
    "$$ \\frac{\\partial}{\\partial \\theta} \\vec e_\\theta = -r  \\vec e_r $$"
   ]
  },
  {
   "cell_type": "markdown",
   "id": "e62487b7",
   "metadata": {},
   "source": [
    "Not drawing it here, but rest assured it exists.\n",
    "\n",
    "The first one should be evident simply from the way the angle and the radius interact with each other. As you go further out the angle vector gets larger, but at a rate smaller and smaller as r increases. (at the origin there was no e unit vector, and suddenly there was, but the curvature keeps going down as you go out.) \n",
    "\n",
    "The second one arises from the fact that the \"length\" of the angle unit vector is longer the further out you are from the origin, while the radius unit vector does not change. So as the angle is adjusted the angle unit vector rotates, and it rotates speifically at a rate -r related to the radius unit vector. In fact, you can imagine this as a **force pulling the unit vector to the center, creating simple circular motion.**."
   ]
  },
  {
   "cell_type": "markdown",
   "id": "44801658",
   "metadata": {},
   "source": [
    "## Problem 10\n",
    "\n",
    "*Prove that $\\nabla \\vec V$, defined in Eq 5.52, is a $1\\choose1$ tensor*\n",
    "\n",
    "this is rather trivially true. The gradient is a one-form, the vector is a vector, they're being combined together with different indeces, so they create a $1\\choose1$ tensor. "
   ]
  },
  {
   "cell_type": "markdown",
   "id": "19c9b0f0",
   "metadata": {},
   "source": [
    "## Problem 11 \n",
    "\n",
    "*Uses the results from Exercise 7 and Exercise 8*\n",
    "\n",
    "*For the vector field $\\vec V$ whose cartesian components are $(x^2+3y,y^2+3x)$, compute:*\n",
    "\n",
    "*a) $V^\\alpha_{,\\beta}$ in Cartesian*\n",
    "\n",
    "Take the derivative of each component with respect to the each index, which is to say, we end up with (2x, 3) and (3, 2y), which coudl be arranged as a 4x4 matrix. Treating $\\alpha$ as the first index and $\\beta$ as the second, we get:\n",
    "\n",
    "$$ V^\\alpha_{,\\beta} = \\begin{bmatrix}\n",
    "2x & 3 \\\\ \n",
    "3 & 2y\n",
    "\\end{bmatrix} $$"
   ]
  },
  {
   "cell_type": "markdown",
   "id": "e184243f",
   "metadata": {},
   "source": [
    "*b) The transformation $\\Lambda^{\\mu'}_\\alpha \\Lambda^\\beta_{\\nu'} V^\\alpha_{,\\beta}$ to polars*\n",
    "\n",
    "In essence, we are converting a vector and a one-form. The vector transformation is over the first index, the one-form transformation is over the second. "
   ]
  },
  {
   "cell_type": "markdown",
   "id": "7b53bc12",
   "metadata": {},
   "source": [
    "However, as we found out in **Problem 8**, the two matrices are not the same. The conversion of a vector is:\n",
    "\n",
    "$$ \\begin{bmatrix}\n",
    "cos\\theta & sin\\theta \\\\ \n",
    "(-1/r)sin\\theta & (1/r)cos\\theta \n",
    "\\end{bmatrix} $$\n",
    "\n",
    "While the one-form version is:\n",
    "\n",
    "$$ \\begin{bmatrix}\n",
    "cos\\theta & sin\\theta \\\\ \n",
    "-rsin\\theta & rcos\\theta \n",
    "\\end{bmatrix} $$"
   ]
  },
  {
   "cell_type": "markdown",
   "id": "8d530ea9",
   "metadata": {},
   "source": [
    "Let's make it ABSOLUTELY EXPLICIT which parts of this matrix are hwich terms on the notation. \n",
    "\n",
    "$$ \\Lambda^{\\mu'}_{\\alpha}  = \\begin{bmatrix}\n",
    "cos\\theta & sin\\theta \\\\ \n",
    "(-1/r)sin\\theta & (1/r)cos\\theta \n",
    "\\end{bmatrix} = \\begin{bmatrix}\n",
    "11 & 12 \\\\ \n",
    "21 & 22 \n",
    "\\end{bmatrix} $$\n",
    "\n",
    "The indeces realy are row then column. The other matrix is actually transposed.\n",
    "\n",
    "$$ \\Lambda^\\beta_{\\nu'}  = \\begin{bmatrix}\n",
    "cos\\theta & sin\\theta \\\\ \n",
    "-rsin\\theta & rcos\\theta \n",
    "\\end{bmatrix} = \\begin{bmatrix}\n",
    "11 & 21 \\\\ \n",
    "12 & 22 \n",
    "\\end{bmatrix}$$"
   ]
  },
  {
   "cell_type": "markdown",
   "id": "6502c9e3",
   "metadata": {},
   "source": [
    "So yes, we DID have the correct intuition. (note: avoid using matrix stuff in the future, just use tensor notaiton and pick the numbers off from a list. "
   ]
  },
  {
   "cell_type": "markdown",
   "id": "794f3e93",
   "metadata": {},
   "source": [
    "In our matrix, the vectors are the rows and the one-forms are the columns. Even though the original matrix is symmetric, it may not be in the middle of the transformations, so we still have to be careful about indexing. \n",
    "\n",
    "It's easiest, I think, to extract the vectors into thier components (2x,3) (3,2y) and act on each one individually, remembering that they are rows and not colums, and replacing them accordingly. Also convert x and y in order to get $(2rcos\\theta,3) and (3,2rsin\\theta)$ Transforming this way along vectors produces:\n",
    "\n",
    "$$ \\begin{bmatrix}\n",
    "2rcos^2\\theta + 3sin\\theta & -2cos\\theta sin\\theta + 3(1/r)cos\\theta \\\\ \n",
    "3cos\\theta + 2rsin^2\\theta & 3(-1/r)sin\\theta + 2sin\\theta cos\\theta \n",
    "\\end{bmatrix} $$"
   ]
  },
  {
   "cell_type": "markdown",
   "id": "0b35d505",
   "metadata": {},
   "source": [
    "The one-forms, meanwhile, are the columns. Which is much easier to deal with.\n",
    "\n",
    "$$ \\begin{bmatrix}\n",
    "2xcos^2\\theta + 6cos\\theta sin\\theta + 2ysin^2\\theta & 2x(-1/r)sin\\theta cos\\theta+ 3(1/r)cos^2\\theta + 3(-1/r) sin^2\\theta + 2y(1/r)sin\\theta cos\\theta \\\\ \n",
    "-2xr sin\\theta cos\\theta - 3r sin^2\\theta + 3r cos^2\\theta + 2yr cos\\theta sin\\theta & 2xsin^2\\theta - 6sin\\theta cos\\theta + 2ycos^2\\theta \n",
    "\\end{bmatrix} $$"
   ]
  },
  {
   "cell_type": "markdown",
   "id": "0416576a",
   "metadata": {},
   "source": [
    "The final step is to do the standard x=$rcos\\theta$ and y=$rsin\\theta$. (Note that we did this also in an earlier step, thinking it would fix everything. It did not.)\n",
    "\n",
    "$$ \\begin{bmatrix}\n",
    "2rcos^3\\theta + 6cos\\theta sin\\theta + 2rsin^3\\theta & -2sin\\theta cos^2\\theta+ 3(1/r)cos^2\\theta + 3(-1/r) sin^2\\theta + 2sin^2\\theta cos\\theta \\\\ \n",
    "-2r^2 sin\\theta cos^2\\theta - 3r sin^2\\theta + 3r cos^2\\theta + 2r^2 cos\\theta sin^2\\theta & 2rsin^2\\theta cos\\theta - 6sin\\theta cos\\theta + 2rcos^2\\theta sin\\theta \n",
    "\\end{bmatrix} $$\n",
    "\n",
    "No I am not going to try to simplify. \n",
    "\n",
    "The result in part e) make it rather obvious that this isn't right, there must be an algebra error somewhere. That said, I went through this manually component by component, so... I have no idea where it could have gone wrong. \n",
    "\n",
    "ADDENDUM: fairly certain THIS part is actually correct, it's been calculated to precision on all four portions. Hmm. "
   ]
  },
  {
   "cell_type": "markdown",
   "id": "66dace88",
   "metadata": {},
   "source": [
    "*c) The components $V^{\\mu'}_{;\\nu'}$ directly in polars using the Christoffel symbols 5.45 in 5.50.*"
   ]
  },
  {
   "cell_type": "markdown",
   "id": "0706a6f4",
   "metadata": {},
   "source": [
    "This is not just a derivative, this is the \"vector derivative.\" Or \"covariant derivative.\"\n",
    "\n",
    "5.50 tells us $V^\\alpha_{;\\beta} = V^\\alpha_{,\\beta} + V^\\mu \\Gamma^\\alpha_{\\mu\\beta}$\n",
    "\n",
    "While the Christoffel symbols (which I like to think of as the COORDINATE CUBE) are, for radial components:\n",
    "\n",
    "$$\\partial \\vec e_r / \\partial r = 0 \\Rightarrow \\Gamma^\\mu_{rr} = 0$$\n",
    "$$\\partial \\vec e_r / \\partial \\theta = (1/r) \\vec e_\\theta \\Rightarrow \\Gamma^r_{r\\theta} = 0, \\Gamma^\\theta_{r\\theta} = 1/r$$\n",
    "$$\\partial \\vec e_\\theta / \\partial r = (1/r) \\vec e_\\theta \\Rightarrow \\Gamma^r_{\\theta r} = 0, \\Gamma^\\theta_{\\theta r} = 1/r$$\n",
    "$$\\partial \\vec e_\\theta / \\partial \\theta = -r \\vec e_r \\Rightarrow \\Gamma^r_{\\theta \\theta} = -r, \\Gamma^\\theta_{\\theta \\theta} = 0$$\n",
    "\n",
    "I'd love to draw a cube here with the components in it, but alas, it is not to be. "
   ]
  },
  {
   "cell_type": "markdown",
   "id": "51cdeefb",
   "metadata": {},
   "source": [
    "Regardless, we already have the first term of this sum: that's what we did in part b. Now we need to add the second part. The V is just the original vector. We are evidentially summing over the first lower coordinate of THE CUBE. \n",
    "\n",
    "However we need the vector field in polar... not difficult, just annoying. \n",
    "\n",
    "$$(x^2+3y , 3x+y^2) \\rightarrow ( x^2cos\\theta+3ycos\\theta + 3xsin\\theta + y^2sin\\theta, x^2(-1/r)sin\\theta + 3y(-1/r)sin\\theta + 3x(1/r)cos\\theta + y^2(1/r)cos\\theta )$$\n",
    "$$ \\rightarrow ( r^2cos^3\\theta + 6r sin\\theta cos\\theta + r^2sin^3\\theta,-rsin\\theta cos^2\\theta - 3 sin^2\\theta + 3 cos^2\\theta + rcos\\theta sin^2\\theta) $$\n",
    "\n",
    "This produces the following matrix:\n",
    "\n",
    "$$ \\begin{bmatrix}\n",
    "0 & (-r)(-rsin\\theta cos^2\\theta - 3 sin^2\\theta + 3 cos^2\\theta + rcos\\theta sin^2\\theta) \\\\ \n",
    "(1/r)(-rsin\\theta cos^2\\theta - 3 sin^2\\theta + 3 cos^2\\theta + rcos\\theta sin^2\\theta) & (1/r)(r^2cos^3\\theta + 6r sin\\theta cos\\theta + r^2sin^3\\theta)\n",
    "\\end{bmatrix} $$\n",
    "\n",
    "$$ = \\begin{bmatrix}\n",
    "0 & (r^2sin\\theta cos^2\\theta + 3r sin^2\\theta - 3r cos^2\\theta - r^2cos\\theta sin^2\\theta) \\\\ \n",
    "(-sin\\theta cos^2\\theta - 3(1/r) sin^2\\theta + 3 (1/r)cos^2\\theta + cos\\theta sin^2\\theta) & (rcos^3\\theta + 6 sin\\theta cos\\theta + rsin^3\\theta)\n",
    "\\end{bmatrix} $$\n",
    "\n",
    "Which we then would add to our answer in b) to get the full answer. \n",
    "\n",
    "Possible error? Doesn't appear to be so, everything seems to be done right. Greatly concerning, all things consdiered. If the diagonals added to zero, this would make e) correct. Greatly concerning. \n",
    "\n",
    "HOLD ON. \n",
    "\n",
    "That actually is the answer! The derivatives were taken in Cartesian so it WAS equal to at that point! when we converted THERE WAS NO NEED FOR CRISTOFFEL SYMBOLS AT ALL! This can be proven if we need the christoffel symbols for the derivatives taken while IN polar space! "
   ]
  },
  {
   "cell_type": "markdown",
   "id": "e4d4006c",
   "metadata": {},
   "source": [
    "The polar version of the vector field V is \n",
    "\n",
    "$$\\vec V = ( r^2cos^3\\theta+3rcos\\theta sin\\theta + r^2sin^3\\theta+3rsin\\theta cos\\theta , -rsin\\theta cos^2\\theta-3sin^2\\theta + rcos\\theta sin^2\\theta+3cos^2\\theta)$$"
   ]
  },
  {
   "cell_type": "markdown",
   "id": "520e6cb9",
   "metadata": {},
   "source": [
    "So this one needs the christoffel symbols to be adjusted. We won't work out everything, for in e) we just need the diagonals. The derivative of r with respect to r is:\n",
    "\n",
    "$$  2r cos^3 \\theta + 6cos\\theta sin\\theta + 2r sin^3 \\theta$$\n",
    "\n",
    "And the derivative of $\\theta$ with respect to itself is... ugly, but:\n",
    "\n",
    "$$ -rcos^3\\theta -rsin^3\\theta -12cos\\theta sin\\theta + 2rcos\\theta sin^2\\theta + 2rcos^2\\theta sin\\theta$$\n",
    "\n",
    "And then the Cristoffel symbols are 0 for the rr and for the angle, we have (1/r) times the radial component, or:\n",
    "\n",
    "$$ rcos^3\\theta + 6cos\\theta sin\\theta + rsin^3\\theta $$\n",
    "\n",
    "And if we SUM EVERYTHING TOGETHER... wait this is part e), uh... we'll go add it over there. "
   ]
  },
  {
   "cell_type": "markdown",
   "id": "35282782",
   "metadata": {},
   "source": [
    "*d) The divergence $V^\\alpha_{,\\alpha}$ using your results in a)*\n",
    "\n",
    "2x+2y\n",
    "\n",
    "Or $2r(cos\\theta + sin\\theta)$\n",
    "\n",
    "This is what all future results should be. You will note that it is not this way. "
   ]
  },
  {
   "cell_type": "markdown",
   "id": "cca957d9",
   "metadata": {},
   "source": [
    "*e) The divergence $V^{\\mu'}_{;\\mu'}$ using your results in either b) or c)*"
   ]
  },
  {
   "cell_type": "markdown",
   "id": "10afe180",
   "metadata": {},
   "source": [
    "Time to add everything along the diagonals!\n",
    "\n",
    "$$ (2rcos^3\\theta + 6cos\\theta sin\\theta + 2rsin^3\\theta) + ( 2rsin^2\\theta cos\\theta - 6sin\\theta cos\\theta + 2rcos^2\\theta sin\\theta) + 0 $$. Note the +0 only works because we translated FROM Cartesian. \n",
    "\n",
    "This results in:\n",
    "\n",
    "$$ 2r \\left( cos^3\\theta + sin^3\\theta + cos\\theta sin^2\\theta + sin\\theta cos^2\\theta \\right) $$\n",
    "\n",
    "Which is equivalent to $2r(cos\\theta + sin\\theta)$"
   ]
  },
  {
   "cell_type": "markdown",
   "id": "16b05734",
   "metadata": {},
   "source": [
    "Now what if we DID do it fully in polar? well, the things we add are:\n",
    "\n",
    "$$  2r cos^3 \\theta + 6cos\\theta sin\\theta + 2r sin^3 \\theta$$\n",
    "\n",
    "$$ -rcos^3\\theta -rsin^3\\theta -12cos\\theta sin\\theta + 2rcos\\theta sin^2\\theta + 2rcos^2\\theta sin\\theta$$\n",
    "\n",
    "$$ rcos^3\\theta + 6cos\\theta sin\\theta + rsin^3\\theta $$"
   ]
  },
  {
   "cell_type": "markdown",
   "id": "da392c8d",
   "metadata": {},
   "source": [
    "Which becomes\n",
    "\n",
    "$$ 2r \\left( cos^3\\theta + sin^3\\theta + cos\\theta sin^2\\theta + sin\\theta cos^2\\theta \\right) $$\n",
    "\n",
    "The exact same thing! HAH! FOUND IT! YOU CAN'T HIDE FROM GM *HAH!*\n",
    "\n",
    "Now was the realization of when you convert important enough to spend all this time? ...MAYBE. We'll see. "
   ]
  },
  {
   "cell_type": "markdown",
   "id": "c25030b3",
   "metadata": {},
   "source": [
    "*f) The divergence $V^{\\mu'}_{;\\mu'}$ using 5.56 directly.*"
   ]
  },
  {
   "cell_type": "markdown",
   "id": "b1f46762",
   "metadata": {},
   "source": [
    "Oh right! The polar divergence formula does exist! \n",
    "\n",
    "5.56: $ V^\\alpha_{;\\alpha} = \\frac{1}{r} \\frac{\\partial}{\\partial r} (rV^r) + \\frac{\\partial}{\\partial \\theta} V^\\theta $\n",
    "\n"
   ]
  },
  {
   "cell_type": "markdown",
   "id": "34d5aa1e",
   "metadata": {},
   "source": [
    "Hmm... this isn't going to match what we originally had. But let's evaluate it anyway using the polar vector field. After initial cancelation, this becomes:\n",
    "\n",
    "$$ 2r \\left( cos^3\\theta + sin^3\\theta + cos\\theta sin^2\\theta + sin\\theta cos^2\\theta \\right) $$\n",
    "\n",
    "Which, I'm not entirely sure HOW, **is** equal to $2r(cos\\theta + sin\\theta)$. Geogebra confirms it. "
   ]
  },
  {
   "cell_type": "markdown",
   "id": "19a87004",
   "metadata": {},
   "source": [
    "## Problem 12\n",
    "\n",
    "*For the one-form field $\\tilde p$ whose Cartesian components are $(x^2+3y, y^2+3x)$, compute*\n",
    "\n",
    "*a) $p_{\\alpha,\\beta}$ in Cartesian*"
   ]
  },
  {
   "cell_type": "markdown",
   "id": "aea10948",
   "metadata": {},
   "source": [
    "This becomes the exact same thing as the previous problem.\n",
    "\n",
    "$$ p_{\\alpha,\\beta} = \\begin{bmatrix}\n",
    "2x & 3 \\\\ \n",
    "3 & 2y\n",
    "\\end{bmatrix} $$"
   ]
  },
  {
   "cell_type": "markdown",
   "id": "d4a5bd04",
   "metadata": {},
   "source": [
    "*b) The transformation to polars $\\Lambda^\\alpha_{\\mu'} \\Lambda^\\beta_{\\nu'} p_{\\alpha,\\beta}$*"
   ]
  },
  {
   "cell_type": "markdown",
   "id": "7521daa8",
   "metadata": {},
   "source": [
    "Trying to force matrix arithmetic has proven to be rather pointless in all these efforts, so instead we resort to expanding vector notation completely. \n",
    "\n",
    "$$ p_{\\mu',\\nu'} = \\Lambda^x_{\\mu'} \\Lambda^x_{\\nu'} p_{x,x} + \\Lambda^x_{\\mu'} \\Lambda^y_{\\nu'} p_{x,y} + \\Lambda^y_{\\mu'} \\Lambda^x_{\\nu'} p_{y,x} + \\Lambda^y_{\\mu'} \\Lambda^y_{\\nu'} p_{y,y} $$"
   ]
  },
  {
   "cell_type": "markdown",
   "id": "781adaef",
   "metadata": {},
   "source": [
    "Where the bottom indeces will take rr, $r\\theta, \\theta r, \\theta\\theta$. \n",
    "\n",
    "The question is which part of the matrix matches which part of the components. The one-form transformation is:\n",
    "\n",
    "$$ \\Lambda^\\beta_{\\nu'}  = \\begin{bmatrix}\n",
    "cos\\theta & sin\\theta \\\\ \n",
    "-rsin\\theta & rcos\\theta \n",
    "\\end{bmatrix} = \\begin{bmatrix}\n",
    "11 & 21 \\\\ \n",
    "12 & 22 \n",
    "\\end{bmatrix}= \\begin{bmatrix}\n",
    "xr & yr \\\\ \n",
    "x\\theta & y\\theta \n",
    "\\end{bmatrix}$$"
   ]
  },
  {
   "cell_type": "markdown",
   "id": "c2cb09c2",
   "metadata": {},
   "source": [
    "And we convert the original matrix into polar coordinates.\n",
    "\n",
    "$$ p_{\\alpha,\\beta} = \\begin{bmatrix}\n",
    "2rcos\\theta & 3 \\\\ \n",
    "3 & 2rsin\\theta\n",
    "\\end{bmatrix} $$"
   ]
  },
  {
   "cell_type": "markdown",
   "id": "d46a96ba",
   "metadata": {},
   "source": [
    "$$ p_{r,r} = 2rcos^3\\theta +6cos\\theta sin\\theta + 2rsin^3\\theta$$\n",
    "$$ p_{r,\\theta} = -2r^2sin\\theta cos^2\\theta + 3rcos^2\\theta - 3rsin^2 \\theta + 2r^2sin^2\\theta cos\\theta$$\n",
    "$$ p_{\\theta,r} = -2r^2sin\\theta cos^2\\theta + 3rcos^2\\theta - 3rsin^2 \\theta + 2r^2sin^2\\theta cos\\theta$$\n",
    "$$ p_{\\theta,\\theta} = 2r^3sin^2\\theta cos\\theta - 6r^2sin\\theta cos\\theta + 2r^3sin^2\\theta cos^2\\theta $$"
   ]
  },
  {
   "cell_type": "markdown",
   "id": "8adb144d",
   "metadata": {},
   "source": [
    "And that is the answer. "
   ]
  },
  {
   "cell_type": "markdown",
   "id": "6139c9a8",
   "metadata": {},
   "source": [
    "*c) The components $p_{\\mu';\\nu'}$ directly in polars using Christoffel symbols, 5.45 in 5.63.*"
   ]
  },
  {
   "cell_type": "markdown",
   "id": "ab50b37b",
   "metadata": {},
   "source": [
    "WOOP let's back up and realize the main takeaway from the nightmare of **Problem 11**--if we use the matrix above, it is already correct! We want to calculate it directly in POLAR, so we need the actual polar transformation of the one-form. Luckily it's the same form as the vector-field V, just as a one-form, so all we do is grab the one-form we calculated:\n",
    "\n",
    "$$\\tilde V = ( r^2cos^3\\theta+3rcos\\theta sin\\theta + r^2sin^3\\theta+3rsin\\theta cos\\theta , -r^3sin\\theta cos^2\\theta-3r^2sin^2\\theta + r^3cos\\theta sin^2\\theta+3r^2cos^2\\theta)$$\n",
    "\n",
    "Ugly, but exactly what we want. Unfortunately the problem wants ALL of them... oogh, that'll be annoying. Fortunately the tranformations are exactly the same so we can skip over a lot of it! ...Except in the previous problem we only calculated the diagonals because that was what we needed...\n",
    "\n",
    "Screw it, here are those diagonals.\n",
    "\n",
    "$$  2r cos^3 \\theta + 6cos\\theta sin\\theta + 2r sin^3 \\theta$$\n",
    "\n",
    "$$ -r^3cos^3\\theta -r^3sin^3\\theta -12r^2cos\\theta sin\\theta + 2r^3cos\\theta sin^2\\theta + 2r^3cos^2\\theta sin\\theta$$\n",
    "\n",
    "Which you'll note is just increased by a factor of $r^2$ in the angular term because that's the difference between V and p. \n",
    "\n",
    "Anyway, as for Christoffel..."
   ]
  },
  {
   "cell_type": "markdown",
   "id": "79facb31",
   "metadata": {},
   "source": [
    "The term we use today gets subtracted off.\n",
    "\n",
    "$$ - p_\\mu \\Gamma^\\mu_{\\alpha\\beta} $$\n",
    "\n",
    "For one term. In this case $\\alpha\\beta \\rightarrow rr, r\\theta, \\theta r , \\theta\\theta.$\n",
    "\n",
    "The coefficients themselves are:\n",
    "\n",
    "$$\\partial \\vec e_r / \\partial r = 0 \\Rightarrow \\Gamma^\\mu_{rr} = 0$$\n",
    "$$\\partial \\vec e_r / \\partial \\theta = (1/r) \\vec e_\\theta \\Rightarrow \\Gamma^r_{r\\theta} = 0, \\Gamma^\\theta_{r\\theta} = 1/r$$\n",
    "$$\\partial \\vec e_\\theta / \\partial r = (1/r) \\vec e_\\theta \\Rightarrow \\Gamma^r_{\\theta r} = 0, \\Gamma^\\theta_{\\theta r} = 1/r$$\n",
    "$$\\partial \\vec e_\\theta / \\partial \\theta = -r \\vec e_r \\Rightarrow \\Gamma^r_{\\theta \\theta} = -r, \\Gamma^\\theta_{\\theta \\theta} = 0$$"
   ]
  },
  {
   "cell_type": "markdown",
   "id": "9d266e68",
   "metadata": {},
   "source": [
    "Which we use to calculate:\n",
    "\n",
    "$$ rr \\rightarrow 0$$\n",
    "$$ r\\theta \\rightarrow (1/r)(-r^3sin\\theta cos^2\\theta-3r^2sin^2\\theta + r^3cos\\theta sin^2\\theta+3r^2cos^2\\theta) $$\n",
    "$$ \\theta r \\rightarrow (1/r)(-r^3sin\\theta cos^2\\theta-3r^2sin^2\\theta + r^3cos\\theta sin^2\\theta+3r^2cos^2\\theta) $$\n",
    "$$ \\theta\\theta \\rightarrow (-r)(r^2cos^3\\theta+6rcos\\theta sin\\theta + r^2sin^3\\theta) = (-r^3cos^3\\theta-6r^2cos\\theta sin\\theta - r^3sin^3\\theta) $$"
   ]
  },
  {
   "cell_type": "markdown",
   "id": "a4a46d5e",
   "metadata": {},
   "source": [
    "Which will be SUBTRACTED from the terms calculated in part b.\n",
    "\n",
    "Very similar to **Problem 12**. Since we're subtracting the coefficientthe minus signs become plus signs and if we were taking the gradient everything would turn out exactly as neatly as we wanted. Woo! "
   ]
  },
  {
   "cell_type": "markdown",
   "id": "d2837019",
   "metadata": {},
   "source": [
    "## Problem 13\n",
    "\n",
    "*For those who have done both **11 and 12**, show in polars that $g_{\\mu'\\alpha'}V^{\\alpha'}_{;\\nu'} = p_{\\mu';\\nu'}$*"
   ]
  },
  {
   "cell_type": "markdown",
   "id": "54c79a4a",
   "metadata": {},
   "source": [
    "The METRIC converts between our two total derivatives! Why?\n",
    "\n",
    "Well let's split these two derivative nonsenses up into what they are in base terms:\n",
    "\n",
    "$$g_{\\mu'\\alpha'}(V^{\\alpha'}_{,\\nu'} + V^\\iota \\Gamma^{\\alpha'}_{\\iota\\nu}) = p_{\\mu',\\nu'} - p_\\iota \\Gamma^\\iota_{\\mu'\\nu'}$$"
   ]
  },
  {
   "cell_type": "markdown",
   "id": "504f97b2",
   "metadata": {},
   "source": [
    "Now the first term of this relation is obvious, as the metric by definition converts one-forms and vectors from the same basis into each other. The derivatives themselves are just one forms and vectors interacting with another one-form, adjusting the original one-form or vector doesn't change anything about the secondary, and so it remains. Which means what we're really asking is:\n",
    "\n",
    "$$g_{\\mu'\\alpha'}V^\\iota \\Gamma^{\\alpha'}_{\\iota\\nu}= - p_\\iota \\Gamma^\\iota_{\\mu'\\nu'}$$"
   ]
  },
  {
   "cell_type": "markdown",
   "id": "df223f0a",
   "metadata": {},
   "source": [
    "Which is quite a bit more of a poser. However, it does appear to be true! And we prove this by doing the sums on both sides. Let's take $\\mu=r$ for this one. (Yes, we are showing it case by case, but fortunately we only have to prove it for polar, so there's only two cases.)\n",
    "\n",
    "$$g_{r\\theta}(V^r \\Gamma^{\\theta}_{r*}+V^\\theta \\Gamma^{\\theta}_{\\theta*})+g_{rr}(V^r \\Gamma^{r}_{r*}+V^\\theta \\Gamma^{r}_{\\theta*})= - p_r \\Gamma^r_{r*} - p_\\theta \\Gamma^\\theta{r*}$$\n",
    "\n",
    "All off diagonals of the polar metric are zero. Our \"rr\" term is just 1. \n",
    "\n",
    "$$ V^r \\Gamma^{r}_{r*}+V^\\theta \\Gamma^{r}_{\\theta*} = - p_r \\Gamma^r_{r*} - p_\\theta \\Gamma^\\theta{r*}$$\n",
    "\n",
    "The \"*\" segments are representing that they can still be either index since we want to draw attention to them. In both cases, the first Christoffel symbols have no choice but to be zero. The others only exist when $* = \\theta$. This produces:\n",
    "\n",
    "$$ V^\\theta (-r) = - p_\\theta 1/r$$\n",
    "\n",
    "Which is true as the conversion goes $(1,r^2)$."
   ]
  },
  {
   "cell_type": "markdown",
   "id": "d9212562",
   "metadata": {},
   "source": [
    "The other case still needs to be shown. Off-diagonal terms are still zero. The actual term is now (r^2)\n",
    "\n",
    "$$ r^2( V^r \\Gamma^{\\theta}_{r*}+V^\\theta \\Gamma^{\\theta}_{\\theta*}) = - p_r \\Gamma^r_{\\theta*} - p_\\theta \\Gamma^\\theta{\\theta*}$$\n",
    "\n",
    "Unlike previously, both \"*\" cases exist, and look like so:\n",
    "\n",
    "$$ r^2(1/r)V^r = -(-r)p_r \\Rightarrow rv^r = rp_r$$\n",
    "\n",
    "Which is true as the correspondence is 1 to 1. \n",
    "\n",
    "$$ r^2(1/r)V^\\theta = -(1/r)p_\\theta \\Rightarrow rv^\\theta = -(1/r)p_\\theta$$\n",
    "\n",
    "Which... hang on, where'd the sign error come from? "
   ]
  },
  {
   "cell_type": "markdown",
   "id": "62ba7dbd",
   "metadata": {},
   "source": [
    "Looks like there was probably an algebra error somewhere, as everything else fell together absolutely perfectly. \n",
    "\n",
    "We'll consider this \"close enough\" and just move on. "
   ]
  },
  {
   "cell_type": "markdown",
   "id": "75b4ff29",
   "metadata": {},
   "source": [
    "## Problem 14\n",
    "\n",
    "*For the tensor whose polar components are $(A^{rr}=r^2, A^{r\\theta}=rsin\\theta, A^{\\theta r} = rcos\\theta, A^{\\theta\\theta} = tan\\theta)$, compute 5.65 in polars for all possible indeces.*"
   ]
  },
  {
   "cell_type": "markdown",
   "id": "bae66d95",
   "metadata": {},
   "source": [
    "Right, tedious, but we need to prove that we learned our lessons from the previous problems! ONWARD!\n",
    "\n",
    "$$5.65: \\nabla_\\beta A^{\\mu\\nu} = A^{\\mu\\nu}_{,\\beta} + A^{\\alpha\\nu}\\Gamma^\\mu_{\\alpha\\beta} + A^{\\mu\\alpha}\\Gamma^\\nu_{\\alpha\\beta}$$"
   ]
  },
  {
   "cell_type": "markdown",
   "id": "866ac1bf",
   "metadata": {},
   "source": [
    "Okay so let's split this up into three terms. The first one can be done largely in one's head: take every term and differentiate it with respect to both coordinates. This'll create a cube, which we will represent as a pair of square matirces with index order $\\mu\\nu\\beta$:\n",
    "\n",
    "$$ A^{\\mu\\nu}_{,\\beta} = \\begin{bmatrix}\n",
    "2r & sin\\theta \\\\ \n",
    "cos\\theta & 0\n",
    "\\end{bmatrix},\\begin{bmatrix}\n",
    "0 & rcos\\theta \\\\ \n",
    "-rsin\\theta & tan^2\\theta+1\n",
    "\\end{bmatrix} $$"
   ]
  },
  {
   "cell_type": "markdown",
   "id": "eba70421",
   "metadata": {},
   "source": [
    "Since it will probably be helpful later, the matrix A itself is:\n",
    "\n",
    "$$ A^{\\mu\\nu}_{,\\beta} = \\begin{bmatrix}\n",
    "r^2 & rsin\\theta \\\\ \n",
    "rcos\\theta & tan\\theta\n",
    "\\end{bmatrix}$$"
   ]
  },
  {
   "cell_type": "markdown",
   "id": "d389d456",
   "metadata": {},
   "source": [
    "Nowthe other two terms also form cubes, but there will be a lot of zeroes. Let's go ahead and write out the Christoffel cube in index order $\\mu\\alpha\\beta$ (or $\\nu\\alpha\\beta$)\n",
    "\n",
    "$$ \\Gamma = \\begin{bmatrix}\n",
    "0 & 0 \\\\ \n",
    "0 & 1/r\n",
    "\\end{bmatrix},\\begin{bmatrix}\n",
    "0 & -r \\\\ \n",
    "1/r & 0\n",
    "\\end{bmatrix} $$\n",
    "\n",
    "Cuuuuube.... Anyway, just remember the index order, do NOT try to apply matrix arithmetic. "
   ]
  },
  {
   "cell_type": "markdown",
   "id": "3fce91cc",
   "metadata": {},
   "source": [
    "So for our first term, we're moing across A's first index and Christoffel's second index. The end result will be a cube. Column and row--every combination thereof. 2 columns, 4 rows, eight results, exactly what we need. Just need to watch the POSITION carefully. And once again the idea of positioning confused us so much we realized that we shouldn't even try to make our own vector rules: Expand the index FULLY, EVERY TIME, only make the answer matrix AT THE END:\n",
    "\n",
    "$$ A^{rr}\\Gamma^r_{rr} + A^{\\theta r}\\Gamma^r_{\\theta r} $$\n",
    "$$ A^{rr}\\Gamma^r_{r\\theta} + A^{\\theta r}\\Gamma^r_{\\theta\\theta} $$\n",
    "$$ A^{rr}\\Gamma^\\theta_{rr} + A^{\\theta r}\\Gamma^\\theta_{\\theta r} $$\n",
    "$$ A^{rr}\\Gamma^\\theta_{r\\theta} + A^{\\theta r}\\Gamma^\\theta_{\\theta\\theta} $$\n",
    "$$ A^{r\\theta}\\Gamma^r_{rr} + A^{\\theta\\theta}\\Gamma^r_{\\theta r} $$\n",
    "$$ A^{r\\theta}\\Gamma^r_{r\\theta} + A^{\\theta\\theta}\\Gamma^r_{\\theta\\theta} $$\n",
    "$$ A^{r\\theta}\\Gamma^\\theta_{rr} + A^{\\theta\\theta}\\Gamma^\\theta_{\\theta r} $$\n",
    "$$ A^{r\\theta}\\Gamma^\\theta_{r\\theta} + A^{\\theta\\theta}\\Gamma^\\theta_{\\theta\\theta} $$\n",
    "\n",
    "Now that they're all written out, we can find their value. Their position information is encoded in the indeces. "
   ]
  },
  {
   "cell_type": "markdown",
   "id": "5e6f502b",
   "metadata": {},
   "source": [
    "$$ A^{\\alpha\\nu}\\Gamma^\\mu_{\\alpha\\beta} = \\begin{bmatrix}\n",
    "0 & 0 \\\\ \n",
    "cos\\theta & tan\\theta / r\n",
    "\\end{bmatrix},\\begin{bmatrix}\n",
    "-r^2cos\\theta & -rtan\\theta \\\\ \n",
    "r & sin\\theta\n",
    "\\end{bmatrix} $$"
   ]
  },
  {
   "cell_type": "markdown",
   "id": "5840f8f2",
   "metadata": {},
   "source": [
    "Ah, but no, we're not done, we have to do $A^{\\mu\\alpha}\\Gamma^\\nu_{\\alpha\\beta}$ Fortunately all this does is swap the A index direction, so it's a little easier to deal with."
   ]
  },
  {
   "cell_type": "markdown",
   "id": "f41d58a5",
   "metadata": {},
   "source": [
    "$$ A^{rr}\\Gamma^r_{rr} + A^{r \\theta}\\Gamma^r_{\\theta r} $$\n",
    "$$ A^{rr}\\Gamma^r_{r\\theta} + A^{r \\theta }\\Gamma^r_{\\theta\\theta} $$\n",
    "$$ A^{rr}\\Gamma^\\theta_{rr} + A^{r \\theta}\\Gamma^\\theta_{\\theta r} $$\n",
    "$$ A^{rr}\\Gamma^\\theta_{r\\theta} + A^{r \\theta}\\Gamma^\\theta_{\\theta\\theta} $$\n",
    "$$ A^{\\theta r}\\Gamma^r_{rr} + A^{\\theta\\theta}\\Gamma^r_{\\theta r} $$\n",
    "$$ A^{\\theta r}\\Gamma^r_{r\\theta} + A^{\\theta\\theta}\\Gamma^r_{\\theta\\theta} $$\n",
    "$$ A^{\\theta r}\\Gamma^\\theta_{rr} + A^{\\theta\\theta}\\Gamma^\\theta_{\\theta r} $$\n",
    "$$ A^{\\theta r}\\Gamma^\\theta_{r\\theta} + A^{\\theta\\theta}\\Gamma^\\theta_{\\theta\\theta} $$"
   ]
  },
  {
   "cell_type": "markdown",
   "id": "e24e6e17",
   "metadata": {},
   "source": [
    "Which gives a slightly different result. \n",
    "\n",
    "$$ A^{\\alpha\\nu}\\Gamma^\\mu_{\\alpha\\beta} = \\begin{bmatrix}\n",
    "0 & 0 \\\\ \n",
    "sin\\theta & tan\\theta / r\n",
    "\\end{bmatrix},\\begin{bmatrix}\n",
    "-r^2sin\\theta & -rtan\\theta \\\\ \n",
    "r & cos\\theta\n",
    "\\end{bmatrix} $$"
   ]
  },
  {
   "cell_type": "markdown",
   "id": "615e06a0",
   "metadata": {},
   "source": [
    "All it really did was change the sin terms into cos terms.\n",
    "\n",
    "the TOTAL FINAL ABSOLUTE Answer is just the sum of all three.\n",
    "\n",
    "$$  \\nabla_\\beta A^{\\mu\\nu} = \\begin{bmatrix}\n",
    "2r & sin\\theta \\\\ \n",
    "2cos\\theta + sin\\theta & 2tan\\theta / r\n",
    "\\end{bmatrix},\\begin{bmatrix}\n",
    "-r^2(sin\\theta+cos\\theta) & rcos\\theta-2rtan\\theta \\\\ \n",
    "-rsin\\theta +2r & tan^2\\theta+1+cos\\theta+sin\\theta\n",
    "\\end{bmatrix} $$\n",
    "\n",
    "Perhaps there are simplifications. We aren't looking for them. \n",
    "\n",
    "What a weird cube..."
   ]
  },
  {
   "cell_type": "markdown",
   "id": "2c2b7347",
   "metadata": {},
   "source": [
    "## Problem 15\n",
    "\n",
    "*For the vector whose polar components are (1,0), compute in polars all components for the second covariant derivative $V^\\alpha_{;\\mu;\\nu}$ Hint: to find the second derivative treat the first derivative as any $1\\choose1$ tensor, Eq 5.66*\n",
    "\n",
    "Curiously, we're already in polars, so these derivatives are gonna be a little odd. Without considering the coefficients, we have a zero matrix. With the coefficients we add a term of $ V^\\mu \\Gamma^\\alpha_{\\mu\\beta} $. But only the first term even has anything so this isn't a sum so much as a direct application of the coefficients! \n",
    "\n",
    "$$ \\Gamma = \\begin{bmatrix}\n",
    "0 & 0 \\\\ \n",
    "0 & 1/r\n",
    "\\end{bmatrix},\\begin{bmatrix}\n",
    "0 & -r \\\\ \n",
    "1/r & 0\n",
    "\\end{bmatrix} $$\n",
    "\n",
    "For $\\alpha\\mu\\beta$. Only $\\mu=r$ remains, so we and up with a matrix for the derivative of:\n",
    "\n",
    "$$ V^\\alpha_{;\\mu} = \\begin{bmatrix}\n",
    "0 & 0 \\\\ \n",
    "0 & 1/r\n",
    "\\end{bmatrix} $$\n",
    "\n",
    "Which makes sense, as the vector field (1,0) represents is something going radially outward. Only the angle changes at all from place to place, and even then only if the angle itself is adjusted. "
   ]
  },
  {
   "cell_type": "markdown",
   "id": "08cad190",
   "metadata": {},
   "source": [
    "Then we apply 5.66, which is rather similar to **Problem 14's** method. \n",
    "\n",
    "$$ \\nabla_\\beta B^\\mu_\\nu = B^\\mu_{\\nu,\\beta} + B^\\alpha_\\nu \\Gamma^\\mu_{\\alpha\\beta} - B^\\mu_\\alpha \\Gamma^\\alpha_{\\nu\\beta} $$"
   ]
  },
  {
   "cell_type": "markdown",
   "id": "590bc673",
   "metadata": {},
   "source": [
    "And so, we make the cube. The first term in the cube is real easy, it only differentiates with respect to r.\n",
    "\n",
    "$$ B^\\mu_{\\nu,\\beta} = \\begin{bmatrix}\n",
    "0 & 0 \\\\ \n",
    "0 & -1/r^2\n",
    "\\end{bmatrix},\\begin{bmatrix}\n",
    "0 & 0 \\\\ \n",
    "0 & 0\n",
    "\\end{bmatrix} $$"
   ]
  },
  {
   "cell_type": "markdown",
   "id": "3b163ddb",
   "metadata": {},
   "source": [
    "Because only $B^\\theta_\\theta$ exists, the other terms become somewhat simple as well. The second index in the coefficients must also be $\\theta$, so the results are always restricted to the second column or row depending. Since most everything is zero, this simplifies things. Thus, we have:\n",
    "\n",
    "$$ B^\\alpha_\\nu \\Gamma^\\mu_{\\alpha\\beta} = \\begin{bmatrix}\n",
    "0 & 0 \\\\ \n",
    "0 & 1/r^2\n",
    "\\end{bmatrix},\\begin{bmatrix}\n",
    "0 & -1 \\\\ \n",
    "0 & 0\n",
    "\\end{bmatrix} $$\n",
    "\n",
    "$$  B^\\mu_\\alpha \\Gamma^\\alpha_{\\nu\\beta} = \\begin{bmatrix}\n",
    "0 & 0 \\\\ \n",
    "0 & 1/r^2\n",
    "\\end{bmatrix},\\begin{bmatrix}\n",
    "0 & 0 \\\\ \n",
    "1/r^2 & 0\n",
    "\\end{bmatrix} $$"
   ]
  },
  {
   "cell_type": "markdown",
   "id": "13f7e7aa",
   "metadata": {},
   "source": [
    "And so when all three are summed (or subtracted) the result becomes:\n",
    "\n",
    "$$ V^\\alpha_{;\\mu;\\nu} = \\begin{bmatrix}\n",
    "0 & 0 \\\\ \n",
    "0 & -1/r^2\n",
    "\\end{bmatrix},\\begin{bmatrix}\n",
    "0 & -1 \\\\ \n",
    "-1/r^2 & 0\n",
    "\\end{bmatrix} $$"
   ]
  },
  {
   "cell_type": "markdown",
   "id": "20958e17",
   "metadata": {},
   "source": [
    "Which we have no way to do a sanity check on like we did the previous one, but it doesn't seem unreasonable given what we already know. "
   ]
  },
  {
   "cell_type": "markdown",
   "id": "5640682c",
   "metadata": {},
   "source": [
    "## Problem 16\n",
    "\n",
    "*Fill in all the missing steps leading from 5.74 to 5.75*\n",
    "\n",
    "5.74: $\\Gamma^\\mu_{\\alpha\\beta} = \\Gamma^\\mu_{\\beta\\alpha}$ in ANY coordinate system.\n",
    "\n",
    "5.75: $\\frac{1}{2} g^{\\alpha\\gamma} (g_{\\alpha\\beta,\\mu} + g_{\\alpha\\mu,\\beta} - g_{\\beta\\mu,\\alpha}) =\\Gamma^\\gamma_{\\beta\\mu}$"
   ]
  },
  {
   "cell_type": "markdown",
   "id": "b7e7f4f4",
   "metadata": {},
   "source": [
    "There's actually more steps than this in the textbook, so we shall rely on them to draw up the rest of the steps. It will be given here in full. \n",
    "\n",
    "We start by knowing that the coefficients are the same in any given coordinate system. \n",
    "\n",
    "The first thing the book does is apply it to 5.72:\n",
    "\n",
    "$$ g_{\\alpha\\beta;\\mu} = g_{\\alpha\\beta,\\mu} - \\Gamma^\\nu_{\\alpha\\mu}g_{\\nu\\beta} - \\Gamma^\\nu_{\\beta\\mu}g_{\\alpha\\nu}$$"
   ]
  },
  {
   "cell_type": "markdown",
   "id": "4ef9581d",
   "metadata": {},
   "source": [
    "Doesn't seem obvious, right? Well, the book calls what follows \"advanced index gymnastics\" so bear with them for a while. First, keep in mind that the full derivative of the metric is alwys zero, so the above is an =0 situation. Now, playing with indeces gives us:\n",
    "\n",
    "$$ g_{\\alpha\\beta,\\mu} =  \\Gamma^\\nu_{\\alpha\\mu}g_{\\nu\\beta} + \\Gamma^\\nu_{\\beta\\mu}g_{\\alpha\\nu}$$\n",
    "$$ g_{\\alpha\\mu,\\beta} =  \\Gamma^\\nu_{\\alpha\\beta}g_{\\nu\\mu} + \\Gamma^\\nu_{\\mu\\beta}g_{\\alpha\\nu}$$\n",
    "$$ -g_{\\beta\\mu,\\alpha} = - \\Gamma^\\nu_{\\beta\\alpha}g_{\\nu\\mu} - \\Gamma^\\nu_{\\mu\\alpha}g_{\\beta\\nu}$$"
   ]
  },
  {
   "cell_type": "markdown",
   "id": "0dc935f7",
   "metadata": {},
   "source": [
    "Now remember that $g_{\\beta\\nu} = b_{\\nu\\beta}$ (because it's the metric of course its symmetrical) and then add everything together to produce:\n",
    "\n",
    "$$ g_{\\alpha\\beta,\\mu}+ g_{\\alpha\\mu,\\beta} -g_{\\beta\\mu,\\alpha}  =  \\Gamma^\\nu_{\\alpha\\mu}g_{\\nu\\beta} + \\Gamma^\\nu_{\\beta\\mu}g_{\\alpha\\nu} + \\Gamma^\\nu_{\\alpha\\beta}g_{\\nu\\mu} + \\Gamma^\\nu_{\\mu\\beta}g_{\\alpha\\nu} - \\Gamma^\\nu_{\\beta\\alpha}g_{\\nu\\mu} - \\Gamma^\\nu_{\\mu\\alpha}g_{\\beta\\nu} $$\n",
    "\n",
    "Now some of these terms cancel by 5.74, as the coefficients can just be adjusted to match and poof. \n",
    "\n",
    "$$ \\Rightarrow g_{\\alpha\\beta,\\mu}+ g_{\\alpha\\mu,\\beta} -g_{\\beta\\mu,\\alpha}  =  \\Gamma^\\nu_{\\beta\\mu}g_{\\alpha\\nu} + \\Gamma^\\nu_{\\mu\\beta}g_{\\alpha\\nu}  $$\n",
    "\n",
    "$$ \\Rightarrow g_{\\alpha\\beta,\\mu}+ g_{\\alpha\\mu,\\beta} -g_{\\beta\\mu,\\alpha}  = 2\\Gamma^\\nu_{\\beta\\mu}g_{\\alpha\\nu}  $$"
   ]
  },
  {
   "cell_type": "markdown",
   "id": "4e485b73",
   "metadata": {},
   "source": [
    "And... we're already there. Just divide out the 2 and we have it. \n",
    "\n",
    "Why did we just have to show what the book already showed again?\n",
    "\n",
    "\n",
    "This became evident in **Problem 20**"
   ]
  },
  {
   "cell_type": "markdown",
   "id": "17303a81",
   "metadata": {},
   "source": [
    "## Problem 17\n",
    "\n",
    "*Discover how each expression $V^\\beta_{,\\alpha}$ and $V^\\mu \\Gamma^\\beta_{\\mu\\alpha}$ separately transforms under a change of coordinates. (For Gamma, begin with 5.44). Show that neither is the standard tensor law, but that their sum does obey the standard law.*\n",
    "\n",
    "You know what, the finer details of this aren't important, we've decided. $\\Gamma$ is not a tensor, but a set of tensors, one for each unit vector, and the unit vectors change from basis to basis so the tensors do as well. \n",
    "\n",
    "Mainly not working this out because of the difficulty in proving a tensor obeys the standard law. (what even IS the standrad law?) Regardless, a trivial way to prove that it is not is to just take the cartesian $\\Gamma$ which are all zero. All of them. Ain't no transformation going to take a zero-tensor to anything else. Multiplying by numbers, zero, differentiating, zero, integrating, zero. All zero all the time. \n",
    "\n",
    "But why is the sum a tensor? Well, first of all, their addition is 5.50, that is, they equal $V^\\alpha_{;\\beta}$. They were DERIVED from this definition, and we know the total derivative is a tensor, so their sum has to be a tensor. \n",
    "\n",
    "So yeah let's not spend time here. "
   ]
  },
  {
   "cell_type": "markdown",
   "id": "2e544713",
   "metadata": {},
   "source": [
    "## Problem 18\n",
    "\n",
    "*Verify 5.78*\n",
    "\n",
    "5.78: $\\vec e_\\hat\\alpha \\cdot \\vec e_\\hat\\beta = g_{\\hat\\alpha\\hat\\beta} = \\delta_{\\hat\\alpha\\hat\\beta} ; \\tilde \\omega^\\hat\\alpha \\cdot \\tilde \\omega^\\hat\\beta = g^{\\hat\\alpha\\hat\\beta} = \\delta^{\\hat\\alpha\\hat\\beta} ; $"
   ]
  },
  {
   "cell_type": "markdown",
   "id": "8eabbd99",
   "metadata": {},
   "source": [
    "Oh this is just unit vector funtime. the established unit vectors and unit one-forms are given by 5.76 and 5.77. The vectors are (1,0) and (0,1/r) for polar. Conversely, (1,0) (0,r) for the one-forms, as expected.\n",
    "\n",
    "Now, dot products require the METRIC, which has the diagonal $(1,r^2)$ for vectors and $(1,1/r^2)$ for one-forms. \n",
    "\n",
    "We need to perform the completely arbitrary dot product in both cases. Dotting two unlike vectors just goes to 0 since their indeces don't match. As for along the diagonal:\n",
    "\n",
    "(1)(1)(1) =1 for both r-vectors and r-one forms. \n",
    "\n",
    "$(1/r)(1/r)(r^2)$ = 1 for $\\theta$-vectors. The corresponding one-forms are $(r)(r)(1/r^2)$ which also equals 1. \n",
    "\n",
    "Consider it confirmed! Ah, the nice unit-nature of unit-vectors. "
   ]
  },
  {
   "cell_type": "markdown",
   "id": "61f7b14e",
   "metadata": {},
   "source": [
    "## Problem 19\n",
    "\n",
    "*Verify that the calculation from 5.81 to 5.84 when repeated for $\\tilde dr$ and $\\tilde d\\theta$, shows them to be a coordiante basis.*"
   ]
  },
  {
   "cell_type": "markdown",
   "id": "2abc7cd5",
   "metadata": {},
   "source": [
    "Right, let's just go for it. \n",
    "\n",
    "5.26 says $\\tilde d\\theta = -\\frac1r sin\\theta \\tilde dx + \\frac1r cos\\theta \\tilde dy$\n",
    "\n",
    "5.27 says $\\tilde dr = cos\\theta \\tilde dx + sin\\theta \\tilde dy$"
   ]
  },
  {
   "cell_type": "markdown",
   "id": "7a18f36c",
   "metadata": {},
   "source": [
    "We can see from the definition of the derivative one forms that\n",
    "\n",
    "$$\\frac{\\partial \\xi}{\\partial x} = sin\\theta$$\n",
    "$$\\frac{\\partial \\xi}{\\partial y} = cos\\theta$$\n",
    "\n",
    "Supposedly this demands that, if it were true, then:\n",
    "\n",
    "$$ \\frac{\\partial}{\\partial y} \\frac{\\partial \\xi}{\\partial x} = \\frac{\\partial}{\\partial x} \\frac{\\partial \\xi}{\\partial y}$$\n",
    "\n",
    "Which makes sense.\n",
    "\n",
    "Anyway, we try to show that, if the relation actually is true, then...\n",
    "\n",
    "$$ \\frac{\\partial}{\\partial y} \\left( \\frac{y}{\\sqrt{x^2+y^2}} \\right) = \\frac{\\partial}{\\partial x} \\left( \\frac{x}{\\sqrt{x^2+y^2}} \\right) $$\n",
    "\n",
    "Which yes is pretty true. "
   ]
  },
  {
   "cell_type": "markdown",
   "id": "dea120c7",
   "metadata": {},
   "source": [
    "However we still have the second unit vector, the one that actually is changed:\n",
    "\n",
    "$$\\frac{\\partial \\eta}{\\partial x} = -\\frac{1}{r} sin\\theta$$\n",
    "$$\\frac{\\partial \\eta}{\\partial y} = \\frac{1}{r} cos\\theta$$\n",
    "\n",
    "Just realized that the above step does not demand the next one: mixed derivatives BETTER be equal in situations where stuff like that makes any sense at all. \n",
    "\n",
    "$$ \\frac{\\partial}{\\partial y} \\frac{\\partial \\eta}{\\partial x} = \\frac{\\partial}{\\partial x} \\frac{\\partial \\eta}{\\partial y}$$\n",
    "\n",
    "Which makes sense, as they have the same 1/r term out front, and the trig functions should pop out of eitehr when the derivative is taken again. (why is it a rule though?)\n",
    "\n",
    "Anyway, we try to show that, if the relation actually is true, then...\n",
    "\n",
    "$$ -\\frac{\\partial}{\\partial y} \\left( \\frac{y}{x^2+y^2} \\right) = \\frac{\\partial}{\\partial x} \\left( \\frac{x}{x^2+y^2} \\right) $$"
   ]
  },
  {
   "cell_type": "markdown",
   "id": "2f2fa20a",
   "metadata": {},
   "source": [
    "And this is true as we get things of the form:\n",
    "\n",
    "$$  \\frac{-x^2+y^2}{x^4+y^4+2x^2y^2}$$\n",
    "\n",
    "And they canel perfectly. (Yes, we checked the signs)\n",
    "\n",
    "Curiously when we replicate the book's version with the unit vectors, the signs go the wrong way due to the root in the denominator, but the variable on top changes from x to y as well! "
   ]
  },
  {
   "cell_type": "markdown",
   "id": "ca83d170",
   "metadata": {},
   "source": [
    "## Problem 20\n",
    "\n",
    "*For a noncoordinate basis {$\\vec e_\\mu$}, define $\\nabla_{\\vec e_\\mu} \\vec e_\\nu - \\nabla_{\\vec e_\\nu} \\vec e_\\mu = c^\\alpha_{\\mu\\nu}\\vec e_\\alpha$ and use this in place of 5.74 to generalize 5.75.*"
   ]
  },
  {
   "cell_type": "markdown",
   "id": "9a9ebf62",
   "metadata": {},
   "source": [
    "Okay so 5.74 is $\\Gamma^\\mu_{\\alpha\\beta} = \\Gamma^\\mu_{\\beta\\alpha}$ that is, the Chirstoffel symbols/coefficients can have their lower indeces swapped. Well, not today. Can't assume that, as we are noncoordinate. \n",
    "\n",
    "So, what does this mean for 5.75? \n",
    "\n",
    "$\\frac{1}{2} g^{\\alpha\\gamma} (g_{\\alpha\\beta,\\mu} + g_{\\alpha\\mu,\\beta} - g_{\\beta\\mu,\\alpha}) =\\Gamma^\\gamma_{\\beta\\mu}$\n",
    "\n",
    "Ah, and now we see why we did **Problem 16**, so we can solve for the Christoffel coefficients without our fancy-pants index adjustments. "
   ]
  },
  {
   "cell_type": "markdown",
   "id": "1657733a",
   "metadata": {},
   "source": [
    "We can get this far in the derivation without anything new, as the METRIC is always symmetric.:\n",
    "\n",
    "$$ g_{\\alpha\\beta,\\mu}+ g_{\\alpha\\mu,\\beta} -g_{\\beta\\mu,\\alpha}  =  \\Gamma^\\nu_{\\alpha\\mu}g_{\\nu\\beta} + \\Gamma^\\nu_{\\beta\\mu}g_{\\alpha\\nu} + \\Gamma^\\nu_{\\alpha\\beta}g_{\\nu\\mu} + \\Gamma^\\nu_{\\mu\\beta}g_{\\alpha\\nu} - \\Gamma^\\nu_{\\beta\\alpha}g_{\\nu\\mu} - \\Gamma^\\nu_{\\mu\\alpha}g_{\\beta\\nu} $$\n",
    "\n",
    "$$ \\Rightarrow g_{\\alpha\\beta,\\mu}+ g_{\\alpha\\mu,\\beta} -g_{\\beta\\mu,\\alpha}  =  (\\Gamma^\\nu_{\\alpha\\mu} - \\Gamma^\\nu_{\\mu\\alpha})g_{\\nu\\beta} + (\\Gamma^\\nu_{\\beta\\mu}+ \\Gamma^\\nu_{\\mu\\beta})g_{\\alpha\\nu} + (\\Gamma^\\nu_{\\alpha\\beta}- \\Gamma^\\nu_{\\beta\\alpha})g_{\\nu\\mu} $$"
   ]
  },
  {
   "cell_type": "markdown",
   "id": "08fb90bf",
   "metadata": {},
   "source": [
    "The question now is what do we do from here, or so we try another method entirely?\n",
    "\n",
    "The Christoffel symbols have no relation to our specially \"defined\" relation in the problem statement, and neitehr do the metric tensors. Perhaps we are not finding the Christoffel symbols--perhaps we ar efinding the \"e\" values we have just defined? So what if they equal something akin to \"e\" rather than \"$\\Gamma$\"?\n",
    "\n",
    "Let's try finding what the first half of the 5.75 function equals if it's not the Christoffel coefficient. \n",
    "\n",
    "Let's actually expand out our relation, as there's implied sums everywhere--wait we can't do that, we don't actually know how large our bases are at all. They could be tremendous! \n",
    "\n",
    "Perhaps relate the metric tensor to the derivative of the vectors which make up the metric tensor? How, though?\n",
    "\n",
    "Seems somewhat unimportant to future work, let's not waste time here. INCOMPLETE. "
   ]
  },
  {
   "cell_type": "markdown",
   "id": "24816729",
   "metadata": {},
   "source": [
    "## Problem 21\n",
    "\n",
    "*Consider the xt plane of an inertial observer in SR. A certain uniformly acelerated observer wishes to set up an orthornomal coordiante system. By **Problem 2-21** his world line is $t(\\lambda) = a sinh \\lambda, x(\\lambda) = a cosh \\lambda$. Where a is a constant and a$\\lambda$ is his proper time (clock time on his wrist watch).*\n",
    "\n",
    "Oh boy, one of the problems that wasn't succesfully accompllished. Joy...\n",
    "\n",
    "*a) Show that the spacelike line described by 5.96 (above) with a as the variable parameter and $\\lambda$ as fixed is orthogonal to his world line where they intersect. Changing $\\lambda$ in 5.96 then generates a family of such lines.*"
   ]
  },
  {
   "attachments": {
    "Screenshot%20from%202022-05-29%2011-59-34.png": {
     "image/png": "[encoded data removed]"
    }
   },
   "cell_type": "markdown",
   "id": "952b1acd",
   "metadata": {},
   "source": [
    "We originally misunderstood this problem. What we have is TWO different parametric equations that are BOTH being applied to the xt plane, just with different parameters to serve as the \"ticker.\" Visually, here it is modeled in Geogbra:\n",
    "\n",
    "![Screenshot%20from%202022-05-29%2011-59-34.png](attachment:Screenshot%20from%202022-05-29%2011-59-34.png)"
   ]
  },
  {
   "cell_type": "markdown",
   "id": "474fec56",
   "metadata": {},
   "source": [
    "Since this is a worldline we only care about the positive half of the original worldline. (cosht can't be negative anyway, dunno why the program demands adding the plus or minus. it does look nice though.)\n",
    "\n",
    "Please note that the \"time step\" t does not need to be the same in both equations when they are equal, which was our original bad assumption. However, orthogonality is still our desire: it must be zero. we still have two options: solve for when they intersect and see if they're orthogonal, or find where they're orthogonal and see if they intersect. \n",
    "\n",
    "Making them equal is much easier this way though: first equation's parameter needs to be the constant of the second, and vice versa. Or:\n",
    "\n",
    "$a sinh \\lambda = \\tau sinh b = a sinh b$. So everything is just the constants. Which makes the dot product:\n",
    "\n",
    "$$ - a^2 sinh^2 b + a^2 cosh^2 b = 1$$\n",
    "\n",
    "Hmm. Well. That's not orthogonal.\n",
    "\n",
    "However playing with geogebra we do see that the tangent line to the first equaiton is effectively reflected across a y=x+n line, (where n could be anything.) The *slopes* of the lines, that is their velocities, would definitely be orthogonal. \n",
    "\n",
    "Let's test this. \n",
    "\n",
    "Slope of second equation is easy: sinh(b)/cosh(b). \n",
    "\n",
    "The first equation divids out the \"a\" and just has times left in the derivative. Hyperbolic trig functions flop back and forth, leaving us with cosh(t)/sinh(t). \n",
    "\n",
    "AT t=b, the slopes are equal reciprocals of each other, which would mean the velocity vectors are orthogonal. "
   ]
  },
  {
   "cell_type": "markdown",
   "id": "e77449b0",
   "metadata": {},
   "source": [
    "But all we proved was that the velocities are orthogonal. Is that all we needed? Admiddedly quite confused, but let's go to the next part since we at least have a relation here.\n",
    "\n",
    "But yes no matter what b is the orthogonality in derivatives will hold. \n",
    "\n",
    "Maybe we are supposed to use the derivatives--or, more accuratley, we're making UNIT VECTORS. Unit vectors are in fact determined by \"how fast\" something is going (their length). In this sense, the unit vectors are always orthogonal to each other. \n",
    "\n",
    "NOTE: inverse slopes are only orthogonal along time-space axes, given that one side gets (-1) assoiated with it. And even then, only in single space axes: if we had x and a y, we'd need to find what laid along their \"intersection.\""
   ]
  },
  {
   "cell_type": "markdown",
   "id": "ccd3d3dd",
   "metadata": {},
   "source": [
    "*b) Show that 5.96 (above) defines a transformation from coordinates (t,x) to ($\\lambda$,a) which form an orthogonal coordinate system. Draw these coordinates and show that they cover only one half of the original tx plane. Show that the coordinates are bad on the lines |x|=|t| so they really cover two disjoint quadrants.*"
   ]
  },
  {
   "cell_type": "markdown",
   "id": "d0276e7c",
   "metadata": {},
   "source": [
    "From playing with Geogebra we already know the problem with the coordinate transform, certain areas cannot be touched. Remember how Geogebra insisted on using the negative cosh in the diagram? Well, cosh can never be negative. (But a can, which is why it is there). However, there is a problem: You can see in Geogebra that the function asymptotically approches x=t. No matter what parameters we adjust, it will never cross it, and in the extreme case it forms a cross at x=t. Thus, anything above the speed-of-light line is beyond us. \n",
    "\n",
    "Also it's easy to show the coordiantes are bad on the x=t lines. That happens when we set a to 0! Which means our basis vectors are defined by (0,0) and that's undefined literally everywhere. \n",
    "\n",
    "b=0 isn't as big of a deal. It's also not very useful because that just ends up producing stretched cartesian bases. "
   ]
  },
  {
   "cell_type": "markdown",
   "id": "c874abd7",
   "metadata": {},
   "source": [
    "*c) Find the metric tensor and all the Chrsitoffel symbols in this coordisnate system. The observer will do a parfectly good job, provided that he always uses Christoffel symbools appropriately and sticks to events in his quadrant. in this sense, SR admits accelerated observers. The right-hand quadrant in these coordisnates is sometimes called Rindler Space, and the boundary lines x=$\\pm$t bear some resemblence to the black-hole horizons we will study later.*"
   ]
  },
  {
   "cell_type": "markdown",
   "id": "4bf8343c",
   "metadata": {},
   "source": [
    "Ah, I see the actual meat of the problem. Anyway, our goal is to be create a metric tensor for this system, and from that we can find the Chrsitoffel symbols rather trivially. \n",
    "\n",
    "However finding the metric is not trivial... it involves defining the basis vectors for this system in terms of x and t. We actually do have a relation though: $x = asinh\\lambda, t = acosh\\lambda$. \n",
    "\n",
    "From this we are going to find a transformation matrix. 5.13 gives us the format for one-forms, which looks the easist to calculate. The derivative matrix for one-forms becomes, when ordering the coordinates $(t,x) \\rightarrow (\\lambda, a)$:\n",
    "\n",
    "$$ \\Lambda^\\alpha_{\\beta'} = \\begin{bmatrix}\n",
    "asinh \\lambda & cosh \\lambda \\\\ \n",
    "acosh \\lambda & sinh \\lambda\n",
    "\\end{bmatrix} $$\n",
    "\n",
    "The vector version would need to be the inverse of this. \n",
    "\n",
    "$$ \\Lambda^{\\alpha'}_{\\beta} = \\begin{bmatrix}\n",
    "-sinh \\lambda & cosh \\lambda \\\\ \n",
    "acosh \\lambda & -asinh \\lambda\n",
    "\\end{bmatrix} $$\n",
    "\n",
    "Now we can find out what our unit vectors are. "
   ]
  },
  {
   "cell_type": "markdown",
   "id": "26c88611",
   "metadata": {},
   "source": [
    "Page 122 gives us the general formula $ \\vec e_{\\alpha'} = \\Lambda^\\beta_{\\alpha'} \\vec e_\\beta $. \n",
    "\n",
    "In our case this becomes:\n",
    "\n",
    "$$ \\vec e_{\\lambda} = \\Lambda^x_{\\lambda} \\vec e_x + \\Lambda^y_{\\lambda} \\vec e_y $$\n",
    "$$ \\vec e_{a} = \\Lambda^x_{a} \\vec e_x + \\Lambda^y_{a} \\vec e_y $$\n",
    "\n",
    "Evaluated...\n",
    "\n",
    "$$ \\vec e_{\\lambda} = asinh\\lambda \\vec e_x + acosh\\lambda \\vec e_y $$\n",
    "$$ \\vec e_{a} = cosh\\lambda \\vec e_x + sinh\\lambda \\vec e_y $$"
   ]
  },
  {
   "cell_type": "markdown",
   "id": "3e22a10c",
   "metadata": {},
   "source": [
    "We already proved the orthogonality of these vectors in the above parts (for a given value of \"proved\"). So that saves us some of the problem with constructing the metric tensor, for the off-diagonals have to be zero. But what of the actual diagonals? Just dot them with their cartesian componetns. We end up with $a^2sinh^2\\lambda + a^2cosh^2\\lambda$ and $cosh^2\\lambda + sinh^2\\lambda$. Working with the hyperbolic trig functions, it becomes clear that the relaiton of adding their squares creates a metric of:\n",
    "\n",
    "$$ \\textbf{g} = \\begin{bmatrix}\n",
    "acosh(2\\lambda) & 0 \\\\ \n",
    "0 & cosh(2\\lambda)\n",
    "\\end{bmatrix} $$\n"
   ]
  },
  {
   "cell_type": "markdown",
   "id": "fb155070",
   "metadata": {},
   "source": [
    "And finally we turn to:\n",
    "\n",
    "$$\\frac{1}{2} g^{\\alpha\\gamma} (g_{\\alpha\\beta,\\mu} + g_{\\alpha\\mu,\\beta} - g_{\\beta\\mu,\\alpha}) =\\Gamma^\\gamma_{\\beta\\mu}$$\n",
    "\n",
    "to calculate our coefficients. Finding the inverse metric isn't too bad.\n",
    "\n",
    "$$ \\textbf{g}^{-1} = \\begin{bmatrix}\n",
    "1/acosh(2\\lambda) & 0 \\\\ \n",
    "0 & 1/cosh(2\\lambda)\n",
    "\\end{bmatrix} $$\n",
    "\n",
    "And now TENSOR ALGEBRA AGAIN. We're going to end up with a total of eight combinations, with indeces $\\lambda$ and a, each. Not typing it out but trust me there's a sheet of paper with each individual combination that can't easily be dismissed.\n",
    "\n",
    "$$\\frac{1}{2} g^{\\lambda\\gamma} (g_{\\lambda\\beta,\\mu} + g_{\\lambda\\mu,\\beta} - g_{\\beta\\mu,\\lambda}) + \\frac{1}{2} g^{a\\gamma} (g_{a\\beta,\\mu} + g_{a\\mu,\\beta} - g_{\\beta\\mu,a}) =\\Gamma^\\gamma_{\\beta\\mu}$$"
   ]
  },
  {
   "cell_type": "markdown",
   "id": "7d58a424",
   "metadata": {},
   "source": [
    "Simplifications: the metric's off-diagonals are zero, so it exists only if the two primary indeces are zero. This means at any given time only one of the two parts above will exist. \n",
    "\n",
    "In the end, we end up with the following (indexed $\\gamma\\beta\\mu$ via $\\lambda a$.\n",
    "\n",
    "$$ \\Gamma^\\gamma_{\\beta\\mu} = \\begin{bmatrix}\n",
    "\\frac{sinh(2\\lambda)}{cosh(2\\lambda)} & \\frac{1}{2a} \\\\ \n",
    "-\\frac{1}{2} & \\frac{a sinh(2\\lambda)}{cosh(2\\lambda)}\n",
    "\\end{bmatrix},\\begin{bmatrix}\n",
    "\\frac{1}{2a} & -\\frac{sinh(2\\lambda)}{acosh(2\\lambda)} \\\\ \n",
    "\\frac{a sinh(2\\lambda)}{cosh(2\\lambda)} & 0\n",
    "\\end{bmatrix} $$"
   ]
  },
  {
   "cell_type": "markdown",
   "id": "0d95541a",
   "metadata": {},
   "source": [
    "Which is what I call a very interesting cube. "
   ]
  },
  {
   "cell_type": "markdown",
   "id": "4d7e1579",
   "metadata": {},
   "source": [
    "## Problem 22\n",
    "\n",
    "*Show that if $U^\\alpha \\nabla_\\alpha V^\\beta = W^\\beta$ then $U^\\alpha \\nabla_\\alpha V_\\beta = W_\\beta$*"
   ]
  },
  {
   "cell_type": "markdown",
   "id": "e42ebc15",
   "metadata": {},
   "source": [
    "This basically says that the four-velocity and the derivative operator, when used togehter, can transform any one form and any vector into corresponding versions of each other--that is, if we were to apply the metric to one of the W results, we would get the other one. \n",
    "\n",
    "Which implies that...\n",
    "\n",
    "$$ g_{\\beta\\mu} U^\\alpha \\nabla_\\alpha V^\\beta = U^\\alpha \\nabla_\\alpha V_\\beta $$"
   ]
  },
  {
   "cell_type": "markdown",
   "id": "3fc6dde9",
   "metadata": {},
   "source": [
    "We can apply the gradient to simplify notaiton. We will note that this is not a TOTAL derivative, just the partial by-component derivative, so we use a comma instead of a semicolon. \n",
    "\n",
    "$$ g_{\\beta\\mu} U^\\alpha V^\\beta_{,\\alpha} = U^\\alpha V_{\\beta,\\alpha} $$"
   ]
  },
  {
   "cell_type": "markdown",
   "id": "fae40219",
   "metadata": {},
   "source": [
    "Remember we don't have \"order of operations\" here in the component-by-component base, so we can apply the metric directly to the derivative. We know this lowers an index. \n",
    "\n",
    "$$ U^\\alpha V_{\\mu,\\alpha} = U^\\alpha V_{\\beta,\\alpha} $$"
   ]
  },
  {
   "cell_type": "markdown",
   "id": "9eb6e03c",
   "metadata": {},
   "source": [
    "indeces can be relabeled at will so this is all good. Which leads us to a somewhat uncomfortable question: Why is the U even there? This implies that it does nothing overall. Which, honestly, it seems like it doesn't: all it does is provide an index to sum over, ensuring that every component is being added together, and that each one is being added together by the coefficients of U. (whatever they may be, there will be four of them, as U is a four-velocity). It seems irrelevant. \n",
    "\n",
    "There is a minor thought: U itself is related to the time derivative, while our gradient can be in any basis right now but it's a derivative in that basis. But it really seems as though U can just be taken off as it doesn't influence the relation whatsoever aside from adding the index to sum over. (Perhaps that is all it does? It truly does serve as an arbitrary vector?) "
   ]
  },
  {
   "cell_type": "code",
   "execution_count": null,
   "id": "26b386e4",
   "metadata": {},
   "outputs": [],
   "source": []
  }
 ],
 "metadata": {
  "kernelspec": {
   "display_name": "Python 3 (ipykernel)",
   "language": "python",
   "name": "python3"
  },
  "language_info": {
   "codemirror_mode": {
    "name": "ipython",
    "version": 3
   },
   "file_extension": ".py",
   "mimetype": "text/x-python",
   "name": "python",
   "nbconvert_exporter": "python",
   "pygments_lexer": "ipython3",
   "version": "3.10.4"
  }
 },
 "nbformat": 4,
 "nbformat_minor": 5
}
