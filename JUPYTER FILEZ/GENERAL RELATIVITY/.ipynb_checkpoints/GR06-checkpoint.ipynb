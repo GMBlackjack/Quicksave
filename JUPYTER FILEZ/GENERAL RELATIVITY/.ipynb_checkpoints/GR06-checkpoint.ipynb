{
 "cells": [
  {
   "cell_type": "markdown",
   "id": "0c1bfe81",
   "metadata": {},
   "source": [
    "# General Relativity Problems Chapter 6: Curved Manifolds\n",
    "\n",
    "## Authors: Gabriel M Steward"
   ]
  },
  {
   "cell_type": "markdown",
   "id": "479540e4",
   "metadata": {},
   "source": [
    "https://github.com/zachetienne/nrpytutorial/blob/master/Tutorial-Template_Style_Guide.ipynb\n",
    "\n",
    "Link to the Style Guide. Not internal in case something breaks. "
   ]
  },
  {
   "cell_type": "markdown",
   "id": "10780970",
   "metadata": {},
   "source": [
    "### </list_source_code> NRPy+ Source Code for this module:\n",
    "None! \n",
    "\n",
    "## Introduction:\n",
    "Are we finally giong to get to actual curved space? Will the land of special relativity be left behind at long last? We've certainly spent a lot of work building up to this point...\n",
    "\n",
    "## </other>  Other (Optional): \n",
    "Placeholder. \n",
    "### Note on Notation:\n",
    "Any new notation will be brought up in the notebook when it becomes relevant. \n",
    "\n",
    "### Citations:\n",
    "All citations will be collected here. "
   ]
  },
  {
   "cell_type": "markdown",
   "id": "56664bc2",
   "metadata": {},
   "source": [
    "<a id='toc'></a>\n",
    "# Table of Contents\n",
    "$$\\label{toc}$$\n",
    "\n",
    "[Problem 1](#P1) (What are Manifolds?)\n",
    "\n",
    "[Problem 2](#P2) (Manifold Metrics)\n",
    "\n",
    "[Problem 3](#P3) (Proof of Metric Transform's Existence)\n",
    "\n",
    "[Problem 4](#P4) (Local Flatness Theorem)\n",
    "\n",
    "[PDF](#latex_pdf_output) (turn this into a PDF)\n"
   ]
  },
  {
   "cell_type": "markdown",
   "id": "7daf72fa",
   "metadata": {},
   "source": [
    "<a id='P1'></a>\n",
    "# Problem 1 \\[Back to [top](#toc)\\]\n",
    "$$\\label{P1}$$ \n",
    "\n",
    "*Decide if the following sets are manifolds and say why. If there are any exceptional points at which the sets are not manifolds, give them:*\n",
    "\n",
    "*a) Phase space of Hamiltonian mechanics, the space of the canonical coordinates and momenta $p_i$ and $q^i$*"
   ]
  },
  {
   "cell_type": "markdown",
   "id": "e4fdcca3",
   "metadata": {},
   "source": [
    "A manifold is best thought of as just a parameterizable space. The space of coordinates and momentum are perfectly fine in this way, and are in fact often mapped to cartesian grids in the first place. So yes, this is a manifold. "
   ]
  },
  {
   "cell_type": "markdown",
   "id": "cab0d8a4",
   "metadata": {},
   "source": [
    "*b) The interior of a circle of unit radius in two-dimensional Euclidian space*\n",
    "\n",
    "Is a manifold everywhere except the center, much like polar coordinates. (Note: we are definitely assuming that we can parameterize however we want.)"
   ]
  },
  {
   "cell_type": "markdown",
   "id": "5152680e",
   "metadata": {},
   "source": [
    "*c) The set of permutations of n objects.*\n",
    "\n",
    "This would be a no. Because we need CONTINUOUS parameterization. No matter how fancy the set of permutations is, it's still discrete. "
   ]
  },
  {
   "attachments": {
    "Screenshot%20from%202022-05-29%2014-18-43.png": {
     "image/png": "[encoded data removed]"
    }
   },
   "cell_type": "markdown",
   "id": "68c8eb3d",
   "metadata": {},
   "source": [
    "*d) The subset of Euclidean space of two dimensions (coordinates x and y) which is a solution to xy$(x^2+y^2-1)$=0*\n",
    "\n",
    "Well this is interesting...\n",
    "\n",
    "![Screenshot%20from%202022-05-29%2014-18-43.png](attachment:Screenshot%20from%202022-05-29%2014-18-43.png)"
   ]
  },
  {
   "cell_type": "markdown",
   "id": "43bd866a",
   "metadata": {},
   "source": [
    "The circle by itself can clearly be a manifold (of one dimension too!) but the rest? Discontinuities all over the place... no, I don't think this is a manifold, as trying to parameterize it doesn't seem to pan out. \n",
    "\n",
    "As for a more strict reason why not... er... So define the angle around the circle as one dimension, right? Well, suddenly that dimension can't be used if the distance from the origin is anything but 1--that is, it becomes FOUR DISCRETE VALUES, not continuous. \n",
    "\n",
    "If we could trace a single line through the shape that covers every portion, we would have a way out. However we have four \"exit\" points which makes that impossible, meaning we do need two parameters for this space, of which no continouous one exists. "
   ]
  },
  {
   "cell_type": "markdown",
   "id": "c8575b66",
   "metadata": {},
   "source": [
    "<a id='P2'></a>\n",
    "# Problem 2 \\[Back to [top](#toc)\\]\n",
    "$$\\label{P2}$$ \n",
    "*Of the manifolds in **Problem 1**, on which is it customary to use a metric, and what is that metric? On which would a metric not normally be defined and why?*\n",
    "\n",
    "First of all the permutaiions and \"sniper shot\" set can be dismissed, as they are not manifolds, which just leaves Phase Space and The Circle. "
   ]
  },
  {
   "cell_type": "markdown",
   "id": "fb67fd7b",
   "metadata": {},
   "source": [
    "For Phase Space, it's generally just a cartesian metric, so it's the cartesian metric. \n",
    "\n",
    "For the circle, one would use the radial metric. However, it's not actually customary to do this, as most use unit vectors which are decidedly not coordinate bases. usually this isn't a problem as cartesian circles have identical one forms and vectors so there's no need to convert. \n",
    "\n",
    "((Perhaps later understanding will be gained that makes all of this look silly. Maybe the \"sniper shot\" really is a manifold, though clearly a metric wouldn't be very helpful as it's not smooth at all anywhere. Look at those holes...))"
   ]
  },
  {
   "cell_type": "markdown",
   "id": "27331da9",
   "metadata": {},
   "source": [
    "<a id='P3'></a>\n",
    "# Problem 3 \\[Back to [top](#toc)\\]\n",
    "$$\\label{P3}$$ \n",
    "\n",
    "*It is well known that for any symmetric matrix A (with real entries) ther exists a matrix H for which the matrix $H^TAH$ is a diagonal matrix whos entries are the eigenvalues of A.*\n",
    "\n",
    "*a) Show that there is a matrix R such that $R^TH^TAHR$ is the same matrix as $H^TAH$ except with the eigenvalues rearranged in ascending order along the main diagonal from top to bottom.*"
   ]
  },
  {
   "cell_type": "markdown",
   "id": "d976c2b0",
   "metadata": {},
   "source": [
    "So we start by knowing that there is a diagonal matrix. What we need to show is that there exists a \"shuffling\" matrix that can re-arrange the eigenvalues. Note: we just need to show that one exists. It could be anything, and it doesn't have to be \"smart\" about it, that is, it doesn't have to *choose* the highest value to go to the highest place. \n",
    "\n",
    "R will be a matrix with 1 and 0 values off the diagonal (or on the diagonal if a value is already in the right spot). Note that R itself will be a symmetric matrix, using \"1\" values off the edge to swap the position of two eigenvalues. If more than one swap needs to be done, R can just be a combination of all the matrices required to do the swap. \n",
    "\n",
    "Good stuff, proven. "
   ]
  },
  {
   "cell_type": "markdown",
   "id": "a1d70265",
   "metadata": {},
   "source": [
    "*b) Show that there exists a third matrix such that $N^TR^TH^TAHRN$ is a diagonal matrix whose entries on the diagonal are -1,0, or +1.*"
   ]
  },
  {
   "cell_type": "markdown",
   "id": "17ff633b",
   "metadata": {},
   "source": [
    "This one's even easier. Let N itself be a diagonal matrix, so that all the values are simply diagnonal values multiplied by diagonal values, there is no swapping or moving. In this case, transpose matrix multiplicaiton is commutative, so we can just make $N^TN$ = NN. We do this so we can define N to be its own transpose and say that the NN matrix is just 1/|eigenvalue| of every eigenvalue in the right position. This will reduce everything into units. "
   ]
  },
  {
   "cell_type": "markdown",
   "id": "8a1f1102",
   "metadata": {},
   "source": [
    "*c) Show that if A has an inverse, none of the diagonal elements in b) is zero.*\n",
    "\n",
    "If you have a zero eigenvalue, then the determinant is zero, which means the matrix has no inverse. \n",
    "\n",
    "So you have to have all your eigenvalues to be invertible. "
   ]
  },
  {
   "cell_type": "markdown",
   "id": "605b06b1",
   "metadata": {},
   "source": [
    "*d) Show from a)-c) that there exists a transformation matrix $\\Lambda$ which produces 6.2*\n",
    "\n",
    "6.2 is just the general metric tensor $\\eta$ with diagonal. (-1,1,1,1). \n",
    "\n",
    "Assuming A is invertible (it better be), then we automatically have a way to convert to $(\\pm1,\\pm1,\\pm1,\\pm1)$. When building your nice transformation matrix, just be sure to add a final matrix to the end: one that changes the signs along the diagonal to what we need. \n",
    "\n",
    "What about the fact that some of our matrices are past the right side? We can easily move N across, but what about R and H? All we can really say for sure is that there exists a SANDWICH around A that produces the correct metric, that is $L^TAL = \\textbf{g}$. \n",
    "\n",
    "But let's think about what this means, expanding it into tensor notation.\n",
    "\n",
    "$$ L^{\\alpha'}_{\\beta} A^\\beta_{\\delta} L^{\\delta}_{\\gamma'} = L^{\\alpha'}_{\\beta} L^{\\delta}_{\\gamma'}  A^\\beta_{\\delta} $$"
   ]
  },
  {
   "cell_type": "markdown",
   "id": "33b11c02",
   "metadata": {},
   "source": [
    "So the quesiton now is, can the actions of the two matrices be done by one? The only fact we have is that one is the transpose of the other. Playing the game of transposes does nothing. \n",
    "\n",
    "How on earth does $ L^T A L = \\eta \\rightarrow \\Lambda A = \\eta $.\n",
    "\n",
    "All we've proven is that there exists a \"sandwich\" that will transform A into the standard metric, not a **single** matrix. "
   ]
  },
  {
   "cell_type": "markdown",
   "id": "7e342e45",
   "metadata": {},
   "source": [
    "Wait, hold on, we're stupid. \n",
    "\n",
    "The transformation matrix IS NOT USED ONLY ONCE TO TRANSFORM A MATRIX. \n",
    "\n",
    "The matrix transforms one of the basis vectors. \n",
    "\n",
    "TO GET A FULL TRANSFORM ANY MATRIX MUST BE USED TWICE. Once for the rows, once for the columns.\n",
    "\n",
    "That's what the transpose notaiton MEANS. "
   ]
  },
  {
   "cell_type": "markdown",
   "id": "a3ee857e",
   "metadata": {},
   "source": [
    "<a id='P4'></a>\n",
    "# Problem 4 \\[Back to [top](#toc)\\]\n",
    "$$\\label{P4}$$ \n",
    "\n",
    "*Prove the following results used in the proof of the local flatness theorem in Section 6.2*\n",
    "\n",
    "*a) the number of independent values of $\\partial^2x^\\alpha/\\partial x^{\\gamma'} \\partial x^{\\mu'}|_0$ is 40*"
   ]
  },
  {
   "cell_type": "markdown",
   "id": "d88a0bcc",
   "metadata": {},
   "source": [
    "We're looking for independent values of a matrix, here. We know we are symmetric in $\\gamma$ and $\\mu$ since the order you take derivatives in does not matter. For a symmetric 2x2 matrix, there are 10 independnet values (4 along the diagonal, 6 off-diagonals).\n",
    "\n",
    "Simply multiply this by the four indeces on top to get 40. "
   ]
  },
  {
   "cell_type": "markdown",
   "id": "e8e7bab0",
   "metadata": {},
   "source": [
    "*b) the number of independent values of $\\partial^3x^\\alpha/\\partial x^{\\lambda'} \\partial x^{\\mu'} \\partial x^{\\nu'}|_0$ is 80*"
   ]
  },
  {
   "cell_type": "markdown",
   "id": "e8028e18",
   "metadata": {},
   "source": [
    "What is the symmetry along a 4x4x4 3D symmetry matrix? We have to look at combinations here, every simple two-fold shuffling will be the same. So let's just list unique numbers. \n",
    "\n",
    "000\n",
    "\n",
    "111\n",
    "\n",
    "222\n",
    "\n",
    "333\n",
    "\n",
    "These are the diagonal, they are independent, and there are four of them. Now let's classify all the others:\n",
    "\n",
    "001 = 010 = 100\n",
    "\n",
    "110 = 101 = 011\n",
    "\n",
    "123 = 231 = 312 = 321 = 213 = 132\n",
    "\n",
    "There are 60 total off diagonals, 16 of them need to be independent. Should be fun to fully enumerate. "
   ]
  },
  {
   "cell_type": "markdown",
   "id": "aaa86a6e",
   "metadata": {},
   "source": [
    "*c) The corresponding number for $g_{\\alpha\\beta,\\gamma',\\mu'}|_0$ is 100*"
   ]
  },
  {
   "cell_type": "markdown",
   "id": "df50096e",
   "metadata": {},
   "source": [
    "<a id='latex_pdf_output'></a>\n",
    "\n",
    "# Addendum: Output this notebook to $\\LaTeX$-formatted PDF file \\[Back to [top](#toc)\\]\n",
    "$$\\label{latex_pdf_output}$$\n",
    "\n",
    "The following code cell converts this Jupyter notebook into a proper, clickable $\\LaTeX$-formatted PDF file. After the cell is successfully run, the generated PDF may be found in the root NRPy+ tutorial directory, with filename\n",
    "[GR06.pdf](GR06.pdf) (Note that clicking on this link may not work; you may need to open the PDF file through another means.)\n",
    "\n",
    "**Important Note**: Make sure that the file name is right in all six locations, two here in the Markdown, four in the code below. \n",
    "\n",
    "* GR06.pdf\n",
    "* GR06.ipynb\n",
    "* GR06.tex"
   ]
  },
  {
   "cell_type": "code",
   "execution_count": 10,
   "id": "abf583ef",
   "metadata": {
    "scrolled": false
   },
   "outputs": [
    {
     "name": "stdout",
     "output_type": "stream",
     "text": [
      "Traceback (most recent call last):\n",
      "  File \"/home/gsteward/jup310/bin/jupyter-nbconvert\", line 8, in <module>\n",
      "    sys.exit(main())\n",
      "  File \"/home/gsteward/jup310/lib/python3.10/site-packages/jupyter_core/application.py\", line 269, in launch_instance\n",
      "    return super().launch_instance(argv=argv, **kwargs)\n",
      "  File \"/home/gsteward/jup310/lib/python3.10/site-packages/traitlets/config/application.py\", line 972, in launch_instance\n",
      "    app.start()\n",
      "  File \"/home/gsteward/jup310/lib/python3.10/site-packages/nbconvert/nbconvertapp.py\", line 414, in start\n",
      "    self.convert_notebooks()\n",
      "  File \"/home/gsteward/jup310/lib/python3.10/site-packages/nbconvert/nbconvertapp.py\", line 588, in convert_notebooks\n",
      "    self.convert_single_notebook(notebook_filename)\n",
      "  File \"/home/gsteward/jup310/lib/python3.10/site-packages/nbconvert/nbconvertapp.py\", line 551, in convert_single_notebook\n",
      "    output, resources = self.export_single_notebook(\n",
      "  File \"/home/gsteward/jup310/lib/python3.10/site-packages/nbconvert/nbconvertapp.py\", line 479, in export_single_notebook\n",
      "    output, resources = self.exporter.from_filename(\n",
      "  File \"/home/gsteward/jup310/lib/python3.10/site-packages/nbconvert/exporters/exporter.py\", line 189, in from_filename\n",
      "    return self.from_file(f, resources=resources, **kw)\n",
      "  File \"/home/gsteward/jup310/lib/python3.10/site-packages/nbconvert/exporters/exporter.py\", line 206, in from_file\n",
      "    return self.from_notebook_node(\n",
      "  File \"/home/gsteward/jup310/lib/python3.10/site-packages/nbconvert/exporters/latex.py\", line 74, in from_notebook_node\n",
      "    return super().from_notebook_node(nb, resources, **kw)\n",
      "  File \"/home/gsteward/jup310/lib/python3.10/site-packages/nbconvert/exporters/templateexporter.py\", line 400, in from_notebook_node\n",
      "    output = self.template.render(nb=nb_copy, resources=resources)\n",
      "  File \"/home/gsteward/jup310/lib/python3.10/site-packages/nbconvert/exporters/templateexporter.py\", line 156, in template\n",
      "    self._template_cached = self._load_template()\n",
      "  File \"/home/gsteward/jup310/lib/python3.10/site-packages/nbconvert/exporters/templateexporter.py\", line 370, in _load_template\n",
      "    return self.environment.get_template(template_file)\n",
      "  File \"/home/gsteward/jup310/lib/python3.10/site-packages/jinja2/environment.py\", line 1010, in get_template\n",
      "    return self._load_template(name, globals)\n",
      "  File \"/home/gsteward/jup310/lib/python3.10/site-packages/jinja2/environment.py\", line 969, in _load_template\n",
      "    template = self.loader.load(self, name, self.make_globals(globals))\n",
      "  File \"/home/gsteward/jup310/lib/python3.10/site-packages/jinja2/loaders.py\", line 575, in load\n",
      "    raise TemplateNotFound(name)\n",
      "jinja2.exceptions.TemplateNotFound: ./latex_nrpy_style.tplx\n",
      "Created GR06.tex, and compiled LaTeX file to PDF file GR06.pdf\n"
     ]
    }
   ],
   "source": [
    "import cmdline_helper as cmd    # NRPy+: Multi-platform Python command-line interface\n",
    "cmd.output_Jupyter_notebook_to_LaTeXed_PDF(\"GR06\")"
   ]
  },
  {
   "cell_type": "code",
   "execution_count": null,
   "id": "d0d0db4d",
   "metadata": {},
   "outputs": [],
   "source": []
  },
  {
   "cell_type": "code",
   "execution_count": null,
   "id": "41264965",
   "metadata": {},
   "outputs": [],
   "source": []
  }
 ],
 "metadata": {
  "kernelspec": {
   "display_name": "Python 3 (ipykernel)",
   "language": "python",
   "name": "python3"
  },
  "language_info": {
   "codemirror_mode": {
    "name": "ipython",
    "version": 3
   },
   "file_extension": ".py",
   "mimetype": "text/x-python",
   "name": "python",
   "nbconvert_exporter": "python",
   "pygments_lexer": "ipython3",
   "version": "3.10.4"
  }
 },
 "nbformat": 4,
 "nbformat_minor": 5
}
