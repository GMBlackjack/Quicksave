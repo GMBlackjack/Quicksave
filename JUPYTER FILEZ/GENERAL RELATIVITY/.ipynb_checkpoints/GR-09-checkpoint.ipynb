{
 "cells": [
  {
   "cell_type": "markdown",
   "id": "0c1bfe81",
   "metadata": {},
   "source": [
    "# General Relativity Problems Chapter 9: Gravitational Radiation\n",
    "\n",
    "## Authors: Gabriel M Steward"
   ]
  },
  {
   "cell_type": "markdown",
   "id": "479540e4",
   "metadata": {},
   "source": [
    "https://github.com/zachetienne/nrpytutorial/blob/master/Tutorial-Template_Style_Guide.ipynb\n",
    "\n",
    "Link to the Style Guide. Not internal in case something breaks. "
   ]
  },
  {
   "cell_type": "markdown",
   "id": "10780970",
   "metadata": {},
   "source": [
    "### </list_source_code> NRPy+ Source Code for this module:\n",
    "None! ...well except for the pdf thing at the bottom.\n",
    "\n",
    "## Introduction:\n",
    "In our final chapter that we'll be working, we'll be dealing with GRAVITATIONAL WAVES. Yes! True application awaits...\n",
    "\n",
    "## </other>  Other (Optional): \n",
    "Note: this chapter is not being worked to completion, just to satisfaction, as suggested by Dr. Etienne. Skipped problems will not be mentioned in the Table of Contents, though they may have a small note in the notebook itself. \n",
    "\n",
    "### Note on Notation:\n",
    "Any new notation will be brought up in the notebook when it becomes relevant. \n",
    "\n",
    "### Citations:\n",
    "\n",
    "<a id='1'></a>\n",
    "[1] https://www.physicsforums.com/threads/what-is-coordinate-speed.997660/ (coordinate speed)\n",
    "\n",
    "<a id='2'></a>\n",
    "[2] https://www.shsu.edu/~kws006/Precalculus/5.2_Double_Angle_&_Power_Reduction_Formulas_files/Lecture%20Notes%205.2%20Double%20Angle%20%26%20Power%20Reduction%20Formulas.pdf (reduction formulae)\n",
    "\n",
    "<a id='3'></a>\n",
    "[3] http://www.astro.sunysb.edu/lattimer/PHY521/binary.pdf (Binary star systems)\n",
    "\n",
    "<a id='4'></a>\n",
    "[4] https://en.wikipedia.org/wiki/Kepler%27s_laws_of_planetary_motion#Third_law (Kepler's Third Law and other stuff)\n",
    "\n",
    "<a id='5'></a>\n",
    "[5] https://www.mathopenref.com/coordparamellipse.html ellipses.\n",
    "\n",
    "<a id='6'></a>\n",
    "[6] https://math.stackexchange.com/questions/1259945/calculating-semi-minor-axis-of-an-ellipse the semi-minor axis."
   ]
  },
  {
   "cell_type": "markdown",
   "id": "56664bc2",
   "metadata": {},
   "source": [
    "<a id='toc'></a>\n",
    "\n",
    "# Table of Contents\n",
    "$$\\label{toc}$$\n",
    "\n",
    "[Problem 1](#P1) (The Point Particle)\n",
    "\n",
    "[Problem 5](#P5) (Playing with the Gauge, part d incomplete)\n",
    "\n",
    "[Problem 8](#P5) (Being rocked, but feeling nothing)\n",
    "\n",
    "[Problem 9](#P9) (Seeing is Believing)\n",
    "\n",
    "[Problem 12](#P12) (Nothing happens in the forward direction)\n",
    "\n",
    "[Problem 14](#P14) (Metrics and displacements, incomplete)\n",
    "\n",
    "[Problem 17-25](#P17) (Notes on resonant detectors, no problems worked)\n",
    "\n",
    "[Problem 26](#P26) (Shooting light in rings)\n",
    "\n",
    "[Problem 27](#P27) (Angled Gravity Waves, a and b incomplete)\n",
    "\n",
    "[Problem 30](#P30) (3D Diracs and the new I)\n",
    "\n",
    "[Problem 31](#P31) (I-calculations, skimmed)\n",
    "\n",
    "[Problem 34](#P34) (Is traceless ACTUALLY traceless?)\n",
    "\n",
    "[Problem 35](#P35) (I-calculations the redux)\n",
    "\n",
    "[Problem 36](#P36) (The oscillator's full radiation)\n",
    "\n",
    "[Problem 39](#P39) (Unequal Stars, clearly incorrect due to considerations on 49)\n",
    "\n",
    "[Problem 43](#P43) (Expectation Values)\n",
    "\n",
    "[Problem 47](#P47) (Angular Momentum Flux, abandoned)\n",
    "\n",
    "[Problem 49](#P49) (The boss, incomplete, dependent on the celarly incorrect 39)\n",
    "\n",
    "[PDF](#latex_pdf_output) (turn this into a PDF)"
   ]
  },
  {
   "cell_type": "markdown",
   "id": "cd9e5529",
   "metadata": {},
   "source": [
    "<a id='P1'></a>\n",
    "\n",
    "# Problem 1 \\[Back to [top](#toc)\\]\n",
    "$$\\label{P1}$$\n",
    "\n",
    "*A function f(s) has derivatife f'(s) = df/ds. Prove that $\\partial f(k_\\mu x^\\mu)/\\partial x^\\nu = k_\\nu f' (k_\\mu x^\\mu)$. Use this to prove 9.4 and the one following it.*"
   ]
  },
  {
   "cell_type": "markdown",
   "id": "57275e91",
   "metadata": {},
   "source": [
    "Call me crazy but is this not just the chain rule? f(g(x))' = f'(g(x)) g'(x). Granted, this is only if k is a constant value at each of its indeces, but if it is, this is trivial. Page 203 informs us that, yes, k values are constant. \n",
    "\n",
    "So now we do our proving. We will begin using $\\delta_\\mu$ to represent the derivatives rather than comma notation until we want to recombine things at the end. \n",
    "\n",
    "$$ \\bar{h}^{\\alpha\\beta}_{,\\mu} $$\n",
    "$$ = \\delta_\\mu \\bar{h}^{\\alpha\\beta} $$\n",
    "$$ = \\delta_\\mu A^{\\alpha\\beta} exp[ik_\\alpha x^\\alpha] $$"
   ]
  },
  {
   "cell_type": "markdown",
   "id": "bdb36a4c",
   "metadata": {},
   "source": [
    "Need to be careful with the shared indeces, as $\\alpha$ is being summed. However, applying the derivative changes nothing about A. Applying it to the exponential does the usual thing of only pulling out the constant when $\\alpha = \\mu$, which will always be the case since the internal in the exponential is being summed. Thus...\n",
    "\n",
    "$$ = ik_\\mu A^{\\alpha\\beta} exp[ik_\\alpha x^\\alpha] $$\n",
    "$$ = ik_\\mu \\bar{h}^{\\alpha\\beta} $$"
   ]
  },
  {
   "cell_type": "markdown",
   "id": "0d8c1f42",
   "metadata": {},
   "source": [
    "Which is the first part of what we sought, but we need to develop this further. But it's trivially true and a waste to bother typing out: it's just doing this twice with two different derivatives, resulting in a $-k_1k_2$ form since the imaginary terms interfere and produce a -1. Tah-dah!"
   ]
  },
  {
   "cell_type": "markdown",
   "id": "243ffb84",
   "metadata": {},
   "source": [
    "<a id='P2'></a>\n",
    "\n",
    "# Problem 2 \\[Back to [top](#toc)\\]\n",
    "$$\\label{P2}$$\n",
    "\n",
    "Skipped, it's just deriving the frequency of a wave equation. "
   ]
  },
  {
   "cell_type": "markdown",
   "id": "f35c8cc8",
   "metadata": {},
   "source": [
    "<a id='P3'></a>\n",
    "\n",
    "# Problem 3 \\[Back to [top](#toc)\\]\n",
    "$$\\label{P3}$$\n",
    "\n",
    "Skipped, just proves that all solutions are linear combinations of plane wave solutions, that is to say, superpositions. This should just make sense at this point. "
   ]
  },
  {
   "cell_type": "markdown",
   "id": "7f80d99b",
   "metadata": {},
   "source": [
    "<a id='P4'></a>\n",
    "\n",
    "# Problem 4 \\[Back to [top](#toc)\\]\n",
    "$$\\label{P4}$$\n",
    "\n",
    "Skipped, just working out the details of the proof of h-metrics being used to adjust the A-terms. "
   ]
  },
  {
   "cell_type": "markdown",
   "id": "b5c3d7a1",
   "metadata": {},
   "source": [
    "<a id='P5'></a>\n",
    "\n",
    "# Problem 5 \\[Back to [top](#toc)\\]\n",
    "$$\\label{P5}$$\n",
    "\n",
    "Oh hey finally a problem seemingly worth doing. \n",
    "\n",
    "*a) Show that $A^{NEW}_{\\alpha\\beta}$ , given by 9.17, satisfies the gauge condition $A^{\\alpha\\beta}k_\\beta = 0$ if $A^{OLD}_{\\alpha\\beta}$ does.*"
   ]
  },
  {
   "cell_type": "markdown",
   "id": "fb1c31a3",
   "metadata": {},
   "source": [
    "9.17 is\n",
    "\n",
    "$$ A^{NEW}_{\\alpha\\beta} = A^{OLD}_{\\alpha\\beta} -iB_\\alpha k_\\beta - iB_\\beta k_\\alpha + i\\eta_{\\alpha\\beta} B^\\mu k_\\mu$$\n",
    "\n",
    "if we adjuste the gague condition, we see that it also says:\n",
    "\n",
    "$$\\eta^{\\alpha\\mu} \\eta^{\\beta\\nu} \\eta_{\\beta\\nu} A_{\\alpha\\beta} k^\\beta = 0$$\n",
    "$$\\eta^{\\alpha\\mu} A_{\\alpha\\beta} k^\\beta = 0$$"
   ]
  },
  {
   "cell_type": "markdown",
   "id": "8d879ad1",
   "metadata": {},
   "source": [
    "Which means in order to actually examine the gague condition we have to apply the raising metric to every term. AND we need to apply the k. \n",
    "\n",
    "$$ \\eta^{\\alpha\\nu}k^\\beta A^{NEW}_{\\alpha\\beta} = \\eta^{\\alpha\\nu}k^\\beta A^{OLD}_{\\alpha\\beta} -\\eta^{\\alpha\\nu}k^\\beta iB_\\alpha k_\\beta - \\eta^{\\alpha\\nu}k^\\beta iB_\\beta k_\\alpha + \\eta^{\\alpha\\nu}k^\\beta i\\eta_{\\alpha\\beta} B^\\mu k_\\mu$$\n",
    "\n",
    "Now we know the OLD goes to zero, and the raising metrics can raise the index on several things.\n",
    "\n",
    "$$ \\Rightarrow \\eta^{\\alpha\\nu}A^{NEW}_{\\alpha\\beta}k^\\beta = -iB^\\nu k_\\beta k^\\beta -iB_\\beta k^\\nu k^\\beta + i\\delta^\\nu_\\beta B^\\mu k_\\mu k^\\beta$$"
   ]
  },
  {
   "cell_type": "markdown",
   "id": "cfcbe100",
   "metadata": {},
   "source": [
    "All we want is those three terms at the end to cancel... Remove the i, it's just getting in the way of seeing what's going on. \n",
    "\n",
    "$$ \\Rightarrow -i \\eta^{\\alpha\\nu}A^{NEW}_{\\alpha\\beta}k^\\beta = -B^\\nu k_\\beta k^\\beta -B_\\beta k^\\nu k^\\beta + \\delta^\\nu_\\beta B^\\mu k_\\mu k^\\beta$$"
   ]
  },
  {
   "cell_type": "markdown",
   "id": "ed8dc627",
   "metadata": {},
   "source": [
    "k is known to be a null fector, and so the dot product is zero, which means the first term is zero as the indeces match, just convert it to $\\eta_{\\beta\\beta}k^\\beta k^\\beta$. \n",
    "\n",
    "$$ \\Rightarrow -i \\eta^{\\alpha\\nu}A^{NEW}_{\\alpha\\beta}k^\\beta = -B_\\beta k^\\nu k^\\beta + \\delta^\\nu_\\beta B^\\mu k_\\mu k^\\beta$$ \n",
    "\n",
    "Only one index declares what everything is going to be. If we purposefully set $\\nu$ we can get rid of the delta, for it is always one. \n",
    "\n",
    "$$ \\Rightarrow -i \\eta^{\\alpha\\nu}A^{NEW}_{\\alpha\\beta}k^\\beta = -B_\\beta k^\\nu k^\\beta + B^\\mu k_\\mu k^\\nu$$"
   ]
  },
  {
   "cell_type": "markdown",
   "id": "e02ad746",
   "metadata": {},
   "source": [
    "The $\\mu$ and $\\beta$ indeces can be set to each other. By applying the double metric, we find that swapping up and down actually produces a $\\eta_{\\beta\\beta} \\eta^{\\beta\\beta}$ term which is just always 1. Thus, the last two temrs cancel by the sign difference. \n",
    "\n",
    "$$ \\Rightarrow -i \\eta^{\\alpha\\nu}A^{NEW}_{\\alpha\\beta}k^\\beta = 0$$\n",
    "$$ \\Rightarrow \\eta^{\\alpha\\nu}A^{NEW}_{\\alpha\\beta}k^\\beta = 0$$\n",
    "\n",
    "Success!"
   ]
  },
  {
   "cell_type": "markdown",
   "id": "b5e8d8c7",
   "metadata": {},
   "source": [
    "*b) Use 9.18 for $A^{NEW}_{\\alpha\\beta}$ to constrain $B^\\mu$*"
   ]
  },
  {
   "cell_type": "markdown",
   "id": "d97847af",
   "metadata": {},
   "source": [
    "Right, just go with it. Apply the raising metric $\\eta^{\\alpha\\nu}$ and then proceed to set $\\nu = \\alpha$ to set up the trace. \n",
    "\n",
    "$$ A^{NEW\\nu}_{\\alpha} = A^{OLD\\nu}_{\\alpha} -iB_\\alpha k^{\\nu} - iB^{\\nu} k_\\alpha + i\\delta_{\\alpha}^{\\nu} B^\\mu k_\\mu = 0$$\n",
    "\n",
    "Which we transform to:\n",
    "\n",
    "$$ A^{NEW\\alpha}_{\\alpha} = A^{OLD\\alpha}_{\\alpha} -iB_\\alpha k^{\\alpha} - iB^{\\alpha} k_\\alpha + i\\delta_{\\alpha}^{\\alpha} B^\\mu k_\\mu = 0$$\n",
    "\n",
    "$$ \\Rightarrow A^{NEW\\alpha}_{\\alpha} = A^{OLD\\alpha}_{\\alpha} -iB_\\alpha k^{\\alpha} - iB^{\\alpha} k_\\alpha + 2 i B^\\mu k_\\mu = 0$$\n",
    "\n",
    "From last part we know the double index flip changes nothing, so we can combine terms. Note that the trace of the metric is 2, (-1+1+1+1).\n",
    "\n",
    "$$ \\Rightarrow A^{NEW\\alpha}_{\\alpha} = A^{OLD\\alpha}_{\\alpha}- 2iB^{\\alpha} k_\\alpha = 0$$\n",
    "\n",
    "Which does provide us a constraint of:\n",
    "\n",
    "$$ A^{OLD\\alpha}_{\\alpha} = 2iB^{\\alpha} k_\\alpha $$\n",
    "$$ \\Rightarrow -iA^{OLD\\alpha}_{\\alpha}/2k_\\alpha = B^{\\alpha}$$"
   ]
  },
  {
   "cell_type": "markdown",
   "id": "cd3a537f",
   "metadata": {},
   "source": [
    "So we define B in terms of the OLD trace. "
   ]
  },
  {
   "cell_type": "markdown",
   "id": "1c88520f",
   "metadata": {},
   "source": [
    "*c) Show that 9.19 for $A^{NEW}_{\\alpha\\beta}$ imposes only three constraints on $B^\\mu$, not the four that we might expect form the fact that the free index $\\alpha$ can take any values from 0 to 3. Do this by showing that the particular linear combination $k^\\alpha (A_{\\alpha\\beta}U^\\beta)$ vanishes for any $B^\\mu$.*"
   ]
  },
  {
   "cell_type": "markdown",
   "id": "76d7e659",
   "metadata": {},
   "source": [
    "9.19 says $A_{\\alpha\\beta} U^\\beta = 0$. Which for once doesn't involve us playing monkey with a million raising and lowering operators. Instead we just slap the velocity on the end.\n",
    "\n",
    "$$ A^{NEW}_{\\alpha\\beta} U^\\beta = A^{OLD}_{\\alpha\\beta} U^\\beta -iB_\\alpha k_\\beta U^\\beta - iB_\\beta k_\\alpha U^\\beta + i\\eta_{\\alpha\\beta} B^\\mu k_\\mu U^\\beta = 0$$"
   ]
  },
  {
   "cell_type": "markdown",
   "id": "e2787f1b",
   "metadata": {},
   "source": [
    "The hint indicates that we should multiply by k at the end and then show that it still goes to zero.\n",
    "\n",
    "$$ k^\\alpha A^{NEW}_{\\alpha\\beta} U^\\beta = k^\\alpha A^{OLD}_{\\alpha\\beta} U^\\beta -k^\\alpha iB_\\alpha k_\\beta U^\\beta - k^\\alpha iB_\\beta k_\\alpha U^\\beta + k^\\alpha i\\eta_{\\alpha\\beta} B^\\mu k_\\mu U^\\beta$$\n",
    "\n",
    "Of course the fact that this equals zero is obvious: every term that k is multiplying into is zero, no matter what the index $\\alpha$ is, so it remains zero. However, we suspect the additional k will assist us in placing the restriction on B. "
   ]
  },
  {
   "cell_type": "markdown",
   "id": "f38d6815",
   "metadata": {},
   "source": [
    "$$ \\Rightarrow - k^\\alpha A^{OLD}_{\\alpha\\beta} U^\\beta = -k^\\alpha iB_\\alpha k_\\beta U^\\beta - k^\\alpha iB_\\beta k_\\alpha U^\\beta + k^\\alpha i\\eta_{\\alpha\\beta} B^\\mu k_\\mu U^\\beta$$\n",
    "\n",
    "$$ \\Rightarrow i k^\\alpha A^{OLD}_{\\alpha\\beta} U^\\beta = -k^\\alpha B_\\alpha k_\\beta U^\\beta - k^\\alpha B_\\beta k_\\alpha U^\\beta + k^\\alpha \\eta_{\\alpha\\beta} B^\\mu k_\\mu U^\\beta$$"
   ]
  },
  {
   "cell_type": "markdown",
   "id": "30f40aaa",
   "metadata": {},
   "source": [
    "In all three terms all indeces are being summed over, so we don't need to worry about making sure everything matches as everything always adds. In fact for the last term $\\alpha = \\beta$ due to the metric. All the metric will do, though, is flip the sign when the coordinate is \"t\". \n",
    "\n",
    "While we are free to pick U = (1,0,0,0) as it can always be found to be this with a proper transformation, this will remove the xyz relations and not give us all the limitations. (in fact if our work is correct it gives no limitaitons at all as everything can be made to just vanish.) First, examine the middle term. $k_\\alpha = \\eta_{\\alpha\\beta} k^\\beta$ which allows us to \"dot product\" the two k values together as if they were vectors, which we know is zero. This can't be done with the first term or the third term as the indeces don't match. What we can do is lower the k-index on the third term using the metric.\n",
    "\n",
    "$$ \\Rightarrow i k^\\alpha A^{OLD}_{\\alpha\\beta} U^\\beta = -k^\\alpha B_\\alpha k_\\beta U^\\beta + k_\\beta B^\\mu k_\\mu U^\\beta$$"
   ]
  },
  {
   "cell_type": "markdown",
   "id": "30eabdb3",
   "metadata": {},
   "source": [
    "Which if we flip both indeces just... equals zero. Well, we knew this to be true, we just hoped it was true in a more illuminating way. What we want are limitaitons on B, not showcses that B vanishes no matter what it is. We've now inevitably shown the first part of the proof that was suggested earlier. Now... how exactly does this help us?"
   ]
  },
  {
   "cell_type": "markdown",
   "id": "e9778c07",
   "metadata": {},
   "source": [
    "As it turns out the problem does not ask us to find out what the restraint actually is, merely that it is three restrictions, not four. Which means showing that it equals zero is actually sufficient. If a (nonzero) linear combination of four \"vectors\" can equal zero, that means at least one of those \"vectors\" is NOT independent of the others! Thus ther eare only three restrictions imposed by the case. Huh. We were overcomplicating it. "
   ]
  },
  {
   "cell_type": "markdown",
   "id": "782d50ed",
   "metadata": {},
   "source": [
    "*d) Using b) and c) solve for $B^\\mu$ as a function of $k^\\mu$, $A^{OLD}_{\\alpha\\beta}$, and $U^\\mu$. These determine $B^\\mu$, there is no further gauge freedom.*"
   ]
  },
  {
   "cell_type": "markdown",
   "id": "393e5c7e",
   "metadata": {},
   "source": [
    "We kind of already have that. \n",
    "\n",
    "$$-iA^{OLD\\alpha}_{\\alpha}/k_\\alpha = B^{\\alpha}$$\n",
    "\n",
    "However, this is missing U, and the index on k is in the wrong spot. So let's see if we can extract a relation out of part c as well and constrain further.\n",
    "\n",
    "$$ i A^{OLD}_{\\alpha\\beta} U^\\beta = -B_\\alpha k_\\beta U^\\beta - B_\\beta k_\\alpha U^\\beta + \\eta_{\\alpha\\beta} B^\\mu k_\\mu U^\\beta $$\n",
    "\n",
    "$$ \\Rightarrow i A^{OLD}_{\\alpha\\beta} U^\\beta = -B_\\alpha k_\\beta U^\\beta - B_\\beta k_\\alpha U^\\beta + B^\\mu k_\\mu U_\\alpha $$\n",
    "\n",
    "$$ \\Rightarrow i A^{OLD}_{\\alpha\\beta} U^\\beta = -B^\\beta k_\\beta U_\\alpha - B^\\alpha k_\\alpha U_\\alpha + B^\\mu k_\\mu U_\\alpha $$\n",
    "\n",
    "First and third terms cancel. We arrive at:\n",
    "\n",
    "$$ \\Rightarrow - \\frac{i A^{OLD}_{\\alpha\\beta} U^\\beta}{k_\\alpha U_\\alpha} = B^\\alpha $$"
   ]
  },
  {
   "cell_type": "markdown",
   "id": "c28800bd",
   "metadata": {},
   "source": [
    "Which is annoyingly just the same requirement as above. Apply a few metrics to get the U-terms to cancel. That metric is then applied to A to raise the index and nothing changes. \n",
    "\n",
    "Well, we've spent enough time on this problem, and the above IS an answer. We just don't think it's what the problem was looking for. "
   ]
  },
  {
   "cell_type": "markdown",
   "id": "94d8fea1",
   "metadata": {},
   "source": [
    "Update: help from Leo confirms that a-c are correct (even if there was an algebra error). This part was still not resolved which means it's time to just move on. "
   ]
  },
  {
   "cell_type": "markdown",
   "id": "d4fa8610",
   "metadata": {},
   "source": [
    "*e) Show that it is possible to choose $\\xi^\\beta$ in 9.15 to make any superposition of plane waves satisfy 9.18 and 9.19 so that these are generally applicable to gravitaitonal waves of any sort.*"
   ]
  },
  {
   "cell_type": "markdown",
   "id": "d3712eb9",
   "metadata": {},
   "source": [
    "This is almost trivial, all we need is to be able to choose a plane wave based on its derivative that gets an i out every time. This is, to put it simply, part of the properties of plane waves themselves. Just tack an i onto the inside, Let B be determined by the \"outside\" derivative, and k by the \"inside.\" as k is usually the frequency this is naturally giong to occur. \n",
    "\n",
    "Like, just look at 9.14."
   ]
  },
  {
   "cell_type": "markdown",
   "id": "381d57c6",
   "metadata": {},
   "source": [
    "*f) Show that we cannot achieve 9.18 and 9.19 for a static solution, i.e., one for which $\\omega=0$.*"
   ]
  },
  {
   "cell_type": "markdown",
   "id": "d917b836",
   "metadata": {},
   "source": [
    "First of all, this results in all ks being zero, as it's the frequency. You can't have a frequency for a static solution! This means our adjustment vector is just equal to B, with B just being a constant one-form. Which we have to take the derivative of. Which, since we have a STATIC result, naturally cannot produce anything but zeroes. Meaning we cannot transform form OLD to NEW, as every transformation vanishes. "
   ]
  },
  {
   "cell_type": "markdown",
   "id": "18840879",
   "metadata": {},
   "source": [
    "<a id='P6'></a>\n",
    "\n",
    "# Problem 6 \\[Back to [top](#toc)\\]\n",
    "$$\\label{P6}$$\n",
    "\n",
    "Skipped, just filling in algebra to construct the matrix. "
   ]
  },
  {
   "cell_type": "markdown",
   "id": "e6802e59",
   "metadata": {},
   "source": [
    "<a id='P7'></a>\n",
    "\n",
    "# Problem 7 \\[Back to [top](#toc)\\]\n",
    "$$\\label{P7}$$\n",
    "\n",
    "Skipped, just a more rigorous proof of something staying stationary in a \"waving\" spacetime. Which is a conclusion that seems rather obvious.  "
   ]
  },
  {
   "cell_type": "markdown",
   "id": "10d0f700",
   "metadata": {},
   "source": [
    "<a id='P8'></a>\n",
    "\n",
    "# Problem 8 \\[Back to [top](#toc)\\]\n",
    "$$\\label{P8}$$\n",
    "\n",
    "*Does the free particle of hte disussion following 9.23 feel any acceleration? For example, if hte particle is a bowl of soup (whose diameter is much less than a wavelength) does the soup slosh about in the bowl as the wave passes?*\n",
    "\n",
    "Could have skipped this one but it offers a nice chance to explain some thing. No, the soup does not slosh about in the bowl because the *Bowl itself* is being bent as well. Every individual particle remains stationary as far as it is concerned, feeling nothing. "
   ]
  },
  {
   "cell_type": "markdown",
   "id": "3311b0a5",
   "metadata": {},
   "source": [
    "<a id='P9'></a>\n",
    "\n",
    "# Problem 9 \\[Back to [top](#toc)\\]\n",
    "$$\\label{P9}$$\n",
    "\n",
    "*Does the free particle see any acceleration?...*\n",
    "\n",
    "Not writing out in full, but yes--it feels no acceleration itself, but once there are other particles it is possible for it to think the particles around it are accelerating because the distance between them is changing. If we couldn't see this effect, how would we ever detect gravity waves? "
   ]
  },
  {
   "cell_type": "markdown",
   "id": "96d3fdb1",
   "metadata": {},
   "source": [
    "<a id='P10'></a>\n",
    "\n",
    "# Problem 10 \\[Back to [top](#toc)\\]\n",
    "$$\\label{P10}$$\n",
    "\n",
    "Skipped. Entirely because we don't want to calculate the full R-tensor twice. Egh... \n",
    "\n",
    "The conclusion to be drawn from this problem, though, is obvious: the R metric can be used to show if two proposed spacetimes have \"identical geometries\" if the R is the same in both, and then the gauge transformation can be derived to go between them. "
   ]
  },
  {
   "cell_type": "markdown",
   "id": "b28231cc",
   "metadata": {},
   "source": [
    "<a id='P11'></a>\n",
    "\n",
    "# Problem 11 \\[Back to [top](#toc)\\]\n",
    "$$\\label{P11}$$\n",
    "\n",
    "Skipped. Just the derivation of the Reimann-tensor components for particle separation due to gravity waves, followed by solving those equations for the case of the oscillating rings. The answer is evident, as we already know what the rings do! "
   ]
  },
  {
   "cell_type": "markdown",
   "id": "83a64fa2",
   "metadata": {},
   "source": [
    "<a id='P12'></a>\n",
    "\n",
    "# Problem 12 \\[Back to [top](#toc)\\]\n",
    "$$\\label{P12}$$\n",
    "\n",
    "*Do calculations analagous to those leading to 9.28 and 9.32 to show that the separation of particles in the z direction (the direction of travel of the wave) is unaffected.*\n",
    "\n",
    "Fascinating... the mere fact that this question is being asked means we misunderstood how the warping occurs. We assumed that it was like a longitudinal wave, pushing back and forth, but clearly that's not what's happening. We imagined several crests hitting a planet and pulling it and squishing it in the direction of travel. Well then, since we misunderstood, it's time to do this problem and show that no that's not how it works. "
   ]
  },
  {
   "cell_type": "markdown",
   "id": "ed6a895a",
   "metadata": {},
   "source": [
    "Of course via 9.29 it's almost trivial to see this is true\n",
    "\n",
    "$$ \\frac{\\partial^2}{\\partial t^2} \\xi^i = -R^i_{0j0}\\xi^j$$\n",
    "\n",
    "But we know from 9.27 that any R with a z in it is zero, since the A matrix only has xx, yy, and xy terms that are nonzero. Thus, the separation in the z direction does not change. \n",
    "\n",
    "Thinking about this, this means that gravitational waves are transverse waves, that is, the waves make things oscillate in directions perpendicular to the direction of motion. Curuiously, when one direction is pulled, the other is squished. \n",
    "\n",
    "This implies a few things about interferometer gravitational telescopes: they would prefer to be hit head on from above, which would cause the maximum distortion. This is likely why we want some on the southern hemisphere: so we can catch things coming at perpendicular directions. Notably the second interferometer arm will still react unless the wave goes *directly* between the two arms, making their distortions the same. But we want larger reactions, not smaller ones. "
   ]
  },
  {
   "cell_type": "markdown",
   "id": "d15c8831",
   "metadata": {},
   "source": [
    "<a id='P13'></a>\n",
    "\n",
    "# Problem 13 \\[Back to [top](#toc)\\]\n",
    "$$\\label{P13}$$\n",
    "\n",
    "Skipped, just shows that the inverse polarization of a gravitational wave results in a 45 degree actual shift. (as for why this is, think about it. The gravitational wave oscillates in both x and y directions, twisting it by 90 or 180 degrees would result in the same exact pattern, just phase shifted slightly. Perpendicular polarization would have to be by 45 degrees.) "
   ]
  },
  {
   "cell_type": "markdown",
   "id": "38196893",
   "metadata": {},
   "source": [
    "<a id='P14'></a>\n",
    "\n",
    "# Problem 14 \\[Back to [top](#toc)\\]\n",
    "$$\\label{P14}$$\n",
    "\n",
    "*a) Show that a plane wave with $A_{xy}=0$ in 9.21 has the metric*\n",
    "\n",
    "$$ ds^2 = -dt^2 + (1+h_+)dx^2 + (1-h_+)dy^2 + dz^2 $$\n",
    "\n",
    "*where $h_+ = A_{xx} sin(\\omega(t-z))$*"
   ]
  },
  {
   "cell_type": "markdown",
   "id": "a712d579",
   "metadata": {},
   "source": [
    "So this basically becomes the question of how we derive a metric from the A-matrix. We only have two terms: $A_{xx}$ at xx and $-A_{xx}$ at yy. This obviously gets the LOCATION of the distortion correct (as well as the sign), but why is the distortion influenced by the factor of the trig function? Logically, it makes sense: the frequency tells us where the distortion is happening in time with the phase factor difference of z. But mathematically where do we get this? \n",
    "\n",
    "What is the exact relation between A and h? \n",
    "\n",
    "9.2 $\\bar{h}^{\\alpha\\beta} = A^{\\alpha\\beta} exp(ik_\\mu x^\\mu)$"
   ]
  },
  {
   "cell_type": "markdown",
   "id": "ae7b1418",
   "metadata": {},
   "source": [
    "now due to 9.20 we know that in our case of A here, $\\bar h = h$ so the distortion IS the plane wave. However, there's a pesky i in it, and the indeces are in the wrong spot. Let's expand it into trig form and see what happens.\n",
    "\n",
    "$h^{\\alpha\\beta} = A^{\\alpha\\beta} cos(k_\\mu x^\\mu) + A^{\\alpha\\beta} i sin(k_\\mu x^\\mu)$\n",
    "\n",
    "Now we know k has to be a null vector, and that $k_\\alpha x^\\alpha$ is a constant. Physically, the cartesian components of k are hte direction of travel, which we know is z so the xy portions are just zero. Thus it only has t and z components. In order for the vector one-form to be null, it's self-dot-product has to be zero, meaning the two components are related. Since the t component is $\\omega$, this means the z component is $\\pm\\omega$. The sign depends entirely on which direction the wave is going, forward or backward. (This is essentially the statement of 9.10). This gives us an interior to the exponential of $i\\omega(t\\pm z)$. \n",
    "\n",
    "If we assume forward propogation (which is not unreasonable) then by necessity the unsure sign becomes a minus: after all, places \"further along\" will experience the distortion at a later time, thus it's effectively like starting later. $i\\omega(t - z)$.\n",
    "\n"
   ]
  },
  {
   "cell_type": "markdown",
   "id": "3dc90728",
   "metadata": {},
   "source": [
    "Now we have the proper interior. \n",
    "\n",
    "$$h^{\\alpha\\beta} = A^{\\alpha\\beta} cos(\\omega(t - z)) + A^{\\alpha\\beta} i sin(\\omega(t - z)) = A^{\\alpha\\beta} exp(i\\omega(t-z)) $$\n",
    "\n",
    "We can lower the indeces for free since we have an equality here. \n",
    "\n",
    "$$h_{\\alpha\\beta} = A_{\\alpha\\beta} cos(\\omega(t - z)) + A_{\\alpha\\beta} i sin(\\omega(t - z)) = A_{\\alpha\\beta} exp(i\\omega(t-z)) $$"
   ]
  },
  {
   "cell_type": "markdown",
   "id": "1cf24242",
   "metadata": {},
   "source": [
    "Now A is arbitrary and can, in fact, be complex. As mentioned on page 204, we use only the real part of this equation, allowing A to be complex, which means it can suck the i into itself while simultaneously making the sin function part the real part as A is, well, complex. \n",
    "\n",
    "$$h_{\\alpha\\beta} = A_{\\alpha\\beta} sin(\\omega(t - z))$$ \n",
    "\n",
    "Which only exists at xx and yy as we discussed before. This is exactly the relation $h_+ = A_{xx} sin(\\omega(t - z))$ that we were looking for. \n",
    "\n",
    "We are very, very suspicious of this last step here. *Very* suspicious. "
   ]
  },
  {
   "cell_type": "markdown",
   "id": "8a3e6347",
   "metadata": {},
   "source": [
    "*b) Show that this wave does not change proper separations of free particles if they are aligned along a line bisecting the angle between the x and y axes.*"
   ]
  },
  {
   "cell_type": "markdown",
   "id": "2fcd29b2",
   "metadata": {},
   "source": [
    "Visually this is obviously true, but mathematically?\n",
    "\n",
    "With the geodesic definition we realize that $\\xi = (0,\\epsilon,\\epsilon,0)$, not $(0,\\epsilon,0,0)$ which means the result is slightly different. This turns 9.26 into\n",
    "\n",
    "$$ \\frac{\\partial^2}{\\partial t^2} \\xi^\\alpha = -\\epsilon(R^\\alpha_{0x0} + R^\\alpha_{0y0}) $$\n",
    "\n",
    "Which... seems to NOT go to zero... "
   ]
  },
  {
   "cell_type": "markdown",
   "id": "d3f86496",
   "metadata": {},
   "source": [
    "*c) Show that a plane wave with $A_{xx}=0$ in 9.21 has the metric*\n",
    "\n",
    "$$ ds^2 = -dt^2 + dx^2 + 2h_x dxdy + dy^2 + dz^2 $$\n",
    "\n",
    "*where $h_x = A_{xy} sin(\\omega(t-z))$*"
   ]
  },
  {
   "cell_type": "markdown",
   "id": "0c576e9b",
   "metadata": {},
   "source": [
    "Same as a), except the two diagonal terms are the same so they add, producing the 2, and they add away from the default metric so there's no 1+h term. "
   ]
  },
  {
   "cell_type": "markdown",
   "id": "f9f2e6f7",
   "metadata": {},
   "source": [
    "*d) Show that the wave in c) does not change proper separations of free particles if they are aligned along the coordinate axes.*"
   ]
  },
  {
   "cell_type": "markdown",
   "id": "4cf514fc",
   "metadata": {},
   "source": [
    "Same problem as b, if the xx and yy locaitons are zero, nothing cancels. Eh?"
   ]
  },
  {
   "cell_type": "markdown",
   "id": "62eb5b1b",
   "metadata": {},
   "source": [
    "*e) Show that the wave in c) produces an elliptical distortion of the circle that is rotated by 45 degrees to that of the wave in a).*"
   ]
  },
  {
   "cell_type": "markdown",
   "id": "47076adc",
   "metadata": {},
   "source": [
    "This, meanwhile, is obvious and not worth doing, since the 45 degree turn is evident in the shape of the matrix and is also outright stated elswhere in the relation between teh various coefficients. "
   ]
  },
  {
   "cell_type": "markdown",
   "id": "16d7cb87",
   "metadata": {},
   "source": [
    "<a id='P15'></a>\n",
    "\n",
    "# Problem 15 \\[Back to [top](#toc)\\]\n",
    "$$\\label{P15}$$\n",
    "\n",
    "Skipped, its just pointing out that linear polarization is not the only kind. Circular polarization rotates particles without changing their relative distance. Eliptical polarization is a genrealization of all of these that can take any type of polarization of the wave. "
   ]
  },
  {
   "cell_type": "markdown",
   "id": "75344ebb",
   "metadata": {},
   "source": [
    "<a id='P16'></a>\n",
    "\n",
    "# Problem 16 \\[Back to [top](#toc)\\]\n",
    "$$\\label{P16}$$\n",
    "\n",
    "Skipped. Just more reinforcement of the fact that orthogonal polarizations are 45 degrees off of each other. "
   ]
  },
  {
   "cell_type": "markdown",
   "id": "dd5fb8c9",
   "metadata": {},
   "source": [
    "<a id='P17'></a>\n",
    "\n",
    "# Problem 17-25 \\[Back to [top](#toc)\\]\n",
    "$$\\label{P17}$$\n",
    "\n",
    "Skipped. ALL of this is just proving relations for the resonant detector of gravitational waves, even though yes they obviously should work simply from the work we've done before: the proper distance between the two particles on the spring is adjusted, \"seen\" as a gravitational force acting on them, and the other force is the spring force pulling them back.\n",
    "\n",
    "However, as this is an entire section, we should go over it a little more carefully to see what insights we can glean from it. Perhaps work a problem where a step doesn't make sense. Consider this the Self-Understanding Challenge. "
   ]
  },
  {
   "cell_type": "markdown",
   "id": "c822454b",
   "metadata": {},
   "source": [
    "For reference the section starts on page 215. \n",
    "\n",
    "The situation is that of two free qual masses on a spring. The equation of motion for a spring is derived from F = -kx, though in this case the damping constant v is added (internal friction of the spring) and we eventually put everything in terms of the separation distance $\\xi$ to remove all ambiguity. This is 9.36 and it is a tad awkward to look at but it has the bennefit of being highly specific. \n",
    "\n",
    "The first argument in the section is that we can use the TT coordinates without a problem, as the gravitational forces induced will not push things \"off\" the coordinates enough as the influences will be of order $h^2.$ Keep in mind the particles are definitely not stationary as the spring is going to pull them back and forth all over the place. Basically consider the gravitational forces *to be* the gague transformation. \n",
    "\n",
    "The second argument is that all motions are slow. Which, to be fair, is generally true for gravity waves given their really long wavelengths. (Order of seconds at light speed equates to REALLY long distances, do you have any idea how long a light-second is?) All this to say is that the gravitational force isn't going to do much directly. However, the proper extension it tries to enforce on the *spring* will do stuff. We grab the stretch from the earlier equations and use it to rewrite the earlier equations of motion for the particles.\n",
    "\n",
    "Then we apply the definition of stretch, which is then equated back to the other equations to derive a relation between teh stretch and the h-xx portion of the h-metric. Notably we are going in exactly one direction here so this is simpler than usual, but that's fine. \n",
    "\n",
    "The result is a forced damped harmonic oscillator. \n",
    "\n",
    "Which is of course what we would have gotten, what else could it have been? \n",
    "\n",
    "All in all this gives us the impression of not having a complicated enough understanding of harmonic oscillators to really work this out on our own, at least in any rasonable amount of time, even if the answers are obvious. \n",
    "\n",
    "Detectors of this sort that operate based on resonance would be best if they chose a specific resonant frequency that correlated to what they wanted to detect, because resulting interacitons would be stronger and easier to detect. \n",
    "\n",
    "But yeah these sorts of detectors aren't used anymore so we think the details of the calculations can be left for now. \n",
    "\n",
    "Meanwhile measuring things with light may be more relevant..."
   ]
  },
  {
   "cell_type": "markdown",
   "id": "53839942",
   "metadata": {},
   "source": [
    "<a id='P26'></a>\n",
    "\n",
    "# Problem 26 \\[Back to [top](#toc)\\]\n",
    "$$\\label{P26}$$\n",
    "\n",
    "*a) Use the metric for a plane wave with '+' polarization 9.58 to show that the square of the coordinate speed in the TT coordinate system of a photon moving in the x direction is $(\\frac{dx}{dt})^2 = \\frac{1}{1+h_+}$. This is not identically one. Does this violate relativity? Why or why not?*"
   ]
  },
  {
   "cell_type": "markdown",
   "id": "25db9204",
   "metadata": {},
   "source": [
    "So with dy and dz being zero, the metric tells us that:\n",
    "\n",
    "$$ ds^2 = -dt^2 + (1+h_+)dx^2 $$\n",
    "$$ \\Rightarrow ds^2 + dt^2 = (1+h_+)dx^2 $$\n",
    "$$ \\Rightarrow \\frac{ds^2}{dt^2} + 1 = (1+h_+)\\frac{dx^2}{dt^2} $$\n",
    "$$ \\Rightarrow \\frac{ds^2}{dt^2 (1+h_+)} + \\frac{1}{(1+h_+)} = \\frac{dx^2}{dt^2} $$"
   ]
  },
  {
   "cell_type": "markdown",
   "id": "4113ad2d",
   "metadata": {},
   "source": [
    "Now clearly that first term has to go to zero. However, photons always travel along null world lines, which mean $ds^2=0$ no matter what, so it vanishes.\n",
    "\n",
    "$$ \\Rightarrow \\frac{1}{(1+h_+)} = \\frac{dx^2}{dt^2} $$"
   ]
  },
  {
   "cell_type": "markdown",
   "id": "87ba8c20",
   "metadata": {},
   "source": [
    "This does not violate relativity as it is a coordinate speed. Space is stretching and contracting here. However, to gain a better understanding of this, we turn to [1](#1). Which points out, qutie simply, that our reference here is not an inertial frame. In fact, we recall that photons cannot have an inertial reference frame! So yeah, that makes sense.\n",
    "\n",
    "For illustration, define a coordinate system where the earth is stationary. The stars move around Earth at light years per second. This does not violate relativity. "
   ]
  },
  {
   "cell_type": "markdown",
   "id": "e76824f8",
   "metadata": {},
   "source": [
    "*b) Imagine that an experimenter at the center of hte circle of particles in Fig 9.1 sends a photon to the particle on the circle at coordinate location x=L on the positive-x axis, and that the photon is reflected when it reaches the particle and returns to the experimenter. Suppose further that this takes such a short time that $h_+$ does not change significantly during the experiment. To first order in $h_+$, show that the experimenter's proper time that elabses between sending out the photon and receiving it back is $(2+h_+)L$*"
   ]
  },
  {
   "cell_type": "markdown",
   "id": "eb6629ee",
   "metadata": {},
   "source": [
    "So, we have a speed, and that speed is $\\sqrt{\\frac{1}{1+h_+}}$. Time taken to go a distane is L / v, or in this case we end up with $L \\sqrt{1+h_+}$ for one way, multiplied by 2 for the round trip. \n",
    "\n",
    "$$2 L \\sqrt{1+h_+}$$\n",
    "\n",
    "Since $h_+$ is small we use the square root approximation which to lowest order is\n",
    "\n",
    "$$2 L (1+h_+/2)$$\n",
    "\n",
    "Which indeed is what we sought. "
   ]
  },
  {
   "cell_type": "markdown",
   "id": "86bff6d7",
   "metadata": {},
   "source": [
    "*c) The experimenter says that this proves that the proper distance between herself and the particle is $(1+h_+/2)L$. Is this a correct interpretation of her experiment? If the experimenter uses an alternative measuring process for proper distance, such as laying out a number of standard meter sticks between her location and the particle, would that produce the same answer? Why or why not?*"
   ]
  },
  {
   "cell_type": "markdown",
   "id": "61f00901",
   "metadata": {},
   "source": [
    "This is correct, as outlined on page 220 the method for finding the distance is essentially the same as for normal radar. Of course, this hangs entirely on the fact that the h-metric's rate of change is slow in relation to the speed of light itself. \n",
    "\n",
    "Now the curious thing is that using rulers also works just fine, but only because of the electromagnetic forces between atoms in the ruler--as mentioned earlier in the chapter, in practice the actual physical bulk of objects do not warp in gravity waves as the EM forces are so much larger. Light, meanwhile, is not feeling any of those so it is free to be shifted by the gravity waves. This means the light *sees* more or less distance than was originally in L. Meanwhile the rulers will also see more or less distance--they themselves may be stationary, but the point they measure will wobble. Assuming weak gravity waves, the effects should be the same. "
   ]
  },
  {
   "cell_type": "markdown",
   "id": "1c9af8fe",
   "metadata": {},
   "source": [
    "*d) Show that if hte experimenter simultaneously does the same experiment with a particle on the y-axis at y=L, that photon will return after a proper time of $(2-h_+)L$*"
   ]
  },
  {
   "cell_type": "markdown",
   "id": "90025f73",
   "metadata": {},
   "source": [
    "Trivial, just replace the minus with a plus for part a) "
   ]
  },
  {
   "cell_type": "markdown",
   "id": "2600fdcd",
   "metadata": {},
   "source": [
    "*e) The difference in these return times is $2h_+L$ and can be used to measure the wave amplitude. Does this result depend on our use of TT gauge, ie, would we have obtained the same answer had we used a different coordinate system?*"
   ]
  },
  {
   "cell_type": "markdown",
   "id": "5cc404c4",
   "metadata": {},
   "source": [
    "We are measuring proper distance here; so the answer will always be the same. The powerful trick here is that it works no matter where you are, as light always follows null vectors and is the same in all reference frames: it will reveal the proper distance between objects no matter what. ...Well, barring interference. And gravity waves that aren't strong. "
   ]
  },
  {
   "cell_type": "markdown",
   "id": "303336fe",
   "metadata": {},
   "source": [
    "<a id='P27'></a>\n",
    "\n",
    "# Problem 27 \\[Back to [top](#toc)\\]\n",
    "$$\\label{P27}$$\n",
    "\n",
    "*a) Derive the full three-term relation 9.63 for the rate of change of the return time for a beam traveling through a plane wave $h_+$ along the x-direction, when the wave is moving at an angle $\\theta$ to the z-axis in the xz plane.*"
   ]
  },
  {
   "cell_type": "markdown",
   "id": "9f1a3984",
   "metadata": {},
   "source": [
    "Okay so our first step is to figure out how exactly rotating the wave's direction of propogation changes the metric. Note that we are NOT changing the polarization, we are changing *propogation direction*. \n",
    "\n",
    "One thing we know is that we're turning in the xz plane, so one thing we're *not* changing is the y component of all this. It remains the same no matter what, as we could always re-define the coordintes to have the y-axis in the same place, but the new direction just being the z-direction. This also means that at a 90 degree turn, the x component must have the same behavior that the z-component did, and that the z-component has the inverse relation. The powers of rotation! Looking at just x and z, the sequence would be as follows:\n",
    "\n",
    "$$ (1+h_+,1) -> (1,1+h_+) -> (1-h_+, 1) -> (1, 1-h_+) $$\n",
    "\n",
    "Obviously a wave traveling in the opposite direction would induce a -h-metric difference rather than a positive if it was positive the other direction. \n",
    "\n",
    "This reveals to us the equations governing x and z. \n",
    "\n",
    "$$ (1+cos\\theta h_+) dx^2$$\n",
    "$$ (1+sin\\theta h_+) dz^2$$\n",
    "\n",
    "y and t have to remain the same. However, this is not sufficient, as there are potential *off-diagonal* terms. However, we reason that they cannot exist, as the rotation of the x and z h-metric components require that the combined magnitude be the same at all angles, which is only true if they're the only contributors of the magnitude or if somehow the other parts cancel. Metrics, beings symmetric, will not be having off-diagonal terms that cancel. Furthermore we are explicitly told \"+\" polarization and off-diagonal terms are indicators of the other polarization. \n",
    "\n",
    "So as we did in **Problem 26**, we solve for the effective speed. We note that even though z has an unusual metric portion, dz is still zero as we are moving along x only. dy and $ds^2$ are also still zero. \n",
    "\n",
    "$$ dt^2 = (1+cos\\theta h_+)dx^2 $$\n",
    "$$ \\Rightarrow \\frac{dx^2}{dt^2} = \\frac{1}{1+cos\\theta h_+}$$"
   ]
  },
  {
   "cell_type": "markdown",
   "id": "328dc9c8",
   "metadata": {},
   "source": [
    "Now as for the actual time, this would be distance divided by speed, or inverse speed integrated over distance. \n",
    "\n",
    "$$ t_f = t_s + \\int_0^L \\sqrt{1+cos\\theta h_+} dx $$\n",
    "\n",
    "Keep in mind that yes we could simplify it, but we won't for now. Also keep in mind that $\\theta$ is a parameter, not a coordinate. Using the square root approximation provides:\n",
    "\n",
    "$$ \\Rightarrow t_f = t_s + L + \\frac12 \\int_0^L cos\\theta h_+ dx $$"
   ]
  },
  {
   "cell_type": "markdown",
   "id": "0e3c8f14",
   "metadata": {},
   "source": [
    "Nowt this is just how long it takes to get there, and we haven't even written down what the metric itself depends on. \n",
    "\n",
    "$$ \\Rightarrow t_f = t_s + L + \\frac12 \\int_0^L cos\\theta h_+(t_s+x) dx $$\n",
    "\n",
    "We can also write the return trip.\n",
    "\n",
    "$$ \\Rightarrow t_f = t_s + 2L + \\frac12 \\int_0^L cos\\theta h_+(t_s+x) dx + \\frac12 \\int_0^L cos\\theta h_+(t_s+L+x) dx $$\n",
    "\n",
    "Taking the derivative of the two times with respect to each other produces\n",
    "\n",
    "$$ \\frac{dt_f}{dt_s} = 1 + \\frac12 cos\\theta h_+(t_s+2L) - \\frac12 cos\\theta h_+(t_s) $$\n"
   ]
  },
  {
   "cell_type": "markdown",
   "id": "29d0ff6a",
   "metadata": {},
   "source": [
    "This is, quite simply, not right. We're missing the third term and we're in terms of cosine, not sine. hmm. "
   ]
  },
  {
   "cell_type": "markdown",
   "id": "c425aab7",
   "metadata": {},
   "source": [
    "*b) Show that in the limit where L is small compared to a wavelength of the gravitational wave, the derivative of the return time is the derivative of $t+\\delta L$, where $\\delta L = Lcos^2\\theta h(t)$ is the excess proper distance for small L. Explain where the factor of $cos^2\\theta$ comes from.*"
   ]
  },
  {
   "cell_type": "markdown",
   "id": "d9a199c5",
   "metadata": {},
   "source": [
    "Okay so in the small L limit, this means the metric h can be treated as unchanging. So every h-function becomes a constant h. We start by adjusting 9.63:\n",
    "\n",
    "$$ \\frac{dt_f}{dt_s} = 1 + \\frac12[(1-sin\\theta)h - (1+sin\\theta)h + 2sin\\theta h] $$\n",
    "\n",
    "Some manipulations provide...\n",
    "\n",
    "$$ \\Rightarrow \\frac{dt_f}{dt_s} = 1 + \\frac12[h -sin\\theta h - h - sin\\theta h + 2sin\\theta h] $$\n",
    "\n",
    "$$ \\Rightarrow \\frac{dt_f}{dt_s} = 1 + \\frac12[- 2 sin\\theta h + 2sin\\theta h] $$\n",
    "\n",
    "$$ \\Rightarrow \\frac{dt_f}{dt_s} = 1 $$\n",
    "\n",
    "Well, I mean... yes this is the derivative of $t+\\delta L$ seeing as h doesn't change but that's not a very illuminating answer. clearly we need to come from the other direction. \n",
    "\n",
    "Annoyingly that'd require understanding how part a) worked. Joy. "
   ]
  },
  {
   "cell_type": "markdown",
   "id": "bc681b77",
   "metadata": {},
   "source": [
    "*c) Examine the limit of the three-term formula in a) when the gravitational wave is traveling along the x-axis too ($\\theta = \\pm \\pi/2$): what happens to light going parallel to a gravitational wave?*"
   ]
  },
  {
   "cell_type": "markdown",
   "id": "4f94366e",
   "metadata": {},
   "source": [
    "As is to be expected, the time is the same as if there was no gravity wave at all. This makes sense, as the $h_+$ term goes to zero, thus vanishing and turning everything into the normal metric. Also, the coordinate speed becomes 1. Yay! "
   ]
  },
  {
   "cell_type": "markdown",
   "id": "97579438",
   "metadata": {},
   "source": [
    "<a id='P28'></a>\n",
    "\n",
    "# Problem 28 \\[Back to [top](#toc)\\]\n",
    "$$\\label{P28}$$\n",
    "\n",
    "Skipped, just ingoing and outgoing waves and proofs of equations. "
   ]
  },
  {
   "cell_type": "markdown",
   "id": "5e74312c",
   "metadata": {},
   "source": [
    "<a id='P29'></a>\n",
    "\n",
    "# Problem 29 \\[Back to [top](#toc)\\]\n",
    "$$\\label{P29}$$\n",
    "\n",
    "Skipped. This problem looks terrifying, and all it is is the mathematical proof of the solution to the wave equation, which seems rather similar to work done in differential equations before. We cower in fear from the k-parts in this problem, whimpering and trembling. \n",
    "\n",
    "We are slightly shocked that this math was glossed over in a problem rather than the text itself for something so indepth. "
   ]
  },
  {
   "cell_type": "markdown",
   "id": "0127888c",
   "metadata": {},
   "source": [
    "<a id='P30'></a>\n",
    "\n",
    "# Problem 30 \\[Back to [top](#toc)\\]\n",
    "$$\\label{P30}$$\n",
    "\n",
    "*Rewrite 9.82a for a set of N discrete point particles, where the masses are {$m_{(A)},A = 1,2,3...,N$} and the positions are {$x^i_{(A)}$}*"
   ]
  },
  {
   "cell_type": "markdown",
   "id": "cbe75986",
   "metadata": {},
   "source": [
    "9.82 $I^{lm} = \\int T^{00}x^l x^m d^3x$"
   ]
  },
  {
   "cell_type": "markdown",
   "id": "725a8fb4",
   "metadata": {},
   "source": [
    "Our goal here is essentially to turn this into a sum. Now, this is in integral form. We can imagine it as the integral over a ball. And if there were several balls, we could imagine it as the sum of several integrals, one over each ball. \n",
    "\n",
    "$$I^{lm} = \\int T^{00}x^l x^m d^3x + \\int T^{00}x^l x^m d^3x + \\int T^{00}x^l x^m d^3x  + ... $$"
   ]
  },
  {
   "cell_type": "markdown",
   "id": "c3708915",
   "metadata": {},
   "source": [
    "So what if each of these balls were a single point? Well, a single point can have variable \"density\" so each individual T-term here will have to be a constant. Integrated over all space they occupy (the point) will produce their mass. However, the T is not the only thing in the integral, there are also the other variables as well, which are either xy, yz, or xz. But remember, we only exist at one point now, so we effectively are a dirac delta. \n",
    "\n",
    "This means we pull out the result based on the point particle's *location*. The funny thing about dirac deltas is that they essentially remove the integration step, replacing it with a single number. Thus, each individual point has:\n",
    "\n",
    "$$ m_{(A)}x^l_{(A)} x^m_{(A)} $$\n",
    "\n",
    "We note that even though the dirac delta is taken over three coordinates and there are only two here, when it is taken over the third there is no variability whatsoever so it just pops out a constant. \n",
    "\n",
    "The full description would be:\n",
    "\n",
    "$$ I^{lm} = \\sum_{(A)} m_{(A)}x^l_{(A)} x^m_{(A)} $$"
   ]
  },
  {
   "cell_type": "markdown",
   "id": "55c8e222",
   "metadata": {},
   "source": [
    "<a id='P31'></a>\n",
    "\n",
    "# Problem 31 \\[Back to [top](#toc)\\]\n",
    "$$\\label{P31}$$\n",
    "\n",
    "*Calculate the quadrupole tensor $I_{jk}$ and its traceless counterpart $\\bar{I}_{jk}$*"
   ]
  },
  {
   "cell_type": "markdown",
   "id": "be1ba20b",
   "metadata": {},
   "source": [
    "Since this seems like such an important concept (and this problem has many parts to it) let's become an expert in doing it by working out the examples as well as the problems. \n",
    "\n",
    "First, though, let's gather our relations. \n",
    "\n",
    "$$\\bar{I}_{jk} = I_{jk} - \\frac13 \\delta_{jk}I^l_l $$\n",
    "\n",
    "$$ I^{lm} = \\int T^{00} x^lx^m d^3x $$\n",
    "\n",
    "$$ I^{lm} = \\sum_{(A)} m_{(A)}x^l_{(A)} x^m_{(A)} $$"
   ]
  },
  {
   "cell_type": "markdown",
   "id": "648fde13",
   "metadata": {},
   "source": [
    "And yes we really do need **Problem 30** for this. \n",
    "\n",
    "**TASK 1: THE HARMONIC OSCILLATOR**\n",
    "\n",
    "Consider the Harmonic Oscillator as two point particles and lay them on the x-axis. For them, y and z components are zero, so only the x components even exist. However they have two distinct x components, so...\n",
    "\n",
    "$$ I^{xx} = mx_1^2 + mx_2^2 $$\n",
    "\n",
    "A reminder that our tensor here is only in xyz so raising and lowering the indeces occur by just applying the identity matrix. So we can easily also say:\n",
    "\n",
    "$$ \\Rightarrow I_{xx} = mx_1^2 + mx_2^2 $$\n",
    "\n",
    "Now from previous work (in the whole harmonic oscillator section we skimmed above) we actually know how the two x coordiantes relate to each other. Note that the equations in the book seem riddled with typos. It even drops the m at one point and has the signs all funky. \n",
    "\n",
    "$$ \\Rightarrow I_{xx} = m(-\\frac12 l_0 - Acos(\\omega t))^2 + m(\\frac12 l_0 + Acos(\\omega t))^2 $$"
   ]
  },
  {
   "cell_type": "markdown",
   "id": "fa438699",
   "metadata": {},
   "source": [
    "Now muiltiply it all out and arrive at...\n",
    "\n",
    "$$ \\Rightarrow I_{xx} = m(\\frac12 l_0^2 + 2Al_0cos(\\omega t) + 2A^2cos^2(\\omega t) )$$\n",
    "\n",
    "We apply power reduction to the cosine term. Yes we looked it up, [2](#2). Why we do this is entirely because the book says so. (Though it does appear to help with frequency analysis later.)\n",
    "\n",
    "$$ \\Rightarrow I_{xx} = m(\\frac12 l_0^2 + 2Al_0cos(\\omega t) + A^2 + A^2cos(2\\omega t) )$$"
   ]
  },
  {
   "cell_type": "markdown",
   "id": "d946e085",
   "metadata": {},
   "source": [
    "For reasons not exactly clear (perhaps because of our original assumption in this section that everything oscillates) we only care about the sinusoidal terms, which means the constants are irrelevant. \n",
    "\n",
    "$$ \\Rightarrow I_{xx} = 2Al_0mcos(\\omega t) + A^2mcos(2\\omega t) + C$$\n",
    "\n",
    "Inserting the exponential terms they are part of back in...\n",
    "\n",
    "$$ \\Rightarrow I_{xx} = 2Al_0me^{-i\\omega t} + A^2me^{-2i\\omega t} + C$$"
   ]
  },
  {
   "cell_type": "markdown",
   "id": "ef3fa61e",
   "metadata": {},
   "source": [
    "The barred I terms are not difficult to find from this, \n",
    "\n",
    "$$\\bar{I}_{jk} = I_{jk} - \\frac13 \\delta_{jk}I^l_l $$"
   ]
  },
  {
   "cell_type": "markdown",
   "id": "5d8758df",
   "metadata": {},
   "source": [
    "Clearly, only xx, yy, and zz exist as everything else poofs. A reminder that the \"raising\" metric in this case is just hte identity so our friends of different forms of I are all really the same thing, which means the second term above is always just $I_{xx}/3$.\n",
    "\n",
    "$$\\bar{I}_{xx} =  \\frac23 (2Al_0me^{-i\\omega t} + A^2me^{-2i\\omega t}) $$\n",
    "$$\\bar{I}_{yy} =  - \\frac13 (2Al_0me^{-i\\omega t} + A^2me^{-2i\\omega t}) $$\n",
    "$$\\bar{I}_{zz} = \\bar{I}_{yy}  $$\n",
    "\n",
    "And naturally $\\bar I_{xx}+\\bar I_{yy}+\\bar I_{zz} = 0$, as it should."
   ]
  },
  {
   "cell_type": "markdown",
   "id": "28d2b2a3",
   "metadata": {},
   "source": [
    "**TASK 2: BINARY STAR SYSTEM**\n",
    "\n",
    "Similar to before, but now we have freedom in both x and y, but we will still treat the overall situation as each star being a point particle. This means we have xx, yy, and xy results. \n",
    "\n",
    "The equations that describe the motion of the stars in a circular binary orbit (when they are of equal mass) are:\n",
    "\n",
    "$$x_1 = - x_2 = \\frac12 l_0 cos(\\omega t)$$\n",
    "$$y_1 = - y_2 = \\frac12 l_0 sin(\\omega t)$$\n",
    "\n",
    "Simple circular motion. \n",
    "\n",
    "xx and yy are very similar to the previous TASK.\n",
    "\n",
    "$$I_{xx} = m(x_1^2+x_2^2) = m \\frac12 l_0^2 cos^2(\\omega t)$$\n",
    "$$I_{yy} = m(y_1^2+y_2^2) = m \\frac12 l_0^2 sin^2(\\omega t)$$"
   ]
  },
  {
   "cell_type": "markdown",
   "id": "83196cbb",
   "metadata": {},
   "source": [
    "Which, yes, can be converted into direct sinusoidal terms. \n",
    "\n",
    "$$I_{xx} = m \\frac14 l_0^2 cos(2\\omega t) + \\frac14 ml_0^2$$\n",
    "$$I_{yy} =-m \\frac14 l_0^2 cos(2\\omega t) + \\frac14 ml_0^2$$"
   ]
  },
  {
   "cell_type": "markdown",
   "id": "7b43a7c0",
   "metadata": {},
   "source": [
    "Now, xy and yx are degenreate. However, they take the somewhat odd form $ m(x_1y_1+x_2y_2) $\n",
    "\n",
    "$$I_{xy} = m \\frac12 l_0^2 sin(\\omega t)cos(\\omega t) = m \\frac14 l_0^2 sin(2\\omega t) $$"
   ]
  },
  {
   "cell_type": "markdown",
   "id": "3dc1348a",
   "metadata": {},
   "source": [
    "For $\\bar{I}$ the results are pretty similar for xx and yy. Convert to exponential and let is loose. \n",
    "\n",
    "$$ \\bar{I}_{xx} = -\\bar{I}_{yy} = m \\frac14 l_0^2 e^{-2i\\omega t} $$\n",
    "\n",
    "The trace is zero so it doesn't appear, seeing as $I_{xx} = -I_{yy}$"
   ]
  },
  {
   "cell_type": "markdown",
   "id": "b36836ab",
   "metadata": {},
   "source": [
    "Meanwhile since the xy form is SINE, that means we have to add an i to make it the \"real component.\"\n",
    "\n",
    "$$\\bar{I}_{xy} = \\bar{I}_{yx} = m\\frac14 l_0^2 i e^{-2i\\omega t}$$\n",
    "\n",
    "And thus we hace completed the TASKS. "
   ]
  },
  {
   "cell_type": "markdown",
   "id": "8127632c",
   "metadata": {},
   "source": [
    "*a) A spherical star where density is $\\rho(r,t)$. Take the origin of the coordinates in 9.82 to be the center of the star.*"
   ]
  },
  {
   "cell_type": "markdown",
   "id": "3fafe290",
   "metadata": {},
   "source": [
    "Seeing as we went through it all in detail in the TASKS above, these next few will be done in more general, loose terms, unless something tricky comes up. Most notably, here, we have to actually take the 3D integral as we have a sphere. Time to take out the integration:\n",
    "\n",
    "$$ I^{lm} = \\int T^{00} x^lx^m d^3x $$"
   ]
  },
  {
   "cell_type": "markdown",
   "id": "86d46fa8",
   "metadata": {},
   "source": [
    "We're integrating over a sphere, so we should just convert to spherical coordinates with the integration factor $r^2sin\\theta$. The annoying thing is that we don't know how the density depends on r. If it was constant this would just pop right out, as we can replace xyz with their polar representations and squeeze out the integral. \n",
    "\n",
    "However, here Gauss' law saves us, as we have a spherically symmetric potential. At every point outside of it, we can treat it as a point mass. Of course there are still tons of combinations of x, y, and z... Also the fact that it changes with time might suggest that the overall mass changes with time.\n",
    "\n",
    "Ignoring possible Gauss law simplificaitons, it should be possible for each individual case to evaluate the angle integrals without issue, and then determine by how much the extra terms of r (there will be an $r^4!$) will influence hte integration of the density by examining how much it \"changes\" the result. The idea is to relate it to the total mass. "
   ]
  },
  {
   "cell_type": "markdown",
   "id": "004740c6",
   "metadata": {},
   "source": [
    "*b) The star in a), but with the origin of the coordinates at an arbitrary point*\n",
    "\n",
    "Well this is just mean, the bennefit of spherical coordinates is mostly lost here. Also, the definition of r becomes ambiguous. Is the density radially symmetric around the coordinate system or the star? the latter makes sense, but then what does the coordinate system even mean?"
   ]
  },
  {
   "cell_type": "markdown",
   "id": "10d8492f",
   "metadata": {},
   "source": [
    "*c) An ellipsoid of uniform density $\\rho$ and semiaxes of length a,b,c oriented along the x,y,z axes respectively. Take the origin to be the center of the ellipsoid.*"
   ]
  },
  {
   "cell_type": "markdown",
   "id": "f594c757",
   "metadata": {},
   "source": [
    "See, now this density is constant, buuuut our potentail is not spherically symmetric. Integrating over the volume won't be anywhere near as difficult as with an unknown function of r in it. Recommendation is to use polar coordiantes and look up an ellipsoid in polar coordinates, or define a new coordinate system: elliptical coordinates! "
   ]
  },
  {
   "cell_type": "markdown",
   "id": "f4c3c19b",
   "metadata": {},
   "source": [
    "*d) The ellipsoid in c), but rotating about the z-axis with angular velocity $\\omega$*\n",
    "\n",
    "This one should be basically trivial. Simply rotate everything--there are no time dependent derivatives in the equations for I, go nuts. "
   ]
  },
  {
   "cell_type": "markdown",
   "id": "736d6187",
   "metadata": {},
   "source": [
    "*e) Four masses m located respectively at the points (a,0,0) (0,a,0) (-a,0,0) (0,-a,0)*\n",
    "\n",
    "This one we might actually be able to evaluate in a reasonable amount of time. Every component of I will be a sum of these four particles. However, as none of hte particles have more than one coordinate on them, this removes all off-diagonals. \n",
    "\n",
    "What of the actual diagonals? \n",
    "\n",
    "$$ I_{xx} = ma^2 + m(-a)^2 = 2ma^2$$\n",
    "\n",
    "Neat. $I_{yy}$ is identical. The zz option doesn't exist. \n",
    "\n",
    "$\\bar{I}$ gets an xx of $\\frac23ma^2$ and a similar yy, while zz is $-\\frac43 ma^2$ which is, in fact, traceless. "
   ]
  },
  {
   "cell_type": "markdown",
   "id": "aef02561",
   "metadata": {},
   "source": [
    "*f) The masses in e) but all moving counter-clockwise about the z-axis on a circle of radius a with angular velocity $\\omega$*\n",
    "\n",
    "Now this is not just as simple as tacking on $cos\\theta$ to everything, the components that were \"0\" no longer have to be, so they get sine components, and everything follows circular motion. While easy to think about, this is annoying to write down. This will intorduce off-diagonal terms xy and yx. Naturally they will be equal to each other, because they have to be. "
   ]
  },
  {
   "cell_type": "markdown",
   "id": "e8fe08bb",
   "metadata": {},
   "source": [
    "*g) Two masses m connected by a massless spring, each oscillating on the x axis with angular frequency $\\omega$ and amplitude A about mean equilibrium positions a distance $l_0$ apart, keeping their center of mass fixed.*"
   ]
  },
  {
   "cell_type": "markdown",
   "id": "ffa72214",
   "metadata": {},
   "source": [
    "...Excuse me? \n",
    "\n",
    "This is just TASK 1, see above. "
   ]
  },
  {
   "cell_type": "markdown",
   "id": "6d1ce69e",
   "metadata": {},
   "source": [
    "*h) Unequal masses m and M connected by a spring of spring constant k and equilibrium length $l_0$ oscillating (with their center of masses fixed) at the natural frequency of the system, with amplitude 2A (this is the total stretching of the spring). Their separation is along the x-axis.*\n",
    "\n",
    "This is what we here in the business like to call \"needlessly complicated.\" Granted, it'll be more realistic, but wil it be all that illuminating? Doubtful. "
   ]
  },
  {
   "cell_type": "markdown",
   "id": "fd7bb8d5",
   "metadata": {},
   "source": [
    "<a id='P32'></a>\n",
    "\n",
    "# Problem 32 \\[Back to [top](#toc)\\]\n",
    "$$\\label{P32}$$\n",
    "\n",
    "Just gauge derivations, skipped. "
   ]
  },
  {
   "cell_type": "markdown",
   "id": "bd7e8743",
   "metadata": {},
   "source": [
    "<a id='P33'></a>\n",
    "\n",
    "# Problem 33 \\[Back to [top](#toc)\\]\n",
    "$$\\label{P33}$$\n",
    "\n",
    "More gauge derivations, skipped."
   ]
  },
  {
   "cell_type": "markdown",
   "id": "aa45fe4a",
   "metadata": {},
   "source": [
    "<a id='P34'></a>\n",
    "\n",
    "# Problem 34 \\[Back to [top](#toc)\\]\n",
    "$$\\label{P34}$$\n",
    "\n",
    "*Show that $\\bar I_{jk}$ is trace free, i.e. $\\bar{I}^l_l=0$*\n",
    "\n",
    "This, most likely, isn't necessary to do. But we ran this check multiple times to see if our results for $\\bar{I}$ were realistic in **Problem 31**, so it has our interest. So let's just expand it and see what happens.\n",
    "\n",
    "First, we shall assume that the traceless operation works on arbitrary matrices, and that it does not have to be $I_{jk}$ specifically. We're hoping the law is universally true, but if it is not, hopefully working it out will reveal a criteria that must be satisfied that only $I_{jk}$ can satisfy. "
   ]
  },
  {
   "cell_type": "markdown",
   "id": "147d3128",
   "metadata": {},
   "source": [
    "$$\\bar{I}_{jk} = I_{jk} - \\frac13 \\delta_{jk}I^l_l $$\n",
    "\n",
    "So the trace we want is:\n",
    "\n",
    "$$ I_{xx} - \\frac13 \\delta_{xx}I^l_l + I_{yy} - \\frac13 \\delta_{yy}I^l_l + I_{zz} - \\frac13 \\delta_{zz}I^l_l  $$\n",
    "$$ = I_{xx} - \\frac13 (I_{xx}+I_{yy}+I_{zz}) + I_{yy} - \\frac13 (I_{xx}+I_{yy}+I_{zz}) + I_{zz} - (I_{xx}+I_{yy}+I_{zz})  $$\n",
    "\n",
    "Note that since we are in purely spatial raising and lowering indeces is the same as multiplying by an identity matrix.\n",
    "\n",
    "$$ = I_{xx} - (I_{xx}+I_{yy}+I_{zz}) + I_{yy}  + I_{zz}  = 0  $$\n",
    "\n",
    "And would you look at that, it is universally true. "
   ]
  },
  {
   "cell_type": "markdown",
   "id": "8c5a77d4",
   "metadata": {},
   "source": [
    "<a id='P35'></a>\n",
    "\n",
    "# Problem 35 \\[Back to [top](#toc)\\]\n",
    "$$\\label{P35}$$\n",
    "\n",
    "*For the systems described in **Problem 31** calculate the transverse-traceless quadrupole radiation field, 9.85 - 9.86 or 9.163, along the x, y, and z axes. In 9.85-9.86, be sure to change the indices appropriately when doing the calculation on teh x and y axes, as in teh discussion leading to 9.91*\n",
    "\n",
    "So naturally we aren't doing it for all of them as that would be an absurd amount of work. However, TASK 1 (g)), TASK 2, and e) were worked out to completion, so we will use those. "
   ]
  },
  {
   "cell_type": "markdown",
   "id": "b4b962d5",
   "metadata": {},
   "source": [
    "The radiation field equations are:\n",
    "\n",
    "$$\\bar{h}^{TT}_{zi} = 0$$\n",
    "$$\\bar{h}^{TT}_{xx} = - \\bar{h}^{TT}_{yy} = -\\Omega^2(\\bar I_{xx} - \\bar I_{yy}) e^{i\\Omega r}/r $$\n",
    "$$\\bar{h}^{TT}_{xy} = \\bar{h}^{TT}_{yx} = -2\\Omega^2\\bar I_{xy} e^{i\\Omega r}/r $$"
   ]
  },
  {
   "cell_type": "markdown",
   "id": "6798431e",
   "metadata": {},
   "source": [
    "Notably we choose \"method 1\" for all of this since 9.163 is dealt with in **Problem 33** and while we would be fine using it, it would make us re-derive this P tensor rather than use the I tensors we already have. \n",
    "\n",
    "9.84-9.86 give the field for radiation in the z direction, so that is where we shall start. Let's do the oscillator first. We need $\\bar I$ for this. \n",
    "\n",
    "$$\\bar{I}_{xx} =  \\frac23 (2Al_0me^{-i\\omega t} + A^2me^{-2i\\omega t}) $$\n",
    "$$\\bar{I}_{yy} =  - \\frac13 (2Al_0me^{-i\\omega t} + A^2me^{-2i\\omega t}) $$\n",
    "$$\\bar{I}_{zz} = \\bar{I}_{yy}  $$"
   ]
  },
  {
   "cell_type": "markdown",
   "id": "72b22a56",
   "metadata": {},
   "source": [
    "Now with no off diagonals all the off-diagonal temrs for the field go to zero as well, so we just have to worry about the diagonal terms. Curiuosly, since the two diagonal terms are related, this smooths thigns over rather easily in terms of the subtraction. \n",
    "\n",
    "However, we do need to figure out what $\\Omega$ is. It is the frequency. In this case it's nothing complicated, EXCEPT that we have two different frequency modes, so in reality the $\\Omega$ will be different for each of the two terms we have. Fascinating! \n",
    "\n",
    "The result then becomes:\n",
    "\n",
    "$$\\bar{h}^{TT}_{xx} = - \\bar{h}^{TT}_{yy} = -\\omega^2 2Al_0me^{-i\\omega t} e^{i\\omega r}/r - 4\\omega^2 A^2me^{-2i\\omega t} e^{2i\\omega r}/r $$\n",
    "\n",
    "$$ = -\\omega^2 2Al_0me^{i\\omega (r-t)t}/r - 4\\omega^2  A^2me^{2i\\omega (r-t)} /r$$"
   ]
  },
  {
   "cell_type": "markdown",
   "id": "3a4f318b",
   "metadata": {},
   "source": [
    "Of course the total is the sum of the real parts of this. See 9.93 for all of it. \n",
    "\n",
    "Now in the other directions we swap z->x, x->y, y->z to get the \"x\" direction. As we will note, since $\\bar I_{yy} = \\bar I_{zz}$, this goes to zero. \n",
    "\n",
    "However, the other direction, the y direction, does not. Its arrangements of the equations become:\n",
    "\n",
    "$$\\bar{h}^{TT}_{yi} = 0$$\n",
    "$$\\bar{h}^{TT}_{zz} = - \\bar{h}^{TT}_{xx} = -\\Omega^2(\\bar I_{zz} - \\bar I_{xx}) e^{i\\Omega r}/r $$\n",
    "$$\\bar{h}^{TT}_{zx} = \\bar{h}^{TT}_{zx} = -2\\Omega^2\\bar I_{zx} e^{i\\Omega r}/r $$\n",
    "\n",
    "Now all this does in practice is flip a sign. \n",
    "\n",
    "$$\\bar{h}^{TT}_{zz} = - \\bar{h}^{TT}_{xx} = \\omega^2 2Al_0me^{-i\\omega t} e^{i\\omega r}/r + 4\\omega^2 A^2me^{-2i\\omega t} e^{2i\\omega r}/r $$\n",
    "\n",
    "$$ = \\omega^2 2Al_0me^{i\\omega (r-t)t}/r + 4\\omega^2  A^2me^{2i\\omega (r-t)} /r$$"
   ]
  },
  {
   "cell_type": "markdown",
   "id": "d6753724",
   "metadata": {},
   "source": [
    "In fact the xx version matches what it originally was, curiously.\n",
    "\n",
    "Perhaps it has come to no small surprsie that we have decided to NOT also do this for TASK 2 and part e). This was enough tedious calculation. \n",
    "\n",
    "Physically, we remember that our source is an oscillator in the x-axis. This means that as it wobbles back and forth, the gravity waves go out in the z and y directions. This kind of makes sense: a gravity wave going through the x-axis would not excite the oscillator, as it does not influence the separation in the direction of travel. "
   ]
  },
  {
   "cell_type": "markdown",
   "id": "de014119",
   "metadata": {},
   "source": [
    "From this we can make some observations about our other systems. The stars will emanate gravity waves in all directions as their relation to each other is constantly changing, so the plane of action rotates across the whole sky. The STATIONARY particles should always be producing absolutely nothing. In fact, that sounds easy enough to check...\n",
    "\n",
    "$\\bar{I}$ gets an xx of $\\frac23ma^2$ and a similar yy, while zz is $-\\frac43 ma^2$."
   ]
  },
  {
   "cell_type": "markdown",
   "id": "2f5605b1",
   "metadata": {},
   "source": [
    "No off-diagonal terms, everything vanishes. In the z direction it is as we predicted, nothing is radiating. however, in the x and y directions, it doesn't jsut vanish. This implies that even stationary gravity sources can radiate. Hmm. Does this mean we did the problem wrong...? Or is it a curious truth? We note that there's actually NO non-radiating arrangements that have nonzero $\\bar I$ diagonals, since the diagonals are always added to each other. If two cancel with each other, the third one can only cancel with one of them. Interesting. "
   ]
  },
  {
   "cell_type": "markdown",
   "id": "0dac12f9",
   "metadata": {},
   "source": [
    "<a id='P36'></a>\n",
    "\n",
    "# Problem 36 \\[Back to [top](#toc)\\]\n",
    "$$\\label{P36}$$\n",
    "\n",
    "*Use 9.163 or a rotation of the axes in 9.85-86 to calculate the amplitude and orientation of the polarization ellipse of the radiation from the simple oscillator, 9.88, traveling at an angle $\\theta$ to the x axis*\n",
    "\n",
    "Probably could have skipped this one, but we've done most of the work arleady in previous problems! The oscillator is our friend, and we shall finish the disucssion by determining its polarization. \n",
    "\n",
    "We have the following results:\n",
    "\n",
    "$$\\bar{h}^{TT}_{zi} = 0$$\n",
    "$$\\bar{h}^{TT}_{xx} = - \\bar{h}^{TT}_{yy} = -\\Omega^2(\\bar I_{xx} - \\bar I_{yy}) e^{i\\Omega r}/r $$\n",
    "$$\\bar{h}^{TT}_{xy} = \\bar{h}^{TT}_{yx} = -2\\Omega^2\\bar I_{xy} e^{i\\Omega r}/r $$\n",
    "\n",
    "z direction:\n",
    "\n",
    "$$\\bar{h}^{TT}_{xx} = - \\bar{h}^{TT}_{yy} = -\\omega^2 2Al_0me^{i\\omega (r-t)t}/r - 4\\omega^2  A^2me^{2i\\omega (r-t)} /r$$\n",
    "\n",
    "x direction: 0\n",
    "\n",
    "y direction: \n",
    "\n",
    "$$\\bar{h}^{TT}_{zz} = - \\bar{h}^{TT}_{xx} = \\omega^2 2Al_0me^{i\\omega (r-t)t}/r + 4\\omega^2  A^2me^{2i\\omega (r-t)} /r$$"
   ]
  },
  {
   "cell_type": "markdown",
   "id": "148d43a8",
   "metadata": {},
   "source": [
    "These pretty clearly form \"+\" polarized metrics in the z and y directions, respectively. The z direction oscillates x and y, while the y direciton oscillated x and z, and the opposite coordiates move opposite to one another. As they should--if we remember the ring examples. \n",
    "\n",
    "Here's the thing though, we don't eve need to bother with any more specific calculations: the y and z axes are COMPLETLEY arbitrary! The oscillator is the exact same no matter how we spin them, so in *every* direction, the polarization is \"+\" and the amplitude is the same as a singular metric. \n",
    "\n",
    "Ah, the rub, though, is that this only applies for the zy plane, indicating that it is cylindrically symmetric. The problem specifically asks for an angle deviation from x. From logic the amplitude has to fall off like $sin\\theta$, obviously, as it has to go to zero at the x direction. The question that remains is what happens to the *polarization?*\n",
    "\n",
    "Logically, it would have to be \"+\" everywhere. There are no rotations occuring to \"twist\" the transverse wave. The strength would go down, to be sure, and one side of the polarization could potentially oscillate more than the other (maybe not...) but the fact remains that there's not a way to \"turn\" the wave. It has to stay cylindrically symmetric, and to go to the 45 polarization there would have to be a turn, which would create a decidedly directional rotation around the x-axis. There should be no prefered direction of turning, thus it must remain the same. \n",
    "\n",
    "Hah, watch us solve this by argument rather than math! "
   ]
  },
  {
   "cell_type": "markdown",
   "id": "ac4ed132",
   "metadata": {},
   "source": [
    "<a id='P37'></a>\n",
    "\n",
    "# Problem 37 \\[Back to [top](#toc)\\]\n",
    "$$\\label{P37}$$\n",
    "Skipped. Had the potential to be interesting, but relied on **Problem 31h**, otherwise known as mister needlessly complicated."
   ]
  },
  {
   "cell_type": "markdown",
   "id": "ebbb97a9",
   "metadata": {},
   "source": [
    "<a id='P38'></a>\n",
    "\n",
    "# Problem 38 \\[Back to [top](#toc)\\]\n",
    "$$\\label{P38}$$\n",
    "\n",
    "Skipped. It's problem 36 but harder, and uses the binary star system. \n",
    "\n",
    "NOTE: maybe come back to later, if **Problem 27** gets resolved. "
   ]
  },
  {
   "cell_type": "markdown",
   "id": "eec1d732",
   "metadata": {},
   "source": [
    "<a id='P39'></a>\n",
    "\n",
    "# Problem 39 \\[Back to [top](#toc)\\]\n",
    "$$\\label{P39}$$\n",
    "\n",
    "Very similar to previous calculations, just with two stars of unequal mass M and m. Part a) sees a Newtonian orbit derived, which, while fun, has been done before. Part b) has $\\bar I$ calculated, but we'll just use the summation over point particles verison for it. Part c) Has the TT radiation field calculated along x and z, which we have also done before in other problems. \n",
    "\n",
    "If we ever want to show how to do all of it at once, maybe come back to this one. \n",
    "\n",
    "As it turns out the Boss Problem of the chapter depends on this one, so we're doing it. "
   ]
  },
  {
   "cell_type": "markdown",
   "id": "ae63bddd",
   "metadata": {},
   "source": [
    "*Let two spherical stars of mass m and M be in elliptical orbit about one another in the xy plane. Let the orbit be characterized by its total energy E and its angular momentum L.*\n",
    "\n",
    "*a)Use Newtonian gravity to calculate the equation of the orbits of both masses about their center of mass. Express the orbital period P, minimum separation $l_0$, and eccentricity e as functions of E and L.*"
   ]
  },
  {
   "cell_type": "markdown",
   "id": "e8be8387",
   "metadata": {},
   "source": [
    "Ah, originally misread this problem. What we have is a case of binary ELIPTICAL orbits, not circular. That is significantly more difficult to do in newtonain gravity, but it is doable. Looking ahead we will also be needing their xy positions for calculating the I-tensor and later the h-metric. \n",
    "\n",
    "We naturally define our coordinate system such that z is perpendicular to the plane of motion, as binary systems have to move in a plane of motion. Fortunately we do have one thing we can do: consider the stars as point masses, which makes the integration for I turn into a sum.\n",
    "\n",
    "First of all, Newtonian: we need to completely characterize a system when given m, M, L, and E. Let's imagine the system at point of closest approach, which in a binary system would be \"simultaneous periapsis\" and is effectively the point where they are both closest to their center of mass. (They're orbiting each other, they can't be out of alignment.) Let's consider this line to be on the x axis, so both apoapsis and periapsis occur on the x axis with no y component to their position. \n",
    "\n",
    "Even better, in this formulation they will be traveling exactly perpendicular to each other and the center of mass, making it easy to calculate the system's angular momentum. Angular momentum is mvr (mass speed distance) so the total angular momentum of the system is mvr + MVR, where the capital letters indicate mass/speed/distance of the larger body. \n",
    "\n",
    "$$L = mvr + MVR$$\n",
    "\n",
    "Also, $l_0 = r+R$, giving us another one of our relations already. We can calculate the distances in terms of gravity later. \n",
    "\n",
    "The energy of the system is a bit more complicated. The kinetic energy is no issue, $\\frac12mv^2 + \\frac12MV^2$. However, the gravitational potential energy formula we usually use will not apply as one of the stars is not dominating this scenario. So we go look up arbitrary gravitational potential energy rather than deriving it... and while it turned out to not be helpful for our formulation [3](#3) will be useful for other things, so we bring it in anyway. \n",
    "\n",
    "Regardless, gravitational potential is given by -GMm/r. It's negative, so naturally the energy goes \"down\" the closer in the objects are, and thus the kinetic energy goes \"up\" which is what we observe and expect. No further adjustments need to be made, as this is the potential energy between TWO objects, there's no need to even double it. We do have to note that the current distance between them is at a minimum, $l_0$, so our full energy equation becomes:\n",
    "\n",
    "$$ E = \\frac12mv^2 + \\frac12MV^2 -\\frac{GMm}{l_0} $$\n",
    "\n",
    "And we'll keep the G for now, adjusting to relativistic coordinates later. Keep in mind these equations are only accurate at the time of closest passage, but we are still in Newtonian so conservation of energy and angular momentum will hold. The hope is that, from that, we can get the exact paths of the binaries. "
   ]
  },
  {
   "cell_type": "markdown",
   "id": "7ed8716c",
   "metadata": {},
   "source": [
    "A relation from [3](#3) that is helpful is MR = mr, giving us the relation between the radii. M/r = m/R, or M/m = r/R. (naturally the heavier star will be closer and thus have a smaller radius.) It also tells us that the same relation applies with momentum: MV = mv. \n",
    "\n",
    "These are the relations we have. We also want P and e. This actually looks like it is best done in the system of the motion of one star with respect to the other, as that keeps there from being an e and an E but really has there be only one eccentricity. The actual relation here will be $l_0 = a(1-e)$, where a is the total semimajor axis of the orbit of one object with respect to the other (which would be the same in both reference frames) and e is the general eccentricity. \n",
    "\n",
    "P is the tricky one, but we can assert that P has to be the same for both stars in order for the orbit to be stable. This can be resolved with Kepler's Third Law, [4](#4). \n",
    "\n",
    "$$ \\frac{a^3}{P^2} = \\frac{G(M+m)}{4\\pi^2} $$\n",
    "\n",
    "Where a is again the overall semimajor axis of the orbit. "
   ]
  },
  {
   "cell_type": "markdown",
   "id": "8b3ddfae",
   "metadata": {},
   "source": [
    "So, this should be all the relations we need. Our ultimate goal is $l_0$, P, and e in terms of energy and angular momentum. Other unknowns we have are a, v, V, r, and R. What we have here is essentially a huge system of equations. However, while it may seem like too much, if we ignore P and e for a moment, we see that our unknowns are just v, V, r, R, and $l_0$, and that we have FIVE equations that deal strictly in this domain. So there should be a unique solution for all of them in terms of E, L, M, m, and G. The trick is just actually doing it. \n",
    "\n",
    "After a very LONG derivation, this result was attained.\n",
    "\n",
    "$$ r = \\frac{\\frac{L^2}{GMm} + \\sqrt{\\frac{1}{G^2M^2m^2}+ \\frac{8(m+M)}{EL^2}}}{8m + 4M + 4m^2/M} $$\n",
    "\n",
    "Which, y'know, might be correct and all, and can easily be used to define the other variables and get us to where we need to go, but it's a mess and clearly needs to be simplified. So instead of working the problem through in terms of r in order to keep all the variables hidden, we'll just look up some answers and then use those. \n",
    "\n",
    "Otherwise known as just taking the final conclusions of [3](#3) as truth. \n",
    "\n",
    "$$ E = -\\frac12 \\frac{GMm}{a}$$\n",
    "\n",
    "$$ L = \\frac{Mm}{m+M} \\sqrt{Ga(m+M)(1-e^2)} = \\frac{Mm}{m+M} \\Omega a^2 \\sqrt{1-e^2} = \\frac{Mm}{m+M} \\frac{2\\pi}{P} a^2 \\sqrt{1-e^2} $$"
   ]
  },
  {
   "cell_type": "markdown",
   "id": "5e80be8a",
   "metadata": {},
   "source": [
    "Our previous relations are still helpful here: MR=mr, MV=mv, and mostly $l_0 = a(1-e)$.\n",
    "\n",
    "Immediately we find the unknown a to be $-\\frac{GMm}{2E}$\n",
    "\n",
    "This adjusts our other equations to \n",
    "\n",
    "$$l_0 = -\\frac{GMm}{2E}(1-e)$$\n",
    "$$L = \\frac{Mm}{m+M} \\frac{2\\pi}{P} \\frac{G^2M^2m^2}{4E^2} \\sqrt{1-e^2}$$"
   ]
  },
  {
   "cell_type": "markdown",
   "id": "7d42fd77",
   "metadata": {},
   "source": [
    "Two equations, three unknowns: P, $l_0$, and e. We need another relation to fully define everything. We do actually have one, for a step in L's derivation is\n",
    "\n",
    "$$ \\Omega a^2 = \\sqrt{Ga(M+m)}$$\n",
    "\n",
    "Which means...\n",
    "\n",
    "$$ \\frac{2\\pi a^2}{\\sqrt{Ga(M+m)}} = P \\Rightarrow \\frac{2\\pi a^{3/2}}{\\sqrt{G(M+m)}} = P $$\n",
    "\n",
    "$$ \\Rightarrow -\\frac{2\\pi (GMm)^{3/2}}{\\sqrt{8} E^{3/2} \\sqrt{G(M+m)}} = P $$\n",
    "\n",
    "Which qualifies as a third relation. And, actually, is an ANSWER for P, as a is just in terms of E. \n",
    "\n",
    "$$L = \\frac{Mm}{m+M} \\frac{-\\sqrt{8} E^{3/2} \\sqrt{G(M+m)}}{(GMm)^{3/2}} \\frac{G^2M^2m^2}{4E^2} \\sqrt{1-e^2} $$"
   ]
  },
  {
   "cell_type": "markdown",
   "id": "fcac9e80",
   "metadata": {},
   "source": [
    "Now what we actually WANT here is something in terms of e. So let's do some simplifications...   \n",
    "\n",
    "$$L = \\frac{M^{3/2}m^{3/2}G}{\\sqrt{-E}\\sqrt{m+M}\\sqrt{2}} \\sqrt{1-e^2} $$"
   ]
  },
  {
   "cell_type": "markdown",
   "id": "358158cf",
   "metadata": {},
   "source": [
    "$$L^2 = -\\frac{M^{3}m^{3}G^2}{2E(M+m)} (1-e^2) $$\n",
    "\n",
    "$$\\Rightarrow -\\frac{L^22E(M+m)}{M^{3}m^{3}G^2} = 1-e^2$$\n",
    "\n",
    "$$\\Rightarrow e = \\sqrt{1+\\frac{2L^2E(M+m)}{M^{3}m^{3}G^2}} $$"
   ]
  },
  {
   "cell_type": "markdown",
   "id": "7a043e9c",
   "metadata": {},
   "source": [
    "Which in turn gives us a minimum separation distance of\n",
    "\n",
    "$$l_0 = -\\frac{GMm}{2E}(1-\\sqrt{1+\\frac{2L^2E(M+m)}{M^{3}m^{3}G^2}})$$"
   ]
  },
  {
   "cell_type": "markdown",
   "id": "89a4235e",
   "metadata": {},
   "source": [
    "Which we decide is, quite frankly *enough*. \n",
    "\n",
    "That said we probably do need to include the reduced mass $\\mu = mM/(m+M)$ so we rewrite our answers as\n",
    "\n",
    "$$ P = -\\frac{\\pi G^{3}mM\\sqrt{\\mu}}{ \\sqrt{2} E^{3/2}} $$\n",
    "$$ e = \\sqrt{1+\\frac{2L^2E}{M^{2}m^{2}\\mu G^2}} $$\n",
    "$$ l_0 = -\\frac{GMm}{2E}(1-\\sqrt{1+\\frac{2L^2E}{M^{2}m^{2}\\mu G^2}})$$"
   ]
  },
  {
   "cell_type": "markdown",
   "id": "91571118",
   "metadata": {},
   "source": [
    "*b) Calculate $\\bar I_{ij}$ for this system*"
   ]
  },
  {
   "cell_type": "markdown",
   "id": "5b10306e",
   "metadata": {},
   "source": [
    "Hmm... doesn't this require knowing where the particles are at any given time? And isn't the Kepler's equation for eliptical orbits *transcendental?*. \n",
    "\n",
    "Which means there must be a trick. Hmmmm.\n",
    "\n",
    "We can treat the stars as point particles at any time we wish, and so at any moment the various components of I reduce to:\n",
    "\n",
    "$$ I_{ij} = mx^i_1x^j_1 + Mx^i_2x^j_2$$\n",
    "\n",
    "Since the z coordinate is fixed, naturally only xx, xy, yx, and yy features exist at any given location. At the *instant* of closest approach, only xx exists, as y is zero as well. Otherwise we need to know their locations at any given time, which is... uh... problematic to say the least. There is not a closed-form solution for the position of a particle along an orbit for any given moment in time. (M=E-esinE, Kepler's equation, is transcendental and can only be solved iteratively for specific cases. No, defining things in spherical coordinates does not help either.) \n",
    "\n",
    "Thus we are forced to solve this arbitrarily. \n",
    "\n",
    "$$ I_{xx} = mx_1^2 + Mx_2^2$$\n",
    "$$ I_{xy} = I_{yx} = mx_1y_1 + Mx_2y_2$$\n",
    "$$ I_{yy} = my_1^2+ My_2^2$$"
   ]
  },
  {
   "cell_type": "markdown",
   "id": "a82fc91e",
   "metadata": {},
   "source": [
    "Now if everything were circular we would have a closed form solution at every time t, but here we do not. All we can hope to do is use averages. Which, perhaps, is what we are meant to do. \n",
    "\n",
    "A few things we can note. $I_{xx}$ is the only one that exists when the planets are at periapsis, and at apoapsis. There is also a point where $I_{yy}$ is the only term, which would be when they are prependicular over their center of mass. \n",
    "\n",
    "We can redefine the coordinate system to have one star be stationary, and thus its position would always be 0,0, and use the system dynamics instead. This would produce:\n",
    "\n",
    "$$ I_{xx} = Mx^2$$\n",
    "$$ I_{xy} = I_{yx} = Mxy$$\n",
    "$$ I_{yy} = My^2$$"
   ]
  },
  {
   "cell_type": "markdown",
   "id": "84be9a5b",
   "metadata": {},
   "source": [
    "A thought: we don't have to parameterize the ellipse by time, do we? We can parameterize it by the angle instead. Consider the chosen reference frame where the mass m is stationary and M is the one moving. We have the ellipse's semi-major axis a, its period P, its angular momentum, its eccentricity, and its closest approach. We actually have fully defined its SHAPE. We just need the equation for an ellipse knowing a and e. This is going to take some work. [5](#5) gives us the equations for an ellipse we will be using. \n",
    "\n",
    "The trick here is that our source has a parameterized ellipse where the center of the ellipse is at the origin, but OUR center is around one of the stars. Fortunately this only changes the x direction, y remains the same. Use the parameter k instead of t since we really aren't even going to pretend this is time. \n",
    "\n",
    "x = a cos k - ae\n",
    "y = b sin k \n",
    "\n",
    "b is the semi-minor axis. Which we currently do not have. However, it is determinable with just a and e. From [6](#6) we know b = $a\\sqrt{1-e^2}$\n",
    "\n",
    "$$x = a cos k - ae$$\n",
    "$$y = a \\sqrt{1-e^2} sin k $$\n",
    "\n",
    "Keep in mind that k is some entirely unknown function of t, k(t). Regardless, we now have our parameterized ellipse. Notably if e=0, we end up with a circle, as we should. \n",
    "\n",
    "With this we now write:\n",
    "\n",
    "$$ I_{xx} = M(a cos k - ae)^2$$\n",
    "$$ I_{xy} = I_{yx} = M(a cos k - ae)(a \\sqrt{1-e^2} sin k)$$\n",
    "$$ I_{yy} = M(a \\sqrt{1-e^2} sin k)^2$$"
   ]
  },
  {
   "cell_type": "markdown",
   "id": "0dd2c128",
   "metadata": {},
   "source": [
    "Now what we really want is $\\bar I_{jk}$. The off-diagonal terms are the same as the original I terms by 9.87. However, the diagonals are a bit different, to deal with them we need the trace of the original I-matrix, which is going to involve adding xx and yy together. then dividing by 3. This makes the trace...\n",
    "\n",
    "$$ I^i_i = M(a^2(1+e^2) - 2a^2ecosk - a^2e^2sin^2k) $$\n",
    "\n",
    "And so...\n",
    "\n",
    "$$ \\bar I_{xx} = M(a cos k - ae)^2 - \\frac M3 (a^2(1+e^2) - 2a^2ecosk - a^2e^2sin^2k) $$\n",
    "$$ \\bar I_{yy} = M(a \\sqrt{1-e^2} sin k)^2 - \\frac M3 (a^2(1+e^2) - 2a^2ecosk - a^2e^2sin^2k) $$\n",
    "$$ \\bar I_{zz} = - \\frac M3 (a^2(1+e^2) - 2a^2ecosk - a^2e^2sin^2k) $$"
   ]
  },
  {
   "cell_type": "markdown",
   "id": "f1dfeb7b",
   "metadata": {},
   "source": [
    "Naturally we're supposed to replace the trig functions with their exponentials and add is where needed but that will be *immensely* tedious. "
   ]
  },
  {
   "cell_type": "markdown",
   "id": "d49a949d",
   "metadata": {},
   "source": [
    "*c) Calculate from 9.106 the TT radiation field along the x and z axes. Show that your result reduces to 9.89 and 9.99 when m=M and the orbits are circular*\n",
    "\n",
    "Okay so circular orbits make things much nicer. Regardless, 9.106 is:\n",
    "\n",
    "$$\\bar{h}^{TT}_{xx} = \\frac2r (\\bar I_{xx,00}(t-r))$$\n",
    "\n",
    "And here's when we run into our problem. See, we now care about the time dependence. Which, as we may note, we have avoided dealing with at all costs. \n",
    "\n",
    "HOWEVER, now the orbits are circular. Which means we can simplify things considerably. This means e=0 and the time is *constant.* HeHAH! ...Yes this means we aren't calculating the arbitrary version. This is intentional.\n",
    "\n",
    "$$ \\bar I_{xx} = Ma^2 cos^2 k - \\frac M3 a^2 $$\n",
    "\n",
    "And we actually know what k is! It's just $\\omega t$. Ah, but what is $\\omega?$ Well, as we're on a circular orbit, it is constant, and equal to $2\\pi / P$\n",
    "\n",
    "$$ \\bar I_{xx} = Ma^2 cos^2 \\omega t - \\frac M3 a^2 $$"
   ]
  },
  {
   "cell_type": "markdown",
   "id": "a8a47c81",
   "metadata": {},
   "source": [
    "Taking the second derivative with respect to time prdouces:\n",
    "\n",
    "$$ \\bar I_{xx,00} = -Ma^2 \\omega^2 cos^2 \\omega t $$\n",
    "\n",
    "Thus:\n",
    "\n",
    "$$\\bar{h}^{TT}_{xx} = -\\frac2r Ma^2 \\omega^2 cos^2 \\omega t$$"
   ]
  },
  {
   "cell_type": "markdown",
   "id": "9b4c1905",
   "metadata": {},
   "source": [
    "which is along the x direction. z direction, meanwhile, becomes zero as without an e it just becomes a constant. \n",
    "\n",
    "And with that... the problem is \"complete.\" But no we don't even think this is satisfactory. But we have to get out of here at some point. Geez..."
   ]
  },
  {
   "cell_type": "markdown",
   "id": "f652eaac",
   "metadata": {},
   "source": [
    "<a id='P40'></a>\n",
    "\n",
    "# Problem 40 \\[Back to [top](#toc)\\]\n",
    "$$\\label{P40}$$\n",
    "\n",
    "A most likely very annoying proof for a very obvious result: spherically symmetric motions produce no gravitational waves. Skipped. But we can think about this conceptually. Imagine a star collapsing into a black hole in a perfectly symmetric way, surely that'll produce gravitaitonal radiation? Well, uh, no. By Gauss' law at large distances any spherically symmetric potential can be treated as a point mass, which is a static gravity field. It doesn't matter HOW energetic it's being down there, if it's symmetric, it all cancels out at distance and has no radiation. \n",
    "\n",
    "Naturally supernovae are generally not spherically symmetric, they are just approximately so. The kick neutron stars receive is evidence of this. "
   ]
  },
  {
   "cell_type": "markdown",
   "id": "2984fe8d",
   "metadata": {},
   "source": [
    "<a id='P41'></a>\n",
    "\n",
    "# Problem 41 \\[Back to [top](#toc)\\]\n",
    "$$\\label{P41}$$\n",
    "\n",
    "Just a derivation, skipped. "
   ]
  },
  {
   "cell_type": "markdown",
   "id": "df0ebbf3",
   "metadata": {},
   "source": [
    "<a id='P42'></a>\n",
    "\n",
    "# Problem 42 \\[Back to [top](#toc)\\]\n",
    "$$\\label{P42}$$\n",
    "\n",
    "Just a derivation, skipped. "
   ]
  },
  {
   "cell_type": "markdown",
   "id": "4e04bb3e",
   "metadata": {},
   "source": [
    "<a id='P43'></a>\n",
    "\n",
    "# Problem 43 \\[Back to [top](#toc)\\]\n",
    "$$\\label{P43}$$\n",
    "\n",
    "*Show that if we define an averaged stress-energy tensor for the waves*\n",
    "\n",
    "$$T_{\\alpha\\beta} = << \\bar{h}^{TT}_{\\mu\\nu,\\alpha} \\bar{h}^{TT\\mu\\nu}_{,\\beta} >> / 32\\pi $$\n",
    "\n",
    "*where <<>> denotes an average over both one period of oscillation in time and one wavelength of distance in all spatial directions), then the flux F of 9.122 is the component $T^{0z}$ for that wave. A more detailed argument shows that 9.164 can in fact be regarded as the stress-energy tensor of any wave packet, provided the averages are defined suitably. This is called the Isaacson stress-energy tensor.*\n",
    "\n",
    "Luckily we don't have to go too far with this, just 9.122\n",
    "\n",
    "$$ F = \\frac{1}{32\\pi}\\Omega^2 \\langle \\bar{h}^{TT}_{\\mu\\nu} \\bar{h}^{TT\\mu\\nu} \\rangle $$"
   ]
  },
  {
   "cell_type": "markdown",
   "id": "e1779777",
   "metadata": {},
   "source": [
    "Ultimately what we're trying to show is:\n",
    "\n",
    "$$ \\frac{1}{32\\pi}\\Omega^2 \\langle \\bar{h}^{TT}_{\\mu\\nu} \\bar{h}^{TT\\mu\\nu} \\rangle = \\eta^{00}\\eta^{zz}<< \\bar{h}^{TT}_{\\mu\\nu,0} \\bar{h}^{TT\\mu\\nu}_{,z} >> / 32\\pi $$\n",
    "\n",
    "The constants can rather quickly be ignored.\n",
    "\n",
    "$$ \\Omega^2 \\langle \\bar{h}^{TT}_{\\mu\\nu} \\bar{h}^{TT\\mu\\nu} \\rangle = - << \\bar{h}^{TT}_{\\mu\\nu,0} \\bar{h}^{TT\\mu\\nu}_{,z} >> $$\n"
   ]
  },
  {
   "cell_type": "markdown",
   "id": "5d2b8fdc",
   "metadata": {},
   "source": [
    "Anywya, the single brackets are an integral over one period. The second bracket is over one wavelength. Since gravity waves travel at light speed, their wavelength is related to their frequency. Since lightspeed is 1, wavelength is just one over frequency, or $1/\\Omega$. Just integrate over dz from 0 to the wavelength, and then divide by said wavelength. \n",
    "\n",
    "However, we also need to examine those odd extra derivatives that are inside the thing, as well as not really knowing what h represents. However, the section in the book used just xx, so we shall as well. In general these are given by $Acos(\\Omega(z-t))$ with an additional phase factor that we're going to ignore since the answer should be the same regardles of that. Taking the derivative with respect to z or t creates, curiously:\n",
    "\n",
    "$$ -A \\Omega sin(\\Omega(z-t)) $$\n",
    "$$ A \\Omega sin(\\Omega(z-t)) $$\n",
    "\n",
    "First one was z, seocnd one was t. What we end up with is an extra factor of $-\\Omega^2$ which... huh well would you look at that, it's exactly what we're supposed to get.\n",
    "\n",
    "It admittedly feels like we're doing strange witchcraft math here, but it works, soooooo...\n",
    "\n",
    "$$ \\langle \\bar{h}^{TT}_{\\mu\\nu} \\bar{h}^{TT\\mu\\nu} \\rangle =  << A^2 sin^2(\\Omega(z-t)) >> $$\n",
    "\n",
    "$$ \\Rightarrow \\langle A^2 cos^2(\\Omega(z-t)) \\rangle =  << A^2 sin^2(\\Omega(z-t)) >> $$"
   ]
  },
  {
   "cell_type": "markdown",
   "id": "3d3bf224",
   "metadata": {},
   "source": [
    "We've given ourselves a lot of grief over the next step but it's actually easy to argue. The first integral on both sides is over a full period. Over a square trig function. It does not matter if that trig function is sine, cosine, or where it even starts: the result is a constant and it has to be the same constant. So don't even bother to calculate it, since it appears on both sides, cancel it out.\n",
    "\n",
    "$$ \\Rightarrow  A^2  =  < A^2  > $$\n",
    "\n",
    "Hmm... the expectation of a constant over a wavelength is still that constant. Thus, everything is equal and we are good.\n",
    "\n",
    "No we don't like all our math above, reeks of \"witchcraft math\" but everything works out in the end so we're going to leave it here. "
   ]
  },
  {
   "cell_type": "markdown",
   "id": "b1cbca92",
   "metadata": {},
   "source": [
    "<a id='P44'></a>\n",
    "\n",
    "# Problem 44 \\[Back to [top](#toc)\\]\n",
    "$$\\label{P44}$$\n",
    "\n",
    "Set of derivations, skipped."
   ]
  },
  {
   "cell_type": "markdown",
   "id": "dfd12d45",
   "metadata": {},
   "source": [
    "<a id='P45'></a>\n",
    "\n",
    "# Problem 45 \\[Back to [top](#toc)\\]\n",
    "$$\\label{P45}$$\n",
    "\n",
    "Just the evaluation of a single integral. Skipped."
   ]
  },
  {
   "cell_type": "markdown",
   "id": "bc486106",
   "metadata": {},
   "source": [
    "<a id='P46'></a>\n",
    "\n",
    "# Problem 46 \\[Back to [top](#toc)\\]\n",
    "$$\\label{P46}$$\n",
    "\n",
    "Another derivation, skipped."
   ]
  },
  {
   "cell_type": "markdown",
   "id": "af640d2a",
   "metadata": {},
   "source": [
    "<a id='P47'></a>\n",
    "\n",
    "# Problem 47 \\[Back to [top](#toc)\\]\n",
    "$$\\label{P47}$$\n",
    "\n",
    "*a) Recall that the angular momentum of a particle is $p_\\phi$. It follows that the angular momentum flux of a continuous system across a surface $x^i$=const is $T_{i\\phi}$. Use this and **Problem 43** to show that the total z component of angular momentum radiated by a source of gravitaitonal waves (which is the integral over a sphere of large radius of $T_{r\\phi}$ in 9.164) is*\n",
    "\n",
    "$$ F_J = -\\frac25 (\\ddot I_{xl} \\dddot I_y^l  - \\ddot I_{yl} \\dddot I_x^l  ) $$\n",
    "\n",
    "Not even sure where to start here. "
   ]
  },
  {
   "cell_type": "markdown",
   "id": "a1761998",
   "metadata": {},
   "source": [
    "*b) Show that if $\\bar h^{TT}_{\\mu\\nu}$ depends on t and $\\phi$ only as $cos(\\Omega t - m\\phi)$, then the ratio of the total energy radiated to the total angular momentum radiated is $\\Omega/m$*"
   ]
  },
  {
   "cell_type": "markdown",
   "id": "3978e605",
   "metadata": {},
   "source": [
    "<a id='P49'></a>\n",
    "\n",
    "# Problem 49 \\[Back to [top](#toc)\\]\n",
    "$$\\label{P49}$$\n",
    "\n",
    "Boss Round.\n",
    "*For the arbitrary binary system of **Problem 39**,*\n",
    "\n",
    "*a) Show that the average energy loss rate over one orbit is:*\n",
    "\n",
    "$$ \\langle \\frac{dE}{dt} \\rangle = -\\frac{32}{5} \\frac{\\mu^2 (m+M)^3}{a^3 (1-e^2)^{7/2}} \\left( 1 + \\frac{73}{24}e^2 + \\frac{37}{96}e^4 \\right)$$\n",
    "\n",
    "*And from the result of **Problem 47a**,*\n",
    "\n",
    "$$ \\langle \\frac{dL}{dt} \\rangle = -\\frac{32}{5} \\frac{\\mu^2 (m+M)^{5/2}}{a^{7/2} (1-e^2)^{7/2}} \\left( 1 + \\frac{7}{8}e^2 \\right)$$\n",
    "\n",
    "*Where $\\mu = mM/(m+M)$ is the reduced mass.*"
   ]
  },
  {
   "cell_type": "markdown",
   "id": "adc396fd",
   "metadata": {},
   "source": [
    "By 9.132 we have $L = \\frac15 \\langle \\bar{\\dddot{I}}_{ij} \\bar{\\dddot{I}}^{ij} \\rangle$\n",
    "\n",
    "And we know dE/dt is just -L. Thus, evaluating this should give us our result. \n",
    "\n",
    "So what exactly are the components of our system? Well, from **Problem 39...**\n",
    "\n",
    "...we used the wrong coordinate system, obviously. Dangit. Well. Guess we actually can't do this. How... annoying. Let's at least try to do the next two parts, as they can supposedly be derived FROM the ones above. "
   ]
  },
  {
   "cell_type": "markdown",
   "id": "bdf3fa69",
   "metadata": {},
   "source": [
    "*b) Show that*\n",
    "\n",
    "$$ \\langle \\frac{da}{dt} \\rangle = -\\frac{64}{5} \\frac{\\mu (m+M)^2}{a^3 (1-e^2)^{7/2}} \\left( 1 + \\frac{73}{24}e^2 + \\frac{37}{96}e^4 \\right)$$\n",
    "\n",
    "$$ \\langle \\frac{de}{dt} \\rangle = -\\frac{304}{15} \\frac{\\mu (m+M)^2e}{a^4 (1-e^2)^{5/2}} \\left( 1 + \\frac{121}{304}e^2 \\right)$$\n",
    "\n",
    "$$ \\langle \\frac{dP}{dt} \\rangle = -\\frac{192\\pi}{5} \\frac{\\mu (m+M)^{3/2}}{a^{5/2} (1-e^2)^{7/2}} \\left( 1 + \\frac{73}{24}e^2 + \\frac{37}{96}e^4 \\right)$$"
   ]
  },
  {
   "cell_type": "markdown",
   "id": "c574d305",
   "metadata": {},
   "source": [
    "From **Problem 39** we can relate the various relations as such:\n",
    "\n",
    "$$ E = -\\frac12 \\frac{GMm}{a}$$\n",
    "\n",
    "$$ L = \\frac{Mm}{m+M} \\sqrt{Ga(m+M)(1-e^2)} = \\frac{Mm}{m+M} \\Omega a^2 \\sqrt{1-e^2} = \\frac{Mm}{m+M} \\frac{2\\pi}{P} a^2 \\sqrt{1-e^2} $$\n",
    "\n",
    "$$ P = -\\frac{\\pi G^{3}mM\\sqrt{\\mu}}{ \\sqrt{2} E^{3/2}} $$\n",
    "\n",
    "$$ e = \\sqrt{1+\\frac{2L^2E}{M^{2}m^{2}\\mu G^2}} $$\n",
    "\n",
    "$$ a = -\\frac12 \\frac{GMm}{E} $$"
   ]
  },
  {
   "cell_type": "markdown",
   "id": "38ebe2c5",
   "metadata": {},
   "source": [
    "The maximum offender here is a. a clearly should be related to E by 2$a^2/\\mu$, but it is not, it is 2$a^2/mM$, the mass sum isn't even there. It is inversely related and negative, at that. Even if we consider E to be positive at the start (which it is not) the relation is still incorrect, and inverse. \n",
    "\n",
    "P apparently has a relation of $\\frac{6\\pi a^{5/2}}{\\mu}$ in erlation to E. This also does not match. Very... confusing. \n",
    "\n",
    "Which means we did something very fundamentally wrong in **Problem 39**. Considering that we looked up the relations from a source, this is highly disturbing. "
   ]
  },
  {
   "cell_type": "markdown",
   "id": "e5a1b691",
   "metadata": {},
   "source": [
    "*c) Verify 9.144*\n",
    "\n",
    "$$ \\langle \\frac{dP}{dt} \\rangle = -\\frac{192\\pi}{5} \\frac{\\mu (m+M)^{3/2}}{a^{5/2} (1-e^2)^{7/2}} \\left( 1 + \\frac{73}{24}e^2 + \\frac{37}{96}e^4 \\right)$$\n",
    "\n",
    "The point here is that if we insert actual values for the system, we should get the same value the actual book got. "
   ]
  },
  {
   "cell_type": "markdown",
   "id": "3d9cd6ad",
   "metadata": {},
   "source": [
    "e = 0.617\n",
    "\n",
    "m = M = 1.4 solar masses = 2.784e30 kg\n",
    "\n",
    "We do not have the average seperation a, but we do have the period P at 27907 seconds. \n",
    "\n",
    "Note: the masses are equal, so finding a is suddenly a lot easier. We know the period of an eliptical orbit is proportional to the semimajor axis via Kepler's Third Law. \n",
    "\n",
    "$$ \\frac{a^3}{P^2} = \\frac{G(M+m)}{4\\pi^2} $$\n",
    "$$ \\Rightarrow a^3 = \\frac{G(M+m)P^2}{4\\pi^2} $$\n",
    "\n",
    "G = 6.67e-11\n",
    "\n",
    "if all the units we were using weren't so simple we'd convert to G=c=1, but that seems unecessary right now. "
   ]
  },
  {
   "cell_type": "markdown",
   "id": "02770d70",
   "metadata": {},
   "source": [
    "With this, a = 1,942,000,000 m. roughly 0.01 AU, which is sensible. \n",
    "\n",
    "Reduced mass is just M/2 or 1.392e30 kg. \n",
    "\n",
    "It occurs to us that we actually do need to use Gc=1 units since the equation probably assumes that. Conversions...\n",
    "\n",
    "e = 0.617\n",
    "\n",
    "M = 2067.12 m \n",
    "\n",
    "$\\mu$ = 1033.56 m\n",
    "\n",
    "a = 1.942e9 m\n",
    "\n",
    "P = 8.372e21 m (light travels a lot of meters in just one second...)\n",
    "\n",
    "$$ \\langle \\frac{dP}{dt} \\rangle = -\\frac{192\\pi}{5} \\frac{\\mu (m+M)^{3/2}}{a^{5/2} (1-e^2)^{7/2}} \\left( 1 + \\frac{73}{24}e^2 + \\frac{37}{96}e^4 \\right)$$\n",
    "\n",
    "And so our average change in P is...\n"
   ]
  },
  {
   "cell_type": "markdown",
   "id": "a808b3dc",
   "metadata": {},
   "source": [
    "$$(- 120.637)(2.747e8 / 3.107e22)(2.214)$$\n",
    "$$ = -2.362e-12 $$\n",
    "\n",
    "Which rounds to the -2.4 the calculation in the book gives. Success!\n",
    "\n"
   ]
  },
  {
   "cell_type": "markdown",
   "id": "df50096e",
   "metadata": {},
   "source": [
    "<a id='latex_pdf_output'></a>\n",
    "\n",
    "# Addendum: Output this notebook to $\\LaTeX$-formatted PDF file \\[Back to [top](#toc)\\]\n",
    "$$\\label{latex_pdf_output}$$\n",
    "\n",
    "The following code cell converts this Jupyter notebook into a proper, clickable $\\LaTeX$-formatted PDF file. After the cell is successfully run, the generated PDF may be found in the root NRPy+ tutorial directory, with filename\n",
    "[GR-09.pdf](GR-09.pdf) (Note that clicking on this link may not work; you may need to open the PDF file through another means.)\n",
    "\n",
    "**Important Note**: Make sure that the file name is right in all six locations, two here in the Markdown, four in the code below. \n",
    "\n",
    "* GR-09.pdf\n",
    "* GR-09.ipynb\n",
    "* GR-09.tex"
   ]
  },
  {
   "cell_type": "code",
   "execution_count": 1,
   "id": "abf583ef",
   "metadata": {
    "scrolled": false
   },
   "outputs": [
    {
     "name": "stdout",
     "output_type": "stream",
     "text": [
      "Created GR-08.tex, and compiled LaTeX file to PDF file GR-08.pdf\n"
     ]
    }
   ],
   "source": [
    "import cmdline_helper as cmd    # NRPy+: Multi-platform Python command-line interface\n",
    "cmd.output_Jupyter_notebook_to_LaTeXed_PDF(\"GR-09\")"
   ]
  },
  {
   "cell_type": "code",
   "execution_count": null,
   "id": "d0d0db4d",
   "metadata": {},
   "outputs": [],
   "source": []
  },
  {
   "cell_type": "code",
   "execution_count": null,
   "id": "41264965",
   "metadata": {},
   "outputs": [],
   "source": []
  }
 ],
 "metadata": {
  "kernelspec": {
   "display_name": "Python 3 (ipykernel)",
   "language": "python",
   "name": "python3"
  },
  "language_info": {
   "codemirror_mode": {
    "name": "ipython",
    "version": 3
   },
   "file_extension": ".py",
   "mimetype": "text/x-python",
   "name": "python",
   "nbconvert_exporter": "python",
   "pygments_lexer": "ipython3",
   "version": "3.10.4"
  }
 },
 "nbformat": 4,
 "nbformat_minor": 5
}
