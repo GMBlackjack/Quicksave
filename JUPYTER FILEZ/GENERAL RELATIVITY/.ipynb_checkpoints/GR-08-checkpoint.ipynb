{
 "cells": [
  {
   "cell_type": "markdown",
   "id": "0c1bfe81",
   "metadata": {},
   "source": [
    "# General Relativity Problems Chapter 8: The Einstein Field Equations\n",
    "\n",
    "## Authors: Gabriel M Steward"
   ]
  },
  {
   "cell_type": "markdown",
   "id": "479540e4",
   "metadata": {},
   "source": [
    "https://github.com/zachetienne/nrpytutorial/blob/master/Tutorial-Template_Style_Guide.ipynb\n",
    "\n",
    "Link to the Style Guide. Not internal in case something breaks. "
   ]
  },
  {
   "cell_type": "markdown",
   "id": "10780970",
   "metadata": {},
   "source": [
    "### </list_source_code> NRPy+ Source Code for this module:\n",
    "None! \n",
    "\n",
    "## Introduction:\n",
    "Now maybe we can apply what we've learned to some actual physical problems. Maybe. One can hope.\n",
    "\n",
    "## </other>  Other (Optional): \n",
    "Placeholder. \n",
    "\n",
    "### Note on Notation:\n",
    "Any new notation will be brought up in the notebook when it becomes relevant. \n",
    "\n",
    "### Citations:\n",
    "\n",
    "<a id='1'></a>\n",
    "[1] https://en.wikipedia.org/wiki/Laplace_operator (Laplacian Operator $\\nabla^2$)\n"
   ]
  },
  {
   "cell_type": "markdown",
   "id": "56664bc2",
   "metadata": {},
   "source": [
    "<a id='toc'></a>\n",
    "\n",
    "# Table of Contents\n",
    "$$\\label{toc}$$\n",
    "\n",
    "[Problem 1](#P1) (The Point Particle)\n",
    "\n",
    "[Problem 2](#P2) (Geometrized Values, Plank Units)\n",
    "\n",
    "[Problem 3](#P3) (Geometrized Units Calculations)\n",
    "\n",
    "[PDF](#latex_pdf_output) (turn this into a PDF)"
   ]
  },
  {
   "cell_type": "markdown",
   "id": "cd9e5529",
   "metadata": {},
   "source": [
    "<a id='P1'></a>\n",
    "\n",
    "# Problem 1 \\[Back to [top](#toc)\\]\n",
    "$$\\label{P1}$$\n",
    "\n",
    "*Show that 8.2 is a solution of 8.1 by the following method. Assume the point particle to be at the origin r=0 and to produce a spherically symmetric field. Then use Gauss' law on a sphere of radius r to conclude...*\n",
    "\n",
    "$$\\frac{d\\phi}{dr} = \\frac{Gm}{r^2}$$\n",
    "\n",
    "*Deduce 8.2 from this. Consider the behavior at infinity.*"
   ]
  },
  {
   "attachments": {
    "Screenshot%20from%202022-06-07%2009-48-22.png": {
     "image/png": "[encoded data removed]"
    }
   },
   "cell_type": "markdown",
   "id": "ae6fa675",
   "metadata": {},
   "source": [
    "Right well this seems obvious, but let's write it out in full, especially since we don't remember Gauss' law off the top of our head. The 4D version given by 4.57 is\n",
    "\n",
    "$$ \\int V^\\alpha_{,\\alpha} d^4x = \\oint V^\\alpha n_\\alpha d^3S $$\n",
    "\n",
    "Which can be reduced to three dimensions if needed without much issue. \n",
    "\n",
    "We snote that we start with 8.1, that is, $ \\nabla^2 \\phi = 4\\pi G \\rho $. \n",
    "\n",
    "ALWAYS REMMEBER: $\\nabla^2 = \\nabla \\cdot \\nabla$ is the LAPLACIAN. Do not think it's some kind of simple double derivative, there's a dot product hiding in there. ALSO ALSO it's not exactly normal for SPHERICAL COORDINATES. So let's go actually grab it and stop trying to be cute. [1](#1)\n",
    "\n",
    "![Screenshot%20from%202022-06-07%2009-48-22.png](attachment:Screenshot%20from%202022-06-07%2009-48-22.png)"
   ]
  },
  {
   "cell_type": "markdown",
   "id": "63452f74",
   "metadata": {},
   "source": [
    "(Note that they're using different notation for $\\nabla^2$) Now, since we're spherically symmetric, the angular terms all go away immediately, leaving us with just the radial terms. This makes an admittedly somewhat strange adjustment to 8.1\n",
    "\n",
    "$$ \\frac{1}{r^2} \\frac{\\partial}{\\partial r} (r^2 \\frac{\\partial \\phi}{\\partial r}) = 4\\pi G \\rho $$"
   ]
  },
  {
   "cell_type": "markdown",
   "id": "d9e554a2",
   "metadata": {},
   "source": [
    "Now one looks at this and says \"wait, that makes the left side zero\" which of course it does. The density $\\rho$ is not really something we have the benefit of using since we havev a point particle in effect and would end up with massive discontinuities. But the equation should still hold, so we can still do that thing where we integrate both sides over all space because hwy not.\n",
    "\n",
    "$$ \\int \\frac{1}{r^2} \\frac{\\partial}{\\partial r} (r^2 \\frac{\\partial \\phi}{\\partial r}) d^3x = \\int 4\\pi G \\rho d^3x $$"
   ]
  },
  {
   "cell_type": "markdown",
   "id": "b5ae8d5d",
   "metadata": {},
   "source": [
    "Now the nice thing about density integrated over all space is that it equals m, and everything else on the right side is a cosntant, so victory is sweet. \n",
    "\n",
    "$$ \\Rightarrow \\int \\frac{1}{r^2} \\frac{\\partial}{\\partial r} (r^2 \\frac{\\partial \\phi}{\\partial r}) d^3x = 4\\pi G m $$\n",
    "\n",
    "We tried to apply Gauss' law here, but we have to rememver that the fraction out front depends on r, so it's not that simple, as it's not inside a derivative. So we just do it the hard way, it seems. Fortunately due to spherical symmetry we do just *know* the angles have no influence on the integarl. \n",
    "\n",
    "$$ \\Rightarrow \\int \\frac{1}{r^2} \\frac{\\partial}{\\partial r} (r^2 \\frac{\\partial \\phi}{\\partial r}) r^2sin\\theta drd\\theta d\\phi = 4\\pi G m $$\n",
    "\n",
    "$$  \\Rightarrow 4 \\pi \\int \\frac{\\partial}{\\partial r} (r^2 \\frac{\\partial \\phi}{\\partial r}) dr = 4\\pi G m $$\n",
    "\n",
    "And THIS is just an integral of a derivative over the same variable, so it all pops out. \n",
    "\n",
    "$$ \\Rightarrow  4 \\pi r^2 \\frac{\\partial \\phi}{\\partial r} = 4\\pi G m $$\n",
    "\n",
    "$$ \\Rightarrow  \\frac{\\partial \\phi}{\\partial r} = \\frac{G m}{r^2} $$\n",
    "\n",
    "Which is what we were looking for. We express annoyance, it was much easier to solve this once we stopped trying to use Gauss' law. "
   ]
  },
  {
   "cell_type": "markdown",
   "id": "a1c4b5a0",
   "metadata": {},
   "source": [
    "Anyway take the antiderivative of both sides, the result is obviuos. \n",
    "\n",
    "$$ \\Rightarrow \\phi = -\\frac{G m}{r} $$"
   ]
  },
  {
   "cell_type": "markdown",
   "id": "29649771",
   "metadata": {},
   "source": [
    "The behavior at infinity is a rather quick drop to near-zero that never quite reaches it. Which from what we know is how gravity works. "
   ]
  },
  {
   "cell_type": "markdown",
   "id": "5654b2b2",
   "metadata": {},
   "source": [
    "<a id='P2'></a>\n",
    "\n",
    "# Problem 2 \\[Back to [top](#toc)\\]\n",
    "$$\\label{P2}$$\n",
    "\n",
    "*a) Derive the following useful conversion factors from the SI values of G and c:*\n",
    "\n",
    "$$ G/c^2 = 7.425e-28  m/kg = 1 $$\n",
    "$$ c^5/G = 3.629e52 J/s = 1 $$"
   ]
  },
  {
   "cell_type": "markdown",
   "id": "1897f643",
   "metadata": {},
   "source": [
    "Just... take the SI units and divide them. The result comes out trivially. \n",
    "\n",
    "The units are $\\frac{m^3}{kg s^2} \\frac{s^2}{m^2} = \\frac{m}{kg}$\n",
    "\n",
    "And for the second $\\frac{m^5}{s^5} \\frac{kg s^2}{m^3} = \\frac{kg m^2}{s^3} = \\frac{J}{s} $"
   ]
  },
  {
   "cell_type": "markdown",
   "id": "f85f2367",
   "metadata": {},
   "source": [
    "*b) Derive the values in geometerized units of the constants in table 8.1 from their given values in SI units.*\n",
    "\n",
    "Well, at least I can know the answers this time. Even if it is a bit bleh. \n",
    "\n",
    "For planck's constant the conversion factor is $G/c^3$ which produces a s/kg and has a value of 2.477e-36. Multiplied by the SI for planck's constant (or well the modified constant, such is the way with $\\hbar$'s bar.) is 2.613e-70 $m^2$. The book says 2.612. We say close enough.\n",
    "\n",
    "For the masses, the $G/c^2$ conversion given above works. \n",
    "\n",
    "Luminosity is just $c^5/G$, making all the others trivial, only $\\hbar$ needed any actual new work. Remember to actually invert it though. "
   ]
  },
  {
   "cell_type": "markdown",
   "id": "cb368615",
   "metadata": {},
   "source": [
    "*c) Express the following quantities in geometerized units*\n",
    "\n",
    "*i) A density (typical of neutroan stars) $\\rho$ = 1e17 kg/$m^3$*"
   ]
  },
  {
   "cell_type": "markdown",
   "id": "43a01346",
   "metadata": {},
   "source": [
    "This can be multiplied by G directly to get something in 1/$m^2$, specifically 6,674,000 1/$m^2$"
   ]
  },
  {
   "cell_type": "markdown",
   "id": "c80605c1",
   "metadata": {},
   "source": [
    "*ii) a pressure (also typical of neutron stars) p = 1e33 kg/m$s^2$*\n",
    "\n",
    "This one evaluates in the exact same way, multiply by G, though the results are in 1/$s^2$ units instead. This is 6.674e22 1\\$s^2$, otherwise known as ABSURD. "
   ]
  },
  {
   "cell_type": "markdown",
   "id": "1e1de8be",
   "metadata": {},
   "source": [
    "*iii) The acceleration of gravity on Earth's surface g=9.8 m/$s^2$*\n",
    "\n",
    "Apply c by itself. ...Feels like we've already done this. 3.269e-8 1/s"
   ]
  },
  {
   "cell_type": "markdown",
   "id": "cb77b0fe",
   "metadata": {},
   "source": [
    "*iv) The luminosity of a supernova, L=1e41 J/s*\n",
    "\n",
    "We have the direct conversion $c^5/G$ worked out for this one already. though we do have to \"invert\" it to actually apply it. 2.756e12. Unitless. "
   ]
  },
  {
   "cell_type": "markdown",
   "id": "983d975b",
   "metadata": {},
   "source": [
    "*d) Three dimensioned constants in nature are regarded as fundamental: c, G, and $\\hbar$. With c=G=1, $\\hbar$ has units $m^2$, so $\\hbar^{1/2}$ defines a fundamental unit of length called the Planck length. From table 8.1, we calculate $\\hbar^{1/2}$ = 1.616e-35. Since this number invovles the fundamental constants of relativity, gravitaiton, and quantum theory, many physicists feel that this length will play an important role in quantum gravity. Express this length in terms of the SI values of c, G, and $\\hbar$. Similarly, use the conservation factors to calculate the Planck mass and Planck time, fundamental numbers formed from c, G, and $\\hbar$ that have the units of mass and time respectively. Compare these fundamental numbers with characteristic masses, lengths, and time scales that are known from elementary particle theory.*"
   ]
  },
  {
   "cell_type": "markdown",
   "id": "ceadf55e",
   "metadata": {},
   "source": [
    "Well we ultimately arrived at the altered value of $\\hbar$ with G/$c^3$. So we can declare the value here to be\n",
    "\n",
    "$$ \\sqrt{\\frac{G\\hbar}{c^3}} $$. \n",
    "\n",
    "now, going from m to s involves a dividing by c. This becomes:\n",
    "\n",
    "$$ \\sqrt{\\frac{G\\hbar}{c^5}} $$. \n",
    "\n",
    "now the MASS... we need to get a kg out, which implies we need to divide by $G$, which changes our units results from simply m to $kgs^2/m^2$. So we need to multiply again by $c^2$. Factoring this into the square root provides:\n",
    "\n",
    "$$ \\sqrt{\\frac{\\hbar c}{G}} $$. \n",
    "\n",
    "Which in fact match a quick internet search. "
   ]
  },
  {
   "cell_type": "markdown",
   "id": "25dbc1e0",
   "metadata": {},
   "source": [
    "<a id='P3'></a>\n",
    "\n",
    "# Problem 3 \\[Back to [top](#toc)\\]\n",
    "$$\\label{P3}$$\n",
    "\n",
    "*a) Calculate in geometrized units:*\n",
    "\n",
    "*i) The Newtonian potential $\\phi$ of the Sun at the Sun's surface, radius 6.960e8 m.*"
   ]
  },
  {
   "cell_type": "markdown",
   "id": "52ae9305",
   "metadata": {},
   "source": [
    "$\\phi = -\\frac{Gm}{r}$\n",
    "\n",
    "Now the final units of this is $m^2/s^2$, which can be reduced by the conversion factor $1/c^2$ to a completely dimensionless quantity. We do need the solar mass though, 1.989e30 kg. $-Gm/rc^2 $ is 2.122e-6. (unitless)\n",
    "\n",
    "To calculate this directly from an equation m/r, we'd use the conversion factor for mass, G/$c^2$. This is effectively the exact same calculation."
   ]
  },
  {
   "cell_type": "markdown",
   "id": "58748a2a",
   "metadata": {},
   "source": [
    "*ii) The Newtonian potential $\\phi$ of the Sun at the radius of Earth's orbit, r=1AU = 1.496e11 m*"
   ]
  },
  {
   "cell_type": "markdown",
   "id": "aef26ac1",
   "metadata": {},
   "source": [
    "Simlar calculation to above, 9.872e-9, unitless."
   ]
  },
  {
   "cell_type": "markdown",
   "id": "7cd302e5",
   "metadata": {},
   "source": [
    "*iii) The Newtonian potential $\\phi$ of Earth at its surface, radius 6.371e6 m*"
   ]
  },
  {
   "cell_type": "markdown",
   "id": "7d59ba7b",
   "metadata": {},
   "source": [
    "Earth's mass is 5.972e24 kg. By the same calculation we have...\n",
    "\n",
    "6.960e-10, unitless. "
   ]
  },
  {
   "cell_type": "markdown",
   "id": "9458b571",
   "metadata": {},
   "source": [
    "*iv) The velocity of Earth in its orbit around the sun.*\n",
    "\n",
    "From memory we know this is about 30km/s or 30,000 m/s, which when divided by lightspeed is 0.0001. "
   ]
  },
  {
   "cell_type": "markdown",
   "id": "25e95d08",
   "metadata": {},
   "source": [
    "*b) You should have found that your answer to ii) was larger than iii). Why, then, do we on Earth feel Earth's gravitational pull much more than the Sun's?*"
   ]
  },
  {
   "cell_type": "markdown",
   "id": "da600516",
   "metadata": {},
   "source": [
    "REFERENCE FRAMES! We do actually move with the sun's gravity--because we keep moving in the same path the Earth does around the Sun! It just pulls on us at more-or-less the exact same strength it pulls on Earth everywhere, so there's no distinct difference we notice from its presence or if it was absent. We are free-falling around the Sun, but there's nothing to stop us and thus no force we feel.\n",
    "\n",
    "Earth's ground, meanwhile, is actively opposing our freefall, and thus we feel it. "
   ]
  },
  {
   "cell_type": "markdown",
   "id": "19bc1a41",
   "metadata": {},
   "source": [
    "*c) Show that a circular orbit around a body of mass M has an orbital velocity, in Newtonian theroy, of $\\textbf{v}^2 = -\\phi$, where $\\phi$ is the Newtonian potential.*"
   ]
  },
  {
   "cell_type": "markdown",
   "id": "76337e26",
   "metadata": {},
   "source": [
    "First of all our speed for earth indicates we had an estimate here... or that Earth's not on a circular orbit, or that other things influence it, whatever. Anyway, let's derive this rule for circular orbits in general. In a circular orbit, $\\phi$ is constant in the radially inward direction. \n",
    "\n",
    "Consider the polar geodesic of a circle, which we can reprsent by $(cos\\theta, sin\\theta)$, with $\\theta$ being our parameter. The force always pulls toward the center, that is, precisely $(-\\phi cos\\theta, -\\phi sin\\theta)$ Assuming clockwise orbit, the velocity vector in a circular orbit always points at a 90 degree angle, or $(vsin\\theta, -vcos\\theta)$\n",
    "\n",
    "We need to correlate these two things, somehow, but right now they could be anything. \n",
    "\n",
    "F magnitude is equal to the change in momentum magnitude, which is $m\\delta v.$\n",
    "\n",
    "So we take the derivative of v and find the magnitude. The derivative is $(vcos\\theta, vsin\\theta)$, and the magnitude of this is just flat-out v. F=mv...? That's not right..."
   ]
  },
  {
   "cell_type": "markdown",
   "id": "df50096e",
   "metadata": {},
   "source": [
    "<a id='latex_pdf_output'></a>\n",
    "\n",
    "# Addendum: Output this notebook to $\\LaTeX$-formatted PDF file \\[Back to [top](#toc)\\]\n",
    "$$\\label{latex_pdf_output}$$\n",
    "\n",
    "The following code cell converts this Jupyter notebook into a proper, clickable $\\LaTeX$-formatted PDF file. After the cell is successfully run, the generated PDF may be found in the root NRPy+ tutorial directory, with filename\n",
    "[GR-08.pdf](GR-08.pdf) (Note that clicking on this link may not work; you may need to open the PDF file through another means.)\n",
    "\n",
    "**Important Note**: Make sure that the file name is right in all six locations, two here in the Markdown, four in the code below. \n",
    "\n",
    "* GR-08.pdf\n",
    "* GR-08.ipynb\n",
    "* GR-08.tex"
   ]
  },
  {
   "cell_type": "code",
   "execution_count": 1,
   "id": "abf583ef",
   "metadata": {
    "scrolled": false
   },
   "outputs": [
    {
     "name": "stdout",
     "output_type": "stream",
     "text": [
      "Created GR-08.tex, and compiled LaTeX file to PDF file GR-08.pdf\n"
     ]
    }
   ],
   "source": [
    "import cmdline_helper as cmd    # NRPy+: Multi-platform Python command-line interface\n",
    "cmd.output_Jupyter_notebook_to_LaTeXed_PDF(\"GR-08\")"
   ]
  },
  {
   "cell_type": "code",
   "execution_count": null,
   "id": "d0d0db4d",
   "metadata": {},
   "outputs": [],
   "source": []
  },
  {
   "cell_type": "code",
   "execution_count": null,
   "id": "41264965",
   "metadata": {},
   "outputs": [],
   "source": []
  }
 ],
 "metadata": {
  "kernelspec": {
   "display_name": "Python 3 (ipykernel)",
   "language": "python",
   "name": "python3"
  },
  "language_info": {
   "codemirror_mode": {
    "name": "ipython",
    "version": 3
   },
   "file_extension": ".py",
   "mimetype": "text/x-python",
   "name": "python",
   "nbconvert_exporter": "python",
   "pygments_lexer": "ipython3",
   "version": "3.10.4"
  }
 },
 "nbformat": 4,
 "nbformat_minor": 5
}
