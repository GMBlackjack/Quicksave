{
 "cells": [
  {
   "cell_type": "markdown",
   "id": "0c1bfe81",
   "metadata": {},
   "source": [
    "# General Relativity Problems Chapter 8: The Einstein Field Equations\n",
    "\n",
    "## Authors: Gabriel M Steward"
   ]
  },
  {
   "cell_type": "markdown",
   "id": "479540e4",
   "metadata": {},
   "source": [
    "https://github.com/zachetienne/nrpytutorial/blob/master/Tutorial-Template_Style_Guide.ipynb\n",
    "\n",
    "Link to the Style Guide. Not internal in case something breaks. "
   ]
  },
  {
   "cell_type": "markdown",
   "id": "10780970",
   "metadata": {},
   "source": [
    "### </list_source_code> NRPy+ Source Code for this module:\n",
    "None! \n",
    "\n",
    "## Introduction:\n",
    "Now maybe we can apply what we've learned to some actual physical problems. Maybe. One can hope.\n",
    "\n",
    "## </other>  Other (Optional): \n",
    "Placeholder. \n",
    "\n",
    "### Note on Notation:\n",
    "Any new notation will be brought up in the notebook when it becomes relevant. \n",
    "\n",
    "### Citations:\n",
    "\n",
    "<a id='1'></a>\n",
    "[1] https://en.wikipedia.org/wiki/Laplace_operator (Laplacian Operator $\\nabla^2$)\n",
    "\n",
    "<a id='2'></a>\n",
    "[2] https://www.vedantu.com/physics/derivation-of-orbital-velocity (Because we were beings stupid.)\n",
    "\n",
    "<a id='3'></a>\n",
    "[3] https://en.wikipedia.org/wiki/Geometrized_unit_system (Note: convert everything to length scales.)\n",
    "\n",
    "<a id='4'></a>\n",
    "[4] https://www.damtp.cam.ac.uk/user/tong/em/el4.pdf (Relativistic EM)\n",
    "\n",
    "<a id='5'></a>\n",
    "[5] https://en.wikipedia.org/wiki/Proper_time#Mathematical_formalism (proper time)\n",
    "\n",
    "<a id='6'></a>\n",
    "[6] http://web.mit.edu/edbert/Alexandria/notes2.pdf (Schwarzschild Metric)\n",
    "\n",
    "<a id='7'></a>\n",
    "[7] https://en.wikipedia.org/wiki/Circular_orbit#Orbital_velocity_in_general_relativity (Proof of general relativistic velocities)\n",
    "\n",
    "<a id='8'></a>\n",
    "[8] https://profoundphysics.com/christoffel-symbols-a-complete-guide-with-examples/ (Christoffel Symbols)"
   ]
  },
  {
   "cell_type": "markdown",
   "id": "56664bc2",
   "metadata": {},
   "source": [
    "<a id='toc'></a>\n",
    "\n",
    "# Table of Contents\n",
    "$$\\label{toc}$$\n",
    "\n",
    "[Problem 1](#P1) (The Point Particle)\n",
    "\n",
    "[Problem 2](#P2) (Geometrized Values, Plank Units)\n",
    "\n",
    "[Problem 3](#P3) (Geometrized Units Calculations)\n",
    "\n",
    "[Problem 4](#P4) (Matrix Funtime)\n",
    "\n",
    "[Problem 5](#P5) (Gauge Invariance of R)\n",
    "\n",
    "[Problem 6](#P6) (Metric Salad)\n",
    "\n",
    "[Problem 7](#P7) (\"Tensor\" Trace Reverse)\n",
    "\n",
    "[Problem 8](#P8) (Meandering Snake of G in Terms of Bar-h (not h-bar), incomplete)\n",
    "\n",
    "[Problem 9](#P9) (The Lack of Double-t Derivatives)\n",
    "\n",
    "[Problem 10](#P10) (The Square Operator, incomplete)\n",
    "\n",
    "[Problem 11](#P11) (An Aside on Electromagnetics)\n",
    "\n",
    "[Problem 12](#P12) (h-proofs)\n",
    "\n",
    "[Problem 13](#P13) (T Relative Component Size)\n",
    "\n",
    "[Problem 14](#P14) (Squeezing out the Newtonian Metric)\n",
    "\n",
    "[Problem 15](#P15) (But Wait, Newton's Law?, done? confused.)\n",
    "\n",
    "[Problem 16](#P16) (Are we sure k is right?)\n",
    "\n",
    "[Problem 17](#P17) (Inferred Mass)\n",
    "\n",
    "[Problem 18](#P18) (Cosmological Constant)\n",
    "\n",
    "[Problem 19](#P19) (Spinning in Orbits, incomplete)\n",
    "\n",
    "[Problem 20](#P20) (Active Gravitational Mass, incomplete)\n",
    "\n",
    "[Problem Bonus](#P21) (Self-Inflicted Punishment: THE CIRCULAR ORBIT.)\n",
    "\n",
    "[PDF](#latex_pdf_output) (turn this into a PDF)"
   ]
  },
  {
   "cell_type": "markdown",
   "id": "cd9e5529",
   "metadata": {},
   "source": [
    "<a id='P1'></a>\n",
    "\n",
    "# Problem 1 \\[Back to [top](#toc)\\]\n",
    "$$\\label{P1}$$\n",
    "\n",
    "*Show that 8.2 is a solution of 8.1 by the following method. Assume the point particle to be at the origin r=0 and to produce a spherically symmetric field. Then use Gauss' law on a sphere of radius r to conclude...*\n",
    "\n",
    "$$\\frac{d\\phi}{dr} = \\frac{Gm}{r^2}$$\n",
    "\n",
    "*Deduce 8.2 from this. Consider the behavior at infinity.*"
   ]
  },
  {
   "attachments": {
    "Screenshot%20from%202022-06-07%2009-48-22.png": {
     "image/png": "[encoded data removed]"
    }
   },
   "cell_type": "markdown",
   "id": "ae6fa675",
   "metadata": {},
   "source": [
    "Right well this seems obvious, but let's write it out in full, especially since we don't remember Gauss' law off the top of our head. The 4D version given by 4.57 is\n",
    "\n",
    "$$ \\int V^\\alpha_{,\\alpha} d^4x = \\oint V^\\alpha n_\\alpha d^3S $$\n",
    "\n",
    "Which can be reduced to three dimensions if needed without much issue. \n",
    "\n",
    "We snote that we start with 8.1, that is, $ \\nabla^2 \\phi = 4\\pi G \\rho $. \n",
    "\n",
    "ALWAYS REMMEBER: $\\nabla^2 = \\nabla \\cdot \\nabla$ is the LAPLACIAN. Do not think it's some kind of simple double derivative, there's a dot product hiding in there. ALSO ALSO it's not exactly normal for SPHERICAL COORDINATES. So let's go actually grab it and stop trying to be cute. [1](#1)\n",
    "\n",
    "![Screenshot%20from%202022-06-07%2009-48-22.png](attachment:Screenshot%20from%202022-06-07%2009-48-22.png)"
   ]
  },
  {
   "cell_type": "markdown",
   "id": "63452f74",
   "metadata": {},
   "source": [
    "(Note that they're using different notation for $\\nabla^2$) Now, since we're spherically symmetric, the angular terms all go away immediately, leaving us with just the radial terms. This makes an admittedly somewhat strange adjustment to 8.1\n",
    "\n",
    "$$ \\frac{1}{r^2} \\frac{\\partial}{\\partial r} (r^2 \\frac{\\partial \\phi}{\\partial r}) = 4\\pi G \\rho $$"
   ]
  },
  {
   "cell_type": "markdown",
   "id": "d9e554a2",
   "metadata": {},
   "source": [
    "Now one looks at this and says \"wait, that makes the left side zero\" which of course it does. The density $\\rho$ is not really something we have the benefit of using since we havev a point particle in effect and would end up with massive discontinuities. But the equation should still hold, so we can still do that thing where we integrate both sides over all space because hwy not.\n",
    "\n",
    "$$ \\int \\frac{1}{r^2} \\frac{\\partial}{\\partial r} (r^2 \\frac{\\partial \\phi}{\\partial r}) d^3x = \\int 4\\pi G \\rho d^3x $$"
   ]
  },
  {
   "cell_type": "markdown",
   "id": "b5ae8d5d",
   "metadata": {},
   "source": [
    "Now the nice thing about density integrated over all space is that it equals m, and everything else on the right side is a cosntant, so victory is sweet. \n",
    "\n",
    "$$ \\Rightarrow \\int \\frac{1}{r^2} \\frac{\\partial}{\\partial r} (r^2 \\frac{\\partial \\phi}{\\partial r}) d^3x = 4\\pi G m $$\n",
    "\n",
    "We tried to apply Gauss' law here, but we have to rememver that the fraction out front depends on r, so it's not that simple, as it's not inside a derivative. So we just do it the hard way, it seems. Fortunately due to spherical symmetry we do just *know* the angles have no influence on the integarl. \n",
    "\n",
    "$$ \\Rightarrow \\int \\frac{1}{r^2} \\frac{\\partial}{\\partial r} (r^2 \\frac{\\partial \\phi}{\\partial r}) r^2sin\\theta drd\\theta d\\phi = 4\\pi G m $$\n",
    "\n",
    "$$  \\Rightarrow 4 \\pi \\int \\frac{\\partial}{\\partial r} (r^2 \\frac{\\partial \\phi}{\\partial r}) dr = 4\\pi G m $$\n",
    "\n",
    "And THIS is just an integral of a derivative over the same variable, so it all pops out. \n",
    "\n",
    "$$ \\Rightarrow  4 \\pi r^2 \\frac{\\partial \\phi}{\\partial r} = 4\\pi G m $$\n",
    "\n",
    "$$ \\Rightarrow  \\frac{\\partial \\phi}{\\partial r} = \\frac{G m}{r^2} $$\n",
    "\n",
    "Which is what we were looking for. We express annoyance, it was much easier to solve this once we stopped trying to use Gauss' law. "
   ]
  },
  {
   "cell_type": "markdown",
   "id": "a1c4b5a0",
   "metadata": {},
   "source": [
    "Anyway take the antiderivative of both sides, the result is obviuos. \n",
    "\n",
    "$$ \\Rightarrow \\phi = -\\frac{G m}{r} $$"
   ]
  },
  {
   "cell_type": "markdown",
   "id": "29649771",
   "metadata": {},
   "source": [
    "The behavior at infinity is a rather quick drop to near-zero that never quite reaches it. Which from what we know is how gravity works. "
   ]
  },
  {
   "cell_type": "markdown",
   "id": "5654b2b2",
   "metadata": {},
   "source": [
    "<a id='P2'></a>\n",
    "\n",
    "# Problem 2 \\[Back to [top](#toc)\\]\n",
    "$$\\label{P2}$$\n",
    "\n",
    "*a) Derive the following useful conversion factors from the SI values of G and c:*\n",
    "\n",
    "$$ G/c^2 = 7.425e-28  m/kg = 1 $$\n",
    "$$ c^5/G = 3.629e52 J/s = 1 $$"
   ]
  },
  {
   "cell_type": "markdown",
   "id": "1897f643",
   "metadata": {},
   "source": [
    "Just... take the SI units and divide them. The result comes out trivially. \n",
    "\n",
    "The units are $\\frac{m^3}{kg s^2} \\frac{s^2}{m^2} = \\frac{m}{kg}$\n",
    "\n",
    "And for the second $\\frac{m^5}{s^5} \\frac{kg s^2}{m^3} = \\frac{kg m^2}{s^3} = \\frac{J}{s} $"
   ]
  },
  {
   "cell_type": "markdown",
   "id": "f85f2367",
   "metadata": {},
   "source": [
    "*b) Derive the values in geometerized units of the constants in table 8.1 from their given values in SI units.*\n",
    "\n",
    "Well, at least I can know the answers this time. Even if it is a bit bleh. \n",
    "\n",
    "For planck's constant the conversion factor is $G/c^3$ which produces a s/kg and has a value of 2.477e-36. Multiplied by the SI for planck's constant (or well the modified constant, such is the way with $\\hbar$'s bar.) is 2.613e-70 $m^2$. The book says 2.612. We say close enough.\n",
    "\n",
    "For the masses, the $G/c^2$ conversion given above works. \n",
    "\n",
    "Luminosity is just $c^5/G$, making all the others trivial, only $\\hbar$ needed any actual new work. Remember to actually invert it though. "
   ]
  },
  {
   "cell_type": "markdown",
   "id": "cb368615",
   "metadata": {},
   "source": [
    "*c) Express the following quantities in geometerized units*\n",
    "\n",
    "Okay so later problems pointed out that we did this wrong, if we truly want to compare values we need to convert everything to lengths scales if possible. Also we kind of messed up some conversion factors in general. We realized this issue by looking at [3](#3). Which also had helpful conversion factors. \n",
    "\n",
    "*i) A density (typical of neutroan stars) $\\rho$ = 1e17 kg/$m^3$*"
   ]
  },
  {
   "cell_type": "markdown",
   "id": "43a01346",
   "metadata": {},
   "source": [
    "This can be multiplied by G/$c^2$ directly to get something in 1/$m^2$, specifically 7.425 1/$m^2$"
   ]
  },
  {
   "cell_type": "markdown",
   "id": "c80605c1",
   "metadata": {},
   "source": [
    "*ii) a pressure (also typical of neutron stars) p = 1e33 kg/m$s^2$*\n",
    "\n",
    "This one evaluates similarly, multiply by G/$c^4$, though the results are still in 1/$m^2$ units. This is 6.135e-22 1\\$m^2$, otherwise known as smaller than the previous, strangely.  "
   ]
  },
  {
   "cell_type": "markdown",
   "id": "1e1de8be",
   "metadata": {},
   "source": [
    "*iii) The acceleration of gravity on Earth's surface g=9.8 m/$s^2$*\n",
    "\n",
    "Divide by c twice. ...Feels like we've already done this. 1.090e-16 1/m"
   ]
  },
  {
   "cell_type": "markdown",
   "id": "cb77b0fe",
   "metadata": {},
   "source": [
    "*iv) The luminosity of a supernova, L=1e41 J/s*\n",
    "\n",
    "We have the direct conversion $c^5/G$ worked out for this one already. though we do have to \"invert\" it to actually apply it. 2.756e12. Unitless. "
   ]
  },
  {
   "cell_type": "markdown",
   "id": "983d975b",
   "metadata": {},
   "source": [
    "*d) Three dimensioned constants in nature are regarded as fundamental: c, G, and $\\hbar$. With c=G=1, $\\hbar$ has units $m^2$, so $\\hbar^{1/2}$ defines a fundamental unit of length called the Planck length. From table 8.1, we calculate $\\hbar^{1/2}$ = 1.616e-35. Since this number invovles the fundamental constants of relativity, gravitaiton, and quantum theory, many physicists feel that this length will play an important role in quantum gravity. Express this length in terms of the SI values of c, G, and $\\hbar$. Similarly, use the conservation factors to calculate the Planck mass and Planck time, fundamental numbers formed from c, G, and $\\hbar$ that have the units of mass and time respectively. Compare these fundamental numbers with characteristic masses, lengths, and time scales that are known from elementary particle theory.*"
   ]
  },
  {
   "cell_type": "markdown",
   "id": "ceadf55e",
   "metadata": {},
   "source": [
    "Well we ultimately arrived at the altered value of $\\hbar$ with G/$c^3$. So we can declare the value here to be\n",
    "\n",
    "$$ \\sqrt{\\frac{G\\hbar}{c^3}} $$. \n",
    "\n",
    "now, going from m to s involves a dividing by c. This becomes:\n",
    "\n",
    "$$ \\sqrt{\\frac{G\\hbar}{c^5}} $$. \n",
    "\n",
    "now the MASS... we need to get a kg out, which implies we need to divide by $G$, which changes our units results from simply m to $kgs^2/m^2$. So we need to multiply again by $c^2$. Factoring this into the square root provides:\n",
    "\n",
    "$$ \\sqrt{\\frac{\\hbar c}{G}} $$. \n",
    "\n",
    "Which in fact match a quick internet search. "
   ]
  },
  {
   "cell_type": "markdown",
   "id": "25dbc1e0",
   "metadata": {},
   "source": [
    "<a id='P3'></a>\n",
    "\n",
    "# Problem 3 \\[Back to [top](#toc)\\]\n",
    "$$\\label{P3}$$\n",
    "\n",
    "*a) Calculate in geometrized units:*\n",
    "\n",
    "*i) The Newtonian potential $\\phi$ of the Sun at the Sun's surface, radius 6.960e8 m.*"
   ]
  },
  {
   "cell_type": "markdown",
   "id": "52ae9305",
   "metadata": {},
   "source": [
    "$\\phi = -\\frac{Gm}{r}$\n",
    "\n",
    "Now the final units of this is $m^2/s^2$, which can be reduced by the conversion factor $1/c^2$ to a completely dimensionless quantity. We do need the solar mass though, 1.989e30 kg. $-Gm/rc^2 $ is 2.122e-6. (unitless)\n",
    "\n",
    "To calculate this directly from an equation m/r, we'd use the conversion factor for mass, G/$c^2$. This is effectively the exact same calculation."
   ]
  },
  {
   "cell_type": "markdown",
   "id": "58748a2a",
   "metadata": {},
   "source": [
    "*ii) The Newtonian potential $\\phi$ of the Sun at the radius of Earth's orbit, r=1AU = 1.496e11 m*"
   ]
  },
  {
   "cell_type": "markdown",
   "id": "aef26ac1",
   "metadata": {},
   "source": [
    "Simlar calculation to above, 9.872e-9, unitless."
   ]
  },
  {
   "cell_type": "markdown",
   "id": "7cd302e5",
   "metadata": {},
   "source": [
    "*iii) The Newtonian potential $\\phi$ of Earth at its surface, radius 6.371e6 m*"
   ]
  },
  {
   "cell_type": "markdown",
   "id": "7d59ba7b",
   "metadata": {},
   "source": [
    "Earth's mass is 5.972e24 kg. By the same calculation we have...\n",
    "\n",
    "6.960e-10, unitless. "
   ]
  },
  {
   "cell_type": "markdown",
   "id": "9458b571",
   "metadata": {},
   "source": [
    "*iv) The velocity of Earth in its orbit around the sun.*\n",
    "\n",
    "From memory we know this is about 30km/s or 30,000 m/s, which when divided by lightspeed is 0.0001. "
   ]
  },
  {
   "cell_type": "markdown",
   "id": "25e95d08",
   "metadata": {},
   "source": [
    "*b) You should have found that your answer to ii) was larger than iii). Why, then, do we on Earth feel Earth's gravitational pull much more than the Sun's?*"
   ]
  },
  {
   "cell_type": "markdown",
   "id": "da600516",
   "metadata": {},
   "source": [
    "REFERENCE FRAMES! We do actually move with the sun's gravity--because we keep moving in the same path the Earth does around the Sun! It just pulls on us at more-or-less the exact same strength it pulls on Earth everywhere, so there's no distinct difference we notice from its presence or if it was absent. We are free-falling around the Sun, but there's nothing to stop us and thus no force we feel.\n",
    "\n",
    "Earth's ground, meanwhile, is actively opposing our freefall, and thus we feel it. "
   ]
  },
  {
   "cell_type": "markdown",
   "id": "19bc1a41",
   "metadata": {},
   "source": [
    "*c) Show that a circular orbit around a body of mass M has an orbital velocity, in Newtonian theroy, of $\\textbf{v}^2 = -\\phi$, where $\\phi$ is the Newtonian potential.*"
   ]
  },
  {
   "cell_type": "markdown",
   "id": "76337e26",
   "metadata": {},
   "source": [
    "First of all our speed for earth indicates we had an estimate here... or that Earth's not on a circular orbit, or that other things influence it, whatever. Anyway, let's derive this rule for circular orbits in general. In a circular orbit, $\\phi$ is constant in the radially inward direction. \n",
    "\n",
    "Consider the polar geodesic of a circle, which we can reprsent by $(cos\\theta, sin\\theta)$, with $\\theta$ being our parameter. The force always pulls toward the center, that is, precisely $(-\\phi cos\\theta, -\\phi sin\\theta)$ Assuming clockwise orbit, the velocity vector in a circular orbit always points at a 90 degree angle, or $(vsin\\theta, -vcos\\theta)$\n",
    "\n",
    "We need to correlate these two things, somehow, but right now they could be anything. \n",
    "\n",
    "F magnitude is equal to the change in momentum magnitude, which is $m\\delta v.$\n",
    "\n",
    "So we take the derivative of v and find the magnitude. The derivative is $(vcos\\theta, vsin\\theta)$, and the magnitude of this is just flat-out v. F=mv...? That's not right...\n",
    "\n",
    "Feeling stupid we went and looked up the derivation for this ELEMENTARY PROBLEM. \n",
    "\n",
    "...Yes we were being stupid, we were trying to use the information we had in this chapter and not just use the math of circular motion which would make everything so much easier. [2](#2)\n",
    "\n",
    "Anyway jsut correlate the known gravitaitonal force and centripedal acceleration GMm/$r^2$ = m$v^2$/r and get the wonderous result of $v = \\sqrt{\\frac{GM}{r}}$ which is exactly what we sought. In geometrized units G=1. \n",
    "\n",
    "We were suspicious of doing it this way, so we returned to using the Geodesic method to derive this. In the Newtonian approximation, the motion of a particle is ultimately given by 7.24:\n",
    "\n",
    "$$ \\frac{dp^i}{d\\tau} = -m\\phi_{,j}\\delta^{ji} $$ \n",
    "\n",
    "This is in cartesian coordinates. However, we can also write it as \n",
    "\n",
    "$$ m \\frac{dp_\\beta}{d\\tau} = \\frac12 g_{\\nu\\alpha,\\beta}p^\\nu p^\\alpha $$  \n",
    "\n",
    "Problem is we don't know the Newtonian approximation in polar... or spherical... just cartesian, so the simple calculation is removed from us. \n",
    "\n",
    "We KNOW the Geodesic is circular. Which means each component of momentum has to periodically move back and forth (or in the case of z do absolutely nothing.) Which means, according to proper time:\n",
    "\n",
    "$$ \\frac{dp^i}{d\\tau} = -m\\phi_{,i}$$ \n",
    "\n",
    "Now this notably ignores the time component but we are in Newtonian coordiantes so that might as well be 1, so $d\\tau = dt$. \n",
    "\n",
    "$$ \\frac{dp^i}{dt} = -m\\phi_{,i}$$ \n",
    "\n",
    "Now we happen to know $\\phi = -Gm/r$ or just m/r in geometric units. Which means $\\phi = \\frac{-m}{\\sqrt{x^2+y^2+z^2}}$ which means we can actually calculate the derivative. In the case of x, for instnace, it is $\\frac{-x}{(x^2+y^2+z^2)^{3/2}}$, and similarly for y and z. (though we can set z to zero in every case, which simplifies this to a 2D problem)\n",
    "\n",
    "$$ \\frac{dp^i}{dt} = Gm^2 \\frac{x^i}{r^3} $$ \n",
    "\n",
    "Now we know the momentum has to take the form of a circular path, that is, mvsin(vt). (or something similar, depends entirely on where we define the zero.) This doe make the relation:\n",
    "\n",
    "$$ mv^2 cos(vt) = Gm^2 \\frac{x}{r^3} $$\n",
    "$$ - mv^2 sin(vt) = Gm^2 \\frac{y}{r^3} $$\n",
    "\n",
    "Now these are the individual components, in the end what we want is the magnitude relations. Well, we have each component, so we square and then square root everything. \n",
    "\n",
    "$$ mv^2 = Gm^2 \\frac{1}{r^2} $$\n",
    "$$ v =  \\sqrt{\\frac{Gm}{r^2}} $$\n",
    "\n",
    "Which A) matches the newtonian answer and B) was derived using GR. So there. We're satisfied at last. \n",
    "\n",
    "....Geeeeh working on problem 15 pointed out that our $\\tau \\approx t$ approximation is not what we want. "
   ]
  },
  {
   "cell_type": "markdown",
   "id": "a38a7eca",
   "metadata": {},
   "source": [
    "ROUND THREE: Get the PROPER TIME it takes to complete a CIRCULAR ORBIT in GENERAL RELATIVITY. \n",
    "\n",
    "We have the gravity field $\\phi = -\\frac{Gm}{r}$. We also have the Newtonian metric $(-1-2\\phi,1-2\\phi,1-2\\phi,1-2\\phi)$. From [5](#5) we have made sure to note that the proper time on a worldline IS the interval. Since we're on a circular orbit and $\\phi$ is defined in terms of actual xyz coordinates, $\\phi$ is completely unchanging and constant. \n",
    "\n",
    "So, here's a crazy idea. What if we coordinate transform from the cartesian Netwonian metric to the POLAR Newtonian metric? then our coordiantes would be much easier to work with. txyz to $tr\\theta\\phi$, perhaps? Naturally, the t-term remains unchanged, as the two have to agree on time and proper time regardless. So these would be the same transformation matrices that were used to derive the spherical metric, just now the \"1\" values are different constants. So we could derive it ourselves... OR we could go see if someone else has already done the tedious work to do that. \n",
    "\n",
    "Reserach reveals this to be the SCHWARZCHILD METRIC [6](#6), which we know from **Problem 7-7**. Which works for more than just constant r but we'll take it. This metric is effectively, in the polar coordinate order, $(\\frac{1}{-1-2\\phi},\\frac{1}{1+2\\phi},r^2,r^2sin^2\\theta)$"
   ]
  },
  {
   "cell_type": "markdown",
   "id": "c2ebc478",
   "metadata": {},
   "source": [
    "Now we do actually have a way to calculate the interval given a metric, via 6.7\n",
    "\n",
    "$$ \\Delta\\tau = \\int |g_{\\alpha\\beta}\\frac{dx^\\alpha}{d\\tau}\\frac{dx^\\beta}{d\\tau}|^{1/2} d\\tau $$"
   ]
  },
  {
   "cell_type": "markdown",
   "id": "80aee398",
   "metadata": {},
   "source": [
    "As we are on a circular orbit, all of our coordinates are constant. All of them... except TIME. Which means:\n",
    "\n",
    "$$ \\Delta\\tau = \\int |g_{00}\\frac{dt}{d\\tau}\\frac{dt}{d\\tau}|^{1/2} d\\tau $$\n",
    "\n",
    "Now, how time is changing with proper time is a little uncertain, all we can say for sure is that it must be a linear relationship right off the bat, as we are moving at a constant velocity in a circle. Time increases, proper time increases. We could likely derive the exact growth factor by just slapping a $\\gamma$ somewhere, but that's not exactly going to cut it, as that's in special relativity. \n",
    "\n",
    "And... hold on a second. \n",
    "\n",
    "$$ \\Rightarrow \\Delta\\tau = \\int |g_{00}|^{1/2} \\frac{dt}{d\\tau}d\\tau $$\n",
    "$$ \\Rightarrow \\Delta\\tau = \\int |g_{00}|^{1/2} dt $$\n",
    "\n",
    "Which becomes just a simple time integral, and we can pull out the metric component as it is also constant.\n",
    "\n",
    "$$ \\Rightarrow \\Delta\\tau = |g_{00}|^{1/2} \\Delta t $$\n",
    "$$ \\Rightarrow \\Delta\\tau = |\\frac{1}{-1-2\\phi}|^{1/2} \\Delta t $$\n",
    "$$ \\Rightarrow \\Delta\\tau =\\sqrt{\\frac{1}{1+2\\phi}} \\Delta t $$"
   ]
  },
  {
   "cell_type": "markdown",
   "id": "106c3933",
   "metadata": {},
   "source": [
    "Which, notably, becomes 1 to 1 when $\\phi$ vanishes, as it should. We have now directly established the proper time related to original time via this particular metric. "
   ]
  },
  {
   "cell_type": "markdown",
   "id": "3a8c6727",
   "metadata": {},
   "source": [
    "So now time scales directly, and we can remove our assumption we used in regards to that above. Turning $d\\tau$ into dt is now defined. All it does is add the constant... which is effectively just 1 and the rest of the derivation carries out as usual. \n",
    "\n",
    "Shaky, but sufficient to MOVE ON."
   ]
  },
  {
   "attachments": {
    "Screenshot%20from%202022-06-10%2013-29-03.png": {
     "image/png": "[encoded data removed]"
    }
   },
   "cell_type": "markdown",
   "id": "6d8d314d",
   "metadata": {},
   "source": [
    "EXcept we've now found a much better proof, finally. [7](#7) has the following:\n",
    "\n",
    "![Screenshot%20from%202022-06-10%2013-29-03.png](attachment:Screenshot%20from%202022-06-10%2013-29-03.png)"
   ]
  },
  {
   "cell_type": "markdown",
   "id": "7928ba48",
   "metadata": {},
   "source": [
    "Which reveals that yes we could just have used the gamma factor. Egh. Well since we've looked at this Six Ways To Sunday, I declare ENOUGH for now. "
   ]
  },
  {
   "cell_type": "markdown",
   "id": "f1a7ac1f",
   "metadata": {},
   "source": [
    "<a id='P4'></a>\n",
    "\n",
    "# Problem 4 \\[Back to [top](#toc)\\]\n",
    "$$\\label{P4}$$\n",
    "\n",
    "*a) Let A be an nxn matrix whose entries are all very small, $|A_{ij} << 1/n|$, and let I be the unit matrix. Show that*\n",
    "\n",
    "$$ (I+A)^{-1} = I - A + A^2 - A^3 + A^4 ... $$\n",
    "\n",
    "*by proving that i) the series on the right hand converges absolutely for each of the $n^2$ entries, and ii) (I+A) times the right-hand side equals I.*"
   ]
  },
  {
   "cell_type": "markdown",
   "id": "f3959cb1",
   "metadata": {},
   "source": [
    "The absolute convergence argument is sensible. We oscillate up and down, but every time add a smaller and smaller magnitude number. (we're using much less than 1/n, not 1, which is what makes this true. Every multiplication also sees the addition of n of those multiplications, but if everythign is less than 1/n, this is always a decrease.) Now what it converges TO is heavily dependent on what exactly the terms ARE. Perhaps we can set up an iteration to find out exactly what... yeah no that infinite sum kept increasing in dimensionality to absurd degrees. But it does HAVE to converge since the entries are all very small. \n",
    "\n",
    "Anyway with the small numbers approximation multiplying I+A times the right side reduces to (I+A)(I-A) = I + A - A + smol. Small terms go away, A cancels, I remains. \n",
    "\n",
    "So this is at least accurate for very small entries, yes. However, the << 1/n is a definite requirement, otherwise the matrices can and will grow in size. "
   ]
  },
  {
   "cell_type": "markdown",
   "id": "a079238f",
   "metadata": {},
   "source": [
    "*b) Use a) to establish 8.21 from 8.20*"
   ]
  },
  {
   "cell_type": "markdown",
   "id": "5e515189",
   "metadata": {},
   "source": [
    "Oh this is so much easier than it seeemd. The inverse of I+A is just I-A. Trivially true for 8.21 and 8.20, which are\n",
    "\n",
    "8.20: $ \\Lambda^{\\alpha'}_\\beta = \\delta^\\alpha_\\beta + \\xi^\\alpha_{,\\beta} $\n",
    "\n",
    "8.21: $ \\Lambda^\\alpha_{\\beta'} = \\delta^\\alpha_\\beta - \\xi^\\alpha_{,\\beta} $"
   ]
  },
  {
   "cell_type": "markdown",
   "id": "2e1c0030",
   "metadata": {},
   "source": [
    "This naturally relies on the matrices being inverses of each other to actually get this relation. Clearly they are, but why? The indeces don't exactly match up quite right... well, except adjusting the indeces doesn't matter as all of them are summed over equally so we hit all combinations without issue no matter what. So VICTORY!"
   ]
  },
  {
   "cell_type": "markdown",
   "id": "56bfaac4",
   "metadata": {},
   "source": [
    "<a id='P5'></a>\n",
    "\n",
    "# Problem 5 \\[Back to [top](#toc)\\]\n",
    "$$\\label{P5}$$\n",
    "\n",
    "*a) Show that if $h_{\\alpha\\beta} = \\xi_{\\alpha,\\beta} + \\xi_{\\beta,\\alpha}$, then 8.25 vanishes.*"
   ]
  },
  {
   "cell_type": "markdown",
   "id": "f93ce32b",
   "metadata": {},
   "source": [
    "Let's go ahead and write this simple little relation out. \n",
    "\n",
    "$$ R_{\\alpha\\beta\\mu\\nu} = \\frac12 (h_{\\alpha\\nu,\\beta\\mu} + h_{\\beta\\mu,\\alpha\\nu} - h_{\\alpha\\mu,\\beta\\nu} - h_{\\beta\\nu,\\alpha\\mu}) $$\n",
    "\n",
    "Which we substitute in the above relation:\n",
    "\n",
    "$$ R_{\\alpha\\beta\\mu\\nu} = \\frac12 (\\xi_{\\alpha,\\nu\\beta\\mu} + \\xi_{\\beta,\\mu\\alpha\\nu} - \\xi_{\\alpha,\\mu\\beta\\nu} - \\xi_{\\beta,\\nu\\alpha\\mu} + \\xi_{\\nu,\\alpha\\beta\\mu} + \\xi_{\\mu,\\beta\\alpha\\nu} - \\xi_{\\mu,\\alpha\\beta\\nu} - \\xi_{\\nu,\\beta\\alpha\\mu}) $$"
   ]
  },
  {
   "cell_type": "markdown",
   "id": "3968a97a",
   "metadata": {},
   "source": [
    "Now obviously all of those terms just up and vanish. Ka-poof. No more. "
   ]
  },
  {
   "cell_type": "markdown",
   "id": "eec3a1e9",
   "metadata": {},
   "source": [
    "*b) Argue from this that 8.25 is gauge invariant.*"
   ]
  },
  {
   "cell_type": "markdown",
   "id": "ddbb9b47",
   "metadata": {},
   "source": [
    "A gague transformation transforms things by 8.24, which is to say $h_{\\alpha\\beta} \\rightarrow h_{\\alpha\\beta} - \\xi_{\\alpha,\\beta} - \\xi_{\\beta,\\alpha}$. The transformation we're doing above indicates that we're changing h to 0. \n",
    "\n",
    "But perhaps more illustratively, the importance is that 8.24 indicates that adjusting h-metric by ANY valid small gague transformation has those gague segments cancel with each other, thereby unchanging R. "
   ]
  },
  {
   "cell_type": "markdown",
   "id": "f2581d85",
   "metadata": {},
   "source": [
    "*c) Relate this to **Problem 7-10**.*"
   ]
  },
  {
   "cell_type": "markdown",
   "id": "06ac707a",
   "metadata": {},
   "source": [
    "**KILLING** fields are given by $\\nabla_\\alpha \\xi_\\beta + \\nabla_\\beta \\xi_\\alpha = 0$."
   ]
  },
  {
   "cell_type": "markdown",
   "id": "1506fb6c",
   "metadata": {},
   "source": [
    "This notably indicates that a special case of vector we can choose to increase the gague by are **KILLING** fields, and that specifically **KILLING** fields will induce NO change, as we are in nearly flat space so covariant derivatives are just derivatives. \n",
    "\n",
    "Thus **KILLING** vectors are likely a bad choice for an actual gague since htey don't even change the h-metric. However, perhaps this property can be *useful* in some cases, like for redefining coordinates or something. We shall see. "
   ]
  },
  {
   "cell_type": "markdown",
   "id": "c9892706",
   "metadata": {},
   "source": [
    "<a id='P6'></a>\n",
    "\n",
    "# Problem 6 \\[Back to [top](#toc)\\]\n",
    "$$\\label{P6}$$\n",
    "\n",
    "*Weak-field theory assumes $g_{\\mu\\nu} = \\eta_{\\mu\\nu} + h_{\\mu\\nu}$, with $|h_{\\mu\\nu}|<<1.$ Similarly $g^{\\mu\\nu}$ must be close to $\\eta^{\\mu\\nu}$, say $g^{\\mu\\nu} = \\eta^{\\mu\\nu} + \\delta g^{\\mu\\nu}.$ Show from **Problem 4a** that $\\delta g^{\\mu\\nu} = -h^{\\mu\\nu} + O(h^2).$ Thus, $\\eta^{\\mu\\alpha}\\eta^{\\nu\\beta}h_{\\alpha\\beta}$ is **not** the deviation of $g^{\\mu\\nu}$ from flatness.*"
   ]
  },
  {
   "cell_type": "markdown",
   "id": "224b0f2f",
   "metadata": {},
   "source": [
    "**Problem 4a** essentially gives us for small things that the inverse of I+A is I-A. Naturally we could try to apply us directly... but sadly $\\eta$ is not actually I, given its pesky -1 term at the start of the diagonal. However, the relation still works. By **Problem 4a** all we need to show is two properties: that it converges (it has to due to the small nature of h) and that $(\\eta + A)(\\eta - A)=I$ which it actually does since $\\eta^2=I$ and everything else cancels or is of higher order. \n",
    "\n",
    "$$ g^{\\mu\\nu} = (g_{\\mu\\nu})^{-1} = (\\eta_{\\mu\\nu} + h_{\\mu\\nu})^{-1} = \\eta_{\\mu\\nu} - h_{\\mu\\nu} $$\n",
    "\n",
    "And that's it. "
   ]
  },
  {
   "cell_type": "markdown",
   "id": "4a8f1323",
   "metadata": {},
   "source": [
    "Alternative method suggested by Leo Werneck:\n",
    "\n",
    "$$\\delta^\\mu_\\nu = g^{\\mu\\alpha}g_{\\alpha\\nu} = (\\eta_{\\mu\\alpha} + h_{\\mu\\alpha})(\\eta_{\\alpha\\nu} + \\delta g_{\\alpha\\nu})$$\n",
    "\n",
    "Assuming $\\delta g$ to be small and second order terms to vanish, this essentially says:\n",
    "\n",
    "$$I = I + \\eta_{\\alpha\\nu} h_{\\mu\\alpha} + \\eta_{\\mu\\alpha} \\delta g_{\\alpha\\nu}$$\n",
    "\n",
    "Which is naturally only true if $\\delta g = -h$ as both $\\eta$s are really the same exact thing. This also means if you think about it that h and $\\delta$g have to be symmetric as the indeces don't quite line up. But, like, of course they are. $\\eta$ is symmetric and g is symmetric, if we added another matrix and maintained symmetry it better also be symmetric. "
   ]
  },
  {
   "cell_type": "markdown",
   "id": "2ff8d433",
   "metadata": {},
   "source": [
    "<a id='P7'></a>\n",
    "\n",
    "# Problem 7 \\[Back to [top](#toc)\\]\n",
    "$$\\label{P7}$$\n",
    "\n",
    "*a) Prove that $\\bar{h}^\\alpha_\\alpha = -h^\\alpha_\\alpha$*"
   ]
  },
  {
   "cell_type": "markdown",
   "id": "ee5ef241",
   "metadata": {},
   "source": [
    "So basically the trace of the \"trace reverse\" is negative that of the normal h-metric. \n",
    "\n",
    "Start with 8.29 written out:\n",
    "\n",
    "$$ \\bar{h}^{\\alpha\\beta} = h^{\\alpha\\beta} - \\frac12 \\eta^{\\alpha\\beta} h$$\n",
    "\n",
    "Apply an index lowerer to everything.\n",
    "\n",
    "$$ \\Rightarrow \\bar{h}^{\\alpha}_\\beta = h^{\\alpha}_\\beta - \\frac12 \\eta^\\alpha_\\beta h$$\n",
    "\n",
    "$$ \\Rightarrow \\bar{h}^{\\alpha}_\\beta = h^{\\alpha}_\\beta - \\frac12 \\delta^\\alpha_\\beta h$$\n",
    "\n",
    "Now since h is just a number, now we find the trace of everything by setting all betas to alpha. For the identity, this produces 4. \n",
    "\n",
    "$$ \\Rightarrow \\bar{h}^{\\alpha}_\\alpha = h^{\\alpha}_\\alpha - \\frac12 4 h$$\n",
    "\n",
    "$$ \\Rightarrow \\bar{h}^{\\alpha}_\\alpha = h^{\\alpha}_\\alpha - 2 h$$\n",
    "\n",
    "$$ \\Rightarrow \\bar{h}^{\\alpha}_\\alpha = - h$$\n",
    "\n",
    "We originally made a mistake by trying to expand h into components--if we do that, we need to give it a different index than the others since the sum is carried out separately. "
   ]
  },
  {
   "cell_type": "markdown",
   "id": "f627f935",
   "metadata": {},
   "source": [
    "*b) Prove 8.31*"
   ]
  },
  {
   "cell_type": "markdown",
   "id": "309910bd",
   "metadata": {},
   "source": [
    "This just states that the trace inverse can be converted back to the original trace. WHich we can confirm with the exact same logic as above, just swap the bars. Start with the trace of h being $-\\bar h$ and then work backwards up to the relation we originally started with, just with the bars reversed. MIRRORS. "
   ]
  },
  {
   "cell_type": "markdown",
   "id": "bbc55833",
   "metadata": {},
   "source": [
    "<a id='P8'></a>\n",
    "\n",
    "# Problem 8 \\[Back to [top](#toc)\\]\n",
    "$$\\label{P8}$$\n",
    "\n",
    "*Derive 8.32 in the following manner*\n",
    "\n",
    "*a) Show that $R^\\alpha_{\\beta\\mu\\nu} = \\eta^{\\alpha\\sigma} R_{\\sigma\\beta\\mu\\nu} + O(h^2_{\\alpha\\beta})$*"
   ]
  },
  {
   "cell_type": "markdown",
   "id": "76e78477",
   "metadata": {},
   "source": [
    "Our immediate concern is as to why this isn't a direct relation. Does the raising operator not always raise directly? Ah, but that's the trick: the relation is with *g*, not $\\eta$, because we are in *slightly curved* space. Thus, the distinction becomes based on $g_{\\alpha\\beta} = \\eta_{\\alpha\\beta} + h_{\\alpha\\beta}$. That said, we need to transform this into the reverse, which **Problem 6** helps with, providing $g^{\\alpha\\beta} = \\eta^{\\alpha\\beta} - h^{\\alpha\\beta}$"
   ]
  },
  {
   "cell_type": "markdown",
   "id": "5a12a2b4",
   "metadata": {},
   "source": [
    "But isnt that just a single-h term? Ah, but we know from 8.25 that every term in $R_{\\alpha\\beta\\mu\\nu}$ is composed of an h-term, so everything becomes second order and poofs. So the $\\eta$ transformation is close enough. Proven!"
   ]
  },
  {
   "cell_type": "markdown",
   "id": "e079de88",
   "metadata": {},
   "source": [
    "*b) From this calculate $R_{\\alpha\\beta}$ to first order in $h_{\\mu\\nu}$*"
   ]
  },
  {
   "cell_type": "markdown",
   "id": "492e0fcc",
   "metadata": {},
   "source": [
    "Which means we ignore the poofed term in part a). The definition for the Ricci Tensor is \n",
    "\n",
    "$$ R_{\\alpha\\beta} = R^{\\mu}_{\\alpha\\mu\\beta}$$\n",
    "\n",
    "We originally conveted to $R_(\\alpha\\beta\\mu\\nu)$. This ended up being a mistake. What we need to do is evaluate what the version with the up index is. Fortunately the same arguments that were used to findt he all-down R can be used on this new R, since all metrics still follow the same pattern. Adapting 6.67, we get:\n",
    "\n",
    "$$ R^{\\mu}_{\\alpha\\mu\\beta} = \\frac12 g^{\\mu\\sigma}(h_{\\sigma\\beta,\\alpha\\mu} - h_{\\sigma\\mu,\\alpha\\beta} + h_{\\alpha\\mu,\\sigma\\beta} - h_{\\alpha\\beta,\\sigma\\mu}) $$\n",
    "\n",
    "$$ = \\frac12 g^{\\mu\\mu}(h_{\\mu\\beta,\\alpha\\mu} - h_{\\mu\\mu,\\alpha\\beta} + h_{\\alpha\\mu,\\mu\\beta} - h_{\\alpha\\beta,\\mu\\mu}) $$\n",
    "\n",
    "$$ = \\frac12 \\eta^{\\mu\\mu}(h_{\\mu\\beta,\\alpha\\mu} - h_{\\mu\\mu,\\alpha\\beta} + h_{\\alpha\\mu,\\mu\\beta} - h_{\\alpha\\beta,\\mu\\mu}) - \\frac12 h^{\\mu\\mu}(h_{\\mu\\beta,\\alpha\\mu} - h_{\\mu\\mu,\\alpha\\beta} + h_{\\alpha\\mu,\\mu\\beta} - h_{\\alpha\\beta,\\mu\\mu}) $$\n",
    "\n",
    "Anything in $h^2$ is small so that all poofs.\n",
    "\n",
    "$$ = \\frac12 \\eta^{\\mu\\mu}(h_{\\mu\\beta,\\alpha\\mu} - h_{\\mu\\mu,\\alpha\\beta} + h_{\\alpha\\mu,\\mu\\beta} - h_{\\alpha\\beta,\\mu\\mu})$$\n",
    "\n",
    "We can use the metric to raise the derivative of every h-metric here... except that pesky annoying middle one. \n",
    "\n",
    "$$ = \\frac12 (h_{\\mu\\beta,\\alpha}^{,\\mu} - \\eta^{\\mu\\mu}h_{\\mu\\mu,\\alpha\\beta} + h_{\\alpha\\mu,\\beta}^{,\\mu} - h_{\\alpha\\beta,\\mu}^{,\\mu})$$\n",
    "\n",
    "the signs don't match up... but maybe they will in the end? "
   ]
  },
  {
   "cell_type": "markdown",
   "id": "0a11c745",
   "metadata": {},
   "source": [
    "*c) Show that $g_{\\alpha\\beta}R = \\eta_{\\alpha\\beta} \\eta^{\\mu\\nu} R_{\\mu\\nu} + O(h^2_{\\alpha\\beta})$*"
   ]
  },
  {
   "cell_type": "markdown",
   "id": "bc88f59d",
   "metadata": {},
   "source": [
    "Right so start with the Ricci scalar and E X P A N D\n",
    "\n",
    "$$ g_{\\alpha\\beta}R = \\eta_{\\alpha\\beta}R + h_{\\alpha\\beta}R $$\n",
    "$$ = \\eta_{\\alpha\\beta}g^{\\mu\\nu}R_{\\mu\\nu} + h_{\\alpha\\beta}g^{\\mu\\nu}R_{\\mu\\nu} $$\n",
    "$$ = \\eta_{\\alpha\\beta}\\eta^{\\mu\\nu}R_{\\mu\\nu} + h_{\\alpha\\beta}\\eta^{\\mu\\nu}R_{\\mu\\nu} + \\eta_{\\alpha\\beta}h^{\\mu\\nu}R_{\\mu\\nu} + h_{\\alpha\\beta}h^{\\mu\\nu}R_{\\mu\\nu} $$"
   ]
  },
  {
   "cell_type": "markdown",
   "id": "c9bc5aa1",
   "metadata": {},
   "source": [
    "We showed in part b) that the Ricci tensor is a linear combination of R-tensors, meaning all of those terms after the first one are composed of $h^2$ terms, or $h^3$ in the case of the last one. Therefore, we compress to:\n",
    "\n",
    "$$ g_{\\alpha\\beta}R =  \\eta_{\\alpha\\beta}\\eta^{\\mu\\nu}R_{\\mu\\nu} $$\n",
    "\n",
    "Which is what we sought."
   ]
  },
  {
   "cell_type": "markdown",
   "id": "21455b57",
   "metadata": {},
   "source": [
    "*d) From this conclude that $G_{\\alpha\\beta} = R_{\\alpha\\beta} - \\frac12 \\eta_{\\alpha\\beta}R$. i.e., that the linearzed $G_{\\alpha\\beta}$ is the **trace reverse** of the linearized $R_{\\alpha\\beta}$, in the sense of 8.29 ((See **Problem 7**))*"
   ]
  },
  {
   "cell_type": "markdown",
   "id": "72534869",
   "metadata": {},
   "source": [
    "Our rampage of quick rapid solutions slows to a crawl here and we wonder hmm. How do we relate G to R? G is more closely related to T, and we are not aware of a translation from T to R. \n",
    "\n",
    "Page 185 points out (though not obviously) that the following is also true \n",
    "\n",
    "$$ G^{\\alpha\\beta} = R^{\\alpha\\beta} - \\frac12 g^{\\alpha\\beta}R $$\n",
    "\n",
    "Now we already know that if we expand g, the h-metric term goes away no matter whether it's up or down, so we're left with\n",
    "\n",
    "$$ G^{\\alpha\\beta} = R^{\\alpha\\beta} - \\frac12 \\eta^{\\alpha\\beta}R $$\n",
    "\n",
    "And now everything can just be flipped down through metric applications.\n",
    "\n",
    "$$ G_{\\alpha\\beta} = R_{\\alpha\\beta} - \\frac12 \\eta_{\\alpha\\beta}R $$"
   ]
  },
  {
   "cell_type": "markdown",
   "id": "a4fb58ca",
   "metadata": {},
   "source": [
    "The ultimate goal, though, is to prove 8.32. It makes us think we should have worked out b) further somehow. That said, this is as far as the problem has asked us to go, so... let's move on?"
   ]
  },
  {
   "cell_type": "markdown",
   "id": "f4405d16",
   "metadata": {},
   "source": [
    "*e) Use this to simplify somewhat the calculation of 8.32*\n",
    "\n",
    "oh look surprise there was another part we hadn't written down how silly of us. "
   ]
  },
  {
   "cell_type": "markdown",
   "id": "3a2f4358",
   "metadata": {},
   "source": [
    "$$ G_{\\alpha\\beta} = R_{\\alpha\\beta} - \\frac12 \\eta_{\\alpha\\beta}R $$\n",
    "\n",
    "This means we can make THIS relation.\n",
    "\n",
    "$$ = \\bar{R}_{\\alpha\\beta} $$"
   ]
  },
  {
   "cell_type": "markdown",
   "id": "a17951d1",
   "metadata": {},
   "source": [
    "Now part b) told us\n",
    "\n",
    "$$ R_{\\alpha\\beta} = \\frac12 \\eta^{\\mu\\mu}(h_{\\mu\\beta,\\alpha\\mu} - h_{\\mu\\mu,\\alpha\\beta} + h_{\\alpha\\mu,\\mu\\beta} - h_{\\alpha\\beta,\\mu\\mu})$$\n",
    "\n",
    "So the problem becomes how exactly do we \"bar\" this. \n",
    "\n",
    "Examining the formula, the spatial coordinate-based R terms transform directly, so they can be barred. However, the SPATIAL component... gets a FLIPPED SIGN, since R = $\\eta^{\\mu\\nu}R_{\\mu\\nu}$. That $\\eta$ is just 1 for the spatial, but -1 for the temporal. Which means...\n",
    "\n",
    "$$ \\bar{R}_{\\alpha\\beta} = \\bar{R}_{t\\alpha t\\beta}+\\bar{R}_{x\\alpha x\\beta}+\\bar{R}_{y\\alpha y\\beta}+\\bar{R}_{z\\alpha z\\beta}$$"
   ]
  },
  {
   "cell_type": "markdown",
   "id": "2f754524",
   "metadata": {},
   "source": [
    "Now since they're all the SAME sign, the sum became easier. However, currently we're explicitly summing over all low indeces. We should probably try to fix that in a way that matches the whole G-pattern we want at the end, that is, with one of the indeces we're summing over being an upper derivative in every term. This is a little difficult to read properly so let's just add a completely generic vector $I^\\mu$ just to remind us to sum, we'll replace it with proper $\\eta$ values later. \n",
    "\n",
    "$$ \\bar{R}_{\\alpha\\beta} = I^\\mu\\bar{R}_{\\mu\\alpha \\mu\\beta}$$"
   ]
  },
  {
   "cell_type": "markdown",
   "id": "c97512c5",
   "metadata": {},
   "source": [
    "Perhaps this would be easier to deal with if we used the other version of the Ricci tensor. \n",
    "\n"
   ]
  },
  {
   "cell_type": "markdown",
   "id": "95840e47",
   "metadata": {},
   "source": [
    "Of course the question now is how does \"barring\" the R-tensor itself change the h-values within? This... well this should be fun to say the least. ....confuzzlebuzzle twuzzle. "
   ]
  },
  {
   "cell_type": "markdown",
   "id": "16bc1e4d",
   "metadata": {},
   "source": [
    "Now that we're actually calculating, that last term only exists when the indeces match, giving us:\n",
    "\n",
    "$$ = R_{\\alpha\\beta} - \\frac12 \\eta_{\\alpha\\beta}\\eta^{\\mu\\mu}R_{\\mu\\mu} $$\n",
    "\n",
    "Might as well stubstitute in the expression for the Ricci tensor. \n",
    "\n",
    "$$ = \\eta^{\\iota\\iota}R_{\\iota\\alpha\\iota\\beta} - \\frac12 \\eta_{\\alpha\\beta}\\eta^{\\mu\\mu}\\eta^{\\iota\\iota}R_{\\iota\\mu\\iota\\mu}$$\n",
    "\n",
    "Let's go ahead and split up the R-terms into their h-components. It'll be a mess, but it'll be a fun mess.\n",
    "\n",
    "$$ = \\frac12 \\left( \\eta^{\\iota\\iota}[h_{\\iota\\beta,\\alpha\\iota} + h_{\\alpha\\iota,\\iota\\beta} - h_{\\iota\\iota,\\alpha\\beta} - h_{\\alpha\\beta,\\iota\\iota}] - \\frac12 \\eta_{\\alpha\\beta}\\eta^{\\mu\\mu}\\eta^{\\iota\\iota}[h_{\\iota\\mu,\\mu\\iota} + h_{\\mu\\iota,\\iota\\mu} - h_{\\iota\\iota,\\mu\\mu} - h_{\\mu\\mu,\\iota\\iota}] \\right)$$\n",
    "\n",
    "Yeah okay this won't resolve, come back later. "
   ]
  },
  {
   "cell_type": "markdown",
   "id": "615a3484",
   "metadata": {},
   "source": [
    "<a id='P9'></a>\n",
    "\n",
    "# Problem 9 \\[Back to [top](#toc)\\]\n",
    "$$\\label{P9}$$\n",
    "\n",
    "*a) Show from 8.32 that $G_{00}$ and $G_{0i}$ do not contain second time derivatievs of any $\\bar{h}_{\\alpha\\beta}$. Thus only the **six** equations $G_{ij} = 8\\pi T_{ij}$ are truly dynamical equations. Relate this to the discussion at the end of **Section 8.2**. The equations $G_{0\\alpha}=8\\pi T_{0\\alpha}$ are called **constraint** equations becauset hey are relations among the initial data for the other six equations, which prevent us from choosing all these data freely.*"
   ]
  },
  {
   "cell_type": "markdown",
   "id": "2760c82e",
   "metadata": {},
   "source": [
    "In full, 8.32 is\n",
    "\n",
    "$$ G_{\\alpha\\beta} = -\\frac12 \\left[ \\bar{h}_{\\alpha\\beta,\\mu}^{,\\mu} + \\eta_{\\alpha\\beta}\\bar{h}_{\\mu\\nu}^{,\\mu\\nu} - \\bar{h}_{\\alpha\\mu,\\beta}^{,\\mu} - \\bar{h}_{\\beta\\mu,\\alpha}^{,\\mu} + smol \\right] $$"
   ]
  },
  {
   "cell_type": "markdown",
   "id": "67166d70",
   "metadata": {},
   "source": [
    "Let's demonstrate what happens when $\\alpha\\beta=0$\n",
    "\n",
    "$$ G_{00} = -\\frac12 \\left[ \\bar{h}_{00,\\mu}^{,\\mu} + \\eta_{00}\\bar{h}_{\\mu\\nu}^{,\\mu\\nu} - \\bar{h}_{0\\mu,0}^{,\\mu} - \\bar{h}_{0\\mu,0}^{,\\mu} \\right] $$\n",
    "$$ G_{00} = -\\frac12 \\left[ \\bar{h}_{00,\\mu}^{,\\mu} - \\bar{h}_{\\mu\\nu}^{,\\mu\\nu} - \\bar{h}_{0\\mu,0}^{,\\mu} - \\bar{h}_{0\\mu,0}^{,\\mu} \\right] $$"
   ]
  },
  {
   "cell_type": "markdown",
   "id": "ff7456df",
   "metadata": {},
   "source": [
    "Now each of these terms will produce exactly ONE double-time derivative. ...huh it looks like one remains at the end and they don't all cancel. BUT, we have to remember that there's an insidious little trick with up index derivatives, $f^{,\\mu} = \\eta^{\\mu\\nu}f_{,\\nu}$. Essentially, when that strange index up there is taken down, the sign will change since we want double-t-derivative, so the result is -1. This becomes:\n",
    "\n",
    "$$ G_{00} = -\\frac12 \\left[ \\bar{h}_{00,\\mu}^{,\\mu} - \\eta^{\\nu\\iota}\\bar{h}_{\\mu\\nu,\\iota}^{,\\mu} - \\bar{h}_{0\\mu,0}^{,\\mu} - \\bar{h}_{0\\mu,0}^{,\\mu} \\right] $$\n",
    "\n",
    "But yes since we're looking for double-t the sign flips again, then everything provides exactly 1 double-t that cancels utterly with the others, ++--. \n",
    "\n",
    "Now, what of 0i? Well, our confusing term vanishes entirely as this is not a symmetric index.\n",
    "\n",
    "$$ G_{0i} = -\\frac12 \\left[ \\bar{h}_{0i,\\mu}^{,\\mu} - \\bar{h}_{0\\mu,i}^{,\\mu} - \\bar{h}_{i\\mu,0}^{,\\mu} \\right] $$\n",
    "\n",
    "Middle term never produces a double-t derivative.\n",
    "\n",
    "$$ G_{0i} = -\\frac12 \\left[ \\bar{h}_{0i,\\mu}^{,\\mu} - \\bar{h}_{i\\mu,0}^{,\\mu} \\right] $$\n",
    "\n",
    "Since $\\mu=0$ for the double derivative, these cancel, leaving none behind. Thus we have shown what we sought to show. "
   ]
  },
  {
   "cell_type": "markdown",
   "id": "279ff63a",
   "metadata": {},
   "source": [
    "*b) 8.42 contains second time derivatives even when $\\mu$ or $\\nu$ is zero. Does this contradict a)? Why?*"
   ]
  },
  {
   "cell_type": "markdown",
   "id": "185b05ab",
   "metadata": {},
   "source": [
    "No, and it's entirely because $G^{\\alpha\\beta} \\neq G_{\\alpha\\beta}$"
   ]
  },
  {
   "cell_type": "markdown",
   "id": "3531ac2d",
   "metadata": {},
   "source": [
    "To transform it it has to be sandwiched between two $\\eta$ matrices and matrix multiplication is not commutative when it's not the identity. One might think $\\eta$ commutes, but it actually does not. Gotta be careful with it. \n",
    "\n",
    "Now to prove everything is still hunky-dory a devoted student would probably apply the double-$\\eta$ and show the no-double-t-derivatives was restored... but eeeeeeeeh nah. "
   ]
  },
  {
   "cell_type": "markdown",
   "id": "1c222286",
   "metadata": {},
   "source": [
    "<a id='P10'></a>\n",
    "\n",
    "# Problem 10 \\[Back to [top](#toc)\\]\n",
    "$$\\label{P10}$$\n",
    "\n",
    "*Use the Lorentz gauge condition 8.33 to simplify $G_{\\alpha\\beta}$ to 8.41*"
   ]
  },
  {
   "cell_type": "markdown",
   "id": "6f8a42e7",
   "metadata": {},
   "source": [
    "Start with 8.32\n",
    "\n",
    "$$ G_{\\alpha\\beta} = -\\frac12 [\\bar{h}_{\\alpha\\beta,\\mu}^{,\\mu} + \\eta_{\\alpha\\beta}\\bar{h}_{\\mu\\nu}^{,\\mu\\nu} - \\bar{h}_{\\alpha\\mu,\\beta}^{,\\mu} - \\bar{h}_{\\beta\\mu,\\alpha}^{,\\mu}] $$"
   ]
  },
  {
   "cell_type": "markdown",
   "id": "25bbdf4a",
   "metadata": {},
   "source": [
    "Raise the indeces on both sides.\n",
    "\n",
    "$$ G^{\\alpha\\beta} = -\\frac12 [\\bar{h}_{,\\mu}^{\\alpha\\beta,\\mu} + \\eta^{\\alpha\\beta}\\bar{h}_{\\mu\\nu}^{,\\mu\\nu} - \\bar{h}_{\\mu}^{\\alpha,\\mu\\beta} - \\bar{h}_{\\mu}^{\\beta,\\mu\\alpha}] $$\n",
    "\n",
    "8.33 is:\n",
    "\n",
    "$$\\bar{h}^{\\mu\\nu}_{,\\nu} = 0$$\n",
    "\n",
    "Now obviously the first term of the new G becomes what we want, so how can we justify the other three terms going to zero?"
   ]
  },
  {
   "cell_type": "markdown",
   "id": "2f19813b",
   "metadata": {},
   "source": [
    "We're actually giong to accomplish this by going backwards. \n",
    "\n",
    "$$ G^{\\alpha\\beta} = -\\frac12 \\square \\bar{h}^{\\alpha\\beta}.$$\n",
    "\n",
    "However, this is the *new* h-metric, not the *old* one given in 8.33. 8.34 allows us to put the new in terms of the old:\n",
    "\n",
    "$$ = -\\frac12 \\square (\\eta^{\\alpha\\gamma}\\eta^{\\beta\\iota}\\bar{h}_{\\alpha\\beta})$$\n",
    "\n",
    "$$ \\rightarrow -\\frac12 \\square \\eta^{\\alpha\\gamma}\\eta^{\\beta\\iota}(\\bar{h}_{\\alpha\\beta}-\\xi_{\\mu,\\nu}-\\xi_{\\nu,\\mu}+\\eta_{\\mu\\nu}\\xi^\\alpha_{,\\alpha})$$\n"
   ]
  },
  {
   "cell_type": "markdown",
   "id": "dc08a3f4",
   "metadata": {},
   "source": [
    "The Lorentz metrics are not influenced by derivatives , so we can pull them out of the SQUARE. \n",
    "\n",
    "$$ \\rightarrow -\\frac12  \\eta^{\\alpha\\gamma}\\eta^{\\beta\\iota} \\square (\\bar{h}_{\\alpha\\beta}-\\xi_{\\mu,\\nu}-\\xi_{\\nu,\\mu}+\\eta_{\\mu\\nu}\\xi^\\alpha_{,\\alpha})$$"
   ]
  },
  {
   "cell_type": "markdown",
   "id": "caa3677f",
   "metadata": {},
   "source": [
    "Each of the four terms will transform differently under the SQUARE. The simplest is simply $\\square f = f^{,\\mu}_{,\\mu} = \\eta^{\\mu\\nu} f_{,\\mu\\nu}$. We will only apply this to the first one, which beceomes $\\bar{h}_{\\alpha\\beta,\\mu}^{,\\mu}$ or alternatively $\\eta^{\\mu\\nu}\\bar{h}_{\\alpha\\beta,\\mu\\nu}$\n",
    "\n",
    "Wow this doesn't actually seem to go anywhere..."
   ]
  },
  {
   "cell_type": "markdown",
   "id": "2605f843",
   "metadata": {},
   "source": [
    "<a id='P11'></a>\n",
    "\n",
    "# Problem 11 \\[Back to [top](#toc)\\]\n",
    "$$\\label{P11}$$\n",
    "\n",
    "*When we write Maxwell's equations in special relativistic form, we identify the scalar potential $\\phi$ and three-vector potential $A_i$ (signs defined by $E_i = -\\phi_{,i}-A_{i,0}$) as components of a one-form $A_0 = -\\phi, A_i$ (one form) = $A_i$ (three-vector). A gague transformation is the replacement $\\phi \\rightarrow \\phi - \\partial f / \\partial t, A_i \\rightarrow A_i+f_{,i}$. This leaves the electric and magnetic fields unchanged., The Loretnz gauge is a gauge in which $\\partial \\phi / \\partial t + \\nabla_i A^i = 0$. Write both the gauge transformation and the Lorentz gauge condition in four-tensor notation. Draw the analogy with simlar equations in linearized gravity.*"
   ]
  },
  {
   "cell_type": "markdown",
   "id": "8ff667b5",
   "metadata": {},
   "source": [
    "We can consider this as though we were are adjusting a \"metric\" very slightly. In this case, the \"metric's\" diagonal is the one-form $A_\\alpha$ which can be written as $(-\\phi,A_x,A_y,A_z)$. We can think of this as our $\\eta$, that is, the default metric. \n",
    "\n",
    "Thus, our h would be given by $(-\\partial f / \\partial t, f_{,x},f_{,y},f_{,z})$. Since we are told this is a gague transformation we know this all of these terms have to be small. "
   ]
  },
  {
   "cell_type": "markdown",
   "id": "3f831097",
   "metadata": {},
   "source": [
    "We can consider the full transformation to be written out as $ A_{\\alpha'} = A_{\\alpha} + h_{\\alpha} $. (Perhaps obviously this is just $f_{,\\alpha}$) Other transformations could in turn be defined from this. Note that unlike the gravitational situation, the transformation is only on one \"dimension\", since we are dealing with vectors. Here, we are not leaving the \"diagonal\" as it were, so any other dimension would be zero. In the gravitaitonal case, however, we can very much have a metric with off-diagonal terms. \n",
    "\n",
    "Now if we wanted to change h, as we only have one dimension to work with the transformation of h becomes:\n",
    "\n",
    "$h_\\alpha \\rightarrow h_\\alpha - 2\\xi_\\alpha,\\alpha$. \n",
    "\n",
    "Which, since we can choose $\\xi$ rather arbitrarily, the two doesn't even matter. "
   ]
  },
  {
   "cell_type": "markdown",
   "id": "c8cbfa46",
   "metadata": {},
   "source": [
    "The Lorentz gague condition essentially says that $A_\\alpha$ needs to have its total derivative equal zero. Which means that the componetns of our adjustment, h, also have to equal zero. That is to say:\n",
    "\n",
    "$$ h_{t,t}+h_{x,x}+h_{y,y}+h_{z,z} = 0. $$\n",
    "\n",
    "The indeces aren't really nice here, though. Fortunately all the one-form spatial components are equivalent to vector components, so those indeces are free. However, TIME, as always, is a bit annoying. However we are told that the E and B fields remain unchanged, which means the values of $\\psi$ and $A_i$ must remain unchanged between one-form and vector forms, since A is known not to change, and $\\phi$ is the only other variable in the definition of E. So we can just flip to the vector form without an issue, establishing the Lorentz gauge condition as:\n",
    "\n",
    "$$ h^\\alpha_{,\\alpha} = 0 $$\n",
    "\n",
    "We also note that the Lorentz gate condition had the A in vector form to begin with, so... fun. probably could have just written $\\nabla_\\alpha A^\\alpha = 0$"
   ]
  },
  {
   "cell_type": "markdown",
   "id": "4f7aad45",
   "metadata": {},
   "source": [
    "We're done, but we get the distinct impression we're doing this very wrong because we don't understand what we're doing exactly, but the first part was confirmed by [4](#4) so we're not really sure anymore if anything really is wrong. This problem was not terribly illuminating. "
   ]
  },
  {
   "cell_type": "markdown",
   "id": "07e8579a",
   "metadata": {},
   "source": [
    "<a id='P12'></a>\n",
    "\n",
    "# Problem 12 \\[Back to [top](#toc)\\]\n",
    "$$\\label{P12}$$\n",
    "\n",
    "*Prove 8.34*\n",
    "\n",
    "$$ \\bar{h}_{\\alpha\\beta}(new) = \\bar{h}_{\\alpha\\beta}(old)-\\xi_{\\mu,\\nu}-\\xi_{\\nu,\\mu}+\\eta_{\\mu\\nu}\\xi^\\alpha_{,\\alpha} $$"
   ]
  },
  {
   "cell_type": "markdown",
   "id": "d18ccb16",
   "metadata": {},
   "source": [
    "So the starting relation we have is $h_{\\alpha\\beta} \\rightarrow h_{\\alpha\\beta} - \\xi_{\\alpha,\\beta} - \\xi_{\\beta,\\alpha}.$ Which is the same as the above, but without the last term. \n",
    "\n",
    "Proving this should be easy enough, just replace the h-terms with the replacement above in\n",
    "\n",
    "$$ \\bar{h}^{\\alpha\\beta} = h^{\\alpha\\beta} - \\frac12 \\eta^{\\alpha\\beta} h $$\n",
    "\n",
    "Everything is on the wrong index, so shift everything down by applying double-lowering to both sides. Also substitute in the trace value. \n",
    "\n",
    "$$ \\Rightarrow \\bar{h}_{\\alpha\\beta} = h_{\\alpha\\beta} - \\frac12 \\eta_{\\alpha\\beta} h^\\iota_\\iota$$"
   ]
  },
  {
   "cell_type": "markdown",
   "id": "e6de51eb",
   "metadata": {},
   "source": [
    "The first term on the right side is the direct transformation, but the trace is actually equal to $$ \\eta^{\\iota\\epsilon}h_{\\iota\\epsilon} $$ WHich means our relation becomes\n",
    "\n",
    "$$ \\bar{h}_{\\alpha\\beta} = h_{\\alpha\\beta} - \\xi_{\\alpha,\\beta} - \\xi_{\\beta,\\alpha} - \\frac12 \\eta_{\\alpha\\beta} \\eta^{\\iota\\epsilon}(h_{\\iota\\epsilon} - \\xi_{\\iota,\\epsilon} - \\xi_{\\epsilon,\\iota})$$"
   ]
  },
  {
   "cell_type": "markdown",
   "id": "186bb71a",
   "metadata": {},
   "source": [
    "$$ \\bar{h}_{\\alpha\\beta} = h_{\\alpha\\beta} - \\xi_{\\alpha,\\beta} - \\xi_{\\beta,\\alpha} +\\eta_{\\alpha\\beta}\\xi^\\iota_\\iota - \\frac12 \\eta_{\\alpha\\beta} \\eta^{\\iota\\epsilon}(h_{\\iota\\epsilon})$$\n",
    "\n",
    "And that last term folds into the first to provide the bar.\n",
    "\n",
    "$$ \\bar{h}_{\\alpha\\beta} = \\bar{h}_{\\alpha\\beta} - \\xi_{\\alpha,\\beta} - \\xi_{\\beta,\\alpha} +\\eta_{\\alpha\\beta}\\xi^\\iota_\\iota $$"
   ]
  },
  {
   "cell_type": "markdown",
   "id": "2a6507bd",
   "metadata": {},
   "source": [
    "Which is exactly what we sought. As we have no sums here, we are free to re-index anything (save the trace at the end there) as we want, so all is proven. "
   ]
  },
  {
   "cell_type": "markdown",
   "id": "06ceff27",
   "metadata": {},
   "source": [
    "<a id='P13'></a>\n",
    "\n",
    "# Problem 13 \\[Back to [top](#toc)\\]\n",
    "$$\\label{P13}$$\n",
    "\n",
    "*The inequalities $|T^{00}| >> |T^{0i}| >> |T^{ij}|$ for a newtonian system are illustrated in **Problem 2c**. Devise physical arguments to justify them in general.*\n",
    "\n",
    "Let's remind ourselves what the actual components of the stress-energy tensor mean so we can actually associate them to **Problem 2c**. What we have is the energy density, the energy flux / momentum density, and the momentum flux. Momentum fux is basically just pressure. \n",
    "\n",
    "...**Problem 2c** doesn't seem to match this, but one reason we can tell this is that v is small, and v is a major component of density (mv) and flux depends on v as well. However, while energy density does have a v component, its primary component comes from the MASS, which in nonrelativistic speeds it just flat out dominates. \n",
    "\n",
    "The reason the momentum flux is so much smaller than the \"side\" terms is because it has two velocities inherent in it: the velocity in momentum itself, and the velocity associated with the flux, going like v-squared. \n",
    "\n",
    "Now this is a very vague argument but it makes sense. Now we need to go reexamine **Problem 2** to find the discrepancy...\n",
    "\n",
    "Discrepancy found. Always convert everything into lengths. Now we have a very clear indication of the energy density being much larger than the pressure. "
   ]
  },
  {
   "cell_type": "markdown",
   "id": "9ca3ebf9",
   "metadata": {},
   "source": [
    "<a id='P14'></a>\n",
    "\n",
    "# Problem 14 \\[Back to [top](#toc)\\]\n",
    "$$\\label{P14}$$\n",
    "\n",
    "*From 8.46 and the inequalities among the components $h_{\\alpha\\beta}$, derive 8.47 - 8.50*"
   ]
  },
  {
   "cell_type": "markdown",
   "id": "852dc364",
   "metadata": {},
   "source": [
    "So we're allowed to assume 8.46 is given, that is, $\\bar{h}^{00}=-4\\phi$. We need to show every subsequent step and fully explain it, so here we go. Now, the order we're using is the one where only $T^{00}$, that is, the energy density, matters, which means that only $\\bar{h}^{00}$ matters--there are no others. Thus, in the definition of the trace relations between the \"barred\" and \"unbarred\" traces. First of all, to even get the metric into \"traceable\" form we need to apply the Lorentz metric: $\\bar{h}^{00} = \\eta^{0\\nu}\\bar{h}^0_\\nu$ but of course only 00 exists so $\\bar{h}^{00} = \\eta^{00}\\bar{h}^0_0  = -\\bar{h}^0_0$\n",
    "\n",
    "This means the trace is actually $4\\phi$, the sign gets flipped. \n",
    "\n",
    "Though the relation between barred and unbarred flips AGAIN, so the trace becomes $-4\\phi$ again. Essentially this is all 8.47 says, so we're there now. \n",
    "\n",
    "The question is how to apply that to the unbarred h and fill in its components. 8.48 and 8.49 are easily attained if we require they all have the same magnitude, but do they have to? We know that the h-metric is symmetric, but the trace depends only on the diagonals. what property demands they all have the same magnitude? We're just adding them together, obviously they all have to take the form $C\\phi$, but why MUST C=-2 for all of them? (If they're all the same the -1 1 1 1 metric requires it, naturally). \n",
    "\n",
    "Let's try writing out components. we have $h^\\alpha_\\alpha = -4\\phi$. If we apply a metric to this, we get $\\eta_{\\alpha\\beta}h^{\\alpha\\beta}$ which, since the lorentz metric only exists on the diagonal, becomes $\\eta_{\\alpha\\alpha}h^{\\alpha\\alpha} = -4\\phi$. Which is just a formal statement of what we already knew: summing the diagonals with the (-1,1,1,1) metric equals that. There's nothing that says each h term has to be the same. "
   ]
  },
  {
   "cell_type": "markdown",
   "id": "4c164924",
   "metadata": {},
   "source": [
    "Ah, but if we use the definition of the trace reverse (barring) we end up with $-4\\phi = h^{00} - \\frac12 (-1) h$\n",
    "\n",
    "$$-4\\phi = h^{00} - \\frac12 (-1) (-4\\phi)$$\n",
    "\n",
    "$$\\Rightarrow -4\\phi = h^{00} +2\\phi$$\n",
    "\n",
    "$$\\Rightarrow -2\\phi = h^{00}$$\n",
    "\n",
    "Which confirms one of our terms. \n",
    "\n",
    "And we can use the same argument for the others, treating the result as zero! And thus, every term ends up the same, and always $-2\\phi$ which establishes 8.48 and 8.49 rather trivially. "
   ]
  },
  {
   "cell_type": "markdown",
   "id": "bcf5f25d",
   "metadata": {},
   "source": [
    "From that, the final result is trivial, jsut add it to the Lorentz metric and get\n",
    "\n",
    "$$(-1-2\\phi, 1-2\\phi, 1-2\\phi, 1-2\\phi)$$\n",
    "\n",
    "Which is 8.50"
   ]
  },
  {
   "cell_type": "markdown",
   "id": "de2a1902",
   "metadata": {},
   "source": [
    "<a id='P15'></a>\n",
    "\n",
    "# Problem 15 \\[Back to [top](#toc)\\]\n",
    "$$\\label{P15}$$\n",
    "\n",
    "*We have argued that we should use convenient coordinates to solve the weak-field problem (or any other!), but that any physical results should be expressible in coordinate-free language. From this point of view our demonstration of the Newtonian limit is yet incomplete, since in **Chapter 7** we merely showed that the metric 7.8 led to Newton's law $dp/dt = -m\\nabla\\phi$. But surely this is a coordinate-dependent equation, involving coordinate time and position. It is ceratinly not a valid four-dimensional tensor equation. Fill in this gap in our reasoning by showing that we can make physical measurements to verify that the relativistic preductions match the Newtonian ones. (For Example, what is the relation between the proper time one orbit takes and its proper circumference?)*\n",
    "\n",
    "Confused."
   ]
  },
  {
   "cell_type": "markdown",
   "id": "5f10f816",
   "metadata": {},
   "source": [
    "Right so we think the question is just asking that we can prove everything is fine by taking measurements. Obviously it's fine in the radial reference frame, of course, but what about other reference frames? Well, we do only have to worry about nonrelativistic effects, so everythign will reduce to the Netwonian situation in time.\n",
    "\n",
    "We know from **Problem 3** that the velocity is directly related to the field strength and radius. From the radius we can find the circumference according to the anchor point, and we can also find the time it takes to go around. It does not matter *where* we are doing this, the newtonian metric is the same no matter what coordinate transform we do. (In fact in an earlier derivation of **Problem 3** we converted the newtonian metric to the Schwartzchild metric. Which. Probably went a bit far but whatever.) We already know that the metric's operations will be the same everywhere as it's a valid tensor equation, and that the geodesic will not change so long as the only gravitaitonal source is the big one we care about. \n",
    "\n",
    "The point being, we derived the relation in the Schwartzchild metric, but it's also the Netwon metric, which are the same metric, yes, but in different coordinate systems. Thus, it is coordinate independent, for the v is in spherical. The metric is used to arrive at this. In fact, one could even write it in a different way:\n",
    "\n",
    "$$ |U| + \\nabla \\phi = 0 $$\n",
    "\n",
    "And THAT is not specific to any coordinate system, all that changes is how you define phi. \n",
    "\n",
    "This problem is confusing. Clearly the invariance continues, for it has to, but we don't exatly know what the problem wants us to say. "
   ]
  },
  {
   "cell_type": "markdown",
   "id": "b763cf6b",
   "metadata": {},
   "source": [
    "<a id='P16'></a>\n",
    "\n",
    "# Problem 16 \\[Back to [top](#toc)\\]\n",
    "$$\\label{P16}$$\n",
    "\n",
    "*Re-do the derivation of the Newtonian limit by replacing $8\\pi$ in 8.10 with k and following through the changes this makes in subsequent equations. Verify that we recover 8.50 only if k=$8\\pi$*."
   ]
  },
  {
   "cell_type": "markdown",
   "id": "8199fb7b",
   "metadata": {},
   "source": [
    "Ah, so here we go! Let's do the entire thing... but BETTER! So our new 8.10 is \n",
    "\n",
    "$$ G^{\\alpha\\beta} = kT^{\\alpha\\beta}$$\n",
    "\n",
    "Where k is just some constant. We know what it equals in the end but let's assume we don't for now. \n",
    "\n",
    "Now this equation doesn't become relevant for quite some time, where it's used to define 8.42, which we now write as:\n",
    "\n",
    "$$ \\square \\bar{h}^{\\mu\\nu} = -2kT^{\\mu\\nu} $$\n",
    "\n",
    "Which using the \"energy density is all that matters\" approximation gives us \n",
    "\n",
    "$$ \\square \\bar{h}^{00} = -2k\\rho $$\n",
    "\n",
    "which we convert into\n",
    "\n",
    "$$ \\nabla^2 \\bar{h}^{00} = -2k\\rho $$\n",
    "\n",
    "We have from 8.1 that $\\nabla^2 \\phi = 4\\pi\\rho$ whcih provides a relation between our two values, giving us\n",
    "\n",
    "$$\\nabla^2 h^{00} = \\frac{-2k}{4\\pi} \\nabla^2 \\phi$$\n",
    "\n",
    "$$\\Rightarrow  h^{00} = \\frac{-k}{2\\pi} \\phi$$\n",
    "\n",
    "Which we can carry through the logic of **Problem 14** to get what the newtonian metric would be if we didn't know k. Turns out, $-2\\phi becomes \\frac{-k}{4\\pi}$ which yes does resolve when $k=8\\pi$."
   ]
  },
  {
   "cell_type": "markdown",
   "id": "714c8fbf",
   "metadata": {},
   "source": [
    "<a id='P17'></a>\n",
    "\n",
    "# Problem 17 \\[Back to [top](#toc)\\]\n",
    "$$\\label{P17}$$\n",
    "\n",
    "*a) A small planet orbits a static neutron star in a circular orbit whose proper circumference is 6e11 m. The orbital period takes 200 days of the planet's proper time. Estimate the mass M of the star.*"
   ]
  },
  {
   "cell_type": "markdown",
   "id": "920c0488",
   "metadata": {},
   "source": [
    "First of all, the relation is given by 8.59, simplified to $\\phi = -\\frac{M}{r}$. M is what we want to solve for. r is jsut the readius, which we derive from the circumference: 6e11 m circumference has 9.549e10 radius. (divide by $2\\pi$.). \n",
    "\n",
    "Now, though, we need to find the field strength. It turns out we have this from **Problem 3**, $v = \\sqrt{\\frac{GM}{r}}$, with G=1. So we can rather easily figure out the mass from here. Velocity is the distance over time, which provides 34,722 m/s. This is comparable to the speed of the Earth so we don't really have to worry about relativistic effects. That said we do need this in c-units, which makes it 1.158e-4, unitless. Square it, multiply by r, find M. This comes out to 1280.88 in relativistic units. \n",
    "\n",
    "Divide by the conversion factor 7.425e-28 m\\kg and we get 1.725e30 kg. \n",
    "\n",
    "Google says neutron stars generally have about two solar masses. Solar mass is around 1e30, so our answer above is very reasonable. \n",
    "\n",
    "However, it doesn't feel like we used relativity to find this at all, we just applied newton's rules via M/r. Granted, we ARE in the newtonian approximation, so it makes sense, but it doesn't feel quite right. Will return if insight is gained elsewhere. Perhaps we just need to use relativity to define **Problem 3** rather than the method we used... Hmmm..."
   ]
  },
  {
   "cell_type": "markdown",
   "id": "1cb831d9",
   "metadata": {},
   "source": [
    "*b) Five satellites are placed into circular orbits around a static black hole. The proper circumference and proper periods of their orbits are given in the table below. Use the method of a) to examine the hole's mass. Explain the trend of the results you get for the satellites.*\n",
    "\n",
    "| Data |  |  |   |   |   |\n",
    "| -- | -- | -- | -- | -- | -- |\n",
    "| Proper Circumference | 2.5e6 m | 6.3e6 m | 6.3e7 m | 3.1e8 m | 6.3e9 m |\n",
    "| Proper period | 8.4e-3 s | 0.055 s | 2.1 s | 23 s | 2.1e3 s |"
   ]
  },
  {
   "cell_type": "markdown",
   "id": "36d75918",
   "metadata": {},
   "source": [
    "Since we're in metric units lets not convert to relativistic and just make a formula for all of these. \n",
    "\n",
    "$$ \\frac{C^2r}{T^2G} = M $$\n",
    "\n",
    "But r is defined by C so...\n",
    "\n",
    "$$ \\frac{C^3}{2T^2G\\pi} = M $$\n",
    "\n",
    "Which becomes \n",
    "\n",
    "$$ (2.384e9)\\frac{C^3}{T^2} = M $$\n",
    "\n",
    "Which we use in Geogebra to evaluate our results for everything:\n",
    "\n",
    "1: 5.279e32 kg\n",
    "\n",
    "2: 1.971e32 kg\n",
    "\n",
    "3: 1.352e32 kg\n",
    "\n",
    "4: 1.343e32 kg\n",
    "\n",
    "5: 1.352e32 kg\n",
    "\n",
    "So we have an obvious trend here: the really close in thing thinks it's MASSIVE, while the further out ones are approaching a single value. This is obviously because the further out we are the more accurate the newtonian approximation is. An orbital period of a few fractions of a second definitely isn't \"far away.\" However, apparently even a few minutes is far enough away that the approximation starts to stabilize. "
   ]
  },
  {
   "cell_type": "markdown",
   "id": "b5f2beeb",
   "metadata": {},
   "source": [
    "<a id='P18'></a>\n",
    "\n",
    "# Problem 18 \\[Back to [top](#toc)\\]\n",
    "$$\\label{P18}$$\n",
    "\n",
    "*Consider the field equations with cosmological constant, 8.7, with $\\Lambda$ aribtrary and k=$8\\pi$*\n",
    "\n",
    "*a) Find the Newtonian limit and show that we recover the motion of the planets only if |$\\Lambda$| is very small. Given that the radius of Pluto's orbit is 5.9e12 m, set an upper bound on |$\\Lambda$| from solar-system measurements.*"
   ]
  },
  {
   "cell_type": "markdown",
   "id": "b24e031d",
   "metadata": {},
   "source": [
    "Right-- this is going to give us a different metric, so we have to start from the beginning. \n",
    "\n",
    "$$G^{\\alpha\\beta} = 8\\pi T^{\\alpha\\beta} - \\Lambda g^{\\alpha\\beta}$$\n",
    "$$G^{\\alpha\\beta} = -\\frac12 \\square \\bar{h}^{\\alpha\\beta}$$\n",
    "$$-\\frac12 \\square \\bar{h}^{\\alpha\\beta} = 8\\pi T^{\\alpha\\beta} - \\Lambda g^{\\alpha\\beta}$$\n",
    "$$\\Rightarrow \\square \\bar{h}^{\\alpha\\beta} = -16\\pi T^{\\alpha\\beta} + 2\\Lambda g^{\\alpha\\beta}$$\n",
    "$$\\Rightarrow \\square \\bar{h}^{00} = -16\\pi \\rho + 2\\Lambda g^{00}$$\n",
    "\n",
    "Note on this step: normally, it's just obvious that $\\rho$ is larger than everything involved. However the terms of the metric are likely to be close to 1, and $\\rho$ itself is, in Gc=1 units, only on the order of 100. So if $\\Lambda$ were close to 1 or larger, we would have an issue. However, we assume it itself is small, since the observations in reality suggest a near-zero value, so we are still okay with setting everything to 00. \n",
    "\n",
    "$$\\Rightarrow \\nabla^2 \\bar{h}^{00} = -4\\nabla^2 \\phi + 2\\Lambda g^{00}$$\n",
    "$$\\Rightarrow \\bar{h}^{00} = -4\\phi + \\nabla^{-2}2\\Lambda g^{00}$$\n",
    "\n",
    "Admittedly we aren't even sure what that last term there even MEANS, so let's just replace it with X and worry about it later. \n",
    "\n",
    "$$\\Rightarrow \\bar{h}^{00} = -4\\phi + X$$\n",
    "\n",
    "Using the same methods as **Problem 14** we can gather a \"newtonian\" metric with diagonal\n",
    "\n",
    "$$ (-1-2\\phi+X/2,1-2\\phi+X/2,1-2\\phi+X/2,1-2\\phi+X/2) $$"
   ]
  },
  {
   "cell_type": "markdown",
   "id": "21ae5f0e",
   "metadata": {},
   "source": [
    "Though X is... this funky thing.\n",
    "\n",
    "$$ X = \\nabla^{-2}2\\Lambda g^{00} $$"
   ]
  },
  {
   "cell_type": "markdown",
   "id": "9ab5789f",
   "metadata": {},
   "source": [
    "Which we can essentially read as the \"inverse laplacian\". In essence, we are looking for some thing F in which $ \\nabla^2 F = 2\\Lambda g^{00}$. The problem we currently have is that $g^{00}$ is defined in terms of our metric, which means we have a self-definition problem. Presumably it's CLOSE to 1, but we'd like to avoid making that sweeping generalization and use at least one more order of precision. \n",
    "\n",
    "However, one thing we can do is note that the NESTED function X is going to be multiplied by $\\Lambda$, thus producing a second order issue we can completley ignore. Which means we can work with:\n",
    "\n",
    "$$ X = 2\\Lambda \\nabla^{-2}\\frac{1}{-1-2\\phi} $$"
   ]
  },
  {
   "cell_type": "markdown",
   "id": "7e7a7f4d",
   "metadata": {},
   "source": [
    "As $\\phi$ is some function of xyz, naturally the function we're looking for must be as well. ...Actually, we can use the \"double small\" argument again, we're multiplying something that's slightly diffenret from one by the small $\\Lambda$ which means we can reduce even further to just 1. \n",
    "\n",
    "$$ X = 2\\Lambda \\nabla^{-2}(-1) $$\n",
    "\n",
    "NOTE: even though the factors were in the denominator, they were still only small adjustments, so small times small is small. Now, much easier to solve $\\Lambda^2 F = -1$ There are notably many functions where this is true. We'll need some other relation to narrow this down...\n",
    "\n",
    "Aha! We're looking for the motions of the planets in this problem, so we can assume circular orbits, and more importantly a radially symmeric field $\\phi$. This means our function F must be radially symmetric. So let's make it a function of r F(r) and use the radial laplacian on it. \n",
    "\n",
    "$$ \\frac1r \\frac{\\partial}{\\partial r} (r\\frac{\\partial F}{\\partial r}) = -1$$\n",
    "\n",
    "Which produces $F=-r^2/4$ Thus...\n",
    "\n",
    "$$ X = -\\frac23\\Lambda(\\frac{r^2}{4})  $$\n",
    "$$ X = -\\frac16\\Lambda r^2  $$\n",
    "\n",
    "And so our metric is now\n",
    "\n",
    "$$ (-1-2\\phi-\\frac13\\Lambda r^2,1-2\\phi-\\frac13\\Lambda r^2,1-2\\phi-\\frac13\\Lambda r^2,1-2\\phi-\\frac13\\Lambda r^2) $$\n",
    "\n",
    "Keep in mind the metric itself is in cartesian coordinates, the radius would be expressed in cartesian as well if it wasn't... tiresome. "
   ]
  },
  {
   "cell_type": "markdown",
   "id": "d073a166",
   "metadata": {},
   "source": [
    "One very curiuos detail here is that the influence of the cosmological constant increases with distance. If distances get too large, the result would be very catastrophic! But right now we're just dealing with planetary scales. \n",
    "\n",
    "Anyway, we note that the metric we've come up with can be \"mapped\" to the actual newtonian metric. Let us define \n",
    "\n",
    "$$ \\Phi = \\phi + \\frac16 \\Lambda r^2 $$\n",
    "\n",
    "Which turns our metric into the Netwonian metric just with $\\Phi$ instead of $\\phi$. Now we don't actually have to go around and re-create any orbits from this: we just have to figure out how small $\\Lambda$ has to be to make its entire term neglegible compared to $\\phi$ when r = Pluto's Orbital Radius = 5.9e12m. \n",
    "\n",
    "$\\phi$ for Pluto is -GM/r which is roughly -2.262e7 in SI units of $m^2/s^2$. \n",
    "\n",
    "now $r^2/6$ is 5.801e24 square meters. We need to reduce this to... let's say four orders of magnitude below $\\phi$, so from 1e24 to 1e3, a difference of 1e21. \n",
    "\n",
    "Thus we give a rough estimate of $\\Lambda = 1e-21$. \n",
    "\n",
    "As expected, absolutely MINISCULE. \n",
    "\n",
    "Keep in mind this is all in SI units, if we converted $\\phi$ would be -2.517e-10 unitless, and the pluto distance actually remains the same. This means we go from 1e24 to 1e-14, for a whoping $\\Lambda = 1e-38$. TINY. "
   ]
  },
  {
   "cell_type": "markdown",
   "id": "99059371",
   "metadata": {},
   "source": [
    "*b) By bringing $\\Lambda$ over to the eright-hand side of 8.7, we can regard $-\\Lambda g^{\\mu\\nu}/8\\pi$ as the stress-energy tensor of \"empty space\". Given that the observed mass of the region of the universe near our Galaxy would have a density of about 1e-27 kg$m^3$ if it were uniformly distributed, do you think a value of |$\\Lambda$| near the limit you established in a) could have observable consequences for cosmology? Conversely, if $\\Lambda$ is comparable to the mass density of the universe, do we need to include it in the equations when we discuss the solar system?*"
   ]
  },
  {
   "cell_type": "markdown",
   "id": "00a70a65",
   "metadata": {},
   "source": [
    "Well notably we have a $\\Lambda$ significantly larger than the mass density of the universe as 1e-21 instead of 1e-27, which makes us think we were probalby too generous, but we made a lot of simplifications so eeeeeh maybe we're okay?\n",
    "\n",
    "Regardless, yes of course it would have observable effects! The effect of $\\Lambda$ *increases* with distance, the further away you go the more it matters. A few orders of magnitude of distance increase, say, across the galaxy, would make it larger than $\\phi$--and the influence of $\\phi$ directly would be significantly smaller. So yes, there will be consequences. Though it really does depend on the sign of $\\Lambda$ what exactly those consequences *are*... does gravity start getting stronger, or weaker?\n",
    "\n",
    "Also the fact that we can write a tensor of empty space means empty space is *doing* things, so the intergalactic voids will have their own influence on the universe. \n",
    "\n",
    "As for in the solar system... no. We came up with a model of 1e-21 for the orbit of pluto, if it's even smaller than that at 1e-27, the effect will be absurdly neglegible even for tiny objects out at the edge of the solar disk. In fact, since it's so many orders of magnitude lower, even on a galactic scale it might not do much. The radius of the galaxy is about 5e20 m, a difference of eight orders of magnitude of the Pluto distance. However, the order of magnitude differences between $\\Lambda$s is only six, so it appears on a galactic scale it would still matter. (And this is a more rigorous proof than what we did originally). But normal relativity would still hold in the solar system.\n",
    "\n",
    "This actually explains GREATLY something we hadn't really recognized before: it is often said that dark energy expands the universe more where there is less mass and less gravity. Here, the power of the cosmological constant increases greatly with distance from the source, but things close to stars don't feel it at all. This makes sense! "
   ]
  },
  {
   "cell_type": "markdown",
   "id": "73ca4211",
   "metadata": {},
   "source": [
    "<a id='P19'></a>\n",
    "\n",
    "# Problem 19 \\[Back to [top](#toc)\\]\n",
    "$$\\label{P19}$$\n",
    "\n",
    "*In this exercise we shall compute the first correction to the Newtonian solution caused by a source that rotates. In Newtonian gravity, the angular momentum of the source does not affect the field. Two sources with the same $\\rho(x^i)$ but different angular moemnta have the same field. Not so in relativity, since all components of $T^{\\mu\\nu}$ generate the field. This is our first example of a **post-Newtonian effect**, an effect that introduces an aspect of general relativity that is not present in Newtonian gravity.*\n",
    "\n",
    "*a) Suppose a spherical body of uniform density $\\rho$ and radius R rotates rigidly about the $x^3$ axis with constant angular velocity $\\Omega$. Write down the components $T^{0\\nu}$ in a Lorentz frame at rest with respect to the center of mass of the body, assuming $\\rho, \\Omega,$ and R are independent of time. For each component, work to the lowest nonvanishing order in $\\Omega R$*"
   ]
  },
  {
   "cell_type": "markdown",
   "id": "6d283e10",
   "metadata": {},
   "source": [
    "Since we're working in first order we can generally assume that $\\Omega$ is not relativistic, which means $T^{00}$ is just mass density, $\\rho$.\n",
    "\n",
    "The other terms we need are the edges, which can either be calculated as Energy Flux or Momentum Density. Both of these are zero along the z-direction because nothing is ever moving that direction, for it is the one we are rotating around, so $T^{0z}=0$.\n",
    "\n",
    "Now, how do we actually calculate the energy flux and/or momentum density? At every point, it will be different, as every point is moving at a different tangential velocity equal to $r\\Omega$ where r ranges from 0 to R. Naturally it's zero at the center. \n",
    "\n",
    "Momentum equals mv, but momentum density would be $\\rho$v. Which means momentum density can be calculated as a magnitude of $\\rho r \\Omega$. However, this is just the magnitude, the actual direciton changes based on location. Fortunately the path of every \"particle\" within the sphere is a circle, so we can relate it to the usual sin/cos relation of a circle. We write this in terms of angle for ease of reading, though naturally as it is just $\\phi$ it can somewhat easily be replaced with somethin in terms of x and y.\n",
    "\n",
    "$$ T^{0x} = \\rho r \\Omega cos(\\phi)$$\n",
    "$$ T^{0y} = - \\rho r \\Omega sin(\\phi)$$\n",
    "\n",
    "This particualr path is clockwise starting at (1,0)"
   ]
  },
  {
   "cell_type": "markdown",
   "id": "fe5f1bd9",
   "metadata": {},
   "source": [
    "*b) The general solution to the equation $\\nabla^2f=g$, which vanishes at infinity, is the genrealization of 8.2:*\n",
    "\n",
    "$$ f(x) = -\\frac{1}{4\\pi} \\int \\frac{g(y)}{|x-y|} d^3y $$\n",
    "\n",
    "*Which reduces to 8.2 when g is nonzero in a very small region. Use this to solve 8.42 for $\\bar{h}^{00}$ and $\\bar{h}^{0j}$ for the source described in a). Obtain the solutions only outside the body, and only to the lowest nonvanishing order in 1/r, where r ist he distance from the body's center. Express the result for $\\bar{h}^{0j}$ in terms of the body's angular momentum. Find the mentric tensor within this approximation, and transform it to spherical coordinates.*"
   ]
  },
  {
   "cell_type": "markdown",
   "id": "11470f73",
   "metadata": {},
   "source": [
    "*c) Because the metric is independent of t andt he azimuthal angle $\\phi$, particles orbiting this body will have $p_0$ and $p_\\phi$ constant along their trajectories (See **Chapter 7-4**.) Consider a particle of nonzero rest-mass in a circular orbit of radius r in the equatorial plane. To lowest order in $\\Omega$, calculate the difference between its orbital period in the postiive sense (i.e. rotating in the sense of the central body's rotation) and in the negative sense. (Define the period to be the coordinate time taken for one orbit of $\\delta \\phi = 2\\pi$.)*"
   ]
  },
  {
   "cell_type": "markdown",
   "id": "652162b7",
   "metadata": {},
   "source": [
    "*d) From this devise an experiment to measure the angular momentum J of the central body. We taket he central body to be the Sun (M=2e30 kg, R=7e8 m, $\\Omega=3e-6 1/2$, and the orbiting particle the Earth (r=1.5e11m). What woudl be the difference in teh year between positive and negative orbits?*"
   ]
  },
  {
   "cell_type": "markdown",
   "id": "318b693a",
   "metadata": {},
   "source": [
    "<a id='P20'></a>\n",
    "\n",
    "# Problem 20 \\[Back to [top](#toc)\\]\n",
    "$$\\label{P20}$$\n",
    "\n",
    "*This exercise introduces the concept of the active gravitational mass. After deriving the weak-field Einstein equations in 8.42, we immediately specialized to the low-velocity Newtonian limit. Here weo go a few steps further iwthout making the assumption that velocities are small or pressures weak compared to densities.*\n",
    "\n",
    "*a) Perform a trace-reverse operation on 8.42 to get*\n",
    "\n",
    "$$ \\square h^{\\mu\\nu} = -16\\pi (T^{\\mu\\nu} - \\frac12 T^\\alpha_\\alpha \\eta^{\\mu\\nu}) $$"
   ]
  },
  {
   "cell_type": "markdown",
   "id": "05add904",
   "metadata": {},
   "source": [
    "This is trivially obvious. Just use the definitions and get this result. $\\square \\bar{h}^{\\mu\\nu}$ includes T in it, so the above is obtaind just by substitution. The 16$\\pi$ comes out as it is a constant on all of the terms. That's it.  "
   ]
  },
  {
   "cell_type": "markdown",
   "id": "4e07a5a0",
   "metadata": {},
   "source": [
    "*b) If the system is isolated and stationary, then its gravitational field far away will be dominated by $h^{00}$ as argued leading up to 8.50. If the system has weak inertial gravity but strong pressure, show that $h^{00} = -2\\Phi$ where $\\Phi$ satisfies a newtonian-like Poisson equation.*\n",
    "\n",
    "$$ \\nabla^2\\Phi = 4\\pi (\\rho + T^k_k) $$\n",
    "\n",
    "*For a perfect fluid this source term is just $\\rho + 3p$, which is called the **active gravitational mass** in general relativity. If the system is Newtonian, then $p << \\rho$ and we have the usual Newtonian limit. this is anotehr example of a **Post-Newtonian effect**.*"
   ]
  },
  {
   "cell_type": "markdown",
   "id": "3cc0c604",
   "metadata": {},
   "source": [
    "<a id='P21'></a>\n",
    "\n",
    "# Problem Bonus \\[Back to [top](#toc)\\]\n",
    "$$\\label{P21}$$\n",
    "\n",
    "This problem is self-written and self-assigned because it seems highly fundamental. \n",
    "\n",
    "*Work out the properties of a circular orbit. Prove that the circle is a geodesic. Discover the period of the orbit, the circumference, and the velocity--all measured wiwthin the Schwartzchild Metric of the larger body. Assume star-planet scenario, that is, the planet can be modeled as a test particle.*"
   ]
  },
  {
   "attachments": {
    "Screenshot%20from%202022-06-11%2009-30-26.png": {
     "image/png": "[encoded data removed]"
    }
   },
   "cell_type": "markdown",
   "id": "86e876c8",
   "metadata": {},
   "source": [
    "**PHASE 1: IS A CIRCLE A GEODESIC?**\n",
    "\n",
    "We are in the Schwartzchild metric so the coordinates are $(t,r,\\theta,\\phi)$. All circular orbits can be rearranged so this is just a function of t and $\\phi$, though what exactly these functions *are* is completely unknown. However, with our knowledge of physics we can determine that, since the speed is constant, the time and angle must be adjusting at a constant rate. Thus, we can write it as $(A\\tau,0,0,B\\tau)$ where A and B are some constants that are probably related but do not have to be. Note that while $\\phi$ does \"circle around\" 0 = 2$\\pi$ so we're fine there, and the other variables do not change. (as far as the star is concerned, anyway). \n",
    "\n",
    "Our concern is largely if we have a geodesic. So let us examine the geodesic equation:\n",
    "\n",
    "$$ U^\\beta U^\\alpha_{,\\beta} + \\Gamma^\\alpha_{\\mu\\beta}U^\\mu U^\\beta $$\n",
    "\n",
    "In our case, only t and $\\phi$ produce results, so those are the only values our indeces can take. The first term vanisehs unless the derivative is taken with respect to t. The second term will require the Chrstoffel symbols. Rather than calculating them directly for the Schwartzchild metric, let's just look them up. [8](#8) is our savior, giving us:\n",
    "\n",
    "![Screenshot%20from%202022-06-11%2009-30-26.png](attachment:Screenshot%20from%202022-06-11%2009-30-26.png)\n"
   ]
  },
  {
   "cell_type": "markdown",
   "id": "125c72ad",
   "metadata": {},
   "source": [
    "Now, $r_s$ is the Schwartzchild radius, and is actually equal to in our definition $-2\\phi r.$ Only six of these Christoffel symbols matter: by number they are 010, 001, 331, 332, 313, 323. The last two indeces are the ones that matter the most, for only \"3\" and \"0\" have velocities, and \"30\" \"33\" and \"00\" are never combinations hit, so none of the chrsitoffel symbols produce an actual value, thus the second term in the Goedesic Equation is zero.\n",
    "\n",
    "The first term is also equivalent to the second derivative of the coordinate, which is linear with respect to the parameter, so it goes from linear to a constant to zero. So, yes, the circular path is in fact a geodesic. \n",
    "\n",
    "WAIT: just because the \"1\" and \"2\" coordinates don't exist for U doesn't mean the christoffel symbol is useless. Some of them might still remain. We're looking for combinations of \"03\" \"33\" and \"00\" \n",
    "\n",
    "Technically 233 qualifies, but it's defined in terms of $\\theta$ which is $\\pi/2$ and thus sends the term to zero. \n",
    "\n",
    "133 and 100, however, do exist, as r is just a constant, not zero. The trig portion of 133 just evaluates to 1. Putting this together gives us a new geodesic equation:\n",
    "\n",
    "$$ \\frac12 (\\frac{-2\\phi r}{r^2}-\\frac{4\\phi^2r^2}{r^3}) U^tU^t + (-2\\phi r - r)U^\\phi U^\\phi = 0$$\n",
    "$$ \\Rightarrow (\\frac{-\\phi}{r}-\\frac{2\\phi^2}{r}) (U^t)^2 + (-2\\phi r - r)(U^\\phi)^2 = 0$$\n",
    "$$ \\Rightarrow \\frac{\\phi}{r^2}(- r- 2\\phi r) (U^t)^2 + (-2\\phi r - r)(U^\\phi)^2 = 0$$\n",
    "$$ \\Rightarrow \\frac{\\phi}{r^2}(U^t)^2 + (U^\\phi)^2 = 0$$ "
   ]
  },
  {
   "cell_type": "markdown",
   "id": "f944b049",
   "metadata": {},
   "source": [
    "Note that there are two $\\phi$ values here, one that is the newtonian potential, one that is indicative of the coordinate. WHich is which should be obvious based on context.\n",
    "\n",
    "This actually gives us a way to relate A and B, funnily enough, as this is a geodesic *condition*. Only if A and B are related in a ceratin way does it work, and that way is:\n",
    "\n",
    "$$\\Rightarrow \\frac{-\\phi}{r^2}A^2 = B^2 $$"
   ]
  },
  {
   "cell_type": "markdown",
   "id": "47f7aae9",
   "metadata": {},
   "source": [
    "Remember, we also have the four-velocity property of \"self dot product must equal 1.\" Granted, this is on the metric, but that's not too hard to demonstrate:\n",
    "\n",
    "$$ (1+2\\phi) A^2 + r^2sin^2\\theta B^2 = 1 $$\n",
    "$$ \\Rightarrow (1+2\\phi) A^2 + r^2 B^2 = 1 $$\n",
    "$$ \\Rightarrow (1+2\\phi) A^2 - \\phi A^2 = 1 $$\n",
    "$$ \\Rightarrow A^2 = \\frac{1}{1+\\phi} $$\n",
    "$$ \\Rightarrow A = \\sqrt{\\frac{1}{1+\\phi}} $$\n",
    "\n",
    "And so \n",
    "\n",
    "$$ B^2 = \\frac{-\\phi}{r^2+\\phi r^2} $$\n",
    "$$ \\Rightarrow B = \\sqrt{\\frac{-\\phi}{r^2+\\phi r^2}} $$"
   ]
  },
  {
   "cell_type": "markdown",
   "id": "2f438390",
   "metadata": {},
   "source": [
    "This means we now have the four-velocity. Curiously all one has to do is add the square versions and then take the root. \n",
    "\n",
    "$$ U = \\sqrt{\\frac{r^2-\\phi}{r^2+\\phi r^2}} $$\n",
    "\n",
    "WHih at the very least we have nor poven the circular orbit is a geodesic upon this condition."
   ]
  },
  {
   "cell_type": "markdown",
   "id": "aab03c28",
   "metadata": {},
   "source": [
    "**PHASE 2: Period**\n",
    "\n",
    "We remember that we defined everything in terms of the proper time, that is, position is given by $(A\\tau,0,0,B\\tau)$. We actually now know exactly what A and B are. So let's find the period in both proper time and local time, and then compare them. At proper time 0 everything is zero, so all we have to do is solve for when $\\phi = 2\\pi$ to get the proper time. \n",
    "\n",
    "$$\\tau_{period} = 2\\pi / B = 2\\pi\\sqrt{\\frac{r^2+\\phi r^2}{-\\phi}}$$\n",
    "\n",
    "And the local time coordinate has $t=A\\tau$ so...\n",
    "\n",
    "$$ t_{period} = 2\\pi\\sqrt{\\frac{r^2+\\phi r^2}{-\\phi}}\\sqrt{\\frac{1}{1+\\phi}} $$\n",
    "$$  = 2\\pi r \\sqrt{\\frac{1+\\phi}{-\\phi}}\\sqrt{\\frac{1}{1+\\phi}} $$\n",
    "$$  = 2\\pi r \\sqrt{\\frac{1}{-\\phi}} $$"
   ]
  },
  {
   "cell_type": "markdown",
   "id": "3fec7470",
   "metadata": {},
   "source": [
    "**PHASE 3: Circumference**\n",
    "\n",
    "For this one we ignore time and proper time, the distance covered from the PoV of the \"star\" is simply $2\\pi r$. "
   ]
  },
  {
   "cell_type": "markdown",
   "id": "7363604e",
   "metadata": {},
   "source": [
    "**PHASE 4: Velocity**\n",
    "\n",
    "And now with an observed time and an observed distance, we divide distance by time. The $2\\pi r$ goes away, leaving a v of $\\sqrt{-\\phi}$. Which gives... \n",
    "\n",
    "$$ v = \\sqrt{\\frac{GM}{r}}$$\n",
    "\n",
    "Woo! SUCCESS!\n",
    "\n",
    "This method didn't exactly match [7](#7) but we think this is because a different sign convention was being used for the Schwartzchild metric. As of now, we have the correct answer and each step makes sense. "
   ]
  },
  {
   "cell_type": "markdown",
   "id": "df50096e",
   "metadata": {},
   "source": [
    "<a id='latex_pdf_output'></a>\n",
    "\n",
    "# Addendum: Output this notebook to $\\LaTeX$-formatted PDF file \\[Back to [top](#toc)\\]\n",
    "$$\\label{latex_pdf_output}$$\n",
    "\n",
    "The following code cell converts this Jupyter notebook into a proper, clickable $\\LaTeX$-formatted PDF file. After the cell is successfully run, the generated PDF may be found in the root NRPy+ tutorial directory, with filename\n",
    "[GR-08.pdf](GR-08.pdf) (Note that clicking on this link may not work; you may need to open the PDF file through another means.)\n",
    "\n",
    "**Important Note**: Make sure that the file name is right in all six locations, two here in the Markdown, four in the code below. \n",
    "\n",
    "* GR-08.pdf\n",
    "* GR-08.ipynb\n",
    "* GR-08.tex"
   ]
  },
  {
   "cell_type": "code",
   "execution_count": 1,
   "id": "abf583ef",
   "metadata": {
    "scrolled": false
   },
   "outputs": [
    {
     "name": "stdout",
     "output_type": "stream",
     "text": [
      "Created GR-08.tex, and compiled LaTeX file to PDF file GR-08.pdf\n"
     ]
    }
   ],
   "source": [
    "import cmdline_helper as cmd    # NRPy+: Multi-platform Python command-line interface\n",
    "cmd.output_Jupyter_notebook_to_LaTeXed_PDF(\"GR-08\")"
   ]
  },
  {
   "cell_type": "code",
   "execution_count": null,
   "id": "d0d0db4d",
   "metadata": {},
   "outputs": [],
   "source": []
  },
  {
   "cell_type": "code",
   "execution_count": null,
   "id": "41264965",
   "metadata": {},
   "outputs": [],
   "source": []
  }
 ],
 "metadata": {
  "kernelspec": {
   "display_name": "Python 3 (ipykernel)",
   "language": "python",
   "name": "python3"
  },
  "language_info": {
   "codemirror_mode": {
    "name": "ipython",
    "version": 3
   },
   "file_extension": ".py",
   "mimetype": "text/x-python",
   "name": "python",
   "nbconvert_exporter": "python",
   "pygments_lexer": "ipython3",
   "version": "3.10.4"
  }
 },
 "nbformat": 4,
 "nbformat_minor": 5
}
