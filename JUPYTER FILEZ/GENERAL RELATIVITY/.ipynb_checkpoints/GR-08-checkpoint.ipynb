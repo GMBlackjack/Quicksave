{
 "cells": [
  {
   "cell_type": "markdown",
   "id": "0c1bfe81",
   "metadata": {},
   "source": [
    "# General Relativity Problems Chapter 8: The Einstein Field Equations\n",
    "\n",
    "## Authors: Gabriel M Steward"
   ]
  },
  {
   "cell_type": "markdown",
   "id": "479540e4",
   "metadata": {},
   "source": [
    "https://github.com/zachetienne/nrpytutorial/blob/master/Tutorial-Template_Style_Guide.ipynb\n",
    "\n",
    "Link to the Style Guide. Not internal in case something breaks. "
   ]
  },
  {
   "cell_type": "markdown",
   "id": "10780970",
   "metadata": {},
   "source": [
    "### </list_source_code> NRPy+ Source Code for this module:\n",
    "None! \n",
    "\n",
    "## Introduction:\n",
    "Now maybe we can apply what we've learned to some actual physical problems. Maybe. One can hope.\n",
    "\n",
    "## </other>  Other (Optional): \n",
    "Placeholder. \n",
    "\n",
    "### Note on Notation:\n",
    "Any new notation will be brought up in the notebook when it becomes relevant. \n",
    "\n",
    "### Citations:\n",
    "\n",
    "<a id='1'></a>\n",
    "[1] https://en.wikipedia.org/wiki/Laplace_operator (Laplacian Operator $\\nabla^2$)\n",
    "\n",
    "<a id='2'></a>\n",
    "[2] https://www.vedantu.com/physics/derivation-of-orbital-velocity (Because we were beings stupid.)\n"
   ]
  },
  {
   "cell_type": "markdown",
   "id": "56664bc2",
   "metadata": {},
   "source": [
    "<a id='toc'></a>\n",
    "\n",
    "# Table of Contents\n",
    "$$\\label{toc}$$\n",
    "\n",
    "[Problem 1](#P1) (The Point Particle)\n",
    "\n",
    "[Problem 2](#P2) (Geometrized Values, Plank Units)\n",
    "\n",
    "[Problem 3](#P3) (Geometrized Units Calculations)\n",
    "\n",
    "[Problem 4](#P4) (Matrix Funtime)\n",
    "\n",
    "[Problem 5](#P5) (Gauge Invariance of R)\n",
    "\n",
    "[Problem 6](#P6) (Metric Salad)\n",
    "\n",
    "[Problem 7](#P7) (\"Tensor\" Trace Reverse)\n",
    "\n",
    "[Problem 8](#P8) (Meandering Snake of G in Terms of Bar-h (not h-bar), incomplete)\n",
    "\n",
    "[Problem 9](#P9) (The Lack of Double-t Derivatives)\n",
    "\n",
    "[Problem 10](#P10) (The Square Operator)\n",
    "\n",
    "[PDF](#latex_pdf_output) (turn this into a PDF)"
   ]
  },
  {
   "cell_type": "markdown",
   "id": "cd9e5529",
   "metadata": {},
   "source": [
    "<a id='P1'></a>\n",
    "\n",
    "# Problem 1 \\[Back to [top](#toc)\\]\n",
    "$$\\label{P1}$$\n",
    "\n",
    "*Show that 8.2 is a solution of 8.1 by the following method. Assume the point particle to be at the origin r=0 and to produce a spherically symmetric field. Then use Gauss' law on a sphere of radius r to conclude...*\n",
    "\n",
    "$$\\frac{d\\phi}{dr} = \\frac{Gm}{r^2}$$\n",
    "\n",
    "*Deduce 8.2 from this. Consider the behavior at infinity.*"
   ]
  },
  {
   "attachments": {
    "Screenshot%20from%202022-06-07%2009-48-22.png": {
     "image/png": "[encoded data removed]"
    }
   },
   "cell_type": "markdown",
   "id": "ae6fa675",
   "metadata": {},
   "source": [
    "Right well this seems obvious, but let's write it out in full, especially since we don't remember Gauss' law off the top of our head. The 4D version given by 4.57 is\n",
    "\n",
    "$$ \\int V^\\alpha_{,\\alpha} d^4x = \\oint V^\\alpha n_\\alpha d^3S $$\n",
    "\n",
    "Which can be reduced to three dimensions if needed without much issue. \n",
    "\n",
    "We snote that we start with 8.1, that is, $ \\nabla^2 \\phi = 4\\pi G \\rho $. \n",
    "\n",
    "ALWAYS REMMEBER: $\\nabla^2 = \\nabla \\cdot \\nabla$ is the LAPLACIAN. Do not think it's some kind of simple double derivative, there's a dot product hiding in there. ALSO ALSO it's not exactly normal for SPHERICAL COORDINATES. So let's go actually grab it and stop trying to be cute. [1](#1)\n",
    "\n",
    "![Screenshot%20from%202022-06-07%2009-48-22.png](attachment:Screenshot%20from%202022-06-07%2009-48-22.png)"
   ]
  },
  {
   "cell_type": "markdown",
   "id": "63452f74",
   "metadata": {},
   "source": [
    "(Note that they're using different notation for $\\nabla^2$) Now, since we're spherically symmetric, the angular terms all go away immediately, leaving us with just the radial terms. This makes an admittedly somewhat strange adjustment to 8.1\n",
    "\n",
    "$$ \\frac{1}{r^2} \\frac{\\partial}{\\partial r} (r^2 \\frac{\\partial \\phi}{\\partial r}) = 4\\pi G \\rho $$"
   ]
  },
  {
   "cell_type": "markdown",
   "id": "d9e554a2",
   "metadata": {},
   "source": [
    "Now one looks at this and says \"wait, that makes the left side zero\" which of course it does. The density $\\rho$ is not really something we have the benefit of using since we havev a point particle in effect and would end up with massive discontinuities. But the equation should still hold, so we can still do that thing where we integrate both sides over all space because hwy not.\n",
    "\n",
    "$$ \\int \\frac{1}{r^2} \\frac{\\partial}{\\partial r} (r^2 \\frac{\\partial \\phi}{\\partial r}) d^3x = \\int 4\\pi G \\rho d^3x $$"
   ]
  },
  {
   "cell_type": "markdown",
   "id": "b5ae8d5d",
   "metadata": {},
   "source": [
    "Now the nice thing about density integrated over all space is that it equals m, and everything else on the right side is a cosntant, so victory is sweet. \n",
    "\n",
    "$$ \\Rightarrow \\int \\frac{1}{r^2} \\frac{\\partial}{\\partial r} (r^2 \\frac{\\partial \\phi}{\\partial r}) d^3x = 4\\pi G m $$\n",
    "\n",
    "We tried to apply Gauss' law here, but we have to rememver that the fraction out front depends on r, so it's not that simple, as it's not inside a derivative. So we just do it the hard way, it seems. Fortunately due to spherical symmetry we do just *know* the angles have no influence on the integarl. \n",
    "\n",
    "$$ \\Rightarrow \\int \\frac{1}{r^2} \\frac{\\partial}{\\partial r} (r^2 \\frac{\\partial \\phi}{\\partial r}) r^2sin\\theta drd\\theta d\\phi = 4\\pi G m $$\n",
    "\n",
    "$$  \\Rightarrow 4 \\pi \\int \\frac{\\partial}{\\partial r} (r^2 \\frac{\\partial \\phi}{\\partial r}) dr = 4\\pi G m $$\n",
    "\n",
    "And THIS is just an integral of a derivative over the same variable, so it all pops out. \n",
    "\n",
    "$$ \\Rightarrow  4 \\pi r^2 \\frac{\\partial \\phi}{\\partial r} = 4\\pi G m $$\n",
    "\n",
    "$$ \\Rightarrow  \\frac{\\partial \\phi}{\\partial r} = \\frac{G m}{r^2} $$\n",
    "\n",
    "Which is what we were looking for. We express annoyance, it was much easier to solve this once we stopped trying to use Gauss' law. "
   ]
  },
  {
   "cell_type": "markdown",
   "id": "a1c4b5a0",
   "metadata": {},
   "source": [
    "Anyway take the antiderivative of both sides, the result is obviuos. \n",
    "\n",
    "$$ \\Rightarrow \\phi = -\\frac{G m}{r} $$"
   ]
  },
  {
   "cell_type": "markdown",
   "id": "29649771",
   "metadata": {},
   "source": [
    "The behavior at infinity is a rather quick drop to near-zero that never quite reaches it. Which from what we know is how gravity works. "
   ]
  },
  {
   "cell_type": "markdown",
   "id": "5654b2b2",
   "metadata": {},
   "source": [
    "<a id='P2'></a>\n",
    "\n",
    "# Problem 2 \\[Back to [top](#toc)\\]\n",
    "$$\\label{P2}$$\n",
    "\n",
    "*a) Derive the following useful conversion factors from the SI values of G and c:*\n",
    "\n",
    "$$ G/c^2 = 7.425e-28  m/kg = 1 $$\n",
    "$$ c^5/G = 3.629e52 J/s = 1 $$"
   ]
  },
  {
   "cell_type": "markdown",
   "id": "1897f643",
   "metadata": {},
   "source": [
    "Just... take the SI units and divide them. The result comes out trivially. \n",
    "\n",
    "The units are $\\frac{m^3}{kg s^2} \\frac{s^2}{m^2} = \\frac{m}{kg}$\n",
    "\n",
    "And for the second $\\frac{m^5}{s^5} \\frac{kg s^2}{m^3} = \\frac{kg m^2}{s^3} = \\frac{J}{s} $"
   ]
  },
  {
   "cell_type": "markdown",
   "id": "f85f2367",
   "metadata": {},
   "source": [
    "*b) Derive the values in geometerized units of the constants in table 8.1 from their given values in SI units.*\n",
    "\n",
    "Well, at least I can know the answers this time. Even if it is a bit bleh. \n",
    "\n",
    "For planck's constant the conversion factor is $G/c^3$ which produces a s/kg and has a value of 2.477e-36. Multiplied by the SI for planck's constant (or well the modified constant, such is the way with $\\hbar$'s bar.) is 2.613e-70 $m^2$. The book says 2.612. We say close enough.\n",
    "\n",
    "For the masses, the $G/c^2$ conversion given above works. \n",
    "\n",
    "Luminosity is just $c^5/G$, making all the others trivial, only $\\hbar$ needed any actual new work. Remember to actually invert it though. "
   ]
  },
  {
   "cell_type": "markdown",
   "id": "cb368615",
   "metadata": {},
   "source": [
    "*c) Express the following quantities in geometerized units*\n",
    "\n",
    "*i) A density (typical of neutroan stars) $\\rho$ = 1e17 kg/$m^3$*"
   ]
  },
  {
   "cell_type": "markdown",
   "id": "43a01346",
   "metadata": {},
   "source": [
    "This can be multiplied by G directly to get something in 1/$m^2$, specifically 6,674,000 1/$m^2$"
   ]
  },
  {
   "cell_type": "markdown",
   "id": "c80605c1",
   "metadata": {},
   "source": [
    "*ii) a pressure (also typical of neutron stars) p = 1e33 kg/m$s^2$*\n",
    "\n",
    "This one evaluates in the exact same way, multiply by G, though the results are in 1/$s^2$ units instead. This is 6.674e22 1\\$s^2$, otherwise known as ABSURD. "
   ]
  },
  {
   "cell_type": "markdown",
   "id": "1e1de8be",
   "metadata": {},
   "source": [
    "*iii) The acceleration of gravity on Earth's surface g=9.8 m/$s^2$*\n",
    "\n",
    "Apply c by itself. ...Feels like we've already done this. 3.269e-8 1/s"
   ]
  },
  {
   "cell_type": "markdown",
   "id": "cb77b0fe",
   "metadata": {},
   "source": [
    "*iv) The luminosity of a supernova, L=1e41 J/s*\n",
    "\n",
    "We have the direct conversion $c^5/G$ worked out for this one already. though we do have to \"invert\" it to actually apply it. 2.756e12. Unitless. "
   ]
  },
  {
   "cell_type": "markdown",
   "id": "983d975b",
   "metadata": {},
   "source": [
    "*d) Three dimensioned constants in nature are regarded as fundamental: c, G, and $\\hbar$. With c=G=1, $\\hbar$ has units $m^2$, so $\\hbar^{1/2}$ defines a fundamental unit of length called the Planck length. From table 8.1, we calculate $\\hbar^{1/2}$ = 1.616e-35. Since this number invovles the fundamental constants of relativity, gravitaiton, and quantum theory, many physicists feel that this length will play an important role in quantum gravity. Express this length in terms of the SI values of c, G, and $\\hbar$. Similarly, use the conservation factors to calculate the Planck mass and Planck time, fundamental numbers formed from c, G, and $\\hbar$ that have the units of mass and time respectively. Compare these fundamental numbers with characteristic masses, lengths, and time scales that are known from elementary particle theory.*"
   ]
  },
  {
   "cell_type": "markdown",
   "id": "ceadf55e",
   "metadata": {},
   "source": [
    "Well we ultimately arrived at the altered value of $\\hbar$ with G/$c^3$. So we can declare the value here to be\n",
    "\n",
    "$$ \\sqrt{\\frac{G\\hbar}{c^3}} $$. \n",
    "\n",
    "now, going from m to s involves a dividing by c. This becomes:\n",
    "\n",
    "$$ \\sqrt{\\frac{G\\hbar}{c^5}} $$. \n",
    "\n",
    "now the MASS... we need to get a kg out, which implies we need to divide by $G$, which changes our units results from simply m to $kgs^2/m^2$. So we need to multiply again by $c^2$. Factoring this into the square root provides:\n",
    "\n",
    "$$ \\sqrt{\\frac{\\hbar c}{G}} $$. \n",
    "\n",
    "Which in fact match a quick internet search. "
   ]
  },
  {
   "cell_type": "markdown",
   "id": "25dbc1e0",
   "metadata": {},
   "source": [
    "<a id='P3'></a>\n",
    "\n",
    "# Problem 3 \\[Back to [top](#toc)\\]\n",
    "$$\\label{P3}$$\n",
    "\n",
    "*a) Calculate in geometrized units:*\n",
    "\n",
    "*i) The Newtonian potential $\\phi$ of the Sun at the Sun's surface, radius 6.960e8 m.*"
   ]
  },
  {
   "cell_type": "markdown",
   "id": "52ae9305",
   "metadata": {},
   "source": [
    "$\\phi = -\\frac{Gm}{r}$\n",
    "\n",
    "Now the final units of this is $m^2/s^2$, which can be reduced by the conversion factor $1/c^2$ to a completely dimensionless quantity. We do need the solar mass though, 1.989e30 kg. $-Gm/rc^2 $ is 2.122e-6. (unitless)\n",
    "\n",
    "To calculate this directly from an equation m/r, we'd use the conversion factor for mass, G/$c^2$. This is effectively the exact same calculation."
   ]
  },
  {
   "cell_type": "markdown",
   "id": "58748a2a",
   "metadata": {},
   "source": [
    "*ii) The Newtonian potential $\\phi$ of the Sun at the radius of Earth's orbit, r=1AU = 1.496e11 m*"
   ]
  },
  {
   "cell_type": "markdown",
   "id": "aef26ac1",
   "metadata": {},
   "source": [
    "Simlar calculation to above, 9.872e-9, unitless."
   ]
  },
  {
   "cell_type": "markdown",
   "id": "7cd302e5",
   "metadata": {},
   "source": [
    "*iii) The Newtonian potential $\\phi$ of Earth at its surface, radius 6.371e6 m*"
   ]
  },
  {
   "cell_type": "markdown",
   "id": "7d59ba7b",
   "metadata": {},
   "source": [
    "Earth's mass is 5.972e24 kg. By the same calculation we have...\n",
    "\n",
    "6.960e-10, unitless. "
   ]
  },
  {
   "cell_type": "markdown",
   "id": "9458b571",
   "metadata": {},
   "source": [
    "*iv) The velocity of Earth in its orbit around the sun.*\n",
    "\n",
    "From memory we know this is about 30km/s or 30,000 m/s, which when divided by lightspeed is 0.0001. "
   ]
  },
  {
   "cell_type": "markdown",
   "id": "25e95d08",
   "metadata": {},
   "source": [
    "*b) You should have found that your answer to ii) was larger than iii). Why, then, do we on Earth feel Earth's gravitational pull much more than the Sun's?*"
   ]
  },
  {
   "cell_type": "markdown",
   "id": "da600516",
   "metadata": {},
   "source": [
    "REFERENCE FRAMES! We do actually move with the sun's gravity--because we keep moving in the same path the Earth does around the Sun! It just pulls on us at more-or-less the exact same strength it pulls on Earth everywhere, so there's no distinct difference we notice from its presence or if it was absent. We are free-falling around the Sun, but there's nothing to stop us and thus no force we feel.\n",
    "\n",
    "Earth's ground, meanwhile, is actively opposing our freefall, and thus we feel it. "
   ]
  },
  {
   "cell_type": "markdown",
   "id": "19bc1a41",
   "metadata": {},
   "source": [
    "*c) Show that a circular orbit around a body of mass M has an orbital velocity, in Newtonian theroy, of $\\textbf{v}^2 = -\\phi$, where $\\phi$ is the Newtonian potential.*"
   ]
  },
  {
   "cell_type": "markdown",
   "id": "76337e26",
   "metadata": {},
   "source": [
    "First of all our speed for earth indicates we had an estimate here... or that Earth's not on a circular orbit, or that other things influence it, whatever. Anyway, let's derive this rule for circular orbits in general. In a circular orbit, $\\phi$ is constant in the radially inward direction. \n",
    "\n",
    "Consider the polar geodesic of a circle, which we can reprsent by $(cos\\theta, sin\\theta)$, with $\\theta$ being our parameter. The force always pulls toward the center, that is, precisely $(-\\phi cos\\theta, -\\phi sin\\theta)$ Assuming clockwise orbit, the velocity vector in a circular orbit always points at a 90 degree angle, or $(vsin\\theta, -vcos\\theta)$\n",
    "\n",
    "We need to correlate these two things, somehow, but right now they could be anything. \n",
    "\n",
    "F magnitude is equal to the change in momentum magnitude, which is $m\\delta v.$\n",
    "\n",
    "So we take the derivative of v and find the magnitude. The derivative is $(vcos\\theta, vsin\\theta)$, and the magnitude of this is just flat-out v. F=mv...? That's not right...\n",
    "\n",
    "Feeling stupid we went and looked up the derivation for this ELEMENTARY PROBLEM. \n",
    "\n",
    "...Yes we were being stupid, we were trying to use the information we had in this chapter and not just use the math of circular motion which would make everything so much easier. [2](#2)\n",
    "\n",
    "Anyway jsut correlate the known gravitaitonal force and centripedal acceleration GMm/$r^2$ = m$v^2$/r and get the wonderous result of $v = \\sqrt{\\frac{GM}{r}}$ which is exactly what we sought. "
   ]
  },
  {
   "cell_type": "markdown",
   "id": "f1a7ac1f",
   "metadata": {},
   "source": [
    "<a id='P4'></a>\n",
    "\n",
    "# Problem 4 \\[Back to [top](#toc)\\]\n",
    "$$\\label{P4}$$\n",
    "\n",
    "*a) Let A be an nxn matrix whose entries are all very small, $|A_{ij} << 1/n|$, and let I be the unit matrix. Show that*\n",
    "\n",
    "$$ (I+A)^{-1} = I - A + A^2 - A^3 + A^4 ... $$\n",
    "\n",
    "*by proving that i) the series on the right hand converges absolutely for each of the $n^2$ entries, and ii) (I+A) times the right-hand side equals I.*"
   ]
  },
  {
   "cell_type": "markdown",
   "id": "f3959cb1",
   "metadata": {},
   "source": [
    "The absolute convergence argument is sensible. We oscillate up and down, but every time add a smaller and smaller magnitude number. (we're using much less than 1/n, not 1, which is what makes this true. Every multiplication also sees the addition of n of those multiplications, but if everythign is less than 1/n, this is always a decrease.) Now what it converges TO is heavily dependent on what exactly the terms ARE. Perhaps we can set up an iteration to find out exactly what... yeah no that infinite sum kept increasing in dimensionality to absurd degrees. But it does HAVE to converge since the entries are all very small. \n",
    "\n",
    "Anyway with the small numbers approximation multiplying I+A times the right side reduces to (I+A)(I-A) = I + A - A + smol. Small terms go away, A cancels, I remains. \n",
    "\n",
    "So this is at least accurate for very small entries, yes. However, the << 1/n is a definite requirement, otherwise the matrices can and will grow in size. "
   ]
  },
  {
   "cell_type": "markdown",
   "id": "a079238f",
   "metadata": {},
   "source": [
    "*b) Use a) to establish 8.21 from 8.20*"
   ]
  },
  {
   "cell_type": "markdown",
   "id": "5e515189",
   "metadata": {},
   "source": [
    "Oh this is so much easier than it seeemd. The inverse of I+A is just I-A. Trivially true for 8.21 and 8.20, which are\n",
    "\n",
    "8.20: $ \\Lambda^{\\alpha'}_\\beta = \\delta^\\alpha_\\beta + \\xi^\\alpha_{,\\beta} $\n",
    "\n",
    "8.21: $ \\Lambda^\\alpha_{\\beta'} = \\delta^\\alpha_\\beta - \\xi^\\alpha_{,\\beta} $"
   ]
  },
  {
   "cell_type": "markdown",
   "id": "2e1c0030",
   "metadata": {},
   "source": [
    "This naturally relies on the matrices being inverses of each other to actually get this relation. Clearly they are, but why? The indeces don't exactly match up quite right... well, except adjusting the indeces doesn't matter as all of them are summed over equally so we hit all combinations without issue no matter what. So VICTORY!"
   ]
  },
  {
   "cell_type": "markdown",
   "id": "56bfaac4",
   "metadata": {},
   "source": [
    "<a id='P5'></a>\n",
    "\n",
    "# Problem 5 \\[Back to [top](#toc)\\]\n",
    "$$\\label{P5}$$\n",
    "\n",
    "*a) Show that if $h_{\\alpha\\beta} = \\xi_{\\alpha,\\beta} + \\xi_{\\beta,\\alpha}$, then 8.25 vanishes.*"
   ]
  },
  {
   "cell_type": "markdown",
   "id": "f93ce32b",
   "metadata": {},
   "source": [
    "Let's go ahead and write this simple little relation out. \n",
    "\n",
    "$$ R_{\\alpha\\beta\\mu\\nu} = \\frac12 (h_{\\alpha\\nu,\\beta\\mu} + h_{\\beta\\mu,\\alpha\\nu} - h_{\\alpha\\mu,\\beta\\nu} - h_{\\beta\\nu,\\alpha\\mu}) $$\n",
    "\n",
    "Which we substitute in the above relation:\n",
    "\n",
    "$$ R_{\\alpha\\beta\\mu\\nu} = \\frac12 (\\xi_{\\alpha,\\nu\\beta\\mu} + \\xi_{\\beta,\\mu\\alpha\\nu} - \\xi_{\\alpha,\\mu\\beta\\nu} - \\xi_{\\beta,\\nu\\alpha\\mu} + \\xi_{\\nu,\\alpha\\beta\\mu} + \\xi_{\\mu,\\beta\\alpha\\nu} - \\xi_{\\mu,\\alpha\\beta\\nu} - \\xi_{\\nu,\\beta\\alpha\\mu}) $$"
   ]
  },
  {
   "cell_type": "markdown",
   "id": "3968a97a",
   "metadata": {},
   "source": [
    "Now obviously all of those terms just up and vanish. Ka-poof. No more. "
   ]
  },
  {
   "cell_type": "markdown",
   "id": "eec3a1e9",
   "metadata": {},
   "source": [
    "*b) Argue from this that 8.25 is gauge invariant.*"
   ]
  },
  {
   "cell_type": "markdown",
   "id": "ddbb9b47",
   "metadata": {},
   "source": [
    "A gague transformation transforms things by 8.24, which is to say $h_{\\alpha\\beta} \\rightarrow h_{\\alpha\\beta} - \\xi_{\\alpha,\\beta} - \\xi_{\\beta,\\alpha}$. The transformation we're doing above indicates that we're changing h to 0. \n",
    "\n",
    "But perhaps more illustratively, the importance is that 8.24 indicates that adjusting h-metric by ANY valid small gague transformation has those gague segments cancel with each other, thereby unchanging R. "
   ]
  },
  {
   "cell_type": "markdown",
   "id": "f2581d85",
   "metadata": {},
   "source": [
    "*c) Relate this to **Problem 7-10**.*"
   ]
  },
  {
   "cell_type": "markdown",
   "id": "06ac707a",
   "metadata": {},
   "source": [
    "**KILLING** fields are given by $\\nabla_\\alpha \\xi_\\beta + \\nabla_\\beta \\xi_\\alpha = 0$."
   ]
  },
  {
   "cell_type": "markdown",
   "id": "1506fb6c",
   "metadata": {},
   "source": [
    "This notably indicates that a special case of vector we can choose to increase the gague by are **KILLING** fields, and that specifically **KILLING** fields will induce NO change, as we are in nearly flat space so covariant derivatives are just derivatives. \n",
    "\n",
    "Thus **KILLING** vectors are likely a bad choice for an actual gague since htey don't even change the h-metric. However, perhaps this property can be *useful* in some cases. We shall see. "
   ]
  },
  {
   "cell_type": "markdown",
   "id": "c9892706",
   "metadata": {},
   "source": [
    "<a id='P6'></a>\n",
    "\n",
    "# Problem 6 \\[Back to [top](#toc)\\]\n",
    "$$\\label{P6}$$\n",
    "\n",
    "*Weak-field theory assumes $g_{\\mu\\nu} = \\eta_{\\mu\\nu} + h_{\\mu\\nu}$, with $|h_{\\mu\\nu}|<<1.$ Similarly $g^{\\mu\\nu}$ must be close to $\\eta^{\\mu\\nu}$, say $g^{\\mu\\nu} = \\eta^{\\mu\\nu} + \\delta g^{\\mu\\nu}.$ Show from **Problem 4a** that $\\delta g^{\\mu\\nu} = -h^{\\mu\\nu} + O(h^2).$ Thus, $\\eta^{\\mu\\alpha}\\eta^{\\nu\\beta}h_{\\alpha\\beta}$ is **not** the deviation of $g^{\\mu\\nu}$ from flatness.*"
   ]
  },
  {
   "cell_type": "markdown",
   "id": "224b0f2f",
   "metadata": {},
   "source": [
    "**Problem 4a** essentially gives us for small things that the inverse of I+A is I-A. Naturally we could try to apply us directly... but sadly $\\eta$ is not actually I, given its pesky -1 term at the start of the diagonal. \n",
    "\n",
    "However, $\\eta^2$ is the identity, so let's play with that. A matrix squared should still be the inverse to the inverse squared, so \n",
    "\n",
    "$$ (I + 2\\eta_{\\mu\\nu}h_{\\mu\\nu} + smol)^{-1}  = I + 2\\eta^{\\mu\\nu}\\delta g^{\\mu\\nu} + smol $$\n",
    "\n",
    "Now we can easily identify our A component being $2\\eta_{\\mu\\nu}h_{\\mu\\nu}$ in this relation. Note that $\\eta$ is its own inverse, so h and $\\delta g$ relate directly to each other. Since the relation has to be negative...\n",
    "\n",
    "$$ \\delta g^{\\mu\\nu} = -h_{\\mu\\nu} $$\n",
    "\n",
    "Now we might be concerned that the indeces don't match. But that's the thing, to raise or lower these indeces we apply $\\eta$ twice. Which. Which is just I, no matter how the multiplication is carried out. So...\n",
    "\n",
    "$$ \\delta g^{\\mu\\nu} = -h^{\\mu\\nu} $$\n"
   ]
  },
  {
   "cell_type": "markdown",
   "id": "19eaa966",
   "metadata": {},
   "source": [
    "Which yes means that h does not do the normal transforming thing, what a shame. "
   ]
  },
  {
   "cell_type": "markdown",
   "id": "2ff8d433",
   "metadata": {},
   "source": [
    "<a id='P7'></a>\n",
    "\n",
    "# Problem 7 \\[Back to [top](#toc)\\]\n",
    "$$\\label{P7}$$\n",
    "\n",
    "*a) Prove that $\\bar{h}^\\alpha_\\alpha = -h^\\alpha_\\alpha$*"
   ]
  },
  {
   "cell_type": "markdown",
   "id": "ee5ef241",
   "metadata": {},
   "source": [
    "So basically the trace of the \"trace reverse\" is negative that of the normal h-metric. \n",
    "\n",
    "Start with 8.29 written out:\n",
    "\n",
    "$$ \\bar{h}^{\\alpha\\beta} = h^{\\alpha\\beta} - \\frac12 \\eta^{\\alpha\\beta} h$$\n",
    "\n",
    "Apply an index lowerer to everything.\n",
    "\n",
    "$$ \\Rightarrow \\bar{h}^{\\alpha}_\\beta = h^{\\alpha}_\\beta - \\frac12 \\eta^\\alpha_\\beta h$$\n",
    "\n",
    "$$ \\Rightarrow \\bar{h}^{\\alpha}_\\beta = h^{\\alpha}_\\beta - \\frac12 \\delta^\\alpha_\\beta h$$\n",
    "\n",
    "Now since h is just a number, now we find the trace of everything by setting all betas to alpha. For the identity, this produces 4. \n",
    "\n",
    "$$ \\Rightarrow \\bar{h}^{\\alpha}_\\alpha = h^{\\alpha}_\\alpha - \\frac12 4 h$$\n",
    "\n",
    "$$ \\Rightarrow \\bar{h}^{\\alpha}_\\alpha = h^{\\alpha}_\\alpha - 2 h$$\n",
    "\n",
    "$$ \\Rightarrow \\bar{h}^{\\alpha}_\\alpha = - h$$\n",
    "\n",
    "We originally made a mistake by trying to expand h into components--if we do that, we need to give it a different index than the others since the sum is carried out separately. "
   ]
  },
  {
   "cell_type": "markdown",
   "id": "f627f935",
   "metadata": {},
   "source": [
    "*b) Prove 8.31*"
   ]
  },
  {
   "cell_type": "markdown",
   "id": "309910bd",
   "metadata": {},
   "source": [
    "This just states that the trace inverse can be converted back to the original trace. WHich we can confirm with the exact same logic as above, just swap the bars. Start with the trace of h being $-\\bar h$ and then work backwards up to the relation we originally started with, just with the bars reversed. MIRRORS. "
   ]
  },
  {
   "cell_type": "markdown",
   "id": "bbc55833",
   "metadata": {},
   "source": [
    "<a id='P8'></a>\n",
    "\n",
    "# Problem 8 \\[Back to [top](#toc)\\]\n",
    "$$\\label{P8}$$\n",
    "\n",
    "*Derive 8.32 in the following manner*\n",
    "\n",
    "*a) Show that $R^\\alpha_{\\beta\\mu\\nu} = \\eta^{\\alpha\\sigma} R_{\\sigma\\beta\\mu\\nu} + O(h^2_{\\alpha\\beta})$*"
   ]
  },
  {
   "cell_type": "markdown",
   "id": "76e78477",
   "metadata": {},
   "source": [
    "Our immediate concern is as to why this isn't a direct relation. Does the raising operator not always raise directly? Ah, but that's the trick: the relation is with *g*, not $\\eta$, because we are in *slightly curved* space. Thus, the distinction becomes based on $g_{\\alpha\\beta} = \\eta_{\\alpha\\beta} + h_{\\alpha\\beta}$. That said, we need to transform this into the reverse, which **Problem 6** helps with, providing $g^{\\alpha\\beta} = \\eta^{\\alpha\\beta} - h^{\\alpha\\beta}$"
   ]
  },
  {
   "cell_type": "markdown",
   "id": "5a12a2b4",
   "metadata": {},
   "source": [
    "But isnt that just a single-h term? Ah, but we know from 8.25 that every term in $R_{\\alpha\\beta\\mu\\nu}$ is composed of an h-term, so everything becomes second order and poofs. So the eta transformation is close enough. Proven!"
   ]
  },
  {
   "cell_type": "markdown",
   "id": "e079de88",
   "metadata": {},
   "source": [
    "*b) From this calculate $R_{\\alpha\\beta}$ to first order in $h_{\\mu\\nu}$*"
   ]
  },
  {
   "cell_type": "markdown",
   "id": "492e0fcc",
   "metadata": {},
   "source": [
    "Which means we ignore the poofed term in part a). The definition for the Ricci Tensor is \n",
    "\n",
    "$$ R_{\\alpha\\beta} = R^{\\mu}_{\\alpha\\mu\\beta}$$\n",
    "\n",
    "Which is to say, with our relation...\n",
    "\n",
    "$$ R_{\\alpha\\beta} = \\eta^{\\mu\\sigma} R_{\\sigma\\alpha\\mu\\beta}$$\n",
    "\n",
    "But eta only exists when $\\mu=\\sigma$ so they have to be the same. \n",
    "\n",
    "$$ R_{\\alpha\\beta} = \\eta^{\\mu\\mu}R_{\\mu\\alpha\\mu\\beta}$$\n",
    "\n",
    "Which we could spread out even further to\n",
    "\n",
    "$$ R_{\\alpha\\beta} = -R_{t\\alpha t\\beta}+R_{x\\alpha x\\beta}+R_{y\\alpha y\\beta}+R_{z\\alpha z\\beta}$$"
   ]
  },
  {
   "cell_type": "markdown",
   "id": "e90592db",
   "metadata": {},
   "source": [
    "Which dissasembles into a bunch of h terms. They don't seem to cancel any further. "
   ]
  },
  {
   "cell_type": "markdown",
   "id": "0a11c745",
   "metadata": {},
   "source": [
    "*c) Show that $g_{\\alpha\\beta}R = \\eta_{\\alpha\\beta} \\eta^{\\mu\\nu} R_{\\mu\\nu} + O(h^2_{\\alpha\\beta})$*"
   ]
  },
  {
   "cell_type": "markdown",
   "id": "bc88f59d",
   "metadata": {},
   "source": [
    "Right so start with the Ricci scalar and E X P A N D\n",
    "\n",
    "$$ g_{\\alpha\\beta}R = \\eta_{\\alpha\\beta}R + h_{\\alpha\\beta}R $$\n",
    "$$ = \\eta_{\\alpha\\beta}g^{\\mu\\nu}R_{\\mu\\nu} + h_{\\alpha\\beta}g^{\\mu\\nu}R_{\\mu\\nu} $$\n",
    "$$ = \\eta_{\\alpha\\beta}\\eta^{\\mu\\nu}R_{\\mu\\nu} + h_{\\alpha\\beta}\\eta^{\\mu\\nu}R_{\\mu\\nu} + \\eta_{\\alpha\\beta}h^{\\mu\\nu}R_{\\mu\\nu} + h_{\\alpha\\beta}h^{\\mu\\nu}R_{\\mu\\nu} $$"
   ]
  },
  {
   "cell_type": "markdown",
   "id": "c9bc5aa1",
   "metadata": {},
   "source": [
    "We showed in part b) that the Ricci tensor is a linear combination of R-tensors, meaning all of those terms after the first one are composed of $h^2$ terms, or $h^3$ in the case of the last one. Therefore, we compress to:\n",
    "\n",
    "$$ g_{\\alpha\\beta}R =  \\eta_{\\alpha\\beta}\\eta^{\\mu\\nu}R_{\\mu\\nu} $$\n",
    "\n",
    "Which is what we sought."
   ]
  },
  {
   "cell_type": "markdown",
   "id": "21455b57",
   "metadata": {},
   "source": [
    "*d) From this conclude that $G_{\\alpha\\beta} = R_{\\alpha\\beta} - \\frac12 \\eta_{\\alpha\\beta}R$. i.e., that the linearzed $G_{\\alpha\\beta}$ is the **trace reverse** of the linearized $R_{\\alpha\\beta}$, in the sense of 8.29 ((See **Problem 7**))*"
   ]
  },
  {
   "cell_type": "markdown",
   "id": "72534869",
   "metadata": {},
   "source": [
    "Our rampage of quick rapid solutions slows to a crawl here and we wonder hmm. How do we relate G to R? G is more closely related to T, and we are not aware of a translation from T to R. \n",
    "\n",
    "Page 185 points out (though not obviously) that the following is also true \n",
    "\n",
    "$$ G^{\\alpha\\beta} = R^{\\alpha\\beta} - \\frac12 g^{\\alpha\\beta}R $$\n",
    "\n",
    "Now we already know that if we expand g, the h-metric term goes away no matter whether it's up or down, so we're left with\n",
    "\n",
    "$$ G^{\\alpha\\beta} = R^{\\alpha\\beta} - \\frac12 \\eta^{\\alpha\\beta}R $$\n",
    "\n",
    "And now everything can just be flipped down through metric applications.\n",
    "\n",
    "$$ G_{\\alpha\\beta} = R_{\\alpha\\beta} - \\frac12 \\eta_{\\alpha\\beta}R $$"
   ]
  },
  {
   "cell_type": "markdown",
   "id": "a4fb58ca",
   "metadata": {},
   "source": [
    "The ultimate goal, though, is to prove 8.32. It makes us think we should have worked out b) further somehow. That said, this is as far as the problem has asked us to go, so... let's move on?"
   ]
  },
  {
   "cell_type": "markdown",
   "id": "f4405d16",
   "metadata": {},
   "source": [
    "*e) Use this to simplify somewhat the calculation of 8.32*\n",
    "\n",
    "oh look surprise there was another part we hadn't written down how silly of us. "
   ]
  },
  {
   "cell_type": "markdown",
   "id": "3a2f4358",
   "metadata": {},
   "source": [
    "$$ G_{\\alpha\\beta} = R_{\\alpha\\beta} - \\frac12 \\eta_{\\alpha\\beta}R $$\n",
    "\n",
    "This means we can make THIS relation.\n",
    "\n",
    "$$ = \\bar{R}_{\\alpha\\beta} $$"
   ]
  },
  {
   "cell_type": "markdown",
   "id": "a17951d1",
   "metadata": {},
   "source": [
    "Now part b) told us\n",
    "\n",
    "$$ R_{\\alpha\\beta} = -R_{t\\alpha t\\beta}+R_{x\\alpha x\\beta}+R_{y\\alpha y\\beta}+R_{z\\alpha z\\beta}$$\n",
    "\n",
    "So the problem becomes how exactly do we \"bar\" this. \n",
    "\n",
    "Examining the formula, the spatial coordinate-based R terms transform directly, so they can be barred. However, the SPATIAL component... gets a FLIPPED SIGN, since R = $\\eta^{\\mu\\nu}R_{\\mu\\nu}$. That $\\eta$ is just 1 for the spatial, but -1 for the temporal. Which means...\n",
    "\n",
    "$$ \\bar{R}_{\\alpha\\beta} = \\bar{R}_{t\\alpha t\\beta}+\\bar{R}_{x\\alpha x\\beta}+\\bar{R}_{y\\alpha y\\beta}+\\bar{R}_{z\\alpha z\\beta}$$"
   ]
  },
  {
   "cell_type": "markdown",
   "id": "95840e47",
   "metadata": {},
   "source": [
    "Of course the question now is how does \"barring\" the R-tensor itself change the h-values within? This... well this should be fun to say the least. ....confuzzlebuzzle twuzzle. "
   ]
  },
  {
   "cell_type": "markdown",
   "id": "16bc1e4d",
   "metadata": {},
   "source": [
    "Now that we're actually calculating, that last term only exists when the indeces match, giving us:\n",
    "\n",
    "$$ = R_{\\alpha\\beta} - \\frac12 \\eta_{\\alpha\\beta}\\eta^{\\mu\\mu}R_{\\mu\\mu} $$\n",
    "\n",
    "Might as well stubstitute in the expression for the Ricci tensor. \n",
    "\n",
    "$$ = \\eta^{\\iota\\iota}R_{\\iota\\alpha\\iota\\beta} - \\frac12 \\eta_{\\alpha\\beta}\\eta^{\\mu\\mu}\\eta^{\\iota\\iota}R_{\\iota\\mu\\iota\\mu}$$\n",
    "\n",
    "Let's go ahead and split up the R-terms into their h-components. It'll be a mess, but it'll be a fun mess.\n",
    "\n",
    "$$ = \\frac12 \\left( \\eta^{\\iota\\iota}[h_{\\iota\\beta,\\alpha\\iota} + h_{\\alpha\\iota,\\iota\\beta} - h_{\\iota\\iota,\\alpha\\beta} - h_{\\alpha\\beta,\\iota\\iota}] - \\frac12 \\eta_{\\alpha\\beta}\\eta^{\\mu\\mu}\\eta^{\\iota\\iota}[h_{\\iota\\mu,\\mu\\iota} + h_{\\mu\\iota,\\iota\\mu} - h_{\\iota\\iota,\\mu\\mu} - h_{\\mu\\mu,\\iota\\iota}] \\right)$$\n",
    "\n",
    "Yeah okay this won't resolve, come back later. "
   ]
  },
  {
   "cell_type": "markdown",
   "id": "615a3484",
   "metadata": {},
   "source": [
    "<a id='P9'></a>\n",
    "\n",
    "# Problem 9 \\[Back to [top](#toc)\\]\n",
    "$$\\label{P9}$$\n",
    "\n",
    "*a) Show from 8.32 that $G_{00}$ and $G_{0i}$ do not contain second time derivatievs of any $\\bar{h}_{\\alpha\\beta}$. Thus only the **six** equations $G_{ij} = 8\\pi T_{ij}$ are truly dynamical equations. Relate this to the discussion at the end of **Section 8.2**. The equations $G_{0\\alpha}=8\\pi T_{0\\alpha}$ are called **constraint** equations becauset hey are relations among the initial data for the other six equations, which prevent us from choosing all these data freely.*"
   ]
  },
  {
   "cell_type": "markdown",
   "id": "2760c82e",
   "metadata": {},
   "source": [
    "In full, 8.32 is\n",
    "\n",
    "$$ G_{\\alpha\\beta} = -\\frac12 \\left[ \\bar{h}_{\\alpha\\beta,\\mu}^{,\\mu} + \\eta_{\\alpha\\beta}\\bar{h}_{\\mu\\nu}^{,\\mu\\nu} - \\bar{h}_{\\alpha\\mu,\\beta}^{,\\mu} - \\bar{h}_{\\beta\\mu,\\alpha}^{,\\mu} + smol \\right] $$"
   ]
  },
  {
   "cell_type": "markdown",
   "id": "67166d70",
   "metadata": {},
   "source": [
    "Let's demonstrate what happens when $\\alpha\\beta=0$\n",
    "\n",
    "$$ G_{00} = -\\frac12 \\left[ \\bar{h}_{00,\\mu}^{,\\mu} + \\eta_{00}\\bar{h}_{\\mu\\nu}^{,\\mu\\nu} - \\bar{h}_{0\\mu,0}^{,\\mu} - \\bar{h}_{0\\mu,0}^{,\\mu} \\right] $$\n",
    "$$ G_{00} = -\\frac12 \\left[ \\bar{h}_{00,\\mu}^{,\\mu} - \\bar{h}_{\\mu\\nu}^{,\\mu\\nu} - \\bar{h}_{0\\mu,0}^{,\\mu} - \\bar{h}_{0\\mu,0}^{,\\mu} \\right] $$"
   ]
  },
  {
   "cell_type": "markdown",
   "id": "ff7456df",
   "metadata": {},
   "source": [
    "Now each of these terms will produce exactly ONE double-time derivative. ...huh it looks like one remains at the end and they don't all cancel. BUT, we have to remember that there's an insidious little trick with up index derivatives, $f^{,\\mu} = \\eta^{\\mu\\nu}f_{,\\nu}$. Essentially, when that strange index up there is taken down, the sign will change since we want double-t-derivative, so the result is -1. This becomes:\n",
    "\n",
    "$$ G_{00} = -\\frac12 \\left[ \\bar{h}_{00,\\mu}^{,\\mu} - \\eta^{\\nu\\iota}\\bar{h}_{\\mu\\nu,\\iota}^{,\\mu} - \\bar{h}_{0\\mu,0}^{,\\mu} - \\bar{h}_{0\\mu,0}^{,\\mu} \\right] $$\n",
    "\n",
    "But yes since we're looking for double-t the sign flips again, then everything provides exactly 1 double-t that cancels utterly with the others, ++--. \n",
    "\n",
    "Now, what of 0i? Well, our confusing term vanishes entirely as this is not a symmetric index.\n",
    "\n",
    "$$ G_{0i} = -\\frac12 \\left[ \\bar{h}_{0i,\\mu}^{,\\mu} - \\bar{h}_{0\\mu,i}^{,\\mu} - \\bar{h}_{i\\mu,0}^{,\\mu} \\right] $$\n",
    "\n",
    "Middle term never produces a double-t derivative.\n",
    "\n",
    "$$ G_{0i} = -\\frac12 \\left[ \\bar{h}_{0i,\\mu}^{,\\mu} - \\bar{h}_{i\\mu,0}^{,\\mu} \\right] $$\n",
    "\n",
    "Since $\\mu=0$ for the double derivative, these cancel, leaving none behind. Thus we have shown what we sought to show. "
   ]
  },
  {
   "cell_type": "markdown",
   "id": "279ff63a",
   "metadata": {},
   "source": [
    "*b) 8.42 contains second time derivatives even when $\\mu$ or $\\nu$ is zero. Does this contradict a)? Why?*"
   ]
  },
  {
   "cell_type": "markdown",
   "id": "185b05ab",
   "metadata": {},
   "source": [
    "No, and it's entirely because $G^{\\alpha\\beta} \\neq G_{\\alpha\\beta}$"
   ]
  },
  {
   "cell_type": "markdown",
   "id": "3531ac2d",
   "metadata": {},
   "source": [
    "To transform it it has to be sandwiched between two $\\eta$ matrices and matrix multiplication is not commutative when it's not the identity. One might think $\\eta$ commutes, but it actually does not. Gotta be careful with it. \n",
    "\n",
    "Now to prove everything is still hunky-dory a devoted student would probably apply the double-$\\eta$ and show the no-double-t-derivatives was restored... but eeeeeeeeh nah. "
   ]
  },
  {
   "cell_type": "markdown",
   "id": "1c222286",
   "metadata": {},
   "source": [
    "<a id='P10'></a>\n",
    "\n",
    "# Problem 10 \\[Back to [top](#toc)\\]\n",
    "$$\\label{P10}$$\n",
    "\n",
    "*Use the Lorentz gauge condition 8.33 to simplify $G_{\\alpha\\beta}$ to 8.41*"
   ]
  },
  {
   "cell_type": "markdown",
   "id": "df50096e",
   "metadata": {},
   "source": [
    "<a id='latex_pdf_output'></a>\n",
    "\n",
    "# Addendum: Output this notebook to $\\LaTeX$-formatted PDF file \\[Back to [top](#toc)\\]\n",
    "$$\\label{latex_pdf_output}$$\n",
    "\n",
    "The following code cell converts this Jupyter notebook into a proper, clickable $\\LaTeX$-formatted PDF file. After the cell is successfully run, the generated PDF may be found in the root NRPy+ tutorial directory, with filename\n",
    "[GR-08.pdf](GR-08.pdf) (Note that clicking on this link may not work; you may need to open the PDF file through another means.)\n",
    "\n",
    "**Important Note**: Make sure that the file name is right in all six locations, two here in the Markdown, four in the code below. \n",
    "\n",
    "* GR-08.pdf\n",
    "* GR-08.ipynb\n",
    "* GR-08.tex"
   ]
  },
  {
   "cell_type": "code",
   "execution_count": 1,
   "id": "abf583ef",
   "metadata": {
    "scrolled": false
   },
   "outputs": [
    {
     "name": "stdout",
     "output_type": "stream",
     "text": [
      "Created GR-08.tex, and compiled LaTeX file to PDF file GR-08.pdf\n"
     ]
    }
   ],
   "source": [
    "import cmdline_helper as cmd    # NRPy+: Multi-platform Python command-line interface\n",
    "cmd.output_Jupyter_notebook_to_LaTeXed_PDF(\"GR-08\")"
   ]
  },
  {
   "cell_type": "code",
   "execution_count": null,
   "id": "d0d0db4d",
   "metadata": {},
   "outputs": [],
   "source": []
  },
  {
   "cell_type": "code",
   "execution_count": null,
   "id": "41264965",
   "metadata": {},
   "outputs": [],
   "source": []
  }
 ],
 "metadata": {
  "kernelspec": {
   "display_name": "Python 3 (ipykernel)",
   "language": "python",
   "name": "python3"
  },
  "language_info": {
   "codemirror_mode": {
    "name": "ipython",
    "version": 3
   },
   "file_extension": ".py",
   "mimetype": "text/x-python",
   "name": "python",
   "nbconvert_exporter": "python",
   "pygments_lexer": "ipython3",
   "version": "3.10.4"
  }
 },
 "nbformat": 4,
 "nbformat_minor": 5
}
