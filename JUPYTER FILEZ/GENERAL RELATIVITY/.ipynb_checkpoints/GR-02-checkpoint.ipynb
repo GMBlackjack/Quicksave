{
 "cells": [
  {
   "cell_type": "markdown",
   "id": "0c1bfe81",
   "metadata": {},
   "source": [
    "# GR02: Vector Analysis in Special Relativity\n",
    "**Gabriel M Steward**"
   ]
  },
  {
   "cell_type": "markdown",
   "id": "239684db",
   "metadata": {},
   "source": [
    "## Problem 1\n",
    "\n",
    "*Given the numbers, {$A^0=5,A^1=0,A^2=-1,A^3=-6$},{$B^0=0,B^1=-2,B^2=4, B^3=0$}, {$C_{00}=1,C_{01}=0,C_{02}=2,C_{03}=3,C_{30}=-1, C_{10}=5,C_{11}=-2,C_{12}=-2,C_{13}=0,C_{21}=5,C_{22}=2,C_{23}=-2,C_{20}=4,C_{31}=-1,C_{32}=-3,C_{33}=0$} find:*\n",
    "\n",
    "*a) $A^\\alpha B_\\alpha$*"
   ]
  },
  {
   "cell_type": "markdown",
   "id": "cb662707",
   "metadata": {},
   "source": [
    "This is essentially just practicing adding things. Before we start, though, we consider making it easier to find all these numbers by making their vecctor nature explicit. \n",
    "\n",
    "A = [5, 0, -1, -6]\n",
    "\n",
    "B = [0, -2, 4, 0]\n",
    "\n",
    "$$C=\\begin{bmatrix}\n",
    "1 & 0 & 2 & 3\\\\ \n",
    "5 & -2 & -2 & 0\\\\ \n",
    "4 & 5 & 2 & -2\\\\ \n",
    "-1 & -1 & -3 & 0\n",
    "\\end{bmatrix}$$"
   ]
  },
  {
   "cell_type": "markdown",
   "id": "112ddf91",
   "metadata": {},
   "source": [
    "We note that our problem is essentially the dot product for vectors of size 4, since the summation is implied. Thus we have:\n",
    "5(0)+0(-2)+(-1)4+(-6)0 = 0+0-4+0 = -4"
   ]
  },
  {
   "cell_type": "markdown",
   "id": "e4482260",
   "metadata": {},
   "source": [
    "*b) $A^\\alpha C_{\\alpha\\beta}$ for all $\\beta$*"
   ]
  },
  {
   "cell_type": "markdown",
   "id": "a69c2fa0",
   "metadata": {},
   "source": [
    "THis is just a dot product of size 4 for each row in the matrix C. \n",
    "\n",
    "[5 0 -1 -6]*[1 0 2 3] = 5+0-2-18 = -15\n",
    "\n",
    "[5 0 -1 -6]*[5 -2 -2 0] = 25+0+2+0 = 27\n",
    "\n",
    "[5 0 -1 -6]*[4 5 2 -2] = 20+0-2+12 = 30\n",
    "\n",
    "[5 0 -1 -6]*[-1 -1 -3 0] = -5+0+3+0=-2"
   ]
  },
  {
   "cell_type": "markdown",
   "id": "d9cef35a",
   "metadata": {},
   "source": [
    "*c) $A^\\gamma C_{\\gamma \\sigma}$ for all $\\sigma$*\n",
    "\n",
    "Identical to b, what we have is a dummy variable. "
   ]
  },
  {
   "cell_type": "markdown",
   "id": "5a1d9c33",
   "metadata": {},
   "source": [
    "*d) $A^\\nu C_{\\mu\\nu}$ for all $\\mu$*\n",
    "\n",
    "Same as b, except with C columns instead of rows. "
   ]
  },
  {
   "cell_type": "markdown",
   "id": "2d22a6b4",
   "metadata": {},
   "source": [
    "[5 0 -1 -6]*[1 5 4 -1] = 5+0-4+6 = 7\n",
    "\n",
    "[5 0 -1 -6]*[0 -2 5 -1] = 0+0-5+6 = 1\n",
    "\n",
    "[5 0 -1 -6]*[2 -2 2 -3] = 10+0-2+18 = 26\n",
    "\n",
    "[5 0 -1 -6]*[3 0 -2 0] = 15+0+2+0 = 17"
   ]
  },
  {
   "cell_type": "markdown",
   "id": "919dbc99",
   "metadata": {},
   "source": [
    "*e) $A^\\alpha B_\\beta$ for all $\\alpha,\\beta$*"
   ]
  },
  {
   "cell_type": "markdown",
   "id": "0a480167",
   "metadata": {},
   "source": [
    "Note that we have no implied summation as nothing matches. So what we really have is just every possible multiplication of the terms in A and B. We shall construct a matrix out of the solutions with rows and columns notated by $\\alpha, \\beta$. \n",
    "\n",
    "$$AandB=\\begin{bmatrix}\n",
    "0 & -10 & 20 & 0\\\\ \n",
    "0 & 0 & 0 & 0\\\\ \n",
    "0 & 2 & -4 & 0\\\\ \n",
    "0 & 12 & -24 & 0\n",
    "\\end{bmatrix}$$\n",
    "\n"
   ]
  },
  {
   "cell_type": "markdown",
   "id": "8494d2e5",
   "metadata": {},
   "source": [
    "*f) $A^iB_i$*\n",
    "\n",
    "There is implied summation here, but only over i=1,2,3 as it is not greek. \n",
    "\n",
    "Anyway, this is 0+0-4 = -4. \n",
    "\n",
    "Note that even if this wasn't implied summation of only 1,2,3 and we included 0, nothing would change, as $B_0=0$ so there would be no change to the sum. "
   ]
  },
  {
   "cell_type": "markdown",
   "id": "34fc2c3a",
   "metadata": {},
   "source": [
    "*g) $A^jB_k$ for all j,k*"
   ]
  },
  {
   "cell_type": "markdown",
   "id": "0de1ff32",
   "metadata": {},
   "source": [
    "No summation here, each answer will stand on its own, and as the indeces are latin we drop of the \"0\" case. Otherwise this is actually the same as e). \n",
    "\n",
    "$$AandB=\\begin{bmatrix}\n",
    "0 & 0 & 0\\\\ \n",
    "2 & -4 & 0\\\\ \n",
    "12 & -24 & 0\n",
    "\\end{bmatrix}$$"
   ]
  },
  {
   "cell_type": "markdown",
   "id": "db7ea22f",
   "metadata": {},
   "source": [
    "## Problem 2\n",
    "\n",
    "*Identify the free and dummy indices in the following equations and change them into equivalent expressions with different indices. How many different equations does each expression represent?*\n",
    "\n",
    "*a) $A^\\alpha B_\\alpha = 5$*\n",
    "\n",
    "Only dummy indeces today, $\\alpha$. We could easily change every single one into $\\beta$ and change nothing. This expression has a sum with four terms on one side and a number on the other, so it is truly just one equation. "
   ]
  },
  {
   "cell_type": "markdown",
   "id": "ef8a2ce3",
   "metadata": {},
   "source": [
    "*b) $A^{\\bar{\\mu}} = \\Lambda^{\\bar{\\mu}}_\\nu A^\\nu$*"
   ]
  },
  {
   "cell_type": "markdown",
   "id": "78ce7a9e",
   "metadata": {},
   "source": [
    "The $\\mu$ is a free index, while $\\nu$ is the dummy index. Change them to other greek letters, like $\\alpha, \\beta$. Since we are not summing over $\\mu$, and it takes greek values, we know we have four different equations in the above expression. "
   ]
  },
  {
   "cell_type": "markdown",
   "id": "b0dccd17",
   "metadata": {},
   "source": [
    "*c) $T^{\\alpha \\mu \\lambda}A_\\mu C_\\lambda^\\gamma=D^{\\lambda\\alpha}$*"
   ]
  },
  {
   "cell_type": "markdown",
   "id": "03d7d22e",
   "metadata": {},
   "source": [
    "FREE: $\\alpha, \\gamma$--note how gamma is not in both sub and superscript locations.\n",
    "\n",
    "DUMMY: $\\mu, \\lambda$\n",
    "\n",
    "All of them are greek so we can just substitute with any greek values. \n",
    "\n",
    "We have two free variables so 16 equations, one for each combination of the free variables. "
   ]
  },
  {
   "cell_type": "markdown",
   "id": "51e34842",
   "metadata": {},
   "source": [
    "*d) $R_{\\mu\\nu}-\\frac{1}{2}g_{\\mu\\nu}R=G_{\\mu\\nu}$*"
   ]
  },
  {
   "cell_type": "markdown",
   "id": "f6ba3271",
   "metadata": {},
   "source": [
    "No dummy variables at all, only free ones, and two of them, so sixteen equations again. Note that variables duplicate BUT are all in subscript form, so there is no sum. "
   ]
  },
  {
   "cell_type": "markdown",
   "id": "00f857f8",
   "metadata": {},
   "source": [
    "## Problem 3\n",
    "*Prove Equation 2.5*\n",
    "$$\\Lambda^{\\bar\\alpha}_\\beta \\Delta x^\\beta = \\Lambda^{\\bar\\alpha}_0 \\Delta x^0 + \\Lambda^{\\bar\\alpha}_i \\Delta x^i$$"
   ]
  },
  {
   "cell_type": "markdown",
   "id": "6902bf13",
   "metadata": {},
   "source": [
    "This seems EXCEEDINGLY trivial. All greek indeces can be split into 0,1,2,3 due to Einstein Notation Convention. When left with just 1,2,3, we can represent this with a latin index, in this case i. The full expansion appears something like this: \n",
    "\n",
    "$$\\Lambda^{\\bar\\alpha}_\\beta \\Delta x^\\beta = \\Lambda^{\\bar\\alpha}_0 \\Delta x^0 + \\Lambda^{\\bar\\alpha}_1 \\Delta x^1 + \\Lambda^{\\bar\\alpha}_2 \\Delta x^2 + \\Lambda^{\\bar\\alpha}_3 \\Delta x^3 =  \\Lambda^{\\bar\\alpha}_0 \\Delta x^0 + \\Lambda^{\\bar\\alpha}_i \\Delta x^i$$\n",
    "\n",
    "It seems scarily trivial..."
   ]
  },
  {
   "cell_type": "markdown",
   "id": "52db7dce",
   "metadata": {},
   "source": [
    "## Problem 4\n",
    "\n",
    "*Given the vectors $\\vec{A} \\rightarrow_\\mathcal{O} (5,-1,0,1)$ and $\\vec{B} \\rightarrow_\\mathcal{O} (-2,1,1,-6)$ find the components in $\\mathcal{O}$ of...*\n",
    "\n",
    "*a) -6$\\vec{A}$*\n",
    "\n",
    "Just multiply the vector by -six, get (-30, 6, 0, -6)."
   ]
  },
  {
   "cell_type": "markdown",
   "id": "603ce85e",
   "metadata": {},
   "source": [
    "*b)$3\\vec A + \\vec B$*\n",
    "\n",
    "Multiply through by constants then add directly\n",
    "\n",
    "(15, -3, 0 3) + (-2, 1, 1, -6) = (13, -2, 1, -3)"
   ]
  },
  {
   "cell_type": "markdown",
   "id": "0dee11ad",
   "metadata": {},
   "source": [
    "*c)$-6 \\vec A + 3 \\vec B$*\n",
    "\n",
    "Take the answer to part one, combine with 3$\\vec B$\n",
    "\n",
    "(-30, 6, 0, -6) + (-6, 3, 3, -18) = (-36, 9, 3, -24)"
   ]
  },
  {
   "cell_type": "markdown",
   "id": "65cd10e5",
   "metadata": {},
   "source": [
    "## Problem 5\n",
    "\n",
    "*A collection of vectors $[\\vec a,\\vec b,\\vec c, \\vec d]$ is said to be linearly independent if no linear combination of them is zero except the trivial one $0\\vec a + 0\\vec b + 0\\vec c + 0\\vec d = 0$*\n",
    "\n",
    "*a) Show that the basis vectors in Eq 2.9 ar elinearly independent*\n",
    "\n",
    "The 2.9 vectors are (1,0,0,0) (0,1,0,0) (0,0,1,0) and (0,0,0,1). Visually, we can immediately tell that there is no zero solution unless all the vectors themselves are zero.\n",
    "\n",
    "To demonstrate this, we start by assigning the t-vector (1,0,0,0) a value of 1. No matter what we assign the other vectors, this \"1\" cannot be undone. If we make this \"1\" an arbitrtary constant C then this is still true. We can also take this into account for each of the four vectors, showing that none of them can undo each other. In fact, they are so independent, that adjusting one has NO influence whatsoever on what the others do by their adjustments. Admittedly this is just because our coordinates are played out neatly in the representation we're using, but a neat thing about unit vectors is that they should always be simplifiable in this way to things pointing in completely disparate directions; if we're allowed to twist our reference frame, that is. "
   ]
  },
  {
   "cell_type": "markdown",
   "id": "8ce34282",
   "metadata": {},
   "source": [
    "*b) Is the following set linearly independent? $[\\vec a,\\vec b,\\vec c, 5\\vec a + 3\\vec b - 2\\vec c]$*\n",
    "\n",
    "NO! You can make the fourth vector out of the other three and can find a zero state for them, specifically with -5, -3, and 2 for a,b,c. Easy. "
   ]
  },
  {
   "cell_type": "markdown",
   "id": "49e9874a",
   "metadata": {},
   "source": [
    "## Question 6\n",
    "*In the spacetime diagram of $\\mathcal{O}$ draw the basis vectors $\\vec{e}_0$ and $\\vec{e}_1$. Draw the corresponding basis vectors of the frame $\\mathcal{\\bar{O}}$ that moves with speed 0.6 in the positive x direcion relative to $\\mathcal{O}$. Draw the corresponding basis vectors of $\\mathcal{\\bar{\\bar{O}}}$ a frame that moves with speed 0.6 in the positive x direction relative to $\\mathcal{O}$*"
   ]
  },
  {
   "cell_type": "markdown",
   "id": "914f21f8",
   "metadata": {},
   "source": [
    "Basis vectors can be represented by lines with length \"1\" in their respective spaces, so they will be along the \"1\" invariant hyperbolae. We can use the combining speed theorem to arrive at the speed of the second reference frame in reference to rest, and thus will have three sets of axes. Start with code from previous chapter and develop from there.\n",
    "\n",
    "First refernece frame: v=0.6 so the angle is atan(0.6) or 0.540 rads.\n",
    "\n",
    "Second reference frame: v'=0.6 so (W+v)/(1+Wv) = 0.882 (speed). Angle is then is 0.723 rads."
   ]
  },
  {
   "cell_type": "code",
   "execution_count": 2,
   "id": "ffc5bdac",
   "metadata": {},
   "outputs": [
    {
     "data": {
      "image/png": "[encoded data removed]",
      "text/plain": [
       "<Figure size 720x720 with 1 Axes>"
      ]
     },
     "metadata": {
      "needs_background": "light"
     },
     "output_type": "display_data"
    }
   ],
   "source": [
    "import matplotlib.pyplot as plt\n",
    "import numpy as np\n",
    "t=np.arange(-10.0,10.0,0.2) # The \"ticker\", adjust for precision. \n",
    "\n",
    "plt.figure(figsize=(10,10)) #make it larger\n",
    "plt.gca().set_aspect('equal') #make it square so the axes are easier to see.\n",
    "\n",
    "plt.xlabel(\"x (m)\")\n",
    "plt.ylabel(\"t (m)\")\n",
    "\n",
    "plt.axis([-4,4,-4,4])\n",
    "\n",
    "plt.axvline(x=0,color='black')\n",
    "plt.axhline(y=0,color='black') #add central axes\n",
    "plt.plot(t*np.cos(0.540),t*np.sin(0.540),'-k') #adjusted axes\n",
    "plt.plot(t*np.sin(0.540),t*np.cos(0.540),'-k')\n",
    "plt.plot(t*np.cos(0.723),t*np.sin(0.723),'-k')\n",
    "plt.plot(t*np.sin(0.723),t*np.cos(0.723),'-k')\n",
    "plt.plot(t,(t**2+1)**(1/2),'--m')\n",
    "plt.plot(t,-(t**2+1)**(1/2),'--m') #the square root has both + and - solutions. \n",
    "\n",
    "#for the next one we need a special redefinition of t in two chunks, let's call it T1 and T2. \n",
    "T1=np.arange(-5.0,-1.0,0.0005) # high precision since the graph tends to have a gap. \n",
    "T2=np.arange(1.0,5.0,0.0005)\n",
    "\n",
    "plt.plot(T1,(T1**2-1)**(1/2),':m')\n",
    "plt.plot(T1,-(T1**2-1)**(1/2),':m') \n",
    "plt.plot(T2,(T2**2-1)**(1/2),':m')\n",
    "plt.plot(T2,-(T2**2-1)**(1/2),':m')\n",
    "\n",
    "#add vectors!\n",
    "plt.arrow(0,0,0,1,color=\"blue\",width=0.05,length_includes_head=True)\n",
    "plt.arrow(0,0,1,0,color=\"blue\",width=0.05,length_includes_head=True)\n",
    "\n",
    "plt.arrow(0,0,0.75,1.25,color=\"green\",width=0.05,length_includes_head=True)\n",
    "plt.arrow(0,0,1.25,0.75,color=\"green\",width=0.05,length_includes_head=True)\n",
    "\n",
    "plt.arrow(0,0,1.872,2.122,color=\"red\",width=0.05,length_includes_head=True)\n",
    "plt.arrow(0,0,2.122,1.872,color=\"red\",width=0.05,length_includes_head=True)\n",
    "\n",
    "plt.show()"
   ]
  },
  {
   "cell_type": "markdown",
   "id": "aebb0884",
   "metadata": {},
   "source": [
    "Dunno why the arrows are being drawn under the lines, but they're still the unit vectors. Note how *long* they look in the other reference frames. They also match the 1 invariant hyperbolae perfectly."
   ]
  },
  {
   "cell_type": "markdown",
   "id": "871098a9",
   "metadata": {},
   "source": [
    "## Question 7\n",
    "*a) Prove Eq 2.10 for all $\\alpha,\\beta$*\n",
    "\n",
    "This isn't exactly a proof. See pg 36 and... just observe (1,0,0,0) contains four components, but only the first one is right. It's not really a proof as much as a statement. \n",
    "\n",
    "*b) Prove Eq 2.11 from 2.9*\n",
    "\n",
    "This is just another definition of vector components. What even is this quesiton? All it's saying is that (a,b,c,d) is equivalent to $a\\hat{t}+b\\hat{x}+c\\hat{y}+d\\hat{z}.$"
   ]
  },
  {
   "cell_type": "markdown",
   "id": "ceac7aab",
   "metadata": {},
   "source": [
    "## Question 8\n",
    "\n",
    "*a) Prove that the zero vector (0,0,0,0) has the same components in all reference frames.*\n",
    "\n",
    "Trivial. Lorentz transform with t=0 and x=0 and y=0 and z=0. v vanishes. \n",
    "\n",
    "*b) Use a) to prove that if two vectors have equal components in one frame, they have equal components in all frames.*\n",
    "\n",
    "Using 0,0,0,0 as a fixed point, as we showed in part a), we define a point (a,b,c,d) and another (e,f,g,h) where a=e, b=f, etc. ...Why are these not already equal I'll never know, however we do know that in every reference frame the interval is invariant when they are moved, and by the Lorentz transformation we stil have a'=e'. \n",
    "\n",
    "Again, not sure if this question means much of anything. "
   ]
  },
  {
   "cell_type": "markdown",
   "id": "eeddefbb",
   "metadata": {},
   "source": [
    "## Problem 9\n",
    "Skipped as it is just proving that the order of summation doesn't matter, which we already know from other math courses."
   ]
  },
  {
   "cell_type": "markdown",
   "id": "1145d206",
   "metadata": {},
   "source": [
    "## Problem 10\n",
    "*Prove Eq 2.13 from the equaiton $A^\\alpha (\\Lambda^\\bar{\\beta}_\\alpha \\vec{e}_\\bar{\\beta}-\\vec{e}_\\alpha)=0$ by making specific choices for the components of the arbitrary vector $\\vec{A}$*"
   ]
  },
  {
   "cell_type": "markdown",
   "id": "370523ae",
   "metadata": {},
   "source": [
    "What this is ultimately asking is for us to take the long way around. Let the $\\vec{A}$ = (a,b,c,d) and thus we write out the sum as \n",
    "\n",
    "$$a\\Lambda^\\bar{\\beta}_a \\vec{e}_\\bar{\\beta}-a\\vec{e}_a+b\\Lambda^\\bar{\\beta}_b \\vec{e}_\\bar{\\beta}-b\\vec{e}_b+c\\Lambda^\\bar{\\beta}_c \\vec{e}_\\bar{\\beta}-c\\vec{e}_c+d\\Lambda^\\bar{\\beta}_d \\vec{e}_\\bar{\\beta}-d\\vec{e}_d=0$$"
   ]
  },
  {
   "cell_type": "markdown",
   "id": "8f96f5f0",
   "metadata": {},
   "source": [
    "Now if we made the *specific* choice of (1,1,1,1) the answer would be trivially evident. So let's keep it up with our arbitrary constants. However, it is not evidentially clear how we can show the relaiton we desire, which is $$\\vec{e}_\\alpha=\\Lambda^\\bar{\\beta}_\\alpha \\vec{e}_\\bar{\\beta}$$\n",
    "\n",
    "To make this easier to look at, let's make this relation $\\vec{L}=\\vec{R}$ where both L and R are vectors over a,b,c,d. We can use this to simplify our relation to:\n",
    "\n",
    "$$aL_a-aR_a+bL_b-bR_b+cL_c-cR_c+dL_d-dR_d=0$$"
   ]
  },
  {
   "cell_type": "markdown",
   "id": "983f9b8b",
   "metadata": {},
   "source": [
    "We recall that the unit vectors for a basis are orthogonal to each other and as such cannot influence each other in addition. That is $L_a-L_b$ can *never* equal zero, and in fact would just make something of the form (1,-1,0,0). However, while L is orthogonal to itself, it is not orthogonal to R, so all the R components could influence it, correct? \n",
    "\n",
    "Actually, no, for there's the hidden $\\Lambda$ term that *transforms* a unit vector to be in-line with the other unit vector—in fact it is defined as such from the Lorentz transformation. Thus, only the parts of the same index can be added together in any meaningful way. Which means each of them could be taken separately, akin to $aL_a-aR_a=0$ which quikcly becomes $L_a-R_a=0$ or $L_a=R_a$ which, when expanded to the vector form, is precisely $\\vec{L}=\\vec{R}$ and we are done.\n"
   ]
  },
  {
   "cell_type": "markdown",
   "id": "47b89abb",
   "metadata": {},
   "source": [
    "## Problem 11\n",
    "*Let $\\Lambda^\\bar{\\alpha}_\\beta$ be the matrix of the Lorenz transformation from $\\mathcal{O}$ to $\\mathcal{\\bar{O}}$, given in Eq 1.12. Let $\\vec{A}$ be an arbitrary vector with components $(A^0,A^1,A^2,A^3)$ in frame $\\mathcal{O}$*\n",
    "\n",
    "*a) Write down the matrix of $\\Lambda^\\nu_\\bar{\\mu}(-\\textbf{v})$*\n",
    "\n",
    "We actually already found this inverse transform matrix in a previous problem, specifically **Problem 1.20**\n",
    "\n",
    "$$ \\begin{bmatrix}\n",
    "\\gamma &  v \\gamma & 0 & 0\\\\ \n",
    " v  \\gamma  & \\gamma & 0 & 0 \\\\ \n",
    "0 & 0 & 1 & 0\\\\ \n",
    "0 & 0 & 0 & 1\n",
    "\\end{bmatrix} $$\n",
    "\n",
    "This is an inverse matrix, apply it to the other one to get the identity. "
   ]
  },
  {
   "cell_type": "markdown",
   "id": "1210da41",
   "metadata": {},
   "source": [
    "*b) Find $A^\\bar{\\alpha}$ for all $\\bar{\\alpha}$*\n",
    "\n",
    "Running the vector through the matrix calculation gets us:\n",
    "\n",
    "$A^\\bar{\\alpha} = (\\gamma A^0 - v\\gamma A^1, -v\\gamma A^0 + \\gamma A^1, A^2, A^3)$\n",
    "\n",
    "This is just the standard Lorentz transformation."
   ]
  },
  {
   "cell_type": "markdown",
   "id": "89f6e32c",
   "metadata": {},
   "source": [
    "*c) Verify Eq 2.18 by performing the indicates sum for all values of v $\\nu$ and $\\alpha$*\n",
    "\n",
    "This is literally just matrix multiplicaiton. Why not just say so. Connect the Lorentz and Inverse Lorentz together and it clearly becomes the identity. Use the expanded version fo the inverse to make the math evident.\n",
    "\n",
    "$$ \\begin{bmatrix}\n",
    "\\gamma & -\\gamma v & 0 & 0\\\\ \n",
    "-\\gamma v & \\gamma & 0 & 0 \\\\ \n",
    "0 & 0 & 1 & 0\\\\ \n",
    "0 & 0 & 0 & 1\n",
    "\\end{bmatrix} \\begin{bmatrix}\n",
    "1 / \\gamma(1-v^2) &  v / \\gamma(1-v^2) & 0 & 0\\\\ \n",
    "v / \\gamma(1-v^2)  & 1 / \\gamma(1-v^2) & 0 & 0 \\\\ \n",
    "0 & 0 & 1 & 0\\\\ \n",
    "0 & 0 & 0 & 1\n",
    "\\end{bmatrix} = \\begin{bmatrix}\n",
    "1 & 0 & 0 & 0 \\\\ \n",
    "0 & 1 & 0 & 0 \\\\ \n",
    "0 & 0 & 1 & 0 \\\\ \n",
    "0 & 0 & 0 & 1\n",
    "\\end{bmatrix} $$"
   ]
  },
  {
   "cell_type": "markdown",
   "id": "dee5ebc0",
   "metadata": {},
   "source": [
    "*d) Write down the Lorentz transformation matrix from $\\mathcal{\\bar{O}}$ to $\\mathcal{O}$, justifying each entry.*\n",
    "\n",
    "Gonna be honest, basically just did this in the last part. Not going to go through each individual term since it's kind of obvious what's going on: one transformation shifts the vector one way, the other shifts it back. We can play ping-pong all day. Since we are in a 2D transformation, the \"y\" and \"z\" sections are all non-transformative, with just 1 terms along the diagonal and 0 elsewhere. The \"t\" and \"x\" areas are a little different, but ultimately the only difference between them is the sign in front of the velocity. So... yeah."
   ]
  },
  {
   "cell_type": "markdown",
   "id": "ebf6faa2",
   "metadata": {},
   "source": [
    "*e) Use d) to find $A^\\beta$ from $A^\\bar{\\alpha}$*\n",
    "\n",
    "The inverse matrix calculation is trivial. We identify that, essentially, we are performing $\\Lambda^\\nu_\\bar{\\mu}\\Lambda^\\bar{\\alpha}_\\beta\\vec{A}$. We just showed in d) that these transformations are the identity of each other. Which we already knew all the way from part c where we thought we were already being asked this! Silly us for jumping ahead. "
   ]
  },
  {
   "cell_type": "markdown",
   "id": "bb0b095c",
   "metadata": {},
   "source": [
    "*f) Verify, in the same manner as c), that...*\n",
    "\n",
    "Okay to save time, this is just showing that the inverse matrices can be performed in either order and are thus commutative. I'm just going to consider this a known fact at this point and move on. (Mainly because I don't want to type it all, just perform the matrix multiplication backwards, you'll still get hte identity.)"
   ]
  },
  {
   "cell_type": "markdown",
   "id": "e90a38bb",
   "metadata": {},
   "source": [
    "*g) Establish that $\\vec{e}_\\alpha = \\delta^\\nu_\\alpha \\vec{e}_\\nu$* and $A^\\bar{\\beta}=\\delta^\\bar{\\beta}_\\bar{\\mu}A^\\bar{\\mu}$"
   ]
  },
  {
   "cell_type": "markdown",
   "id": "347717de",
   "metadata": {},
   "source": [
    "This also seems trivial. The first one states that the unit vectors are equal in their respective representations when their order is equal, and that the same applies to the vectors themselves. \"But isn't there a summmation?\" There is, but the dirac delta only evaluates to 1 on one of those settings: the one where they're the same. Thus the result is trivial. \n",
    "\n",
    "All of these results seem trivial..."
   ]
  },
  {
   "cell_type": "markdown",
   "id": "01ba3396",
   "metadata": {},
   "source": [
    "## Problem 12\n",
    "*Given $\\vec{A} \\rightarrow \\mathcal{O} (0,-2,3,5)$, find:*\n",
    "\n",
    "*a) The components of $\\vec{A}$ in $\\mathcal{\\bar{O}}$, which moves at a speed 0.8 relative to $\\mathcal{O}$ in the positive x direction.*"
   ]
  },
  {
   "cell_type": "markdown",
   "id": "30cf451f",
   "metadata": {},
   "source": [
    "Lorentz transformation matrix with v=0.8 and thus $\\gamma$=1.667. The matrix therefore becomes\n",
    "\n",
    "$$ \\begin{bmatrix}\n",
    "1.667 & 1.333 & 0 & 0\\\\ \n",
    "1.333 & 1.667 & 0 & 0 \\\\ \n",
    "0 & 0 & 1 & 0\\\\ \n",
    "0 & 0 & 0 & 1\n",
    "\\end{bmatrix} $$\n",
    "\n",
    "Applying this to the vector gives us (-2.667,-3.333,3,5)\n",
    "\n",
    "Part b is exactly the same it's just that you need to use the velocity addition theorem on 0.6 and 0.8 to get the actual speed and apply the Lorentz matrix again. \n",
    "\n",
    "NOTE: for some reason we used the Inverse Lorentz Transform above rahter than the forward one, maybe we got confused? Since it's going positive x there shoudl be negative signs. \n",
    "\n",
    "$$ \\begin{bmatrix}\n",
    "1.667 & -1.333 & 0 & 0\\\\ \n",
    "-1.333 & 1.667 & 0 & 0 \\\\ \n",
    "0 & 0 & 1 & 0\\\\ \n",
    "0 & 0 & 0 & 1\n",
    "\\end{bmatrix} $$\n",
    "\n",
    "Which produces (2.667,-3.333,3,5) and makes more physical sense. "
   ]
  },
  {
   "cell_type": "markdown",
   "id": "6443d318",
   "metadata": {},
   "source": [
    "*c) The magnitude of $\\vec{A}$ from its components in $\\mathcal{O}$*\n",
    "\n",
    "This is just the basic distance theorem: 0+4+9+25 = magnitude $\\sqrt{38}$ = 6.164\n",
    "\n",
    "*d) The magnitude of $\\vec{A}$ from its components in $\\mathcal{\\bar{O}}$*\n",
    "\n",
    "We already have the components from part a), which gives us magnitude $\\sqrt{52.216}$ = 7.226 \n",
    "\n",
    "Keep in mind that this is the MAGNITUDE and not the INTERVAL. The interval would be invariant between the two. (And it would be 6.164 as the default reference frame has no t component.) \n",
    "\n",
    "This all makes sense as arrows seem to get visually larger on spacetime diagrams when in a different reference frame. "
   ]
  },
  {
   "cell_type": "markdown",
   "id": "a1894883",
   "metadata": {},
   "source": [
    "## Problem 13\n",
    "\n",
    "This one has been skipped since it is just an extended look at a single property: the velocity addition theorem and how it adjusts the Lorentz matrix. But we already know the properties: we can use the velocity addition theorem to find a single relative velocity, or we can apply the Lorentz matrix twice once with each velocity in order to keep translating, depending on which one we want. We skipped part b) of the last problem so we skip this one as well. "
   ]
  },
  {
   "cell_type": "markdown",
   "id": "3cb232f0",
   "metadata": {},
   "source": [
    "## Problem 14\n",
    "\n",
    "*The following matrix gives a Lorentz transformation from $\\mathcal{O}$ to $\\mathcal{\\bar{O}}$.*\n",
    "\n",
    "$$ \\begin{bmatrix}\n",
    "1.25 & 0 & 0 & .75\\\\ \n",
    "0 & 1 & 0 & 0 \\\\ \n",
    "0 & 0 & 1 & 0\\\\ \n",
    ".75 & 0 & 0 & 1.25\n",
    "\\end{bmatrix} $$\n",
    "\n",
    "*a) What is the velocity (speed and direction) of $\\mathcal{\\bar{O}}$ relative to $\\mathcal{O}$?*"
   ]
  },
  {
   "cell_type": "markdown",
   "id": "5cb67d1f",
   "metadata": {},
   "source": [
    "Clearly what we have here is a situation where the active direciton is z rather than x. Furthermore, as there are no negative signs, this means we are going in the negative z direction. Our relativistic factor $\\gamma$ is equal to 1.25 and thus v needs to be 0.6. (Checking, v=0.6 does in fact produce the right relativistic factor.)\n",
    "\n",
    "This we are going at -0.6 relative to the default reference frame. "
   ]
  },
  {
   "cell_type": "markdown",
   "id": "4897d318",
   "metadata": {},
   "source": [
    "*b) What is the inverse matrix to the given one?*\n",
    "\n",
    "Reverse the Lorentz transform by adding minus signs. \n",
    "\n",
    "$$ \\begin{bmatrix}\n",
    "1.25 & 0 & 0 & -.75\\\\ \n",
    "0 & 1 & 0 & 0 \\\\ \n",
    "0 & 0 & 1 & 0\\\\ \n",
    "-.75 & 0 & 0 & 1.25\n",
    "\\end{bmatrix} $$\n"
   ]
  },
  {
   "cell_type": "markdown",
   "id": "6c0c93f4",
   "metadata": {},
   "source": [
    "*c) Find the components in $\\mathcal{O}$ of a vector $\\vec{A} \\rightarrow_\\mathcal{\\bar{O}} (1,2,0,0)$*"
   ]
  },
  {
   "cell_type": "markdown",
   "id": "d2dba4e0",
   "metadata": {},
   "source": [
    "The reverse Lorentz here. x and y remain the same, t and z do not. \n",
    "\n",
    "The result is ( 1.25 , 2 , 0 , -0.75 ), which makes sense, as we are going backwards the shift will take... hold on. We might have this backwards. Drawing a diagram confirmed it to us: yes, translating a reference fram this way would turn a purely time-based coordinate into one with more time and a negative position.  "
   ]
  },
  {
   "cell_type": "markdown",
   "id": "fcf2844a",
   "metadata": {},
   "source": [
    "## Problem 15\n",
    "\n",
    "*a) Compute the four-velocity components in $\\mathcal{O}$ of a particle whose speed in $\\mathcal{O}$ is v in the positive x direction, by using the Lorentz transformation from the rest frame of the particle.*"
   ]
  },
  {
   "cell_type": "markdown",
   "id": "88021ebd",
   "metadata": {},
   "source": [
    "This is simple enough, and is actually provided to us directly by 2.21! $U^0 = \\gamma , U^1 = v\\gamma$. And the other components are zero. Note that we used the inverse Lorentz transform and, thus, there is no minus sign on $U^1$. (We can also think of this as Lorentz transforming with a negative velocity from the rest frame of the particle.) So we have $(\\gamma, v\\gamma, 0, 0)$. This makes sense, for small v this just becomes (1,v,0,0) as it should. \n",
    "\n",
    "However, the Lorentz transform doesn't seem to produce this directly, it seems to rely entirely on the *first column*. This is in fact what equation 2.21 shows, the question is why? (is as of now unanswered).\n",
    "\n",
    "This does make it easier to do the next part. "
   ]
  },
  {
   "cell_type": "markdown",
   "id": "87194e8b",
   "metadata": {},
   "source": [
    "*b) Generalize this result to find the four-velocity components when the particle has an arbitrary velocity v with |v|<1*\n",
    "\n",
    "One wonders why you bothered to specify less than the speed of light, as we know the transformation still functions at light speed. \n",
    "\n",
    "Regardless, we're finally dealing with multiple angles of velocity at once! How can we do this? Well, first, let us imagine a particle going in just the x direction. From the PoV of that particle, one moving at the same speed in the x direction but also in the y direction will be going in just the y direction. And a particle going in xy and another going in xyz will have a relative difference only in z. Thyus, we can think of a bunch of imaginary particles that don't exist, going in the x, y, and z directions only while the actual particle is xyz. Essentially, we are splitting up the velocity components.\n",
    "\n",
    "We already know from previous problems that velocity addition can be represented by sequential Lorentz transformations, so what we do is create a matrix for x, y, and z and slam them all together. We note that the speeds in x, y, and z could all be different, so each $\\gamma$ and v will have a subscript on it. We use reverse Lorentz transforms since we are going *from* the particle *to* our default refernece frame. Putting it all together will give us:\n",
    "\n",
    "$$ \n",
    "\\begin{bmatrix}\n",
    "\\gamma_x & v_x\\gamma_x & 0 & 0 \\\\ \n",
    "v_x\\gamma_x & \\gamma_x & 0 & 0 \\\\ \n",
    "0 & 0 & 1 & 0\\\\ \n",
    "0 & 0 & 0 & 1\n",
    "\\end{bmatrix}\n",
    "\\begin{bmatrix}\n",
    "\\gamma_y & 0 & v_y\\gamma_y & 0 \\\\ \n",
    "0 & 1 & 0 & 0 \\\\ \n",
    "v_y\\gamma_y & 0 & \\gamma_y & 0\\\\ \n",
    "0 & 0 & 0 & 1\n",
    "\\end{bmatrix}\n",
    "\\begin{bmatrix}\n",
    "\\gamma_z & 0 & 0 & v_z\\gamma_z \\\\ \n",
    "0 & 1 & 0 & 0 \\\\ \n",
    "0 & 0 & 1 & 0\\\\ \n",
    "v_z\\gamma_z & 0 & 0 & \\gamma_z\n",
    "\\end{bmatrix} $$\n"
   ]
  },
  {
   "cell_type": "markdown",
   "id": "f27a40a3",
   "metadata": {},
   "source": [
    "So now we can derive the General Lorentz Transform for any velocity in any direction. (Or, well, the inverse at least.) \n",
    "\n",
    "$$ =\n",
    "\\begin{bmatrix}\n",
    "\\gamma_x & v_x\\gamma_x & 0 & 0 \\\\ \n",
    "v_x\\gamma_x & \\gamma_x & 0 & 0 \\\\ \n",
    "0 & 0 & 1 & 0\\\\ \n",
    "0 & 0 & 0 & 1\n",
    "\\end{bmatrix}\n",
    "\\begin{bmatrix}\n",
    "\\gamma_y\\gamma_z & 0 & v_y\\gamma_y & v_z\\gamma_y\\gamma_z \\\\ \n",
    "0 & 1 & 0 & 0 \\\\ \n",
    "v_y\\gamma_y\\gamma_z & 0 & \\gamma_y & v_yv_z\\gamma_y\\gamma_Z\\\\ \n",
    "v_z\\gamma_z & 0 & 0 & \\gamma_z\n",
    "\\end{bmatrix} $$"
   ]
  },
  {
   "cell_type": "markdown",
   "id": "8e31565a",
   "metadata": {},
   "source": [
    "$$ =\n",
    "\\begin{bmatrix}\n",
    "\\gamma_x\\gamma_y\\gamma_z & v_x\\gamma_x & v_y\\gamma_x\\gamma_y & v_z\\gamma_x\\gamma_y\\gamma_z \\\\ \n",
    "0 & 1 & 0 & 0 \\\\ \n",
    "v_y\\gamma_y\\gamma_z & 0 & \\gamma_y & v_yv_z\\gamma_y\\gamma_Z\\\\ \n",
    "v_z\\gamma_z & 0 & 0 & \\gamma_z\n",
    "\\end{bmatrix} $$"
   ]
  },
  {
   "cell_type": "markdown",
   "id": "fb02c0d2",
   "metadata": {},
   "source": [
    "Only one row was done and this is already clearly not the arbitrary Lorentz Transformation. This should have been obvious from the start: relative speeds cannot be counted on maintaining their relativistic nature when in a different reference frame. Which brings us now to a very important quetsion: how DOES one derive the generic Lorentz transformation? Sure, it should always be possible to redefine the axes, but that's not what we want, we want a 4x4 matrix that can transform any vector into any velocity we wish. \n",
    "\n",
    "Looking it up on https://en.wikipedia.org/wiki/Lorentz_transformation the matrix (not the reverse), in our formalism, should be:\n",
    "\n",
    "$$ \n",
    "\\begin{bmatrix}\n",
    "\\gamma & -v_x\\gamma & -v_y\\gamma & -v_z\\gamma \\\\ \n",
    "-v_x\\gamma & 1+(\\gamma-1)\\frac{v_x^2}{v^2} & (\\gamma-1)\\frac{v_xv_y}{v^2} & (\\gamma-1)\\frac{v_xv_z}{v^2} \\\\ \n",
    "-v_y\\gamma & (\\gamma-1)\\frac{v_yv_x}{v^2} & 1+(\\gamma-1)\\frac{v_y^2}{v^2} & (\\gamma-1)\\frac{v_yv_z}{v^2}\\\\ \n",
    "-v_z\\gamma & (\\gamma-1)\\frac{v_zv_x}{v^2} & (\\gamma-1)\\frac{v_xv_y}{v^2} & 1+(\\gamma-1)\\frac{v_z^2}{v^2}\n",
    "\\end{bmatrix} $$\n",
    "\n",
    "And for our reference frame, the inverse would just have all velocity terms with a negative sign. This cancels out in most of the terms and leaves us with\n",
    "\n",
    "$$ \n",
    "\\begin{bmatrix}\n",
    "\\gamma & v_x\\gamma & v_y\\gamma & v_z\\gamma \\\\ \n",
    "v_x\\gamma & 1+(\\gamma-1)\\frac{v_x^2}{v^2} & (\\gamma-1)\\frac{v_xv_y}{v^2} & (\\gamma-1)\\frac{v_xv_z}{v^2} \\\\ \n",
    "v_y\\gamma & (\\gamma-1)\\frac{v_yv_x}{v^2} & 1+(\\gamma-1)\\frac{v_y^2}{v^2} & (\\gamma-1)\\frac{v_yv_z}{v^2}\\\\ \n",
    "v_z\\gamma & (\\gamma-1)\\frac{v_zv_x}{v^2} & (\\gamma-1)\\frac{v_xv_y}{v^2} & 1+(\\gamma-1)\\frac{v_z^2}{v^2}\n",
    "\\end{bmatrix} $$"
   ]
  },
  {
   "cell_type": "markdown",
   "id": "5c4e9505",
   "metadata": {},
   "source": [
    "Anyway now that we have the transformation, we need to find U. Take the first column $U = (\\gamma, \\gamma v_x, \\gamma v_y, \\gamma v_z$)"
   ]
  },
  {
   "cell_type": "markdown",
   "id": "8e60057c",
   "metadata": {},
   "source": [
    "*c) Use your result in b) to express v in terms of the components {$U^\\alpha$}.*\n",
    "\n",
    "Feel like I already did this. Which means b probably wanted the general four-velocity magnitude. Well, that would be:\n",
    "\n",
    "|U| = $\\gamma \\sqrt{1+v_x^2+v_y^2+v_z^2}$"
   ]
  },
  {
   "cell_type": "markdown",
   "id": "e82bad99",
   "metadata": {},
   "source": [
    "*d) Find the three-velocity v of a particle whose four-velocity components are (2,1,1,1).*"
   ]
  },
  {
   "cell_type": "markdown",
   "id": "9f65107c",
   "metadata": {},
   "source": [
    "First of all we need to transform back into its t=1 reference frame (I think is what is being asked here) which means we know gamma is 2. Which allows us to transform back to (1,0.5,0.5,0.5), which means the three-velocity is 0.5 in all three directions, or 0.75 absolute magnitude. "
   ]
  },
  {
   "cell_type": "markdown",
   "id": "371a8394",
   "metadata": {},
   "source": [
    "So now we have a question, and that question is: WHY the first column only? What makes the velocities different than the additions?\n",
    "\n",
    "So let's try to find the velocities in general. In our original reference frame we have two points, call them (a,b,c,d) and (e,f,g,h). This defines our worldline. The four-velocity is the vector tangent to this worldline. The tangent part is not hard to do, but we also need the magnitude to be correct--we specifically need it to stretch through a single unit of time. \n",
    "\n",
    "In order to accomplish this, we start by creating the vector (e-a,f-b,g-c,h-d), which essentially places the first point at the origin. WLOG, let's just set the first point to be the origin, meaning our second point DEFINES the vector (e,f,g,h). We now have the direction, but the magnitude now matters: what we need to do is set the time component to 1. Thus, we divide through every component by e. (1,f/e,g/e,h/e) and now we have the actual arbitrary four-velocity of the particle. \n",
    "\n",
    "Hold on, I feel stupid. In ANY particle's rest frame, it's four-velocity is (1,0,0,0) That is, it's moving through time at one second per second and as far as it's concerned its velocity is zero. Applying the inverse Lorentz transformation reduces to the first column only, since the other three components are zero. DUH. \n",
    "\n",
    "What we were trying to do was to go in reverse, which quite obviously would require a ton more math. A ton. Yes. Good thing we don't have to do it. \n",
    "\n",
    "Anyway, in conclusion, (1,0,0,0) is always the four velocity at rest. Thank you for coming to my TED talk. "
   ]
  },
  {
   "cell_type": "markdown",
   "id": "fc8169f5",
   "metadata": {},
   "source": [
    "## Problem 16\n",
    "\n",
    "*Derive the Einstein velocity-addition formula by performing a Lorentz transformation with velocity v on the four-velocity of a particle whose speed in the original frame was W.*\n",
    "\n",
    "Let's assume everything is linear so we use the \"1D\" version of the matrix:\n",
    "\n",
    "$$ \\begin{bmatrix}\n",
    "\\gamma &  -v \\gamma & 0 & 0\\\\ \n",
    " -v  \\gamma  & \\gamma & 0 & 0 \\\\ \n",
    "0 & 0 & 1 & 0\\\\ \n",
    "0 & 0 & 0 & 1\n",
    "\\end{bmatrix} $$\n",
    "\n",
    "The velocity-addition theorem is $\\frac{w+v}{1+wv}$\n",
    "\n",
    "The wording is a bit confusing, but I think what we're supposed to do is use the Lorentz transformation twice, specifically on the four-velocity. In our case we have \"w\" being the original speed in refernec frame $\\mathcal{O}$ and \"v\" being the speed between the two reference frames themselves. \n",
    "\n",
    "Transforming from the four-velocity of the particle at rest (1,0,0,0), we quickly get $(\\gamma_1, -w\\gamma_1,0,0)$ as the four-velocity as far as our original reference frame is concerned. Note that we have added a subscript, because we're about to transform it again with a potentially different transform, this time based in some velocity v. \n",
    "\n",
    "$$(\\gamma_1\\gamma_2 + vw\\gamma_1\\gamma_2, -v\\gamma_1\\gamma_2 - w\\gamma_1\\gamma_2,0,0)$$"
   ]
  },
  {
   "cell_type": "markdown",
   "id": "b32f37f6",
   "metadata": {},
   "source": [
    "Now we seek the final added velocity, which we shall call w', which can be found via $(\\gamma_3, -w'\\gamma_3,0,0)$. This would be the one-step transformation. This means $\\gamma_3 = \\gamma_1\\gamma_2 + vw\\gamma_1\\gamma_2$. So to find w' we divide this out of the x-term. \n",
    "\n",
    "$$-w' = \\frac{ -v\\gamma_1\\gamma_2 - w\\gamma_1\\gamma_2}{\\gamma_1\\gamma_2 + vw\\gamma_1\\gamma_2} = -\\frac{w+v}{1 + wv} $$\n",
    "\n",
    "And remove the minus sign to get the actual relation. Yay!"
   ]
  },
  {
   "cell_type": "markdown",
   "id": "24f36052",
   "metadata": {},
   "source": [
    "## Problem 17\n",
    "\n",
    "*a) Prove that for any timelike vector $\\vec{u}$ for which $U^0>0$ and $\\vec{U}\\cdot\\vec{U}=-1$ is the four-velocity of **some** worldline.*"
   ]
  },
  {
   "cell_type": "markdown",
   "id": "ed24b919",
   "metadata": {},
   "source": [
    "Let's come at this backward for a bit: isn't any vector at *all* a possible worldline? Well, no, at least not if you're being physically reasonable: nothing can go faster than light, so any paths going faster than that are out. Furthermore, velocity itself does warp things. \n",
    "\n",
    "We note that one of the requirements provided in the problem is $U^0 > 0$. Naturally, this makes sense, things have to go forward in time. And since something is timelike its time progression is greater than space progression, which is to say it is not faster than light. We've already met our requirement outlined above! Surely everything moving forward in time slower than light can be a valid four-velocity? An arbitrary line can easily be drawn anywhere withing the light-cone of the observer and be valid. \n",
    "\n",
    "So why does the problem imply that the dot product is a necessary requirement? \n",
    "\n",
    "Well, let's examine our transformed vector, $(\\gamma, -v_x\\gamma, -v_y\\gamma, -v_z\\gamma)$. However, remember that $\\gamma$ depends on all three velocity components as it is derived from the total velocity. $\\gamma = \\frac{1}{\\sqrt{1-v_x^2-v_y^2-v_z^2}}$ which obviously enforces the total velocity needing to be less than c, first of all. It also enforces positive time as there is no result that makes the Lorentz factor negative. \n",
    "\n",
    "Perhaps the dot product is always 1 as well, no matter what? Then naturally any and all vectors would have to be this way. \n",
    "\n",
    "This turns out to be absolutely true. \n",
    "\n",
    "$$\\vec{U}\\cdot\\vec{U} = \\gamma^2(-1 + v_x^2 + v_y^2 + v_z^2) = -1 $$\n",
    "\n",
    "Thus the three requirements are necessary for any and all actual four-velocities. Note that in normal vector algebra the \"-1\" term wouldn't be there, but a quirk of how the time axis is defined makes the dot product of its unit vector -1. "
   ]
  },
  {
   "cell_type": "markdown",
   "id": "01fafeb3",
   "metadata": {},
   "source": [
    "*b) Use this to prove that for any timelike vector $\\vec{V}$ there is a Lorentz frame in which $\\vec{V}$ has zero spatial components.*"
   ]
  },
  {
   "cell_type": "markdown",
   "id": "1b9e910c",
   "metadata": {},
   "source": [
    "I mean, this is just reasonable, we can prove it from the existence of the reference frame, no need to rely on the above oddity. Everything that is not accelerationg will, in its rest frame, appear as (1,0,0,0). \n",
    "\n",
    "Let's actually look at proving it the way they want, though. What we have in part a) was a certain restriction: our new vector can now have negative time (bizarre) and a different dot product. Both of these things are rather trivial to show they don't matter in the case of Lorentz transformations. \n",
    "\n",
    "If U can be transformed, this means any vector of the form (x,ax,bx,cx) can be transformed. Which is just a way of writing *literally any vector*. It doesn't matter how much of the \"velocity\" is in x, y, or z, it can always be set back to (1,0,0,0), as can be done for all worldlines. Increasing or decreasing the time axis to \"ruin\" the (1,0,0,0) nature of the rest frame does in fact make it unrealistic, but the vector can still be transformed to some form (T,0,0,0). *Always.* \n",
    "\n",
    "Also making it so time can go negative changes nothing as well. Every worldline we see can always be extended below the origin where it started, or the origin can be moved further along it. It's irrelevant. \n",
    "\n",
    "Now, what if the vector weren't timelike, but spacelike? Well then we'd have a problem, because the Lorentz transformation only handles velocoties lower than c. Its transformation approaches c, but can't go past c. Thus, anything beyond that area is outside its sphere of influence. (or, cone of influence, I suppoise is more accurate.)"
   ]
  },
  {
   "cell_type": "markdown",
   "id": "67305104",
   "metadata": {},
   "source": [
    "## Problem 18 \n",
    "\n",
    "*a) Show that the sum of any two orthogonal spacelike vectors is spacelike.*\n",
    "\n",
    "Trivial, can be proved visually. Spacelike vectors are restricted to a certain \"cone\" area aroudd the origin that is reserved for speeds \"faster than light.\" To get out of this cone a vector would have to point at an angle steeper than the 45 degrees that light itself points, and that just cannot be achieved. "
   ]
  },
  {
   "cell_type": "markdown",
   "id": "d5b115d1",
   "metadata": {},
   "source": [
    "*b) Show that a timelike vector and a null vector cannot be orthogonal.*"
   ]
  },
  {
   "cell_type": "markdown",
   "id": "d6ff05b5",
   "metadata": {},
   "source": [
    "Vectors are orthogonal if their dot products equal zero. So for the dot product of a null and timelike vector we will end up with some time-term and some space-term. Let the vectors be (a,b,c,d) and (e,f,g,h) respectively. -ae+bf+cg+dh is then the dot product. \n",
    "\n",
    "From the null vector we know that b+c+d-a = 0, and for the space vector we know that f+g+h-e > 0. It seems self-evident that multiplying the terms together can't end up in zero again, but we should seek to actually prove this. \n",
    "\n",
    "Let's redefine our axes to make this a \"1D\" problem, pointing x in the direction of motion. This makes the vectors (a,b,0,0) and (c,d,0,0) instead. This makes the final dot product much easier to look at: -ac+bd. Now, we know from the properties of a null bector that b=a, and from a spacelike vector that d>c. So we have a dot product of -ac+ad = a(d-c). Since d>c, this can never be zero. Thus, they can never be orthogonal. \n",
    "\n",
    "The same goes for null vectors and timelike vectors, which would have c>d. (For some reason I thought we were originally working with spacelike vectors, huh. Regardless, the statement holds, only null vectors are orthogonal to null vectors. Thusm, light is funky.)"
   ]
  },
  {
   "cell_type": "markdown",
   "id": "0bb51a73",
   "metadata": {},
   "source": [
    "## Problem 19\n",
    "\n",
    "*A body is said to be **uniformly accelerated** if its acceleration four-vector $\\vec{a}$ has constant spatial direction and magnitude, say, $\\vec{a}\\cdot\\vec{a} = \\alpha^2 \\geq 0$*\n",
    "\n",
    "*a) Show that this implies that $\\vec{a}$ always has the same components in the body's MCRF, and that these components are what one would call 'acceleration' in gallilean terms. (This would be the physical situation for a rocket whose engine always gave the same acceleration.)*"
   ]
  },
  {
   "cell_type": "markdown",
   "id": "c820b9ed",
   "metadata": {},
   "source": [
    "We know that the acceleraiton vector is always orthogonal to the velocity vector (in four-space). In the MCRF this makes the velocity vector (1,0,0,0) (because time always has to tick forward at 1 second per second to the observer) and thus the acceleration vector has (0,x,y,z). This does not prove that the magnitude of a has to be cosntant, unfortunately. But since the acceleration has a constant spatial direction and magnitude in the original reference frame, we can at least say it points the same direction in this one, and reduce the dimensionality of our problem.\n",
    "\n",
    "In reduced dimensionality, we have (1,0) for four-velocity and (0,a) for four-acceleration. (y and z, being zero, are just left off). Now, our goal is to show that a is constant in this reference frame and in any other reference frame--however they are not invariant, they can take different values in different frames. \n",
    "\n",
    "Translating to another reference frame, we find a four-velocity of $(\\gamma, -v\\gamma)$ and a four-acceleration of $(-va\\gamma, a\\gamma)$. This acceleration vector needs to be spacelike, so we check its dot product.\n",
    "\n",
    "$$ \\alpha^2 = -v^2a^2\\gamma^2 + a^2\\gamma^2 = a^2\\gamma^2(1-v^2) = a^2\\frac{1-v^2}{1-v^2} = a^2 $$\n",
    "\n",
    "There is no dependence on the velocity here, which we know is changing. Thus, we have shown what we set out to prove.\n",
    "\n",
    "REMEMBER: STOP DOING DOT PRODUCTS NORMALLY, THE TIME PORTIONS ARE ANTIPARALELL. "
   ]
  },
  {
   "cell_type": "markdown",
   "id": "22c2693b",
   "metadata": {},
   "source": [
    "*b) Suppose a body is uniformly accelerated with $\\alpha = 10m/s^2$ (about the acceleration of gravity on Earth). If the body starts from rest, find its speed after time t. Be sure to use the correct units. How far has it traveled in this time? How long does it take to reach v=0.9999?*"
   ]
  },
  {
   "cell_type": "markdown",
   "id": "550b2c0f",
   "metadata": {},
   "source": [
    "First of all, convert this to terms of lightspeed. Divide by c^2 to get (1/m) units. Specifically, 8.988e-19 1/m. Let's just call this $\\alpha$ for a while and not worry about the number. \n",
    "\n",
    "This is a constant, so using the differential equation we can easily find the proper time equation for the four-velocity $\\alpha\\tau$. (If it did not start from rest we would need the initial velocity.) This should look familiar if we take it again for position, $\\frac{1}{2} \\alpha \\tau^2$. As far as the proper time is concerned, it is following the normal kinematic equations. \n",
    "\n",
    "But this is PROPER TIME, for the NEXT PART. We want the perception of this acceleration from the ground. Which is a bit harder to think about since stuff is going quite wonky in terms of time dilation. Proper time is definitely not observed time. \n",
    "\n",
    "From part a) we know our acceleration vector is constant and spacial (That is, it has a constant magnitude that is also spacial). Since it is unfiorm acceleration we can write it as $(-v\\alpha\\gamma, \\alpha\\gamma)$ and the velocity is $(\\gamma, -v\\gamma)$. We know the actual speed v is irrelevant to the magnitude of the acceleration, but maybe not so for what it does to the velocity. The four-velocity has both of its components changing at the rate given by the acceleration's components. Which is to say differential equation time. \n",
    "\n",
    "$$\\frac{d\\vec{U}}{d\\tau} = \\vec{a} ; \\frac{d\\vec{x}}{d\\tau} = \\vec{U} $$\n",
    "\n",
    "Each component has to solve the equation separately. Starting with t-component...\n",
    "\n",
    "$$\\frac{d}{d\\tau} \\gamma = -v\\alpha\\gamma$$\n",
    "$$\\Rightarrow \\frac{d}{d\\tau} \\frac{1}{\\sqrt{1-v^2}} = -\\frac{v\\alpha}{\\sqrt{1-v^2}}$$\n",
    "\n",
    "And also for the space component...\n",
    "\n",
    "$$-\\frac{d}{d\\tau} v\\gamma = \\alpha\\gamma$$\n",
    "$$\\Rightarrow -\\frac{d}{d\\tau} \\frac{v}{\\sqrt{1-v^2}} = \\frac{\\alpha}{\\sqrt{1-v^2}}$$"
   ]
  },
  {
   "cell_type": "markdown",
   "id": "ae9e96e8",
   "metadata": {},
   "source": [
    "We may think we can already solve this, but the v here is the three-velocity, not the four-velocity, and we know nothing about that. These also appear to be some truly ugly differential equations, seeing as v most definitly depends on the proper time. ...Which makes me think there has to be another way to do this. "
   ]
  },
  {
   "cell_type": "markdown",
   "id": "8a2252ba",
   "metadata": {},
   "source": [
    "We did manage to get the differential equation to reduce to:\n",
    "\n",
    "$$ \\alpha = \\frac{1}{1-v^2} \\frac{dv}{d\\tau} $$\n",
    "\n",
    "and while this isn't quite as bad, it still doesn't seem very helpful."
   ]
  },
  {
   "cell_type": "markdown",
   "id": "3c43cec2",
   "metadata": {},
   "source": [
    "Possible Resources from Dr. Etienne:\n",
    "\n",
    "https://physics.princeton.edu/~mcdonald/examples/rel_accel.pdf\n",
    "\n",
    "https://www.physik.uni-leipzig.de/~schiller/ed10/Uniform%20relativistic%20acceleration.pdf\n",
    "\n",
    "https://en.wikipedia.org/wiki/Acceleration_(special_relativity)#Four-acceleration\n",
    "\n",
    "This gives us\n",
    "\n",
    "$$ \\vec{a_4} = \\left( \\gamma^4 \\vec{u}\\cdot\\vec{a} , \\gamma^4 (\\vec{u}\\cdot\\vec{a})\\vec{u} + \\gamma^2 \\vec{a} \\right) $$\n",
    "\n",
    "Since we can put things into one direction, we can condense the three-velocities into simpler terms. \n",
    "\n",
    "$$ \\vec{a_4} = \\left( \\gamma^4 va , \\gamma^4 v^2a + \\gamma^2 a \\right) $$\n",
    "\n",
    "Unfortunately this doesn't really get us much of anywhere, as both three-a and three-v depend on time. We only know that the magnitude of the four-a is constant. \n",
    "\n",
    "Since we have wasted so much time on this problem arleady BUt it seems unimaginably important, the time has come to just look up the answer. "
   ]
  },
  {
   "cell_type": "markdown",
   "id": "6116bb9e",
   "metadata": {},
   "source": [
    "Consider the four-velocity as components, (a,b,0,0). We know $-a^2+b^2=-1$. \n",
    "\n",
    "We also know the constant nature of the four-acceleration $- \\frac{da}{d\\tau}^2 + \\frac{db}{d\\tau}^2 = \\alpha^2 $\n",
    "\n",
    "This gets us an answer in terms of the proper time, for the differential equation has the solution of $a=cosh(\\alpha\\tau), b=sinh(\\alpha\\tau)$ \n",
    "\n",
    "This gives us functions for four-everything:\n",
    "\n",
    "acceleration: $(\\alpha sinh(\\alpha\\tau), \\alpha cosh(\\alpha\\tau))$\n",
    "\n",
    "velocity: $(cosh(\\alpha\\tau), sinh(\\alpha\\tau))$\n",
    "\n",
    "position: $(1/\\alpha sinh(\\alpha\\tau), 1/\\alpha cosh(\\alpha\\tau))$\n",
    "\n",
    "Which means we can say $t=\\frac{sinh(\\alpha\\tau)}{\\alpha}$ or perhaps more helpfully $\\tau = \\frac{arcsinh(\\alpha t)}{\\alpha}$\n",
    "\n",
    "Of course now we need to relate the four-velocity to the three-velocity to get the three-velocity as a function of t. \n",
    "\n",
    "Four-velocity takes the form $u = (\\gamma, \\gamma v)$. Using the time-component, we derive the following relation:\n",
    "\n",
    "$$ v = \\sqrt{1-\\frac{1}{cosh^2(\\alpha\\tau)}} $$\n",
    "\n",
    "Or with time\n",
    "\n",
    "$$ v = \\sqrt{1-\\frac{1}{cosh^2(arcsinh(\\alpha t))}} $$\n",
    "\n",
    "Now this is admittedly a mess but it gives us the answer we want. Remember, 8.988e-19 for $\\alpha$."
   ]
  },
  {
   "attachments": {
    "image.png": {
     "image/png": "[encoded data removed]"
    }
   },
   "cell_type": "markdown",
   "id": "de0ec374",
   "metadata": {},
   "source": [
    "Without setting $\\alpha$ we observe the shape of the velocity with time:\n",
    "\n",
    "![image.png](attachment:image.png)\n",
    "\n",
    "Makes sense. \n",
    "\n",
    "However using the actual acceleration value is a bit too small for my computer to deal with and honestly at this point it's time to move on. "
   ]
  },
  {
   "cell_type": "markdown",
   "id": "85c12728",
   "metadata": {},
   "source": [
    "*c) Find the elapsed **proper** time for the body in b) as a function of t. (Integrate d$\\tau$ along its world line.) How much proper time has elapsed by the time its speed is v=0.999? How much would a pearson accelerated in b) age on a trip from Earth to the center of our Galaxy, a distance of about 2e20 m?*"
   ]
  },
  {
   "attachments": {
    "image.png": {
     "image/png": "[encoded data removed]"
    }
   },
   "cell_type": "markdown",
   "id": "f7d97c46",
   "metadata": {},
   "source": [
    "Proper time is the negative square root of the interval. Just a reminder. \n",
    "\n",
    "Anyway we actually found an expression for three-velocity via proper time in the previous part. Plotting it shows:\n",
    "\n",
    "![image.png](attachment:image.png)\n",
    "\n",
    "Essentially no difference in overall shape, which isn't all that unusual. However, if we plot them both at the same time:"
   ]
  },
  {
   "attachments": {
    "image.png": {
     "image/png": "[encoded data removed]"
    }
   },
   "cell_type": "markdown",
   "id": "e054de69",
   "metadata": {},
   "source": [
    "![image.png](attachment:image.png)\n",
    "\n",
    "We can see a clear time discrepancy. Proper time (green) advances faster than observed time (red), meaning that the moving object experiences less time. (though reminder, from his accelerating reference frame, his velocity does not appear to be what we're indicating it is.)"
   ]
  },
  {
   "cell_type": "markdown",
   "id": "ea849275",
   "metadata": {},
   "source": [
    "Now here's a full, clearly laid out solution that I found after spending much work elsewhere:\n",
    "\n",
    "https://petraaxolotl.wordpress.com/chapter-2-vector-analysis-in-special-relativity/\n",
    "\n"
   ]
  },
  {
   "cell_type": "markdown",
   "id": "b40b1068",
   "metadata": {},
   "source": [
    "## Problem 20\n",
    "\n",
    "*The world line of a particle is described by  the equations x(t) = at+bsin(wt), y(t)=bcos(wt), z(t)=0, |bw|<1 in some inertial frame. Describe the motion and compute the components of the particle's four-velocity and four-acceleraiton.*\n",
    "\n",
    "No motion in z, so treat it as a z-absent problem, giving us a position vector (nonrelativistically) of (at+bsin(wt),bcos(wt)). What we'd like now is something of the form (t,x,y) in terms of the proper time rather than t itself. Fortunately the four-position is actually rather easy to establish:\n",
    "\n",
    "(t,at+bsin(wt),bcos(wt),0) \n",
    "\n",
    "Now we can rather easily find the three-velocity and three-acceleration via the usual derivative magic.\n",
    "\n",
    "v(t) = (a + bwcos(wt), -bwsin(wt),0) \n",
    "\n",
    "a(t) = $(-bw^2sin(wt), -bw^2cos(wt),0)$"
   ]
  },
  {
   "cell_type": "markdown",
   "id": "bf331815",
   "metadata": {},
   "source": [
    "The acceleration notably oscillates up and down. Furthermore due to |bw|<1, the velocity is never able to increase above c... well, almost. The a-value can still go wherever it wants. The velocity goes in a circle around the flat velocity a. We seem to be able to produce impossible results here by just dialing a up to, say, 0.999 lightspeed. But let's assume it just works out and that the math maintains sense. \n",
    "\n",
    "We know that any four-velocity at any moment can be written $(\\gamma,\\gamma v_x, \\gamma v_y, \\gamma v_z)$. The Lorentz factor does, however, depend on the total v. So let's find our magnitude:\n",
    "\n",
    "$$ v^2 = a^2 + b^2w^2cos^2(wt) + b^2w^2sin^2(wt) +2abwcos(wt) = a^2 + 2abwcos(wt) + 1$$\n",
    "\n",
    "Which now makes the Lorentz factor this lovely thing:\n",
    "\n",
    "$$ \\gamma = \\frac{1}{\\sqrt{1-(a^2 + 2abwcos(wt) + 1)}} $$\n",
    "$$ = \\frac{1}{\\sqrt{-a^2 - 2abwcos(wt)}} $$\n",
    "\n",
    "But nonetheless that does give us the four-velocity. Not gonna bother writing out the substitute. "
   ]
  },
  {
   "cell_type": "markdown",
   "id": "1ee6b229",
   "metadata": {},
   "source": [
    "The last part of the puzzle is the four-acceleration. Which we can do in a similar way. Remember, the inverse Lorentz transform back to the original state is acting on the MCRF acceleration, that is, (0,a_x,a_y,a_z). We know what all these components are and what the Lorentz factor is. Just... apply it to the full 3D (or well 2d, but just work out the z part) matrix and everything will fall into place!\n",
    "\n",
    "And be very extremely absurdly ugly. So let's not spend all that time and just move on. "
   ]
  },
  {
   "attachments": {
    "image.png": {
     "image/png": "[encoded data removed]"
    }
   },
   "cell_type": "markdown",
   "id": "25d99aac",
   "metadata": {},
   "source": [
    "As for the physical motion, we have 2D motion in the xy plane. In y, we're oscillating up and down. However, in x, we're oscillating forward and back while also having a constant motion forward. \n",
    "\n",
    "Geogebra produces\n",
    "\n",
    "![image.png](attachment:image.png)"
   ]
  },
  {
   "cell_type": "markdown",
   "id": "4494c03a",
   "metadata": {},
   "source": [
    "## Problem 21\n",
    "\n",
    "*The world line of a particle is described by the parametric equations in some Lorentz frame*\n",
    "\n",
    "$$ t(\\lambda) = asinh(\\lambda/a) , x(\\lambda) = acosh(\\lambda/a) $$\n",
    "\n",
    "*Where $\\lambda$ is the parameter and a is a constant. describe the motion and compute the particle's four-velocity and acceleration components. Show that $\\lambda$ is proper time along the world line and that the acceleraiton is uniform. Interpret a.*"
   ]
  },
  {
   "cell_type": "markdown",
   "id": "ca4d0f7f",
   "metadata": {},
   "source": [
    "The motion of the particle is that of an oscillator, moving back and forth along the direction of motion. As of the start of the problem we are unsure how relativistic effects will mess with the motion. Regardless, we need to show that the parameter is the proper time and from that we can easily take derivatives. So we just need to show that the interval is associated with lambda. \n",
    "\n",
    "Set one of the interval's points to zero to make this a direct correlation:\n",
    "\n",
    "$$ \\tau^2 = -a^2sinh^2(\\lambda/a) + a^2cosh^2(\\lambda/a) = a^2 $$\n",
    "\n",
    "What? This confirms something greatly suspected: the proper time can't just be directly calculated from the adjusted interval, it doesn't work. So what do we do then? \n",
    "\n",
    "Simple, really, we use $dt/d\\tau = \\gamma$ to extract some information. \n",
    "\n",
    "In order to make use of this, though, we need the three-velocity, which needs x(t). Which asks us the question: can we write cosh(x) in terms of sinh(x)? If they were squared this would be trivial, but they are not.  It still allows us to say, though, that $ cosh(x) = \\sqrt{sinh^2(x)-1} $ which means we can write x(t). \n",
    "\n",
    "$$ x(t) = a \\sqrt{\\frac{t^2}{a}-1} $$\n",
    "\n",
    "This curiuosly implies that if time < a nothing makes sense. Which is a bit odd, all things considered, but this should still hold. Anyway, this produces a three-velocity\n",
    "\n",
    "$$ v(t) = \\frac{t}{\\sqrt{\\frac{t^2}{a}-1}} $$\n",
    "\n",
    "Curiuosly, as time gets large, this approaches a velocity of a. a becomes the maximum velocity allowed. Very curious. \n",
    "\n",
    "With this value for velocity, we put it into the Lorentz factor and get the funky:\n",
    "$$ \\frac{dt}{d\\tau} = \\frac{1}{\\sqrt{1-\\frac{t^2}{t^2/a-1}}} $$\n",
    "\n",
    "The hoping for an obvious answer is not going to come true, however we can use separation of variables. "
   ]
  },
  {
   "cell_type": "markdown",
   "id": "5ee61c86",
   "metadata": {},
   "source": [
    "$$ d\\tau = \\sqrt{1-\\frac{t^2}{t^2/a-1}} dt $$\n",
    "\n",
    "Solving this produces an elliptic integral of the second kind so uh. No. This is not how to do it. \n",
    "\n",
    "Enoguh time spent, what's the actual method to use? ...\n",
    "\n",
    "Well there's a solution as part of the link for problem 19 but methinks it's just time to move on. "
   ]
  },
  {
   "cell_type": "markdown",
   "id": "0eefd11a",
   "metadata": {},
   "source": [
    "## Problem 22\n",
    "\n",
    "*a) Find the energy, rest mass, and three-velocity v of a particle whose four-momentum has the components (4,1,1,0) kg.*"
   ]
  },
  {
   "cell_type": "markdown",
   "id": "e1151cdf",
   "metadata": {},
   "source": [
    "The four-momentum is the mass times the four-velocity. Unfortunately we don't know either of those quantities and need to find both. However, we're fortunate for one thing: the first component of the four-momentum is always its energy, which in this case is **just 4**. This is equal to $m\\gamma$, which isn't all that helpful because we still need the three-velocity to calculate the Lorentz factor. \n",
    "\n",
    "The four velocity is effectively the unit vector version of the momentum, so we can find it by taking the magnitude of the momentum. Which, in this case, is -16+1+1 = -14. This should be -1, so we note that the four-velocity is $4/\\sqrt{14}, 1/\\sqrt{14}, 1/\\sqrt{14}, 0)$ Which does in fact keep the time factor above 1 so it is reasonable. \n",
    "\n",
    "This conveniently lets us know that the mass is exactly $\\sqrt{14}$.\n",
    "\n",
    "Now since we know the mass we can find the three-velocity. We already know its direction, along the line x=y, since the x and y components of momentum are equal. It's magnitude is related to the energy $E=m\\gamma$. Now, for small v, this could be simplified to rest mass plus kinetic energy. We won't be doing that today and instead will do the full valculation. \n",
    "\n",
    "$$ 4 = \\sqrt{14} \\frac{1}{\\sqrt{1-v^2}}$$\n",
    "$$ \\Rightarrow \\frac{4}{\\sqrt{14}} = \\frac{1}{\\sqrt{1-v^2}}$$\n",
    "$$ \\Rightarrow \\frac{\\sqrt{14}}{4} = \\sqrt{1-v^2}$$\n",
    "$$ \\Rightarrow \\frac{14}{16} = 1-v^2$$\n",
    "$$ \\Rightarrow 1-\\frac{7}{8} = v^2$$\n",
    "$$ \\Rightarrow \\sqrt{1/8} = v$$\n",
    "\n",
    "If we split the components up we get $v = (1/4,1/4,0)$"
   ]
  },
  {
   "cell_type": "markdown",
   "id": "70b0d543",
   "metadata": {},
   "source": [
    "*b) The collision of two particles of four momenta*\n",
    "\n",
    "$$ \\vec{p}_1 \\rightarrow_\\mathcal{O} (3,-1,0,0) kg, \\vec{p}_2 \\rightarrow_\\mathcal{O} (2,1,1,0) kg $$\n",
    "\n",
    "*results in the destruction of the two particles and the production of there new ones, two of which have four-momenta*\n",
    "\n",
    "$$ \\vec{p}_3 \\rightarrow_\\mathcal{O} (1,1,0,0) kg, \\vec{p}_4 \\rightarrow_\\mathcal{O} (1,-1/2,0,0) kg $$\n",
    "\n",
    "*Find the four-momentum, energy, rest mass, and three-velocity of the third particle produced. Find the CM frame's three-velocity.*"
   ]
  },
  {
   "cell_type": "markdown",
   "id": "39121e9a",
   "metadata": {},
   "source": [
    "Momentum is still simply conserved relativistically. The total momentum is just added at the start, (5,0,1,0). Now we subtract off the two momentums at the end, leaving us with **(3,-1/2,1,0)**. That's the momentum.\n",
    "\n",
    "The energy is 3, as with the prevoius problem. (note how energy conservation is automatically guaranteed by the way this is set up.)\n",
    "\n",
    "The square magnitude is the rather awkward -7.75, and so the mass is $\\sqrt{7.75}$. (still leaves four-velocity time component greater than 1). \n",
    "\n",
    "From this we find the three-velocity as we did previously, though this time we bothered to do it in general form to save us the algebra later:\n",
    "\n",
    "$$ v = \\sqrt{1-(m/E)^2}$$\n",
    "\n",
    "For this case, it is v = $\\sqrt{5/36} = \\sqrt{5} / 6$\n",
    "\n",
    "Of course now the components don't split up evenly, we have a 1/2 and a 1. The ratio of sides here is 1:2:$\\sqrt5$, which means we have 1/2:1:$\\sqrt{5}/2$ and then 1/6:1/3:$\\sqrt{5}/6$ so our three-velocity is (-1/6,1/3,0) which is very sensible. \n",
    "\n",
    "Now, what about the Center of Mass frame?"
   ]
  },
  {
   "cell_type": "markdown",
   "id": "edc3179d",
   "metadata": {},
   "source": [
    "The CM frame is defined as the frame wehre the total momentum has no physical momentum (though it still retains the energy). The three-momentum in our current reference frame is (0,1,0) with energy 5. What we need to do is find the reference frame where that pesky y-component goes to zero. Cleraly, (5,0,1,0) needs to undergo a y-Lorentz transformation, one that makes the final result zero. \n",
    "\n",
    "$$ -5v\\gamma + \\gamma = 0 $$\n",
    "$$ \\Rightarrow -5v + 1 = 0 $$\n",
    "$$ \\Rightarrow v=1/5 $$\n",
    "\n",
    "So our CM reference frame is moving 1/5 in the y-direction compared to our original reference frame. \n",
    "\n",
    "This adjusts the total energy to $5\\gamma - v\\gamma ~ 4.899$.\n",
    "\n",
    "So the CM frame total momentum is (4.899,0,0,0) as it should be. \n",
    "\n",
    "Of course now we want the three-velocity. Today the mass is easy to find as it is literally right there, ~4.899. (Making the four-velocity the very nice (1,0,0,0). But, egads, the mass is equal to the energy in the CM reference frame! This means the velocity... has to be zero! \n",
    "\n",
    "v = (0,0,0).\n",
    "\n",
    "Which hoestly is to be expected. Like. We're not moving according to that reference frame.\n",
    "\n",
    "(it occurs to us that the problem was probably asking for the 1/5 velocity relative to our current one. Oh well, a little extra work didn't really hurt here.)"
   ]
  },
  {
   "cell_type": "markdown",
   "id": "9f92ffc1",
   "metadata": {},
   "source": [
    "## Problem 23\n",
    "\n",
    "*A particle of rest mass m has three-velocity v. Find its energy correct to terms fo order $|v|^4$. At what speed |v| does the absolute value of $0(|v|^4)$ term equal 1/2 of the kinetic energy term $mv^2/2$?*\n",
    "\n",
    "This is a little oddly worded, but let's go for it. "
   ]
  },
  {
   "cell_type": "markdown",
   "id": "b1617b1b",
   "metadata": {},
   "source": [
    "Energy is given by $\\frac{m}{\\sqrt{1-v^2}}$. I believe we are being asked to taylor expand this to the fourth degree. Well, why not. But wolfram can do that. \n",
    "\n",
    "$$ \\Rightarrow m + \\frac{mv^2}{2} + \\frac{3mv^4}{8} + ...$$\n",
    "\n",
    "And we drop off the rest of the terms. \n",
    "\n",
    "Now we compare the two terms together. Notably one is contained in the other, so divide second-order out of fourth-order to get $\\frac{3v^2}{4}$. This equals 1/2 when $v=\\sqrt{2/3}$. 66.66% lightspeed is the point at which relativistic energy becomes obviously non-neglegible is the conclusino we are obviously supposed to draw. "
   ]
  },
  {
   "cell_type": "markdown",
   "id": "040617fa",
   "metadata": {},
   "source": [
    "## Problem 24\n",
    "\n",
    "*Prove that conservation of four-momentum forbids a reaction in which an electron and a positron annihilate and produce a single photon. Prove that the production of two photons is not forbidden.*\n",
    "\n",
    "Let's take forbidden to mean forbidden in ALL circumstances. No matter how fast the electron and the positron are moving, a single photon should not be able to satisfy conservation of momentum. \n",
    "\n",
    "The four-momentum is simply $m\\vec{u}$. The total momentum at the start is $m(\\vec{u_1}+\\vec{u_2})$, as both an electron and a positron have exactly the same mass.\n",
    "\n",
    "Here's the thing, though. In order for these particles to react, they need to touch each other. If neither of them are moving, a single released photon carries with it a direction that was not in the original total four-momentum. However, one can imagine a situation where the total four-momentum just happens to point in the same direction the photon is going, so it's not logically impossible. In fact a photon can carry any energy it wants: E=hv. (well, almost any.) However, it cannot carry *zero* momentum. So if the particles are still or hit each other at the same speed, a single photon is forbidden by momentum conservation.\n",
    "\n",
    "But if one particle is still and the other is thrown at it, what stops the photon from forming in the direction the original one was traveling? Suspect vagueness in the problem?\n",
    "\n",
    "ANSWER: The CM frame is where all momentum in a system is zero, there is only energy in the four-momentum. If we use the CM frame, we have a zero momentum. However, photons cannot be still in ANY reference frame, so a single photon will not function. \n",
    "\n",
    "Question to ask Dr. Etienne about--why does the reference frame change what is and isn't allowed? "
   ]
  },
  {
   "cell_type": "markdown",
   "id": "cb1505ff",
   "metadata": {},
   "source": [
    "## Problem 25\n",
    "\n",
    "*a) Let frame $\\mathcal{\\tilde{O}}$ move with speed v in the x-direction relative to $\\mathcal{O}$. Let a photon have frequency $\\nu$ in $\\mathcal{O}$ and move at an angle $\\theta$ with respect to $\\mathcal{O}$'s x axis. Show that its frequency in $\\mathcal{O}$ is*\n",
    "\n",
    "$$\\bar{\\nu}/\\nu = (1-vcos\\theta)/\\sqrt{1-v^2}$$"
   ]
  },
  {
   "cell_type": "markdown",
   "id": "d5ab68b8",
   "metadata": {},
   "source": [
    "We note that this angle has to be away from the x-axis in physical space, because in the spacetime diagram photons always have to move at a very specific angle. So let's say this angle goes to the y-axis and let's just ignore the z entirely, except for saying that both reference frames share it. \n",
    "\n",
    "Also to avoid confusion frequency is now f. Not $\\nu$ which is too easy to confuse with v. \n",
    "\n",
    "$$\\bar{f}/f = (1-vcos\\theta)/\\sqrt{1-v^2}$$\n",
    "\n",
    "Now frequency in both cases is given by f=E/h. h, being Plank's constant, is constant no matter what. However, as the energy changes between the two reference frames, so to does the frequency. Thus, $\\bar{f}/f = \\bar{E}/E$. It is fundamentally related to the associated energies. \n",
    "\n",
    "Let us consider the four-momentum. The four-momentum of a photon always has hf in the first term. Taking in just the detault reference frame, we have (E,E,0,0) if we assume it to be going in the x direction. Alternatively (hf,hf,0,0)"
   ]
  },
  {
   "cell_type": "markdown",
   "id": "0895c92f",
   "metadata": {},
   "source": [
    "First, let's consider rotation. Rotating the reference frame should do nothing to the energy, but it will do something to the x and y coordinates along the lines of $(hf,hfcos\\theta,hfsin\\theta,0)$. We could have made the sin negative, but all that does is decide which direction we're turning, and we chose to go positive. Naturally when the angle is zero we have a null rotaiton and nothing happens to the four-momentum. \n",
    "\n",
    "Now we apply the Lorents Transformation to this angular adjustment. And it's probably time to re-post the full 3D version since we have a lot of components. \n",
    "\n",
    "$$ \\begin{bmatrix}\n",
    "\\gamma & -v_x\\gamma & -v_y\\gamma & -v_z\\gamma \\\\ \n",
    "-v_x\\gamma & 1+(\\gamma-1)\\frac{v_x^2}{v^2} & (\\gamma-1)\\frac{v_xv_y}{v^2} & (\\gamma-1)\\frac{v_xv_z}{v^2} \\\\ \n",
    "-v_y\\gamma & (\\gamma-1)\\frac{v_yv_x}{v^2} & 1+(\\gamma-1)\\frac{v_y^2}{v^2} & (\\gamma-1)\\frac{v_yv_z}{v^2}\\\\ \n",
    "-v_z\\gamma & (\\gamma-1)\\frac{v_zv_x}{v^2} & (\\gamma-1)\\frac{v_xv_y}{v^2} & 1+(\\gamma-1)\\frac{v_z^2}{v^2}\n",
    "\\end{bmatrix} $$\n",
    "\n",
    "Now the cool thing is that we've already rotated our reference frame, we're moving in positive-x in respect to that, so all other velocities go to zero. \n",
    "\n",
    "$$ \\begin{bmatrix}\n",
    "\\gamma & -v\\gamma & 0 & 0 \\\\ \n",
    "-v\\gamma & \\gamma & 0 & 0 \\\\ \n",
    "0 & 0 & 1 & 0\\\\ \n",
    "0 & 0 & 0 & 1\n",
    "\\end{bmatrix} $$"
   ]
  },
  {
   "cell_type": "markdown",
   "id": "737e9b5e",
   "metadata": {},
   "source": [
    "We only bother to translate the first term though, as it is the translated energy.\n",
    "\n",
    "$$ \\bar{E} = hf\\gamma - hfv\\gamma cos\\theta $$\n",
    "\n",
    "And if we divide out hf, we get...\n",
    "\n",
    "$$ \\bar{f}/f = (1-vcos\\theta)\\gamma $$\n",
    "\n",
    "Which is exactly what it is supposed to be. "
   ]
  },
  {
   "cell_type": "markdown",
   "id": "5c48c74a",
   "metadata": {},
   "source": [
    "*b) Even when the motion of the photon is perpendicular to the x axis ($\\theta = \\pi/2$) there is a frequency shift. This is called the transverse Doppler shift, and arises because of the time dilation. At what angle $\\theta$ does the photon have to move so that there is no doppler shift between $\\mathcal{O}$ and $\\mathcal{\\tilde{O}}$?*"
   ]
  },
  {
   "cell_type": "markdown",
   "id": "f8af406a",
   "metadata": {},
   "source": [
    "No shift ooccurs when the ratio is 1. Which means $1-vcos\\theta = 1/\\gamma$. \n",
    "\n",
    "With a bit more adjustment, we get:\n",
    "\n",
    "$$ \\theta = arccos(\\frac{1-\\sqrt{1-v^2}}{v}) $$\n",
    "\n",
    "Which has an annoying discontinuity at v=0 but the argument inside the arccos approaches 0 at that discontinuity, which produces $\\pi/2$, which it should. "
   ]
  },
  {
   "cell_type": "markdown",
   "id": "f4a1dcf2",
   "metadata": {},
   "source": [
    "*c) Use Equations 2.35 and 2.38 to calculate equation 2.42*"
   ]
  },
  {
   "cell_type": "markdown",
   "id": "89ae3c70",
   "metadata": {},
   "source": [
    "2.35: $-\\vec{p}\\cdot\\vec{U}_{obs} = \\vec{E}$\n",
    "\n",
    "2.38: E=hf\n",
    "\n",
    "2.42: $\\bar{f}/f = (1-vcos\\theta)/\\sqrt{1-v^2}$"
   ]
  },
  {
   "cell_type": "markdown",
   "id": "401ecf63",
   "metadata": {},
   "source": [
    "Well we already used 2.38 in the previous derivation, but the first one... \n",
    "\n",
    "So we find out the energy.\n",
    "\n",
    "$$-(hf,hf,0,0) \\cdot (\\gamma, vcos\\theta\\gamma, vsin\\theta\\gamma,0)$$\n",
    "\n",
    "$$  = hf\\gamma - hfv\\gamma cos\\theta $$\n",
    "\n",
    "I'm impressed. This just up and computes it directly. Neat. "
   ]
  },
  {
   "cell_type": "markdown",
   "id": "86f06138",
   "metadata": {},
   "source": [
    "## Problem 26\n",
    "\n",
    "*Calculate the energy required to accelerate a particle of rest mass m$\\neq$0 from speed v to speed $v+\\delta v (\\delta v << v)$, to the first order in $\\delta v$. Show that it would take an infinite amount of energy to accelerate the particle to the speed of light.*\n",
    "\n",
    "Wouldn't that last part run the much much less thatn assumption? Unless... we were already near light speed. Interesting. \n",
    "\n",
    "2.35: $-\\vec{p}\\cdot\\vec{U}_{obs} = \\vec{E}$"
   ]
  },
  {
   "cell_type": "markdown",
   "id": "bb3e0b49",
   "metadata": {},
   "source": [
    "Regardless, let's assume linear motion and everything, meaning we can use \"2D\" stuff to make this work. Let's take the object's momentum four vector from where it is stationary, meaning we have m(1,0). \n",
    "\n",
    "$-(m,0)\\cdot(\\gamma,-v\\gamma)$\n",
    "\n",
    "Note that we're using the object as the stationary reference frame, so it thinks it just has basic energy. Since it thinks it isn't moving, it's energy is just thought to be m, it's rest mass. This produces a perceived energy from the \"moving\" reference frame of\n",
    "\n",
    "$E = m\\gamma + mv\\gamma $\n",
    "\n",
    "now since we're about to start messing with v it's time to write out gamma again. \n",
    "\n",
    "$$E = \\frac{m+mv}{\\sqrt{1-v^2}}$$\n",
    "\n",
    "And if we induce a change in v... \n",
    "\n",
    "$$E' = \\frac{m+mv+m\\delta v}{\\sqrt{1-v^2-\\delta v^2-2mv\\delta v}}$$"
   ]
  },
  {
   "cell_type": "markdown",
   "id": "f369e87d",
   "metadata": {},
   "source": [
    "We're told the smallness of $\\delta v$ most likely for this moment so we can ignore the square term, and then taylor expand. \n",
    "\n",
    "$$E' = \\frac{m+mv+m\\delta v}{\\sqrt{1-v^2-2v\\delta v}}$$\n",
    "\n",
    "Taken to first order, this expansion becomes:\n",
    "\n",
    "$$E' \\approx \\frac{m+mv}{\\sqrt{1-v^2}} -\\frac{m}{(v-1)\\sqrt{1-v^2}}\\delta v$$"
   ]
  },
  {
   "cell_type": "markdown",
   "id": "dd29fb54",
   "metadata": {},
   "source": [
    "Note that velocities are only in the denominator on the second term. And as we are in the v<1 territory, the second term is going to be positive. Exploding to infinity, in particular. The energy change becomes simply absurd. Doesn't even matter what the change in velocity is-so long as we are accelerating, anyway. "
   ]
  },
  {
   "cell_type": "markdown",
   "id": "8972bf34",
   "metadata": {},
   "source": [
    "## Problem 27\n",
    "\n",
    "*Two identical bodies of mass 10kg are at rest at the same temperature. One of them is heated by the addition of 100J of heat. Both are then subjected to the same force. Which accelerates faster, and by how much?*\n",
    "\n",
    "I posit that they actually still accelerate the same amount. The overall kinetic energy of the particles within the bodies is going to average out in direction to have a net effect of zero. \n",
    "\n",
    "Turns out this is not correct because increasing the internal energy INCREASES THE REST MASS.\n",
    "\n",
    "How can we calculate this? well, four-momentum's first component is the ENERGY. At rest, it looks like (E,0,0,0) and is evaluated from mu. Now, this means the rest mass \"m\" is equal to the total energy inherent in the system, so are are adding some mass to the 10kg object by heating it up (counterintuitively). The exact amount would be found by E=mc^2 or just... E=m. Curiously, we need to convert the JOULES to mass. \n",
    "\n",
    "This is 1.11e-17 kg by the way\n",
    "still, cooler object accelerates faster. My musing about the average kinetic energy of interior particles was bunk."
   ]
  },
  {
   "cell_type": "markdown",
   "id": "c4d145ce",
   "metadata": {},
   "source": [
    "## Problem 28\n",
    "\n",
    "Trivial and boring and tedious. Mostly just vector math, nothing all that special really. "
   ]
  },
  {
   "cell_type": "markdown",
   "id": "350399da",
   "metadata": {},
   "source": [
    "## Problem 29\n",
    "\n",
    "Appears to be an exercise in vector nonsense rather than relativity. Pass. "
   ]
  },
  {
   "cell_type": "markdown",
   "id": "0d7e8e40",
   "metadata": {},
   "source": [
    "## Problem 30\n",
    "\n",
    "*The four-velocity of a rocket ship is $\\vec{U}_\\mathcal{O} = (2,1,1,1)$. It encounters a high-velocity cosmic ray whose momentum is $ \\vec{P}_\\mathcal{O} = (300,299,0,0)e-27 kg. $* Compute the energy of the cosmic ray as measured by the rocket ship's engineers, using each of hte following methods.*\n",
    "\n",
    "*a) Find the Lorentz trnasformations from $\\mathcal{O}$ to the MCRF of the rocket ship, and use it to transform the components of $\\vec{P}$*"
   ]
  },
  {
   "cell_type": "markdown",
   "id": "1f1f41eb",
   "metadata": {},
   "source": [
    "We know (2,1,1,1) must have been transformed from a (1,0,0,0), and we want to find it again. We note that all the v components are equal to each other, that is, $v_x=v_y=v_z$. Then we'd have to... oh geez yeah this would take a while. Let's not do that and instead use the much faster method of..."
   ]
  },
  {
   "cell_type": "markdown",
   "id": "2b15720f",
   "metadata": {},
   "source": [
    "*b) Use 2.35: $-\\vec{p}\\cdot\\vec{U}=\\bar{E}$*\n",
    "\n",
    "Which makes this almost trivial. $-(2,1,1,1)\\cdot(300,299,0,0) = (600,-299,0,0)$ times 1e-27kg, of course.\n",
    "\n",
    "Clearly we wish to use the short way around. "
   ]
  },
  {
   "cell_type": "markdown",
   "id": "74a77048",
   "metadata": {},
   "source": [
    "## Problem 31\n",
    "\n",
    "*A photon of frequency v is reflected without change of frequency from a mirror, with an angle of incidence $\\theta$. Calculate the momentum transfered to the mirror. What momentum would be transfered if the photon were absorbed rahter than reflected?*\n",
    "\n",
    "Okay so let's just write down photon momentum in general, it's p=h$\\lambda$ or p = h/f. \n",
    "\n",
    "This is actually irrelevant to the problem. Due to conservation of momentum the photon has to impart momentum to the mirror based on its angle of incidence. If it is absorbed, the mirror must gain exactly p, easy. \n",
    "\n",
    "However, as it is reflected, momentum needs to be conserved. The mirror has to gain momentum equal to twice the incoming component of the photon's momentum, in other words, $2pcos\\theta$. Which comes from the fact that the photon is moving exactly as it was before, just in an opposite direction, and x-(-x) = 2x. Tah-dah. "
   ]
  },
  {
   "cell_type": "markdown",
   "id": "665fc9d0",
   "metadata": {},
   "source": [
    "## Problem 32\n",
    "\n",
    "*Let a particle of charge e and rest mass m initially at rest in the laboratory, scatter a photon of initial frequency $f_i$. This is called Compton Scattering. Suppose the scattered photon comes off at an angle $\\theta$ from the incident direction. Use conservation of four-momentum to deduce that the photon's final frequency $f_f$ is given by*\n",
    "\n",
    "$$ \\frac{1}{f_f} = \\frac{1}{f_i}+h\\left( \\frac{1-cos\\theta}{m} \\right) $$"
   ]
  },
  {
   "cell_type": "markdown",
   "id": "b81c3062",
   "metadata": {},
   "source": [
    "The total four momentum before and after needs to be the same. \n",
    "\n",
    "Before, the four-momentum of our particles are $(hf_i,hf_i,0,0)$ for the photon and (m,0,0,0) for the particle at rest. This needs to equal the final result, of which the photon is shooting off at an angle so the four momentum is $(hf_f,hf_fcos\\theta,hf_fsin\\theta,0)$. We assume the angle is in the xy plane, here. Now we actually aren't entirely sure what the particle's final momentum is: the photon has to transfer some in order to make the transition, but how much is a bit up in the air. By conservation of momentum, we know that each of the four components must be conserved. Notably the z-component is trivially true. If we let the particle's components be P, we have...\n",
    "\n",
    "$$ 0 = hf_fsin\\theta + P_y \\Rightarrow P_y = -hf_fsin\\theta $$\n",
    "$$ hf_i = hf_fcos\\theta + P_x \\Rightarrow P_x = hf_i - hf_fcos\\theta $$\n",
    "$$ hf_i + m = hf_f + P_t \\Rightarrow P_t = m + hf_i - hf_f $$\n",
    "\n"
   ]
  },
  {
   "cell_type": "markdown",
   "id": "da21ddd5",
   "metadata": {},
   "source": [
    "At this point we have three equations and two unknowns, the frequencies, so surely we would be able to solve them in terms of each other without too much difficutly. Except the P-values always cancel out everything. So instead why don't we correlate the magnitudes of the four vectors? Those still need to be conserved as well.\n",
    "\n",
    "Photon initial: 0 \n",
    "\n",
    "Photon final: also 0. \n",
    "\n",
    "Particle initial: -$m^2$.\n",
    "\n",
    "Particle final: $-m^2-2hmf_i+2hmf_f+2h^2f_if_f-2h^2f_if_fcos\\theta$"
   ]
  },
  {
   "cell_type": "markdown",
   "id": "4d738911",
   "metadata": {},
   "source": [
    "Setting the two equal with some funky algebra, namely dividing everything through by $2hmf_ff_i$ we get\n",
    "\n",
    "$$ 0 = -\\frac{1}{f_f}+\\frac{1}{f_f}+\\frac{h}{m}-\\frac{hcos\\theta}{m}$$\n",
    "\n",
    "Which rather quickly becomes\n",
    "\n",
    "$$ \\frac{1}{f_f} = \\frac{1}{f_i}+h\\left( \\frac{1-cos\\theta}{m} \\right) $$\n",
    "\n",
    "Thus we have shown compton scattering via four-momentum. "
   ]
  },
  {
   "cell_type": "markdown",
   "id": "db63e6cc",
   "metadata": {},
   "source": [
    "## Problem 33\n",
    "\n",
    "*Space is filled with cosmic rays and the cosmic microwave background radiation. These can compton scatter off one another. Suppose a photon of energy hf = 2e-4 eV scatters off a proton of energy 1e18 eV, energies measured in the Sun's rest frame. Use 2.43 (the equation in problem 32) in the proton's initial rest frame to calculate the maximum final energy the photon can have in the solar rest frame after the scattering. What energy range is this?*"
   ]
  },
  {
   "cell_type": "markdown",
   "id": "c32978a5",
   "metadata": {},
   "source": [
    "Adjusting the equation gives us\n",
    "\n",
    "$$ \\frac{1}{hf_f} = \\frac{1}{hf_i}+\\left( \\frac{1-cos\\theta}{m_p} \\right) $$\n",
    "\n",
    "Except we have to transfer from the Sun's reference frame to the proton's and then use this which is just gonna take a while. Just outline the procedure: we seek to maximize $f_f$ and tah-dah there it'll go. The range will come from various angles though. "
   ]
  },
  {
   "cell_type": "markdown",
   "id": "6fe112aa",
   "metadata": {},
   "source": [
    "## Problem 34\n",
    "\n",
    "Irrelevant, a bunch of vector relations. "
   ]
  },
  {
   "cell_type": "markdown",
   "id": "26ffba4b",
   "metadata": {},
   "source": [
    "## Problem 35\n",
    "\n",
    "Seems irrelevant, also annoying. "
   ]
  },
  {
   "cell_type": "code",
   "execution_count": null,
   "id": "7559fbc0",
   "metadata": {},
   "outputs": [],
   "source": []
  },
  {
   "cell_type": "code",
   "execution_count": null,
   "id": "c568935f",
   "metadata": {},
   "outputs": [],
   "source": []
  }
 ],
 "metadata": {
  "kernelspec": {
   "display_name": "Python 3 (ipykernel)",
   "language": "python",
   "name": "python3"
  },
  "language_info": {
   "codemirror_mode": {
    "name": "ipython",
    "version": 3
   },
   "file_extension": ".py",
   "mimetype": "text/x-python",
   "name": "python",
   "nbconvert_exporter": "python",
   "pygments_lexer": "ipython3",
   "version": "3.10.4"
  }
 },
 "nbformat": 4,
 "nbformat_minor": 5
}
