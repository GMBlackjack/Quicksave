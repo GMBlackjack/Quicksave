{
 "cells": [
  {
   "cell_type": "markdown",
   "id": "0c1bfe81",
   "metadata": {},
   "source": [
    "# General Relativity Problems Chapter 7: Physics in a Curved Spacetime\n",
    "\n",
    "## Authors: Gabriel M Steward"
   ]
  },
  {
   "cell_type": "markdown",
   "id": "479540e4",
   "metadata": {},
   "source": [
    "https://github.com/zachetienne/nrpytutorial/blob/master/Tutorial-Template_Style_Guide.ipynb\n",
    "\n",
    "Link to the Style Guide. Not internal in case something breaks. "
   ]
  },
  {
   "cell_type": "markdown",
   "id": "10780970",
   "metadata": {},
   "source": [
    "### </list_source_code> NRPy+ Source Code for this module:\n",
    "None! \n",
    "\n",
    "## Introduction:\n",
    "Now maybe we can apply what we've learned to some actual physical problems. Maybe. One can hope.\n",
    "\n",
    "## </other>  Other (Optional): \n",
    "Placeholder. \n",
    "\n",
    "### Note on Notation:\n",
    "Any new notation will be brought up in the notebook when it becomes relevant. \n",
    "\n",
    "### Citations:\n",
    "\n",
    "<a id='1'></a>\n",
    "[1] (Link) (Placeholder)\n"
   ]
  },
  {
   "cell_type": "markdown",
   "id": "56664bc2",
   "metadata": {},
   "source": [
    "<a id='toc'></a>\n",
    "\n",
    "# Table of Contents\n",
    "$$\\label{toc}$$\n",
    "\n",
    "[Problem 1](#P1) (A thought experiment)\n",
    "\n",
    "[Problem 2](#P2) (Newtonian Metric)\n",
    "\n",
    "[Problem 3](#P3) (Newtonian Metric Christoffel Symbols)\n",
    "\n",
    "[Problem 4](#P4) (g00)\n",
    "\n",
    "[Problem 5](#P5) (The Static Fluid Problem, incomplete)\n",
    "\n",
    "[Problem 6](#P6) (Geodesic Momentum)\n",
    "\n",
    "[Problem 7](#P7) (Playing with Complicated Metrics and Their Momentums, incomplete)\n",
    "\n",
    "[PDF](#latex_pdf_output) (turn this into a PDF)"
   ]
  },
  {
   "cell_type": "markdown",
   "id": "7daf72fa",
   "metadata": {},
   "source": [
    "<a id='P1'></a>\n",
    "\n",
    "# Problem 1 \\[Back to [top](#toc)\\]\n",
    "$$\\label{P1}$$ \n",
    "\n",
    "*If 7.3 were the corret genrealization of 7.1 to a curved spacetime, how would you interpret it? What would happen to the number of particles in a comoving volume of the fluid, as time evolves? In principle, can we distinguish experimetnally between 7.2 and 7.3?*"
   ]
  },
  {
   "cell_type": "markdown",
   "id": "5b58e2c0",
   "metadata": {},
   "source": [
    "7.1: $(nU^\\alpha)_{,\\alpha}=0$\n",
    "\n",
    "7.2: $(nU^\\alpha)_{;\\alpha}=0$\n",
    "\n",
    "7.3: $(nU^\\alpha)_{;\\alpha}=qR^2$\n",
    "\n",
    "The exact value of qR^2 is irrelevant, besides the fact that it vanishes in a Lorentz frame as R vanishes there. \n",
    "\n",
    "$nU^\\alpha$ is the particle density times its actual \"speed\" at any given reference frame. We know this quantity to be N. The first component is the number density, the rest are the flux. \n",
    "\n",
    "7.1 says many things, but one of the things it says is that the flux values are constants with respect to all coordinates: they do not change. (for something of constant density everywher,e which is what n is). No matter where we are or when we are, everything is the same. \n",
    "\n",
    "7.2 asserts this is true no matter your reference frame or curvature. \n",
    "\n",
    "7.3, on the other hand, disagrees, saying that the fluxes do change with curvature. This means that while locally it may seem that everything is conserved, globally it is not, the values of the fluxes could be different at large differences. Also the number density could change. \n",
    "\n",
    "The number density is the big thing. Elsewhere, we have a different density. This means there have to be *more particles* over there. But we established a constant density, so curvature must be *creating* particles. \n",
    "\n",
    "This seems like nonsense, to be sure. \n",
    "\n",
    "Depending on the curvature, the number of particles would go up or down (we don't know the sign of q). R, however, is squared and always positive. So this means curvature can only CREATE or DESTROY particles, not both. There would be no \"going back\" afterward. \n",
    "\n",
    "Which means we can definitely test it. Just gather a bunch of particles and accelerate them to near light speeds and then count them along the whole trip. \n",
    "\n",
    "((we understand that virtual particles throw a wrench into this, but that usually keeps particle number conserved over large times, so just consider them noise.))\n",
    "\n",
    "At this juncture all experiments show that particles are in fact conserved. As well as all the other conservation laws. Still, though, the gradual incerasing or decreasing of particles would be rather interesting. Since it can't go back down or up, though, it sure seems like that would violate energy conservation... and entropy... and a whole slew of other things. \n",
    "\n",
    "Now if there were an alternative 7.3 that could take both positive and negative values, then that would be a different story. And something like this kind of has to be true, as at any given moment particle number in the universe is not conserved. The aforementioned virtual particles at black hole horizons kind of throw a wrench into this. (Though that theory would involve interactions between particles, which we are ignoring right now, and is probably a million times more complicated than we realize.)"
   ]
  },
  {
   "cell_type": "markdown",
   "id": "b7e71e8b",
   "metadata": {},
   "source": [
    "<a id='P2'></a>\n",
    "\n",
    "# Problem 2 \\[Back to [top](#toc)\\]\n",
    "$$\\label{P2}$$ \n",
    "\n",
    "*To first order in $\\phi$, compute $g^{\\alpha\\beta}$ for 7.8*"
   ]
  },
  {
   "cell_type": "markdown",
   "id": "4fe500ed",
   "metadata": {},
   "source": [
    "Ah, 7.8! The \"Newtonian\" metric! 7.8 is rather helpful but we'll write it out for reference:\n",
    "\n",
    "$$ ds^2 = -(1+2\\phi)dt^2 + (1-2\\phi)(dx^2+dy^2+dz^2)  $$\n",
    "\n",
    "Which gives us a metric with diagonal\n",
    "\n",
    "$$(-(1+2\\phi),1-2\\phi,1-2\\phi,1-2\\phi)$$\n",
    "\n",
    "Now we could calculat the inverse metric the long way... or we could just find this matrix's inverse that returns us to the (-1,1,1,1) matrix. Which is actually rather easy, just invert everything.\n",
    "\n",
    "$$(-\\frac{1}{(1+2\\phi)},\\frac{1}{1-2\\phi},\\frac{1}{1-2\\phi},\\frac{1}{1-2\\phi})$$\n",
    "\n",
    "NOTE: The metrics are inverses of each other, they form the identity, NOT the Lorentz metricwhen together. They do convert back and forth between the Lorentz metric, but that's when STARTING from the Lorentz metric. Be careful."
   ]
  },
  {
   "cell_type": "markdown",
   "id": "8a445f23",
   "metadata": {},
   "source": [
    "<a id='P3'></a>\n",
    "\n",
    "# Problem 3 \\[Back to [top](#toc)\\]\n",
    "$$\\label{P3}$$ \n",
    "\n",
    "*Calculate all the Christoffel symbols for the metric given by 7.8 to first order in $\\phi$. Assume $\\phi$ is a general function of t,x,y,z.*\n",
    "\n",
    "Ah, see, this is more challenging, since now we've got to take derivatives of the metric we declared in **Problem 2** and since we know nothing about the actual form of $\\phi$ this could get quite ugly. Fortunately we can ignore anything squared or higher in our approximation, which is neat. \n",
    "\n",
    "Anyway, we need derivatives of the metric with respect to everything. This is:\n",
    "\n",
    "$$(-2\\phi_{,t},-2\\phi_{,x},-2\\phi_{,y},-2\\phi_{,z})$$\n",
    "\n",
    "It actually doesn't matter which element is being used, they're all the same in terms of derivative, bizarrely.\n",
    "\n",
    "And fortunately for us we don't have to calculate derivatives of the inverse metric. Yet. \n",
    "\n",
    "The general formula for the Christoffel symbols are: \n",
    "\n",
    "$$ \\Gamma^\\gamma_{\\beta\\mu} = \\frac{1}{2} g^{\\alpha\\gamma} (g_{\\alpha\\beta,\\mu} + g_{\\alpha\\mu,\\beta} - g_{\\beta\\mu,\\alpha})  $$\n",
    "\n",
    "Which means we'll have... a 4x4x4 result. This is gonna be a spicy one. "
   ]
  },
  {
   "cell_type": "markdown",
   "id": "e9f607bf",
   "metadata": {},
   "source": [
    "Fortunately the vast majority of these are just going to be zero because the metric has a lot of zeroes. We only need concern ourselves with the situations where the three inner metrics aren't zero, that is, their indeces match. Unfortunately there are still a lot of those. This time the bottom coordinates $\\beta\\mu$ represent the row/column while the top coordinate $\\gamma$ is the matrix itself. Coordinates are in order (txyz) or (0123) depending on what system is being used. \n",
    "\n",
    "\n",
    "\n",
    "$$ \\Gamma^{\\gamma}_{\\beta\\mu} = \\begin{bmatrix}\n",
    "\\frac{\\phi_{,t}}{1+2\\phi} & \\frac{\\phi_{,x}}{1+2\\phi} & \\frac{\\phi_{,y}}{1+2\\phi} & \\frac{\\phi_{,z}}{1+2\\phi} \\\\ \n",
    "\\frac{\\phi_{,x}}{1+2\\phi} & -\\frac{\\phi_{,t}}{1+2\\phi} & 0 & 0 \\\\\n",
    "\\frac{\\phi_{,y}}{1+2\\phi} & 0 & -\\frac{\\phi_{,t}}{1+2\\phi} & 0 \\\\\n",
    "\\frac{\\phi_{,z}}{1+2\\phi} & 0 & 0 & -\\frac{\\phi_{,t}}{1+2\\phi}\n",
    "\\end{bmatrix},\\begin{bmatrix}\n",
    "\\frac{\\phi_{,x}}{1-2\\phi} & -\\frac{\\phi_{,t}}{1-2\\phi} & 0 & 0 \\\\ \n",
    "-\\frac{\\phi_{,t}}{1-2\\phi} & -\\frac{\\phi_{,x}}{1-2\\phi} & -\\frac{\\phi_{,y}}{1-2\\phi} & -\\frac{\\phi_{,z}}{1-2\\phi} \\\\\n",
    "0 & -\\frac{\\phi_{,y}}{1-2\\phi} & \\frac{\\phi_{,x}}{1-2\\phi} & 0 \\\\\n",
    "0 & -\\frac{\\phi_{,z}}{1-2\\phi} & 0 & \\frac{\\phi_{,x}}{1-2\\phi}\n",
    "\\end{bmatrix},\\begin{bmatrix}\n",
    "\\frac{\\phi_{,y}}{1-2\\phi} & 0 & -\\frac{\\phi_{,t}}{1-2\\phi} & 0 \\\\ \n",
    "0 & \\frac{\\phi_{,y}}{1-2\\phi} & -\\frac{\\phi_{,x}}{1-2\\phi} & 0 \\\\\n",
    "-\\frac{\\phi_{,t}}{1-2\\phi} & -\\frac{\\phi_{,x}}{1-2\\phi} & -\\frac{\\phi_{,y}}{1-2\\phi} & -\\frac{\\phi_{,z}}{1-2\\phi} \\\\\n",
    "0 & 0 & -\\frac{\\phi_{,z}}{1-2\\phi} & \\frac{\\phi_{,y}}{1-2\\phi}\n",
    "\\end{bmatrix},\\begin{bmatrix}\n",
    "\\frac{\\phi_{,z}}{1-2\\phi} & 0 & 0 & -\\frac{\\phi_{,t}}{1-2\\phi} \\\\ \n",
    "0 & \\frac{\\phi_{,z}}{1-2\\phi} & 0 & -\\frac{\\phi_{,x}}{1-2\\phi} \\\\\n",
    "0 & 0 & \\frac{\\phi_{,z}}{1-2\\phi} & -\\frac{\\phi_{,y}}{1-2\\phi} \\\\\n",
    "-\\frac{\\phi_{,t}}{1-2\\phi} & -\\frac{\\phi_{,x}}{1-2\\phi} & -\\frac{\\phi_{,y}}{1-2\\phi} & -\\frac{\\phi_{,z}}{1-2\\phi}\n",
    "\\end{bmatrix}\n",
    "$$"
   ]
  },
  {
   "cell_type": "markdown",
   "id": "f49d2fb1",
   "metadata": {},
   "source": [
    "And there they all. All of them. We suspect that in a known field many of the derivatives will vanish. \n",
    "\n",
    "Apparently the book considers \"to first order\" approximations to include removing the fraction since phi is small. Which is fine, 1 dominates, but methinks that's not a very strict definition of \"to first order.\"\n",
    "\n",
    "$$ \\Gamma^{\\gamma}_{\\beta\\mu} = \\begin{bmatrix}\n",
    "\\phi_{,t} & \\phi_{,x} & \\phi_{,y} & \\phi_{,z} \\\\ \n",
    "\\phi_{,x} & -\\phi_{,t} & 0 & 0 \\\\\n",
    "\\phi_{,y} & 0 & -\\phi_{,t} & 0 \\\\\n",
    "\\phi_{,z} & 0 & 0 & -\\phi_{,t}\n",
    "\\end{bmatrix},\\begin{bmatrix}\n",
    "\\phi_{,x} & -\\phi_{,t} & 0 & 0 \\\\ \n",
    "-\\phi_{,t} & -\\phi_{,x} & -\\phi_{,y} & -\\phi_{,z} \\\\\n",
    "0 & -\\phi_{,y} & \\phi_{,x} & 0 \\\\\n",
    "0 & -\\phi_{,z} & 0 & \\phi_{,x}\n",
    "\\end{bmatrix},\\begin{bmatrix}\n",
    "\\phi_{,y} & 0 & -\\phi_{,t} & 0 \\\\ \n",
    "0 & \\phi_{,y} & -\\phi_{,x} & 0 \\\\\n",
    "-\\phi_{,t} & -\\phi_{,x} & -\\phi_{,y} & -\\phi_{,z} \\\\\n",
    "0 & 0 & -\\phi_{,z} & \\phi_{,y}\n",
    "\\end{bmatrix},\\begin{bmatrix}\n",
    "\\phi_{,z} & 0 & 0 & -\\phi_{,t} \\\\ \n",
    "0 & \\phi_{,z} & 0 & -\\phi_{,x} \\\\\n",
    "0 & 0 & \\phi_{,z} & -\\phi_{,y} \\\\\n",
    "-\\phi_{,t} & -\\phi_{,x} & -\\phi_{,y} & -\\phi_{,z}\n",
    "\\end{bmatrix}\n",
    "$$"
   ]
  },
  {
   "cell_type": "markdown",
   "id": "9d726270",
   "metadata": {},
   "source": [
    "Random factoid: determinant g is equal to $1-8\\phi$."
   ]
  },
  {
   "cell_type": "markdown",
   "id": "7964a86f",
   "metadata": {},
   "source": [
    "<a id='P4'></a>\n",
    "\n",
    "# Problem 4 \\[Back to [top](#toc)\\]\n",
    "$$\\label{P4}$$ \n",
    "\n",
    "*Verify that hte results 7.15 and 7.24 depend only on $g_{00}$, the form of $g_{xx}$ doesn't affect them, as long as it is 1+O($\\phi$).*"
   ]
  },
  {
   "cell_type": "markdown",
   "id": "9d4ed37a",
   "metadata": {},
   "source": [
    "This is essentially the same as asking for the dependence of the Christoffel symbols. For instance...\n",
    "\n",
    "7.15: $\\frac{d}{d\\tau} p^0 = -m \\frac{\\partial \\phi}{\\partial \\tau}$\n",
    "\n",
    "This was derived from a Christoffel symbol of $\\Gamma^0_00$. As we saw in **Problem 3**, this is calculated from \n",
    "\n",
    "$$ \\Gamma^\\gamma_{\\beta\\mu} = \\frac{1}{2} g^{\\alpha\\gamma} (g_{\\alpha\\beta,\\mu} + g_{\\alpha\\mu,\\beta} - g_{\\beta\\mu,\\alpha})  $$\n",
    "\n",
    "$$ \\Rightarrow \\Gamma^0_{0} = \\frac{1}{2} g^{00} (g_{00,0} + g_{00,0} - g_{00,0})  $$\n",
    "\n",
    "Which obviously only includes the metric's 00. (The inverse metric can be calculated from it directly).\n",
    "\n",
    "7.24 relies instead on $\\Gamma^i_{00}$. It's rather self evident that the normal g-metrics all cancel unless they are 00. HOWEVER... the inverse metric *does* matter. Now, its term cannot be derived from $g_00$, and is in fact the inverse of whatever xx, yy, zz. While the inverse metric does appear to vanish, it still carries with it hte *sign* of those components. \n",
    "\n",
    "In fact this is even directly shown in equation 7.20, where the inverse metric is calculated. It provides a positive sign, while for the t-value it would be negative. \n",
    "\n",
    "...That said in the actual limit we're discussion, that of the first order, then we're actually fine, seeing as *all* the matrix values an be argued to depend only on $g_00$ as all their values are correlated to derivatives of it. But that seems to be more a trick of fate than anything. "
   ]
  },
  {
   "cell_type": "markdown",
   "id": "23828dd8",
   "metadata": {},
   "source": [
    "<a id='P5'></a>\n",
    "\n",
    "# Problem 5 \\[Back to [top](#toc)\\]\n",
    "$$\\label{P5}$$ \n",
    "\n",
    "*a) For a perfect fluid, verify that the spatial components of 7.6 in the Newtonian limit reduce to $\\textbf{v}_{,t} + (\\textbf{v}\\cdot \\nabla)\\textbf{v} + \\nabla p/\\rho + \\nabla \\phi = 0$ for the metric 7.8. This is known as Euler's equation for nonrelativistic fluid flow in a gravitaitonal field. You will need to use 7.2 to get this result.*"
   ]
  },
  {
   "cell_type": "markdown",
   "id": "fc387ca5",
   "metadata": {},
   "source": [
    "7.6 is the statement of the conservation of four-monentum, given by\n",
    "\n",
    "$$ T^{\\mu\\nu}_{;\\nu}=0 $$\n",
    "\n",
    "$$ T^{\\mu\\nu} = (\\rho + p)U^\\mu U^\\nu + pg^{\\mu\\nu} $$\n",
    "\n",
    "A hint on page 177 points out that in the nonrelativistic limit, v has to be small, and p << $\\rho$ since the individual constituent particles also have to be moving slowly in relation to each other. \n",
    "\n",
    "7.2 is $(nU^\\alpha)_{;\\alpha}=0$\n",
    "\n",
    "For this part, we only care about the spatial components, however we do end up with a time derivative so we shall not ignore the variety of potential sums here. \n",
    "\n",
    "The inverse metric is already known from previous problems, time component $-\\frac{1}{1+2\\phi}$ and space components $\\frac{1}{1-2\\phi}$. (along the diagonal, all else is zero). "
   ]
  },
  {
   "cell_type": "markdown",
   "id": "8c35434e",
   "metadata": {},
   "source": [
    "So now we take the covariant derivative. Funny thing, the covariant derivative of any metric component is guaranteed to be zero, but because we have a p out front it doesn't just simply vanish. We also set $\\mu = i$ to remind ourselves we are only computing the physical section. So the covariant derivative of our term becomes...\n",
    "\n",
    "$$ T^{i\\nu}_{\\nu} = \\left[ (\\rho + p)U^i U^\\nu + pg^{i\\nu} \\right]_{,\\nu} + \\left[ (\\rho + p)U^\\alpha U^\\nu + pg^{\\alpha\\nu} \\right]\\Gamma^i_{\\alpha\\nu} + \\left[ (\\rho + p)U^i U^\\alpha + pg^{i\\alpha} \\right]\\Gamma^\\nu_{\\alpha\\nu} $$\n",
    "\n",
    "$$  = \\left[ (\\rho + p)U^i U^\\nu \\right]_{,\\nu} + \\left[ (\\rho + p)U^\\alpha U^\\nu \\right]\\Gamma^i_{\\alpha\\nu} + \\left[ (\\rho + p)U^i U^\\alpha \\right]\\Gamma^\\nu_{\\alpha\\nu} + \\left[pg^{i\\nu} \\right]_{,\\nu} + \\left[pg^{\\alpha\\nu} \\right]\\Gamma^i_{\\alpha\\nu} + \\left[pg^{i\\alpha} \\right]\\Gamma^\\nu_{\\alpha\\nu} $$\n",
    "\n",
    "Split up everything using the product rule.\n",
    "\n",
    "$$ = (\\rho_{,\\nu} + p_{,\\nu})U^i U^\\nu + (\\rho + p)U^i_{,\\nu} U^\\nu  + (\\rho + p)U^i U^\\nu_{,\\nu}  + \\left[ (\\rho + p)U^\\alpha U^\\nu \\right]\\Gamma^i_{\\alpha\\nu} + \\left[ (\\rho + p)U^i U^\\alpha \\right]\\Gamma^\\nu_{\\alpha\\nu} + p_{,\\nu}g^{i\\nu} + pg^{i\\nu}_{,\\nu} + \\left[pg^{\\alpha\\nu} \\right]\\Gamma^i_{\\alpha\\nu} + \\left[pg^{i\\alpha} \\right]\\Gamma^\\nu_{\\alpha\\nu} $$\n",
    "\n",
    "The last three terms are just the expansion of a covariant derivative of a metric, it has to be zero, cut all of them off. \n",
    "\n",
    "$$ = (\\rho_{,\\nu} + p_{,\\nu})U^i U^\\nu + (\\rho + p)U^i_{,\\nu} U^\\nu  + (\\rho + p)U^i U^\\nu_{,\\nu}  + \\left[ (\\rho + p)U^\\alpha U^\\nu \\right]\\Gamma^i_{\\alpha\\nu} + \\left[ (\\rho + p)U^i U^\\alpha \\right]\\Gamma^\\nu_{\\alpha\\nu} + p_{,\\nu}g^{i\\nu}$$"
   ]
  },
  {
   "cell_type": "markdown",
   "id": "c5d362ee",
   "metadata": {},
   "source": [
    "Now this is where we can apply 7.2. Note how The second to fourth terms split off into two sections that look like expansions of the covariant derivative of a vector. Well, those vectors happen to ve $U^\\mu$ and $U^\\nu$. This means that all the terms multiplied by $\\rho$ go to zero, since $\\rho=nm$. \n",
    "\n",
    "$$ = \\rho_{,\\nu}U^i U^\\nu + p_{,\\nu}U^i U^\\nu + pU^i_{,\\nu} U^\\nu  + pU^i U^\\nu_{,\\nu}  + \\left[ pU^\\alpha U^\\nu \\right]\\Gamma^i_{\\alpha\\nu} + \\left[ pU^i U^\\alpha \\right]\\Gamma^\\nu_{\\alpha\\nu} + p_{,\\nu}g^{i\\nu}$$\n",
    "\n",
    "Then divide through by p to simplify a thing or two. \n",
    "\n",
    "$$ = \\frac1p \\rho_{,\\nu}U^i U^\\nu + \\frac1p p_{,\\nu}U^i U^\\nu + U^i_{,\\nu} U^\\nu  + U^i U^\\nu_{,\\nu}  + U^\\alpha U^\\nu \\Gamma^i_{\\alpha\\nu} + U^i U^\\alpha \\Gamma^\\nu_{\\alpha\\nu} + \\frac1pp_{,\\nu}g^{i\\nu}$$"
   ]
  },
  {
   "cell_type": "markdown",
   "id": "2ee42554",
   "metadata": {},
   "source": [
    "As of now we actually haven't taken advantage of the fact that we're only counting the spatial components, so this would still work to calculate time components. However, that will change shortly, for we will change $U^i_{,\\nu} U^\\nu$ into $v^i_{,t} + v^jv^i_{,j}$. This correlates to $\\textbf{v} + (\\textbf{v} \\cdot \\nabla)\\textbf{v}$ It's actually rather simple why: we're at slow speeds, so $U^t=1$, moving through time at one second per second. So the four-way sum just becomes a three-way, which in full coordinates is the majority of our result. \n",
    "\n",
    "Which leavs us with the rather awkward quesiton of why we have so many other terms left. And also where the \"divided by rho\" we need is. Uh oh, looks like we messed *something* up... "
   ]
  },
  {
   "cell_type": "markdown",
   "id": "5b487354",
   "metadata": {},
   "source": [
    "Now this is where we can apply 7.2. Note how The second to fourth terms split off into two sections that look like expansions of the covariant derivative of a vector. Well, those vectors happen to ve $U^\\mu$ and $U^\\nu$. This means that all the terms multiplied by $\\rho$ go to zero, since $\\rho=nm$. \n",
    "\n",
    "$$ = (\\rho_{,\\nu} + p_{,\\nu})U^\\mu U^\\nu + pU^\\mu_{,\\nu} U^\\nu  + pU^\\mu U^\\nu_{,\\nu}  + \\left[pU^\\alpha U^\\nu \\right]\\Gamma^\\mu_{\\alpha\\nu} + \\left[ pU^\\mu U^\\alpha \\right]\\Gamma^\\nu_{\\alpha\\nu} + \\left[pg^{\\mu\\nu} \\right]_{,\\nu} + \\left[pg^{\\alpha\\nu} \\right]\\Gamma^\\mu_{\\alpha\\nu} + \\left[pg^{\\mu\\alpha} \\right]\\Gamma^\\nu_{\\alpha\\nu} $$\n",
    "\n",
    "$$ = \\rho_{,\\nu} U^\\mu U^\\nu + p_{,\\nu}U^\\mu U^\\nu + pU^\\mu_{,\\nu} U^\\nu  + pU^\\mu U^\\nu_{,\\nu}  + pU^\\alpha U^\\nu \\Gamma^\\mu_{\\alpha\\nu} + pU^\\mu U^\\alpha \\Gamma^\\nu_{\\alpha\\nu} + p_{,\\nu}g^{\\mu\\nu} + pg^{\\mu\\nu}_{,\\nu} + pg^{\\alpha\\nu} \\Gamma^\\mu_{\\alpha\\nu} + pg^{\\mu\\alpha} \\Gamma^\\nu_{\\alpha\\nu} $$\n",
    "\n",
    "$$ = \\frac1p \\rho_{,\\nu} U^\\mu U^\\nu + \\frac1p p_{,\\nu}U^\\mu U^\\nu + U^\\mu_{,\\nu} U^\\nu  + U^\\mu U^\\nu_{,\\nu}  + U^\\alpha U^\\nu \\Gamma^\\mu_{\\alpha\\nu} + U^\\mu U^\\alpha \\Gamma^\\nu_{\\alpha\\nu} + \\frac1p p_{,\\nu}g^{\\mu\\nu} + g^{\\mu\\nu}_{,\\nu} + g^{\\alpha\\nu} \\Gamma^\\mu_{\\alpha\\nu} + g^{\\mu\\alpha} \\Gamma^\\nu_{\\alpha\\nu} $$"
   ]
  },
  {
   "cell_type": "markdown",
   "id": "68170e4c",
   "metadata": {},
   "source": [
    "The last three terms are just the covariant derivative of the inverse metric, which is zero in every reference frame.\n",
    "\n",
    "$$ = \\frac1p \\rho_{,\\nu} U^\\mu U^\\nu + \\frac1p p_{,\\nu}U^\\mu U^\\nu + U^\\mu_{,\\nu} U^\\nu  + U^\\mu U^\\nu_{,\\nu}  + U^\\alpha U^\\nu \\Gamma^\\mu_{\\alpha\\nu} + U^\\mu U^\\alpha \\Gamma^\\nu_{\\alpha\\nu} + \\frac1p p_{,\\nu}g^{\\mu\\nu} $$\n",
    "\n",
    "So perhaps now we consider the fact that our results are to only be the spatial coordiantes, that is, $\\mu=i$. This does allow us to simplify a few things in a few places. Namely the term with the metric out there in the back, it only exists when $\\mu=\\nu$. \n",
    "\n",
    "$$ = \\frac1p \\rho_{,\\nu} U^\\mu U^\\nu + \\frac1p p_{,\\nu}U^\\mu U^\\nu + U^\\mu_{,\\nu} U^\\nu  + U^\\mu U^\\nu_{,\\nu}  + U^\\alpha U^\\nu \\Gamma^\\mu_{\\alpha\\nu} + U^\\mu U^\\alpha \\Gamma^\\nu_{\\alpha\\nu} + \\frac1p p_{,\\mu}g^{\\mu\\mu} $$\n",
    "\n",
    "Which, if we are only in physical coordinates, demands that it always equal\n",
    "\n",
    "$$ = \\frac1p \\rho_{,\\nu} U^\\mu U^\\nu + \\frac1p p_{,\\nu}U^\\mu U^\\nu + U^\\mu_{,\\nu} U^\\nu  + U^\\mu U^\\nu_{,\\nu}  + U^\\alpha U^\\nu \\Gamma^\\mu_{\\alpha\\nu} + U^\\mu U^\\alpha \\Gamma^\\nu_{\\alpha\\nu} + \\frac1p p_{,\\mu}\\frac{1}{1-2\\phi} $$"
   ]
  },
  {
   "cell_type": "markdown",
   "id": "31f72044",
   "metadata": {},
   "source": [
    "The Christoffel symbols unfortunatly don't simplify quite as easily. It really just doesn't seem to go much of anywhere..."
   ]
  },
  {
   "cell_type": "markdown",
   "id": "aa960463",
   "metadata": {},
   "source": [
    "*b) Examine the time component of 7.6 under the same assumptions and interpret each term.*"
   ]
  },
  {
   "cell_type": "markdown",
   "id": "2ce734da",
   "metadata": {},
   "source": [
    "*c) 7.38 implies that a static fluid (v=0) in a static Newtonian gravitaitonal field obeys the equation of hydrostatic equlibrium. $\\nabla p + \\rho \\nabla \\phi = 0$. A metric tensor is said to be static if there exists coordisnates in which $\\vec e_0$ is timelike, $g_{i0}=0$, and $g_{\\alpha\\beta,0}=0$. Deduce from 7.6 that a static fluid $(U^i=0, p_{,0}=0, etc)$ obeys the relativistic equation of hydrostatic equilibrium*\n",
    "\n",
    "$$ p_{,i} + (\\rho + p) \\left[ \\frac12 ln(-g_{00}) \\right]_{,i} = 0 $$"
   ]
  },
  {
   "cell_type": "markdown",
   "id": "466fd02a",
   "metadata": {},
   "source": []
  },
  {
   "cell_type": "markdown",
   "id": "9c09fbe7",
   "metadata": {},
   "source": [
    "*d) This suggests that, at least for static situations, there is a close relation between $g_{00}$ and $-exp(2\\phi)$, where $\\phi$ is the Newtonian potential for a similar physical situation. Show that 7.8 and **Problem 4** are consistent with this.*"
   ]
  },
  {
   "cell_type": "markdown",
   "id": "adb69369",
   "metadata": {},
   "source": [
    "<a id='P6'></a>\n",
    "\n",
    "# Problem 6 \\[Back to [top](#toc)\\]\n",
    "$$\\label{P6}$$\n",
    "\n",
    "*Deduce 7.25 from 7.10*"
   ]
  },
  {
   "cell_type": "markdown",
   "id": "3e195708",
   "metadata": {},
   "source": [
    "7.10: $\\nabla_{\\vec p} \\vec p = 0$\n",
    "\n",
    "7.25: $p^\\alpha p_{\\beta;\\alpha} = 0$\n",
    "\n",
    "Here we go!\n",
    "\n",
    "$$ \\nabla_{\\vec p} \\vec p $$\n",
    "$$ = p^\\beta p^\\alpha_{;\\beta} $$ \n",
    "\n",
    "Ooooh, the index is in the wrong spot. This suddenly became interesting.\n",
    "\n",
    "While it looks complicated, it's actually not. Just transform both sides of the equality using a metric. \n",
    "\n",
    "$$  g_{\\alpha\\nu} p^\\beta p^\\alpha_{;\\beta} = g_{\\alpha\\nu}(0)$$\n",
    "\n",
    "$$  p^\\beta p_{\\alpha;\\beta} = 0 $$\n",
    "\n",
    "Tah-dah! While they definitely aren't equal to each other in an exact sense (one is a zero one-form and one is a zero vector) they do both evaluate to zero. "
   ]
  },
  {
   "cell_type": "markdown",
   "id": "da145f42",
   "metadata": {},
   "source": [
    "<a id='P7'></a>\n",
    "\n",
    "# Problem 7 \\[Back to [top](#toc)\\]\n",
    "$$\\label{P7}$$\n",
    "\n",
    "*Consider the following four different metrics, as given by their line elements.*\n",
    "\n",
    "*i) $ds^2 = -dt^2+dx^2+dy^2+dz^2$*\n",
    "\n",
    "*ii) $ds^2 = -(1-2M/r)dt^2+(1-2M/r)^{-1}dr^2+r^2(d\\theta^2+ sin^2\\theta d\\phi^2)$, where M is a constant.*\n",
    "\n",
    "*iii) $ds^2 = -\\frac{\\Delta - a^2sin^2\\theta}{\\rho^2}dt^2 - 2a\\frac{2Mrsin^2\\theta}{\\rho^2}dtd\\phi + \\frac{(r^2+a^2)^2-a^2\\Delta sin^2\\theta}{\\rho^2}sin^2\\theta d\\phi^2 + \\frac{\\rho^2}{\\Delta}dr^2 + \\rho^2 d\\theta^2$, where M and a are constants and we have introduced the shorthand notation $\\Delta = r^2-2Mr+a^2 ; \\rho^2 = r^2+a^2cos^2\\theta$*\n",
    "\n",
    "*iv) $ds^2 = -dt^2 + R^2(t)[(1-kr)^{-1}dr^2 + r^2(d\\theta^2 + sin^2\\theta d\\phi^2)]$*\n",
    "\n",
    "*The first one should be familiar by now. We shall encounter the other three in later chapters. Their names are, respectively, the Schwarzschild, Kerr, and Robertson-Walker metrics.*\n",
    "\n",
    "*a) For each metric find as many conserved components $\\rho_\\alpha$ of a freely falling particle's four momentum as possible.*"
   ]
  },
  {
   "cell_type": "markdown",
   "id": "bd0a0a48",
   "metadata": {},
   "source": [
    "*b) Use the result of **Problem 6-28** to put i) in the form $i') ds^2 = -dt^2 + dr^2 + r^2(d\\theta^2 + sin^2\\theta d\\phi^2)$. From this, argue that ii) and iv) are spherically symmetric. Does this increase the number of conserved components $p^\\alpha$?*"
   ]
  },
  {
   "cell_type": "markdown",
   "id": "d1f02a01",
   "metadata": {},
   "source": [
    "*c) It can be shown that for i') and ii)-iv), a geodesic that begins with $\\theta = \\pi/2$ and $p^\\theta = 0$ - i.e., one which begins tangent to the equatorial plane - always has $\\theta = \\pi/2$ and $p^\\theta = 0$. For cases i'), ii), and iii), use the equation $\\vec p \\cdot \\vec p = -m^2$ to solve for p^r in terms of m, other conserved quantities, and known functions of position.*"
   ]
  },
  {
   "cell_type": "markdown",
   "id": "43639ef4",
   "metadata": {},
   "source": [
    "*d) For iv) spherical ysmmetry implies that if a geodesic begins with $p^\\theta = p^\\phi = 0,$ these remain zero. Use this to show from 7.29 that when k=0, $p_r$ is a conserved quantity.*"
   ]
  },
  {
   "cell_type": "markdown",
   "id": "df50096e",
   "metadata": {},
   "source": [
    "<a id='latex_pdf_output'></a>\n",
    "\n",
    "# Addendum: Output this notebook to $\\LaTeX$-formatted PDF file \\[Back to [top](#toc)\\]\n",
    "$$\\label{latex_pdf_output}$$\n",
    "\n",
    "The following code cell converts this Jupyter notebook into a proper, clickable $\\LaTeX$-formatted PDF file. After the cell is successfully run, the generated PDF may be found in the root NRPy+ tutorial directory, with filename\n",
    "[GR-07.pdf](GR-07.pdf) (Note that clicking on this link may not work; you may need to open the PDF file through another means.)\n",
    "\n",
    "**Important Note**: Make sure that the file name is right in all six locations, two here in the Markdown, four in the code below. \n",
    "\n",
    "* GR-07.pdf\n",
    "* GR-07.ipynb\n",
    "* GR-07.tex"
   ]
  },
  {
   "cell_type": "code",
   "execution_count": 1,
   "id": "abf583ef",
   "metadata": {
    "scrolled": false
   },
   "outputs": [
    {
     "name": "stdout",
     "output_type": "stream",
     "text": [
      "Created GR-07.tex, and compiled LaTeX file to PDF file GR-07.pdf\n"
     ]
    }
   ],
   "source": [
    "import cmdline_helper as cmd    # NRPy+: Multi-platform Python command-line interface\n",
    "cmd.output_Jupyter_notebook_to_LaTeXed_PDF(\"GR-07\")"
   ]
  },
  {
   "cell_type": "code",
   "execution_count": null,
   "id": "d0d0db4d",
   "metadata": {},
   "outputs": [],
   "source": []
  },
  {
   "cell_type": "code",
   "execution_count": null,
   "id": "41264965",
   "metadata": {},
   "outputs": [],
   "source": []
  }
 ],
 "metadata": {
  "kernelspec": {
   "display_name": "Python 3 (ipykernel)",
   "language": "python",
   "name": "python3"
  },
  "language_info": {
   "codemirror_mode": {
    "name": "ipython",
    "version": 3
   },
   "file_extension": ".py",
   "mimetype": "text/x-python",
   "name": "python",
   "nbconvert_exporter": "python",
   "pygments_lexer": "ipython3",
   "version": "3.10.4"
  }
 },
 "nbformat": 4,
 "nbformat_minor": 5
}
