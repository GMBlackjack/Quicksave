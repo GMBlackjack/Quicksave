{
 "cells": [
  {
   "cell_type": "markdown",
   "id": "0c1bfe81",
   "metadata": {},
   "source": [
    "# GR05: Preface to Curvature\n",
    "**Gabriel M Steward**"
   ]
  },
  {
   "cell_type": "markdown",
   "id": "381338e7",
   "metadata": {},
   "source": [
    "## Problem 1\n",
    "\n",
    "*Repeat the argument that led to 5.1 under mroe realistic assumptions: suppose a fraction $\\epsilon$ of the kinetic energy of the mass at the bottom can be converted into a photon and sent back up, the remaining energy staying at ground level in a useful form. Devise a perpetual motion engine if 5.1 is violated.*"
   ]
  },
  {
   "cell_type": "markdown",
   "id": "ea4b1893",
   "metadata": {},
   "source": [
    "So the argument goes like this: someone drops a particle of mass m from the a tower of height h. The particle falls freely with acceleration g, reaching a velocity of v=$\\sqrt{2gh}$. The total energy in the small-v approximation (which we expect to be if g is treated as constant) is $m+\\frac{mv^2}{2}$. So far everything is the same as before. \n",
    "\n",
    "The original experiment has the observer on the ground convert all the energy into a photon that's pointed directly upward. Then the person at the top of the tower takes the energy that went upward and converts it back into mass.\n",
    "\n",
    "The crux of the argument is that we gained energy by falling, but photons don't loose energy as they climb, so the photon arrives at the top with more energy than it started, and we create new mass out of nothing. This naturally does not happen since there is a redshift in photons as they climb gravitaitonal fields--but what if we allow for imperfect mass-energy conversion? "
   ]
  },
  {
   "cell_type": "markdown",
   "id": "bea06279",
   "metadata": {},
   "source": [
    "The fraction converted is $\\epsilon$. We note that this still causes a violation--even though we don't get all the mass we dropped back, we should expect to get $\\epsilon m$ back, but we'll get more than that as the energy is m+kinetic terms. However, even though this is a clear violation, can we really construct perpetual motion out of it? If $\\epsilon$ is high, we can be burning about 90% of our energy every drop. "
   ]
  },
  {
   "cell_type": "markdown",
   "id": "b41f1043",
   "metadata": {},
   "source": [
    "Let's run the thought experiment a bit. Let's say we really do lose 90% energy in the conversion and. We drop a ball of mass m. When it reaches the ground it has energy of m + K. When we convert it into energy and send it back up, it becomes 0.1m +0.1K. When we convert it back at the top, we have 0.1m, but we also have extra energy 0.1K. If we were to carry this task out to infinity (assuming we could) we would end up with 0.11111... K extra energy after burning the ball into \"nothing.\" "
   ]
  },
  {
   "cell_type": "markdown",
   "id": "d3bc8e22",
   "metadata": {},
   "source": [
    "Now, if we could turn 0.11111... K into more mass than we started with, we would be cooking. Unfortunately k's maximum value is m/2, so that's just not possible. However, for low values of epsilon it is clearly going to produce more energy than we need... right? \n",
    "\n",
    "Well, let's try a itny epsilon, see how it goes. The final K would be $\\sum (1-\\epsilon)^n K$ If epsilon is tiny, this blows up to infinity. But where is the bondary where it stops?\n",
    "\n",
    "Using geogebra the boundary appears to be $\\epsilon = 0.5$, where the sum to infinity produces 1K at the end. Anything lower than 50% efficiency is going to produce more than 1K of extra energy. We can then turn this extra energy into mass and then keep dropping more and more and produce infinite power. \n",
    "\n",
    "Very high efficiency mass-energy conversion does exist. Antimatter reactions come to mind. Allowing for minor inefficiencies in the mechanism, we could still trigger a matter-antimatter annihilation at the base of the tower and shoot the photons back up. (How they're converted BACK we won't concern ourselves with, and also doesn't matter, as we'll have gotten back more kinetic energy than mass, and we can use that power for something). \n",
    "\n",
    "Curiously, the efficiency could be even lower than 50%, because that's just what we get to get more K value. The ACTUAL limit would be $m = \\epsilon m + \\epsilon K \\Rightarrow (1-\\epsilon)m = \\epsilon K$ is the point at which we get an equal return on investment. But at this point I think we get the idea and move on. \n",
    "\n",
    "Keep in mind that a nuclear reactor would only have 0.1% efficiency, a bit too low to make use of this. Plus, not as easy to make work via falling, like antimatter would be. \n",
    "\n",
    "...reiterating, this wouldn't actually work due to photonic redshift. "
   ]
  },
  {
   "cell_type": "markdown",
   "id": "f7e92666",
   "metadata": {},
   "source": [
    "## Problem 2\n",
    "\n",
    "*Explain why a **uniform** external gravitaitonal field would raise no tides on earth.*\n",
    "\n",
    "Simple. Tides arise due to a differential, one end is being pulled more than the other, which is where the tides come from. If there's no differential every poriton is being pulled the same way at the same time, so there can be no difference in force between any part of them. \n",
    "\n",
    "Astrophysics for the win!"
   ]
  },
  {
   "cell_type": "markdown",
   "id": "82403d05",
   "metadata": {},
   "source": [
    "## Problem 3\n",
    "\n",
    "*a) Show that the coordinate transformation $(x,y) -> (\\xi,\\eta)$ with $\\xi = x$ and $\\eta = 1$ violates 5.6*"
   ]
  },
  {
   "cell_type": "markdown",
   "id": "d76a8cf5",
   "metadata": {},
   "source": [
    "Ah our good friend the jacobian, how I missed you. \n",
    "\n",
    "$$ det \\begin{bmatrix}\n",
    "\\partial\\xi/\\partial x & \\partial\\xi/\\partial y \\\\ \n",
    "\\partial\\eta/\\partial x & \\partial\\eta/\\partial y \n",
    "\\end{bmatrix} $$\n",
    "\n",
    "If the jacobian is zero, bad things. If it's not zero, good things! \n",
    "\n",
    "For the setup given above we have:\n",
    "\n",
    "$$ det \\begin{bmatrix}\n",
    "1 & 0 \\\\ \n",
    "0 & 0 \n",
    "\\end{bmatrix} = 0 $$\n",
    "\n",
    "Mmm yep, that ain't good, chief. "
   ]
  },
  {
   "cell_type": "markdown",
   "id": "851189c9",
   "metadata": {},
   "source": [
    "*b) Are the following coordinate transformations good ones? Compute the Jacobian and list any points at which the transformations fail.*\n",
    "\n",
    "*i) $\\xi = (x^2+y^2)^{1/2}, \\eta = arctan(y/x)$*"
   ]
  },
  {
   "cell_type": "markdown",
   "id": "e04e9782",
   "metadata": {},
   "source": [
    "Oh Jacobian, what do you say?\n",
    "\n",
    "$$ det \\begin{bmatrix}\n",
    "\\frac{x}{\\sqrt{x^2+y^2}} & \\frac{y}{\\sqrt{x^2+y^2}} \\\\ \n",
    "\\frac{-y}{x^2+y^2} & \\frac{x}{x^2+y^2} \n",
    "\\end{bmatrix} = \\frac{x^2}{(x^2+y^2)^{3/2}} + \\frac{y^2}{(x^2+y^2)^{3/2}} = \\frac{x^2+y^2}{(x^2+y^2)^{3/2}} = \\frac{1}{\\sqrt{x^2+y^2}} $$"
   ]
  },
  {
   "cell_type": "markdown",
   "id": "7501bf0f",
   "metadata": {},
   "source": [
    "This seems really good, actually. Only awkward point is x=y=0. Which, yeah, the center of polar coordinates has always been annoying. (What *does* a determinant that approahces infinity even mean...?)"
   ]
  },
  {
   "cell_type": "markdown",
   "id": "dfe9322a",
   "metadata": {},
   "source": [
    "*ii) $\\xi = lnx, \\eta = y$*"
   ]
  },
  {
   "cell_type": "markdown",
   "id": "4fdfb5a5",
   "metadata": {},
   "source": [
    "$$ det \\begin{bmatrix}\n",
    "1/x & 0 \\\\ \n",
    "0 & 1 \n",
    "\\end{bmatrix} = 1/x $$\n",
    "\n",
    "Coordinate transforms just fine. Though we have a discontinuity at x=0. Again. This is just the definition of a logarithmic scale. "
   ]
  },
  {
   "cell_type": "markdown",
   "id": "e7c46f1a",
   "metadata": {},
   "source": [
    "*iii) $\\xi = arctan(y/x), \\eta = (x^2+y^2)^{-1/2}$*"
   ]
  },
  {
   "cell_type": "markdown",
   "id": "69fe259d",
   "metadata": {},
   "source": [
    "$$ det \\begin{bmatrix}\n",
    "\\frac{-y}{x^2+y^2} & \\frac{x}{x^2+y^2} \\\\ \n",
    "\\frac{-x}{(x^2+y^2)^{3/2}} & \\frac{-y}{(x^2+y^2)^{3/2}} \n",
    "\\end{bmatrix} = \\frac{y^2}{(x^2+y^2)^{2}} + \\frac{x^2}{(x^2+y^2)^2} = \\frac{1}{x^2+y^2}  $$"
   ]
  },
  {
   "cell_type": "markdown",
   "id": "fb094bb1",
   "metadata": {},
   "source": [
    "Still works, not sure what coordinate system it represents though. Once again we only have an issue at x=y=0. "
   ]
  },
  {
   "cell_type": "markdown",
   "id": "0b6e7b5a",
   "metadata": {},
   "source": [
    "## Problem 4\n",
    "\n",
    "*A curve is defined by {$x=f(\\lambda), y=g(\\lambda), 0\\leq \\lambda \\leq 1$}. Show that the tangent vector $(dx/d\\lambda, dy/d\\lambda)$ does actually lie tangent to the curve.*"
   ]
  },
  {
   "cell_type": "markdown",
   "id": "6ffdc419",
   "metadata": {},
   "source": [
    "I might be able to prove this just by memory from math clases. Each derivative can be thought of as the velocity in that direction--velocity of x, velocity of y. Velocities point in the direction of motion, and a conitnuous curve will trace out the motion. So uh. yeah. \n",
    "\n",
    "There's probably a more mathematical way to put this but physics brain like physics way. "
   ]
  },
  {
   "cell_type": "markdown",
   "id": "d9e0770a",
   "metadata": {},
   "source": [
    "## Problem 5\n",
    "\n",
    "*Sketch the following curves. Which have the same paths? Find also their tangent vectors where the parameter equals zero.*\n",
    "\n",
    "Oooooh CODING TIME! For each of the curves the curve itself will be plotted, as well as the 0,0 point. \n",
    "\n",
    "*a) $x=sin\\lambda, y=cos\\lambda*. This is obviously giong to be a circle. "
   ]
  },
  {
   "cell_type": "code",
   "execution_count": 12,
   "id": "0240c8a6",
   "metadata": {},
   "outputs": [
    {
     "data": {
      "image/png": "[encoded data removed]",
      "text/plain": [
       "<Figure size 720x720 with 1 Axes>"
      ]
     },
     "metadata": {
      "needs_background": "light"
     },
     "output_type": "display_data"
    }
   ],
   "source": [
    "import matplotlib.pyplot as plt\n",
    "import numpy as np\n",
    "t=np.arange(-5.0,5.0,0.2) # The \"ticker\", adjust for precision. \n",
    "\n",
    "plt.figure(figsize=(10,10)) #make it larger\n",
    "plt.gca().set_aspect('equal') #make it square so the axes are easier to see.\n",
    "\n",
    "plt.xlabel(\"x (m)\")\n",
    "plt.ylabel(\"t (m)\")\n",
    "\n",
    "plt.axis([-2,2,-2,2])\n",
    "\n",
    "plt.axvline(x=0,color='black')\n",
    "plt.axhline(y=0,color='black') #add central axes\n",
    "\n",
    "plt.plot(np.sin(t),np.cos(t),'blue')\n",
    "plt.plot(np.sin(0),np.cos(0),'or')\n",
    "\n",
    "plt.show()\n"
   ]
  },
  {
   "cell_type": "markdown",
   "id": "82b06971",
   "metadata": {},
   "source": [
    "Prediction correct, is circle. \n",
    "\n",
    "Tangent vector is (cos,-sin) or (1,0), straight to the right. \n",
    "\n",
    "*b) $x=cos(2\\pi t^2), y=sin(2 \\pi t^2 + \\pi)$*\n",
    "\n",
    "This will also be a circle but the direction will be different. "
   ]
  },
  {
   "cell_type": "code",
   "execution_count": 11,
   "id": "a3a8cee6",
   "metadata": {},
   "outputs": [
    {
     "data": {
      "image/png": "[encoded data removed]",
      "text/plain": [
       "<Figure size 720x720 with 1 Axes>"
      ]
     },
     "metadata": {
      "needs_background": "light"
     },
     "output_type": "display_data"
    }
   ],
   "source": [
    "import matplotlib.pyplot as plt\n",
    "import numpy as np\n",
    "t=np.arange(-5.0,5.0,0.0001) # The \"ticker\", adjust for precision. \n",
    "\n",
    "plt.figure(figsize=(10,10)) #make it larger\n",
    "plt.gca().set_aspect('equal') #make it square so the axes are easier to see.\n",
    "\n",
    "plt.xlabel(\"x (m)\")\n",
    "plt.ylabel(\"t (m)\")\n",
    "\n",
    "plt.axis([-2,2,-2,2])\n",
    "\n",
    "plt.axvline(x=0,color='black')\n",
    "plt.axhline(y=0,color='black') #add central axes\n",
    "\n",
    "plt.plot(np.cos(2*3.1415*t**2),np.sin(2*3.1415*t**2 + 3.1415),'blue')\n",
    "plt.plot(np.cos(0),np.sin(3.1415),'or')\n",
    "\n",
    "plt.show()"
   ]
  },
  {
   "cell_type": "markdown",
   "id": "e8b5de12",
   "metadata": {},
   "source": [
    "Direction is (-sin, cos) so (0,1) which is to say up from the point. This is in fact the other direction as the previous one. \n",
    "\n",
    "Also this one needs too many sample points to be done nicely, prefer the other definition for drawing it. \n",
    "\n",
    "*c) x=s, y=s+4.*\n",
    "\n",
    "Just going to be an offset line. "
   ]
  },
  {
   "cell_type": "code",
   "execution_count": 14,
   "id": "a8969640",
   "metadata": {},
   "outputs": [
    {
     "data": {
      "image/png": "[encoded data removed]",
      "text/plain": [
       "<Figure size 720x720 with 1 Axes>"
      ]
     },
     "metadata": {
      "needs_background": "light"
     },
     "output_type": "display_data"
    }
   ],
   "source": [
    "import matplotlib.pyplot as plt\n",
    "import numpy as np\n",
    "t=np.arange(-7.0,7.0,0.2) # The \"ticker\", adjust for precision. \n",
    "\n",
    "plt.figure(figsize=(10,10)) #make it larger\n",
    "plt.gca().set_aspect('equal') #make it square so the axes are easier to see.\n",
    "\n",
    "plt.xlabel(\"x (m)\")\n",
    "plt.ylabel(\"t (m)\")\n",
    "\n",
    "plt.axis([-6,6,-6,6])\n",
    "\n",
    "plt.axvline(x=0,color='black')\n",
    "plt.axhline(y=0,color='black') #add central axes\n",
    "\n",
    "plt.plot(t,t+4,'blue')\n",
    "plt.plot(0,4,'or')\n",
    "\n",
    "plt.show()\n"
   ]
  },
  {
   "cell_type": "markdown",
   "id": "c5f27601",
   "metadata": {},
   "source": [
    "Tangent vector is (1,1). Right along the line, upward. \n",
    "\n",
    "*d) $x=s^2, y=-(s-2)(s+2)$*\n",
    "\n",
    "hmm, double quadratic. Perhaps an ellipse? conic section? I'm curious, let's see."
   ]
  },
  {
   "cell_type": "code",
   "execution_count": 17,
   "id": "bb19781d",
   "metadata": {},
   "outputs": [
    {
     "data": {
      "image/png": "[encoded data removed]",
      "text/plain": [
       "<Figure size 720x720 with 1 Axes>"
      ]
     },
     "metadata": {
      "needs_background": "light"
     },
     "output_type": "display_data"
    }
   ],
   "source": [
    "import matplotlib.pyplot as plt\n",
    "import numpy as np\n",
    "t=np.arange(-5.0,5.0,0.2) # The \"ticker\", adjust for precision. \n",
    "\n",
    "plt.figure(figsize=(10,10)) #make it larger\n",
    "plt.gca().set_aspect('equal') #make it square so the axes are easier to see.\n",
    "\n",
    "plt.xlabel(\"x (m)\")\n",
    "plt.ylabel(\"t (m)\")\n",
    "\n",
    "plt.axis([-6,6,-6,6])\n",
    "\n",
    "plt.axvline(x=0,color='black')\n",
    "plt.axhline(y=0,color='black') #add central axes\n",
    "\n",
    "plt.plot(t**2,-(t-2)*(t+2),'blue')\n",
    "plt.plot(0,4,'or')\n",
    "\n",
    "plt.show()\n"
   ]
  },
  {
   "cell_type": "markdown",
   "id": "309514e3",
   "metadata": {},
   "source": [
    "Ah, it's a line, but it's a line that has no solutions along negative x at all. \n",
    "\n",
    "The tangent for the y component needs some calculating: (0,0) Oho! We start *stationary!* Null vector! Fascinating! However, by taking limits we can see that the total derivative is (2s,-2s) meaning there is a constant direction, but we're accelerating. \n",
    "\n",
    "*e) $x=\\mu$, y=1*\n",
    "\n",
    "A line across y=1."
   ]
  },
  {
   "cell_type": "code",
   "execution_count": 22,
   "id": "5492a497",
   "metadata": {},
   "outputs": [
    {
     "data": {
      "image/png": "[encoded data removed]",
      "text/plain": [
       "<Figure size 720x720 with 1 Axes>"
      ]
     },
     "metadata": {
      "needs_background": "light"
     },
     "output_type": "display_data"
    }
   ],
   "source": [
    "import matplotlib.pyplot as plt\n",
    "import numpy as np\n",
    "t=np.arange(-5.0,5.0,0.2) # The \"ticker\", adjust for precision. \n",
    "\n",
    "plt.figure(figsize=(10,10)) #make it larger\n",
    "plt.gca().set_aspect('equal') #make it square so the axes are easier to see.\n",
    "\n",
    "plt.xlabel(\"x (m)\")\n",
    "plt.ylabel(\"t (m)\")\n",
    "\n",
    "plt.axis([-2,2,-2,2])\n",
    "\n",
    "plt.axvline(x=0,color='black')\n",
    "plt.axhline(y=0,color='black') #add central axes\n",
    "\n",
    "plt.plot(t,t-t+1,'blue') #haven't the foggiest idea why I can't just put in a constant here. \n",
    "plt.plot(0,1,'or')\n",
    "\n",
    "plt.show()\n"
   ]
  },
  {
   "cell_type": "markdown",
   "id": "ddc0a422",
   "metadata": {},
   "source": [
    "Velocity is pretty clearly always (1,0)"
   ]
  },
  {
   "cell_type": "markdown",
   "id": "21352863",
   "metadata": {},
   "source": [
    "## Problem 6\n",
    "\n",
    "*Justify the pictures in fig 5.5*"
   ]
  },
  {
   "cell_type": "markdown",
   "id": "11d25687",
   "metadata": {},
   "source": [
    "Simple: for the vectors, they point in the direction of \"increasing\" r or theta. In the case of r, they all can trace back to pointing away from the origin, while theta is 90 degrees offset from this. \n",
    "\n",
    "One-forms in physical space are drawn over the vectors, so they \"point\" in the same direciton as a series of lines of equivalent separation. Further out the theta unit vector is longer. \n",
    "\n",
    "Curiously if we drew all the one forms of r at a certain theta we would nend up with circles. Fun. \n"
   ]
  },
  {
   "cell_type": "markdown",
   "id": "d1cf64f4",
   "metadata": {},
   "source": [
    "## Problem 7\n",
    "\n",
    "*Calculate all elements of the transform matrices $\\Lambda^{\\alpha'}_\\beta$ and $\\Lambda^{\\mu}_{\\nu'}$ for teh transformation from cartesian (x,y) - the unprimed indeces - to polar (r,$\\theta$), - the primed indices.*\n",
    "\n"
   ]
  },
  {
   "cell_type": "markdown",
   "id": "e10ae368",
   "metadata": {},
   "source": [
    "We basically have these already. We worked them out in the Jacobians!\n",
    "\n",
    "$$ \\Lambda^{\\alpha'}_\\beta = \\begin{bmatrix}\n",
    "\\frac{x}{\\sqrt{x^2+y^2}} & \\frac{y}{\\sqrt{x^2+y^2}} \\\\ \n",
    "\\frac{-y}{x^2+y^2} & \\frac{x}{x^2+y^2} \n",
    "\\end{bmatrix} $$"
   ]
  },
  {
   "cell_type": "markdown",
   "id": "b7e080e5",
   "metadata": {},
   "source": [
    "It appears as though we don't have the inverse, but that is no problem. x=rcos$\\theta$, y=rsin$\\theta$.\n",
    "\n",
    "$$ \\Lambda^{\\alpha'}_\\beta = \\begin{bmatrix}\n",
    "cos\\theta & -rsin\\theta \\\\ \n",
    "sin\\theta & rcos\\theta \n",
    "\\end{bmatrix} $$"
   ]
  },
  {
   "cell_type": "markdown",
   "id": "a67e48a5",
   "metadata": {},
   "source": [
    "## Problem 8\n",
    "\n",
    "*a) (Uses the result of **Problem 7**.) Let $f = x^2+y^2+2xy,$ and in Cartesian coordinates $\\vec{V} \\rightarrow (x^2+3y, y^2+3x), \\vec{W} \\rightarrow (1,1)$. Compute f as a funciton of r and $\\theta$, and find the components of $\\vec V$ and $\\vec W$ on the polar basis, expressing them as functions of r and $\\theta$.*"
   ]
  },
  {
   "cell_type": "markdown",
   "id": "1113e8e1",
   "metadata": {},
   "source": [
    "Okay so first of all our vector friend W is just $(\\sqrt(2), 0)$. That I can tell just by looking at it. \n",
    "\n",
    "For f we convert by substitution. \n",
    "\n",
    "$$ f = r^2cos^2\\theta + r^2sin^2\\theta + 2r^2sin\\theta cos\\theta $$\n",
    "$$ \\Rightarrow f = r^2 + 2r^2sin\\theta cos\\theta $$"
   ]
  },
  {
   "cell_type": "markdown",
   "id": "ab2a6a58",
   "metadata": {},
   "source": [
    "Now for the vector we use the matrix.Row-by-column fun times ahead result in...\n",
    "\n",
    "$$ \\left( \\frac{x}{\\sqrt{x^2+y^2}}(x^2+3y) + \\frac{y}{\\sqrt{x^2+y^2}}(y^2+3x) , \\frac{-y}{x^2+y^2}(x^2+3y) + \\frac{x}{x^2+y^2}(y^2+3x) \\right) $$\n",
    "\n",
    "ALERT: this was done incorrectly. The x and y terms in the matrix need to be the x and y components. Which mean, for instance, that the second term is always zero for a cartesian vector, no angular component whatosever. As for the radius, let's just calculate it with the usual magnitude fun:\n",
    "\n",
    "$$ \\sqrt{(x^2+3y)^2+(y^2+3x)^2} $$\n",
    "$$ = \\sqrt{x^4+6yx^2+9y^2+9x^2+6xy^2+y^4} $$\n",
    "$$ = \\sqrt{r^4cos^4\\theta+6r^3sin\\theta cos^2\\theta + 9r^2sin^2\\theta + 9r^2cos^2\\theta+6r^3cos\\theta sin^2\\theta + r^4sin^4\\theta} $$\n",
    "$$ = r\\sqrt{r^2cos^4\\theta+6rsin\\theta cos^2\\theta + 9+6rcos\\theta sin^2\\theta + r^2sin^4\\theta} $$\n",
    "\n",
    "Which is not simplified but is good enough for me right now. \n",
    "\n",
    "What follows below is pretty much useless."
   ]
  },
  {
   "cell_type": "markdown",
   "id": "bb237797",
   "metadata": {},
   "source": [
    "$$ \\left( \\frac{x^3 + 6xy + y^3}{\\sqrt{x^2+y^2}}, \\frac{-yx^2-3y^2+3x^2+xy^2}{x^2+y^2} \\right) $$"
   ]
  },
  {
   "cell_type": "markdown",
   "id": "e6b55b8e",
   "metadata": {},
   "source": [
    "Let's check to see if we can simplify any. ...No cancelation with the denominator, sadly.\n",
    "\n",
    "Hah, tried to do simplificaitons,  https://www.symbolab.com/solver/polynomial-factorization-calculator/factor%20-yx%5E%7B2%7D-3y%5E%7B3%7D%2B3x%5E%7B2%7D%2Bxy%5E%7B2%7D?or=input, neitehr numerator can be simplified.\n",
    "\n",
    "So the denominators are r and $r^2$, respectively. We use the trig substitutions on the rest of them. \n",
    "\n",
    "$$ \\left( \\frac{r^3(cos^3\\theta + sin^3\\theta) + 6r^2cos\\theta sin\\theta}{r} , \\frac{3r^2cos(2\\theta) + r^3(sin^2\\theta cos\\theta + cos^2\\theta sin\\theta) }{r^2} \\right) $$\n",
    "\n",
    "$$ = \\left( r^2(cos^3\\theta + sin^3\\theta) + 6rcos\\theta sin\\theta , 3cos(2\\theta) + r(sin^2\\theta cos\\theta + cos^2\\theta sin\\theta) \\right) $$\n",
    "\n",
    "At least the rs cancel. "
   ]
  },
  {
   "cell_type": "markdown",
   "id": "0c45b6b9",
   "metadata": {},
   "source": [
    "*b) Find the components of $\\tilde df$ in cartesian coordinates and obtain them in polars i) by direct calcluation in polars and ii) by transforming components from Cartesian.*"
   ]
  },
  {
   "cell_type": "markdown",
   "id": "b9141913",
   "metadata": {},
   "source": [
    "Cartesian: (2x+2y, 2y+2x). Curious. \n",
    "\n",
    "Fist of all this one is rather obvious, it's got an angle of $\\pi/4$ no matter what, but the radius changes with x and y, specifically like $(2x+2y)\\sqrt{2}$, which is calculation in polars. (The $\\pi/4$ is just atan(1) as it turns out). ALERT: this is incorrect, this was converting a point, we aren't converting a point, we're converting a direction. The radius is the same, however the angular direction is just zero. \n",
    "\n",
    "Wait... all vectors will transform like that, won't they? Yes, they will, arbitrary xy will cancel. Every cartesian vector has no angular component. *Huh*. \n",
    "\n",
    "Via transform... egh. \n",
    "\n",
    "$$ \\left( \\frac{x}{\\sqrt{x^2+y^2}}(2x+2y) + \\frac{y}{\\sqrt{x^2+y^2}}(2x+2y) , \\frac{-y}{x^2+y^2}(2x+2y) + \\frac{x}{x^2+y^2}(2x+2y) \\right) $$"
   ]
  },
  {
   "cell_type": "markdown",
   "id": "08c26181",
   "metadata": {},
   "source": [
    "It is at THIS point we realized that the x and y variables within the matrix NEED TO BE REPLACED WITH THE VARIABLES WE INSERTED. WHich means the correct formulation is actually:\n",
    "\n",
    "$$ \\left( \\frac{(2x+2y)}{\\sqrt{(2x+2y)^2+(2x+2y)^2}}(2x+2y) + \\frac{(2x+2y)}{\\sqrt{(2x+2y)^2+(2x+2y)^2}}(2x+2y) , \\frac{-(2x+2y)}{(2x+2y)^2+(2x+2y)^2}(2x+2y) + \\frac{(2x+2y)}{(2x+2y)^2+(2x+2y)^2}(2x+2y) \\right) $$\n",
    "\n",
    "Which rather quickly simplifies to\n",
    "\n",
    "$$ \\left( \\frac{(2x+2y)}{\\sqrt{2}} + \\frac{(2x+2y)}{\\sqrt{2}}, -1/2 + 1/2 \\right) $$\n",
    "\n",
    "$$ \\left( \\sqrt{2}(2x+2y), 0 \\right) $$\n",
    "\n",
    "We take this as a reminder that vectors are not points. Just. Yeah, they point in the new basis. "
   ]
  },
  {
   "cell_type": "markdown",
   "id": "6272518f",
   "metadata": {},
   "source": [
    "*c) i) Use the metric tensor in polar coordiantes to find the polar components of the one-forms $\\tilde V$ and $\\tilde W$ associated with $\\vec V$ and $\\vec W$. ii) Obtain the polar components of $\\tilde V$ and $\\tilde W$ by transformation of their Cartesian components.*"
   ]
  },
  {
   "cell_type": "markdown",
   "id": "0202d100",
   "metadata": {},
   "source": [
    "$$ \\begin{bmatrix}\n",
    "1 & 0 \\\\ \n",
    "0 & r^2\n",
    "\\end{bmatrix} $$"
   ]
  },
  {
   "cell_type": "markdown",
   "id": "feb44a70",
   "metadata": {},
   "source": [
    "Since I never got a good simple value for V, let's just use W as our demonstration--($\\sqrt{2},0$). This gives us a one-form of the form ($\\sqrt{2},0$) ....Which would be the case for all cartesian vectors... \n",
    "\n",
    "...HMMM. Well this makes sense, the direction in r does not change, only the angle does. \n",
    "\n",
    "Still. A tad offputting. "
   ]
  },
  {
   "cell_type": "markdown",
   "id": "b758db73",
   "metadata": {},
   "source": [
    "## Problem 9\n",
    "\n",
    "*Draw a diagram similar to fig 5.6 to explain equation 5.38*"
   ]
  },
  {
   "cell_type": "code",
   "execution_count": null,
   "id": "a541f98e",
   "metadata": {},
   "outputs": [],
   "source": []
  }
 ],
 "metadata": {
  "kernelspec": {
   "display_name": "Python 3 (ipykernel)",
   "language": "python",
   "name": "python3"
  },
  "language_info": {
   "codemirror_mode": {
    "name": "ipython",
    "version": 3
   },
   "file_extension": ".py",
   "mimetype": "text/x-python",
   "name": "python",
   "nbconvert_exporter": "python",
   "pygments_lexer": "ipython3",
   "version": "3.10.4"
  }
 },
 "nbformat": 4,
 "nbformat_minor": 5
}
