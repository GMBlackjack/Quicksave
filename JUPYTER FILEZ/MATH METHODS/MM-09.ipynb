{
 "cells": [
  {
   "cell_type": "markdown",
   "id": "0c1bfe81",
   "metadata": {},
   "source": [
    "# Math Methods Homework 09: Integral Integrals\n",
    "## Gabriel M Steward\n",
    "\n",
    "### November 2022"
   ]
  },
  {
   "cell_type": "markdown",
   "id": "56664bc2",
   "metadata": {},
   "source": [
    "<a id='toc'></a>\n",
    "\n",
    "# Table of Contents\n",
    "$$\\label{toc}$$\n",
    "\n",
    "[Problem 1](#P1) (Triggy)\n",
    "\n",
    "[Problem 2](#P2) (An Echo of the Past)\n",
    "\n",
    "[Problem 3](#P3) (Polynomial)\n",
    "\n",
    "[Problem 4](#P4) (Order Adjuistment)\n",
    "\n",
    "[Problem 5](#P5) (Imaginary Layers)"
   ]
  },
  {
   "cell_type": "markdown",
   "id": "cd9e5529",
   "metadata": {},
   "source": [
    "<a id='P1'></a>\n",
    "\n",
    "# Problem 1 \\[Back to [top](#toc)\\]\n",
    "$$\\label{P1}$$"
   ]
  },
  {
   "attachments": {
    "image.png": {
     "image/png": "[encoded data removed]"
    }
   },
   "cell_type": "markdown",
   "id": "6ea471cc",
   "metadata": {},
   "source": [
    "![image.png](attachment:image.png)"
   ]
  },
  {
   "cell_type": "markdown",
   "id": "1990da3b",
   "metadata": {},
   "source": [
    "Right so we have holes at i and -i, so we can't just close the loop and call it a day. So, first, we will split up the cosine into its component exponentials.\n",
    "\n",
    "$$ = \\frac12 \\int_{-\\infty}^{\\infty} \\frac{e^{ix} + e^{-ix}}{(x-i)(x+i)} dx $$\n",
    "\n",
    "Each term individually satisfies Jordan's Lemma.\n",
    "\n",
    "$$ = \\frac12 \\int_{-\\infty}^{\\infty} \\frac{e^{ix}}{(x-i)(x+i)} dx + \\frac12 \\int_{-\\infty}^{\\infty} \\frac{ e^{-ix}}{(x-i)(x+i)} dx $$"
   ]
  },
  {
   "cell_type": "markdown",
   "id": "6bbca100",
   "metadata": {},
   "source": [
    "The left (positive exponential) term has a corresponding curve that goes above the real axis, and thus includes the point \"i\". The right (negative exponential) term has a curve that goes below the real axis and thus includes the point \"-i.\" None of these curves intersect these points, so the general theorem applies:\n",
    "\n",
    "$$ \\oint f(z) dz = 2\\pi i \\sum Res(f(x)) $$\n",
    "\n",
    "We do need to be careful of the direction of the loop. While loops go counterclockwise, that means the lower curve will cross the real number line *backward*, so we just need to remember to make the result there negative.\n",
    "\n",
    "For now, though, we need the residues. Since we only have singular points for each, this reduces to:\n",
    "\n",
    "$$ a_{-1} = lim_{z \\rightarrow z_0} (z-z_0) f(z) $$\n",
    "\n",
    "For the upper curve this gives us\n",
    "\n",
    "$$ a_{-1} = e^{-1}/2i = \\frac{1}{2ei} $$\n",
    "\n",
    "And for the lower curve this is\n",
    "\n",
    "$$ a_{-1} = e^{-1}/(-2i) = - \\frac{1}{2ei} $$\n",
    "\n",
    "The only difference is an expected sign change.  \n",
    "\n",
    "Now, \"physically,\" each contour consistes of a semicircle and a line along the real axis. The large semicircles go to zero by Jordanl's Lema, leaving the integral contributions to only come from the real number line. Thus, by the residue theorem...\n",
    "\n",
    "$$ \\oint f(z) dz = \\frac12 2\\pi i \\frac{1}{ei} = \\frac{\\pi}{e} $$\n",
    "\n",
    "Which is in fact what the answer appears to be from graphing it and integrating numerically. "
   ]
  },
  {
   "cell_type": "markdown",
   "id": "3dc10713",
   "metadata": {},
   "source": [
    "<a id='P2'></a>\n",
    "\n",
    "# Problem 2 \\[Back to [top](#toc)\\]\n",
    "$$\\label{P2}$$"
   ]
  },
  {
   "attachments": {
    "image.png": {
     "image/png": "[encoded data removed]"
    }
   },
   "cell_type": "markdown",
   "id": "37633ab4",
   "metadata": {},
   "source": [
    "![image.png](attachment:image.png)"
   ]
  },
  {
   "cell_type": "markdown",
   "id": "2c4536fe",
   "metadata": {},
   "source": [
    "Now *here* we can't just up and apply Jordan's Lemma without thinking, we have no exponential... that is to say, the constant in the exponent is zero! However, Jordan's Lemma will only apply if the function goes to zero faster than 1/|z| does. As we can clearly see we have an inverse quadratic funciton, so it will go to zero a *lot* faster. So Jordan's Lemma still applies! \n",
    "\n",
    "Now, we still have holes at i and -i, as in the last problem. However, this time we only have to deal with one of them, as we do not need to split up our integral. One thing we *do* need to do is recognize the symmetry of the problem to extend the integration bounds to $-\\infty , \\infty$ so that we don't cross over the pole. This forms a normal semicircle and crosses the entire real axis. \n",
    "\n",
    "By Jordan's Lemma the semicircle goes to nothing, leaving us only the real line. The residue for our contained point \"i\" is\n",
    "\n",
    "$$ a_{-1} = \\frac{1}{2i} $$\n",
    "\n",
    "No e, that e term was removed since we are of \"order zero\" in the exponential.\n",
    "\n",
    "With this, we have...\n",
    "\n",
    "$$ \\oint f(z) dz = 2\\pi i \\frac{1}{2i} = \\pi $$\n",
    "\n",
    "Now this is for the entire contour. Since we are even we divide it in half to get our real answer.\n",
    "\n",
    "$$ \\frac{\\pi}{2} $$\n",
    "\n",
    "Which does appear to match numerical versions. "
   ]
  },
  {
   "cell_type": "markdown",
   "id": "529237d0",
   "metadata": {},
   "source": [
    "<a id='P3'></a>\n",
    "\n",
    "# Problem 3 \\[Back to [top](#toc)\\]\n",
    "$$\\label{P3}$$"
   ]
  },
  {
   "attachments": {
    "image.png": {
     "image/png": "[encoded data removed]"
    }
   },
   "cell_type": "markdown",
   "id": "8b2880e3",
   "metadata": {},
   "source": [
    "![image.png](attachment:image.png)"
   ]
  },
  {
   "cell_type": "markdown",
   "id": "cc619a52",
   "metadata": {},
   "source": [
    "Ah, a meanie. First of all, the somewhat difficult proposition of dividing up the polynomial into its roots. \n",
    "\n",
    "$$ 4x^4 + 5x^2 + 1 \\rightarrow (x^2+1)(4x^2+1) \\rightarrow 4(x-i)(x+i)(x+i/2)(x-i/2) $$\n",
    "\n",
    "So we have four roots, no duplicates, all purely imaginary. The cosine can also be split up into exponentials. This allows us to formulate this much like **Problem 1**.\n",
    "\n",
    "$$ = \\frac18 \\int_{-\\infty}^{\\infty} \\frac{e^{iax}}{(x-i)(x+i)(x+i/2)(x-i/2)} dx + \\frac18 \\int_{-\\infty}^{\\infty} \\frac{ e^{-iax}}{(x-i)(x+i)(x+i/2)(x-i/2)} dx $$"
   ]
  },
  {
   "cell_type": "markdown",
   "id": "96562ac2",
   "metadata": {},
   "source": [
    "Each contour will have two poles in it, and thus two residues. These resisudes for the upper one are:\n",
    "\n",
    "$$ \\frac{e^{-a}}{(2i)(3i/2)(i/2)} = -\\frac{2e^{-a}}{3i} $$\n",
    "$$ \\frac{e^{-a/2}}{(-i/2)(3i/2)(i)} = \\frac{4e^{-a/2}}{3i} $$\n",
    "\n",
    "The lower ones...\n",
    "\n",
    "$$ \\frac{e^{-a}}{(-2i)(-i/2)(-i/2)} = \\frac{2e^{-a}}{3i} $$\n",
    "$$ \\frac{e^{-a/2}}{(-3i/2)(i/2)(-i)} = - \\frac{4e^{-a/2}}{3i} $$\n",
    "\n",
    "Of course the signs of the bottom ones will be flipped when we add everything together, of course. \n",
    "\n",
    "$$ \\oint f(z) dz = \\frac18 2\\pi i \\left( -\\frac{4e^{-a}}{3i} + \\frac{8e^{-a/2}}{3i}\\right) $$\n",
    "$$ = \\frac{1}{4} \\left( -\\frac{4e^{-a}\\pi}{3} + \\frac{8e^{-a/2}\\pi}{3}\\right) = \\frac{\\pi}{3}\\left( -e^{-a} + 2e^{-a/2}\\right)  $$"
   ]
  },
  {
   "cell_type": "markdown",
   "id": "92852083",
   "metadata": {},
   "source": [
    "Which is in fact what the numerical evaluate implies. (We used a=1 for our test). "
   ]
  },
  {
   "cell_type": "markdown",
   "id": "ef39aeb0",
   "metadata": {},
   "source": [
    "<a id='P4'></a>\n",
    "\n",
    "# Problem 4 \\[Back to [top](#toc)\\]\n",
    "$$\\label{P4}$$"
   ]
  },
  {
   "attachments": {
    "image.png": {
     "image/png": "[encoded data removed]"
    }
   },
   "cell_type": "markdown",
   "id": "ab707985",
   "metadata": {},
   "source": [
    "![image.png](attachment:image.png)"
   ]
  },
  {
   "cell_type": "markdown",
   "id": "cf1841d5",
   "metadata": {},
   "source": [
    "Ah yes, time to do an odd function. Which means our friend the nice slice will not be very helpful, given how it cancels. So we'll have to figure out how exactly to do it...\n",
    "\n",
    "But first, what are the roots? Fortunately they were already calculated in the appendix notes in class, so that's easy. -1 is obvious, $\\frac12 \\pm \\frac{i\\sqrt 3}{2}$ not so much. But we have them.\n",
    "\n",
    "$$ \\frac{1}{(x+1)(x-\\frac12 + \\frac{i\\sqrt 3}{2})(x - \\frac12 - \\frac{i\\sqrt 3}{2})} $$\n",
    "\n",
    "No duplicates, nice. We could calculate out all the residues but perhaps instead let's figure out what our contour even is, first, as the slices we used in the past are not exactly going to help. Jordan's Lemma still applies, though, so the arcs at the edge will just vanish. \n",
    "\n",
    "Now, one might think we want to make a quarter circle, but actually what we want to do is choose a completley arbitrary angle and find out which one just happens to cancel properly. We will do this by explicilty extending the function:\n",
    "\n",
    "$$ \\frac{e^{i\\alpha}}{1+r^3e^{3i\\alpha}} $$ \n",
    "\n",
    "where r is the radius and $\\alpha$ is our chosen angle. Notably when this angle is set to zero we revert to the original function, which is all we really needed here. Now the question is, what can we set $\\alpha$ to to make this integral doable? Well, $\\alpha = 2\\pi/3$ can provide a way to make the variables line up...\n",
    "\n",
    "$$ \\int_0^\\infty \\frac{1}{1 +x^3} dx - e^{i2\\pi/3}\\int_0^\\infty \\frac{1}{1 +x^3} dx = (1 - e^{i2\\pi/3}) \\int_0^\\infty \\frac{1}{1 +x^3} dx $$"
   ]
  },
  {
   "cell_type": "markdown",
   "id": "101c5159",
   "metadata": {},
   "source": [
    "Note the minus sign. We can't go througy both lines forward, one of the axes must be crossed backward.\n",
    "\n",
    "This, however, is the total integral, including both the real and imaginary parts. But it is defined in terms of just the real part. so we can solve for that when we do our full contour integral. Solving for the contour, we only have one residue...\n",
    "\n",
    "$$ a_{-1} = \\frac{1}{(\\frac32 + \\frac{i\\sqrt{3}}{2})(i\\sqrt{3})} = \\frac{2}{3(i\\sqrt{3} - 1)} $$"
   ]
  },
  {
   "cell_type": "markdown",
   "id": "dbd48bca",
   "metadata": {},
   "source": [
    "And so we end up in... \n",
    "\n",
    "$$ \\oint f(z) dz = 2\\pi i  \\frac{2}{3(i\\sqrt{3} - 1)} = \\frac{4i\\pi}{3(i\\sqrt{3} - 1)} $$"
   ]
  },
  {
   "cell_type": "markdown",
   "id": "e6412d11",
   "metadata": {},
   "source": [
    "Again, total integral, if we want to find the singular integral...\n",
    "\n",
    "$$ (1 - e^{i2\\pi/3}) I = \\frac{4i\\pi}{3(i\\sqrt{3} - 1)} $$\n",
    "\n",
    "And solve for I. \n",
    "\n",
    "$$ (1 + \\frac12 - \\frac{i\\sqrt3}{2}) I = \\frac{4i\\pi}{3(i\\sqrt{3} - 1)} $$\n",
    "$$ \\Rightarrow (\\frac32 - \\frac{i\\sqrt3}{2}) I = \\frac{4i\\pi}{3(i\\sqrt{3} - 1)} $$\n",
    "$$ \\Rightarrow I = \\frac{8i\\pi}{3(i\\sqrt{3} - 1)(3-i\\sqrt{3})} $$\n",
    "$$ \\Rightarrow I = \\frac{2\\pi}{3\\sqrt{3}} $$\n",
    "\n",
    "Which is what our numerical side approaches. "
   ]
  },
  {
   "cell_type": "markdown",
   "id": "a2bf019f",
   "metadata": {},
   "source": [
    "<a id='P5'></a>\n",
    "\n",
    "# Problem 5 \\[Back to [top](#toc)\\]\n",
    "$$\\label{P5}$$"
   ]
  },
  {
   "attachments": {
    "image.png": {
     "image/png": "[encoded data removed]"
    }
   },
   "cell_type": "markdown",
   "id": "c850f93b",
   "metadata": {},
   "source": [
    "![image.png](attachment:image.png)"
   ]
  },
  {
   "cell_type": "markdown",
   "id": "0f299f34",
   "metadata": {},
   "source": [
    "And now the boss round: we start WITH an imaginary number in the function. No worries, let's simply split up the imaginary component into trig form.\n",
    "\n",
    "$$ \\int_{-\\infty}^{\\infty} \\frac{cos(x)+isin(x)}{e^x+e^{-x}} dx $$"
   ]
  },
  {
   "cell_type": "markdown",
   "id": "498804ee",
   "metadata": {},
   "source": [
    "Now, the denominator is an even function, even when inverted (like it is). cosine is also an even function so this tells us nothing. However, SINE is an ODD function, so *that* term goes to zero! \n",
    "\n",
    "$$ \\int_{-\\infty}^{\\infty} \\frac{cos(x)}{e^x+e^{-x}} dx  = \\frac12 \\int_{-\\infty}^{\\infty} \\frac{e^{ix}}{e^x+e^{-x}} dx + \\frac12 \\int_{-\\infty}^{\\infty} \\frac{ e^{-ix}}{e^x+e^{-x}} dx$$"
   ]
  },
  {
   "cell_type": "markdown",
   "id": "5e9141f6",
   "metadata": {},
   "source": [
    "Now that we've excised the imaginary numbers and are left with something more workable, we can ask ourselves if there is even a pole on this function. There are no real poles, but there very much could be *imaginary* poles. So we'll have to hunt those down. The question is how, exactly? It's clearly the cosh function, but how does that respond to imaginary results? \n",
    "\n",
    "Anyway, let's just let x = a+bi and see what we can find doing this. \n",
    "\n",
    "$$ e^{a+bi} + e^{-a-bi} = e^a(cosb + isinb) + e^{-a}(cosb - isinb)  $$\n",
    "\n",
    "We want these two things to cancel, this only works when a=0, so our poles will be purely imaginary.\n",
    "\n",
    "$$ = (cosb + isinb) + (cosb - isinb)  = 2cosb $$\n",
    "\n",
    "So this equals zero whenever cosine equals zero. Which means we have an... infinite number of residue points! Oooh, fascinating! With luck, though, this infinite series can be resolved. Regardless, the poles themselves are defined by cosb=0 so our poles are all along $i(n\\pi - \\frac{\\pi}{2})$ starting at n=1. Fortunately none of these are duplictes, n increases without bound. Our only hope is that this converges when we're done with it. There are negative ones as well, but they're perfectly symmetric about the origin, which we can see since when we split up the cosine it returns to the original function in the first place. \n",
    "\n",
    "Naturally we now want a closed-form expression for the residues. There is a minor problem seeing as how we find the residues:\n",
    "\n",
    "$$ lim_{z \\rightarrow z_0} (z-z_0) \\frac{cosz}{e^z+e^{-z}};lim_{z \\rightarrow z_0} (z-z_0) \\frac{e^{iz}}{e^z+e^{-z}} $$\n",
    "\n",
    "The issue is that we aren't sure precisley how to take this limit, for one can't just split up the function in the denominator into an infinite number of roots. One thing we can do, though, since this is now a 0/0 form, is apply L'hopital's rule until something works. Now, we'll *assume* the limit exists, otherwise we have no way to use contour integration since we can't ignore the entire imaginary axis with our discs. "
   ]
  },
  {
   "cell_type": "markdown",
   "id": "10dd3828",
   "metadata": {},
   "source": [
    "So we apply L'hopital's rule with reckless abandon. The first iteration actually solves our problem entirely, as the denominator becomes sinh-form, which is no longer going to vanish in the same place as cosh. Meanwhile the upper derivative  also produces something else. Let's have a look, shall we? \n",
    "\n",
    "$$ lim_{z \\rightarrow z_0}  \\frac{i(z-z_0)e^{iz}+e^{iz}}{e^z-e^{-z}} $$\n",
    "\n",
    "Now that first term in the numerator vanishes to zero, the second does not. \n",
    "\n",
    "$$ =  \\frac{e^{iz_0}}{e^{z_0}-e^{-z_0}} $$"
   ]
  },
  {
   "cell_type": "markdown",
   "id": "1c16fb28",
   "metadata": {},
   "source": [
    "Now, we have the form for *every* z_0. We can now evaluate this to find the resudie for every single one. The numerator converts easily. The denominator actually converts using the same steps we used to find the poles, just that the sines are the ones that remain this time.\n",
    "\n",
    "$$ = \\frac{e^{-n\\pi + \\pi/2}}{2isin(n\\pi -\\pi/2)} $$\n",
    "\n",
    "And if we were to add every single residue together...\n",
    "\n",
    "$$ = \\frac{1}{2i} \\sum_n \\frac{e^{-n\\pi + \\pi/2}}{sin(n\\pi -\\pi/2)} $$\n",
    "\n",
    "That 2i will cancel out nicely. "
   ]
  },
  {
   "cell_type": "markdown",
   "id": "8339f0f6",
   "metadata": {},
   "source": [
    "$$ \\oint f(z) dz = 2\\pi i  \\frac{1}{2i} \\sum_n \\frac{e^{-n\\pi + \\pi/2}}{sin(n\\pi -\\pi/2)}  = \\sum_n \\frac{\\pi e^{-n\\pi + \\pi/2}}{sin(n\\pi -\\pi/2)}  $$"
   ]
  },
  {
   "cell_type": "markdown",
   "id": "6d7f5891",
   "metadata": {},
   "source": [
    "Now, since we have no other portions of our contour aside form the real number line, this is in fact the solution. The series is also one that dramatically shrinks as n increases, so it will clearly converge. The question is... when, exactly, and to what? \n",
    "\n",
    "We can simplify the sine into a cosine. Which will allow us to simplify the sum due to its integer nature.\n",
    "\n",
    "$$ = \\sum_n \\frac{\\pi e^{-n\\pi + \\pi/2}}{-cos(n\\pi)} $$\n",
    "$$ = \\pi\\sum_{nodd} e^{-n\\pi + \\pi/2} - \\pi\\sum_{neven} e^{-n\\pi + \\pi/2} $$\n",
    "$$ = \\pi e^{\\pi/2} \\sum_{nodd} e^{-n\\pi} - \\pi e^{\\pi/2} \\sum_{neven} e^{-n\\pi} $$"
   ]
  },
  {
   "cell_type": "markdown",
   "id": "6af1059b",
   "metadata": {},
   "source": [
    "Now the series looks simple. The question is, is this a known series we can look up easily? \n",
    "\n",
    "Well, in a sense, yes, the FULL sum is known, it takes the form of a power series.\n",
    "\n",
    "$$ \\sum_n e^{-n\\pi} = \\frac{1}{1-e^{\\pi}} $$\n",
    "\n",
    "But this is if every term were positive, we have positive and negative terms here. That said, it's a power series, surely the even power series has been done before... or, alternatively, what if we restate the even and odd sums in terms of power series'?\n",
    "\n",
    "$$ = \\pi e^{\\pi/2} \\sum_{n} e^{-(2n-1)\\pi} - \\pi e^{\\pi/2} \\sum_{n} e^{-2n\\pi} $$\n",
    "$$ = \\pi e^{\\pi/2} \\sum_{n} e^{-(2n-1)\\pi} - \\pi e^{\\pi/2} \\frac{1}{1-e^{2\\pi}} $$\n",
    "\n",
    "Now the odd one would be ugly to spread out. Fortunately we can find it by subtracting the even one from the total.\n",
    "\n",
    "$$ = \\pi e^{\\pi/2} (\\frac{1}{1-e^{\\pi}} - \\frac{1}{1-e^{2\\pi}} ) - \\pi e^{\\pi/2} \\frac{1}{1-e^{2\\pi}} $$\n",
    "$$ = \\pi e^{\\pi/2} \\frac{1}{1-e^{\\pi}} - \\pi e^{\\pi/2} \\frac{2}{1-e^{2\\pi}} $$\n",
    "$$ = \\pi e^{\\pi/2} \\left( \\frac{1}{1-e^{\\pi}} - \\frac{2}{1-e^{2\\pi}}\\right)$$"
   ]
  },
  {
   "cell_type": "markdown",
   "id": "6ddd5799",
   "metadata": {},
   "source": [
    "Which looks about as simplified as it's going to get without trying to mess blindily with uneven exponentials in the denominator. This is what we submit as our answer."
   ]
  }
 ],
 "metadata": {
  "kernelspec": {
   "display_name": "Python 3 (ipykernel)",
   "language": "python",
   "name": "python3"
  },
  "language_info": {
   "codemirror_mode": {
    "name": "ipython",
    "version": 3
   },
   "file_extension": ".py",
   "mimetype": "text/x-python",
   "name": "python",
   "nbconvert_exporter": "python",
   "pygments_lexer": "ipython3",
   "version": "3.7.9"
  }
 },
 "nbformat": 4,
 "nbformat_minor": 5
}
