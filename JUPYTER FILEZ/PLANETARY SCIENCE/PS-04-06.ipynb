{
 "cells": [
  {
   "cell_type": "markdown",
   "id": "0c1bfe81",
   "metadata": {},
   "source": [
    "# Planetary Science Selected Problems Volume 2\n",
    "\n",
    "## Authors: Gabriel M Steward"
   ]
  },
  {
   "cell_type": "markdown",
   "id": "56664bc2",
   "metadata": {},
   "source": [
    "<a id='toc'></a>\n",
    "\n",
    "# Table of Contents\n",
    "$$\\label{toc}$$\n",
    "\n",
    "CHAPTER 4\n",
    "\n",
    "[Problem 4.1](#P4.1) (Scale Height Comparisons)\n",
    "\n",
    "[Problem 4.2](#P4.2) (Not-So-Twin Planets)\n",
    "\n",
    "[Problem 4.3](#P4.3) (Equivalent Width)\n",
    "\n",
    "[Problem 4.4](#P4.4) (Equivalent Width, Again)\n",
    "\n",
    "[Problem 4.5](#P4.5) (Equivalent Width, The Reckoning) [Messy, but strangely \"functional?\"]\n",
    "\n",
    "[Problem 4.6](#P4.6) (Jupuiter Limb Darkening)\n",
    "\n",
    "[Problem 4.7](#P4.7) (Saturn Species Elevation)\n",
    "\n",
    "[Problem 4.8](#P4.8) (Doppler Width)\n",
    "\n",
    "[Problem 4.11](#P4.11) (Io's Atmosphere Extravaganza) [Something's wrong with the temperature, and we seem to not use everything provided.]\n",
    "\n",
    "[Problem 4.14](#P4.14) (Crude Wet Adiabatic Lapse Rate)\n",
    "\n",
    "[Problem 4.15](#P4.15) (Ammonia Clouds)\n",
    "\n",
    "[Problem 4.16](#P4.16) (Uranus Methane Clouds)\n",
    "\n",
    "[Problem 4.18](#P4.18) (A Model of Temperature Fluctuation) [Primary objective done, but somewhat questionable--did we need more or less precision than we did? Missing thermosphere-only version.]\n",
    "\n",
    "[Problem 4.27](#P4.27) (Ozone Peaks)\n",
    "\n",
    "[Problem 4.32](#P4.32) (Diffusion Limits)\n",
    "\n",
    "[Problem 4.33](#P4.33) (The Escape Parameter)\n",
    "\n",
    "[Problem 4.34](#P4.34) (Forced Atmosphere Ejection)\n",
    "\n",
    "CHAPTER 5\n",
    "\n",
    "[Problem 5.3](#P5.3) (Which Form Is Stable?)\n",
    "\n",
    "[Problem 5.5](#P5.5) (Planetary Crust Recycling)\n",
    "\n",
    "[Problem 5.8](#P5.8) (How Liquid Is It? (not very))\n",
    "\n",
    "[Problem 5.11](#P5.11) (Meteor 2 Moon)\n",
    "\n",
    "[Problem 5.12](#P5.12) (Meteor 2 Mercury)\n",
    "\n",
    "[Problem 5.13](#P5.13) (Bait)\n",
    "\n",
    "[Problem 5.16](#P5.16) (Crater Density)\n",
    "\n",
    "[Problem 5.18](#P5.18) (Callisto Collisions)\n",
    "\n",
    "CHAPTER 6\n",
    "\n",
    "[Problem 6.2](#P6.2) (Minimum Spherez)"
   ]
  },
  {
   "cell_type": "markdown",
   "id": "cd9e5529",
   "metadata": {},
   "source": [
    "<a id='P4.1'></a>\n",
    "\n",
    "# Problem 4.1 \\[Back to [top](#toc)\\]\n",
    "$$\\label{P4.1}$$\n",
    "\n",
    "*Estimate the pressure scale height near the surfaces of Earth, Venus, Mars, Pluto, and Titan, and at the 1 bar levels of Jupiter and Neptunre. Comment on similarities and Differences.*\n",
    "\n",
    "Wait why would we need to estimate, the values are already present. Also it would just be number crunching, and tedious at best. However, it is best to look at them and what they mean:\n",
    "\n",
    "Mercury 13-95km\n",
    "\n",
    "Venus: 16km\n",
    "\n",
    "Earth: 8.5km\n",
    "\n",
    "Moon: 65km\n",
    "\n",
    "Mars: 11km\n",
    "\n",
    "Jupiter: 24km\n",
    "\n",
    "Saturn: 47km\n",
    "\n",
    "Titan: 20km\n",
    "\n",
    "Uranus: 25km\n",
    "\n",
    "Neptune: 23km\n",
    "\n",
    "Triton: 14km\n",
    "\n",
    "Pluto: 33km\n",
    "\n",
    "So, a quick refresher: what does the scale height MEAN? Well, H is the distance over which the pressure changes by a factor of e, the standard \"factor of change\" for anything exponential. Naturaly it changes a lot, this is only at the surface/1 bar. Notably Mercury's is variable probably due to its resonance making half of it bake and the other half not. \n",
    "\n",
    "The highest normal object is the moon, which has such a tenuous atmosphere it changes quickly to basically nothing. \n",
    "\n",
    "After that, *Saturn*. Something's clearly up with Saturn, because all the other gas giants have comparable scale heights, while it is just enormous. Notably there appears to be a strange relation: really thin atmospheres are the highest in scale height, but really thick ones also have big scale heights, while \"middle\" atmospheres like Earth and Mars are pretty low. THis can be easiest to see when comparing Titan to Pluto to Earth. Pluto has almost no atmosphere, Titan has a huge one, they both have large scale heights. Menawhile Earth's scale height is low, despite it having an atmosphere in the \"middle\" between the two. Interesting!\n",
    "\n",
    "It's harder to compare the gas giants to the terrestrial planets, admittedly, given the fundamental differences. "
   ]
  },
  {
   "cell_type": "markdown",
   "id": "56adc111",
   "metadata": {},
   "source": [
    "<a id='P4.2'></a>\n",
    "\n",
    "# Problem 4.2 \\[Back to [top](#toc)\\]\n",
    "$$\\label{P4.2}$$\n",
    "\n",
    "*Although in some respects Earth and Venus are 'twin planets', they have very different atmospheres. For example, the surface pressures on Earth and Venus are 1 bar and 92 bar, respectively. Calcualte the mass of each atmosphere both in gramsa nd as a fraction of each planet's total mass. REcalculate these values for Earth including EArth's oceans as part of its 'atmosphre.' (If all of the water above Earth's crust were spread evenly aver the planet, this global ocean would be ~3 km deep.) Compare the values for the two planets and comment.*"
   ]
  },
  {
   "cell_type": "markdown",
   "id": "48f35734",
   "metadata": {},
   "source": [
    "So, ahem, rather than calculating these values, I'm just going to look them up as I'm curious for the answer but don't want to try to integrate over density, which does depend on composition which is *variable*. \n",
    "\n",
    "Earth's Atmosphere: 5.148e18 kg\n",
    "\n",
    "Earth's Oceans: 1.426e21 kg\n",
    "\n",
    "Venus' Amtmosphere: 4.8e20 kg\n",
    "\n",
    "Earth's mass: 5.972e24 kg (Venus is comparable).\n",
    "\n",
    "So we learn here that Earth's atmosphere is peanuts compared to Venus', but Earth's Oceans alone do beat out Venus' Atmosphere by a factor of 3ish. \n",
    "\n",
    "The ratio to planet mass is 1e-6 for Earth's atmosphere, 1e-4 for Venus's, and 1e-3 for Earth's Ocean, roughly. one thousandth of Earth's mass is in the ocean. That is simultaneously a lot and not much."
   ]
  },
  {
   "cell_type": "markdown",
   "id": "b07d4982",
   "metadata": {},
   "source": [
    "<a id='P4.3'></a>\n",
    "\n",
    "# Problem 4.3 \\[Back to [top](#toc)\\]\n",
    "$$\\label{P4.3}$$\n",
    "\n",
    "*a) Show that in an optically thin medium, the equivalent width is proportional to the column density of absorbing material, regardless of the shape of the line profile.*"
   ]
  },
  {
   "cell_type": "markdown",
   "id": "471f5388",
   "metadata": {},
   "source": [
    "We... wait, this is arleady given to us as 4.10? \n",
    "\n",
    "$$ EW \\approx N_c \\alpha_{v_0} \\int_0^\\infty \\Phi_\\nu d\\nu $$\n",
    "\n",
    "$N_c$ is the column density, and it multiplies by the integral of the line profile no matter what, so it's guaranteed to be proportional. So let's assume the problem is asking us to *derive* this. Well, in that case, we have the definition of Equivalent Width:\n",
    "\n",
    "$$ EW = \\int_0^\\infty A_\\nu d\\nu = \\int_0^\\infty (1-e^{-\\tau_\\nu}) d\\nu $$\n",
    "\n",
    "So this is where we start. We have some other relations that seem odd but combine together:\n",
    "\n",
    "$$\\tau_\\nu = \\tau_{\\nu_0} \\Phi_\\nu $$\n",
    "$$\\tau_{\\nu_0} = N_c \\alpha_{\\nu_0}$$\n",
    "$$\\Phi_\\nu = \\alpha_\\nu / \\alpha_{\\nu_0}$$\n",
    "\n",
    "So all this to say \n",
    "\n",
    "$$ \\tau_\\nu = N_c \\alpha_{\\nu_0} \\Phi_{\\nu_0} $$ \n",
    "\n",
    "We don't expand the line shape $\\Phi$ so we can get the same result as before. If we taylor expand our friend $e^x$ we are going to get 1 - x, which changes the integral to...\n",
    "\n",
    "$$ EW \\approx \\int_0^\\infty N_c \\alpha_{\\nu_0} \\Phi_{\\nu_0} d\\nu $$\n",
    "\n",
    "And $N_c$ does not depend on frequency. For some reason. These quantities weren't exactly... explained? "
   ]
  },
  {
   "cell_type": "markdown",
   "id": "8ebd1076",
   "metadata": {},
   "source": [
    "*b) Assume the line profile can be represented by a Voigt profile. Show that the equivalent width in an optically thin medium is*\n",
    "\n",
    "$$ EW \\propto \\Delta \\nu_D N_c $$"
   ]
  },
  {
   "cell_type": "markdown",
   "id": "87b87882",
   "metadata": {},
   "source": [
    "A Voigt profile has the form:\n",
    "\n",
    "$$ \\alpha_\\nu \\approx e^{-x^2} + \\frac{a}{\\sqrt\\pi x^2} $$\n",
    "\n",
    "Where x is equal to $\\frac{\\nu - \\nu_0}{\\Delta \\nu_D}$\n",
    "\n",
    "Now, previously, we kept $\\Phi$ as it was to match the equation, but now we're not going to do that so we can have\n",
    "\n",
    "$$ EW \\approx N_c \\int_0^\\infty \\alpha_\\nu d\\nu $$\n",
    "\n",
    "So we can substitute in the Voigt Profile\n",
    "\n",
    "$$ EW \\approx N_c \\int_0^\\infty e^{-\\left( \\frac{\\nu - \\nu_0}{\\Delta \\nu_D} \\right)^2} + \\frac{a}{\\sqrt\\pi \\left( \\frac{\\nu - \\nu_0}{\\Delta \\nu_D} \\right)^2} d\\nu $$"
   ]
  },
  {
   "cell_type": "markdown",
   "id": "f4aa2330",
   "metadata": {},
   "source": [
    "Now, we only need to show that it *scales with* the result. Now, while we are tempted to taylor expand the exponential, that results in a 1 in the front which will integrate to infinity which is not good. However, currently both terms will go to zero at infinity, so their integrals do not diverge. This does mean we *are* going to have to figure out the general forms of the integrals. \n",
    "\n",
    "TO make things easier, let's try a u substitution. \n",
    "\n",
    "$$ u = (\\nu - \\nu_0)/(\\Delta v_D)$$\n",
    "$$ du = \\frac{1}{\\Delta v_D} d\\nu $$\n",
    "\n",
    "So we end up with...\n",
    "\n",
    "$$ EW \\approx N_c \\Delta v_D \\int_0^\\infty e^{-u^2} + \\frac{a}{\\sqrt\\pi u^2} du $$\n",
    "\n",
    "And hey we don't even have to do the integral, the substitution gave us our proportinality constant right there."
   ]
  },
  {
   "cell_type": "markdown",
   "id": "e11033d7",
   "metadata": {},
   "source": [
    "<a id='P4.4'></a>\n",
    "\n",
    "# Problem 4.4 \\[Back to [top](#toc)\\]\n",
    "$$\\label{P4.4}$$\n",
    "\n",
    "*Derive an expression for the equivalent width in a saturated line. Assume a Voigt profile, with the difference in optical depth between the center of the line an the wings being ~1e4. The wings of the line can be ignored. Define a frequency $x_1 = (\\nu_1 - \\nu_0)/\\Delta \\nu_D$ where the optical depth is 1. Inside of $x_1$ the line is fully saturated and outside the line is optically thin. Show that the equivalent width is*\n",
    "\n",
    "$$ EW \\propto \\Delta \\nu_D \\sqrt{logN_c} $$\n",
    "\n",
    "*Note that the equivalent width is practically insensitive to the number density of absorbing material.*\n",
    "\n",
    "Ah the age old question, are we log10 or ln? Probably ln, but one never knows for sure. "
   ]
  },
  {
   "attachments": {
    "image-2.png": {
     "image/png": "[encoded data removed]"
    },
    "image.png": {
     "image/png": "[encoded data removed]"
    }
   },
   "cell_type": "markdown",
   "id": "abb9e3e6",
   "metadata": {},
   "source": [
    "Okay so the exponential expansion we did above now no longer applies very well, as the \"x\" is greater than 1, and so the expansion creates terms that get higher and higher rather than lower and lower, oops. Perhaps we can still figure something out, though? \n",
    "\n",
    "$$ EW = \\int_0^\\infty A_\\nu d\\nu = \\int_0^\\infty (1-e^{- N_c \\alpha_{\\nu}}) d\\nu $$\n",
    "\n",
    "Where $\\alpha_\\nu$ is the Voigt profile. We note that the entire thing in the exponent is the optical depth. The majority of the values we are given for this problem are ways to specify the actual profile. We know that the optical depth of the wings is 1e4 times different than the center, so we can ignore the wings, but this also means we have a 1e4 magnitude optical depth in the center and 1 on the boundary to the wings. So, using these values, can we specify values for the optical depth?\n",
    "\n",
    "$$ \\alpha_\\nu \\approx e^{-x^2} + \\frac{a}{\\sqrt\\pi x^2} $$\n",
    "\n",
    "$$ \\tau_\\nu \\approx N_ce^{-x^2} + N_c\\frac{a}{\\sqrt\\pi x^2} $$\n",
    "\n",
    "Let's plot this to see what it looks like.\n",
    "\n",
    "![image.png](attachment:image.png)\n",
    "\n",
    "Hmm well if we ever need to evaluate at the center we're completely bonked, but guess what! That's from the *second term* which is entirely due to *the wings*. Since we can ignore the wings we can say:\n",
    "\n",
    "$$ \\tau_\\nu \\approx N_ce^{-x^2} $$\n",
    "\n",
    "And get\n",
    "\n",
    "![image-2.png](attachment:image-2.png)\n",
    "\n",
    "Oh that's so much better. In fact we can now algebraically solve for $x_i$ when the optical depth equals 1. \n",
    "\n",
    "$$ x_i = \\pm\\sqrt{-ln(\\frac{1}{N_c})} $$\n",
    "\n",
    "Solutions only exist if N$\\geq$1 which, yeah, otherwise the function doesn't *reach* 1. Anyway due to algebraic cleverness this is equal to\n",
    "\n",
    "$$ x_i = \\pm\\sqrt{ln(N_c)} $$\n",
    "\n",
    "The only issue now is that $\\Delta \\nu_D$ is not part of this. Hmm. However, all these really do is define the edges of the integrals, because outside these bounds we are optically thin and can be ignored. Which means... finally back to EW...\n",
    "\n",
    "$$ EW = \\int_{-x_1}^{x_1} (1-e^{- \\tau_\\nu}) d\\nu $$\n",
    "\n",
    "Aha! And if we treat this all as optically thick, that is, as the integral over 1... well we have a *length* scale of $\\Delta \\nu_D$! YES! So the integraiton ends depend on the value, and the length depends on the scale... sure there might be 2 or 4 thrown in but that is sufficient to show\n",
    "\n",
    "$$ EW \\propto \\Delta \\nu_D \\sqrt{ln(N_c)} $$\n",
    "\n",
    "Keep in mind the frequency integrated over at $x_1$ is $\\Delta \\nu_D x_1 + \\nu_0$ which is where it actually comes from. "
   ]
  },
  {
   "cell_type": "markdown",
   "id": "bb88bd66",
   "metadata": {},
   "source": [
    "<a id='P4.5'></a>\n",
    "\n",
    "# Problem 4.5 \\[Back to [top](#toc)\\]\n",
    "$$\\label{P4.5}$$"
   ]
  },
  {
   "cell_type": "markdown",
   "id": "f0e36106",
   "metadata": {},
   "source": [
    "*In an optically thick medium the wings in a Voigt profile become important. Define the frequency $x_1 = (\\nu_1 - \\nu_0)/\\Delta \\nu_D$ such that the product of $\\tau_{\\nu_0}$ with the absorbing wings (the second term in 4.18) is equal to unity. Express the frequency $x_1$ in terms of a and $\\tau_{\\nu_0}$. The medium is optically thick within $|x|<|x_1|$ and optically thin otherwise. Show that the equivalent width is*\n",
    "\n",
    "$$ EW \\propto \\sqrt{N_c \\Delta \\nu_D} $$"
   ]
  },
  {
   "cell_type": "markdown",
   "id": "dea84aef",
   "metadata": {},
   "source": [
    "A word of note: this problem is a mess. We can get an expression for $x_1$ easily enough and in *numerous* different ways we have found that, yep, the result is proporitonal to $\\sqrt{N_c}$. Note hte lack of $\\Delta \\nu_D$ present here, because it either doesn't show up in our final expresssions or ends up not square rooted. Something, somewhere, is clearly hiding a term of $\\Delta \\nu_D$ somewhere in it we can't see. \n",
    "\n",
    "Since we wish to close our book on this problem and just leave the below notes for possible panicked refernece later, let's ask: if $N_c$ is the column density and is essentially the number of particles, what *is* $\\Delta \\nu_D$? It is... the full width of hte line at half p;ower divided by a factor of $2\\sqrt(ln2)$. YEah, sure, that makes sense. (no it doesn't). If we coudl relate it to a we might hav ea... hold on. \n",
    "\n",
    "Yeah, while we have to make some questionable assumptions, this realizaiton does take us to the end of the problem with the right solution. Notably, not even using $x_1$ at all. "
   ]
  },
  {
   "cell_type": "markdown",
   "id": "c6771c7b",
   "metadata": {},
   "source": [
    "Curiously if we had done this one first it probably would have given better indication of what to do to the prvious one. Anwyay, what we need is the second term.\n",
    "\n",
    "$$ \\frac{\\tau_{\\nu_0} a}{\\sqrt\\pi x_1^2} = 1 $$\n",
    "$$ x_1 = \\pm\\sqrt{\\frac{\\tau_{\\nu_0}a}{\\sqrt\\pi}} $$"
   ]
  },
  {
   "cell_type": "markdown",
   "id": "ebd1e957",
   "metadata": {},
   "source": [
    "Ahem. Allow me to yell at my past idiot self. THE DOPPLER BORADENING NO LONGER DOMINATES IDIOT WE CAN'T USE THE SIMPLIFIED VOIGT PROFILE WE HAVE TO USE THE FULL ONE. Moron. \n",
    "\n",
    "Anyway now that hte yelling is done, We can get back to being a bit more reasonable. We have the bounds, we just need to know exactly what kind of function we're integrating--the Voigt Profile. Which is going to be a mess without the simplification. Here's the full profile:\n",
    "\n",
    "$$ \\alpha_\\nu = \\alpha \\frac{H(a,x)}{\\sqrt{\\pi} \\nu_D} $$\n",
    "$$ H(a,x) = \\frac{a}{\\pi} \\int_{-\\infty}^{\\infty} \\frac{e^{-y^2}}{(x-y)^2 + a^2} dy $$\n",
    "$$ x = (\\nu-\\nu_0)/\\Delta \\nu_D $$\n",
    "$$ y = v_r / v_{r0} $$\n",
    "\n",
    "Notably a equals something to but we can just consider that a flat constant. "
   ]
  },
  {
   "cell_type": "markdown",
   "id": "7c846ba6",
   "metadata": {},
   "source": [
    "Anyway if we put it all together we get the following for the equivalent width.\n",
    "\n",
    "$$ EW = \\int_0^\\infty N_c \\frac{\\alpha}{\\sqrt{\\pi} \\nu_D} H(a,x) d\\nu $$\n",
    "$$ EW = \\int_0^\\infty N_c \\frac{\\alpha}{\\sqrt{\\pi} \\Delta\\nu_D} \\frac{a}{\\pi} \\int_{-\\infty}^{\\infty} \\frac{e^{-y^2}}{(x-y)^2 + a^2} dyd\\nu $$"
   ]
  },
  {
   "cell_type": "markdown",
   "id": "8201b2e4",
   "metadata": {},
   "source": [
    "Now the only thing on here that actually *depends* on frequency is x. And we can perform the integrals in any order, so there's no need to worry. Maybe we can just ignore the integral with respect to y and see if we can do it just with respect to the frequency? \n",
    "\n",
    "First we should presumalby transform into the integral for x. \n",
    "\n",
    "$$ d\\nu = dx \\Delta \\nu_D $$\n",
    "\n",
    "Which is probably a neater and more succint way to explain the funky thing we did at the end of the previous problem. \n",
    "\n",
    "$$ EW = \\int_{-\\nu_0/\\Delta \\nu_D}^\\infty N_c \\frac{\\alpha}{\\sqrt{\\pi}} \\frac{a}{\\pi} \\int_{-\\infty}^{\\infty} \\frac{e^{-y^2}}{(x-y)^2 + a^2} dydx $$\n",
    "\n",
    "Pull everything out we can and rearrange.\n",
    "\n",
    "$$ EW = N_c \\frac{\\alpha}{\\sqrt{\\pi}} \\frac{a}{\\pi} \\int_{-\\infty}^{\\infty} \\int_{-\\nu_0/\\Delta \\nu_D}^\\infty \\frac{e^{-y^2}}{(x-y)^2 + a^2} dxdy $$\n",
    "\n",
    "The integral with respect to x can be done. \n",
    "\n",
    "$$ EW = N_c \\frac{\\alpha}{\\sqrt{\\pi}} \\frac{a}{\\pi} \\int_{-\\infty}^{\\infty} e^{-y^2} \\left[ \\frac{1}{a} arctan(\\frac{x-y}{a}) \\right]_{-\\nu_0/\\Delta \\nu_D}^\\infty dy $$"
   ]
  },
  {
   "cell_type": "markdown",
   "id": "f30d0305",
   "metadata": {},
   "source": [
    "evaluating this at the infinite limit is no problem, arctan goes to $\\pi/2$, simple enough. But the *other* bound...\n",
    "\n",
    "$$ EW = N_c \\frac{\\alpha}{\\sqrt{\\pi}} \\frac{1}{\\pi} \\int_{-\\infty}^{\\infty} e^{-y^2} \\left[ \\frac{\\pi}{2} - arctan(\\frac{-\\nu_0/\\Delta \\nu_D-y}{a}) \\right] dy $$\n",
    "\n",
    "Now, here's a *very* odd thing. I was looking for a Taylor Expansion that would cancel the $\\pi/2$ term. And, lo and behold, there *is* one. THe expansion around infinity. Which we never would have even considered if we didn't see it. The thing is, what does this produce?\n",
    "\n",
    "$$ EW \\approx N_c \\frac{\\alpha}{\\sqrt{\\pi}} \\frac{1}{\\pi} \\int_{-\\infty}^{\\infty} e^{-y^2} \\left[ \\frac{a}{-\\nu_0/\\Delta \\nu_D-y} \\right] dy $$\n",
    "$$ EW \\approx N_c \\frac{\\alpha}{\\sqrt{\\pi}} \\frac{1}{\\pi} \\int_{-\\infty}^{\\infty} ae^{-y^2} \\left[ -\\frac{1}{y} +\\frac{\\nu_0/\\Delta \\nu_D}{y^2} \\right] dy $$\n",
    "\n",
    "Yeah this doesn't go anywhere, and that expansion was probably bunk anyway. "
   ]
  },
  {
   "cell_type": "markdown",
   "id": "a5d871da",
   "metadata": {},
   "source": [
    "So let's do a very primitive splitting of the entire integral: opticall thick goes to an integral over 1, optically thin doesn't--in fact it can reduce via taylor expansion to just the exponent.  \n",
    "\n",
    "$$ EW = \\int_{-\\nu_0 / \\Delta \\nu_D}^{-x_1} \\tau_\\nu d\\nu + \\int_{-x_1}^{x_1} 1 d\\nu + \\int_{x_1}^\\infty \\tau_\\nu d\\nu $$\n",
    "\n",
    "The problem is right now basically all of this is in completley wrong units, our bounds are in x but the actual frequency is inside x by\n",
    "\n",
    "$$ \\nu = x\\Delta \\nu_D + \\nu_0 $$\n",
    "\n",
    "So if we would rather do things in terms of x...\n",
    "\n",
    "$$ d\\nu = dx \\Delta \\nu_D $$\n",
    "\n",
    "Which is probably a neater and more succint way to explain the funky thing we did at the end of the previous problem. Anyway, this simplifies some things.\n",
    "\n",
    "$$ EW = \\Delta \\nu_D\\int_{-\\nu_0 / \\Delta \\nu_D}^{-x_1} \\tau_x d\\nu + \\Delta \\nu_D\\int_{-x_1}^{x_1} 1 dx + \\Delta \\nu_D\\int_{x_1}^\\infty \\tau_\\nu dx $$"
   ]
  },
  {
   "cell_type": "markdown",
   "id": "09a5ec53",
   "metadata": {},
   "source": [
    "Now $\\tau_\\nu = N_c \\alpha_\\nu$ and $\\tau_{\\nu_0} = N_c \\alpha_{\\nu_0}$. With this we should be able to pull out some dependencies on $N_c$, maybe.\n",
    "\n",
    "We can actually evaluate the middle integral outright. \n",
    "\n",
    "$$ 2 \\Delta \\nu_D x_1 = 2 \\Delta \\nu_D \\sqrt{\\frac{N_c \\alpha_{\\nu_0}a}{\\sqrt\\pi}} $$\n",
    "\n",
    "The width isn't rooted, but it's possible this is a typo in the problem as it sure seems like the frequency scale, if symmetric, should scale linearly with that. But let's check the wings to see if maybe they introduce a complication. \n",
    "\n",
    "Let's just consider the general itnegral first. \n",
    "\n",
    "$$\\int N_ce^{-x^2} + N_c\\frac{a}{\\sqrt\\pi x^2} dx$$\n",
    "\n",
    "For optically thin situations the exponential can be taylor expanded.\n",
    "\n",
    "$$\\int -N_cx^2 + N_c\\frac{a}{\\sqrt\\pi x^2} dx$$\n",
    "\n",
    "This can be integrated in specific. \n",
    "\n",
    "$$ -2N_cx -2N_c\\frac{a}{\\sqrt\\pi x^3} $$\n",
    "\n",
    "We evaluate this at four bounds. While this adjusted form has a discontinuity at infinity, this is just because of the taylor expansion, we can show (read: got lazy and used a computer) that that the integral approaches a finite value of $\\sqrt\\pi/2$ times $N_c$ no matter what the values of any other constants are. Everything else can just be evaluated. The same can actually be done for the weird zero frequency case: it is far enough from the profile that it can be ignored. However, these interfere constructively, not destructively, so what fun. \n",
    "\n",
    "This leaves our *Actual* bounds of $x_1$. \n",
    "\n",
    "$$ \\pm2N_c\\sqrt{\\frac{N_c \\alpha_{\\nu_0}a}{\\sqrt\\pi}} \\pm2N_c\\frac{a}{\\sqrt\\pi} \\left(\\sqrt{\\frac{\\sqrt\\pi}{N_c \\alpha_{\\nu_0}a}}\\right)^3 $$\n",
    "\n",
    "Perhaps the most important thing to note here is that the two terms do not share the same power of $N_c$, which is against what we were trying to show. The first term is $N_c^{3/2}$. It is arguable that this term, which is dominated by the central line profile, is insignificant out here. If we ignore it, we are left with the term $N_c^{-1/2}$ which is a square root, just an *inverse* one and not what we were looking for. \n",
    "\n",
    "Naturally, we can argue that while the wings are important they don't define the majority of the EW, and so the central approximation would show a scale if $EW \\propto \\Delta \\nu_D \\sqrt{N_c}$, which *might* be what we were meant to do, but it seems unlikely. \n",
    "\n"
   ]
  },
  {
   "cell_type": "markdown",
   "id": "fbd7c40d",
   "metadata": {},
   "source": [
    "Wiat.\n",
    "\n",
    "Wait one FRIGGIN minute.\n",
    "\n",
    "$$ a = \\frac{\\Gamma}{4\\pi \\Delta \\nu_D} \\propto \\frac{1}{\\Delta \\nu_D} $$\n",
    "\n",
    "And in the first term we have...\n",
    "\n",
    "$$ EW \\propto \\Delta \\nu_D \\sqrt{N_c a} \\propto \\sqrt{N_c \\Delta nu_D} $$\n",
    "\n",
    "And there it is! Granted, this is only in the first term but we'll take it!\n",
    "\n",
    "This result also came from an alternative method where we made several approximations on the integral, the big one notably bieng integrating from 0 to infinity over *x* even though x technically went below zero--but it went to a constant so we can ignore that, right? Regardless...\n",
    "\n",
    "$$ \\int_0^\\infty 1-e^{-K/x^2} = \\sqrt{\\pi K}$$ \n",
    "\n",
    "Where K is just some constant (notably in our case its propto $N_c a$.) Now when we shifted the integral over we ended up with a term of $\\Delta \\nu_D$ in front that cancels out to be $EW \\propto \\sqrt{N_c \\Delta \\nu_D}$. One could argue we can do this because at very larege N the wings dominate the overall profile, and so the specific position of the actual wing is more irrelevant and can be considered closer to zero. (We're not sure we buy this but there must be some reason it works out, right?) \n",
    "\n",
    "Are we happy with this level of neatness? Yes! Because screw this problem it's a bunch of work for something that can just be taken and observed from physical measurements. Bagh. "
   ]
  },
  {
   "cell_type": "markdown",
   "id": "0e107e49",
   "metadata": {},
   "source": [
    "<a id='P4.6'></a>\n",
    "\n",
    "# Problem 4.6 \\[Back to [top](#toc)\\]\n",
    "$$\\label{P4.6}$$\n",
    "\n",
    "*If you were to observe Jupiter's thermal emission at radio wavelengths, where one probes down to well below the planet's tropopause, would you expect limb brightening, darkening, or no change in intensity when you scan the planet from teh center to the limb? Explain your reasoning.*\n",
    "\n",
    "To answer this let's examine the temperature profile of Jupiuter. Figure 4.1 happens to have one  of these. The tropopoause is where the \"first minimum\" is, measured from the \"ground\" up. Jupiter gradually heats up after hte tropopause until it heats up a *lot* in the thin atmosphere, but at that point the opacity will be about nil and probably has no effect. So we probe deep down, if it's \"well past\" the tropopause we have a bit of a conundrum. How far past? Do we reach the very hot inteior secitons which make the atmosphere look cold, or are we not very far past it and get tropopause-similar temperatures? Let's answer the question for three cases: seeing *at* the tropopause, seeing \"medium\" temperatures, and seeing \"hot\" temperatures.\n",
    "\n",
    "So if we see *at* the tropopause, we are looking at the coldest place in Jupiter's atmosphere. As we move out to the limb we see hotter and hotter areas, so we get clear limb brightening. \n",
    "\n",
    "If we see a fair bit below the tropopause but not very much, we'll end up at \"medium\" temperatures, which means we will have temperatures in the center viewed similarly to the limb. There will be a curious shift in the *middle* of the visible disc where we sweep across the tropopause, but the edge will have the same temperature as what we see in the middle. (We are making a somewhat erronous assumption that everything above what we \"see\" in the atmosphere is optically thin with this. Naturally the atmosphere above the visible \"surface\" adds its own radiation to the situation, but as it is either colder or the same temperature this will not change much.) \n",
    "\n",
    "If we are far enough to see the inner heat of Jupiter the situation is like that with the sun and we have limb darkening. "
   ]
  },
  {
   "cell_type": "markdown",
   "id": "141b92e0",
   "metadata": {},
   "source": [
    "<a id='P4.7'></a>\n",
    "\n",
    "# Problem 4.7 \\[Back to [top](#toc)\\]\n",
    "$$\\label{P4.7}$$\n",
    "\n",
    "*ASsume that you observe Saturn at infrared wavelengths in the line transistions of $C_2H_2$ and $PH_3$. The $C_2H_2$ line is seen as emission and the $PH_3$ line is seen as aborption.*\n",
    "\n",
    "*a) Where in the atmosphere are these gasess located?*"
   ]
  },
  {
   "cell_type": "markdown",
   "id": "9725269c",
   "metadata": {},
   "source": [
    "Okay so this depends on where the infrared optial depth in Saturn *is*. What we can tell is that the emission line has to be *hotter* than the background, and the absorption line has to be *cooler* than the background. But where is the background? We annoyingly aren't exaclty told what wavelengths we're looking at, ranging from a few microbar in infrared to below the tropopause, which approaches 1 bar. So it's a huge range.\n",
    "\n",
    "So instead let's try to find out where our lines themselves are. We can actually use the spectrum of titan figure for this, because the overall emmissions should still be in the same *places* more or less, though it's annoyingly given in wavenumber. $C_2H_2$ shows up at wavenumber 700, goes to a wavelength of 1.428e-5, in the micrometer range, which corresponds to \"just above the tropopause.\" So, $C_2H_2$ is an emission, so it must come from somewhere hotter. As the tropopause is a temperature minimum and on Saturn ...ah there is a very slight flip back in temperature about 1 mbar. However, as we are *viewing* the tropopause, and the tropopause is cooler than everything above it, it could be in any of these places--we could probalby examine the relative strength of the line to determine exactly where if we were keen on that. \n",
    "\n",
    "Meanwhile phosphine shows up at 8-11 micrometer wavelengths. This level is around 10 micrometers, which is sensitive to hydrocarbonsa and is restrited to pressures between 1 microbar and i milibar (should just use ubar and mbar...). \n",
    "\n",
    "Now Saturn very *very* slightly cools as time goes on with elevation after about 10 or 1 mbar, so anything higher than the place we're delving, though since the change is gradual a very high atmospheric presence would make the most sense.\n",
    "\n",
    "Anyway, this means the $C_2H_2$ is most likely below the $PH_3$. "
   ]
  },
  {
   "cell_type": "markdown",
   "id": "fc3715f8",
   "metadata": {},
   "source": [
    "*b) Do you expect the limb of the planet to be brighter or darker than the center of the planet in these lines?*"
   ]
  },
  {
   "cell_type": "markdown",
   "id": "40847cec",
   "metadata": {},
   "source": [
    "Let's examine $C_2H_2$ first. It is presnet above the tropopause but not *far* above. Chances are it's present not near the edge so we would expect it to vanish as we went further out, but if it was at the edge? Well we predict the limb to brighten until we reach the $C_2H_2$ itself, for as we move out we increase its column concentraiton and thus it gets brighter and brigher... until we pass it and it falls off.\n",
    "\n",
    "THe opposite happens for $PH_3$, which will get darker as it absorbs more things up to the limb. \n",
    "\n",
    "So many things to juggle at once..."
   ]
  },
  {
   "cell_type": "markdown",
   "id": "71aba646",
   "metadata": {},
   "source": [
    "<a id='P4.8'></a>\n",
    "\n",
    "# Problem 4.8 \\[Back to [top](#toc)\\]\n",
    "$$\\label{P4.8}$$\n"
   ]
  },
  {
   "cell_type": "markdown",
   "id": "c4cff62f",
   "metadata": {},
   "source": [
    "*a) The intensity of a Doppler broadened line profile is proportional to $e^{-(\\Delta V/V_0)^2}$. where $V^2_0 = 2kT/m$, $\\Delta V = |V-V_0|$, m is the mass of the molecules, T is the temperature, k is the Boltzmann constant, and V is the velocity (was v). Derive the equaiton for the full width at half power for the line profile.*\n",
    "\n",
    "$$ \\Delta \\nu = \\frac{V_0 \\nu_0}{c} 2\\sqrt{ln2} $$"
   ]
  },
  {
   "cell_type": "markdown",
   "id": "95d0f2ff",
   "metadata": {},
   "source": [
    "AAAAA BOTH VELOCITY AND FREQUENCY AAAAAAAAA which is which aaaaaaaaa...\n",
    "\n",
    "Aight, so, to make this clear we have replcaed all v with V. We think. It's kind of hard to tell which is which. \n",
    "\n",
    "So we are looking to derive the full width at half maximum, of half power. From the *ORANGE* book we find that this has an expression similar to the A= for the equivalent width. Specifically it is the change in wavelength (or frequency) where:\n",
    "\n",
    "$$ \\frac{F_c - F_\\nu}{F_c - F_{\\nu_0}} = \\frac12 $$\n",
    "\n",
    "Which is, geometrically speaking, the distance between the places on the line profile that are halfway to the peak. \n",
    "\n",
    "Now as this is doppler broadening, we can use the Voigt profile. So if the intensity is equal to $e^{-(\\Delta V/ V_0)^2}$, well, we know that at *1* is the maximum, so we need to find the *1/2* section. \n",
    "\n",
    "$$ \\frac12 = e^{-(\\Delta V / V_0)^2} $$\n",
    "$$ \\Delta V^2 / ln2 = V_0^2 $$\n",
    "$$ \\Delta V = V_0\\sqrt{ln2} $$\n",
    "$$ |V - V_0| = V_0\\sqrt{ln2} $$\n",
    "\n",
    "So, here's the thing. The thing we *actually* want to measure is the difference in frequency from either side of the Voigt profile, so $\\Delta V$ does *not* correlate with $\\Delta \\nu$, in fact $\\Delta V$ is just the diplacement from center. IF we wanted *full* diplacement we would instead want:\n",
    "\n",
    "$$ \\Delta_! V = V_02\\sqrt{ln2} $$\n",
    "\n",
    "With an added 2, which represents \"over\" the center. So there's the scale factor we need, the only problem is that this measure is of the velocity, not the frequency, which is what we need at the moment. \n",
    "\n",
    "Let's examine 4.13.\n",
    "\n",
    "$$ \\Delta\\nu = \\frac{\\nu V_r}{c} $$\n",
    "\n",
    "In this case this represents the Doppler Shift, which is either positive or negative depending on the direction of the atom. However, the profile will show broadening in *both* directions, so it's really twice as wide as this for what we actually want to calculate. Fortunatley for us, this is a *linear relation*. So any distance measurement translates directly. So we can plug in a velocity V *or* a change in velcoity $\\Delta V$ and we have no problem.\n",
    "\n",
    "$$ \\Delta\\nu = \\frac{\\nu V_0}{c}2\\sqrt{ln2} $$\n",
    "\n",
    "Now, uh, can we justify the frequency being the central frequency? It seems obvious but let's think through it. Yes, it has to be, since in theory the central frequency *is the only permitted frequency that can be emitted*, barring the tiny amount of natural broadening. Thus, we confidently assert\n",
    "\n",
    "$$ \\Delta\\nu = \\frac{\\nu_0 V_0}{c}2\\sqrt{ln2} $$ \n",
    "\n",
    "And tah-dah! We're done!"
   ]
  },
  {
   "cell_type": "markdown",
   "id": "5ffa377d",
   "metadata": {},
   "source": [
    "<a id='P4.11'></a>\n",
    "\n",
    "# Problem 4.11 \\[Back to [top](#toc)\\]\n",
    "$$\\label{P4.11}$$\n"
   ]
  },
  {
   "cell_type": "markdown",
   "id": "47b19c2d",
   "metadata": {},
   "source": [
    "*The $SO_2$ line on Io is observed in emission at 222 GHz. The contrast between teh peak of the line and the continuum background is 18K. THe FWHM is 600 kHz. Io's surface tmeperature is 130K. The emissivity is 0.9. THe line strength is approximately $\\alpha_{\\nu_0} = 3.2e-22 (\\frac{300}{T})^{5/2}$ cm per molecule. In the following you will derive approxiamte values of the optical depth, number density, temperature, and surface pressure, undre the assumption that the atmosphere is optically thin. You may assume that hte observations pertain to the center of the disk, and that the plane parallel atmosphere approximation applies.*\n",
    "\n",
    "*a) Assume that line broadening is due to Doppler broadening. Calculate the atmosphereic temperature, $T_A$.*"
   ]
  },
  {
   "cell_type": "markdown",
   "id": "06e1e894",
   "metadata": {},
   "source": [
    "See. Here's the thing. The simplest way to do this appears to be to use the answer from part c), or the FWHM itself, but to use it you'd have to find c) along the way, which seems odd. Oh well.\n",
    "\n",
    "$$ \\Delta \\nu = \\frac{V_0\\nu_0}{c}2\\sqrt{ln2} $$\n",
    "\n",
    "So we find the average velocity to be... 486 m/s. Keep in mind we found a speed not the temperature moronic past-self.\n",
    "\n",
    "Anyway $v_0 = \\sqrt{2kT/m}$, where m is the molecular mass of $SO_2$, which is 64 amu or 1.062e-25 kg. The end result is then 912K. Now we know the atmosphere was supposed to be hotter but this seems pretty extreme, however during volcanic activity such things might be seen, (a 1000K model is shown in the text for one of these). So while much higher than we would expect it's not... *absurd*. After all, it's optically thin, so the emission won't reach up to the blackody temperature. In fact if we should be at 912K, we might be able to use the difference to see how optically thick we acutally are at that wavelength.\n",
    "\n",
    ". Wait *what the*. I mean we know Io's hot but it shouldn't be *That* much hotter than the surface. SO we probably *aren't* supposed to do it this way, though we don't know why... ah probably because line nature is being measured with respect to a background or something. \n",
    "\n",
    "Anyway, ahem, for an optically thin atmosphere the continuum background is just the blackbody of hte surface, 130K. Let's ignore any funky volcanic hot spots for now, why don't we? Since we are in emission we know the part of the atmosphere we're in is hotter than that, and the peak is 18K above. So does that mean we're just 148K? That seems too easy...\n",
    "\n"
   ]
  },
  {
   "cell_type": "markdown",
   "id": "a6fcd625",
   "metadata": {},
   "source": [
    "*b) Calculate the optical depth in Io's atmosphere, assuming hte Rayleigh-Jeans approximation (3.4a) to be valid.*"
   ]
  },
  {
   "cell_type": "markdown",
   "id": "664c1204",
   "metadata": {},
   "source": [
    "The RJ Approximation is\n",
    "\n",
    "$$ B_\\nu = \\frac{2\\nu^2}{c^2} kT $$\n",
    "\n",
    "Which means we definitely need to know the temperature from part a) to figure this one out. "
   ]
  },
  {
   "cell_type": "markdown",
   "id": "b45023aa",
   "metadata": {},
   "source": [
    "So, our wavelength is 222GHz, c is c, k is k, let's just calculate everything but the T.\n",
    "\n",
    "$$ B = 1.511e-17 T $$\n",
    "\n",
    "So we measure the \"Depth\" of the profile now via:\n",
    "\n",
    "$$ A_\\nu = \\frac{F_c - F_\\nu}{F_c} $$\n",
    "\n",
    "The continuum flux is given to us by our blackbody curve, and the non-continuum flux is given to us by the 18K observed difference! Wait, right, gotta make sure we can correlate flux to brightness... it's intensity we can usually do that with and while the fraction might still work we need to be careful. \n",
    "\n",
    "At the surface of a blackbody we have $F_\\nu = \\pi B_\\nu$ so we're good, that factor of $\\pi$ will divide out as well. In fact, since the frequency is constant, 1.511e-17 is also divided out, and it's just a situation of the temperature. \n",
    "\n",
    "$$ A_\\nu = \\frac{130 - (130+18)}{130} = -0.138$$\n",
    "\n",
    "And A is $1-e^{-\\tau_\\nu}$\n",
    "\n",
    "So we can find the optical depth! Except... hang on this only works for positive A, but we're *above* the continuum, not below. However, emission and absorption are \"reciprocal,\" that is, one emits at the same level as it absorbs... wait, hold on, it's emitting, so it has to have its own source funciton, so all of this *no longer applies*. How the...? \n",
    "\n",
    "Okay, let's revert to intensity. If we assume LTE (which is dubious) the source function is S=B, and we have::\n",
    "\n",
    "$$ I = B + e^{-\\tau}(I_0-B) $$\n",
    "\n",
    "Where I is the observed intensity, which is equal enough to flux for our ratio purposes. At the surface this is *just* the blackbody temperature, but for the atmosphere this includes the background radiation from the surface *and* the blackbody radiation of the gas. Writing it all out...\n",
    "\n",
    "$$ A_\\nu = \\frac{B(130) - B(912) - e^{-\\tau}(B(130) - B(912)) }{B(130)} $$\n",
    "\n",
    "Now all these B values have the exact same leading coefficient so this becomes a situation of simple temperature... with an unknown optical depth.\n",
    "\n",
    "$$ A_\\nu = \\frac{-782 + e^{-\\tau}(782)}{130} $$\n",
    "\n",
    "Now we *observe* a temperature difference of merely 18K. This would correspond to the fraciton we calculated above -0.138. This *IS* what A is, the observed difference. As such we set and solve for the optical depth.\n",
    "\n",
    "$$ -0.138 = \\frac{-782 + e^{-\\tau}(782)}{130} $$\n",
    "$$ \\Rightarrow -18 = -782 + e^{-\\tau}(782) $$\n",
    "$$ \\Rightarrow 764 = e^{-\\tau}(782) $$\n",
    "$$ \\Rightarrow 0.977 = e^{-\\tau}$$\n",
    "$$ \\Rightarrow 0.0232 = \\tau $$\n",
    "\n",
    "And that checks, that's very optically thin. "
   ]
  },
  {
   "cell_type": "markdown",
   "id": "121a58fc",
   "metadata": {},
   "source": [
    "NOTE: If we assumed tempreature of 148 K, we get an infinitely thick optical depth. So that's more confirmaiton that simply adding isn't the way to do it. Unless we had reason to believe the gas was optically thick, when instead we have reason to do the opposite."
   ]
  },
  {
   "cell_type": "markdown",
   "id": "e5a25761",
   "metadata": {},
   "source": [
    "*c) Calculate the doppler width from the FWHM.*"
   ]
  },
  {
   "cell_type": "markdown",
   "id": "cbe7f137",
   "metadata": {},
   "source": [
    "This is trivial, we know the scaling factor is $2\\sqrt{ln2}$. We go from a 600kHz width to a 360kHz width. "
   ]
  },
  {
   "cell_type": "markdown",
   "id": "bde654aa",
   "metadata": {},
   "source": [
    "*d) Using hte answers above, determine the column density and surface pressure. (Hint: Convert the DOppler width $\\Delta \\nu_D \\rightarrow \\Delta \\lambda_D$.) Your estimates of column density and surface pressure should be roughtly an order of magnitude below published values in section 4.3.3.3. THe reason for this discrepancy lies in the assumptions; better agreement can be reached for a more optically thick atmosphere and lower atmospheric temperatures.*"
   ]
  },
  {
   "cell_type": "markdown",
   "id": "65d99d03",
   "metadata": {},
   "source": [
    "COLUMN DENSITY is easiset.\n",
    "\n",
    "$$ \\tau = N_c \\alpha $$\n",
    "\n",
    "We are provided $\\alpha$ and we know the atmopspheric temperature, so its value is... 1.986e-23! So $N_c$ is 1.168e21. A lot of particles, but like, that's to be expected we're counting atoms. \n",
    "\n",
    "Now. See here's the thing. The actual problem claims 1e16 column densities... but this is in inverse square centimeters! We probably answered in square meters! If we convert to square centimeters we get 1.168e17, which is within an order of magnitude like expected. ...Except this is an order of magnitude above rather than below? \n",
    "\n",
    "Which means the temperature realy is supposed to be around 900K... Io is crazy. \n",
    "\n",
    "Anyway, there is one last difficulty to find. What is... the surface pressure? We note that surface pressure is *not* reported in 4.3.3.3 like the column density is. And we're actually not sure at all how to find the surface pressure...\n",
    "\n",
    "Right, let's work on the pressure, trying to adjust the temperature hasn't gone \"well\" to put it mildly."
   ]
  },
  {
   "cell_type": "markdown",
   "id": "b695e376",
   "metadata": {},
   "source": [
    "As $SO_2$ is actually the dominant species in Io's atmosphere, we can use its column density to find pressure. This is a bit odd, as we get the number of particles per unit area (go back to square meters 1.168e21). Since the atmosphere is tenuous we are probably safe using just Io's surface gravity, local g, 1.796. Thus the total force over one square meter (aka the pressure) is ma or $N_c m g$ where the mass is kilograms per molecule, or 1.062e-25. Thus our result is a pressure of... 2.227e-4 pascals. Yep, tiny. Keep in mind 1 atm is around 100,000 Pa. Curiously this is close to the accepted value, which ranges from 1e-5 to 1e-4 pascals, from a google search, though this does appear to be maximum. So haha! Physics knowledge for the win! Had no clue how to do this, did it anyway! \n",
    "\n",
    "Note that we think this is going to be off by two orders of magnitude since the N should be two orders down, which would make the pressure 1e-6ish, which is what the problem tells us to *expect*. The point of failure here is pretty clearly the temperature; we don't know how to find it right. "
   ]
  },
  {
   "cell_type": "markdown",
   "id": "aa920367",
   "metadata": {},
   "source": [
    "<a id='P4.14'></a>\n",
    "\n",
    "# Problem 4.14 \\[Back to [top](#toc)\\]\n",
    "$$\\label{P4.14}$$\n"
   ]
  },
  {
   "cell_type": "markdown",
   "id": "5f6a8156",
   "metadata": {},
   "source": [
    "*Estimate (crudely) the wet adiabatic lapse rate (in K/km) in the EArth's lower troposphere, following steps a)-d) below.*\n",
    "\n",
    "*a) Determine $c_P$ from the dry adiabatic lapse rate.*"
   ]
  },
  {
   "cell_type": "markdown",
   "id": "ecf10467",
   "metadata": {},
   "source": [
    "Let's go ahead and actually calculate the dry adiabatic lapse rate for Earth. There was a **Problem 4.13** that had us do it for several planets that we skipped, but we can use the earth information: 20% $O_2$ and 80% $N_2$. \n",
    "\n",
    "We find the dry adiabatic lapse rate equation from 3.34\n",
    "\n",
    "$$ \\frac{dT}{dz} = -\\frac{g_p}{c_p} = -\\frac{\\gamma-1}{\\gamma} \\frac{g_p m}{k} $$\n",
    "\n",
    "m in this case is the molecular mass. g is gravitational acceleration, and k is our friend Boltzmann. Which leaves a question of what $\\gamma$ is? Well, its the ratio of specific heats, $\\gamma = C_P/C_V$. **Problem 13** suggested \"hey just use readonalbe values for $\\gamma$\" Yes well *what's a rasonable value for the atmosphere* hmph. we can just look them up, thouyh. Heat capacities of air at STP... Quick research finds that it's about 29 to 21, or 1.381. There we go. \n",
    "\n",
    "Gravity on earth is 9.81. Molecular mass is... well! That's where the composition comes in. Oxygen has a mass of 16, while nitrogen has 14, so the doubleing gives us 32 and 28. IF the constituetns were equal, we'd go to 30, but they are not, it's a 1:4 ratio, thus *overall* we have 28.8 per molecule. In kg this is 4.782e-26. This gives us... 0.009 K/m, or 9 K/km, as the book reports it should be. (It uses 10, so we shall use 10 as well here on out). "
   ]
  },
  {
   "cell_type": "markdown",
   "id": "eeffc699",
   "metadata": {},
   "source": [
    "Anyway, uh, 9.8 divided by that should give us $c_P$, that is, 0.98. Or, basically, 1. Interestingly enough for a quantity that's not that of water... \n",
    "\n",
    "Surprisingly this is close to exactly what it should be, even including the fact that we kind of botched units here as we have m/s over J/gK. But if we adjust g to kg we get K/m, which, well, is waht we should have calculated but the answer is K/km, thus why it just worked out despite us being stupid. "
   ]
  },
  {
   "cell_type": "markdown",
   "id": "584fbfa2",
   "metadata": {},
   "source": [
    "*b) Set T=280K and P=1bar. The saturation vapor pressure of water near 280K is roughly approximated by the Clausius-Clapeyron relation, with $C_L=3e7$ bar and $L_S = 5.1e11$ erg/mol. Calculate the partial pressure of $H_2O$ in a saturated atmosphere at 280 K.*"
   ]
  },
  {
   "cell_type": "markdown",
   "id": "2c84eda4",
   "metadata": {},
   "source": [
    "Our friend the CC relation is given by\n",
    "\n",
    "$$ P = C_L e^{-L_s/(R_{gas}T)}$$\n",
    "\n",
    "We want the partial pressure, and we're given all the other values except for R. But eveyrone knows R is the gas gonstant so just calculate it out. (Though making sure R was in the ergs version was important). This gives us... 0.00918... or close to 0.01 bar. Okay. Lookup says about 0.03 so this is fine for a crude estimate. "
   ]
  },
  {
   "cell_type": "markdown",
   "id": "39513568",
   "metadata": {},
   "source": [
    "*c) As the concentraiton of water in a saturated atmosphere decreases with height much more rapidly than teh total pressure, you may esitmate the value of $w_s$ (grams of water per gram of air) by multiplying the value of the partial pressure of water in bars by the ratio of the molecular mass of water to the mean molecular mass of air. Determine the value of $w_s$.*"
   ]
  },
  {
   "cell_type": "markdown",
   "id": "3971d0ca",
   "metadata": {},
   "source": [
    "Okay, odd, but all right. Molecular mass of water is 18. Molecular mass of air, as we discussed, is 28.8. So the ratio is 0.625, multiply by the partial pressure, we get 0.00573. Sure. Why not. \n",
    "\n",
    "The real value appears to be 0.0125, so we're off by a factor of 2. For a crude estimate though we'll let it slide. (interestingly if the partial pressure was the actual value 0.03, we'd get 0.0188, now an overestimate by about the same amount)."
   ]
  },
  {
   "cell_type": "markdown",
   "id": "e78b8c57",
   "metadata": {},
   "source": [
    "*d) estimate the wet adiabatic lapse rate. Note: watch your units. THe latent heat in equation 4.20 is given in erg/mol wheras that in equation 4.22 is given in erg/g*"
   ]
  },
  {
   "cell_type": "markdown",
   "id": "6af13ba5",
   "metadata": {},
   "source": [
    "$$ \\frac{dT}{dz} = -\\frac{g_p}{c_p + L_s \\frac{dw_s}{dT}} $$\n",
    "\n",
    "So, we have all the ingredients here. Except... the derivative of w with respect to the temperature. However, we do actually have a way to extract this expression.\n",
    "\n",
    "$$ w_s = 0.625P = 0.625 C_L e^{-L_s/(R_{gas}T)} $$\n",
    "\n",
    "So if we take the derivative with respect to T we get...\n",
    "\n",
    "$$ \\frac{dw_s}{dT} = 0.625 \\left( \\frac{L_s}{RT^2} \\right) C_L e^{-L_s/(RT)} \\approx 0.00573 \\frac{L_s}{RT^2} $$\n",
    "\n",
    "So our full expredssion is now...\n",
    "\n",
    "$$ \\frac{dT}{dz} = -\\frac{g_p}{c_p + 0.00573 \\frac{L_s^2}{RT^2}} = -\\frac{g_p}{c_p + 2.286e8}  $$\n",
    "\n",
    "Anyway, what are our units here? We need to add, but we have an issue.\n",
    "\n",
    "$$ c_p = \\frac{J}{gK}$$\n",
    "$$ \\frac{L_s^2}{RT^2} = \\frac{erg}{mol K} $$"
   ]
  },
  {
   "cell_type": "markdown",
   "id": "9bb6f6c9",
   "metadata": {},
   "source": [
    "We can convert erg to J easily enough with a conversion vactor. \n",
    "\n",
    "$$ -\\frac{g_p}{c_p + 22.86} $$\n",
    "\n",
    "But one side is \"per gram\" and the other is \"per mole.\" However, this happens to be a set ratio! 18 grams in a mole of water, after all! so divide by 18. \n",
    "\n",
    "$$ -\\frac{g_p}{c_p + 1.27} $$\n",
    "\n",
    "And thus we add our numbers in... 9.8/2.27 = 4.32. And we think at first \"wait, isn't this in K/m? Don't we need the scale to be K/km?\" Aha, but we are doing this with respect to *grams* not kilograms! That's the same mistake we made in part a), hah! a rate of roughly 4 is just what we ordered. "
   ]
  },
  {
   "cell_type": "markdown",
   "id": "729bcf83",
   "metadata": {},
   "source": [
    "That said, a note:: how does $m/s^2$ over J/kg K convert to K / m? Certainly odd looking but let's examine the units... J is $kgm^2/s^2$ so it cancels out it seems. \n",
    "\n"
   ]
  },
  {
   "cell_type": "markdown",
   "id": "17e1b5d6",
   "metadata": {},
   "source": [
    "<a id='P4.15'></a>\n",
    "\n",
    "# Problem 4.15 \\[Back to [top](#toc)\\]\n",
    "$$\\label{P4.15}$$\n"
   ]
  },
  {
   "cell_type": "markdown",
   "id": "d307ba2f",
   "metadata": {},
   "source": [
    "*The saturated vapor pressure curve for $NH_3$ gas is given by 4.20 with $C_L = 1.34e7$ bar and $L_s = 3.12e11$ erg/mol.*\n",
    "\n",
    "*a) Calculate the temeprature at which ammonia gas condenses out if the $NH_3$ volume mixing ratio is 2.0e-4. Assume the atmosphere to consist of 90% $H_2$ and 10% He, and that the pressure is 1 bar. (Hint: Convert the volume mixing ratio to partial pressure.)*"
   ]
  },
  {
   "cell_type": "markdown",
   "id": "3a3881b4",
   "metadata": {},
   "source": [
    "Ah, 4.20, our friend the CC relation. \n",
    "\n",
    "$$ P = C_L e^{-L_s/RT} $$\n",
    "\n",
    "This is the saturation pressure. Basically, once the partial pressure *is* this value, we start making clouds. However this value changes with temperature, our goal is essentially to solve for the temperature rather than partial pressure. Which means we need to know P for ammonmia in the given mixing ratio with the rest of the atmosphere. Each component of the gas adds to the total pressure, we just need to know how much of the atmosphere *is* ammonia. \n",
    "\n",
    "So, the volume mixing ratio is number of moles of ammonia divided by total moles in the atmosphere, which is to say both hydrogen and helium. From a quick lookup, the ratio of *partial pressures* equals the ratio of the *number of mollecules*. So if we take 1bar to be the pressure of the normal atmosphere, the volume mixing ratio of numbers is correlated. So we end up with 2.0e-4 bar for the partial pressure of ammonia. In math the expression is more:\n",
    "\n",
    "$$ \\frac{V_i}{V} = \\frac{P_i}{P} = \\frac{n_i}{n} $$\n",
    "\n",
    "So the partial pressure of hydrogen is 0.9 bar, the partial pressure of helium is 0.1 bar, and the so small it's insignificant on the global scale but important to us partial pressure of ammonia is 2e-4. Keep in mind that the percentages are given by particle, not by mass, so these should correlate linearly. \n",
    "\n",
    "So let's do some solving and get...\n",
    "\n",
    "$$ \\frac{1}{T} = -\\frac{R}{L_s}ln(\\frac{P}{C_L}) $$\n",
    "$$ \\Rightarrow \\frac{1}{T} = -\\frac{8.314e7}{3.12e11}ln(\\frac{2e-4}{1.34e7}) $$\n",
    "$$ T = 151 K $$\n",
    "\n",
    "Cold but not too cold. "
   ]
  },
  {
   "cell_type": "markdown",
   "id": "ad5f269c",
   "metadata": {},
   "source": [
    "*b) Calculate the tempreature at which ammonia gas condenses out if the $NH_3$ volume mixing ratio is 1e-3.*"
   ]
  },
  {
   "cell_type": "markdown",
   "id": "0e578e2e",
   "metadata": {},
   "source": [
    "Just do the math again with the larger partial pressure requirement. 167K. Higher tempetatures require higher vapor pressure to condense. Makes sense, as higher tempreatures prefer to keep things in gaseous states. "
   ]
  },
  {
   "cell_type": "markdown",
   "id": "14e4af05",
   "metadata": {},
   "source": [
    "<a id='P4.16'></a>\n",
    "\n",
    "# Problem 4.16 \\[Back to [top](#toc)\\]\n",
    "$$\\label{P4.16}$$\n"
   ]
  },
  {
   "cell_type": "markdown",
   "id": "c92f6fec",
   "metadata": {},
   "source": [
    "*The base of the methane cloud in Uranus' atmosphere is at a pressure level of 1.25 bar and temperature of 80K. The saturation vapor pressure girve is given by 4.20, with $C_L = 4.685e4$ bar and $L_s = 9.71e10$ erg/mol. Derive the $CH_4$ volume mixing ratio in Uranus' atmosphere, assuming that the composition of the atmosphere is 83% $H_2$ and 15% He. Compare your answer with the solar volume mixing ratio for carbon.*"
   ]
  },
  {
   "cell_type": "markdown",
   "id": "a73e0802",
   "metadata": {},
   "source": [
    "What do you know, same situation as the previous problem, just coming at it from a different angle. \n",
    "\n",
    "We want the volume mixing ratio, which means we want the partial pressure fraction. The composition of the atmosphere, once again, appears to be irrelevant, all we care about is the total pressure of the atmosphere. Problem is what elevation do we choose? As it turns out, this is *also* seemingly irrelevant, as we have the L and C constants already. Just \"plug and chug.\"\n",
    "\n",
    "$$ P = C_L e^{-L_s/RT} $$\n",
    " \n",
    "Plug everything in, P = 0.0214 bar. This is pretty high acutally but Uranus is known to be rich in methane. This is the partial pressure. If we assume we're measuring at the 1bar line, this is also the volume fraction, 0.0214. You'll also note that 83 + 15 = 98, leaving 2 percent left for *methane*, tah-dah, the numbers even line up--though keep in mnind this is only true at 1 bar, as the partial pressure is not a ratio. \n",
    "\n",
    "Fortunately it just so happens that methane clouds *Form at about a depth of 1 bar on Uranus*. So even in reality this is the case. The clouds do extend to about 0.5 bar, so at the tops of the clouds we have the same partial pressure needed, but the volume fraction would change.\n",
    "\n",
    "$$ P_i/P = V_i/V $$\n",
    "\n",
    "Specifically, looking at the ratio, at the tops of clouds the volume fraction would need to double to 4%. \n",
    "\n",
    "So, lastly, compare to the solar volume mixing ratio for carbon! Prediction: solar levels are much lower, methane is highly concentrated in Uranus after all. \n",
    "\n",
    "Examining table 4.6 we find \"protosolar\" fractions of 4.6e-4, much smaller, as expected. On the same table we can see the Uranus volume mixing ratio, 0.023. Which is *very* close to what we calculated! Hah! "
   ]
  },
  {
   "cell_type": "markdown",
   "id": "9eee077a",
   "metadata": {},
   "source": [
    "Compositional notes since we're looking at things: of the gas giants, *only* methane is a major constituent aside from the obvious Helium and Hydrogen, and it's only heavily present in Uranus and Neptune. (Though it is mildly concentrated in Jupiter and Saturn compared to protosolar levels). \n",
    "\n",
    "Meanwhile the terrestrial planets (and Titan) are full of other things, due to hydrogen and helium being able to escape. Earth is nitrogen, oxygen, argon; Venus is nitrogen and carbon dioxide; Mars has substantial amounts of carbon dioxide, nitrogen, argon, and enough oxygen not to vanish on the scale. Titan is nitrogen and methane and *some* hydrogen, interstingly. Probably leeched from Saturn somehow. "
   ]
  },
  {
   "cell_type": "markdown",
   "id": "3f2fd5ef",
   "metadata": {},
   "source": [
    "<a id='P4.18'></a>\n",
    "\n",
    "# Problem 4.18 \\[Back to [top](#toc)\\]\n",
    "$$\\label{P4.18}$$\n"
   ]
  },
  {
   "cell_type": "markdown",
   "id": "5ec23e8d",
   "metadata": {},
   "source": [
    "*a) Derive an expression for the fractional increase in temperature for an amotsphere that is heated only by the Sun. Hint: equate the solar heat input 3.15 per rotation to the heat needed to raise the temperature of an atmosphere by $\\Delta T$.*"
   ]
  },
  {
   "cell_type": "markdown",
   "id": "ee87d979",
   "metadata": {},
   "source": [
    "Okay so this looks pertinent. 3.15 is\n",
    "\n",
    "$$ \\mathcal P_{in} = (1-A_b) \\frac{\\mathcal L_\\odot}{4\\pi r_\\odot^2} \\pi R^2 $$\n",
    "\n",
    "So for planets, only $A_b, r_\\odot, R$ change, the rest we can simplify. Actually, turns out that the *flux* is what remains constant, not the luminosity. This *flux* turns out to be 1.37e6 $erg/cm^2s$, or 1370 $J/m^2s$"
   ]
  },
  {
   "cell_type": "markdown",
   "id": "3dd5a70c",
   "metadata": {},
   "source": [
    "$$ \\mathcal P_{in} = (1-A_b) \\frac{1370}{r_{AU}^2} \\pi R^2 $$"
   ]
  },
  {
   "cell_type": "markdown",
   "id": "7daad67b",
   "metadata": {},
   "source": [
    "Anyway, this can be calculated for any planet to get us the total power it absorbs. Now any planet in equilibrium with the sun (which is most of them) will radiate the same amount of power over the same amount of time. So every day we take in the same amount we let out--otherwise the temperature would not be stable and the followup questions would be kind of pointless.\n",
    "\n",
    "Watts are joules per second, or energy per second. Thus the total energy absorbed in a day would be this times the number of seconds in a day, which would be another parameter different for each planet. Let's just call it S.\n",
    "\n",
    "$$ E = S (1-A_b) \\frac{1370}{r_{AU}^2}  \\pi R^2 $$\n",
    "\n",
    "So, this is energy in over the course of a day, but also energy out. Can we correlate energy to a change in temperature? \n",
    "\n",
    "Yes, in general, if we have a heat capacity C, we can say C=dQ/dT (assumign all energy is heat energy), and $\\Delta T C = Q = E$. Since we want to solve for T, divide by the heat capacity C. (we'll figure out which one to use later). \n",
    "\n",
    "$$ \\Delta T = \\frac{S}{C} (1-A_b) \\frac{1370}{r_{AU}^2} \\pi R^2 $$\n",
    "\n",
    "Now hold your horses, this would just be for a single mass unit of the substance! Planets are *massive* and have a *ton* of mass, even though we're just heating a surface-level portion of them. Let's put a total mass M term in here and worry about how to calcualte it later. \n",
    "\n",
    "$$ \\Delta T = \\frac{S}{CM} (1-A_b) \\frac{1370}{r_{AU}^2} \\pi R^2 $$\n",
    "\n",
    "However, this doesn't actually answer the question. This is the temperature increase if there is no radiation and the temperature just goes up the entire time! We need the difference over the coruse of a single day. "
   ]
  },
  {
   "attachments": {
    "image-2.png": {
     "image/png": "[encoded data removed]"
    },
    "image.png": {
     "image/png": "[encoded data removed]"
    }
   },
   "cell_type": "markdown",
   "id": "7b1b6fb0",
   "metadata": {},
   "source": [
    "So S is our time in seconds. In S seconds, that $\\Delta T$ is radiated away. But in S/2, that $\\Delta T$ is gained! Now we could do this fractionally, but how about we do it for every angle on the planet? The emission rate is assumed to be uniform as we expect the change in tempreature to be small. (If it isn't uniform, as is probably the case on Mercury, this expression will break. Venus, while it rotates slowly, has atmospheric circulation so it might still work). Anyway, we assume emission is constant, but *reception* scales with $cos\\theta$ while on the day side. So the temperature increase \"received\" needs to be spread out over that pattern, but still integrate to the total. Which is to say, $\\Delta T = \\int cos\\theta T$. Solving this gives us $T=\\Delta T/2$ as the temperature \"imparted\" at any given moment. Meanwhile for the constant rate we just have $-\\Delta T/2\\pi$. Thus we have...\n",
    "\n",
    "$$ cos\\theta \\frac{\\Delta T}{2} sgn(cos(\\theta)) - \\frac{\\Delta T}{2\\pi} $$\n",
    "\n",
    "as the tug of war. We radiate on the night, but receive during the day with increasing levels of power, until we integrate to a total of zero, but each side is $\\pi \\Delta T$. Goooood. Note the sign function, the cosine function is only active *half of the day.*\n",
    "\n",
    "Now take an *indefinite* integral and we can get the temperature fluctuation as a function of angle. \n",
    "\n",
    "![image.png](attachment:image.png)\n",
    "\n",
    "Here is what it looks like if $\\Delta T=1$. Keep in mind this is just the *rate*, it doesn't show the actual temperature fluctuation, noon is not actually the hottest it's just getting hottest the fastest. To do that we'll need to integrate. Due to the way geogebra did integration it was hard to image this, but here's what the *temperature* fluctuation looks like. \n",
    "\n",
    "![image-2.png](attachment:image-2.png)\n",
    "\n",
    "The places the domain changes are sunrise and sunset. At sunrise the temperature still goes down for a bit as radiation is still above that of the rate of temperature increase, but then it rises to a peak before descending as radiation takes over again. "
   ]
  },
  {
   "cell_type": "markdown",
   "id": "20b682b6",
   "metadata": {},
   "source": [
    "Now, what is this actual function? Um... you know what given the mess that it is, let's defie it piecewise rather than trying to do it all at once, as it is quite a mess. Day and night are:\n",
    "\n",
    "$$ sin(\\theta) \\frac{\\Delta T}{2} - \\frac{\\Delta T}{2\\pi}\\theta $$\n",
    "$$ -\\frac{\\Delta T}{2\\pi}\\theta + \\frac{\\Delta T}{2} $$\n",
    "\n",
    "The second term was found emperically with a graph, but it is still a boundary condition and makes sense. Naturally the shape changes if we loop again but we don't have to loop agian.\n",
    "\n",
    "Anyway, the tempeartures we care about are noon and midnight. It is here we notice something: they have the same tempreature! Noon receives the greatest flux but over the course of the day the temperature continues to rise, while at night it falls, but noon and midnight are the *exact middle* for both cases. \n",
    "\n",
    "Hold on, is there any way it could be anything else? Assuming symmetry, this kind of has to be the case, unless we bother to calculate out the rate of radiation as it varies with temperature, but that requires knowing the tempreature ahead of time! (And likely wouldn't change much as most planets don't actualy vary too much in temperature anyway). "
   ]
  },
  {
   "cell_type": "markdown",
   "id": "ab8e46cd",
   "metadata": {},
   "source": [
    "SO *slams fist into desk* the $\\Delta T/T$ value is the change in temperature *over* a day. Which means not necessarily midnight to noon, but rather maximum to minimum. And looking at real graphs of tempreature the maxes and mins are not at noon and midnight.\n",
    "\n",
    "The maxima and minima occur at derivative zeroes or that is, zeroes of our original heat transfer function. Which is to say, when $cos\\theta \\frac{\\Delta T}{2} = \\frac{\\Delta T}{2\\pi}$, or $cos\\theta = 1/\\pi$ or $\\theta = \\pm 1.246.$\n",
    "\n",
    "This corresponds to a temperature difference of two times $0.276 \\Delta T$\n",
    "\n",
    "Now this is the point where our confusing notation becomes evident, since we have two $\\Delta T$ values, and we're about to create a new one. So to make it clear, $\\Delta T$ is not the same thing as inside the expression $\\Delta T/T$. Okay? Okay. Anyway, our expression is:\n",
    "\n",
    "$$ \\frac{\\Delta T}{T} = 0.551 \\frac{S}{CTM} (1-A_b) \\frac{1370}{r_{AU}^2} \\pi R^2 = \\frac{S}{CTM} (1-A_b)\\frac{1370}{r_{AU}^2} \\pi R^2 $$\n",
    "\n",
    "Where T is the average temperature of the body. Which is usually measured. "
   ]
  },
  {
   "cell_type": "markdown",
   "id": "adc360c8",
   "metadata": {},
   "source": [
    "Now all of these values can be pretty eaisly looked up or experimetnally found... but M. M is the total mass of what we're heating up. It's more than a little naieve to say we're heating up the entire planet here, really we're just heating up the crust/atmosphere, and the planet's interior is definitely a different temperature. \n",
    "\n",
    "So, if we model the crust as a spherical shell, we can find its mass via the *density*. The volume of a \"thick\" shell is $\\frac 4/3 \\pi (R^3 - r^3)$ Now this difference for a crust is *really* small relative to the radii, but if we set it to zero then we have no thickness at all and that doesn't help us. But this \"heating depth\" might be something we can conceivably know, though it'd be different for atmospheres and crusts and the like. We know from the Merucry graph in Figure 3.5 that the temperature fluctuations do *not* extend very far, at 1m already the temperature is pretty constant, and it varies very little even above that. For rocky worlds then we shall consider our thickness to be on the order of 0.25 m, which is very much just an esimate. For atmospheres this depth would be the thickness of the atmosphere or whatever layer we're investigating. \n",
    "\n",
    "Anyway, if we accept $\\Delta R$ as a known value, the \"heating depth,\" then the volume becomes:\n",
    "\n",
    "$$ \\frac43 \\pi \\Delta R (R^2 + Rr + r^2) = \\frac43 \\pi \\Delta R (3 R^2 + 3 \\Delta R R + \\Delta R^2) $$\n",
    "\n",
    "Now $\\Delta R$ *is* relatively tiny, so we can clean up some of these terms, giving us...\n",
    "\n",
    "$$ \\approx 4 \\pi \\Delta R R^2 $$\n",
    "\n",
    "Which is sufficiently neat for our purposes. This is our volume, so the mass is ensity times this. \n",
    "\n",
    "$$ \\frac{\\Delta T}{T} = \\frac{S}{CT4 \\rho \\Delta R} (1-A_b)\\frac{1370}{r_{AU}^2} $$\n",
    "$$ \\frac{\\Delta T}{T} = \\frac{S}{CT \\rho \\Delta R} (1-A_b)\\frac{343}{r_{AU}^2} $$\n",
    "\n",
    "Amazingly, the planetary radius has completley canceled. That's a good sign! Planet size is irrelevant, though the depth is. (And the depth isn't going to matter as much compared to some other variable concerns.). \n",
    "\n",
    "And, conveniently, at this point the orders of magnitude for all the constants are comparable. Neat! \n",
    "\n",
    "Anyway let's use some very general values for most of this, we are not very precise, and let's test on... Earth! the heat capacity of earth is mixed between rocks (~1000-2000) and water (about 4000) so let's use... 2500. The number of seconds in a day is 86400. Density of rock is variable but can have a middle value of around 2000 (water would be around 1000). And let's keep the same \"scale height\" as Mercury even though the presence of a not-so-tiny atmosphere will probably affect that and see what we get. Bond albedo is 0.3. Average surface temp is 288 according to the table. \n",
    "\n",
    "Earth's temepature at the surface is 288, so in the end we have...\n",
    "\n",
    "$$ \\frac{\\Delta T}{T} = 0.057 $$\n",
    "\n",
    "Or 5% which is *entirely* reasonable, as we were expecting ranges of 1-20 between Venus and Mars. The actual \"degree\" variation here is 16.6 K, which seems a little low for Earth temperatures actually. \n",
    "\n",
    "But hey we're within an order of magnitude, this is *excellent* agreement. \n",
    "\n",
    "(We do note that while the Earth's *earth* might have that scale depth, the ocean has a much deeper scale depth and the atmosphere is significant, which would definitely increase the overall mass of what was being heated significantly, mostly due to water being *heavy*. However the atmosphere also has a greenhouse effect and other such things so... there's any number of reasons this is not going to match reality.)"
   ]
  },
  {
   "cell_type": "markdown",
   "id": "aa6650e7",
   "metadata": {},
   "source": [
    "*b) Calculate the fracitonal change in temerpature, $\\Delta T/T$, near the surface on Venus and Mars, between local noon and midnight.* \n",
    "\n",
    "You know what, let's do this for *every* planet, each one getting argumetns in turn. Mercury is expected to be very bad considering how slowly it rotates and thus the constant radiation approximation is kind of bogus, but we do have on good authority that it's \"heating depth\" is very accurate, so let's go with it. \n",
    "\n",
    "S: 5097600 s, very long. C: 2000 for rock. T: variable, use average 500K. $\\Delta R:$ 0.25. Albedo: 0.1. r: 0.387 AU. density: 2000.\n",
    "\n",
    "$$ \\frac{\\Delta T}{T} = 21 $$\n",
    "\n",
    "Hmm yes told you this was broken. High temperature variations lead to crazy stuff. Naturally the radiation will *vary* with temperature, and it'll be radiating a lot more during the hottest times, and thus will cool off faster. It's all quite baked. \n",
    "\n",
    "VENUS! Considering the truly gargantuan state of Venus' atmosphere, we decide to just use its mass as the heated mass, which means we have to use the older verison of the equation.\n",
    "\n",
    "$$ \\frac{\\Delta T}{T} = \\frac{S}{CTM} (1-A_b)\\frac{1370}{r_{AU}^2} \\pi R^2 $$\n",
    "\n",
    "Other values: S: 20995200 s, very long, probably so long that it's going to mess something up given how \"long\" we let the temperature increase. C: 1.76, derived for the value of CO2 at high temperature being about 40 J/molK T: 737. Albedo: 0.75. r: 0.723 AU. M: 4.8e20 kg atmosphere. R = 6e6 m. \n",
    "\n",
    "$$ \\frac{\\Delta T}{T} = 3 $$\n",
    "\n",
    "Which indicates that the temperature flips and flops by a factor of three every day. Which... well it does at the atmospheric level but at the surface level it does not. I am really not sure how to adapt the model to handle extremely slow rotaiton like we have with venus that is mitigated by a heavily ciruclating atmosphere. It should be about 1% variability at the surface. Methinks the model needs an update to actually account for variable striking. "
   ]
  },
  {
   "cell_type": "markdown",
   "id": "5469b69f",
   "metadata": {},
   "source": [
    "Mars should work just fine though, it has a thin atmosphere. \n",
    "\n",
    "S: 218220. C: 2000. T: 215. $\\Delta R$: 0.25. Albedo: 0.25. r: 1.524 AU. density: 2000\n",
    "\n",
    "$$ \\frac{\\Delta T}{T} = 0.116 $$\n",
    "\n",
    "It's supposed to be about 20% but I still like this number. "
   ]
  },
  {
   "cell_type": "markdown",
   "id": "60978049",
   "metadata": {},
   "source": [
    "*c) Calculate the fracitonal change in temperature, $\\Delta T/T$, in the thermospheres of Venus and Mars.*"
   ]
  },
  {
   "cell_type": "markdown",
   "id": "6917eae2",
   "metadata": {},
   "source": [
    "So, can our equation still apply to a level of the atmosphere? Well... with some caveats that it's not very accurate, yes! But also one major change.\n",
    "\n",
    "$$ \\frac{\\Delta T}{T} = \\frac{S}{CT \\rho \\Delta R} (1-A_b)\\frac{343}{r_{AU}^2} $$\n",
    "\n",
    "See, the major change is in $(1-A_b)$. This describes how much energy the planet overall absorbs. When talking about surfaces it makes sense to use the total bond albedo (except perhaps with Venus), but now we're talking about a layer of the atmosphere. The question here is how much of the Sun's energy *does* the Thermosphere abosrb? A simple percentage will do. \n",
    "\n",
    "As for the \"depth\" just take how large the thermosphere is and assume the density within is constant. \n",
    "\n",
    "The only issue is we have no idea how to estimate how much power the thermosphere absorbs. It's a significant amount, but how much...? No clue. \n",
    "\n",
    "Also the heat capacity of the atmosphere... hard to calculate that one, admittedly. "
   ]
  },
  {
   "cell_type": "markdown",
   "id": "6da77e54",
   "metadata": {},
   "source": [
    "<a id='P4.27'></a>\n",
    "\n",
    "# Problem 4.27 \\[Back to [top](#toc)\\]\n",
    "$$\\label{P4.27}$$\n",
    "\n",
    "[The large gap in numbers is due to a bunch of problems on vorticity which I decided weren't worth it.]\n",
    "\n",
    "*Explain briefly, qualitatively, why the density of ozone in Earth's atmosphere peaks near an altitude of 30km. List the relevant reactions.*\n",
    "\n",
    "Ah, CHEMISTRY! IN THE SKY! "
   ]
  },
  {
   "cell_type": "markdown",
   "id": "f8af7762",
   "metadata": {},
   "source": [
    "Okay so in short, we have three species of \"oxygen\" to worry about here, which I shall call O3, O2, and O1 just to make it easy on me. These are ozone, molecular oxygen, and atomic oxygen respectively. \n",
    "\n",
    "At different levels of the atmosphere, different procesees dominate. For intsance, at the top, reactions primarily take place due to photoionization, thus the value of O1 increases while O2 and O3 both decrease as they continually get dissasociated. \n",
    "\n",
    "Fighting against this are collisional reactions, where O1 and O2 come together to form either more O2 or O3. As O2 can be easily formed by both disassociation and collision perhaps it is unsurprising that it is the most abundant form (Figure 4.40.)\n",
    "\n",
    "O3 is primarily present when both O2 and O1 are present and the density is significant enough to force collisions. O1 is only really present at higher altitudes, at lower ones there are no remaining photons of high energy to create O1, so by necessity O3 produciton must drop off as it requires O1. However, before it drops off, it increases with the increasing density of the atmosphere. So long as photons of sucfficient energy can pierce the atmosphere *and* the density is sufficient to drive O3 production, O3 will win. This just happens to be at 30km. \n",
    "\n",
    "O1 and O2 have no such obvious bouhndaries, O2 is more prevalent the lower the altitude, O1 the higher, yet O2 is always more prominant than O1. \n",
    "\n",
    "Of course this assumes Oxygen reactions dominate and other gasses aren't getting in the way and altering things, which in reality they are. Though it seems like they do not profvide dominating fronts, so the oxygen reactions will still characterize the system. (We think). "
   ]
  },
  {
   "cell_type": "markdown",
   "id": "62c6cdef",
   "metadata": {},
   "source": [
    "<a id='P4.32'></a>\n",
    "\n",
    "# Problem 4.32 \\[Back to [top](#toc)\\]\n",
    "$$\\label{P4.32}$$\n",
    "\n",
    "*The limiting flux is the maximum diffusion rate through a planetary atmosphere. The limiting flux can be calcualted by assuming the same value for $N_i/N$ for that part of the atmosphere which is well mixed (i.e. below the hemopause, which for Earth is at z<100km). Consider hydrogen atoms in the Earth's atmosphere in all forms ($H_2O, CH_4, H_2$) at a fractional abundance $N_i/N \\approx 1e-5$*\n",
    "\n",
    "*a) Calculate the limiting flux of hydrogen-bearing molecules (and thus hydrogen) from the Earth's atmosphere. You can approximate the binary diffusion parameter using the quantities for $H_2$ in air (Table 4.7). Hint: calculate the limiting flux for an altitude z=100km; why?)*"
   ]
  },
  {
   "cell_type": "markdown",
   "id": "7215f610",
   "metadata": {},
   "source": [
    "Since we're told to use $N_i/N$, we clearly use the approximation to the limiting flux and not hte limiting flux itself. \n",
    "\n",
    "$$ \\Phi_\\ell \\approx \\frac{b_i N_i}{H N} $$\n",
    "\n",
    "Now, we *have* the fractional abundance, 1e-5, provided by the problem. But what about $b_i$ and H? \n",
    "\n",
    "H is the scale height. For Earth this is roughtly 8.5km. \n",
    "\n",
    "Our *parameter* is $b_i = C_bT^q$. The temperature we assume will be the average temperature of Earth, 288 K. Meanwhile, our C value is as suggested by the problem, looking up it is 26.7e16. The value of q is 0.75. \n",
    "\n",
    "Thus $b_i = 1.867e19$. Note this is in 1/cms, we need 1/ms to be careful, so we get 1.867e21\n",
    "\n",
    "And so $\\Phi_\\ell \\approx 2.196e12, 1/m^2s$. In terms of cm this would be of order 1e8 which matches the values given in the text."
   ]
  },
  {
   "cell_type": "markdown",
   "id": "8d1812a5",
   "metadata": {},
   "source": [
    "Notably, the problem suggests doing this specifically at an altitude of z=100km, around the mesopause. The only parameter this changes significantly is the temperature, shifting it to 193 K. This will adjust our overall result to 1.626e8. Which in astrophysical temrs is \"not much difference.\"\n",
    "\n",
    "As for WHY we calculate it here, it's the top of the homosphere, which is a *second* atmospheric calculation different from the usual ones, where the boundary is defined by mixing. Here, everything is mixed evenly, from 100km down to the surface. So I guess now we have a range of values. It's quite cold at 100km. "
   ]
  },
  {
   "cell_type": "markdown",
   "id": "dc049658",
   "metadata": {},
   "source": [
    "*b) Calcualte the Jeans rate of escape for hydrogen atoms from Earth.*"
   ]
  },
  {
   "cell_type": "markdown",
   "id": "50cdd7f9",
   "metadata": {},
   "source": [
    "The rate of escape is given by\n",
    "\n",
    "$$ \\Phi_J = \\frac{N_{ex} v_o}{2\\sqrt{\\pi}} (1+\\lambda_{esc}) e^{-\\lambda_{esc}} $$\n",
    "\n",
    "Which has the same units of \"per second per area\" (though in this form it is in cm.)\n",
    "\n",
    "Anyway the problem now is how exactly do we determine what these values are? "
   ]
  },
  {
   "cell_type": "markdown",
   "id": "4c1bd12b",
   "metadata": {},
   "source": [
    "Well, examining the text we find $\\lambda \\approx 8, N_{ex} \\approx 1e5, 1/cm^3$. We choose to believe that the equation above simply forgot a bar above the velocity, as it is the only velocity value that really makes sense here. \n",
    "\n",
    "$$ v_o = \\sqrt{2kT/m} $$\n",
    "\n",
    "However, at this point we run into a bit of a puzzle: atomic hydrogen is not the species we are concerned with, as it is rather rare, so we actually have multiple different masses and thus speeds to concern ourselves with. Unlike the previous part we're going to have to handle each one differently. Furthermore, not only will the velocity change, but so will $\\lambda$!. \n",
    "\n",
    "$$ \\lambda = \\frac{v_e^2}{v_o^2} $$\n",
    "\n",
    "Now the escape velocity for Earth is known, 11.2e3 m/s. So without specifying an individual species of molecule we can calulate this far... turns out trying to make it depend just on mass increased our mistakes, so let's backpedal a bit and set it to just the velocities.\n",
    "\n",
    "$$ \\frac{N_{ex}v_o}{2\\sqrt{\\pi}} (1 + \\frac{v_e^2}{v_o^2})e^{-\\frac{v_e^2}{v_o^2}}  $$"
   ]
  },
  {
   "cell_type": "markdown",
   "id": "b798dc74",
   "metadata": {},
   "source": [
    "Now, the three separate species are water, methane, and molecular hydrogen. (Notably not atomic hydrogen). Their individual masses are...\n",
    "\n",
    "Water: 18 amu, 2.989e-26 kg\n",
    "\n",
    "Methane: 16 amu, 2.657e-26 kg\n",
    "\n",
    "Molecular Hydrogen: 2 amu, 3.321e-27 kg. \n",
    "\n",
    "And so their mean thermal velocities are, taking 1.381e-23 as the boltzmann constant, and the 100km 193 K as Earth Temperature. \n",
    "\n",
    "Water: 422 m/s\n",
    "\n",
    "Methane: 448 m/s\n",
    "\n",
    "Molecular Hydrogen: 1270 m/s (notably faster due to being lighter)."
   ]
  },
  {
   "cell_type": "markdown",
   "id": "389b6dfb",
   "metadata": {},
   "source": [
    "Note that $N_{ex}$ is given in inverse cubic centimeters, if we want it in inverse cubic *meters* it gets much larger, 1e11. So without substituting any specific thermal velocities in, we have...\n",
    "\n",
    "$$ 2.821e10 v_o (1 + 1.254e8/v_o^2)e^{-1.254e8/v_o^2} $$\n",
    "\n",
    "Since molecular hydrogen should be closer to atomic hydrogen than the others, let's do it first.\n",
    "\n",
    "...get a $\\lambda$ of 77... eh? IT should be closer to 8...\n",
    "\n",
    "Even for actual hydrogen doing the calculations we get 39, not *8*. This implies the speed for atomic hydrogen is around 4000 m/s, which would require a temperature of 942K! *something* is wrong here, and we're really not sure what.\n",
    "\n",
    "Working in the NEXT problem, we find out that this is correct, more or less, as actual calculations should be done at the exobase and we are decidedly not doing that. \n",
    "\n",
    "Anyway this gives us:\n",
    "\n",
    "$$ \\Phi_{H2} = 1.013e-18 $$\n",
    "\n",
    "Which is to say pathetically tiny. And as we increase the values of the molecular masses it will only get tinier! $H_2$ escape will clearly dominate, the other species are essentially nothing. Which makes sense as it's hard to lose them. This is entirely due to the $\\lambda$ being so large, $e^-77$ is of the order of 1e-34, absurd. \n",
    "\n",
    "This is notably far, FAR less than the normal value for atomic hydrogen, 6e11 1/m^2s. However the normal value uses a much higher temperature of the exobase of a maximum of 1250 K. Which as we found out in the problem below gives us a $\\lambda$ of 7, far more sensible, and this *does* give us a result of the order of 1e11. \n"
   ]
  },
  {
   "cell_type": "markdown",
   "id": "5e277afd",
   "metadata": {},
   "source": [
    "Qualitative answers from when the above wasn't solved: However, we can still get some *qualitative* answers, as the value for atomic hydrogen is provided, 6e7 1/$m^2$s, or 6e11 1/$m^2$s. Molecular hydrogen will be similar, while the other species will naturally have lower speeds and thus have significatly lower contributions to the Jeans escape as fewer of them will reach the requisite speed *to* escape. "
   ]
  },
  {
   "cell_type": "markdown",
   "id": "fabbbdca",
   "metadata": {},
   "source": [
    "*c) Compare your answers from a) and b) and comment on the results.*"
   ]
  },
  {
   "cell_type": "markdown",
   "id": "12c9f025",
   "metadata": {},
   "source": [
    "Note that the Jeans escape value is about an order of magnitude lower than the limiting flux for *atomic* hydrogen at the exobase. This makes sense, the rate at which molecules diffuse would have to be higher than those that escape, at least where diffusion dominates, as not every molecule that travels will escape! It does somewhat shockingly appear to be a 1 in 10 deal, though. \n",
    "\n",
    "Keep in mind the limiting flux is the absolute maximum rate of outward movement under \"ideal\" conditions, so that's another way to think about it. (Though it does seem likely that beyond the homosphere it will no longer apply. But there are also less atoms up there, so...)\n",
    "\n",
    "As for our results, from 100km almost nothing is escaping through Jeans escape. Which. Well obviously it's very low in the atmosphere, 100km isn't actually all that high! At this elevation most everything stays in the atmosphere. "
   ]
  },
  {
   "cell_type": "markdown",
   "id": "ddc810dd",
   "metadata": {},
   "source": [
    "<a id='P4.33'></a>\n",
    "\n",
    "# Problem 4.33 \\[Back to [top](#toc)\\]\n",
    "$$\\label{P4.33}$$\n",
    "\n",
    "*The presence of absence of an atmosphere is to first order determined by Jeans escape. TO verify this statement, plot a normalized escape parameter for atomic hydrogen $\\lambda_{esc}$ as a function of heliocentric distance for all eight planets, Io, Ganymede, Titan, Enceladus, Ceres, Pluto, Eris, and Varuna. To calculate relative temperatures, simply use the equilibrium temperature (Chapter 3) at perihelion, with an abledo of zero, and emissivity of unity. Assume the exobase altitude z=0. Discuss your findings. (Hint: Tables 1.1, 1.5, 9.1, 9.2, 9.5)*\n",
    "\n",
    "We're doing this problem since the escape parameter has proven to be annoying in the previous problem, so we're goign to get a bit more in-depth with it here. \n",
    "\n",
    "Anyway, the full expression for the escape parameter is:\n",
    "\n",
    "$$ \\lambda = \\frac{GMm}{kT(R+z)} = \\frac{R+z}{H(z)} = \\left( \\frac{v_e}{v_o}\\right)^2 $$\n",
    "\n",
    "So, three ways to calculate it. All three should give the same answer. The one additional hint the problem provides is that T is not simply an average or equilibrium temperature, it is a relative temperature. So, what is the relative temperature for Earth?"
   ]
  },
  {
   "cell_type": "markdown",
   "id": "80c18101",
   "metadata": {},
   "source": [
    "Constants that are always the same: G = 6.674e-11, k=1.381e-23. And z=0 since we're told that in the problem. m, the mass of atomic hydrogen, is also the same, at 1.661e-27 kg. \n",
    "\n",
    "The parameters that change based on the gbody are the mass (M), the temperature (T), the radius (R), the scale height (H) and the escape velocity $v_e$. Techchni8cally $v_o$ changes as well but it's dependent on the temperature. We are also going to use that definition *last* as we've been having difficutly with it in the previous problem.\n",
    "\n",
    "So, first of all, definition one with z=0 gives us for earth of M=5.972e24 kg R= 6.378e6 m and T... well, that's the fun bit, you see. Except albedo zero emissivity unity is the default, so the temperature is just 255 K. The result? 29.\n",
    "\n",
    "Not. 8. In fact this is the same value we got for the last calculation, so at least we know all the definitions are consistent.\n",
    "\n",
    "So, instead of the equilibrium temperature, then, what if we use the exobase temperature? For earth it can get as high as 1250 K. *this* produces a value of 7 and was the problem we were missing the entire time in the previous situation, oh, yes, there it is. Just *look up* the exobase temperature and try not to read it from some suspicious graph, fine... \n",
    "\n",
    "...except the exobase starts at about 600km, not 100km, huh. So yes clearly there's a ton of variability based on altitude. \n",
    "\n",
    "ANYWAY, for the situation given in THIS problem, Earth's $\\lambda = 29.5$. "
   ]
  },
  {
   "cell_type": "markdown",
   "id": "680bfa9b",
   "metadata": {},
   "source": [
    "Using the scale height definition appears useless, likely because the scale height at z=0 isn't well defined, but we aren't sure. The terminal velocity explanation appears to work fine, but it'll require more calculations. Thus, what we need from every planet is M, T, and R, which is easy enough to look up. \n",
    "\n",
    "$$ \\lambda \\approx \\frac{M}{TR} 8.027e-15 $$\n",
    "\n",
    "And so... let us combine it all together and see where we end up! \n",
    "\n",
    "Some equilibrium temperatures can't just be searched up and have to be calculated. \n",
    "\n",
    "$$ T_{eq} = \\left( \\frac{\\mathcal F}{r^2} \\frac{1-A_b}{4\\epsilon\\sigma} \\right)^{1/4} $$\n",
    "\n",
    "In our case the only thing that changes is the radius (which is in AU here), as all esle is provided. $\\sigma$ = 5.67e-8. F is a bit more annoying since the provided value is 1.37e6 erg / $cm^2$ s. We need to convert this to SI units. Convert erg to Joule we get 0.137, but we need to convert square centimeters to meters which shifts us back to 1370 J/$m^2$s. This is suitable. One may ask why we are dividing by r in AU then, and this is because the value for F is the solar flux *at* one AU, what we're doing is scaling relatively. Anyway, this makes...\n",
    "\n",
    "$$ T_{eq} = 279 \\left( \\frac{1}{r^2} \\right)^{1/4} $$\n",
    "\n",
    "Notably Earth's equilibrium temperature is actually 255, but we assumed no albedo here. Note: a lot of answers below were computed with values that were looked up, not this, so we are likely to be several degrees off in a few cases. Oh well! \n",
    "\n",
    "Also notably this primitive calculation gets things way wrong; at 5 AU, where Jupiter is, the equilibrium temperature becomes 10K! Jupiter's equilibrium temperature is 110K! \n",
    "\n",
    "*Fortunately* we can apply a different approximation to keep things somewhat sensible for the gas giant moons: as equilibrium temperature primarily depends on distance from the sun, and the moons are all an equal distance compared to their planets, they can be considered to have the same equilibrium temperature. \n",
    "\n",
    "Comparisons became difficult for the kuiper belt objects. However, this far, equilibrium temperatures are around 40 degrees, and actaul temperatures vary up and down, and the dropoff is slower. For instance, Pluto is 44 degrees in equilibrium temperature but 37 in actuality, so they are probably close. Issue is Eris' temperature ranges somewhere between 30 and 56, and temperatures this far out can be internally driven. So we shall use Pluto's ET for most of the objects out here, except Sedna. Sedna we'll just use it's actual temperature, though we suspect since it is over 400AU out its equilibrium temperature might just be determined not by the sun but by internal heat and background stars. AKA: COLD. \n",
    "\n",
    "Mercury 0.387 AU; 2.52\n",
    "\n",
    "Venus 0.723 AU; 28.6\n",
    "\n",
    "Earth 1.000 AU; 29.5\n",
    "\n",
    "Moon 1.000 AU; 1.25\n",
    "\n",
    "Mars 1.524 AU; 7.24\n",
    "\n",
    "Ceres 2.766 AU; 0.0993\n",
    "\n",
    "Jupiter 5.203 AU; 1940\n",
    "\n",
    "Io 5.203 AU; 3.58\n",
    "\n",
    "Europa 5.203 AU; 1.33\n",
    "\n",
    "Gannymede 5.203 AU; 4.11\n",
    "\n",
    "Callisto 5.203 AU; 3.28\n",
    "\n",
    "Saturn 9.543 AU; 1200\n",
    "\n",
    "Titan 9.543 AU; 13.0\n",
    "\n",
    "Enceladus 9.543 AU; 0.0331\n",
    "\n",
    "Uranus 19.19 AU; 426\n",
    "\n",
    "Neptune 30.07 AU; 651\n",
    "\n",
    "Triton 30.07 AU; 3.97\n",
    "\n",
    "Pluto 39.48 AU; 2.07\n",
    "\n",
    "Charon 39.48 AU; 0.238\n",
    "\n",
    "Varuna 42.92 AU; 0.190\n",
    "\n",
    "Eris 67.73 AU; 2.62\n",
    "\n",
    "Sedna 489.6 AU; 0.489\n",
    "\n",
    "Note that I added our Moon and Triton as major moons that were not on the list for some reaosn, as well as Sedna simply becasue it's the furthest significant object we know. Also Charon since if you do Pluto you really need to do Charon. Anyway, did we learn anything? \n",
    "\n",
    "Well, first things first, we can look at OBJECTS WITH ATMOSPHERES\n",
    "\n",
    "28.6 29.5 7.24 1940 1200 13.0 426 651\n",
    "\n",
    "And hey, all of them have large numbers. You can even arrange them in order somewhat! The big gas giants are clear, then the ice giants, then earth and venus. Mars and Titan are the low numbers, and Titan's atmosphere *is* in fact more developed than MArs', so their order makes sense as well. \n",
    "\n",
    "*ALL* of the atmosphere-less objects have values less than 7. All of them. Every last one. This is compeltely unsurprising. For the record the least atmosphere-prone world is Enceladus, which, considering how miniscule it is, makes perfect sense.\n",
    "\n",
    "It is worth investigating some of the \"close\" cases, where there is no substantial atmosphere but the number is somewhat close to Mars', which are Io, Gannymede, and Triton at 3.58, 4.11, and 3.97 collectively. (Callisto was cut off rather arbitrarily). The only object here that's really known for an atmosphere is Io, and its situations are *very* special. The atmospheres are pathetic though: Mars has 6e-3 atm, while Io has 1e-8 and Gannymede has 1e-11. Triton actually has a larger atmosphere than both at 1e-6 atm, but still peanuts compared to Mars, the most tenuous of the \"substantial atmosphere\" worlds.\n",
    "\n",
    "So in conclusion even with very clunky data we *can* roughtly identify the presence of atmospheres simply from the mass, radius, and equilibrium temperature. Neat! "
   ]
  },
  {
   "cell_type": "markdown",
   "id": "a8e368d1",
   "metadata": {},
   "source": [
    "<a id='P4.34'></a>\n",
    "\n",
    "# Problem 4.34 \\[Back to [top](#toc)\\]\n",
    "$$\\label{P4.34}$$\n",
    "\n",
    "*Suppose a body with a radius of 15km hits a planet at a velocity of 30km/s. Assume the evaporative loading parameter is ~20.*\n",
    "\n",
    "*a) Calculate the mass of the atmosphere blown into space if the impactor hits the Earth.*"
   ]
  },
  {
   "cell_type": "markdown",
   "id": "84c91335",
   "metadata": {},
   "source": [
    "So this equation is provided to us without much justification, so we just take it\n",
    "\n",
    "$$ M = \\frac{\\pi R^2 P_0 \\xi_e}{g_p} $$\n",
    "\n",
    "We have an equation for $\\xi_e$ though, substituting it in...\n",
    "\n",
    "$$ M = \\frac{\\pi R^2 P_0 v_i^2}{g_pv_e^2(1+\\xi_v)} $$\n",
    "\n",
    "Some of these parameters are provided. R=15e3, $\\xi_v$=20, $v_i$ = 30e3. These will be the same regardless of the planet. So for each individual case we study today, we have the following:\n",
    "\n",
    "$$ M = 3.029e16 \\frac{P_0}{g_pv_e^2} $$\n",
    "\n",
    "Now at this point we have things that change based on the planet. $v_e$ is just escape velocity, that can be looked up. (11.2e3 for Earth). But the others? Well, they can be treated as a single parameter, and they are the mass of the atmosphere per unit area. Which we presume can be pretty cleanly calculated by the *pressure*. Pressure is force over area, and if our area is \"1\" then the pressure is the force. F = ma, so F/a = m or P/a = m. The problem here is while we can certainly look up the pressure (and thus the force) applied to a square meter, the acceleration here doesn't make much sense. Would it be gravity? the \"g\" in the equation above implies so, but we have our doubts. If we use surface gravity we only get how much it \"feels like\" is above us, but gravity varies with altitude. However, almost all the air hugs Earth like a shell, so most of it is feeling nearly 9.8 all the time. So we posit that, to a first approximation, we can find the mass of cross section atmosphere by P/g, where P is surface pressure and g is surface gravity.\n",
    "\n",
    "Surface gravity for Earth is 9.8 as always, and 1e5 Pa is a good estimate of the surface pressure. Thus, the atmospheric blowoff is...\n",
    "\n",
    "2.46e12 kg. \n",
    "\n",
    "Keep in mind the Earth's atmosphere is on the order of 1e18, so this is a six order of magnitude difference, thus the lost air is neglegible. Once it settles down, losing that much will definitely throw the Earth out of equilibrium. "
   ]
  },
  {
   "cell_type": "markdown",
   "id": "4ab17470",
   "metadata": {},
   "source": [
    "*b) Venus?*"
   ]
  },
  {
   "cell_type": "markdown",
   "id": "7b786624",
   "metadata": {},
   "source": [
    "Same as before! Surface gravity is 8.8 for venus, the pressure is roughly 93e5, and the escape velocity 10.4e3. Putting this all together...\n",
    "\n",
    "2.96e14 kg.\n",
    "\n",
    "More than Earth, but this is due entirely to the fact that Venus just has *more air*. How much more? Well it's on the order of 1e20 kg so it's two orders of magnitude above Earth's, and the difference in ejected atmosphere mass is roughly two orders, so there you go. "
   ]
  },
  {
   "cell_type": "markdown",
   "id": "e192504d",
   "metadata": {},
   "source": [
    "*c) Mars?*"
   ]
  },
  {
   "cell_type": "markdown",
   "id": "8c35bc66",
   "metadata": {},
   "source": [
    "Surface gravity: 3.7. Surface pressure: 610. Escape velocity: 5.03e3. The result...\n",
    "\n",
    "1.97e11 kg.\n",
    "\n",
    "Note that while this is less than Earth's, it's only by one order of magnitude, and Mars' atmosphere is *quite* tenuous. In fact, Mars' atmospheric total is about 1e16! The others had six orders of magnitude difference, but Mars only has five. This makes some sense, the smaller target will lose more of its overall percentage of air because the meteor's size doesn't change and it'll clear a larger percentage volume of the atmosphere just by traversing it. "
   ]
  },
  {
   "cell_type": "markdown",
   "id": "a77a4a10",
   "metadata": {},
   "source": [
    "*d) Express the masses of escaping gas calculated in a-c as a fraction of each planetary atmosphere's mass. Comment on your results.*"
   ]
  },
  {
   "cell_type": "markdown",
   "id": "e936580d",
   "metadata": {},
   "source": [
    "Was already discussed via magnitude comparisons. 1/1e5 and 1/1e6 aren't very helpful numbers, to be frank. "
   ]
  },
  {
   "cell_type": "markdown",
   "id": "ab9c0295",
   "metadata": {},
   "source": [
    "<a id='P5.3'></a>\n",
    "\n",
    "# Problem 5.3 \\[Back to [top](#toc)\\]\n",
    "$$\\label{P5.3}$$\n"
   ]
  },
  {
   "cell_type": "markdown",
   "id": "cbe628e8",
   "metadata": {},
   "source": [
    "*Calcium Carbonate, $CaCO_3$, exists in two polymorphic forms: calcite and argonite. In the following you will calculate which form (or phase) of calcium carbonate exists at a temperature of 298K and pressure of 1atm. The enthalpy at a tmeperature of 298K and pressure of 1 atm for alcite is -12.0737e12 erg/mol and for argonite it is -12.0774e12 erg/mole. The entropy for calcite is 91.7e7 erg/molK; the entropy for aragonite is 88e7 erg/molK.*\n",
    "\n",
    "*a) Calculate the change in enthalpy for the transformation argonite -> calcite at a temperature of 298K and 1atm pressure. IS the reaction endothermic or exothermic?*"
   ]
  },
  {
   "cell_type": "markdown",
   "id": "95f8a690",
   "metadata": {},
   "source": [
    "This problem sure like repeating itself. Anyway, the change is as simple as the difference. 0.0037e12 erg/mol, positive. Overall energy increases so endothermic, the reaction takes heat from elsewhere. "
   ]
  },
  {
   "cell_type": "markdown",
   "id": "01459bda",
   "metadata": {},
   "source": [
    "*b) Calculate the change in entropy for this same transformation (aragonite -> calcite)*"
   ]
  },
  {
   "cell_type": "markdown",
   "id": "eff1dc15",
   "metadata": {},
   "source": [
    "difference again, 3.7e7 erg/molK change."
   ]
  },
  {
   "cell_type": "markdown",
   "id": "b560549d",
   "metadata": {},
   "source": [
    "*c) Determine which form of $CaCO_3$ is the stable form at a temeprature of 298K and pressure of 1 atm.*"
   ]
  },
  {
   "cell_type": "markdown",
   "id": "759705ce",
   "metadata": {},
   "source": [
    "Stability is generally determined by the Gibbs Free Energy. Which is to say:\n",
    "\n",
    "$$ \\Delta G = \\Delta H - T \\Delta S $$\n",
    "\n",
    "T is 298K for us, the pressure seems irrelevant except for setting the values given at the start.\n",
    "\n",
    "$$ \\Delta G = 0.0037e12 - 290 (3.7e7) = -7.3e9$$\n",
    "\n",
    "Note that the gibbs energy change is negative. Thus, we should expect spontaneous transformation of aragonite to calcite.\n",
    "\n",
    "Which makes sense becasue I've heard of calcite before today but I have not heard of aragonite. Quick look up confirms that aragonite \"probably\" reverts to calcite under normal situations. (Likely geological timescales). It's found in pearls and can form at high pressures. "
   ]
  },
  {
   "cell_type": "markdown",
   "id": "e247a3a7",
   "metadata": {},
   "source": [
    "<a id='P5.5'></a>\n",
    "\n",
    "# Problem 5.5 \\[Back to [top](#toc)\\]\n",
    "$$\\label{P5.5}$$"
   ]
  },
  {
   "cell_type": "markdown",
   "id": "e0d848f9",
   "metadata": {},
   "source": [
    "*If the lithospheric plates move, on average, at a speed of 6 cm/yr, what would be a typical recycling time of terrestrial crust? (Hint: calculate the recycling time based on the motion of one plate over the Earth's surface. How would your answer change if you have several plates moving over the surface?)*"
   ]
  },
  {
   "cell_type": "markdown",
   "id": "96bd80d0",
   "metadata": {},
   "source": [
    "So, we've got several ways we can try to calculate this. First we can just assume \"once we get back to where we started, we've circulated.\" So if we move 6cm/yr, that means we move 0.06 m/yr. The circumference of the earth is 40e3 m. Thus, this most primitive of calculations gives 666 thousand yeazrs. This is not right, obviously, as we need to be up in the millions of years. However it does indicate that continental drift over the course of human civilization is not unreasonable. \n",
    "\n",
    "Okay, so let's refine things again. Simple circulation obviously ain't gonna do it--after all, if we only have one plate, it has to be able to reach every location on the surface of the earth to truly recycle it. The problem is, plates range significantly in size, and we'll need some kind of cross-sectional \"length\" to show how much is gathered at any given moment. \n",
    "\n",
    "Anyway, surface area of earth is 510e6 $km^2$ or 510e12 $m^2$. Fun! Divide by our speed, and we end up with an unusual quantity 3.06e13 yrm. We next need to divide by our \"cross section\" length of a plate. Let's start with an extreme: the Pacific Plate is truly massive and has a rough \"length\" of a fourth of the Earth's circumference, so 10e3 m. Even with this truly massive plate, we take 3.06e9 years! That's in *billions*, and we aren't even considering the chance that a plate will not efficiently circulate around the planet. Our answer is now too large!\n",
    "\n",
    "Ah, but now we consider multiple plates. If multiple plates are clearing out sections of the Earth at the same time, they all work in unison and will lower the number. The question is, how can we qualitatively calculate a vague number for this? Well... if all plates are moving at the same rate, it seems rasonable that the \"refresh rate\" will be limited by the largest plate, as its center regions will take the longest to \"reach\". So, in essence, how long will it take the Pacific Plate to recycle itself? The pacific ocean's surface area is 155e12 m, which is a factor of 3 times less than the total surface area of the Earth. With this, we get... 929e6 yr, which is on the order of magnitude of the actual value. \n",
    "\n",
    "The real value is somewaht uncertain, but quick lookups suggest the current thought is 500 million years, while previous values held 2 billion. The values in the book of the Wilson cycle suggest 300-500 million, while supercontinent cycles are around 600 million. IT's possible that this lower value is explained simply by some plates moving faster than 6cm/yr. These cycles are not exactly the same thing as surface refreshing but they certianly operate on the same relative timescale. \n",
    "\n",
    "Regardless, conclusions: over the course of human history condinental drift can significantly affect things, but complete recycling takes hundreds of millions of years and might as well not occur from a human perspective. "
   ]
  },
  {
   "cell_type": "markdown",
   "id": "fe6f9684",
   "metadata": {},
   "source": [
    "<a id='P5.8'></a>\n",
    "\n",
    "# Problem 5.8 \\[Back to [top](#toc)\\]\n",
    "$$\\label{P5.8}$$\n",
    "\n",
    "*Calculate a typical timescale over which material in the Earth's upper mantle flows. The dynamic viscosity is 1e21 Pa s and the shear modulus is 250 GPa.*"
   ]
  },
  {
   "cell_type": "markdown",
   "id": "5ac08b0f",
   "metadata": {},
   "source": [
    "For the record the shear modulus *is* the rigidity, there's no need to get confused about that in the future. Which simply means that the relaxation time can be calculated by division here:\n",
    "\n",
    "1e21 / 250e9 = 4e9 s ~ 129 yr\n",
    "\n",
    "So, hundreds of years is the *relaxation time*, aka the time it takes a quantity to return to equilibrium. (Okay so it's probably a 'factor of e' situation but close enough). So we consider this an appropriate timescale of motion. Which is to say it's certainly moving but really really slowly. It'd take a human lifetime for a human to fully be enveloped, kind of thing. (caveat: may not really work like that.)"
   ]
  },
  {
   "cell_type": "markdown",
   "id": "a000c82a",
   "metadata": {},
   "source": [
    "<a id='P5.11'></a>\n",
    "\n",
    "# Problem 5.11 \\[Back to [top](#toc)\\]\n",
    "$$\\label{P5.11}$$"
   ]
  },
  {
   "cell_type": "markdown",
   "id": "afcf35c5",
   "metadata": {},
   "source": [
    "*Consider the impact between an iron meteoroid ($\\rho = 7 g/cm^3$) with a diameter of 300m and the moon.*\n",
    "\n",
    "*a) Calculate the kinetic energy involved if the meteoroid hits the moon at v=12km/s.*"
   ]
  },
  {
   "cell_type": "markdown",
   "id": "3a0cf46a",
   "metadata": {},
   "source": [
    "Trivial. $\\frac12 mv^2$. The result is 5.344e18 J. \"That's a lot of damage!\" "
   ]
  },
  {
   "cell_type": "markdown",
   "id": "c735c5ee",
   "metadata": {},
   "source": [
    "*b) Estimate the size of the crater formed by a head-on collision, and one where the angle fo impact with respect to the local horizontal is 30 degrees*"
   ]
  },
  {
   "cell_type": "markdown",
   "id": "3b2acab0",
   "metadata": {},
   "source": [
    "The approximate diameter relation is:\n",
    "\n",
    "$$ D \\approx 2\\rho_m^{0.11}\\rho_P^{-1/3} g_P^{-0.22} R^{0.11} E_K^{0.22} (sin\\theta)^{1/3} $$\n",
    "$$ \\approx 2\\left( \\frac{\\rho_m R E_K^2}{g_P^2} \\right)^{0.11} \\left( \\frac{sin\\theta}{\\rho_P} \\right)^{1/3} $$"
   ]
  },
  {
   "cell_type": "markdown",
   "id": "573b1db9",
   "metadata": {},
   "source": [
    "Now, what do we have already? $\\rho_m$, the density of the impactor, and R, the impactor's radius. We also technically have the angle but we will be varying that. We already calcualted the energy E.\n",
    "\n",
    "\"P\" represents \"planet\", though in this case it is the moon. We need both surface gravity and density, and that's surprisingly it for the moon's parameters. 1.62 $m/s^2$ and 3.34 $g/cm^3$. Converting, 3.34e2 $kg/m^3$\n",
    "\n",
    "Dead on this results in 13km, a glancing blow provides 10km. "
   ]
  },
  {
   "cell_type": "markdown",
   "id": "c2e22b23",
   "metadata": {},
   "source": [
    "*c) If rocks are excavated from the crater with typical ejection velocities of 500 m/s, calculate how far from the main crater one may find secondary craters.*"
   ]
  },
  {
   "cell_type": "markdown",
   "id": "8b81e630",
   "metadata": {},
   "source": [
    "The relevant equation is\n",
    "\n",
    "$$ r = \\frac{v^2}{g}sin2\\theta $$\n",
    "\n",
    "Naturally as we can see, the maximum would be at 45 degrees, sensible for an airless environment. Anyway that maximum sets the trig portion to zero so we just divide square speed by surface gravity.\n",
    "\n",
    "$$ r = 154km $$\n",
    "\n",
    "Very roughly ten times the crater diameter. This is rather large, but the size of the moon is an order of magnitude above it, so we decide to ignore the contribution of the moon's curvature. (Which would be kind of a mess to actually calculate, come to think of it.)"
   ]
  },
  {
   "cell_type": "markdown",
   "id": "073c4dd4",
   "metadata": {},
   "source": [
    "<a id='P5.12'></a>\n",
    "\n",
    "# Problem 5.12 \\[Back to [top](#toc)\\]\n",
    "$$\\label{P5.12}$$"
   ]
  },
  {
   "cell_type": "markdown",
   "id": "105ad77a",
   "metadata": {},
   "source": [
    "*Do the same thing as the previous problem, but for Mercury, and comment on any similarities or differences.*\n",
    "\n",
    "Okay, so to avoid using more calculator steps than is necessary, we can take advantage of working backward. We note that part a) is the same and thus the energy does not change (though the situations leading to such a kinetic energy would be different). \n",
    "\n",
    "Part b) has only two parameters keyed by the planetary object. Divide out the gravity and density to get a \"parameter\" that doesn't depend on the planet's properties. This parameter is 100 to 3 sig figs. \n",
    "\n",
    "For mercury, surface gravity is 3.7 and the density is 13.5 $g/cm^3$ which we shift to 1350. \n",
    "\n",
    "Which means the crater is roughly 7km in diameter, smaller than on the moon. It's about 5 km for the glancing blow as well. \n",
    "\n",
    "Part c)'s \"secondary\" radius is determined just by surface gravity, the speed is still provided. This becomes 68 km.\n",
    "\n",
    "Perhaps as should have been obvious, higher gravity worlds keep things from flying as far and keeps final crater sizes smaller. Muuuuch smaller. "
   ]
  },
  {
   "cell_type": "markdown",
   "id": "8f9ece46",
   "metadata": {},
   "source": [
    "<a id='P5.13'></a>\n",
    "\n",
    "# Problem 5.13 \\[Back to [top](#toc)\\]\n",
    "$$\\label{P5.13}$$"
   ]
  },
  {
   "cell_type": "markdown",
   "id": "610680af",
   "metadata": {},
   "source": [
    "*After the moon has been hit by the meteoroid from **PROBLEM 11** many rocks are excavated from the crater during the excavation stage.*\n",
    "\n",
    "*a) If the ejection velocity is 500m/s calculate how long the rock remains in flight, if its ejection angle with respect to the ground is 25, 45, and 60.*\n",
    "\n",
    "This... this is just a parabolic trajectory problem. IF the speed is 500m/s, the y-speed is 500cos$\\theta$. Thus the shortest time in the air is directly forward (hits ground immediately) and the longest is straight up. In fact we could do this for any angle we wanted:\n",
    "\n",
    "$$ 500cos\\theta - 1.62t = 0 $$\n",
    "$$ \\Rightarrow t = \\frac{500}{1.62} cos\\theta = t $$\n",
    "\n",
    "Let's not bother doing the other part, maximum height, it's just... kinematics."
   ]
  },
  {
   "cell_type": "markdown",
   "id": "63860a8f",
   "metadata": {},
   "source": [
    "<a id='P5.16'></a>\n",
    "\n",
    "# Problem 5.16 \\[Back to [top](#toc)\\]\n",
    "$$\\label{P5.16}$$"
   ]
  },
  {
   "cell_type": "markdown",
   "id": "45e9c260",
   "metadata": {},
   "source": [
    "*a) Calculate the average crater density ($1/km^2$) for craters over 4km in size for a portion of the lunar highlands that is 4.44 Gyr old.*"
   ]
  },
  {
   "cell_type": "markdown",
   "id": "72d95e8a",
   "metadata": {},
   "source": [
    "The crude estimator is\n",
    "\n",
    "$$ N \\approx 2.7e-5 (t+4.6e-7(e^{qt}-1)) $$\n",
    "\n",
    "We have t and want to find N. But what is q? q is given as 4.5 Gyr. So we can just run it and get 0.006 craters per square kilometer. "
   ]
  },
  {
   "cell_type": "markdown",
   "id": "17c18757",
   "metadata": {},
   "source": [
    "*b) Calculate the average crater density for craters over 4km in size for a region on the lunar surface that is 1Gyr old*"
   ]
  },
  {
   "cell_type": "markdown",
   "id": "3b14cf1c",
   "metadata": {},
   "source": [
    "2.7e-5. A LOOOT less. "
   ]
  },
  {
   "cell_type": "markdown",
   "id": "c0035a7f",
   "metadata": {},
   "source": [
    "*c) Calculate the approximate age of the lunar maria if hte average crater density for craters over 4km in diameter is 9e-5 craters per square kilometer.*"
   ]
  },
  {
   "cell_type": "markdown",
   "id": "da979f1e",
   "metadata": {},
   "source": [
    "Doing the reverse is not as easy, as we have t in two places. WE can get rather quickly:\n",
    "\n",
    "$$10/3 = t + 4.6e-7(e^4.5t - 1)$$\n",
    "\n",
    "Fortunately we aren't mathemeticians and we can just ask a computer to do it. It gives us a t=3 Gyr. "
   ]
  },
  {
   "cell_type": "markdown",
   "id": "363d2315",
   "metadata": {},
   "source": [
    "<a id='P5.18'></a>\n",
    "\n",
    "# Problem 5.18 \\[Back to [top](#toc)\\]\n",
    "$$\\label{P5.18}$$"
   ]
  },
  {
   "cell_type": "markdown",
   "id": "664ef5b5",
   "metadata": {},
   "source": [
    "*a) Calculate the ratio of collisions per unit area near the apex of Callisto's motion to the antapex for a population of impactors that approaches Jupiter with $v_\\infty$ = 5km/s. You may assume that Callisto is on a circular orbit and neglect the moon's gravity, but don't neglect Jupiter's pull on the impactors.*"
   ]
  },
  {
   "cell_type": "markdown",
   "id": "04927ede",
   "metadata": {},
   "source": [
    "This is a bit of an odd one to think about and we're not sure how precise the problem wants us to be, so let's be a little explicit about it. Let's assume the population of impactors is all flying at Jupiter in a uniform direction, so basically Jupiter has a field of asteroids passing it in a uniform direction. The focusing effect of Jupiter will, in fact, increase the overall density but this density change will be basically zero on different sides of Callisto, so we can assume at any given location the actual density of meteors is the same. The speed changes, though, based on the gravitational potential energy:\n",
    "\n",
    "$$ U = -\\frac{GMmm}{r} $$\n",
    "\n",
    "Where M is Jupiter's mass and r is the radius to Callisto or whatevber moon we use. We can find speed based on \n",
    "\n",
    "$$ \\frac 12 m v_1^2 = \\frac12 m v_2^2- \\frac{GMm}{r} $$\n",
    "$$ \\Rightarrow v_2 = \\sqrt{v_1^2 + \\frac{2GM}{r}} $$\n",
    "\n",
    "If we make the naieve assumption that everything is always flying right at Jupiter, nothing will ever strike the antapex since Callisto is moving away from it, so we need to factor in directionality of some kind, or we can do the calculation by hemisphere, since things striking a singular point is a tad ridiculous. If we simply give a hemisphere ratio, then the fact that nothing strikes the direct antapex isn't an issue. \n",
    "\n",
    "So, let's think of it this way. Meteors are coming in constantly in the, say, -x direction. The bombardment is constant, but the mottion of Callisto is not. The actual cratering rate would be determined by the relative speed, which requires vector addition or clever angles. Considering Callisto to be orbiting counterclockwise, we can find the relative speed as:\n",
    "\n",
    "$$ v_r = v_m - v_C sin\\theta $$\n",
    "\n",
    "However, the ratio of this that hits each hemisphere is different depending on location as well. The bizarre thing is that it can't go negative, it ranges over an entire orbit from 0 to 1 *once*. More interestingly it seems to vary linearly with angle rather than by some sine function, as if you plug in an angle you know exactly how much of the cross section is one hemisphere as opposed to the other. (The fact that more land is acessible is irrelevant, we're dealing with cratering rate over the entire hemisphere, it doesn't matter how shallow the incoming angle is in our level of approximation). This makes kind of a sawtooth wave, and reveals that it's best to redefine our axes. Let the incoming direction be -y, so we can have angle=0 be something helpful. This changes our relative speeds:\n",
    "\n",
    "$$ v_r = v_m + v_C cos\\theta $$\n",
    "\n",
    "And the \"ratio of back to front\" is now equal to:\n",
    "\n",
    "$$ \\theta/\\pi \\text{ for } 0 < \\theta < \\pi $$\n",
    "$$ 1 - (\\theta-\\pi)/\\pi \\text{ for } \\pi < \\theta < 2\\pi $$\n",
    "\n",
    "So, the full answer is goign to be an integral over an entire orbit... in *time*. We need to replace all our angles with ts. $\\theta = 2\\pi t /P$, where P is the period in seconds. \n",
    "\n",
    "So, first, let's just get the total amount of meteors that hit *overall* in a single period. This will be based on $\\int v \\rho$, which is to say it depends on the density of meteors (assumed to be constant) and the relative velocity of the meteors (which is in fact changing). The percent forward-backward doesn't matter for this calculation. Since the meteor density is constant let's just not worry about it, consider it 1, all we need is a ratio anyway. \n",
    "\n",
    "$$ \\int_0^P v_m + v_c cos\\theta dt $$\n",
    "$$ = \\int_0^P \\sqrt{v_1^2 + \\frac{2GM}{r}} + v_c cos\\frac{2\\pi t}{P} dt$$\n",
    "$$ = \\left[\\sqrt{v_1^2 + \\frac{2GM}{r}}t + v_c sin\\frac{2\\pi t}{P}\\frac{P}{2\\pi} \\right]_0^P$$\n",
    "$$ = \\sqrt{v_1^2 + \\frac{2GM}{r}}P $$\n",
    "\n",
    "As perhaps should have been expected, over an entire period the back and forth motion cancels out leaving only a simple vP result. Neat. However, we need to split this into forward and backward directions, which will be unbalanced. "
   ]
  },
  {
   "cell_type": "markdown",
   "id": "95718c17",
   "metadata": {},
   "source": [
    "$$ \\int_0^{P/2} (v_m + v_c cos\\theta) \\frac{\\theta}{\\pi} dt + \\int_{P/2}^{P} (v_m + v_c cos\\theta) \\frac{2\\pi - \\theta}{\\pi} dt $$\n",
    "$$ = \\int_0^{P/2} (v_m + v_c cos\\frac{2\\pi t}{P}) \\frac{\\frac{2\\pi t}{P}}{\\pi} dt + \\int_{P/2}^{P} (v_m + v_c cos\\frac{2\\pi t}{P}) \\frac{2\\pi - \\frac{2\\pi t}{P}}{\\pi} dt $$\n",
    "\n",
    "We didn't type everything out as the integral was involved. The result here is:\n",
    "\n",
    "$$ = v_m \\frac P4 - v_c \\frac{P}{2\\pi} + v_m P - v_m \\frac{3P}{4} + 0 - v_c \\frac{P}{\\pi} $$\n",
    "$$ = v_m \\frac{P}{2} - v_c \\frac{3P}{2\\pi} $$"
   ]
  },
  {
   "cell_type": "markdown",
   "id": "146ed959",
   "metadata": {},
   "source": [
    "So the *first* term dictates \"precisely half of the result lands on each side.\" However, as expected, a secondary term has arisen. As it is *subtracted* to the half, we can rather easily say the reverse is...\n",
    "\n",
    "$$ v_m \\frac{P}{2} + v_c \\frac{3P}{2\\pi} $$\n",
    "\n",
    "This is sufficient to show that, yes, we *definitely* get more cratering for the forward side than the backward. We now just need to assign some numbers to it as the specific ratio will in fact change based on how much the difference actually *is*. \n",
    "\n",
    "Time to gather our numbers. M of jupiter is 1.898e27. G is 6.674e-11. Callisto's orbital radius is 1.883e6 km or 1.883e9 m. Callisto's period P is 1.468e6 s. Callisto's speed is 8.204 km/s, or 8204 m/s. \n",
    "\n",
    "From all this, we can find A.\n",
    "\n",
    "$$ A = 1.854e10 $$\n",
    "\n",
    "This was the cratering rate per period assuming the meteoric density of 1. Naturally that meteoric density is probably much less than unity so this number will be much smaller.\n",
    "\n",
    "Now, what is the fraction of this that Callisto occupies? Well..\n",
    "\n",
    "$$ \\frac{1}{2} - \\frac{v_c 3 P}{2 \\pi A} = 0.190 $$\n",
    "\n",
    "So the back side receives roughly 19% of impacts. Yay!"
   ]
  },
  {
   "cell_type": "markdown",
   "id": "72335434",
   "metadata": {},
   "source": [
    "*b) Calculate the ratio of kinetic energies per unit mass at impact for the situation considered in a).*"
   ]
  },
  {
   "cell_type": "markdown",
   "id": "7dc06b31",
   "metadata": {},
   "source": [
    "Ah, we don't care about the masses, this makes it trivial. Divide kinetic energy by m and you get\n",
    "\n",
    "$$ T = \\frac{v^2}{2} $$\n",
    "\n",
    "Which in our case is the velocity of the meteorites at the time they hit Callisto, which is A/P in our case here, quickly found to be 12.6km/s. This gives us a massive 7.978e7 J/kg. Wheeeeee! "
   ]
  },
  {
   "cell_type": "markdown",
   "id": "5786a45d",
   "metadata": {},
   "source": [
    "*c) Repeat your calculations for Io in place of Callisto.*"
   ]
  },
  {
   "cell_type": "markdown",
   "id": "5d1621c8",
   "metadata": {},
   "source": [
    "Io has some adjusted values. Its orbital radius is 0.422e6km, or 422e6 m. 17334 m/s for the orbital velocity, speedy boi. Its period is 151200 s. \n",
    "\n",
    "This produces an A of 3.78e9, and a ratio of 0.169. This gives us about 17%, so the effect is more extreme on Io, but not by a ton. "
   ]
  },
  {
   "cell_type": "markdown",
   "id": "49734249",
   "metadata": {},
   "source": [
    "*d) Repeat your calculations in a) and b) for long period comets that approach Jupiter with 15km/s.*"
   ]
  },
  {
   "cell_type": "markdown",
   "id": "65ca2be1",
   "metadata": {},
   "source": [
    "We are going to assume that this means they have the initial speed of 15km/s. Let's see how much this changes.\n",
    "\n",
    "For Callisto this gives us an A=2.78e10\n",
    "\n",
    "And provides a ratio of 0.293. Roughly 29% of things hit the back now. So clearly, faster initial objects care less about which side they hit, though the effect is still prominent. "
   ]
  },
  {
   "cell_type": "markdown",
   "id": "01953e73",
   "metadata": {},
   "source": [
    "<a id='P6.4'></a>\n",
    "\n",
    "# Problem 6.4 \\[Back to [top](#toc)\\]\n",
    "$$\\label{P6.4}$$"
   ]
  },
  {
   "cell_type": "markdown",
   "id": "dd2fde8c",
   "metadata": {},
   "source": [
    "*a) The moment of inertia is related to the density via equation 2.42. If $\\rho$ is a function of distance r, show that for a spherical planet:*\n",
    "\n",
    "$$ I = \\frac83 \\pi \\int \\rho(r) r^4 dr $$"
   ]
  },
  {
   "cell_type": "markdown",
   "id": "31b68a3b",
   "metadata": {},
   "source": [
    "2.42 is\n",
    "\n",
    "$$ I = \\int\\int\\int \\rho(\\vec r) r_c^2 d\\vec r$$\n",
    "\n",
    "Where $r_c$ is the distance from the axis, not the center. \n",
    "\n",
    "Now, one may be tempted to go \"hey, there's no angular dependence\" except there is, hiding in $r_c = rsin\\theta$, and the usual spherical integration factor $r^2 sin\\theta dr d\\theta d\\phi$. Thus we get\n",
    "\n",
    "$$ I = \\int\\int\\int \\rho(r) r^4 sin^3\\theta dr d\\theta d\\phi $$\n",
    "\n",
    "The azimuthal angle gives us $2\\pi$. The integral of sine squared, though, provides $2/3$. You may see that this makes us end with:\n",
    "\n",
    "$$ I = \\frac83 \\pi \\int \\rho(r) r^4 dr  $$\n",
    "\n",
    "Tah-dah!"
   ]
  },
  {
   "cell_type": "markdown",
   "id": "536496ed",
   "metadata": {},
   "source": [
    "*b) Calculate the moment of inertia expressed in units of $MR^2$ for planets for which the density distributions are given in 6.1 a) and b).*\n",
    "\n",
    "((The given distributions are uniform density sphere of radius R, and a sphere of the same mass but with a R/2 core that has twice the density of the mantle)). "
   ]
  },
  {
   "cell_type": "markdown",
   "id": "8df3d683",
   "metadata": {},
   "source": [
    "First one is trivial, volume times density is mass, and volume is $\\frac43\\pi R^3$. The integral gives us $R^5/5$ and so...\n",
    "\n",
    "$$ I = \\frac25 MR^2 $$\n",
    "\n",
    "Second one, though, we have a discontinuity in the density, so we end up with a bit of a split integral.\n",
    "\n",
    "$$ I = \\frac83\\pi \\left[ \\frac{R^5}{5(2^5)}\\rho_1 + \\frac{R^5}{5}\\rho_2 - \\frac{R^5}{5(2^5)}\\rho_2\\right]  $$"
   ]
  },
  {
   "cell_type": "markdown",
   "id": "6a977e58",
   "metadata": {},
   "source": [
    "Clearly, to actually resolve this we need to find the actual MASS of the object in terms of all these quantities. Well, we *can* do that! The integral is actually very similar.\n",
    "\n",
    "$$ M = 4\\pi \\left[ \\frac{R^3}{3(2^3)}\\rho_1 + \\frac{R^3}{3}\\rho_2 - \\frac{R^3}{3(2^3)}\\rho_2\\right] $$"
   ]
  },
  {
   "cell_type": "markdown",
   "id": "5a6c2872",
   "metadata": {},
   "source": [
    "$$ I =  4\\pi \\frac{2R^2}{5} \\left[ \\frac{R^3}{3(2^5)}\\rho_1 + \\frac{R^3}{3}\\rho_2 - \\frac{R^3}{3(2^5)}\\rho_2\\right] $$\n",
    "\n",
    "Those extra factors of two are making it difficult to rearrange this properly. It seems as though we're goign to have to actually showcase exactly what the ratio between each of the densities is. So, one thing we know is that the mass M is the same as part a) in total, so we can in fact show:\n",
    "\n",
    "$$ M = 4\\pi \\left[ \\frac{R^3}{3(2^3)}\\rho_1 + \\frac{R^3}{3}\\rho_2 - \\frac{R^3}{3(2^3)}\\rho_2\\right] = \\frac43 \\pi R^3 \\rho$$\n",
    "\n",
    "Simplfiy a bit...\n",
    "\n",
    "$$ \\left[ \\frac{1}{(2^3)}\\rho_1 + \\rho_2 - \\frac{1}{(2^3)}\\rho_2\\right] =  \\rho$$\n",
    "$$ \\Rightarrow \\left[ \\frac{1}{8}\\rho_1 + \\frac{7}{8}\\rho_2\\right] =  \\rho$$\n",
    "\n",
    "And we can see the relative scaling coefficients of 1/8 and 7/8. AH, we forgot the really important information, $\\rho_1 = 2\\rho_2$, that could have saved us trouble...\n",
    "\n",
    "$$ \\Rightarrow \\frac{9}{8}\\rho_2 =  \\rho$$\n",
    "\n",
    "But more importantly now that we have values for both densities we can add everything together in the mass expression. \n",
    "\n",
    "$$ M = 4\\pi \\left[ \\frac{R^3}{3(2^2)}\\rho_2 + \\frac{R^3}{3}\\rho_2 - \\frac{R^3}{3(2^3)}\\rho_2\\right] = 4\\pi \\left[ \\frac{9R^3}{3(2^3)}\\rho_2\\right] $$\n",
    "\n",
    "And so returning to our moment of inertia we do the same combo...\n",
    "\n",
    "$$ I =  4\\pi \\frac{2R^2}{5} \\left[ \\frac{R^3}{3(2^4)}\\rho_2 + \\frac{R^3}{3}\\rho_2 - \\frac{R^3}{3(2^5)}\\rho_2\\right] = 4\\pi \\frac{2R^2}{5} \\left[ \\frac{(2^5+1)R^3}{3(2^5)}\\rho_2\\right] $$\n",
    "$$ = 4\\pi \\frac{2R^2}{5} \\left[ \\frac{33R^3}{3(2^5)}\\rho_2\\right] = 4\\pi \\frac{2R^2}{5} \\frac{33}{4} \\frac{1}{9} \\left[ \\frac{9R^3}{3(2^3)}\\rho_2\\right]= M \\frac{2R^2}{5} \\frac{33}{4} \\frac{1}{9} $$\n",
    "$$ = \\frac{33}{90}MR^2 $$"
   ]
  },
  {
   "cell_type": "markdown",
   "id": "85a4b926",
   "metadata": {},
   "source": [
    "Let's compare them now. Pure sphre: 0.4. Differentiated sphere: 0.3666. So similar, but the moment of inertia has gone down, which is to be expected for a centrally condensed object. "
   ]
  },
  {
   "cell_type": "code",
   "execution_count": null,
   "id": "c8e14c19",
   "metadata": {},
   "outputs": [],
   "source": []
  }
 ],
 "metadata": {
  "kernelspec": {
   "display_name": "Python 3 (ipykernel)",
   "language": "python",
   "name": "python3"
  },
  "language_info": {
   "codemirror_mode": {
    "name": "ipython",
    "version": 3
   },
   "file_extension": ".py",
   "mimetype": "text/x-python",
   "name": "python",
   "nbconvert_exporter": "python",
   "pygments_lexer": "ipython3",
   "version": "3.7.9"
  }
 },
 "nbformat": 4,
 "nbformat_minor": 5
}
