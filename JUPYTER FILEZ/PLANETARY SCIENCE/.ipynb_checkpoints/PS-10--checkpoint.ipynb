{
 "cells": [
  {
   "cell_type": "markdown",
   "id": "0c1bfe81",
   "metadata": {},
   "source": [
    "# Planetary Science Selected Problems Volume 4\n",
    "\n",
    "## Authors: Gabriel M Steward"
   ]
  },
  {
   "cell_type": "markdown",
   "id": "56664bc2",
   "metadata": {},
   "source": [
    "<a id='toc'></a>\n",
    "\n",
    "# Table of Contents\n",
    "$$\\label{toc}$$\n",
    "\n",
    "CHAPTER 10\n",
    "\n",
    "[Problem 10.1](#P10.1) (Cometary Orbital Dynamics)"
   ]
  },
  {
   "cell_type": "markdown",
   "id": "cd9e5529",
   "metadata": {},
   "source": [
    "<a id='P10.1'></a>\n",
    "\n",
    "# Problem 10.1 \\[Back to [top](#toc)\\]\n",
    "$$\\label{P10.1}$$"
   ]
  },
  {
   "cell_type": "markdown",
   "id": "1ad50d24",
   "metadata": {},
   "source": [
    "*Estimate the largest negative value of $1/a_0$ that nongravitational forces are reasonably likely to produce for a comet that is initially in heliocentric orbit and is not subjected to significant planetary perturbations. You may assume that the comet's initial orbit is so eccentric that it may be taken as parabolic and that the comet outgasses 0.1% of its mass with a 10% asymmetry and that this outgassing occurs in a single burst at perihelion, which is at 0.2AU.*"
   ]
  },
  {
   "cell_type": "markdown",
   "id": "ff62b7d8",
   "metadata": {},
   "source": [
    "So, outgassing, let's be very generic and liberal with this since the actual full equation is a nightmare to work with. The actual mass of our comet is so small compared to the sun that it doesn't matter what the total before and after is, it might as well just be M. However, it is important that the ejected amount m is 0.1% of M. Now, by outgassing we outgass in all directions, so the 10% assymetry must refer to the fact that 10% of the \"force\" this mass imparts is going to go into actually accelerating the comet, so now we're at 0.01$ of actual force involved.\n",
    "\n",
    "The trick now is what is the acceelration of this dust? If we can get that, we can get the final result. Some searching suggests that some particles move with the Solar Wind. Since we're looking for MAXIMUM possible displacement, let's make these things book at at a solar wind maximum of 750 km/s. At perihelion the tail is flowing away from the sun, so the comet itself is pushed forward. So, overall, the energy change is:\n",
    "\n",
    "$$ \\frac12 0.0001 M (750000)^2 $$\n",
    "\n",
    "However we do need to consider the direction this energy is being \"applied\". The push will move it closer to the sun! And would be the same as suddenly increasing the gravity for a moment, which shrinks orbits.\n",
    "\n",
    "Okay so perhaps the tail isn't the source of our burst. instead, let's have our burst favorably be in the opposite direction of motion, thus boosting the comet forward! However this does mean that our energy calculation no longer works as we don't have a known speed. And if we were to treat it like a rocket we would also need a rough relative speed calculation. \n",
    "\n",
    "Let's try setting up conservation of momentum.\n",
    "\n",
    "$$ Mv_i = (M-m)v_1 - mv_2 $$\n",
    "$$ \\Rightarrow Mv_i = 0.9999Mv_1 - 0.0001Mv_2 $$\n",
    "$$ \\Rightarrow v_i = 0.9999v_1 - 0.0001v_2 $$\n",
    "\n",
    "Now we can find $v_i$ from the parabolic trajectory, but the other two not so much, as the two different velocities are independent. \n",
    "\n",
    "Let's go ahead and go with a high estimate: it's going exactly the same as the original speed, just in the opposite direction.\n",
    "\n",
    "$$ \\Rightarrow v_i = 0.9999v_1 - 0.0001v_i $$\n",
    "$$ \\Rightarrow 1.0001v_i = 0.9999v_1 $$\n",
    "$$ \\Rightarrow 1.0002v_i = v_1 $$\n",
    "\n",
    "Now the velocity of a prabolic orbit is $\\sqrt{2GM/r}$, which we can calculate out to be 94.170 km/s. So the improved speed is now... 94.359 km/s! \n",
    "\n",
    "Now we just need to associate this to a hyperbolic orbit. The equation for 1/a is...\n",
    "\n",
    "$$ 1/a = 2/r-v^2/GM $$\n",
    "\n",
    "(This formula is suspect but we'll go with it for now)\n",
    "\n",
    "1/a = -2e-13\n",
    "\n",
    "Woo-ee that's a small difference. However, the real values on this number are around -0.001, so we clearly have something messed up, though wheter that's in our velocity assumption or the hyperbola problem is unknown.\n",
    "\n",
    "INCOMPLETE!"
   ]
  },
  {
   "cell_type": "code",
   "execution_count": null,
   "id": "6c6e34fa",
   "metadata": {},
   "outputs": [],
   "source": [
    "\n",
    "\n"
   ]
  },
  {
   "cell_type": "code",
   "execution_count": null,
   "id": "0542af78",
   "metadata": {},
   "outputs": [],
   "source": []
  }
 ],
 "metadata": {
  "kernelspec": {
   "display_name": "Python 3 (ipykernel)",
   "language": "python",
   "name": "python3"
  },
  "language_info": {
   "codemirror_mode": {
    "name": "ipython",
    "version": 3
   },
   "file_extension": ".py",
   "mimetype": "text/x-python",
   "name": "python",
   "nbconvert_exporter": "python",
   "pygments_lexer": "ipython3",
   "version": "3.7.9"
  }
 },
 "nbformat": 4,
 "nbformat_minor": 5
}
