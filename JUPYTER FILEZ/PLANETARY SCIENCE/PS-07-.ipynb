{
 "cells": [
  {
   "cell_type": "markdown",
   "id": "0c1bfe81",
   "metadata": {},
   "source": [
    "# Planetary Science Selected Problems Volume 3\n",
    "\n",
    "## Authors: Gabriel M Steward"
   ]
  },
  {
   "cell_type": "markdown",
   "id": "56664bc2",
   "metadata": {},
   "source": [
    "<a id='toc'></a>\n",
    "\n",
    "# Table of Contents\n",
    "$$\\label{toc}$$\n",
    "\n",
    "CHAPTER 7\n",
    "\n",
    "[Problem 7.2](#P7.2) (Solar Speed)\n",
    "\n",
    "[Problem 7.3](#P7.3) (Mean Free Path)\n",
    "\n",
    "[Problem 7.5](#P7.5) (Beforeshock, Aftershock) [Albegra Failure]\n",
    "\n",
    "[Problem 7.15](#P7.15) (Beforeshock, Aftershock) [Missing an Equation?]"
   ]
  },
  {
   "cell_type": "markdown",
   "id": "cd9e5529",
   "metadata": {},
   "source": [
    "<a id='P7.2'></a>\n",
    "\n",
    "# Problem 7.2 \\[Back to [top](#toc)\\]\n",
    "$$\\label{P7.2}$$"
   ]
  },
  {
   "cell_type": "markdown",
   "id": "1ad50d24",
   "metadata": {},
   "source": [
    "*Calculate the speed of sound and the Alfven velocity in the solar wind at Earth's orbit. Compare your answers with the quiet solar wind velocity.*"
   ]
  },
  {
   "cell_type": "markdown",
   "id": "5d7a9150",
   "metadata": {},
   "source": [
    "Wait.\n",
    "\n",
    "Hold on.\n",
    "\n",
    "These values are just provided in Table 7.1. Sound is 59km/s, Alfven is 50km/s, and the quiet solar wind is 375. Roughly, naturally the values do change. Hmm. Interesting? Be on the lookout for how to calcualte these things, of course."
   ]
  },
  {
   "cell_type": "markdown",
   "id": "387074b7",
   "metadata": {},
   "source": [
    "We found a way to calculate the speed of sound.\n",
    "\n",
    "$$ c_s = \\sqrt{\\frac{\\gamma P}{\\rho}} = \\frac{\\gamma k T}{\\mu_a m_{amu}} $$\n",
    "\n",
    "$\\gamma$ is the ratio of specific heats, which is given as 5/3 for hte solar wind. T is 1e5 K at about 1 AU. The boltzmann constant is a constant. Now the difficulty is figuring out: what exactly is $\\mu m$? Well it's the mean molecular mass in amu times mass per amu. The problem is, what exactly is this for the solar wind? Well, it's composed primarily of protons and electrons in equal number, so on average a single \"constituetn particle\" will have 0.5 amu, or 8.3e-28 kg. Fun! k is 1.38e-23, naturally. \n",
    "\n",
    "So the final calculation gives us... a number what's way too large, hang on.\n",
    "\n",
    "Something may have gone wrong in our interpretation, but perhaps we can rethink of it in terms of the earlier part, P over rho. The density is 5 protons/$cm^3$ so 8.3e-27 kg/$cm^3$. THe ratio is the same, but P is the pressure, which we don't know. However, we do know we ar eunder ideal gas conditions, that is, PV=nRT, and P = nRT/V or nkT/V. Note that n/V is particles per volume element, and we have the number of protons, but we should double this since the electrons are independenta nd also count, so P = 10kT. Thus...\n",
    "\n",
    "$$ c_s = \\sqrt{\\frac{\\gamma 10 kT}{\\rho}} $$\n",
    "\n",
    "This we can work out as we have all the numbers. Also note that the per cm^3 parts cancel out, so we don't even have to worry about unusual units! This give sus 53km/s. \n",
    "\n",
    "It occurs to us that we might have jsut forgotten to square root the previous answer. And that turns out to be true. It does provide the EXACT same answer though, at 53km/s.\n",
    "\n",
    "If we were to not count electrons we would get 37km/s, which is much wornger as the actual value is close to 60. Regardless, our math checks out, though the value is off by a big. But this is astrophysics, close enough. This is just the speed of SOUND though, there are two others we haven't calculated yet. "
   ]
  },
  {
   "cell_type": "markdown",
   "id": "9185c220",
   "metadata": {},
   "source": [
    "Aha! Found the Alfven speed! \n",
    "\n",
    "$$ c_A = \\frac{B}{\\sqrt{4\\pi \\rho}} $$\n",
    "\n",
    "So we already have the density, we just need the magnetic field strength, which is typically 5-7e-5 Gauss, so let's just use 6. Thus... wait be careful with units, a gauss is $\\sqrt{cm g}/s$. Our density is in kg per square centimeter, so we need to convert it to grams. $8.3e-27 kg/cm^3 = 8.3e-24 g/cm^3$. With this we get about 59kmm/s. Which. Y'know is closer to what the speed of sound should have been but whatever. If we adjust the gauss we get 49-69kmm/s. "
   ]
  },
  {
   "cell_type": "markdown",
   "id": "6091ccee",
   "metadata": {},
   "source": [
    "The quesiton that remains is how do we calculate the speed of the solar wind ITSELF? \n",
    "\n",
    "Oh wait we don't have to do that, it's not what we're told to calculate. Oops. Yeah these values while their relative values are uncertain, they are DEEEEFINITELY much slower than the actual speed, which is as mentioned 375km/s. "
   ]
  },
  {
   "cell_type": "markdown",
   "id": "db9dbde6",
   "metadata": {},
   "source": [
    "<a id='P7.3'></a>\n",
    "\n",
    "# Problem 7.3 \\[Back to [top](#toc)\\]\n",
    "$$\\label{P7.3}$$"
   ]
  },
  {
   "cell_type": "markdown",
   "id": "d3e7f1f1",
   "metadata": {},
   "source": [
    "*a) Calculate the mean free path between collisions in the solar wind assuming quiescent solar wind properties (Table 7.1). Compare this number with the size of Earth's magnetosphere and the thickness of the bow shock.*"
   ]
  },
  {
   "cell_type": "markdown",
   "id": "fcc4ce38",
   "metadata": {},
   "source": [
    "Time to actually try to understand the Mean Free Path.\n",
    "\n",
    "$$ l = \\frac{1}{\\sigma n} $$\n",
    "\n",
    "n is the number of particles in a unit volume, which in our case is 5 protons per cubic centimeter, or 10 particles as there are also free electrons. $\\sigma$ is the average cross sectional area. The cross sectional area is dominated by protons, so half of that. Proton diameter is 0.8e-15 m ish, which is 0.8e-13 cm. Which gives an area of 2e-26 square centimeters roughly, and we divide by two to account for the half-electrons. Thus we get a mean free path of... 9.9e24 cm. That's 9.9e19 km. \n",
    "\n",
    "The earth's radius is about 6e3 km, and the distance of the bowshock is about 20 times this, so 1.2e5 km. This is peanuts to this. Space is basically EMPTY, friend, ain't getting hardly any collisions. (The magnetosphere is inside the bow shock).\n",
    "\n",
    "Our number is so large in fact we doubt it is correct, as the scale length is larger than the solar system by six orders of magnitude. However, clearly it's absolutely ginormous, no matter what. "
   ]
  },
  {
   "cell_type": "markdown",
   "id": "7475d960",
   "metadata": {},
   "source": [
    "*b) If the mean free path between collisions is much larger than the typical size of the system, the plasma is collisionless. Is the solar wind a collisionless plasma by this definition? Explain why the solar wind is often treated as a fluid nevertheless.*"
   ]
  },
  {
   "cell_type": "markdown",
   "id": "ab57dad9",
   "metadata": {},
   "source": [
    "Even though there are no collisions, the particles still respond to the magnetic field lines as they are charged, and thus will \"flow\" in response to it. In fact they flow in response to each other as well, the diffuse distribution *does* still have charge, and there is technically no limit to charge effect distances. "
   ]
  },
  {
   "cell_type": "markdown",
   "id": "c491fbba",
   "metadata": {},
   "source": [
    "<a id='P7.5'></a>\n",
    "\n",
    "# Problem 7.5 \\[Back to [top](#toc)\\]\n",
    "$$\\label{P7.5}$$\n",
    "\n",
    "*Show that in an ideal unmagnetized gas with a velocity perpendicular to the shock the following equaiton holds:*\n",
    "\n",
    "$$ \\frac{\\rho_1}{\\rho_2} = \\frac{(\\gamma+1) P_1 + (\\gamma-1) P_2}{(\\gamma-1) P_1 + (\\gamma+1) P_2} $$\n",
    "\n",
    "*where the supscript 1 refers to conditions before the shock (i.e. solar wind) and subscript 2 after the shock (i.e. magnetosheath). Calculate the ratio $\\rho_2/\\rho_1$ for a strong shock ($P_2 >> P_1$) in a monatomic gas.*"
   ]
  },
  {
   "cell_type": "markdown",
   "id": "1cd42dc5",
   "metadata": {},
   "source": [
    "First off, ideal gas, PV=nRT=NkT. Always good to keep in mind.\n",
    "\n",
    "Secondarily, the \"continuity equaitons\" over the shock are somewhat complicted, but here they are nonetheless. Every bracketed quantity can be read as \"change in\". Note that all of them are zero so all \"changes\" have to cancel out for these five situaitons. \n",
    "\n",
    "$$ \\left[ \\rho v_\\perp \\right] = 0$$\n",
    "$$ \\left[ \\rho v_\\perp \\vec v + P + \\frac{B^2_{||}}{8\\pi} - \\frac{B_\\perp B_{||}}{4\\pi} \\right] = 0 $$ \n",
    "$$ \\left[ \\rho v_\\perp \\left( \\frac{\\gamma}{\\gamma - 1} \\frac{P}{\\rho}+\\frac12 v^2 \\right) - \\frac{B_{||}}{4\\pi}(B_\\perp v_{||} - B_{||} v_\\perp) \\right] = 0 $$ \n",
    "$$ \\left[ B_\\perp v_{||} - B_{||} v_\\perp \\right] = 0 $$ \n",
    "$$ \\left[ B_\\perp \\right] = 0 $$ "
   ]
  },
  {
   "cell_type": "markdown",
   "id": "46366358",
   "metadata": {},
   "source": [
    "So we've essentialy been given a fancy logic puzzle here. The primary complication is the velocity *vector* being added to a quantity that is not inherently directional, because it's given in terms of components. \n",
    "\n",
    "Regardless, first of all, $B_\\perp$ is constant, it does not change across the shock. Secondarily, we only have perpendicular velocity, not parallel velocity, thus $v_\\perp = v$. Thirdly, we are unmagnetized, though does that mean a magnetic field is not present? Let's go ahead and say it's not and that $\\vec v$ is just v, see what we get.\n",
    "\n",
    "$$ \\left[ \\rho v \\right] = 0$$\n",
    "$$ \\left[ \\rho v^2 + P \\right] = 0 $$ \n",
    "$$ \\left[ \\rho v \\left( \\frac{\\gamma}{\\gamma - 1} \\frac{P}{\\rho}+\\frac12 v^2 \\right) \\right] = 0 $$ "
   ]
  },
  {
   "cell_type": "markdown",
   "id": "a201584d",
   "metadata": {},
   "source": [
    "Let's expand these to show what they really mean. \n",
    "\n",
    "$$ \\rho_1 v_1 = \\rho_2 v_2 $$\n",
    "$$ \\rho_1 v_1^2 + P_1 = \\rho_2 v_2^2 + P_2 $$ \n",
    "$$ \\rho_1 v_1 \\left( \\frac{\\gamma}{\\gamma - 1} \\frac{P_1}{\\rho_1}+\\frac12 v_1^2 \\right) = \\rho_2 v_2 \\left( \\frac{\\gamma}{\\gamma - 1} \\frac{P_2}{\\rho_2}+\\frac12 v_2^2 \\right) $$ "
   ]
  },
  {
   "cell_type": "markdown",
   "id": "0fcd0dad",
   "metadata": {},
   "source": [
    "So let's see if we can tease anything out here. We have:\n",
    "\n",
    "$$ \\frac{\\rho_1}{\\rho_2} = \\frac{v_2}{v_1} $$\n",
    "\n",
    "Which is the quantity we want, we just need to solve for hte velocity fraciton. Well, we think we see a way we can do that. \n",
    "\n",
    "$$ \\frac{v_2}{v_1} = \\frac{\\rho_1}{\\rho_2} \\frac{\\left( \\frac{\\gamma}{\\gamma - 1} \\frac{P_1}{\\rho_1}+\\frac12 v_1^2 \\right)}{\\left( \\frac{\\gamma}{\\gamma - 1} \\frac{P_2}{\\rho_2}+\\frac12 v_2^2 \\right)}$$\n",
    "\n",
    "Well, simple substitution won't help us here, it'll just send us in circles. What we CAN say though is that because it goes in circles, ten...\n",
    "\n",
    "$$ 1 = \\frac{\\left( \\frac{\\gamma}{\\gamma - 1} \\frac{P_1}{\\rho_1}+\\frac12 v_1^2 \\right)}{\\left( \\frac{\\gamma}{\\gamma - 1} \\frac{P_2}{\\rho_2}+\\frac12 v_2^2 \\right)}$$\n",
    "$$ \\frac{\\gamma}{\\gamma - 1} \\frac{P_2}{\\rho_2}+\\frac12 v_2^2 = \\frac{\\gamma}{\\gamma - 1} \\frac{P_1}{\\rho_1}+\\frac12 v_1^2 $$"
   ]
  },
  {
   "cell_type": "markdown",
   "id": "87593802",
   "metadata": {},
   "source": [
    "Evidently my algebra skills are not up to the task here. Lovely. Could not get it to work. "
   ]
  },
  {
   "cell_type": "markdown",
   "id": "7660607a",
   "metadata": {},
   "source": [
    "### Skipping a lot of problems since I really don't think it'd be all that helpful to do problems relating to magnetic fields' nitty gritty math. "
   ]
  },
  {
   "cell_type": "markdown",
   "id": "112297bb",
   "metadata": {},
   "source": [
    "<a id='P7.15'></a>\n",
    "\n",
    "# Problem 7.15 \\[Back to [top](#toc)\\]\n",
    "$$\\label{P7.15}$$"
   ]
  },
  {
   "cell_type": "markdown",
   "id": "5b57c147",
   "metadata": {},
   "source": [
    "*a) Estimate the critical radius $r_{cr}$ inside of which corotaiton dominates over convection, for particles near the dawn and dusk sides in the Earth's magnetosphere. (See problem 7.10 for typical geomagnetic pramaters). Express your answer in earth radii.*"
   ]
  },
  {
   "cell_type": "markdown",
   "id": "e879134b",
   "metadata": {},
   "source": [
    "So this is a case where we need to set the magnitudes of the two contirubtions to be equal to each other. \n",
    "\n",
    "Convection is $-E_0rsin\\phi$ and corotaiton is $\\frac{-\\omega_{rot}B_0R^3}{r}$. So we solve for r in the relation:\n",
    "\n",
    "$$ E_0rsin\\phi = \\frac{\\omega_{rot}B_0R^3}{r} $$\n",
    "\n",
    "Which can be done in genreal as\n",
    "\n",
    "$$ \\Rightarrow r^2 = \\frac{\\omega_{rot}B_0R^3}{E_0sin\\phi} $$\n",
    "$$ \\Rightarrow r = \\sqrt{\\frac{\\omega_{rot}B_0R^3}{E_0sin\\phi}} $$\n",
    "\n",
    "For dawn and dusk that sine goes away.\n",
    "\n",
    "$$ \\Rightarrow r = \\sqrt{\\frac{\\omega_{rot}B_0R^3}{E_0}} $$\n",
    "\n",
    "Technically it becomes plus or minus one, but we only care about magnitudes--remember, this is not cancelation, we seek the point where one starts dominating over the other. "
   ]
  },
  {
   "cell_type": "markdown",
   "id": "f381ac89",
   "metadata": {},
   "source": [
    "Now we just need to find all these values for Earth. Frequency of rotaiton and radius are known. The problem now is finding the surface magnetic field (at the equator) and the dawn-to-dusk electric field. 0.35 Gauss for B, 3.5e-5 Tesla. \n",
    "\n",
    "The question now is what IS the dawn to dusk electric field? I... don't see how to do this...? We have a *propto* relation: $\\vec E \\propto \\vec v_{sw} \\times \\vec B_{sw}$, where the subscript stands for \"in solar wind\". So fine it's proportional to but what IS it!?\n",
    "\n"
   ]
  },
  {
   "cell_type": "markdown",
   "id": "7f3ed568",
   "metadata": {},
   "source": [
    "*b) Calculate the ritical radius, $r_{cr}$, inside of which corotaiton dominates over convection for particles near the dawn and dusk siddes in Jupiter's magnetosphere, using hte magnetic field paramaters as specified in Problem 7.14. Express your answer in Jupiter radii. Comment on the differences between the critical radii of Earth and Jupiter.*"
   ]
  },
  {
   "cell_type": "markdown",
   "id": "4a06de90",
   "metadata": {},
   "source": [
    "Same equation as above, but agian, how to find E? "
   ]
  },
  {
   "cell_type": "code",
   "execution_count": null,
   "id": "ac6edc0f",
   "metadata": {},
   "outputs": [],
   "source": []
  }
 ],
 "metadata": {
  "kernelspec": {
   "display_name": "Python 3 (ipykernel)",
   "language": "python",
   "name": "python3"
  },
  "language_info": {
   "codemirror_mode": {
    "name": "ipython",
    "version": 3
   },
   "file_extension": ".py",
   "mimetype": "text/x-python",
   "name": "python",
   "nbconvert_exporter": "python",
   "pygments_lexer": "ipython3",
   "version": "3.7.9"
  }
 },
 "nbformat": 4,
 "nbformat_minor": 5
}
