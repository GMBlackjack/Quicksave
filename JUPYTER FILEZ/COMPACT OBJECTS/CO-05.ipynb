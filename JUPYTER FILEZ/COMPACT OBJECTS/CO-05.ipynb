{
 "cells": [
  {
   "cell_type": "markdown",
   "id": "0c1bfe81",
   "metadata": {},
   "source": [
    "# Compact Objects Problems Chapter 5: General Relativity\n",
    "\n",
    "## Authors: Gabriel M Steward"
   ]
  },
  {
   "cell_type": "markdown",
   "id": "479540e4",
   "metadata": {},
   "source": [
    "https://github.com/zachetienne/nrpytutorial/blob/master/Tutorial-Template_Style_Guide.ipynb\n",
    "\n",
    "Link to the Style Guide. Not internal in case something breaks. "
   ]
  },
  {
   "cell_type": "markdown",
   "id": "10780970",
   "metadata": {},
   "source": [
    "### </list_source_code> NRPy+ Source Code for this module:\n",
    "None! ...well except for the pdf thing at the bottom.\n",
    "\n",
    "## Introduction:\n",
    "As we move our focus to Compact Objects, we perform a review of General Relativity to prove that we indeed know our stuff and that we also know the new book's notation. \n",
    "\n",
    "## </other>  Other (Optional): \n",
    "Placeholder\n",
    "\n",
    "### Note on Notation:\n",
    "Any new notation will be brought up in the notebook when it becomes relevant. \n",
    "\n",
    "### Citations:\n",
    "\n",
    "<a id='1'></a>\n",
    "[1] https://physics.stackexchange.com/questions/34366/time-taken-for-object-in-space-to-fall-to-earth (falling time)"
   ]
  },
  {
   "cell_type": "markdown",
   "id": "56664bc2",
   "metadata": {},
   "source": [
    "<a id='toc'></a>\n",
    "\n",
    "# Table of Contents\n",
    "$$\\label{toc}$$\n",
    "\n",
    "[Problem 1](#P1) (Test Particles Falling in Lines, incomplete)\n",
    "\n",
    "[Problem 2](#P2) (Affine parameters and the geodesic equation, incomplete)\n",
    "\n",
    "[Problem 3](#P3) (Radial coordinates)\n",
    "\n",
    "[Problem 4](#P4) (Generalized momentum)\n",
    "\n",
    "[Problem 5](#P5) (Stellar model, incomplete)\n",
    "\n",
    "[PDF](#latex_pdf_output) (turn this into a PDF)"
   ]
  },
  {
   "cell_type": "markdown",
   "id": "cd9e5529",
   "metadata": {},
   "source": [
    "<a id='P1'></a>\n",
    "\n",
    "# Problem 1 \\[Back to [top](#toc)\\]\n",
    "$$\\label{P1}$$\n",
    "\n",
    "*Consider two particles of mass m at distances r and r+h (h<<r) on the same vertical line from the center of the Earth. The particles fall freely from rest at time t=0 towards the Earth's surface. Show that an observer falling with one particle will see the separation between the particles gradually increase. Translate this into a quantitative statement about the observer's local inertial frame. In particular, determine the time at which the effects of spacetime curvature will become apparent if measurements can be made to a precision of $\\delta h_{min}$*\n",
    "\n",
    "The qualitative response is easy: the \"force\" of gravity pulls harder on things closer in than ones further away, so if two particles start at rest, the one further down will in fact start accelerating faster than the one higher up. The questoin is, how to formulate this precisely. "
   ]
  },
  {
   "cell_type": "markdown",
   "id": "0aeff135",
   "metadata": {},
   "source": [
    "Now since we're falling to Earth, post-Newtonian effects are not our concern, so we can actually solve this directly with newtonian physics. The acceleration of a test body in a gravitational field is \n",
    "\n",
    "$$\\frac{GM}{r^2}$$\n",
    "\n",
    "So the acceleration is slightly different between two particles. If one of the particles is considered the one with the inertial frame, it has zero acceleration. Meanwhile, the seond particle will have an observed acceleration of:\n",
    "\n",
    "$$\\frac{GM}{r_2^2} - \\frac{GM}{r_1^2}$$"
   ]
  },
  {
   "cell_type": "markdown",
   "id": "5fc9b33b",
   "metadata": {},
   "source": [
    "However, this isn't in the most useful form, as those r's are the values measured from the center of the Earth. The relation we want to find is h, that is, the function of the distance between them as observed by the lower particle. Well, technically speaking, the above formula is it, we just don't have it in a good form. \n",
    "\n",
    "What we really want is acceleration in terms of time, not in terms of position. Time to play with the differential equations. \n",
    "\n",
    "$$\\frac{d^2r}{dt^2} = -\\frac{GM}{r^2}$$\n",
    "\n",
    "So as it turns out this is very much not a trivial differential equation to solve. So we had to look it up. [1](#1). Its worthwhile to write out the derivation in full. \n",
    "\n",
    "$$ \\frac{dv}{dt} = -\\frac{GM}{r^2} $$\n",
    "$$ \\Rightarrow \\frac{dv}{dt} v = -\\frac{GM}{r^2} v $$\n",
    "$$ \\Rightarrow \\int \\frac{dv}{dt} v dt = \\int -\\frac{GM}{r^2} \\frac{dr}{dt} dt $$\n",
    "$$ \\Rightarrow \\int v dv = \\int -\\frac{GM}{r^2} dr $$\n",
    "$$ \\Rightarrow v^2/2 = \\frac{GM}{r}$$\n",
    "$$ \\Rightarrow v = \\sqrt{\\frac{2GM}{r}}$$\n",
    "$$ \\Rightarrow \\sqrt{r} dr = \\sqrt{2GM} dt $$\n",
    "$$ \\Rightarrow \\frac23 r^{3/2} = \\sqrt{2GM}t $$\n",
    "$$ \\Rightarrow r^{3/2} = \\frac32 \\sqrt{2GM}t $$\n",
    "$$ \\Rightarrow r = ^3\\sqrt{\\frac92 GMt^2} $$\n",
    "\n"
   ]
  },
  {
   "cell_type": "markdown",
   "id": "bc669c3e",
   "metadata": {},
   "source": [
    "Keep in mind that this has t=0 set to the moment the particle hits the center of the Earth. At t=0 we want a specific r, one we choose. This is going to involve a shift of (t-dt), though the exact value of dt depends on the initial r (let's call it R) that we want. \n",
    "\n",
    "$$ R = ^3\\sqrt{\\frac92 GM} (t-dt)^{2/3} $$\n",
    "\n",
    "Set t=0 and solve. \n",
    "\n",
    "$$ dt = R^{3/2}\\sqrt{\\frac29 \\frac{1}{GM}} $$\n",
    "\n",
    "So for the second particle it is\n",
    "\n",
    "$$ dt = (R+H)^{3/2}\\sqrt{\\frac29 \\frac{1}{GM}} $$\n",
    "\n",
    "So now we can actually write out an expression for h in terms of t. \n",
    "\n",
    "$$ h = ^3\\sqrt{\\frac92 GM(t-(R+H)^{3/2}\\sqrt{\\frac29 \\frac{1}{GM}})^2} - ^3\\sqrt{\\frac92 GM(t - R^{3/2}\\sqrt{\\frac29 \\frac{1}{GM}})^2} $$\n",
    "\n",
    "Now to tell if we got this right, set t=0 and h=H better come out. They do, but we need to be careful with the sign: it vanishes when being squared.\n",
    "\n",
    "So with this confirmed... Solve for t when h = 2H, for that is when the change will become evident. Oh boy. "
   ]
  },
  {
   "cell_type": "markdown",
   "id": "cb369462",
   "metadata": {},
   "source": [
    "Okay so we KNOW this has a solution, but the algebra is ridiculously ugly. If we're GIVEN a value for R and H, this becomes a trivial calculation to find t. Clearly there's a better way to formulate this but we must move on. \n",
    "\n",
    "To prove there is a solution, though, we set G=M=H=1 and R=1000 and plot in Geogebra. ...Which we accidentally plotted on the other computer BUT the graph shows that with those values, yes, an h=2 can be found. Not all values will have a solution though, for in those values the maximum h was around 13 before \"crash\" and everything breaks. Depends on the strength of the gravity field. Now, with these values the time was around 13000 for 2h time. \n",
    "\n",
    "How about we try with more realistic values? Set R to the diameter of the Earth to give ourselves plenty of distance to fall, H to one meter, and see what happens. Wow, it takes about 0.03 seconds. This seems wrong, which means either A) we typed numbers in badly B) the computer has a roundoff error or C) the above answer is wrong even though it appears to behave correctly.\n",
    "\n",
    "Regardless, though, we can at least say \"an answer exists\" and move on. \n",
    "\n",
    "ALTERNATIVELY, we're overthinking it and there's some simple trick. "
   ]
  },
  {
   "cell_type": "markdown",
   "id": "cea98d9a",
   "metadata": {},
   "source": [
    "<a id='P2'></a>\n",
    "\n",
    "# Problem 2 \\[Back to [top](#toc)\\]\n",
    "$$\\label{P2}$$\n",
    "\n",
    "*Show that, with $\\lambda$ taken to be an affine parameter, the Lagrangian*\n",
    "\n",
    "$$ L = \\frac12 g_{\\alpha\\beta} \\dot x^\\alpha \\dot x^\\beta$$\n",
    "\n",
    "*is an equivalent Lagrangian to 5.2.12 for geodesics; that is, show that the Euler-Lagrange equations for 5.2.21 give the same geodesic equaitons, except that now $\\lambda$ is no longer an arbitrary parameter and the condition L=const is built in to the variational principle.*"
   ]
  },
  {
   "cell_type": "markdown",
   "id": "d70517ce",
   "metadata": {},
   "source": [
    "5.2.12 is given by\n",
    "\n",
    "$$ L = \\sqrt{-g_{\\alpha\\beta} (x^\\gamma) \\dot x^\\alpha \\dot x^\\beta} $$"
   ]
  },
  {
   "cell_type": "markdown",
   "id": "82cdab69",
   "metadata": {},
   "source": [
    "Now we actually do remember from our relativity work that an *affine parameter* is one that satisfies the geodesic equation. In our old notation, thas can be thought of as:\n",
    "\n",
    "$$ \\frac{d^2x^\\alpha}{d\\lambda^2} + \\Gamma^\\alpha_{\\mu\\beta} \\frac{dx^\\mu}{d\\lambda} \\frac{dx^\\beta}{d\\lambda} = 0 $$"
   ]
  },
  {
   "cell_type": "markdown",
   "id": "a5a189cc",
   "metadata": {},
   "source": [
    "In our new notation, this is 5.2.19\n",
    "\n",
    "$$ \\ddot x^\\alpha + \\Gamma^\\alpha_{\\beta\\gamma} \\dot x^\\beta \\dot x^\\gamma = 0$$\n",
    "\n",
    "Of note 5.2.21 is just the equation given at the top. "
   ]
  },
  {
   "cell_type": "markdown",
   "id": "2ac72fa2",
   "metadata": {},
   "source": [
    "By the very definition of affine parameter, 5.2.19 is satisfied. So we just need to show that the legrangians are equivalent. \n",
    "\n",
    "The Euler-Lagrange equations are 5.2.5\n",
    "\n",
    "$$ \\frac{d}{d\\lambda} \\frac{\\partial L}{\\partial \\dot x^\\alpha} = \\frac{\\partial L}{\\partial x^\\alpha} $$\n",
    "\n",
    "As mentionedin the book, the right-hand side is zero since the L depends only on the velocities. This means we now have:\n",
    "\n",
    "$$ \\frac{d}{d\\lambda} \\frac12 g_{\\alpha\\beta} \\dot x^\\beta = 0 $$\n",
    "\n",
    "Alternatively\n",
    "\n",
    "$$ \\frac{d}{d\\lambda} L / x^\\alpha = 0 $$"
   ]
  },
  {
   "cell_type": "markdown",
   "id": "d126e8f6",
   "metadata": {},
   "source": [
    "By the product rule\n",
    "\n",
    "$$ \\Rightarrow \\frac12 g_{\\alpha\\beta} \\frac{d}{d\\lambda} \\dot x^\\beta +  \\frac12 \\dot x^\\beta \\frac{d}{d\\lambda} g_{\\alpha\\beta} +  \\frac12 \\dot x^\\beta g_{\\alpha\\beta} \\frac{1}{x^\\alpha} \\frac{d}{d\\lambda} x^\\alpha +  \\frac12 \\dot x^\\beta g_{\\alpha\\beta} x^\\alpha \\frac{d}{d\\lambda} \\frac{1}{x^\\alpha}= 0 $$\n",
    "\n",
    "$$ \\Rightarrow \\frac12 g_{\\alpha\\beta} \\ddot x^\\beta +  \\frac12 \\dot x^\\beta \\dot x^\\gamma g_{\\alpha\\beta,\\gamma} = 0 $$\n",
    "\n",
    "Multiply by 2\n",
    "\n",
    "$$ \\Rightarrow g_{\\alpha\\beta} \\ddot x^\\beta + \\dot x^\\beta \\dot x^\\gamma g_{\\alpha\\beta,\\gamma} = 0 $$"
   ]
  },
  {
   "cell_type": "markdown",
   "id": "264d9b42",
   "metadata": {},
   "source": [
    "Now we should apply the fact that L = constant to show the Christoffel symbol appear. The problem is we're not exactly sure how it was done in the *book...*\n",
    "\n",
    "Okay so we've found the step, that step is 5.2.16. It is not explained or shown how it is accomplisehd. The Method has been identified: L=const, therefore take the derivative with respect to the affine parameter and play around with indeces until you explode. \n",
    "\n",
    "We have determined the necessary condition to make the final symbol:\n",
    "\n",
    "$$ g_{\\alpha\\beta,\\gamma}\\dot x^\\alpha \\dot x^\\beta \\dot x^\\gamma = g_{\\alpha\\gamma,\\beta}\\dot x^\\alpha \\ddot x^\\beta - g_{\\gamma\\beta,\\alpha}\\ddot x^\\alpha \\dot x^\\beta $$\n",
    "\n",
    "Which is the same as saying\n",
    "\n",
    "$$ g_{\\alpha\\beta,\\gamma} = \\Gamma_{\\alpha\\beta\\gamma} $$"
   ]
  },
  {
   "cell_type": "markdown",
   "id": "54f59123",
   "metadata": {},
   "source": [
    "<a id='P3'></a>\n",
    "\n",
    "# Problem 3 \\[Back to [top](#toc)\\]\n",
    "$$\\label{P3}$$\n",
    "\n",
    "*The metric of two-dimensional Euclidean space is $ds^2 = dr^2 + r^2 d\\phi^2$, leading to the Lagrangian $L = \\frac12 (\\dot r^2 + r^2 \\dot \\phi^2)$. Show that the equations of moition of a test particle are $\\ddot r - r\\dot\\phi^2 = 0; r^2\\dot\\phi = const$. (Taking $\\lambda=t$, we recognize the usual Newtonian equations in empty space.*"
   ]
  },
  {
   "cell_type": "markdown",
   "id": "fa1540bb",
   "metadata": {},
   "source": [
    "The metric can be translated to \n",
    "\n",
    "$$ \\begin{pmatrix}\n",
    "1 & 0 \\\\\n",
    "0 & r^2 \\\\\n",
    "\\end{pmatrix} $$"
   ]
  },
  {
   "cell_type": "markdown",
   "id": "b3848828",
   "metadata": {},
   "source": [
    "Now we can recalculate the christoffel symbols... or just look them up in the GR text for radial coordiantes. $\\Gamma^r_{\\theta\\theta} = -r; \\Gamma^\\theta_{r\\theta} = \\Gamma^\\theta_{\\theta r} = 1/r; else=0$"
   ]
  },
  {
   "cell_type": "markdown",
   "id": "59cce859",
   "metadata": {},
   "source": [
    "Test particles are \"free falling\" and follow geodesics. Using the geodesic equatin (which is shown in **Problem 2**) we derive the following relations:\n",
    "\n",
    "$$ \\ddot r -r \\dot \\phi^2 = 0$$\n",
    "$$ \\ddot \\phi + \\frac2r \\dot r \\dot \\phi = 0$$"
   ]
  },
  {
   "cell_type": "markdown",
   "id": "d0432084",
   "metadata": {},
   "source": [
    "Now the first one is already one of the equations we're seeking. The second one, however, is not, and while it might be useful we still need to find the other one. Given the nature of the book, we need to use the momentum. Specifically, if L is independent of one of the coordinates... it is in fact independent of r. Thus, we use 5.2.22:\n",
    "\n",
    "$$ p_\\alpha = \\frac{\\partial L}{\\partial \\dot x^\\alpha} $$\n",
    "\n",
    "Now if we take this with respect to r, we get:\n",
    "\n",
    "$$ const = r\\dot \\phi^2 $$\n",
    "\n",
    "Not what we want. Try the other one. \n",
    "\n",
    "$$ p_\\alpha = g_{\\alpha\\beta}\\dot x^\\beta = r^2 \\dot\\phi$$\n",
    "\n",
    "And there it is. \n",
    "\n",
    "It occurs to us that perhaps we prefer not working relativity from Lagrangian mechanics. "
   ]
  },
  {
   "cell_type": "markdown",
   "id": "42286549",
   "metadata": {},
   "source": [
    "<a id='P4'></a>\n",
    "\n",
    "# Problem 4 \\[Back to [top](#toc)\\]\n",
    "$$\\label{P4}$$\n",
    "\n",
    "*Show that $p_\\alpha = \\vec p \\cdot \\vec e_\\alpha$*\n",
    "\n",
    "*Hint: expand $\\vec p = p^\\beta \\vec e_\\beta$*"
   ]
  },
  {
   "cell_type": "markdown",
   "id": "d40c726f",
   "metadata": {},
   "source": [
    "Trivial.\n",
    "\n",
    "$$ \\vec p \\cdot \\vec e_\\alpha = p^\\beta \\vec e_\\beta \\cdot \\vec e_\\alpha = p^\\beta g_{\\alpha\\beta} = p_\\alpha$$"
   ]
  },
  {
   "cell_type": "markdown",
   "id": "d4cbc4df",
   "metadata": {},
   "source": [
    "<a id='P5'></a>\n",
    "\n",
    "# Problem 5 \\[Back to [top](#toc)\\]\n",
    "$$\\label{P5}$$\n",
    "\n",
    "*Show that inside a uniform density star $(\\rho = constant)$,*\n",
    "\n",
    "$$ \\frac{P}{\\rho} = \\frac{\\sqrt{1-2Mr^2/R^3}-\\sqrt{1-2M/R}}{3\\sqrt{1-2M/R} - \\sqrt{1-2Mr^2/R^3}} $$\n",
    "\n",
    "$$ e^\\Phi = \\frac32 \\sqrt{1-\\frac{2M}{R}} - \\frac12 \\sqrt{1-\\frac{2Mr^2}{R^3}} $$\n",
    "\n",
    "*Show that the condition $P_c < \\infty$ implies $\\frac{2M}{R} < \\frac89$. The limit given by 5.7.13 (the inequality above) for the maximum \"compaction\" of a uniform density equilibrium sphere applies, in fact, to spheres of arbitrary density profile, as long as the density does not increase outwards.*"
   ]
  },
  {
   "cell_type": "markdown",
   "id": "85fc5d13",
   "metadata": {},
   "source": [
    "Trying to refer to thermodynamics seems pointless, let's jsut do it with what we have. WE know that the energy density is always constant. However, P itself, the pressire, ranges from 0 at the edge of the star (r=R) to some actual finite value in the core of the star. \n",
    "\n",
    "We would very much like to know what P is in the center of the star. The book says the equation of state will give us that simply from knowing the energy density. We don't trust that from our work. However, we do have bounds on our integral for certain: P=0 at r=R. \n",
    "\n",
    "...At this point we decided that we didn't study enough about star models to even do this. "
   ]
  },
  {
   "cell_type": "code",
   "execution_count": null,
   "id": "ec4bbf16",
   "metadata": {},
   "outputs": [],
   "source": []
  },
  {
   "cell_type": "markdown",
   "id": "df50096e",
   "metadata": {},
   "source": [
    "<a id='latex_pdf_output'></a>\n",
    "\n",
    "# Addendum: Output this notebook to $\\LaTeX$-formatted PDF file \\[Back to [top](#toc)\\]\n",
    "$$\\label{latex_pdf_output}$$\n",
    "\n",
    "The following code cell converts this Jupyter notebook into a proper, clickable $\\LaTeX$-formatted PDF file. After the cell is successfully run, the generated PDF may be found in the root NRPy+ tutorial directory, with filename\n",
    "[CO-05.pdf](CO-05.pdf) (Note that clicking on this link may not work; you may need to open the PDF file through another means.)\n",
    "\n",
    "**Important Note**: Make sure that the file name is right in all six locations, two here in the Markdown, four in the code below. \n",
    "\n",
    "* CO-05.pdf\n",
    "* CO-05.ipynb\n",
    "* CO-05.tex"
   ]
  },
  {
   "cell_type": "code",
   "execution_count": 1,
   "id": "abf583ef",
   "metadata": {
    "scrolled": false
   },
   "outputs": [
    {
     "name": "stdout",
     "output_type": "stream",
     "text": [
      "Created CO-05.tex, and compiled LaTeX file to PDF file CO-05.pdf\n"
     ]
    }
   ],
   "source": [
    "import cmdline_helper as cmd    # NRPy+: Multi-platform Python command-line interface\n",
    "cmd.output_Jupyter_notebook_to_LaTeXed_PDF(\"CO-05\")"
   ]
  },
  {
   "cell_type": "code",
   "execution_count": null,
   "id": "d0d0db4d",
   "metadata": {},
   "outputs": [],
   "source": []
  },
  {
   "cell_type": "code",
   "execution_count": null,
   "id": "41264965",
   "metadata": {},
   "outputs": [],
   "source": []
  }
 ],
 "metadata": {
  "kernelspec": {
   "display_name": "Python 3 (ipykernel)",
   "language": "python",
   "name": "python3"
  },
  "language_info": {
   "codemirror_mode": {
    "name": "ipython",
    "version": 3
   },
   "file_extension": ".py",
   "mimetype": "text/x-python",
   "name": "python",
   "nbconvert_exporter": "python",
   "pygments_lexer": "ipython3",
   "version": "3.10.4"
  }
 },
 "nbformat": 4,
 "nbformat_minor": 5
}
