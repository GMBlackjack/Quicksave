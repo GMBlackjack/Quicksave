{
 "cells": [
  {
   "cell_type": "markdown",
   "id": "0c1bfe81",
   "metadata": {},
   "source": [
    "# Compact Objects Problems Chapter 13: Compact X-Ray Sources\n",
    "\n",
    "## Authors: Gabriel M Steward"
   ]
  },
  {
   "cell_type": "markdown",
   "id": "479540e4",
   "metadata": {},
   "source": [
    "https://github.com/zachetienne/nrpytutorial/blob/master/Tutorial-Template_Style_Guide.ipynb\n",
    "\n",
    "Link to the Style Guide. Not internal in case something breaks. "
   ]
  },
  {
   "cell_type": "markdown",
   "id": "10780970",
   "metadata": {},
   "source": [
    "### </list_source_code> NRPy+ Source Code for this module:\n",
    "None! ...well except for the pdf thing at the bottom.\n",
    "\n",
    "## Introduction:\n",
    "As if black holes weren't cool enough, now we're going to see how they emit when interacting with matter. \n",
    "\n",
    "## </other>  Other (Optional): \n",
    "Placeholder\n",
    "\n",
    "### Note on Notation:\n",
    "Any new notation will be brought up in the notebook when it becomes relevant. \n",
    "\n",
    "### Citations:\n",
    "\n",
    "<a id='1'></a>\n",
    "[1] http://hyperphysics.phy-astr.gsu.edu/hbase/quantum/wien3.html (Blackbody radiation peak)\n",
    "\n",
    "<a id='2'></a>\n",
    "[2] https://www.wolframalpha.com/widgets/view.jsp?id=a7d8ae4569120b5bec12e7b6e9648b86 (Polynomial roots)\n",
    "\n",
    "<a id='3'></a>\n",
    "[3] https://en.wikipedia.org/wiki/Steradian steradians."
   ]
  },
  {
   "cell_type": "markdown",
   "id": "56664bc2",
   "metadata": {},
   "source": [
    "<a id='toc'></a>\n",
    "\n",
    "# Table of Contents\n",
    "$$\\label{toc}$$\n",
    "\n",
    "[Problem 1](#P1) (Spinning Neutron Star Emitter)\n",
    "\n",
    "[Problem 2](#P2) (Neutron Star Emission Lines, Skipped)\n",
    "\n",
    "[Problem 3](#P3) (Cygnus X-1 Mass Estimations)\n",
    "\n",
    "[Problem 4](#P4) (Cygnus X-1 Mass Estimations again, Skipped)\n",
    "\n",
    "[Problem 5](#P5) (Power law x-ray emission, general formula outlined, not evaluated)\n",
    "\n",
    "[Problem 6](#P6) (Simple Accretion)\n",
    "\n",
    "[Problem 7](#P7) (Stellar Critical Luminosity, skipped)\n",
    "\n",
    "[Problem 8](#P8) (Flux escape percentage. Part b) incomplete)\n",
    "\n",
    "[Problem 9](#P9) (Burst Power)\n",
    "\n",
    "[Problem 10](#P10) (Supernova Survival, Skipped)\n",
    "\n",
    "[PDF](#latex_pdf_output) (turn this into a PDF)"
   ]
  },
  {
   "cell_type": "markdown",
   "id": "cd9e5529",
   "metadata": {},
   "source": [
    "<a id='P1'></a>\n",
    "\n",
    "# Problem 1 \\[Back to [top](#toc)\\]\n",
    "$$\\label{P1}$$\n",
    "\n",
    "*Show that the above luminosity is far too high to be furnished by the rotational kinetic energy of a neutron star.*\n",
    "\n",
    "Not about black holes but seems simple enough and I'm curious. The luminosity we get is 1e37 erg/s over 2-24 keV. The upper mass estimate for this neutron star is 2 solar masses, so its rotational kinetic energy would be L = $\\frac12 I \\omega^2$ with I being $\\frac25 MR^2$. Neutron stars have radii on the order of 5km, or 5000m, and the mass for Her X-1 is approximately 2 solar masses, or 3.978e30 kg. Thus the total moment of inertia is a whopping 3.978e37. This thing has a *ton* of rotational kinetic energy, and that's not even taking into accout how fast it's going!\n",
    "\n",
    "1e37 erg/s needs to be converted to J/s, about 1e29 J/s. The extremely quick and dirty \"what if it lost all of this energy at ocne?\" doesn't work though, which means we have to determine a time scale or select a rotation rate. Well, we actually have a rotation rate! Her X-1 has the pulsation period of 1.24 seconds, which corresponds to the neutron star. This is 5.067 radians per second. So now we can *solve* for the time. \n",
    "\n",
    "$$ 1e29 t = 1.989e37 (5.067)^2 $$\n",
    "\n",
    "$$ t = 5.107e9 s $$\n",
    "\n",
    "This is how long it would take to use up *all* of its rotational kinetic energy. This would last about 159 years. While this may seem reasonable at first, this is *way* too fast for observations of the rotational period *to not change*. At the time of the publication of Compact Objects observations had been being made for 11 years. By rotational kinetic energy this should have exausted 6.9% of it already. That would definitely be noticable and the period would no longer be 1.24 seconds. So rotational kinetic energy alone cannot account for it. "
   ]
  },
  {
   "cell_type": "markdown",
   "id": "86cf3115",
   "metadata": {},
   "source": [
    "<a id='P2'></a>\n",
    "\n",
    "# Problem 2 \\[Back to [top](#toc)\\]\n",
    "$$\\label{P2}$$\n",
    "\n",
    "Problem about Neutron Star Emission lines, seems irrelevant and uses concepts we do not know. Skipped."
   ]
  },
  {
   "cell_type": "markdown",
   "id": "7833fb7d",
   "metadata": {},
   "source": [
    "<a id='P3'></a>\n",
    "\n",
    "# Problem 3 \\[Back to [top](#toc)\\]\n",
    "$$\\label{P3}$$\n",
    "\n",
    "*From model atmosphere calculations of Auer and Mihalas, Mauder has estimated that the surface gravity of HDE 226868 is*\n",
    "\n",
    "$$ g = \\frac{GM}{R^2} = 1.6e3 cm/s = 16 m/s $$\n",
    "\n",
    "*Use f and R from 13.5.1 and 13.5.11 to set a lower limit on M_2*"
   ]
  },
  {
   "cell_type": "markdown",
   "id": "f7704ed1",
   "metadata": {},
   "source": [
    "13.5.11 gives $R^2 = (6.62e6 km)^2 (d/1 kpc)^2$\n",
    "\n",
    "13.5.1 meanwhile is f = $\\frac{(M_2 sini)^3}{(M_1+M_2)^2} = 0.252$\n",
    "\n",
    "So basically we find $M_1$ then put a bound on i to find $M_2$"
   ]
  },
  {
   "cell_type": "markdown",
   "id": "02fabb79",
   "metadata": {},
   "source": [
    "Fortunately we already have an estimate for the distance d in the form of 2 kpc, so that gives us $R^2$ rather easily to be: 1.753e14 $km^2$ = 1.753e20 m^2. This results in 4.202e31 kg of mass. Which isabout 21.1 solar masses. Which is what an OB supergiant should be. \n",
    "\n",
    "The book sets sini to 1 so we'll do that here. This just results in the cubic equaiton:\n",
    "\n",
    "$$ 0 = 112.193 + 10.634 M_2 + 0.252 M_2^2 - M_2^3 $$\n",
    "\n",
    "Which we will hand over to the computer.There is actually only one solution at $M_2 \\approx 5.65 M_\\odot$. Which rounds to the 5.7 we were supposed to get. "
   ]
  },
  {
   "cell_type": "markdown",
   "id": "27089f2c",
   "metadata": {},
   "source": [
    "<a id='P4'></a>\n",
    "\n",
    "# Problem 4 \\[Back to [top](#toc)\\]\n",
    "$$\\label{P4}$$\n",
    "\n",
    "Seems like it's similar to **Problem 3** except more complicated, and **Problem 3** wasn't all that illuminating. Skipped. "
   ]
  },
  {
   "cell_type": "markdown",
   "id": "1bca7937",
   "metadata": {},
   "source": [
    "<a id='P5'></a>\n",
    "\n",
    "# Problem 5 \\[Back to [top](#toc)\\]\n",
    "$$\\label{P5}$$\n",
    "\n",
    "*Use the power law fits to the soft and hard X-ray data for Cyg X-1 as shown in fig 13.9 to calculate:*\n",
    "\n",
    "*a) The soft X-ray (1-20 keV) luminosity L in erg/s when Xyg X-1 is in teh high and low states, respectively.*"
   ]
  },
  {
   "cell_type": "markdown",
   "id": "6871c0dc",
   "metadata": {},
   "source": [
    "The table gives us low and high state values of:\n",
    "\n",
    "LOW: $\\alpha = 0.85, A = 4.72$\n",
    "HIGH: $\\alpha = 1.21, A=7.49 $\n",
    "\n",
    "From this we can set up symbolic integral via 13.5.20\n",
    "\n",
    "$$ \\int_{\\nu_1}^{\\nu_2} \\frac{dL}{dE} dE = \\int_{\\nu_1}^{\\nu_2} 4\\pi d^2 AE^{-\\alpha} dE $$\n",
    "\n",
    "$$ \\Rightarrow L|_{\\nu_1}^{\\nu_2} = \\int_{\\nu_1}^{\\nu_2} 4\\pi d^2 AE^{-\\alpha} dE $$\n",
    "\n",
    "$$ \\Rightarrow L|_{\\nu_1}^{\\nu_2} = 4\\pi d^2 A \\left( \\frac{\\nu_2^{-\\alpha+1}- \\nu_1^{-\\alpha+1}}{-\\alpha+1}\\right)  $$"
   ]
  },
  {
   "cell_type": "markdown",
   "id": "5795d4b0",
   "metadata": {},
   "source": [
    "With this formula the luminosity can be calulated in over any range for any values of $\\alpha$, A, and d. \n",
    "\n",
    "However we aren't going to waste time actually doing this as it will involve a lot of unit conversions and arithmetic that will be better spent elsewhere. But this equation should, in theory, cover for everything for parts a) through c). "
   ]
  },
  {
   "cell_type": "markdown",
   "id": "4f84e3ce",
   "metadata": {},
   "source": [
    "*b) The hard X-ray (20-250 keV) luminosity in the high and low states.*"
   ]
  },
  {
   "cell_type": "markdown",
   "id": "0a167dd4",
   "metadata": {},
   "source": [
    "See a)"
   ]
  },
  {
   "cell_type": "markdown",
   "id": "255a118d",
   "metadata": {},
   "source": [
    "*c) The total luminosity from 1-250 keV in both states. Assume a distance of 2.5 kpc.*"
   ]
  },
  {
   "cell_type": "markdown",
   "id": "637047fa",
   "metadata": {},
   "source": [
    "See a) "
   ]
  },
  {
   "cell_type": "markdown",
   "id": "9176b661",
   "metadata": {},
   "source": [
    "<a id='P6'></a>\n",
    "\n",
    "# Problem 6 \\[Back to [top](#toc)\\]\n",
    "$$\\label{P6}$$\n",
    "\n",
    "*Repeat the above naive calculations for spherical accretion onto a white dwarf and comment on the differences.*"
   ]
  },
  {
   "cell_type": "markdown",
   "id": "31b12bf4",
   "metadata": {},
   "source": [
    "The efficiency of radiation due to accretion is 13.7.2, $\\frac{GM}{Rc^2}$. White dwarf masses are roughly one solar mass, and white dwarf radii are roughtly 5000 km. Throwing all this in a calculator, we get... $\\epsilon = 2.952e-4$. Which, well, is nothing to sneeze, at, but that's 0.0003 compared to the Neutron star's 0.1. \n",
    "\n",
    "The equation for the blackbody radiation is $L_x = 4\\pi R_x^2 \\sigma T^4_bb $ $\\sigma$ is 5.67e-8, a constant that we just have to know. Let's assume L to be that of the observed X-ray source, 1e37 erg/s or 1e29 J/s. Evaluating this gives a temperature of 2.737e5. From [1](#1) we find that this refers to a peak of 10.5 nm. UV peak, though admittedly the tail end of UV. \n",
    "\n",
    "Anyway the required accretion rate for the observed luminosity is $L=G\\dot M M / R$, which for us gives an accretion rate of 1.895-15 solar masses. a SECOND. in years, this is 6e-8. A full order of magnitude more than the neutron star. So actually not entirely unreasonable.\n",
    "\n",
    "That said the fact that we emit in the UV is the big killer on white dwarfs being X-ray sources. "
   ]
  },
  {
   "cell_type": "markdown",
   "id": "1260b828",
   "metadata": {},
   "source": [
    "<a id='P7'></a>\n",
    "\n",
    "# Problem 7 \\[Back to [top](#toc)\\]\n",
    "$$\\label{P7}$$\n",
    "\n",
    "Skipping as we lack the thermodynamic background to solve, but restating the problem as it's observations are somewhat important to accretion. \n",
    "\n",
    "*Show that the same limit 13.7.6 applies for the luminosity of massive stars supported in hydrostatic equliibrium by radiation pressure. Assumet hat the optical depth is sufficiently large that the radiation flux may be calculated in the diffusion approximation, 4.1.1 (A chapter we did not do) andt hat thomson scattering is the doinant opacity source.*"
   ]
  },
  {
   "cell_type": "markdown",
   "id": "c0263835",
   "metadata": {},
   "source": [
    "<a id='P8'></a>\n",
    "\n",
    "# Problem 8 \\[Back to [top](#toc)\\]\n",
    "$$\\label{P8}$$\n",
    "\n",
    "*a) Define the \"observed blackbody radius\" of a burster to be*\n",
    "\n",
    "$$ R_\\infty = d\\left( \\frac{F_\\infty}{\\sigma T_\\infty^4} \\right)^{1/2} $$\n",
    "\n",
    "*Use **Problem 11.10** and 13.7.3 to show that c=G=1)*\n",
    "\n",
    "$$ R_\\infty = R\\left( 1-\\frac{2M}{R}\\right)^{-1/2} $$\n",
    "\n",
    "*Where R is the actual radius in Schwarzchild coordinates.*"
   ]
  },
  {
   "cell_type": "markdown",
   "id": "1027de2c",
   "metadata": {},
   "source": [
    "Despite this problem refering to chapters and problems we have not done, it *does* deal with a black hole concept of the angle of escape. So we shall do our best to evaluate it. \n",
    "\n",
    "13.7.3 is blackbody radiation emitted, $L_x = 4\\pi R_x^2 \\sigma T_{bb}^4$ A quick adjustment of this produces $L_\\infty = 4\\pi R_\\infty^2 \\sigma T_\\infty^4$ \n",
    "\n",
    "**Problem 11.10** we take as already being solved, which gives the following relations: $L_\\infty = L(-g_{00}), T_\\infty = T(-g_{00})^{1/2}$ Where the metric is the Schwarzchild metric. "
   ]
  },
  {
   "cell_type": "markdown",
   "id": "fddeba36",
   "metadata": {},
   "source": [
    "First off, we can solve for the temperature rather easily. \n",
    "\n",
    "$$ T_\\infty^4 = T^4 \\left( 1-\\frac{2M}{R} \\right)^2 $$\n",
    "\n",
    "Which means we can already say:\n",
    "\n",
    "$$ R_\\infty = \\frac{d F_\\infty^{1/2}}{T^2 \\left( 1-\\frac{2M}{R} \\right) \\sigma^{1/2}} $$"
   ]
  },
  {
   "cell_type": "markdown",
   "id": "e322e596",
   "metadata": {},
   "source": [
    "Reminder that flux is $F = L/4\\pi d^2$. This gets us:\n",
    "\n",
    "$$ \\Rightarrow R_\\infty = \\frac{d L_\\infty^{1/2}}{2 \\pi^{1/2} d T^2 \\left( 1-\\frac{2M}{R} \\right) \\sigma^{1/2}} $$\n",
    "$$ \\Rightarrow R_\\infty = \\frac{L_\\infty^{1/2}}{2 \\pi^{1/2} T^2 \\left( 1-\\frac{2M}{R} \\right) \\sigma^{1/2}} $$\n",
    "\n",
    "The next obvious step would be converting L, but that results in an R=R result, which is unhelpful. All it confirms is that 13.7.9 is true, which is good to know, but we want a different relation.So we convert luminosity the OTHER way, with the metric. \n",
    "\n",
    "$$ \\Rightarrow R_\\infty = \\frac{L^{1/2}\\left(1-\\frac{GM}{R}\\right)^{1/2}}{2 \\pi^{1/2} T^2 \\left( 1-\\frac{2M}{R} \\right) \\sigma^{1/2}} $$\n",
    "\n",
    "$$ \\Rightarrow R_\\infty = \\frac{L^{1/2}}{2 \\pi^{1/2} T^2 \\left( 1-\\frac{2M}{R} \\right)^{1/2} \\sigma^{1/2}} $$\n"
   ]
  },
  {
   "cell_type": "markdown",
   "id": "dfb8c5ea",
   "metadata": {},
   "source": [
    "We have the term we need, but we now need to show that $\\frac{L^{1/2}}{2 \\pi^{1/2} T^2 \\sigma^{1/2}} = R$ which, guess what, we acutally CAN do. NOW we do the substitution that resulted in R=R...$L = 4\\pi R^2 \\sigma T^4$. This clearly cancels everything except R itself, and so...\n",
    "\n",
    "$$ \\Rightarrow R_\\infty = \\frac{R}{ \\left( 1-\\frac{2M}{R} \\right)^{1/2}} $$\n",
    "\n",
    "Which was our goal from the start. "
   ]
  },
  {
   "cell_type": "markdown",
   "id": "6fef8b62",
   "metadata": {},
   "source": [
    "*b) Now suppose that 2M<R<3M. Then only photons with an angle $\\psi$ of the radial direction escape to infinity, where $\\psi$ is given in **Problem 12.14**. Show that for isotropic emission, the fraction of flux that escapes is $sin^2\\psi$ and hence that $R_\\infty = 3\\sqrt{3} M, 2M < R < 3M.$ Are Neutron stars with radii in this range allowed? Hint: See **Problem 5.5**.*"
   ]
  },
  {
   "cell_type": "markdown",
   "id": "a5ed69fb",
   "metadata": {},
   "source": [
    "**Problem 12.14** is one we did, with the result being escape only occurs if $sin\\psi < \\frac{3\\sqrt{3} M}{r}\\left( 1-\\frac{2M}{r} \\right)^{1/2}$. The thing is, different percentages of the flux escape depending on where they're being emitted FROM. 2M would have essentially zero, while 3M would have essentially a hundred percent. Fortunatley, we're able to treat R as a constant here, as we're assuming emission from the surface. \n",
    "\n",
    "The fraction of photon number emitted changes like $sin\\psi$, however the trig functions don't relate directly to probability. 0 radians is 0%, $\\pi/2$ is 100%, $\\pi/4$ is 50%. However, 25% should be $\\pi/8$, but the given relation suggests it should be $\\pi/6.$ How does that make any sense? It seems like the scale should be a simple ratio of the angle, $\\frac{2\\psi}{\\pi}$ gives what *seems* to be the right behavior, though admittedly $sin^2\\psi$ does follow it closely. \n",
    "\n",
    "THE ANSWER: we emit over a SPHERE not a CIRCLE. Circular radiation, yes, woudl do this, but we have an emission CONE. What we need is the surface area of a sphere ranging from 0 to some angle $\\psi$. Or we can just convert from radians to steradians. There are $2\\pi$ radians in a circle, and the sphere has $4\\pi$ steradians. The conversion can be found via [3](#3) as $\\Omega = 2\\pi(1-cos\\psi) = 4\\pi sin^2(\\psi/2)$.\n",
    "\n",
    "Now our relation is slightly different, as we're over a HALF sphere, which means we have to be a little careful, the \"percentage\" of the total would be divided by $2\\pi$ steradians, so we have:\n",
    "\n",
    "$$2 sin^2(\\psi/2)$$\n",
    "\n",
    "However this does NOT scale to $sin^2(\\psi)$ What's wrong?\n",
    "\n",
    "Well what's wrong is that while we are in fact integrating over a hemisphere at every single point, the flux is the SPHERICAL emission. This hemisphere is repeated over the entire surface *of* the sphere. Each point produces that much flux, but there's a spherical \"number\" of them. See, every emitter is only covering half of the sky, so in reality there's another emitter on the other side of the sphere covering the other half of the sky. "
   ]
  },
  {
   "cell_type": "markdown",
   "id": "ac8d2a90",
   "metadata": {},
   "source": [
    "(assuming step is true)"
   ]
  },
  {
   "cell_type": "markdown",
   "id": "5d75707e",
   "metadata": {},
   "source": [
    "Now we need to show that, no matter what, the apparent radius is $3\\sqrt{3}M$. Which is going to involve some \"funky math\" and invovle us going back to part a) and proving the relation again at the flux substitution step. \n",
    "\n",
    "$$ sin^2\\psi = (3\\sqrt{3}M)^2 \\frac{1}{r^2} \\left( 1 - \\frac{2M}{r} \\right) $$"
   ]
  },
  {
   "cell_type": "markdown",
   "id": "75308bfc",
   "metadata": {},
   "source": [
    "$$ R_\\infty = \\frac{d F_\\infty^{1/2}}{T^2 \\left( 1-\\frac{2M}{R} \\right) \\sigma^{1/2}} $$\n",
    "\n",
    "$$ \\Rightarrow R_\\infty = \\frac{L_\\infty^{1/2} \\frac{3\\sqrt{3} M}{r}\\left( 1-\\frac{2M}{r} \\right)^{1/2}}{2 \\pi^{1/2} T^2 \\left( 1-\\frac{2M}{R} \\right) \\sigma^{1/2}} $$\n",
    "\n",
    "Let r=R. Probably should have done this earlier. \n",
    "\n",
    "$$ \\Rightarrow R_\\infty = \\frac{R \\frac{3\\sqrt{3} M}{R}\\left( 1-\\frac{2M}{r} \\right)^{1/2}}{ \\left( 1-\\frac{2M}{R} \\right)^{1/2}} $$\n",
    "\n",
    "$$ \\Rightarrow R_\\infty = 3\\sqrt{3} M $$"
   ]
  },
  {
   "cell_type": "markdown",
   "id": "44714241",
   "metadata": {},
   "source": [
    "**Problem 5** shows that $\\frac{2M}{R} < \\frac89$ is the maximum compaction of a uniform density equilibrium sphere which is, more or less, the neturon star density. Otherwise, Bad Things Happen. (black holes most likely). The relation for 2M/R we \"observe at infinity\" is $\\frac{2}{3\\sqrt{3}}$. This is perfectly fine. however... that is OBSERVED radius, not ACTUAL radius. For that, we need the relation from part a).\n",
    "\n",
    "Solving for actual R we have\n",
    "\n",
    "$$ 3\\sqrt{3} M = \\frac{R}{ \\left( 1-\\frac{2M}{R} \\right)^{1/2}} $$\n",
    "\n",
    "Which becomes an eerily familiar polynomial.\n",
    "\n",
    "$$ 27M^2R-54M^3-R^3 = 0 $$\n",
    "\n",
    "However this one is easier to solve since we don't have the trig function in the middle of it. There are two roots from [2](#2) : -6M and 3M. Naturally the positive one is the result. So an object of radius 3M. 2/3 is still less than 8/9, so this is still at least marginally viable. \n",
    "\n",
    "Notably actual neutron stars have 1.5-2 times the schwarzchild radius, according to a quick google search, so the realistic values are in fact 3M-4M. Neat. \n",
    "\n",
    "Notably instability occurs at 2.25 M. \n",
    "\n",
    "...NOTE: doing the polynomial substitution is actually incorrect because we had to *re-derive* the relation to get the result we wanted. 2M - 3M radii ruin the neat and easy relation of the observed radius to actual radius, it only works at the 3M end, which is why we got a specific value. The conclusion is still the same, though, R=2.25M is where instability happens, but the OBSERVED radius is always the same. "
   ]
  },
  {
   "cell_type": "markdown",
   "id": "d4f60d10",
   "metadata": {},
   "source": [
    "<a id='P9'></a>\n",
    "\n",
    "# Problem 9 \\[Back to [top](#toc)\\]\n",
    "$$\\label{P9}$$\n",
    "\n",
    "*The average power in Tpe II bursts from the Rapid Burster is about 130 times that in Type I bursts from this source. What does this suggest for accretion driven isntabilities vs. thermonuclear flashes for the origin of Type II bursts?*\n",
    "\n"
   ]
  },
  {
   "cell_type": "markdown",
   "id": "7106bbfd",
   "metadata": {},
   "source": [
    "13.7.12 gives the ratio of itme averaged energy for thermonuclear flashes as $ 100 \\frac{M}{M_\\odot} \\frac{10km}{R}$. Well, the mass of a neutron star caps around somewhere around 3, and the radius about 5km. So we get an upper limit of 600 in the nuclear flash model, while type I flashes are usually around 100.\n",
    "\n",
    "The Type II burst is releasing 13,000, roughly, FAR too large to be thermonuclear flashes. So it is much more likely to be accretion based. "
   ]
  },
  {
   "cell_type": "markdown",
   "id": "192ef067",
   "metadata": {},
   "source": [
    "<a id='P10'></a>\n",
    "\n",
    "# Problem 10 \\[Back to [top](#toc)\\]\n",
    "$$\\label{P10}$$\n",
    "\n",
    "Skipped, is about the survival of binary star systems after supernovae."
   ]
  },
  {
   "cell_type": "markdown",
   "id": "df50096e",
   "metadata": {},
   "source": [
    "<a id='latex_pdf_output'></a>\n",
    "\n",
    "# Addendum: Output this notebook to $\\LaTeX$-formatted PDF file \\[Back to [top](#toc)\\]\n",
    "$$\\label{latex_pdf_output}$$\n",
    "\n",
    "The following code cell converts this Jupyter notebook into a proper, clickable $\\LaTeX$-formatted PDF file. After the cell is successfully run, the generated PDF may be found in the root NRPy+ tutorial directory, with filename\n",
    "[CO-13.pdf](CO-13.pdf) (Note that clicking on this link may not work; you may need to open the PDF file through another means.)\n",
    "\n",
    "**Important Note**: Make sure that the file name is right in all six locations, two here in the Markdown, four in the code below. \n",
    "\n",
    "* CO-13.pdf\n",
    "* CO-13.ipynb\n",
    "* CO-13.tex"
   ]
  },
  {
   "cell_type": "code",
   "execution_count": 1,
   "id": "abf583ef",
   "metadata": {
    "scrolled": false
   },
   "outputs": [
    {
     "name": "stdout",
     "output_type": "stream",
     "text": [
      "Created CO-13.tex, and compiled LaTeX file to PDF file CO-13.pdf\n"
     ]
    }
   ],
   "source": [
    "import cmdline_helper as cmd    # NRPy+: Multi-platform Python command-line interface\n",
    "cmd.output_Jupyter_notebook_to_LaTeXed_PDF(\"CO-13\")"
   ]
  },
  {
   "cell_type": "code",
   "execution_count": null,
   "id": "d0d0db4d",
   "metadata": {},
   "outputs": [],
   "source": []
  },
  {
   "cell_type": "code",
   "execution_count": null,
   "id": "41264965",
   "metadata": {},
   "outputs": [],
   "source": []
  }
 ],
 "metadata": {
  "kernelspec": {
   "display_name": "Python 3 (ipykernel)",
   "language": "python",
   "name": "python3"
  },
  "language_info": {
   "codemirror_mode": {
    "name": "ipython",
    "version": 3
   },
   "file_extension": ".py",
   "mimetype": "text/x-python",
   "name": "python",
   "nbconvert_exporter": "python",
   "pygments_lexer": "ipython3",
   "version": "3.10.4"
  }
 },
 "nbformat": 4,
 "nbformat_minor": 5
}
