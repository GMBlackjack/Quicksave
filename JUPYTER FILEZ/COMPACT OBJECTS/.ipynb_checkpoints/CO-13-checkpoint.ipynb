{
 "cells": [
  {
   "cell_type": "markdown",
   "id": "0c1bfe81",
   "metadata": {},
   "source": [
    "# Compact Objects Problems Chapter 13: Compact X-Ray Sources\n",
    "\n",
    "## Authors: Gabriel M Steward"
   ]
  },
  {
   "cell_type": "markdown",
   "id": "479540e4",
   "metadata": {},
   "source": [
    "https://github.com/zachetienne/nrpytutorial/blob/master/Tutorial-Template_Style_Guide.ipynb\n",
    "\n",
    "Link to the Style Guide. Not internal in case something breaks. "
   ]
  },
  {
   "cell_type": "markdown",
   "id": "10780970",
   "metadata": {},
   "source": [
    "### </list_source_code> NRPy+ Source Code for this module:\n",
    "None! ...well except for the pdf thing at the bottom.\n",
    "\n",
    "## Introduction:\n",
    "As if black holes weren't cool enough, now we're going to see how they emit when interacting with matter. \n",
    "\n",
    "## </other>  Other (Optional): \n",
    "Placeholder\n",
    "\n",
    "### Note on Notation:\n",
    "Any new notation will be brought up in the notebook when it becomes relevant. \n",
    "\n",
    "### Citations:\n",
    "\n",
    "<a id='1'></a>\n",
    "[1] http://hyperphysics.phy-astr.gsu.edu/hbase/quantum/wien3.html (Blackbody radiation peak)"
   ]
  },
  {
   "cell_type": "markdown",
   "id": "56664bc2",
   "metadata": {},
   "source": [
    "<a id='toc'></a>\n",
    "\n",
    "# Table of Contents\n",
    "$$\\label{toc}$$\n",
    "\n",
    "[Problem 1](#P1) (Spinning Neutron Star Emitter)\n",
    "\n",
    "[Problem 2](#P2) (Neutron Star Emission Lines, Skipped)\n",
    "\n",
    "[Problem 3](#P3) (Cygnus X-1 Mass Estimations)\n",
    "\n",
    "[Problem 4](#P4) (Cygnus X-1 Mass Estimations again, Skipped)\n",
    "\n",
    "[Problem 5](#P5) (Power law x-ray emission, general formula outlined, not evaluated)\n",
    "\n",
    "[Problem 6](#P6) (Simple Accretion)\n",
    "\n",
    "[PDF](#latex_pdf_output) (turn this into a PDF)"
   ]
  },
  {
   "cell_type": "markdown",
   "id": "cd9e5529",
   "metadata": {},
   "source": [
    "<a id='P1'></a>\n",
    "\n",
    "# Problem 1 \\[Back to [top](#toc)\\]\n",
    "$$\\label{P1}$$\n",
    "\n",
    "*Show that the above luminosity is far too high to be furnished by the rotational kinetic energy of a neutron star.*\n",
    "\n",
    "Not about black holes but seems simple enough and I'm curious. The luminosity we get is 1e37 erg/s over 2-24 keV. The upper mass estimate for this neutron star is 2 solar masses, so its rotational kinetic energy would be L = $\\frac12 I \\omega^2$ with I being $\\frac25 MR^2$. Neutron stars have radii on the order of 5km, or 5000m, and the mass for Her X-1 is approximately 2 solar masses, or 3.978e30 kg. Thus the total moment of inertia is a whopping 3.978e37. This thing has a *ton* of rotational kinetic energy, and that's not even taking into accout how fast it's going!\n",
    "\n",
    "1e37 erg/s needs to be converted to J/s, about 1e29 J/s. The extremely quick and dirty \"what if it lost all of this energy at ocne?\" doesn't work though, which means we have to determine a time scale or select a rotation rate. Well, we actually have a rotation rate! Her X-1 has the pulsation period of 1.24 seconds, which corresponds to the neutron star. This is 5.067 radians per second. So now we can *solve* for the time. \n",
    "\n",
    "$$ 1e29 t = 1.989e37 (5.067)^2 $$\n",
    "\n",
    "$$ t = 5.107e9 s $$\n",
    "\n",
    "This is how long it would take to use up *all* of its rotational kinetic energy. This would last about 159 years. While this may seem reasonable at first, this is *way* too fast for observations of the rotational period *to not change*. At the time of the publication of Compact Objects observations had been being made for 11 years. By rotational kinetic energy this should have exausted 6.9% of it already. That would definitely be noticable and the period would no longer be 1.24 seconds. So rotational kinetic energy alone cannot account for it. "
   ]
  },
  {
   "cell_type": "markdown",
   "id": "86cf3115",
   "metadata": {},
   "source": [
    "<a id='P2'></a>\n",
    "\n",
    "# Problem 2 \\[Back to [top](#toc)\\]\n",
    "$$\\label{P2}$$\n",
    "\n",
    "Problem about Neutron Star Emission lines, seems irrelevant and uses concepts we do not know. Skipped."
   ]
  },
  {
   "cell_type": "markdown",
   "id": "7833fb7d",
   "metadata": {},
   "source": [
    "<a id='P3'></a>\n",
    "\n",
    "# Problem 3 \\[Back to [top](#toc)\\]\n",
    "$$\\label{P3}$$\n",
    "\n",
    "*From model atmosphere calculations of Auer and Mihalas, Mauder has estimated that the surface gravity of HDE 226868 is*\n",
    "\n",
    "$$ g = \\frac{GM}{R^2} = 1.6e3 cm/s = 16 m/s $$\n",
    "\n",
    "*Use f and R from 13.5.1 and 13.5.11 to set a lower limit on M_2*"
   ]
  },
  {
   "cell_type": "markdown",
   "id": "f7704ed1",
   "metadata": {},
   "source": [
    "13.5.11 gives $R^2 = (6.62e6 km)^2 (d/1 kpc)^2$\n",
    "\n",
    "13.5.1 meanwhile is f = $\\frac{(M_2 sini)^3}{(M_1+M_2)^2} = 0.252$\n",
    "\n",
    "So basically we find $M_1$ then put a bound on i to find $M_2$"
   ]
  },
  {
   "cell_type": "markdown",
   "id": "02fabb79",
   "metadata": {},
   "source": [
    "Fortunately we already have an estimate for the distance d in the form of 2 kpc, so that gives us $R^2$ rather easily to be: 1.753e14 $km^2$ = 1.753e20 m^2. This results in 4.202e31 kg of mass. Which isabout 21.1 solar masses. Which is what an OB supergiant should be. \n",
    "\n",
    "The book sets sini to 1 so we'll do that here. This just results in the cubic equaiton:\n",
    "\n",
    "$$ 0 = 112.193 + 10.634 M_2 + 0.252 M_2^2 - M_2^3 $$\n",
    "\n",
    "Which we will hand over to the computer.There is actually only one solution at $M_2 \\approx 5.65 M_\\odot$. Which rounds to the 5.7 we were supposed to get. "
   ]
  },
  {
   "cell_type": "markdown",
   "id": "27089f2c",
   "metadata": {},
   "source": [
    "<a id='P4'></a>\n",
    "\n",
    "# Problem 4 \\[Back to [top](#toc)\\]\n",
    "$$\\label{P4}$$\n",
    "\n",
    "Seems like it's similar to **Problem 3** except more complicated, and **Problem 3** wasn't all that illuminating. Skipped. "
   ]
  },
  {
   "cell_type": "markdown",
   "id": "1bca7937",
   "metadata": {},
   "source": [
    "<a id='P5'></a>\n",
    "\n",
    "# Problem 5 \\[Back to [top](#toc)\\]\n",
    "$$\\label{P5}$$\n",
    "\n",
    "*Use the power law fits to the soft and hard X-ray data for Cyg X-1 as shown in fig 13.9 to calculate:*\n",
    "\n",
    "*a) The soft X-ray (1-20 keV) luminosity L in erg/s when Xyg X-1 is in teh high and low states, respectively.*"
   ]
  },
  {
   "cell_type": "markdown",
   "id": "6871c0dc",
   "metadata": {},
   "source": [
    "The table gives us low and high state values of:\n",
    "\n",
    "LOW: $\\alpha = 0.85, A = 4.72$\n",
    "HIGH: $\\alpha = 1.21, A=7.49 $\n",
    "\n",
    "From this we can set up symbolic integral via 13.5.20\n",
    "\n",
    "$$ \\int_{\\nu_1}^{\\nu_2} \\frac{dL}{dE} dE = \\int_{\\nu_1}^{\\nu_2} 4\\pi d^2 AE^{-\\alpha} dE $$\n",
    "\n",
    "$$ \\Rightarrow L|_{\\nu_1}^{\\nu_2} = \\int_{\\nu_1}^{\\nu_2} 4\\pi d^2 AE^{-\\alpha} dE $$\n",
    "\n",
    "$$ \\Rightarrow L|_{\\nu_1}^{\\nu_2} = 4\\pi d^2 A \\left( \\frac{\\nu_2^{-\\alpha+1}- \\nu_1^{-\\alpha+1}}{-\\alpha+1}\\right)  $$"
   ]
  },
  {
   "cell_type": "markdown",
   "id": "5795d4b0",
   "metadata": {},
   "source": [
    "With this formula the luminosity can be calulated in over any range for any values of $\\alpha$, A, and d. \n",
    "\n",
    "However we aren't going to waste time actually doing this as it will involve a lot of unit conversions and arithmetic that will be better spent elsewhere. But this equation should, in theory, cover for everything for parts a) through c). "
   ]
  },
  {
   "cell_type": "markdown",
   "id": "4f84e3ce",
   "metadata": {},
   "source": [
    "*b) The hard X-ray (20-250 keV) luminosity in the high and low states.*"
   ]
  },
  {
   "cell_type": "markdown",
   "id": "0a167dd4",
   "metadata": {},
   "source": [
    "See a)"
   ]
  },
  {
   "cell_type": "markdown",
   "id": "255a118d",
   "metadata": {},
   "source": [
    "*c) The total luminosity from 1-250 keV in both states. Assume a distance of 2.5 kpc.*"
   ]
  },
  {
   "cell_type": "markdown",
   "id": "637047fa",
   "metadata": {},
   "source": [
    "See a) "
   ]
  },
  {
   "cell_type": "markdown",
   "id": "9176b661",
   "metadata": {},
   "source": [
    "<a id='P6'></a>\n",
    "\n",
    "# Problem 6 \\[Back to [top](#toc)\\]\n",
    "$$\\label{P6}$$\n",
    "\n",
    "*Repeat the above naive calculations for spherical accretion onto a white dwarf and comment on the differences.*"
   ]
  },
  {
   "cell_type": "markdown",
   "id": "31b12bf4",
   "metadata": {},
   "source": [
    "The efficiency of radiation due to accretion is 13.7.2, $\\frac{GM}{Rc^2}$. White dwarf masses are roughly one solar mass, and white dwarf radii are roughtly 5000 km. Throwing all this in a calculator, we get... $\\epsilon = 2.952e-4$. Which, well, is nothing to sneeze, at, but that's 0.0003 compared to the Neutron star's 0.1. \n",
    "\n",
    "The equation for the blackbody radiation is $L_x = 4\\pi R_x^2 \\sigma T^4_bb $ $\\sigma$ is 5.67e-8, a constant that we just have to know. Let's assume L to be that of the observed X-ray source, 1e37 erg/s or 1e29 J/s. Evaluating this gives a temperature of 2.737e5. From [1](#1) we find that this refers to a peak of 10.5 nm. UV peak, though admittedly the tail end of UV. \n",
    "\n",
    "Anyway the required accretion rate for the observed luminosity is $L=G\\dot M M / R$, which for us gives an accretion rate of 1.895-15 solar masses. a SECOND. in years, this is 6e-8. A full order of magnitude more than the neutron star. So actually not entirely unreasonable.\n",
    "\n",
    "That said the fact that we emit in the UV is the big killer on white dwarfs being X-ray sources. "
   ]
  },
  {
   "cell_type": "markdown",
   "id": "df50096e",
   "metadata": {},
   "source": [
    "<a id='latex_pdf_output'></a>\n",
    "\n",
    "# Addendum: Output this notebook to $\\LaTeX$-formatted PDF file \\[Back to [top](#toc)\\]\n",
    "$$\\label{latex_pdf_output}$$\n",
    "\n",
    "The following code cell converts this Jupyter notebook into a proper, clickable $\\LaTeX$-formatted PDF file. After the cell is successfully run, the generated PDF may be found in the root NRPy+ tutorial directory, with filename\n",
    "[CO-13.pdf](CO-13.pdf) (Note that clicking on this link may not work; you may need to open the PDF file through another means.)\n",
    "\n",
    "**Important Note**: Make sure that the file name is right in all six locations, two here in the Markdown, four in the code below. \n",
    "\n",
    "* CO-13.pdf\n",
    "* CO-13.ipynb\n",
    "* CO-13.tex"
   ]
  },
  {
   "cell_type": "code",
   "execution_count": 1,
   "id": "abf583ef",
   "metadata": {
    "scrolled": false
   },
   "outputs": [
    {
     "name": "stdout",
     "output_type": "stream",
     "text": [
      "Created CO-13.tex, and compiled LaTeX file to PDF file CO-13.pdf\n"
     ]
    }
   ],
   "source": [
    "import cmdline_helper as cmd    # NRPy+: Multi-platform Python command-line interface\n",
    "cmd.output_Jupyter_notebook_to_LaTeXed_PDF(\"CO-13\")"
   ]
  },
  {
   "cell_type": "code",
   "execution_count": null,
   "id": "d0d0db4d",
   "metadata": {},
   "outputs": [],
   "source": []
  },
  {
   "cell_type": "code",
   "execution_count": null,
   "id": "41264965",
   "metadata": {},
   "outputs": [],
   "source": []
  }
 ],
 "metadata": {
  "kernelspec": {
   "display_name": "Python 3 (ipykernel)",
   "language": "python",
   "name": "python3"
  },
  "language_info": {
   "codemirror_mode": {
    "name": "ipython",
    "version": 3
   },
   "file_extension": ".py",
   "mimetype": "text/x-python",
   "name": "python",
   "nbconvert_exporter": "python",
   "pygments_lexer": "ipython3",
   "version": "3.10.4"
  }
 },
 "nbformat": 4,
 "nbformat_minor": 5
}
