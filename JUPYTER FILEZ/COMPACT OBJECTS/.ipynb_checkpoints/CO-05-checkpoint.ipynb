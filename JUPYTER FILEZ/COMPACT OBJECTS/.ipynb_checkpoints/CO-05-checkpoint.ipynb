{
 "cells": [
  {
   "cell_type": "markdown",
   "id": "0c1bfe81",
   "metadata": {},
   "source": [
    "# Compact Objects Problems Chapter 5: General Relativity\n",
    "\n",
    "## Authors: Gabriel M Steward"
   ]
  },
  {
   "cell_type": "markdown",
   "id": "479540e4",
   "metadata": {},
   "source": [
    "https://github.com/zachetienne/nrpytutorial/blob/master/Tutorial-Template_Style_Guide.ipynb\n",
    "\n",
    "Link to the Style Guide. Not internal in case something breaks. "
   ]
  },
  {
   "cell_type": "markdown",
   "id": "10780970",
   "metadata": {},
   "source": [
    "### </list_source_code> NRPy+ Source Code for this module:\n",
    "None! ...well except for the pdf thing at the bottom.\n",
    "\n",
    "## Introduction:\n",
    "As we move our focus to Compact Objects, we perform a review of General Relativity to prove that we indeed know our stuff and that we also know the new book's notation. \n",
    "\n",
    "## </other>  Other (Optional): \n",
    "Placeholder\n",
    "\n",
    "### Note on Notation:\n",
    "Any new notation will be brought up in the notebook when it becomes relevant. \n",
    "\n",
    "### Citations:\n",
    "\n",
    "Thornton and Marion, Classical Dynamics of Particles and Systems, 5th edition. \n",
    "\n",
    "<a id='1'></a>\n",
    "[1] https://physics.stackexchange.com/questions/34366/time-taken-for-object-in-space-to-fall-to-earth (falling time)\n",
    "\n",
    "<a id='2'></a>\n",
    "[2] https://www.wolframalpha.com/input?i=y%27%27+%3D+%284y%29%2F%289%28x-a%29%5E2%29 (diffyQ solver)"
   ]
  },
  {
   "cell_type": "markdown",
   "id": "56664bc2",
   "metadata": {},
   "source": [
    "<a id='toc'></a>\n",
    "\n",
    "# Table of Contents\n",
    "$$\\label{toc}$$\n",
    "\n",
    "[A Reveiw](#P0) (A reveiw of Lagrangian Dynamics)\n",
    "\n",
    "[Problem 1](#P1) (Test Particles Falling in Lines, should be much simpler than this)\n",
    "\n",
    "[Problem 2](#P2) (Affine parameters and the geodesic equation, incomplete)\n",
    "\n",
    "[Problem 3](#P3) (Radial coordinates)\n",
    "\n",
    "[Problem 4](#P4) (Generalized momentum)\n",
    "\n",
    "[Problem 5](#P5) (Stellar model, incomplete)\n",
    "\n",
    "[PDF](#latex_pdf_output) (turn this into a PDF)"
   ]
  },
  {
   "cell_type": "markdown",
   "id": "51ac139d",
   "metadata": {},
   "source": [
    "<a id='P0'></a>\n",
    "\n",
    "# A Review \\[Back to [top](#toc)\\]\n",
    "$$\\label{P0}$$\n",
    "\n",
    "It has become increasingly obvious that Lagrangian Dynamics is fundamental to the study of Compact Objects, so here we state the basic notes of it and Hamiltonian Dynamics as a refresher. \n",
    "\n",
    "L = T - U, where T is the kinetic energy and U is the potential energy. The Lagrangian is L, and its most useful equation is:\n",
    "\n",
    "$$ \\frac{\\partial L}{\\partial x_i} - \\frac{d}{dt} \\frac{\\partial L}{\\partial \\dot x_i} = 0 $$\n",
    "\n",
    "Keep in mind that the coordinates are completely general. Cartesian, spherical, it doesn't matter, it still works. This can be adjusted to include constraint equations:\n",
    "\n",
    "$$ \\frac{\\partial L}{\\partial x_i} - \\frac{d}{dt} \\frac{\\partial L}{\\partial \\dot x_i} + \\sum_k \\lambda_k(t) \\frac{\\partial f_k}{\\partial x_i} = 0 $$\n",
    "\n",
    "Where f is a constraint and k is the index describing which constraint it is. We can actually relate this to the forces. \n",
    "\n",
    "$$ Q_j = \\sum_k \\lambda_k(t) \\frac{\\partial f_k}{\\partial x_j} $$\n",
    "\n",
    "Related to the Lagrangian is the Hamiltonian, H = T+U, which is (usually) the total energy, but not always. It can be used to derive several momentum relations. \n",
    "\n",
    "$$ p_i = \\frac{\\partial L}{\\partial \\dot x_i} $$\n",
    "\n",
    "$$ \\dot p_j = \\frac{\\partial L}{\\partial x_j} $$\n",
    "\n",
    "$$ \\dot x_k = \\frac{\\partial H}{\\partial p_k} $$\n",
    "\n",
    "$$ -\\dot p_k = \\frac{\\partial H}{\\partial x_k} $$\n",
    "\n",
    "And then we can relate L and H together.\n",
    "\n",
    "$$ H = \\sum_j p_j \\dot x_j - L $$\n",
    "\n",
    "$$ -\\frac{\\partial L}{\\partial t} = \\frac{\\partial H}{\\partial t}$$\n",
    "\n",
    "$$ \\frac{dH}{dt} = \\frac{\\partial H}{\\partial t} $$"
   ]
  },
  {
   "cell_type": "markdown",
   "id": "cd9e5529",
   "metadata": {},
   "source": [
    "<a id='P1'></a>\n",
    "\n",
    "# Problem 1 \\[Back to [top](#toc)\\]\n",
    "$$\\label{P1}$$\n",
    "\n",
    "*Consider two particles of mass m at distances r and r+h (h<<r) on the same vertical line from the center of the Earth. The particles fall freely from rest at time t=0 towards the Earth's surface. Show that an observer falling with one particle will see the separation between the particles gradually increase. Translate this into a quantitative statement about the observer's local inertial frame. In particular, determine the time at which the effects of spacetime curvature will become apparent if measurements can be made to a precision of $\\delta h_{min}$*\n",
    "\n",
    "The qualitative response is easy: the \"force\" of gravity pulls harder on things closer in than ones further away, so if two particles start at rest, the one further down will in fact start accelerating faster than the one higher up. The questoin is, how to formulate this precisely. "
   ]
  },
  {
   "cell_type": "markdown",
   "id": "f0314045",
   "metadata": {},
   "source": [
    "Attempting to solve this with Newtonian dynamics had mixed effects, so as you can probably tell from the above section we're going to try Lagrangian instead to get the exact answer. \n",
    "\n",
    "Our initial conditions are simple: v(0) = 0, x(0) = r (or r+h for particle 2). This means the kinetic energy also starts at zero. \n",
    "\n",
    "The potentail energy for each particle is U = -GMm/r, with r being the individual particle's distance. So we can write out the full Lagrangian as:\n",
    "\n",
    "$$ L = \\frac12 mv_1^2 + \\frac12 mv_2^2 + \\frac{GMm}{x_1} + \\frac{GMm}{x_2} $$"
   ]
  },
  {
   "cell_type": "markdown",
   "id": "d168eeb7",
   "metadata": {},
   "source": [
    "We consider the two positions of the particles to be our only coordinates. Note that this Lagrangian is done from the perspective of the Earth or some stationary observer, we'll need to transform into the lower particle's reference later. (But since this is Earth there will be no relativistic concerns in said transformation.) \n",
    "\n",
    "The particle mass divides out in every derivative situation, giving us in the end...\n",
    "\n",
    "$$ \\frac{\\partial L}{\\partial x_i} - \\frac{d}{dt} \\frac{\\partial L}{\\partial \\dot x_i} = -\\frac{GM}{x_1^2} - \\frac{d}{dt} v_1 = -\\frac{GM}{x_1^2} - a_1 = 0 $$\n",
    "\n",
    "$$ \\frac{\\partial L}{\\partial x_i} - \\frac{d}{dt} \\frac{\\partial L}{\\partial \\dot x_i} = -\\frac{GM}{x_2^2} - \\frac{d}{dt} v_2 = -\\frac{GM}{x_2^2} - a_2 = 0 $$\n",
    "\n",
    "This implies acceleration is negative which, yes, it is. Of course this kind of tells us something we already knew. \n",
    "\n",
    "$$ a_i = -\\frac{GM}{x_i^2} $$\n",
    "\n",
    "...Which still leaves us with the same overly complicated equations of previous work. Since the differential equation doesn't appear to have a nice simple solution. "
   ]
  },
  {
   "cell_type": "markdown",
   "id": "f556ee87",
   "metadata": {},
   "source": [
    "Trying to reparameterize the Lagrangian to be in the point of view of the original particle would involve the perceived kinetic energy of the Earth. Which is an absurd consideration. However we still can write down the perceived acceleration of the higher particle from the perspective of the lower one by simply using Netwonian acceleraiton additions. \n",
    "\n",
    "$$ a_{perceived} = GM\\left( - \\frac{1}{(r+h)^2} + \\frac{1}{r^2} \\right) $$\n",
    "\n",
    "Naturally this is a positive value, which confirms what we originally thought. The acceleration increases the distance between the two particles. That said, it is notably not a constant acceleration and will be changing as r does. This is effectively the value of $\\ddot h$\n",
    "\n",
    "Wait! We are given h << r, so we can use this to make an APPROXIMATION! Maybe we can get our fractions here to add together in such a way that the rs cancel, leaving only the h... This does occur if we taylor expand around h=0, the first order approximation becomes:\n",
    "\n",
    "$$ \\ddot h = GM\\left( - \\frac{1}{r^2} + \\frac{2h}{r^3} + \\frac{1}{r^2} \\right) = GM\\left( \\frac{2h}{r^3} \\right) $$"
   ]
  },
  {
   "cell_type": "markdown",
   "id": "a6a672e8",
   "metadata": {},
   "source": [
    "Ah, now this might work. (Discovery: this is essentially already shown in 5.1.21... an equation given AFTER the problem statement.) Inserting our work in the non-Legrangian to find r as a function of time...\n",
    "\n",
    "Time to play with the differential equations. \n",
    "\n",
    "$$\\frac{d^2r}{dt^2} = -\\frac{GM}{r^2}$$\n",
    "\n",
    "So as it turns out this is very much not a trivial differential equation to solve. So we had to look it up. [1](#1). Its worthwhile to write out the derivation in full. We have to be careful and watch for our initial conditions. v(0) is 0, but r(0) has a value. \n",
    "\n",
    "$$ \\frac{dv}{dt} = -\\frac{GM}{r^2} $$\n",
    "$$ \\Rightarrow \\frac{dv}{dt} v = -\\frac{GM}{r^2} v $$\n",
    "$$ \\Rightarrow \\int \\frac{dv}{dt} v dt = \\int -\\frac{GM}{r^2} \\frac{dr}{dt} dt $$\n",
    "$$ \\Rightarrow \\int v dv = \\int -\\frac{GM}{r^2} dr $$\n",
    "$$ \\Rightarrow v^2/2 = \\frac{GM}{r}$$\n",
    "$$ \\Rightarrow v = \\sqrt{\\frac{2GM}{r}}$$\n",
    "$$ \\Rightarrow \\sqrt{r} dr = \\sqrt{2GM} dt $$\n",
    "$$ \\Rightarrow \\frac23 r^{3/2} = \\sqrt{2GM}t $$\n",
    "$$ \\Rightarrow r^{3/2} = \\frac32 \\sqrt{2GM}t $$\n",
    "$$ \\Rightarrow r = ^3\\sqrt{\\frac92 GMt^2} $$"
   ]
  },
  {
   "cell_type": "markdown",
   "id": "cbdc21f0",
   "metadata": {},
   "source": [
    "Keep in mind that this has t=0 set to the moment the particle hits the center of the Earth. At t=0 we want a specific r, one we choose. This is going to involve a shift of (t-dt), though the exact value of dt depends on the initial r (let's call it R) that we want. \n",
    "\n",
    "$$ R = ^3\\sqrt{\\frac92 GM} (t-dt)^{2/3} $$\n",
    "\n",
    "Set t=0 and solve. \n",
    "\n",
    "$$ dt = R^{3/2}\\sqrt{\\frac29 \\frac{1}{GM}} $$\n",
    "\n",
    "And so \n",
    "\n",
    "$$  r = ^3\\sqrt{\\frac92 GM(t-R^{3/2}\\sqrt{\\frac29 \\frac{1}{GM}})^2} $$"
   ]
  },
  {
   "cell_type": "markdown",
   "id": "ecd0b519",
   "metadata": {},
   "source": [
    "Which we insert into our approximation to achieve:\n",
    "\n",
    "$$ \\ddot h = GM\\left( \\frac{2h}{\\frac92 GM(t-R^{3/2}\\sqrt{\\frac29 \\frac{1}{GM}})^2} \\right)$$\n",
    "$$ = \\frac{4h}{9(t-R^{3/2}\\sqrt{\\frac29 \\frac{1}{GM}})^2} $$\n",
    "$$ = \\frac{4h}{9(t-\\delta t)^2} $$\n",
    "\n",
    "Maybe this differential equation can be solved without a nightmare? Yes! [2](#2) gives us all we need, saying that the solution is \n",
    "\n",
    "$$ h = c_1 (t-\\delta t)^{4/3} + \\frac{c_2}{^3\\sqrt{t - \\delta t}} $$"
   ]
  },
  {
   "cell_type": "markdown",
   "id": "2ec8a7e5",
   "metadata": {},
   "source": [
    "Now, we do actually have initial conditions, we just don't know the specifics of the original separation h, but we can just call it \"h\". However, we have TWO unknown constants here--but we also know that the \"velocity\" of h starts out at zero. So let's take the time derivative and see what happens to it.\n",
    "\n",
    "$$ \\dot h = c_1 \\frac43 (-\\delta t)^{1/3} + c_2 (-\\frac13) (-\\delta t)^{-4/3} = 0$$\n",
    "$$ \\Rightarrow  c_1 \\frac43 (-\\delta t)^{1/3} = c_2 \\frac13 (-\\delta t)^{-4/3} $$\n",
    "$$ \\Rightarrow  c_1 4 (-\\delta t)^{5/3} = c_2  $$\n",
    "\n",
    "Which we can substitute back in to get...\n",
    "\n",
    "$$ h = c_1 (-\\delta t)^{4/3} + c_1 4 (-\\delta t)^{4/3} $$\n",
    "$$ \\Rightarrow h = 5 c_1 (-\\delta t)^{4/3} $$\n",
    "$$ \\Rightarrow c_1 = \\frac{h}{5(-\\delta t)^{4/3}} $$\n",
    "\n",
    "Which means the total solution is:\n",
    "\n",
    "$$ h_t = \\frac{h_0}{5(-\\delta t)^{4/3}} (t-\\delta t)^{4/3} + 4\\frac{h_0}{5}(-\\delta t)^{1/3}(t - \\delta t)^{-1/3}$$"
   ]
  },
  {
   "cell_type": "markdown",
   "id": "4a715c5d",
   "metadata": {},
   "source": [
    "now. All we have to do. Is find the t which makes $h_t = 2h_0$. That is it. If only this were simple... but it is doable. Note that by controlling t we adjust a fraction on both sides of the relation, specifically a fraction of cube roots. Thus, we can write out our relation with A being the cube root fraction like...\n",
    "\n",
    "$$ 2h_0 = \\frac{h_0}{5} A^4 + 4\\frac{h_0}{5}\\frac{1}{A}$$\n",
    "$$ \\Rightarrow 0 = A^5 - 10A + 4$$"
   ]
  },
  {
   "cell_type": "markdown",
   "id": "fbf842f5",
   "metadata": {},
   "source": [
    "Where we look for realistic roots. There are three of them: one is negative and not worth our time. One is greater than one which would imply that we've already passed through the center of the Earth. However, there is a positive one between 0 and 1... about 0.4. That said we are still looking for an EXACT answer so let's go find a root finder. \n",
    "\n",
    "...Well everything we tested implies that the root is irrational so 0.4 it is. \n",
    "\n",
    "So A=0.4 This is the ratio of the cube roots, so...\n",
    "\n",
    "$$ ^3\\sqrt{\\frac{t-\\delta t}{-\\delta t}} = 0.4$$\n",
    "\n",
    "$$ \\Rightarrow t = -\\delta t 0.064 + \\delta t$$\n",
    "\n",
    "$$ \\Rightarrow t = 0.936 \\delta t$$\n",
    "\n",
    "$$ \\Rightarrow t = 0.936 R^{3/2}\\sqrt{\\frac29 \\frac{1}{GM}}$$"
   ]
  },
  {
   "cell_type": "markdown",
   "id": "3af7996b",
   "metadata": {},
   "source": [
    "And you know what, we'll take it. \n",
    "\n",
    "The odd realization here is that since our resolution is *tied* to the initial start size of the separation, the point where it becomes noticable is not related to the original size of the separation. It's more directly tied to how far away the particles are from the planet. Also, we note that since the equation realtes it to $\\delta t$, this is actually more closely related to how close to the center of the Earth the first particle is. (Though keep in mind this is 93% of the TIME it experiences, not 93% of the distance.) After 93% time has elapsed, the distance between them has doubled, so long as h << R. \n",
    "\n",
    "Which is very sensible the curvature really shouldn't be that notiable and the difference between the force of gravity on two very close together particles is immensely insignificant. \n",
    "\n",
    "Naturally it is to be expected that 3x or more distance between them is not even possible--back before we actually solved this we made graphs to prove a solution existed, and while 2x was crossed in the calculations, we had a clear cap of how far apart they were at the end (which changed depending on the parameters, admittedly).\n",
    "\n",
    "We can finally move on."
   ]
  },
  {
   "cell_type": "markdown",
   "id": "cea98d9a",
   "metadata": {},
   "source": [
    "<a id='P2'></a>\n",
    "\n",
    "# Problem 2 \\[Back to [top](#toc)\\]\n",
    "$$\\label{P2}$$\n",
    "\n",
    "*Show that, with $\\lambda$ taken to be an affine parameter, the Lagrangian*\n",
    "\n",
    "$$ L = \\frac12 g_{\\alpha\\beta} \\dot x^\\alpha \\dot x^\\beta$$\n",
    "\n",
    "*is an equivalent Lagrangian to 5.2.12 for geodesics; that is, show that the Euler-Lagrange equations for 5.2.21 give the same geodesic equaitons, except that now $\\lambda$ is no longer an arbitrary parameter and the condition L=const is built in to the variational principle.*"
   ]
  },
  {
   "cell_type": "markdown",
   "id": "d70517ce",
   "metadata": {},
   "source": [
    "5.2.12 is given by\n",
    "\n",
    "$$ L = \\sqrt{-g_{\\alpha\\beta} (x^\\gamma) \\dot x^\\alpha \\dot x^\\beta} $$"
   ]
  },
  {
   "cell_type": "markdown",
   "id": "82cdab69",
   "metadata": {},
   "source": [
    "Now we actually do remember from our relativity work that an *affine parameter* is one that satisfies the geodesic equation. In our old notation, thas can be thought of as:\n",
    "\n",
    "$$ \\frac{d^2x^\\alpha}{d\\lambda^2} + \\Gamma^\\alpha_{\\mu\\beta} \\frac{dx^\\mu}{d\\lambda} \\frac{dx^\\beta}{d\\lambda} = 0 $$"
   ]
  },
  {
   "cell_type": "markdown",
   "id": "a5a189cc",
   "metadata": {},
   "source": [
    "In our new notation, this is 5.2.19\n",
    "\n",
    "$$ \\ddot x^\\alpha + \\Gamma^\\alpha_{\\beta\\gamma} \\dot x^\\beta \\dot x^\\gamma = 0$$\n",
    "\n",
    "Of note 5.2.21 is just the equation given at the top. "
   ]
  },
  {
   "cell_type": "markdown",
   "id": "2ac72fa2",
   "metadata": {},
   "source": [
    "By the very definition of affine parameter, 5.2.19 is satisfied. So we just need to show that the legrangians are equivalent. \n",
    "\n",
    "The Euler-Lagrange equations are 5.2.5\n",
    "\n",
    "$$ \\frac{d}{d\\lambda} \\frac{\\partial L}{\\partial \\dot x^\\alpha} = \\frac{\\partial L}{\\partial x^\\alpha} $$\n",
    "\n",
    "As mentionedin the book, the right-hand side is zero since the L depends only on the velocities. This means we now have:\n",
    "\n",
    "$$ \\frac{d}{d\\lambda} \\frac12 g_{\\alpha\\beta} \\dot x^\\beta = 0 $$\n",
    "\n",
    "Alternatively\n",
    "\n",
    "$$ \\frac{d}{d\\lambda} L / x^\\alpha = 0 $$"
   ]
  },
  {
   "cell_type": "markdown",
   "id": "d126e8f6",
   "metadata": {},
   "source": [
    "By the product rule\n",
    "\n",
    "$$ \\Rightarrow \\frac12 g_{\\alpha\\beta} \\frac{d}{d\\lambda} \\dot x^\\beta +  \\frac12 \\dot x^\\beta \\frac{d}{d\\lambda} g_{\\alpha\\beta} +  \\frac12 \\dot x^\\beta g_{\\alpha\\beta} \\frac{1}{x^\\alpha} \\frac{d}{d\\lambda} x^\\alpha +  \\frac12 \\dot x^\\beta g_{\\alpha\\beta} x^\\alpha \\frac{d}{d\\lambda} \\frac{1}{x^\\alpha}= 0 $$\n",
    "\n",
    "$$ \\Rightarrow \\frac12 g_{\\alpha\\beta} \\ddot x^\\beta +  \\frac12 \\dot x^\\beta \\dot x^\\gamma g_{\\alpha\\beta,\\gamma} = 0 $$\n",
    "\n",
    "Multiply by 2\n",
    "\n",
    "$$ \\Rightarrow g_{\\alpha\\beta} \\ddot x^\\beta + \\dot x^\\beta \\dot x^\\gamma g_{\\alpha\\beta,\\gamma} = 0 $$"
   ]
  },
  {
   "cell_type": "markdown",
   "id": "264d9b42",
   "metadata": {},
   "source": [
    "Now we should apply the fact that L = constant to show the Christoffel symbol appear. The problem is we're not exactly sure how it was done in the *book...*\n",
    "\n",
    "Okay so we've found the step, that step is 5.2.16. It is not explained or shown how it is accomplisehd. The Method has been identified: L=const, therefore take the derivative with respect to the affine parameter and play around with indeces until you explode. \n",
    "\n",
    "We have determined the necessary condition to make the final symbol:\n",
    "\n",
    "$$ g_{\\alpha\\beta,\\gamma}\\dot x^\\alpha \\dot x^\\beta \\dot x^\\gamma = g_{\\alpha\\gamma,\\beta}\\dot x^\\alpha \\ddot x^\\beta - g_{\\gamma\\beta,\\alpha}\\ddot x^\\alpha \\dot x^\\beta $$\n",
    "\n",
    "Which is the same as saying\n",
    "\n",
    "$$ g_{\\alpha\\beta,\\gamma} = \\Gamma_{\\alpha\\beta\\gamma} $$\n",
    "\n",
    "What can we learn even though this problem isn't complete? Well, that there are multiple Lagrangians that can lead to the same result for the Christoffel Symbols and thus the same geodesics. \n",
    "\n",
    "Woke up fresh, tried to evaluate 5.2.13 by hand, a step earlier, and could not get it to resolve. Have spent an entire hour today trying to evaluate this step alone. We move on by virtue of this just taking too much time. "
   ]
  },
  {
   "cell_type": "markdown",
   "id": "54f59123",
   "metadata": {},
   "source": [
    "<a id='P3'></a>\n",
    "\n",
    "# Problem 3 \\[Back to [top](#toc)\\]\n",
    "$$\\label{P3}$$\n",
    "\n",
    "*The metric of two-dimensional Euclidean space is $ds^2 = dr^2 + r^2 d\\phi^2$, leading to the Lagrangian $L = \\frac12 (\\dot r^2 + r^2 \\dot \\phi^2)$. Show that the equations of moition of a test particle are $\\ddot r - r\\dot\\phi^2 = 0; r^2\\dot\\phi = const$. (Taking $\\lambda=t$, we recognize the usual Newtonian equations in empty space.*"
   ]
  },
  {
   "cell_type": "markdown",
   "id": "fa1540bb",
   "metadata": {},
   "source": [
    "The metric can be translated to \n",
    "\n",
    "$$ \\begin{pmatrix}\n",
    "1 & 0 \\\\\n",
    "0 & r^2 \\\\\n",
    "\\end{pmatrix} $$"
   ]
  },
  {
   "cell_type": "markdown",
   "id": "b3848828",
   "metadata": {},
   "source": [
    "Now we can recalculate the christoffel symbols... or just look them up in the GR text for radial coordiantes. $\\Gamma^r_{\\theta\\theta} = -r; \\Gamma^\\theta_{r\\theta} = \\Gamma^\\theta_{\\theta r} = 1/r; else=0$"
   ]
  },
  {
   "cell_type": "markdown",
   "id": "59cce859",
   "metadata": {},
   "source": [
    "Test particles are \"free falling\" and follow geodesics. Using the geodesic equatin (which is shown in **Problem 2**) we derive the following relations:\n",
    "\n",
    "$$ \\ddot r -r \\dot \\phi^2 = 0$$\n",
    "$$ \\ddot \\phi + \\frac2r \\dot r \\dot \\phi = 0$$"
   ]
  },
  {
   "cell_type": "markdown",
   "id": "d0432084",
   "metadata": {},
   "source": [
    "Now the first one is already one of the equations we're seeking. The second one, however, is not, and while it might be useful we still need to find the other one. Given the nature of the book, we need to use the momentum. Specifically, if L is independent of one of the coordinates... it is in fact independent of r. Thus, we use 5.2.22:\n",
    "\n",
    "$$ p_\\alpha = \\frac{\\partial L}{\\partial \\dot x^\\alpha} $$\n",
    "\n",
    "Now if we take this with respect to r, we get:\n",
    "\n",
    "$$ const = r\\dot \\phi^2 $$\n",
    "\n",
    "Not what we want. Try the other one. \n",
    "\n",
    "$$ p_\\alpha = g_{\\alpha\\beta}\\dot x^\\beta = r^2 \\dot\\phi$$\n",
    "\n",
    "And there it is. \n",
    "\n",
    "It occurs to us that perhaps we prefer not working relativity from Lagrangian mechanics. "
   ]
  },
  {
   "cell_type": "markdown",
   "id": "42286549",
   "metadata": {},
   "source": [
    "<a id='P4'></a>\n",
    "\n",
    "# Problem 4 \\[Back to [top](#toc)\\]\n",
    "$$\\label{P4}$$\n",
    "\n",
    "*Show that $p_\\alpha = \\vec p \\cdot \\vec e_\\alpha$*\n",
    "\n",
    "*Hint: expand $\\vec p = p^\\beta \\vec e_\\beta$*"
   ]
  },
  {
   "cell_type": "markdown",
   "id": "d40c726f",
   "metadata": {},
   "source": [
    "Trivial.\n",
    "\n",
    "$$ \\vec p \\cdot \\vec e_\\alpha = p^\\beta \\vec e_\\beta \\cdot \\vec e_\\alpha = p^\\beta g_{\\alpha\\beta} = p_\\alpha$$"
   ]
  },
  {
   "cell_type": "markdown",
   "id": "d4cbc4df",
   "metadata": {},
   "source": [
    "<a id='P5'></a>\n",
    "\n",
    "# Problem 5 \\[Back to [top](#toc)\\]\n",
    "$$\\label{P5}$$\n",
    "\n",
    "*Show that inside a uniform density star $(\\rho = constant)$,*\n",
    "\n",
    "$$ \\frac{P}{\\rho} = \\frac{\\sqrt{1-2Mr^2/R^3}-\\sqrt{1-2M/R}}{3\\sqrt{1-2M/R} - \\sqrt{1-2Mr^2/R^3}} $$\n",
    "\n",
    "$$ e^\\Phi = \\frac32 \\sqrt{1-\\frac{2M}{R}} - \\frac12 \\sqrt{1-\\frac{2Mr^2}{R^3}} $$\n",
    "\n",
    "*Show that the condition $P_c < \\infty$ implies $\\frac{2M}{R} < \\frac89$. The limit given by 5.7.13 (the inequality above) for the maximum \"compaction\" of a uniform density equilibrium sphere applies, in fact, to spheres of arbitrary density profile, as long as the density does not increase outwards.*"
   ]
  },
  {
   "cell_type": "markdown",
   "id": "85fc5d13",
   "metadata": {},
   "source": [
    "Trying to refer to thermodynamics seems pointless, let's jsut do it with what we have. WE know that the energy density is always constant. However, P itself, the pressire, ranges from 0 at the edge of the star (r=R) to some actual finite value in the core of the star. \n",
    "\n",
    "We would very much like to know what P is in the center of the star. The book says the equation of state will give us that simply from knowing the energy density. We don't trust that from our work. However, we do have bounds on our integral for certain: P=0 at r=R. \n",
    "\n",
    "...At this point we decided that we didn't study enough about star models to even do this. "
   ]
  },
  {
   "cell_type": "code",
   "execution_count": null,
   "id": "ec4bbf16",
   "metadata": {},
   "outputs": [],
   "source": []
  },
  {
   "cell_type": "markdown",
   "id": "df50096e",
   "metadata": {},
   "source": [
    "<a id='latex_pdf_output'></a>\n",
    "\n",
    "# Addendum: Output this notebook to $\\LaTeX$-formatted PDF file \\[Back to [top](#toc)\\]\n",
    "$$\\label{latex_pdf_output}$$\n",
    "\n",
    "The following code cell converts this Jupyter notebook into a proper, clickable $\\LaTeX$-formatted PDF file. After the cell is successfully run, the generated PDF may be found in the root NRPy+ tutorial directory, with filename\n",
    "[CO-05.pdf](CO-05.pdf) (Note that clicking on this link may not work; you may need to open the PDF file through another means.)\n",
    "\n",
    "**Important Note**: Make sure that the file name is right in all six locations, two here in the Markdown, four in the code below. \n",
    "\n",
    "* CO-05.pdf\n",
    "* CO-05.ipynb\n",
    "* CO-05.tex"
   ]
  },
  {
   "cell_type": "code",
   "execution_count": 1,
   "id": "abf583ef",
   "metadata": {
    "scrolled": false
   },
   "outputs": [
    {
     "name": "stdout",
     "output_type": "stream",
     "text": [
      "Created CO-05.tex, and compiled LaTeX file to PDF file CO-05.pdf\n"
     ]
    }
   ],
   "source": [
    "import cmdline_helper as cmd    # NRPy+: Multi-platform Python command-line interface\n",
    "cmd.output_Jupyter_notebook_to_LaTeXed_PDF(\"CO-05\")"
   ]
  },
  {
   "cell_type": "code",
   "execution_count": null,
   "id": "d0d0db4d",
   "metadata": {},
   "outputs": [],
   "source": []
  },
  {
   "cell_type": "code",
   "execution_count": null,
   "id": "41264965",
   "metadata": {},
   "outputs": [],
   "source": []
  }
 ],
 "metadata": {
  "kernelspec": {
   "display_name": "Python 3 (ipykernel)",
   "language": "python",
   "name": "python3"
  },
  "language_info": {
   "codemirror_mode": {
    "name": "ipython",
    "version": 3
   },
   "file_extension": ".py",
   "mimetype": "text/x-python",
   "name": "python",
   "nbconvert_exporter": "python",
   "pygments_lexer": "ipython3",
   "version": "3.10.4"
  }
 },
 "nbformat": 4,
 "nbformat_minor": 5
}
