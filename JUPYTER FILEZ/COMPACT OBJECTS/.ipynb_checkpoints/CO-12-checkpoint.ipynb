{
 "cells": [
  {
   "cell_type": "markdown",
   "id": "0c1bfe81",
   "metadata": {},
   "source": [
    "# Compact Objects Problems Chapter 12: Black Holes\n",
    "\n",
    "## Authors: Gabriel M Steward"
   ]
  },
  {
   "cell_type": "markdown",
   "id": "479540e4",
   "metadata": {},
   "source": [
    "https://github.com/zachetienne/nrpytutorial/blob/master/Tutorial-Template_Style_Guide.ipynb\n",
    "\n",
    "Link to the Style Guide. Not internal in case something breaks. "
   ]
  },
  {
   "cell_type": "markdown",
   "id": "10780970",
   "metadata": {},
   "source": [
    "### </list_source_code> NRPy+ Source Code for this module:\n",
    "None! ...well except for the pdf thing at the bottom.\n",
    "\n",
    "## Introduction:\n",
    "Ahem. \n",
    "\n",
    "Black Holes are cool.\n",
    "\n",
    "That is all.\n",
    "\n",
    "## </other>  Other (Optional): \n",
    "Placeholder\n",
    "\n",
    "### Note on Notation:\n",
    "Any new notation will be brought up in the notebook when it becomes relevant. \n",
    "\n",
    "### Citations:\n",
    "\n",
    "<a id='1'></a>\n",
    "[1] linky (descrip)"
   ]
  },
  {
   "cell_type": "markdown",
   "id": "56664bc2",
   "metadata": {},
   "source": [
    "<a id='toc'></a>\n",
    "\n",
    "# Table of Contents\n",
    "$$\\label{toc}$$\n",
    "\n",
    "[Problem 1](#P1) (Planck Density Fun)\n",
    "\n",
    "[Problem 2](#P2) (Infinite Redshift)\n",
    "\n",
    "[Problem 3](#P3) (Failure To Orbit)\n",
    "\n",
    "[Problem 4](#P4) (Taking a plunge, twice)\n",
    "\n",
    "[Problem 5](#P5) (Measurements, incomplete)\n",
    "\n",
    "[PDF](#latex_pdf_output) (turn this into a PDF)"
   ]
  },
  {
   "cell_type": "markdown",
   "id": "cd9e5529",
   "metadata": {},
   "source": [
    "<a id='P1'></a>\n",
    "\n",
    "# Problem 1 \\[Back to [top](#toc)\\]\n",
    "$$\\label{P1}$$\n",
    "\n",
    "*Construct a density by dimensional analysis out of c, G, and $\\hbar$. Evaluate numerically this \"Planck density\" at which quantum gravitational effects would become important.*\n",
    "\n",
    "c = 3e8 m/s\n",
    "\n",
    "G = 6.67e-11 $m^3$ / kg $s^2$\n",
    "\n",
    "$\\hbar$ = 1.055e-34 kg $m^2$ / s"
   ]
  },
  {
   "cell_type": "markdown",
   "id": "d97ddee5",
   "metadata": {},
   "source": [
    "The density composed of this would be $kg / m^3$. Now the method which we used to find this is something very odd but kind of cool. When combining various units together in dimensional analysis it is synonymous with considering how vectors span a space, with each exponent on a unit being a coefficient. Thus in m s kg units, we have the dimensionality of c as (1,-1,0), G as (3,-2,-1), and $\\hbar$ as (2,-1,1). We sought the linear combination that added to (-3,0,1), aka density. And by solving the resulting system of equations we found it at 5c - 2G - $\\hbar$. \n",
    "\n",
    "Aka $\\frac{c^5}{G^2\\hbar}$. \n",
    "\n",
    "Which produces roughly 5e96 $kg/m^3$. Which converts to roughtly 5e93 $g/cm^3$ which does in fact round to 1e94 as is suggested by the given answer. "
   ]
  },
  {
   "cell_type": "markdown",
   "id": "981fb8cc",
   "metadata": {},
   "source": [
    "<a id='P2'></a>\n",
    "\n",
    "# Problem 2 \\[Back to [top](#toc)\\]\n",
    "$$\\label{P2}$$\n",
    "\n",
    "*For an alternative derivation of hte redshift formula, uset he fact that E is constant along the photon's path to show that*\n",
    "\n",
    "$$ \\frac{\\nu_{em}}{\\nu_{rec}} = \\left( 1-\\frac{2M}{r_{em}} \\right)^{-1/2} $$\n",
    "\n",
    "*For a static emitter at r=$r_{em}$ and a receiver at r -> $\\infty$. Explain why the event horizon for a Schwarzchild black hole is sometimes called the \"surface of infinite redshift.\"*\n",
    "\n",
    "Last question first. See that when r=2M we end up with a 0 solution in the radical. Which is negative. Which is a division by zero. Oh noes, that's not good. \n",
    "\n",
    "In more mathematical terms the limit as r approachs 2M appraoches infinity for the equation we're trying to solve for, thus infinite redshift. (realistically photons emitted here can't escape so the infinite redshift never occurs.)\n",
    "\n",
    "Now let's actually derive this expression. "
   ]
  },
  {
   "cell_type": "markdown",
   "id": "0115cb10",
   "metadata": {},
   "source": [
    "Now E is supposedly the \"energy\" but energy is poorly defined in relativity, really it's the negative time-component of the four momentum, as seen in 12.4.8. \n",
    "\n",
    "$$ -p_t = \\left( 1-\\frac{2M}{r} \\right) \\dot t = E $$\n",
    "\n",
    "Now we know r is changing, this is true, so in order for the overall situation to be constant either M or $\\dot t$ has to be changing. M is not, so the rate at which we experience time must be adjusting. In fact, we can for this rate in both ends: emission is at r, and then we set r to infinity for the reception. This gives us:\n",
    "\n",
    "$$ \\left( 1-\\frac{2M}{r} \\right) \\dot t  = \\dot t' = p'^t$$"
   ]
  },
  {
   "cell_type": "markdown",
   "id": "dd03965b",
   "metadata": {},
   "source": [
    "The momentum of a photon is $h\\nu$. Which would seem to imply:\n",
    "\n",
    "$$ \\frac{\\nu_{em}}{\\nu_{rec}} = \\left( 1-\\frac{2M}{r_{em}} \\right)^{-1} $$\n",
    "\n",
    "Which has the correct *qualitative* behavior, but we're missing the root. So where does this come from? What we forgot to do was the corodinate transform on page 341, which tells us that:\n",
    "\n",
    "$$ E = \\sqrt{1-\\frac{2M}{r}} E_{local}$$"
   ]
  },
  {
   "cell_type": "markdown",
   "id": "955340e2",
   "metadata": {},
   "source": [
    "Which does in fact translate directly to what we want. The question of where does this come from and why wasn't our previous method correct is rather simple: we didn't consider the coordinate system where the photon STARTED. Obviously there needed to be a transform. AS we said when we started, energy is ill-defined, but the values can still be transformed. 12.4.9 gives the above almost directly, as E correlates directly to $h\\nu$. the h cancels, and the frequencies become the ratio. Tah-dah! \n",
    "\n",
    "Oh even better 5.3.3 gives the exact relation based on the metrics. "
   ]
  },
  {
   "cell_type": "markdown",
   "id": "d84d7fcf",
   "metadata": {},
   "source": [
    "<a id='P3'></a>\n",
    "\n",
    "# Problem 3 \\[Back to [top](#toc)\\]\n",
    "$$\\label{P3}$$\n",
    "\n",
    "*Show that the same observer at r finds that the tangential velocity of the particle satisfies*\n",
    "$$ v^\\hat{\\phi} = \\left( 1 - \\frac{2M}{r} \\right)^{1/2} \\frac{\\tilde l}{r\\tilde E} $$\n",
    "*So that $v^\\hat{\\phi} \\rightarrow 0$ as $r \\rightarrow 2M$*"
   ]
  },
  {
   "cell_type": "markdown",
   "id": "45752ba5",
   "metadata": {},
   "source": [
    "We finally realized what this is: the book gives r and $\\theta$ results, so we get to find $\\phi$ results. So let's just try to evaluate it, starting with...\n",
    "\n",
    "$$ v^{\\hat\\phi} = \\frac{p^{\\hat\\phi}}{p^{\\hat t}} $$\n",
    "\n",
    "Flipping the metric does nothing for a physial coordinate. \n",
    "\n",
    "$$ = \\frac{p_{\\hat\\phi}}{p^{\\hat t}} $$\n",
    "\n",
    "Bottom is local energy, top can be represented as a dot product. \n",
    "\n",
    "$$ = \\frac{\\vec p \\cdot \\vec e_{\\hat\\phi}}{E_{local}} $$\n",
    "\n",
    "The dot product can be converted to the other (non-hat) reference frame. ..and it turns out we're idiots, $\\phi$ was done, $\\theta$ was not done because it was kept constant. Either way, the conversion is...\n",
    "\n",
    "$$ = \\frac{\\vec p \\cdot \\vec e_{\\phi}/r}{E_{local}} $$\n",
    "\n",
    "Now that our vectors have been orthonormalized, the dot product evaluates.\n",
    "\n",
    "$$ = \\frac{p_\\phi/r}{E_{local}} $$\n",
    "\n",
    "Now we can convert the local to become nonlocal. \n",
    "\n",
    "$$ = \\frac{\\sqrt{1-\\frac{2M}{r}} p_\\phi/r}{E} $$\n",
    "\n",
    "And that momentum value there just *is* l, the angular momentum, which becomes...\n",
    "\n",
    "$$ = \\frac{\\sqrt{1-\\frac{2M}{r}} l}{rE} $$\n",
    "\n",
    "And adding the tilde notation only means dividing by m, so if we do it on top and the bottom it changes nothing.\n",
    "\n",
    "$$ = \\frac{\\sqrt{1-\\frac{2M}{r}} \\tilde l}{r\\tilde E} $$\n",
    "\n",
    "And we're done!"
   ]
  },
  {
   "cell_type": "markdown",
   "id": "6a8ef523",
   "metadata": {},
   "source": [
    "<a id='P4'></a>\n",
    "\n",
    "# Problem 4 \\[Back to [top](#toc)\\]\n",
    "$$\\label{P4}$$\n",
    "\n",
    "*a) Show from 12.4.17 that a local observer at r finds that hte velocity of a radially freely-falling particle released from rest at infinity is given by*\n",
    "\n",
    "$$ v^{\\hat r} = \\sqrt{\\frac{2m}{r}} $$\n",
    "\n",
    "*which has precisely the same form as the Newtonian velocity!*"
   ]
  },
  {
   "cell_type": "markdown",
   "id": "16d800de",
   "metadata": {},
   "source": [
    "12.4.17 is \n",
    "\n",
    "$$ v^{\\hat r} = \\sqrt{1 - \\frac{1}{\\tilde E^2} \\left( 1-\\frac{2M}{r} \\right) \\left( 1+\\frac{\\tilde l^2}{r^2} \\right) } $$"
   ]
  },
  {
   "cell_type": "markdown",
   "id": "89150055",
   "metadata": {},
   "source": [
    "Now, relesed from rest implies quite obviously that the angular momentum is zero. So that can be taken out right away. \n",
    "\n",
    "$$ v^{\\hat r} = \\sqrt{1 - \\frac{1}{\\tilde E^2} \\left( 1-\\frac{2M}{r} \\right)} $$"
   ]
  },
  {
   "cell_type": "markdown",
   "id": "dcae542e",
   "metadata": {},
   "source": [
    "Now, that energy is actually E/m because of the tilde. And, even more interesting, we start at rest, which means E = m! So it's just... 1! And that reduces the expression all the way down to:\n",
    "\n",
    "$$ v^{\\hat r} = \\sqrt{\\frac{2M}{r}} $$\n",
    "\n",
    "Success!"
   ]
  },
  {
   "cell_type": "markdown",
   "id": "c5b6c0e0",
   "metadata": {},
   "source": [
    "*b) Obtain the same result from 12.4.9, noting that $E_{local} = \\gamma m.$*"
   ]
  },
  {
   "cell_type": "markdown",
   "id": "56a8079d",
   "metadata": {},
   "source": [
    "12.4.9 is our friend\n",
    "\n",
    "$$ E = \\sqrt{1-\\frac{2M}{r}} E_{local}$$"
   ]
  },
  {
   "cell_type": "markdown",
   "id": "76694251",
   "metadata": {},
   "source": [
    "Now, replace the local energy with the suggested substitution. \n",
    "\n",
    "$$ E = \\sqrt{1-\\frac{2M}{r}} \\gamma m $$\n",
    "\n",
    "$\\gamma$ is our other friend $\\frac{1}{\\sqrt{1-v^2}}$. The only velocity we can have is a radial velocity in this situation, so that v is what we are looking for! And as before E=m. \n",
    "\n",
    "$$ m = \\sqrt{1-\\frac{2M}{r}} \\gamma m $$\n",
    "$$ \\Rightarrow 1 = \\sqrt{1-\\frac{2M}{r}} \\frac{1}{\\sqrt{1-v^2}}$$\n",
    "$$ \\Rightarrow \\sqrt{1-v^2} = \\sqrt{1-\\frac{2M}{r}} $$\n",
    "$$ \\Rightarrow 1-v^2 = 1-\\frac{2M}{r} $$\n",
    "$$ \\Rightarrow v^2 = \\frac{2M}{r} $$\n",
    "$$ \\Rightarrow v = \\sqrt{\\frac{2M}{r}} $$\n",
    "\n",
    "Once again, we have achieved success."
   ]
  },
  {
   "cell_type": "markdown",
   "id": "0ad4e006",
   "metadata": {},
   "source": [
    "<a id='P5'></a>\n",
    "\n",
    "# Problem 5 \\[Back to [top](#toc)\\]\n",
    "$$\\label{P5}$$\n",
    "\n",
    "*A particle moves along a geodesic from r and $\\phi$ to r+dr and $\\phi + d\\phi$ in time dt. A local static observer at (r,$\\phi$) measures the proper length of the particle's path to have increased by ds(t,$\\theta$,$\\phi$=const) = $g^{1/2}_{rr} dr(=d\\hat r)$ and ds(t,r,$\\theta$=const)=$g^{1/2}_{\\phi\\phi} d\\phi (=d\\hat\\phi)$ in the r and $\\phi$ respectively, during this time; the proper time for this motion as measured on the observer's clock lasts $[-ds^2(r,\\theta,\\phi=const)]^{1/2} = (-g_{00})^{1/2} dt (=d\\hat t)$. [Note that $d\\hat t$ for the **observer** is **not** equal to d$\\tau$ appearing, e.g., in 12.4.13-12.4.15 for the particle!] Use the expressions for these measurements together with 12.4.13-12.4.15 to rederive 12.4.17 ad 12.4.18.*"
   ]
  },
  {
   "cell_type": "markdown",
   "id": "4a27ad5c",
   "metadata": {},
   "source": [
    "12.4.17 and 12.4.18, our goals, are:\n",
    "\n",
    "$$ v^\\hat{\\phi} = \\left( 1 - \\frac{2M}{r} \\right)^{1/2} \\frac{\\tilde l}{r\\tilde E} $$\n",
    "\n",
    "$$ v^{\\hat r} = \\sqrt{1 - \\frac{1}{\\tilde E^2} \\left( 1-\\frac{2M}{r} \\right) \\left( 1+\\frac{\\tilde l^2}{r^2} \\right) } $$"
   ]
  },
  {
   "cell_type": "markdown",
   "id": "64b1a0ce",
   "metadata": {},
   "source": [
    "And the equations 13 through 15 are\n",
    "\n",
    "$$ \\left( \\frac{dr}{d\\tau} \\right)^2 = \\tilde E^2 - \\left( 1-\\frac{2M}{r} \\right) \\left( 1+\\frac{\\tilde l^2}{r^2} \\right)$$\n",
    "\n",
    "$$ \\frac{d\\phi}{d \\tau} = \\frac{\\tilde l}{r^2} $$\n",
    "\n",
    "$$ \\frac{dt}{d\\tau} \\frac{\\tilde E}{1-\\frac{2M}{r}} $$"
   ]
  },
  {
   "cell_type": "markdown",
   "id": "3fdc5de9",
   "metadata": {},
   "source": [
    "The warning is true: $\\hat t$ is related to the proper time as far as the observer is concerned, $d\\tau$ is the proper time for the actual particle doing the moving. So, in short, we need to be very meticulous and careful here. "
   ]
  },
  {
   "cell_type": "markdown",
   "id": "df50096e",
   "metadata": {},
   "source": [
    "<a id='latex_pdf_output'></a>\n",
    "\n",
    "# Addendum: Output this notebook to $\\LaTeX$-formatted PDF file \\[Back to [top](#toc)\\]\n",
    "$$\\label{latex_pdf_output}$$\n",
    "\n",
    "The following code cell converts this Jupyter notebook into a proper, clickable $\\LaTeX$-formatted PDF file. After the cell is successfully run, the generated PDF may be found in the root NRPy+ tutorial directory, with filename\n",
    "[CO-12.pdf](CO-12.pdf) (Note that clicking on this link may not work; you may need to open the PDF file through another means.)\n",
    "\n",
    "**Important Note**: Make sure that the file name is right in all six locations, two here in the Markdown, four in the code below. \n",
    "\n",
    "* CO-12.pdf\n",
    "* CO-12.ipynb\n",
    "* CO-12.tex"
   ]
  },
  {
   "cell_type": "code",
   "execution_count": 1,
   "id": "abf583ef",
   "metadata": {
    "scrolled": false
   },
   "outputs": [
    {
     "name": "stdout",
     "output_type": "stream",
     "text": [
      "Created GR-08.tex, and compiled LaTeX file to PDF file GR-08.pdf\n"
     ]
    }
   ],
   "source": [
    "import cmdline_helper as cmd    # NRPy+: Multi-platform Python command-line interface\n",
    "cmd.output_Jupyter_notebook_to_LaTeXed_PDF(\"CO-12\")"
   ]
  },
  {
   "cell_type": "code",
   "execution_count": null,
   "id": "d0d0db4d",
   "metadata": {},
   "outputs": [],
   "source": []
  },
  {
   "cell_type": "code",
   "execution_count": null,
   "id": "41264965",
   "metadata": {},
   "outputs": [],
   "source": []
  }
 ],
 "metadata": {
  "kernelspec": {
   "display_name": "Python 3 (ipykernel)",
   "language": "python",
   "name": "python3"
  },
  "language_info": {
   "codemirror_mode": {
    "name": "ipython",
    "version": 3
   },
   "file_extension": ".py",
   "mimetype": "text/x-python",
   "name": "python",
   "nbconvert_exporter": "python",
   "pygments_lexer": "ipython3",
   "version": "3.10.4"
  }
 },
 "nbformat": 4,
 "nbformat_minor": 5
}
