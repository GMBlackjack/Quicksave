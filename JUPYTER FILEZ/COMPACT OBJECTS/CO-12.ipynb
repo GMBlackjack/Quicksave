{
 "cells": [
  {
   "cell_type": "markdown",
   "id": "0c1bfe81",
   "metadata": {},
   "source": [
    "# Compact Objects Problems Chapter 12: Black Holes\n",
    "\n",
    "## Authors: Gabriel M Steward"
   ]
  },
  {
   "cell_type": "markdown",
   "id": "479540e4",
   "metadata": {},
   "source": [
    "https://github.com/zachetienne/nrpytutorial/blob/master/Tutorial-Template_Style_Guide.ipynb\n",
    "\n",
    "Link to the Style Guide. Not internal in case something breaks. "
   ]
  },
  {
   "cell_type": "markdown",
   "id": "10780970",
   "metadata": {},
   "source": [
    "### </list_source_code> NRPy+ Source Code for this module:\n",
    "None! ...well except for the pdf thing at the bottom.\n",
    "\n",
    "## Introduction:\n",
    "Ahem. \n",
    "\n",
    "Black Holes are cool.\n",
    "\n",
    "That is all.\n",
    "\n",
    "## </other>  Other (Optional): \n",
    "Placeholder\n",
    "\n",
    "### Note on Notation:\n",
    "Any new notation will be brought up in the notebook when it becomes relevant. \n",
    "\n",
    "### Citations:\n",
    "\n",
    "<a id='1'></a>\n",
    "[1] https://www.integral-calculator.com/ (it calculates integrals)\n",
    "\n",
    "<a id='2'></a>\n",
    "[2] https://physics.stackexchange.com/questions/78551/expression-of-kinetic-energy-in-polar-coordinates (Couldn't remember what the Newtonian form was.)\n",
    "\n",
    "<a id='3'></a>\n",
    "[3] https://en.wikipedia.org/wiki/Geometrized_unit_system (G=c=1)"
   ]
  },
  {
   "cell_type": "markdown",
   "id": "56664bc2",
   "metadata": {},
   "source": [
    "<a id='toc'></a>\n",
    "\n",
    "# Table of Contents\n",
    "$$\\label{toc}$$\n",
    "\n",
    "[Problem 1](#P1) (Planck Density Fun)\n",
    "\n",
    "[Problem 2](#P2) (Infinite Redshift)\n",
    "\n",
    "[Problem 3](#P3) (Failure To Orbit)\n",
    "\n",
    "[Problem 4](#P4) (Taking a plunge, twice)\n",
    "\n",
    "[Problem 5](#P5) (Measurements)\n",
    "\n",
    "[Problem 6](#P6) (Hey you, integrate this!, parts skipped / unfinished)\n",
    "\n",
    "[Problem 7](#P7) (Problem 6, but the other way, incomplete)\n",
    "\n",
    "[Problem 8](#P8) (It should collapse to the Newtonian, incomplete)\n",
    "\n",
    "[Problem 9](#P9) (V's maxima)\n",
    "\n",
    "[Problem 10](#P10) (The stability horizon)\n",
    "\n",
    "[Problem 11](#P11) (Capture Behavior)\n",
    "\n",
    "[Problem 12](#P12) (Redshift Oscillations)\n",
    "\n",
    "[Problem 13](#P13) (From a distance, all is normal)\n",
    "\n",
    "[Problem 14](#P14) (Outgoing Escape)\n",
    "\n",
    "[Problem 15](#P15) (Spinning the Sun)\n",
    "\n",
    "[Problem 16](#P16) (\"Stationary\" but rotating)\n",
    "\n",
    "[Problem 17](#P17) (Kepler's third law is still relevant)\n",
    "\n",
    "[Problem 18](#P18) (Ergosphere)\n",
    "\n",
    "[Problem 19](#P19) (Surface area conservation and mass radiation)\n",
    "\n",
    "[Problem 20](#P20) (Black hole temperature)\n",
    "\n",
    "[Problem 21](#P21) (Black hole entropy, parts b and c skipped)\n",
    "\n",
    "[PDF](#latex_pdf_output) (turn this into a PDF)"
   ]
  },
  {
   "cell_type": "markdown",
   "id": "cd9e5529",
   "metadata": {},
   "source": [
    "<a id='P1'></a>\n",
    "\n",
    "# Problem 1 \\[Back to [top](#toc)\\]\n",
    "$$\\label{P1}$$\n",
    "\n",
    "*Construct a density by dimensional analysis out of c, G, and $\\hbar$. Evaluate numerically this \"Planck density\" at which quantum gravitational effects would become important.*\n",
    "\n",
    "c = 3e8 m/s\n",
    "\n",
    "G = 6.67e-11 $m^3$ / kg $s^2$\n",
    "\n",
    "$\\hbar$ = 1.055e-34 kg $m^2$ / s"
   ]
  },
  {
   "cell_type": "markdown",
   "id": "d97ddee5",
   "metadata": {},
   "source": [
    "The density composed of this would be $kg / m^3$. Now the method which we used to find this is something very odd but kind of cool. When combining various units together in dimensional analysis it is synonymous with considering how vectors span a space, with each exponent on a unit being a coefficient. Thus in m s kg units, we have the dimensionality of c as (1,-1,0), G as (3,-2,-1), and $\\hbar$ as (2,-1,1). We sought the linear combination that added to (-3,0,1), aka density. And by solving the resulting system of equations we found it at 5c - 2G - $\\hbar$. \n",
    "\n",
    "Aka $\\frac{c^5}{G^2\\hbar}$. \n",
    "\n",
    "Which produces roughly 5e96 $kg/m^3$. Which converts to roughtly 5e93 $g/cm^3$ which does in fact round to 1e94 as is suggested by the given answer. "
   ]
  },
  {
   "cell_type": "markdown",
   "id": "981fb8cc",
   "metadata": {},
   "source": [
    "<a id='P2'></a>\n",
    "\n",
    "# Problem 2 \\[Back to [top](#toc)\\]\n",
    "$$\\label{P2}$$\n",
    "\n",
    "*For an alternative derivation of hte redshift formula, uset he fact that E is constant along the photon's path to show that*\n",
    "\n",
    "$$ \\frac{\\nu_{em}}{\\nu_{rec}} = \\left( 1-\\frac{2M}{r_{em}} \\right)^{-1/2} $$\n",
    "\n",
    "*For a static emitter at r=$r_{em}$ and a receiver at r -> $\\infty$. Explain why the event horizon for a Schwarzchild black hole is sometimes called the \"surface of infinite redshift.\"*\n",
    "\n",
    "Last question first. See that when r=2M we end up with a 0 solution in the radical. Which is negative. Which is a division by zero. Oh noes, that's not good. \n",
    "\n",
    "In more mathematical terms the limit as r approachs 2M appraoches infinity for the equation we're trying to solve for, thus infinite redshift. (realistically photons emitted here can't escape so the infinite redshift never occurs.)\n",
    "\n",
    "Now let's actually derive this expression. "
   ]
  },
  {
   "cell_type": "markdown",
   "id": "0115cb10",
   "metadata": {},
   "source": [
    "Now E is supposedly the \"energy\" but energy is poorly defined in relativity, really it's the negative time-component of the four momentum, as seen in 12.4.8. \n",
    "\n",
    "$$ -p_t = \\left( 1-\\frac{2M}{r} \\right) \\dot t = E $$\n",
    "\n",
    "Now we know r is changing, this is true, so in order for the overall situation to be constant either M or $\\dot t$ has to be changing. M is not, so the rate at which we experience time must be adjusting. In fact, we can for this rate in both ends: emission is at r, and then we set r to infinity for the reception. This gives us:\n",
    "\n",
    "$$ \\left( 1-\\frac{2M}{r} \\right) \\dot t  = \\dot t' = p'^t$$"
   ]
  },
  {
   "cell_type": "markdown",
   "id": "dd03965b",
   "metadata": {},
   "source": [
    "The momentum of a photon is $h\\nu$. Which would seem to imply:\n",
    "\n",
    "$$ \\frac{\\nu_{em}}{\\nu_{rec}} = \\left( 1-\\frac{2M}{r_{em}} \\right)^{-1} $$\n",
    "\n",
    "Which has the correct *qualitative* behavior, but we're missing the root. So where does this come from? What we forgot to do was the corodinate transform on page 341, which tells us that:\n",
    "\n",
    "$$ E = \\sqrt{1-\\frac{2M}{r}} E_{local}$$"
   ]
  },
  {
   "cell_type": "markdown",
   "id": "955340e2",
   "metadata": {},
   "source": [
    "Which does in fact translate directly to what we want. The question of where does this come from and why wasn't our previous method correct is rather simple: we didn't consider the coordinate system where the photon STARTED. Obviously there needed to be a transform. AS we said when we started, energy is ill-defined, but the values can still be transformed. 12.4.9 gives the above almost directly, as E correlates directly to $h\\nu$. the h cancels, and the frequencies become the ratio. Tah-dah! \n",
    "\n",
    "Oh even better 5.3.3 gives the exact relation based on the metrics. "
   ]
  },
  {
   "cell_type": "markdown",
   "id": "d84d7fcf",
   "metadata": {},
   "source": [
    "<a id='P3'></a>\n",
    "\n",
    "# Problem 3 \\[Back to [top](#toc)\\]\n",
    "$$\\label{P3}$$\n",
    "\n",
    "*Show that the same observer at r finds that the tangential velocity of the particle satisfies*\n",
    "$$ v^\\hat{\\phi} = \\left( 1 - \\frac{2M}{r} \\right)^{1/2} \\frac{\\tilde l}{r\\tilde E} $$\n",
    "*So that $v^\\hat{\\phi} \\rightarrow 0$ as $r \\rightarrow 2M$*"
   ]
  },
  {
   "cell_type": "markdown",
   "id": "45752ba5",
   "metadata": {},
   "source": [
    "We finally realized what this is: the book gives r and $\\theta$ results, so we get to find $\\phi$ results. So let's just try to evaluate it, starting with...\n",
    "\n",
    "$$ v^{\\hat\\phi} = \\frac{p^{\\hat\\phi}}{p^{\\hat t}} $$\n",
    "\n",
    "Flipping the metric does nothing for a physial coordinate. \n",
    "\n",
    "$$ = \\frac{p_{\\hat\\phi}}{p^{\\hat t}} $$\n",
    "\n",
    "Bottom is local energy, top can be represented as a dot product. \n",
    "\n",
    "$$ = \\frac{\\vec p \\cdot \\vec e_{\\hat\\phi}}{E_{local}} $$\n",
    "\n",
    "The dot product can be converted to the other (non-hat) reference frame. ..and it turns out we're idiots, $\\phi$ was done, $\\theta$ was not done because it was kept constant. Either way, the conversion is...\n",
    "\n",
    "$$ = \\frac{\\vec p \\cdot \\vec e_{\\phi}/r}{E_{local}} $$\n",
    "\n",
    "Now that our vectors have been orthonormalized, the dot product evaluates.\n",
    "\n",
    "$$ = \\frac{p_\\phi/r}{E_{local}} $$\n",
    "\n",
    "Now we can convert the local to become nonlocal. \n",
    "\n",
    "$$ = \\frac{\\sqrt{1-\\frac{2M}{r}} p_\\phi/r}{E} $$\n",
    "\n",
    "And that momentum value there just *is* l, the angular momentum, which becomes...\n",
    "\n",
    "$$ = \\frac{\\sqrt{1-\\frac{2M}{r}} l}{rE} $$\n",
    "\n",
    "And adding the tilde notation only means dividing by m, so if we do it on top and the bottom it changes nothing.\n",
    "\n",
    "$$ = \\frac{\\sqrt{1-\\frac{2M}{r}} \\tilde l}{r\\tilde E} $$\n",
    "\n",
    "And we're done!"
   ]
  },
  {
   "cell_type": "markdown",
   "id": "6a8ef523",
   "metadata": {},
   "source": [
    "<a id='P4'></a>\n",
    "\n",
    "# Problem 4 \\[Back to [top](#toc)\\]\n",
    "$$\\label{P4}$$\n",
    "\n",
    "*a) Show from 12.4.17 that a local observer at r finds that hte velocity of a radially freely-falling particle released from rest at infinity is given by*\n",
    "\n",
    "$$ v^{\\hat r} = \\sqrt{\\frac{2m}{r}} $$\n",
    "\n",
    "*which has precisely the same form as the Newtonian velocity!*"
   ]
  },
  {
   "cell_type": "markdown",
   "id": "16d800de",
   "metadata": {},
   "source": [
    "12.4.17 is \n",
    "\n",
    "$$ v^{\\hat r} = \\sqrt{1 - \\frac{1}{\\tilde E^2} \\left( 1-\\frac{2M}{r} \\right) \\left( 1+\\frac{\\tilde l^2}{r^2} \\right) } $$"
   ]
  },
  {
   "cell_type": "markdown",
   "id": "89150055",
   "metadata": {},
   "source": [
    "Now, relesed from rest implies quite obviously that the angular momentum is zero. So that can be taken out right away. \n",
    "\n",
    "$$ v^{\\hat r} = \\sqrt{1 - \\frac{1}{\\tilde E^2} \\left( 1-\\frac{2M}{r} \\right)} $$"
   ]
  },
  {
   "cell_type": "markdown",
   "id": "dcae542e",
   "metadata": {},
   "source": [
    "Now, that energy is actually E/m because of the tilde. And, even more interesting, we start at rest, which means E = m! So it's just... 1! And that reduces the expression all the way down to:\n",
    "\n",
    "$$ v^{\\hat r} = \\sqrt{\\frac{2M}{r}} $$\n",
    "\n",
    "Success!"
   ]
  },
  {
   "cell_type": "markdown",
   "id": "c5b6c0e0",
   "metadata": {},
   "source": [
    "*b) Obtain the same result from 12.4.9, noting that $E_{local} = \\gamma m.$*"
   ]
  },
  {
   "cell_type": "markdown",
   "id": "56a8079d",
   "metadata": {},
   "source": [
    "12.4.9 is our friend\n",
    "\n",
    "$$ E = \\sqrt{1-\\frac{2M}{r}} E_{local}$$"
   ]
  },
  {
   "cell_type": "markdown",
   "id": "76694251",
   "metadata": {},
   "source": [
    "Now, replace the local energy with the suggested substitution. \n",
    "\n",
    "$$ E = \\sqrt{1-\\frac{2M}{r}} \\gamma m $$\n",
    "\n",
    "$\\gamma$ is our other friend $\\frac{1}{\\sqrt{1-v^2}}$. The only velocity we can have is a radial velocity in this situation, so that v is what we are looking for! And as before E=m. \n",
    "\n",
    "$$ m = \\sqrt{1-\\frac{2M}{r}} \\gamma m $$\n",
    "$$ \\Rightarrow 1 = \\sqrt{1-\\frac{2M}{r}} \\frac{1}{\\sqrt{1-v^2}}$$\n",
    "$$ \\Rightarrow \\sqrt{1-v^2} = \\sqrt{1-\\frac{2M}{r}} $$\n",
    "$$ \\Rightarrow 1-v^2 = 1-\\frac{2M}{r} $$\n",
    "$$ \\Rightarrow v^2 = \\frac{2M}{r} $$\n",
    "$$ \\Rightarrow v = \\sqrt{\\frac{2M}{r}} $$\n",
    "\n",
    "Once again, we have achieved success."
   ]
  },
  {
   "cell_type": "markdown",
   "id": "0ad4e006",
   "metadata": {},
   "source": [
    "<a id='P5'></a>\n",
    "\n",
    "# Problem 5 \\[Back to [top](#toc)\\]\n",
    "$$\\label{P5}$$\n",
    "\n",
    "*A particle moves along a geodesic from r and $\\phi$ to r+dr and $\\phi + d\\phi$ in time dt. A local static observer at (r,$\\phi$) measures the proper length of the particle's path to have increased by ds(t,$\\theta$,$\\phi$=const) = $g^{1/2}_{rr} dr(=d\\hat r)$ and ds(t,r,$\\theta$=const)=$g^{1/2}_{\\phi\\phi} d\\phi (=d\\hat\\phi)$ in the r and $\\phi$ respectively, during this time; the proper time for this motion as measured on the observer's clock lasts $[-ds^2(r,\\theta,\\phi=const)]^{1/2} = (-g_{00})^{1/2} dt (=d\\hat t)$. [Note that $d\\hat t$ for the **observer** is **not** equal to d$\\tau$ appearing, e.g., in 12.4.13-12.4.15 for the particle!] Use the expressions for these measurements together with 12.4.13-12.4.15 to rederive 12.4.17 ad 12.4.18.*"
   ]
  },
  {
   "cell_type": "markdown",
   "id": "4a27ad5c",
   "metadata": {},
   "source": [
    "12.4.17 and 12.4.18, our goals, are:\n",
    "\n",
    "$$ v^\\hat{\\phi} = \\left( 1 - \\frac{2M}{r} \\right)^{1/2} \\frac{\\tilde l}{r\\tilde E} $$\n",
    "\n",
    "$$ v^{\\hat r} = \\sqrt{1 - \\frac{1}{\\tilde E^2} \\left( 1-\\frac{2M}{r} \\right) \\left( 1+\\frac{\\tilde l^2}{r^2} \\right) } $$"
   ]
  },
  {
   "cell_type": "markdown",
   "id": "64b1a0ce",
   "metadata": {},
   "source": [
    "And the equations 13 through 15 are\n",
    "\n",
    "$$ \\left( \\frac{dr}{d\\tau} \\right)^2 = \\tilde E^2 - \\left( 1-\\frac{2M}{r} \\right) \\left( 1+\\frac{\\tilde l^2}{r^2} \\right)$$\n",
    "\n",
    "$$ \\frac{d\\phi}{d \\tau} = \\frac{\\tilde l}{r^2} $$\n",
    "\n",
    "$$ \\frac{dt}{d\\tau} = \\frac{\\tilde E}{1-\\frac{2M}{r}} $$"
   ]
  },
  {
   "cell_type": "markdown",
   "id": "3fdc5de9",
   "metadata": {},
   "source": [
    "The warning is true: $\\hat t$ is related to the proper time as far as the observer is concerned, $d\\tau$ is the proper time for the actual particle doing the moving. So, in short, we need to be very meticulous and careful here. \n",
    "\n",
    "Anyway, the relations we are given ar ea bit obfuscated, but ammount to:\n",
    "\n",
    "$$ d\\hat r  = \\left( 1-\\frac{2M}{r} \\right)^{-1/2} dr$$\n",
    "$$ d\\hat \\phi  = rsin\\theta d \\phi$$\n",
    "$$ d\\hat t  = \\left( 1-\\frac{2M}{r} \\right)^{1/2} dt$$\n",
    "\n",
    "Though with our restrictions $\\theta = \\pi/2$ and so\n",
    "\n",
    "$$ d\\hat \\phi  = r d \\phi$$"
   ]
  },
  {
   "cell_type": "markdown",
   "id": "d52f459b",
   "metadata": {},
   "source": [
    "Now, take derivatives of everything with respect to $d\\tau$ by dividing by it, get some results:\n",
    "\n",
    "$$ \\frac{d\\hat r}{d \\tau}  = \\left( 1-\\frac{2M}{r} \\right)^{-1/2} \\frac{1}{d\\tau}dr $$\n",
    "$$ \\frac{d\\hat \\phi}{d\\tau}  = r \\frac{1}{d\\tau}d \\phi$$\n",
    "$$ \\frac{d\\hat t}{d\\tau}  = \\left( 1-\\frac{2M}{r} \\right)^{1/2} \\frac{1}{d\\tau} dt $$\n",
    "\n",
    "Which can all be substituted by the suggested expressions.\n",
    "\n",
    "$$ \\frac{d\\hat r}{d \\tau}  = \\left( 1-\\frac{2M}{r} \\right)^{-1/2} \\sqrt{\\tilde E^2 - \\left( 1-\\frac{2M}{r} \\right) \\left( 1+\\frac{\\tilde l^2}{r^2} \\right)} $$\n",
    "$$ \\frac{d\\hat \\phi}{d\\tau}  = r \\frac{\\tilde l}{r^2}$$\n",
    "$$ \\frac{d\\hat t}{d\\tau}  = \\left( 1-\\frac{2M}{r} \\right)^{1/2} \\frac{\\tilde E}{1-\\frac{2M}{r}} $$"
   ]
  },
  {
   "cell_type": "markdown",
   "id": "59d390d4",
   "metadata": {},
   "source": [
    "Simplify...\n",
    "\n",
    "$$ \\frac{d\\hat r}{d \\tau}  = \\left( 1-\\frac{2M}{r} \\right)^{-1/2} \\sqrt{\\tilde E^2 - \\left( 1-\\frac{2M}{r} \\right) \\left( 1+\\frac{\\tilde l^2}{r^2} \\right)} $$\n",
    "$$ \\frac{d\\hat \\phi}{d\\tau}  = \\frac{\\tilde l}{r}$$\n",
    "$$ \\frac{d\\hat t}{d\\tau}  = \\left( 1-\\frac{2M}{r} \\right)^{-1/2} \\tilde E $$"
   ]
  },
  {
   "cell_type": "markdown",
   "id": "04dc9300",
   "metadata": {},
   "source": [
    "Now the waning comes into play: the proper time of the particle is NOT what we are seeking, and the proper time we have here isn't the proper time as far as the observer is conscerned. Hence, our curious little poser problem. The VELOCITY is given by:\n",
    "\n",
    "$$v^{\\hat i} = \\frac{p^{\\hat i}}{p^\\hat t} = \\frac{d\\hat i/d\\lambda}{d\\hat t/d\\lambda} = \\frac{d\\hat i}{d\\hat t}$$\n",
    "\n",
    "Which is to say a more direct speed. "
   ]
  },
  {
   "cell_type": "markdown",
   "id": "72e66eb6",
   "metadata": {},
   "source": [
    "Now we actually have an expression with the time coordinate we need, so how about... we do the insane and *divide* by it?\n",
    "\n",
    "$$ \\frac{d\\hat r}{d \\hat t}  = \\left( 1-\\frac{2M}{r} \\right)^{-1/2} \\sqrt{\\tilde E^2 - \\left( 1-\\frac{2M}{r} \\right) \\left( 1+\\frac{\\tilde l^2}{r^2} \\right)} \\frac{1}{\\left( 1-\\frac{2M}{r} \\right)^{-1/2} \\tilde E} $$\n",
    "$$ \\frac{d\\hat \\phi}{d \\hat t}  = \\frac{\\tilde l}{r} \\frac{1}{\\left( 1-\\frac{2M}{r} \\right)^{-1/2} \\tilde E}$$"
   ]
  },
  {
   "cell_type": "markdown",
   "id": "89d5a414",
   "metadata": {},
   "source": [
    "The top one conveniently becomes...\n",
    "\n",
    "$$ \\frac{d\\hat r}{d \\hat t}  = \\sqrt{\\tilde E^2 - \\left( 1-\\frac{2M}{r} \\right) \\left( 1+\\frac{\\tilde l^2}{r^2} \\right)} \\frac{1}{\\tilde E} $$\n",
    "$$  = \\sqrt{1 - \\frac{1}{\\tilde E^2}\\left( 1-\\frac{2M}{r} \\right) \\left( 1+\\frac{\\tilde l^2}{r^2} \\right)} $$\n",
    "\n",
    "And would you look at that it's exactly what we wanted. As for the second one..."
   ]
  },
  {
   "cell_type": "markdown",
   "id": "b4f294ab",
   "metadata": {},
   "source": [
    "$$ \\frac{d\\hat \\phi}{d \\hat t}  = \\frac{\\tilde l}{r} \\frac{1}{\\left( 1-\\frac{2M}{r} \\right)^{-1/2} \\tilde E}$$\n",
    "$$  = \\frac{\\tilde l}{r \\tilde E}\\left(1-\\frac{2M}{r} \\right)^{1/2} $$\n",
    "\n",
    "Which, also, is exactly what we wanted. "
   ]
  },
  {
   "cell_type": "markdown",
   "id": "c43b858e",
   "metadata": {},
   "source": [
    "<a id='P6'></a>\n",
    "\n",
    "# Problem 6 \\[Back to [top](#toc)\\]\n",
    "$$\\label{P6}$$\n",
    "\n",
    "*a) Integrate 12.4.20 for the case $\\tilde E > 1$, so that $1 - \\tilde E^2 = 2M/R$, to get ($\\tau=0$ at r=R)*:\n",
    "\n",
    "$$ \\tau = \\left( \\frac{R^3}{8M} \\right)^{1/2} \\left[ 2 \\left( \\frac{r}{R} - \\frac{r^2}{R^2} \\right)^{1/2} + acos \\left( \\frac{2r}{R} - 1 \\right) \\right] $$"
   ]
  },
  {
   "cell_type": "markdown",
   "id": "90bedc3e",
   "metadata": {},
   "source": [
    "12.4.20 states\n",
    "\n",
    "$$ \\frac{dr}{d\\tau} = -\\left( \\tilde E^2 - 1 + \\frac{2M}{r} \\right)^{1/2} $$\n",
    "\n",
    "the rule given in the problem suggests a very obvious substitution that turns this into\n",
    "\n",
    "$$ \\frac{dr}{d\\tau} = -\\left( \\frac{2M}{R} + \\frac{2M}{r} \\right)^{1/2} = -\\sqrt{2M}\\left( \\frac{1}{R} + \\frac{1}{r} \\right)^{1/2} $$"
   ]
  },
  {
   "cell_type": "markdown",
   "id": "00673696",
   "metadata": {},
   "source": [
    "Of cousre we actually want to find the proper time so the derivative is currently upside down. Let's pretend it's a fraction and just invert it. Surely this won't cause any problems later.\n",
    "\n",
    "$$ \\frac{d\\tau}{dr} = -\\frac{1}{\\sqrt{2M}}\\left( \\frac{1}{R} + \\frac{1}{r} \\right)^{-1/2} $$\n",
    "\n",
    "And thus integrating with respect to r should get us our result! ...We sure hope the computer makes this integral simpler than it looks like it is! ...And yep it's a nightmare. We ended up using [1](#1) to evaluate it since our good friend Geogebra threw sgn functions at us. It's still not friendly in the end but at least we have a result. "
   ]
  },
  {
   "cell_type": "markdown",
   "id": "fb211673",
   "metadata": {},
   "source": [
    "$$ \\tau = \\frac{1}{\\sqrt{2M}}\\frac{\\sqrt{R}(R(ln(\\sqrt{\\frac{R+r}{r}}+1) - ln(|\\sqrt{\\frac{R+r}{r}}-1|))-2r\\sqrt{\\frac{R+r}{r}}}{2} + C   $$\n",
    "\n",
    "Before we try to find out what C is, let's simplify a bit. "
   ]
  },
  {
   "cell_type": "markdown",
   "id": "1e75db28",
   "metadata": {},
   "source": [
    "$$ \\tau = \\sqrt{\\frac{R^3}{8M}}\\left( ln(\\sqrt{\\frac{R}{r}+1}+1) - ln(|\\sqrt{\\frac{R}{r}+1}-1|)-\\frac{2r}{R}\\sqrt{\\frac{R}{r}+1} \\right) + C   $$"
   ]
  },
  {
   "cell_type": "markdown",
   "id": "9574cb73",
   "metadata": {},
   "source": [
    "Geogebra points out that, yes, the integral is in fact correct as we took it. However, the form doesn't match the one the answer is supposed to take at all. So, clearly, we misunderstood *something*. Leaving this for now, next part should be doable regardless."
   ]
  },
  {
   "cell_type": "markdown",
   "id": "7fb5b1ac",
   "metadata": {},
   "source": [
    "*b) Introduce the \"cycloid parameter\"\" $\\eta$ by*\n",
    "$$ r = \\frac{R}{2}(1+cos\\eta) $$\n",
    "*And show that*\n",
    "$$ \\tau = \\left( \\frac{R^3}{8M} \\right)^{1/2} (\\eta + sin\\eta) $$"
   ]
  },
  {
   "cell_type": "markdown",
   "id": "0d3bcccd",
   "metadata": {},
   "source": [
    "Take the previous answer and start substituting:\n",
    "\n",
    "$$ \\tau = \\left( \\frac{R^3}{8M} \\right)^{1/2} \\left[ 2 \\left( \\frac{r}{R} - \\frac{r^2}{R^2} \\right)^{1/2} + acos \\left( \\frac{2r}{R} - 1 \\right) \\right] $$\n",
    "$$ = \\left( \\frac{R^3}{8M} \\right)^{1/2} \\left[ 2 \\left( \\frac{\\frac{R}{2}(1+cos\\eta)}{R} - \\frac{(\\frac{R}{2}(1+cos\\eta))^2}{R^2} \\right)^{1/2} + acos \\left( \\frac{2\\frac{R}{2}(1+cos\\eta)}{R} - 1 \\right) \\right] $$"
   ]
  },
  {
   "cell_type": "markdown",
   "id": "a81343f1",
   "metadata": {},
   "source": [
    "$$ = \\left( \\frac{R^3}{8M} \\right)^{1/2} \\left[ \\left( 2(1+cos\\eta) - (1+cos\\eta)^2\\right)^{1/2} + acos \\left( (1+cos\\eta) - 1 \\right) \\right] $$\n",
    "\n",
    "$$ = \\left( \\frac{R^3}{8M} \\right)^{1/2} \\left[ \\left( 2+2cos\\eta - 1  -2cos\\eta -  cos^2\\eta \\right)^{1/2} + acos \\left(cos\\eta\\right) \\right] $$\n",
    "\n",
    "$$ = \\left( \\frac{R^3}{8M} \\right)^{1/2} \\left[ \\left(1 - cos^2\\eta \\right)^{1/2} + \\eta \\right] $$\n",
    "\n",
    "$$ = \\left( \\frac{R^3}{8M} \\right)^{1/2} \\left[ (sin^2\\eta)^{1/2} + \\eta \\right] $$\n",
    "\n",
    "$$ = \\left( \\frac{R^3}{8M} \\right)^{1/2} \\left[ sin\\eta + \\eta \\right] $$\n",
    "\n",
    "Behold, the answer. "
   ]
  },
  {
   "cell_type": "markdown",
   "id": "89ab29f1",
   "metadata": {},
   "source": [
    "*c) Integrate 12.4.15 for t in terms of $\\eta$ to get (t=0 at r=R):*\n",
    "\n",
    "$$ \\frac{t}{2M} = ln\\left| \\frac{(R/2M - 1)^{1/2}+tan(\\eta/2)}{(R/2M - 1)^{1/2}-tan(\\eta/2)} \\right| + \\left( \\frac{R}{2M}-1 \\right)^{1/2}\\left[ \\eta + \\frac{R}{4M}(\\eta+sin\\eta)\\right]$$"
   ]
  },
  {
   "cell_type": "markdown",
   "id": "017587ce",
   "metadata": {},
   "source": [
    "12.4.15 gives us\n",
    "\n",
    "$$ \\frac{dt}{d\\tau} = \\frac{\\tilde E}{1-2M/r} $$\n",
    "\n",
    "Which, with our substitution, provides:\n",
    "\n",
    "$$ \\frac{dt}{d\\tau} = \\frac{\\tilde E}{1-\\frac{2M}{\\frac{R}{2}(1+cos\\eta)}} $$\n",
    "$$ \\frac{dt}{d\\tau} = \\frac{\\tilde E}{1-\\frac{4M}{R(1+cos\\eta)}} $$\n",
    "\n",
    "....You know what, we're just going to skip this. Doing long invovled integrals by hand doesn't really illuminate much of anything. "
   ]
  },
  {
   "cell_type": "markdown",
   "id": "5313047d",
   "metadata": {},
   "source": [
    "<a id='P7'></a>\n",
    "\n",
    "# Problem 7 \\[Back to [top](#toc)\\]\n",
    "$$\\label{P7}$$\n",
    "\n",
    "*a) Find $\\tau(r)$ and t(r) for radial infall when $\\tilde E = 1$*"
   ]
  },
  {
   "cell_type": "markdown",
   "id": "218bc713",
   "metadata": {},
   "source": [
    "By 12.4.20\n",
    "\n",
    "$$ \\frac{dr}{d\\tau} = -\\left( \\tilde E^2 - 1 + \\frac{2M}{r} \\right)^{1/2} $$\n",
    "\n",
    "With our given limitation this becomes\n",
    "\n",
    "$$ \\frac{dr}{d\\tau} = -\\left( \\frac{2M}{r} \\right)^{1/2} $$\n",
    "\n",
    "We want it in terms of proper time, so we flip it.\n",
    "\n",
    "$$ \\frac{d\\tau}{d r} = -\\left( \\frac{r}{2M} \\right)^{1/2} $$\n",
    "\n",
    "Integrating with respect to r is actually easy in this case.\n",
    "\n",
    "$$ \\tau = -\\frac{1}{\\sqrt{2M}}  \\frac23 r^{3/2} + C$$"
   ]
  },
  {
   "cell_type": "markdown",
   "id": "b678787a",
   "metadata": {},
   "source": [
    "If provided with a starting radius R and an assumed proper time of 0, C can be determined. \n",
    "\n",
    "$$ \\tau = -\\frac{1}{\\sqrt{2M}}  \\frac23 r^{3/2} + \\frac{1}{\\sqrt{2M}}  \\frac23 R^{3/2}$$\n",
    "\n",
    "Note that $\\tau=0$ when r=R. The smaller r gets, the greater $\\tau$ becomes until it hits a finite value that is C, which is what we expect. Keep in mind that this is not the same case as was solved previously in the book: the \"=1\" criterion means that this particle is falling as though it were at rest at infinity. Naturally, if we actually tried to start the particle at infinity it would take an infinite amount of time to reach the black hole. Our choice of R thus is rather arbitrary, as it's just a point where time \"starts,\" the particle is not at rest there. Hence why the result is not exactly the same, though the R-dependence is. "
   ]
  },
  {
   "cell_type": "markdown",
   "id": "069ed412",
   "metadata": {},
   "source": [
    "Now, what about the obesrved time at infinity? (The observer is sitting at infinity, not the particle... necessarily.) Let's start with 12.4.15. \n",
    "\n",
    "$$ \\frac{dt}{d\\tau} = \\frac{\\tilde E}{1-2M/r} $$\n",
    "\n",
    "And like the crazy that we are we can pretend the differnetials are fractions and multiply through the differential form of our previous answer to get\n",
    "\n",
    "$$ \\frac{dt}{dr} = -\\frac{\\tilde E}{1-2M/r}\\left( \\frac{r}{2M} \\right)^{1/2} $$\n",
    "\n",
    "E goes away due to our limitation.\n",
    "\n",
    "$$ \\frac{dt}{dr} = -\\frac{1}{1-2M/r}\\left( \\frac{r}{2M} \\right)^{1/2} $$\n",
    "\n",
    "Which can be rewritten\n",
    "\n",
    "$$ \\frac{dt}{dr} = -\\frac{r^2}{\\sqrt{2M}r-(2M)^{3/2}} $$\n",
    "\n",
    "Which we then beg the comptuer to integrate for us. And hey, it actually produces something that doesn't look insane! [1](#1) was used over geogebra since its results were neater.\n",
    "\n",
    "$$ t = - \\frac{ 8M^2 ln(|r-2M|) + r^2 + 4Mr }{2^{3/2} \\sqrt{M}} + C $$"
   ]
  },
  {
   "cell_type": "markdown",
   "id": "aaf7e6ef",
   "metadata": {},
   "source": [
    "Now when R=r, the time needs to equal zero, so this produces the exact equation:\n",
    "\n",
    "$$ t = - \\frac{ 8M^2 ln(|r-2M|) + r^2 + 4Mr }{2^{3/2} \\sqrt{M}} + \\frac{ 8M^2 ln(|R-2M|) + R^2 + 4MR }{2^{3/2} \\sqrt{M}} $$"
   ]
  },
  {
   "attachments": {
    "Screenshot%20from%202022-06-27%2012-40-43.png": {
     "image/png": "[encoded data removed]"
    }
   },
   "cell_type": "markdown",
   "id": "06a839e2",
   "metadata": {},
   "source": [
    "Now we note that there is a discontinuity where there should be, ln(r-2M) when r=2M is not the happy times. Except it is for us becasue it's what we were expecting. However, we still need to check the rest of the behavior: does the time keep increasing as r decreases? Yes! in fact we have a nice graph here:\n",
    "\n",
    "![Screenshot%20from%202022-06-27%2012-40-43.png](attachment:Screenshot%20from%202022-06-27%2012-40-43.png)"
   ]
  },
  {
   "cell_type": "markdown",
   "id": "1be3e2bd",
   "metadata": {},
   "source": [
    "The bevahior *inside* the event horizon is also fascinating, though may not be realistic. Almost like time is winding backward in there. Which usually is an absurd conclusion but black holes are weird enough that you might not know for sure...\n",
    "Regardless, falling IN, time increases without bound. At least, as far as the observer is concerned. "
   ]
  },
  {
   "cell_type": "markdown",
   "id": "d1a926a1",
   "metadata": {},
   "source": [
    "*b) Find $\\tau(r), r(\\eta), \\tau(\\eta), t(\\eta)$ when $\\tilde E > 1$. You can get these from 12.4.21-24 by defining R such that 2M/R = $\\tilde E-1$ and changing the sign of R in these equations. Show that 2M/R = $v^2_\\infty / (1-v^2_\\infty)$*"
   ]
  },
  {
   "cell_type": "markdown",
   "id": "ca4d5cda",
   "metadata": {},
   "source": [
    "Ah yes, the formulae of **Problem 6** that were basically impossible to deal with from integreation funk. However if we take the problem here at face value, we should be able to get our relations just by replacing R with -R. At which point it becomes trivial.\n",
    "\n",
    "$$ \\tau = \\left( \\frac{-R^3}{8M} \\right)^{1/2} \\left[ 2 \\left( -\\frac{r}{R} - \\frac{r^2}{R^2} \\right)^{1/2} + acos \\left( -\\frac{2r}{R} - 1 \\right) \\right] $$\n",
    "\n",
    "$$ r = -\\frac{R}{2}(1+cos\\eta) $$\n",
    "\n",
    "$$ \\tau = \\left( -\\frac{R^3}{8M} \\right)^{1/2} (\\eta + sin\\eta) $$\n",
    "\n",
    "$$ \\frac{t}{2M} = ln\\left| \\frac{(-R/2M - 1)^{1/2}+tan(\\eta/2)}{(-R/2M - 1)^{1/2}-tan(\\eta/2)} \\right| + \\left( \\frac{-R}{2M}-1 \\right)^{1/2}\\left[ \\eta + \\frac{-R}{4M}(\\eta+sin\\eta)\\right]$$"
   ]
  },
  {
   "cell_type": "markdown",
   "id": "96816287",
   "metadata": {},
   "source": [
    "Okay so now that we have these, we want to show that the initial velocity at infinity is related to 2M/R. This is essentially the same as saying $\\tilde E - 1 = \\frac{2M}{R}$ So if we can prove:\n",
    "\n",
    "$$ \\tilde E - 1 = \\frac{v^2_\\infty}{1-v^2_\\infty} $$\n",
    "\n",
    "We have it. "
   ]
  },
  {
   "cell_type": "markdown",
   "id": "041462fc",
   "metadata": {},
   "source": [
    "We note that radial velocity is a known quantity of $ \\sqrt{2M}{r} $ so we can rewrite our relation as:\n",
    "\n",
    "$$\\frac{2M/r}{1-2M/r} = (1-2M/r)\\frac{dt}{d\\tau} - 1$$\n",
    "\n",
    "Now we can re-arrange this to say:\n",
    "\n",
    "$$ \\frac{d\\tau}{dt} = \\left( 1 - 2M/r \\right)^2  $$\n",
    "\n",
    "And we can potentailly get this derivative. Annoyingly the direct solution 12.4.15 has $\\tilde E$ in it so we're going to have to go around a backdoor to resolve this one. That backdoor is:\n",
    "\n",
    "$$ \\frac{dt}{d\\eta}\\frac{d\\eta}{dr}\\frac{dr}{dt} $$\n",
    "\n",
    "Now the last one is just the velocity itself, which we arleady discussed is $ \\sqrt{2M}{r} $. \n",
    "\n",
    "We have r($\\eta$) so we just reverse it, getting an equation\n",
    "\n",
    "$$ \\eta = acos\\left( -\\frac{2r}{R}-1 \\right) $$"
   ]
  },
  {
   "cell_type": "markdown",
   "id": "530933b4",
   "metadata": {},
   "source": [
    "And we stop ourselves here because that THIRD equation is not getting differentiated with respect to $\\eta$. (see the t($\\eta$) function above.) Just... no, defintely no, nope. Just going to... leave this. "
   ]
  },
  {
   "cell_type": "markdown",
   "id": "84e74571",
   "metadata": {},
   "source": [
    "<a id='P8'></a>\n",
    "\n",
    "# Problem 8 \\[Back to [top](#toc)\\]\n",
    "$$\\label{P8}$$\n",
    "\n",
    "*Show that 12.4.26 reduces to the familiar Newtonian expression for particle motion in a central gravitational field when 2M/r << 1.*\n",
    "\n",
    "First of all we had to remind ourselves of the goal with [2](#2). Via Lagrangian Mechanics (and fumbling around) we produced:\n",
    "\n",
    "$$ \\ddot r = \\dot r - r \\dot \\phi^2 $$\n",
    "\n",
    "Though this is the completely arbitrary case, we have a gravitaional field. Via the convenience of not needing to assign a constraint, we can just insert the force in like so:\n",
    "\n",
    "$$ \\ddot r = \\dot r - r \\dot \\phi^2 - \\frac{GMm}{r^2} $$\n",
    "\n",
    "Also kind of has to be this, as when at rest the acceleration has to be just the force. "
   ]
  },
  {
   "cell_type": "markdown",
   "id": "bcd4b2cd",
   "metadata": {},
   "source": [
    "Which is pretty sensible: the normal acceleration term with an added centrifugal term. \n",
    "\n",
    "$$\\left( \\frac{dr}{d\\tau} \\right)^2 = \\tilde E^2 - V(r)$$\n",
    "\n",
    "So first of all let's examine V(r). It is given by:\n",
    "\n",
    "$$ V(r) = \\left( 1-\\frac{2M}{r} \\right) \\left( 1+\\frac{\\tilde l^2}{r^2} \\right) $$\n",
    "\n",
    "Under our small limit, we end up with:\n",
    "\n",
    "$$ V(r) =  1+\\frac{\\tilde l^2}{r^2} $$\n",
    "\n",
    "From the definition of angular momentum...\n",
    "\n",
    "$$ V(r) =  1+\\frac{(m\\dot\\phi r)^2}{m^2r^2} = 1 + \\dot\\phi^2 $$"
   ]
  },
  {
   "cell_type": "markdown",
   "id": "abd3b39f",
   "metadata": {},
   "source": [
    "So now our original expression is:\n",
    "\n",
    "$$\\left( \\frac{dr}{d\\tau} \\right)^2 = \\tilde E^2 - 1 - \\frac{\\tilde l}{r^2}$$\n",
    "\n",
    "Since we're going for the netwonian limit, the proper time becomes just the time and we can replace the left side with the simple radial velocity. \n",
    "\n",
    "$$\\dot r^2 = \\tilde E^2 - 1 - \\frac{\\tilde l}{r^2}$$\n",
    "\n",
    "Now E is equal to $(1-2M/r)\\dot t$. However, the rate at which time ticks is one second per second in Netwonian, so it simply reduces to 1. $\\tilde E$ reduces to 1/m. \n",
    "\n",
    "$$\\dot r^2 = \\frac{1}{m^2} - 1 - \\frac{\\tilde l}{r^2}$$\n",
    "\n",
    "Substitute for l as well...\n",
    "\n",
    "$$\\dot r^2 = \\frac{1}{m^2} - 1 - \\frac{r^2\\dot \\phi}{mr^2}$$\n",
    "$$\\Rightarrow \\dot r^2 = \\frac{1}{m^2} - 1 - \\frac{\\dot \\phi}{m}$$"
   ]
  },
  {
   "cell_type": "markdown",
   "id": "be256410",
   "metadata": {},
   "source": [
    "There have been a lot more nonsense scribbled on notebook paper, but none of it gets to what the result should be. "
   ]
  },
  {
   "cell_type": "markdown",
   "id": "910a919e",
   "metadata": {},
   "source": [
    "<a id='P9'></a>\n",
    "\n",
    "# Problem 9 \\[Back to [top](#toc)\\]\n",
    "$$\\label{P9}$$\n",
    "\n",
    "*a) Show that $\\partial V / \\partial r = 0$ when*\n",
    "\n",
    "$$ Mr^2 - \\tilde l^2 r + 3M \\tilde l^2 = 0 $$\n",
    "\n",
    "*and hence that there are no maxima or minima of V for $\\tilde l < 2\\sqrt{3}M$*"
   ]
  },
  {
   "cell_type": "markdown",
   "id": "8669c19a",
   "metadata": {},
   "source": [
    "See we did these parts out of order. So we already know the derivative. \n",
    "\n",
    "$$ V' = \\frac{2M}{r^2} - \\frac{2\\tilde l^2}{r^3} + \\frac{6M \\tilde l^2}{r^4}  $$\n",
    "\n",
    "Similar solution method, set to zero, turn into a quadratic.\n",
    "\n",
    "$$ 0 = \\frac{2M}{r^2} - \\frac{2\\tilde l^2}{r^3} + \\frac{6M \\tilde l^2}{3r^4}  $$\n",
    "\n",
    "$$ \\Rightarrow 0 = 2Mr^2 - 2\\tilde l^2r + 6M \\tilde l^2  $$\n",
    "\n",
    "$$ \\Rightarrow 0 = Mr^2 - \\tilde l^2r + 3M \\tilde l^2  $$\n",
    "\n",
    "Okay so maybe we see why this part came first. Ehe. "
   ]
  },
  {
   "cell_type": "markdown",
   "id": "2d9df50e",
   "metadata": {},
   "source": [
    "*b) Show that $V_{max}$ = 1 for $\\tilde l = 4M$*"
   ]
  },
  {
   "cell_type": "markdown",
   "id": "372400ae",
   "metadata": {},
   "source": [
    "Our friend V is:\n",
    "\n",
    "$$ V(r) = \\left( 1-\\frac{2M}{r} \\right) \\left( 1+\\frac{\\tilde l^2}{r^2} \\right) $$\n",
    "\n",
    "Do the suggested substitution and then have fun with it:\n",
    "\n",
    "$$ V(r) = \\left( 1-\\frac{2M}{r} \\right) \\left( 1+\\frac{16M^2}{r^2} \\right) $$"
   ]
  },
  {
   "cell_type": "markdown",
   "id": "2f9771ac",
   "metadata": {},
   "source": [
    "$$ = \\left( 1 - \\frac{2M}{r} + \\frac{16M^2}{r^2} - \\frac{32M^3}{r^3} \\right) $$\n",
    "\n",
    "Now take the derivative and look for zeroes. \n",
    "\n",
    "$$ 0 = 0 + \\frac{2M}{r^2} - \\frac{32M^2}{r^3} + \\frac{96M^3}{r^4}  $$\n",
    "$$ \\Rightarrow 0 + \\frac{1}{r^2} - \\frac{16M}{r^3} + \\frac{48M^2}{r^4}  $$\n",
    "$$ \\Rightarrow 0 = r^2 - 16Mr + 48M^2  $$\n",
    "\n",
    "Solve the quadratic formula."
   ]
  },
  {
   "cell_type": "markdown",
   "id": "8b9f4e37",
   "metadata": {},
   "source": [
    "Answers: 4M or 12M. Plugging these back into the original expression for V results in \n",
    "\n",
    "V(r) = (1 - 1/2)(1 + 1) = (1/2)(2) = 1\n",
    "\n",
    "V(r) = (1 - 1/6)(1 + 1/9) = (5/6)(10/9) = 50/54 = 25/27\n",
    "\n",
    "We're not quite done yet, though. 1 is simply the largest MAXIMA, is it the absolute maximum? We could conceivably grow without bound. Well, as r goes to 0 the expression diverges to negative infinity as the cubic term dominates. As r goes to infinity, it the expression *also* approaches 1, so it's the same maximum in both places. So yes, now we have proven it. \n",
    "\n",
    "Aslo as for our 12M point, that's a local minimum. "
   ]
  },
  {
   "cell_type": "markdown",
   "id": "f5e9078f",
   "metadata": {},
   "source": [
    "<a id='P10'></a>\n",
    "\n",
    "# Problem 10 \\[Back to [top](#toc)\\]\n",
    "$$\\label{P10}$$\n",
    "\n",
    "*Show that the circular Schwarzchild orbits are stable if r>6M and unstable if r<6M*\n",
    "\n",
    "Okay so we could do this one algebraically but we want to do it graphically because it'd be cool to see it. Given an angular momentum l we can find a radius of circular orbit r which will correspond to the larger-r solution to the quadratic formula in **Problem 9**. Using the completely general form, this becomes:\n",
    "\n",
    "$$ r = \\frac{\\frac{\\tilde l^2}{M} + \\sqrt{\\frac{\\tilde l^4}{M^2} - 12 \\tilde l^2}}{2} $$"
   ]
  },
  {
   "attachments": {
    "Screenshot%20from%202022-06-27%2015-44-25.png": {
     "image/png": "[encoded data removed]"
    }
   },
   "cell_type": "markdown",
   "id": "50c9ff79",
   "metadata": {},
   "source": [
    "Setting M=1 since we want units in terms of M anyway, we arrive at:\n",
    "\n",
    "$$ r = \\frac{\\tilde l^2 + \\sqrt{\\tilde l^4 - 12 \\tilde l^2}}{2} $$\n",
    "\n",
    "And with angular momentum on x and r on y, we get:\n",
    "\n",
    "![Screenshot%20from%202022-06-27%2015-44-25.png](attachment:Screenshot%20from%202022-06-27%2015-44-25.png)\n",
    "\n",
    "My would you look at that, r cannot have a magnitude of less than six (in units of M), the extrema no longer exists. This corresponds with the moment the radical becomes negative but we're not going to calculate that out. "
   ]
  },
  {
   "cell_type": "markdown",
   "id": "6e2f268d",
   "metadata": {},
   "source": [
    "<a id='P11'></a>\n",
    "\n",
    "# Problem 11 \\[Back to [top](#toc)\\]\n",
    "$$\\label{P11}$$\n",
    "\n",
    "*a) Show that in Newtonian theory, a distant nonrelativistic test particle can only be captured by a star of mass M and radius R if $\\tilde l < \\tilde l_{crit} \\approx \\sqrt{2MR}$*\n",
    "\n"
   ]
  },
  {
   "cell_type": "markdown",
   "id": "4b916587",
   "metadata": {},
   "source": [
    "Okay so let's think about how to do this, and what exactly the expression means. The thing is, angular momentum is conserved, so any object with any angular momentum will keep that angular momentum in an isolated particle-star system. In an isolated system this means to stay in orbit the particle would have to already *be* in orbit. The limit between being in orbit and NOT being in orbit is a parabolic trajectory: less angular momentum is an ellipse, more is a hyperbola. So what we need to do is find the angular momentum of a parabolic orbit, and that will be our limit. The only R that makes sense in this equation is the R of closest approach, as no other R except for infinity is prefered. M is the mass of the body. The mass of the particle is irrelevant as we will be dividing it out. \n",
    "\n",
    "Angular momentum is mvr, so our divided out angular momentum is vr. At closest approach it is vR, where v is just the velocity at that moment. By conservation of energy, we note that at infinity the particle has no speed, no energy, and no gravitaitonal potential. (This is not true for a hypebolic orbit, where the particle can truly escape--the parabola is the boundary condition, and thus has these extrema.) Thus the energy for the particle out this distant is 0. The energy at the closest point is kinetic energy, and gravitational energy--the latter of which is negative. NOTE: as the particle itself is not rotating there is no \"rotational kinetic energy\". In fact $I\\omega^2 = mv^2$. \n",
    "\n",
    "$$ E = \\frac12 mv^2 - \\frac{GMm}{r} = 0$$\n",
    "$$ \\Rightarrow \\frac{GMm}{r} = \\frac12 mv^2 $$\n",
    "$$ \\Rightarrow \\frac{GM}{r} = \\frac12 v^2 $$\n",
    "$$ \\Rightarrow 2GMr =  v^2r^2 $$\n",
    "$$ \\Rightarrow \\sqrt{2GMr} = \\tilde L $$\n",
    "\n",
    "Now in general relativity G=1 and we already said r=R so...\n",
    "\n",
    "$$ \\tilde L = \\sqrt{2MR} $$\n",
    "\n",
    "NOTE TO SELF: seriously, seriously, seriously remember the difference betwewn GMm/r and $GMm/r^2$. One is an energy, the other is a force. Force. Using the wrong one can be catastrophic. "
   ]
  },
  {
   "cell_type": "markdown",
   "id": "e85a3d72",
   "metadata": {},
   "source": [
    "*b) Taking into account general relativity, can particles with much larger values of angular momentum be captured by neutron stars? By whtie dwarves?*"
   ]
  },
  {
   "cell_type": "markdown",
   "id": "88d42d16",
   "metadata": {},
   "source": [
    "Now whatever type of orbit this takes, our assumption for the energy at infinity must remain the same--we are looking for the border, so the energy is reduced to zero at infinity. Unmoving, but no gravity either. However, energy is quite... *funky* in the situations here. Let's examine the energy relation between \"local\" energy and \"observed\" energy. \n",
    "\n",
    "$$ E = \\sqrt{1-\\frac{2M}{r}} E_{local}$$\n",
    "\n",
    "Now, we know that E itself is conserved (it is the energy-at-infinity), as it is an absolute quantity. However, the $E_{local}$ is not. Rather than worrying about how exactly this realtes, we note that 12.4.11 gives us this lovely equation:\n",
    "\n",
    "$$ l = E_{local}rv^{\\hat\\phi} $$\n",
    "\n",
    "Which means we have an expression for the angular momentum in terms of the local energy, which we then write as:\n",
    "\n",
    "$$ l = \\frac{1}{\\sqrt{1-\\frac{2M}{r}}}Erv^{\\hat\\phi} $$"
   ]
  },
  {
   "cell_type": "markdown",
   "id": "f3d91aa2",
   "metadata": {},
   "source": [
    "This is actually relativistic energy, though. Fortunately for us it is just the mass of the partile as all other energy is 0, which we then divide out to get what we want. \n",
    "\n",
    "$$ \\tilde l = \\frac{1}{\\sqrt{1-\\frac{2M}{r}}}rv $$\n",
    "\n",
    "Let's find this at the point of closest approach.\n",
    "\n",
    "$$ \\tilde l = \\frac{1}{\\sqrt{1-\\frac{2M}{R}}}Rv $$\n",
    "\n",
    "Now this is our new form of l = Rv. Now from part a) we already have rv, it's the normal angular momentum: $\\sqrt{2MR}$ Which means our result is:\n",
    "\n",
    "$$ \\tilde l = \\frac{\\sqrt{2MR}}{\\sqrt{1-\\frac{2M}{R}}} $$"
   ]
  },
  {
   "cell_type": "markdown",
   "id": "7f5341c1",
   "metadata": {},
   "source": [
    "The controlling factor here is the M/R ratio. in the relativistic limit M/R << 1, that is, R dominates, and we end up with our original expression. However, that ratio can grow... at 2M/R = 1 there's a discontinuity, but at that point is the event horizon. At the event horizon the angular momentum increases without bound, which makes sense--at that point even an infinite angular momentum couldn't escape. So black holes can not only absorb large angular momentum, they can absorb infinitely large angular momentum.\n",
    "\n",
    "However, what about neutron stars and white dwarves? Well, that depends entirely on the M/R ratio. We take R to be the extreme: just barely above the surface. Note that everything must be in relativistic units. Distances remain the same in meters, but 1 kg is converted to 7.425e-28 m (General Relativity pg 187). Also helpful to know that a solar mass is 1.476e3 m. \n",
    "\n",
    "So let's dig for some numbers. Table 1.1 provides some rough estimates, which we take the extreme limits of. \n",
    "\n",
    "Neutron stars have 3 solar masses at maximum and around 7000 m radius. Except... these numbers would create a black hole, as 5000 < 8856. making 2M/R > 1. But that's right, neutron stars get *smaller* as they get larger, so all right fine let's use a lower limit neutron star mass, 1.4 solar masses. 4132 / 5000 = .826. \n",
    "\n",
    "In other words a pretty huge difference. This increases the angular momentum that can be captured by a factor of 2.4. Keep in mind this is a low-end neutron star, so higher-end ones most likely could take even more. \n",
    "\n",
    "However, white dwarfs at the upper end have roughly the same mass... but a much larger radius. \n",
    "\n",
    "4132 / 5000000 = 8.264e-4. Which is to say, not *unnoticable* but still small. This corresponds to factor of 1.0004. So you could probably measure this. "
   ]
  },
  {
   "cell_type": "markdown",
   "id": "13082336",
   "metadata": {},
   "source": [
    "<a id='P12'></a>\n",
    "\n",
    "# Problem 12 \\[Back to [top](#toc)\\]\n",
    "$$\\label{P12}$$\n",
    "\n",
    "*a) Use 12.4.18 to show that the velocity of a particle in the innermost stable circular orbit as measured by a local static observer is $v^{\\hat\\phi} = \\frac12 (c=1)$*"
   ]
  },
  {
   "cell_type": "markdown",
   "id": "cba9cc48",
   "metadata": {},
   "source": [
    "12.4.18 is\n",
    "\n",
    "$$ v^\\hat\\phi = \\left( 1 - \\frac{2M}{r} \\right)^{1/2} \\frac{\\tilde l}{r \\tilde E} $$\n",
    "\n",
    "We know from **Problem 10** that the innermost stable circular orbit is always at r=6M. So we make that substitution. \n",
    "\n",
    "$$ = \\left( 1 - \\frac{2M}{6M} \\right)^{1/2} \\frac{\\tilde l}{6M \\tilde E} $$\n",
    "\n",
    "$$ = \\left( 1 - 1/3 \\right)^{1/2} \\frac{\\tilde l}{6M \\tilde E} $$\n",
    "\n",
    "$$ = \\left( 2/3 \\right)^{1/2} \\frac{\\tilde l}{6M \\tilde E} $$"
   ]
  },
  {
   "cell_type": "markdown",
   "id": "3350e3f4",
   "metadata": {},
   "source": [
    "Now we need the angular momentum and the energy. Note that since both quantities are divided by m, the difference between them is irrelevant. However, how can we determine the energy and angular momentum of something that deep in a relativistic gravity well? Keep in mind that this is a LOCAL observer as well. \n",
    "\n",
    "We can solve for $\\tilde l$ via **Problem 9**, getting\n",
    "\n",
    "$$ 0 = M(6M)^2 - \\tilde l^26M + 3M \\tilde l^2  $$\n",
    "$$ \\tilde l = \\sqrt{12}M $$"
   ]
  },
  {
   "cell_type": "markdown",
   "id": "e5abcb3b",
   "metadata": {},
   "source": [
    "So now the question is what is the energy? ...Turns out 12.4.28 could have given us the above, and 12.4.9 gives us the following for E.\n",
    "\n",
    "$$ \\tilde E^2 = \\frac{(r-2M)^2}{r(r-3M)} = \\frac{16M^2}{18M^2} $$\n",
    "$$ \\Rightarrow \\tilde E = \\frac{4}{\\sqrt{18}} $$"
   ]
  },
  {
   "cell_type": "markdown",
   "id": "3e5ed3e8",
   "metadata": {},
   "source": [
    "Spent way too long stuck in algebra here for something so simple but here it is:\n",
    "\n",
    "$$ v^{\\hat\\phi} = \\frac{\\sqrt{2}}{\\sqrt{3}} \\frac{1}{6M} \\frac{6M}{\\sqrt{3}} \\frac{3\\sqrt{2}}{4}$$\n",
    "$$ = 2/4 = 1/2 $$\n",
    "\n",
    "Which is exactly what it should be. "
   ]
  },
  {
   "cell_type": "markdown",
   "id": "4b45db35",
   "metadata": {},
   "source": [
    "*b) Suppose that the particle in part a) is emitting monochromatic light at frequency $\\nu_{em}$ in its rest frame. Show that the frequency received at infinity varies periodically between $ \\frac{\\sqrt{2}}{3}\\nu_{em} < \\nu_\\infty < \\sqrt{2} \\nu_{em}$. Hint: write $\\nu_\\infty/\\nu_{em} = (\\nu_\\infty/\\nu_{stat})(\\nu_{stat}/\\nu_{em})$ where $\\nu_{stat}$ is the frequency measured by the local static observer and is related to $\\nu_{em}$ by the special relativistic Doppler formula.*"
   ]
  },
  {
   "cell_type": "markdown",
   "id": "e0bbf201",
   "metadata": {},
   "source": [
    "Physically the extremes are rather obvious: the maximum happens during the approachiung portion of the orbit, the minimum happens during the receeding. The exact question is how do we represent this, as the velocities most certainly do *not* add. However we can track down the special relativistic doppler formula 5.3.3\n",
    "\n",
    "$$ \\frac{\\nu_{rec}}{\\nu_{em}} = \\frac{\\sqrt{-g_{00}}_{em}}{\\sqrt{-g_{00}}_{rec}} $$"
   ]
  },
  {
   "cell_type": "markdown",
   "id": "c4a53967",
   "metadata": {},
   "source": [
    "So what we need is the metric of the particle, the metric of the stationary observer and... we actually don't need the metric because we have the formula for static emitters already as 12.4.10. If we assume the local observer is static and also at r=6M, this means the redshift $\\frac{\\nu_\\infty}{\\nu_{stat}} = \\sqrt{2/3}$\n",
    "\n",
    "In our solution we tried to transform a metric g by the Lorentz transformation. This turned out to not be the proper way to do it even though it produced the exact answer in our incorrect manner of thinking. However, this does mean we can just use the Lorentz transformation directly: consider the stationary observer and the moving observer at the same point at the same \"time\". They differ in reference frame only by the Lorentz Transformation, thus photons emitted from one will differ from the other by the Lorentz factor. The lorentz factor is $\\frac{2}{\\sqrt{3}}$ (regardless of if the particle is moving toward or away from the system.) This transformation makes the adjustment of $\\gamma(1-v)$ which evalutes to either $\\frac{1}{\\sqrt{3}}$ or $\\sqrt{3}$\n",
    "\n",
    "Multiplying this by $\\sqrt{2/3}$ does in fact produce the desired range of $\\sqrt{2}/3$ to $\\sqrt{2}$."
   ]
  },
  {
   "cell_type": "markdown",
   "id": "fc3ca2b2",
   "metadata": {},
   "source": [
    "*c) Compute the orbital period for the particle as measured by the local static observer and by the observer at infinity. Hint: since $d\\hat\\phi = rd\\phi$, the proper circumference of the orbit is simply $2\\pi r$*"
   ]
  },
  {
   "cell_type": "markdown",
   "id": "6e0fb0a5",
   "metadata": {},
   "source": [
    "First of all we already know quite a bit about time dilation. So the observer at infinity and the static observer have a difference of $\\sqrt{3/2}$ Note that the dilation is inversed from part b) since it was dealing with a FREQUENCY, we are now dealing with a PERIOD, which varies inversely. \n",
    "\n",
    "Hold on, we're being silly. The orbital circumference is 2 $\\pi$ r, which is 12 $\\pi$ M. But since we're traveling at HALF light speed, the resulting period is 24 $\\pi$ M. *obviously.*\n",
    "\n",
    "Which means the observed period at infinity is $ 24\\sqrt{3/2} \\pi M $\n",
    "\n",
    "And there's our answer. "
   ]
  },
  {
   "cell_type": "markdown",
   "id": "3c0f3dc1",
   "metadata": {},
   "source": [
    "<a id='P13'></a>\n",
    "\n",
    "# Problem 13 \\[Back to [top](#toc)\\]\n",
    "$$\\label{P13}$$\n",
    "\n",
    "*a) Show that the angular velocity as measured from infinity, $\\Omega = d\\phi / dt$, has the same form in the Schwarzchild geometry as for circular orbits in Newtonian gravity, namely $\\Omega = \\sqrt{\\frac{M}{r^3}}$*"
   ]
  },
  {
   "cell_type": "markdown",
   "id": "8334effc",
   "metadata": {},
   "source": [
    "Okay so it took quite a while to see this, BUT...\n",
    "\n",
    "$$ v^\\hat\\phi = \\frac{d\\hat\\phi}{d\\hat t} = \\frac{rd\\phi}{\\sqrt{1-\\frac{2M}{r}} dt} = \\frac{r}{\\sqrt{1-\\frac{2M}{r}}} v^\\phi $$"
   ]
  },
  {
   "cell_type": "markdown",
   "id": "0b538e6a",
   "metadata": {},
   "source": [
    "Thus we have found the conversion factor from distant to local and vice versa. Using the relation for local, we can get:\n",
    "\n",
    "$$ v^\\phi = \\frac{\\sqrt{1-\\frac{2M}{r}}}{r} \\sqrt{1-\\frac{2M}{r}} \\frac{\\tilde l}{r \\tilde E} $$\n",
    "\n",
    "Which becomes\n",
    "\n",
    "$$ = \\frac{1}{r^2} (1-\\frac{2M}{r}) \\sqrt{\\frac{Mr^2}{r-3M}} \\sqrt{\\frac{r(r-3M)}{(r-2M)^2}} $$\n",
    "$$ = \\frac{1}{r^3}  \\sqrt{Mr^3} $$\n",
    "$$ = \\sqrt{\\frac{M}{r^3}} $$\n",
    "\n",
    "Which is what we sought."
   ]
  },
  {
   "cell_type": "markdown",
   "id": "14f9867d",
   "metadata": {},
   "source": [
    "*b) Use this result to confirm the value of $T_\\infty$ found in **Problem 12**.*"
   ]
  },
  {
   "cell_type": "markdown",
   "id": "ff534ce4",
   "metadata": {},
   "source": [
    "Replace r with 6M, get $\\sqrt{\\frac{1}{216M^2}}$ for the angular frequency. This is presumably in radians per second, and we want seconds, so flip it and multiply by $2\\pi$ to get\n",
    "\n",
    "$$ T = 2\\pi\\sqrt{216M^2} = 2\\pi M \\sqrt{216} = 12 \\pi M \\sqrt{6} = 24 \\pi M \\sqrt{3/2} $$\n",
    "\n",
    "Yes this is the relation we got before. "
   ]
  },
  {
   "cell_type": "markdown",
   "id": "a7fe0dcc",
   "metadata": {},
   "source": [
    "<a id='P14'></a>\n",
    "\n",
    "# Problem 14 \\[Back to [top](#toc)\\]\n",
    "$$\\label{P14}$$\n",
    "\n",
    "*Show that an outwart-direacted photon emitted between r=2M and r=3M escapes if*\n",
    "\n",
    "$$ \\sin \\psi < \\frac{3\\sqrt{3} M}{r} \\sqrt{1-\\frac{2M}{r}} $$"
   ]
  },
  {
   "cell_type": "markdown",
   "id": "13b1a59c",
   "metadata": {},
   "source": [
    "All this does is flip the inequality sign, very curious that the relation is equally mirrored especially when the outer one technically goes to infinite distance and this one just goes from 2M to 3M. \n",
    "\n",
    "Let's think about it in reverse: the impact parameter of an outgoing photon at the \"edge\" would be the minimum impact parameter for that. No matter what b > $3\\sqrt{3}M$ is required. In this case, we make the requirement of escape $v^{\\hat r} > 0$ AND b > $3\\sqrt{3}M$. The difference in condition between this and the \"inward\" version is the inequality flip on the sign of the radial velocity. In practice this jsut means that we just have to examine 12.5.14 more closely:\n",
    "\n",
    "$$ sin\\phi = v^\\hat\\phi = \\frac{b}{r} \\left( 1-\\frac{2M}{r} \\right)^{1/2} $$\n",
    "\n",
    "Now the limit is where b > $3\\sqrt{3}M$$. The question is, how can we show the sign's direction? "
   ]
  },
  {
   "cell_type": "markdown",
   "id": "b24e2b53",
   "metadata": {},
   "source": [
    "The answer is we note that the angle $\\psi$ is beteen 0 and 90 degrees, not 90 and 180 degrees like for the inward version. This means that the shape of the sine curve is *reversed*, and thus the sign goes the other way. We can be extra sure we're calibraitng it correctly due to the 0-degree direction *needing* to be the one that escapes, and what do you know as r approaches 2M we do in fact approach zero overall. So...\n",
    "\n",
    "$$ sin\\phi < \\frac{b}{r} \\left( 1-\\frac{2M}{r} \\right)^{1/2} $$\n",
    "\n",
    "In a sense we can consider the line r=3M to be a \"mirror\" of interior and exterior solutions, with the ends of the various \"Sides\" being the event horizon and the distance at infinity. What fun. "
   ]
  },
  {
   "cell_type": "markdown",
   "id": "989d1d96",
   "metadata": {},
   "source": [
    "<a id='P15'></a>\n",
    "\n",
    "# Problem 15 \\[Back to [top](#toc)\\]\n",
    "$$\\label{P15}$$\n",
    "\n",
    "*The angular momentum of the sun (assuming uniform rotation) is 1.63e48 $g cm^2 / s$. What is a/M for the sun?*\n",
    "\n",
    "This is just an exersise in unit conversion. Solar mass M is 1.476e3 in c=G=1 units. \n",
    "\n",
    "First, convert our angular momentum to metric, which means converting square cm to m, which is an order of magnitude 4 adjustment to 1.63e44. Then g to kg which is also down, order of 3, to 1.63e41. Now we're cooking in $kg m^2 / s$. Curiously this is the same exact units as the constant $\\hbar$, presumably because it has something to do with spin. Either way, the conversion factor is known: 2.476e-36 converts into units of $m^2.$\n",
    "\n",
    "So J is 4.036e5 $m^2$. \n",
    "\n",
    "Thus J/M = 273.4 = a. \n",
    "\n",
    "And a/M is 0.185. Which is exactly the answer we're supposed to get. \n",
    "\n",
    "Now we don't exactly know the sigificance of a/M which is just $J/M^2$ but perhaps it will become clear later. \n",
    "\n",
    "Next page points out that if the sun were a black hole it would be a naked singularity without an event horizon as its a < M.  "
   ]
  },
  {
   "cell_type": "markdown",
   "id": "1b3e30d2",
   "metadata": {},
   "source": [
    "<a id='P16'></a>\n",
    "\n",
    "# Problem 16 \\[Back to [top](#toc)\\]\n",
    "$$\\label{P16}$$\n",
    "\n",
    "*Discuss the restriction 12.7.6 in the weak-field limit.*"
   ]
  },
  {
   "cell_type": "markdown",
   "id": "1bbe3d02",
   "metadata": {},
   "source": [
    "12.7.6 is $\\Omega_{min} < \\Omega < \\Omega_{max}$\n",
    "\n",
    "Now we can actually calculate these terms via 12.7.7\n",
    "\n",
    "$$ \\Omega_{ ^{min}_{max}} = \\frac{-g_{t\\phi} \\pm \\sqrt{g^2_{t\\phi} - g_{tt}g_{\\phi\\phi}}}{g_{\\phi\\phi}}$$"
   ]
  },
  {
   "cell_type": "markdown",
   "id": "b6376ff0",
   "metadata": {},
   "source": [
    "Now, yes, we are in the weak field limit, but we are also in the Kerr metric. Assuming that \"weak field\" means that the $\\Sigma$ gets arbitrarily large so the tt term goes to -1, this results in:\n",
    "\n",
    "$$ \\Omega_{ ^{min}_{max}} = \\frac{ \\pm \\sqrt{ - (-1)(r^2+a^2)sin^2\\theta}}{(r^2+a^2)sin^2\\theta}$$\n",
    "\n",
    "$$ = \\frac{ \\pm \\sqrt{(r^2+a^2)}}{(r^2+a^2)sin\\theta}$$\n",
    "\n",
    "$$ = \\frac{ \\pm 1}{\\sqrt{r^2+a^2}sin\\theta}$$"
   ]
  },
  {
   "cell_type": "markdown",
   "id": "8d9008e6",
   "metadata": {},
   "source": [
    "Which reduces to what we want if we let r >> a which seems reasonable, as the angular momentum has an upper limit to realism, r does not. \n",
    "\n",
    "$$ \\Omega_{ ^{min}_{max}} = \\frac{ \\pm 1}{r sin\\theta}$$\n",
    "\n",
    "Which would be multiplied by c to get the physical velocities, but let's stay in c=1 units for now. "
   ]
  },
  {
   "cell_type": "markdown",
   "id": "dd493d3c",
   "metadata": {},
   "source": [
    "Now this is not the ergosphere condition, we can in fact make a situation where the angular velocity is zero. What this refers to is how fast something must be rotating based on its azimuthal angle, $\\theta$, for the observer \"stationary\" to the rotating black hole. Notably we can't get a value any greater than c out of this which, well, *better* be true because otherwise everything would break, and rahter spectacularly at that. \n",
    "\n",
    "While this is not the ergosphere we can start to see the shape of the ergosphere from this, and from the equation we used we can see that the off-diagonal terms are actually rather important in defining it."
   ]
  },
  {
   "cell_type": "markdown",
   "id": "fadde58a",
   "metadata": {},
   "source": [
    "<a id='P17'></a>\n",
    "\n",
    "# Problem 17 \\[Back to [top](#toc)\\]\n",
    "$$\\label{P17}$$\n",
    "\n",
    "*Show that Kepler's Third Law takes the form*\n",
    "\n",
    "$$ \\Omega = \\pm \\frac{\\sqrt{M}}{r^{3/2} \\pm a\\sqrt{M}} $$\n",
    "\n",
    "*for circular equatorial orbits in the Kerr metric. Here $\\Omega = d\\phi / dt = \\dot\\phi / \\dot{t}$*"
   ]
  },
  {
   "cell_type": "markdown",
   "id": "350c2125",
   "metadata": {},
   "source": [
    "So all we need to do is divide the given derivative forms from 12.7.12-13. Let's go ahead and arrange it all into:\n",
    "\n",
    "$$ \\Omega  = \\frac{(r-2M)l+2aME}{r\\Delta}\\frac{r\\Delta}{(r^3+a^2r+2Ma^2)E-2aMl}$$\n",
    "\n",
    "$$ = \\frac{(r-2M)l+2aME}{(r^3+a^2r+2Ma^2)E-2aMl}$$"
   ]
  },
  {
   "cell_type": "markdown",
   "id": "37fbc647",
   "metadata": {},
   "source": [
    "This is the general form. Now we need to specify for circular orbits. This condition is given to us in 12.7.16 which, very luckily, we don't have to solve and isntead can rely on the l and E values in 12.7.17-18. Notably these are the \"1/m\" versions, but since we have an equal number on top and bottom, that will cancel out. This substitution provides:\n",
    "\n",
    "$$ = \\frac{(r-2M)\\left( \\pm \\frac{\\sqrt{Mr}(r^2 \\mp 2a\\sqrt{Mr}+a^2)}{r(\\sqrt{r^2-3Mr \\pm 2a\\sqrt{Mr}})} \\right)+2aM\\left( \\frac{r^2 - 2Mr \\pm a\\sqrt{Mr}}{r\\sqrt{r^2-3Mr \\pm 2a\\sqrt{Mr}}} \\right)}{(r^3+a^2r+2Ma^2)\\left( \\frac{r^2 - 2Mr \\pm a\\sqrt{Mr}}{r\\sqrt{r^2-3Mr \\pm 2a\\sqrt{Mr}}} \\right)-2aM\\left( \\pm \\frac{\\sqrt{Mr}(r^2 \\mp 2a\\sqrt{Mr}+a^2)}{r(\\sqrt{r^2-3Mr \\pm 2a\\sqrt{Mr}})} \\right)}$$"
   ]
  },
  {
   "cell_type": "markdown",
   "id": "e22ff331",
   "metadata": {},
   "source": [
    "Now that's a beast right there. However, *all* the denominators are the same, so they can just be removed. \n",
    "\n",
    "$$ = \\frac{(r-2M)\\left( \\pm \\sqrt{Mr}(r^2 \\mp 2a\\sqrt{Mr}+a^2) \\right)+2aM\\left( r^2 - 2Mr \\pm a\\sqrt{Mr} \\right)}{(r^3+a^2r+2Ma^2)\\left( r^2 - 2Mr \\pm a\\sqrt{Mr} \\right)-2aM\\left( \\pm \\sqrt{Mr}(r^2 \\mp 2a\\sqrt{Mr}+a^2) \\right)}$$"
   ]
  },
  {
   "cell_type": "markdown",
   "id": "8a5feb8c",
   "metadata": {},
   "source": [
    "Multiply *everything* out, look for cancelations or common terms. \n",
    "\n",
    "$$ = \\frac{ \\pm r\\sqrt{Mr}(r^2 \\mp 2a\\sqrt{Mr}+a^2) \\mp 2M\\sqrt{Mr}(r^2 \\mp 2a\\sqrt{Mr}+a^2) + 2aMr^2 - 4aM^2r \\pm 2a^2M\\sqrt{Mr} }{r^5 + a^2r^3 + 2Ma^2r^2 - 2Mr^4 - 2Ma^2r^2 - 4M^2a^2r \\pm r^3a\\sqrt{Mr} \\pm a^3r\\sqrt{Mr} \\pm 2Ma^3\\sqrt{Mr} \\mp 2aM\\sqrt{Mr}(r^2 \\mp 2a\\sqrt{Mr}+a^2)}$$\n",
    "\n",
    "Getting ugly but we still aren't done yet. "
   ]
  },
  {
   "cell_type": "markdown",
   "id": "5055b9f3",
   "metadata": {},
   "source": [
    "$$ = \\frac{ \\pm r^3\\sqrt{Mr} - 2aMr^2 \\pm a^2r\\sqrt{Mr} \\mp 2Mr^2\\sqrt{Mr} + 4aM^2r \\mp 2Ma^2\\sqrt{Mr} + 2aMr^2 - 4aM^2r \\pm 2a^2M\\sqrt{Mr} }{r^5 + a^2r^3 + 2Ma^2r^2 - 2Mr^4 - 2Ma^2r^2 - 4M^2a^2r \\pm r^3a\\sqrt{Mr} \\pm a^3r\\sqrt{Mr} \\pm 2Ma^3\\sqrt{Mr} \\mp 2aMr^2\\sqrt{Mr} + 4a^2M^2r + \\mp 2a^3M\\sqrt{Mr}}$$\n",
    "\n",
    "And NOW we can look for hopefully obvious cancelations or common terms. "
   ]
  },
  {
   "cell_type": "markdown",
   "id": "e486a61c",
   "metadata": {},
   "source": [
    "$$ = \\frac{ \\pm r^3\\sqrt{Mr} \\pm a^2r\\sqrt{Mr} \\mp 2Mr^2\\sqrt{Mr} }{r^5 + a^2r^3 - 2Mr^4 \\pm r^3a\\sqrt{Mr} \\pm a^3r\\sqrt{Mr} \\mp 2aMr^2\\sqrt{Mr}}$$\n",
    "\n",
    "Good... good. Now start pulling out terms of the goal. The numerator should reveal what needs to cancel.\n",
    "\n"
   ]
  },
  {
   "cell_type": "markdown",
   "id": "e134ec7b",
   "metadata": {},
   "source": [
    "$$ = \\frac{ (\\pm \\sqrt{M})(r^3\\sqrt{r} + a^2r\\sqrt{r} - 2Mr^2\\sqrt{r}) }{r^{3/2}(r^{7/2} + a^2r^{3/2} - 2Mr^{5/2}) \\pm ( a\\sqrt{M})(r^3\\sqrt{r} + a^2r\\sqrt{r} - 2Mr^2\\sqrt{r})}$$\n",
    "\n",
    "And would you look at that.\n",
    "\n",
    "$$ = \\frac{ \\pm \\sqrt{M} }{r^{3/2} \\pm a\\sqrt{M}}$$\n",
    "\n",
    "Almost like magic."
   ]
  },
  {
   "cell_type": "markdown",
   "id": "7027eff9",
   "metadata": {},
   "source": [
    "<a id='P18'></a>\n",
    "\n",
    "# Problem 18 \\[Back to [top](#toc)\\]\n",
    "$$\\label{P18}$$\n",
    "\n",
    "*Consider a particle with $\\tilde l=0$ released form rest far from a Kerr black hole. Show that the particle \"Corotates with the geometry\" as it spirals toward the hole along a conical surface of constant $\\theta$. In other words, show that the particle aquires an angular velocity $d \\phi / d t = \\omega(r,\\theta)$ as viewed from infinity, where:*\n",
    "\n",
    "$$ \\omega(r,\\theta) = \\frac{2aMr}{(r^2+a^2)^2 - \\Delta a^2sin^2\\theta} $$\n",
    "\n",
    "*Note: observers at fixed r and $\\theta$ with zero angular momentum also \"corotate with the geometry\" with angular velocity $\\omega$. Such observers define the so-called \"locally nonrotating frame\" (LNRF); according to such observers, the released particle described above appears to move **radially** locally.*"
   ]
  },
  {
   "cell_type": "markdown",
   "id": "92fd61c4",
   "metadata": {},
   "source": [
    "So in **Problem 17** we did this for circular orbits. However, this, quite frankly, is NOT a circular orbit. It's a spiraling orbit. However, what we know is that we're dropping something with angular momentum zero at essentially infinity. Angular momentum is zero in this case, and the Energy is just the rest mass m. Of course, since l=0, the energy is just going to divide out. \n",
    "\n",
    "$$ \\omega = \\frac{2aME}{r\\Delta}\\frac{r\\Delta}{(r^3 + a^2r + 2Ma^2)E}$$\n",
    "$$ = \\frac{2aME}{(r^3 + a^2r + 2Ma^2)E}$$\n",
    "$$ = \\frac{2aM}{r^3 + a^2r + 2Ma^2}$$\n",
    "$$ = \\frac{2aMr}{r^4 + a^2r^2 + 2Ma^2r}$$\n",
    "$$ = \\frac{2aMr}{r^4 + 2a^2r^2 + a^4 - a^2r^2 - a^4 + 2Ma^2r}$$\n",
    "$$ = \\frac{2aMr}{(r^2+a^2)^2 - (a^2r^2 + a^4 - 2Ma^2r)}$$"
   ]
  },
  {
   "cell_type": "markdown",
   "id": "ac2e0acc",
   "metadata": {},
   "source": [
    "Okay so this is in the right *FORM*. However, we don't have $\\Delta a^2$ and our relation is only valid at $\\theta = \\pi/2.$ Clearly we need to find a way to show that in our particular case $\\Delta a^2 sin^2\\theta$ recuses to the expression we have in the parentheses. \n",
    "\n",
    "First of all, we note that $\\Delta$ is part of the Kerr metric: $r^2 - 2Mr + a^2$. So this immediately nets us:\n",
    "\n",
    "$$ = \\frac{2aMr}{(r^2+a^2)^2 - a^2\\Delta}$$\n",
    "\n",
    "Which is rather clearly the reduced form of what we're going for with $\\theta = \\pi/2$. The question is, how can we prove this is the case? Where does the $\\theta$ dependence come from? "
   ]
  },
  {
   "cell_type": "markdown",
   "id": "27fcf776",
   "metadata": {},
   "source": [
    "We note that the denominator is entirely part of the *time* derivative. Which means it looks like we'll have to re-work 12.7.12 to be nonambiguous. Which is going to be a little funky, but we do have the relations 12.7.10-11 and the knowledge that l=0, which simplifies this *considerably*. To get new criteria, we craft the usual 2L Lagrangian (a new version of 12.7.9) from the Kerr metric (12.7.1) and apply them to the differential relations. \n",
    "\n",
    "With these criteria, we get the equations:\n",
    "\n",
    "$$ -\\left( 1-\\frac{2Mr}{\\Sigma} \\right) \\dot t - \\frac12 \\frac{4aMrsin^2\\theta}{\\Sigma} \\dot \\phi = -E $$\n",
    "$$ - \\frac12 \\frac{4aMrsin^2\\theta}{\\Sigma} \\dot t + \\left( r^2 + a^2 + \\frac{2Mra^2sin^2\\theta}{\\Sigma} \\right) sin^2\\theta \\dot \\phi = 0 $$\n",
    "\n",
    "That *second* relation is actually even more useful than we could have ever realized, for it allows us to calculate the ratio directly!\n",
    "\n",
    "$$ \\Rightarrow \\frac12 \\frac{4aMrsin^2\\theta}{\\Sigma} \\dot t = \\left( r^2 + a^2 + \\frac{2Mra^2sin^2\\theta}{\\Sigma} \\right) sin^2\\theta \\dot \\phi $$"
   ]
  },
  {
   "cell_type": "markdown",
   "id": "72c4ef5c",
   "metadata": {},
   "source": [
    "$$ \\Rightarrow \\frac{\\frac12 \\frac{4aMrsin^2\\theta}{\\Sigma}}{\\left( r^2 + a^2 + \\frac{2Mra^2sin^2\\theta}{\\Sigma} \\right) sin^2\\theta} =  \\frac{\\dot \\phi}{\\dot t} $$\n",
    "\n",
    "$$ \\Rightarrow \\frac{\\frac12 \\frac{4aMr}{\\Sigma}}{\\left( r^2 + a^2 + \\frac{2Mra^2sin^2\\theta}{\\Sigma} \\right) } =  \\frac{\\dot \\phi}{\\dot t} $$\n",
    "\n",
    "$$ \\Rightarrow \\frac{2aMr}{r^2\\Sigma + a^2\\Sigma + 2Mra^2sin^2\\theta } =  \\frac{\\dot \\phi}{\\dot t} $$\n",
    "\n",
    "$\\Sigma$ is the Kerr value of $r^2+a^2cos^2\\theta$. Which is to say, exactly what we need it to be... "
   ]
  },
  {
   "cell_type": "markdown",
   "id": "f7b03e2f",
   "metadata": {},
   "source": [
    "$$ \\Rightarrow \\frac{2aMr}{r^2(r^2+a^2cos^2\\theta)+ a^2(r^2+a^2cos^2\\theta) + 2Mra^2sin^2\\theta } =  \\frac{\\dot \\phi}{\\dot t} $$\n",
    "\n",
    "$$ \\Rightarrow \\frac{2aMr}{r^4+a^2r^2cos^2\\theta+ a^2r^2+a^4cos^2\\theta + 2Mra^2sin^2\\theta } =  \\frac{\\dot \\phi}{\\dot t} $$\n",
    "\n",
    "$$ \\Rightarrow \\frac{2aMr}{r^4+a^2r^2+a^2r^2sin^2\\theta+ a^2r^2+a^4+a^4sin^2\\theta + 2Mra^2sin^2\\theta } =  \\frac{\\dot \\phi}{\\dot t} $$\n",
    "\n",
    "$$ \\Rightarrow \\frac{2aMr}{(r^2+a^2)^2 + a^2r^2sin^2\\theta +a^4sin^2\\theta + 2Mra^2sin^2\\theta } =  \\frac{\\dot \\phi}{\\dot t} $$\n",
    "\n",
    "$$ \\Rightarrow \\frac{2aMr}{(r^2+a^2)^2 + a^2\\Delta sin^2\\theta } =  \\frac{\\dot \\phi}{\\dot t} $$\n",
    "\n",
    "Aha! BINGO! "
   ]
  },
  {
   "cell_type": "markdown",
   "id": "e003f299",
   "metadata": {},
   "source": [
    "<a id='P19'></a>\n",
    "\n",
    "# Problem 19 \\[Back to [top](#toc)\\]\n",
    "$$\\label{P19}$$\n",
    "\n",
    "*Using Hawking's area theorem to find the minimum mass M_2 of a Schwarzchild black hole that results from the collision of two Kerr black holes of equal mass M and opposite angular momentum parameter a. Show that if |a| -> M, 50% of the rest mass is allowed to be radiated away. Show that no other combinations of masses and angular momenta lead to higher possible efficienceis. Show that if a=0, the maximum efficiency is 29%.*\n",
    "\n",
    "*Note: the **actual** amount of radiation generated by such a collision is amenable to numerical computation. The result is not yet known for the general case, but for a=0 it is ~0.1%.*\n"
   ]
  },
  {
   "cell_type": "markdown",
   "id": "e2fe53a6",
   "metadata": {},
   "source": [
    "Hawking'sradiation theorem is \n",
    "\n",
    "$$ A = 8\\pi M \\left[ M + \\sqrt{M^2-a^2} \\right] $$\n",
    "\n",
    "And we also know that surface area is CONSERVED, that is, it can never decrease, even in black hole interactions. So, while it is possible to get *more* surface area (entropy-like behavior), it's not possible to get less. \n",
    "\n",
    "$$ A_0+A_1 = 8\\pi M_2 \\left[ M_2 + \\sqrt{M_2^2-a_2^2} \\right] $$\n",
    "$$ \\Rightarrow 8\\pi M_0 \\left[ M_0 + \\sqrt{M_0^2-a_0^2} \\right]+8\\pi M_1 \\left[ M_1 + \\sqrt{M_1^2-a_1^2} \\right] = 8\\pi M_2 \\left[ M_2 + \\sqrt{M_2^2-a_2^2} \\right] $$\n",
    "\n",
    "Thus let's just note that the original surface area is 2A, and that the magnitude of the original black hole a's match, as do their Ms.\n",
    "\n",
    "$$ \\Rightarrow 16\\pi M \\left[ M + \\sqrt{M^2-a^2} \\right] = 8\\pi M_2 \\left[ M_2 + \\sqrt{M_2^2-a_2^2} \\right] $$\n",
    "$$ \\Rightarrow 2 M \\left[ M + \\sqrt{M^2-a^2} \\right] = M_2 \\left[ M_2 + \\sqrt{M_2^2-a_2^2} \\right] $$\n",
    "\n",
    "Now we note that the angular momentum of the resulting black hole has to be zero since they are opposite angular momentum! Conservation of angular momentum and all. \n",
    "\n",
    "$$ \\Rightarrow 2 M \\left[ M + \\sqrt{M^2-a^2} \\right] = M_2 \\left[ M_2 + \\sqrt{M_2^2} \\right] $$\n",
    "$$ \\Rightarrow 2 M \\left[ M + \\sqrt{M^2-a^2} \\right] = 2M_2^2 $$"
   ]
  },
  {
   "cell_type": "markdown",
   "id": "e32736f1",
   "metadata": {},
   "source": [
    "The first case we are asked to solve for is if |a|=M, which results in the cancelation of the square root and...\n",
    "\n",
    "$$ 2 M \\left[ M + \\sqrt{M^2-M^2} \\right] = 2M_2^2 $$\n",
    "$$ \\Rightarrow 2 M^2 = 2M_2^2 $$\n",
    "$$ \\Rightarrow M = M_2 $$\n",
    "\n",
    "Think about this. *This means that the resulting black hole only has the mass of one of the original ones.* Shocking. Granted this celarly only applies for really ridiculously high a, but wow, that's sure something. \n",
    "\n",
    "It is rather obvious to see that adjusting a (or M) will not increase this efficiency any more: any adjustment makes $M^2-a^2 > 0$ and thus adds minimum mass to the final relation, meaning less than 50% mass is radiated by the area theorem. (Keep in mind, at a minimum.)"
   ]
  },
  {
   "cell_type": "markdown",
   "id": "0da7c60e",
   "metadata": {},
   "source": [
    "Now the other case is a=0. \n",
    "\n",
    "$$ 2 M \\left[ M + \\sqrt{M^2} \\right] = 2M_2^2 $$\n",
    "$$ 2 M ( 2M) = 2M_2^2 $$\n",
    "$$ 4 M^2 = 2M_2^2 $$\n",
    "$$ \\sqrt{2}M = M_2 $$\n",
    "\n",
    "Now the exact percentage of this relation is uncertain, but we start with $2M$ and end with $\\sqrt{2}M$ which is a radiation of about 29.3%. Which is what we were supposed to get. "
   ]
  },
  {
   "cell_type": "markdown",
   "id": "c7c0ebe2",
   "metadata": {},
   "source": [
    "<a id='P20'></a>\n",
    "\n",
    "# Problem 20 \\[Back to [top](#toc)\\]\n",
    "$$\\label{P20}$$\n",
    "\n",
    "*verify the numerical relations in 12.8.6 and 12.8.7*\n",
    "\n",
    "12.8.6: $T = \\frac{\\hbar}{8\\pi k M} \\approx 1e-7 K \\frac{M_\\odot}{M}$\n",
    "\n",
    "12.8.7: $ \\sqrt{\\hbar} = 2.2e-5 g = 1.6e-33 cm $"
   ]
  },
  {
   "cell_type": "markdown",
   "id": "00cd538d",
   "metadata": {},
   "source": [
    "The only variable in 12.8.6 is M, and we can just pull that out. Yoink. Also K is just Kelvin, so let's ignore it. \n",
    "\n",
    "$$ \\frac{\\hbar}{8\\pi k} \\approx 1e-7 M_\\odot$$\n",
    "\n",
    "Now what, exactly is the value of k? Botlzmann's constant? (definitely not Coulomb's constant, that has charge). B's constant has 1.381e-23 J/K, or $kgm^2/Ks^2$. This is defintely not in nice units, so let's change it. The Joule conversion factor works just fine here. ...So let's just look up help in [3](#3). The multiplication factor is $G/c^4$ which has a value of 8.261e-45. This alters k to 1.141e-67 m/K. \n",
    "\n",
    "This gives us...\n",
    "\n",
    "$$ 9.110e-5 \\approx 1e-7 M_\\odot$$\n",
    "\n",
    "Divide out the sun...\n",
    "\n",
    "$$ 6.172e-8 \\approx 1e-7 $$\n",
    "\n",
    "Yeah, this checks out. "
   ]
  },
  {
   "cell_type": "markdown",
   "id": "5963e37f",
   "metadata": {},
   "source": [
    "So, what is the actual temperature of a black hole in units we can understand? K is not adjusted by our c=G=1 formulation that we have been working with, so it's still the same. So let's just consider a stellar mass black hole which seems to be around 5 suns in general, which gives us... 2e-8 K. \n",
    "\n",
    "This is ridiculously small. \n",
    "\n",
    "For the record the temperature of actual empty space in general is 2K. yes. 2. Without any exponential.\n",
    "\n",
    "Laboratory conditions have achieved 2.8e-10 though. However, supermassive black holes can clearly get colder than this, with a one-million solar mass black hole having a temperature of 1e-13 K. "
   ]
  },
  {
   "cell_type": "markdown",
   "id": "02b39161",
   "metadata": {},
   "source": [
    "12.8.7 is trivial. Grab the value of $\\hbar$ where G=c=1 and take the root. 2.612e-70 $m^2$ = 1.616e-35 m and thus about 1.6ee-33 cm. \n",
    "\n",
    "The conversion factor between m and kg is 7.425e-28 m/kg, so dividing by this should net us the other result. And whaddoyaknow, 2.18e-5 g or 2.18e-8 kg. Please note that we prefer to use units of m in c=G=1, but both are valid. "
   ]
  },
  {
   "cell_type": "markdown",
   "id": "868385d7",
   "metadata": {},
   "source": [
    "<a id='P21'></a>\n",
    "\n",
    "# Problem 21 \\[Back to [top](#toc)\\]\n",
    "$$\\label{P21}$$\n",
    "\n",
    "*a) Compute the entropy of a 1 $M_\\odot$ black hole in units of k, Boltzmann's constant.*\n",
    "\n",
    "Oh hey how convenient NOW they define k. \n",
    "\n",
    "AHEM. Note. Entropy. Not. Temperature. \n",
    "\n",
    "anyway $S = k\\frac{c^3A}{4G\\hbar}$ from 12.8.10. The only value we don't automatically know is A. However, it is determinable by 12.8.8, $A = 4\\pi(\\frac{2GM}{c^2})^2$. This alters our expression to:\n",
    "\n",
    "$$ S = k\\frac{4 \\pi G M^2}{\\hbar c} $$"
   ]
  },
  {
   "cell_type": "markdown",
   "id": "be68a715",
   "metadata": {},
   "source": [
    "Let's not worry about the math and just do the multiplications, everything is in SI units. \n",
    "\n",
    "The reasult is 1.0481e77 in units of J/K. Which is what k is, so really 1e77 is dimensionless. \n",
    "\n",
    "S=1e77k."
   ]
  },
  {
   "cell_type": "markdown",
   "id": "1233dca9",
   "metadata": {},
   "source": [
    "*b) Estimate the entropy of the sun. Assume it consists of completely ionized hyudrogen with a mean density of 1 g/$cm^3$ and a mean temperature of 1e6 K*"
   ]
  },
  {
   "cell_type": "markdown",
   "id": "10222a07",
   "metadata": {},
   "source": [
    "So, we didn't do all the equation of state and thermodynamics chapters, so we do not have the skills to actually perform this estimation within a reasonable amount of time (and would likely want to refer to our Statistical Mechanics text to boot.) Thus, we skip both this and the following segment. \n",
    "\n",
    "However, we can compare entropies. The answer for this part is given at 2e58 k for the sun. Trying to find entropies for neutron stars turned up flat but we can assume it's between the order 58 and 77. Which, admittedly is a *very* large range. \n",
    "\n",
    "Naturally the sun has a lot of entropy, but black holes have OODLES more. "
   ]
  },
  {
   "cell_type": "markdown",
   "id": "4bb0ad07",
   "metadata": {},
   "source": [
    "*c) Estimate the entropy of a 1$M_\\odot$ iron white dwarf with a 1$M_\\odot$ neutron star. Take the mean tempereature to be 1e8 K, and the mean densities to be 1e6 $g/cm^3$ and 1e14 $g/cm^3$, respectively. Note that the expression 11.8.1 for $C_\\nu$ for a degenerate ideal gas is also equal to S, since $C_\\nu = T dS / dT$.*"
   ]
  },
  {
   "cell_type": "markdown",
   "id": "26b225fc",
   "metadata": {},
   "source": [
    "Skipped."
   ]
  },
  {
   "cell_type": "markdown",
   "id": "df50096e",
   "metadata": {},
   "source": [
    "<a id='latex_pdf_output'></a>\n",
    "\n",
    "# Addendum: Output this notebook to $\\LaTeX$-formatted PDF file \\[Back to [top](#toc)\\]\n",
    "$$\\label{latex_pdf_output}$$\n",
    "\n",
    "The following code cell converts this Jupyter notebook into a proper, clickable $\\LaTeX$-formatted PDF file. After the cell is successfully run, the generated PDF may be found in the root NRPy+ tutorial directory, with filename\n",
    "[CO-12.pdf](CO-12.pdf) (Note that clicking on this link may not work; you may need to open the PDF file through another means.)\n",
    "\n",
    "**Important Note**: Make sure that the file name is right in all six locations, two here in the Markdown, four in the code below. \n",
    "\n",
    "* CO-12.pdf\n",
    "* CO-12.ipynb\n",
    "* CO-12.tex"
   ]
  },
  {
   "cell_type": "code",
   "execution_count": 1,
   "id": "abf583ef",
   "metadata": {
    "scrolled": false
   },
   "outputs": [
    {
     "name": "stdout",
     "output_type": "stream",
     "text": [
      "Created GR-08.tex, and compiled LaTeX file to PDF file GR-08.pdf\n"
     ]
    }
   ],
   "source": [
    "import cmdline_helper as cmd    # NRPy+: Multi-platform Python command-line interface\n",
    "cmd.output_Jupyter_notebook_to_LaTeXed_PDF(\"CO-12\")"
   ]
  },
  {
   "cell_type": "code",
   "execution_count": null,
   "id": "d0d0db4d",
   "metadata": {},
   "outputs": [],
   "source": []
  },
  {
   "cell_type": "code",
   "execution_count": null,
   "id": "41264965",
   "metadata": {},
   "outputs": [],
   "source": []
  }
 ],
 "metadata": {
  "kernelspec": {
   "display_name": "Python 3 (ipykernel)",
   "language": "python",
   "name": "python3"
  },
  "language_info": {
   "codemirror_mode": {
    "name": "ipython",
    "version": 3
   },
   "file_extension": ".py",
   "mimetype": "text/x-python",
   "name": "python",
   "nbconvert_exporter": "python",
   "pygments_lexer": "ipython3",
   "version": "3.10.4"
  }
 },
 "nbformat": 4,
 "nbformat_minor": 5
}
