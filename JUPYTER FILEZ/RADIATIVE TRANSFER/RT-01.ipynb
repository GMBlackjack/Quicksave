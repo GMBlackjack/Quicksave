{
 "cells": [
  {
   "cell_type": "markdown",
   "id": "0c1bfe81",
   "metadata": {},
   "source": [
    "# Radiative Transfer Selected Problems Volume 1\n",
    "\n",
    "## Authors: Gabriel M Steward"
   ]
  },
  {
   "cell_type": "markdown",
   "id": "56664bc2",
   "metadata": {},
   "source": [
    "<a id='toc'></a>\n",
    "\n",
    "# Table of Contents\n",
    "$$\\label{toc}$$\n",
    "\n",
    "CHAPTER 1\n",
    "\n",
    "[Problem 1](#P1) (Hodgepodge) [Part c unclear, unfinished]\n",
    "\n",
    "[Problem 2](#P2) (Albedos And Other Stuff)"
   ]
  },
  {
   "cell_type": "markdown",
   "id": "cd9e5529",
   "metadata": {},
   "source": [
    "<a id='P1'></a>\n",
    "\n",
    "# Problem 1 \\[Back to [top](#toc)\\]\n",
    "$$\\label{P1}$$\n",
    "\n",
    "*The total solar radiative power output is F=3.84e26 W, and the mean distance between teh sun and the earth is one astronomical unit 1.5e8 km. The radius of the earth is 6.37e6 m.*\n",
    "\n",
    "*a) Suppose there is no light attenuation between the Sun and the Earth. What is the total solar power falling on the Earth's surface?*"
   ]
  },
  {
   "cell_type": "markdown",
   "id": "d21cbccb",
   "metadata": {},
   "source": [
    "This is basically a question of how much of the sun's \"sky\" is taken up by the Earth. Well, there are $4\\pi$ steradians in a sphere. Times this by the square radius to get the surface area, $4\\pi R^2$. This is 1.88e9 $km^2$. On the other end, the actual cross sectional area of the Earth is 2e7 $m^2$, so the total incident power would be the fraction of these two. The earth thus takes up 1.06e-8 of the total area, and thus receives a power of 4.077e18. W. "
   ]
  },
  {
   "cell_type": "markdown",
   "id": "d0ad9523",
   "metadata": {},
   "source": [
    "*b) In the region of the troposphere shown in Fig 1.3, the linear temperature lapse rate is -6.5 K/km. Find the temperature change from the bottom of the troposphere to its upper boundary if its height is suppposed to be 10.5 km.*"
   ]
  },
  {
   "cell_type": "markdown",
   "id": "c48df0e9",
   "metadata": {},
   "source": [
    "The Fig is actualy Fig 1.4, typo uncovered.\n",
    "\n",
    "wait hold on this is trivial. The troposphere region is definitely linear, so the total change is 68.25 K. The higher is colder. This is somewhat similar to the change in temperature observed on the graph, but it does change "
   ]
  },
  {
   "cell_type": "markdown",
   "id": "b27dc060",
   "metadata": {},
   "source": [
    "*c) If the approach to equilibrium is an adiabatic process, waht is the change in temperature?*"
   ]
  },
  {
   "cell_type": "markdown",
   "id": "ddf9181d",
   "metadata": {},
   "source": [
    "No heat transfer occurs in an adiabatic process. \n",
    "\n",
    "That said we are very confused as to *what* exactly is approaching equilibrium? The troposphere? The Earth as a whole? What? I'm going to argue that there's not enough information here. \n",
    "\n",
    "For the record, ideal gas adiabatic processes are:\n",
    "\n",
    "$$ PV^{\\gamma} = const $$\n",
    "\n",
    "Where $\\gamma = C_P / C_V$. For air this is about 7/5. If we knew the starting and ending values of P or V we could easily use PV=nRT to find the value for T. Heck if we knew T we could find the others, it just requires more work. We just don't know the actual bounds or what we're supposed to calculate. \n",
    "\n",
    "If we HAD to guess we would say use tropospheric pressure bounds, but can we really say we know that? Or, what if we said we had to go from atmospheric pressure to the edge of the atmosphere? That'd be a weird one that would break the equation. "
   ]
  },
  {
   "cell_type": "markdown",
   "id": "5f9a93d6",
   "metadata": {},
   "source": [
    "<a id='P2'></a>\n",
    "\n",
    "# Problem 2 \\[Back to [top](#toc)\\]\n",
    "$$\\label{P2}$$"
   ]
  },
  {
   "cell_type": "markdown",
   "id": "d07a16d8",
   "metadata": {},
   "source": [
    "*An early study of the ice-albedo feedback problem was made by M Bodyko. He showed that for a 1% reduction in the value of the total solar irradiance $S_0$ that $\\Delta T_s = -5 C$; and for a 1.5% reduction $\\Delta T_s = -9 C$. This sensitivity is much greater than the direct effect discussed in Example 1.2, and is due to the equatorward advance in the permanent ice line as the Earth cools. In the 1.5 reduction case, the ice line is at 50 degrees N latitutde, corresponding to the southward advance of Quaternary glaciation. For a slightly greater 1.6% reduction, $\\Delta T_s = -33 C$. Here the Earth is completely glaciated.*\n",
    "\n",
    "*a) Find the values of albedo $\\bar \\rho$ corersponding to these three solar irradiacne reduction scnearios. Assume that $\\mathcal T_{eff}$ remains fixed in eq 1.13*"
   ]
  },
  {
   "cell_type": "markdown",
   "id": "1527557c",
   "metadata": {},
   "source": [
    "So equation 1.13 is\n",
    "\n",
    "$$ F_{TOA}(T_s) = T_{eff} \\sigma_B T_s^4 $$\n",
    "\n",
    "The effective transmittance is held constant. $\\sigma_B$ is the stefan-boltzmann constant and also doesn't change. \n",
    "\n",
    "SO, from example 1.2 we can follow the steps for a bit as some assumptions don't change. For isntance, $\\bar \\rho$ is still considered constant for each individual test, and with our constant assumptions we still end up at:\n",
    "\n",
    "$$ \\alpha = \\frac{T_s}{4F_{TOA}} $$\n",
    "\n",
    "Now, $F_{TOA}$ is the outgoing radiance. AS we assume radiative equlibrium, we can also find this from the albedo. \n",
    "\n",
    "$$ F_{TOA} = (1-\\bar\\rho)F^s $$\n",
    "\n",
    "$F^s$ is just the solar irradiance. \n",
    "\n",
    "$$ \\alpha = \\frac{T_s}{4(1-\\bar\\rho)F^s } $$\n",
    "\n",
    "Now we also have $\\Delta T_s^d = \\alpha \\Delta N$ and $\\Delta N = (1-\\rho) \\Delta F^s$\n",
    "\n",
    "However this means the albedo cancels out:\n",
    "\n",
    "$$ \\Delta T_s^d = \\frac{T_s \\Delta F^s}{4 F^s} $$"
   ]
  },
  {
   "cell_type": "markdown",
   "id": "e7f7a8b3",
   "metadata": {},
   "source": [
    "In conclusion, this whole thing is a huge mess. Yay..."
   ]
  },
  {
   "cell_type": "markdown",
   "id": "0cd36055",
   "metadata": {},
   "source": [
    "*b) Plot $\\bar\\rho$ versus $T_s$ and estimate the value of $\\partial \\bar\\rho /\\partial T_s$ for each scenario. Take into accoutn the variation of $F_{TOA}$ and $T_s$.*"
   ]
  },
  {
   "cell_type": "markdown",
   "id": "aeb3744d",
   "metadata": {},
   "source": [
    "*c) Plot the climate sensitivity $\\alpha$ and the gain f versus $\\Delta F^s / F^s$. Comment on the steep increases of $\\alpha$ and f as $\\Delta F^s / F^s$ reaches the critical value of 0.016. How does this dependence of $\\alpha$ and f on $\\Delta F^s / F^s$ illustrate the \"runaway glaciation\" effect?*"
   ]
  },
  {
   "cell_type": "code",
   "execution_count": null,
   "id": "ddb712a0",
   "metadata": {},
   "outputs": [],
   "source": []
  }
 ],
 "metadata": {
  "kernelspec": {
   "display_name": "Python 3 (ipykernel)",
   "language": "python",
   "name": "python3"
  },
  "language_info": {
   "codemirror_mode": {
    "name": "ipython",
    "version": 3
   },
   "file_extension": ".py",
   "mimetype": "text/x-python",
   "name": "python",
   "nbconvert_exporter": "python",
   "pygments_lexer": "ipython3",
   "version": "3.7.9"
  }
 },
 "nbformat": 4,
 "nbformat_minor": 5
}
