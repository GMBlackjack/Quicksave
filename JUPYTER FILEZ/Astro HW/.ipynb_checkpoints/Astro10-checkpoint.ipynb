{
 "cells": [
  {
   "cell_type": "markdown",
   "id": "5c5005b5",
   "metadata": {},
   "source": [
    "# Homework 10: Smashy Smashy\n",
    "\n",
    "## Astrophysics: PHYS 584\n",
    "\n",
    "## Gabriel M Steward\n",
    "\n",
    "## April 2022\n",
    "\n",
    "**Texts Referenced:**\n",
    "\n",
    "**An Introduction to Modern Astrophysics, Carroll and Ostlie**\n",
    "\n",
    "**Lecture Notes.**    "
   ]
  },
  {
   "cell_type": "markdown",
   "id": "1e2b1fe2",
   "metadata": {},
   "source": [
    "## Problem 1\n",
    "\n",
    "**Impact Cratering**\n",
    "\n",
    "*1.1) Consider the impact that formed Meteor Crater (Barringer Crater) in Arizona. The crater is about a kilometer accross, so assume that the impactor was a rocky asteroid with $\\rho=3$ grams per cubic centimeter and a diameter of 100 meters. Assume a typical impact speed of 30 km/s, the same as Earth's orbital velocity. How much kinetic energy is dissipated in the impact?*"
   ]
  },
  {
   "cell_type": "markdown",
   "id": "d1ad2cf7",
   "metadata": {},
   "source": [
    "*1.2) Compare the above energy to that released in the Hiroshima fission bomb, equivalent to about 20 kilotons of TNT.*"
   ]
  },
  {
   "cell_type": "markdown",
   "id": "4366eb95",
   "metadata": {},
   "source": [
    "*1.3) The largest nuclear bomb ever detonated (or built, to my non-clearance knowledge) was a ridiculously large 1 Gigaton bomb that the Russians set off in thier test range, presumably in order to intimidate the west (though given that htere's no way they could deliver it, I don't feel very intimidated). What is the radius of an asteroid imapctor htat woul dhave the same energy release?*"
   ]
  },
  {
   "cell_type": "markdown",
   "id": "7b57198e",
   "metadata": {},
   "source": [
    "*1.4) There are estimated to be perhaps 50,000 functional nuclear weapons in stockpiles around the world. Assuming the average yield to be the same as tyhat of the American nukes, 200 kilotons, what is the radius of an asteorid impactor that would have the same energy release as the entire world arsenal comibned? Compare tot he megatonnage of the 10-kilometer-diameter Chicxulub imapctor that killed the dinosaurs.*"
   ]
  },
  {
   "cell_type": "markdown",
   "id": "a56faf66",
   "metadata": {},
   "source": [
    "*1.5) (PHYS584 only, yay!)* For you purists out htere, calculate how much faster the impactor would really be moving if you include the extra speed that it would derive from falling into EArth's gravity well. Is it safe to ignore this term? "
   ]
  },
  {
   "cell_type": "markdown",
   "id": "0652b408",
   "metadata": {},
   "source": [
    "## Problem 2\n",
    "\n",
    "**Rotational Deformation**\n",
    "\n",
    "*2.1) Using the ponit-core zero-mass envelope approximation, derive an upper limit for the rotation rate of a planet as a function of its density, $\\rho$.*"
   ]
  },
  {
   "cell_type": "markdown",
   "id": "4f14cdd3",
   "metadata": {},
   "source": [
    "*2.2) What is the lower limit on the rotational period of Jupiter?*"
   ]
  },
  {
   "cell_type": "markdown",
   "id": "3b369596",
   "metadata": {},
   "source": [
    "*2.3) What is the lower limit on the rotational period of Earth?*"
   ]
  },
  {
   "cell_type": "markdown",
   "id": "bb424073",
   "metadata": {},
   "source": [
    "## Problem 3\n",
    "\n",
    "**Oblateness**\n",
    "\n",
    "*3.1) Imagine that we've found a transiting extrasolar planet. BEacuse it transits, you know $R_p$. Further assume that you've got a measured mass from radial velocity measurements, $M_p$. If you were able to determine the planet's oblateness f from teh transit lightcurve (nontrivial), then derive an expression for the planet's rotation period as a funciton of f, $M_p, R_{eq}$, and $\\bar{C}$. (Use the DArwin-RAdau approximation and not the point-core model)*"
   ]
  },
  {
   "cell_type": "markdown",
   "id": "01b135f1",
   "metadata": {},
   "source": [
    "*3.2) Going the other way, solve the above expression for the oblateness f as a funciton of the other variables.*"
   ]
  },
  {
   "cell_type": "markdown",
   "id": "ee4d0421",
   "metadata": {},
   "source": [
    "*3.3) What should the oblateness be of transiting extrasolar planet HD209458b with $M_p=0.69 M_{Jup}, R_{eq}=1.35 R_{Jup},$ and $\\bar{C}=0.185$ if we assume a spin-orbit synchronous rotation period of 3.52 days?*\n",
    "\n",
    "*For a hint, see Barnes and Fortney (2003), \"Measuring the Oblateness and Rotation of Transiting Extrasolar Giant Planets\", **The Astrophysical Journal**, 588:545-556, 2003 May 1.*"
   ]
  },
  {
   "cell_type": "code",
   "execution_count": null,
   "id": "ccbd4476",
   "metadata": {},
   "outputs": [],
   "source": []
  }
 ],
 "metadata": {
  "kernelspec": {
   "display_name": "Python 3 (ipykernel)",
   "language": "python",
   "name": "python3"
  },
  "language_info": {
   "codemirror_mode": {
    "name": "ipython",
    "version": 3
   },
   "file_extension": ".py",
   "mimetype": "text/x-python",
   "name": "python",
   "nbconvert_exporter": "python",
   "pygments_lexer": "ipython3",
   "version": "3.7.9"
  }
 },
 "nbformat": 4,
 "nbformat_minor": 5
}
