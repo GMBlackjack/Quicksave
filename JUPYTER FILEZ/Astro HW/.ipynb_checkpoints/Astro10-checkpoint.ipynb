{
 "cells": [
  {
   "cell_type": "markdown",
   "id": "5c5005b5",
   "metadata": {},
   "source": [
    "# Homework 10: Smashy Smashy\n",
    "\n",
    "## Astrophysics: PHYS 584\n",
    "\n",
    "## Gabriel M Steward\n",
    "\n",
    "## April 2022\n",
    "\n",
    "**Texts Referenced:**\n",
    "\n",
    "**An Introduction to Modern Astrophysics, Carroll and Ostlie**\n",
    "\n",
    "**Lecture Notes.**    "
   ]
  },
  {
   "cell_type": "markdown",
   "id": "1e2b1fe2",
   "metadata": {},
   "source": [
    "## Problem 1\n",
    "\n",
    "**Impact Cratering**\n",
    "\n",
    "*1.1) Consider the impact that formed Meteor Crater (Barringer Crater) in Arizona. The crater is about a kilometer accross, so assume that the impactor was a rocky asteroid with $\\rho=3$ grams per cubic centimeter and a diameter of 100 meters. Assume a typical impact speed of 30 km/s, the same as Earth's orbital velocity. How much kinetic energy is dissipated in the impact?*\n",
    "\n",
    "This is simple $mv^2/2$. \n",
    "\n",
    "Volume is $4\\pi r^3/3$ Since we have a density in cubic centimeters, we want to use centimeters for r. This gives a volume of 5.236e11 $cm^3$. Times our desnity gives us 1.570e12 g, or 1.570e9 kg. \n",
    "\n",
    "Converting 30 km/s to 30,000 m/s, we can get an answer in joules for the energy: **7.069e17 J**. This is a ton of energy. "
   ]
  },
  {
   "cell_type": "markdown",
   "id": "d1ad2cf7",
   "metadata": {},
   "source": [
    "*1.2) Compare the above energy to that released in the Hiroshima fission bomb, equivalent to about 20 kilotons of TNT.*\n",
    "\n",
    "1 kiloton of TNT is 4.184e12 J, so twenty of these is 8.368e13 J. \n",
    "\n",
    "This means Meteor Crater's impact is somewhere around **8442 times** bigger than the Hiroshima bomb. "
   ]
  },
  {
   "cell_type": "markdown",
   "id": "4366eb95",
   "metadata": {},
   "source": [
    "*1.3) The largest nuclear bomb ever detonated (or built, to my non-clearance knowledge) was a ridiculously large 1 Gigaton bomb that the Russians set off in thier test range, presumably in order to intimidate the west (though given that htere's no way they could deliver it, I don't feel very intimidated). What is the radius of an asteroid imapctor that would have the same energy release?*\n",
    "\n",
    "So we work backward from the prevoius part. 1 gigaton in J is 4.184e18 J. \n",
    "\n",
    "Assuming the same speed as the previous parts, this equates to 9.298e9 kg.\n",
    "\n",
    "Assuming the same density as the previous parts, this is a volume of 3.099e12 cubic centimeters. Which gives a radius of 9044 cm, or about **90 meters**. "
   ]
  },
  {
   "cell_type": "markdown",
   "id": "7b57198e",
   "metadata": {},
   "source": [
    "*1.4) There are estimated to be perhaps 50,000 functional nuclear weapons in stockpiles around the world. Assuming the average yield to be the same as that of the American nukes, 200 kilotons, what is the radius of an asteorid impactor that would have the same energy release as the entire world arsenal comibned? Compare to the megatonnage of the 10-kilometer-diameter Chicxulub imapctor that killed the dinosaurs.*\n",
    "\n",
    "200 kilotons times 50,000 weapons is 1e7 kilotons, or 4.184e19 J. Curiously this isn't much bigger than 1 Gigaton, but that is 1,000,000 kilotons, so naturally this average estimation is not that great. \n",
    "\n",
    "Regardless, this equates to 9.298e10 kg, which equates to a volume of 3.099e13 cubic centimeters, which gives a radius of 19486 cm, or about **195 meters.**\n",
    "\n",
    "Now a 5-kilometer radius is much, much larger than this. Assuming same speed and desnity, this correlates to 1.47e15 kg. This is 7.069e23 J, or 168943 Gigatons. *Gigatons* **Gigatons.**\n",
    "\n",
    "Naturally even all the nuclear weapons on the planet can't even compare to a truly cosmic level disaster."
   ]
  },
  {
   "cell_type": "markdown",
   "id": "a56faf66",
   "metadata": {},
   "source": [
    "*1.5) (PHYS584 only, yay!)* For you purists out there, calculate how much faster the impactor would really be moving if you include the extra speed that it would derive from falling into Earth's gravity well. Is it safe to ignore this term? \n",
    "\n",
    "Is this not just the escape velocity, about 11 km/s? This is **definitely not safe to ignore**, as average speeds are about 30km/s, so an adjustment of 11 km/s.\n",
    "\n",
    "Let's consider this in a more mathematical model, though. If we take the earth as stationary, a \"stationary\" impactor we're heading right at will appear to be going at us at 30 km/s. The gravitational potential at infinity is 0, the gravitational potential at the Earth's radius (the moment of impact) is GMm/r, where M is the mass of the earth and r is the earth's radius. This potential provides additional energy of 62,400,000 m. Since the energy has m in it, we correlate this directly to $v^2/2$ and get an answer for v of 11,179 m/s, or 11.179 km/2 which is *just the escape velocity*. "
   ]
  },
  {
   "cell_type": "markdown",
   "id": "0652b408",
   "metadata": {},
   "source": [
    "## Problem 2\n",
    "\n",
    "**Rotational Deformation**\n",
    "\n",
    "*2.1) Using the ponit-core zero-mass envelope approximation, derive an upper limit for the rotation rate of a planet as a function of its density, $\\rho$.*\n",
    "\n",
    "The planet will fly apart when its gravitational acceleration to cetrifugal acceleration ratio is 1. This is given in the notes as\n",
    "\n",
    "$$q = \\frac{\\Omega^2 R_{eq}^3}{GM_p}$$\n",
    "\n",
    "Set q to 1 and simplify a bit to show that hte condition is:\n",
    "\n",
    "$$ GM = \\Omega^2 R^3 $$\n",
    "\n",
    "The density is mass per volume, so it can be associated to $M/R^3$, with an added factor of $4\\pi/3$. \n",
    "\n",
    "$$ G \\rho \\frac{4\\pi}{3}  = \\Omega^2 $$\n",
    "\n",
    "Where $\\Omega$ is the angular velocity. Since we're asked for this in terms of period for the next part, we note that $T = \\frac{2\\pi}{\\Omega} \\Rightarrow \\Omega = \\frac{2\\pi}{T}$ so in terms of period...\n",
    "\n",
    "$$ G \\rho \\frac{4\\pi}{3}  = \\frac{4\\pi^2}{T^2} $$\n",
    "$$ \\Rightarrow G \\rho \\frac{1}{3\\pi}  = \\frac{1}{T^2} $$\n",
    "$$ \\Rightarrow \\frac{3\\pi}{G\\rho}  = T^2 $$\n",
    "$$ \\Rightarrow \\sqrt{\\frac{3\\pi}{G\\rho}}  = T $$\n"
   ]
  },
  {
   "cell_type": "markdown",
   "id": "4f14cdd3",
   "metadata": {},
   "source": [
    "*2.2) What is the lower limit on the rotational period of Jupiter?*\n",
    "\n",
    "The density of Jupiter is 1.33 $g/cm^3$ or 1330 $kg/m^3$, which results in a period of 10304 seconds, or ~3 hours. So if Jupiter was spinning around every 3 hours it would fly apart.\n",
    "\n",
    "Jupiter itself is nice and safe at about a 10 hour period right now. "
   ]
  },
  {
   "cell_type": "markdown",
   "id": "3b369596",
   "metadata": {},
   "source": [
    "*2.3) What is the lower limit on the rotational period of Earth?*\n",
    "\n",
    "The density of the Earth is 5.51 $g/cm^3$ or 5510 $kg/m^3$, which results in a period of 5062 seconds, or ~1.5 hours. Naturaly Earth, being made of hard dense rocks, has to spin a bit faster to overcome its gravitational forces. \n",
    "\n",
    "We would expect to be much less oblate than Jupiter because not only is our fly apart speed much faster, but we also spin much slower at ~24 hour period. Which we do in fact observe. "
   ]
  },
  {
   "cell_type": "markdown",
   "id": "bb424073",
   "metadata": {},
   "source": [
    "## Problem 3\n",
    "\n",
    "**Oblateness**\n",
    "\n",
    "*3.1) Imagine that we've found a transiting extrasolar planet. Beacuse it transits, you know $R_p$. Further assume that you've got a measured mass from radial velocity measurements, $M_p$. If you were able to determine the planet's oblateness f from the transit lightcurve (nontrivial), then derive an expression for the planet's rotation period as a funciton of f, $M_p, R_{eq}$, and $\\bar{C}$. (Use the Darwin-Radau approximation and not the point-core model)*"
   ]
  },
  {
   "cell_type": "markdown",
   "id": "f520c94e",
   "metadata": {},
   "source": [
    "Let us start with\n",
    "\n",
    "$$ f = \\frac{3}{2}J_2 + \\frac{1}{2}q $$\n",
    "\n",
    "From problem 2 we know q is $\\frac{\\Omega^2 R_{eq}^3}{GM_p}$\n",
    "\n",
    "Technically speaking, we should probably say we don't know $R_{eq}$ as we just know $R_p$ but we usually just take the radius to be the equatorial radius. (For completness sake $R_p = \\frac{R_{eq}+R_{po}}{2}$, but we won't be using that today, we'll just be taking it as the equatorial). "
   ]
  },
  {
   "cell_type": "markdown",
   "id": "ca6573b8",
   "metadata": {},
   "source": [
    "We now return to q. We do the same substitution we did in problem 2 in order to get this in terms of period. \n",
    "\n",
    "$$ q = \\frac{4 \\pi^2R_p^3}{T^2GM_p}$$\n",
    "\n",
    "Which allows us to go back to our start equation with...\n",
    "\n",
    "$$ f = \\frac{3}{2}J_2 + \\frac{2 \\pi^2 R_p^3}{T^2GM_p} $$\n",
    "\n",
    "In the Darwin-Radau approximation we have \n",
    "\n",
    "$$\\frac{J_2}{f} = -\\frac{3}{10} + \\frac{5}{2} \\bar{C} - \\frac{15}{8} \\bar{C}^2 $$\n",
    "\n",
    "Which gives us:\n",
    "\n",
    "$$ f = \\frac{3}{2} f \\left( -\\frac{3}{10} + \\frac{5}{2} \\bar{C} - \\frac{15}{8} \\bar{C}^2 \\right) + \\frac{2 \\pi^2  R_p^3}{T^2GM_p} $$\n",
    "$$ \\Rightarrow 1 = \\frac{3}{2} \\left( -\\frac{3}{10} + \\frac{5}{2} \\bar{C} - \\frac{15}{8} \\bar{C}^2 \\right) + \\frac{2 \\pi^2  R_p^3}{T^2GM_pf} $$\n",
    "$$ \\Rightarrow 1 = \\left( -\\frac{9}{20} + \\frac{15}{4} \\bar{C} - \\frac{45}{16} \\bar{C}^2 \\right) + \\frac{2 \\pi^2  R_p^3}{T^2GM_pf} $$\n"
   ]
  },
  {
   "cell_type": "markdown",
   "id": "36e1a30d",
   "metadata": {},
   "source": [
    "Now we want to solve for T. This does not take too much effort at this point. \n",
    "\n",
    "$$ \\Rightarrow 1 + \\frac{9}{20} - \\frac{15}{4} \\bar{C} + \\frac{45}{16} \\bar{C}^2 = \\frac{2 \\pi^2  R_p^3}{T^2GM_pf} $$\n",
    "$$ \\Rightarrow \\left( \\frac{29}{20} - \\frac{15}{4} \\bar{C} + \\frac{45}{16} \\bar{C}^2 \\right) \\frac{GM_pf}{2\\pi^2 R_p^3} = \\frac{1}{T^2} $$"
   ]
  },
  {
   "cell_type": "markdown",
   "id": "9026fa89",
   "metadata": {},
   "source": [
    "And that's that what we sought. "
   ]
  },
  {
   "cell_type": "markdown",
   "id": "01b135f1",
   "metadata": {},
   "source": [
    "*3.2) Going the other way, solve the above expression for the oblateness f as a funciton of the other variables.*"
   ]
  },
  {
   "cell_type": "markdown",
   "id": "6aa84a48",
   "metadata": {},
   "source": [
    "This is almost trivial, just shuffle f and T. \n",
    "\n",
    "$$ \\left( \\frac{29}{20} - \\frac{15}{4} \\bar{C} + \\frac{45}{16} \\bar{C}^2 \\right) \\frac{GM_pT^2}{2\\pi^2 R_{eq}^3} = \\frac{1}{f} $$"
   ]
  },
  {
   "cell_type": "markdown",
   "id": "ee4d0421",
   "metadata": {},
   "source": [
    "*3.3) What should the oblateness be of transiting extrasolar planet HD209458b with $M_p=0.69 M_{Jup}, R_{eq}=1.35 R_{Jup},$ and $\\bar{C}=0.185$ if we assume a spin-orbit synchronous rotation period of 3.52 days?*\n",
    "\n",
    "*For a hint, see Barnes and Fortney (2003), \"Measuring the Oblateness and Rotation of Transiting Extrasolar Giant Planets\", **The Astrophysical Journal**, 588:545-556, 2003 May 1.*"
   ]
  },
  {
   "cell_type": "markdown",
   "id": "12701ddb",
   "metadata": {},
   "source": [
    "So let's first convert all our numbers that need to be converted.\n",
    "\n",
    "0.69 $M_J$ = 1.310e27 kg.\n",
    "\n",
    "1.35 $R_J$ = 9.438e7 m.\n",
    "\n",
    "3.52 days = 3.041e5 seconds.\n",
    "\n",
    "C remains the same. \n",
    "\n",
    "This produces the following...\n",
    "\n",
    "$$ (0.853)\\frac{8.086e27}{1.659e25} = 415.634 = 1/f $$\n",
    "\n",
    "And so\n",
    "\n",
    "$$ f = 0.0024 $$\n",
    "\n",
    "Which is to say not all that oblate. Sensible, seeing as Jupiter itself rotates once every ten hours and has an oblateness of around 0.06. "
   ]
  },
  {
   "cell_type": "code",
   "execution_count": null,
   "id": "267a8264",
   "metadata": {},
   "outputs": [],
   "source": []
  }
 ],
 "metadata": {
  "kernelspec": {
   "display_name": "Python 3 (ipykernel)",
   "language": "python",
   "name": "python3"
  },
  "language_info": {
   "codemirror_mode": {
    "name": "ipython",
    "version": 3
   },
   "file_extension": ".py",
   "mimetype": "text/x-python",
   "name": "python",
   "nbconvert_exporter": "python",
   "pygments_lexer": "ipython3",
   "version": "3.7.9"
  }
 },
 "nbformat": 4,
 "nbformat_minor": 5
}
