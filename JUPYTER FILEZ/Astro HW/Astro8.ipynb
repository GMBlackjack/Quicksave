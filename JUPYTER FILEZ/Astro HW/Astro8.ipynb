{
 "cells": [
  {
   "cell_type": "markdown",
   "id": "5c5005b5",
   "metadata": {},
   "source": [
    "# Homework 7: Beginnings, but in the Middle\n",
    "\n",
    "## Astrophysics: PHYS 584\n",
    "\n",
    "## Gabriel M Steward\n",
    "\n",
    "## March 2022\n",
    "\n",
    "**Texts Referenced:**\n",
    "\n",
    "**An Introduction to Modern Astrophysics, Carroll and Ostlie\n",
    "Lecture Notes.**    "
   ]
  },
  {
   "cell_type": "markdown",
   "id": "662aa256",
   "metadata": {},
   "source": [
    "## Problem 1\n",
    "\n",
    "**Star Formation**\n",
    "\n",
    "*1.1) In class, we calculated the Jeans Mass. Instead, assume an infintie cloud of uniform density—what is the radius fo a subcloud that is unstable and subject to collapse? This is called the Jeans Length.*"
   ]
  },
  {
   "cell_type": "markdown",
   "id": "a1da7ac1",
   "metadata": {},
   "source": [
    "*1.2) PHYS 484 ONLY SKIPPED!*"
   ]
  },
  {
   "cell_type": "markdown",
   "id": "21214793",
   "metadata": {},
   "source": [
    "*1.3)* ***Problem 12.11***  \n",
    "\n",
    "*Show that hte JEans mass (Eq 12.14) can also be written as*\n",
    "\n",
    "$$ M_j=\\frac{c_Jv_T^4}{P_0^{1/2}G^{3/2}}$$\n",
    "\n",
    "*where the isothermal sound speed, $v_T$ is given by Eq 12.18. $P_0$ is the pressure associated with the density $\\rho_0$ and temperature T, and $c_j \\approx 5.46$ is a dimensionless constant.*"
   ]
  },
  {
   "cell_type": "markdown",
   "id": "e3ea4014",
   "metadata": {},
   "source": [
    "## Problem 2\n",
    "\n",
    "**Giant Planet Formation**\n",
    "\n",
    "*2.1) Consider the disk instability model for giant planet formation. In a (very) simplified model, derive an expression for the distance R from a clump of total mass M in the protoplanetary disk you can be and still remain bound to the clump when considering Keplerian shear. Take the clump to be orbiting at a distance a from the star. Hint: use energy. You may assume that R<<a*"
   ]
  },
  {
   "cell_type": "markdown",
   "id": "4e2a925e",
   "metadata": {},
   "source": [
    "*2.2) Calculate R for Jupiter, then, in our solar system. Be kind to an old astrophysicist and plase give me the answer in AU and not some hideously large number in meters...* "
   ]
  },
  {
   "cell_type": "markdown",
   "id": "b3cc91a7",
   "metadata": {},
   "source": [
    "*2.3) Now calculate R for extrasolar planet HD209458b (see http://exoplanet.eu/ for extrasolar planet data). Give your answer in AU.*"
   ]
  },
  {
   "cell_type": "markdown",
   "id": "17a4e5f4",
   "metadata": {},
   "source": [
    "*2.4) Given your answers above, how plausible is formation of HD209458b via disk instability relative to that of Jupiter? Note that the amount of gas in a clump might be expected to go as $\\Sigma \\times \\pi R^2$ where $\\Sigma \\propto r^{-3/2}$ is the disk surface density as a function of distance from the star, r.*"
   ]
  },
  {
   "cell_type": "markdown",
   "id": "ac3d58af",
   "metadata": {},
   "source": [
    "## Problem 3\n",
    "\n",
    "**Terrestrial Planet Formation**\n",
    "\n",
    "*3.1) Calculate the amount of gas with which a particle R meters in radius orbiting at 1AU from a 1$M_\\odot$ star collides during one year. You may assume that the density of the protoplanetary disk is 1e-6 kg/$m^3$ and that the gas-pressure-supported non-Keplerian adjustment factor $\\eta$ = 0.005.*"
   ]
  },
  {
   "cell_type": "markdown",
   "id": "94b433a8",
   "metadata": {},
   "source": [
    "*3.2) Assuming a density of 3000kg/$m^3$ for the orbiting particle, calculate the radius of a particle that collides with its own mass during one orbit. THis size particle is too big to be dragged along with the gas, but is too small to power through it, and will spiral into the star in a few tens of orbits.*"
   ]
  },
  {
   "cell_type": "code",
   "execution_count": null,
   "id": "aefd14d0",
   "metadata": {},
   "outputs": [],
   "source": []
  }
 ],
 "metadata": {
  "kernelspec": {
   "display_name": "Python 3 (ipykernel)",
   "language": "python",
   "name": "python3"
  },
  "language_info": {
   "codemirror_mode": {
    "name": "ipython",
    "version": 3
   },
   "file_extension": ".py",
   "mimetype": "text/x-python",
   "name": "python",
   "nbconvert_exporter": "python",
   "pygments_lexer": "ipython3",
   "version": "3.8.8"
  }
 },
 "nbformat": 4,
 "nbformat_minor": 5
}
