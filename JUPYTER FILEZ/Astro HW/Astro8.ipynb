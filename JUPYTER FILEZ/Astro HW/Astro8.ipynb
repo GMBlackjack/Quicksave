{
 "cells": [
  {
   "cell_type": "markdown",
   "id": "5c5005b5",
   "metadata": {},
   "source": [
    "# Homework 7: Beginnings, but in the Middle\n",
    "\n",
    "## Astrophysics: PHYS 584\n",
    "\n",
    "## Gabriel M Steward\n",
    "\n",
    "## March 2022\n",
    "\n",
    "**Texts Referenced:**\n",
    "\n",
    "**An Introduction to Modern Astrophysics, Carroll and Ostlie\n",
    "Lecture Notes.**    "
   ]
  },
  {
   "cell_type": "markdown",
   "id": "662aa256",
   "metadata": {},
   "source": [
    "## Problem 1\n",
    "\n",
    "**Star Formation**\n",
    "\n",
    "*1.1) In class, we calculated the Jeans Mass. Instead, assume an infintie cloud of uniform density—what is the radius of a subcloud that is unstable and subject to collapse? This is called the Jeans Length.*\n",
    "\n",
    "The Jeans Mass is given by:\n",
    "\n",
    "$$M_c = \\sqrt{\\frac{3}{4\\pi\\rho}} \\left( \\frac{5kT}{G\\mu m_H} \\right)^{3/2}$$\n",
    "\n",
    "We can associate this directly with the radius of an object with known density and mass.\n",
    "\n",
    "$$R_c = \\left( \\frac{3M_c}{4\\pi \\rho} \\right)^{1/3}$$"
   ]
  },
  {
   "cell_type": "markdown",
   "id": "975f9d5b",
   "metadata": {},
   "source": [
    "This radius is actually the Jeans Length, but we want to be able to calculate it without the Jeans Mass first, so we perform the substitution. This gets a little awkward at first, but should be workable:\n",
    "\n",
    "$$R_c = \\left( \\frac{3}{4\\pi \\rho} \\right)^{1/3} \\left( \\frac{3}{4\\pi\\rho} \\right)^{1/6} \\left( \\frac{5kT}{G\\mu m_H} \\right)^{1/2} $$\n",
    "\n",
    "$$ = \\left( \\frac{3}{4\\pi \\rho} \\right)^{1/2} \\left( \\frac{5kT}{G\\mu m_H} \\right)^{1/2} $$\n",
    "\n",
    "$$ = \\left( \\frac{15kT}{4\\pi \\rho G\\mu m_H} \\right)^{1/2} $$\n",
    "\n",
    "Which matches Eq 12.16 in the textbook exactly. "
   ]
  },
  {
   "cell_type": "markdown",
   "id": "a1da7ac1",
   "metadata": {},
   "source": [
    "*1.2) PHYS 484 ONLY SKIPPED!*"
   ]
  },
  {
   "cell_type": "markdown",
   "id": "21214793",
   "metadata": {},
   "source": [
    "*1.3)* ***Problem 12.11***  \n",
    "\n",
    "*Show that the Jeans mass (Eq 12.14) can also be written as*\n",
    "\n",
    "$$ M_j=\\frac{c_Jv_T^4}{P_0^{1/2}G^{3/2}}$$\n",
    "\n",
    "*where the isothermal sound speed, $v_T$ is given by Eq 12.18. $P_0$ is the pressure associated with the density $\\rho_0$ and temperature T, and $c_j \\approx 5.46$ is a dimensionless constant.*"
   ]
  },
  {
   "cell_type": "markdown",
   "id": "bb03420d",
   "metadata": {},
   "source": [
    "From the previous part we have already declared the Jeans Mass. (Though we used a \"c\" subscript instead of \"j\", the latter of which is probably better). Let us substitute in $v_T$ according to equeation 12.18 into that and get:\n",
    "\n",
    "$$M_j = \\sqrt{\\frac{3}{4\\pi\\rho}} \\left( \\frac{5}{G} \\right)^{3/2} v_T^3$$\n",
    "\n",
    "Treating the interstellar gas as an ideal gas, we have PV=nRT=NkT which leads to P/$\\rho$=kT or that the pressure P = kT$\\rho$. However, we need to be *cautious*, as we just determined the PARTICLE density, not the MASS desnity. So we multiply by the $\\mu m_H$ term (mean molecular weight times hydrogen mass). \n",
    "\n",
    "$$ = \\sqrt{\\frac{3kT}{4\\pi \\mu m_H P}} \\left( \\frac{5}{G} \\right)^{3/2} v_T^3$$"
   ]
  },
  {
   "cell_type": "markdown",
   "id": "fdb2d80c",
   "metadata": {},
   "source": [
    "This provides the fourth $v_T$.\n",
    "\n",
    "$$ = \\sqrt{\\frac{3}{4\\pi}} 5^{3/2} \\frac{v_T^4}{P^{1/2}G^{3/2}}$$\n",
    "\n",
    "And it just so happens that the constant in front is approximately 5.4627, which is what we need. \n",
    "\n",
    "$$ =  \\frac{c_Jv_T^4}{P^{1/2}G^{3/2}}$$"
   ]
  },
  {
   "cell_type": "markdown",
   "id": "e3ea4014",
   "metadata": {},
   "source": [
    "## Problem 2\n",
    "\n",
    "**Giant Planet Formation**\n",
    "\n",
    "*2.1) Consider the disk instability model for giant planet formation. In a (very) simplified model, derive an expression for the distance R from a clump of total mass M in the protoplanetary disk you can be and still remain bound to the clump when considering Keplerian shear. Take the clump to be orbiting at a distance a from the star. Hint: use energy. You may assume that R<<a*\n",
    "\n",
    "R is the distance we have to concern ourselves with. The center of the disk is moving with a velocity of v=$\\sqrt{\\frac{Gm}{a}}$, while the point closest to the star has v=$\\sqrt{\\frac{Gm}{a-R}}$ and the furthest has v=$\\sqrt{\\frac{Gm}{a+R}}$\n",
    "\n",
    "We are using m for the mass of the star, as we are using M for the mass of the disk. \n",
    "\n",
    "Meanwhile there is also a velocity associated with orbiting around the disk itself. This speed is much more consistent: v=$\\sqrt{\\frac{GM}{R}}$\n",
    "\n",
    "Now we need to consider the escape velocity: v=$\\sqrt{\\frac{2GM}{R}}$. In essence, if we can show that, due to the shear induced by the sun, the particle achieves escape velocity, we know it is no longer stable. Either the closest passage or the furthest passage will have the greatest change in velocity. \n",
    "\n",
    "The problem we immediately come across is the fact that it now matters which direction we're orbiting around the disk. If we assume a standard, simple, ideal disk, that means it's orbiting counterclockwise and rotating counterclockwise as well. This means that, at the point closest to the sun, the shear pulls *against* the motion of our theoretical particle. \n",
    "\n",
    "Thus, the actual velocity would be\n",
    "\n",
    "$$ v = \\sqrt{\\frac{Gm}{a-R}} - \\sqrt{\\frac{GM}{R}} $$\n",
    "\n",
    "However, if we were on the other side we have constructive interference.\n",
    "\n",
    "$$ v = \\sqrt{\\frac{Gm}{a+R}} + \\sqrt{\\frac{GM}{R}} $$\n",
    "\n",
    "As of now, we don't know which of these will produce the escape velocity at the smallest R, so we shall solve for both. The easiset way to do this is just set it equal to the escape velocity. \n",
    "\n",
    "$$ \\sqrt{\\frac{2GM}{R}} = \\sqrt{\\frac{Gm}{a-R}} - \\sqrt{\\frac{GM}{R}} $$\n",
    "$$ \\sqrt{\\frac{2GM}{R}} = \\sqrt{\\frac{Gm}{a+R}} + \\sqrt{\\frac{GM}{R}} $$"
   ]
  },
  {
   "cell_type": "markdown",
   "id": "b3b9eb2e",
   "metadata": {},
   "source": [
    "Ultimately we need to solve these in terms of R.First, get the radical into a workable form. \n",
    "\n",
    "$$ \\sqrt{\\frac{2GM}{R}} = \\sqrt{\\frac{Gm/a}{1-R/a}} - \\sqrt{\\frac{GM}{R}} $$\n",
    "$$ \\sqrt{\\frac{2GM}{R}} = \\sqrt{\\frac{Gm/a}{1+R/a}} + \\sqrt{\\frac{GM}{R}} $$\n",
    "\n",
    "This is going to involve applying the $(1+a)^n=1+an$ approximation, and let's put all the terms on one side to make this easier. \n",
    "\n",
    "$$ 0 = \\frac{\\sqrt{Gm/a}}{1-R/2a} - \\sqrt{\\frac{GM}{R}} - \\sqrt{\\frac{2GM}{R}} $$\n",
    "$$ 0 = \\frac{\\sqrt{Gm/a}}{1+R/2a} + \\sqrt{\\frac{GM}{R}} - \\sqrt{\\frac{2GM}{R}} $$\n",
    "\n",
    "Now, let's just pull out some terms.\n",
    "\n",
    "$$ 0 = \\frac{G}{R} \\left( \\frac{\\sqrt{m/a}}{1/\\sqrt{R}-\\sqrt{R}/2a} - \\sqrt{M} - \\sqrt{2M} \\right) $$\n",
    "$$ 0 = \\frac{G}{R} \\left( \\frac{\\sqrt{m/a}}{1/\\sqrt{R}+\\sqrt{R}/2a} + \\sqrt{M} - \\sqrt{2M} \\right) $$\n",
    "\n",
    "With R << a we simplify the denominator considerably, since something of the form 1/2a is miniscule compared to something 1/$\\sqrt{R}$\n",
    "\n",
    "$$ 0 = \\frac{G}{R} \\left( \\sqrt{Rm/a} - \\sqrt{M} - \\sqrt{2M} \\right) $$\n",
    "$$ 0 = \\frac{G}{R} \\left( \\sqrt{Rm/a} + \\sqrt{M} - \\sqrt{2M} \\right) $$\n",
    "\n",
    "It becomes evident that the terms out front do not matter, the zero point will remain the same regardless.\n",
    "\n",
    "$$ 0 = \\sqrt{Rm/a} - \\sqrt{M} - \\sqrt{2M} $$\n",
    "$$ 0 = \\sqrt{Rm/a} + \\sqrt{M} - \\sqrt{2M} $$\n",
    "\n",
    "Rearrange a bit...\n",
    "\n",
    "$$ \\sqrt{Ma/m} + \\sqrt{2Ma/m} = \\sqrt{R} $$\n",
    "$$  - \\sqrt{Ma/m} + \\sqrt{2Ma/m} = \\sqrt{R} $$\n",
    "\n",
    "Now it becomes obvious that we want the second one as it provides us with a smaller R in result. Therefore, our final result is:\n",
    "\n",
    "$$ R = \\left( (\\sqrt{2}-1)\\sqrt{\\frac{Ma}{m}} \\right)^2 = (\\sqrt{2}-1)^2 \\frac{Ma}{m} $$\n",
    "\n",
    "Even though the greater forces are acting on the portion of the disk closest to the star, the fact that the velocities add constructively on the other side of the disk make the escape velocity easier to reach on the *far* side. Remember, small-m is the mass of the star this time, unlike normal. "
   ]
  },
  {
   "cell_type": "markdown",
   "id": "4e2a925e",
   "metadata": {},
   "source": [
    "*2.2) Calculate R for Jupiter, then, in our solar system. Be kind to an old astrophysicist and plase give me the answer in AU and not some hideously large number in meters...* \n",
    "\n",
    "M = 1.90e27 kg\n",
    "\n",
    "a = 7.78e11 m = 5.20 AU\n",
    "\n",
    "m = 1.99e30 kg\n",
    "\n",
    "Plugging these values into our above equation produces an R of 1.274e8 m or **8.52e-4 AU**. Seems a little small to be giving it in terms of AU, but at least the order of magnitude is right; if this were on the order of an AU it'd be way too big to fit in the solar system sensibly! "
   ]
  },
  {
   "cell_type": "markdown",
   "id": "b3cc91a7",
   "metadata": {},
   "source": [
    "*2.3) Now calculate R for extrasolar planet HD209458b (see http://exoplanet.eu/ for extrasolar planet data). Give your answer in AU.*\n",
    "\n",
    "Irony: using exoplanet.eu to search for the planet sucked, but using google search directed us *to* the exoplanet.eu page for HD209458b. http://exoplanet.eu/catalog/hd_209458_b/. \n",
    "\n",
    "Regardless:\n",
    "\n",
    "M = 0.69 Jupiters = 1.31e27 kg\n",
    "\n",
    "a = 0.04747 AU = 7.10e8m\n",
    "\n",
    "m = 1.148 Sun = 2.28e30 kg\n",
    "\n",
    "Note that this one is much closer to the star. Anyway, the radius of the disk is calculated from this to be 4.08e5 m, or **2.77e-6 AU**. This is much smaller, as would very much be expected as *we are much closer to the star* and thus a larger disc would have much mroe trouble forming, and the shear difference woudl be greater over a smaller distance. "
   ]
  },
  {
   "cell_type": "markdown",
   "id": "17a4e5f4",
   "metadata": {},
   "source": [
    "*2.4) Given your answers above, how plausible is formation of HD209458b via disk instability relative to that of Jupiter? Note that the amount of gas in a clump might be expected to go as $\\Sigma \\times \\pi R^2$ where $\\Sigma \\propto r^{-3/2}$ is the disk surface density as a function of distance from the star, r.*\n",
    "\n",
    "Since we're just working with proportionality, we don't need to concern ourselves with specifics (or even units!). The amount of gas in a clump (or disk) is proportional to $\\pi R^2 a^{-3/2}$, adapted from the question. For Jupiter his proportinality constant is equal to $\\pi (8.52e-4)^2 5.20^{-3/2}$ = 1.923e-7 \n",
    "\n",
    "For the expoplanet this proportinality constant is equal to $\\pi (2.77e-6)^2 0.04747^{-3/2}$ = 2.33e-9\n",
    "\n",
    "Now Jupiter's number is larger by two orders of magnitude, but what does this mean? Well, it means that somewhere around 100x more material is in the Juptiter disk than the exoplanet disk. Even though the dust is denser closer to the star, the shear forces tear a lot of it away, leaving the exoplent with much less material. We deduce that **Jupiter is much more likely to form by disk instability** from this proportionality alone—we only know that our numbers are *related* to the amount of gas in a system, not precisely how. For all we know there is still enough material in the exoplanet disk to form the planet, but two orders of magnitude is quite a difference.\n",
    "\n",
    "Since we know that hot Jupiters are largely considered to have \"migrated in\" from the edge of the solar system, we note that most likely the exoplanet simply could not have formed where it is now. Our work in this problem corroborates this theory. \n",
    "\n",
    "Still, perhaps the exoplanet could have formed by disk instability further out in its system...."
   ]
  },
  {
   "cell_type": "markdown",
   "id": "ac3d58af",
   "metadata": {},
   "source": [
    "## Problem 3\n",
    "\n",
    "**Terrestrial Planet Formation**\n",
    "\n",
    "*3.1) Calculate the amount of gas with which a particle R meters in radius orbiting at 1AU from a 1$M_\\odot$ star collides during one year. You may assume that the density of the protoplanetary disk is 1e-6 kg/$m^3$ and that the gas-pressure-supported non-Keplerian adjustment factor $\\eta$ = 0.005.*\n",
    "\n",
    "The mean motion (that is to say, the velocity) of particles in the disc are given roughly by the following;\n",
    "\n",
    "$$n_g = \\sqrt{\\frac{GM_\\odot}{a^3}}(1-\\eta) = \\sqrt{\\frac{GM_\\odot}{a^3}}0.995 $$\n",
    "\n",
    "These values are known. Plugging in the values gives us a mean motion of 29.65 km/s. The actual orbital speed of a larger object at 1 AU is the speed of earth, that is 29.78 km/s. Faster, yes, but not by much. Assuming R is not large enough to demand gravitational pull be taken into consideration, but not small enough to be fully dragged along with the gas, we note that the *relative speeD* is 0.13 km/s. In one year, the particle will sweep through an effecitve 4.10e6 km of dust. We can estimate this as a cylinder of length 4.10e6 km and a radius of R. This means the \"volume\" is (4.10e9)$\\pi R^2$ cubic meters. The actual mass of gas that was run into is this volume times the density, or $4.10e3 \\pi R^2$ kg when R is given in m."
   ]
  },
  {
   "cell_type": "markdown",
   "id": "94b433a8",
   "metadata": {},
   "source": [
    "*3.2) Assuming a density of 3000kg/$m^3$ for the orbiting particle, calculate the radius of a particle that collides with its own mass during one orbit. This size particle is too big to be dragged along with the gas, but is too small to power through it, and will spiral into the star in a few tens of orbits.*"
   ]
  },
  {
   "cell_type": "markdown",
   "id": "e5000f28",
   "metadata": {},
   "source": [
    "The mmass of a particle is the density times the voluem so $3000*(4/3)*\\pi*R^3 = 4000\\pi R^3$\n",
    "\n",
    "We now set them equal to each other and solve. \n",
    "\n",
    "$$ 4000 \\pi R^3 = 4100 \\pi R^2 $$\n",
    "\n",
    "$$ 4000 R = 4100 $$\n",
    "\n",
    "$$ R = 1.025 $$\n",
    "\n",
    "So a **1.025 m** ball is the equilibrium point here. This problem seems to have clearly been constructed, as all the numbers essentially canceled out despite the arbitrary speeds and density of 3000. "
   ]
  },
  {
   "cell_type": "code",
   "execution_count": null,
   "id": "23763d5f",
   "metadata": {},
   "outputs": [],
   "source": []
  }
 ],
 "metadata": {
  "kernelspec": {
   "display_name": "Python 3 (ipykernel)",
   "language": "python",
   "name": "python3"
  },
  "language_info": {
   "codemirror_mode": {
    "name": "ipython",
    "version": 3
   },
   "file_extension": ".py",
   "mimetype": "text/x-python",
   "name": "python",
   "nbconvert_exporter": "python",
   "pygments_lexer": "ipython3",
   "version": "3.7.9"
  }
 },
 "nbformat": 4,
 "nbformat_minor": 5
}
