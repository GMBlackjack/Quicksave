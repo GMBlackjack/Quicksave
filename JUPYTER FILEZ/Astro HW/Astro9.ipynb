{
 "cells": [
  {
   "cell_type": "markdown",
   "id": "5c5005b5",
   "metadata": {},
   "source": [
    "# Homework 9: Three Largely Unrelated Things\n",
    "\n",
    "## Astrophysics: PHYS 584\n",
    "\n",
    "## Gabriel M Steward\n",
    "\n",
    "## March 2022\n",
    "\n",
    "**Texts Referenced:**\n",
    "\n",
    "**An Introduction to Modern Astrophysics, Carroll and Ostlie\n",
    "Lecture Notes.**    "
   ]
  },
  {
   "cell_type": "markdown",
   "id": "9a41feb7",
   "metadata": {},
   "source": [
    "## Problem 1\n",
    "**Gravitational Focusing**\n",
    "\n",
    "*Show that a planet's gravitationally enhanced cross-sectional area for an appraoching asteroid is equal to $R_p \\sqrt{1+(\\frac{v_e}{v_\\infty})^2}$ Here, I'll walk you through it.*\n",
    "\n",
    "*1.1) Determine the periapsis distance of a hyperbolic orbit. Okay, that sounds complicated. Assume that the asteroid's trajectory is such that it would miss the c\\enter of the planet by a distance b with no gravity. THis is called the **impact parameter.** Then use conservation of angular momentuym and conservation of energy to determine the periapsis distance. Hint: since hte distance that you're solving for will give you a quadratic, the periapsis is the distance where the discriminant of the quadratic is equal to zero.*"
   ]
  },
  {
   "cell_type": "markdown",
   "id": "06e94546",
   "metadata": {},
   "source": [
    "*1.2) Now that you've done the hard part, just set the periapsis distance equal to $R_p$ to solve for the gravitationally focused cross-sectional area, which should be b.*"
   ]
  },
  {
   "cell_type": "markdown",
   "id": "976faaea",
   "metadata": {},
   "source": [
    "## Problem 2\n",
    "\n",
    "**Radioisotope Dating**\n",
    "\n",
    "*2.1) Based on the following hypothetical data from a basaltic rock returned from one of the lunar Maria, how old is this rock? What does the age likely signify?*\n",
    "\n",
    "| Grain # | $^{86}Sr$ (ppm) | $^{87}Sr$ (ppm) | $^{87}Rb$ (ppm) |\n",
    "| --- | --- | --- | --- |\n",
    "|1|1573|960|244|\n",
    "|2|2220|1372|666|\n",
    "|3|3148|1980|1574|\n",
    "|4|2390|1485|884|"
   ]
  },
  {
   "cell_type": "markdown",
   "id": "86231007",
   "metadata": {},
   "source": [
    "## Problem 3\n",
    "\n",
    "**Extrasolar Planets**\n",
    "\n",
    "*3.1) If **Kepler** finds a transiting planet with a radius equal to 0.54$R_{jup}$, what is its likely mass and composition?*"
   ]
  },
  {
   "cell_type": "markdown",
   "id": "584f4bb2",
   "metadata": {},
   "source": [
    "*3.2) Say we find a totally different planet, this one with $R_p=R_\\oplus$. Furthermore, we are fortunate enough to get very sensitive radial velocity measurements and determine that hte planet's mass is 3 $M_\\oplus$. What is this plaent's composition? Should we expect to find planets like this in the **Kepler** discoveries?*"
   ]
  },
  {
   "cell_type": "code",
   "execution_count": null,
   "id": "651ef9fd",
   "metadata": {},
   "outputs": [],
   "source": []
  }
 ],
 "metadata": {
  "kernelspec": {
   "display_name": "Python 3 (ipykernel)",
   "language": "python",
   "name": "python3"
  },
  "language_info": {
   "codemirror_mode": {
    "name": "ipython",
    "version": 3
   },
   "file_extension": ".py",
   "mimetype": "text/x-python",
   "name": "python",
   "nbconvert_exporter": "python",
   "pygments_lexer": "ipython3",
   "version": "3.7.9"
  }
 },
 "nbformat": 4,
 "nbformat_minor": 5
}
