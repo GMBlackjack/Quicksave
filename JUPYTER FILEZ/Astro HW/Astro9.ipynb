{
 "cells": [
  {
   "cell_type": "markdown",
   "id": "5c5005b5",
   "metadata": {},
   "source": [
    "# Homework 9: Three Largely Unrelated Things\n",
    "\n",
    "## Astrophysics: PHYS 584\n",
    "\n",
    "## Gabriel M Steward\n",
    "\n",
    "## March/April 2022\n",
    "\n",
    "**Texts Referenced:**\n",
    "\n",
    "**An Introduction to Modern Astrophysics, Carroll and Ostlie**\n",
    "\n",
    "**Lecture Notes.**    "
   ]
  },
  {
   "cell_type": "markdown",
   "id": "9a41feb7",
   "metadata": {},
   "source": [
    "## Problem 1\n",
    "**Gravitational Focusing**\n",
    "\n",
    "*Show that a planet's gravitationally enhanced cross-sectional area for an appraoching asteroid is equal to $R_p \\sqrt{1+(\\frac{v_e}{v_\\infty})^2}$ Here, I'll walk you through it.*\n",
    "\n",
    "*1.1) Determine the periapsis distance of a hyperbolic orbit. Okay, that sounds complicated. Assume that the asteroid's trajectory is such that it would miss the center of the planet by a distance b with no gravity. This is called the **impact parameter.** Then use conservation of angular momentum and conservation of energy to determine the periapsis distance. Hint: since the distance that you're solving for will give you a quadratic, the periapsis is the distance where the discriminant of the quadratic is equal to zero.*\n",
    "\n",
    "Remember that $v_e$ = $\\sqrt{\\frac{2GM}{R}}$, the escape velocity.\n",
    "\n",
    "First up, by conservation of energy, we have:\n",
    "\n",
    "$$ \\frac{mv_\\infty^2}{2} = \\frac{mv_c^2}{2} - \\frac{GMm}{R} $$\n",
    "$$ \\Rightarrow \\frac{v_\\infty^2}{2} = \\frac{v_c^2}{2} - \\frac{GM}{R} $$\n",
    "\n",
    "Note that $v_c$ is the velocity at closest approach. Is this the escape velocity? Not necessarily, as we're dealing with a general hyperbolic orbit right now, it could be much larger. However, ultimately the problem is asking about what will crash into the planet—but we'll get to that later. First, angular momentum.\n",
    "\n",
    "$$ bmv_\\infty = Rmv_c $$\n",
    "$$ \\Rightarrow bv_\\infty = Rv_c $$\n",
    "\n",
    "Ultimately, in our problem, we seek the largest possible b that will still crash into the planet. Thus, in reality, we know exactly what R is, for it will be the radius of the planet. Furthremore, we know so long as b>R (which it better) the $v_\\infty$ must be less than the escape velocity, or the impact will never occur. If $v_\\infty$ has any speed at all, necessarily the speed $v_c$ must be greater than the escape velocity because the escape velocity is hit when $v_\\infty=0$. Thus, $v_c, R, and b$ are all unknowns in the general case: we don't know the distance of closest approach, we don't know the speed at closest approach, and we don't know b. Except, in a kind of backwards way, we DO know b. We are solving for a general hyperbolic orbit right now: we can let b act as a selected initial parameter we use to find R and $v_c$. This may or may not be the path the problem wanted us to take, but we'll go with it. "
   ]
  },
  {
   "cell_type": "markdown",
   "id": "7211dd9f",
   "metadata": {},
   "source": [
    "Our equaiton rather easily gives us $R=bv_\\infty / v_c$ and so we put that into the energy equation and get:\n",
    "\n",
    "$$ \\frac{v_c^2}{2} - \\frac{GMv_c}{bv_\\infty} - \\frac{v_\\infty^2}{2} = 0$$\n",
    "\n",
    "Solve for $v_c$.\n",
    "\n",
    "$$ v_c = \\frac{GM}{bv_\\infty} \\pm \\sqrt{\\frac{G^2M^2}{b^2v_\\infty^2} + v_\\infty^2}$$\n",
    "\n",
    "Our velocity cannot be negative and if we subtract, it will be negative, so use the plus version.\n",
    "\n",
    "$$ \\Rightarrow v_c = \\frac{GM}{bv_\\infty} + \\sqrt{\\frac{G^2M^2}{b^2v_\\infty^2} + v_\\infty^2}$$\n",
    "\n",
    "Simplify by force-pulling out like terms from the root.\n",
    "\n",
    "$$ \\Rightarrow v_c = \\frac{GM}{bv_\\infty} + \\frac{GM}{bv_\\infty}\\sqrt{1 + \\frac{b^2v_\\infty^4}{G^2M^2}}$$\n",
    "$$ \\Rightarrow v_c = \\frac{GM}{bv_\\infty}(1 + \\sqrt{1 + \\frac{b^2v_\\infty^4}{G^2M^2}})$$\n",
    "\n",
    "Now we find R by substitution. \n",
    "\n",
    "$$ R = \\frac{bv_\\infty}{\\frac{GM}{bv_\\infty}(1 + \\sqrt{1 + \\frac{b^2v_\\infty^4}{G^2M^2}})}$$"
   ]
  },
  {
   "cell_type": "markdown",
   "id": "87b2dd57",
   "metadata": {},
   "source": [
    "$$ \\Rightarrow R = \\frac{b^2v_\\infty^2}{GM(1 + \\sqrt{1 + \\frac{b^2v_\\infty^4}{G^2M^2}})}$$ \n",
    "\n",
    "Which is what we wanted. We still have no clue what the whole discriminant thing was about, as the discriminant above can't actually equal zero with physical values. Anyway, now we go to part 2. "
   ]
  },
  {
   "cell_type": "markdown",
   "id": "06e94546",
   "metadata": {},
   "source": [
    "*1.2) Now that you've done the hard part, just set the periapsis distance equal to $R_p$ to solve for the gravitationally focused cross-sectional area, which should be b.*\n",
    "\n",
    "So now we know R but not b. So we seek to solve for b, and then get it into something at least resembling the original form. There was MUCH algebraic headache here, so we eventually just fed the following into symbolab:\n",
    "\n",
    "$$ X = \\frac{Y^2a}{(1 + \\sqrt{1 + Y^2a^2)}}$$\n",
    "\n",
    "and the result was\n",
    "\n",
    "$$ Y = \\pm \\sqrt{X(aX+2)/a} $$\n",
    "\n",
    "Obviously we take the positive answer. Which we translate back to \n",
    "\n",
    "$$ b = \\sqrt{\\frac{GM}{v_\\infty^2}R(\\frac{v_\\infty^2}{GM}R+2)} $$\n",
    "$$ = \\sqrt{R^2+2\\frac{GM}{v_\\infty^2}R} $$\n",
    "\n",
    "Then we substitute in the escape velocity.\n",
    "\n",
    "$$ = \\sqrt{R^2+\\frac{v_e^2}{v_\\infty^2}R^2} $$\n",
    "$$ = R\\sqrt{1+\\frac{v_e^2}{v_\\infty^2}} $$"
   ]
  },
  {
   "cell_type": "markdown",
   "id": "8c830532",
   "metadata": {},
   "source": [
    "Which is exactly what we sought. "
   ]
  },
  {
   "cell_type": "markdown",
   "id": "976faaea",
   "metadata": {},
   "source": [
    "## Problem 2\n",
    "\n",
    "**Radioisotope Dating**\n",
    "\n",
    "*2.1) Based on the following hypothetical data from a basaltic rock returned from one of the lunar Maria, how old is this rock? What does the age likely signify?*\n",
    "\n",
    "| Grain # | $^{86}Sr$ (ppm) | $^{87}Sr$ (ppm) | $^{87}Rb$ (ppm) |\n",
    "| --- | --- | --- | --- |\n",
    "|1|1573|960|244|\n",
    "|2|2220|1372|666|\n",
    "|3|3148|1980|1574|\n",
    "|4|2390|1485|884|"
   ]
  },
  {
   "attachments": {
    "Screenshot%202022-03-28%20074815.png": {
     "image/png": "[encoded data removed]"
    }
   },
   "cell_type": "markdown",
   "id": "89af3413",
   "metadata": {},
   "source": [
    "So, for the Sr->Rb decay we need to plot $^{87}Rb/^{86}Sr$ vs $^{87}Sr/^{86}Sr$. These ratios are obtained from the table above, and are then put into GeoGebra, where we use the line of best fit function to find out the y-intercept, which will give us $N_d0$.\n",
    "\n",
    "![Screenshot%202022-03-28%20074815.png](attachment:Screenshot%202022-03-28%20074815.png)\n",
    "\n",
    "Points A, B, C, and D are the four grains, in order. E is the intercept, at y~0.6018, or just 0.6. This represents the quantity $N_{d0}$. The slope of the line is 0.0538. "
   ]
  },
  {
   "cell_type": "markdown",
   "id": "13b75e7d",
   "metadata": {},
   "source": [
    "Since the slope of the line is known we can now solve for t directly, via $m=2^{t/\\tau}-1$. The half life of Rb->Sr is 48.8 GYr. So now we solve for t:\n",
    "\n",
    "$$ 0.0538 = 2^{t/48.8}-1 $$\n",
    "$$ \\Rightarrow 1.0538 = 2^{t/48.8} $$\n",
    "$$ \\Rightarrow 0.0756 = t/48.8 $$\n",
    "$$ \\Rightarrow 3.689 = t $$\n",
    "\n",
    "Thus the rock is about 3.689 GYr old, or **3,689,000,000** years. Less than the age of the universe, good! \n",
    "\n",
    "Now, the moon itself is about 4.53 billion years old, this rock is a little newer than that. Since it's from teh Lunar Maria, we draw the conclusion that this is the time of rock melting. The timing is even right to call this a result of the **Late Heavy Bombardment**, which occured roughtly 700 million years after the initial formation, and our numbers are about 800 million years apart. "
   ]
  },
  {
   "cell_type": "markdown",
   "id": "86231007",
   "metadata": {},
   "source": [
    "## Problem 3\n",
    "\n",
    "**Extrasolar Planets**\n",
    "\n",
    "*3.1) If **Kepler** finds a transiting planet with a radius equal to 0.54$R_{jup}$, what is its likely mass and composition?*\n",
    "\n",
    "Roughtly half a Jupiter radius is a bit larger than the radii of an ice giant. (Neptune is 0.35$R_j$, for instnace.) \n",
    "\n",
    "On the graph on 10.1 pg 6, this is somewhere between 90% and 50% heavy elemetns, closer to the 90% where Neptune and Uranus lie. If we needed a number, We'd say this hypothetical planet is 80% heavy elements composed mostly of ices. "
   ]
  },
  {
   "cell_type": "markdown",
   "id": "584f4bb2",
   "metadata": {},
   "source": [
    "*3.2) Say we find a totally different planet, this one with $R_p=R_\\oplus$. Furthermore, we are fortunate enough to get very sensitive radial velocity measurements and determine that the planet's mass is 3 $M_\\oplus$. What is this plaent's composition? Should we expect to find planets like this in the **Kepler** discoveries?*"
   ]
  },
  {
   "cell_type": "markdown",
   "id": "4243804b",
   "metadata": {},
   "source": [
    "This one can be measured much more precisely. The graph on 10.1 pg7 has Earth plotted, so we can use that to match the radius, and 3 earth masses has a tick on the bottom axis. Connecting the lines produces a point that is almost *exactly* on the **\"pure iron\"** line in terms of composition, which would make it an iron planet. \n",
    "\n",
    "Now, if a planet of nearly pure iron had been discovered, we would probably know about it. Doing some research, it seems that iron-rich planets do exist, and that Mercury is one of them--however, we can clearly see on our aforementioned table that Mercury is not a pure-iron, but near what looks to be the 75% iron line. \n",
    "\n",
    "So while research implies that these iron planets might be possible (such as a planet that has had its core exposed for whatever reason) **it seems that we shouldn't expect to see one**, as they would be rare and largely cosmic flukes. \n",
    "\n",
    "A note: taking an even closer look at the graph with a straightedge, it appears as though 3 Earth Masses and 1 Earth Radius land just *under* the pure iron line, thus creating either an impossible planet or a planet composed of iron and heavier elements. We do not trust our eyes and our straightedge exactly, so we assume that the problem is asking about a pure iron planet, but if it's asking about something *below* the line, well, then that's definitely something we wouldn't expect to see ever. "
   ]
  },
  {
   "cell_type": "code",
   "execution_count": null,
   "id": "16b2352f",
   "metadata": {},
   "outputs": [],
   "source": []
  }
 ],
 "metadata": {
  "kernelspec": {
   "display_name": "Python 3 (ipykernel)",
   "language": "python",
   "name": "python3"
  },
  "language_info": {
   "codemirror_mode": {
    "name": "ipython",
    "version": 3
   },
   "file_extension": ".py",
   "mimetype": "text/x-python",
   "name": "python",
   "nbconvert_exporter": "python",
   "pygments_lexer": "ipython3",
   "version": "3.7.9"
  }
 },
 "nbformat": 4,
 "nbformat_minor": 5
}
