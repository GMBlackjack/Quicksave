{
 "cells": [
  {
   "cell_type": "markdown",
   "id": "5c5005b5",
   "metadata": {},
   "source": [
    "# Homework 7: Balls of Ice and Fire\n",
    "\n",
    "## Astrophysics: PHYS 584\n",
    "\n",
    "## Gabriel M Steward\n",
    "\n",
    "## February/March 2022\n",
    "\n",
    "**Texts Referenced:**\n",
    "\n",
    "**An Introduction to Modern Astrophysics, Carroll and Ostlie\n",
    "Lecture Notes.**\n",
    "\n",
    "Note: hopefully there's no awkward formating, but we're switching to using Jupyter rather than Word for homework, so there may be some unusual page breaks. "
   ]
  },
  {
   "cell_type": "markdown",
   "id": "f73e4e3e",
   "metadata": {},
   "source": [
    "## Problem 1\n",
    "**Stellar Evolution and Snowball Earths**\n",
    "\n",
    "*1.1 (ALL) Calculate the equilibrium temperature of the present-day Earth, assuming that the albedo is 0.3 for incoming solar radiatuion but that the emissivity is 1.0 out in the infrared where Earth emits.*\n",
    "\n",
    "After initial confusion and asking questions, it has been determined that the 1.0 emissivity is just there to let us know we can apply the albedo equation directly. Which it just so happens to be equal to:\n",
    "\n",
    "$$ T_{eq} = T_\\odot(1-a)^{1/4} \\sqrt{\\frac{R_\\odot}{2D}} $$\n",
    "\n",
    "a is the albedo, D is the distance to the sun. This is a rather simple calculation with all the values. 5,778 K for the solar tempreature, 5.957e8 m for the radius, 1.496e11 m for the AU, and 0.3 albedo. This gives us an equilibrium temperature of **236 K.** "
   ]
  },
  {
   "cell_type": "markdown",
   "id": "e3ff1e93",
   "metadata": {},
   "source": [
    "*1.2 (ALL) Compare your answer to the freezing point of water. Should Earth be in a snowball right now? Why or why not?*\n",
    "\n",
    "The freezing point of water is **273 K**. Which implies Earth would be a snowball. \n",
    "\n",
    "Except Earth happens to have this thing called at atmosphere that can trap heat for longer periods of time, allowing it to be much warmer than it should be as an equilibrium. Strip away the atmosphere and geologic activity and that's probably how warm it would be. A possible way to check would be to go measure the temperature of a Near Earth Asteroid, see what it has to say. "
   ]
  },
  {
   "cell_type": "markdown",
   "id": "85b8f955",
   "metadata": {},
   "source": [
    "*1.3 (ALL) What would Earth's equilibrium temperature be if its albedo were 0.7, as it might be if it were entirely glaciated from equator to pole?*\n",
    "\n",
    "Rather than running through the entire equation again, we can scale it by realizing that the only difference comes in the $(1-a)^{1/4}$ term. Divide out by the a=0.3 version, then multiply by the a=0.7 version. \n",
    "\n",
    "This would make a tempreature of **221 K**, which is colder. Apparently, ice, once it exists, will make cool things even colder by reflecting the heat away! "
   ]
  },
  {
   "cell_type": "markdown",
   "id": "42bcb672",
   "metadata": {},
   "source": [
    "*1.4 (ALL) Assume that Earth's actual average temperature today is 290K and that the difference between 290K and the present equilibrium temperature would be the same ∆T if the equilibrium temperature were to change. In that case, what would Earth's equilibrium temperature have been 800Myr ago if its albedo was 0.3, and if the albedo was 0.7? Use the $L_\\odot$ vs. time plot in Lecture 8.1.*"
   ]
  },
  {
   "cell_type": "markdown",
   "id": "41f38efc",
   "metadata": {},
   "source": [
    "So the present ∆T is 290 - 236 = 54 K. \n",
    "\n",
    "800Myr ago is close enough to 1e9 years. As the sun's modern time is around 4.5e9 years, then 3.5e9 years is close enough for our esitimate here. This changes T to around 5760, while the actual value today is 5778. So things have gone down by 18 degrees, which isn't all that much. \n",
    "\n",
    "To adjust our previous values, divide by 5788 then multiply by 5760, or just have a ratio of 0.995. \n",
    "\n",
    "This makes the 0.3 albedo temperature 324 K and the 0.7 albedo 220 K. On the order of single degree changes. However, if we add our ∆T of 54, we get temperatures of **288 K** and **274 K**, respectively to 0.3 and 0.7 albedo.\n",
    "\n",
    "We note that the 0.7 albedo version 1e9 years ago is one degree above the freezing point of water. Naturually our uncertainty here is by more than one degree, so it's actually perfectly reasonable to expect a snowball Earth to be stable here. "
   ]
  },
  {
   "cell_type": "markdown",
   "id": "7c9ecca2",
   "metadata": {},
   "source": [
    "## Problem 2\n",
    "\n",
    "**Red Giants**\n",
    "\n",
    "*2.1 (ALL) When fusing $^4_2He$ into $^{12}_6C$, what fraction of the initial helium mass is converted to energy?*\n",
    "\n",
    "This can be answered simply by looking at the relevent masses. Helium-4 has a mass of 4.002603amu and Carbon-12 has a mass of... 12. Since that's what it's defined to be. Three Helium-4s have 12.007809amu, so that .007909 is what's converted into energy. \n",
    "\n",
    "The ratio between this energy term and the total mass is 0.000650, or **0.06.5%**. Which is to say, a lot in terms of most types of fuel, but not really compared to the hydrogen fusion, which has about 0.7%.  "
   ]
  },
  {
   "cell_type": "markdown",
   "id": "88abadde",
   "metadata": {},
   "source": [
    "*2.2 (ALL) How much energy is produced per gram of fusable helium, relative to the amount that is produced by the fusion of a gram of hydrogen?*\n",
    "\n",
    "Well now that we're being asked fusion per mass of hydrogen, let's calculate it directly instead of relying on Google's 0.7% value. \n",
    "\n",
    "Hydrogen-1 has a weight of 1.007825031898amu. That's a lot of digits. Four of these come together to produce something of 4.031300128amu (ish). This means by the time we get to Helium-4 0.028697 amu of energy has been released. This fraction is 0.007118 or about 0.71%. \n",
    "\n",
    "So, in comparison, **Hydrogen fusion produces around 11x as much energy per gram than Helium fusion.**\n",
    "\n",
    "As for precisely how much energy is extracted from the gram of helium, we have 0.00065 grams and E=m$c^2$. This produces an energy of **5.85e10 J.** *Per Gram.*\n",
    "\n",
    "Helium fusion may be comparatively inefficient but it's still a lot of energy!"
   ]
  },
  {
   "cell_type": "markdown",
   "id": "5d8c6cd9",
   "metadata": {},
   "source": [
    "*2.3 (ALL) Imagine that 5Gyr from now when the Sun turns into a red giant that its effective temperature becomes 3000K and that its radius will be the same as the semimajor axis of Venus' orbit. What would its luminosity be, in terms of $L_\\odot$?*\n",
    "\n",
    "L=4π$R^2 \\sigma T^4$ is the equation of the day. \n",
    "\n",
    "Venus has a semimajor axis of 1.082e11 meters, so that is our R. \n",
    "T is 3000K. \n",
    "$\\sigma$ is a constant equal to 5.67e-8 $W/m^2K^4$\n",
    "\n",
    "And so we have all the numbers. Multiplying it all out gives us L=**6.756e29 W**\n",
    "\n",
    "For the record the luminosity of the Sun was 3.846e26 W in the main sequence. So while it has cooled down considerably, the *much* more massive surface area has greatly increased the luminosity by multiple orders of magnitude. Quick google searching reveals that the expected solar luminosity is about 2000 times greater than it is now in the red giant phase, so this seems about right."
   ]
  },
  {
   "cell_type": "markdown",
   "id": "dd8f178c",
   "metadata": {},
   "source": [
    "*2.4 (ALL) Using the same assumptions that we did in Lecture 7.2 to estimate how long the Sun would survive on the main sequence, how long might the Sun be expected to last in its red giant phase fusing helium into carbon?*\n",
    "\n",
    "So, in 7.2, we essentially used E=m$c^2$, but with a fudge factor of 0.1 since only about a tenth of the sun was available for fusion. So, if a tenth of the Sun's mass was already converted into helium, we have two options: either all of that helium is available for fusion, or somewhere around a tenth of it. We will see what our final answer is and determine what sort of \"fudge factor\" we need. Either way, at maximum 0.1 solar masses are being burned here. Mass of the sun is 1.989e30 kg. \n",
    "\n",
    "$ 0.1M_\\odot 0.00065 c^2 $ = 1.16e43 J\n",
    "\n",
    "Divide this by the luminosity we found in **2.3** to get time in seconds. This gives us 1.7e13 seconds, or 546,000 years. This is **way too low**. We expect about 1Gyr, which is one billion years, we have an answer on the order of one million here. \n",
    "\n",
    "However, checking back, it can't be that there's a math error. We have *less* mass to work with with *less* efficiency, meaning we should produce *a lot less* overall energy, meanwhile we have a *much higher* luminosity and are burning through that faster. \n",
    "\n",
    "Part **2.2** tells us we have about 11x less energy per gram in helium, so even if all the produced helium were able to fuse, we have about 10x less energy to go around, whcih means that *if the sun's luminosity did not change* we would have 1Gyr of energy left. This heavily implies that there are other thigns going on inside the sun to cause the luminosity than just the fusion. What might this be? Well, energy does take a long time to leave the sun, getting caught in the inner layers—a lot of it might just be remnants that are now able to escape faster since the sun has expanded considerably. "
   ]
  },
  {
   "cell_type": "markdown",
   "id": "e51b20bf",
   "metadata": {},
   "source": [
    "## Problem 3\n",
    "**Supernovae and Neutron Stars**\n",
    "\n",
    "*3.1 (ALL) When an iron stellar core collapses in a supernova event, it converts all of the iron into neutrons. However the resulting neutrons each individually represent a higher-energy state than the iron nuclei. How much energy does it take to convert 2M$_\\odot$ of $^{56}_{26}Fe$ into neutrons, assuming that each neutron mass is the same as it would be in free space?*\n",
    "\n",
    "Let's find energy per Fe atom first. Fe has a mass of 55.845 amu.\n",
    "A neutron has a mass of 1.0087 (rounded to have the same sig figs as the iron value). In the end, a fully fused Fe atom will become 56 neutrons, so we end up with 56.487 amu. \n",
    "The energy of 0.6422 amu is released. That is a lot. 1.066e-27 kg of mass converts to 9.594e-11 J of energy. *Per atom*. \n",
    "Fe has a mass of 55.845 amu, or 9.273e-26 kg. \n",
    "2 solar masses is 3.978e30 kg. \n",
    "This means we are converting 4.290e55 atoms. \n",
    "This is **4.116e45 J.**\n",
    "This is a truy absurd amount of energy. "
   ]
  },
  {
   "cell_type": "markdown",
   "id": "2e5cbcc5",
   "metadata": {},
   "source": [
    "*3.2 (ALL) How does the above value compare to the total amount of energy that was released in creating the $^{56}_{26}Fe$ from hydrogen in the first place?*\n",
    "\n",
    "Hydrogen has 1.0078 amu. Assuming direct fusion (which is somewhat unlikely but why not) it will take 56 hydrogens to make an iron, or a total mass of 56.437 amu. \n",
    "\n",
    "The mass released from this, overall, is 0.5918 amu\n",
    "\n",
    "0.6422 amu was released from the final neutron star collapse. \n",
    "\n",
    "**The star uses more mass energy in its last moment than it has produced its entire lifetime burning the iron into that core.**\n",
    "\n",
    "Note: this is only true for the 2Msun of iron in the core. Realistically, there are other fusion products outside that make the increase the eneryg density. Still, the amount of eneryg a star burned over its entire life and the energy consumed during Neutron Star collapse are **comparable**."
   ]
  },
  {
   "cell_type": "markdown",
   "id": "26c1a65f",
   "metadata": {},
   "source": [
    "*3.3 (ALL) How much energy is lberated by the gravitational collapse of the aforementioned 2M$_\\odot$ core from a radius fo 1 R$_\\oplus$ down to a radius of 20km? Assume constant density (not so bad of an assumption in this case).*"
   ]
  },
  {
   "cell_type": "markdown",
   "id": "d846ddca",
   "metadata": {},
   "source": [
    "Gravitational \"construction\" energy is given by \n",
    "\n",
    "$$-G\\frac{3M_\\odot^2}{5R_\\odot}$$"
   ]
  },
  {
   "cell_type": "markdown",
   "id": "7c9436ab",
   "metadata": {},
   "source": [
    "For the sun, anyway. For other values we replace M and N. M is the same for both cases: 3.978e30 kg. The radius changes from 6.371e6 to 2e4 m. \n",
    "\n",
    "G is 6.674e-11\n",
    "\n",
    "This reduces our formula to -2.535e51 / R\n",
    "\n",
    "So when it's the size of the Earth, it has a potential energy of -3.979e44 J. When it's the size of 20km, it has a potential energy of -1.267e47 J. \n",
    "\n",
    "The difference between these two reveals how neglegible the previous energy was: a change of **1.263e47 J.**\n",
    "\n",
    "4.116e45 J was the energy absorbed by the collapse of the iron into neutrons. Given how the above value is *two orders of magnitude greater than this*, I think we found where all the explosive energy comes from. "
   ]
  },
  {
   "cell_type": "code",
   "execution_count": null,
   "id": "a4279f26",
   "metadata": {},
   "outputs": [],
   "source": []
  }
 ],
 "metadata": {
  "kernelspec": {
   "display_name": "Python 3 (ipykernel)",
   "language": "python",
   "name": "python3"
  },
  "language_info": {
   "codemirror_mode": {
    "name": "ipython",
    "version": 3
   },
   "file_extension": ".py",
   "mimetype": "text/x-python",
   "name": "python",
   "nbconvert_exporter": "python",
   "pygments_lexer": "ipython3",
   "version": "3.8.8"
  }
 },
 "nbformat": 4,
 "nbformat_minor": 5
}
