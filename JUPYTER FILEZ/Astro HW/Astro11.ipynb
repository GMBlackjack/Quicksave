{
 "cells": [
  {
   "cell_type": "markdown",
   "id": "5c5005b5",
   "metadata": {},
   "source": [
    "# Homework 11: I Assure You This is for Homework\n",
    "\n",
    "## Astrophysics: PHYS 584\n",
    "\n",
    "## Gabriel M Steward\n",
    "\n",
    "## April 2022\n",
    "\n",
    "**Texts Referenced:**\n",
    "\n",
    "**An Introduction to Modern Astrophysics, Carroll and Ostlie**\n",
    "\n",
    "**Lecture Notes.**    \n",
    "\n",
    "**Kerbal Space Program.**"
   ]
  },
  {
   "cell_type": "markdown",
   "id": "1c5704cb",
   "metadata": {},
   "source": [
    "## Problem 1\n",
    "\n",
    "**Kerbal Space Program**\n",
    "\n",
    "*This assignment is designed to be accomplished entirely within the game “Kerbal Space Program”\n",
    "— http://kerbalspaceprogram.com/ . The basic assignment can be completed within the free demo\n",
    "version of KSP, which you can download by clicking the “demo” link in the upper-right of the webpage.\n",
    "The full version ( $ 27) has lots more parts, a more sophisticated flight model, and an immense library of\n",
    "user-generated add-ons to enhance your space program experience. Download and install whichever version\n",
    "you want; it runs on PC, Mac, and Linux.*\n",
    "\n",
    "*To demonstrate your progress toward or completion of each problem, take a screenshot by hitting\n",
    "“F1”. You can later find those screenshots in the KerbalSpaceProgram directory (might be under Steam\n",
    "if you installed from there).*\n",
    "\n",
    "*All of the problems except for the Bonus ones will start from a canned ship that I already put into\n",
    "orbit for you. You can download this ship as a Scenario from: http://oom9.barnesos.net/KSP/. If you\n",
    "bought the full version, then take the Phys484584 file and put it in your ‘scenarios’ directory under ’saves’\n",
    "(which in turn is in the ‘Kerbal Space Program’ directory). The demo version is crippled to allow only\n",
    "two scenarios that it provides for you, but I faked it out by taking our scenario and renaming it. So if you\n",
    "have the demo version, delete the files that are presently in the ‘scenarios’ directory, and then download\n",
    "‘Impending Impact’ there instead. To start the scenario, load it in the original game manu, then click on\n",
    "the tracking station (the radio dish on the right at the space center) and click the Phys484/584 ship and\n",
    "then fly it.*\n",
    "\n",
    "*Remember, for those that want help we will be holding a Kerbal Space Program lab session in room\n",
    "214 at 3:30PM on 2022 April 20 (Wednesday). Try to install KSP and get it working before you arrive,\n",
    "and bring your laptop. Pizza will be provided.*\n",
    "\n",
    "*For turning in the assignment, create a free account on Imgur (http://imgur.com]), and upload the\n",
    "screenshots to a new album. Edit the titles and descriptions of the images to let me know what’s going on\n",
    "and to answer the discussion questions. Then email me a link to the Imgur album as your assignment for\n",
    "me to grade.*"
   ]
  },
  {
   "cell_type": "markdown",
   "id": "a0ba8a16",
   "metadata": {},
   "source": [
    "You got it boss! URLs to images will be written as relevant throughout the assignment, but the imgur album itself is:\n",
    "\n"
   ]
  },
  {
   "cell_type": "markdown",
   "id": "5b068ce2",
   "metadata": {},
   "source": [
    "## Problem 2\n",
    "\n",
    "**Orbits**\n",
    "\n",
    "*2.1) Calculate the initial orbit period of the spacecraft around Kerbin. Note that\n",
    "the periapsis and apoapsis indicated are both above ground level, so add in Kerbin’s\n",
    "radius of 600km. Kerbin’s mass is 5.29e22kg.*"
   ]
  },
  {
   "cell_type": "markdown",
   "id": "a01c0b4d",
   "metadata": {},
   "source": [
    "The reported periapsis is 154,123 m, while the apoapsis is 156,403 m. \n",
    "\n",
    "Add 600 km to eadch of these to get the actual apoapsis and periapsis. Add these together and divide by two to achieve our semimajor axis of the orbit, which is 755,263 m. \n",
    "\n",
    "Using Kepler's third law we find that $P^2 = 4.818e6 s^2$ or 2195 seconds, or **36.5 minutes**. \n",
    "\n",
    "In game the orbit is reported at 36 minutes, 34 seconds, so this is excellent. "
   ]
  },
  {
   "cell_type": "markdown",
   "id": "8191cc98",
   "metadata": {},
   "source": [
    "*2.2) Execute a single rocket burn to increase the orbit’s apoapsis to 1200km (meaning\n",
    "600km above ground level). Note that $a = \\frac{r_{apo}+r_{peri}}{2}$. What is the eccentricity of\n",
    "your new orbit? Use the “resources” menu in the upper-right to record how much fuel\n",
    "you used.*"
   ]
  },
  {
   "cell_type": "markdown",
   "id": "4f9dd918",
   "metadata": {},
   "source": [
    "It was at this point we realized we had no idea how to execute a burn, but we do know the best palce to do it is at periapsis in a tangentially forward direction. However to avoid exploding our astronaut we went to do some of the tutorials first...\n",
    "\n",
    "https://i.imgur.com/16n4Ri4.png\n",
    "\n",
    "Anyway, we got to around 600 km apoapsis (more accurately 618km) above the surface, so 1218 km apoapsis. The periapsis remained relatively unchanged (less than a kilometer difference) at 154 km above the surface, or 754 from the center. Our new semimajor axis is now 986 km. \n",
    "\n",
    "The eccentricity can be attained by finding \"ae\", the distance from the center of the ellipse to the planet. This would be the semimajor axis minus the periapsis, or 986 - 754 = 232km. Divide through by a to get an eccentricity of e = 0.235. \n",
    "\n",
    "We have 369* units of liquid fuel remaining. We started with, it appears, 464, meaning we spent 95 units of fuel. How much that is is anyone's guess. \n",
    "\n",
    "*Note: we somehow managed to mess up the reading the first time. We didn't check how much fuel we started with and working backwards apparently messed up... so we just did the maneuver again to get this number. "
   ]
  },
  {
   "cell_type": "markdown",
   "id": "ce6a099b",
   "metadata": {},
   "source": [
    "*2.3) Same as last problem, increase your apoapsis to 600km altitude. But this time,\n",
    "hit the space bar before you go. This will stage off the heavy lower portion of the\n",
    "rocket. How much fuel did you use this time? Explain your result in terms of the\n",
    "Tsiolkovsky Rocket Equation.*"
   ]
  },
  {
   "cell_type": "markdown",
   "id": "1f49d7d0",
   "metadata": {},
   "source": [
    "So if we stage beforehand, we have less fuel to start with: 360. But we expect to take less time (and fuel) to get to the right destination, so let's try it out. ...Assuming we can orient ourselves correctly again. We ended with 321 fuel, meaning we spent 39. \n",
    "\n",
    "https://i.imgur.com/cBUHr54.jpg\n",
    "\n",
    "Naturally this was as expected, but we want to correlate it to the rocket equation:\n",
    "\n",
    "$$ \\Delta v = v_e ln \\frac{m_0}{m_f}$$\n",
    "\n",
    "Making the (rather dubious) assumption that our effective exhaust velocity is the same for both types of rockets we used, the difference in velocity ($\\Delta v)$ between the start and the end is dependent entirely on the ratio of wet mass an dry mass (or we can think of it as starting mass and ending mass)\n",
    "\n",
    "The higher percentage of your ship's mass you can burn as fuel, the more $\\delta v$ you can generate. THe first trial had a truly massive engine that weighed a lot (presumably) and when it was ejected, suddenly that weight wasn't factored into the equation at all; a greater percentage of the mass could be used. And it was, and it was able to achieve the same effect for much less fuel. "
   ]
  },
  {
   "cell_type": "markdown",
   "id": "f45aa6a5",
   "metadata": {},
   "source": [
    "*2.4) In a two-burn Hohmann Transfer maneuver, change the original spacecraft orbit\n",
    "to a new circular orbit 600km above Kerbin’s surface.*\n",
    "\n",
    "Us, being clever little Kerbals, realize that we can do this in the orbit we're in now. We just have to perform another tangential accceleration, but this time at apoapsis. ...Though we have the ship with the back end still attached because we went to get more data, but no matter, this rocket was actually able to move in less time because it could throw more fuel out at once, so this should be quick. We do have to flip head-over-tail to get pointing the right direction, though. \n",
    "\n",
    "Performing maneuver...\n",
    "\n",
    "Okay so we ran out of fuel mid-burn so we staged and then kept burning, but the smaller rocket took long enough to burn that we didn't quite get it circular--as we progressed forward we were no longer mostly pointed tangentially, and as such the apoapsis increased as well. \n",
    "\n",
    "https://i.imgur.com/ikPgZny.png\n",
    "\n",
    "Close enough for govenrment work, though, we say. "
   ]
  },
  {
   "cell_type": "markdown",
   "id": "05e2e176",
   "metadata": {},
   "source": [
    "*2.5) From the original orbit (or whatever orbit you like, really), lower your periapsis\n",
    "to 0km altitude. You will enter the planetary atmosphere, at which point you should\n",
    "pull the parachute to save your Kerbal (right-click on the parachute). Save a picture\n",
    "of your Kerbal safely on the ground (or water as the case may be)*\n",
    "\n",
    "We're going in blind and hoping we hit the ocean. Here goes. \n",
    "\n",
    "Good gravy that was nerve-wracking, we realized upon reentry that we really had no idea how much our heat shield could handle and just hoped it could take what we subjected it too. (We also panicked as we realized it wasn't oriented correctly at the sign of first fire).\n",
    "\n",
    "Turns out, it was fine, and we just so happened to splashdown over an ocean as we intended. \n",
    "\n",
    "https://i.imgur.com/Zgdyn1J.png"
   ]
  },
  {
   "cell_type": "markdown",
   "id": "f0190dc8",
   "metadata": {},
   "source": [
    "## Problem 3\n",
    "\n",
    "**Fly me to the M ̈un**\n",
    "\n",
    "GM wishes to express his annoyance with not being able to type an Umlaut easily.\n",
    "\n",
    "*3.1) M ̈un encounter: Plan and execute a rocket burn from whichever orbit you\n",
    "choose to Kerbin’s moon, M ̈un. Either on the original burn or a subsequent course\n",
    "correction, ensure that your trajectory passes M ̈un with periapsis of the hyperbolic\n",
    "orbit between 10 km and 100 km.*\n",
    "\n",
    "We decided to kind of just \"gun for it\" and see if simply extending our orbit into a highly elliptical one would get us to the Mun. As it turns out, yes, though we had to orbit a few times before we did, and then we proceeded to alter our trajectory (which was originally a slingshot) into a hyperbolic orbit. \n",
    "\n",
    "https://i.imgur.com/YG3IDYy.png\n",
    "\n",
    "Mun periapsis of 78 km is within tolerance. Now, you may note that the above image is not actually AT the Mun. This is because we're looking ahead at 3.2 and know that we'll need to cicrularize the orbit. "
   ]
  },
  {
   "attachments": {},
   "cell_type": "markdown",
   "id": "61bd175e",
   "metadata": {},
   "source": [
    "*3.2) Now plan and execute a rocket burn to change your M ̈unar trajectory into\n",
    "a M ̈un orbit capture. Try to make your final orbit as circular as possible. Which\n",
    "direction did you have to burn? Explain this from a standpoint of energy.*\n",
    "\n",
    "Mission accomplished, though it is only roughly circular.\n",
    "\n",
    "https://i.imgur.com/tZdln5r.png\n",
    "\n",
    "The way we had to burn was tangentially opposite our direction of motion at periapsis, which slowly converted the hyperbolic orbit to an elliptical one and then to a roughly circular one. However, burning takes time, and as we drifted away from periapsis we were no longer directly tangential and as a result shrunk our periapsis distance as well. However, the end result was still mostly the same.\n",
    "\n",
    "From an energy standpoint, the transfer from hyperbolic to circular orbit was a case of reducing our kinetic energy. We were going in really really fast and needed to go slowly. Closer in orbits have less energy than further out ones, as a general rule. However, we note that this is not a linear relationship, which was obvious to us as we were performing the burn: the hyperbolic orbit transfered to an elipse somewhat quickly, but circularizing the orbit took a lot of energy--more and more of the orbit had to be closer in to the Mun, we had to lose more and more of our kinetic energy to keep from flying out. \n",
    "\n",
    "Remember, without any thrust, the total energy in the system remains constant. In the ideal case of our transfer, the apoapsis would not have changed, which meant gravitational potential energy was constant, but our speed went down--thus, the gravitational potential and kinetic energy combination everywhere else in the orbit must have been going down. However, at every point in the orbit, the total energy is the same. "
   ]
  },
  {
   "cell_type": "markdown",
   "id": "1e4ba4ec",
   "metadata": {},
   "source": [
    "*3.3) After admiring the M ̈un for an orbit or two, it’s time to come home to Kerbin.\n",
    "Design and execute a burn to make your spacecraft leave M ̈unar orbit and return back\n",
    "to the surface of Kerbin (with help from the parachute). Hint: design the final orbit\n",
    "around Kerbin to have a periapsis around 20 km or so, and make course corrections to\n",
    "make sure.*\n",
    "\n",
    "Oh joy, time for more heart-attack inducing panic...\n",
    "\n",
    "And we realize the dangers of potentially running out of fuel trying to get the orbit just right.\n",
    "\n",
    "Night landing is difficult, it made it hard to see--in fact, because we were relying entirely on our instruments to see, we thought the game (ahem, *simulation*) had frozen at 1817 meters, when in reality we had just landed on a mountainous region. \n",
    "\n",
    "https://i.imgur.com/kQTOljV.png\n",
    "\n",
    "Yes, we did in fact speed up time until the sunrise just to be sure. \n",
    "\n",
    "Anyway, mission successful. After, admittedly, almost using all of our fuel trying to get the orbit just right. "
   ]
  },
  {
   "cell_type": "markdown",
   "id": "1a451fec",
   "metadata": {},
   "source": [
    "## Problem 4\n",
    "\n",
    "**Gravity Assist**\n",
    "\n",
    "*4.1) From the original orbit, change your orbit so that it flies past the M ̈un in such\n",
    "a way that it gets a gravity assist. Specifically, get a prograde gravity assist that\n",
    "changes the orbit to one that departs the Kerbin Hill Sphere entirely. Play with these\n",
    "trajectories to get a feel for why and how the gravity assist works. Before you fly the\n",
    "trajectory, make sure to verify that your M ̈unar periapsis is above 10km altitude to\n",
    "avoid a high-speed lithobraking event on the surface instead of a gravity assist!*\n",
    "\n",
    "So we want to execute a slingshot. We extended our orbit into an elliptical one and then just... played around until we managed to get a slingshot around the Mun. Admittedly, we haven't the foggiest idea if the blue-trajectory we are on now was actually a stable orbit, but given how the Mun is going to shoot our craft out of the orbital plane, this is obviously a gravity assist. Time for WHEEEEEE.\n",
    "\n",
    "https://i.imgur.com/dgoPb6s.png\n",
    "\n",
    "What remains is to see if this orbit executes. We're at 73km periapsis, we should be good. \n",
    "\n",
    "We *do* realize that since we are flying up and out of the plane of orbit, this is not a very *good* gravity assist. However, we are still managing to pull one off. If we look at the angle above, we see that we are getting a \"sideways\" motion boost as well in the direction of the plane. \n",
    "\n",
    "So we're getting some boost, at least, though it's hard to quantify exactly how much. \n",
    "\n",
    "So here we go, let's see what happens!\n",
    "\n",
    "Gravity assist successful, we have entered a stable solar orbit. \n",
    "\n",
    "At this point our crazed astronaut was given free reign to do whatever she wanted. At which case it became quite obvious that our rocket was way too small to do anything in interplanetary space. \n",
    "\n",
    "Well, at least it was pretty. (How on earth did we have a full year's worth of air and food on board...?)"
   ]
  },
  {
   "cell_type": "markdown",
   "id": "aef31409",
   "metadata": {},
   "source": [
    "## Problem 5\n",
    "\n",
    "**Bonus**\n",
    "\n",
    "Alas, I do not have the kind of time to do this, but it no doubt will be fun when I get time one day...\n",
    "\n",
    "-GM. "
   ]
  },
  {
   "cell_type": "code",
   "execution_count": null,
   "id": "2b585879",
   "metadata": {},
   "outputs": [],
   "source": []
  }
 ],
 "metadata": {
  "kernelspec": {
   "display_name": "Python 3 (ipykernel)",
   "language": "python",
   "name": "python3"
  },
  "language_info": {
   "codemirror_mode": {
    "name": "ipython",
    "version": 3
   },
   "file_extension": ".py",
   "mimetype": "text/x-python",
   "name": "python",
   "nbconvert_exporter": "python",
   "pygments_lexer": "ipython3",
   "version": "3.7.9"
  }
 },
 "nbformat": 4,
 "nbformat_minor": 5
}
