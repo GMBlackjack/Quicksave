{
 "cells": [
  {
   "cell_type": "markdown",
   "id": "0c1bfe81",
   "metadata": {},
   "source": [
    "# Electromagnetics Homework 01: Dots and Crosses\n",
    "\n",
    "## Gabriel M Steward\n",
    "\n",
    "### August 2022"
   ]
  },
  {
   "cell_type": "markdown",
   "id": "56664bc2",
   "metadata": {},
   "source": [
    "<a id='toc'></a>\n",
    "\n",
    "# Table of Contents\n",
    "$$\\label{toc}$$\n",
    "\n",
    "[Problem 1](#P1) (Charge Conservation on Sheets)\n",
    "\n",
    "[Problem 2](#P2) (Fields Around Time-varying Currents)\n",
    "\n",
    "[Problem 3](#P3) (The Coloumb and Biot-Savart Laws)\n",
    "\n",
    "[PDF](#latex_pdf_output) (turn this into a PDF)"
   ]
  },
  {
   "cell_type": "markdown",
   "id": "cd9e5529",
   "metadata": {},
   "source": [
    "<a id='P1'></a>\n",
    "\n",
    "# Problem 1 \\[Back to [top](#toc)\\]\n",
    "$$\\label{P1}$$\n",
    "\n",
    "*A surface current density $\\textbf K(x,y,t)$ flows in the z=0 plane. Compute the charge density $\\sigma(x,y,t)$ on the plane assuming hte plane is completley uncharged at t=0 when $\\textbf K(x,y,t)$ has each of the following forms. Comment on whether the charge density depends on the polar coordinates $\\rho$ and $\\phi$ in each case. You might want to sketch the currents to see whether these trends make sense.*\n",
    "\n",
    "*a)* $\\textbf K(x,y,t) = K_0  \\frac yR \\hat x + K_0 \\frac xR \\hat y$"
   ]
  },
  {
   "cell_type": "markdown",
   "id": "625cded2",
   "metadata": {},
   "source": [
    "*b)* $\\textbf K(x,y,t) = K_0  \\frac xR \\hat x + K_0 \\frac yR \\hat y$"
   ]
  },
  {
   "cell_type": "markdown",
   "id": "0174a769",
   "metadata": {},
   "source": [
    "*c)* $\\textbf K(x,y,t) = K_0  \\frac{x}{\\sqrt{x^2+y^2}} \\hat x + K_0 \\frac{y}{\\sqrt{x^2+y^2}} \\hat y$"
   ]
  },
  {
   "cell_type": "markdown",
   "id": "576bd3bd",
   "metadata": {},
   "source": [
    "*d)* $\\textbf K(x,y,t) = K_0  \\frac{y}{\\sqrt{x^2+y^2}} \\hat x + K_0 \\frac{x}{\\sqrt{x^2+y^2}} \\hat y$"
   ]
  },
  {
   "cell_type": "markdown",
   "id": "a6a0559d",
   "metadata": {},
   "source": [
    "*e)* $\\textbf K(x,y,t) = K_0  \\frac{y}{\\sqrt{x^2+y^2}} \\hat x - K_0 \\frac{x}{\\sqrt{x^2+y^2}} \\hat y$"
   ]
  },
  {
   "cell_type": "markdown",
   "id": "3dc10713",
   "metadata": {},
   "source": [
    "<a id='P2'></a>\n",
    "\n",
    "# Problem 2 \\[Back to [top](#toc)\\]\n",
    "$$\\label{P2}$$\n",
    "\n",
    "*a) An infinitely long cylindrical shell of radius R carries a spatially uniform but time-dependent solenoid-like surface current density $\\textbf K(t) = K_0(t/\\tau)\\hat\\phi$, where $K_0$ and $\\tau$ are constants. Find the electric and magnetic fields everywhere in space. Hint: begin with a simple guess for the magnetic field outside the solenoid.*"
   ]
  },
  {
   "cell_type": "markdown",
   "id": "672f784c",
   "metadata": {},
   "source": [
    "*b) An infinitely long cylindrical shell of radius R carries a spatially uniform but time-dependent wire-like surface current density $\\textbf K(t) = K_0 (t/\\tau) \\hat z$, where $K_0$ and $\\tau$ are constants. Find the electric and magnetic fields everywhere in space. Hint: You may assume the electric field inside the cylinder is zero.*"
   ]
  },
  {
   "cell_type": "markdown",
   "id": "529237d0",
   "metadata": {},
   "source": [
    "<a id='P3'></a>\n",
    "\n",
    "# Problem 3 \\[Back to [top](#toc)\\]\n",
    "$$\\label{P3}$$\n",
    "\n",
    "*The electric and magnetic fields for time-independent distributions of charge and current are:*\n",
    "\n",
    "$$ \\textbf E(r) = \\frac{1}{4\\pi \\epsilon_0} \\int \\rho(r') \\frac{\\textbf r - \\textbf r'}{|\\textbf r - \\textbf r'|^3} d^3 r'  $$\n",
    "\n",
    "$$ \\textbf B(r) = \\frac{\\mu_0}{4\\pi} \\int \\textbf j(r') \\times \\frac{\\textbf r - \\textbf r'}{|\\textbf r - \\textbf r'|^3} d^3 r'  $$\n",
    "\n",
    "*a) calculate $\\nabla \\cdot \\textbf E$ and $\\nabla \\times \\textbf E$ and verify that these are consistent with Maxwell's equaitons.*"
   ]
  },
  {
   "cell_type": "markdown",
   "id": "4a1e07b6",
   "metadata": {},
   "source": [
    "*b) calculate $\\nabla \\cdot \\textbf B$ and $\\nabla \\times \\textbf B$ and verify that these are consistent with Maxwell's equaitons. (Hint: for the curl equation you will need to uset he continuity equation, and it will take some effort to make that expression relevant).*"
   ]
  },
  {
   "cell_type": "markdown",
   "id": "df50096e",
   "metadata": {},
   "source": [
    "<a id='latex_pdf_output'></a>\n",
    "\n",
    "# Addendum: Output this notebook to $\\LaTeX$-formatted PDF file \\[Back to [top](#toc)\\]\n",
    "$$\\label{latex_pdf_output}$$\n",
    "\n",
    "The following code cell converts this Jupyter notebook into a proper, clickable $\\LaTeX$-formatted PDF file. After the cell is successfully run, the generated PDF may be found in the root NRPy+ tutorial directory, with filename\n",
    "[MNR-02.pdf](MNR-02.pdf) (Note that clicking on this link may not work; you may need to open the PDF file through another means.)\n",
    "\n",
    "**Important Note**: Make sure that the file name is right in all six locations, two here in the Markdown, four in the code below. \n",
    "\n",
    "* MNR-02.pdf\n",
    "* MNR-02.ipynb\n",
    "* MNR-02.tex"
   ]
  },
  {
   "cell_type": "code",
   "execution_count": 16,
   "id": "abf583ef",
   "metadata": {
    "scrolled": true
   },
   "outputs": [
    {
     "name": "stdout",
     "output_type": "stream",
     "text": [
      "Created MNR-02.tex, and compiled LaTeX file to PDF file MNR-02.pdf\n"
     ]
    }
   ],
   "source": [
    "import cmdline_helper as cmd    # NRPy+: Multi-platform Python command-line interface\n",
    "cmd.output_Jupyter_notebook_to_LaTeXed_PDF(\"MNR-02\")"
   ]
  }
 ],
 "metadata": {
  "kernelspec": {
   "display_name": "Python 3 (ipykernel)",
   "language": "python",
   "name": "python3"
  },
  "language_info": {
   "codemirror_mode": {
    "name": "ipython",
    "version": 3
   },
   "file_extension": ".py",
   "mimetype": "text/x-python",
   "name": "python",
   "nbconvert_exporter": "python",
   "pygments_lexer": "ipython3",
   "version": "3.7.9"
  }
 },
 "nbformat": 4,
 "nbformat_minor": 5
}
