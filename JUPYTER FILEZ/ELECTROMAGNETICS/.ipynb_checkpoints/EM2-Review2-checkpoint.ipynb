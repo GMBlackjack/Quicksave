{
 "cells": [
  {
   "cell_type": "markdown",
   "id": "0c1bfe81",
   "metadata": {},
   "source": [
    "# Electrodynamics II Review 2: WAVES\n",
    "\n",
    "## Gabriel M Steward\n",
    "\n",
    "### April 2023"
   ]
  },
  {
   "cell_type": "markdown",
   "id": "cd9e5529",
   "metadata": {},
   "source": [
    "# Matter Models\n"
   ]
  },
  {
   "cell_type": "markdown",
   "id": "b2e8bccd",
   "metadata": {},
   "source": [
    "The quantities $\\chi$ and $\\sigma$, the suseptibility and the conductivity, are related things. In general, they can change with the frequency of incoming light. \n",
    "\n",
    "In the susceptibility picture, there is no free current, $\\vec j_F=0$. The polarization of the material can be represented by\n",
    "\n",
    "$$ \\vec D = \\epsilon_0\\vec E + \\vec P = \\epsilon_0(1+\\chi) \\vec E $$\n",
    "\n",
    "Handout 7 can give a full set of equations for this. \n",
    "\n",
    "In the conductivity picture, we have $\\vec D = \\epsilon_0 \\vec E$ and $\\vec j = \\sigma \\vec E$\n",
    "\n",
    "The relation between the two is$\\epsilon_0 (1+\\chi) = (\\epsilon_0 + i\\sigma/\\omega)$. \n",
    "\n",
    "A primitive model for conductors is the drude model.\n",
    "\n",
    "$$ m \\frac{d\\vec v}{dt} = q\\vec E - \\frac{m}{r}\\vec v $$\n",
    "\n",
    "This is generally solved by assuming E is harmonic. This is constructed from an electric force and a drag force. \n",
    "\n",
    "If we wish to look at dielectrics, we use the Lorentz Model.\n",
    "\n",
    "$$ m\\frac{d^2\\vec r}{dt^2} = q\\vec E + m\\Gamma \\frac{d\\vec r}{dt} + m\\omega_0^2 \\vec r $$\n",
    "\n",
    "$\\Gamma$ here is a damping term, the spring constant is held in $\\omega_0^2$. \n",
    "\n",
    "A more genreal handling of models is essentially ma = sum of forces, and we work with that to get results we desire, as the forces are dependent upon the various fields. "
   ]
  },
  {
   "cell_type": "markdown",
   "id": "aec8462f",
   "metadata": {},
   "source": [
    "# Velocities"
   ]
  },
  {
   "cell_type": "markdown",
   "id": "3b9accb8",
   "metadata": {},
   "source": [
    "we have various speeds. The phase speed is $v_0 = \\omega/k$. For a drude conductor this is\n",
    "\n",
    "$$ v_p = \\frac{c}{\\sqrt{1-\\omega_p^2/\\omega^2}} $$\n",
    "\n",
    "The group velocity, meanwhile, is $v_g = \\partial\\omega/\\partial k$ For a drude conductor this is\n",
    "\n",
    "$$ v_g = c\\sqrt{1-\\omega_p^2/\\omega^2} $$\n",
    "\n",
    "The actual speed of information transfer is the energy velocity.\n",
    "\n",
    "$$ \\vec v_E = \\frac{<\\vec S>}{<u_{EM}>} $$\n",
    "\n",
    "Now, to get this we need the energy. So we have to be careful with energy as in many places energy is being lost.\n",
    "\n",
    "$$ \\frac{\\partial u_{EM}}{\\partial t} = \\vec E \\cdot \\frac{\\partial \\vec\n",
    "D}{\\partial t} + \\vec B \\cdot \\frac{\\partial \\vec H}{\\partial t} $$\n",
    "\n",
    "Which can give us in general for quasimonocrhomatic waves, we get...\n",
    "\n",
    "$$ u_{EM} = \\frac12 \\left[ \\frac{\\partial}{\\partial \\omega} (\\omega \\epsilon_R) |\\vec E|^2 + \\frac{\\partial}{\\partial \\omega} (\\omega \\mu_R) |\\vec H|^2 \\right] $$\n",
    "\n",
    "The R just means \"real part of\" if the component in question is complex."
   ]
  },
  {
   "cell_type": "markdown",
   "id": "88ea17da",
   "metadata": {},
   "source": [
    "# Waveguides\n"
   ]
  },
  {
   "cell_type": "markdown",
   "id": "85876c63",
   "metadata": {},
   "source": [
    "# Radiation"
   ]
  },
  {
   "cell_type": "markdown",
   "id": "22712fe6",
   "metadata": {},
   "source": [
    "# Scattering\n"
   ]
  },
  {
   "cell_type": "code",
   "execution_count": null,
   "id": "05c1d381",
   "metadata": {},
   "outputs": [],
   "source": []
  }
 ],
 "metadata": {
  "kernelspec": {
   "display_name": "Python 3 (ipykernel)",
   "language": "python",
   "name": "python3"
  },
  "language_info": {
   "codemirror_mode": {
    "name": "ipython",
    "version": 3
   },
   "file_extension": ".py",
   "mimetype": "text/x-python",
   "name": "python",
   "nbconvert_exporter": "python",
   "pygments_lexer": "ipython3",
   "version": "3.7.9"
  }
 },
 "nbformat": 4,
 "nbformat_minor": 5
}
