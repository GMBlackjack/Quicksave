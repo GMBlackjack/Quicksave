{
 "cells": [
  {
   "cell_type": "markdown",
   "id": "9bc9453a",
   "metadata": {},
   "source": [
    "An illustration of the units problem: a mysterious factor of $c^2$. \n",
    "\n",
    "Maxwell's equations allowing for magnetic charge are given on page 49.\n",
    "\n",
    "$$ \\nabla \\cdot \\vec E = \\rho_e / \\epsilon_0 $$\n",
    "$$ \\nabla \\cdot \\vec B = \\mu_0 \\rho_m $$\n",
    "$$ \\nabla \\times \\vec B = \\mu_0 \\vec j_e + \\frac{1}{c^2} \\frac{\\partial \\vec E}{\\partial t} $$\n",
    "$$ -\\nabla \\times \\vec E = \\mu_0 \\vec j_m + \\frac{\\partial \\vec B}{\\partial t} $$\n",
    "\n",
    "For a siutuation with just magnetic charge, all electric charges and currents vanish, and we can drop the subscripts.\n",
    "\n",
    "$$ \\nabla \\cdot \\vec E = 0 $$\n",
    "$$ \\nabla \\cdot \\vec B = \\mu_0 \\rho$$\n",
    "$$ \\nabla \\times \\vec B = \\frac{1}{c^2} \\frac{\\partial \\vec E}{\\partial t} $$\n",
    "$$ -\\nabla \\times \\vec E = \\mu_0 \\vec j + \\frac{\\partial \\vec B}{\\partial t} $$"
   ]
  },
  {
   "cell_type": "markdown",
   "id": "7e317eed",
   "metadata": {},
   "source": [
    "We define two potentials. The magnetic scalar potential $\\phi$ and the electric vector potential $\\vec V$. However, we write them with primes first, as we will rescale them in the final product.\n",
    "\n",
    "The electric field has zero divergence, so this implies the existence of an electric vector potential of the form $\\vec E = \\nabla \\times \\vec V$. \n",
    "\n",
    "This implies that the magnetic field would gain a scalar potential, sensible as it is now the field with the charges. Let's consider the electrostatic picture for a moment, here the curl of B would be zero and we would have\n",
    "\n",
    "$$ \\frac{1}{\\mu_0} \\nabla \\cdot \\vec B = \\rho $$\n",
    "\n",
    "Aside from the swapping of $\\epsilon_0$ for its magnetic counterpart, this is identical to the situation E had in the normal EM picture, so the Helmholtz theorem can still be applied to show that a scalar potential exists.\n",
    "\n",
    "$$ \\vec B = -\\nabla \\phi' $$\n",
    "\n",
    "Keep in mind that this is for the static case, we now need to consider the dynamic case. The vector potential relation remains unchanged, but the scalar potential is going to have a little bit extra now. If $\\vec E = \\nabla \\times \\vec V$ then $\\nabla \\times \\vec B = \\frac{1}{c^2}  (\\nabla \\times \\frac{\\partial \\vec V'}{\\partial t})$ and so the same justifications for adjusting the scalar potential also appply here... with the minor difference of a factor of $1/c^2$ *and* a sign flip. \n",
    "\n",
    "$$ \\vec E = \\nabla \\times \\vec V' $$\n",
    "$$ \\vec B = -\\nabla \\phi' + \\frac{1}{c^2} \\frac{\\partial \\vec V'}{\\partial t}$$\n",
    "\n",
    "However, this formulation turns out to *not be very mathematically helpful* for the procedures we wish to actuall accomplish. Fortunately, there is an ambiguity we can use to make this even better. Note that if there exists a vector potential V such that$\\vec E = \\nabla \\times \\vec V$, then there also exists one such that $\\vec E = -\\nabla \\times \\vec V$. If we do this, we alter the sign on the relation for the magnetic field and now have:\n",
    "\n",
    "$$ \\vec E = -\\nabla \\times \\vec V' $$\n",
    "$$ \\vec B = -\\nabla \\phi' - \\frac{1}{c^2} \\frac{\\partial \\vec V'}{\\partial t}$$\n",
    "\n",
    "And this matches what our source gives us. \n",
    "\n",
    "Hoewver, when doing proofs later, we decided it was better if we absorbed the factor of $1/c^2$ into V, making this:;\n",
    "\n",
    "$$ \\vec E = -c^2 \\nabla \\times \\vec V $$\n",
    "$$ \\vec B = -\\nabla \\phi - \\frac{\\partial \\vec V}{\\partial t}$$"
   ]
  },
  {
   "cell_type": "markdown",
   "id": "1d9244c3",
   "metadata": {},
   "source": [
    "Taking this formulation of the potentials and substituting them into the monopole version of the Maxwell Equations...\n",
    "\n",
    "So, we insert the potentials into the dot product and cross product relations. \n",
    "\n",
    "$$ \\nabla \\cdot (-\\nabla \\phi - \\frac{\\partial \\vec V}{\\partial t}) = \\mu_0 \\rho$$\n",
    "\n",
    "$$ \\nabla^2 \\phi + \\frac{\\partial}{\\partial t} (\\nabla \\cdot \\vec V) = - \\mu_0 \\rho$$\n",
    "\n",
    "$$ c^2 \\nabla \\times (\\nabla \\times \\vec V) = \\mu_0 \\vec j + \\frac{\\partial}{\\partial t}\\left( -\\nabla \\phi - \\frac{\\partial \\vec V}{\\partial t} \\right) $$\n",
    "\n",
    "$$ c^2 \\nabla \\times (\\nabla \\times \\vec V) = \\mu_0 \\vec j + \\left( -\\nabla \\frac{\\partial \\phi}{\\partial t} - \\frac{\\partial^2 \\vec V}{\\partial t^2} \\right) $$\n",
    "\n",
    "$$ -c^2(\\nabla^2 \\vec V) + c^2\\nabla(\\nabla \\cdot \\vec V) +\\nabla \\frac{\\partial \\phi}{\\partial t} + \\frac{\\partial^2 \\vec V}{\\partial t^2}= \\mu_0 \\vec j  $$\n",
    "\n",
    "$$ \\nabla^2 \\vec V - \\nabla(\\nabla \\cdot \\vec V) - \\frac{1}{c^2} \\nabla \\frac{\\partial \\phi}{\\partial t} -\\frac{1}{c^2} \\frac{\\partial^2 \\vec V}{\\partial t^2}= -\\frac{1}{c^2}\\mu_0 \\vec j  $$\n",
    "\n",
    "Now we can set the gague which means we can set the dot product for $\\vec V$. What if we set it to $-\\frac{1}{c^2}\\phi'?$\n",
    "\n",
    "$$ \\nabla^2 \\phi - \\frac{1}{c^2} \\frac{\\partial^2 \\phi}{\\partial t^2} = - \\mu_0 \\rho$$\n",
    "$$ \\nabla^2 \\vec V - \\frac{1}{c^2} \\frac{\\partial^2 \\vec V}{\\partial t^2} = - \\frac{\\mu_0}{c^2} \\vec j  $$"
   ]
  },
  {
   "cell_type": "markdown",
   "id": "3b889d95",
   "metadata": {},
   "source": [
    "Which are in the exact same form as the normal EM picture potentials, right down tot he invariant operator. The only difference are the constants affixed to the right hand side. This means...\n",
    "\n",
    "$$ \\phi(\\vec r_2, t_2) = \\frac{\\mu_0}{4\\pi}\\int \\frac{\\rho (\\vec r_1, t_2 - |\\vec r_1 - \\vec r_2|/c)}{|\\vec r_1 - \\vec r_2|} d^3 \\vec r_1 $$\n",
    "\n",
    "$$ \\vec V(\\vec r_2, t_2) = \\frac{\\mu_0}{c^24\\pi}\\int \\frac{\\vec j (\\vec r_1, t_2 - |\\vec r_1 - \\vec r_2|/c)}{|\\vec r_1 - \\vec r_2|} d^3 \\vec r_1 $$"
   ]
  },
  {
   "cell_type": "markdown",
   "id": "3e616944",
   "metadata": {},
   "source": [
    "Units match due to the units being what are expected from Maxwell's Equations, J_m and J_e are not the same in terms of units. "
   ]
  },
  {
   "cell_type": "markdown",
   "id": "0c1bfe81",
   "metadata": {},
   "source": [
    "# Electrodynamics II PROJECT: Relativistic Magnetic Monopole Radiation.\n",
    "\n",
    "## Gabriel M Steward\n",
    "\n",
    "### April 2023"
   ]
  },
  {
   "cell_type": "markdown",
   "id": "00281f1a",
   "metadata": {},
   "source": [
    "our goal is ultimately to model relativistiic radiation from magnetic monopoles moving at relativistic speeds. To do that, we'll need to have Maxwell's Equations that include magnetic monopoles. From our source, we do have them::\n",
    "\n",
    "$$ \\nabla \\cdot \\vec E = 4\\pi \\rho_e $$\n",
    "$$ \\nabla \\cdot \\vec B = 4\\pi \\rho_m $$\n",
    "$$ \\nabla \\times \\vec B = \\frac{4\\pi}{c} \\vec j_e + \\frac{1}{c} \\frac{\\partial \\vec E}{\\partial t} $$\n",
    "$$ -\\nabla \\times \\vec E = \\frac{4\\pi}{c} \\vec j_m + \\frac{1}{c} \\frac{\\partial \\vec B}{\\partial t} $$\n"
   ]
  },
  {
   "cell_type": "markdown",
   "id": "4c5b07e6",
   "metadata": {},
   "source": [
    "Of course, this is stated slightly differently than it would be in the book. We can, however, translate into what it would think it would be. \n",
    "\n",
    "$$ \\nabla \\cdot \\vec E = \\rho_e / \\epsilon_0 $$\n",
    "$$ \\nabla \\cdot \\vec B = \\mu_0 \\rho_m $$\n",
    "$$ \\nabla \\times \\vec B = \\mu_0 \\vec j_e + \\frac{1}{c^2} \\frac{\\partial \\vec E}{\\partial t} $$\n",
    "$$ -\\nabla \\times \\vec E = \\mu_0 \\vec j_m + \\frac{\\partial \\vec B}{\\partial t} $$\n",
    "\n",
    "Can be found on page 49 of the textbook, amazingly. Looks like it'll be convenient to have everything in terms of $mu_0$, so...\n",
    "\n",
    "$$ \\nabla \\cdot \\vec E = c^2 \\mu_0 \\rho_e$$\n",
    "$$ \\nabla \\cdot \\vec B = \\mu_0 \\rho_m $$\n",
    "$$ \\nabla \\times \\vec B = \\mu_0 \\vec j_e + \\frac{1}{c^2} \\frac{\\partial \\vec E}{\\partial t} $$\n",
    "$$ -\\nabla \\times \\vec E = \\mu_0 \\vec j_m + \\frac{\\partial \\vec B}{\\partial t} $$"
   ]
  },
  {
   "cell_type": "markdown",
   "id": "3b9d18e5",
   "metadata": {},
   "source": [
    "Now we are considering a system with no electric charge, merely magnetic, and so the electric density and electric current are zero. \n",
    "\n",
    "$$ \\nabla \\cdot \\vec E = 0 $$\n",
    "$$ \\nabla \\cdot \\vec B = \\mu_0 \\rho_m $$\n",
    "$$ \\nabla \\times \\vec B = \\frac{1}{c^2} \\frac{\\partial \\vec E}{\\partial t} $$\n",
    "$$ -\\nabla \\times \\vec E = \\mu_0 \\vec j_m + \\frac{\\partial \\vec B}{\\partial t} $$"
   ]
  },
  {
   "cell_type": "markdown",
   "id": "9a5e59d8",
   "metadata": {},
   "source": [
    "Now we may leave the m-subscripts off, as there is only magnetic current and charge density.\n",
    "\n",
    "$$ \\nabla \\cdot \\vec E = 0 $$\n",
    "$$ \\nabla \\cdot \\vec B = \\mu_0 \\rho $$\n",
    "$$ \\nabla \\times \\vec B = \\frac{1}{c^2} \\frac{\\partial \\vec E}{\\partial t} $$\n",
    "$$ -\\nabla \\times \\vec E = \\mu_0 \\vec j + \\frac{\\partial \\vec B}{\\partial t} $$"
   ]
  },
  {
   "cell_type": "markdown",
   "id": "9b5029dd",
   "metadata": {},
   "source": [
    "Later work shows that it'll be mathematically easier if we move the $1/c^2$ term to the other cross product. We're free to do this, we just have to rescale everything. So if we desire:\n",
    "\n",
    "$$ \\nabla \\times \\vec B = \\frac{\\partial \\vec E}{\\partial t} $$\n",
    "\n",
    "This means $\\vec E$ itself will need to have the $1/c^2$ moved *inside* of it. This doesn't change the dot products, but it does change the cross product.\n",
    "\n",
    "$$ -\\nabla \\times \\vec E = \\frac{1}{c^2}\\mu_0 \\vec j + \\frac{1}{c^2}\\frac{\\partial \\vec B}{\\partial t} $$\n",
    "\n",
    "And so...\n",
    "\n",
    "$$ \\nabla \\cdot \\vec E = 0 $$\n",
    "$$ \\nabla \\cdot \\vec B = \\mu_0 \\rho $$\n",
    "$$ \\nabla \\times \\vec B = \\frac{\\partial \\vec E}{\\partial t} $$\n",
    "$$ -\\nabla \\times \\vec E = \\frac{\\mu_0}{c^2} \\vec j + \\frac{1}{c^2} \\frac{\\partial \\vec B}{\\partial t} $$"
   ]
  },
  {
   "cell_type": "markdown",
   "id": "2b4f212a",
   "metadata": {},
   "source": [
    "So, first, we simply have to solve this in *some* manner for the moving point charge. To start, what we need to do is combine these equations. How, though... er... \n",
    "\n",
    "Since we know the form we want we can kind of forc eit\n",
    "\n",
    "$$ \\nabla^2 A = \\nabla (\\nabla \\cdot A) - \\nabla \\times (\\nabla \\times A)$$\n",
    "\n",
    "And we can do it for E and B separately. "
   ]
  },
  {
   "cell_type": "markdown",
   "id": "8aca6bd2",
   "metadata": {},
   "source": [
    "$$\\nabla^2 \\vec E = 0 + \\nabla \\times (\\mu_0 \\vec j + \\frac{\\partial \\vec B}{\\partial t}) $$\n",
    "$$\\nabla^2 \\vec E = \\nabla \\times (\\mu_0 \\vec j + \\frac{\\partial \\vec B}{\\partial t}) $$\n",
    "$$\\nabla^2 \\vec E = (\\mu_0 (\\nabla \\times \\vec j) + \\frac{\\partial (\\nabla \\times \\vec B)}{\\partial t}) $$\n",
    "$$\\nabla^2 \\vec E = \\mu_0 (\\nabla \\times \\vec j) + \\frac{\\partial}{\\partial t}\\frac{1}{c^2} \\frac{\\partial \\vec E}{\\partial t} $$\n",
    "$$\\nabla^2 \\vec E = \\mu_0 (\\nabla \\times \\vec j) + \\frac{1}{c^2} \\frac{\\partial^2 \\vec E}{\\partial t^2} $$"
   ]
  },
  {
   "cell_type": "markdown",
   "id": "cc9771c1",
   "metadata": {},
   "source": [
    "$$ \\nabla^2 \\vec B = \\mu_0 \\nabla \\rho - \\nabla \\times \\frac{1}{c^2} \\frac{\\partial \\vec E}{\\partial t}  $$\n",
    "$$ \\nabla^2 \\vec B = \\mu_0 \\nabla \\rho + \\frac{1}{c^2} \\frac{\\partial}{\\partial t}(\\mu_0 \\vec j + \\frac{\\partial \\vec B}{\\partial t})  $$\n",
    "$$ \\nabla^2 \\vec B = \\mu_0 \\nabla \\rho + \\frac{1}{c^2}\\mu_0 \\frac{\\partial \\vec j}{\\partial t} + \\frac{1}{c^2} \\frac{\\partial^2 \\vec B}{\\partial t^2})  $$"
   ]
  },
  {
   "cell_type": "markdown",
   "id": "9694bbc3",
   "metadata": {},
   "source": [
    "And so our equations are actually quite similar to the original radiative ones. Here are ours:\n",
    "$$\\nabla^2 \\vec E = \\mu_0 (\\nabla \\times \\vec j) + \\frac{1}{c^2} \\frac{\\partial^2 \\vec E}{\\partial t^2} $$\n",
    "$$ \\nabla^2 \\vec B = \\mu_0 \\nabla \\rho + \\frac{1}{c^2}\\mu_0 \\frac{\\partial \\vec j}{\\partial t} + \\frac{1}{c^2} \\frac{\\partial^2 \\vec B}{\\partial t^2})  $$\n",
    "\n",
    "And here are the originals.\n",
    "\n",
    "$$\\nabla^2 \\vec B = - \\mu_0 (\\nabla \\times \\vec j) + \\frac{1}{c^2} \\frac{\\partial^2 \\vec B}{\\partial t^2} $$\n",
    "$$ \\nabla^2 \\vec E = \\frac{1}{\\epsilon_0} \\nabla \\rho + \\mu_0 \\frac{\\partial \\vec j}{\\partial t} + \\frac{1}{c^2} \\frac{\\partial^2 \\vec E}{\\partial t^2})  $$\n"
   ]
  },
  {
   "cell_type": "markdown",
   "id": "a08da444",
   "metadata": {},
   "source": [
    "There is a single sign difference as well as an extra factor of $c^2$ in one of the terms. We shall see if this has any real effect. THe sign difference carries from the fact that we have a sign adjustment in a different spot in the original four equations--the flip now occurs *on* the term that introduces the current, not on the opposite one, thus the signs of the other terms can flip while j does not. Leaving us with this difference. \n",
    "\n",
    "Next we need to work out the potentials. But wait, we are in a magnetic situation, these potentials might be different now! \n",
    "\n",
    "The proof of the vector potential for B relied entirely on the fact that there was a zero-divergence condition, which there is not anymore. However, there IS one for the electric field now, so instead of $\\vec B = \\nabla \\times \\vec A$ we can say $\\vec E = \\nabla \\times \\vec V$, where $\\vec V$ is now our vector potential for electric fields. \n",
    "\n",
    "This implies that the magnetic field would gain a scalar potential, sensible as it is now the field with the charges. Let's consider the electrostatic picture for a moment, here the curl of B would be zero and we would have\n",
    "\n",
    "$$ \\frac{1}{\\mu_0} \\nabla \\cdot \\vec B = \\rho $$\n",
    "\n",
    "Aside from the swapping of $\\epsilon_0$ for its magnetic counterpart, this is identical to the situation E had in the normal EM picture, so the Helmholtz theorem can still be applied to show that a scalar potential exists.\n",
    "\n",
    "$$ \\vec B = -\\nabla \\phi $$\n",
    "\n",
    "Keep in mind that this is for the static case, we now need to consider the dynamic case. The cross product remains unchanged as all electric fields in our picture now diverge to zero. But the scalar potential is going to have a little bit extra now. \n",
    "\n",
    "That said we can find one from the other. If $\\vec E = \\nabla \\times \\vec V$ then $\\nabla \\times \\vec B = \\frac{1}{c^2}  (\\nabla \\times \\frac{\\partial \\vec V}{\\partial t})$ and so the same justifications for adjusting the scalar potential also appply here... with the minor difference of a factor of $1/c^2$ *and* a sign flip. \n",
    "\n",
    "$$ \\vec E = \\nabla \\times \\vec V $$\n",
    "$$ \\vec B = -\\nabla \\phi + \\frac{1}{c^2} \\frac{\\partial \\vec V}{\\partial t}$$\n",
    "\n",
    "However, this formulation turns out to *not be very mathematically helpful* for the procedures we wish to actuall accomplish. Fortunately, there is an ambiguity we can use to make this even better. Note that if there exists a vector potential V such that$\\vec E = \\nabla \\times \\vec V$, then there also exists one such that $\\vec E = -\\nabla \\times \\vec V$. If we do this, we alter the sign on the relation for the magnetic field and now have:\n",
    "\n",
    "$$ \\vec E = -\\nabla \\times \\vec V $$\n",
    "$$ \\vec B = -\\nabla \\phi - \\frac{1}{c^2} \\frac{\\partial \\vec V}{\\partial t}$$\n",
    "\n",
    "And this matches what our source gives us. \n",
    "\n",
    "Hoewver, when doing proofs later, we decided it was better if we absorbed the factor of $1/c^2$ into V, making this:;\n",
    "\n",
    "$$ \\vec E = -c^2 \\nabla \\times \\vec V $$\n",
    "$$ \\vec B = -\\nabla \\phi - \\frac{\\partial \\vec V}{\\partial t}$$\n",
    "\n",
    "Which is more directly correlateable to the other equations in normal electric situations, only differeing by a multiplicative constant (and the usual reversal). \n",
    "\n",
    "Originals for reference. \n",
    " \n",
    "$$ \\vec B = \\nabla \\times \\vec A $$\n",
    "$$ \\vec E = -\\nabla \\varphi - \\frac{\\partial \\vec A}{\\partial t}$$"
   ]
  },
  {
   "cell_type": "markdown",
   "id": "f1df670b",
   "metadata": {},
   "source": [
    "Now that we have potentails, what are we to do with them? Well, we submit them into the new Maxwell Equations and select a Gague to create sime simpler PDEs... but we will leave that for tomorrow morning. "
   ]
  },
  {
   "cell_type": "markdown",
   "id": "85a12855",
   "metadata": {},
   "source": [
    "$$ \\nabla \\cdot \\vec E = 0 $$\n",
    "$$ \\nabla \\cdot \\vec B = \\mu_0 \\rho $$\n",
    "$$ \\nabla \\times \\vec B = \\frac{1}{c^2} \\frac{\\partial \\vec E}{\\partial t} $$\n",
    "$$ -\\nabla \\times \\vec E = \\mu_0 \\vec j + \\frac{\\partial \\vec B}{\\partial t} $$"
   ]
  },
  {
   "cell_type": "markdown",
   "id": "444e40e5",
   "metadata": {},
   "source": [
    "So, we insert the potentials into the dot product and cross product relations. \n",
    "\n",
    "$$ \\nabla \\cdot (-\\nabla \\phi - \\frac{\\partial \\vec V}{\\partial t}) = \\mu_0 \\rho$$\n",
    "\n",
    "$$ -\\nabla^2 \\phi - \\frac{\\partial}{\\partial t} (\\nabla \\cdot \\vec V) = \\mu_0 \\rho$$\n",
    "\n",
    "$$ c^2 \\nabla \\times (\\nabla \\times \\vec V) = \\mu_0 \\vec j + \\frac{\\partial}{\\partial t}\\left( -\\nabla \\phi - \\frac{\\partial \\vec V}{\\partial t} \\right) $$\n",
    "\n",
    "$$ c^2 \\nabla \\times (\\nabla \\times \\vec V) = \\mu_0 \\vec j + \\left( -\\nabla \\frac{\\partial \\phi}{\\partial t} - \\frac{\\partial^2 \\vec V}{\\partial t^2} \\right) $$\n",
    "\n",
    "$$ -c^2(\\nabla^2 \\vec V) + c^2\\nabla(\\nabla \\cdot \\vec V) +\\nabla \\frac{\\partial \\phi}{\\partial t} + \\frac{\\partial^2 \\vec V}{\\partial t^2}= \\mu_0 \\vec j  $$\n",
    "\n",
    "With some simplificaitons to match the form we have for the original equations:\n",
    "\n",
    "$$ \\nabla^2 \\phi + \\frac{\\partial}{\\partial t} (\\nabla \\cdot \\vec V) = - \\mu_0 \\rho$$\n",
    "$$ \\nabla^2 \\vec V - \\nabla(\\nabla \\cdot \\vec V) - \\frac{1}{c^2} \\nabla \\frac{\\partial \\phi}{\\partial t} -\\frac{1}{c^2} \\frac{\\partial^2 \\vec V}{\\partial t^2}= -\\frac{1}{c^2}\\mu_0 \\vec j  $$\n",
    "\n",
    "Now we can set the gague which means we can set the dot product for $\\vec V$. What if we set it to $-\\frac{1}{c^2}\\phi'?$\n",
    "\n",
    "$$ \\nabla^2 \\phi - \\frac{1}{c^2} \\frac{\\partial^2 \\phi}{\\partial t^2} = - \\mu_0 \\rho$$\n",
    "$$ \\nabla^2 \\vec V - \\frac{1}{c^2} \\frac{\\partial^2 \\vec V}{\\partial t^2} = - \\frac{\\mu_0}{c^2} \\vec j  $$"
   ]
  },
  {
   "cell_type": "markdown",
   "id": "88df3741",
   "metadata": {},
   "source": [
    "$$ c^2 \\nabla \\times (\\nabla \\times \\vec V) = \\mu_0 \\vec j + \\frac{\\partial}{\\partial t}\\left( -\\nabla \\phi - \\frac{\\partial \\vec V}{\\partial t} \\right) $$"
   ]
  },
  {
   "cell_type": "markdown",
   "id": "1f513643",
   "metadata": {},
   "source": [
    "$$ c^2 \\nabla \\times (\\nabla \\times \\vec V) = \\mu_0 \\vec j + \\left( -\\nabla \\frac{\\partial \\phi}{\\partial t} - \\frac{\\partial^2 \\vec V}{\\partial t^2} \\right) $$\n",
    "\n",
    "$$ -c^2(\\nabla^2 \\vec V) + c^2\\nabla(\\nabla \\cdot \\vec V) +\\nabla \\frac{\\partial \\phi}{\\partial t} + \\frac{\\partial^2 \\vec V}{\\partial t^2}= \\mu_0 \\vec j  $$"
   ]
  },
  {
   "cell_type": "markdown",
   "id": "a3ccd799",
   "metadata": {},
   "source": [
    "With some simplificaitons to match the form we have for the original equations:\n",
    "\n",
    "$$ \\nabla^2 \\phi + \\frac{\\partial}{\\partial t} (\\nabla \\cdot \\vec V) = - \\mu_0 \\rho$$\n",
    "$$ \\nabla^2 \\vec V - \\nabla(\\nabla \\cdot \\vec V) - \\frac{1}{c^2} \\nabla \\frac{\\partial \\phi}{\\partial t} -\\frac{1}{c^2} \\frac{\\partial^2 \\vec V}{\\partial t^2}= -\\frac{1}{c^2}\\mu_0 \\vec j  $$"
   ]
  },
  {
   "cell_type": "markdown",
   "id": "0815c959",
   "metadata": {},
   "source": [
    "Now we can set the gague which means we can set the dot product for $\\vec V$. What if we set it to $-\\frac{1}{c^2}\\phi'?$\n",
    "\n",
    "$$ \\nabla^2 \\phi - \\frac{1}{c^2} \\frac{\\partial^2 \\phi}{\\partial t^2} = - \\mu_0 \\rho$$\n",
    "$$ \\nabla^2 \\vec V - \\frac{1}{c^2} \\frac{\\partial^2 \\vec V}{\\partial t^2} = - \\frac{\\mu_0}{c^2} \\vec j  $$"
   ]
  },
  {
   "cell_type": "markdown",
   "id": "11a4c7da",
   "metadata": {},
   "source": [
    "The only difference here is a single sign change on the vector potential. (UPDATE: FURTHER EXAMINATION SHOWS THAT THERE IS NO DIFFERENCE AT ALL save for the CONSTANT FACTORS.) So the answer for the scalar potential answer is going to be the same as the electric charge case.\n",
    "\n",
    "$$ \\phi(\\vec r_2, t_2) = \\frac{\\mu_0}{4\\pi}\\int \\frac{\\rho (\\vec r_1, t_2 - |\\vec r_1 - \\vec r_2|/c)}{|\\vec r_1 - \\vec r_2|} d^3 \\vec r_1 $$\n",
    "\n",
    "$$ \\vec V(\\vec r_2, t_2) = \\frac{\\mu_0}{c^24\\pi}\\int \\frac{\\vec j (\\vec r_1, t_2 - |\\vec r_1 - \\vec r_2|/c)}{|\\vec r_1 - \\vec r_2|} d^3 \\vec r_1 $$"
   ]
  },
  {
   "cell_type": "markdown",
   "id": "248f0eeb",
   "metadata": {},
   "source": [
    "And the potential case. \n",
    "\n",
    "$$ \\vec V(\\vec r_2, t_2) = \\frac{\\mu_0}{c^24\\pi}\\int \\frac{\\vec j (\\vec r_1, t_2 - |\\vec r_1 - \\vec r_2|/c)}{|\\vec r_1 - \\vec r_2|} d^3 \\vec r_1 $$"
   ]
  },
  {
   "cell_type": "markdown",
   "id": "90564fd4",
   "metadata": {},
   "source": [
    "While this assumption may not translate to relativistic concerns, we can examine the radiation limit where we are always very far away from the point of emmanation. \n",
    "\n",
    "$$ \\phi(\\vec r_2, t_2) = \\frac{\\mu_0}{4\\pi r_2}\\int \\rho (\\vec r_1, t_2 - r_2/c) d^3 \\vec r_1 $$\n",
    "$$ \\vec V(\\vec r_2, t_2) = \\frac{\\mu_0}{4\\pi r_2}\\int \\vec j (\\vec r_1, t_2 - r_2/c) d^3 \\vec r_1 $$\n",
    "\n",
    "And these are the actual quantities that need to be solved, we ultimately seek to find the values of the potential and the vector potential in the radiation limit. Since we are always dealing with a point charge, we do have a fortunate situation that allows us to get rid of the integral.\n",
    "\n",
    "$$ \\rho = q\\delta(\\vec r - \\vec v t) $$\n",
    "$$ \\vec j = q\\vec v \\delta (\\vec r - \\vec v t) $$\n",
    "\n",
    "So if we take the integral...\n",
    "\n",
    "$$ \\phi = \\frac{\\mu_0 q}{4\\pi r_2} $$\n",
    "$$ \\vec V = \\frac{\\mu_0 q}{4\\pi r_2} \\vec v (\\vec r_1, t_2 - r_2/c) $$"
   ]
  },
  {
   "cell_type": "markdown",
   "id": "976cb589",
   "metadata": {},
   "source": [
    "Keep in mind that here, $r_2$ is the distance from the *current* location. Though we are assuming relative small movements in the radiation limit. Notably the only difference from this and the point electric charge vector potential is the sign out front. Anyway, we can get the fields from this...\n",
    "\n",
    "$$ \\vec E = -c^2\\nabla \\times \\vec V $$\n",
    "$$ \\vec B = -\\nabla \\phi -\\frac{\\partial \\vec V}{\\partial t}$$"
   ]
  },
  {
   "cell_type": "markdown",
   "id": "a9ceef9a",
   "metadata": {},
   "source": [
    "So, since we ultimately want to solve everything relativistically, let's start with a stationary point magnetic charge. This will, rather obviously, create the very simple\n",
    "\n",
    "$$ \\phi = \\frac{\\mu_0 q}{4\\pi r} $$\n",
    "$$ \\vec B = \\frac{\\mu_0 q}{4\\pi r^2} \\hat r $$\n",
    "$$ \\vec V = \\vec E = 0$$\n",
    "\n",
    "Which is sensible, as an electric charge would have an electric field but no magnetic, so a magneitc charge has the opposite. Now, we want to consider relativistic transformations. For normal EM, we use the continuity equation.\n",
    "\n",
    "$$ \\nabla \\cdot j + \\frac{\\partial \\rho}{\\partial t} = 0 $$\n",
    "\n",
    "But the neat thing here is that this has to apply to magnetic charges and currents as well! Otherwise magnetic charges coudl be *created* from nothing and that's physically absurd. This time there aren't even any sign changes! \n",
    "\n",
    "Thus, if we consider z to be the direction of propogation and v to be the velocity of propogation, we have the following transformations:\n",
    "\n",
    "$$ j_x=j_x', j_y = j_y' $$\n",
    "$$ j_z = \\gamma (j_z' + v\\rho') $$\n",
    "$$ j_z' = \\gamma (j_z - v\\rho) $$\n",
    "$$ \\rho = \\gamma (\\rho' + vj_z' / c^2) $$\n",
    "$$ \\rho' = \\gamma (\\rho - vj_z / c^2) $$\n",
    "\n",
    "Where the primed frame is the moving frame.\n",
    "\n",
    "This also applies to $\\varphi$ and $\\vec A$ since the differential operator $\\nabla^2 - \\frac{1}{c^2} \\frac{\\partial^2 }{\\partial t^2}$ is an *invariant*. This is the same for the magnetic case. \n",
    "\n",
    "$$ V_x=V_x', V_y = V_y' $$\n",
    "$$ V_z = \\gamma (V_z' + \\phi' v / c^2) $$\n",
    "$$ V_z' = \\gamma (V_z - \\phi v / c^2) $$\n",
    "$$ \\phi = \\gamma (\\phi' + vV_z' / c^2) $$\n",
    "$$ \\phi' = \\gamma (\\phi - vV_z / c^2) $$"
   ]
  },
  {
   "cell_type": "markdown",
   "id": "1ade42e9",
   "metadata": {},
   "source": [
    "Now the transformation rules for E and B are different, but maybe we don't actually have to derive those rules for our moving poitn charge, we can just say \"eeeh find them from the V and $\\phi$\". \n",
    "\n",
    "So, first, in the stationary frame we have:\n",
    "\n",
    "$$ \\vec j = 0 $$\n",
    "$$ \\rho = q\\delta(\\vec r) $$\n",
    "$$ \\phi = \\frac{\\mu_0 q}{4\\pi r} $$\n",
    "$$ \\vec V = 0 $$\n",
    "\n",
    "Basically just a \"standard magnetic charge sitting at the origin produces a radially symmetric magnetic potential.\"\n",
    "\n",
    "Now we transform to a moving charge for all these quantities. Notably the vectors that were zero before remain as such, so only the z components for j and V actually matter, the x and y components remain zero.\n",
    "\n",
    "$$ j_z' = -\\gamma(vq\\delta(\\vec r)) $$\n",
    "$$ \\rho' = \\gamma(q\\delta(\\vec r)) $$\n",
    "$$ V_z' = -\\gamma(\\frac{v}{c^2}\\frac{\\mu_0 q}{4\\pi r})$$\n",
    "$$ \\phi' = \\gamma(\\frac{\\mu_0 q}{4\\pi r}) $$"
   ]
  },
  {
   "cell_type": "markdown",
   "id": "9233a2dc",
   "metadata": {},
   "source": [
    "For a sanity check, and normal speeds $\\gamma \\approx 1$, so that means...\n",
    "\n",
    "$$ j_z' = -vq\\delta(\\vec r) $$\n",
    "$$ \\rho' = q\\delta(\\vec r) $$\n",
    "$$ V_z' = -\\frac{v}{c^2}\\frac{\\mu_0 q}{4\\pi r}$$\n",
    "$$ \\phi' = \\frac{\\mu_0 q}{4\\pi r} $$"
   ]
  },
  {
   "cell_type": "markdown",
   "id": "ec44c3a8",
   "metadata": {},
   "source": [
    "Which reveals the weakness in our description here--the value \"r\" is still being measured from the center of the particle, even as it is moving away from our new coordinate system. (The direction of the current is good, if our reference frame is moving at v, then the apparent current is in the reverse direction). \n",
    "\n",
    "The easiest way to adjust is that $\\vec r$ transforms into $\\vec r + \\vec v t$, or $\\vec r + vt \\hat z$. The only place the charge (and current) exist is at a specific point along z. Our charge is moving along -z, so only a position in -z applies. \n",
    "\n",
    "This is all well and good for our quantities that only exist at one point, but what of our potentials? They exist at all values of r. This just means we need to find the magnitude of $\\vec r + vt\\hat z$. The only issue is that there's mixed coordinates here. This creates a new magnitude of\n",
    "\n",
    "$$ \\sqrt{x^2 + y^2 + z^2 + v^2t^2 + 2zvt} = \\sqrt{r^2 + v^2t^2 + 2zvt}$$"
   ]
  },
  {
   "cell_type": "markdown",
   "id": "2412b7b2",
   "metadata": {},
   "source": [
    "So what we *really* have is\n",
    "\n",
    "$$ j_z' = -vq\\delta(\\vec r + vt\\hat z) $$\n",
    "$$ \\rho' = q\\delta(\\vec r + vt\\hat z) $$\n",
    "$$ V_z' = -\\frac{v}{c^2}\\frac{\\mu_0 q}{4\\pi \\sqrt{r^2 + v^2t^2 + 2zvt}}$$\n",
    "$$ \\phi' = \\frac{\\mu_0 q}{4\\pi \\sqrt{r^2 + v^2t^2 + 2zvt}} $$"
   ]
  },
  {
   "cell_type": "markdown",
   "id": "57746112",
   "metadata": {},
   "source": [
    "In theory, we can find E' and B' from these guys. Keep in mind that\n",
    "\n",
    "$$ \\vec E = 0; \\vec B = \\frac{\\mu_0 q}{4\\pi r^2} \\hat r  $$"
   ]
  },
  {
   "cell_type": "markdown",
   "id": "892ca241",
   "metadata": {},
   "source": [
    "But let's go ahead and prove the E and B transformation rules. Consider those components in-line with motion differently from those perpendicular to motion. First of all, the paralell E components are easy.\n",
    "\n",
    "$$ E_z' = - c^2\\frac{\\partial V_y'}{\\partial x'} + c^2\\frac{\\partial V_x'}{\\partial y'} = - c^2\\frac{\\partial V_y}{\\partial x} + c^2\\frac{\\partial V_x}{\\partial y} = E_z $$\n",
    "\n",
    "Unsurprising. The paralell component of E does not transform. \n",
    "\n",
    "We expect similar for B. \n",
    "\n",
    "$$ B_z' = -\\frac{\\partial \\phi'}{\\partial z'} - \\frac{\\partial V_z'}{\\partial t'} $$\n",
    "$$ = -\\gamma \\frac{\\partial}{\\partial (\\gamma(z-vt))} (\\phi - vV_z / c^2) - \\gamma \\frac{\\partial }{\\partial (\\gamma(t-vz/c^2))}(V_z - \\phi v / c^2) $$\n",
    "$$ = -\\gamma^2 \\left( \\frac{\\partial}{\\partial z} + \\frac{v}{c^2} \\frac{\\partial}{\\partial t} \\right) (\\phi - vV_z / c^2) - \\gamma^2 \\frac{1}{c^2} \\left( \\frac{\\partial}{\\partial t} + v \\frac{\\partial}{\\partial z} \\right) (V_z - \\phi v / c^2) $$\n"
   ]
  },
  {
   "cell_type": "markdown",
   "id": "78eccfa8",
   "metadata": {},
   "source": [
    "$$ \\gamma^2 \\left[\\left( \\frac{v}{c^2}\\frac{\\partial}{\\partial z} + \\frac{v^2}{c^4} \\frac{\\partial}{\\partial t} - \\frac{1}{c^2} \\frac{\\partial}{\\partial t} - \\frac{v}{c^2} \\frac{\\partial}{\\partial z} \\right) V_z + \\left( -\\frac{\\partial}{\\partial z} - \\frac{v^2}{c^4}\\frac{\\partial}{\\partial t} + \\frac{v^2}{c^4} \\frac{\\partial}{\\partial t} + \\frac{v^2}{c^4} \\frac{\\partial}{\\partial z} \\right) \\phi \\right] $$"
   ]
  },
  {
   "cell_type": "markdown",
   "id": "cf6c3d09",
   "metadata": {},
   "source": [
    "$$ \\gamma^2 \\left[\\left( \\frac{v^2}{c^4} \\frac{\\partial}{\\partial t} - \\frac{1}{c^2} \\frac{\\partial}{\\partial t} \\right) V_z + \\left( -\\frac{\\partial}{\\partial z} - \\frac{v^2}{c^4}\\frac{\\partial}{\\partial z} + \\frac{v}{c^4} \\frac{\\partial}{\\partial t} + \\frac{v^2}{c^4} \\frac{\\partial}{\\partial z} \\right) \\phi \\right] $$"
   ]
  },
  {
   "cell_type": "markdown",
   "id": "031adee6",
   "metadata": {},
   "source": [
    "$$ E_z' = -\\frac{\\partial \\varphi'}{\\partial z'} -\\frac{\\partial A_z'}{\\partial t'} $$\n",
    "$$ = -\\gamma \\frac{\\partial}{\\partial (\\gamma(z-vt))} (\\varphi - vA_z / c^2) - \\frac{\\partial }{\\partial (\\gamma(t-vz/c^2))}(A_z - \\varphi v / c^2) $$\n",
    "$$ = -\\gamma^2 \\left( \\frac{\\partial}{\\partial z} + \\frac{v}{c^2} \\frac{\\partial}{\\partial t} \\right) (\\varphi - vA_z / c^2) - \\gamma^2  \\left( \\frac{\\partial}{\\partial t} + v \\frac{\\partial}{\\partial z} \\right) (A_z - \\varphi v / c^2) $$\n",
    "$$ = \\gamma^2 \\left[\\left( \\frac{v}{c^2}\\frac{\\partial}{\\partial z} + \\frac{v^2}{c^4} \\frac{\\partial}{\\partial t} -  \\frac{\\partial}{\\partial t} -v \\frac{\\partial}{\\partial z} \\right) V_z + \\left( -\\frac{\\partial}{\\partial z} - \\frac{v}{c^2}\\frac{\\partial}{\\partial t} + \\frac{v^2}{c^2} \\frac{\\partial}{\\partial t} + \\frac{v^2}{c^2} \\frac{\\partial}{\\partial z} \\right) \\phi \\right] $$\n"
   ]
  },
  {
   "cell_type": "markdown",
   "id": "7ca60f74",
   "metadata": {},
   "source": [
    "$$ = -\\gamma^2 \\left( \\frac{\\partial}{\\partial z} + \\frac{v}{c^2} \\frac{\\partial}{\\partial t} \\right) (\\varphi - vA_z) - \\gamma^2  \\left( \\frac{\\partial}{\\partial t} + v \\frac{\\partial}{\\partial z} \\right) (A_z - \\varphi v / c^2) $$\n",
    "$$ = \\gamma^2 \\left[\\left( v\\frac{\\partial}{\\partial z} + \\frac{v^2}{c^2} \\frac{\\partial}{\\partial t} -  \\frac{\\partial}{\\partial t} -v \\frac{\\partial}{\\partial z} \\right) V_z + \\left( -\\frac{\\partial}{\\partial z} - \\frac{v}{c^2}\\frac{\\partial}{\\partial t} + \\frac{v}{c^2} \\frac{\\partial}{\\partial t} + \\frac{v^2}{c^2} \\frac{\\partial}{\\partial z} \\right) \\phi \\right] $$\n",
    "$$ = \\gamma^2 \\left[\\left(\\frac{v^2}{c^2} \\frac{\\partial}{\\partial t} -  \\frac{\\partial}{\\partial t} \\right) V_z + \\left( -\\frac{\\partial}{\\partial z} + \\frac{v^2}{c^2} \\frac{\\partial}{\\partial z} \\right) \\phi \\right] $$\n"
   ]
  },
  {
   "cell_type": "markdown",
   "id": "725a0bfc",
   "metadata": {},
   "source": [
    "Anyway despite all that nonsense can determine that since our relations are\n",
    "\n",
    "$$ \\vec E = -c^2\\nabla \\times \\vec V $$\n",
    "$$ \\vec B = -\\nabla \\phi - \\frac{\\partial \\vec V}{\\partial t}$$\n",
    "\n",
    "That we have to follow the same relations as normal E and B just swapped since the only actual difference is the $-c^2$ factor on E's relation, and as a constant that's always pulled out of any actual calculations. Thus, we have...\n",
    "\n",
    "$$ \\vec B_{||}' = \\vec B_{||} $$\n",
    "$$ \\vec B_\\perp' = \\gamma(\\vec B + \\vec v \\times \\vec E)_{\\perp} $$\n",
    "$$ \\vec E_{||}' = \\vec E_{||} $$\n",
    "$$ \\vec E_\\perp' = \\gamma(\\vec B - \\vec v \\times \\vec E/c^2)_{\\perp} $$"
   ]
  },
  {
   "cell_type": "markdown",
   "id": "bf5ac5a2",
   "metadata": {},
   "source": [
    "The conversions should be similar to how they are done for the electric version. \n",
    "\n",
    "So, let's consider a moving charge. When we're moving with it, it appears staitonary, and we only have a magntic field from our magnetic charge.\n",
    "\n",
    "$$ \\vec B' = \\frac{\\mu_0 q}{4\\pi r^2} \\hat r $$\n",
    "\n",
    "Which can also be written as\n",
    "\n",
    "$$ \\vec B' = \\frac{\\mu_0 q}{4\\pi r^3} \\vec r$$\n",
    "\n",
    "Which we may not differs only from the electric form's E' by a constant. thus, it transforms exactly she same either way.\n",
    "\n",
    "$$ \\vec B = \\frac{q \\mu_0}{4\\pi} \\frac{\\vec R}{R^3} \\frac{1-v^2/c^2}{(1-(v^2/c^2)sin^2\\theta)^{3/2}} $$\n",
    "\n",
    "Where\n",
    "\n",
    "$$ \\vec R = x\\hat x + y\\hat y + (z-vt) \\hat z $$\n",
    "\n",
    "And so we have our magnetic field for a magnetic point charge moving in a straight line.\n"
   ]
  },
  {
   "cell_type": "markdown",
   "id": "4378662b",
   "metadata": {},
   "source": [
    "Surely from this we can derive the electric field as well? Well we are going to have to be a tad careful, as while our electric field does start in the same position as the old magnetic field, it is zero. So uh. Yeah that's not exactly helpful. But wait, the relaotion derived for translation is the same!\n",
    "\n",
    "$$ \\vec B = -\\gamma(\\vec v \\times \\vec E_\\perp' / c^2) $$\n",
    "\n",
    "Which will give us the same result as for the other situation.\n",
    "\n",
    "$$ \\vec E = \\frac{q \\mu_0}{4\\pi} \\frac{\\vec v \\times \\vec R}{R^3} \\frac{1-v^2/c^2}{(1-(v^2/c^2)sin^2\\theta)^{3/2}} $$"
   ]
  },
  {
   "cell_type": "markdown",
   "id": "4d5724b6",
   "metadata": {},
   "source": [
    "If we wanted to make this more symmetric, and we can, we can always say $\\mu_0 = \\frac{1}{c^2\\epsilon_0}$ for the B equation. \n",
    "\n",
    "So now we have the fields for E and B due to a moving magnetic charge, even if it ends up in relativistic speeds! \n",
    "\n",
    "Now, we do have one question... what happens really really far away in the radiation limit? Here R might as well be r. Can we qualitatively say anything at this point, though? "
   ]
  },
  {
   "cell_type": "markdown",
   "id": "861a21e9",
   "metadata": {},
   "source": [
    "So we have the expressions for going in a straight line. What of the general ones, Lienard-Wiechert? Well, the potentials translate exactly for the general case. \n",
    "\n",
    "$$ \\phi = \\frac{\\mu_0 q}{4 \\pi} \\frac{1}{R-\\vec v \\cdot \\vec R / c} |_{t=t_r} $$\n",
    "$$ \\vec V = \\frac{\\mu_0 q}{c^2 4 \\pi} \\frac{\\vec v}{R-\\vec v \\cdot \\vec R / c} |_{t=t_r} $$\n",
    "\n",
    "Now, though, what we need to do is actually find the E and B expressions from this. Suppusedly we can do this with our relations:\n",
    "\n",
    "\n",
    "$$ \\vec E = -c^2 \\nabla \\times \\vec V $$\n",
    "$$ \\vec B = -\\nabla \\phi - \\frac{\\partial \\vec V}{\\partial t}$$"
   ]
  },
  {
   "cell_type": "markdown",
   "id": "8d65bf5e",
   "metadata": {},
   "source": [
    "The B-field will come out exactly the same way as the E-field originally did, as the expression is exaclty the same. Meanwhile the E-field will come out the same as the B-field except for the $-c^2$ term. And naturally the leading coefficients carry through as well. \n",
    "\n",
    "So, what does this mean for the nature of our radiation? Well, everything is the same so far... however, we need to reconsider Larmor's Formula.\n",
    "\n",
    "$$ P = \\frac{1}{4\\pi \\epsilon_0} \\frac{2q^2a^2}{3c^3} $$\n",
    "\n",
    "As radiation for an aceclerating charge. What would this be for a monopole? Well, derive it from the vector potential...\n",
    "\n",
    "$$ \\vec V(\\vec r_2, t_2) = \\frac{\\mu_0}{c^24\\pi}\\int \\frac{\\vec j (\\vec r_1, t_2 - |\\vec r_1 - \\vec r_2|/c)}{|\\vec r_1 - \\vec r_2|} d^3 \\vec r_1 $$\n",
    "\n",
    "For a point charge...\n",
    "\n",
    "$$ \\vec V(\\vec r, t) = \\frac{\\mu_0 q}{c^24\\pi r} \\vec v(\\vec r' , t-r/c) $$"
   ]
  },
  {
   "cell_type": "markdown",
   "id": "b9e62f55",
   "metadata": {},
   "source": [
    "$$ \\frac{\\partial \\vec V}{\\partial t} = \\frac{\\mu_0 q}{c^24\\pi r} \\vec a(\\vec r' , t-r/c) $$\n",
    "\n",
    "We have the vector potential in terms of acceleration. Of course the relation we use next, that relates the power to the solid angle, depends on the Poynting Vector. Which we need to check if it's redefined for monopole situations! However, the definition of the Poynting Vector is based on E and B, so it shouldn't change at all. \n",
    "\n",
    "Relying on this, we can say...\n",
    "\n",
    "$$ \\frac{dP}{d\\Omega} = r^2\\vec S \\cdot \\hat r = \\frac{r^2}{c\\mu_0}|cB|^2 $$\n",
    "\n",
    "Ah, but see this time around we don't use B, we use E!\n",
    "\n",
    "$$ \\frac{dP}{d\\Omega} = r^2\\vec S \\cdot \\hat r = \\frac{cr^2}{\\mu_0}|E/c|^2 $$\n",
    "\n",
    "And now we need to find that funky expression for E in terms of the vector potential V. Remember, we have a leading factor of $-c^2$ that changes things here... except that goes into the potential V and cancels the $1/c^2$ in it, meaning the constant adjusts and we get a sign flip.\n",
    "\n",
    "$$ \\vec E \\approx c \\hat r_2 \\times \\frac{\\partial\\vec V}{\\partial t} $$\n",
    "\n",
    "But guess what. the quantity has the square magnitude taken *anyway*, so the sign changes nothing.\n",
    "\n",
    "$$ \\frac{dP}{d\\Omega} = \\frac{cr^2}{\\mu_0}|\\hat r \\times \\frac{\\partial\\vec V}{\\partial t}|^2 $$"
   ]
  },
  {
   "cell_type": "markdown",
   "id": "183f14ac",
   "metadata": {},
   "source": [
    "Now if we submit our potential with an acceleration that's slow, we get...\n",
    "\n",
    "$$ \\frac{dP}{d\\Omega} = \\frac{c r^2}{\\mu_0} \\frac{\\mu_0^2 q^2}{c^4 16 \\pi^2 r^2} |\\hat r \\times \\vec a|^2 $$\n",
    "$$ = \\frac{\\mu_0 q^2}{c^3 16 \\pi^2} |\\hat r \\times \\vec a|^2 $$"
   ]
  },
  {
   "cell_type": "markdown",
   "id": "6356fb38",
   "metadata": {},
   "source": [
    "Now that cross product is purely geometric so it's the same no matter what picture we look at which means the only change we have in the end is an extra c^2 on the bottom. We choose not to shift into terms of $\\epsilon_0$ though.\n",
    "\n",
    "$$ P = \\frac{\\mu_0}{4\\pi} \\frac{2q^2 a^2}{3c^3} $$"
   ]
  },
  {
   "cell_type": "markdown",
   "id": "98fc1741",
   "metadata": {},
   "source": [
    "The relativistic version only asks for the acceleraiton to be transformed, thus...\n",
    "\n",
    "$$ P = \\frac{\\mu_0}{4\\pi} \\frac{2q^2}{3c^3} \\gamma^6 (a^2 - (\\vec v \\times \\vec a)^2/c^2) $$"
   ]
  },
  {
   "cell_type": "markdown",
   "id": "665bf5b8",
   "metadata": {},
   "source": [
    "We differ only by a constant, the difference between $1/\\epsilon_0$ and $\\mu_0$.\n",
    "\n",
    "So the AMOUNT of radiation is comparable, scaling just based on the difference in magnitude between the electric and magnetic constants. However, ultimatley, we want the *directions* of radiated power. We have the nonreleativistic version per angle:\n",
    "\n",
    "$$ \\frac{dP}{d\\Omega} = \\frac{\\mu_0 q^2}{c^3 16 \\pi^2} |\\hat r \\times \\vec a|^2 $$"
   ]
  },
  {
   "cell_type": "markdown",
   "id": "2542ef79",
   "metadata": {},
   "source": [
    "The part that changes, if it changes, would be the magnitude of the cross product. But we should explicitly show this somehow. (Need to sue the Lienard-Wiechart fields...?)\n",
    "\n",
    "Regardless, with that assumption, we end up with Braking Radiation, just like before.\n",
    "\n",
    "What is the scale difference here? Originally, braking radiation is $1/\\epsilon_0 = 1.12940907e11$, meanwhile $\\mu_0 = 1.25663706e-6$. The magnitude here is much different, indicating monopoles experience much less brensstrahlung radiation However... we do not a somewhat unpleasant realization. The units no longer match..."
   ]
  },
  {
   "cell_type": "markdown",
   "id": "92cb7934",
   "metadata": {},
   "source": [
    "Anyway, we have reached conclusion A. But we still have cycling radiation to thihnk about. Unsurpisingly the spatial result isn't surprising, we get spikes of B radiation at the same times we would have gotten E spikes. Which we would kind of have to. "
   ]
  },
  {
   "cell_type": "markdown",
   "id": "d57204b7",
   "metadata": {},
   "source": [
    "# A More Organized Summary of Findings\n",
    "\n",
    "Maxwell's Equations for Magnetic Monopoles in Vacuum are:\n",
    "\n",
    "$$ \\nabla \\cdot \\vec E = 0 $$\n",
    "$$ \\nabla \\cdot \\vec B = \\mu_0 \\rho$$\n",
    "$$ \\nabla \\times \\vec B = \\frac{1}{c^2} \\frac{\\partial \\vec E}{\\partial t} $$\n",
    "$$ -\\nabla \\times \\vec E = \\mu_0 \\vec j + \\frac{\\partial \\vec B}{\\partial t} $$\n",
    "\n",
    "From this we can derive the potentials. \n",
    "\n",
    "$$ \\vec E = \\nabla \\times \\vec V $$\n",
    "$$ \\vec B = -\\nabla \\phi + \\frac{1}{c^2} \\frac{\\partial \\vec V}{\\partial t}$$\n",
    "\n",
    "But we can recast them in a more helpful form.\n",
    "\n",
    "$$ \\vec E = -c^2 \\nabla \\times \\vec V $$\n",
    "$$ \\vec B = -\\nabla \\phi - \\frac{\\partial \\vec V}{\\partial t}$$\n",
    "\n",
    "Which is the same as the original declaration save for the sign and constant on the E relation. The subsequent algebra gives the same invariants.\n",
    "\n",
    "$$ \\nabla^2 \\phi - \\frac{1}{c^2} \\frac{\\partial^2 \\phi}{\\partial t^2} = - \\mu_0 \\rho$$\n",
    "$$ \\nabla^2 \\vec V - \\frac{1}{c^2} \\frac{\\partial^2 \\vec V}{\\partial t^2} = - \\frac{\\mu_0}{c^2} \\vec j  $$\n",
    "\n",
    "So the actual potential expressions are also the same, save for constant adjustments.\n",
    "\n",
    "$$ \\phi(\\vec r_2, t_2) = \\frac{\\mu_0}{4\\pi}\\int \\frac{\\rho (\\vec r_1, t_2 - |\\vec r_1 - \\vec r_2|/c)}{|\\vec r_1 - \\vec r_2|} d^3 \\vec r_1 $$\n",
    "\n",
    "$$ \\vec V(\\vec r_2, t_2) = \\frac{\\mu_0}{c^24\\pi}\\int \\frac{\\vec j (\\vec r_1, t_2 - |\\vec r_1 - \\vec r_2|/c)}{|\\vec r_1 - \\vec r_2|} d^3 \\vec r_1 $$\n",
    "\n",
    "So the relations are exactly the same save for that one constant of $-c^2$ and some leading constants. \n",
    "\n"
   ]
  },
  {
   "cell_type": "markdown",
   "id": "52bf5505",
   "metadata": {},
   "source": [
    "Next are relativistic considerations. Since our goal is radiation, we are always considering accelerationg objects, so solving the translations is actually useless. (As far as we can tell they are the exact same though). So what we need to do is find the Lienard-Wiechert Fields. Forunately the forms of our potentials are the same as previously save for cosntants, so we can jump right to their final formulation. $$ \\vec R = \\vec r_2 - \\vec r_0 $$.\n",
    "\n",
    "$$ \\phi = \\frac{\\mu_0 q}{4 \\pi} \\frac{1}{R-\\vec v \\cdot \\vec R / c} |_{t=t_r} $$\n",
    "$$ \\vec V = \\frac{\\mu_0 q}{c^2 4 \\pi} \\frac{\\vec v}{R-\\vec v \\cdot \\vec R / c} |_{t=t_r} $$\n",
    "\n",
    "The trick si now to use our defined potential relations to get the equivalent of the W-L fields. Fortunately for us, the differeces in expression are minimal. Note that our B is the exact same as the old E down to the signs and forms and that the leading constnat pulls out to begin with, so...\n",
    "\n",
    "$$ \\vec B = \\frac{q \\mu_0}{4\\pi} \\left[ \\frac{(\\vec R - \\vec v R/c)(1-v^2/c^2)}{(R - \\vec v \\cdot \\vec R/c)^3} + \\frac{\\vec R \\times [(\\vec R - \\vec v R/c) \\times \\vec a /c^2]}{(R - \\vec v \\cdot \\vec R/c)^3} \\right]_{t=t_r} $$\n",
    "\n",
    "The electric field is simlar, but this time the expression has a $-c^2$ out front. So the constant needs to be adjusted approrpiately. Note that there is a *minus sign*, that was not there in the original expressions. \n",
    "\n",
    "$$ \\vec E = -\\frac{\\mu_0 q}{4\\pi}\\left[ \\frac{\\vec v \\times \\vec R (1-v^2/c^2)}{(R - \\vec v \\cdot R /c)^3} + \\frac{(\\vec v / c \\times \\vec R)(\\vec a/c \\cdot \\vec R)+(R - \\vec v \\cdot \\vec R/c)(\\vec a / c \\times \\vec R)}{(R-\\vec v \\cdot R / c)} \\right]_{t=t_r} $$"
   ]
  },
  {
   "cell_type": "markdown",
   "id": "a97cfd15",
   "metadata": {},
   "source": [
    "So in the grand end of finding the actual fields, the L-W fields change only by a sign on E. Which, honestly, we should be happy for, it makes things quite easy. From it we can answer our actual quesitons: how does radiation fly off this particle while it's moving? We consider the striaght motion (brehmstralung) and circular motion (cyclotron) radiation separately.\n",
    "\n",
    "What we ultimatley want to examine is where the radiation is being emitted. To do that, we have to double check power (see above, all it does is exchange $\\frac{1}{\\epsilon_0}$ with $\\mu_0$, the sign changes nothing). This leaves just a physical quantity, which behaves the same just with different magnitude. Everything about the radiation is the same in terms of amounts of power radiated and where. In essence, we can conclude that *even in relativistic cases*, to change from an electric charge to a magnetic charge, all you need to do is swap the E and B fields and then change the sign on the new E field. (And of corse scale by the proper constant). \n",
    "\n",
    "Which, honestly, we could have deduced this entirely from the maxwell equations themselves. Whoops."
   ]
  },
  {
   "cell_type": "markdown",
   "id": "992145ee",
   "metadata": {},
   "source": [
    "# BONUS FOR SANITY: nonrelativistic situations.\n",
    "\n",
    "First, let's... just consider some basic situations to see if our intuition matters. Consider a current of monopole charges. \n",
    "\n",
    "$$ \\nabla \\cdot \\vec E = 0 $$\n",
    "$$ \\nabla \\cdot \\vec B = \\mu_0 \\rho$$\n",
    "$$ \\nabla \\times \\vec B = \\frac{1}{c^2} \\frac{\\partial \\vec E}{\\partial t} $$\n",
    "$$ -\\nabla \\times \\vec E = \\mu_0 \\vec j + \\frac{\\partial \\vec B}{\\partial t} $$"
   ]
  },
  {
   "cell_type": "markdown",
   "id": "fd20ddf1",
   "metadata": {},
   "source": [
    "Take a constant magnetic current through a line, and you'll get... a NEGATIVE E out that is otherwise the same. Which is exactly what we've predicted! "
   ]
  },
  {
   "cell_type": "markdown",
   "id": "b48b6a82",
   "metadata": {},
   "source": [
    "Final translation rules:\n",
    "\n",
    "$$ E -> B $$\n",
    "$$ \\frac{1}{\\epsilon_0} -> \\mu_0 $$\n",
    "$$ B -> -E $$\n",
    "$$ \\mu_0 -> \\frac{\\mu_0}{c^2} $$\n"
   ]
  },
  {
   "cell_type": "code",
   "execution_count": null,
   "id": "ef2f346f",
   "metadata": {},
   "outputs": [],
   "source": []
  }
 ],
 "metadata": {
  "kernelspec": {
   "display_name": "Python 3 (ipykernel)",
   "language": "python",
   "name": "python3"
  },
  "language_info": {
   "codemirror_mode": {
    "name": "ipython",
    "version": 3
   },
   "file_extension": ".py",
   "mimetype": "text/x-python",
   "name": "python",
   "nbconvert_exporter": "python",
   "pygments_lexer": "ipython3",
   "version": "3.7.9"
  }
 },
 "nbformat": 4,
 "nbformat_minor": 5
}
