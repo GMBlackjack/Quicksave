{
 "cells": [
  {
   "cell_type": "markdown",
   "id": "0c1bfe81",
   "metadata": {},
   "source": [
    "# Electrodynamics Review 2: Electirc Boogaloo\n",
    "\n",
    "## Never before has the subtitle been more deserved.\n",
    "\n",
    "## Gabriel M Steward\n",
    "\n",
    "### October 2022"
   ]
  },
  {
   "cell_type": "markdown",
   "id": "eeee3e48",
   "metadata": {},
   "source": [
    "A quick note on Things We Need To Know:\n",
    "\n",
    "1) Spherical Coordinates\n",
    "\n",
    "2) Electric Fields and Potentials\n",
    "\n",
    "3) Conductors\n",
    "\n",
    "4) Capacitors and the Reciprocity Theorem\n",
    "\n",
    "5) Polarizations, Dielectrics, P, and D. "
   ]
  },
  {
   "cell_type": "markdown",
   "id": "b00ef896",
   "metadata": {},
   "source": [
    "### Spherical Coordinates\n",
    "\n",
    "$\\rho, \\theta, \\phi$. \n",
    "\n",
    "Just to be explicit, $\\rho$ is the radius, $\\theta$ is the angle from the rotational (z) axis, and $\\phi$ is the angle on the xy plane from the x axis. $\\rho$ can be any positive number, $\\theta$ ranges from 0 to $\\pi$, and $\\phi$ ranges from 0 to $2\\pi$. \n",
    "\n",
    "$\\rho$ is often also used as density. Be careful and don't get them confused. "
   ]
  },
  {
   "cell_type": "markdown",
   "id": "d01ced9c",
   "metadata": {},
   "source": [
    "### Electric Fields and Potentials\n",
    "\n",
    "Just some things we all should just know. The field and potential of a point charge:\n",
    "\n",
    "$$ \\vec E = \\frac{Q}{4\\pi \\epsilon_0 r^2} \\hat r $$\n",
    "$$ \\varphi = \\frac{Q}{4\\pi \\epsilon_0 r} $$\n",
    "\n",
    "We note that $ \\vec E = -\\nabla \\varphi $\n",
    "\n",
    "Spherical shells, in perfectly symmetric situations, act as point charges at any point outside of them, and inside act as nothing. \n",
    "\n",
    "Dipoles have their own fields and potentials, though usually we just work with the potential. The *completley general* form for potentials is \n",
    "\n",
    "$$\\varphi = \\sum (A_l r^l + \\frac{B_l}{r^{l+1}})Y_{lm}$$\n",
    "\n",
    "In the cases of potential, the dipole provides a field of:\n",
    "\n",
    "$$ \\varphi_{in} = A r $$\n",
    "$$ \\varphi_{out} = \\frac{B}{r^2}cos\\theta $$\n",
    "\n",
    "And if we by chance get a constant electric field, the potential is. The exact nature of the constants are genreally solved for.\n",
    "\n",
    "$$ \\varphi = E_0 z = E_0rcos\\theta $$\n",
    "\n",
    "Where z can be replced with whatever direction the field actually is. Use your textbook to find any gradients/divergences/curls as needed for the appropriate cooridnate systems, they're in the front cover."
   ]
  },
  {
   "cell_type": "markdown",
   "id": "da5ef260",
   "metadata": {},
   "source": [
    "### Conductors"
   ]
  },
  {
   "cell_type": "markdown",
   "id": "2ac5d222",
   "metadata": {},
   "source": [
    "Conductors are places where charge is free to move; that is, all free charge, no bound charge. This means charges will ALWAYS flow to the surfaces, never resting in the bulk of the material. Inside the bulk of conductors, the electric field must be zero (and thus the potential must be constant). This is essentially their only property and from it we genreally deduce everything else, such as charge density.\n",
    "\n",
    "NOTE: conductors will have electric fields on the outside. In general, in order to make the interior zero, they will change the exterior. There are many ways to deal with this but the most likely one for our purposes is..."
   ]
  },
  {
   "cell_type": "markdown",
   "id": "6826de8b",
   "metadata": {},
   "source": [
    "### Capacitors and the Reciprocity Theorem"
   ]
  },
  {
   "cell_type": "markdown",
   "id": "09096c24",
   "metadata": {},
   "source": [
    "C = Q/V, where C is the capacitance. Capacitance is determined entirely by the geometry of a system, so systems in different electrical states have the same capacitance if their shapes are the same. We can use this to relate asymmetric problems to symmetric ones. The genreal form of doing this is the Recirpocity Relationship. Take a set of charges and potentials, and then take another set in the same shape but in a \"primed\" state...\n",
    "\n",
    "$$ Q_1V'_1 + Q_2V'_2 + Q_3V'_3 + ... = Q'_1V_1 + Q'_2V_2 + Q'_3V_3 + ... $$\n",
    "\n",
    "In general this is solved by choosing the primed reference frame to make most of the options go to zero. Keep in mind there are several pitfalls one can fall into while doing this. For one, we can't make a physically impossible situation (creating a point charge with zero potential but finite charge is nonsense, for instance). Often a good course of action is just to set the primed potentials, solve for the primed charges, and then work from there. \n",
    "\n",
    "The idea is that the system created in the primed system will have symmetry the original system doesn't have, such as two hemispheres being held at the same potential so Gauss' Law can be applied to them, or to find a system in which an offending off-center point charge simply doesn't exist. \n",
    "\n",
    "This probably isn't relevant, but the Capacitance matrix is the inverse of the Potential matrix, and the potentials are generally the easiset to find. (The potential matrix consists of potential of self on self, and potential of self from the otehr parts.) \n",
    "\n",
    "$$Q_i = \\sum_j C_{ij} \\varphi_j$$\n",
    "$$\\varphi_i = \\sum_j P_{ij} Q_j$$"
   ]
  },
  {
   "cell_type": "markdown",
   "id": "93880305",
   "metadata": {},
   "source": [
    "### Polarization, Dielectrics, P, and D"
   ]
  },
  {
   "cell_type": "markdown",
   "id": "30c2406d",
   "metadata": {},
   "source": [
    "In the age-old words of me, \"Dielectrics... are a pain.\" However we have the tools to make use of them, should we wish to. The biggest help is our friends the P and D fields. First, some basic help from the polarization:\n",
    "\n",
    "$$ \\rho_b = -\\nabla \\cdot \\vec P $$\n",
    "$$ \\sigma_b = \\vec P \\cdot \\hat n $$\n",
    "\n",
    "This illustrates an important point, that the bound charges are distinct from the volume charges due to the discontinuity in the material, leading to a build up in charge. The direction of n is \"out\" of the material being considered. The b refers to bound charge, and it is the charge that produces the electric field E via\n",
    "\n",
    "$$ \\vec P = (\\epsilon - \\epsilon_0) \\vec E $$\n",
    "\n",
    "Where the $\\epsilon$ is the dielectric constant of the material. Usually it's provided, but it can be calculated if one starts with the polarization. There's lots of many branching paths to work with here...\n",
    "\n",
    "Lastly, we have the D field.\n",
    "\n",
    "$$ \\vec D = \\epsilon \\vec E$$\n",
    "\n",
    "In vacuum, $\\epsilon = \\epsilon_0$ so this often simplifies the electric field by removing the permativity of free space. We also have:\n",
    "\n",
    "$$ \\nabla \\cdot \\vec D = \\rho_f $$\n",
    "\n",
    "Which is the free charge. "
   ]
  },
  {
   "cell_type": "markdown",
   "id": "8df8d3e9",
   "metadata": {},
   "source": [
    "Some properties.\n",
    "\n",
    "$$ \\nabla \\times \\vec D = \\nabla \\times \\vec P $$\n",
    "\n",
    "$$ \\hat n_2 \\cdot (\\vec D_2 - \\vec D_1) = \\rho_f $$\n",
    "\n",
    "Note that at a charge free boundary this means that the D-field has to be continuous, which is a relation we can use to extract more information out of a problem. \n",
    "\n",
    "When dealing with problems it is tempting to use direct relations, but that must not happen as that USUALLY only takes into account applied electric field, not the total electric field, which includes the self-contribution of a dielectric. \n",
    "\n",
    "The trick for solving these problems is to generally find the electric potential in every region and force it to have continuity at the boundaries. Then it is to find the places where the D-field is constant and force it to have continuity in those places.\n",
    "\n",
    "Where is the D-field continuous? Whenever the boundary is of a dielectric. D-fields only change when crossing boundaries from non-dielectrics (such as conductors). "
   ]
  },
  {
   "cell_type": "code",
   "execution_count": null,
   "id": "6205e4a6",
   "metadata": {},
   "outputs": [],
   "source": []
  }
 ],
 "metadata": {
  "kernelspec": {
   "display_name": "Python 3 (ipykernel)",
   "language": "python",
   "name": "python3"
  },
  "language_info": {
   "codemirror_mode": {
    "name": "ipython",
    "version": 3
   },
   "file_extension": ".py",
   "mimetype": "text/x-python",
   "name": "python",
   "nbconvert_exporter": "python",
   "pygments_lexer": "ipython3",
   "version": "3.7.9"
  }
 },
 "nbformat": 4,
 "nbformat_minor": 5
}
