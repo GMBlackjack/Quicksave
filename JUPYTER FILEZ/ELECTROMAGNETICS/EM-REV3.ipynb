{
 "cells": [
  {
   "cell_type": "markdown",
   "id": "0c1bfe81",
   "metadata": {},
   "source": [
    "# Electrodynamics Review 3: We Can't Call it Electirc Boogaloo Again\n",
    "\n",
    "## The Tragedy\n",
    "\n",
    "## Gabriel M Steward\n",
    "\n",
    "### November 2022"
   ]
  },
  {
   "cell_type": "markdown",
   "id": "eeee3e48",
   "metadata": {},
   "source": [
    "A quick note on Things We Need To Know:\n",
    "\n",
    "1) Image Charges\n",
    "\n",
    "2) Magnetic Fields"
   ]
  },
  {
   "cell_type": "markdown",
   "id": "b00ef896",
   "metadata": {},
   "source": [
    "### Image Charges\n",
    "\n",
    "The concept behind image charges is actually very simple: treat any grounded conducting surface as a mirror in order to set up an \"identical situation\" with only point charges. The fields with the point charges will be identical to the fields produced by the point charge interacting with the conducting plates. If the conductors are flat plates, they act as perfect mirrors--but if there's more than one make sure to reflect the reflections. If they are spheres, the mirroring can still happen but there's rules for it. Specifically:\n",
    "\n",
    "$$ b = R^2/s$$\n",
    "$$ q' = -Rq/s $$\n",
    "\n",
    "Where b is the distance from the center of the sphere of the new charge, s is the distance of the original charge, q is the old charge magnitude, q' is the new charge magnitude, and R is the sphere radius. \n",
    "\n",
    "Now, all this does is set up the electric field (and potential) because of the point charges. Now that the field is attained, what next? Usually we want to find a charge distribution on the plate or the sphere. For plates, finding the charge distribution is taken from:\n",
    "\n",
    "$$ \\sigma = \\epsilon_0 \\hat n \\cdot \\vec E = \\epsilon_0 \\hat z \\cdot \\vec E(z=0) = -\\epsilon_0 \\left| \\frac{\\partial \\varphi}{\\partial z} \\right|_{z=0} $$\n",
    "\n",
    "Which can be converted into y and x terms easily enough.\n",
    "\n",
    "$$ \\sigma_x = -\\epsilon_0 \\left| \\frac{\\partial \\varphi}{\\partial x} \\right|_{x=0} $$\n",
    "$$ \\sigma_y = -\\epsilon_0 \\left| \\frac{\\partial \\varphi}{\\partial y} \\right|_{y=0} $$\n",
    "\n",
    "Notably the plate doesn't have to be directly on the x or y axis. But at that point you might as well redefine your coordinate system so it is. \n",
    "\n",
    "If you need total charge, at this point you integrate over the surface charge density and you're done.\n",
    "\n",
    "Now, something we did not do but could potentially be asked: what is the charge distribution on a sphere? Just take the normal to be $\\hat \\rho$ and work from there. \n",
    "\n",
    "We were told not to expect Green's functions, so they won't be on the review here. "
   ]
  },
  {
   "cell_type": "markdown",
   "id": "d01ced9c",
   "metadata": {},
   "source": [
    "### Magnetic Fields\n",
    "\n",
    "The Biot-Savart law is the primary source we have for Magnetic Fields. We are unlikely to have to use it directly but here it is nonetheless:\n",
    "\n",
    "$$ \\vec B(\\vec r_2) = \\frac{\\mu_0}{4\\pi} \\int \\frac{\\vec J (\\vec r_2) \\times (\\vec r_2 - \\vec r_1)}{|\\vec r_2 - \\vec r_1|^3} d^3r_1  $$"
   ]
  },
  {
   "cell_type": "markdown",
   "id": "53af49e7",
   "metadata": {},
   "source": [
    "Which can be adapted rather easily into 2D and 1D verisons\n",
    "\n",
    "$$ \\vec B(\\vec r_2) = \\frac{\\mu_0}{4\\pi} \\int \\frac{\\vec K (\\vec r_2) \\times (\\vec r_2 - \\vec r_1)}{|\\vec r_2 - \\vec r_1|^3} d^2S_1  $$\n",
    "\n",
    "$$ \\vec B(\\vec r_2) = \\frac{\\mu_0I}{4\\pi} \\int \\frac{d\\vec l \\times (\\vec r_2 - \\vec l)}{|\\vec r_2 - \\vec  l|^3} $$"
   ]
  },
  {
   "cell_type": "markdown",
   "id": "3c10a9a6",
   "metadata": {},
   "source": [
    "However we are unlikely to use these. What is more likely is that we'll make use of a known magnetic field and take advantage of superposition to add it all up to a new magnetic field. The simplest is, perhaps, the line current field.\n",
    "\n",
    "$$ \\vec B = \\frac{\\mu_0 I}{2\\pi \\rho} \\hat\\phi $$ \n",
    "\n",
    "Where $\\rho$ is the cylindrical radius around the wire. The other important field is the circular loop field.\n",
    "\n",
    "$$ \\vec B = \\frac12 \\mu_0 I \\frac{R^2}{(z^2+R^2)} \\hat z $$\n",
    "\n",
    "Note that this is only the field along the axis, not everywhere like with the line current. The hardest part is making sure to set up the integral bounds and equation correctly since each magnetic source is at a different position, but there's not really much studying can do to help with that, just keep your examples on hand to refer to them. "
   ]
  },
  {
   "cell_type": "markdown",
   "id": "dd768aec",
   "metadata": {},
   "source": [
    "Now, another thing we might need to work with is the Magnetic Scalar Potential, usually given as $\\psi$ from $\\vec B = -\\nabla \\psi$. This is only valid in regions without any current, but this is usually where we care about the magnetic field anyway.\n",
    "\n",
    "In the case of azimuthal symmetry, we have interior and exterior expressions:\n",
    "\n",
    "$$ \\psi(r>R) \\sum_l A_{lm} (\\frac{R}{r})^{l+1} Y_{lm} $$\n",
    "$$ \\psi(r<R) \\sum_l B_{lm} (\\frac{r}{R})^{l} Y_{lm} $$\n",
    "\n",
    "Now this alone isn't all that helpful in most cases, it usually needs to be combined with a known field. For example, we know the field for the axis of symmetry of a ring. At r=R the continuity must be maintained and the coefficients can be found. The final result for the ring (at a distance) using this method is:\n",
    "\n",
    "$$ \\vec B = \\frac14 \\mu_0 I \\frac{R^2}{r^3} [2cos\\theta \\hat r - sin\\theta \\hat \\theta] $$\n",
    "\n",
    "Which reverts to the axis form on the axis. This expression here can also be used in superposition for more complex situations. Note that this is a proper dipole field. \n",
    "\n",
    "The center of the loop has\n",
    "\n",
    "$$ \\vec B = \\frac12 \\mu_0 I \\frac{1}{R} \\hat z $$\n",
    "\n",
    "Note that, again, these fields are only true outside the ring. At the ring itself, continuity breaks and everything explodes. Fortunately we rarely care about that position. "
   ]
  },
  {
   "cell_type": "markdown",
   "id": "122afd43",
   "metadata": {},
   "source": [
    "Lastly, let us consider how we use the scalar potential to find a current if we're given a potential, which is to say, workign backward. The scalar potential can always be found by integrating, but usually it's findable by inspection. Given B and seeking to find K (the surface current) we use the boundary conditions:\n",
    "\n",
    "$$ \\hat n \\times (\\vec B_o - \\vec B_i) = \\mu_0 \\vec K $$\n",
    "$$ \\hat n \\cdot (\\vec B_i - \\vec B_o) = 0 $$\n",
    "\n",
    "The second of these requires that the change in the potential across the boundary be equal, which is a way to find eveyrthing. We are usually given only one of the magnetic fields, but the continuity requirement lets us find the second via the potential. Then we use the first boundary condition to find K.\n",
    "\n",
    "The huge amount of variety in these problems is staggering so it's hard to write out a \"general method\". Everything's related to everything else. Just gotta be careful and refer to everything as it comes. "
   ]
  },
  {
   "cell_type": "markdown",
   "id": "f9a8f23b",
   "metadata": {},
   "source": [
    "**MAGNETS**. How do they work? "
   ]
  }
 ],
 "metadata": {
  "kernelspec": {
   "display_name": "Python 3 (ipykernel)",
   "language": "python",
   "name": "python3"
  },
  "language_info": {
   "codemirror_mode": {
    "name": "ipython",
    "version": 3
   },
   "file_extension": ".py",
   "mimetype": "text/x-python",
   "name": "python",
   "nbconvert_exporter": "python",
   "pygments_lexer": "ipython3",
   "version": "3.7.9"
  }
 },
 "nbformat": 4,
 "nbformat_minor": 5
}
