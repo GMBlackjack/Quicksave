{
 "cells": [
  {
   "cell_type": "markdown",
   "id": "0c1bfe81",
   "metadata": {},
   "source": [
    "# Electrodynamics II Review 2: WAVES\n",
    "\n",
    "## Gabriel M Steward\n",
    "\n",
    "### April 2023"
   ]
  },
  {
   "cell_type": "markdown",
   "id": "cd9e5529",
   "metadata": {},
   "source": [
    "# Matter Models\n"
   ]
  },
  {
   "cell_type": "markdown",
   "id": "b2e8bccd",
   "metadata": {},
   "source": [
    "The quantities $\\chi$ and $\\sigma$, the suseptibility and the conductivity, are related things. In general, they can change with the frequency of incoming light. \n",
    "\n",
    "In the susceptibility picture, there is no free current, $\\vec j_F=0$. The polarization of the material can be represented by\n",
    "\n",
    "$$ \\vec D = \\epsilon_0\\vec E + \\vec P = \\epsilon_0(1+\\chi) \\vec E $$\n",
    "\n",
    "Handout 7 can give a full set of equations for this. \n",
    "\n",
    "In the conductivity picture, we have $\\vec D = \\epsilon_0 \\vec E$ and $\\vec j = \\sigma \\vec E$\n",
    "\n",
    "The relation between the two is$\\epsilon_0 (1+\\chi) = (\\epsilon_0 + i\\sigma/\\omega)$. \n",
    "\n",
    "A primitive model for conductors is the drude model.\n",
    "\n",
    "$$ m \\frac{d\\vec v}{dt} = q\\vec E - \\frac{m}{r}\\vec v $$\n",
    "\n",
    "This is generally solved by assuming E is harmonic. This is constructed from an electric force and a drag force. \n",
    "\n",
    "If we wish to look at dielectrics, we use the Lorentz Model.\n",
    "\n",
    "$$ m\\frac{d^2\\vec r}{dt^2} = q\\vec E + m\\Gamma \\frac{d\\vec r}{dt} + m\\omega_0^2 \\vec r $$\n",
    "\n",
    "$\\Gamma$ here is a damping term, the spring constant is held in $\\omega_0^2$. \n",
    "\n",
    "A more genreal handling of models is essentially ma = sum of forces, and we work with that to get results we desire, as the forces are dependent upon the various fields. "
   ]
  },
  {
   "cell_type": "markdown",
   "id": "aec8462f",
   "metadata": {},
   "source": [
    "# Velocities"
   ]
  },
  {
   "cell_type": "markdown",
   "id": "3b9accb8",
   "metadata": {},
   "source": [
    "we have various speeds. The phase speed is $v_0 = \\omega/k$. For a drude conductor this is\n",
    "\n",
    "$$ v_p = \\frac{c}{\\sqrt{1-\\omega_p^2/\\omega^2}} $$\n",
    "\n",
    "The group velocity, meanwhile, is $v_g = \\partial\\omega/\\partial k$ For a drude conductor this is\n",
    "\n",
    "$$ v_g = c\\sqrt{1-\\omega_p^2/\\omega^2} $$\n",
    "\n",
    "The actual speed of information transfer is the energy velocity.\n",
    "\n",
    "$$ \\vec v_E = \\frac{<\\vec S>}{<u_{EM}>} $$\n",
    "\n",
    "Now, to get this we need the energy. So we have to be careful with energy as in many places energy is being lost.\n",
    "\n",
    "$$ \\frac{\\partial u_{EM}}{\\partial t} = \\vec E \\cdot \\frac{\\partial \\vec\n",
    "D}{\\partial t} + \\vec B \\cdot \\frac{\\partial \\vec H}{\\partial t} $$\n",
    "\n",
    "Which can give us in general for quasimonocrhomatic waves, we get...\n",
    "\n",
    "$$ u_{EM} = \\frac12 \\left[ \\frac{\\partial}{\\partial \\omega} (\\omega \\epsilon_R) |\\vec E|^2 + \\frac{\\partial}{\\partial \\omega} (\\omega \\mu_R) |\\vec H|^2 \\right] $$\n",
    "\n",
    "The R just means \"real part of\" if the component in question is complex."
   ]
  },
  {
   "cell_type": "markdown",
   "id": "88ea17da",
   "metadata": {},
   "source": [
    "# Waveguides\n"
   ]
  },
  {
   "cell_type": "markdown",
   "id": "c2fd6dc0",
   "metadata": {},
   "source": [
    "A rule of thumb: TEM waves can propogate through coaxial cables, but true waveguides can only support TE or TM waves. This is because coaxial cables have two conductors that can have E-fields go from one conductor to another, but a single waveguide can't have an E-arrow pointing from one end to the other since it's the same conductor, thus we need some tilting to permit it to pass through. \n",
    "\n",
    "A helpful reminder of the distinction between TE (Transverse Electric) and TM (Transverse Magnetic): TE has no electric field in the direction of propogaiton, while TM has no magnetic field in the direction of propogation. TEM means both at once, that is, perfectly perpendicular to the direction of motion. \n",
    "\n",
    "This really only matters once we hit a coaxial cable or a waveguide. \n",
    "\n",
    "The boundary conditions at the surfaces for guides of any sort are\n",
    "\n",
    "$$ \\vec K = \\hat n \\times \\vec H $$\n",
    "\n",
    "$$ \\sigma = \\epsilon_0 \\hat n \\cdot \\vec E $$\n",
    "\n",
    "When dealing with normal waveguides, remember that E has to be 0 on the boundary, while the derivative of H (and thus B) has to be zero on the boundary. Just solve the waves for free space and go from there.\n",
    "\n",
    "We will note that often when dealing with circular waveguides, the Bessel Functions will show up. Those are these:\n",
    "\n",
    "$$ x^2y'' + xy' + (\\gamma^2 x^2 - \\alpha^2) y =' 0 $$\n",
    "$$ y = J_\\alpha(\\gamma x) $$\n",
    "\n",
    "We will not have to actually evaluate the bessel unless the zeroes are given.\n",
    "\n",
    "There are other bessel function types. J are finite, but every one but $J_0$ goes to zero at the center. The second kind are Y, and they diverge at zero always, so are usually useless. The other two kinds are basically never used.\n",
    "\n",
    "The problem with making a review for Waveguides is that each kind is different, and honestly it's best just to refer to the notes based on whatever problem we end up being given rather than trying to memorize everything."
   ]
  },
  {
   "cell_type": "markdown",
   "id": "85876c63",
   "metadata": {},
   "source": [
    "# Radiation"
   ]
  },
  {
   "cell_type": "markdown",
   "id": "b19193d5",
   "metadata": {},
   "source": [
    "So, the key equations for evaluating things in the radiation limit are\n",
    "\n",
    "$$ \\vec E = -\\vec r \\times (c\\vec B) $$\n",
    "$$ \\vec B = -\\frac1c \\hat r \\times \\frac{\\partial A}{\\partial t}$$\n",
    "$$ \\vec A = \\frac{\\mu_0}{4\\pi r} \\int \\vec j(\\vec r', t-r/c) d^3r' $$ \n",
    "\n",
    "Important to note that we're replacing the t variable of the current with t-r/c. \n",
    "\n",
    "If the dipole moment is provided, we can find A easily.\n",
    "\n",
    "$$ \\vec A = \\frac{\\mu_0}{4\\pi r} \\vec p' $$\n",
    "\n",
    "We can also get from this the differential power going through the solid angle.\n",
    "\n",
    "$$ \\frac{dP}{d\\Omega} = \\frac{1}{c\\mu_0} \\left| \\vec r \\times \\frac{\\partial \\vec A}{\\partial t} \\right|^2 $$"
   ]
  },
  {
   "cell_type": "markdown",
   "id": "22712fe6",
   "metadata": {},
   "source": [
    "# Scattering\n"
   ]
  },
  {
   "cell_type": "markdown",
   "id": "417c5f97",
   "metadata": {},
   "source": [
    "Scattering is largely concerned with finding the differential cross section.\n",
    "\n",
    "$$ \\frac{d\\sigma}{d\\Omega} = \\frac{k^2}{(4\\pi\\epsilon_0 c E_{inc})^2} \\left| \\hat k \\times \\int \\vec j(\\vec r_1) e^{i\\vec k \\cdot \\vec r_1} d^3r_1 \\right|^2 $$\n",
    "\n",
    "Now this is rarely solved in exact situations. Each one has its own approximation.\n",
    "\n",
    "If we say the object we're scattering off of is conductive and illuminated only by the incident field, we apply the following\n",
    "\n",
    "$$ \\frac{\\partial \\vec j}{\\partial t} = q \\vec a = \\frac{q^2}{m} \\vec E_{inc} $$\n",
    "\n",
    "and arrive at Thomson Scattering. If we're *polarizing*, then we go to Rayleigh Scattering and find the induced dipole.\n",
    "\n",
    "$$ \\vec p = \\epsilon_0 \\chi E_0 \\hat y e^{i(kz-\\omega t)} $$\n",
    "\n",
    "Then the cross section can be found by integrating. \n",
    "\n",
    "Keep in mind this just finds us cross sections, if we want more, such as the form of the scattered wave or other specifics such as the absorbing cross section, we turn to the Optical Theorem, which asks us to write the system in this form::\n",
    "\n",
    "$$ \\vec E_{tot} = \\vec E_{inc} + \\vec E_{scat} = E_{inc} \\hat x e^{i(kz-\\omega t )} + E_{inc} f(\\theta,\\phi) \\hat e(\\theta, \\phi) \\frac{e^{i(kr-\\omega t)}}{r}$$\n",
    "\n",
    "f here is very important, as it is the scattering amplitude and is a huge part of the optical theorem.\n",
    "\n",
    "$$ \\sigma_{tot} = \\sigma_{abs} + \\sigma_{scat} = \\frac{4\\pi}{k} \\mathcal{I}[\\hat x \\cdot \\hat e f(\\theta = 0)] $$\n",
    "\n",
    "Where we have absorbing and scattering cross sections. The optical theorem demands that there can be no perfect abosrbers. A helpful little relation is that between the vairous cross sections.\n",
    "\n",
    "$$ \\sigma_{scat} = \\frac{1}{<|S_{inc}|>} \\int <\\hat r \\cdot \\vec S_{scat}> d\\Omega$$\n",
    "$$ \\sigma_{abs} = \\frac{1}{<|S_{inc}|>} \\int <\\hat j \\cdot \\vec E_{tot}> d\\Omega$$\n",
    "$$ \\sigma_{abs} = -\\frac{r^2}{<|S_{inc}|>} \\int <\\hat r \\cdot \\vec S_{tot}> d\\Omega$$\n"
   ]
  },
  {
   "cell_type": "code",
   "execution_count": null,
   "id": "ba9a8a7f",
   "metadata": {},
   "outputs": [],
   "source": []
  }
 ],
 "metadata": {
  "kernelspec": {
   "display_name": "Python 3 (ipykernel)",
   "language": "python",
   "name": "python3"
  },
  "language_info": {
   "codemirror_mode": {
    "name": "ipython",
    "version": 3
   },
   "file_extension": ".py",
   "mimetype": "text/x-python",
   "name": "python",
   "nbconvert_exporter": "python",
   "pygments_lexer": "ipython3",
   "version": "3.7.9"
  }
 },
 "nbformat": 4,
 "nbformat_minor": 5
}
