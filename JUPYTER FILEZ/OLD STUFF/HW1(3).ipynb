{
 "cells": [
  {
   "cell_type": "markdown",
   "id": "549a6534",
   "metadata": {},
   "source": [
    "# Homework 1: Computing π\n",
    "**Gabriel M Steward**\n",
    "\n",
    "**Dec 2021**"
   ]
  },
  {
   "cell_type": "markdown",
   "id": "f23e9469",
   "metadata": {},
   "source": [
    "**This is a coding assignment.**\n",
    "\n",
    "*The basic instructions/rules that must be followed for both coding and non-coding homework assignments may be found in the Syllabus.*\n",
    "\n",
    "*This assignment is designed to familiarize you with some of the basic programming practices we will encounter in this course, including algorithms and analysis of error convergence to zero. We will explore these practices in the context of a very fun and very ancient problem: computing π (i.e., the ratio of the circumference of a circle to its diameter).*\n",
    "\n",
    "*A number of algorithms exist for computing π, and this assignment will familiarize you with some of the basic approaches. First a couple of important points:*\n",
    "\n",
    "* *You will be expected to use double-precision (IEEE-754 standard) arithmetic to complete this assignment. Most programming languages these days support this standard, including but not limited to: Python, C, C++, Java, Matlab, and FORTRAN.* **It is up to you to know how to use double-precision arithmetic in your chosen language; the basics of computer programming are not taught in this class**.\n",
    "* *For the purpose of this assignment, we will define the “exact” value of π to be the following:* **π = 3.14159265358979323846264338327950288**, *which is consistent with the exact value to more than twenty significant digits – far better than double precision will give us.*\n",
    "\n",
    "*For each of the following algorithms, you are to*\n",
    "\n",
    "* *Write **by yourself, from scratch** a computer program that implements the given algorithm.*\n",
    "* *Using the plotting program of your choice, create a plot of the logarithmic relative error between the value of π your algorithm computes (i.e, the approximate value, A) and the “exact” value E given above, versus iteration I, where the set of I will be given for each algorithm. As always be sure to carefully number and label your axes; see the Syllabus for more details. Your plot will be graded according to the correctness of the result and how well you followed the directions in the Syllabus and in this assignment for creating plots.*\n",
    "\n",
    "***Logarithmic Relative Error***\n",
    "\n",
    "$$log_{10}E_{rel}=log_{10}\\left ( \\left | \\frac{E-A}{A} \\right | \\right )$$"
   ]
  },
  {
   "cell_type": "markdown",
   "id": "e8fcce19",
   "metadata": {},
   "source": [
    "## Problem 1 (10 pts)\n",
    "\n",
    "\"*Arctangent algorithm #1 \": The Gregory-Leibniz series*\n",
    "$$π=lim_{I\\rightarrow ∞} 4\\sum_{n=0}^{I}\\frac{(-1)^n}{2n+1}$$\n",
    "*For the plot, use* $I\\in \\left \\{ 100, 10^5, 2\\times10^5, 3\\times10^5, 4\\times10^5,...,9\\times10^5,10^6  \\right \\}$"
   ]
  },
  {
   "cell_type": "markdown",
   "id": "4ec26531",
   "metadata": {},
   "source": [
    "First of all, we note that float values in python are already double-precision, so we do not need to declare anything special. However, we do need to make certain that all math steps are performed in double-precision, so we must watch for stray int variables. \n",
    "\n",
    "There is not much else to do aside from program the implementation."
   ]
  },
  {
   "cell_type": "code",
   "execution_count": 1,
   "id": "88047218",
   "metadata": {},
   "outputs": [
    {
     "name": "stdout",
     "output_type": "stream",
     "text": [
      "4.0 0.0\n",
      "3.1514934010709914 100.0\n",
      "3.1416026534897203 100000.0\n",
      "3.141597653564762 200000.0\n",
      "3.14159598691202 300000.0\n",
      "3.141595153583494 400000.0\n",
      "3.1415946535856922 500000.0\n",
      "3.1415943202535703 600000.0\n",
      "3.1415940821590773 700000.0\n",
      "3.141593903588155 800000.0\n",
      "3.1415937646996386 900000.0\n",
      "3.1415936535887745 1000000.0\n"
     ]
    }
   ],
   "source": [
    "n = 0.0\n",
    "total = 0.0\n",
    "#decimal points added to ensure double precision in all calculations.\n",
    "#note that I, while important, does not need to be defined. \n",
    "\n",
    "while n <= 1e6: #Stop at max I\n",
    "    total = total+(4.0*((-1.0)**n)/(2.0*n+1.0)) #add 1 sum term every iteration\n",
    "    if n == 100 or n%1e5==0: #only print on the I values we want. \n",
    "        print(total, end =\" \")\n",
    "        print(n) #This actually prints I=0 too!\n",
    "    n = n+1"
   ]
  },
  {
   "cell_type": "markdown",
   "id": "8afc54eb",
   "metadata": {},
   "source": [
    "We note that this is a very slowly converging sequence since we need 10,000 terms to even get 3.14. Not very efficient, but it was easy to program. \n",
    "\n",
    "We now turn to the logarithmic plot. We first of all make a funciton that can return logarithmic relative error. "
   ]
  },
  {
   "cell_type": "code",
   "execution_count": 16,
   "id": "321fd05a",
   "metadata": {},
   "outputs": [
    {
     "name": "stdout",
     "output_type": "stream",
     "text": [
      "-0.6683665655809692\n",
      "-2.502848418129321\n",
      "-5.497155601207444\n",
      "-5.7981827337498295\n",
      "-5.974273035282135\n",
      "-6.0992113038811375\n",
      "-6.196121044006575\n",
      "-6.275302106403102\n",
      "-6.342248762096386\n",
      "-6.400240601687558\n",
      "-6.4513930304309355\n",
      "-6.49715045330716\n",
      "-15.548649655893193\n"
     ]
    }
   ],
   "source": [
    "from math import log\n",
    "pi = 3.14159265358979323846264338327950288\n",
    "#The \"true\" value of pi. \n",
    "#Python floats do not store this many digits.\n",
    "#This will only become an issue if we start getting answers precise \n",
    "#to somewhere around 15 decimal places. \n",
    "\n",
    "def logError(value,truth):\n",
    "    return log(abs((value-truth)/(value)),10)\n",
    "\n",
    "print(logError(4.0,pi))\n",
    "print(logError(3.1514934010709914,pi))\n",
    "print(logError(3.1416026534897203,pi))\n",
    "print(logError(3.141597653564762,pi))\n",
    "print(logError(3.14159598691202,pi))\n",
    "print(logError(3.141595153583494,pi))\n",
    "print(logError(3.1415946535856922,pi))\n",
    "print(logError(3.1415943202535703,pi))\n",
    "print(logError(3.1415940821590773,pi))\n",
    "print(logError(3.141593903588155,pi))\n",
    "print(logError(3.1415937646996386,pi))\n",
    "print(logError(3.1415936535887745,pi))\n",
    "#for reference...\n",
    "print(logError(pi-1e-15,pi))\n",
    "#is the logarithmic relative error near where our precision gives out. "
   ]
  },
  {
   "cell_type": "markdown",
   "id": "d7f414a1",
   "metadata": {},
   "source": [
    "We note that we are nowhere near the value at the \"edge of precision\" so we do not need to concern ourselves with potential machine errors at the extremes (at least not for this problem). However, we do need a *plot*. \n",
    "\n",
    "Fair warning, as this is the first time we've used matplotlib, this may be a little messy. "
   ]
  },
  {
   "cell_type": "code",
   "execution_count": 2,
   "id": "766356dc",
   "metadata": {},
   "outputs": [
    {
     "data": {
      "image/png": "[encoded data removed]",
      "text/plain": [
       "<Figure size 432x288 with 1 Axes>"
      ]
     },
     "metadata": {
      "needs_background": "light"
     },
     "output_type": "display_data"
    }
   ],
   "source": [
    "from matplotlib import pyplot\n",
    "fig, ax = pyplot.subplots()  # Create a figure containing a single axes.\n",
    "ax.set_xlabel(\"I\")\n",
    "ax.set_ylabel(\"Logarithmic Relative Error\")\n",
    "ax.plot([100,1e5,2e5,3e5,4e5,5e5,6e5,7e5,8e5,9e5,1e6], \n",
    "[-2.502848418129321, #we cut out the first number as it was I=0\n",
    "-5.497155601207444,\n",
    "-5.7981827337498295,\n",
    "-5.974273035282135,\n",
    "-6.0992113038811375,\n",
    "-6.196121044006575,\n",
    "-6.275302106403102,\n",
    "-6.342248762096386,\n",
    "-6.400240601687558,\n",
    "-6.4513930304309355,\n",
    "-6.49715045330716\n",
    "]);  # Plot some data on the axes."
   ]
  },
  {
   "cell_type": "markdown",
   "id": "8e10dd2e",
   "metadata": {},
   "source": [
    "And with that we have done as the problem requested. We have obtained our graph of the logarithmic relative error for the Gregory-Leibniz series. Given the extremely large numbers given to I, very clearly this is inneficient for finding π and is useful in that regard only as a novelty. "
   ]
  },
  {
   "cell_type": "markdown",
   "id": "547378a3",
   "metadata": {},
   "source": [
    "## Problem 2 (20 pts)\n",
    "\"*Arctangent algorithm #2*\":\n",
    "$$π=lim_{I\\rightarrow ∞} 2\\sum_{n=0}^{I}\\frac{n!}{(2n+1)!!}$$\n",
    "*where the double factorial is defined n!! = (n)(n−2)(n−4)(...)(2) for n even, or n!! = (n)(n−2)(n−4)(...)(1) for n odd. Also, 0!! = 1!! = 1. In solving this problem, you must – by yourself – write functions capable of computing single and double factorials. These functions may not use any built-in single or double factorial functions in your language.*\n",
    "\n",
    "*For the plot, use $I\\in \\left \\{ 1,3,5,7,9,...,31  \\right \\}$*"
   ]
  },
  {
   "cell_type": "markdown",
   "id": "e6638715",
   "metadata": {},
   "source": [
    "The code for running this will be largely identical to the one for **Problem 1** as it is also a sum. However, we need to NOT use the pre-prepared functions for factorials and rather need to create our own. As it is just repeated multiplication our concern is mainly in creating an overflow. Therefore, when we create our functions, we'll test if it can even compute a double factorial of 2(31)+1. \n",
    "\n",
    "We realize that n!! is not equal to (n!)! even if it looks like it would make sense, the definition given is decidedly not that. \n",
    "\n",
    "We do note that all our I values are odd. However, our n can take any value up to I, so this does not help us simplify our double factorial function.\n",
    "\n",
    "Once the funcitons are defined we then run through the basic summing. "
   ]
  },
  {
   "cell_type": "code",
   "execution_count": 14,
   "id": "f5323fe9",
   "metadata": {},
   "outputs": [
    {
     "name": "stdout",
     "output_type": "stream",
     "text": [
      "8.222838654177924e+33\n",
      "1.0\n",
      "1.122755752855714e+44\n",
      "And now we do the sums.\n",
      "2.6666666666666665 1.0\n",
      "3.0476190476190474 3.0\n",
      "3.121500721500721 5.0\n",
      "3.1371295371295367 7.0\n",
      "3.140578169680336 9.0\n",
      "3.1413584725201353 11.0\n",
      "3.1415379931734746 13.0\n",
      "3.1415797881375944 15.0\n",
      "3.141589605588229 17.0\n",
      "3.1415919276751456 19.0\n",
      "3.141592479958223 21.0\n",
      "3.1415926119088344 23.0\n",
      "3.1415926435534467 25.0\n",
      "3.14159265116678 27.0\n",
      "3.1415926530034817 29.0\n",
      "3.141592653447635 31.0\n"
     ]
    }
   ],
   "source": [
    "def factorial(num):\n",
    "    total = 1.0\n",
    "    if num < 0:\n",
    "        print(\"Factorial Negative Number Error!\")\n",
    "        return 0\n",
    "    while num > 0: #stop facorializing once we hit zero. \n",
    "        total = total*num\n",
    "        num = num-1\n",
    "    return total\n",
    "print(factorial(31))\n",
    "#fun fact: this has built in 0! handling. It returns 1.\n",
    "print(factorial(0))\n",
    "\n",
    "def doubleFactorial(num):\n",
    "    total = 1.0\n",
    "    if num < 0:\n",
    "        print(\"Double Factorial Negative Number Error!\")\n",
    "        return 0\n",
    "    while num > 0: #stop facorializing once we hit zero. \n",
    "        total = total*num\n",
    "        num = num-2\n",
    "#an obvoius quesiton is \"why no checking for even/oddness?\"\n",
    "#because it doesn't matter. The num>0 check will ensure the last number\n",
    "#multiplied is 1 or 2 depending on the evenness or oddness of n. \n",
    "    return total\n",
    "\n",
    "print(doubleFactorial(2*31+1))\n",
    "print(\"And now we do the sums.\")\n",
    "\n",
    "n = 0.0\n",
    "sumTotal = 0.0\n",
    "#decimal points added to ensure double precision in all calculations.\n",
    "#note that I, while important, does not need to be defined. \n",
    "\n",
    "while n <= 31: #Stop at max I\n",
    "    sumTotal = sumTotal+(2.0*((factorial(n))/doubleFactorial(2*n+1))) #add 1 sum term every iteration\n",
    "    # print(factorial(n), end =\" \")\n",
    "    # print(doubleFactorial(2*n+1))\n",
    "    \n",
    "    if n%2==1: #only print on the I values we want. (Odd ones)\n",
    "        print(sumTotal, end =\" \")\n",
    "        print(n)\n",
    "    n = n+1"
   ]
  },
  {
   "cell_type": "markdown",
   "id": "876595ad",
   "metadata": {},
   "source": [
    "This converges much, much faster than the previous one. \n",
    "\n",
    "We now turn to the logarithmic plot. Similar to the above. We will plot it afterward. "
   ]
  },
  {
   "cell_type": "code",
   "execution_count": 5,
   "id": "f0dc2dde",
   "metadata": {},
   "outputs": [
    {
     "name": "stdout",
     "output_type": "stream",
     "text": [
      "-0.7493427983850663\n",
      "-1.5109547872552134\n",
      "-2.191341738079361\n",
      "-2.846894232347417\n",
      "-3.4907644444006793\n",
      "-4.127565712867478\n",
      "-4.759469381207065\n",
      "-5.387723038642703\n",
      "-6.013134265818766\n",
      "-6.636264212659039\n",
      "-7.2575211564514825\n",
      "-7.877212167518704\n",
      "-8.495574228034315\n",
      "-9.112794145796776\n",
      "-9.729021501628052\n",
      "-10.344377696743281\n",
      "-15.548649655893193\n"
     ]
    }
   ],
   "source": [
    "from math import log\n",
    "pi = 3.14159265358979323846264338327950288\n",
    "#The \"true\" value of pi. \n",
    "#Python floats do not store this many digits.\n",
    "#This will only become an issue if we start getting answers precise \n",
    "#to somewhere around 15 decimal places. \n",
    "\n",
    "def logError(value,truth):\n",
    "    return log(abs((value-truth)/(value)),10)\n",
    "\n",
    "print(logError(2.6666666666666665,pi))\n",
    "print(logError(3.0476190476190474,pi))\n",
    "print(logError(3.121500721500721,pi))\n",
    "print(logError(3.1371295371295367,pi))\n",
    "print(logError(3.140578169680336,pi))\n",
    "print(logError(3.1413584725201353,pi))\n",
    "print(logError(3.1415379931734746,pi))\n",
    "print(logError(3.1415797881375944,pi))\n",
    "print(logError(3.141589605588229,pi))\n",
    "print(logError(3.1415919276751456,pi))\n",
    "print(logError(3.141592479958223,pi))\n",
    "print(logError(3.1415926119088344,pi))\n",
    "print(logError(3.1415926435534467,pi))\n",
    "print(logError(3.14159265116678,pi))\n",
    "print(logError(3.1415926530034817,pi))\n",
    "print(logError(3.141592653447635,pi))\n",
    "#for reference...\n",
    "print(logError(pi-1e-15,pi))\n",
    "#is the logarithmic relative error near where our precision gives out. "
   ]
  },
  {
   "cell_type": "code",
   "execution_count": 6,
   "id": "b233af40",
   "metadata": {},
   "outputs": [
    {
     "data": {
      "image/png": "[encoded data removed]",
      "text/plain": [
       "<Figure size 432x288 with 1 Axes>"
      ]
     },
     "metadata": {
      "needs_background": "light"
     },
     "output_type": "display_data"
    }
   ],
   "source": [
    "from matplotlib import pyplot\n",
    "fig, ax = pyplot.subplots()  # Create a figure containing a single axes.\n",
    "ax.set_xlabel(\"I\")\n",
    "ax.set_ylabel(\"Logarithmic Relative Error\")\n",
    "ax.plot([1,3,5,7,9,11,13,15,17,19,21,23,25,27,29,31], \n",
    "[-0.7493427983850663,\n",
    "-1.5109547872552134,\n",
    "-2.191341738079361,\n",
    "-2.846894232347417,\n",
    "-3.4907644444006793,\n",
    "-4.127565712867478,\n",
    "-4.759469381207065,\n",
    "-5.387723038642703,\n",
    "-6.013134265818766,\n",
    "-6.636264212659039,\n",
    "-7.2575211564514825,\n",
    "-7.877212167518704,\n",
    "-8.495574228034315,\n",
    "-9.112794145796776,\n",
    "-9.729021501628052,\n",
    "-10.344377696743281\n",
    "]);  # Plot some data on the axes."
   ]
  },
  {
   "cell_type": "markdown",
   "id": "4be87713",
   "metadata": {},
   "source": [
    "And **Problem 2** is done. \n",
    "\n",
    "Of particular noteworthiness is how the logarithmic relative error is almost if not completely linear in accuracy, as opposed to the exponential decline seen in **Problem 1**. This assures us that we will continue to get more precise (in a logarithmic sense) at a gradual rate for this method. Which is to say it is a much better method than the previous. "
   ]
  },
  {
   "cell_type": "markdown",
   "id": "cf6a78a5",
   "metadata": {},
   "source": [
    "## Problem 3 (40 pts)\n",
    "*Borwein's algorithm, cubic convergence: first set*\n",
    "$$a_0=\\frac{1}{3}$$\n",
    "$$s_0=\\frac{\\sqrt{3}-1}{2}$$\n",
    "*Upon defining $r_n$ in terms of $s_{n−1}$, subsequent values of $a_n$ and $s_n$ are given by*\n",
    "$$r_{n+1}=\\frac{3}{1+2(1-s_{n}^{3})^{1/3}}$$\n",
    "$$s_{n+1}=\\frac{r_{n+1}-1}{2}$$\n",
    "$$a_{n+1}=r_{n+1}^{2}a_n-3^n\\left ( r_{n+1}^{2}-1 \\right )$$\n",
    "*and*\n",
    "$$π=\\lim_{I\\rightarrow ∞}\\frac{1}{a_I}$$\n",
    "*For this plot, use $I\\in \\left \\{ 1,2,3,4  \\right \\}$*"
   ]
  },
  {
   "cell_type": "markdown",
   "id": "98dd0593",
   "metadata": {},
   "source": [
    "This method is not so much a series as an iterative sequence of steps. Luckily we only need to do it four times. \n",
    "\n",
    "We rather quickly run into a compounding error issue: we have a lot of *very close values* being subtracted from one another, especially in the definition for s, as $r_{n+1}$ approahces 1. Observe the direct implementation:"
   ]
  },
  {
   "cell_type": "code",
   "execution_count": 5,
   "id": "ce587ab8",
   "metadata": {},
   "outputs": [
    {
     "name": "stdout",
     "output_type": "stream",
     "text": [
      "3.0 0.0\n",
      "3.1415905852058974 1.0\n",
      "3.141592653589804 2.0\n",
      "3.141592653589804 3.0\n",
      "3.141592653589804 4.0\n"
     ]
    }
   ],
   "source": [
    "n=0.0\n",
    "a=1.0/3.0\n",
    "s=(3.0**(0.5)-1.0)/2.0\n",
    "r=0.0 #placeholder as there is no r_0. \n",
    "aNew=a\n",
    "sNew=s\n",
    "rNew=r\n",
    "\n",
    "print(1.0/aNew, end =\" \") #Initial \"I=0\" guess.\n",
    "print(n)\n",
    "\n",
    "n=n+1\n",
    "while n < 5:\n",
    "    #evaluation of iterative parts given above\n",
    "    rNew=3.0/(1.0+(2.0*((1.0-(s**3.0))**(1.0/3.0))))\n",
    "    sNew=(rNew-1.0)/2.0\n",
    "    aNew=((rNew**2.0)*a)-((3.0**(n-1))*((rNew**2.0)-1.0)) \n",
    "    print(1.0/aNew, end =\" \")\n",
    "    print(n)\n",
    "    #adjust for next cycle\n",
    "    n=n+1\n",
    "    a=aNew\n",
    "    s=sNew\n",
    "    r=rNew"
   ]
  },
  {
   "cell_type": "markdown",
   "id": "d6cb9dc5",
   "metadata": {},
   "source": [
    "Note that the number seems to \"lock\" at iteration 2 with many incorrect digits. \n",
    "\n",
    "The next step is to minimize this subtraction error. The issue is there are three of them, one each in the definitions of r, s, and a. This is easiest to remove in a:\n",
    "$$a_{n+1}=r_{n+1}^{2}(a_n-3^{n})+3^n$$\n",
    "For s, we can declare it in terms of itself.\n",
    "$$s_{n+1}=\\frac{1-(1-s_{n}^{3})^{1/3}}{1+2(1-s_{n}^{3})^{1/3}}$$\n",
    "This still has two bad subtractions, though—the one in the numerator, and the one involving $s_n$. The numerator can be solved through the familiar *radicalization* procedure. \n",
    "$$s_{n+1}=\\frac{s_{n}^{3}}{(1+2(1-s_{n}^{3})^{1/3})(1+(1-s_{n}^{3})^{1/3}+(1-s_{n}^{3})^{2/3})}$$\n",
    "Now we're actually only at one annoying subtraction. It just happens to be repeated over and over and over. If we multiply it, though, we get the following:\n",
    "$$s_{n+1}=\\frac{s_{n}^{3}}{(3+3(1-s_{n}^{3})^{1/3}+3(1-s_{n}^{3})^{2/3}-2s_{n}^{3})}$$\n",
    "This is not *ideal* as many of the subtractions are still there. It is time for us to examine how quickly s is geting smaller. If we assume s << 1 (which it gets to rather quickly) the above expresison becomes $s_{n}^{3}/9$ which we can use to examine the order of magnitude. Starting with a 1e-1 (the magnitude of our $s_0$) we get the following orders of magnitude in result as n increases: \n",
    "\n",
    "0: 1e-1\n",
    "\n",
    "1: 1e-4\n",
    "\n",
    "2: 1e-13\n",
    "\n",
    "3: 1e-40\n",
    "\n",
    "Already we are beyond double precision (which will give us about 1e-15). This means that by the third iteration the value of s is so small the computer won't even detect a change due to the subtraction (or addition!). And this is just s itself—it says nothing about $s^3$. However, due to the way we arranged the above equation, we can still get reasonable values for s itself. So we may still have enough.\n",
    "\n",
    "Oh, and as for r, we can now just define it in terms of s. \n",
    "$$r_{n+1}=2s_{n+1}+1$$\n",
    "Which has no subtractions. That said, once we get to $s_3$ we have the problem of r's value not being noticably different at all. So, what if we tried to consider r as two variables: \"1\" and \"the additive term.\"\n",
    "$$a_{n+1}=(2s_{n+1}+1)^{2}(a_n-3^{n})+3^n$$\n",
    "$$a_{n+1}=4s_{n+1}^{2}a_n+4s_{n+1}a_n+a_n-4s_{n+1}^{2}3^n-4s_{n+1}3^n$$\n",
    "The error remains at this point, but it is much more manageable.\n",
    "\n",
    "With all this, we implement a refined minimized-error algorithm"
   ]
  },
  {
   "cell_type": "code",
   "execution_count": 8,
   "id": "5ba1fc5d",
   "metadata": {},
   "outputs": [
    {
     "name": "stdout",
     "output_type": "stream",
     "text": [
      "3.0 0.0\n",
      "3.1415905852058965 1.0\n",
      "3.1415926535897936 2.0\n",
      "3.1415926535897936 3.0\n",
      "3.1415926535897936 4.0\n"
     ]
    }
   ],
   "source": [
    "n=0.0\n",
    "a=1.0/3.0\n",
    "s=(3.0**(0.5)-1.0)/2.0\n",
    "r=0.0 #placeholder as there is no r_0. \n",
    "aNew=a\n",
    "sNew=s\n",
    "rNew=r\n",
    "\n",
    "print(1.0/aNew, end =\" \") #Initial \"I=0\" guess.\n",
    "print(n)\n",
    "\n",
    "n=n+1.0\n",
    "while n < 5:\n",
    "    #evaluation of iterative parts given above\n",
    "    temp=(1.0-s**3.0)**(1.0/3.0) #useful to keep from typing this all over.\n",
    "    sNew=(s**3.0)/(3.0+3.0*temp+3.0*temp*temp-2.0*(s**3.0))\n",
    "    #the \"temp\" values might as well be one in most cases, though. \n",
    "    rNew=(2.0*sNew)+1.0\n",
    "    aNew=((4.0*(sNew**2.0)*a)+((4.0*sNew)*a)+a-(4.0*(sNew**2.0))*(3**(n-1))-((4.0*sNew)*(3**(n-1)))) \n",
    "    print(1.0/aNew, end =\" \")\n",
    "    print(n)\n",
    "    #adjust for next cycle\n",
    "    n=n+1\n",
    "    a=aNew\n",
    "    s=sNew\n",
    "    r=rNew"
   ]
  },
  {
   "cell_type": "markdown",
   "id": "7dd31205",
   "metadata": {},
   "source": [
    "Which is great, we get the reasonable maximum SIXTEEN sig figs here. (The tailing digit should be a 2, not a 6, but we really shouldn't expect that last one to be right.) \n",
    "\n",
    "Note that the cubic convergence is cubic upon 1/π. This means we can get to π *really* fast. As demonstrated above. \n",
    "\n",
    "We now do the same graphing procedures as we did for the last two problems. "
   ]
  },
  {
   "cell_type": "code",
   "execution_count": 17,
   "id": "1b00f54e",
   "metadata": {},
   "outputs": [
    {
     "name": "stdout",
     "output_type": "stream",
     "text": [
      "-1.3260805337683237\n",
      "-6.18151843884547\n",
      "-15.849679651557175\n",
      "-15.849679651557175\n",
      "-15.849679651557175\n",
      "-15.548649655893193\n"
     ]
    }
   ],
   "source": [
    "from math import log\n",
    "pi = 3.14159265358979323846264338327950288\n",
    "#The \"true\" value of pi. \n",
    "#Python floats do not store this many digits.\n",
    "#This will only become an issue if we start getting answers precise \n",
    "#To somewhere around 15 decimal places. Which we do, here. \n",
    "#However, manual examination of the above part shows us that we are precise to 16 sig figs\n",
    "#And even if we did round the value of π, it would not change the digits we care about. \n",
    "\n",
    "def logError(value,truth):\n",
    "    return log(abs((value-truth)/(value)),10)\n",
    "\n",
    "print(logError(3.0,pi))\n",
    "print(logError(3.1415905852058965,pi))\n",
    "print(logError(3.1415926535897936,pi))\n",
    "print(logError(3.1415926535897936,pi))\n",
    "print(logError(3.1415926535897936,pi))\n",
    "#for reference...\n",
    "print(logError(pi-1e-15,pi))\n",
    "#is the logarithmic relative error near where our precision gives out. "
   ]
  },
  {
   "cell_type": "code",
   "execution_count": 10,
   "id": "db8e2409",
   "metadata": {},
   "outputs": [
    {
     "data": {
      "image/png": "[encoded data removed]",
      "text/plain": [
       "<Figure size 432x288 with 1 Axes>"
      ]
     },
     "metadata": {
      "needs_background": "light"
     },
     "output_type": "display_data"
    }
   ],
   "source": [
    "from matplotlib import pyplot\n",
    "fig, ax = pyplot.subplots()  # Create a figure containing a single axes.\n",
    "ax.set_xlabel(\"I\")\n",
    "ax.set_ylabel(\"Logarithmic Relative Error\")\n",
    "ax.plot([1,2,3,4], \n",
    "[-6.18151843884547,\n",
    "-15.849679651557175,\n",
    "-15.849679651557175,\n",
    "-15.849679651557175\n",
    "]);  # Plot some data on the axes."
   ]
  },
  {
   "cell_type": "markdown",
   "id": "95cca35a",
   "metadata": {},
   "source": [
    "There's not as much to show here. We reach the maximum precision available to double data types in just two iterations, and then we don't change whatsoever. If it wasn't such a hassle to present it in such a way to minimize subtraction error, it would have clearly been the best. "
   ]
  },
  {
   "cell_type": "markdown",
   "id": "a5456397",
   "metadata": {},
   "source": [
    "## Problem 4 (20 pts)\n",
    "*Comment on the rate of convergence for each algorithm relative to the other algorithms: which algorithm exhibits the fastest convergence to the “exact” value of π as I increases? At most, to how many significant digits were you able to compute π using the given algorithms and given I values?*"
   ]
  },
  {
   "cell_type": "markdown",
   "id": "95fdcd0d",
   "metadata": {},
   "source": [
    "Fastest convergence: obviously the last one. It hits the maximum possible accuracy after two steps. It is rather complicated to program, but highly precise even with the single remaining subtraction error. \n",
    "\n",
    "The second algorithm is the second-best: it has a very linear approach to the value. Keep doing more iterations and you'll get beter values. It'll eventually reach maximum precision. (Investigation proves this not to be true, as the second algorithm does not get the sixteenth sig fig correct, likely due to how it was implemented and compounted. It hits this maximum accuracy at step 49)\n",
    "\n",
    "The third algorithm is slow. But its graph doesn't do justice to how slow it is. Remember, I is the number of iterations. It's already been a *hundred* iterations by the time we see the first result, and the more steps we go the slower we get more sig figs! It should not be used for calculating π at all. Use one of the other two depending on your need. "
   ]
  },
  {
   "cell_type": "markdown",
   "id": "d42ffb76",
   "metadata": {},
   "source": [
    "Significant Digits reached at each I value are below. \n",
    "Note that this assumes no rounding and just reading off the numbers. Chosen since the problem asks for \"At most\" which means we give the numbers the bennefit of the doubt in every possible way—what the number appears to be, it is.\n",
    "\n",
    "**Problem 1**\n",
    "\n",
    "100: 2 digits\n",
    "\n",
    "1e5: 3 \n",
    "\n",
    "2e5: 6\n",
    "\n",
    "3e5: 6\n",
    "\n",
    "...\n",
    "\n",
    "9e5: 6\n",
    "\n",
    "1e6: 6\n",
    "\n",
    "\n",
    "Basically it just stops getting better. \n",
    "\n",
    "**Problem 2**\n",
    "\n",
    "1: 0 digits\n",
    "\n",
    "3: 1 \n",
    "\n",
    "5: 2\n",
    "\n",
    "7: 2\n",
    "\n",
    "9: 3\n",
    "\n",
    "11: 4\n",
    "\n",
    "13: 5\n",
    "\n",
    "15: 5\n",
    "\n",
    "17: 5\n",
    "\n",
    "19: 6\n",
    "\n",
    "21: 7\n",
    "\n",
    "23: 8\n",
    "\n",
    "25: 8\n",
    "\n",
    "27: 9\n",
    "\n",
    "29: 10\n",
    "\n",
    "31: 10\n",
    "\n",
    "The rate of increase is *roughly* linear, with an increase of one digit at a time every step or so. It is naturally expected to fluctuate a bit, but continue to grow in more or less the same way. If we did 10,000 iteraions as we did in **Problem 1** this would get us very far. \n",
    "\n",
    "**Problem 3**\n",
    "\n",
    "1: 6 digits\n",
    "\n",
    "2: 16\n",
    "\n",
    "3: 16\n",
    "\n",
    "4: 16\n",
    "\n",
    "Essentially we have an algorithm that gets \"stuck\" at a not very accurate value and is relatively useless for anything with high precision, a linear algorithm that continually adds more digits of precision, and then the algorithm that jumps almost immediately to the limit of double precision. Clearly the third algorithm could be used for much higher precision work, if someone was willing to put in the effort to simplify it. (Or just use what we made above.) "
   ]
  }
 ],
 "metadata": {
  "kernelspec": {
   "display_name": "Python 3 (ipykernel)",
   "language": "python",
   "name": "python3"
  },
  "language_info": {
   "codemirror_mode": {
    "name": "ipython",
    "version": 3
   },
   "file_extension": ".py",
   "mimetype": "text/x-python",
   "name": "python",
   "nbconvert_exporter": "python",
   "pygments_lexer": "ipython3",
   "version": "3.8.8"
  }
 },
 "nbformat": 4,
 "nbformat_minor": 5
}
