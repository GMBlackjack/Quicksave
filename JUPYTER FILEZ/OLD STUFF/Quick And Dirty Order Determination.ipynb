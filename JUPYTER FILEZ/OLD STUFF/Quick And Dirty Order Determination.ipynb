{
 "cells": [
  {
   "cell_type": "markdown",
   "id": "10ffd006",
   "metadata": {},
   "source": [
    "# Quick and Dirty Order Determination\n",
    "**Gabriel M Steward**\n",
    "\n",
    "**Dec 2022**"
   ]
  },
  {
   "cell_type": "markdown",
   "id": "551f6f43",
   "metadata": {},
   "source": [
    "Leading error terms can be written as $E = Ax^m$, where E is the error, A is some constant, x is the variable (step size), and m is the order of the leading error term. In our code, we can set a step size x however we wish, and that will directly lead to an error term for the first step. \n",
    "\n",
    "$$ E_1 = Ax_1^m ; E_2 = Ax_2^m $$\n",
    "\n",
    "Say we take two different step sizes and get errors from them. Can we then figure out what m is? Well, if we select one of the step sizes to be precisely half of the other, letting $x_1 = x_2/2$, we can get...\n",
    "\n",
    "$$ A = \\frac{E_1}{x_2^m / 2^m} = \\frac{E_2}{x_2^m} $$\n",
    "$$ \\Rightarrow \\frac{E_1}{E_2} = \\frac{1}{2^m} $$\n",
    "$$ \\Rightarrow \\frac{E_2}{E_1} = 2^m $$\n",
    "$$ \\Rightarrow m = log_2 \\frac{E_2}{E_1} $$\n",
    "\n",
    "Which suggests a way to find the order, assuming that the ordered term is dominant. Any discrepancies from an integer answer for m can be attributed to higher order terms. "
   ]
  },
  {
   "cell_type": "code",
   "execution_count": null,
   "id": "e3a97b5a",
   "metadata": {},
   "outputs": [],
   "source": []
  }
 ],
 "metadata": {
  "kernelspec": {
   "display_name": "Python 3 (ipykernel)",
   "language": "python",
   "name": "python3"
  },
  "language_info": {
   "codemirror_mode": {
    "name": "ipython",
    "version": 3
   },
   "file_extension": ".py",
   "mimetype": "text/x-python",
   "name": "python",
   "nbconvert_exporter": "python",
   "pygments_lexer": "ipython3",
   "version": "3.7.9"
  }
 },
 "nbformat": 4,
 "nbformat_minor": 5
}
