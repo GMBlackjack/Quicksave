{
 "cells": [
  {
   "cell_type": "markdown",
   "id": "0c1bfe81",
   "metadata": {},
   "source": [
    "# PHYS111 Fall 2022 Homework 1 Answers\n",
    "\n",
    "## Gabriel M Steward"
   ]
  },
  {
   "cell_type": "markdown",
   "id": "56664bc2",
   "metadata": {},
   "source": [
    "<a id='toc'></a>\n",
    "\n",
    "# Table of Contents\n",
    "$$\\label{toc}$$\n",
    "\n",
    "[Problem 1](#P1) (Quadratic Equation)\n",
    "\n",
    "[Problem 2](#P2) (Simpler Equation)\n",
    "\n",
    "[Problem 3](#P3) (System of Equations)\n",
    "\n",
    "[Problem 4](#P4) (Second System of Equations)\n",
    "\n",
    "[Problem 5](#P5) (Hypotenuse Trigonometry)\n",
    "\n",
    "[Problem 6](#P6) (Significant Figures)\n",
    "\n",
    "[Problem 7](#P7) (Decimal Hours)\n",
    "\n",
    "[Problem 8](#P8) (Personal Heights)\n",
    "\n",
    "[Problem 9](#P9) (Adjusting the Speed of Sound)\n",
    "\n",
    "Note: internal links may not work in PDF version. "
   ]
  },
  {
   "cell_type": "markdown",
   "id": "cd9e5529",
   "metadata": {},
   "source": [
    "<a id='P1'></a>\n",
    "\n",
    "# Problem 1 \\[Back to [top](#toc)\\]\n",
    "$$\\label{P1}$$\n",
    "\n",
    "*Solve the following equation for x. $x^2 - 4x + 2 = 24$*\n",
    "\n",
    "Subtract 24 from both sides so the equation is in the general quadratic form $ax^2 + bx + c = 0$.\n",
    "\n",
    "$$ x^2 - 4x - 22 = 0 $$\n",
    "\n",
    "Then plug into the quadratic equation $x = \\frac{-b \\pm \\sqrt{b^2-4ac}}{2a}$.\n",
    "\n",
    "$$ x = \\frac{4 \\pm \\sqrt{(-4)^2-4(1)(-22)}}{2(1)} $$\n",
    "\n",
    "Remember that there are two soluions, one for both options in $\\pm$.\n",
    "\n",
    "$$ \\boxed{x = \\frac{4 + \\sqrt{104}}{2}, \\frac{4 - \\sqrt{104}}{2}} $$\n",
    "\n",
    "This is a sufficient, exact answer. This roughly corresponds to x $\\approx$ 7.1 or -3.1. "
   ]
  },
  {
   "cell_type": "markdown",
   "id": "3dc10713",
   "metadata": {},
   "source": [
    "<a id='P2'></a>\n",
    "\n",
    "# Problem 2 \\[Back to [top](#toc)\\]\n",
    "$$\\label{P2}$$\n",
    "\n",
    "*Solve the following equation for x: 3x-5=20*\n",
    "\n",
    "Add 5 to both sides.\n",
    "\n",
    "$$ 3x = 25 $$\n",
    "\n",
    "Divide both sides by 3.\n",
    "\n",
    "$$ \\boxed{x = \\frac{25}{3}} $$\n",
    "\n",
    "This is the answer. Roughly equal to $8.3$"
   ]
  },
  {
   "cell_type": "markdown",
   "id": "529237d0",
   "metadata": {},
   "source": [
    "<a id='P3'></a>\n",
    "\n",
    "# Problem 3 \\[Back to [top](#toc)\\]\n",
    "$$\\label{P3}$$\n",
    "\n",
    "*Solve the following set of two equations: y-x = 3, x+y=5*\n",
    "\n",
    "There are multiple ways to do this. One is to use one equaiton and solve for one of the variables. Let's use y-x=3. Subtract x from both sides to get y=3+x. \n",
    "\n",
    "Now that we have y=3+x, we turn to the other equation, x+y=5. Replace y with the value we found, so x+(3+x) = 5. Add everything on the left side together, arriving at 2x+3 = 5. Subtract 3 from both sides to get 2x=2. Divide both sides by two to get x=1.\n",
    "\n",
    "Now that we have a specific value for x, we can find y by substituting x=1 into any equation. Let's use y-x=3. With the substitution, this becomes y-1=3. Add one to both sides to get y = 4. \n",
    "\n",
    "$$ \\boxed{x=1, y=4} $$"
   ]
  },
  {
   "cell_type": "markdown",
   "id": "e17a5d95",
   "metadata": {},
   "source": [
    "The other method works in a more general case for most systems of equations. Take both equations at once and add them together. Make sure all the x and y terms are lined up, as shown below. \n",
    "\n",
    "$$\n",
    "\\begin{align}\n",
    "(y - x =& 3) \\\\\n",
    "+ (y + x =& 5) \\\\\n",
    "\\Rightarrow (2y + 0 =& 8) \\\\\n",
    "\\end{align}\n",
    "$$\n",
    "\n",
    "Note that the x-terms cancel out, leaving us with a new equation 2y=8. Divide both sides by two to get y=4. \n",
    "\n",
    "Now that we have y=4 we can substitute it into x+y=5 like in the previous method to get x=1, the same answer.\n",
    "\n",
    "For this problem the first method was simpler, however not all equations will be solvable so quickly, so using the second method  is often better. Note that if adding (or subtracting) equations doesn't immediately work, it is always possible to multiply one of the equations by a constant and then combine it with the other one. It requries a bit more forethought but is also a more powerful technique. "
   ]
  },
  {
   "cell_type": "markdown",
   "id": "ef39aeb0",
   "metadata": {},
   "source": [
    "<a id='P4'></a>\n",
    "\n",
    "# Problem 4 \\[Back to [top](#toc)\\]\n",
    "$$\\label{P4}$$\n",
    "\n",
    "*Solve the following set of two equations for x and y: 3x-4=y; 2y-3x=1*\n",
    "\n",
    "Once again, I will do it both ways. This problem already has a convenient y=3x-4 in it, so we can just substitute that one into the second equation already. 2y-3x=1 becomes 2(3x-4)-3x=1. Multiplying through the 2 we get 6x-8-3x=1. Combining the like terms in x we get 3x-8=1. Add 8 to both sides to get 3x=9. Divide both sides by 3 to get x=3. \n",
    "\n",
    "Substitute x=3 back into the original equation to get 3(3)-4=y, which becomes 9-4=y and then 5=y.\n",
    "\n",
    "$$ \\boxed{x=3, y=5} $$\n",
    "\n",
    "As for the other method, we have to do some rearranging first. 3x-4=y is not in the same form as 2y-3x=1. Take 3x-4=y; add 4 to both sides and subtract y. After this, we get 3x-y=4. Now we can combine. \n",
    "\n",
    "$$\n",
    "\\begin{align}\n",
    "(3x - y =& 4) \\\\\n",
    "+ (-3x + 2y =& 1) \\\\\n",
    "\\Rightarrow (0 + y =& 5) \\\\\n",
    "\\end{align}\n",
    "$$\n",
    "\n",
    "Which already gives us y=5. Substituting this into 3x-4=y we find 3x-4=5 and then 3x=9 and x=3. Same answer as before. "
   ]
  },
  {
   "attachments": {
    "image.png": {
     "image/png": "[encoded data removed]"
    }
   },
   "cell_type": "markdown",
   "id": "c254a5e2",
   "metadata": {},
   "source": [
    "<a id='P5'></a>\n",
    "\n",
    "# Problem 5 \\[Back to [top](#toc)\\]\n",
    "$$\\label{P5}$$\n",
    "\n",
    "*Use the Pythagorean theorem to compute h, and then fined sin(x) and cos(x) in the following right triangle.*\n",
    "\n",
    "![image.png](attachment:image.png)"
   ]
  },
  {
   "cell_type": "markdown",
   "id": "dc4ac999",
   "metadata": {},
   "source": [
    "The Pythagorean Theorem states that $a^2 + b^2 = c^2$ where, in this case, c=h, the hypotenuse. Thus we have \n",
    "\n",
    "$$h^2 = 8^2 + 6^2 = 64 + 36 = 100$$\n",
    "\n",
    "It is well known that the square root of 100 is 10, so the hypotenuse is 10.\n",
    "\n",
    "$$ \\boxed{h=10} $$"
   ]
  },
  {
   "cell_type": "markdown",
   "id": "b633ae71",
   "metadata": {},
   "source": [
    "As for the trig functions, we can use the mnemonic \"SOHCAHTOA\" to figure out what they should be. \"SOH\" indicates that the Sine is the Opposite side over the Hypotenuse, or $sin(x) = \\frac{8}{10}$. \"CAH\" indicates that the Cosine is the Adjacent side over the Hypotenuse, or $cos(x) = \\frac{6}{10}$. These numbers can be evaluated exactly to\n",
    "\n",
    "$$ \\boxed{sin(x) = 0.8; cos(x) = 0.6} $$\n",
    "\n",
    "Extra Info: TOA would give the Tangent is the Opposite side over the Adjacent side, or $tan(x) = \\frac 86 = \\frac 43$, which does not evaluate to a neat number. (It's 1.33333 with an infinite number of 3s after the decimal point.) \n",
    "\n",
    "NOTE: usually you have to give units for a problem like this. However, units are not given in the problem, so you do not need to report them. \n",
    "\n"
   ]
  },
  {
   "cell_type": "markdown",
   "id": "7d6ecd65",
   "metadata": {},
   "source": [
    "<a id='P6'></a>\n",
    "\n",
    "# Problem 6 \\[Back to [top](#toc)\\]\n",
    "$$\\label{P6}$$\n",
    "\n",
    "*Write down how many significant digits are given for the following quantities.*\n",
    "\n",
    "*a) -540 $m/s^2$.*\n",
    "\n",
    "2 significant figures, trailing zeroes do not count. \n",
    "\n",
    "*b) 1404 m*\n",
    "\n",
    "4 significant figures. Zeroes in the middle do count.\n",
    "\n",
    "*c) -5.41 $\\times 10^{20}$ (or -5.41e20) kg*\n",
    "\n",
    "3 significant figures, the exponent does not mean anything in regards to how many sig figs there are.\n",
    "\n",
    "*d) 10000 N*\n",
    "\n",
    "1 sig fig. Trailing zeroes are nothing. \n",
    "\n",
    "*e) 54.3100 m*\n",
    "\n",
    "6 sig figs. Zeroes *after the decimal place* are significant; if they were not we would not write them down."
   ]
  },
  {
   "cell_type": "markdown",
   "id": "2d51db1b",
   "metadata": {},
   "source": [
    "<a id='P7'></a>\n",
    "\n",
    "# Problem 7 \\[Back to [top](#toc)\\]\n",
    "$$\\label{P7}$$\n",
    "\n",
    "*According to a car's GPS, it took 1 hour, 24 minutes, and 54 seconds total travel time to drive from Spokane, WA to Potlatch, ID. Convert this total travel time into hours, using 4 significant digits in your final answer.*\n",
    "\n",
    "First, convert seconds into minutes. There are 60 seconds in a minute. We have 54 seconds. So to find the number of minutes, we divide 54 by 60 to get 54/60, a fraction that represents \"how much of a minute we have.\" In decimal form, this is 0.9. \n",
    "\n",
    "Add this to our minutes, giving us 1 hour 24.9 minutes.\n",
    "\n",
    "Now we need to convert minutes to hours. Once agian, there are 60 minutes in an hour, so we divide by 60 to get the result 24.9/60. As a decimal, this is 0.415. \n",
    "\n",
    "Add this to our hours to get our total, 1.415 hours. \n",
    "\n",
    "$$\\boxed{1.415 \\text{ h}}$$\n",
    "\n",
    "Note that we noted the units. We also note that we were asked for 4 sig figs--but we already have 4, so there's no need to do anything to the answer. Also the answer makes sense: we have a little less than an hour and a half, which is reasonable based on what we know about how close the given time is to 1 hour 30 minutes. "
   ]
  },
  {
   "cell_type": "markdown",
   "id": "e385161d",
   "metadata": {},
   "source": [
    "<a id='P8'></a>\n",
    "\n",
    "# Problem 8 \\[Back to [top](#toc)\\]\n",
    "$$\\label{P8}$$\n",
    "\n",
    "*What is the height in meters of a person who is 6 ft 1 inch tall? (Assume that 1 meter equals 39.37 in)*\n",
    "\n",
    "First of all, convert the value we are given into one unit. It is most convenient to use inches, and we know that 1 ft is 12 inches, so 6 ft is 6*12 = 72 inches, so 6 ft 1 in is 73 inches. \n",
    "\n",
    "We are given 1 meter equals 39.37 inches, so if we divide our inches by 39.37, we will get how many meters it is. This produces a \"not nice\" decimal of 1.8542037... meters. Naturally, we need to truncate to the correct number of sig figs. It seems very likely that the 6 ft 1 inch value is an exact number, not a measruement with any precision, so we ignore the sig figs within it. We grab our significant figures from the assumed value we are provided: 39.37. It has numbers after the decimal point, which unless otherwise stated means it is not an exact value. As it has four significant figures, we determine that our answer should have four. Thus, we truncate to four places, giving us...\n",
    "\n",
    "$$ \\boxed{1.854 \\text{ m}} $$\n",
    "\n",
    "That's how tall the person is in meters. A little less than two, which is sensible for a human being. Note that we rounded the last decimal digit: 1.8542... became 1.854. The 2 was less than 5 so we rounded down. If it was 5 or greater, we would have roudned up to 1.855. \n",
    "\n",
    "A note: if we take 6 ft 1 in as a measurement and not an exact value, the number of sig figs will be 2. This is because we convert the number to 73 inches, which has two sig figs. There is a minor complication: we could also convert it into ft, which would make it 6.08333333.... ft going on forever. We cannot have an infinite level of precision from a measurement, though, so this is a case where a conversion could ruin us. However, note that the number 39.37 is given in inches, so we'd have to convert our new number back to inches anyway just to use it, or we'd have to convert 39.37! So it's much more reasonable to use the inches value. If you take it as a measured value, then the answer is 1.9 m."
   ]
  },
  {
   "cell_type": "markdown",
   "id": "a6dc7aff",
   "metadata": {},
   "source": [
    "<a id='P9'></a>\n",
    "\n",
    "# Problem 9 \\[Back to [top](#toc)\\]\n",
    "$$\\label{P9}$$\n",
    "\n",
    "*The speed of sound is measured to be 342 m/s on a certain day. What is this in km/h?*\n",
    "\n",
    "First, we need to gather our information. 1 km = 1000 m, and 1 h = 60 m = 3600 s (where we found the number of seconds by multiplying the minutes by the number of seconds per minute, or 60*60). \n",
    "\n",
    "When dealing with composit eunits, it's best to either focus on the top or bottom of the fraction bar first. Let's take the top. If we want to convert from meters to kilometers, we need to divide by 1000. \n",
    "\n",
    "$$ 342 \\frac ms = \\frac{342}{1000} \\frac{km}{s}= 0.342 \\frac{km}{s} $$\n",
    "\n",
    "Now we need to convert seconds to hours. This too can be accomplished by \"dividing\" by the conversion number, 3600 in this case. However, the seconds unit is on the bottom of the fraction bar, and if we divide something in the denominator it becomes a multiplicaiton to the fraciton as a whole. Writing it out fully:\n",
    "\n",
    "$$ 0.342 \\frac{km}{s} = 0.342 \\frac{km}{h \\frac {1}{3600}} = 0.342(3600) \\frac{km}{h} = 1231.2 \\frac{km}{h} $$\n",
    "\n",
    "Now this isn't quite right, as we now have 5 sig figs when the original given measurement was 3 sig figs. So we convert to 3, giving us...\n",
    "\n",
    "$$ \\boxed{1230 \\frac{km}{h}} $$"
   ]
  }
 ],
 "metadata": {
  "kernelspec": {
   "display_name": "Python 3 (ipykernel)",
   "language": "python",
   "name": "python3"
  },
  "language_info": {
   "codemirror_mode": {
    "name": "ipython",
    "version": 3
   },
   "file_extension": ".py",
   "mimetype": "text/x-python",
   "name": "python",
   "nbconvert_exporter": "python",
   "pygments_lexer": "ipython3",
   "version": "3.7.9"
  }
 },
 "nbformat": 4,
 "nbformat_minor": 5
}
