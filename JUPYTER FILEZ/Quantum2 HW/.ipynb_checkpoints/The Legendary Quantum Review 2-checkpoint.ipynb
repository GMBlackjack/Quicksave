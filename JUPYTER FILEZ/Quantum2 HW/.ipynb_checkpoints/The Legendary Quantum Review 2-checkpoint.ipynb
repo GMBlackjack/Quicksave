{
 "cells": [
  {
   "cell_type": "markdown",
   "id": "ef480a98",
   "metadata": {},
   "source": [
    "# The Legendary Quantum Review 2\n",
    "### Electric Boogaloo"
   ]
  },
  {
   "cell_type": "markdown",
   "id": "864151d3",
   "metadata": {},
   "source": [
    "## Orbital Angular Momentum"
   ]
  },
  {
   "cell_type": "markdown",
   "id": "88d523e7",
   "metadata": {},
   "source": [
    "#### Spherical Coordinates\n",
    "\n",
    "Just remember that we use $(r,\\theta,\\phi)$ format, which is (radius, veritical angle, xy-plane angle). Since we weren't told to review it I won't go into any more detail about it."
   ]
  },
  {
   "cell_type": "markdown",
   "id": "96e84c54",
   "metadata": {},
   "source": [
    "#### Angular Momentum Operators"
   ]
  },
  {
   "cell_type": "markdown",
   "id": "9e60c28a",
   "metadata": {},
   "source": [
    "$$ \\vec{L} = \\vec{r} \\times \\vec{p} = \\epsilon_{ijk}\\hat{e}_ir_jp_k $$\n",
    "\n",
    "Or the cross product of radius and momentum. This is **Hermitian.**\n",
    "\n",
    "Our friend the special Levi-Civita tensor $\\epsilon_{ijk}$ is defined as 1 if ikj is a cyclic perutation, -1 if it is not, and 0 otherwise. However, I vasly prefer thinking of it like this: +1 is *ascending* order, -1 is *descending* order, and 0 is everything else: 123, 312, 231 are +1; 321, 213, and 132 are -1. Everything else (i.e. it has duplicates) is 0.\n",
    "\n",
    "Commutation relations aplenty:\n",
    "\n",
    "$[L_i,r_j] = i\\hbar\\epsilon_{ijl}r_l ; [L_i,p_j] = i\\hbar\\epsilon_{ijk}p_k ; [L_i,L_j] = i\\hbar\\epsilon_{ijl}L_l ; [L_i,r^2] = 0 ; [L_i,p^2] = 0 ; [L_i,f(r)] = 0  ; [L_i,H] = 0 $"
   ]
  },
  {
   "cell_type": "markdown",
   "id": "badd9e3d",
   "metadata": {},
   "source": [
    "$L^2$ is the square angular momentum and is very very useful. It's also a little odd, as you can show that $L^2=L_jL_j=L_x^2+L_y^2+L_z^2$\n",
    "\n",
    "$L^2$ and $L_i$ commute so their commutator is zero. \n",
    "\n",
    "H, $L^2$, and $L_i$ are compatible for any one i. We tend to use $L_z$ because it's the simplest, after all, \n",
    "\n",
    "$$L_z = -i\\hbar \\frac{\\partial}{\\partial\\phi}$$"
   ]
  },
  {
   "cell_type": "markdown",
   "id": "b6dfd9a2",
   "metadata": {},
   "source": [
    "$L_+$ and $L_-$ are the raising and lowering operators for angular momentum. We define them as\n",
    "\n",
    "$$L_\\pm = L_x\\pm iL_y$$\n",
    "\n",
    "They are each the other's respective Hermitian Conjugate. \n",
    "\n",
    "More Commutators:\n",
    "\n",
    "$[L_z,L_\\pm] = \\pm\\hbar L_\\pm ; [L^2,L_\\pm] = 0$\n",
    "\n",
    "Bonus: Define $L_x$ and $L_y$ in terms of the raising and lowering operators.\n",
    "\n",
    "$$L_x = \\frac{L_+ - L_-}{2};L_y = \\frac{L_+ - L_-}{2i}$$"
   ]
  },
  {
   "cell_type": "markdown",
   "id": "88161055",
   "metadata": {},
   "source": [
    "#### Angular Momentum Eigenvalue Problems"
   ]
  },
  {
   "cell_type": "markdown",
   "id": "cfa02fd0",
   "metadata": {},
   "source": [
    "The eigenvalue problems for angular momentum are generally stated as follows:\n",
    "\n",
    "$$H\\psi = E\\psi ; L^2\\psi = \\lambda \\hbar^2\\psi; L_z\\psi = m\\hbar\\psi$$\n",
    "\n",
    "In the absolute most general sense. I don't think we work with these very often, though, but from this we get the familiar $\\psi=RY$ where we have the radial component R and the angualr component Y—and we know Y is the spherical harmonic of some kind. \n",
    "\n",
    "Keep in mind this only applies for center-seeking potentials, but it's not like we're going to look at anything that isn't spherical today. Since we're likely not going to be asked to re-derive the spherical harmonics or radial function, we won't be worrying about the fine details. Overall, separate your wavefunction into RY and then work each part separately with separation of variables.\n",
    "\n",
    "Remember, the spherical hamiltonian can be funky Written out, HR=ER becomes\n",
    "\n",
    "$$ \\left[ -\\frac{\\hbar^2}{2mr^2} \\frac{\\partial}{\\partial r} \\left( r^2 \\frac{\\partial}{\\partial r} \\right) + \\frac{\\lambda \\hbar^2}{2mr^2}+V \\right]R = ER $$\n",
    "\n",
    "We will deal with R more closely in a later section. \n",
    "\n",
    "We can also get some more precise eigenvalues of the spherical harmonics Y. $L^2Y_{lm}= l(l+1)\\hbar^2 Y_{lm} ; L_zY_{lm} = m\\hbar Y_{lm}$. This is, utlimately, where the quantum numbers l and m come from. We also have $L_\\pm Y_{lm} = \\hbar\\sqrt{(l\\mp 1)(l \\pm m + 1)}Y_{l,m\\pm 1}$\n",
    "\n",
    "l ranges from 0 to whatever value the system allows (can keep growing) while m ranges along plus or minus l. "
   ]
  },
  {
   "cell_type": "markdown",
   "id": "e73746c7",
   "metadata": {},
   "source": [
    "**Spherical Harmonics**\n",
    "\n",
    "Not told to review but they are a rather fundamental part of the eigenvalue problems, so here they are. The spherical harmonics are given as $Y_{lm}$ (Or in some texts as $Y^l_m$, characterized by the quantum numbers l and m. The actual definitions are a little odd, especially when you factor in the m quantum mumber. However, we do have a relatively decent formula for $Y_{ll}$ where the two numbers are equal, and then we can use the raising and lowering operators to find the others. \n",
    "\n",
    "$$Y_{ll} = \\sqrt{\\frac{(2l+1)!}{4\\pi(2^ll!)^2}}sin^l\\theta e^{il\\phi}$$\n",
    "\n",
    "More in general \n",
    "\n",
    "$$Y_{lm} = \\Theta_{lm}(\\theta) \\frac{1}{\\sqrt{2\\pi}} e^{im\\phi}$$\n",
    "\n",
    "Yes that function in front is a little annoying to find, but that's what the next section is about. \n",
    "\n",
    "Sometimes helpful to know that $Y_{00} = 1/\\sqrt{4\\pi}$ and $Y_{10} = \\sqrt{3/4\\pi} cos\\theta$\n",
    "\n",
    "And to find negative we note that $Y_{lm} = (-1)^m Y^*_{l,-m}$"
   ]
  },
  {
   "cell_type": "markdown",
   "id": "a7524452",
   "metadata": {},
   "source": [
    "#### Legendre Polynomials\n",
    "\n",
    "Given by $P_l{(\\xi)}$. The first few are $P_0=1, P_1=\\xi, P_2=(1/2)(3\\xi^2-1)$. \n",
    "\n",
    "The more precise statement is $$P_l(\\xi)=\\frac{1}{2^ll!} \\frac{d^l}{d\\xi^l} (\\xi^2-1)^l$$\n",
    "\n",
    "These polynomials are important for they solve a very particular differnetial equation\n",
    "\n",
    "$$ \\left[ \\frac{d}{d\\xi} \\left( (1-\\xi^2) \\frac{d}{d\\xi} \\right) + l(l+1) \\right] \\Theta_{l0} = 0 $$\n",
    "\n",
    "Which is another way to get at the spherical harmonic. Do note that $\\Theta$ is only proportional to the Legandre Polynomials, which just means they are not normalized. \n",
    "\n",
    "The Legandre polynomials are only defined on -1 to 1 and are orthogonal, meaning\n",
    "\n",
    "$$ \\int^1_{-1} P_{l'}P_ld\\xi = \\frac{2}{2l+1} \\delta_{l'l}$$\n",
    "\n"
   ]
  },
  {
   "cell_type": "markdown",
   "id": "670f8827",
   "metadata": {},
   "source": [
    "#### Associated Legendre Functions\n",
    "\n",
    "The Legandre Polynomials may not be normalized, but that doesn't mean we can force them into a form we want them to be. We can define\n",
    "\n",
    "$$ P_l^m(\\xi) = (-1)^m (1-\\xi^2)^{m/2} \\frac{d^m}{d\\xi^m} P_l(\\xi) $$\n",
    "\n",
    "Though this one only works for positive and 0 m. This next one works on the full range. \n",
    "\n",
    "$$ P_l^m(\\xi) = (-1)^m \\frac{(1-\\xi^2)^{m/2}}{2^ll!} \\frac{d^{l+m}}{d\\xi^{l+m}} (\\xi^2-1)^l $$\n",
    "\n",
    "Y spherical harmonics are directly proportional to $P_l^m(cos\\theta)e^{im\\phi}$\n",
    "\n",
    "With these Legnedre Functions we are finally ready to fully define the Spherical Harmonics. For positive m:\n",
    "\n",
    "$$Y_{lm} = \\sqrt{\\frac{(2l+1)(l-m)!}{4\\pi (l+m)!}} P_l^m(cos\\theta)e^{im\\phi}$$ "
   ]
  },
  {
   "cell_type": "markdown",
   "id": "bf8b3325",
   "metadata": {},
   "source": [
    "#### Addition Theorem"
   ]
  },
  {
   "cell_type": "markdown",
   "id": "b26a7c0c",
   "metadata": {},
   "source": [
    "Given two radial vectors **r** and **r'** with an angle $\\gamma$ between them, \n",
    "\n",
    "$$P_l(cos\\gamma) = \\frac{4\\pi}{2l+1} \\sum_{m=-l}^l Y^*_{lm}(\\theta',\\phi')Y_{lm}(\\theta,\\phi)$$\n",
    "\n",
    "Which has as a corollary: $cos\\gamma = cos\\theta cos\\theta' + sin\\theta sin\\theta' cos(\\phi-\\phi')$\n",
    "\n",
    "Now, what is this relation used for? I haven't the FOGGIEST idea why we'd need to use it. But it's a way to relate angles together, and to find the angle between two radial coordinate vectors. Seems largely unrelated to quantum mecahnics, though. "
   ]
  },
  {
   "cell_type": "markdown",
   "id": "4c2d7b8f",
   "metadata": {},
   "source": [
    "## 3D Systems"
   ]
  },
  {
   "cell_type": "markdown",
   "id": "0777420f",
   "metadata": {},
   "source": [
    "#### Radial and Modified Radial Wave Equations and Functions"
   ]
  },
  {
   "cell_type": "markdown",
   "id": "c1b371af",
   "metadata": {},
   "source": [
    "So when we were solving the eigenvalue problems earlier, we ended up with R and Y. We've worked out Y satisfactorily, but what about R? Well, let's go back to our equation from before, but add some indeces to it.\n",
    "\n",
    "$$ \\left[ -\\frac{\\hbar^2}{2mr^2} \\frac{\\partial}{\\partial r} \\left( r^2 \\frac{\\partial}{\\partial r} \\right) + \\frac{l(l+1) \\hbar^2}{2mr^2}+V \\right]R_{nl}(r) = E_{nl}R_{nl}(r) $$\n",
    "\n",
    "alternatively\n",
    "\n",
    "$$ \\left[ -\\frac{\\hbar^2}{2mr^2} \\frac{1}{r} \\frac{d^2}{d r^2} r + \\frac{l(l+1) \\hbar^2}{2mr^2}+V \\right]R_{nl}(r) = E_{nl}R_{nl}(r) $$\n",
    "\n",
    "For ease of math we often like to use the modified wave function, $u_{nl}(r) = rR_{nl}(r)$\n",
    "\n",
    "$$ \\left[ -\\frac{\\hbar^2}{2mr^2} \\frac{d^2}{d r^2} + \\frac{l(l+1) \\hbar^2}{2mr^2}+V \\right]u_{nl}(r) = E_{nl}u_{nl}(r) $$\n",
    "\n",
    "And to simplify it even further we combine two terms into an effective potential. \n",
    "\n",
    "$$ \\left[ -\\frac{\\hbar^2}{2mr^2} \\frac{d^2}{d r^2} + V_{eff} \\right]u_{nl}(r) = E_{nl}u_{nl}(r) $$\n",
    "\n",
    "Pick whichever of the above floats your boat or your math at any given time."
   ]
  },
  {
   "cell_type": "markdown",
   "id": "ffbe08c7",
   "metadata": {},
   "source": [
    "#### Boundary Conditions (+ Asymptotic Behavior)"
   ]
  },
  {
   "cell_type": "markdown",
   "id": "1994ca57",
   "metadata": {},
   "source": [
    "To solve in specifics, we have to start applying conditions to our equations. We range from 0 to infinity on r, there are no negative values in the spherical coordinates. \n",
    "\n",
    "1) Require H to be Hermitian.\n",
    "\n",
    "2) Must be normalized. \n",
    "\n",
    "3) At infinity, apply physical boundary conditions. (Generally has to go to zero all the way out here.) \n",
    "\n",
    "4) At 0, in most cases u(0) = 0. However, not always, the full condition is:\n",
    "\n",
    "$$ lim_{r \\rightarrow 0} \\left( u^*_1 \\frac{du_2}{dr}-\\frac{du_1}{dr}^*u_2 \\right) = 0 $$\n",
    "\n",
    "Then there's also the usual boundary conditions if the potential is something funky. \n",
    "\n",
    "In the case of piecewise particles, continuity of the wavefunction still holds. \n",
    "\n",
    "These conditions are sometimes considered asymptotic behaviors as they involve limits. \n",
    "\n",
    "If E < V for a section that goes to infinity, it must go to zero out there. (part of point 3) "
   ]
  },
  {
   "cell_type": "markdown",
   "id": "1f910086",
   "metadata": {},
   "source": [
    "#### Bessel Functions"
   ]
  },
  {
   "cell_type": "markdown",
   "id": "c21a00b8",
   "metadata": {},
   "source": [
    "Bessel Functions arise when solving the radial equation for constant potential. When the substitution $u_l(r) = u_l(\\rho/k) = \\sqrt{\\rho}v_l(\\rho)$ a differential equation arises:\n",
    "\n",
    "$$ \\frac{d^2v_l}{d\\rho^2} + \\frac{1}{\\rho} \\frac{dv_l}{d\\rho} + \\left[ 1-\\frac{l(l+1)+1/4}{\\rho^2} \\right] v_l = 0 $$\n",
    "\n",
    "The solution to which is Bessel's Equation $v_l = AJ_v(\\rho) + BN_v(\\rho)$ where J and N are bessel functions of the first kind. Lowercase versions are called the spherical bessel functions. \n",
    "\n",
    "We note that the notes on the slides are terrible for describing what the bessel functions actually are. This is because the actual representation of a Bessel Function is pain incarnate:\n",
    "\n",
    "$$ J_v(x) = \\sum_{n=0}^\\inf \\frac{(-1)^n}{n!\\Gamma(n+v+1)} (x/2)^{2n+av} $$\n",
    "\n",
    "So perhaps we don't use this. What we will note about the Bessel Functions are their properties. The J-functions start at finite or zero values and then oscillate, attenuating towards zero very slowly and crossing the x-axis multiple times. The SECOND kind of bessel function, the N-functions, are oftne useless since they start at negative infinity, which is a discontinuity at 0, which we can't have for any system that goes to r=0.But we can say the answer to the radial equation is:\n",
    "\n",
    "$$R_l = A\\sqrt{\\rho} J_{l+1/2}(\\rho) + B\\sqrt{\\rho} N_{l+1/2}(\\rho)$$"
   ]
  },
  {
   "cell_type": "markdown",
   "id": "5d5c4a42",
   "metadata": {},
   "source": [
    "Oftentimes it's better to just use the spherical bessel functions instead. They are given by the following when the indeces work out:\n",
    "\n",
    "$$ j_l(\\rho) = (\\pi / 2\\rho)^{1/2} J_{l+1/2}(\\rho) $$\n",
    "\n",
    "$$ n_l(\\rho) = (\\pi / 2\\rho)^{1/2} N_{l+1/2}(\\rho)  $$\n",
    "\n",
    "These derived functions are the actual solution to R.\n",
    "\n",
    "$$ R_l(r) = Aj_l(kr) + Bn_l(kr)$$ \n",
    "\n",
    "We also have to consider another set of functions: the Henkel Funtions, which are derived from the Spherical Bessel Functions\n",
    "\n",
    "$$h_l^{(1,2)} = j_l(\\rho) \\pm in_l(\\rho) $$\n",
    "\n",
    "Which can be used to solve for the bound states. \n",
    "\n",
    "$$ R_l(r) = A'h_l^{(1)}(i \\kappa r) + B'h_l^{(2)}(i\\kappa r)$$ \n",
    "\n",
    "REMEMBER: if the answer includes r=0, the N-functions do have to be removed. "
   ]
  },
  {
   "cell_type": "markdown",
   "id": "5721b439",
   "metadata": {},
   "source": [
    "Some approximations. \n",
    "\n",
    "When the argument is small, $j_l \\approx\\rho^l$ and $n_l \\approx \\rho^{-l-1}$\n",
    "\n",
    "When the argument is large, $j_l \\approx (1/x)cos(x-(l+1)\\pi/2)$ while $n_l \\approx (1/x)sin[x-(l+1)\\pi/2]$ and $h_l^{(1,2)} \\approx (1/x)e^{\\pm i[x-(l+1)\\pi/2]}$\n",
    "\n",
    "The 0th order functions are $j_0 = sinx/x$ and $n_0 = -cosx/x$ and $h_0^{(1)} = e^{ix}/ix$"
   ]
  },
  {
   "cell_type": "markdown",
   "id": "6fc7c322",
   "metadata": {},
   "source": [
    "The Spherical Bessel Function can, in fact, be represented as an integral. \n",
    "\n",
    "$$ j_l(Z) = \\frac{1}{2i^l} \\int_{-1}^1 e^{iz\\xi} P_l(\\xi) d\\xi $$"
   ]
  },
  {
   "cell_type": "markdown",
   "id": "47f14771",
   "metadata": {},
   "source": [
    "#### Free Particle Solutions"
   ]
  },
  {
   "cell_type": "markdown",
   "id": "5f715172",
   "metadata": {},
   "source": [
    "R for the free particle is some constant $C_{El} j_l(kr)$.\n",
    "\n",
    "$$ C_{El} = \\sqrt{\\frac{2mk}{\\pi \\hbar^2}} $$"
   ]
  },
  {
   "cell_type": "markdown",
   "id": "db7f5b59",
   "metadata": {},
   "source": [
    "#### Spherical Expansion of Plane Waves\n",
    "\n",
    "Somehow used in the above Free Particle solutions, this states that:\n",
    "\n",
    "$$e^{i\\vec{k} \\cdot \\vec{r}} = 4 \\pi \\sum_{lm} i^l j_l(kr) Y^1_{lm} (\\hat{k}) Y_{lm} (\\hat{r})$$\n",
    "\n",
    "Which essentially just means that plane waves (on the left) can be written in terms of spherical harmonics (on the right). "
   ]
  },
  {
   "cell_type": "markdown",
   "id": "4d6a3c49",
   "metadata": {},
   "source": [
    "#### Two-Body Systems"
   ]
  },
  {
   "cell_type": "markdown",
   "id": "58eaba08",
   "metadata": {},
   "source": [
    "The most important part of a 2-body system is the ability to transform it into a one-body problem. Our friend here is the reduced mass:\n",
    "\n",
    "$$ \\mu = \\frac{m_1m_2}{m_1+m_2}$$\n",
    "\n",
    "Which allows us to write a general two-body hamiltonian.\n",
    "\n",
    "$$ H = -\\frac{\\hbar^2}{2M} \\nabla^2_R - \\frac{\\hbar^2}{2\\mu} \\nabla_r^2 + V $$\n",
    "\n",
    "Gotta keep in mind here, M is the total mass, R is the center of mass, and r is just $\\vec{r_1} - \\vec{r_2}$, that is, the distance between them. (This generally gets a lot neater if you fix one of them at the origin). The above hamiltonian is separated into functions of R and r, so if we separate our wavefunction into $\\phi\\psi$ we get the following system of equations\n",
    "\n",
    "$$-\\frac{\\hbar^2}{2M} \\nabla^2_R  \\phi(\\vec{R}) = E_{cm}\\phi(\\vec{R}) $$\n",
    "\n",
    "$$(- \\frac{\\hbar^2}{2\\mu} \\nabla_r^2 + V)\\psi(\\vec{r}) = E\\psi(\\vec{r})$$ \n",
    "\n",
    "Total energy is $E+E_{cm}$. When one mass is much larger than the other one, the smaller mass is the reduced mass (makes sense why they call it reduced mass, huh?) When the masses are equal the reduced mass is just m/2. "
   ]
  },
  {
   "cell_type": "markdown",
   "id": "eeaef139",
   "metadata": {},
   "source": [
    "#### Hydrogenic Ions\n",
    "\n",
    "So, hydrogenic ions are nucleuses with Z protons in them and only 1 electron. Their solutions become the solutions for hydrogen at Z=1. \n",
    "\n",
    "The potential for a Hydrogenic ion is $-Ze^2/r$, which one remembers is essentially the coulomb potential. The potnetial produced by a proton is e/r, so by Z protons is Ze/r. Then the electron comes in with a charge of -e and interacts with the potential, resulting in what we have. \n",
    "\n",
    "Then proceed to solve the radial wave equation (use the modified \"u\" version). To get a sense of scale, we define $\\xi = r/a_0$ where $a_0$ is the Bohr Radius, which is to say the effective size of our atom. It's defined more specifically as $a_0 = \\hbar^2/Z\\mu e^2$. For Z=1 it's about equal to half an angstrom. \n",
    "\n",
    "This will result in an annoying term out in front of E. Just replace the entire E term with $\\epsilon$, whatever it may be for the problem in question. \n",
    "\n",
    "The energy is $E = Z^2 \\frac{\\mu e^4}{2 \\hbar^2}$\n",
    "\n",
    "We note that the more protons, the tighter the electron is bound and the smaller the ion gets. \n"
   ]
  },
  {
   "cell_type": "markdown",
   "id": "c786cad2",
   "metadata": {},
   "source": [
    "#### Associated Laguerre Polynomials\n",
    "\n",
    "When working with hydrogen and trying to solve the radial wave function for eigenvalues (specifically solving $v_{nl}(\\xi)$), a differential equation arises of the Leguerre differnetial euation form. (Not writing it down because if it's important to know what it looks like we are all really doomed.) From this, we establish that $v_nl(\\xi) \\approx L_{n-l-1}^{2l+1}(2\\xi/n)$. \n",
    "\n",
    "$$L_k^\\alpha(t) = \\sum_{v=0}^k \\binom{k+a}{k-v} \\frac{(-t)^v}{v!}$$\n",
    "\n",
    "Some specific cases include $L_0^\\alpha = 1, L_1^\\alpha = 1+\\alpha-t$. \n",
    "\n",
    "Alternatively stated by\n",
    "\n",
    "$$L_k^\\alpha = e^t \\frac{t^{-\\alpha}}{k!} \\frac{d^k}{dt^k} (e^{-t}t^{k+a})$$\n",
    "\n",
    "The Laguerre Polynomials are orthogonal. \n",
    "\n",
    "After this you can construct the complete hydrogen radial solution. Here it is in its entirity:\n",
    "\n",
    "$$ u_{nl}(r) = \\left( \\frac{1}{\\sqrt{2na_0}} (\\frac2n)^{l+3/2} \\left[ \\Gamma(2l+2) \\binom{n+1}{n-l-1} \\right]^{-1/2} \\right) e^{-r/na_0} (\\frac{r}{a_0})^{l+1} L_{n-l-1}^{2l+1}(2r/na_0) $$\n",
    "\n",
    "The big massive part in parenthesis is the normalization constant. Do note this is solved for u, not R. "
   ]
  },
  {
   "cell_type": "markdown",
   "id": "37bff069",
   "metadata": {},
   "source": [
    "Some properties:\n",
    "\n",
    "$u_{nl}$ has n-l-1 nodes. \n",
    "\n",
    "u functions are orthogonal by n, but NOT by l.\n",
    "\n",
    "As n becomes larger, u falls off more slowly with r.\n",
    "\n"
   ]
  },
  {
   "cell_type": "markdown",
   "id": "c44fe5ed",
   "metadata": {},
   "source": [
    "#### Charmonium\n",
    "\n",
    "Basically, all this is saying is that the math we used for the hydrogen atom can also work on other two particle systems. \n",
    "\n",
    "Generally the quarks are considered confined, so V must approach infinity at large r.\n",
    "\n",
    "The short distance interaction is roughly Coulombetric. (This is a massive oversimplification)\n",
    "\n",
    "There are two models for V here: Cornell's $V=-\\alpha/r + a^2r + C$ or the much simpler linear model V=a^2r. We like the linear model, it is our friend. \n",
    "\n",
    "The steps for solving are genreally the same. Use the modified radial equaiton, solve for u. (in this slides we only considered l=0 case). We eventually shove everything into the form of a differential equation (as is the case with basically everything we do) which has solutions of the Airy Functions Ai and Bi."
   ]
  },
  {
   "cell_type": "markdown",
   "id": "3f2d06fa",
   "metadata": {},
   "source": [
    "#### Airy Functions\n",
    "\n",
    "Guess what. The slides say basically nothing about these functions. And we never used them. So I don't know why studying them is here. They take the same role as the Bessel functions.\n",
    "\n",
    "Bi goes to infinity at infinity, so it can usually be cut out when considering infinite potentials. (Which Charmonium is)."
   ]
  },
  {
   "cell_type": "markdown",
   "id": "f0e520b8",
   "metadata": {},
   "source": [
    "#### A General Consideration of 3D Syestms\n",
    "\n",
    "First of all, you have a given potential that's spherically symmetric. That's when you know you can use these methods.\n",
    "\n",
    "You know the wavefunction will take the form RY. \n",
    "\n",
    "Y, the Spherical Harmonics, do not care about the potential, only l and m, and so are the same every time.\n",
    "\n",
    "R, the Radial Function, deeply depends on the potential. Use the radial wave equation or modified radial wave equation until you can force it into a differential equation form you recognize (or can solve directly, which is even nicer.) \n",
    "\n",
    "Most often the differential equation will be solvable by some known family of functions. Just... know what they are, in general. Bessel, Spherical Bessel, Laguerre, and Airy. (The Spherical Harmonics make use of Legendre Functions.)"
   ]
  },
  {
   "cell_type": "markdown",
   "id": "746df8c8",
   "metadata": {},
   "source": [
    "## Identical Particles"
   ]
  },
  {
   "cell_type": "markdown",
   "id": "a83a6a3b",
   "metadata": {},
   "source": [
    "#### Bosons and Fermions\n",
    "\n",
    "A boson can occupy the same energy state as a neighbor. \n",
    "\n",
    "A fermion cannot. This is the basis of so many strange effects. \n",
    "\n",
    "Probability density cannot change when you swap identical particles: |1>|2> = |2>|1>, wave function can only change by phase. \n",
    "\n",
    "And the only phase factors found in nature are +1 for bosons and -1 for fermions. \n",
    "\n",
    "You can tell bosons and fermions apart by their spin. Bosons have integer spin, while fermions have half integer spin. This is provable, just not in nonrelativistic quantum mechanics, for some reason.\n",
    "\n",
    "We can consider each quantum state as a bunch of states for each particle all stacked up like |1,2,3,...,n> etc. This is called a Tensor Product. "
   ]
  },
  {
   "cell_type": "markdown",
   "id": "86d7ada9",
   "metadata": {},
   "source": [
    "#### (Anti)Symmetrization\n",
    "\n",
    "P is used to represent an operator that rearranges the order of eigenstates in a tensor product. The most commonly seen one is $P_{ij}$ which interchanges the i and j states. Naturally, these P operators form a group, specifically the permuation group for N objects. There are N! elements (or operators) in this group, one for each way of shuffling the states around. For instance, in a 3-state system, there would be an operator that would take \"123\" to all of these states:\n",
    "\n",
    "\"123\" (identity) \"132\" (where 2 and 3 were i and j) \"213\" \"231\" \"312\" \"321\" and that's all of them that can be reached, so there are 6 operators in the 3-order group. \n",
    "\n",
    "From the shuffling operator P, we define the following:\n",
    "\n",
    "Symmetrization operator S = $\\frac{1}{N!} \\sum_P P$. \n",
    "\n",
    "Antisymmetrization operator A = $\\frac{1}{N!} \\sum_P (-1)^P P$. where the funky exponent is defined as +1 if P is an even number of transpositions (or none at all) and -1 if P is an odd number of transpositions (or the equivalent therein). \n",
    "\n",
    "These operators are used to make tensor products for bosons and fermions. Specifically\n",
    "\n",
    "$$|\\psi\\rangle_B = \\left[ \\frac{N!}{n_\\alpha!n_\\beta!...n_\\nu!} \\right]^{1/2} S |q_\\alpha^{(1)},q_\\beta^{(2)},...,q_n\\nu^{(N)}\\rangle$$\n",
    "\n",
    "Each little n  is \"number of particles in the state\". This becomes irrelevant for fermions as 0! and 1! is just 1. \n",
    "\n",
    "$$|\\psi\\rangle_F = \\sqrt{N!} A |q_\\alpha^{(1)},q_\\beta^{(2)},...,q_n\\nu^{(N)}\\rangle$$\n",
    "\n",
    "This probably fits best here: the states for the two electron spin state. + is \"up\" and - is \"down\"\n",
    "\n",
    "Symmetric states: $|++\\rangle$, $|--\\rangle$, $\\frac{1}{\\sqrt{2}} (|+-\\rangle + |-+\\rangle)$\n",
    "\n",
    "Antisymmetric state: $\\frac{1}{\\sqrt{2}}(|+-\\rangle - |-+\\rangle)$\n",
    "\n",
    "Note that for the symmetric states changing the order of the + or - matters not at all, but it adds a minus sign to the antisymmetric state. "
   ]
  },
  {
   "cell_type": "markdown",
   "id": "f75a7126",
   "metadata": {},
   "source": [
    "#### Sommerfeld Model\n",
    "\n",
    "A way to model conducting electrons in a metal of volume $\\Omega$. Considering only the electrons as N noninteracting spin-1/2 fermions. Since they're noninteracting, the hamiltonian is rather trivial, just $p^2/2m+V$ as usual. In this case we assume the background charge is uniformly distributed and thus V is constant and we can kind of just ignore it all.\n",
    "\n",
    "Since this is an infintite plane of continuity, we can reasonably assume the states are plane waves, that is to say, $$ \\langle \\vec{r} | q_\\alpha \\rangle = \\frac{1}{\\sqrt{\\Omega}} e^{i\\vec{p}_\\alpha \\cdot \\vec{r}/\\hbar} \\chi_\\pm$$\n",
    "\n",
    "In this model w also assume zero temperature, so allt he lowest momentum states will be filled. So if we were to sum u0p all the energy states from the minimum momentum to the maximum momentum (the fermi momentum) we would get exactly half the number of electrons. Multiply by two to handle the spin-down numbers. This is mathematically notated as $N=2\\sum_{p\\leq p_F}1$\n",
    "\n",
    "AFterward, evaluate the sum over momentum states by approximating as an integral, from which we derive an expression for N. \n",
    "\n",
    "$$ N = \\frac{\\Omega}{3\\pi^2} \\frac{p_F^3}{\\hbar^3}$$\n",
    "\n",
    "If we define the fermi energy to be $\\epsilon_F = p_F^2/2m$ then we can get another relation.\n",
    "\n",
    "$$ \\frac{E}{N} = \\frac{3}{5}\\epsilon_F$$"
   ]
  },
  {
   "cell_type": "markdown",
   "id": "63ba641e",
   "metadata": {},
   "source": [
    "#### Hartree and Hartree-Fock Equations\n",
    "\n",
    "The core idea of the Hartree approximation is that the total wavefunction is a literal product of each individual particle's wavefunction. Each individual particle's wavefunction can be restricted so as to be normalized. \n",
    "\n",
    "The Hartree Equations are given by \n",
    "\n",
    "$$ [h(\\vec{r}) + \\sum_{j≠i}^N \\langle \\psi_j|V(|\\vec{r}-\\vec{r}_j|)|\\psi_j\\rangle]|\\psi_i \\rangle = \\epsilon_i |\\psi_i \\rangle $$\n",
    "\n",
    "which can be stated as\n",
    "\n",
    "$$ \\left[ \\frac{p^2}{2m}+U(\\vec{r})+V_i^H(\\vec{R})\\right]\\psi_i(\\vec{r}) = \\epsilon_i \\psi_i $$\n",
    "\n",
    "The other Hartree Equation is\n",
    "\n",
    "$$ V_i^H(\\vec{r})=\\sum_{j≠i}^N \\int \\psi_j^*(\\vec{r}')V(|\\vec{r}-\\vec{r}'|) \\psi_j(\\vec{r}') d^3r' $$\n",
    "\n",
    "These messes are part of a way to get an approximation. The specific method is to switch back and forth between the two different Hartree Equations: start by selecting a proper test wavefunction (something you know is of a correct form would work best, or at least similar form). Then find $V_i^H$. Then flip back and forth until the estimation converges and the wavefunction never alters itself. Congradulations, you've done a Hartree approximation! \n",
    "\n",
    "Keep in mind, summing up the individual particle energies does NOT necessarily equal the total energy in the Hartree approximation. \n",
    "\n",
    "How to find the Hartree Energy Approximation? Mentioned in homework, no idea how to calculate???\n"
   ]
  },
  {
   "cell_type": "markdown",
   "id": "1836e62e",
   "metadata": {},
   "source": [
    "Hartree-Fock equations attempt to function for fermions, that is, $|\\Phi\\rangle = \\sqrt{N!}A \\prod_i^N|\\phi_i \\rangle $.\n",
    "\n",
    "These will create another set of equations. If we need to use them we will be given them. But we never used them even in the homework, sooooo...\n",
    "\n",
    "I wonder if there's a Hartree variation for bosons? It would clearly follow the pattern of symmetry rather than antisymmetry, but it probably produces its own set of equations. "
   ]
  },
  {
   "cell_type": "markdown",
   "id": "d2341bcc",
   "metadata": {},
   "source": [
    "## Angular Momentum"
   ]
  },
  {
   "cell_type": "markdown",
   "id": "c9acb355",
   "metadata": {},
   "source": [
    "#### Lie Algebras and Groups\n",
    "\n",
    "What is a Group? A group is a set of elements that are able to \"operate\" on each other to produce other elements in the set. That operation can be anything, the elements can be anything, it's all there. The most common way to describe a group is to think of it as describing all the ways an object can be symmetric—though it's far more inclusive than that.\n",
    "\n",
    "Mathematically, the traits a group MUST have are the following:\n",
    "\n",
    "1) The set must be closed. The operation cannot produce an element that isn't already in the set. \n",
    "\n",
    "2) The set must include an identity, that is, an element that, when used as an operator, changes nothing.\n",
    "\n",
    "3) Every element in the set needs to have an inverse, which is to say, an element that acts on it to make it the identity element, or undoes whatever the first operator did. \n",
    "\n",
    "4) The associative property needs to hold. \n",
    "\n",
    "Some examples of groups:\n",
    "\n",
    "The number of ways to arrange a series of objects.\n",
    "\n",
    "The number of ways a triangle can be flipped and rotated but still appear to be in the same orientation (symmetries)\n",
    "\n",
    "The set of rotation matrices on the cartesian plane.\n",
    "\n",
    "It often helps to think of discrete groups as shapes, or series of numbers. Draw them down, try to analyze how they work togetehr in your head. Unfortunately this does not work for continuous groups with an infinite number of elements.\n",
    "\n",
    "Lie Groups are groups for which elemetns can be smoothly parametrized by real variables: that is, they are continuous. Such a group is arbitrary rotations that are specified by three angles, each of which can take any value from 0 to 2$\\pi$, depending on how you want to define said angles. The NUMBER of parameter sis the dimension of the Lie group, so in the above example the dimension is 3.\n",
    "\n",
    "Algebras are a related but slightly different concept. An algebra is a vector space with an additional operation imposed upon it. We can think of the cartesian vectors with cross products as an algebra. Unlike groups, addition is also defined, but only over scalars. (x+x=2x, sort of thing) The set of linear operators on a vector space also form an algebra—where the action of the operators is the \"multiplication\". The traits an angebra must satisfy are:\n",
    "\n",
    "1) Scalars can be multiplied to any one vector engaged in a multiplication, or both. $a(J*K) = (aJ)*K = J*(aK)$. Note that this means there IS NOT A DISTRIBUTIVE PROPERTY for scalars. \n",
    "\n",
    "2) However there is a distributive property for the operation itself. $(J+K)*L = (J*L)+(K*L)$\n",
    "\n",
    "3) The distributive property also works in reverse. $L*(J+K) = (L*J) + (L*K)$\n",
    "\n",
    "Unlike groups, algebras need not be associative (hence why point 2 and 3 are different requirements). ONes that are are called associative algebras. \n",
    "\n",
    "A special kind of algebra is a Lie Algebra that has some odd conditions. \n",
    "\n",
    "1) Reversing the order of multiplication inverts the sign of the result, like a commutator. $J*K = -K*J$\n",
    "\n",
    "2) This odd thing. $(J*K)*L + (K*L)*J + (L*J)*K = 0.$\n",
    "\n",
    "In this case multiplication is usually just written as a commutator, since a Lie Algebra can be used to represent commutator operations. \n",
    "\n",
    "Every Lie Algebra can be represented in matrices. \n",
    "\n",
    "Lie Groups and Lie Algebras are related: each generator in a Lie Algebra generates a one-parameter subgroup in the corresponding Lie Group. Using all the generators yield the group *near the identity*. This correlation is not perfect, which is highly unusual for mathematics and baffles me but we have what we have. "
   ]
  },
  {
   "cell_type": "markdown",
   "id": "dd0ea00f",
   "metadata": {},
   "source": [
    "#### SU(2) and SO(3)\n",
    "\n",
    "SU(N) in genreal is the special unitary group—that of unitary matrices of dimension N with a determinant of 1. SU(2), therefore, is specifically a group of 2x2 unitary matrices with determinant 1. The dimensionality is N^2-1--N^2 for every element in each matrix, and -1 since the determinant restriction imposes a hard limit on everything.\n",
    "\n",
    "su(2) Is the \"standard Lie Algebra\" with structure constants of $\\epsilon_{ijk}$ and generators $K_i = -iJ_i/\\hbar$. The matrix representation can be accomplished with {$-i\\sigma_i/2$}, constructed from the pauli spin matrices. Which is to say it's very useful for spin. It contains traceless and skew-Hermitian matrices.\n",
    "\n",
    "SO(N) Is the special orthogonal group, that is, a group of orthogonal matrices--that is, all matrices whose inverses are their own transposes. This limitation for a reason we hopefully don't need to know makes the dimensionality N(N-1). The \"special\" part of this group requires that the determinants be 1. SO(3) is just 3x3 matrices that satisfy this. \n",
    "\n",
    "so(N) and so(3) are the corresponding Lie Algebras. It is traceless, and unlike the group SO it is actually equivalent to the Lie Algebra o(N) or o(3). It has 3 K generators that are 3x3 matrices. \n"
   ]
  },
  {
   "cell_type": "markdown",
   "id": "75b69237",
   "metadata": {},
   "source": [
    "#### Representation Theory\n",
    "\n",
    "A representation of a group G is a vector space V, called the representation space, and a homeomorphism that can take G -> GL(V) which can provide a concrete expression for the operation of an abstract group.\n",
    "\n",
    "Restating that in english: you create a bunch of matrices in a vector space that are able to represent the various elements of G and can use matrix multiplication to act on each other in the same way the group would. \n",
    "\n",
    "Disclaimer: technically speaking a representation can have fewer elements than the group itself, since multiple group elements are mapped to one representation element. The benefit/lack of benefit to doing this depends on context. If the representation has the same number of elements as the group, it is the defining or fundamental representation.\n",
    "\n",
    "Reducible representations are ones that contain invariant subspaces, and they are irreducible it they do not. An invariant subspace is a section of the representation that every element of the representation can map onto, while preserving all connections. "
   ]
  },
  {
   "cell_type": "markdown",
   "id": "6f748f14",
   "metadata": {},
   "source": [
    "#### Tensor Products \n",
    "\n",
    "A Tensor PRoduct is a product of two unitary representations of a group on some vector space is another representation of G, one composed of the two unitary representations. It's a little confusing to look at. The tensor product symbol is that circle-with-an-x I don't know how to type so you'll just have to live with $T_1 \\times T_2$ even though it really isn't a cross product. \n",
    "\n",
    "One thing to note is that two irreducible representations, when multiplied, may produce something that isn't irreducible and will contain numerous other irreducable representations akin to $T^\\mu \\times T^\\nu \\approx \\sum_\\xi a_\\xi T^\\xi$. This is known as the Clebsh-Gordan series. Keep in mind that both Ts have their own Vs (vector spaces) that they are imposed upon.\n",
    "\n",
    "Proceeded to get confused at this point??"
   ]
  },
  {
   "cell_type": "markdown",
   "id": "a0f60178",
   "metadata": {},
   "source": [
    "#### Clebsh-Gordan Expansion and Coefficients\n",
    "\n",
    "???????????"
   ]
  },
  {
   "cell_type": "markdown",
   "id": "b933fa43",
   "metadata": {},
   "source": [
    "#### Tensor Operators\n",
    "\n",
    "This is just a genrealized vector operator. Still not entirely sure how this applies...?\n",
    "\n",
    "Written as $T_k^q$"
   ]
  },
  {
   "cell_type": "markdown",
   "id": "1e9fa44d",
   "metadata": {},
   "source": [
    "#### Wigner-Eckart Theorem\n",
    "\n",
    "The matrix elemenets of a tensor operator can be written as\n",
    "\n",
    "$$ \\langle \\alpha'j'm|T_k^q|\\alpha jm \\rangle = \\langle jkmq| (jk)j'm' \\rangle \\langle \\alpha' j'||T_k|| \\alpha j \\rangle$$ where the latter bra-ket section is a constant of proportionality independent of m, m', and q called a reduced matrix element. Aka, it is just a number. \n",
    "\n",
    "The main effect of this theorem is that it requires any individual matrix element to be zero unless m'=m+q and $|j-k|\\leq j' \\leq j+k$. This allows us to compute any matrix element by dinfind one and using hte CG coefficients to relate the others. If only we could FIND the CG coefficients and totally understood what they even were... "
   ]
  },
  {
   "cell_type": "code",
   "execution_count": null,
   "id": "573615a9",
   "metadata": {},
   "outputs": [],
   "source": []
  }
 ],
 "metadata": {
  "kernelspec": {
   "display_name": "Python 3 (ipykernel)",
   "language": "python",
   "name": "python3"
  },
  "language_info": {
   "codemirror_mode": {
    "name": "ipython",
    "version": 3
   },
   "file_extension": ".py",
   "mimetype": "text/x-python",
   "name": "python",
   "nbconvert_exporter": "python",
   "pygments_lexer": "ipython3",
   "version": "3.7.9"
  }
 },
 "nbformat": 4,
 "nbformat_minor": 5
}
