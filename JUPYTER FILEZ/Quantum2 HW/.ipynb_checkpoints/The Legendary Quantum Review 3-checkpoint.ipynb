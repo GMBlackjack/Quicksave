{
 "cells": [
  {
   "cell_type": "markdown",
   "id": "ef480a98",
   "metadata": {},
   "source": [
    "# The Legendary Quantum Review 3\n",
    "### Up a Tree"
   ]
  },
  {
   "cell_type": "markdown",
   "id": "d7c260b4",
   "metadata": {},
   "source": [
    "## SCATTERING\n",
    "\n",
    "Some helpful definitions\n",
    "\n",
    "$d\\Omega$ is the Solid Angle of the detector. Can be thought of as steradians. \n",
    "\n",
    "Generally choose $\\hat{z}$ as the beam direction. \n",
    "\n",
    "With cylindrical symmetry, $d\\Omega = 2\\pi sin\\theta d\\theta$. "
   ]
  },
  {
   "cell_type": "markdown",
   "id": "6b942e88",
   "metadata": {},
   "source": [
    "### Differential Cross Section\n",
    "\n",
    "$$\\frac{d\\sigma}{d\\Omega} = \\frac{I}{I_0}$$\n",
    "\n",
    "This is often easier to find than the total cross section below. It relates how the cross section changes with the solid angle of the detector. \n",
    "\n",
    "In a purely classical sense, this is $$ \\frac{d\\theta}{d\\Omega} = \\frac{b}{sin\\theta} \\left| \\frac{\\partial\\theta}{\\partial b} \\right|^{-1} $$\n",
    "\n",
    "Though for some reason we use this as well. $$\\frac{d\\theta}{d\\Omega} = \\frac{b}{sin\\Theta} \\left| \\frac{\\partial\\Theta}{\\partial b} \\right|^{-1}$$\n",
    "\n",
    "Where $\\Theta$ is just the \"final\" scattering angle. We get it by evaluating:\n",
    "\n",
    "$$ \\Theta = \\pi - 2\\int_{r_{min}}^\\infty \\frac{b}{r^2} \\left[ 1 - \\frac{b^2}{r^2} - \\frac{V(r)}{E} \\right]^{-1/2} dr $$\n",
    "\n",
    "The bounds for $r_{min}$ are determined by the argument $1 - \\frac{b^2}{r^2} - \\frac{V(r)}{E} = 0$ which means it is dependent on the potential. If there are multiple roots use the largest one, as classically you can't get past barriers. Nonclassically... not our concern when using this form. For now. \n",
    "\n",
    "To save time sometimes writing the differential cross section as $D(\\theta)$ may be helpful. \n",
    "\n",
    "Keep in mind when solving we want to get b in terms of $\\theta$ so we can get the total cross section at the end. \n",
    "\n",
    "For quantum scattering, the differential cross section is\n",
    "\n",
    "$$ D(\\theta) = \\frac{\\int r^2 \\hat{r} \\cdot \\vec{j}_{sc} dt}{\\int r^2 \\hat{k}_0 \\cdot \\vec{j}_{inc} dt}|_{r\\rightarrow \\infty} $$\n",
    "\n",
    "Where the j are \"currents\" that are \"incident\" and \"scattered.\" We rarely use this form and more often rely on\n",
    "\n",
    "$$ D(\\theta) = |f_{\\vec{k}_0}^+(\\vec{r})|^2 $$\n",
    "\n",
    "Where $ f_{\\vec{k}_0}^+ $ is the scattering amplitude. See below section for more on finding out exactly what it is. "
   ]
  },
  {
   "cell_type": "markdown",
   "id": "ca37bd39",
   "metadata": {},
   "source": [
    "### Total Cross Section\n",
    "\n",
    "$\\sigma$ is the total cross section and it is defined by $\\int \\frac{d\\sigma}{d\\Omega} d\\Omega = \\int \\frac{I}{I_0} d\\Omega$. \n",
    "\n",
    "This is often harder to get than the differential cross section. \n",
    "\n",
    "Remember we are integrating over the solid angle which is likely to be restricted in some manner. \n",
    "\n",
    "A more overt way of performing this calculation is $\\sigma = \\int D(\\theta) 2\\pi sin\\theta d\\theta$ though this assumes cylindrical symmetry.\n",
    "\n",
    "The total cross section is the same regardless of classical or quantum scattering. However, you do have to be careful with the bounds of where the detector sits. "
   ]
  },
  {
   "cell_type": "markdown",
   "id": "3fdf711f",
   "metadata": {},
   "source": [
    "### Classical -> Trajectories \n",
    "\n",
    "Trajectories in classical scattering are determined by energy E and angular momentum L. These are related to the impact parameter b, which is just how far off-center a beam is from hitting the center of the scattering target. \n",
    "\n",
    "$$L=mvb, E=\\frac{1}{2}mv^2, L = b\\sqrt{2mE}$$ \n",
    "\n",
    "In classical, each scattering angle corresponds to a unique b, for every E. Alternatively, angle can be a function of b and E. "
   ]
  },
  {
   "cell_type": "markdown",
   "id": "ac210fd7",
   "metadata": {},
   "source": [
    "### Quantum -> Scattering Amplitudes\n",
    "\n",
    "$ f_{\\vec{k}_0}^+ $ is the scattering amplitude. For large r, any wavefunction we're scattering that starts out as a plane wave will take the form\n",
    "\n",
    "$$ \\psi_{\\vec{k}}^\\pm \\approx e^{i\\vec{k}\\cdot\\vec{r}} + \\frac{e^{\\pm ikr}}{r} f_{\\vec{k}}^\\pm (\\hat{r}) + \\mathcal{O}(1/r^2) $$\n",
    "\n",
    "Ignoring third and beyond terms, this allows us to, with the right wavefunction, determine the scattering amplitude. The methods for doing this appear to have many variations, but in Homework 9 we made equations of the form RY forcibly adapt to the above form. Seems unlikely that we'll need to memorize the actual method here. \n",
    "\n",
    "Probably best to just use the Born Approximation instead in most cases. "
   ]
  },
  {
   "cell_type": "markdown",
   "id": "14df9848",
   "metadata": {},
   "source": [
    "### Contour Integrals\n",
    "\n",
    "He didn't tell us to study for this so I'll make it brief:\n",
    "\n",
    "Trying to solve an integral but don't know how? Awkward setup is awkward? Well, have we got a solution for you! Extend the function into the complex plane and create a loop! Find every undefined point for the function. These will be known as residues. Each residue inside a loop tells us that the integral over that loop is $2\\pi i a_{-1}$ where\n",
    "\n",
    "$$ a_{-1} = lim_{z\\rightarrow z_0} (z-z_0)f(z) $$ \n",
    "\n",
    "Where $z_0$ is the complex number at the residue. \n",
    "\n",
    "Usually at this point you create a shape, argue why the complex version of that shape has to be zero (usually a semicircle), and then note that the line across the real axis is all that remains. Note that the direction of the loop inverts the sign of the response. "
   ]
  },
  {
   "cell_type": "markdown",
   "id": "b15f7175",
   "metadata": {},
   "source": [
    "### Green's Functions\n",
    "\n",
    "Greens Functions are $ G_k^\\pm = \\frac{e^{\\pm ik|\\vec{r} - \\vec{r}'|}}{|\\vec{r} - \\vec{r}'|}$ and are solutions of the inhomogenous equation $[\\nabla^2+k^2]G_k^\\pm(\\vec{r},\\vec{r}') = -4\\pi\\delta(\\vec{r} - \\vec{r}')$\n",
    "\n",
    "Not really sure what the use of this is aside from actually proving that the Born Approximation is functional. "
   ]
  },
  {
   "cell_type": "markdown",
   "id": "7cfd46ea",
   "metadata": {},
   "source": [
    "### Born Approximation\n",
    "\n",
    "The Born Approximation is a method for finding the Scattering Amplitude without resorting to a ton of nonsense at the expense of getting exact answers.\n",
    "\n",
    "$$ f^{BORN}_{\\vec{k}} \\approx -\\frac{m}{2\\pi\\hbar^2} \\int  e^{i(\\vec{k}-\\vec{k}')\\cdot \\vec{r}'} V(\\vec{r}') d^3r' $$\n",
    "\n",
    "Which essentially boils down to a Fourier Transform. \n",
    "\n",
    "While there was not much to say here, do not be fooled, the Born Approximation is exceptionally useful and handy to have and use. For a spherically symmetric potential the born approximation becomes:\n",
    "\n",
    "$$ f^{BORN}_{\\vec{k}} \\approx -\\frac{2m}{q\\hbar^2} \\int_0^\\infty  rV_0e^{r/a} sin(qr) dr $$\n",
    "\n",
    "Where q = $2ksin(\\theta/2)$. Keep in mind that this angle is associated with the difference between incoming-k and outgoing-k, not the angle integrated over in the original Born approximation. "
   ]
  },
  {
   "cell_type": "markdown",
   "id": "bca1fff9",
   "metadata": {},
   "source": [
    "### Partial Waves\n",
    "\n",
    "The partial wave expansion allows for the expansion of wavefunctions along these lines:\n",
    "\n",
    "$$ \\psi_\\vec{k}^\\pm (\\vec{r}) = \\sum_{l=0}^\\infty a_l(k) \\frac{u_{kl}(r)}{r} P_l(cos\\theta) $$\n",
    "\n",
    "Where u is the solution to the modified radial wave equation we are oh-so-familiar with. This leads to the fact that the scattering amplitude (and thus the differential cross section) depends only on k and $\\theta$."
   ]
  },
  {
   "cell_type": "markdown",
   "id": "1d22641d",
   "metadata": {},
   "source": [
    "### Phase Shifts\n",
    "\n",
    "So, when modeling scattering using Partial waves, if V=0 everywhere, we get at large r $ R_{kl} \\approx \\frac{sin(kr-l\\pi/2)}{kr}$. But in *general* this behavior becomes $ R_{kl} \\approx \\frac{sin(kr-l\\pi/2+\\delta_l)}{kr}$. $\\delta_l$ is the phase shift and is named such because it shifts R here. (R is just a radial wave function) \n",
    "\n",
    "Phase shifts can, once again, be used to find the scattering amplitude.\n",
    "\n",
    "$$ f_k(\\theta) = \\frac{1}{k} \\sum_l (2l+1) e^{i\\delta_l} sin\\delta_l P_l(cos\\theta) $$\n",
    "\n",
    "Determining phase shifts invovles solving Schrodinger's equation inside the scattering region ($R_{kl}^{in}$) and match the log derivative to the solution outside at r=a. (The logarithmic derivative is given by f'/f. It is called the logarithmic derivative since (lnf)' = f'/f.) \n",
    "\n",
    "Lecture 30 has the details. \n",
    "\n",
    "Edit:\n",
    "\n",
    "For spherically symmetric target potentials, the scattering solution can be decomposed into angular momentum eigenvunctions. There is an associated radial wave function that comes out of this, and the phase shift is the amount by which the oscillatory radial functions are shifted from teh zero-potential solution. We find these phase shifts by matching the asymptotic form of the shifted radial wave function  to the exact solution in the region of the target. \n",
    "\n",
    "The exact interior solution is done in the normal way, just solve the Schrodinger equation.\n",
    "\n",
    "Match the interior to the exterior-at-large-r for r=a. \n",
    "\n",
    "This notably assumes V=0 outside r=a. "
   ]
  },
  {
   "cell_type": "markdown",
   "id": "acfb9f10",
   "metadata": {},
   "source": [
    "### Optical Theorem\n",
    "\n",
    "\"The total cross section is proportional to the imatinary part of the forward scattering amplitude.\"\n",
    "\n",
    "$$ \\sigma = \\frac{4\\pi}{k} \\mathcal{I}f_\\vec{k}(\\hat{k})$$\n",
    "\n",
    "Notably the Born Approximation does not pass this test. "
   ]
  },
  {
   "cell_type": "markdown",
   "id": "321c3131",
   "metadata": {},
   "source": [
    "### Spin\n",
    "\n",
    "But what if we want to factor spin into our scattering equations? Well... the solution to the wavefunction looks simple enough.\n",
    "\n",
    "$$ \\psi_{\\vec{k}\\pm}^+ \\approx e^{i\\vec{k}\\cdot\\vec{r}} \\chi_\\pm + f_{\\vec{k}\\pm} \\frac{e^{ikr}}{r} $$\n",
    "\n",
    "However, the scattering amplitude is a bit funky in this case.\n",
    "\n",
    "$$f_{\\vec{k}+} = S_{11}\\chi_+ + S_{21}\\chi_-$$\n",
    "$$f_{\\vec{k}-} = S_{12}\\chi_+ + S_{22}\\chi_-$$\n",
    "\n",
    "Which allows us to write the general solution as \n",
    "\n",
    "$$ \\psi_{\\vec{k}}^+ = c_1 \\psi_{\\vec{k}+}^+ + c_2 \\psi_{\\vec{k}-}^+ $$\n",
    "\n",
    "Where the c-values are part of the $ \\chi_0 = (c_1,c_2)$ spinor. The various S terms make up the S-matrix. Note: NOT THE S OPERATOR.\n",
    "\n",
    "Which allows us yet another way to get the differential cross section, $\\chi_0^\\dagger S^\\dagger S \\chi_0 $. \n",
    "\n",
    "If H is invariant under rotaitons and reflectikons, $S = g(\\theta)I + ih(\\theta)\\hat{n} \\cdot \\vec\\sigma$ another relation can be written down for the differential cross section as \n",
    "\n",
    "$$ (|g|^2+|h|^2) \\left[ 1 + i\\frac{g^*h - gh^*}{|g|^2+|h|^2}\\vec{P}_0 \\cdot \\hat{n} \\right] $$\n",
    "\n",
    "Where $\\vec{P}_0 = \\chi_0^\\dagger \\vec\\sigma \\chi_0$ is the beam polarization. Which leads us into our next section. "
   ]
  },
  {
   "cell_type": "markdown",
   "id": "e167ec7f",
   "metadata": {},
   "source": [
    "### Polarization\n",
    "\n",
    " $\\vec{P}_0 = \\chi_0^\\dagger \\vec\\sigma \\chi_0$ is the beam polarization."
   ]
  },
  {
   "cell_type": "markdown",
   "id": "44086b77",
   "metadata": {},
   "source": [
    "### Identical Particles\n",
    "\n",
    "Do not be fooled: we are not concerned about the identical nature of particles within the beam, we are assuming a diffise beam without interaction. What we are working with are things like \"what if we shoot a beam of electrons at an electron?\" Then we have an identical incoming and an identical target. \n",
    "\n",
    "Lecture 31. It still makes no sense to me. "
   ]
  },
  {
   "cell_type": "markdown",
   "id": "0598e65e",
   "metadata": {},
   "source": [
    "## BOUND-STATE PERTURBATION THEORY\n",
    "\n",
    "The basic idea behind perturbation theory is to have a hamiltonian/potential whose solutions are known, but then you add a small \"adjustment\" to that known state called the perturbation. Everything leans on these corrections. "
   ]
  },
  {
   "cell_type": "markdown",
   "id": "df0a33f3",
   "metadata": {},
   "source": [
    "### First Order Corrections to Energy Levels\n",
    "\n",
    "The basic first order result is:\n",
    "\n",
    "$$ E_n^{(1)} = \\langle \\psi_n^{(0)} | V | \\psi_n^{(0)} \\rangle $$\n",
    "\n",
    "Which is to say the first order energy correction is just the expectation value of the potential on the original wavefunction solution. Keep in mind that while this doesn't inherently seem like it has issues with degenreacy, the way it is derived has it part of an infinite series and degeneracy destroys those series', making the first-order meaningless. So watch out. "
   ]
  },
  {
   "cell_type": "markdown",
   "id": "7510f619",
   "metadata": {},
   "source": [
    "### Second Order Corrections to Energy Levels\n",
    "\n",
    "$$ E_n^{(2)} = \\sum_{m \\neq n} \\frac{|V_{mn}|^2}{E_n^{(0)}-E_m^{(0)}} $$\n",
    "\n",
    "Is the next term in the series, where $V_{mn} = \\langle \\psi_m^{(0)} | V | \\psi_n^{(0)} \\rangle $\n",
    "\n",
    "Usually this sum vanishes due to lots of results going to zero. It is helpful to know the ways in which things do tend to go to zero, though. \n",
    "\n",
    "First of all, the wavefunctions on either side tend to be orthogonal, so if quantum numbers don't match, they don't have a term. Oftentimes raising or lowering operators will pop out and make it so the m=n cases are not the only ones that matter. \n",
    "\n",
    "See further down for the parity argument. "
   ]
  },
  {
   "cell_type": "markdown",
   "id": "f2bfc7e8",
   "metadata": {},
   "source": [
    "### Degenerate Perturbation Theory\n",
    "\n",
    "To deal with degeneracies, what ultimately needs to occur is that a matrix needs to be diagonalized. The matrix in quesxtion is that of all possible states of the system surrounding the perturbation, that is <m|V|m>. For atoms this will likely be something along the lines of <n'l'm'|V|nlm> When there are \"degenerate\" cases, there are multiple combinations of numbers that provide the same value, that is, the same energy correction. \n",
    "\n",
    "The ultimate goal is to diagonalize the matrix. I like to think of it in this way:\n",
    "\n",
    "Create the matrix $V_{mn}$. Most of the results should be zero, but not all will be. If it's already diagonalized, great! That's good, just go use normal perturbaiton theory.\n",
    "\n",
    "However, if they're not diagonalized, then you subtract a -E off of every diagonal term. Then you take the determinant of this new matrix, and then solve for all possible roots of E. Solving for these E's will give the energy perturbations, but it won't associate them with any particular wavefunctions.\n",
    "\n",
    "To do this, you multiply the original matrix by a vector of dimensionality equal to that of one side of the matrix, creating a system of nine equations. of the form (Stuff)(vector component) = E(vector component). Find linearly independent solutions for the vector. "
   ]
  },
  {
   "cell_type": "markdown",
   "id": "c2dd7103",
   "metadata": {},
   "source": [
    "### Linear Stark Effect\n",
    "\n",
    "The Stark Effect is a simple way to examine an application of nondegenerate perturbation theory. The original hamiltonian $H_0 = T-Ze^2/r$ which is just the normal situation in an electric potential for an atom. However, if we excite it with an external electric field, adding an additional term of $V = -e\\phi = e\\vec{E}\\cdot\\vec{r}$ we have a perturbation term. Oftentimes it just helps to define the direction and turn this into the much simpler eEz. \n",
    "\n",
    "The first-order, that is, linear Stark Effect is $e\\vec{E} \\cdot \\vec{r}_{nn}$ where nn signifies taking the expectation value in reference to the n-state. We can then apply this to the quadratic effect as well. This is all assuming nondegenderacy of course. \n",
    "\n",
    "Degenerate perturbation theory can be applied to figure out what is what and where. "
   ]
  },
  {
   "cell_type": "markdown",
   "id": "ef7aa01d",
   "metadata": {},
   "source": [
    "### Quadratic Stark Effect\n",
    "\n",
    "$$ e^2\\vec{E} \\cdot \\sum_{m \\neq n} \\frac{\\vec{r}_{mn}\\vec{r}_{nm}}{E_n^{(0)}-E_m^{(0)}} $$\n",
    "\n",
    "All-in-all a rather direct application. Assumign nondegeneracy. We don't worry about the degenreate case for this. "
   ]
  },
  {
   "cell_type": "markdown",
   "id": "531b1720",
   "metadata": {},
   "source": [
    "### Polarizability\n",
    "\n",
    "Admittedly not sure why this is helpful, but the following is the polarizability tensor.\n",
    "\n",
    "$$ \\alpha_n = -e^2 \\sum_{m \\neq n} \\frac{\\vec{r}_{mn}\\vec{r}_{nm} + \\vec{r}_{nm}\\vec{r}_{mn} }{E_n^{(0)} - E_m^{(0)}} $$\n",
    "\n",
    "This is part of the induced dipole moment--dot it with the electric field to get the actual induced dipole moment. \n",
    "\n",
    "Physically, Polarizability is the measure of the response of a system of charges to an applied electric field. "
   ]
  },
  {
   "cell_type": "markdown",
   "id": "31e7fa7d",
   "metadata": {},
   "source": [
    "### Fine Structure for Hydrogenic Ions\n",
    "\n",
    "The fine-structure constant is $\\alpha = e^2/\\hbar c $"
   ]
  },
  {
   "cell_type": "markdown",
   "id": "a0ae7c6f",
   "metadata": {},
   "source": [
    "***Relativistic Kinetic Energy***\n",
    "\n",
    "$$T = \\sqrt{p^2c^2+m^2c^4} - mc^2 $$\n",
    "\n",
    "Expanded into a more usable form, this approximates as\n",
    "\n",
    "$$ T \\approx \\frac{p^2}{2m} - \\frac{p^4}{8m^3c^2} $$\n",
    "\n",
    "Naturally the second term is the relativistic correction to the kinetic energy. The shift in energy due to relativistic concerns is just the expectation value, that is, $V_{rel,nn}$. The actual result is:\n",
    "\n",
    "$$ E^{(1)}_{nl,rel} = \\frac{-E_n^2}{2mc^2} \\left[ \\frac{4n}{l+(1/2)} - 3 \\right] $$"
   ]
  },
  {
   "cell_type": "markdown",
   "id": "973f6ead",
   "metadata": {},
   "source": [
    "***Thomas Precession***\n",
    "\n",
    "The effect of an electron spin as it is accelerated through the nucleus's electric field. The reason for this is entirely relativistic, but we can model it by adding a false perturbation $V_{Th} = \\vec{S} \\cdot \\vec{\\omega} = -\\frac{1}{2m^2c^2r} \\frac{dV_N}{dr} \\vec{L} \\cdot \\vec{S}.$  There were a lot of steps taken to produce this result but my hope is that it's not necessary to wrangle with pseudo-relativistic nonsense for a while. "
   ]
  },
  {
   "cell_type": "markdown",
   "id": "4c02a760",
   "metadata": {},
   "source": [
    "***Magnetic Interactions***\n",
    "\n",
    "$V_{mag}$ is the magnetic potential, which is equl to\n",
    "\n",
    "$$ \\frac{e}{mc} \\vec{B} \\cdot \\vec{S} \\approx \\frac{1}{m^2c^2r} \\frac{dV_N}{dr}\\vec{L}\\cdot\\vec{S} $$\n",
    "\n",
    "We note that the Thomas PRecession term is exactly negative half of this. "
   ]
  },
  {
   "cell_type": "markdown",
   "id": "ffe93246",
   "metadata": {},
   "source": [
    "***Spin-Orbit Term***\n",
    "\n",
    "The Thomas Precession and Magnetic INteractions add together to produce the full spin-orbit term. \n",
    "\n",
    "$$V_{SO} = V_{mag} + V_{Th} = V_{mag}/2 = \\frac{1}{2m^2c^2r} \\frac{dV_N}{dr}\\vec{L}\\cdot\\vec{S} $$\n",
    "\n",
    "Now that we have this, we can do a few things with it. First of all, the dot product can be written out as $\\frac{1}{2} (J^2-L^2-S^2)$ and is a diagonal basis to $ L^2, S^2, J^2, and J_z $. \n",
    "\n",
    "Naturally we take the expectation of our potential and it spits the following out for the first-order Spin-Orbit correction.\n",
    "\n",
    "$$ [j(j+1) - l(l+1) - (1/2)((1/2)+1)]\\hbar <W> $$\n",
    "\n",
    "Where W is the remnant of the spin-orbit potential that doesn't come out neatly with some extra constants thrown in to make it all neat: $ \\frac{\\hbar}{4m^2c^2r} \\frac{dV_N}{dr} $\n",
    "\n",
    "For atoms, $V_N = -Ze^2/r$ and thus $W = \\frac{\\hbar Ze^2}{4m^2c^2r^3}$ and $<W> = \\frac{\\hbar Ze^2}{4m^2c^2n^3a^3}$. \n",
    "\n",
    "And so after an annoying amount of math, the final spin-orbit energy shift \n",
    "\n",
    "$$ E^{(1)}_{nlj,SO} = \\frac{E_n^2}{mc^2} \\frac{n[j(j+1)-l(l+1)-(3/4)]}{l(l+(1/2))(l+1)} $$\n",
    "\n",
    "We can combine the SO contribution with the relativistic contribution to get the full fine-structure result.\n",
    "\n",
    "$$ E^{(1)}_{nj,fs} = \\frac{E_n^2}{2mc^2} \\left( 3 - \\frac{4n}{j+1/2} \\right) $$\n",
    "\n",
    "Remember that j=l+s and J=L+S"
   ]
  },
  {
   "cell_type": "markdown",
   "id": "8a533454",
   "metadata": {},
   "source": [
    "### Wigner-Eckart Theorem\n",
    "\n",
    "Ah yes, otherwise known as \"that one thing we need to know that has a Tensor in it.\" It wasn't on the review list but it keeps cropping up so it's best to have it in here, I think.\n",
    "\n",
    "The matrix element of a tensor operator $T_k^q$ can be written with the relation:\n",
    "\n",
    "$\\langle \\alpha'j'm' | T_k^q | \\alpha j m \\rangle = \\langle jkmq | (jk)j'm' \\rangle \\langle \\alpha'j'|| T_k^q || \\alpha j \\rangle$\n",
    "\n",
    "This is a bit hard to tell what it means, but the conclusion is much more illuminating: this requires the matrix elements to be zero unless m' = m+q and $|j-k| \\leq j' \\leq j+k$ which is equivalently q=m'-m and $|j-j'| \\leq k \\leq j+j'$.\n",
    "\n",
    "m is just magnetic moments, j is l+m. However, what exactly are k and q? \n",
    "\n",
    "k is considered the Tensor's *rank*, which is the number of indeces required to uniquely select each element of the tensor, aka the number of required variables. In most of our applications this is 1. q can take values of integers between $\\pm k$. $T_k^q$ can be read as \"the q-th component of the spherical tensor operator of rank k.\" Every tensor of rank k has various indeces q for what is inside of it. \n",
    "\n",
    "Not entirely sure what this means for the q in this equation..."
   ]
  },
  {
   "cell_type": "markdown",
   "id": "9619907b",
   "metadata": {},
   "source": [
    "### Zeeman Effect\n",
    "\n",
    "Now we consider an atom perturbed by a magnetic field. This introduces a new possible perturbation, $V_Z$, which competes with the Spin-Orbit perturbation. $V_Z = \\frac{eB}{2mc}(g_LL_Z + g_SS_z)$. Notably this isn't very helpful given the general variables within. We often just idealize it as $\\mu J_z + (\\nu-\\mu)S_z$\n",
    "\n",
    "For weak magnetic fields, $V_Z$ is the perturbation that results in splitting of energy levels. For strong magnetic fields, however, it dominates, and thus Spin-Orbit shoudl be the perturbation. "
   ]
  },
  {
   "cell_type": "markdown",
   "id": "ec5d0c46",
   "metadata": {},
   "source": [
    "### Lande g Factor\n",
    "\n",
    "By applying the W-E theorem we can find the following curiosity:\n",
    "\n",
    "$$ \\langle (ls) jm | (\\vec{L} + 2\\vec{S}) | (ls)jm' \\rangle = g\\langle (ls)jm| \\vec{J}| (ls)jm'\\rangle $$\n",
    "\n",
    "This g is a constant of proportionality and is our friend the Lande g factor. This means we also have:\n",
    "\n",
    "$$ \\langle (ls) jm | (\\vec{L} + 2\\vec{S}) | (ls)jm' \\rangle = gm\\hbar\\delta_{mm'} $$\n",
    "\n",
    "g itself equals $1+\\frac{j(j+1) + s(s+1) - l(l+1)}{2j(j+1)}$. "
   ]
  },
  {
   "cell_type": "markdown",
   "id": "47e0bc2c",
   "metadata": {},
   "source": [
    "### Helium\n",
    "\n",
    "Okay, Helium. Basically, we end up with a hamiltonian with two electrons and then an interaction term, $\\frac{e^2}{|\\vec{r_1}-\\vec{r_2}|}$. This interaction term is the perturbation. There's aparently no real justificaiton for this aside from \"it just works.\"\n",
    "\n",
    "Ultimately this is the same as all other perturbations, just that now each state is actually two states, so we're integrating over all space twice. Looks something like this <1|<2| V |2>|1>. From this we obtain the energy shift. \n",
    "\n",
    "When we have an excited state, the ambiguity forces us to declare the state in a linear combination of states. Symmetric states are called parahelium and antisymmetric states are orthohelium and I have no idea when to distinguish the two. But they both have different results. A state with one in the ground state of n=1 would be:\n",
    "\n",
    "$$ \\frac{1}{\\sqrt{2}} [\\psi_{100}\\psi_{nlm} \\pm \\psi_{nlm}\\psi_{100}] $$ \n",
    "\n",
    "Which is basically just saying \"either one of these could be the ground state one.\"\n",
    "\n",
    "Taking the expectation to get the actual perturbation is now a 6-dimensional integral, 3 dimensions for both wavefunctions. \n",
    "\n",
    "Some important tips for evaluating these integrals; there are two general coordinate systems that are helpful.\n",
    "\n",
    "$r_1, r_2, u$ where u = $|\\vec{r_1}-\\vec{r_2}|$. Both radii nominally have bounds from 0 to infinity, but this will likely be broken up due to the u-substitutions remaining absolute value, which varies from $|r_1-r_2|$ to $r_1+r_2$. This changes the integration factor. $$ d^3r_1d^3r_2 = 8\\pi^2 r_1r_2udr_1 dr_2 du $$\n",
    "\n",
    "Of course oftentimes an even easier result is usable: using the variables s, t, u. u you already know about. s = $r_1+r_2$ and t=$r_1-r_2$. s goes from 0 to infinity, u goes from 0 to s, and t ranges between $\\pm u$. The integration factor changes again, this time to $$ d^3r_1d^3r_2 = \\pi^2u(s^2-t^2)dsdtdu$$. \n",
    "\n",
    "All of this greatly reduces the dimensionalities.\n",
    "\n",
    "Be careful of sudden additions of angular dependence! \n",
    "\n",
    "The default integration factor is, by the way, $$ d^3r_1d^3r_2 = 4\\pi r_1^2dr_1 2\\pi r_2^2 dr_2 sin\\theta_2 d\\theta_2 $$. This has still removed all theta dependence that could be removed. "
   ]
  },
  {
   "cell_type": "markdown",
   "id": "285ec939",
   "metadata": {},
   "source": [
    "## TIME-DEPENDENT PERTURBATION THEORY"
   ]
  },
  {
   "cell_type": "markdown",
   "id": "fc10c663",
   "metadata": {},
   "source": [
    "### Interaction Picture\n",
    "\n",
    "There are three pictures: Schrodinger (S) Heisenberg (H) and Interaction (I) that are ways to show the time-dependence of various quantities. They are all effectively equivalent when paired with operators, but are different ways of writing kets.\n",
    "\n",
    "For instance, $ |\\alpha, t_0;t>_I = e^{iH_0t/\\hbar}|\\alpha, t_0;t>_S $, that is, the exponential transforms the Schrodinger picture ket into the interaciton picture ket. \n",
    "\n",
    "Any observable in the interaction picture is defined as $A_I = e^{iH_0t/\\hbar} A_S e^{-iH_0t/\\hbar} $. Note that $A_S$ can just be the potential V we want to work with. Note that we are now working with a time dependent potential here. \n",
    "\n",
    "NOTE: $e^{-iH_0t/\\hbar}$ is equivalently written as $T_0(t,0)$. We can actually make it more general $T_0(t,t_0) = e^{-i(t-t_0)H_0 /\\hbar}$. This just goes to show that we usually set $t_0$, that is, the initial time, to zero. At this time the Schrodinger and the Heisenberg pictures agree with the Interaction picture in every way, it's only at later times things will drift. This does not need to be taken to zero. \n",
    "\n",
    "One may recall the Heisenberg picture adjustment, $A_H = e^{iHt/\\hbar} A_S e^{-iHt/\\hbar} $. The only difference is the full hamiltonian. In this specific case, the hamiltonian splits up into two parts, $H_0$, which is time-independent, and V(t), which is \"small\" or the \"perturbation.\" \n",
    "\n",
    "The theory is that the perturbation V induces transitions between the various secondary states of $H_0$.\n",
    "\n",
    "Note that we sometimes end up with two $t_0$ terms. The above one is when the pictures agree. However, the time translation operator $U(t,t_0)$ also has one, and they need not both be zero. So be wary. \n",
    "\n",
    "Curiously, You can get U from T by $U=e^{iH_0t/\\hbar}Te^{iH_0t_0/\\hbar}$. Invert this to get T from U. In this equation all $t_0$ are the intial time, not picture agreement, values. Keeping track would in fact be quite annoying. "
   ]
  },
  {
   "cell_type": "markdown",
   "id": "91fb21c1",
   "metadata": {},
   "source": [
    "### Time-Ordered Product\n",
    "\n",
    "This is a curious little mathematical curiosity defined as:\n",
    "\n",
    "$T[V_I(t')V_I(t'')] = V_I(t')V_I(t'')\\theta(t'-t'') + V_I(t'')V_I(t')\\theta(t''-t')$ where the $\\theta$ function is the standard step function. Not entirely sure why we need to know this as it's generally only used in the midst of proving other stuff. But the definition is here nonetheless. \n",
    "\n",
    "Specifically, it is used to simplify the perturbative expansion for U:\n",
    "\n",
    "$$ U(t,t_0) = I - \\frac{i}{\\hbar}\\int_{t_0}^t V_I(t') U(t',t_0) dt' $$\n",
    "\n",
    "Which is expanded into\n",
    "\n",
    "$$ U(t,t_0) = I - \\frac{i}{\\hbar} \\int_{t_0}^t V_I(t') dt' + (\\frac{i}{\\hbar})^2 \\int_{t_0}^t \\int_{t_0}^{t'} V_I(t')V_I(t'') dt'' dt' + \\mathcal{O}(V^3)$$\n",
    "\n",
    "And the time-ordered product is used to prove the time ordered exponential\n",
    "\n",
    "$$ U(t,t_0) = T exp \\left[ \\frac{-i}{\\hbar} \\int_{t_0}^t V_I(t') dt' \\right] $$\n",
    "\n",
    "Which is more precisely written out in a series form.\n",
    "\n",
    "$$ U(t,t_0) = I + \\sum_{n=1}^\\infty (\\frac{-i}{\\hbar})^n \\frac{1}{n!} \\int_{t_0}^t ...  \\int_{t_0}^t T[V_I(t_1) ... V_I(t_n)]  dt_1 ... dt_n$$\n",
    "\n",
    "Not really sure how this is useful.\n",
    "\n",
    "One of the mid-steps that is useful is that the second term of the U-expansion can be equated to:\n",
    "\n",
    "$$ \\int_{t_0}^t \\int_{t_0}^{t'} V_I(t')V_I(t'') dt'' dt' = \\frac{1}{2} \\int_{t_0}^t \\int_{t_0}^t T[V_I(t')V_I(t'')] dt'' dt' $$\n",
    "\n",
    "Which allows the second term to be evlauated with a bit easier integrals. \n"
   ]
  },
  {
   "cell_type": "markdown",
   "id": "f912c985",
   "metadata": {},
   "source": [
    "### Transition Probabilities\n",
    "\n",
    "If we assume a starting wavefunction at time $t_0$, we can generally determine what the probability of getting a different eigenstate at time t is at a different time. This is the transiktion probability, denoted by P(m,t;n,$t_0$) which is just \"progbability of m state at time t given n state at start time\" essentially. \n",
    "\n",
    "This is the square of the transition amplitude, given by taking $|<m|T|n>|^2$, but we'll rarely use this form. What we'll actually do is convert T to U, and then expand U, and then only keep the first term because extra terms are a pain.\n",
    "\n",
    "$$ P(m,t;n,t_0) = \\left| \\delta_{mn} - \\frac{i}{\\hbar} \\int_{t_0}^t  e^{i(E_m-E_n)t'/\\hbar} \\langle \\psi_m | V(t') |\\psi_n \\rangle dt' \\right|^2 $$.\n",
    "\n",
    "That said this only works for m not equal to n, if they are equal the second order terms in U need to be kept to maintain consistency. \n",
    "\n",
    "It may be helpful to point out that we define $ \\omega_{mn} = (E_m-E_n)/\\hbar $. Notably one of the very few sub-nm notations that is not just the expectation sandwich. \n",
    "\n",
    "If $V_{mn}$ is zero, the transition does not take place and is \"forbidden.\" Do remember that we approximated only with the first term of U, though. Often we approximate the expectation value here--if we evaluate it without making an approximation, it is still \"totally forbidden\". Keep in mind that this is all in air quotes since U itself was split up in an approximation way back. This is more relevant to the dipole approximation. \n",
    "\n",
    "Special case: infinitely long times. $P(m,\\infty;n,-\\infty)$. When m is not euqal to n, this becomes $\\frac{4\\pi^2}{\\hbar^2}|V_{mn}(\\omega_{mn})|^2$. But wait, we note that the V is of a different sort than usual. $V_{mn}(\\omega) = \\int_{-\\infty}^\\infty  \\frac{1}{2\\pi} V_{mn}(t') e^{i\\omega t'} dt'$. Yes this is just another fourier transform. \n",
    "\n",
    "IN this long-time consideration, $P_{mn} = P_{nm}$. That is the probability goes both ways when given enough time. "
   ]
  },
  {
   "cell_type": "markdown",
   "id": "e85e5bd8",
   "metadata": {},
   "source": [
    "### Transition Rates\n",
    "\n",
    "Ocasionally a direct transition probaility will diverge, meaning that we should instead focus on the rate of transition. \n",
    "\n",
    "$$ R_{mn} = lim_{T\\rightarrow\\infty} P_{mn}/T $$\n",
    "\n",
    "The divergence tends to be in the form of $\\delta(0)$ which, through mathematical trickery, we can define as $lim_{T\\rightarrow\\infty} T/2\\pi$, which allows us to get a transition rate of\n",
    "\n",
    "$$ R_{mn} = \\frac{2\\pi}{\\hbar} |\\tilde{V}_{mn}|^2 \\delta(E_m-E_n-\\hbar\\omega) $$\n",
    "\n",
    "$$ \\tilde{V}_{mn}e^{-i\\omega t} = V $$. This new quantity is a time-independent quantity. "
   ]
  },
  {
   "cell_type": "markdown",
   "id": "e1239cc2",
   "metadata": {},
   "source": [
    "### Semi-Classical Radiation Theory\n",
    "\n",
    "The base idea is that charged particles are quantum but the electromagnetic fields are classic. Workable, but fundamentally inconsistent, apparently. $\\vec{A}$ is considered to be all the electromagnetic fields. For a spinless elecctron with charge -e bound by a potential $V_0$ the hamiltonian is\n",
    "\n",
    "$$ H = \\frac{p^2}{2m} + V_0(\\vec{r}) + \\frac{e}{2mc}(\\vec{p}\\cdot\\vec{A} + \\vec{A}\\cdot\\vec{p}) + \\frac{e^2}{2mc^2}A^2-e\\phi $$\n",
    "\n",
    "We assume that the field is weak so $A^2$ can be neglected. $H_0$ is done with the usual kinetic term and the $V_0$ term, while the perturbation is everything else. If we choose the coulomb gague and assume no external charges other than the driving potential, $\\phi=0$ and so the perturbation is given by $V = \\frac{e}{mc} \\vec{A} \\cdot \\vec{p}$.\n",
    "\n",
    "Consider this your reminder that plane waves are given by $e^{i\\vec{k}\\cdot\\vec{r}}$. \n",
    "\n",
    "The wave packet is derived from this.\n",
    "\n",
    "$$ \\vec{A}(\\vec{r},t) = \\int_{-\\infty}^\\infty \\vec{A}(\\omega) e^{-i\\omega(t-\\hat{n}\\cdot\\vec{r}/c)} d\\omega $$\n",
    "\n",
    "REMINDER $\\hat{n}$ is the propogation direction and $\\hat{e}$ is the polarization vector. They are always perpendicular.\n",
    "\n",
    "In general, the transition probability becomes in this case\n",
    "\n",
    "$$ P_{mn} = (\\frac{2\\pi e}{\\hbar mc})^2 \\left| \\langle \\psi_m | e^{i\\omega_{mn}\\hat{n}\\cdot\\vec{r}/c} \\vec{p} | \\psi_n \\rangle \\cdot \\vec{A}(\\omega_{mn}) \\right|^2 = \\frac{4\\pi^2 e^2}{\\hbar^2 m^2c\\omega_{mn}^2} \\left| \\langle \\psi_m | e^{i\\omega_{mn}\\hat{n}\\cdot\\vec{r}/c} \\vec{p} \\cdot \\hat{e} | \\psi_n \\rangle \\right|^2 N(\\omega_{mn}) $$\n",
    "\n",
    "Also of note: $\\hat{e} \\times (\\hat{n} \\times \\hat{e}) = \\hat{n}$. "
   ]
  },
  {
   "cell_type": "markdown",
   "id": "6937d8f2",
   "metadata": {},
   "source": [
    "***Absorption and Stimulated Emission***\n",
    "\n",
    "When $E_m > E_n$ we get an absorbtion. (Remember, this is from n to m. Energy has gone up, so of course something was absorbed.)\n",
    "\n",
    "When $E_m < E_n$ we have emission, specifically stimulated emission. \n",
    "\n",
    "Note that this is all specifically Electromagnetically Driven. "
   ]
  },
  {
   "cell_type": "markdown",
   "id": "f9db1506",
   "metadata": {},
   "source": [
    "***Cross Sections***\n",
    "\n",
    "An absorption cross section is defined as the effective area per unit FREQUENCY thorugh which passes the amoutn of em energy absorbed. Which is a mess but it basically says \n",
    "\n",
    "$$ \\int_{\\Delta\\omega} \\sigma_{abs}(\\omega) d\\omega = \\frac{4\\pi^2 \\alpha^2}{ m^2\\omega_{mn}} \\left| \\langle \\psi_m | e^{i\\omega_{mn}\\hat{n}\\cdot\\vec{r}/c} \\vec{p} \\cdot \\hat{e} | \\psi_n \\rangle \\right|^2  $$\n",
    "\n",
    "Note that the pesky N function is gone. For a perfectly sharp absorption line, this gives us a total cross section of:\n",
    "\n",
    "$$ \\sigma_{abs}(\\omega) = \\frac{4\\pi^2 \\alpha^2}{ m^2\\omega_{mn}} \\left| \\langle \\psi_m | e^{i\\omega_{mn}\\hat{n}\\cdot\\vec{r}/c} \\vec{p} \\cdot \\hat{e} | \\psi_n \\rangle \\right|^2 \\delta(\\omega-\\omega_{mn}) $$\n",
    "\n",
    "For a broadened line, the detla function is replaced by \n",
    "\n",
    "$$ \\frac{\\Gamma/2\\pi\\hbar}{(\\omega-\\omega_{mn})^2+(\\Gamma/2\\hbar)^2} $$"
   ]
  },
  {
   "cell_type": "markdown",
   "id": "6672990f",
   "metadata": {},
   "source": [
    "***Dipole Approximation***\n",
    "\n",
    "In essence, you make this approximation:\n",
    "\n",
    "$$ \\langle \\psi_m | e^{i\\omega_{mn}\\hat{n}\\cdot\\vec{r}/c} \\vec{p} \\cdot \\hat{e} | \\psi_n \\rangle \\approx \\langle \\psi_m |  \\vec{p} \\cdot \\hat{e} | \\psi_n \\rangle $$\n",
    "\n",
    "by expanding the exponential and taking only the first term--that is, 1. \n",
    "\n",
    "Which, if we go back through all the steps we did before, gives us the electric dipole approximation to the absorption cross section.\n",
    "\n",
    "$$ \\int_{\\Delta \\omega} \\sigma_{abs}^{ed} d\\omega = 4\\pi^2\\alpha\\omega_{mn} |\\langle \\psi_m |  \\vec{p} \\cdot \\hat{e} | \\psi_n \\rangle|^2 $$\n",
    "\n",
    "Naturally if the expectation is zero it is dipole forbidden. \"Absolutely forbidden\" is if we can show the exponential doesn't matter--which we can for transitions between S-states. \n",
    "\n",
    "The selection rules for the electric dipole are $\\Delta m = 0,\\pm1$ and $\\Delta l = \\pm1$. Identical l's are excluded by the parity argument (see below). "
   ]
  },
  {
   "cell_type": "markdown",
   "id": "17523cfd",
   "metadata": {},
   "source": [
    "***Quadrupole Approximation***\n",
    "\n",
    "This arises from considering the second term in the exponential factor, which can be split up into a magnetic contribution and an electric contributuion. \n",
    "\n",
    "The magnetic contribution is the magnetic dipole.\n",
    "\n",
    "$$ \\mathcal{M}_{mn}^{md} = \\frac{i\\omega_{mn}}{2c}(\\hat{n} \\times \\hat{e}) \\cdot \\langle \\psi_m | \\vec{L} | \\psi_n \\rangle $$\n",
    "\n",
    "The electric contribution is the electric quadrupole.\n",
    "\n",
    "$$ \\mathcal{M}_{mn}^{eq} = -\\frac{m\\omega^2_{mn}}{2c} \\langle \\psi_m |\\hat{e}\\cdot\\vec{r}\\hat{n}\\cdot\\vec{r}| \\psi_n \\rangle $$\n",
    "\n",
    "When evaluating these it becomes helpful to define e and n explicilty, noting that they are perpendicular to each other. \n",
    "\n",
    "(How to get a cross section out of this?)"
   ]
  },
  {
   "cell_type": "markdown",
   "id": "b3e8ebc7",
   "metadata": {},
   "source": [
    "**Pairity Argument**\n",
    "\n",
    "By prity argument goes thusly:\n",
    "\n",
    "1) |nlm> wavefunctions have parities that go like $(-1)^l$\n",
    "\n",
    "2) The quantities we usually want to evaluate are of the form <n'l'm'| V |nlm>\n",
    "\n",
    "3) Parity of an entire function is the same as multiplying the parities of all components together.\n",
    "\n",
    "4) So the parity of the quantities we want to evaluate is $(-1)^{l+l'}P(V)$. \n",
    "\n",
    "5) If the parity is negative, the result is always zero and we don't even have to worry about it. (This arises from the fact that the negative parity demands that the integral equal its own negative, which is only possible if the integral is zero)\n",
    "\n",
    "Fun fact: momentum, p, has negative parity. \n",
    "\n",
    "\"Negative\" parity is associated with what we think of as \"odd\", while \"positive\" is \"even.\" "
   ]
  },
  {
   "cell_type": "markdown",
   "id": "3dfd67aa",
   "metadata": {},
   "source": [
    "### Time-Independent Potentials"
   ]
  },
  {
   "cell_type": "markdown",
   "id": "b32bca54",
   "metadata": {},
   "source": [
    "***Fermi's Golden Rule***\n",
    "\n",
    "For a time independent potential, $\\omega=0$, and we use this to get a transition rate of\n",
    "\n",
    "$$ R_{ki} = \\frac{2\\pi}{\\hbar} |V_{ki}|^2 \\delta(E_k - E_i) $$ (we've moved from mn to ki, where k is final and i is initial. No idea why). The system cannot absorb energy, can only transfer between degenerate eigenstates.\n",
    "\n",
    "We define W as $ W_{fi} = \\sum_{k \\in f}  R_{ki}$ where f is just a collection of final states. If the square magnitude expectation of V depends only on f, then we can use Fermi's Golden Rule:\n",
    "\n",
    "$$ W_{fi} = \\frac{2\\pi}{\\hbar} |V_{fi}|^2 \\rho_f(E_i) $$\n",
    "\n",
    "$ \\rho_f(E_i) = \\sum_{k \\in f} \\delta(E_k-E_i) $ is the density of states. Naturally this is usually a continuum, and is evaluated by $\\rho_f(E_i) = \\int \\delta(E_f-E_i) d^3k$. For plane wave states this evaluates to $ \\frac{4\\pi m}{\\hbar^2}\\sqrt{\\frac{2mE_i}{\\hbar^2}}$\n",
    "\n",
    "For spin 1/2 particles, multiply the density by 2. \n",
    "\n",
    "The units of density of states are nominally states per unit energy. However, when the integral is performed, this adds in a per unit volume term. "
   ]
  },
  {
   "cell_type": "markdown",
   "id": "0df32688",
   "metadata": {},
   "source": [
    "***Auger Transitions***\n",
    "\n",
    "Auger transitions are, simply put, transitions that produce no radiation, the beginning and ending states are the same. This is the go-to example of *two* particles being taken care of at once. Two in an initial state, and two in two different final states, such as the electrons of a helium atom. Using everything we've done before, we can create a total trnasition rate result; that is, W, for two interacting electorns:\n",
    "\n",
    "$$ W = \\frac{2\\pi}{\\hbar} |<a|<b|V|c>|d>|^2 \\rho_f(E_i) $$\n",
    "\n",
    "For helium the V would be the interaction perturbation $ \\frac{e^2}{|\\vec{r}_1-\\vec{r}_2|} $."
   ]
  },
  {
   "cell_type": "markdown",
   "id": "6e94a61e",
   "metadata": {},
   "source": [
    "***Scattering***\n",
    "\n",
    "Curiously the Golden Rule when applied to scattering produces the Born Approximation cross section, though in a very roundaboutn way.\n",
    "\n",
    "The cross section is $ \\frac{d\\sigma}{d\\Omega} = \\frac{W_{fi}\\partial \\Omega}{\\hat{k}\\cdot\\vec{j}_{inc}} $\n",
    "\n",
    "$$ j_{inc} = \\frac{\\hbar \\vec{k}}{(2\\pi)^3m} $$. The dot product just replaces the k-vector with k-magnitude. \n",
    "\n",
    "Remember when calculating the Density of States for W we may not be going over the full sphere, so there's a $\\partial \\Omega / 4\\pi$ factor. (The solid angle of staradians can go up to $4\\pi$.) \n",
    "\n",
    "Energies are generally of the form $$ E_i = \\frac{\\hbar^2 k_i^2}{2m}$$"
   ]
  },
  {
   "cell_type": "markdown",
   "id": "98bdadf8",
   "metadata": {},
   "source": [
    "**Gradients**\n",
    "\n",
    "Since I wasn't sure where to put this, let's put it at the bottom. Basically, when taking the gradient of a function with separable scalars, we can take a shortcut. In our case, that shortcut generally takes this form:\n",
    "\n",
    "$$ \\vec\\nabla \\times A\\hat{e} e^{i\\hat{n}\\cdot\\hat{r}\\omega/c} = \\vec\\nabla e^{i\\hat{n}\\cdot\\hat{r}\\omega/c} \\times A\\hat{e}$$\n",
    "$$=i \\hat{n} \\frac\\omega c e^{i\\hat{n}\\cdot\\hat{r}\\omega/c} \\times A\\hat{e}$$\n",
    "$$=i A  \\frac\\omega c e^{i\\hat{n}\\cdot\\hat{r}\\omega/c} (\\hat{n}\\times\\hat{e})$$\n",
    "\n",
    "Also a final minor help: $\\vec{a}\\cdot\\vec{b} = abcos\\theta$. "
   ]
  },
  {
   "cell_type": "code",
   "execution_count": null,
   "id": "67e7a476",
   "metadata": {},
   "outputs": [],
   "source": []
  }
 ],
 "metadata": {
  "kernelspec": {
   "display_name": "Python 3 (ipykernel)",
   "language": "python",
   "name": "python3"
  },
  "language_info": {
   "codemirror_mode": {
    "name": "ipython",
    "version": 3
   },
   "file_extension": ".py",
   "mimetype": "text/x-python",
   "name": "python",
   "nbconvert_exporter": "python",
   "pygments_lexer": "ipython3",
   "version": "3.7.9"
  }
 },
 "nbformat": 4,
 "nbformat_minor": 5
}
