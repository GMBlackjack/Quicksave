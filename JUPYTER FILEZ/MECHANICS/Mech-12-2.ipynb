{
 "cells": [
  {
   "cell_type": "markdown",
   "id": "0c1bfe81",
   "metadata": {},
   "source": [
    "# Advanced Mechanics 12-2: Finalizing Hamiltonians\n",
    "\n",
    "## Gabriel M Steward\n",
    "\n",
    "### May 2023"
   ]
  },
  {
   "cell_type": "markdown",
   "id": "56664bc2",
   "metadata": {},
   "source": [
    "<a id='toc'></a>\n",
    "\n",
    "# Table of Contents\n",
    "$$\\label{toc}$$\n",
    "\n",
    "[Problem 1](#P1) (Spin Orbit Surfaces of Section)\n",
    "\n",
    "[Problem 2](#P2) (Restricted Three-Body Problem)"
   ]
  },
  {
   "cell_type": "markdown",
   "id": "c508c568",
   "metadata": {},
   "source": [
    "Note: part a)s included for completeness sake. "
   ]
  },
  {
   "cell_type": "markdown",
   "id": "cd9e5529",
   "metadata": {},
   "source": [
    "<a id='P1'></a>\n",
    "\n",
    "# Problem 1 \\[Back to [top](#toc)\\]\n",
    "$$\\label{P1}$$\n",
    "\n",
    "*(pg 282)*\n",
    "\n",
    "*Write a program to compute surfaces of section for the spin-orbit problem, with the section poitns being recorded at pericenter. Investigate the following:*\n",
    "\n",
    "*a) Give a Hamiltonian formulation of the spin-orbit problem introduced in section 2.11.2.*"
   ]
  },
  {
   "cell_type": "markdown",
   "id": "48c6133e",
   "metadata": {},
   "source": [
    "This is the Hyperion system. The Lagrangian for it is\n",
    "\n",
    "$$ \\mathcal L(t,\\theta,\\dot\\theta) = \\frac12 C \\dot \\theta ^2 + \\frac{n^2\\epsilon^2 C}{4} \\frac{a^3}{R^3(t)} cos(2(\\theta-f(t))) $$ \n",
    "\n",
    "\n",
    "And the Hamiltonian comes from\n",
    "\n",
    "$$ \\mathcal H(t,q,p) = p \\mathcal V(t,q,p) - \\mathcal L(t,q,V)) $$\n",
    "\n",
    "We note something decidedly unpleasant here, and that is that the Lagrangian depends on time, so we can't just declare the Hamiltonian to be the energy. Thus, we need to work out p and $\\mathcal V$. "
   ]
  },
  {
   "cell_type": "markdown",
   "id": "5b4366fe",
   "metadata": {},
   "source": [
    "Phase I and Phase II are arleady done for us, so let's move on to Phase III: generalized momenta. This is $p = \\partial_2 L(t,q,\\dot q)$. The coordinates we have are $\\theta$ and that's it, everything else is a constant. Thus...\n",
    "\n",
    "$$ p_\\theta = C\\dot \\theta $$\n",
    "\n",
    "The potential term has no relation to the angular acceleration. So we can now write (as Phase IV):\n",
    "\n",
    "$$ \\dot \\theta = p_\\theta / C $$\n",
    "\n",
    "Which gives us a new Lagrangian.\n",
    "\n",
    "$$ \\mathcal L(t,\\theta,p_\\theta) = \\frac12 \\frac{p_\\theta^2}{C} + \\frac{n^2\\epsilon^2 C}{4} \\frac{a^3}{R^3(t)} cos(2(\\theta-f(t))) $$ \n",
    "\n",
    "And so all that remains is, supposedly, to write down the Hamiltonian. Of cousre, while we have the genrealized momentum, we also need $\\mathcal V$. What exactly is that? Since we only have one coordinate, it's just the angular velocity. $ \\mathcal V = \\dot \\theta $. This makes Phase V, the full Hamiltonian...\n",
    "\n",
    "$$ \\mathcal H = p^2_\\theta / C - \\frac12 \\frac{p_\\theta^2}{C} - \\frac{n^2\\epsilon^2 C}{4} \\frac{a^3}{R^3(t)} cos(2(\\theta-f(t))) $$\n",
    "\n",
    "$$ \\mathcal H =  \\frac12 \\frac{p_\\theta^2}{C} - \\frac{n^2\\epsilon^2 C}{4} \\frac{a^3}{R^3(t)} cos(2(\\theta-f(t))) $$\n",
    "\n",
    "Which is exactly what we would have gotten if we let $\\mathcal H = T + U$, indicating that the time-dependent quantities don't matter today. "
   ]
  },
  {
   "cell_type": "markdown",
   "id": "f16f7873",
   "metadata": {},
   "source": [
    "*b) For out-of-roundness parameter $\\epsilon=0.1$ and eccentricity e=0.1 measure the widths, in momentum, of the regular islands associated with the 1:1, 3:2, and 1:2 resonances.*"
   ]
  },
  {
   "cell_type": "markdown",
   "id": "0bb8c456",
   "metadata": {},
   "source": [
    "So, at long last, we have a program that isn't provided and thus we are going to have to construct it ourselves. Fortunately we can smash existing programs together to achieve this. Section 2.11 had a program that evolved its various parameters forward. \n",
    "\n",
    "I was unable to code this up, could never get a single custom surfaces of section code to work, not to mention I don't know how to handle R(t) and f(t). "
   ]
  },
  {
   "cell_type": "markdown",
   "id": "c89d3208",
   "metadata": {},
   "source": [
    "*c) Explore the surfaces of section for a range of $\\epsilon$ for fixed e=0.1. Estimate the critical value of $\\epsilon$ above which the main choatic zones around the 3:2 and 1:1 resonance islands are merged.*"
   ]
  },
  {
   "cell_type": "markdown",
   "id": "1b614d0e",
   "metadata": {},
   "source": [
    "Could not get a surface of section to display. "
   ]
  },
  {
   "cell_type": "markdown",
   "id": "03eb8f79",
   "metadata": {},
   "source": [
    "*d) For a fixed eccentricity e=0.1 trace the location on the surface of section of the stable and unstable fixed poitns associated with the 1:1 resonance as a function of the out-of-roundess $\\epsilon$.*"
   ]
  },
  {
   "cell_type": "markdown",
   "id": "1185aaf4",
   "metadata": {},
   "source": [
    "Could not get a surface of section to display. "
   ]
  },
  {
   "cell_type": "markdown",
   "id": "ba3c6fd3",
   "metadata": {},
   "source": [
    "<a id='P2'></a>\n",
    "\n",
    "# Problem 2 \\[Back to [top](#toc)\\]\n",
    "$$\\label{P2}$$\n",
    "\n",
    "*(pg 282)*\n",
    "\n",
    "*Investigate the dynamics of the restricted three-body problem for the equal mass case where $M_0 = M_1$*.\n",
    "\n",
    "*a) Derive the Hamiltonian for the resitricted three-body problem, starting with the Lagrangian.*"
   ]
  },
  {
   "cell_type": "markdown",
   "id": "e0528afb",
   "metadata": {},
   "source": [
    "The Lagrangian is\n",
    "\n",
    "$$ \\mathcal L = \\frac12 m(\\dot x_r^2 + \\dot y_r^2) + \\frac12 m \\Omega^2 (x_r^2 + y_r^2) + m\\Omega(x_r\\dot y_r - \\dot x_r y_r) + \\frac{GM_0m}{r_0} + \\frac{GM_1m}{r_1} $$\n",
    "\n",
    "And the Hamiltonian comes from\n",
    "\n",
    "$$ \\mathcal H(t,q,p) = p \\mathcal V(t,q,p) - \\mathcal L(t,q,V)) $$\n",
    "\n",
    "Note that the Lagrangian is **not** a funciton of time! We can use $\\mathcal H = T + V$. In our case, we know that the above lagrangian is the lagrangian for a free particle (one with no potential at all) and two gravitaitonal potential terms, so the Hamiltonian is...\n",
    "\n",
    "$$ \\mathcal H = \\frac12 m(\\dot x_r^2 + \\dot y_r^2) + \\frac12 m \\Omega^2 (x_r^2 + y_r^2) + m\\Omega(x_r\\dot y_r - \\dot x_r y_r) - \\frac{GM_0m}{r_0} - \\frac{GM_1m}{r_1} $$"
   ]
  },
  {
   "cell_type": "markdown",
   "id": "1d31defd",
   "metadata": {},
   "source": [
    "However, we need this to be in terms of momentum, not velocity. So we need to take the Genrealized Momenta. Which is usually phase III of the plans... man when we already have a Lagrangian the order gets screwed up a bit doesn't it.\n",
    "\n",
    "Regarldess. PHASE III: generalized momenta. For both x and y. \n",
    "\n",
    "$$ p_{x_r} = m\\dot x_r - m\\Omega y_r$$\n",
    "$$ p_{y_r} = m\\dot y_r + m\\Omega x_r$$\n",
    "\n",
    "PHASE IV: Solve in terms of velocity.\n",
    "\n",
    "$$ \\dot x_r = \\frac{p_{x_r} + m\\Omega y_r}{m} $$\n",
    "$$ \\dot y_r = \\frac{p_{y_r} - m\\Omega x_r}{m} $$\n",
    "\n",
    "Which means we can write the Hamiltonian as..."
   ]
  },
  {
   "cell_type": "markdown",
   "id": "797b5286",
   "metadata": {},
   "source": [
    "$$ \\mathcal H = \\frac12 m(\\left( \\frac{p_{x_r} + m\\Omega y_r}{m} \\right)^2 + \\left( \\frac{p_{y_r} - m\\Omega x_r}{m} \\right)^2) + \\frac12 m \\Omega^2 (x_r^2 + y_r^2) + m\\Omega(x_r\\frac{p_{y_r} - m\\Omega x_r}{m} - \\frac{p_{x_r} + m\\Omega y_r}{m} y_r) - \\frac{GM_0m}{r_0} - \\frac{GM_1m}{r_1} $$"
   ]
  },
  {
   "cell_type": "markdown",
   "id": "1f40d717",
   "metadata": {},
   "source": [
    "There are a handful of obvious simplificaitons.\n",
    "\n",
    "$$ \\mathcal H = \\frac{1}{2m} (\\left( p_{x_r} + m\\Omega y_r \\right)^2 + \\left( p_{y_r} - m\\Omega x_r \\right)^2) + \\frac12 m \\Omega^2 (x_r^2 + y_r^2) + \\Omega(x_r(p_{y_r} - m\\Omega x_r) - (p_{x_r} + m\\Omega y_r) y_r) - \\frac{GM_0m}{r_0} - \\frac{GM_1m}{r_1} $$"
   ]
  },
  {
   "cell_type": "markdown",
   "id": "0f8fe5ca",
   "metadata": {},
   "source": [
    "Expanding and recombining terms leads to some significant canceleaiton.\n",
    "\n",
    "$$ \\mathcal H = \\frac{p_{x_r}^2+ p_{y_r}^2}{2m} - \\frac{GM_0m}{r_0} - \\frac{GM_1m}{r_1} $$\n",
    "\n",
    "My, that's... amazingly simplified. "
   ]
  },
  {
   "cell_type": "markdown",
   "id": "9f174b2c",
   "metadata": {},
   "source": [
    "*b) The Jacobi constant, equaiton 1.151, is the sum of a positive definite quazdratic term in the velocities and a potential energy term, equation 1.152, so the boundaries of the allowed motion are contours of the potential energy function. Write a program to display these boundaries for a given value of the Jacobi constant. Where is motion allowed relative to these contours? (Note that for some values of the Jacobi constant there is more than one allowed region of motion).*"
   ]
  },
  {
   "cell_type": "markdown",
   "id": "f50c5dba",
   "metadata": {},
   "source": [
    "For the record, 1.151 is\n",
    "\n",
    "$$ \\mathcal E = \\frac12 m(\\dot x_r^2 + \\dot y_r^2) + mU_r(x_r,y_r) $$\n",
    "\n",
    "Where \n",
    "\n",
    "$$ U_r = -\\left(\\frac{GM_0}{r_0} + \\frac{GM_1}{r_1}\\right) + \\frac12 \\Omega^2 (x_r^2 + y_r^2) $$"
   ]
  },
  {
   "cell_type": "markdown",
   "id": "22f93c4f",
   "metadata": {},
   "source": [
    "As for the program, what we need here is to find a way to display the path over time. This actually shouldn't be too difficult, given that we can take the Lagrangian and just evolve it through time with given programs. We hope. \n",
    "\n",
    "Couldn't figure out how to do it, what even do we mean by contours of the potential enregy function? "
   ]
  },
  {
   "cell_type": "markdown",
   "id": "9cf405dd",
   "metadata": {},
   "source": [
    "*c) Evolve some trajectories for a Jacobi constant of $\\mathcal E = -1.75 (C_J = 3.5)$. Display the trajectories on the same plot as the boundaries of allowed motion.*"
   ]
  },
  {
   "cell_type": "markdown",
   "id": "2ec55a88",
   "metadata": {},
   "source": [
    "One thing we *can* show is that by setting the Jacobi Constant we greatly simplify the Hamiltonian (back when it was given in terms of velocities)\n",
    "\n",
    "$$ \\mathcal H = \\mathcal E + m\\Omega(x_r\\dot y_r - \\dot x_r y_r) $$\n",
    "\n",
    "Which we can convert to...\n",
    "\n",
    "$$ \\Rightarrow \\mathcal H = \\mathcal E + m\\Omega(x_r\\frac{p_{y_r} - m\\Omega x_r}{m}- \\frac{p_{x_r} + m\\Omega y_r}{m} y_r) $$\n",
    "$$ \\Rightarrow \\mathcal H = \\mathcal E + \\Omega(x_r(p_{y_r} - m\\Omega x_r)- (p_{x_r} + m\\Omega y_r) y_r) $$\n"
   ]
  },
  {
   "cell_type": "markdown",
   "id": "abca6dd2",
   "metadata": {},
   "source": [
    "$$ \\Rightarrow \\mathcal H = \\mathcal E + \\Omega(x_rp_{y_r} - m\\Omega x_r^2 - p_{x_r}y_r + m\\Omega y_r^2) $$"
   ]
  },
  {
   "cell_type": "markdown",
   "id": "f3a36524",
   "metadata": {},
   "source": [
    "Now what we'd need to do is give the Hamiltonian to a program where we can set the value of $\\mathcal E$ in the Hamiltonian and let it evolve to whatever trajectory we see fit. "
   ]
  },
  {
   "cell_type": "markdown",
   "id": "5b8dc2fa",
   "metadata": {},
   "source": [
    "*d) Write a program to compute surfaces of section for the restricted three-body problem. This program is simlar to the Henon-Heiles program starting on page 261. Plot seciton points when the trajecotry crosses the $y_r=0$ axis with $\\dot y_r$ positive. Plot $\\dot x_r$ versus $x_r$. Note that $p_x = m\\dot x_r - m\\Omega y_r$, but on this section $y_r=0$, so the velocity is proportional to the moemntum, and thus the section is area preserving. Plot the boundaries of the allowed motion on the surface of section for the JAcobi constant suggested above. Explore the section and plot typical orbits for each major region in the section.*"
   ]
  },
  {
   "cell_type": "markdown",
   "id": "c6258717",
   "metadata": {},
   "source": [
    "In order to do this we will need to note that there are some values that need expanding.\n",
    "\n",
    "$$ r_0 = \\sqrt{(x_r + a_0)^2 + y_r^2} $$\n",
    "$$ r_1 = \\sqrt{(x_r-a_1)^2 + y_r^2} $$\n",
    "\n",
    "Also the problem states $M_0 = M_1$ so we can just repalce that with M. \n",
    "\n",
    "$$ \\mathcal H = \\frac{p_{x_r}^2+ p_{y_r}^2}{2m} - \\frac{GMm}{\\sqrt{(x_r + a_0)^2 + y_r^2} } - \\frac{GMm}{\\sqrt{(x_r-a_1)^2 + y_r^2}} $$"
   ]
  },
  {
   "cell_type": "markdown",
   "id": "56cc790c",
   "metadata": {},
   "source": [
    "Unfortunately becasue we really don't understand how to use scheme and all the example code derives the hamiltonian from the Lagrangian, we are just going to use the Lagrangian. Fortunately that Lagrangian is already known in a different code (and was what we got the Hamiltonian from anyway)\n",
    "\n",
    "Attempted to code. Got stuck. Did nto work. "
   ]
  },
  {
   "cell_type": "code",
   "execution_count": null,
   "id": "667aca52",
   "metadata": {},
   "outputs": [],
   "source": []
  }
 ],
 "metadata": {
  "kernelspec": {
   "display_name": "Python 3 (ipykernel)",
   "language": "python",
   "name": "python3"
  },
  "language_info": {
   "codemirror_mode": {
    "name": "ipython",
    "version": 3
   },
   "file_extension": ".py",
   "mimetype": "text/x-python",
   "name": "python",
   "nbconvert_exporter": "python",
   "pygments_lexer": "ipython3",
   "version": "3.7.9"
  }
 },
 "nbformat": 4,
 "nbformat_minor": 5
}
