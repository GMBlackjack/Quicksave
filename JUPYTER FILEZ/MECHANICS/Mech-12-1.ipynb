{
 "cells": [
  {
   "cell_type": "markdown",
   "id": "0c1bfe81",
   "metadata": {},
   "source": [
    "# Advanced Mechanics 12-1: Preflighting Hamiltonians\n",
    "\n",
    "## Gabriel M Steward\n",
    "\n",
    "### April 2023"
   ]
  },
  {
   "cell_type": "markdown",
   "id": "56664bc2",
   "metadata": {},
   "source": [
    "<a id='toc'></a>\n",
    "\n",
    "# Table of Contents\n",
    "$$\\label{toc}$$\n",
    "\n",
    "[Problem 1](#P1) (Spin Orbit Surfaces of Section)\n",
    "\n",
    "[Problem 2](#P2) (Restricted Three-Body Problem)"
   ]
  },
  {
   "cell_type": "markdown",
   "id": "cd9e5529",
   "metadata": {},
   "source": [
    "<a id='P1'></a>\n",
    "\n",
    "# Problem 1 \\[Back to [top](#toc)\\]\n",
    "$$\\label{P1}$$\n",
    "\n",
    "*(pg 282)*\n",
    "\n",
    "*Write a program to compute surfaces of section for the spin-orbit problem, with the section poitns being recorded at pericenter. Investigate the following:*\n",
    "\n",
    "*a) Give a Hamiltonian formulation of the spin-orbit problem introduced in section 2.11.2.*"
   ]
  },
  {
   "cell_type": "markdown",
   "id": "48c6133e",
   "metadata": {},
   "source": [
    "This is the Hyperion system. The Lagrangian for it is\n",
    "\n",
    "$$ \\mathcal L(t,\\theta,\\dot\\theta) = \\frac12 C \\dot \\theta ^2 + \\frac{n^2\\epsilon^2 C}{4} \\frac{a^3}{R^3(t)} cos(2(\\theta-f(t))) $$ \n",
    "\n",
    "\n",
    "And the Hamiltonian comes from\n",
    "\n",
    "$$ \\mathcal H(t,q,p) = p \\mathcal V(t,q,p) - \\mathcal L(t,q,V)) $$\n",
    "\n",
    "We note something decidedly unpleasant here, and that is that the Lagrangian depends on time, so we can't just declare the Hamiltonian to be the energy. Thus, we need to work out p and $\\mathcal V$. "
   ]
  },
  {
   "cell_type": "markdown",
   "id": "5b4366fe",
   "metadata": {},
   "source": [
    "Phase I and Phase II are arleady done for us, so let's move on to Phase III: generalized momenta. This is $p = \\partial_2 L(t,q,\\dot q)$. The coordinates we have are $\\theta$ and that's it, everything else is a constant. Thus...\n",
    "\n",
    "$$ p_\\theta = C\\dot \\theta $$\n",
    "\n",
    "The potential term has no relation to the angular acceleration. So we can now write (as Phase IV):\n",
    "\n",
    "$$ \\dot \\theta = p_\\theta / C $$\n",
    "\n",
    "Which gives us a new Lagrangian.\n",
    "\n",
    "$$ \\mathcal L(t,\\theta,p_\\theta) = \\frac12 \\frac{p_\\theta^2}{C} + \\frac{n^2\\epsilon^2 C}{4} \\frac{a^3}{R^3(t)} cos(2(\\theta-f(t))) $$ \n",
    "\n",
    "And so all that remains is, supposedly, to write down the Hamiltonian. Of cousre, while we have the genrealized momentum, we also need $\\mathcal V$. What exactly is that? Since we only have one coordinate, it's just the angular velocity. $ \\mathcal V = \\dot \\theta $. This makes Phase V, the full Hamiltonian...\n",
    "\n",
    "$$ \\mathcal H = p^2_\\theta / C - \\frac12 \\frac{p_\\theta^2}{C} - \\frac{n^2\\epsilon^2 C}{4} \\frac{a^3}{R^3(t)} cos(2(\\theta-f(t))) $$\n",
    "\n",
    "$$ \\mathcal H =  \\frac12 \\frac{p_\\theta^2}{C} - \\frac{n^2\\epsilon^2 C}{4} \\frac{a^3}{R^3(t)} cos(2(\\theta-f(t))) $$\n",
    "\n",
    "Which is exactly what we would have gotten if we let $\\mathcal H = T + U$, indicating that the time-dependent quantities don't matter today. "
   ]
  },
  {
   "cell_type": "markdown",
   "id": "ba3c6fd3",
   "metadata": {},
   "source": [
    "<a id='P2'></a>\n",
    "\n",
    "# Problem 2 \\[Back to [top](#toc)\\]\n",
    "$$\\label{P2}$$\n",
    "\n",
    "*(pg 282)*\n",
    "\n",
    "*Investigate the dynamics of the restricted three-body problem for the equal mass case where $M_0 = M_1$*.\n",
    "\n",
    "*a) Derive the Hamiltonian for the resitricted three-body problem, starting with the Lagrangian.*"
   ]
  },
  {
   "cell_type": "markdown",
   "id": "e0528afb",
   "metadata": {},
   "source": [
    "The Lagrangian is\n",
    "\n",
    "$$ \\mathcal L = \\frac12 m(\\dot x_r^2 + \\dot y_r^2) + \\frac12 m \\Omega^2 (x_r^2 + y_r^2) + m\\Omega(x_r\\dot y_r - \\dot x_r y_r) + \\frac{GM_0m}{r_0} + \\frac{GM_1m}{r_1} $$\n",
    "\n",
    "And the Hamiltonian comes from\n",
    "\n",
    "$$ \\mathcal H(t,q,p) = p \\mathcal V(t,q,p) - \\mathcal L(t,q,V)) $$\n",
    "\n",
    "Note that the Lagrangian is **not** a funciton of time! We can use $\\mathcal H = T + V$. In our case, we know that the above lagrangian is the lagrangian for a free particle (one with no potential at all) and two gravitaitonal potential terms, so the Hamiltonian is...\n",
    "\n",
    "$$ \\mathcal H = \\frac12 m(\\dot x_r^2 + \\dot y_r^2) + \\frac12 m \\Omega^2 (x_r^2 + y_r^2) + m\\Omega(x_r\\dot y_r - \\dot x_r y_r) - \\frac{GM_0m}{r_0} - \\frac{GM_1m}{r_1} $$"
   ]
  },
  {
   "cell_type": "markdown",
   "id": "1d31defd",
   "metadata": {},
   "source": [
    "However, we need this to be in terms of momentum, not velocity. So we need to take the Genrealized Momenta. Which is usually phase III of the plans... man when we already have a Lagrangian the order gets screwed up a bit doesn't it.\n",
    "\n",
    "Regarldess. PHASE III: generalized momenta. For both x and y. \n",
    "\n",
    "$$ p_{x_r} = m\\dot x_r - m\\Omega y_r$$\n",
    "$$ p_{y_r} = m\\dot y_r + m\\Omega x_r$$\n",
    "\n",
    "PHASE IV: Solve in terms of velocity.\n",
    "\n",
    "$$ \\dot x_r = \\frac{p_{x_r} + m\\Omega y_r}{m} $$\n",
    "$$ \\dot y_r = \\frac{p_{y_r} - m\\Omega x_r}{m} $$\n",
    "\n",
    "Which means we can write the Hamiltonian as..."
   ]
  },
  {
   "cell_type": "markdown",
   "id": "797b5286",
   "metadata": {},
   "source": [
    "$$ \\mathcal H = \\frac12 m(\\left( \\frac{p_{x_r} + m\\Omega y_r}{m} \\right)^2 + \\left( \\frac{p_{y_r} - m\\Omega x_r}{m} \\right)^2) + \\frac12 m \\Omega^2 (x_r^2 + y_r^2) + m\\Omega(x_r\\frac{p_{y_r} - m\\Omega x_r}{m} - \\frac{p_{x_r} + m\\Omega y_r}{m} y_r) - \\frac{GM_0m}{r_0} - \\frac{GM_1m}{r_1} $$"
   ]
  },
  {
   "cell_type": "markdown",
   "id": "1f40d717",
   "metadata": {},
   "source": [
    "There are a handful of obvious simplificaitons.\n",
    "\n",
    "$$ \\mathcal H = \\frac{1}{2m} (\\left( p_{x_r} + m\\Omega y_r \\right)^2 + \\left( p_{y_r} - m\\Omega x_r \\right)^2) + \\frac12 m \\Omega^2 (x_r^2 + y_r^2) + \\Omega(x_r(p_{y_r} - m\\Omega x_r) - (p_{x_r} + m\\Omega y_r) y_r) - \\frac{GM_0m}{r_0} - \\frac{GM_1m}{r_1} $$"
   ]
  },
  {
   "cell_type": "markdown",
   "id": "0f8fe5ca",
   "metadata": {},
   "source": [
    "Expanding and recombining terms leads to some significant canceleaiton.\n",
    "\n",
    "$$ \\mathcal H = \\frac{p_{x_r}^2+ p_{y_r}^2}{2m} - \\frac{GM_0m}{r_0} - \\frac{GM_1m}{r_1} $$\n",
    "\n",
    "My, that's... amazingly simplified. "
   ]
  },
  {
   "cell_type": "code",
   "execution_count": null,
   "id": "e6c4589b",
   "metadata": {},
   "outputs": [],
   "source": []
  }
 ],
 "metadata": {
  "kernelspec": {
   "display_name": "Python 3 (ipykernel)",
   "language": "python",
   "name": "python3"
  },
  "language_info": {
   "codemirror_mode": {
    "name": "ipython",
    "version": 3
   },
   "file_extension": ".py",
   "mimetype": "text/x-python",
   "name": "python",
   "nbconvert_exporter": "python",
   "pygments_lexer": "ipython3",
   "version": "3.7.9"
  }
 },
 "nbformat": 4,
 "nbformat_minor": 5
}
