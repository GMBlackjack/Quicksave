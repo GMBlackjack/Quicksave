{
 "cells": [
  {
   "cell_type": "markdown",
   "id": "0c1bfe81",
   "metadata": {},
   "source": [
    "# Advanced Mechanics 07: This'll Make Your Head Spin!\n",
    "\n",
    "## Gabriel M Steward\n",
    "\n",
    "### March 2023"
   ]
  },
  {
   "cell_type": "markdown",
   "id": "56664bc2",
   "metadata": {},
   "source": [
    "<a id='toc'></a>\n",
    "\n",
    "# Table of Contents\n",
    "$$\\label{toc}$$\n",
    "\n",
    "[Problem 1](#P1) (Some Useful Moments of Inertia)\n",
    "\n",
    "[Problem 2](#P2) (JUPITER!)\n",
    "\n",
    "[Problem 3](#P3) (Principal Moments of Inertia)\n",
    "\n",
    "[Problem 4](#P4) (This Book)"
   ]
  },
  {
   "cell_type": "markdown",
   "id": "cd9e5529",
   "metadata": {},
   "source": [
    "<a id='P1'></a>\n",
    "\n",
    "# Problem 1 \\[Back to [top](#toc)\\]\n",
    "$$\\label{P1}$$"
   ]
  },
  {
   "cell_type": "markdown",
   "id": "3ad5f935",
   "metadata": {},
   "source": [
    "pg 129\n",
    "\n",
    "*Show that the Moment of Inertia of the following objects are as given:*\n",
    "\n",
    "*a) The moment of inertia of a sphere of uniform density with mass M and radius R about any line through the center is $\\frac25 MR^2$*"
   ]
  },
  {
   "cell_type": "markdown",
   "id": "74c4f275",
   "metadata": {},
   "source": [
    "*b) The moment of inertia of a spherical shell with mass M and radius R about any linet hrough teh center $\\frac25 MR^2$*"
   ]
  },
  {
   "cell_type": "markdown",
   "id": "5368790b",
   "metadata": {},
   "source": [
    "*c) The moment of inertia of a cylinder of uniform density with mass M and radius R about the axis of the cylinder is $\\frac12 MR^2$*"
   ]
  },
  {
   "cell_type": "markdown",
   "id": "e5d05481",
   "metadata": {},
   "source": [
    "*d) The moment of inertia of a thin rod of uniform desnity per unit length with mass M and length L about an axis perpendicular to the rod through the center of mass is $\\frac{1}{12} ML^2$*"
   ]
  },
  {
   "cell_type": "markdown",
   "id": "3dc10713",
   "metadata": {},
   "source": [
    "<a id='P2'></a>\n",
    "\n",
    "# Problem 2 \\[Back to [top](#toc)\\]\n",
    "$$\\label{P2}$$"
   ]
  },
  {
   "cell_type": "markdown",
   "id": "e96c83d7",
   "metadata": {},
   "source": [
    "*a) the density of a planet increases toward the center. Provide an argument that the moment of inertia of a planet is less than that of a sphere of unikform desnity of the same mass and radius.*"
   ]
  },
  {
   "cell_type": "markdown",
   "id": "d28f1f35",
   "metadata": {},
   "source": [
    "*b) The density as a function of radius inside Jupiter is well approximated by*\n",
    "\n",
    "$$\\rho(r) = \\frac{M}{R^3} \\frac{sin(\\pi r/R)}{4r/R}$$\n",
    "\n",
    "*where M is the mass and R is the radius of Jupiter. Find the moment of inertia of Jupiter in terms of M and R.*"
   ]
  },
  {
   "cell_type": "markdown",
   "id": "2636d12a",
   "metadata": {},
   "source": [
    "<a id='P3'></a>\n",
    "\n",
    "# Problem 3 \\[Back to [top](#toc)\\]\n",
    "$$\\label{P3}$$"
   ]
  },
  {
   "cell_type": "markdown",
   "id": "bf2370a6",
   "metadata": {},
   "source": [
    "pg 134\n",
    "\n",
    "*For each of the configuraitons described below find the principal moments of inertia with respect to the center of mass, and find the corresponding principal axes.*\n",
    "\n",
    "*hint note that on part a), make sure you use the correct dcoordinates of a tetrahedron relative to its center of mass. IT's nto easy or obvious, either calculate it or look it up.*\n",
    "\n",
    "*a) A regular tetrahedron consisting of four equal point masses tied together with rigit massless wire.*"
   ]
  },
  {
   "cell_type": "markdown",
   "id": "2471b398",
   "metadata": {},
   "source": [
    "*b) A cube of uniform desnity.*"
   ]
  },
  {
   "cell_type": "markdown",
   "id": "4e78fd23",
   "metadata": {},
   "source": [
    "*c) Five equal point masses rigidly connected by massless stuff. THe point masses are at the rectangular coordinates (-1,0,0) (1,0,0) (1,1,0) (0,0,0) (0,0,1).*"
   ]
  },
  {
   "cell_type": "markdown",
   "id": "1683bdc8",
   "metadata": {},
   "source": [
    "<a id='P4'></a>\n",
    "\n",
    "# Problem 4 \\[Back to [top](#toc)\\]\n",
    "$$\\label{P4}$$"
   ]
  },
  {
   "cell_type": "markdown",
   "id": "2ecdac72",
   "metadata": {},
   "source": [
    "*Measure this book. You will admit that it is pretty dense. Don't worry, you will get to throw it later. SHow that hte principal axes are the lines connecting the centers of opposite faces of the idealized brick approximating the book. Compute the corresponding principal moments of inertia.*"
   ]
  }
 ],
 "metadata": {
  "kernelspec": {
   "display_name": "Python 3 (ipykernel)",
   "language": "python",
   "name": "python3"
  },
  "language_info": {
   "codemirror_mode": {
    "name": "ipython",
    "version": 3
   },
   "file_extension": ".py",
   "mimetype": "text/x-python",
   "name": "python",
   "nbconvert_exporter": "python",
   "pygments_lexer": "ipython3",
   "version": "3.7.9"
  }
 },
 "nbformat": 4,
 "nbformat_minor": 5
}
