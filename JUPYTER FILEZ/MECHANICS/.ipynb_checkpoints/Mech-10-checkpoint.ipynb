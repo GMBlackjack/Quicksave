{
 "cells": [
  {
   "cell_type": "markdown",
   "id": "0c1bfe81",
   "metadata": {},
   "source": [
    "# Advanced Mechanics 10: The Power of Hamiltonians\n",
    "\n",
    "## Gabriel M Steward\n",
    "\n",
    "### April 2023"
   ]
  },
  {
   "cell_type": "markdown",
   "id": "56664bc2",
   "metadata": {},
   "source": [
    "<a id='toc'></a>\n",
    "\n",
    "# Table of Contents\n",
    "$$\\label{toc}$$\n",
    "\n",
    "[Problem 1](#P1) (Sliding Pendulum)\n",
    "\n",
    "[Problem 2](#P2) (On a Helical Track)\n",
    "\n",
    "[Problem 3](#P3) (An Ellipsoidal Bowl)\n",
    "\n",
    "[Problem 4](#P4) (Sleeping Top)"
   ]
  },
  {
   "cell_type": "markdown",
   "id": "cd9e5529",
   "metadata": {},
   "source": [
    "<a id='P1'></a>\n",
    "\n",
    "# Problem 1 \\[Back to [top](#toc)\\]\n",
    "$$\\label{P1}$$\n",
    "\n",
    "*(pg 201) For the pendulum with a sliding support (see exercise 1.20), derive a Hamiltonian and Hamilton's equations.*"
   ]
  },
  {
   "cell_type": "markdown",
   "id": "55283c74",
   "metadata": {},
   "source": [
    "The sliding pendulum is on page 53. $m_1$ is the sliding support, $m_2$ is the pendulum.\n",
    "\n",
    "Regardless, we follow the recipes.\n",
    "\n",
    "PHASE I: energies. \n",
    "\n",
    "$$ \\frac12 m_1v_1^2 + \\frac12 m_2v_2^2 $$\n",
    "\n",
    "$$ mgh_2 $$\n",
    "\n",
    "We leave off the potential energy for the support as it cannot change height. \n",
    "\n",
    "PHASE II Choose suitable generalized coordinates.\n",
    "\n",
    "Make this simple: we have one value x that refers to how far the support has slid, and an angle determining the angle of the pendulum. \n",
    "\n",
    "With this, we need to restate everything. The potential energy is easiest.\n",
    "\n",
    "$$ -mglcos\\theta $$\n",
    "\n",
    "Since we consider the point of the pivot to be \"0\" this is negative. l is the length. \n",
    "\n",
    "Now we need the velocities. $v_1 = \\dot x$, rather simply. The velocity of the bob itself is a bit more complicated, so let's construct it. The pendulum is first of all moving with $v_1$, and this is added to the contribution of the angle. So wwhen we construct our component x and y velocities, we need to be careful.\n",
    "\n",
    "$$ x' = x + lsin\\theta$$\n",
    "$$ y' = lcos\\theta $$\n",
    "$$ \\dot x' = \\dot x + lcos\\theta \\dot\\theta$$\n",
    "$$ \\dot y' = -lsin\\theta \\dot\\theta$$\n",
    "\n",
    "And then combinet o get...\n",
    "\n",
    "$$ v_2^2 = \\dot x^2 + l^2cos^2\\theta \\dot\\theta^2 + 2\\dot x l cos\\theta \\dot \\theta + l^2sin^2\\theta \\dot\\theta^2 $$\n",
    "$$ = \\dot x^2 + 2l^2\\dot\\theta^2 + 2\\dot x l cos\\theta \\dot \\theta $$\n",
    "\n",
    "So with these new coordinates the energies are now\n",
    "\n",
    "$$ \\frac12 m_1\\dot x^2 + \\frac12 m_2(\\dot x^2 + 2l^2\\dot\\theta^2 + 2\\dot x l cos\\theta \\dot \\theta) $$\n",
    "\n",
    "$$ -m_2glcos\\theta $$"
   ]
  },
  {
   "cell_type": "markdown",
   "id": "20dca358",
   "metadata": {},
   "source": [
    "PHASE III: \n",
    "\n",
    "Find the genrealized momenta. Since our potential field is not variable with time, we can do this with the kinetic energy directly.\n",
    "\n",
    "$$ p_x = m_1\\dot x + m_2\\dot x + m_2lcos\\theta \\dot\\theta $$\n",
    "$$ p_\\theta = 2m_2l^2\\dot\\theta + m_2 \\dot x lcos\\theta $$"
   ]
  },
  {
   "cell_type": "markdown",
   "id": "f839263c",
   "metadata": {},
   "source": [
    "PHASE IV:\n",
    "\n",
    "Solve for the velocity in terms of the other coordinates.\n",
    "\n",
    "$$ \\dot x = \\frac{p_x - m_2lcos\\theta \\dot\\theta}{m_1+m_2} $$\n",
    "$$ \\dot\\theta = \\frac{p_\\theta - m_2\\dot x l cos\\theta}{2m_2l^2} $$\n",
    "\n",
    "Except these velocities are still in terms of velocities. Can we get rid of this by substituting them into each other? Yes, but it becomes decidedly ugly. \n",
    "\n",
    "$$ \\dot x = \\frac{1}{m_1+m_2}\\left( 1-\\frac{m^2_2 l^2 cos^2\\theta}{2m_2l^2(m_1+m_2)} \\right)^{-1} \\left( p_x - \\frac{m_2lcos\\theta p_\\theta}{2m_2l^2}\\right) $$\n",
    "$$ \\dot \\theta = \\frac{1}{2m_2l^2}\\left( 1-\\frac{m^2_2 l^2 cos^2\\theta}{2m_2l^2(m_1+m_2)} \\right)^{-1} \\left( p_\\theta - \\frac{m_2lcos\\theta p_x}{m_1+m_2}\\right) $$\n",
    "\n",
    "That inverse term in the middle we shall replace with $A(\\theta)$ as it is the same in both and a function of $\\theta$ only. \n",
    "\n",
    "$$ \\dot x = \\frac{1}{m_1+m_2}A(\\theta)\\left( p_x - \\frac{m_2lcos\\theta p_\\theta}{2m_2l^2}\\right) $$\n",
    "$$ \\dot \\theta = \\frac{1}{2m_2l^2}A(\\theta)\\left( p_\\theta - \\frac{m_2lcos\\theta p_x}{m_1+m_2}\\right) $$\n"
   ]
  },
  {
   "cell_type": "markdown",
   "id": "3e69486b",
   "metadata": {},
   "source": [
    "PHASE V:\n",
    "\n",
    "Hamiltonian! This is just the total energy, easy.\n",
    "\n",
    "$$ \\frac12 m_1\\dot x^2 + \\frac12 m_2(\\dot x^2 + 2l^2\\dot\\theta^2 + 2\\dot x l cos\\theta \\dot \\theta) -m_2glcos\\theta $$\n",
    "\n",
    "Anyway, we now want to get rid of the velocities and state this in terms of just position and momentum. So we make the appropriate substitutions... which kind of make the equation too long to be useful, so we'll leave the substitution off for now, just know that each velocity is a function of $\\theta, p_x, p_\\theta$. Notably none of them depend on x directly, and the Hamiltonian itself doesn't either."
   ]
  },
  {
   "cell_type": "markdown",
   "id": "86d888d3",
   "metadata": {},
   "source": [
    "PHASE VI: \n",
    "\n",
    "Hamilton's equations are $Dq = \\partial_2 \\mathcal H, Dp = -\\partial_1 \\mathcal H$\n",
    "\n",
    "In our case, we have four: $Dx, D\\theta, Dp_x, Dp_\\theta$.\n",
    "\n",
    "We noted that nothing here depends on x at all, which means we can sole trivially for $Dp_x = -\\partial_1 \\mathcal H = 0$. That is, the overall momentum in the x direction is conserved. That's the easy one. The difficult one would be $Dp_\\theta$, so we turn to the other Hamliton equation first.\n",
    "\n",
    "Unfortunately, both velocities have terms that relate to both momentums in them. The only term we can ignore here is the potential energy as it has no momentum terms.\n",
    "\n",
    "$$ Dx = \\frac12 m_1\\partial_2\\dot x^2 + \\frac12 m_2(\\partial_2\\dot x^2 + 2l^2\\partial_2\\dot\\theta^2 + 2lcos\\theta\\partial_2\\dot x\\dot \\theta)$$"
   ]
  },
  {
   "cell_type": "markdown",
   "id": "cdf4d7af",
   "metadata": {},
   "source": [
    "Handle each term individually.\n",
    "\n",
    "$$ \\partial_2 \\dot x^2 = \\frac{A^2(\\theta)}{(m_1+m_2)^2} \\left( 2p_x - \\frac{cos\\theta p_\\theta}{l}\\right) $$\n",
    "$$ \\partial_2 \\dot \\theta^2 = \\frac{A^2(\\theta)}{4m_2^2l^4} \\left( - \\frac{2 m_2 l cos\\theta p_\\theta}{m_1+m_2} + \\frac{2 m_2^2 l^2 cos^2\\theta p_x}{(m_1+m_2)^2}\\right) $$\n",
    "$$ \\partial_2 \\dot x \\dot\\theta = \\frac{A^2(\\theta)}{2m_2l^2(m_1+m_2)} \\left( p_\\theta - \\frac{2m_2lcos\\theta p_x}{m_1+m_2} + \\frac{m_2^2 l^2 cos^2\\theta p_\\theta}{(m_1+m_2) 2m_2l^2} \\right)$$"
   ]
  },
  {
   "cell_type": "markdown",
   "id": "6d4c73ee",
   "metadata": {},
   "source": [
    "And so this gets us...\n",
    "\n",
    "$$ \\dot x = \\frac{m_1A^2(\\theta)}{2(m_1+m_2)^2} \\left( 2p_x - \\frac{cos\\theta p_\\theta}{l}\\right)\\\\ \n",
    "+ \\frac{m_2A^2(\\theta)}{2(m_1+m_2)^2} \\left( 2p_x - \\frac{cos\\theta p_\\theta}{l}\\right) \\\\\n",
    "+ \\frac{A^2(\\theta)}{4m_2l^2} \\left( - \\frac{2 m_2 l cos\\theta p_\\theta}{m_1+m_2} + \\frac{2 m_2^2 l^2 cos^2\\theta p_x}{(m_1+m_2)^2}\\right) \\\\\n",
    "\\frac{cos\\theta A^2(\\theta)}{2l(m_1+m_2)} \\left( p_\\theta - \\frac{2m_2lcos\\theta p_x}{m_1+m_2} + \\frac{m_2^2 l^2 cos^2\\theta p_\\theta}{(m_1+m_2) 2m_2l^2} \\right)$$"
   ]
  },
  {
   "cell_type": "markdown",
   "id": "ea1abbf1",
   "metadata": {},
   "source": [
    "Certainly a mess. In practice we shoudl be able to get back to the expresssion for $\\dot x$ we originally got, so let's see if that really works. First, pull out anything related to $(m_1+m_2)$.\n",
    "\n",
    "$$ \\dot x = \\frac{A(\\theta)}{m_1+m_2}\\left[ \\frac{A(\\theta)}{2} \\left( 2p_x - \\frac{cos\\theta p_\\theta}{l}\\right)\\\\ \n",
    "+ \\frac{A(\\theta)}{4m_2l^2} \\left( - 2 m_2 l cos\\theta p_\\theta + \\frac{2 m_2^2 l^2 cos^2\\theta p_x}{m_1+m_2}\\right) \\\\\n",
    "+\\frac{cos\\theta A(\\theta)}{2l} \\left( p_\\theta - \\frac{2m_2lcos\\theta p_x}{m_1+m_2} + \\frac{m_2 cos^2\\theta p_\\theta}{2(m_1+m_2) } \\right)\\right]$$"
   ]
  },
  {
   "cell_type": "markdown",
   "id": "3f23057d",
   "metadata": {},
   "source": [
    "Somehow we'll have to cancel that inner A term. At this point we filled several pages of notebook paper with math but did eventually prove that...\n",
    "\n",
    "$$ \\dot x = \\frac{A(\\theta)}{m_1+m_2} \\left[ A(\\theta) \\left(  p_x (1-\\frac{m_2 cos^2\\theta}{2(m_1+m_2)}) -p_\\theta \\frac{cos\\theta}{2l} (1-\\frac{m_2 cos^2\\theta}{2(m_1+m_2)})\\right) \\right] $$\n",
    "$$ \\Rightarrow \\dot x = \\frac{A(\\theta)}{m_1+m_2} \\left[\\left(  p_x -p_\\theta \\frac{cos\\theta}{2l} \\right) \\right] $$\n",
    "\n",
    "Which is, in fact, that $\\dot x$ started as. And while this may be a somewhat sketchy proposition to just declare true, we also say this holds for $\\dot \\theta$ since both $\\dot x$ and $\\dot \\theta$ have the same form, effectively symmetric mirrors of each other. Thus, we have three of the four Hamilton's equations. \n",
    "\n",
    "However, the last one is going to be the worst, but all of our coordinate equations depend on $p_\\theta$ so we can't exaclty skip it. So, derivative with respect to $\\theta...$ From what we learned previously, we consider the possibility of combining all the terms together and taking the derivative *last*, see how much we can possibly cancel.\n",
    "\n",
    "$$ \\frac{m_1+m_2}{2} \\dot x^2 = \\frac{A^2(\\theta)}{2(m_1+m_2)}\\left(p_x^2 - \\frac{cos\\theta}{l}p_x p_\\theta + \\frac{cos^2\\theta}{4l^2}p_\\theta^2\\right) $$\n",
    "$$ m_2 l^2 \\dot \\theta^2 = \\frac{A^2(\\theta)}{4m_2l^2}\\left(p_\\theta^2 - \\frac{2m_2lcos\\theta}{m_1+m_2}p_x p_\\theta + \\frac{m_2^2l^2cos^2\\theta}{(m_1+m_2)^2}p_x^2\\right) $$\n",
    "$$ m_2 l cos\\theta \\dot x \\dot \\theta = \\frac{A^2(\\theta)}{2l(m_1+m_2)}\\left(cos\\theta p_x p_\\theta - \\frac{m_2 l cos^2\\theta}{m_1+m_2} p_x^2 - \\frac{cos^2\\theta}{2l} p_\\theta^2 + \\frac{m_2 l cos^3\\theta}{2l(m_1+m_2)}p_x p_\\theta \\right) $$"
   ]
  },
  {
   "cell_type": "markdown",
   "id": "16dbe7c3",
   "metadata": {},
   "source": [
    "So, add all these together and see: can we simplify this BEFORE taking the derivative? Yes, actually! \n",
    "\n",
    "$$ Dp_\\theta = -\\partial_1 \\left[ A^2(\\theta) \\left( p_x^2 \\frac{1}{2(m_1+m_2)} \\frac1A - p_x p_\\theta \\frac{cos\\theta}{2l(m_1+m_2)} \\frac1A + p_\\theta^2 \\frac{1}{4m_2l^2} \\frac1A \\right) - m_2 glcos\\theta \\right] $$\n",
    "\n",
    "$$ = -\\partial_1 \\left[ A(\\theta) \\left( p_x^2 \\frac{1}{2(m_1+m_2)} - p_x p_\\theta \\frac{cos\\theta}{2l(m_1+m_2)} + p_\\theta^2 \\frac{1}{4m_2l^2} \\right) - m_2 glcos\\theta \\right] $$"
   ]
  },
  {
   "cell_type": "markdown",
   "id": "ade2bc78",
   "metadata": {},
   "source": [
    "This will in fact simplify the derivatives considerably. For now let the derivative of A equal a.\n",
    "\n",
    "$$ = -\\left[ \\left( p_x^2 \\frac{a(\\theta)}{2(m_1+m_2)} - p_x p_\\theta \\frac{a(\\theta) cos\\theta - A(\\theta) sin\\theta}{2l(m_1+m_2)} + p_\\theta^2 \\frac{a(\\theta)}{4m_2l^2} \\right) + m_2 glsin\\theta \\right] $$\n",
    "\n",
    "Now \n",
    "\n",
    "$$ A(\\theta) = \\left( 1-\\frac{m_2 cos^2\\theta}{2(m_1+m_2)} \\right)^{-1} $$\n",
    "\n",
    "so\n",
    "\n",
    "$$ a(\\theta) =  -\\frac{m_2}{m_1+m_2} cos\\theta sin\\theta \\left( 1-\\frac{m_2 cos^2\\theta}{2(m_1+m_2)} \\right)^{-2} $$\n",
    "$$ = -\\frac{m_2}{m_1+m_2} cos\\theta sin\\theta A^2(\\theta) $$"
   ]
  },
  {
   "cell_type": "markdown",
   "id": "f65166e5",
   "metadata": {},
   "source": [
    "Plugging this in gives us the result...\n",
    "\n",
    "$$ Dp_\\theta = -\\left[ \\left( - p_x^2 \\frac{m_2cos\\theta sin\\theta}{2(m_1+m_2)^2}A^2 - p_x p_\\theta \\frac{-\\frac{m_2}{m_1+m_2} cos^2\\theta sin\\theta A^2 - A sin\\theta }{2l(m_1+m_2)} - p_\\theta^2 \\frac{cos\\theta sin\\theta A^2}{4l^2(m_1+m_2)} \\right) + m_2 glsin\\theta \\right] $$"
   ]
  },
  {
   "cell_type": "markdown",
   "id": "35a8e795",
   "metadata": {},
   "source": [
    "$$ = \\left[  \\frac{A sin\\theta}{2(m_1+m_2)}\\left( p_x^2 \\frac{m_2cos\\theta}{(m_1+m_2)}A - p_x p_\\theta \\frac{\\frac{m_2}{m_1+m_2} cos^2\\theta A + 1 }{l} + p_\\theta^2 \\frac{cos\\theta A}{2l^2} \\right) - m_2 glsin\\theta \\right] $$"
   ]
  },
  {
   "cell_type": "markdown",
   "id": "741f6570",
   "metadata": {},
   "source": [
    "So, let's summarize what we have.\n",
    "\n",
    "$$ \\dot x = \\frac{A}{m_1+m_2}\\left( p_x - \\frac{m_2lcos\\theta p_\\theta}{2m_2l^2}\\right) $$\n",
    "$$ \\dot \\theta = \\frac{A}{2m_2l^2}\\left( p_\\theta - \\frac{m_2lcos\\theta p_x}{m_1+m_2}\\right) $$\n",
    "$$ \\dot p_x = 0 $$\n",
    "$$ \\dot p_\\theta = \\left[  \\frac{A sin\\theta}{2(m_1+m_2)}\\left( p_x^2 \\frac{m_2cos\\theta}{(m_1+m_2)}A - p_x p_\\theta \\frac{\\frac{m_2}{m_1+m_2} cos^2\\theta A + 1 }{l} + p_\\theta^2 \\frac{cos\\theta A}{2l^2} \\right) - m_2 glsin\\theta \\right] $$"
   ]
  },
  {
   "cell_type": "markdown",
   "id": "efbcab8d",
   "metadata": {},
   "source": [
    "And WE'RE DONE. Those are Hamilton's Equations, we don't have to go *any* further. Thank goodness, since actually trying to find $\\ddot x$ would be a nightmare at this point...\n",
    "\n",
    "Clearly, for this problem, Lagrangian is superior. While it was still complicated it didn't require pages upon pages of scratch work. Good gravy..."
   ]
  },
  {
   "cell_type": "markdown",
   "id": "ba3c6fd3",
   "metadata": {},
   "source": [
    "<a id='P2'></a>\n",
    "\n",
    "# Problem 2 \\[Back to [top](#toc)\\]\n",
    "$$\\label{P2}$$\n",
    "\n",
    "*(pg 214)*\n",
    "\n",
    "*A uniform cylinder of mass M, radius R, and height h is mounted so as to rotate freely on a vertical axis. A point mass of mass m is constrained to move on a uniform fricitonless helical track of pitch $\\beta$ (measured in radians per meter of drop along the cylinder) mounted on the surface of the cylinder (see figure 3.2). The mass is acted upon by standard gravity (9.8).*\n",
    "\n",
    "*a) What are the degrees of freedom of this system? Pick and describe a convenient set of genrealized coordiantes for this problem. Write a Lagrangian to describe the dynamical behavior. It may help you to know that the moment of inertia of a cylinder around its axis is $\\frac12 MR^2$. You may find it easier to do the algebra if various constants are combined and represented as single symbols.*"
   ]
  },
  {
   "cell_type": "markdown",
   "id": "34a9114a",
   "metadata": {},
   "source": [
    "We have two degrees of freedom: the rotation state of the cylinder itself and the position of the particle on the helix. Let's consider these coordinates s and $\\theta$. Have $\\theta$ go around counterclockwise positive as should be normal, and have s positive be upward. \n",
    "\n",
    "Hey wait a minute, this problem is having us do things out of order! Generalized coordinates are not the first Lagrangian step, writing out the energies are!\n",
    "\n",
    "ENERGIES: \n",
    "\n",
    "$$ \\frac12 I \\omega^2 + \\frac12 mv^2 $$\n",
    "$$ mgh $$\n",
    "\n",
    "And THEN we would choose our coordinates s and $\\theta$ which change the energies. However, given how the problem is stated, it's suddenly clear that we don't want to define s as a length but rather as an angle itself, as the pitch $\\beta$ is given in radians per meter. So let's replace s with $\\phi$ and treat it as an angle. Thus, the actual height is now $-\\beta\\phi$. (as we turn clockwise we see that the helix slopes downward).\n",
    "\n",
    "This does leave us one last thing to calculate: what is the velocity of the particle itself? We have two components, the y velocity, which is just $-\\beta \\dot \\phi$ but there's also the tangential component, which is related to the radius of the cylinder and is $R \\dot \\phi$... but this is if the cylinder isn't moving and dragging the helix around, which it is, which provides an additional tangential velocity of $R \\dot \\theta$. (Note: it is possible we're interpreting $\\beta$ wrong by assuming it to be positive while also sloping downward, but this can be solved at the end by replacing $\\beta$ with $-\\beta$ if required. It is just a constant after all.)\n",
    "\n",
    "Thus $v^2 = (\\beta^2 + R^2) \\dot \\phi^2 + R^2 \\dot \\theta^2$\n",
    "\n",
    "And so we can adjust the energies.\n",
    "\n",
    "$$ \\frac14 MR^2 \\dot \\theta^2 + \\frac12 m(\\beta^2 + R^2)\\dot\\phi^2 + \\frac12 m R^2 \\dot \\theta^2 $$\n",
    "$$ -mg\\beta\\phi $$\n",
    "\n",
    "The next step is to declare the Lagrangian, which is as far as the problem asks us to go for this part. \n",
    "\n",
    "$$ \\mathcal L = \\frac14 MR^2 \\dot \\theta^2 + \\frac12 m(\\beta^2 + R^2)\\dot\\phi^2 + \\frac12 m R^2 \\dot \\theta^2 + mg\\beta\\phi $$"
   ]
  },
  {
   "cell_type": "markdown",
   "id": "4bdf2074",
   "metadata": {},
   "source": [
    "By suggestion, we will replace some constants. (We did find trouble later by, apparently, not simplifying enough). So we shall let $\\frac14 MR^2 + \\frac12 mR^2 = A$ and $\\frac12m(\\beta^2 + R^2) = B$\n",
    "\n",
    "$$ \\mathcal L = A \\dot \\theta^2 + B \\dot \\phi^2  + mg\\beta\\phi $$"
   ]
  },
  {
   "cell_type": "markdown",
   "id": "12ed43bc",
   "metadata": {},
   "source": [
    "*b) Make a Hamiltonian for the system. Write Hamilton's equations for the system. Are there any conserved quantities?*"
   ]
  },
  {
   "cell_type": "markdown",
   "id": "1fa5ec9b",
   "metadata": {},
   "source": [
    "The Hamiltonian is as simple as changing the sign on the potential energy.\n",
    "\n",
    "$$ \\mathcal H = A \\dot \\theta^2 + B \\dot \\phi^2  - mg\\beta\\phi $$"
   ]
  },
  {
   "cell_type": "markdown",
   "id": "24fabc19",
   "metadata": {},
   "source": [
    "However, Hamiltonians shouldn't have velocities in them. This problem has massacred the procedure we're supposed to have, but we can go back and consider it. Namely, let's find the genrealized momenta. \n",
    "\n",
    "$$ p_\\theta = 2A\\dot\\theta$$\n",
    "$$ \\Rightarrow \\dot \\theta = \\frac{p_\\theta}{2A} $$\n",
    "\n",
    "$$ p_\\phi = 2B\\dot \\phi + mg\\beta $$\n",
    "$$ \\Rightarrow \\dot \\phi = \\frac{p_\\phi - mg\\beta}{2B} $$"
   ]
  },
  {
   "cell_type": "markdown",
   "id": "7b4d584b",
   "metadata": {},
   "source": [
    "Which can give us the proper form of the Hamiltonian.\n",
    "\n",
    "$$ \\mathcal H = \\frac{p_\\theta^2}{4A} + \\frac{(p_\\phi^2 - 2p_\\phi mg\\beta + m^2g^2\\beta^2)}{4B} - mg\\beta\\phi$$"
   ]
  },
  {
   "cell_type": "markdown",
   "id": "495c2379",
   "metadata": {},
   "source": [
    "Now here we can start finding Hamolton's equations, $Dq=\\partial_2 \\mathcal H , Dp = \\partial_1 \\mathcal H$.\n",
    "\n",
    "Start with the momentums that are probably obvious.\n",
    "\n",
    "$$ \\dot \\theta = \\frac{p_\\theta}{2A} $$\n",
    "$$ \\dot \\phi = \\frac{p_\\phi - mg\\beta}{2B} $$\n",
    "\n",
    "Yeah, as expected, obvious. Now do the other ones.\n",
    "\n",
    "$$ \\dot p_\\theta = 0 $$\n",
    "$$ \\dot p_\\phi = mg\\beta $$\n",
    "\n",
    "Momentum in $\\theta$ is conserved, but $\\phi$ is not. "
   ]
  },
  {
   "cell_type": "markdown",
   "id": "3dab3a3f",
   "metadata": {},
   "source": [
    "*c) If we release the point mass at a time t=0 at the top of the track with zero initial speed and let it slide down, what is the motion of the system?*"
   ]
  },
  {
   "cell_type": "markdown",
   "id": "a56923b6",
   "metadata": {},
   "source": [
    "So now we need to do the secret step where we find everything in terms of time (or at least be able to describe it as such). For that, we take time derivatives. Note that A and B are just constants. Odd constants that are combinations of a lot of things, but still constants. So the time derivatives don't effect them. \n",
    "\n",
    "$$ \\ddot \\theta = \\frac{\\dot p_\\theta}{2A} $$\n",
    "$$ \\ddot \\phi = \\frac{\\dot p_\\phi}{2B} $$\n",
    "\n",
    "Substituting in our momentum derivatives, we find...\n",
    "\n",
    "$$ \\ddot \\theta = 0 $$\n",
    "$$ \\ddot \\phi = \\frac{mg\\beta}{2B}$$\n",
    "\n",
    "Note that nothing here includes A, just B. We can unsubsittute B to cancel out the m.\n",
    "\n",
    "$$ \\ddot \\phi = \\frac{g\\beta}{\\beta^2 + R^2} $$"
   ]
  },
  {
   "cell_type": "markdown",
   "id": "1b5bde19",
   "metadata": {},
   "source": [
    "The system, when left in isolation, will experience no acceleration in the $\\theta$ coordinate, that is of the cylinder. One might think this is odd, shouldn't the bead moving be able to take momentum away from the cylinder? Well, not necessarily, since gravity is an outside force and it's adding momentum to the bead while doing nothing to the cylinder. Furthermore, the track the bead is on is fixed to the cylinder. This does not prove that there is no momentum transfer--that's done by the math above--but it makes the result reasonable.\n",
    "\n",
    "Anyway, one thing we do have is a constnat, positive acceleration in $\\phi$ due to gravity. This is not surprising at all, as spinning counterclockwise (positive) produces the downward motion, and as time goes on we go downward faster and faster. Note that this downward speed doesn't care at all about the rotation of the cylinder. This makes sense: the cylinder is unable to change its rotation speed due to the lack of acceleration, and so the bead is always experiencing a constant velocity and therefore we can *always* change the reference frame to be a rotating one where the bead feels like nothing is happening but the force of gravity. \n",
    "\n",
    "Note: thinking about this again, there should probably be a coriolis force of some kind on the bead, but it is restricted to mvoe with the helix, and the rotational speed of the cylinder would have no effect on pushing it up or down. Now, if we had *friction* in the system, there would actually be a reaction force between the bead and the wire, but there is no such thing. If we start the bead relatively motionless in a stably spinning situation, it will simply slide down the helix until it gets to the bottom, whatever that may be. \n",
    "\n",
    "Also we can write $\\phi(t) = \\phi_0 + \\dot\\phi_0 t +\\frac{g\\beta}{\\beta^2+R^2} \\ddot \\phi t^2$"
   ]
  },
  {
   "cell_type": "markdown",
   "id": "b2a601a6",
   "metadata": {},
   "source": [
    "<a id='P3'></a>\n",
    "\n",
    "# Problem 3 \\[Back to [top](#toc)\\]\n",
    "$$\\label{P3}$$\n",
    "\n",
    "*Consider a point particle of mass m constrained to move in a bowl and acted upon by a uniform gravitational acceleration g. The bowl is ellipsoidal, with height $z=ax^2+by^2$. Make a Hamiltonian for this system. Can you make any immediate deductions about this system?*"
   ]
  },
  {
   "cell_type": "markdown",
   "id": "df1aa650",
   "metadata": {},
   "source": [
    "That shape isn't really an ellipse, it's more parabolic as it has no \"edge\" where it would loop back around into an ellipsoid. But whatever, we can still work with it. Our goal is to create a Hamiltonian. So, let's figure out what we have.\n",
    "\n",
    "PHASE I: ENERGIES!\n",
    "\n",
    "We have a kinetic energy and a potential energy.\n",
    "\n",
    "$$ \\frac12 mv^2 $$\n",
    "\n",
    "$$ mgh $$\n",
    "\n",
    "PHSAE II: Genrealized Coordinates\n",
    "\n",
    "So we actually have several options for this. We could try to just use x and y, or we could use a grid that \"hugs\" the bowl. We think that, at the moment, it will be easier to think in x and y since we are given an equation in form of it. At the very least it'll make the potentail energy easy.\n",
    "\n",
    "$$ mg(ax^2 + by^2) $$\n",
    "\n",
    "The velocity though will be a combination of the x, y, and z velocities, whatever they are. Since we are using x and y already we don't have to worry about them, but the z velocity we need to convert from its definition. \n",
    "\n",
    "$$ \\dot z = 2ax\\dot x + 2by\\dot y $$\n",
    "\n"
   ]
  },
  {
   "cell_type": "markdown",
   "id": "4b8a52bc",
   "metadata": {},
   "source": [
    "From this we can say that the overall velocity is:\n",
    "\n",
    "$$ v^2 = 4a^2x^2 \\dot x^2 + 4b^2y^2\\dot y^2 + 4abxy\\dot x \\dot y + \\dot y ^2 + \\dot x ^2 $$\n",
    "\n",
    "And so our adjusted kinetic energy is\n",
    "\n",
    "$$ \\frac12 m \\left( 4a^2x^2 \\dot x^2 + 4b^2y^2\\dot y^2 + 4abxy\\dot x \\dot y + \\dot y ^2 + \\dot x ^2 \\right) $$"
   ]
  },
  {
   "cell_type": "markdown",
   "id": "8d32201d",
   "metadata": {},
   "source": [
    "PHASE III: generalized momenta.\n",
    "\n",
    "So we take the kinetic energy and take derivatives with respect to the two momentums we care about, y and x.\n",
    "\n",
    "$$ p_x = \\frac12 m \\left( 8 a^2 x^2 \\dot x + 4abxy\\dot y + 2\\dot x \\right) $$\n",
    "$$ p_y = \\frac12 m \\left( 8 b^2 y^2 \\dot y + 4abxy\\dot x + 2\\dot y \\right) $$\n",
    "\n",
    "PHASE IV: solve for velocity.\n",
    "\n",
    "If we consider only the velocities as our unknowns, we have two equations and two unknowns, so they *can* be solved for."
   ]
  },
  {
   "cell_type": "markdown",
   "id": "7f84b73f",
   "metadata": {},
   "source": [
    "$$ \\frac{2p_x - m(8a^2x^2+2) \\dot x}{4mabxy} = \\dot y $$\n",
    "$$ \\frac{2p_y - m(8b^2y^2+2) \\dot y}{4mabxy} = \\dot x $$"
   ]
  },
  {
   "cell_type": "markdown",
   "id": "7c4868ec",
   "metadata": {},
   "source": [
    "After some substituting and algebra, we can solve without velocity terms. \n",
    "\n",
    "$$ \\dot y = \\frac{p_xp_y - p_y m (4 a^2 x^2 + 1)}{p_x m (4b^2y^2 + 1) - m^2 (8a^2x^2+2)(8b^2y^2+2)} $$\n",
    "$$ \\dot x = \\frac{p_xp_y - p_x m (4 b^2 y^2 + 1)}{p_y m (4a^2y^2 + 1) - m^2 (8a^2x^2+2)(8b^2y^2+2)} $$"
   ]
  },
  {
   "cell_type": "markdown",
   "id": "f572dbc4",
   "metadata": {},
   "source": [
    "Now we can actually write the Hamiltonian for PHASE V:\n",
    "\n",
    "$$ \\mathcal H = \\frac12 m \\left( 4a^2x^2 \\dot x^2 + 4b^2y^2\\dot y^2 + 4abxy\\dot x \\dot y + \\dot y ^2 + \\dot x ^2 \\right) + ax^2 + by^2 $$\n",
    "\n",
    "And we're not going to make the actual velocity substitutions since that would just make the Hamiltonian absurdly large. Fortunately the problem only asks for the Hamiltonian, so there it is.\n",
    "\n",
    "The question is, what can we determine about this system just at a glance now?"
   ]
  },
  {
   "cell_type": "markdown",
   "id": "f00473cf",
   "metadata": {},
   "source": [
    "Unsure what exactly we're supposed to observe here? Nothing individual direction appears to be conserved. Of course, it coudl be possible that if we used another coordinate system, such as z and an angle, other things would have emerged..."
   ]
  },
  {
   "cell_type": "markdown",
   "id": "6524abd7",
   "metadata": {},
   "source": [
    "<a id='P4'></a>\n",
    "\n",
    "# Problem 4 \\[Back to [top](#toc)\\]\n",
    "$$\\label{P4}$$\n",
    "\n",
    "*(pg 233) Verify that the critical angular velocity above which an axisymmetric top can sleep is given by equation 3.105*"
   ]
  },
  {
   "cell_type": "markdown",
   "id": "cddbbc75",
   "metadata": {},
   "source": [
    "We seek to verify $\\omega_c = \\sqrt{4gMRA}/C$"
   ]
  },
  {
   "cell_type": "markdown",
   "id": "aebd48fb",
   "metadata": {},
   "source": [
    "This is the limit between where a top can \"Sleep\" and just spin without moving in the center, and where the top loses stability and generally starts moving in figure eight patterns. IT turns out this is modeled by the effective potential energy for a top, equation 3.103. \n",
    "\n",
    "$$ V_p = \\frac{p^2}{2C} + \\frac{p^2}{2A}tan^2(\\theta/2) + gMRcos\\theta $$"
   ]
  },
  {
   "cell_type": "markdown",
   "id": "61275fe0",
   "metadata": {},
   "source": [
    "We care about the nature of the extrema at $\\theta=0$, so we need the first and second derivatives. \n",
    "\n",
    "$$ V_p' = \\frac{p^2}{2A}\\left( tan(\\theta/2) + tan^3(\\theta/2) \\right) - gMRsin\\theta $$\n",
    "$$ V_p'' = \\frac{p^2}{4A}\\left( 1 + 4 tan^2(\\theta/2) + 3 tan^4(\\theta/2) \\right) - gMRcos\\theta $$\n",
    "\n",
    "So now that we have all the derivatives, what do we see at $\\theta=0?$\n",
    "\n",
    "$$ V_p = \\frac{p^2}{2C} + gMR $$\n",
    "$$ V_p' = 0 $$\n",
    "$$ V_p'' = \\frac{p^2}{4A} - gMR $$\n",
    "\n",
    "As expected of an extrema, the derivative is 0. The sign of the second derivative determines which way the maxima goes, so when the second derivative is zero we'll have the limit. \n",
    "\n",
    "$$ \\frac{p^2}{4A} = gMR $$\n",
    "$$ \\Rightarrow p = \\sqrt{4AgMR} $$\n",
    "\n",
    "Which is what we were asked to show... for the momentum, what we were asked for was specifically the frequency. So we just divide by C.\n",
    "\n",
    "$$ \\Rightarrow \\omega_c = \\sqrt{4AgMR}/C $$"
   ]
  },
  {
   "cell_type": "code",
   "execution_count": null,
   "id": "7e054c53",
   "metadata": {},
   "outputs": [],
   "source": []
  }
 ],
 "metadata": {
  "kernelspec": {
   "display_name": "Python 3 (ipykernel)",
   "language": "python",
   "name": "python3"
  },
  "language_info": {
   "codemirror_mode": {
    "name": "ipython",
    "version": 3
   },
   "file_extension": ".py",
   "mimetype": "text/x-python",
   "name": "python",
   "nbconvert_exporter": "python",
   "pygments_lexer": "ipython3",
   "version": "3.7.9"
  }
 },
 "nbformat": 4,
 "nbformat_minor": 5
}
