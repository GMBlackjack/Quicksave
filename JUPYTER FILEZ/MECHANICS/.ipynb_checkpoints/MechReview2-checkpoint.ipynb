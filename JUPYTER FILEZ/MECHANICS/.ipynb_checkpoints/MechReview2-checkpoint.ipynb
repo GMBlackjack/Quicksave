{
 "cells": [
  {
   "cell_type": "markdown",
   "id": "0c1bfe81",
   "metadata": {},
   "source": [
    "# Advanced Mechanics Review: The Second\n",
    "\n",
    "## Gabriel M Steward\n",
    "\n",
    "### April 2023"
   ]
  },
  {
   "cell_type": "markdown",
   "id": "0797be52",
   "metadata": {},
   "source": [
    "# Normal Modes"
   ]
  },
  {
   "cell_type": "markdown",
   "id": "3a896873",
   "metadata": {},
   "source": [
    "To solve a Normal Modes problem, one has to first solve the Lagrangian problem.\n",
    "\n",
    "PHASE I: Energies. Find your kinetic and potential energies. This should either be provided or be obvious.\n",
    "\n",
    "PHASE II: Coordinates. Define the new generalized coordinates that are helpful. In order to find velocities this might be helpful:\n",
    "\n",
    "$$ \\sqrt{(Dx)^2 + (Dy)^2 + (Dz)^2} $$\n",
    "\n",
    "PHASE III: The Lagrangian itself is L=T-U.\n",
    "\n",
    "PHASE IV: The Euler-Lagrange Equation is \n",
    "\n",
    "$$ D(\\partial_2 L) - \\partial_1 L = 0 $$\n",
    "\n",
    "Which is done once with respect to each variable (which should be one per degrees of freedom).\n",
    "\n",
    "This, all together, is merely the first part of the Normal Modes problem. Once we accomplish this we move on."
   ]
  },
  {
   "cell_type": "markdown",
   "id": "636faa61",
   "metadata": {},
   "source": [
    "PHASE II: The Matrices.\n",
    "\n",
    "$$ \\textbf M \\vec q'' = -\\textbf K \\vec q $$\n",
    "\n",
    "M is the mass matrix formed by the Lagrangian Equations, specifically the constants multiplied by the various accelerations. K is the constant on the non-acceleration parts, though we have to remember to add the minus sign. Write out these matrices explicitly.\n",
    "\n",
    "PHASE III: The Characteristic Equation\n",
    "\n",
    "$$ det(\\textbf K - \\omega^2 \\textbf M) = 0 $$\n",
    "\n",
    "Evaluate this until a (usually quadratic) equation results. \n",
    "\n",
    "PHASE IV: Solve!\n",
    "\n",
    "Solve for $\\omega$. There will be multiple results, these are the different normal modes.\n",
    "\n",
    "PHASE V: Magnitudes.\n",
    "\n",
    "So, this is the complicated part. The full Characteristic equation is:\n",
    "\n",
    "$$ (\\textbf K - \\omega^2 \\textbf M) \\vec a = 0 $$\n",
    "$$ a = Ae^{i\\delta} $$\n",
    "\n",
    "The amplitudes are A and the phases are $\\delta$, telling us how various particles/componetns move with respect to each other. Put the matrices together, perform the evaluation, and see what results. There should be one equation here for each individual coordinate. A and $\\delta$ might be somewhat ambiguous, but that can be resolved with physical considerations. "
   ]
  },
  {
   "cell_type": "markdown",
   "id": "38257999",
   "metadata": {},
   "source": [
    "A note: normal coordinates are coordinates where the two matrices M and K are both diagonal, making the two different components uncoupled. In the final result this is shown by indicating that the solution for one coordinate does not involve the other, and each mode only acts in one. \n",
    "\n",
    "We do not believe we will be required to use this, but have Homework 06 on hand just in case. "
   ]
  },
  {
   "cell_type": "markdown",
   "id": "1f1a2bd2",
   "metadata": {},
   "source": [
    "# Rotation I: Moment of Inertia Tensor"
   ]
  },
  {
   "cell_type": "markdown",
   "id": "73487c1d",
   "metadata": {},
   "source": [
    "The basic moment of inertia can be calcualted with the integral\n",
    "\n",
    "$$ I = \\int r^2 dm = \\int r^2 \\rho dV$$\n",
    "\n",
    "where dV is the volume element of whatever coordinate system we're using.\n",
    "\n",
    "Now the tensor ITSELF has nine components. \n",
    "\n",
    "$$ I_{ii} = \\int(\\zeta_j^2 + \\zeta_k^2) dm $$\n",
    "$$ I_{ij} = -\\int(\\zeta_i \\zeta_j dm) $$\n",
    "\n",
    "Each $\\zeta$ is a component, such as xyz in Cartesian.\n",
    "\n",
    "There are summation versions of the tensor as well.\n",
    "\n",
    "$$I_{ii} = m \\sum_a ((\\zeta_a^j)^2+(\\zeta_a^k)^2) $$\n",
    "$$I_{ij} = -m\\sum_a (\\zeta_a^i \\zeta_a^j)$$"
   ]
  },
  {
   "cell_type": "markdown",
   "id": "ff8dfcd3",
   "metadata": {},
   "source": [
    "At this point, we would most often want to find the Princilap Axes, that is, the axes where the diagonal terms exist and the off-diagonals are zero. To do this... \n",
    "\n",
    "So PHASE I was to find the normal Moment of Inertia Tensor, which we would have done if we followed the steps above. \n",
    "\n",
    "PHASE II: Eigenvalue Problem. Basically, subtract $\\lambda$ off the diagonals, take the determinant, set it to zero, solve for $\\lambda$. \n",
    "\n",
    "PHASE III: with the known $\\lambda$ values, solve\n",
    "\n",
    "$$ \\textbf I \\hat a = 0 $$\n",
    "\n",
    "From these we can then find the values A, B, C, which are the various moments of inertia along a diagonal, with C being the largest, B being intermediate, and A being the smallest. "
   ]
  },
  {
   "cell_type": "markdown",
   "id": "13501f79",
   "metadata": {},
   "source": [
    "# Rotation II: Intermediate Axis Theorem"
   ]
  },
  {
   "cell_type": "markdown",
   "id": "cc3e2f73",
   "metadata": {},
   "source": [
    "The intermediate axis theorem basically states that you can't spin in a stable state around the B axis.\n",
    "\n",
    "But if we expand it we can determine the behavior of various rotating bodies in accordance with their torques.\n",
    "\n",
    "$$ T_a = AD\\omega^a - (B-C)\\omega^b \\omega^c $$\n",
    "$$ T_b = BD\\omega^b - (C-A)\\omega^c \\omega^a $$\n",
    "$$ T_c = CD\\omega^c - (A-B)\\omega^a \\omega^b $$\n",
    "\n",
    "Which are determined entirely by these relations. \n",
    "\n",
    "Not much else to say here, it's all kind of... there."
   ]
  },
  {
   "cell_type": "markdown",
   "id": "ce50ac84",
   "metadata": {},
   "source": [
    "# Rotation III: Precession\n",
    "\n",
    "Even though this was said to not be on the test it's important to review it, since it technically does arise from Intermediate Axis concerns. That is, turning one way implies a turn in the other way. The core equation here is that\n",
    "\n",
    "$$ \\vec \\tau = \\vec r \\times \\vec F = d\\vec L / dt $$\n",
    "\n",
    "L is the angular momentum, which is just $I\\omega \\hat c$ around whatever axis. It is possible to, from this, find the precession of a basic object. ($\\hat c$ is just any spinning axis, though usually it is C). There are other ways to do it but this is the one we choose as it is the most helpful, decidedly. "
   ]
  },
  {
   "cell_type": "markdown",
   "id": "3ec286af",
   "metadata": {},
   "source": [
    "# Addendum: Hamiltonians\n",
    "\n",
    "Hamiltonians! Added here since making an entirely new review for them is kind of pointless. \n",
    "\n",
    "There are two types of Hamiltohnian problem. The first is the genreal case:\n",
    "\n",
    "$$ \\mathcal H(t,q,p) = p \\mathcal V(t,q,p) - \\mathcal L(t,q,V)) $$\n",
    "\n",
    "Where p is a coordiante momentum and V is a coordiante velocity in terms of the coordinate and momentum.\n",
    "\n",
    "However, the VAST majority of times we can just say the Hamiltonian is the energy, so long as the potential energy field is not changing in time.\n",
    "\n",
    "$$ \\mathcal H = T + U $$\n",
    "\n",
    "Tah-dah. \n",
    "\n",
    "Anyway, knowing this, the steps are as follows.\n",
    "\n",
    "PHASE I: Write down the energies in basic form.\n",
    "\n",
    "PHASE II: Choose your generalized coordinates.\n",
    "\n",
    "PHASE III: The Generalized Momenta need to be found via $\\mathcal P = \\partial_2 \\mathcal L$, which usually just reduces to the kinetic energy as the potential rarely contains velocity terms. Calculating the Lagrangian may not even be necessary.\n",
    "\n",
    "PAHSE IV: Solve the generalized momenta in terms of velocities so we can substitute out the velocities.\n",
    "\n",
    "PHASE V: Write out the Hamiltonian. A proper Hamiltonian has no remaining velocity terms in it.\n",
    "\n",
    "PHASE VI: Use Hamilton's Equations $Dq = \\partial_2 \\mathcal H, Dp = -\\partial_1 \\mathcal H$. Basically find expressions for velocities and momenta.Expect the velocity relations to be the same as before. \n",
    "\n",
    "PHASE VII: If asked to solve for something else, do that. Supposedly having Hamilton's Equations will be all the necessary tools. "
   ]
  },
  {
   "cell_type": "code",
   "execution_count": null,
   "id": "e15c2936",
   "metadata": {},
   "outputs": [],
   "source": []
  }
 ],
 "metadata": {
  "kernelspec": {
   "display_name": "Python 3 (ipykernel)",
   "language": "python",
   "name": "python3"
  },
  "language_info": {
   "codemirror_mode": {
    "name": "ipython",
    "version": 3
   },
   "file_extension": ".py",
   "mimetype": "text/x-python",
   "name": "python",
   "nbconvert_exporter": "python",
   "pygments_lexer": "ipython3",
   "version": "3.7.9"
  }
 },
 "nbformat": 4,
 "nbformat_minor": 5
}
