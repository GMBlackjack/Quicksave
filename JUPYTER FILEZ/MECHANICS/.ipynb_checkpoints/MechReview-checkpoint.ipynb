{
 "cells": [
  {
   "cell_type": "markdown",
   "id": "0c1bfe81",
   "metadata": {},
   "source": [
    "# Advanced Mechanics Review: The First\n",
    "\n",
    "## Gabriel M Steward\n",
    "\n",
    "### February 2023"
   ]
  },
  {
   "cell_type": "markdown",
   "id": "cd9e5529",
   "metadata": {},
   "source": [
    "# Geodesics"
   ]
  },
  {
   "cell_type": "markdown",
   "id": "384dc6fb",
   "metadata": {},
   "source": [
    "A good way to find the path integral, and thus the funciton we want to minimize, is to start with the \"line element\" of any given coordinate system.\n",
    "\n",
    "Cartesial: $dx \\hat x + dy \\hat y + dz \\hat z$\n",
    "\n",
    "Spherical: $dr \\hat r + r d\\theta \\hat \\theta + r sin\\theta d\\phi \\hat \\phi$\n",
    "\n",
    "Cylindrical: $d\\rho \\hat \\rho + \\rho d\\phi \\hat \\phi + dz \\hat z$\n",
    "\n",
    "These contain the information on how each coordinate changes with each other coordinate. For example, the cartesian length element is\n",
    "\n",
    "$$ \\sqrt{dx^2 + dy^2 + dz^2} $$\n",
    "\n",
    "With all three directions squared and added together. The additional factors for spherical and cylindrical coordinates are squared with the infinitesimals, and thus we have the function we need to integrate over to get the length. This is the integrand f we will use to find the shortest paths.\n",
    "\n",
    "If we actually wanted to find the length we would use\n",
    "\n",
    "$$ L = \\int_a^b f dl $$\n",
    "\n",
    "But most often we will use f itself and avoid the overall integral. Instead, we apply the Euler-Lagrange equation to the function f.\n",
    "\n",
    "$$ \\frac{\\partial f}{\\partial q_1} - \\frac{d}{dq_0} \\frac{\\partial f}{\\partial \\dot q_1} = 0$$\n",
    "\n",
    "Though we see this more often as\n",
    "\n",
    "$$ D(\\partial_2 f) - \\partial_1 f = 0 $$\n",
    "\n",
    "This equation is used for basically all applicaitons. In the case of finding the geodesic (shortest path) we take the partials with respect to 1 variable and the \"time\" derivative D with respect to another one. This usually involves solving for the velocity of one component in terms of the other and then integrating. \n",
    "\n",
    "Of special note, if he asks us to prove that the shortest path between two points in cartesian space is a straight line, remember to parameterize x, y, and z as functions of some other quantity u and use the u as the definite integral. From this we can create the function f and use the E-L equation on each individual coordinate. All rates of change should become constant shortly afterward. "
   ]
  },
  {
   "cell_type": "markdown",
   "id": "00594f34",
   "metadata": {},
   "source": [
    "# Degrees of Freedom\n",
    "\n",
    "Degrees of freedom are the minimum number of coordinates needed to parameterie a system. A completely free three dimensional object with no internal symmetry has six: three position coordinates, and three angular coordinates. Two independend objects have twelve, six for each of them. Restricted objects oftne have less, anything stuck on a wire has 1 degree of freedom.\n",
    "\n",
    "It's hard to write down a thing to \"review\" for this, sicne degrees of freedom determinations generally involve some art to them. Suggestions include sketching out the problem and trying to figure out how you would describe the positions of all the quantities that matter."
   ]
  },
  {
   "cell_type": "markdown",
   "id": "3dc10713",
   "metadata": {},
   "source": [
    "# The Lagrangian"
   ]
  },
  {
   "cell_type": "markdown",
   "id": "ceb58de8",
   "metadata": {},
   "source": [
    "As far as we are concerned, the Lagrangian is L = T - U, the kinetic minus the potential energy, we have not yet encountered any of the complications to this.\n",
    "\n",
    "The Lagrangian can be treated as our funciton f in the E-L equation. Which suggests that we are minimizing something to find our results. What are we minimizing? This bizarre quantity called the action that has no real... meaning, it's just what we minimize to get the answer. For the record...\n",
    "\n",
    "$$ Action = \\int_a^b L dt$$\n",
    "\n",
    "Big surprise. \n",
    "\n",
    "Anyway, when solving a problem involving a Lagrangian, FOLLOW THE STEPS! \n",
    "\n",
    "**PHASE I:** write down your energies.\n",
    "\n",
    "Do it in complete generality. All kinetic energies are $\\frac12 mv^2$ and all potential energies take their generic forms, just be sure to note with subscripts different masses and velocities for each component. Never forget your rotational kinetic energy, $\\frac12I\\omega^2$. \n",
    "\n",
    "**PHASE II:** declare your coordinate system and find out what quantities you have.\n",
    "\n",
    "So, this is where you use the Degrees of Freedom to find a desirable coordinate system, almost always one with a number of coordinates equal to the degrees of freedom. (Force problems need one more, but we'll talk about those later). Find a way to state the energies from PHASE I in the coordinates you defined here. For positions this is usually easy, but for velocities this is sometimes difficult. Sometimes you can just determine the velocities by eyeballing the situation, but if not, you can always resort to the tried and true method of brute-forcing it. Start by declaring the cartesian coordiantes in terms of the new variables, then take their time derivatives. (Their TOTAL time derivatives, remember the chain rule!)\n",
    "\n",
    "After that, just manually find the velocity:\n",
    "\n",
    "$$ \\sqrt{(Dx)^2 + (Dy)^2 + (Dz)^2} $$\n",
    "\n",
    "This should get all the velocities you might need. Though it could easily be tedious. \n",
    "\n",
    "**PHASE III:** Write down the Lagrangian.\n",
    "\n",
    "L = T - U. This step is trivial for standard problems, less so for force problems, but those come later.\n",
    "\n",
    "**PHASE IV:** Calculate the Lagrangian Equations.\n",
    "\n",
    "Bring out your Euler-Lagrange equation:\n",
    "\n",
    "$$ D(\\partial_2 L) - \\partial_1 L = 0 $$\n",
    "\n",
    "Take the non-time derivatives with respect to all variables in your system defined in PHASE II. You will end up with one equation per variable you have. Nothing really to write about here, besides WATCH YOUR SIGNS and CAREFUL WITH THE TOTAL TIME DERIVATIVE. \n",
    "\n",
    "Sometimes at this point the problem is solved. At other times you have to add a secret PHASE V which involves putting the answer in the form of $x(t) = something$. It's sometimes difficult to tell when a problem wants this, but usually I've found that the \"equations of motion\" want to be coordinates with respect to a time, while \"lagrange equations\" do not, but this is not consistent so we'll probably just have to ask Dr. Barnes what he wants when we do it.\n",
    "\n",
    "We kind of just have to trust the math and what we get out, because some odd terms show up sometimes. Some common results it might help to recognize are the pendulum relation\n",
    "\n",
    "$$ \\ddot \\theta = -\\frac{g}{l} sin\\theta $$\n",
    "\n",
    "The coriolis force\n",
    "\n",
    "$$ -2m\\omega v $$\n",
    "\n",
    "The centrifugal force\n",
    "\n",
    "$$ m\\omega^2 r $$\n",
    "\n",
    "And the gravitational force. \n",
    "\n",
    "$$ \\frac{GMm}{r^2} $$\n",
    "\n",
    "Maybe also the electromagnetic force, but that's generally not been used.\n",
    "\n",
    "$$\\frac{GQq}{r^2}$$"
   ]
  },
  {
   "cell_type": "markdown",
   "id": "2636d12a",
   "metadata": {},
   "source": [
    "# Force Problems"
   ]
  },
  {
   "cell_type": "markdown",
   "id": "8b6ab383",
   "metadata": {},
   "source": [
    "Everyone's favorite. Sometimes the Lagrangian problem will ask for a force to be determined, which means we have to make our Lagrangian more complicated. We have to use one more coordinate than the degrees of freedom of our system. This is so we can relate those coordinates together with a constraint equation. \n",
    "\n",
    "During PHASE II, we come up with the coordinate system (with the extra coordinate) and we also come up with a constraint equation that relates the two of them together. If, say, a bead were restricted on a straight line passing through the origin, we could requrie that x=y, so our constraint f = x-y = 0. This is a position constriant, if we have a velocity based constraint (f = x' - y' = 0) things are slightly different later on. \n",
    "\n",
    "Let's consider the position constraint first. In this case, we have a new Lagrangian:\n",
    "\n",
    "$$ L' = L + \\lambda f $$\n",
    "\n",
    "Where f is our constriang. When we go into PHASE IV and apply the E-L equation, we now take it with respect to the coordinates we came up with (including the extra one) **and** with respect to $\\lambda$, creating a total of degrees of freedom + 2 equations for the system, though the last equation is generally just the constraint itself. \n",
    "\n",
    "From this, we should be able to solve for $\\lambda$. Got no advice here, each system of equations is different, hope you like algebra.\n",
    "\n",
    "However, once we have $\\lambda$, we can find the forces of constraint, that is, the forces that constrain the system. (This won't include forces implicitly included, like gravity in potential energy.) The general formula for these forces is\n",
    "\n",
    "$$ F = \\lambda \\frac{\\partial f}{\\partial q} $$\n",
    "\n",
    "Where q is the coordinate in question. \n",
    "\n",
    "Now for a *velocity-based* constraint, thigns are a little different. The Lagrangian is similar but not the same.\n",
    "\n",
    "$$ L' = L + \\lambda' f $$\n",
    "\n",
    "This $\\lambda'$ does not have to be a constant, like its brother, but it can also be a linear function of time. It does not have to be, though, best I can tell. From this, we apply the E-L equations to all the coordinates and then $\\lambda'$ itself. Otherwise carry on as normal. "
   ]
  }
 ],
 "metadata": {
  "kernelspec": {
   "display_name": "Python 3 (ipykernel)",
   "language": "python",
   "name": "python3"
  },
  "language_info": {
   "codemirror_mode": {
    "name": "ipython",
    "version": 3
   },
   "file_extension": ".py",
   "mimetype": "text/x-python",
   "name": "python",
   "nbconvert_exporter": "python",
   "pygments_lexer": "ipython3",
   "version": "3.7.9"
  }
 },
 "nbformat": 4,
 "nbformat_minor": 5
}
