{
 "cells": [
  {
   "cell_type": "markdown",
   "id": "0c1bfe81",
   "metadata": {},
   "source": [
    "# Differential Equations Review 2\n",
    "\n",
    "## Gabriel M Steward\n",
    "\n",
    "### October 2022"
   ]
  },
  {
   "cell_type": "markdown",
   "id": "56664bc2",
   "metadata": {},
   "source": [
    "<a id='toc'></a>\n",
    "\n",
    "# Table of Contents\n",
    "$$\\label{toc}$$\n",
    "\n",
    "[Chapter 2](#P1) \n",
    "\n",
    "[Chapter 3](#P2) \n",
    "\n",
    "[Chapter 4](#P3)\n"
   ]
  },
  {
   "cell_type": "markdown",
   "id": "cd9e5529",
   "metadata": {},
   "source": [
    "<a id='P1'></a>\n",
    "\n",
    "# Chapter 2\\[Back to [top](#toc)\\]\n",
    "$$\\label{P1}$$"
   ]
  },
  {
   "cell_type": "markdown",
   "id": "2f476d8a",
   "metadata": {},
   "source": [
    "### 2.5.4 Qualitative Properties of Laplace's Equation\n",
    "\n",
    "Rule 1: on a system subject to Laplace's equation $\\nabla^2 f = 0$, the average value on a circle is equal to the value in the center. Doesn't matter how big the circle is.\n",
    "\n",
    "A deduction from this is that, in steady state situations, temperature cannot attain a maximum in the interior, only on the edge. This is also true of the minimum. They both are found on the boundary, somehow. \n",
    "\n",
    "Some properties of note: a problem is well-posed if its solution varies only a little from slight altercations of the initial data. Laplace's equation is well posed. The inverse heat equation is not. \n",
    "\n",
    "Uniqueness means that there is only one solution for the problem, and no others.\n",
    "\n",
    "Sometimes it is possible to generate initial data that cannot be solved. For laplace's equation,\n",
    "\n",
    "$$ 0 = \\oint \\nabla u \\cdot \\hat n dx$$\n",
    "\n",
    "is the solvability condition. Basically the function itself has to be steady. In the case of the heat equation this means the heat flow out of the boundary must be zero, which is very sensible for a steady-state heat equation. Note that Laplace's equation can also be used to solve for electric potentials, and it obeys the same situation, since the $\\nabla^2 V = 0$ equation only applies to electrostatics, where potentials never move at all. "
   ]
  },
  {
   "cell_type": "markdown",
   "id": "3dc10713",
   "metadata": {},
   "source": [
    "<a id='P2'></a>\n",
    "\n",
    "# Chapter 3 \\[Back to [top](#toc)\\]\n",
    "$$\\label{P2}$$"
   ]
  },
  {
   "cell_type": "markdown",
   "id": "50e0ca1b",
   "metadata": {},
   "source": [
    "### 3.1 Introduction to Fourier Series\n",
    "\n",
    "Okay so there's no need to write down the actual Fourier series itself, it'll be provided on the test and everything. But some notes about what is true about them.\n",
    "\n",
    "First, Fourier Series only work on piecewise smooth functions, which are funcitons that can be split up into smooth chunks and also have those chunks have constant derivatives. Basically any standard funciton can have this work for it, but obviously those funky rational/irrational split functions won't work. Jump continuities are just fine... so long as there's a finite number of them.\n",
    "\n",
    "Fourier series' are periodic with periods 2L, centered around the origin. Always be sure to be careful with them."
   ]
  },
  {
   "cell_type": "markdown",
   "id": "16e4a3a6",
   "metadata": {},
   "source": [
    "### 3.2 Statement of the Convergence Theorem\n",
    "\n",
    "\"~\" is the symbol used to denote a Fourier series when we aren't sure if it converges. Yet. \n",
    "\n",
    "The Fourier series converges on piecewise smooth functions, becoming the periodic extension of the funcitons. On discontinuities, the value becomes the average value of both limits on the function itself.\n",
    "\n"
   ]
  },
  {
   "cell_type": "markdown",
   "id": "16a07f6b",
   "metadata": {},
   "source": [
    "### 3.3 Fourier Cosine and Sine Series\n",
    "\n",
    "The simple thing is just that the A terms go to cosine, the B terms go to sine, and they're just part of the total series. Even functions are purely cosine, odd functions are purely sine. Each part can be split up into either part of the series. Also for purely even or odd funcitons you can integrate half of them, should you wish, it might make it easier.\n",
    "\n",
    "If one wishes, a purely sine or cosine series solution to a function can be found, by even even-extending or odd-extending the function across the origin and just ignoring whatever it was over there before. In the 0 to L region, it will still be a perfect series.\n",
    "\n",
    "For certain kinds of discontinuities, Gibbs Phenomena will show up, that is spikes near dicontinuities where there is an overshoot. It doesn't happen at every kind of discontinuity, but harsh jumps usually produce it. \n",
    "\n",
    "Most of this seems kind of self-evident, now.\n",
    "\n",
    "It is trivial to prove that every funciton in existnece that's piecewise conitnuous has an even and an odd part since the fourier series exists for it and all the terms are eitehr even or odd and add together to the original function. So, yeah. \n",
    "\n",
    "For TRUE continuity of a fourier series, the function f(x) has to be continuous as well AND -L has to equal L. That is, it needs to be able to wrap around. \n",
    "\n",
    "Notably the even extension forces the wrapping property. This is not true for the odd extension. "
   ]
  },
  {
   "cell_type": "markdown",
   "id": "543f7927",
   "metadata": {},
   "source": [
    "### 3.4 Term-By-Term Differentiation of Fourier Series\n",
    "\n",
    "So, sometimes you want to take derivatives of your series. That only works in some cases. Those cases?\n",
    "\n",
    "Full Fourier Series: If f(x) is continuous and f'(x) is piecewise smooth.\n",
    "\n",
    "Cosine Series: If f'(x) is piecewise smooth and f(x) is continuous. \n",
    "\n",
    "Sine Series: If f'(x) is piecewise smooth and f(x) is continuous. \n",
    "\n",
    "Note how the continuity is basically the same for all of them. Now, due to the nature of the extensions, there is some looping we have to worry about and boundary conditions, but those can be checked at the time. \n",
    "\n",
    "There's also some stuff here about multi-parameter nonsense but as I don't remember doing that it shall be skipped."
   ]
  },
  {
   "cell_type": "markdown",
   "id": "ea06b445",
   "metadata": {},
   "source": [
    "### 3.5 Term-By-Term Integration of Fourier Series\n",
    "\n",
    "To integrate, all you need is a piecewise smooth f(x). That's it. And as an integral you get a ton of bonus properties, the integrated series is always convergent to the actual itnegral F(x)! Jump continuities vanish in integrals, after all.\n",
    "\n",
    "That said, keep in mind that the series produced is not always a fourier series in and of itself, sometimes adjustments need to be made to get it to that point. Usually involving $A_0$.\n",
    "\n",
    "Integrating from 0 to x will generally accomplish what you want, but if you do indefinite integration, the constant C will need to ve evaluated. "
   ]
  },
  {
   "cell_type": "markdown",
   "id": "a75773f6",
   "metadata": {},
   "source": [
    "### 3.6 Complex Form of Fourier Series\n",
    "\n",
    "This is rarely used as it's a bit harder to work with, but everything can be compressed into:\n",
    "\n",
    "$$ f(x) \\text{~} \\sum_{n=-\\infty}^\\infty C_n e^{in\\pi x/L} $$\n",
    "$$ C_n = \\frac{1}{2L} \\int_{-L}^L f(x) e^{in\\pi x/L} dx $$\n",
    "\n",
    "Which, y'know, might be easier to remember if we didn't have a formula sheet on offer. "
   ]
  },
  {
   "cell_type": "markdown",
   "id": "529237d0",
   "metadata": {},
   "source": [
    "<a id='P3'></a>\n",
    "\n",
    "# Chapter 4 \\[Back to [top](#toc)\\]\n",
    "$$\\label{P3}$$"
   ]
  },
  {
   "cell_type": "markdown",
   "id": "25f33a2a",
   "metadata": {},
   "source": [
    "### 4.1 - 4.2 Derivation of a Vertically Vibrating String\n",
    "\n",
    "Okay so we might actually want to pay attention to how this is derived since, for all we know, it could just be up and asked. What fun would that be? \n",
    "\n",
    "The funciton u here is not heat, but vertical displacement we might usually think of as y. The relation of this string to everything else is given by:\n",
    "\n",
    "$$ \\rho_0 (x) \\frac{\\partial^2 u}{dt^2} = \\frac{\\partial}{\\partial x} (T\\frac{\\partial u}{\\partial x}) + \\rho_0(x)Q(x,t) $$\n",
    "\n",
    "Now, u is the vertical displacement funciton that depends on both time t and position x. But what is all the rest of this stuff? Well, $\\rho_0(x)$ is just the density. More often than not this is a single number constant throughout the rope, but it can vary. T is the tension in the rope, which can varry in (x,t) as different parts are stretched differently, but often we just assume perfect strings with constant tension. Q meanwhile is the vertical component of the body force per unit mass. Which is. Uh. Okay what actually IS Q? Well, in most physical situations, it is just gravity, as only gravity is acting on the wave. It represents forces acting on the string from outside.\n",
    "\n",
    "Okay, so, special conditions. We can usually assume T is constant due to a perfectly elastic string. Next we ignore Q as the force of gravity is usually pathetic to whatever is running through the string, or we're treating everything as a string in a vacuum. And if we treat the density as a constant as well, we get the much easier to work with:\n",
    "\n",
    "$$ \\frac{\\partial^2 u}{\\partial t^2} = c^2 \\frac{\\partial^2 u}{\\partial x^2} $$\n",
    "\n",
    "Where $c^2 = T/\\rho$. c is, in fact, a velocity. (Probably related to the speed of light but we all see that one coming...)\n",
    "\n",
    "Probably best to just memorize this form, it makes for lots of useful work. "
   ]
  },
  {
   "cell_type": "markdown",
   "id": "7cfbaadd",
   "metadata": {},
   "source": [
    "### 4.3 - 4.4 Boundary Conditions and Vibrating Stirng With Fixed Ends\n",
    "\n",
    "4.3 tells you nothing except the obvious: We can perscribe boundary conditions at the edge of a string. Which is just. Normal for a differential equation problem. The rest of the problem was all about dynamical systems which, I will point out, we did not do. All we did was vary whether we specified the ends as stationary or moving or at a certain value or something. \n",
    "\n",
    "Anyway, 4.4 is where it's at. We get both boundary conditions (for fixed ends it's just u(L,t)=0 or similar), and initial conditions (which is to say u=f(x) and du/dt = g(x).) Naturally separation of variables is the way to go, with u = XT as the go-to method for this. It is recommended to divide by $c^2$ to make it neat. The form of X and T will be quite familiar, the known lambda of $(\\frac{n\\pi}{L})^2$ should work just fine for both of them. (For the fixed ends, anyway). \n",
    "\n",
    "Make sure to give X and T different indices for n (such as m) so they can remain independent. For the fixed end version, the solution is of the form $\\Sigma (A_n sinx cosct + B_n sinx sinct)$. Naturally there's more to it but it's just the usual eigenvalue. \n",
    "\n",
    "At this point to solve for the coefficients you use the initial conditions, assigning them to their proper values. The initial will go to A, the other will go to B, based entirely on the variability in t. Exrpessions will be obtianed through orthogonality. Remember to watch for derivatives with the coefficients. \n",
    "\n",
    "An important reminder is that of the ORTHOGONAL SET. Yes we know m=n or else everything explodes, but what exactly *does* it equal in the case of sines? L/2. It's L/2. Don't worry about it. (If m=n=0, it's L, but that basically never happens). \n",
    "\n",
    "A special solution of note for the fixed ends option is that the amplitude is $\\sqrt{A_n^2 + B_n^2}$ for each mode n, with a frequency $n\\pi c/L$. n=1 is the normal mode. Each mode produces a standing wave, and the places that do not move are called nodes. Modes and nodes, not confusing at all. The mode number can be counted visually: n=1 has 1 segment, n=2 has 2, etc. The number of nodes is modes+1. "
   ]
  }
 ],
 "metadata": {
  "kernelspec": {
   "display_name": "Python 3 (ipykernel)",
   "language": "python",
   "name": "python3"
  },
  "language_info": {
   "codemirror_mode": {
    "name": "ipython",
    "version": 3
   },
   "file_extension": ".py",
   "mimetype": "text/x-python",
   "name": "python",
   "nbconvert_exporter": "python",
   "pygments_lexer": "ipython3",
   "version": "3.7.9"
  }
 },
 "nbformat": 4,
 "nbformat_minor": 5
}
