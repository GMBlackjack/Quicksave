{
 "cells": [
  {
   "cell_type": "markdown",
   "id": "0c1bfe81",
   "metadata": {},
   "source": [
    "# Differential Equations Homework 1: Derivative Beginnings\n",
    "\n",
    "## Gabriel M Steward\n",
    "\n",
    "### August 2022"
   ]
  },
  {
   "cell_type": "markdown",
   "id": "56664bc2",
   "metadata": {},
   "source": [
    "<a id='toc'></a>\n",
    "\n",
    "# Table of Contents\n",
    "$$\\label{toc}$$\n",
    "\n",
    "[Problem 1](#P1) (Three ODEs)\n",
    "\n",
    "[Problem 2](#P2) (Proof of Integration by Parts)\n",
    "\n",
    "[Problem 3](#P3) (Linear PDEs)\n",
    "\n",
    "[Problem 4](#P4) (Convection-Diffusion-Decay)\n",
    "\n",
    "[Problem 5](#P5) (The Heat Equation I)\n",
    "\n",
    "[Problem 6](#P6) (The Heat Equation II)\n",
    "\n",
    "[Problem 7](#P7) (Matlab Plotting)\n",
    "\n",
    "[PDF](#latex_pdf_output) (turn this into a PDF)"
   ]
  },
  {
   "cell_type": "markdown",
   "id": "cd9e5529",
   "metadata": {},
   "source": [
    "<a id='P1'></a>\n",
    "\n",
    "# Problem 1 \\[Back to [top](#toc)\\]\n",
    "$$\\label{P1}$$\n",
    "\n",
    "*Solve each of the following ODEs for y(x):*\n",
    "\n",
    "*a) $y'' + 16y = 0$ with $y(0) = 1$ and $y'(0) = 0$*"
   ]
  },
  {
   "cell_type": "markdown",
   "id": "947eb8bb",
   "metadata": {},
   "source": [
    "This solution can just be eyeballed. Clearly it's a trig function given that the second derivative has to relate to the negative of the original function. Since the derivative occurs twice, the constant needs to be a 4 in order to make 16 at the end. Thus:\n",
    "\n",
    "$$ y = Acos(4x) + Bsin(4x) $$"
   ]
  },
  {
   "cell_type": "markdown",
   "id": "c3233357",
   "metadata": {},
   "source": [
    "Where A and B are our unknown constants to be solved later based on the initial conditions. y'(0)=0 will tell us the most first. The first derivative changes all cos to -sin and all sin to cos. At x=0, sin functions go to zero, leaving only the y' cos function left. Since it has to equal zero this must be zero, meaning the leading coefficient (B in this case) has to be zero. \n",
    "\n",
    "$$ y = Acos(4x) $$"
   ]
  },
  {
   "cell_type": "markdown",
   "id": "a74b8d64",
   "metadata": {},
   "source": [
    "The other condition tells us we need y=1 and x=0. This only happens when A=1. Thus\n",
    "\n",
    "$$ y = cos(4x) $$\n",
    "\n",
    "And that is our answer. "
   ]
  },
  {
   "cell_type": "markdown",
   "id": "3aed9719",
   "metadata": {},
   "source": [
    "*b) $y'' + 6y' + 9y = 0$ with $y(0) = 1$ and $y'(0) = 0$*"
   ]
  },
  {
   "cell_type": "markdown",
   "id": "46af52a7",
   "metadata": {},
   "source": [
    "Had to dig up the old Differential Equations notes, but we apply the Auxiliary Polynomial for this equation:\n",
    "\n",
    "$$ r^2 + 6r + 9 $$\n",
    "\n",
    "Wherein we find the roots. Using Geogebra, we see that only one exists and it is r=-3. However, it is a double root, which makes things slightly more complicated than they otherwise would be. Instead of just one exponential as the solution, we need 2. \n",
    "\n",
    "$$ y = (A+Bx)e^{-3x}$$\n",
    "\n",
    "Since we want a specific solution, we need to set A. Now we need to deal with our initial conditions. The first one is just x=0 y=1, which is easily accomplished by setting A to 1. \n",
    "\n",
    "$$ y = (1+Bx)e^{-3x}$$\n",
    "\n",
    "B comes from the next condition. However, the next condition requires taking a derivative, which we show below.\n",
    "\n",
    "$$ y' = -3e^{-3x} + Be^{-3x} -3Bxe^{-3x} $$\n",
    "\n",
    "Now, that last term goes to zero when x=0, but the first one does not. In order for everything to go to zero here, B=3 is a necessity. Thus, our full solution is\n",
    "\n",
    "$$ y = (1+3x)e^{-3x}$$"
   ]
  },
  {
   "cell_type": "markdown",
   "id": "11be1dc3",
   "metadata": {},
   "source": [
    "*c) $y''' - y'' + y' -y = 0$ with $y(0)=1$ and $y'(0) = y''(0) = 0$*"
   ]
  },
  {
   "cell_type": "markdown",
   "id": "e05c806e",
   "metadata": {},
   "source": [
    "Now the only solution to the Auxilaiary Polynomial $r^3 - r^2 + r - 1$ is r=1. Not all that surprising. However, we need to watch for imaginary roots, which does happen as we factor it to $(r-1)(r^2+1)$, which in turn becomes (r-1)(r-i)(r+i) meaning we end up with a solution of\n",
    "\n",
    "$$ y = Ae^x + Be^{ix} + Ce^{-ix} $$\n",
    "\n",
    "Now we suppose there's no *requirement* that the answer be real, but we highly suspect that it has to be. \n",
    "\n",
    "So, normally we start with the y=1 and x=0 situation, but that actually doesn't help us, as that just reduces the answer to A+B+C-1. So we turn to the derivatives. \n",
    "\n",
    "$$ y' = Ae^x + iBe^{ix} -iCe^{-ix} $$\n",
    "$$ y'' = Ae^x - Be^{ix} - Ce^{-ix} $$"
   ]
  },
  {
   "attachments": {},
   "cell_type": "markdown",
   "id": "f1045c5b",
   "metadata": {},
   "source": [
    "Which when x=0 reduce to A+iB-iC and A-B-C respectively. At this point we can declare \"three equations, three unknowns\" and try to solve. \n",
    "\n",
    "Combine A+B+C=1 and A-B-C=0 to get 2A = 1 or A = 1/2. This also means B+C = 1/2. \n",
    "\n",
    "However, the equation with imaginary numbers gives us the fact that i(B-C) = -1/2, or B-C = i/2.\n",
    "\n",
    "Now this sort of relation can only happen when the signs of the real parts of B and C match, and the imaginary parts have inverse signs. That is, B= a+bi and C = a-bi. \n",
    "\n",
    "If we take only the real portions, obviously a = 1/4, and the same goes for b as well. \n",
    "\n",
    "This means B = 1/4 + i/4 and C = 1/4 - i/4. \n"
   ]
  },
  {
   "cell_type": "markdown",
   "id": "74facece",
   "metadata": {},
   "source": [
    "With these answers we have:\n",
    "\n",
    "$$ y = \\frac12 e^x + \\left( \\frac 14 + \\frac i4 \\right)e^{ix} + \\left( \\frac 14 - \\frac i4 \\right)e^{-ix} $$"
   ]
  },
  {
   "cell_type": "markdown",
   "id": "8efb6c96",
   "metadata": {},
   "source": [
    "Now this is rather obviously in a form of sines and cosines, just in exponential form. \n",
    "\n",
    "$$ y = \\frac12 e^x - \\frac12 \\left( \\frac {e^{ix} - e^{-ix}}{2i} \\right) + \\frac 12 \\left( -\\frac{e^{ix} + e^{-ix}}{2} \\right) $$\n",
    "\n",
    "$$ \\Rightarrow y = \\frac12 e^x - \\frac12 sinx + \\frac 12 cosx $$\n",
    "\n",
    "Which is our answer. \n",
    "\n",
    "Note to self: this was harder than it should have been, review complex arithmetic. "
   ]
  },
  {
   "cell_type": "markdown",
   "id": "3dc10713",
   "metadata": {},
   "source": [
    "<a id='P2'></a>\n",
    "\n",
    "# Problem 2 \\[Back to [top](#toc)\\]\n",
    "$$\\label{P2}$$\n",
    "\n",
    "*Integration by parts allows us to transfer the derivative from one part of the integrand to another.*\n",
    "\n",
    "$$ \\int^b_a f(x)g'(x)dx = \\left[ f(x)g(x) \\right]^b_a - \\int^b_a f'(x)g(x) dx  $$\n",
    "\n",
    "*Prove that the above statement is true. HINT: think product rule!*"
   ]
  },
  {
   "cell_type": "markdown",
   "id": "d415b62a",
   "metadata": {},
   "source": [
    "Now the product rule states:\n",
    "\n",
    "$$ (fg)' = f'g + g'f $$ \n",
    "\n",
    "Now if we were to apply the indefinite integral to both sides, we already see something like what we want. \n",
    "\n",
    "$$ \\int (fg)' = \\int(f'g) + \\int(g'f) $$\n",
    "$$ \\Rightarrow fg = \\int(f'g) + \\int(g'f) $$\n",
    "$$ \\Rightarrow fg - \\int(f'g) = \\int(g'f) $$\n",
    "\n",
    "However, we need the version with definite integrals, not indefinite. The steps are largely the same, but we do need to be careful with the bounds. We also write everything out to be explicit. "
   ]
  },
  {
   "cell_type": "markdown",
   "id": "ccd18831",
   "metadata": {},
   "source": [
    "$$ \\int_a^b (f(x)g(x))' dx = \\int_a^b (f'(x)g(x)) dx + \\int_a^b (g'(x)f(x)) dx $$\n",
    "$$ \\Rightarrow \\left[ f(x)g(x) \\right]_a^b = \\int_a^b (f'(x)g(x)) dx + \\int_a^b (g'(x)f(x)) dx $$\n",
    "$$ \\Rightarrow \\left[ f(x)g(x) \\right]_a^b - \\int_a^b (f'(x)g(x)) dx = \\int_a^b (g'(x)f(x)) dx $$"
   ]
  },
  {
   "cell_type": "markdown",
   "id": "529237d0",
   "metadata": {},
   "source": [
    "<a id='P3'></a>\n",
    "\n",
    "# Problem 3 \\[Back to [top](#toc)\\]\n",
    "$$\\label{P3}$$\n",
    "\n",
    "*A linear PDE can be written in differential operator notation $\\mathcal{L}(u) = f$, where $\\mathcal{L}$ is the linear differential operator, u is the unknown function, and f is the right-hand side funciton. For each of the following PDEs, determine the linear operator and the right-hand side function, the order of the PDE, and whether the PDE is homogeneous or nonhomogeneous:*\n",
    "\n",
    "*a)* $u_{xxx} + u_{yyy} - u = 0$"
   ]
  },
  {
   "cell_type": "markdown",
   "id": "38a8294e",
   "metadata": {},
   "source": [
    "*b)* $u_{tt} - u_{xx} + u_{yy} + u_{zz} = xyz$"
   ]
  },
  {
   "cell_type": "markdown",
   "id": "d47c6421",
   "metadata": {},
   "source": [
    "*c) $x^2 u_{xx} - y^2 u_y = cos(x) - sin(y)$*"
   ]
  },
  {
   "cell_type": "markdown",
   "id": "ade0c8bf",
   "metadata": {},
   "source": [
    "*d) $y^2 u_{xx} - x^2 u_y = cos(y) - sin(x)$*"
   ]
  },
  {
   "cell_type": "markdown",
   "id": "08f248ed",
   "metadata": {},
   "source": [
    "*e)* $u_t - cos(xt)u_{xxx} - t^5 = t^2u$"
   ]
  },
  {
   "cell_type": "markdown",
   "id": "ef39aeb0",
   "metadata": {},
   "source": [
    "<a id='P4'></a>\n",
    "\n",
    "# Problem 4 \\[Back to [top](#toc)\\]\n",
    "$$\\label{P4}$$\n",
    "\n",
    "*The following convection-diffusion-decay equation appears in many physical applications:*\n",
    "\n",
    "$$u_t = Du_{xx} - cu_x - \\lambda u$$\n",
    "\n",
    "*Show that this equation can be transformed into a heat equation for w(x,t)  by applying the transformation*\n",
    "\n",
    "$$u(x,t) = w(x,t)e^{\\alpha x - \\beta t}$$\n",
    "\n",
    "*HINT: You will only obtain a heat equation for w(x,t) with an appropriate choice for the constants $\\alpha$ and $\\beta$ in terms of the constants D, c, and $\\lambda$. Determine the choice for $\\alpha$ and $\\beta$ that produces a heat equation for w(x,t).*"
   ]
  },
  {
   "cell_type": "markdown",
   "id": "83772a31",
   "metadata": {},
   "source": [
    "<a id='P5'></a>\n",
    "\n",
    "# Problem 5 \\[Back to [top](#toc)\\]\n",
    "$$\\label{P5}$$\n",
    "\n",
    "*Consider the heat equation*\n",
    "\n",
    "$$\n",
    "\\begin{align}\n",
    "u_t &= (K_0(x) u_x)_x \\\\\n",
    "u(0,t) &= 0 \\\\\n",
    "u(1,t) &= 1 \\\\\n",
    "\\end{align}\n",
    "$$\n",
    "\n",
    "*Where $K_0(x) = e^x / cos(x)$.*\n",
    "\n",
    "*a) Determine the steady-state solution.*"
   ]
  },
  {
   "cell_type": "markdown",
   "id": "e05cb855",
   "metadata": {},
   "source": [
    "*b) Plot the steady-state solution in MATLAB. Always clearly label all plots. Include your code.*"
   ]
  },
  {
   "cell_type": "markdown",
   "id": "2eb098d8",
   "metadata": {},
   "source": [
    "<a id='P6'></a>\n",
    "\n",
    "# Problem 6 \\[Back to [top](#toc)\\]\n",
    "$$\\label{P6}$$\n",
    "\n",
    "*Consider the heat equation*\n",
    "\n",
    "$$\n",
    "\\begin{align}\n",
    "u_t &= (K_0(x) u_x)_x + Q(t) \\\\\n",
    "u(1,t) &= 0 \\\\\n",
    "u(2,t) &= 1 \\\\\n",
    "\\end{align}\n",
    "$$\n",
    "\n",
    "*Where $K_0(x) = x^2.*\n",
    "\n",
    "*a) Under what condition on the heat source Q(t) does a steady-state solution exist for this problem? Clearly explain your answer.*"
   ]
  },
  {
   "cell_type": "markdown",
   "id": "b62085da",
   "metadata": {},
   "source": [
    "*b) Under this condition, determine the steady-state solution.*"
   ]
  },
  {
   "cell_type": "markdown",
   "id": "6c6ac614",
   "metadata": {},
   "source": [
    "<a id='P7'></a>\n",
    "\n",
    "# Problem 7 \\[Back to [top](#toc)\\]\n",
    "$$\\label{P7}$$\n",
    "\n",
    "*Consider the function:*\n",
    "\n",
    "$$ u(x,t) = sin(4\\pi x) e^{-\\pi t} $$\n",
    "\n",
    "*a) Plot this funciton in MATLAB over the domain $(x,t) \\in [0,1] \\times [0,1]$ using the ``mesh`` command. Always clearly label all plots. HINT: see page 4 of the \"Introduciton to Plotting with MATLAB\" guide avilable on the course webpage at  https://www.webpages.uidaho.edu/~barannyk/Teaching/tutorial_plotting_Matlab.pdf.*\n"
   ]
  },
  {
   "cell_type": "code",
   "execution_count": null,
   "id": "de2ec1ef",
   "metadata": {},
   "outputs": [],
   "source": []
  },
  {
   "cell_type": "markdown",
   "id": "492dd6ae",
   "metadata": {},
   "source": [
    "*b) Explain what you observe.*"
   ]
  },
  {
   "cell_type": "markdown",
   "id": "df50096e",
   "metadata": {},
   "source": [
    "<a id='latex_pdf_output'></a>\n",
    "\n",
    "# Addendum: Output this notebook to $\\LaTeX$-formatted PDF file \\[Back to [top](#toc)\\]\n",
    "$$\\label{latex_pdf_output}$$\n",
    "\n",
    "The following code cell converts this Jupyter notebook into a proper, clickable $\\LaTeX$-formatted PDF file. After the cell is successfully run, the generated PDF may be found in the root NRPy+ tutorial directory, with filename\n",
    "[MNR-02.pdf](MNR-02.pdf) (Note that clicking on this link may not work; you may need to open the PDF file through another means.)\n",
    "\n",
    "**Important Note**: Make sure that the file name is right in all six locations, two here in the Markdown, four in the code below. \n",
    "\n",
    "* MNR-02.pdf\n",
    "* MNR-02.ipynb\n",
    "* MNR-02.tex"
   ]
  },
  {
   "cell_type": "code",
   "execution_count": 16,
   "id": "abf583ef",
   "metadata": {
    "scrolled": true
   },
   "outputs": [
    {
     "name": "stdout",
     "output_type": "stream",
     "text": [
      "Created MNR-02.tex, and compiled LaTeX file to PDF file MNR-02.pdf\n"
     ]
    }
   ],
   "source": [
    "import cmdline_helper as cmd    # NRPy+: Multi-platform Python command-line interface\n",
    "cmd.output_Jupyter_notebook_to_LaTeXed_PDF(\"MNR-02\")"
   ]
  }
 ],
 "metadata": {
  "kernelspec": {
   "display_name": "Python 3 (ipykernel)",
   "language": "python",
   "name": "python3"
  },
  "language_info": {
   "codemirror_mode": {
    "name": "ipython",
    "version": 3
   },
   "file_extension": ".py",
   "mimetype": "text/x-python",
   "name": "python",
   "nbconvert_exporter": "python",
   "pygments_lexer": "ipython3",
   "version": "3.7.9"
  }
 },
 "nbformat": 4,
 "nbformat_minor": 5
}
