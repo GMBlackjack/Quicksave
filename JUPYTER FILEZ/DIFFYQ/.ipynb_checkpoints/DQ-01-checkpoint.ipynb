{
 "cells": [
  {
   "cell_type": "markdown",
   "id": "0c1bfe81",
   "metadata": {},
   "source": [
    "# Differential Equations Homework 1: Derivative Beginnings\n",
    "\n",
    "## Gabriel M Steward\n",
    "\n",
    "### August 2022"
   ]
  },
  {
   "cell_type": "markdown",
   "id": "56664bc2",
   "metadata": {},
   "source": [
    "<a id='toc'></a>\n",
    "\n",
    "# Table of Contents\n",
    "$$\\label{toc}$$\n",
    "\n",
    "[Problem 1](#P1) (Three ODEs)\n",
    "\n",
    "[Problem 2](#P2) (Proof of Integration by Parts)\n",
    "\n",
    "[Problem 3](#P3) (Linear PDEs)\n",
    "\n",
    "[Problem 4](#P4) (Convection-Diffusion-Decay)\n",
    "\n",
    "[Problem 5](#P5) (The Heat Equation I)\n",
    "\n",
    "[Problem 6](#P6) (The Heat Equation II)\n",
    "\n",
    "[Problem 7](#P7) (Matlab Plotting)\n",
    "\n",
    "[PDF](#latex_pdf_output) (turn this into a PDF)"
   ]
  },
  {
   "cell_type": "markdown",
   "id": "cd9e5529",
   "metadata": {},
   "source": [
    "<a id='P1'></a>\n",
    "\n",
    "# Problem 1 \\[Back to [top](#toc)\\]\n",
    "$$\\label{P1}$$\n",
    "\n",
    "*Solve each of the following ODEs for y(x):*\n",
    "\n",
    "*a) $y'' + 16y = 0$ with $y(0) = 1$ and $y'(0) = 0$*"
   ]
  },
  {
   "cell_type": "markdown",
   "id": "947eb8bb",
   "metadata": {},
   "source": [
    "This solution can just be eyeballed. Clearly it's a trig function given that the second derivative has to relate to the negative of the original function. Since the derivative occurs twice, the constant needs to be a 4 in order to make 16 at the end. Thus:\n",
    "\n",
    "$$ y = Acos(4x) + Bsin(4x) $$"
   ]
  },
  {
   "cell_type": "markdown",
   "id": "c3233357",
   "metadata": {},
   "source": [
    "Where A and B are our unknown constants to be solved later based on the initial conditions. y'(0)=0 will tell us the most first. The first derivative changes all cos to -sin and all sin to cos. At x=0, sin functions go to zero, leaving only the y' cos function left. Since it has to equal zero this must be zero, meaning the leading coefficient (B in this case) has to be zero. \n",
    "\n",
    "$$ y = Acos(4x) $$"
   ]
  },
  {
   "cell_type": "markdown",
   "id": "a74b8d64",
   "metadata": {},
   "source": [
    "The other condition tells us we need y=1 and x=0. This only happens when A=1. Thus\n",
    "\n",
    "$$ y = cos(4x) $$\n",
    "\n",
    "And that is our answer. "
   ]
  },
  {
   "cell_type": "markdown",
   "id": "3aed9719",
   "metadata": {},
   "source": [
    "*b) $y'' + 6y' + 9y = 0$ with $y(0) = 1$ and $y'(0) = 0$*"
   ]
  },
  {
   "cell_type": "markdown",
   "id": "46af52a7",
   "metadata": {},
   "source": [
    "Had to dig up the old Differential Equations notes, but we apply the Auxiliary Polynomial for this equation:\n",
    "\n",
    "$$ r^2 + 6r + 9 $$\n",
    "\n",
    "Wherein we find the roots. Only one exists at r=-3, which can be easily seen from the factorization $(r+3)^2$. However, it is a double root, which makes things slightly more complicated than they otherwise would be. Instead of just one exponential as the solution, we need 2. \n",
    "\n",
    "$$ y = (A+Bx)e^{-3x}$$\n",
    "\n",
    "Since we want a specific solution, we need to set A. Now we need to deal with our initial conditions. The first one is just x=0 y=1, which is easily accomplished by setting A to 1. \n",
    "\n",
    "$$ y = (1+Bx)e^{-3x}$$\n",
    "\n",
    "B comes from the next condition. However, the next condition requires taking a derivative, which we show below.\n",
    "\n",
    "$$ y' = -3e^{-3x} + Be^{-3x} -3Bxe^{-3x} $$\n",
    "\n",
    "Now, that last term goes to zero when x=0, but the first one does not. In order for everything to go to zero here, B=3 is a necessity. Thus, our full solution is\n",
    "\n",
    "$$ y = (1+3x)e^{-3x}$$"
   ]
  },
  {
   "cell_type": "markdown",
   "id": "11be1dc3",
   "metadata": {},
   "source": [
    "*c) $y''' - y'' + y' -y = 0$ with $y(0)=1$ and $y'(0) = y''(0) = 0$*"
   ]
  },
  {
   "cell_type": "markdown",
   "id": "e05c806e",
   "metadata": {},
   "source": [
    "Now the only solution to the Auxilaiary Polynomial $r^3 - r^2 + r - 1$ is r=1. Not all that surprising. However, we need to watch for imaginary roots, which does happen as we factor it to $(r-1)(r^2+1)$, which in turn becomes (r-1)(r-i)(r+i) meaning we end up with a solution of\n",
    "\n",
    "$$ y = Ae^x + Be^{ix} + Ce^{-ix} $$\n",
    "\n",
    "Now we suppose there's no *requirement* that the answer be real, but we highly suspect that it has to be. \n",
    "\n",
    "So, normally we start with the y=1 and x=0 situation, but that actually doesn't help us, as that just reduces the answer to A+B+C-1. So we turn to the derivatives. \n",
    "\n",
    "$$ y' = Ae^x + iBe^{ix} -iCe^{-ix} $$\n",
    "$$ y'' = Ae^x - Be^{ix} - Ce^{-ix} $$"
   ]
  },
  {
   "cell_type": "markdown",
   "id": "f1045c5b",
   "metadata": {},
   "source": [
    "Which when x=0 reduce to A+iB-iC and A-B-C respectively. At this point we can declare \"three equations, three unknowns\" and try to solve. \n",
    "\n",
    "Combine A+B+C=1 and A-B-C=0 to get 2A = 1 or A = 1/2. This also means B+C = 1/2. \n",
    "\n",
    "However, the equation with imaginary numbers gives us the fact that i(B-C) = -1/2, or B-C = i/2.\n",
    "\n",
    "Now this sort of relation can only happen when the signs of the real parts of B and C match, and the imaginary parts have inverse signs. That is, B= a+bi and C = a-bi. \n",
    "\n",
    "If we take only the real portions, obviously a = 1/4, and the same goes for b as well. \n",
    "\n",
    "This means B = 1/4 + i/4 and C = 1/4 - i/4. \n"
   ]
  },
  {
   "cell_type": "markdown",
   "id": "74facece",
   "metadata": {},
   "source": [
    "With these answers we have:\n",
    "\n",
    "$$ y = \\frac12 e^x + \\left( \\frac 14 + \\frac i4 \\right)e^{ix} + \\left( \\frac 14 - \\frac i4 \\right)e^{-ix} $$"
   ]
  },
  {
   "cell_type": "markdown",
   "id": "8efb6c96",
   "metadata": {},
   "source": [
    "Now this is rather obviously in a form of sines and cosines, just in exponential form. \n",
    "\n",
    "$$ y = \\frac12 e^x - \\frac12 \\left( \\frac {e^{ix} - e^{-ix}}{2i} \\right) + \\frac 12 \\left( -\\frac{e^{ix} + e^{-ix}}{2} \\right) $$\n",
    "\n",
    "$$ \\Rightarrow y = \\frac12 e^x - \\frac12 sinx + \\frac 12 cosx $$\n",
    "\n",
    "Which is our answer. \n",
    "\n",
    "Note to self: this was harder than it should have been, review complex arithmetic. "
   ]
  },
  {
   "cell_type": "markdown",
   "id": "3dc10713",
   "metadata": {},
   "source": [
    "<a id='P2'></a>\n",
    "\n",
    "# Problem 2 \\[Back to [top](#toc)\\]\n",
    "$$\\label{P2}$$\n",
    "\n",
    "*Integration by parts allows us to transfer the derivative from one part of the integrand to another.*\n",
    "\n",
    "$$ \\int^b_a f(x)g'(x)dx = \\left[ f(x)g(x) \\right]^b_a - \\int^b_a f'(x)g(x) dx  $$\n",
    "\n",
    "*Prove that the above statement is true. HINT: think product rule!*"
   ]
  },
  {
   "cell_type": "markdown",
   "id": "d415b62a",
   "metadata": {},
   "source": [
    "Now the product rule states:\n",
    "\n",
    "$$ (fg)' = f'g + g'f $$ \n",
    "\n",
    "Now if we were to apply the indefinite integral to both sides, we already see something like what we want. \n",
    "\n",
    "$$ \\int (fg)' = \\int(f'g) + \\int(g'f) $$\n",
    "$$ \\Rightarrow fg = \\int(f'g) + \\int(g'f) $$\n",
    "$$ \\Rightarrow fg - \\int(f'g) = \\int(g'f) $$\n",
    "\n",
    "However, we need the version with definite integrals, not indefinite. The steps are largely the same, but we do need to be careful with the bounds. We also write everything out to be explicit. "
   ]
  },
  {
   "cell_type": "markdown",
   "id": "ccd18831",
   "metadata": {},
   "source": [
    "$$ \\int_a^b (f(x)g(x))' dx = \\int_a^b (f'(x)g(x)) dx + \\int_a^b (g'(x)f(x)) dx $$\n",
    "$$ \\Rightarrow \\left[ f(x)g(x) \\right]_a^b = \\int_a^b (f'(x)g(x)) dx + \\int_a^b (g'(x)f(x)) dx $$\n",
    "$$ \\Rightarrow \\left[ f(x)g(x) \\right]_a^b - \\int_a^b (f'(x)g(x)) dx = \\int_a^b (g'(x)f(x)) dx $$"
   ]
  },
  {
   "cell_type": "markdown",
   "id": "529237d0",
   "metadata": {},
   "source": [
    "<a id='P3'></a>\n",
    "\n",
    "# Problem 3 \\[Back to [top](#toc)\\]\n",
    "$$\\label{P3}$$\n",
    "\n",
    "*A linear PDE can be written in differential operator notation $\\mathcal{L}(u) = f$, where $\\mathcal{L}$ is the linear differential operator, u is the unknown function, and f is the right-hand side funciton. For each of the following PDEs, determine the linear operator and the right-hand side function, the order of the PDE, and whether the PDE is homogeneous or nonhomogeneous:*\n",
    "\n",
    "*a)* $u_{xxx} + u_{yyy} - u = 0$"
   ]
  },
  {
   "cell_type": "markdown",
   "id": "7102f6ac",
   "metadata": {},
   "source": [
    "$$\n",
    "\\begin{align}\n",
    "\\mathcal{L} &= \\frac{\\partial^3}{\\partial x^3} + \\frac{\\partial^3}{\\partial y^3} - 1 \\\\\n",
    "f &= 0 \n",
    "\\end{align}\n",
    "$$\n",
    "\n",
    "Homogeneous, as f=0. "
   ]
  },
  {
   "cell_type": "markdown",
   "id": "38a8294e",
   "metadata": {},
   "source": [
    "*b)* $u_{tt} - u_{xx} + u_{yy} + u_{zz} = xyz$"
   ]
  },
  {
   "cell_type": "markdown",
   "id": "09bec39f",
   "metadata": {},
   "source": [
    "$$\n",
    "\\begin{align}\n",
    "\\mathcal{L} &= \\frac{\\partial^2}{\\partial t^2} - \\frac{\\partial^2}{\\partial x^2} + \\frac{\\partial^2}{\\partial y^2} + \\frac{\\partial^2}{\\partial z^2}\\\\\n",
    "f &= xyz\n",
    "\\end{align}\n",
    "$$\n",
    "\n",
    "Nonhomogeneous, as the xyz term is not dependent on u. "
   ]
  },
  {
   "cell_type": "markdown",
   "id": "d47c6421",
   "metadata": {},
   "source": [
    "*c) $x^2 u_{xx} - y^2 u_y = cos(x) - sin(y)$*"
   ]
  },
  {
   "cell_type": "markdown",
   "id": "0f2ab73d",
   "metadata": {},
   "source": [
    "$$\n",
    "\\begin{align}\n",
    "\\mathcal{L} &= x^2 \\frac{\\partial^2}{\\partial x^2} - y^2 \\frac{\\partial}{\\partial y}  \\\\\n",
    "f &= cos(x) - sin(y)\n",
    "\\end{align}\n",
    "$$\n",
    "\n",
    "Nonhomogenous, as f is not zero. "
   ]
  },
  {
   "cell_type": "markdown",
   "id": "ade0c8bf",
   "metadata": {},
   "source": [
    "*d) $y^2 u_{xx} - x^2 u_y = cos(y) - sin(x)$*"
   ]
  },
  {
   "cell_type": "markdown",
   "id": "83398f6d",
   "metadata": {},
   "source": [
    "$$\n",
    "\\begin{align}\n",
    "\\mathcal{L} &= y^2\\frac{\\partial^2}{\\partial x^2} - x^2 \\frac{\\partial}{\\partial y}\\\\\n",
    "f &= cos(y) - sin(x)\n",
    "\\end{align}\n",
    "$$\n",
    "\n",
    "Nonhomogenous, as f is not zero."
   ]
  },
  {
   "cell_type": "markdown",
   "id": "08f248ed",
   "metadata": {},
   "source": [
    "*e)* $u_t - cos(xt)u_{xxx} - t^5 = t^2u$"
   ]
  },
  {
   "cell_type": "markdown",
   "id": "100d42cf",
   "metadata": {},
   "source": [
    "$$\n",
    "\\begin{align}\n",
    "\\mathcal{L} &= \\frac{\\partial}{\\partial t} - cos(xt) \\frac{\\partial^3}{\\partial x^3} - t^2\\\\\n",
    "f &= t^5\n",
    "\\end{align}\n",
    "$$\n",
    "\n",
    "Nonhomogenous, as f is not zero. Notably the signs of some terms have been altered to be in the form stated at the start of the problem. "
   ]
  },
  {
   "cell_type": "markdown",
   "id": "ef39aeb0",
   "metadata": {},
   "source": [
    "<a id='P4'></a>\n",
    "\n",
    "# Problem 4 \\[Back to [top](#toc)\\]\n",
    "$$\\label{P4}$$\n",
    "\n",
    "*The following convection-diffusion-decay equation appears in many physical applications:*\n",
    "\n",
    "$$u_t = Du_{xx} - cu_x - \\lambda u$$\n",
    "\n",
    "*Show that this equation can be transformed into a heat equation for w(x,t)  by applying the transformation*\n",
    "\n",
    "$$u(x,t) = w(x,t)e^{\\alpha x - \\beta t}$$\n",
    "\n",
    "*HINT: You will only obtain a heat equation for w(x,t) with an appropriate choice for the constants $\\alpha$ and $\\beta$ in terms of the constants D, c, and $\\lambda$. Determine the choice for $\\alpha$ and $\\beta$ that produces a heat equation for w(x,t).*"
   ]
  },
  {
   "cell_type": "markdown",
   "id": "8b9c1054",
   "metadata": {},
   "source": [
    "The general form of a heat equation is given by 1.2.10\n",
    "\n",
    "$$ \\frac{\\partial u}{\\partial t} = k \\frac{\\partial^2 u}{\\partial x^2} \\Rightarrow u_t = k u_{xx}$$\n",
    "\n",
    "Seeing as k is just some constant, what we effectively need is to consolidate all the other constants into something we can call k. \n",
    "\n",
    "The first step here seems to just be to replace u with w and see what happens.\n",
    "\n",
    "$$ \\frac{\\partial}{\\partial t} (w e^{\\alpha x - \\beta t}) = D \\frac{\\partial^2}{\\partial x^2} (w e^{\\alpha x - \\beta t}) - c \\frac{\\partial}{\\partial x} (w e^{\\alpha x - \\beta t}) - \\lambda (w e^{\\alpha x - \\beta t}) $$"
   ]
  },
  {
   "cell_type": "markdown",
   "id": "12dfa788",
   "metadata": {},
   "source": [
    "We can pull certain elements out of the derivatives since they do not rely on x or t. \n",
    "\n",
    "$$ \\Rightarrow e^{\\alpha x}\\frac{\\partial}{\\partial t} (w e^{- \\beta t}) = D e^{-\\beta t} \\frac{\\partial^2}{\\partial x^2} (w e^{\\alpha x}) - c e^{-\\beta t} \\frac{\\partial}{\\partial x} (w e^{\\alpha x}) - \\lambda w e^{\\alpha x - \\beta t}$$"
   ]
  },
  {
   "cell_type": "markdown",
   "id": "868cf882",
   "metadata": {},
   "source": [
    "Applying the product rule can get us thigns in terms of just w derivatives.\n",
    "\n",
    "$$ \\Rightarrow e^{\\alpha x}e^{- \\beta t}\\frac{\\partial w}{\\partial t} -\\beta e^{\\alpha x} e^{- \\beta t} w = D e^{\\alpha x} e^{-\\beta t} \\frac{\\partial^2 w}{\\partial x^2} + D \\alpha^2 e^{-\\beta t} w e^{\\alpha x} + 2 D \\alpha e^{\\alpha x} e^{-\\beta t} \\frac{\\partial w}{\\partial x} - c e^{\\alpha x} e^{-\\beta t} \\frac{\\partial w}{\\partial x}  - c \\alpha e^{-\\beta t} w e^{\\alpha x} - \\lambda w e^{\\alpha x - \\beta t}$$\n",
    "\n",
    "Every term now has both parts of the exponential out front, so we can divide it out to make everything easier to look at.\n",
    "\n",
    "\n",
    "$$ \\Rightarrow \\frac{\\partial w}{\\partial t} -\\beta w = D \\frac{\\partial^2 w}{\\partial x^2} + D \\alpha w + 2 D \\alpha \\frac{\\partial w}{\\partial x} - c \\frac{\\partial w}{\\partial x}  - c \\alpha w - \\lambda w$$"
   ]
  },
  {
   "cell_type": "markdown",
   "id": "0371139a",
   "metadata": {},
   "source": [
    "We want to keep both the time derivative and the second spatial derivative while removing all other terms. As such, we want to choose $\\alpha$ and $\\beta$ in such a way that the following is true. \n",
    "\n",
    "$$ \\frac{\\partial w}{\\partial t} -  D \\frac{\\partial^2 w}{\\partial x^2} = \\beta w + D \\alpha w  + 2 D \\alpha \\frac{\\partial w}{\\partial x} - c \\frac{\\partial w}{\\partial x} - c \\alpha w - \\lambda w = 0$$"
   ]
  },
  {
   "cell_type": "markdown",
   "id": "27fe8cea",
   "metadata": {},
   "source": [
    "in order to get the first derivatives to vanish, $\\alpha = c/2D$ is a requirement. \n",
    "\n",
    "$$ \\frac{\\partial w}{\\partial t} -  D \\frac{\\partial^2 w}{\\partial x^2} = \\beta w + \\frac{c}{2}w - \\frac{c^2}{2D} w - \\lambda w = 0$$"
   ]
  },
  {
   "cell_type": "markdown",
   "id": "582f8eff",
   "metadata": {},
   "source": [
    "Now this is only true when $\\beta = \\frac{c^2}{2D} - \\frac c2 + \\lambda$ which, while a bit complicated, does give us what we want:\n",
    "\n",
    "$$ \\frac{\\partial w}{\\partial t} =  D \\frac{\\partial^2 w}{\\partial x^2}$$\n",
    "\n",
    "Where D takes the role of k in the heat equation. "
   ]
  },
  {
   "cell_type": "markdown",
   "id": "83772a31",
   "metadata": {},
   "source": [
    "<a id='P5'></a>\n",
    "\n",
    "# Problem 5 \\[Back to [top](#toc)\\]\n",
    "$$\\label{P5}$$\n",
    "\n",
    "*Consider the heat equation*\n",
    "\n",
    "$$\n",
    "\\begin{align}\n",
    "u_t &= (K_0(x) u_x)_x \\\\\n",
    "u(0,t) &= 0 \\\\\n",
    "u(1,t) &= 1 \\\\\n",
    "\\end{align}\n",
    "$$\n",
    "\n",
    "*Where $K_0(x) = e^x / cos(x)$.*\n",
    "\n",
    "*a) Determine the steady-state solution.*"
   ]
  },
  {
   "cell_type": "markdown",
   "id": "47367abc",
   "metadata": {},
   "source": [
    "The steady-state solution comes from assuming no time dependence, which means $u_t=0$. Thus, we can solve a simple linear homogeneous differnetial equation.\n",
    "\n",
    "$$ 0 = (\\frac{e^x}{cos(x)} u_x)_x $$\n",
    "\n",
    "Though we do need to simplify it first to get it into a usable form.\n",
    "\n",
    "$$ \\Rightarrow 0 = \\frac{e^x}{cos(x)} u_{xx} + \\frac{e^x cos(x) + e^x sin(x)}{cos^2(x)} u_x $$\n",
    "\n",
    "Derivative obtained with the division rule. While this is a homogeneous equation, the coefficients are not constant and thus the Auxillary Polynomial is not useful. Furthermore the coefficients are not simple x-powers, so the Initial Polynomial is also unhelpful. However, we can perform some simplificaiton by removing like terms.\n",
    "\n",
    "$$ \\Rightarrow 0 = u_{xx} + \\frac{cos(x) +sin(x)}{cos(x)} u_x $$\n",
    "\n",
    "$$ \\Rightarrow 0 = u_{xx} + (1+tan(x))u_x $$"
   ]
  },
  {
   "cell_type": "markdown",
   "id": "ed972f9e",
   "metadata": {},
   "source": [
    "Now, we actually have a known solution for this differential equation. Literally cany constant works, let's just call it A. The derivatives of A vanish and thus it is a solution. This is sufficient to use the Reduction of Order method to find the genreal solution. Let's just set A=1 to make this extra simple.\n",
    "\n",
    "The Reduction of Order method normally works by multiplying the known solution by an unknown value, let's just call this w.  While normally the solution involves finding the derivatives of w multiplied by the original solution, our original solution today is just 1 so the result is w. Simplifying lots of things. Which means we can reduce the order of the equation immediately. Let $w_x = v$, and we now have...\n",
    "\n",
    "$$ 0 = v_{x} + \\frac{cos(x) +sin(x)}{cos(x)} v $$"
   ]
  },
  {
   "cell_type": "markdown",
   "id": "be91b61d",
   "metadata": {},
   "source": [
    "This poitns out that when the \"original solution\" for Reduction of Order is a constant the order can be reduced by simple substitution without any problem. It could have just been done in one step. Regardless, we now have a first-order equation that can be solved with the standard first-degree formulation. For a differential equation $y_t + p(t) y = g(t)$ the general solution is given by \n",
    "\n",
    "$$ y = \\frac{\\int \\mu(t) g(t) dt + C}{\\mu(t)} $$\n",
    "\n",
    "where\n",
    "\n",
    "$$ \\mu(t) = e^{\\int p(t) dt}$$\n",
    "\n",
    "((Relation found from https://tutorial.math.lamar.edu/Classes/DE/Linear.aspx since we couldn't find it in our old Differential Equations notes, despite knowing it exists.))\n",
    "\n",
    "Now, g(t) in our case is 0. p(t) is (1+tan(x)). Therefore..."
   ]
  },
  {
   "cell_type": "markdown",
   "id": "c6710518",
   "metadata": {},
   "source": [
    "$$ \\Rightarrow v = \\frac{C}{e^{\\int (1+tan(x))}} $$\n",
    "\n",
    "$$ \\Rightarrow v = \\frac{C}{e^{x-ln|cos(x)|)}} $$\n",
    "\n",
    "$$ \\Rightarrow v = \\frac{C}{\\frac{e^x}{|cos(x)|}} $$\n",
    "$$ \\Rightarrow v = C\\frac{|cos(x)|}{e^x} $$"
   ]
  },
  {
   "cell_type": "markdown",
   "id": "d0b5d651",
   "metadata": {},
   "source": [
    "Keep in mind this is the solution to v, which is $u_x$. To get u we have to integrate. The absolute value makes this really annoying, so we try to see if we can remove it and have it still be a solution to the differential equation. This step isn't repeated here, but it does turn out to also work, so we remove it.\n",
    "\n",
    "$$ v = C \\frac{cos(x)}{e^x} $$\n",
    "\n",
    "Anyway, we use the indefinite integral to get u. This is going to require integration by parts, with the parts being $e^{-x}$ and $cos(x)$. \n",
    "\n",
    "$$ fg - \\int(f'g) = \\int(g'f) $$\n",
    "\n",
    "Which translates to\n",
    "\n",
    "$$ C \\int e^{-x} cos(x) dx = -C e^{-x} cos(x) - C \\int e^{-x} sin(x) dx  $$\n",
    "\n",
    "Which we can chain with another product rule. \n",
    "\n",
    "$$ \\Rightarrow C \\int e^{-x} cos(x) dx = -C e^{-x} cos(x) + C e^{-x} sin(x) - C \\int e^{-x} cos(x) dx $$\n",
    "$$ \\Rightarrow 2C \\int e^{-x} cos(x) dx = -C e^{-x} cos(x) + C e^{-x} sin(x) $$\n",
    "$$ \\Rightarrow C \\int e^{-x} cos(x) dx = -\\frac12 C e^{-x} cos(x) + \\frac12 C e^{-x} sin(x) $$\n",
    "\n",
    "Now we need to slap another constant of integration to the end of this. Call it D. \n",
    "\n",
    "$$ u = -\\frac12 C e^{-x} cos(x) + \\frac12 C e^{-x} sin(x) + D $$\n",
    "\n",
    "Now we also have another independent solution, remember the solution of 1? This means that every solution has to be a linear combination of 1 and the above solution. But adding 1 (or any constant) to the above u doesn't do anything since D is a constant of integration and we can just consolidate the arbitrary constants together into one thing! Thus, our complete solution is\n",
    "\n",
    "$$ u = -\\frac12 C e^{-x} cos(x) + \\frac12 C e^{-x} sin(x) + D $$"
   ]
  },
  {
   "cell_type": "markdown",
   "id": "ccd36339",
   "metadata": {},
   "source": [
    "Of course now we apply the boundary conditions. u=0 at x=0 and u=1 at x=1. The x=0 case is simple, it reduces u to:\n",
    "\n",
    "$$ 0 = -\\frac12 C + D $$\n",
    "\n",
    "While the x=1 case is a bit more annoying.\n",
    "\n",
    "$$ 1 = -\\frac12 C e^{-1} cos(1) + \\frac12 C e^{-1} sin(1) + D $$"
   ]
  },
  {
   "cell_type": "markdown",
   "id": "0dafccac",
   "metadata": {},
   "source": [
    "It is rather easy to see that D=C/2. It looks like C will be hard to solve for, but not really.\n",
    "\n",
    "$$ 1 = -\\frac12 C e^{-1} cos(1) + \\frac12 C e^{-1} sin(1) + \\frac C2 $$\n",
    "$$ \\Rightarrow \\frac 1C = -\\frac12 e^{-1} cos(1) + \\frac12 e^{-1} sin(1) + \\frac 12 $$\n",
    "$$ \\Rightarrow C = \\frac{1}{-\\frac {1}{2e} cos(1) + \\frac {1}{2e} sin(1) + \\frac 12} $$"
   ]
  },
  {
   "cell_type": "markdown",
   "id": "2eaa5d66",
   "metadata": {},
   "source": [
    "And so the SPECIFIC steady-state solution is\n",
    "\n",
    "$$ u = -\\frac12 \\frac{1}{-\\frac {1}{2e} cos(1) + \\frac {1}{2e} sin(1) + \\frac 12} e^{-x} cos(x) + \\frac12 \\frac{1}{-\\frac {1}{2e} cos(1) + \\frac {1}{2e} sin(1) + \\frac 12} e^{-x} sin(x) + \\frac 12 \\frac{1}{-\\frac {1}{2e} cos(1) + \\frac {1}{2e} sin(1) + \\frac 12} $$"
   ]
  },
  {
   "cell_type": "markdown",
   "id": "4ea75a12",
   "metadata": {},
   "source": [
    "Simplified...\n",
    "\n",
    "$$ u = - \\frac{e^{-x} sin(x)-e^{-x} cos(x) + 1 }{-\\frac {1}{e} cos(1) + \\frac {1}{e} sin(1) + 1} $$"
   ]
  },
  {
   "cell_type": "markdown",
   "id": "e05cb855",
   "metadata": {},
   "source": [
    "*b) Plot the steady-state solution in MATLAB. Always clearly label all plots. Include your code.*"
   ]
  },
  {
   "attachments": {
    "MeatMath.jpg": {
     "image/jpeg": "[encoded data removed]"
    }
   },
   "cell_type": "markdown",
   "id": "4400577d",
   "metadata": {},
   "source": [
    "We suspect that our result is a bit too complicated, which likely means we got it wrong, but we can still plot it. \n",
    "\n",
    "Code:\n",
    "\n",
    "``\n",
    "x=0:0.1:10;\n",
    "Z = (exp(-x).*sin(x) - exp(-x).*cos(x)+1)./(-cos(1)./exp(1)+sin(1)./exp(1)+1);\n",
    "plot(x,Z);\n",
    "title('Particular Steady-State Solution u');\n",
    "xlabel('position'); \n",
    "ylabel('heat');\n",
    "``\n",
    "\n",
    "And result:\n",
    "\n",
    "![MeatMath.jpg](attachment:MeatMath.jpg)"
   ]
  },
  {
   "cell_type": "markdown",
   "id": "41d2abac",
   "metadata": {},
   "source": [
    "Which does in fact have the 0 at 0 and 1 at 1 properties we desired. It's also smooth. Though what kind of rod would have this steady state heat distribution is beyond us. "
   ]
  },
  {
   "cell_type": "markdown",
   "id": "2eb098d8",
   "metadata": {},
   "source": [
    "<a id='P6'></a>\n",
    "\n",
    "# Problem 6 \\[Back to [top](#toc)\\]\n",
    "$$\\label{P6}$$\n",
    "\n",
    "*Consider the heat equation*\n",
    "\n",
    "$$\n",
    "\\begin{align}\n",
    "u_t &= (K_0(x) u_x)_x + Q(t) \\\\\n",
    "u(1,t) &= 0 \\\\\n",
    "u(2,t) &= 1 \\\\\n",
    "\\end{align}\n",
    "$$\n",
    "\n",
    "*Where $K_0(x) = x^2.*\n",
    "\n",
    "*a) Under what condition on the heat source Q(t) does a steady-state solution exist for this problem? Clearly explain your answer.*"
   ]
  },
  {
   "cell_type": "markdown",
   "id": "bc7d0803",
   "metadata": {},
   "source": [
    "One of the ways to define the steady-state is to say that there is only spatial dependence, not temporal. Q, as a funciton of t, is forced to be a constant under steady-state assumptions. If Q were not constant, it would change the result of the heat equation as time progressed, meaning the solution would not be \"steady.\" Thus, we replace Q(t) with simply Q. "
   ]
  },
  {
   "cell_type": "markdown",
   "id": "b62085da",
   "metadata": {},
   "source": [
    "*b) Under this condition, determine the steady-state solution.*"
   ]
  },
  {
   "cell_type": "markdown",
   "id": "26ae9abf",
   "metadata": {},
   "source": [
    "For steady-state there is no time dependence, and thus $u_t = 0$. With our constant Q requirement, we write out the relation as:\n",
    "\n",
    "$$ 0 = (x^2 u_x)_x + Q \\Rightarrow -Q = (x^2 u_x)_x $$\n",
    "\n",
    "Which we can expand via derivative rules into\n",
    "\n",
    "$$\\Rightarrow -Q = x^2 u_{xx} + 2x u_x $$\n",
    "\n",
    "Which is a linear, nonhomogeneous differential equation. Unfortunately the coefficients are not constant, which makes the Auxillary Polynomial useless. However, with most nonhomogeneous methods, we wish to find the homogeneous solution first, which would be\n",
    "\n",
    "$$ 0 = x^2 u_{xx} + 2x u_x \\Rightarrow x u_{xx} = -2u_x $$\n",
    "\n",
    "\n"
   ]
  },
  {
   "cell_type": "markdown",
   "id": "f9cbeee4",
   "metadata": {},
   "source": [
    "The method we use to solve this is what is known as the Initial Polynomial, which takes the form $i^2 + (a-1) i + b = 0$. This polynomial is only workable when we are dealing with coefficients of a single variable, which works here since we only have x. The constants are obtained by viewing the diffential equation as $ x^2 u_{xx} + a x u_x + b u $. In this cae, b=0 and a=2, meaning the Initial Polynomial takes the form $i^2 + i = 0$. The roots are easy to find, $(i)(i+1) = 0$, giving us the values 0 and -1. \n",
    "\n",
    "The form of the answer for each root is $Cx^i$, so our result is \n",
    "\n",
    "$$ u = A + Bx^{-1} $$\n",
    "\n",
    "This checks out, as any constant u (the A solution) would vanish from any derivatives, and 1/x derivatives flip signs and lose powers of x. This we have the homogeneous solution. "
   ]
  },
  {
   "cell_type": "markdown",
   "id": "397caf13",
   "metadata": {},
   "source": [
    "A very useful fact of solutions for non-homogeneous equations is the following\n",
    "\n",
    "$$ \\phi_p + \\phi_{hALL} = \\phi_{pALL}$$\n",
    "\n",
    "where p is used to represent the non-homogeneous solution, while h indicates the homogeneous. The solution we want is pALL, that is, the completley general solution. We already have the general homogeneous solution. What we need is a *particular* solution to the inhomogeneous equation. This is a bit easier to do than finding the entire general solution. "
   ]
  },
  {
   "cell_type": "markdown",
   "id": "17cc226c",
   "metadata": {},
   "source": [
    "Since we only need a solution, any one, we can be a bit more loose with integrals and the like. We don't need any fancy methods for this: set the solution to u = -Qx/2. The first derivative of this is -Q/2, which turns the first derivative term of the differential equation into -Q. The second derivative term just goes to zero. Thus, we have a general solution:\n",
    "\n",
    "$$ u = \\frac{-Qx}{2} + A + \\frac{B}{x} $$\n",
    "\n",
    "No matter what, the A and B terms will cancel, leaving only the front term to be turned into a remaining -Q to satisfy the equation. Thus, we have the general solution."
   ]
  },
  {
   "cell_type": "markdown",
   "id": "90ba8065",
   "metadata": {},
   "source": [
    "Now, of course, we apply boundary conditions to find the SPECIFIC steady-state solution. When x=1 u=0 and when x=2 u=1. We can see why the x=0 condition was not applied, as that would provide a discontinuity. \n",
    "\n",
    "$$ 0 = \\frac{-Q}{2} + A + B $$\n",
    "\n",
    "$$ 1 = -Q + A + \\frac{B}{2} $$\n",
    "\n",
    "Two equations, two unknowns. Shouldn't be too hard to solve. \n",
    "\n",
    "$$ \\frac{Q}{2} = A + B $$\n",
    "\n",
    "$$ 1 + Q = A + \\frac{B}{2} $$\n",
    "\n",
    "Subtracting one from the other, we get\n",
    "\n",
    "$$ -1 - \\frac{Q}{2} = \\frac{B}{2} $$\n",
    "\n",
    "Which implies B = $-2-Q$. Which means that A must equal $2 + \\frac{3Q}{2}$. These do in fact solve the system of equations. "
   ]
  },
  {
   "cell_type": "markdown",
   "id": "edbe36e0",
   "metadata": {},
   "source": [
    "Therefore, our final Steady State Solution is...\n",
    "\n",
    "$$ u = \\frac{-Qx}{2} + 2 + \\frac{3Q}{2} - \\frac{2+Q}{x} $$"
   ]
  },
  {
   "cell_type": "markdown",
   "id": "25fc5807",
   "metadata": {},
   "source": [
    "Which admittedly looks rather ugly, but there's not really a clear way to make it neater. Splitting up fractions adds more terms, adding fracitons creates sums in the numerator, neither of which are explicitly simpler than where we are now. Thus we leave it as is. "
   ]
  },
  {
   "cell_type": "markdown",
   "id": "6c6ac614",
   "metadata": {},
   "source": [
    "<a id='P7'></a>\n",
    "\n",
    "# Problem 7 \\[Back to [top](#toc)\\]\n",
    "$$\\label{P7}$$\n",
    "\n",
    "*Consider the function:*\n",
    "\n",
    "$$ u(x,t) = sin(4\\pi x) e^{-\\pi t} $$\n",
    "\n",
    "*a) Plot this funciton in MATLAB over the domain $(x,t) \\in [0,1] \\times [0,1]$ using the ``mesh`` command. Always clearly label all plots. HINT: see page 4 of the \"Introduciton to Plotting with MATLAB\" guide avilable on the course webpage at  https://www.webpages.uidaho.edu/~barannyk/Teaching/tutorial_plotting_Matlab.pdf.*\n"
   ]
  },
  {
   "attachments": {
    "MatPlot.jpg": {
     "image/jpeg": "[encoded data removed]"
    }
   },
   "cell_type": "markdown",
   "id": "1bce2405",
   "metadata": {},
   "source": [
    "Matlab code:\n",
    "\n",
    "`` x=0:0.1:1;\n",
    "t=x;\n",
    "[X,T] = meshgrid(t,x);\n",
    "Z = sin(4*pi*X).*exp(-pi*T);\n",
    "mesh(X,T,Z);\n",
    "title('sin(4pi x) e^{-pi t}');\n",
    "xlabel('position'); \n",
    "ylabel('time');\n",
    "zlabel('result');\n",
    "hold``\n",
    "\n",
    "And the result:\n",
    "\n",
    "![MatPlot.jpg](attachment:MatPlot.jpg)"
   ]
  },
  {
   "cell_type": "markdown",
   "id": "492dd6ae",
   "metadata": {},
   "source": [
    "*b) Explain what you observe.*"
   ]
  },
  {
   "cell_type": "markdown",
   "id": "7bff4768",
   "metadata": {},
   "source": [
    "What we have here clearly starts out (t=0) as a sine wave that has two complete oscillations in 1 unit of space. The graph clearly shows that it relaxes over time and it is reasonable to assume the limit approaches 0, a complete equilibrium. Naturally, this comes from the negative exponential in the original equaiton, which is often used to model decay precisely because of this property. As for what physical system this would represent, it's possible it's a sort of standing wave that decays before it can oscillate. "
   ]
  },
  {
   "cell_type": "markdown",
   "id": "df50096e",
   "metadata": {},
   "source": [
    "<a id='latex_pdf_output'></a>\n",
    "\n",
    "# Addendum: Output this notebook to $\\LaTeX$-formatted PDF file \\[Back to [top](#toc)\\]\n",
    "$$\\label{latex_pdf_output}$$\n",
    "\n",
    "The following code cell converts this Jupyter notebook into a proper, clickable $\\LaTeX$-formatted PDF file. After the cell is successfully run, the generated PDF may be found in the root NRPy+ tutorial directory, with filename\n",
    "[MNR-02.pdf](MNR-02.pdf) (Note that clicking on this link may not work; you may need to open the PDF file through another means.)\n",
    "\n",
    "**Important Note**: Make sure that the file name is right in all six locations, two here in the Markdown, four in the code below. \n",
    "\n",
    "* MNR-02.pdf\n",
    "* MNR-02.ipynb\n",
    "* MNR-02.tex"
   ]
  },
  {
   "cell_type": "code",
   "execution_count": 16,
   "id": "abf583ef",
   "metadata": {
    "scrolled": true
   },
   "outputs": [
    {
     "name": "stdout",
     "output_type": "stream",
     "text": [
      "Created MNR-02.tex, and compiled LaTeX file to PDF file MNR-02.pdf\n"
     ]
    }
   ],
   "source": [
    "import cmdline_helper as cmd    # NRPy+: Multi-platform Python command-line interface\n",
    "cmd.output_Jupyter_notebook_to_LaTeXed_PDF(\"MNR-02\")"
   ]
  }
 ],
 "metadata": {
  "kernelspec": {
   "display_name": "Python 3 (ipykernel)",
   "language": "python",
   "name": "python3"
  },
  "language_info": {
   "codemirror_mode": {
    "name": "ipython",
    "version": 3
   },
   "file_extension": ".py",
   "mimetype": "text/x-python",
   "name": "python",
   "nbconvert_exporter": "python",
   "pygments_lexer": "ipython3",
   "version": "3.7.9"
  }
 },
 "nbformat": 4,
 "nbformat_minor": 5
}
