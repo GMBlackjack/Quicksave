{
 "cells": [
  {
   "cell_type": "markdown",
   "id": "0c1bfe81",
   "metadata": {},
   "source": [
    "# Numerical Relativity Problems Chapter 11: Recasting the Evolution Equations\n",
    "\n",
    "## Authors: Gabriel M Steward"
   ]
  },
  {
   "cell_type": "markdown",
   "id": "479540e4",
   "metadata": {},
   "source": [
    "https://github.com/zachetienne/nrpytutorial/blob/master/Tutorial-Template_Style_Guide.ipynb\n",
    "\n",
    "Link to the Style Guide. Not internal in case something breaks. "
   ]
  },
  {
   "cell_type": "markdown",
   "id": "10780970",
   "metadata": {},
   "source": [
    "### </list_source_code> NRPy+ Source Code for this module:\n",
    "None, save the pdf conversion at the bottom of this document.  \n",
    "\n",
    "## Introduction:\n",
    "Before we end this summer, we will (we must!) get to the end of BSSN, which is contained in this chapter. \n",
    "\n",
    "## </other>  Other (Optional):\n",
    "In order to fascilitate learning, whenever the opportunity arises Sympy will be used. (Which turns out not to be that often all things considered...)\n",
    "\n",
    "### Note on Notation:\n",
    "Any new notation will be brought up in the notebook when it becomes relevant. \n",
    "\n",
    "### Citations:\n",
    "\n",
    "<a id='1'></a>\n",
    "[1] linky (descrip)"
   ]
  },
  {
   "cell_type": "markdown",
   "id": "56664bc2",
   "metadata": {},
   "source": [
    "<a id='toc'></a>\n",
    "\n",
    "# Table of Contents\n",
    "$$\\label{toc}$$\n",
    "\n",
    "[Problem 1](#P1) (Coulomb Gauge)\n",
    "\n",
    "[Problem 2](#P2) (Derivation of BSSN)\n",
    "\n",
    "[Problem 3](#P3) (???)\n",
    "\n",
    "[Problem 4](#P4) (???)\n",
    "\n",
    "[PDF](#latex_pdf_output) (turn this into a PDF)"
   ]
  },
  {
   "cell_type": "markdown",
   "id": "cd9e5529",
   "metadata": {},
   "source": [
    "<a id='P1'></a>\n",
    "\n",
    "# Problem 1 \\[Back to [top](#toc)\\]\n",
    "$$\\label{P1}$$\n",
    "\n",
    "*Show that in the Coulomb gauge the gauge potential $\\Phi$ satisfies Poisson's elliptic equation $D^iD_i\\Phi = -4\\pi \\rho_e$.*"
   ]
  },
  {
   "cell_type": "markdown",
   "id": "7839ca41",
   "metadata": {},
   "source": [
    "The Coulomb Gauge says $\\Gamma = D^i A_i = 0$\n",
    "\n",
    "11.4 gives us a very helpful relation:\n",
    "\n",
    "$$ \\partial_t A_i = -E_i -D_i\\Phi $$\n",
    "\n",
    "Contract with $D^i$\n",
    "\n",
    "$$ D^i \\partial_t A_i = -D^i E_i - D^i D_i\\Phi $$\n",
    "\n",
    "$D^i E_i$ is the constraint 11.6. \n",
    "\n",
    "$$ D^i \\partial_t A_i = -4\\pi\\rho_e - D^i D_i\\Phi $$\n",
    "\n",
    "And we re-arrange...\n",
    "\n",
    "$$ D^i \\partial_t A_i + D^i D_i\\Phi = -4\\pi\\rho_e$$\n",
    "\n",
    "Which is really close. Now, if $D^i \\partial_t$ commutes, we end up with $D^i A_i$ which goes to zero in our gauge. However, WE DO NOT KNOW IF THEY COMMUTE. We do know that we are dealing with Maxwell's equations so $D^i = \\nabla^i$ and $\\partial_t = \\nabla_t$. \n",
    "\n",
    "$$ \\nabla^i \\nabla_t A_i + D^i D_i\\Phi = -4\\pi\\rho_e$$\n",
    "\n",
    "But covariant derivatives need not commute, either. If we were SUMMING over BOTH indices, it would be fine, but we are not. ($\\nabla_t$ isn't really an index anyway.) "
   ]
  },
  {
   "cell_type": "markdown",
   "id": "df07b670",
   "metadata": {},
   "source": [
    "So let's try to show that the term CAN commute. Test the equality. \n",
    "\n",
    "$$ \\nabla^i \\partial_t A_i = \\partial_t \\nabla^i A_i $$\n",
    "\n",
    "Split up the covariant derivative, knowing that in EM it is equal to the spatial covariant derivative, we don't have to worry about the 4-index that shows up.\n",
    "\n",
    "$$ \\partial^i \\partial_t A_i + \\Gamma^{ki}_i \\partial_t A_k = \\partial_t \\partial^i A_i + \\partial_t (\\Gamma^{ki}_i A_k)$$\n",
    "\n",
    "The first terms match since partial derivatives DO commute, good. Product rule the last term. \n",
    "\n",
    "$$  \\Gamma^{ki}_i \\partial_t A_k = \\Gamma^{ki}_i \\partial_t A_k + A_k \\partial_t \\Gamma^{ki}_i $$\n",
    "\n",
    "Now, remember, we are in Maxwell's equations. Here, the metric cannot be changing in time, which means the Christoffels must also be constant, thus the last term goes to zero.\n",
    "\n",
    "$$  \\Gamma^{ki}_i \\partial_t A_k = \\Gamma^{ki}_i \\partial_t A_k $$\n",
    "\n",
    "Which means that, yes, in the EM situation our operators DO commute. Which means we can say...\n",
    "\n",
    "$$ \\partial_t D^i A_i + D^i D_i\\Phi = -4\\pi\\rho_e \\Rightarrow D^i D_i\\Phi = -4\\pi\\rho_e $$\n",
    "\n",
    "Bonus thought: perhaps modeling $\\partial_t$ as $t^a \\partial_a$ would have helped?\n"
   ]
  },
  {
   "cell_type": "markdown",
   "id": "3dc10713",
   "metadata": {},
   "source": [
    "<a id='P2'></a>\n",
    "\n",
    "# Problem 2 \\[Back to [top](#toc)\\]\n",
    "$$\\label{P2}$$\n",
    "\n",
    "*Derive equations 11.35 through 11.38*\n",
    "\n",
    "Ah, so we're actually going to derive BSSN! Gooooood..."
   ]
  },
  {
   "cell_type": "markdown",
   "id": "4c2c6d5c",
   "metadata": {},
   "source": [
    "ROUND 1: 11.35, evolution of $\\phi$\n",
    "\n",
    "$$\\partial_t \\phi = -\\frac16 \\alpha K + \\beta^i \\partial_i \\phi + \\frac16 \\partial_i \\beta^i$$"
   ]
  },
  {
   "cell_type": "markdown",
   "id": "bef24cf1",
   "metadata": {},
   "source": [
    "2.136 is our friend the (annoying) $\\partial_t ln\\sqrt{\\gamma} = -\\alpha K + D_i \\beta^i$. The variable we are seeking to relate this to is $\\phi = \\frac{1}{12} ln(\\gamma/\\eta)$"
   ]
  },
  {
   "cell_type": "markdown",
   "id": "964e6a66",
   "metadata": {},
   "source": [
    "$$\n",
    "\\begin{align}\n",
    "\\partial_t \\frac12 ln\\gamma &= -\\alpha K + D_i \\beta^i \\\\\n",
    "\\Rightarrow \\partial_t ln\\gamma &= -2\\alpha K + 2D_i \\beta^i \\\\\n",
    "\\Rightarrow \\partial_t 12\\phi + \\partial_t ln\\eta &= -2\\alpha K + 2D_i \\beta^i \\\\\n",
    "\\Rightarrow \\partial_t \\phi &= -\\frac16 \\alpha K + \\frac16 D_i \\beta^i \\\\\n",
    "\\Rightarrow \\partial_t \\phi &= -\\frac16 \\alpha K + \\frac16 \\partial_i \\beta^i + \\frac16 \\beta^a \\Gamma^i_{ai} \\\\\n",
    "\\Rightarrow \\partial_t \\phi &= -\\frac16 \\alpha K + \\frac16 \\partial_i \\beta^i + \\frac16 \\beta^k \\Gamma^i_{ki} \\\\\n",
    "\\end{align}\n",
    "$$"
   ]
  },
  {
   "cell_type": "markdown",
   "id": "e7060421",
   "metadata": {},
   "source": [
    "Now, this is close, but that last term is somewhat problematic. However, if we were to evaluate what that Christoffel equals...\n",
    "\n",
    "$$\n",
    "\\begin{align}\n",
    "\\Gamma^i_{ki} &= \\frac12 \\gamma^{il}(\\partial_k \\gamma_{il} + \\partial_i \\gamma_{kl} - \\partial_l \\gamma_{ki}) \\\\\n",
    "\\Rightarrow \\Gamma^i_{ki} &= \\frac12 \\gamma^{ii} (\\partial_k \\gamma_{ii} + \\partial_i \\gamma_{ki} - \\partial_i \\gamma_{ki}) \\\\\n",
    "\\Rightarrow \\Gamma^i_{ki} &= \\frac12 \\gamma^{ii} \\partial_k \\gamma_{ii}\\\\\n",
    "\\Rightarrow \\Gamma^i_{ki} &= \\frac12 \\partial_k ln \\gamma\\\\\n",
    "\\end{align}\n",
    "$$\n",
    "\n",
    "The last step here is MNR-2.125. We still aren't sure why it's true but it's a given relation so we'll take it. Performing this substitution (and replacing k with i for consistency) we get\n",
    "\n",
    "$$\n",
    "\\begin{align}\n",
    "\\Rightarrow \\partial_t \\phi &= -\\frac16 \\alpha K + \\frac16 \\partial_i \\beta^i + \\frac{1}{12} \\beta^i \\partial_i ln \\gamma \\\\\n",
    "\\Rightarrow \\partial_t \\phi &= -\\frac16 \\alpha K + \\frac16 \\partial_i \\beta^i + \\frac{1}{12} \\beta^i \\partial_i ln \\gamma \\\\\n",
    "\\Rightarrow \\partial_t \\phi &= -\\frac16 \\alpha K + \\frac16 \\partial_i \\beta^i + \\frac{1}{12} \\beta^i (\\partial_i ln \\gamma - \\partial_i ln \\eta) \\\\\n",
    "\\Rightarrow \\partial_t \\phi &= -\\frac16 \\alpha K + \\frac16 \\partial_i \\beta^i + \\frac{1}{12} \\beta^i \\partial_i ln (\\frac{\\gamma}{\\eta}) \\\\\n",
    "\\Rightarrow \\partial_t \\phi &= -\\frac16 \\alpha K + \\frac16 \\partial_i \\beta^i +  \\beta^i \\partial_i \\phi \\\\\n",
    "\\end{align}\n",
    "$$\n",
    "\n",
    "And that's one of the BSSN equations derived! "
   ]
  },
  {
   "cell_type": "markdown",
   "id": "0ed4f0f9",
   "metadata": {},
   "source": [
    "ROUND 2: 11.36, evolution of K. \n",
    "\n",
    "$$ \\partial_t K = -\\gamma^{ij} D_jD_i\\alpha + \\alpha(\\tilde{A}_{ij} \\tilde{A}^{ij} + \\frac13K^2) + 4\\pi\\alpha(\\rho+S) + \\beta^i \\partial_i K $$"
   ]
  },
  {
   "cell_type": "markdown",
   "id": "f5438605",
   "metadata": {},
   "source": [
    "Of interest is 2.137.\n",
    "\n",
    "$$ \\partial_t K = -D^2 \\alpha + \\alpha K_{ij}K^{ij} + 4\\pi\\alpha(\\rho+S) + \\beta^i D_i K $$"
   ]
  },
  {
   "cell_type": "markdown",
   "id": "627abb62",
   "metadata": {},
   "source": [
    "Rather quickly we can get almost all the terms to match, no weird form adjustments here. \n",
    "\n",
    "$$ \\Rightarrow \\partial_t K = -\\gamma^{ij}D_jD_i \\alpha + \\alpha K_{ij}K^{ij} + 4\\pi\\alpha(\\rho+S) + \\beta^i \\partial_i K $$\n",
    "\n",
    "The last term introduces no Christoffels as K is a scalar. "
   ]
  },
  {
   "cell_type": "markdown",
   "id": "a621d143",
   "metadata": {},
   "source": [
    "Note that this means the only term that isn't in the new form is $\\alpha K_{ij} K^{ij}$. \n",
    "\n",
    "Unfortunately the terms we need to get it into are not in K, so this is going to be a little funky. 11.34 does give us the definition for our mysterious variable, though. \n",
    "\n",
    "$$ \\tilde{A}_{ij} = e^{-4\\phi} A_{ij} $$\n",
    "\n",
    "But what is this A? Well, it's not the EM potential, it's something else derived in the not-done **Chapter 3**. We hope this will not lead to issues down the line. The relation is 3.31.\n",
    "\n",
    "$$ K_{ij} = A_{ij} + \\frac13 \\gamma_{ij} K $$\n",
    "\n",
    "So now we have the tools to start the transformation. "
   ]
  },
  {
   "cell_type": "markdown",
   "id": "ac4ab846",
   "metadata": {},
   "source": [
    "$$ \n",
    "\\begin{align}\n",
    "\\alpha K_{ij}K^{ij} &= \\alpha(A_{ij} + \\frac13 \\gamma_ij K)(A^{ij} + \\frac13 \\gamma_{ij} K ) \\\\\n",
    "&= \\alpha(A_{ij}A^{ij}  + \\frac13 A_{ij} \\gamma^{ij} K + \\frac13 A^{ij}\\gamma_{ij} K + \\frac19 \\gamma K^2) \\\\\n",
    "\\end{align}\n",
    "$$"
   ]
  },
  {
   "cell_type": "markdown",
   "id": "891f63fc",
   "metadata": {},
   "source": [
    "We need to figure out how to transform into the tilde version, so we insert the definition of $\\phi$.\n",
    "\n",
    "$$ \\tilde{A}_{ij} = e^{-\\frac13 ln\\frac\\gamma\\eta} A_{ij} $$\n",
    "$$ \\Rightarrow \\tilde{A}_{ij} e^{\\frac13 ln\\frac\\gamma\\eta} =  A_{ij} $$\n",
    "\n",
    "Now we can actually pull the fraction into an exponent and remove the natural log...\n",
    "\n",
    "$$ \\Rightarrow \\tilde{A}_{ij} \\left(\\frac{\\gamma}{\\eta}\\right)^{1/3} =  A_{ij} $$"
   ]
  },
  {
   "cell_type": "markdown",
   "id": "345fc45a",
   "metadata": {},
   "source": [
    "We do note that $\\eta=1$ in our formulation, so we shall leave it off in order to write the subsequent steps easier. Now we forefully throw the term into our relation and see what we get. \n",
    "\n",
    "$$ \n",
    "\\begin{align}\n",
    "&= \\alpha( \\gamma^{2/3} \\tilde A_{ij} \\tilde A^{ij}  + \\gamma^{1/3} \\frac13 \\tilde A_{ij} \\gamma^{ij} K + \\gamma^{1/3} \\frac13 \\tilde A^{ij}\\gamma_{ij} K + \\frac19 \\gamma K^2) \\\\\n",
    "&= \\alpha \\gamma^{2/3} ( \\tilde A_{ij} \\tilde A^{ij}  + \\gamma^{-1/3} \\frac13 \\tilde A_{ij} \\gamma^{ij} K + \\gamma^{-1/3} \\frac13 \\tilde A^{ij}\\gamma_{ij} K + \\gamma^{-2/3} \\frac19 \\gamma K^2) \\\\\n",
    "&= \\alpha \\gamma^{2/3} ( \\tilde A_{ij} \\tilde A^{ij}  + \\frac13 \\tilde A_{ij} \\tilde \\gamma^{ij} K + \\frac13 \\tilde A^{ij}\\tilde \\gamma_{ij} K + \\gamma^{-2/3} \\frac19 \\gamma K^2) \\\\\n",
    "&= \\alpha \\gamma^{2/3} ( \\tilde A_{ij} \\tilde A^{ij}  + \\frac23 \\tilde A_{ij} \\tilde \\gamma^{ij} K + \\frac19 \\gamma^{1/3} K^2) \\\\\n",
    "\\end{align}\n",
    "$$"
   ]
  },
  {
   "cell_type": "markdown",
   "id": "c52e824d",
   "metadata": {},
   "source": [
    "Oho! The entire point of A is that it's traceless. The middle term just up and vanishes.\n",
    "\n",
    "$$ = \\alpha \\gamma^{2/3} ( \\tilde A_{ij} \\tilde A^{ij} + \\frac19 \\gamma^{1/3} K^2) $$\n",
    "\n",
    "$$ = \\alpha ( \\gamma^{2/3} \\tilde A_{ij} \\tilde A^{ij} + \\frac19 \\gamma K^2) $$"
   ]
  },
  {
   "cell_type": "markdown",
   "id": "b2746e3f",
   "metadata": {},
   "source": [
    "Which would only work if $\\gamma = 3$ and $\\gamma^{2/3} = 1$. Now, $\\gamma=3$ is very reasonable, as it's a 3D cartesian matrix. But the other criteria? That's nonsense! It implies $\\gamma$ has to equal 1! Which ruins the other one! "
   ]
  },
  {
   "cell_type": "markdown",
   "id": "72a14442",
   "metadata": {},
   "source": [
    "ROUND 3: 11.37, evolution of the conformal metric $\\bar\\gamma_{ij}$\n",
    "\n",
    "$$ \\partial_t \\bar\\gamma_{ij} = -2\\alpha \\tilde A_{ij} + \\beta^k \\partial_k \\bar\\gamma_{ij} + \\bar\\gamma_{ik} \\partial_j \\beta^k + \\bar\\gamma_{kj} \\partial_i \\beta^k - \\frac23 \\bar\\gamma_{ij} \\partial_k \\beta^k $$"
   ]
  },
  {
   "cell_type": "markdown",
   "id": "1c486806",
   "metadata": {},
   "source": [
    "11.7 is the relevant one here, \n",
    "$$\\partial_t \\gamma_{ij} = -2\\alpha K_{ij} + D_i \\beta_j + D_j \\beta_i$$"
   ]
  },
  {
   "cell_type": "markdown",
   "id": "5d1a0b92",
   "metadata": {},
   "source": [
    "And our result from ROUND 1\n",
    "\n",
    "$$\\partial_t \\phi = -\\frac16 \\alpha K + \\beta^i \\partial_i \\phi + \\frac16 \\partial_i \\beta^i$$"
   ]
  },
  {
   "cell_type": "markdown",
   "id": "b2656993",
   "metadata": {},
   "source": [
    "So this is a rather odd series of algebraic steps, but once again we use $\\color{green}{colors}$ to indicate when we've gotten one of the terms we need. To make it even easier, cancelations will be $\\color{red}{red}$Instead of something crazy, though, we simply start with...\n",
    "\n",
    "$$\n",
    "\\begin{align}\n",
    "\\partial_t \\bar\\gamma_{ij} &= \\partial_t e^{-4\\phi} \\gamma_{ij} \\\\\n",
    "&= e^{-4\\phi} \\partial_t \\gamma_{ij} + \\gamma_{ij} \\partial_t e^{-4\\phi} \\\\\n",
    "&= e^{-4\\phi} \\partial_t \\gamma_{ij} -4 \\gamma_{ij} e^{-4\\phi} \\partial_t \\phi \\\\\n",
    "&= e^{-4\\phi} (-2\\alpha K_{ij} + D_i \\beta_j + D_j \\beta_i) -4 \\gamma_{ij} e^{-4\\phi} (-\\frac16 \\alpha K + \\beta^k \\partial_k \\phi + \\frac16 \\partial_k \\beta^k) \\\\\n",
    "&= -2e^{-4\\phi}\\alpha K_{ij} + e^{-4\\phi} D_i \\beta_j +  e^{-4\\phi}D_j \\beta_i -4 \\gamma_{ij} e^{-4\\phi} (-\\frac16 \\alpha K + \\beta^k \\partial_k \\phi + \\frac16 \\partial_k \\beta^k) \\\\\n",
    "&= -2e^{-4\\phi}\\alpha A_{ij} -\\color{red}{\\frac23 e^{-4\\phi}\\gamma_{ij} \\alpha K}  + e^{-4\\phi} D_i \\beta_j +  e^{-4\\phi}D_j \\beta_i  + \\color{red}{\\frac23 \\gamma_{ij} e^{-4\\phi} \\alpha K} - 4 \\gamma_{ij} e^{-4\\phi} \\beta^k \\partial_k \\phi - \\frac23 \\gamma_{ij} e^{-4\\phi} \\partial_k \\beta^k \\\\\n",
    "&= \\color{green}{-2\\alpha \\tilde A_{ij}} + e^{-4\\phi} D_i \\beta_j +  e^{-4\\phi}D_j \\beta_i - 4 \\gamma_{ij} e^{-4\\phi} \\beta^k \\partial_k \\phi \\color{green}{- \\frac23 \\bar \\gamma_{ij} \\partial_k \\beta^k} \\\\\n",
    "&= e^{-4\\phi} \\gamma^k_i \\gamma^l_j \\nabla_k \\beta_l +  e^{-4\\phi}\\gamma^k_j \\gamma^l_i \\nabla_k \\beta_l - 4 \\bar \\gamma_{ij} \\beta^k \\partial_k \\phi\\\\\n",
    "&= \\bar \\gamma^l_j \\nabla_i \\beta_l + \\bar \\gamma^l_i \\nabla_j \\beta_l - 4 \\bar \\gamma_{ij} \\beta^k \\partial_k \\phi\\\\\n",
    "&= \\bar \\gamma^l_j \\partial_i \\beta_l + \\bar \\gamma^l_i \\partial_j \\beta_l - \\bar \\gamma^l_j \\beta_k \\Gamma^k_{il} - \\bar \\gamma^l_i \\beta_k \\Gamma^k_{jl} - 4 \\bar \\gamma_{ij} \\beta^k \\partial_k \\phi\\\\\n",
    "&= \\color{green}{\\bar \\gamma_{kj} \\partial_i \\beta^k + \\bar \\gamma_{ki} \\partial_j \\beta^k} - \\bar \\gamma^l_j \\beta_k \\Gamma^k_{il} - \\bar \\gamma^l_i \\beta_k \\Gamma^k_{jl} - 4 \\bar \\gamma_{ij} \\beta^k \\partial_k \\phi\\\\\n",
    "&= - \\bar \\gamma^l_j \\beta_k \\Gamma^k_{il} - \\bar \\gamma^l_i \\beta_k \\Gamma^k_{jl} - 4 \\bar \\gamma_{ij} \\beta^k \\partial_k \\phi\\\\\n",
    "\\end{align}\n",
    "$$"
   ]
  },
  {
   "cell_type": "markdown",
   "id": "01d134f7",
   "metadata": {},
   "source": [
    "Now we take an aside to pove those Christoffel terms go to zero. They do so independently, so if we show it for one we show it for the other. We start with the observation that $\\bar\\gamma^k_i nabla_i \\beta_k = \\bar\\gamma_{ki} \\nabla_i \\beta^k$. Basically, the index flipping means both are the same. If we expand this, the partial derivatives follow the same rule and can cancel as well. Meaning the *different Christoffels terms* also are equal. The sign difference the vector versus one-form results add will be key here.\n",
    "\n",
    "$$\n",
    "\\begin{align}\n",
    "-\\bar\\gamma^k_i \\beta_l \\Gamma^l_{jk} &= \\bar\\gamma_{il} \\beta^k \\Gamma^l_{jk}\\\\\n",
    "\\Rightarrow -\\bar\\gamma^k_i \\beta_k \\Gamma^l_{jl} &= \\bar\\gamma_{ik} \\beta^k \\Gamma^l_{jl}\\\\\n",
    "\\Rightarrow -e^{-4\\phi} \\beta_i \\Gamma^l_{jl} &= e^{-4\\phi} \\beta_i \\Gamma^l_{jl}\\\\\n",
    "\\end{align}\n",
    "$$\n",
    "\n",
    "Anything that equals its own negative must be zero, thus the Christoffels do nothing in both cases (as the only difference is an ij flip.) This leaves...\n",
    "\n",
    "$$ \\partial_t \\bar\\gamma_{ij} = \\color{green}{CORRECT.TERMS} - 4\\bar\\gamma_{ij}\\beta^k\\partial_k \\phi $$\n",
    "\n",
    "There's only one term we haven't found yet, so we need to show\n",
    "\n",
    "$$ - 4\\bar\\gamma_{ij}\\beta^k\\partial_k \\phi = + \\beta^k \\partial_k \\bar\\gamma_{ij} $$\n",
    "\n",
    "We can get pretty close rather easily.\n",
    "\n",
    "$$ - 4\\bar\\gamma_{ij}\\beta^k\\partial_k \\phi = - 4 e^{-4\\phi}\\gamma_{ij}\\beta^k\\partial_k \\phi = \\gamma_{ij}\\beta^k\\partial_k e^{-4\\phi} = \\color{green}{\\beta^k \\partial_k (e^{-4\\phi}\\gamma_{ij})} - e^{-4\\phi} \\beta^k \\partial_k \\gamma_{ij} $$"
   ]
  },
  {
   "cell_type": "markdown",
   "id": "d18456de",
   "metadata": {},
   "source": [
    "The problem now is we need to show the last term goes to zero. Somehow. So why would the sum of the spatial derivatives of the spatial metric go to zero? Does the shift vector have anything to do with it? \n",
    "\n",
    "Wait! It is known that $D_k \\gamma_{ij}$ is zero. If we coud prove that the christoffel terms produced by the covariant derivative vanish, we would be in business. It turns out that, yes, we CAN in fact do that, but it's a little odd since it involves flipping the k-indices, giving us some upside-down Christoffels. But it does work out. \n",
    "\n",
    "$$ \n",
    "\\begin{align}\n",
    "\\beta^k \\nabla_k \\gamma_{ij} &= \\beta_k \\nabla^k \\gamma_{ij} \\\\\n",
    "\\Rightarrow \\beta^k \\partial_k \\gamma_{ij} - \\beta^k (\\gamma_{li} \\Gamma^l_{kj} + \\gamma_{lj} \\Gamma^l_{ki}) &= \\beta_k \\partial^k \\gamma_{ij} + \\beta_k (\\gamma_{li} \\Gamma^{lk}_j+ \\gamma_{lj}) \\Gamma^{lk}_i \\\\\n",
    "\\Rightarrow - \\beta^k (\\gamma_{li} \\Gamma^l_{kj} + \\gamma_{lj} \\Gamma^l_{ki}) &= \\beta_k (\\gamma_{li} \\Gamma^{lk}_j+ \\gamma_{lj} \\Gamma^{lk}_i) \\\\\n",
    "\\Rightarrow - \\beta^k (\\gamma_{li} \\Gamma^l_{kj} + \\gamma_{lj} \\Gamma^l_{ki}) &= \\beta^k (\\gamma_{li} \\Gamma^{l}_{jk}+ \\gamma_{lj} \\Gamma^{l}_{ki}) \\\\\n",
    "\\end{align}\n",
    "$$\n",
    "\n",
    "And would you look at that, it's equal to its negative. Thus, $e^{-4\\phi}\\beta^k\\partial_k\\gamma_{ij}=0$ and we FINALLY have all the terms we need. ROUND 3 victory!\n",
    "\n",
    "It relaly is the presence of the shift vector that lets us do this, though as of now we do not know the physical reason behind why this would be the case. "
   ]
  },
  {
   "cell_type": "markdown",
   "id": "43e194da",
   "metadata": {},
   "source": [
    "ROUND 4: 11.38, evolution of the conformal traceless portion of the extrinsic curvature (wow, that's a mouthful.)\n",
    "\n",
    "$$ \\partial_t \\tilde A_{ij} = e^{-4\\phi} \\left( -(D_i D_j \\alpha)^{TF} + \\alpha(R_{ij}^{TF} - 8\\pi S^{TF}_{ij}) \\right) + \\alpha(K\\tilde A_{ij} - 2\\tilde A_{il} \\tilde A^l_j) + \\beta^k\\partial_k \\tilde A_{ij} + \\tilde A_{ik} \\partial_j \\beta^k + \\tilde A_{kj} \\partial_i \\beta^k - \\frac23 \\tilde A_{ij} \\partial_k \\beta^k $$"
   ]
  },
  {
   "cell_type": "markdown",
   "id": "96f5252b",
   "metadata": {},
   "source": [
    "Today, our relavant equation is 11.8\n",
    "\n",
    "$$ \\partial_t K_{ij} = \\alpha(R_{ij} - 2K_{ik} K^k_j + KK_{ij}) - D_iD_j\\alpha - 8\\pi\\alpha(S_{ij}-\\frac12 \\gamma_{ij}(S-\\rho)) + \\beta^k \\partial_k K_{ij} + K_{ik}\\partial_j\\beta^k + K_{kj} \\partial_i \\beta^k $$\n",
    "\n",
    "As well as our result from ROUND 2\n",
    "\n",
    "$$ \\partial_t K = -\\gamma^{ij} D_jD_i\\alpha + \\alpha(\\tilde{A}_{ij} \\tilde{A}^{ij} + \\frac13K^2) + 4\\pi\\alpha(\\rho+S) + \\beta^i \\partial_i K $$\n",
    "\n",
    "Turns out we also need 11.7\n",
    "\n",
    "$$\\partial_t \\gamma_{ij} = -2\\alpha K_{ij} + D_i \\beta_j + D_j \\beta_i$$"
   ]
  },
  {
   "cell_type": "markdown",
   "id": "1eb4c588",
   "metadata": {},
   "source": [
    "Let's start much the same way we did in the previous round: $\\partial_t \\tilde A_{ij}$ and keep expanding until we get terms we need and then cutting them out. \n",
    "\n",
    "The TF is concerning. It means \"trace free\" version. The relation given for it is $R_{ij}^{TF} = R_{ij} - \\gamma_{ij}\\frac R3$"
   ]
  },
  {
   "cell_type": "markdown",
   "id": "0253fd69",
   "metadata": {},
   "source": [
    "Might as well just get started...\n",
    "\n",
    "$$\n",
    "\\begin{align}\n",
    "\\partial_t \\tilde A_{ij} &= \\partial_t (e^{-4\\phi} A_{ij}) \\\\\n",
    "&= A_{ij} \\partial_t e^{-4\\phi} + e^{-4\\phi} \\partial_t A_{ij} \\\\\n",
    "&= -4 e^{-4\\phi }A_{ij} \\partial_t \\phi + e^{-4\\phi}\\partial_t (K_{ij} - e^{-4\\phi}\\frac13 \\gamma_{ij} K) \\\\\n",
    "&= -4 e^{-4\\phi }A_{ij} \\partial_t \\phi + e^{-4\\phi}\\partial_t K_{ij} - e^{-4\\phi}\\frac13 \\partial_t (\\gamma_{ij} K) \\\\\n",
    "&= -4 e^{-4\\phi }A_{ij} \\partial_t \\phi + e^{-4\\phi}\\partial_t K_{ij} - e^{-4\\phi}\\frac13 \\gamma_{ij} \\partial_t K - e^{-4\\phi}\\frac13 K \\partial_t \\gamma_{ij} \\\\\n",
    "\\end{align}\n",
    "$$\n",
    "\n",
    "$$ = -4 e^{-4\\phi }A_{ij} \\partial_t \\phi + e^{-4\\phi}\\left[ \\alpha(R_{ij} - 2K_{ik} K^k_j + KK_{ij}) - D_iD_j\\alpha - 8\\pi\\alpha(S_{ij}-\\frac12 \\gamma_{ij}(S-\\rho)) + \\beta^k \\partial_k K_{ij} + K_{ik}\\partial_j\\beta^k + K_{kj} \\partial_i \\beta^k \\right] - e^{-4\\phi}\\frac13 \\gamma_{ij} \\left[ -\\gamma^{kl} D_lD_k\\alpha + \\alpha(\\tilde{A}_{kl} \\tilde{A}^{kl} + \\frac13K^2) + 4\\pi\\alpha(\\rho+S) + \\beta^k \\partial_k K \\right] - e^{-4\\phi}\\frac13 K \\left[ -2\\alpha K_{ij} + D_i \\beta_j + D_j \\beta_i \\right]  $$\n",
    "\n",
    "$$ = -4 \\tilde A_{ij} \\partial_t \\phi + e^{-4\\phi}\\alpha(R_{ij} - 2K_{ik} K^k_j + KK_{ij}) - e^{-4\\phi}D_iD_j\\alpha - 8 e^{-4\\phi}\\pi\\alpha(S_{ij}-\\frac12 \\gamma_{ij}(S-\\rho)) + e^{-4\\phi}\\beta^k \\partial_k K_{ij} + e^{-4\\phi}K_{ik}\\partial_j\\beta^k + e^{-4\\phi}K_{kj} \\partial_i \\beta^k  + \\frac13 e^{-4\\phi} \\gamma_{ij}\\gamma^{kl} D_lD_k\\alpha - \\frac13 e^{-4\\phi} \\gamma_{ij}\\alpha(\\tilde{A}_{kl} \\tilde{A}^{kl} +\\frac13K^2) - \\frac43e^{-4\\phi} \\gamma_{ij}\\pi\\alpha(\\rho+S) - \\frac13e^{-4\\phi} \\gamma_{ij}\\beta^k \\partial_k K + \\frac23e^{-4\\phi} K\\alpha K_{ij} - \\frac13 e^{-4\\phi} KD_i \\beta_j - \\frac13 e^{-4\\phi} KD_j \\beta_i \\\\ $$"
   ]
  },
  {
   "cell_type": "markdown",
   "id": "8861f1b5",
   "metadata": {},
   "source": []
  },
  {
   "cell_type": "markdown",
   "id": "61d4a0d5",
   "metadata": {},
   "source": [
    "A_{ij} + \\frac13 \\gamma_{ij} K\n",
    "\n",
    "A^{ij} + \\frac13 \\gamma^{ij} K"
   ]
  },
  {
   "cell_type": "markdown",
   "id": "d0e34419",
   "metadata": {},
   "source": [
    "Too big to manage, but it is possible for us to spy out individual parts that can be "
   ]
  },
  {
   "cell_type": "markdown",
   "id": "df50096e",
   "metadata": {},
   "source": [
    "<a id='latex_pdf_output'></a>\n",
    "\n",
    "# Addendum: Output this notebook to $\\LaTeX$-formatted PDF file \\[Back to [top](#toc)\\]\n",
    "$$\\label{latex_pdf_output}$$\n",
    "\n",
    "The following code cell converts this Jupyter notebook into a proper, clickable $\\LaTeX$-formatted PDF file. After the cell is successfully run, the generated PDF may be found in the root NRPy+ tutorial directory, with filename\n",
    "[MNR-02.pdf](MNR-02.pdf) (Note that clicking on this link may not work; you may need to open the PDF file through another means.)\n",
    "\n",
    "**Important Note**: Make sure that the file name is right in all six locations, two here in the Markdown, four in the code below. \n",
    "\n",
    "* MNR-02.pdf\n",
    "* MNR-02.ipynb\n",
    "* MNR-02.tex"
   ]
  },
  {
   "cell_type": "code",
   "execution_count": 16,
   "id": "abf583ef",
   "metadata": {
    "scrolled": true
   },
   "outputs": [
    {
     "name": "stdout",
     "output_type": "stream",
     "text": [
      "Created MNR-02.tex, and compiled LaTeX file to PDF file MNR-02.pdf\n"
     ]
    }
   ],
   "source": [
    "import cmdline_helper as cmd    # NRPy+: Multi-platform Python command-line interface\n",
    "cmd.output_Jupyter_notebook_to_LaTeXed_PDF(\"MNR-02\")"
   ]
  }
 ],
 "metadata": {
  "kernelspec": {
   "display_name": "Python 3 (ipykernel)",
   "language": "python",
   "name": "python3"
  },
  "language_info": {
   "codemirror_mode": {
    "name": "ipython",
    "version": 3
   },
   "file_extension": ".py",
   "mimetype": "text/x-python",
   "name": "python",
   "nbconvert_exporter": "python",
   "pygments_lexer": "ipython3",
   "version": "3.10.4"
  }
 },
 "nbformat": 4,
 "nbformat_minor": 5
}
