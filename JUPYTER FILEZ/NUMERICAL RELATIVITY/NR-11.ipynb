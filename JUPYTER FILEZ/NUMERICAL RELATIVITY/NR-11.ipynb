{
 "cells": [
  {
   "cell_type": "markdown",
   "id": "0c1bfe81",
   "metadata": {},
   "source": [
    "# Numerical Relativity Problems Chapter 11: Recasting the Evolution Equations\n",
    "\n",
    "## Authors: Gabriel M Steward"
   ]
  },
  {
   "cell_type": "markdown",
   "id": "479540e4",
   "metadata": {},
   "source": [
    "https://github.com/zachetienne/nrpytutorial/blob/master/Tutorial-Template_Style_Guide.ipynb\n",
    "\n",
    "Link to the Style Guide. Not internal in case something breaks. "
   ]
  },
  {
   "cell_type": "markdown",
   "id": "10780970",
   "metadata": {},
   "source": [
    "### </list_source_code> NRPy+ Source Code for this module:\n",
    "None, save the pdf conversion at the bottom of this document.  \n",
    "\n",
    "## Introduction:\n",
    "Before we end this summer, we will (we must!) get to the end of BSSN, which is contained in this chapter. \n",
    "\n",
    "## </other>  Other (Optional):\n",
    "In order to fascilitate learning, whenever the opportunity arises Sympy will be used. (Which turns out not to be that often all things considered...)\n",
    "\n",
    "### Note on Notation:\n",
    "Any new notation will be brought up in the notebook when it becomes relevant. \n",
    "\n",
    "### Citations:\n",
    "\n",
    "<a id='1'></a>\n",
    "[1] linky (descrip)"
   ]
  },
  {
   "cell_type": "markdown",
   "id": "56664bc2",
   "metadata": {},
   "source": [
    "<a id='toc'></a>\n",
    "\n",
    "# Table of Contents\n",
    "$$\\label{toc}$$\n",
    "\n",
    "[Problem 1](#P1) (Coulomb Gauge)\n",
    "\n",
    "[Problem 2](#P2) (Derivation of BSSN, incomplete)\n",
    "\n",
    "[Problem 3](#P3) (The Secret Equation, incomplete)\n",
    "\n",
    "[Problem 4](#P4) (Wave Equation Satisfaction)\n",
    "\n",
    "[PDF](#latex_pdf_output) (turn this into a PDF)"
   ]
  },
  {
   "cell_type": "markdown",
   "id": "cd9e5529",
   "metadata": {},
   "source": [
    "<a id='P1'></a>\n",
    "\n",
    "# Problem 1 \\[Back to [top](#toc)\\]\n",
    "$$\\label{P1}$$\n",
    "\n",
    "*Show that in the Coulomb gauge the gauge potential $\\Phi$ satisfies Poisson's elliptic equation $D^iD_i\\Phi = -4\\pi \\rho_e$.*"
   ]
  },
  {
   "cell_type": "markdown",
   "id": "7839ca41",
   "metadata": {},
   "source": [
    "The Coulomb Gauge says $\\Gamma = D^i A_i = 0$\n",
    "\n",
    "11.4 gives us a very helpful relation:\n",
    "\n",
    "$$ \\partial_t A_i = -E_i -D_i\\Phi $$\n",
    "\n",
    "Contract with $D^i$\n",
    "\n",
    "$$ D^i \\partial_t A_i = -D^i E_i - D^i D_i\\Phi $$\n",
    "\n",
    "$D^i E_i$ is the constraint 11.6. \n",
    "\n",
    "$$ D^i \\partial_t A_i = -4\\pi\\rho_e - D^i D_i\\Phi $$\n",
    "\n",
    "And we re-arrange...\n",
    "\n",
    "$$ D^i \\partial_t A_i + D^i D_i\\Phi = -4\\pi\\rho_e$$\n",
    "\n",
    "Which is really close. Now, if $D^i \\partial_t$ commutes, we end up with $D^i A_i$ which goes to zero in our gauge. However, WE DO NOT KNOW IF THEY COMMUTE. We do know that we are dealing with Maxwell's equations so $D^i = \\nabla^i$ and $\\partial_t = \\nabla_t$. \n",
    "\n",
    "$$ \\nabla^i \\nabla_t A_i + D^i D_i\\Phi = -4\\pi\\rho_e$$\n",
    "\n",
    "But covariant derivatives need not commute, either. If we were SUMMING over BOTH indices, it would be fine, but we are not. ($\\nabla_t$ isn't really an index anyway.) "
   ]
  },
  {
   "cell_type": "markdown",
   "id": "df07b670",
   "metadata": {},
   "source": [
    "So let's try to show that the term CAN commute. Test the equality. \n",
    "\n",
    "$$ \\nabla^i \\partial_t A_i = \\partial_t \\nabla^i A_i $$\n",
    "\n",
    "Split up the covariant derivative, knowing that in EM it is equal to the spatial covariant derivative, we don't have to worry about the 4-index that shows up.\n",
    "\n",
    "$$ \\partial^i \\partial_t A_i + \\Gamma^{ki}_i \\partial_t A_k = \\partial_t \\partial^i A_i + \\partial_t (\\Gamma^{ki}_i A_k)$$\n",
    "\n",
    "The first terms match since partial derivatives DO commute, good. Product rule the last term. \n",
    "\n",
    "$$  \\Gamma^{ki}_i \\partial_t A_k = \\Gamma^{ki}_i \\partial_t A_k + A_k \\partial_t \\Gamma^{ki}_i $$\n",
    "\n",
    "Now, remember, we are in Maxwell's equations. Here, the metric cannot be changing in time, which means the Christoffels must also be constant, thus the last term goes to zero.\n",
    "\n",
    "$$  \\Gamma^{ki}_i \\partial_t A_k = \\Gamma^{ki}_i \\partial_t A_k $$\n",
    "\n",
    "Which means that, yes, in the EM situation our operators DO commute. Which means we can say...\n",
    "\n",
    "$$ \\partial_t D^i A_i + D^i D_i\\Phi = -4\\pi\\rho_e \\Rightarrow D^i D_i\\Phi = -4\\pi\\rho_e $$\n",
    "\n",
    "Bonus thought: perhaps modeling $\\partial_t$ as $t^a \\partial_a$ would have helped?\n"
   ]
  },
  {
   "cell_type": "markdown",
   "id": "3dc10713",
   "metadata": {},
   "source": [
    "<a id='P2'></a>\n",
    "\n",
    "# Problem 2 \\[Back to [top](#toc)\\]\n",
    "$$\\label{P2}$$\n",
    "\n",
    "*Derive equations 11.35 through 11.38*\n",
    "\n",
    "Ah, so we're actually going to derive BSSN! Gooooood..."
   ]
  },
  {
   "cell_type": "markdown",
   "id": "4c2c6d5c",
   "metadata": {},
   "source": [
    "ROUND 1: 11.35, evolution of $\\phi$\n",
    "\n",
    "$$\\partial_t \\phi = -\\frac16 \\alpha K + \\beta^i \\partial_i \\phi + \\frac16 \\partial_i \\beta^i$$"
   ]
  },
  {
   "cell_type": "markdown",
   "id": "bef24cf1",
   "metadata": {},
   "source": [
    "2.136 is our friend the (annoying) $\\partial_t ln\\sqrt{\\gamma} = -\\alpha K + D_i \\beta^i$. The variable we are seeking to relate this to is $\\phi = \\frac{1}{12} ln(\\gamma/\\eta)$"
   ]
  },
  {
   "cell_type": "markdown",
   "id": "964e6a66",
   "metadata": {},
   "source": [
    "$$\n",
    "\\begin{align}\n",
    "\\partial_t \\frac12 ln\\gamma &= -\\alpha K + D_i \\beta^i \\\\\n",
    "\\Rightarrow \\partial_t ln\\gamma &= -2\\alpha K + 2D_i \\beta^i \\\\\n",
    "\\Rightarrow \\partial_t 12\\phi + \\partial_t ln\\eta &= -2\\alpha K + 2D_i \\beta^i \\\\\n",
    "\\Rightarrow \\partial_t \\phi &= -\\frac16 \\alpha K + \\frac16 D_i \\beta^i \\\\\n",
    "\\Rightarrow \\partial_t \\phi &= -\\frac16 \\alpha K + \\frac16 \\partial_i \\beta^i + \\frac16 \\beta^a \\Gamma^i_{ai} \\\\\n",
    "\\Rightarrow \\partial_t \\phi &= -\\frac16 \\alpha K + \\frac16 \\partial_i \\beta^i + \\frac16 \\beta^k \\Gamma^i_{ki} \\\\\n",
    "\\end{align}\n",
    "$$"
   ]
  },
  {
   "cell_type": "markdown",
   "id": "e7060421",
   "metadata": {},
   "source": [
    "Now, this is close, but that last term is somewhat problematic. However, if we were to evaluate what that Christoffel equals...\n",
    "\n",
    "$$\n",
    "\\begin{align}\n",
    "\\Gamma^i_{ki} &= \\frac12 \\gamma^{il}(\\partial_k \\gamma_{il} + \\partial_i \\gamma_{kl} - \\partial_l \\gamma_{ki}) \\\\\n",
    "\\Rightarrow \\Gamma^i_{ki} &= \\frac12 \\gamma^{ii} (\\partial_k \\gamma_{ii} + \\partial_i \\gamma_{ki} - \\partial_i \\gamma_{ki}) \\\\\n",
    "\\Rightarrow \\Gamma^i_{ki} &= \\frac12 \\gamma^{ii} \\partial_k \\gamma_{ii}\\\\\n",
    "\\Rightarrow \\Gamma^i_{ki} &= \\frac12 \\partial_k ln \\gamma\\\\\n",
    "\\end{align}\n",
    "$$\n",
    "\n",
    "The last step here is MNR-2.125. We still aren't sure why it's true but it's a given relation so we'll take it. Performing this substitution (and replacing k with i for consistency) we get\n",
    "\n",
    "$$\n",
    "\\begin{align}\n",
    "\\Rightarrow \\partial_t \\phi &= -\\frac16 \\alpha K + \\frac16 \\partial_i \\beta^i + \\frac{1}{12} \\beta^i \\partial_i ln \\gamma \\\\\n",
    "\\Rightarrow \\partial_t \\phi &= -\\frac16 \\alpha K + \\frac16 \\partial_i \\beta^i + \\frac{1}{12} \\beta^i \\partial_i ln \\gamma \\\\\n",
    "\\Rightarrow \\partial_t \\phi &= -\\frac16 \\alpha K + \\frac16 \\partial_i \\beta^i + \\frac{1}{12} \\beta^i (\\partial_i ln \\gamma - \\partial_i ln \\eta) \\\\\n",
    "\\Rightarrow \\partial_t \\phi &= -\\frac16 \\alpha K + \\frac16 \\partial_i \\beta^i + \\frac{1}{12} \\beta^i \\partial_i ln (\\frac{\\gamma}{\\eta}) \\\\\n",
    "\\Rightarrow \\partial_t \\phi &= -\\frac16 \\alpha K + \\frac16 \\partial_i \\beta^i +  \\beta^i \\partial_i \\phi \\\\\n",
    "\\end{align}\n",
    "$$\n",
    "\n",
    "And that's one of the BSSN equations derived! "
   ]
  },
  {
   "cell_type": "markdown",
   "id": "0ed4f0f9",
   "metadata": {},
   "source": [
    "ROUND 2: 11.36, evolution of K. \n",
    "\n",
    "$$ \\partial_t K = -\\gamma^{ij} D_jD_i\\alpha + \\alpha(\\tilde{A}_{ij} \\tilde{A}^{ij} + \\frac13K^2) + 4\\pi\\alpha(\\rho+S) + \\beta^i \\partial_i K $$"
   ]
  },
  {
   "cell_type": "markdown",
   "id": "f5438605",
   "metadata": {},
   "source": [
    "Of interest is 2.137.\n",
    "\n",
    "$$ \\partial_t K = -D^2 \\alpha + \\alpha K_{ij}K^{ij} + 4\\pi\\alpha(\\rho+S) + \\beta^i D_i K $$"
   ]
  },
  {
   "cell_type": "markdown",
   "id": "627abb62",
   "metadata": {},
   "source": [
    "Rather quickly we can get almost all the terms to match, no weird form adjustments here. \n",
    "\n",
    "$$ \\Rightarrow \\partial_t K = -\\gamma^{ij}D_jD_i \\alpha + \\alpha K_{ij}K^{ij} + 4\\pi\\alpha(\\rho+S) + \\beta^i \\partial_i K $$\n",
    "\n",
    "The last term introduces no Christoffels as K is a scalar. "
   ]
  },
  {
   "cell_type": "markdown",
   "id": "a621d143",
   "metadata": {},
   "source": [
    "Note that this means the only term that isn't in the new form is $\\alpha K_{ij} K^{ij}$. \n",
    "\n",
    "Unfortunately the terms we need to get it into are not in K, so this is going to be a little funky. 11.34 does give us the definition for our mysterious variable, though. \n",
    "\n",
    "$$ \\tilde{A}_{ij} = e^{-4\\phi} A_{ij} $$\n",
    "\n",
    "But what is this A? Well, it's not the EM potential, it's something else derived in the not-done **Chapter 3**. We hope this will not lead to issues down the line. The relation is 3.31.\n",
    "\n",
    "$$ K_{ij} = A_{ij} + \\frac13 \\gamma_{ij} K $$\n",
    "\n",
    "So now we have the tools to start the transformation. "
   ]
  },
  {
   "cell_type": "markdown",
   "id": "ac4ab846",
   "metadata": {},
   "source": [
    "$$ \n",
    "\\begin{align}\n",
    "\\alpha K_{ij}K^{ij} &= \\alpha(A_{ij} + \\frac13 \\gamma_{ij} K)(A^{ij} + \\frac13 \\gamma_{ij} K ) \\\\\n",
    "&= \\alpha(A_{ij}A^{ij}  + \\frac13 A_{ij} \\gamma^{ij} K + \\frac13 A^{ij}\\gamma_{ij} K + \\frac19 \\gamma^{ij} \\gamma_{ij} K^2) \\\\\n",
    "\\end{align}\n",
    "$$"
   ]
  },
  {
   "cell_type": "markdown",
   "id": "dfc29d21",
   "metadata": {},
   "source": [
    "Now this is where we need to be careful. $\\gamma^{ij}K_{ij} = K^i_i = K$ BUT $\\gamma^{ij} \\gamma_{ij} = \\gamma^i_j \\neq \\gamma$. THIS NOTATION DROVE US NUTS. K is the TRACE. $\\gamma$ is the DETERMINANT. Now, we don't know what the trace $\\gamma$ is (wait, actually we do, it's $\\delta^i_i$, but let's not worry about that for now), but we will know $\\bar\\gamma$'s, as its determinant is 1, it's a flat metric, and it's 3D... it will be 3. \n",
    "\n",
    "Also we note that A is, by definition, traceless, so the middle terms vanish. \n",
    "\n",
    "$$ = \\alpha(A_{ij}A^{ij} + \\frac19 \\gamma^{ij} \\gamma_{ij} K^2) $$\n",
    "\n",
    "Adjust to conformal terms. \n",
    "\n",
    "$$ = \\alpha(e^{8\\phi} \\tilde A_{ij}\\tilde A^{ij} + \\frac19 e^{8\\phi} \\bar\\gamma^{ij} \\bar\\gamma_{ij} K^2) $$\n",
    "\n",
    "As we discussed, the trace of $\\bar\\gamma$ is 3. \n",
    "\n",
    "$$ = \\alpha e^{8\\phi}( \\tilde A_{ij}\\tilde A^{ij} + \\frac13 K^2) $$"
   ]
  },
  {
   "cell_type": "markdown",
   "id": "891f63fc",
   "metadata": {},
   "source": [
    "So clearly this only works if our exponential equals one. Fortunately...\n",
    "\n",
    "$$\n",
    "\\begin{align}\n",
    "\\bar\\gamma_{ij} &= e^{-4\\phi} \\gamma_{ij} \\\\\n",
    "\\Rightarrow \\bar\\gamma_{ij} &= e^{-4\\frac{1}{12} ln(\\gamma/\\eta)} \\gamma_{ij} \\\\\n",
    "\\Rightarrow \\bar\\gamma_{ij} &= e^{-\\frac13 ln(\\gamma)} \\gamma_{ij} \\\\\n",
    "\\Rightarrow \\bar\\gamma_{ij} &= \\gamma^{-1/3} \\gamma_{ij} \\\\\n",
    "\\Rightarrow \\bar\\gamma^{ij} \\bar\\gamma_{ij} &= \\bar\\gamma^{ij} \\gamma^{-1/3} \\gamma_{ij} \\\\\n",
    "\\Rightarrow 3 &= \\gamma^{-2/3} \\gamma^{ij} \\gamma_{ij} \\\\\n",
    "\\Rightarrow 3 &= \\gamma^{-2/3} \\gamma^i_i \\\\\n",
    "\\end{align}\n",
    "$$\n",
    "\n"
   ]
  },
  {
   "cell_type": "markdown",
   "id": "435eb7df",
   "metadata": {},
   "source": [
    "Now, this means that we do need the trace of the original spatial metric. Which... is also 3. Because $\\gamma^i_i = \\delta^i_i,$ always. Thus, the factor in the middle must equal 1. And wouldn't you know it that factor is just the inverse of the $e^{8\\phi}$ term we need to get rid of.\n",
    "\n",
    "$$ \\alpha K_{ij} K^{ij} = \\alpha( \\tilde A_{ij}\\tilde A^{ij} + \\frac13 K^2) $$\n",
    "\n",
    "And now we have shown that every term is correct."
   ]
  },
  {
   "cell_type": "markdown",
   "id": "72a14442",
   "metadata": {},
   "source": [
    "ROUND 3: 11.37, evolution of the conformal metric $\\bar\\gamma_{ij}$\n",
    "\n",
    "$$ \\partial_t \\bar\\gamma_{ij} = -2\\alpha \\tilde A_{ij} + \\beta^k \\partial_k \\bar\\gamma_{ij} + \\bar\\gamma_{ik} \\partial_j \\beta^k + \\bar\\gamma_{kj} \\partial_i \\beta^k - \\frac23 \\bar\\gamma_{ij} \\partial_k \\beta^k $$"
   ]
  },
  {
   "cell_type": "markdown",
   "id": "1c486806",
   "metadata": {},
   "source": [
    "11.7 is the relevant one here, \n",
    "$$\\partial_t \\gamma_{ij} = -2\\alpha K_{ij} + D_i \\beta_j + D_j \\beta_i$$"
   ]
  },
  {
   "cell_type": "markdown",
   "id": "5d1a0b92",
   "metadata": {},
   "source": [
    "And our result from ROUND 1\n",
    "\n",
    "$$\\partial_t \\phi = -\\frac16 \\alpha K + \\beta^i \\partial_i \\phi + \\frac16 \\partial_i \\beta^i$$"
   ]
  },
  {
   "cell_type": "markdown",
   "id": "b2656993",
   "metadata": {},
   "source": [
    "So this is a rather odd series of algebraic steps, but once again we use $\\color{green}{colors}$ to indicate when we've gotten one of the terms we need. To make it even easier, cancelations will be $\\color{red}{red}$Instead of something crazy, though, we simply start with...\n",
    "\n",
    "$$\n",
    "\\begin{align}\n",
    "\\partial_t \\bar\\gamma_{ij} &= \\partial_t e^{-4\\phi} \\gamma_{ij} \\\\\n",
    "&= e^{-4\\phi} \\partial_t \\gamma_{ij} + \\gamma_{ij} \\partial_t e^{-4\\phi} \\\\\n",
    "&= e^{-4\\phi} \\partial_t \\gamma_{ij} -4 \\gamma_{ij} e^{-4\\phi} \\partial_t \\phi \\\\\n",
    "&= e^{-4\\phi} (-2\\alpha K_{ij} + D_i \\beta_j + D_j \\beta_i) -4 \\gamma_{ij} e^{-4\\phi} (-\\frac16 \\alpha K + \\beta^k \\partial_k \\phi + \\frac16 \\partial_k \\beta^k) \\\\\n",
    "&= -2e^{-4\\phi}\\alpha K_{ij} + e^{-4\\phi} D_i \\beta_j +  e^{-4\\phi}D_j \\beta_i -4 \\gamma_{ij} e^{-4\\phi} (-\\frac16 \\alpha K + \\beta^k \\partial_k \\phi + \\frac16 \\partial_k \\beta^k) \\\\\n",
    "&= -2e^{-4\\phi}\\alpha A_{ij} -\\color{red}{\\frac23 e^{-4\\phi}\\gamma_{ij} \\alpha K}  + e^{-4\\phi} D_i \\beta_j +  e^{-4\\phi}D_j \\beta_i  + \\color{red}{\\frac23 \\gamma_{ij} e^{-4\\phi} \\alpha K} - 4 \\gamma_{ij} e^{-4\\phi} \\beta^k \\partial_k \\phi - \\frac23 \\gamma_{ij} e^{-4\\phi} \\partial_k \\beta^k \\\\\n",
    "&= \\color{green}{-2\\alpha \\tilde A_{ij}} + e^{-4\\phi} D_i \\beta_j +  e^{-4\\phi}D_j \\beta_i - 4 \\gamma_{ij} e^{-4\\phi} \\beta^k \\partial_k \\phi \\color{green}{- \\frac23 \\bar \\gamma_{ij} \\partial_k \\beta^k} \\\\\n",
    "&= e^{-4\\phi} \\gamma^k_i \\gamma^l_j \\nabla_k \\beta_l +  e^{-4\\phi}\\gamma^k_j \\gamma^l_i \\nabla_k \\beta_l - 4 \\bar \\gamma_{ij} \\beta^k \\partial_k \\phi\\\\\n",
    "&= \\bar \\gamma^l_j \\nabla_i \\beta_l + \\bar \\gamma^l_i \\nabla_j \\beta_l - 4 \\bar \\gamma_{ij} \\beta^k \\partial_k \\phi\\\\\n",
    "&= \\bar \\gamma^l_j \\partial_i \\beta_l + \\bar \\gamma^l_i \\partial_j \\beta_l - \\bar \\gamma^l_j \\beta_k \\Gamma^k_{il} - \\bar \\gamma^l_i \\beta_k \\Gamma^k_{jl} - 4 \\bar \\gamma_{ij} \\beta^k \\partial_k \\phi\\\\\n",
    "&= \\color{green}{\\bar \\gamma_{kj} \\partial_i \\beta^k + \\bar \\gamma_{ki} \\partial_j \\beta^k} - \\bar \\gamma^l_j \\beta_k \\Gamma^k_{il} - \\bar \\gamma^l_i \\beta_k \\Gamma^k_{jl} - 4 \\bar \\gamma_{ij} \\beta^k \\partial_k \\phi\\\\\n",
    "&= - \\bar \\gamma^l_j \\beta_k \\Gamma^k_{il} - \\bar \\gamma^l_i \\beta_k \\Gamma^k_{jl} - 4 \\bar \\gamma_{ij} \\beta^k \\partial_k \\phi\\\\\n",
    "\\end{align}\n",
    "$$"
   ]
  },
  {
   "cell_type": "markdown",
   "id": "01d134f7",
   "metadata": {},
   "source": [
    "Now we take an aside to pove those Christoffel terms go to zero. They do so independently, so if we show it for one we show it for the other. We start with the observation that $\\bar\\gamma^k_i \\nabla_i \\beta_k = \\bar\\gamma_{ki} \\nabla_i \\beta^k$. Basically, the index flipping means both are the same. If we expand this, the partial derivatives follow the same rule and can cancel as well. Meaning the *different Christoffels terms* also are equal. The sign difference the vector versus one-form results add will be key here.\n",
    "\n",
    "$$\n",
    "\\begin{align}\n",
    "-\\bar\\gamma^k_i \\beta_l \\Gamma^l_{jk} &= \\bar\\gamma_{il} \\beta^k \\Gamma^l_{jk}\\\\\n",
    "\\Rightarrow -\\bar\\gamma^k_i \\beta_k \\Gamma^l_{jl} &= \\bar\\gamma_{ik} \\beta^k \\Gamma^l_{jl}\\\\\n",
    "\\Rightarrow -e^{-4\\phi} \\beta_i \\Gamma^l_{jl} &= e^{-4\\phi} \\beta_i \\Gamma^l_{jl}\\\\\n",
    "\\end{align}\n",
    "$$\n",
    "\n",
    "Anything that equals its own negative must be zero, thus the Christoffels do nothing in both cases (as the only difference is an ij flip.) This leaves...\n",
    "\n",
    "$$ \\partial_t \\bar\\gamma_{ij} = \\color{green}{CORRECT.TERMS} - 4\\bar\\gamma_{ij}\\beta^k\\partial_k \\phi $$\n",
    "\n",
    "There's only one term we haven't found yet, so we need to show\n",
    "\n",
    "$$ - 4\\bar\\gamma_{ij}\\beta^k\\partial_k \\phi = + \\beta^k \\partial_k \\bar\\gamma_{ij} $$\n",
    "\n",
    "We can get pretty close rather easily.\n",
    "\n",
    "$$ - 4\\bar\\gamma_{ij}\\beta^k\\partial_k \\phi = - 4 e^{-4\\phi}\\gamma_{ij}\\beta^k\\partial_k \\phi = \\gamma_{ij}\\beta^k\\partial_k e^{-4\\phi} = \\color{green}{\\beta^k \\partial_k (e^{-4\\phi}\\gamma_{ij})} - e^{-4\\phi} \\beta^k \\partial_k \\gamma_{ij} $$"
   ]
  },
  {
   "cell_type": "markdown",
   "id": "d18456de",
   "metadata": {},
   "source": [
    "The problem now is we need to show the last term goes to zero. Somehow. So why would the sum of the spatial derivatives of the spatial metric go to zero? Does the shift vector have anything to do with it? \n",
    "\n",
    "Wait! It is known that $D_k \\gamma_{ij}$ is zero. If we coud prove that the christoffel terms produced by the covariant derivative vanish, we would be in business. It turns out that, yes, we CAN in fact do that, but it's a little odd since it involves flipping the k-indices, giving us some upside-down Christoffels. But it does work out. \n",
    "\n",
    "$$ \n",
    "\\begin{align}\n",
    "\\beta^k \\nabla_k \\gamma_{ij} &= \\beta_k \\nabla^k \\gamma_{ij} \\\\\n",
    "\\Rightarrow \\beta^k \\partial_k \\gamma_{ij} - \\beta^k (\\gamma_{li} \\Gamma^l_{kj} + \\gamma_{lj} \\Gamma^l_{ki}) &= \\beta_k \\partial^k \\gamma_{ij} + \\beta_k (\\gamma_{li} \\Gamma^{lk}_j+ \\gamma_{lj}) \\Gamma^{lk}_i \\\\\n",
    "\\Rightarrow - \\beta^k (\\gamma_{li} \\Gamma^l_{kj} + \\gamma_{lj} \\Gamma^l_{ki}) &= \\beta_k (\\gamma_{li} \\Gamma^{lk}_j+ \\gamma_{lj} \\Gamma^{lk}_i) \\\\\n",
    "\\Rightarrow - \\beta^k (\\gamma_{li} \\Gamma^l_{kj} + \\gamma_{lj} \\Gamma^l_{ki}) &= \\beta^k (\\gamma_{li} \\Gamma^{l}_{jk}+ \\gamma_{lj} \\Gamma^{l}_{ki}) \\\\\n",
    "\\end{align}\n",
    "$$\n",
    "\n",
    "And would you look at that, it's equal to its negative. Thus, $e^{-4\\phi}\\beta^k\\partial_k\\gamma_{ij}=0$ and we FINALLY have all the terms we need. ROUND 3 victory!\n",
    "\n",
    "It relaly is the presence of the shift vector that lets us do this, though as of now we do not know the physical reason behind why this would be the case. "
   ]
  },
  {
   "cell_type": "markdown",
   "id": "43e194da",
   "metadata": {},
   "source": [
    "ROUND 4: 11.38, evolution of the conformal traceless portion of the extrinsic curvature (wow, that's a mouthful.)\n",
    "\n",
    "$$ \\partial_t \\tilde A_{ij} = e^{-4\\phi} \\left( -(D_i D_j \\alpha)^{TF} + \\alpha(R_{ij}^{TF} - 8\\pi S^{TF}_{ij}) \\right) + \\alpha(K\\tilde A_{ij} - 2\\tilde A_{il} \\tilde A^l_j) + \\beta^k\\partial_k \\tilde A_{ij} + \\tilde A_{ik} \\partial_j \\beta^k + \\tilde A_{kj} \\partial_i \\beta^k - \\frac23 \\tilde A_{ij} \\partial_k \\beta^k $$\n",
    "\n",
    "The TF is concerning. It means \"trace free\" version. The relation given for it is $R_{ij}^{TF} = R_{ij} - \\gamma_{ij}\\frac R3$. In order to make this clear let's explicitly expand it. "
   ]
  },
  {
   "cell_type": "markdown",
   "id": "22b76bb8",
   "metadata": {},
   "source": [
    "$$ \\partial_t \\tilde A_{ij} = e^{-4\\phi} \\left( -D_i D_j \\alpha+\\frac13 \\gamma_{ij} D^2\\alpha + \\alpha R_{ij} - \\alpha \\frac13 \\gamma_{ij} R - 8\\pi \\alpha S_{ij} + \\frac83 \\pi \\alpha \\gamma_{ij} S \\right) + \\alpha(K\\tilde A_{ij} - 2\\tilde A_{il} \\tilde A^l_j) + \\beta^k\\partial_k \\tilde A_{ij} + \\tilde A_{ik} \\partial_j \\beta^k + \\tilde A_{kj} \\partial_i \\beta^k - \\frac23 \\tilde A_{ij} \\partial_k \\beta^k $$"
   ]
  },
  {
   "cell_type": "markdown",
   "id": "fe8d5f82",
   "metadata": {},
   "source": [
    "For the record, here are the terms we have not solved yet. This is just for reference. \n",
    "\n",
    "$$ \\partial_t \\tilde A_{ij} = \\color{green}{C} + \\color{purple}{ e^{-4\\phi} \\left( \\frac13 \\gamma_{ij} D^2\\alpha - \\alpha \\frac13 \\gamma_{ij} R + \\frac83 \\pi \\alpha \\gamma_{ij} S \\right) + \\alpha(K\\tilde A_{ij} - 2\\tilde A_{il} \\tilde A^l_j)}$$"
   ]
  },
  {
   "cell_type": "markdown",
   "id": "96f5252b",
   "metadata": {},
   "source": [
    "Today, our relavant equation is 11.8\n",
    "\n",
    "$$ \\partial_t K_{ij} = \\alpha(R_{ij} - 2K_{ik} K^k_j + KK_{ij}) - D_iD_j\\alpha - 8\\pi\\alpha(S_{ij}-\\frac12 \\gamma_{ij}(S-\\rho)) + \\beta^k \\partial_k K_{ij} + K_{ik}\\partial_j\\beta^k + K_{kj} \\partial_i \\beta^k $$\n",
    "\n",
    "As well as our result from ROUND 2\n",
    "\n",
    "$$ \\partial_t K = -\\gamma^{ij} D_jD_i\\alpha + \\alpha(\\tilde{A}_{ij} \\tilde{A}^{ij} + \\frac13K^2) + 4\\pi\\alpha(\\rho+S) + \\beta^i \\partial_i K $$\n",
    "\n",
    "Turns out we also need all the others...\n",
    "\n",
    "$$\\partial_t \\gamma_{ij} = -2\\alpha K_{ij} + D_i \\beta_j + D_j \\beta_i$$\n",
    "\n",
    "$$\\partial_t \\phi = -\\frac16 \\alpha K + \\beta^i \\partial_i \\phi + \\frac16 \\partial_i \\beta^i$$"
   ]
  },
  {
   "cell_type": "markdown",
   "id": "ff1c18c7",
   "metadata": {},
   "source": [
    "Trying to do this the same way as ROUND 3 didn't go well, so we attempt to follow the (somewhat dubious) suggestion of just subtracting the equations from each other in the following manner: \n",
    "\n",
    "$$ \\partial_t \\tilde A_{ij} = \\partial_t (e^{-4\\phi}A_{ij}) = \\partial_t (e^{-4\\phi}K_{ij} - e^{-4\\phi}\\frac13 \\gamma_{ij} K^2) $$"
   ]
  },
  {
   "cell_type": "markdown",
   "id": "baf71629",
   "metadata": {},
   "source": [
    "See, the subtraction is going to have a bunch of extra terms. However, we will try to force it. The second term can absorb the conformal factor, but the first cannot and will have to split. \n",
    "\n",
    "$$ =  e^{-4\\phi}\\partial_tK_{ij} + K_{ij}\\partial_te^{-4\\phi} - \\frac13 \\partial_t(\\bar\\gamma_{ij} K^2) $$\n",
    "$$ =  e^{-4\\phi}\\partial_tK_{ij} + K_{ij}\\partial_te^{-4\\phi} - \\frac13 K^2\\partial_t\\bar\\gamma_{ij} - \\frac23\\bar\\gamma_{ij}K\\partial_tK $$\n",
    "\n",
    "Okay so maybe absorbing the conformal factor was a bad idea. \n",
    "\n",
    "$$ =  e^{-4\\phi}\\partial_tK_{ij} + K_{ij}\\partial_te^{-4\\phi} - \\frac13 K^2e^{-4\\phi}\\partial_t\\gamma_{ij} - \\frac13 K^2\\gamma_{ij}\\partial_te^{-4\\phi} - \\frac23\\bar\\gamma_{ij}K\\partial_tK $$\n",
    "\n",
    "Now we do know a thing or two about how to take the derivative of that conformal factor. Do so.\n",
    "\n",
    "$$ =  e^{-4\\phi}\\partial_tK_{ij} -4 e^{-4\\phi}K_{ij}\\partial_t\\phi - \\frac13 K^2e^{-4\\phi}\\partial_t\\gamma_{ij} +4 e^{-4\\phi}\\frac13 K^2\\gamma_{ij}\\partial_t\\phi - \\frac23e^{-4\\phi}\\gamma_{ij}K\\partial_tK $$"
   ]
  },
  {
   "cell_type": "markdown",
   "id": "c082f013",
   "metadata": {},
   "source": [
    "Man, the $\\partial_t \\phi$ terms are SO close to canceling, but there is an extra K term. Just for the sake of completeness and not running down this path again, we record it here:\n",
    "\n",
    "$$\n",
    "\\begin{align}\n",
    "\\frac13 K^2 \\gamma_{ij} &\\neq K_{ij} \\\\\n",
    "\\Rightarrow \\frac13 K \\gamma^{kl} K_{kl} \\gamma_{ij} &\\neq K_{ij} \\\\\n",
    "\\Rightarrow \\frac13 K \\gamma^{ij} \\gamma^{kl} K_{kl} \\gamma_{ij} &\\neq \\gamma^{ij} K_{ij} \\\\\n",
    "\\Rightarrow \\frac13 K \\gamma^i_i \\gamma^{kl} K_{kl} &\\neq K \\\\\n",
    "\\Rightarrow K \\gamma^{kl} K_{kl} &\\neq K \\\\\n",
    "\\Rightarrow K^2 &\\neq K \\\\\n",
    "\\end{align}\n",
    "$$"
   ]
  },
  {
   "cell_type": "markdown",
   "id": "d8344e1a",
   "metadata": {},
   "source": [
    "Anyway this means the subtractions and additions we have above need to be done directly, which will create this mess of an equation. ...It occurs to us that, ultimately, this is the same strategy as previously, just with a different way of going about it. Oh well, we're here now, might as well see it thhrough. \n",
    "\n",
    "$$ \n",
    "\\begin{align}\n",
    "\\partial_t \\tilde A_{ij} &= \\\\\n",
    "&+ e^{-4\\phi}(\\alpha(R_{ij} - 2K_{ik} K^k_j + KK_{ij}) - D_iD_j\\alpha - 8\\pi\\alpha(S_{ij}-\\frac12 \\gamma_{ij}(S-\\rho)) + \\beta^k \\partial_k K_{ij} + K_{ik}\\partial_j\\beta^k + K_{kj} \\partial_i \\beta^k)\\\\\n",
    "&-4e^{-4\\phi} K_{ij} (-\\frac16 \\alpha K + \\beta^k \\partial_k \\phi + \\frac16 \\partial_k \\beta^k)\\\\\n",
    "&-\\frac13 K^2 e^{-4\\phi} (-2\\alpha K_{ij} + D_i \\beta_j + D_j \\beta_i)\\\\\n",
    "&+4e^{-4\\phi}\\frac13 K^2\\gamma_{ij} (-\\frac16 \\alpha K + \\beta^k \\partial_k \\phi + \\frac16 \\partial_k \\beta^k)\\\\\n",
    "&- \\frac23 e^{-4\\phi}\\gamma_{ij} K (-\\gamma^{kl} D_kD_l\\alpha + \\alpha(\\tilde{A}_{kl} \\tilde{A}^{kl} + \\frac13K^2) + 4\\pi\\alpha(\\rho+S) + \\beta^k \\partial_k K ) \\\\\n",
    "\\end{align}\n",
    "$$"
   ]
  },
  {
   "cell_type": "markdown",
   "id": "98333283",
   "metadata": {},
   "source": [
    "Now, do we have any obviously correct terms? Yes, actually, a few. They are highlighted in green. (Note: the green terms are pulled out while the others are not, just in case the others have some trick that works better in the compressed form.)\n",
    "\n",
    "$$ \n",
    "\\begin{align}\n",
    "\\partial_t \\tilde A_{ij} &= \\\\\n",
    "&+ \\color{green}{e^{-4\\phi}\\alpha R_{ij}} - \\color{green}{e^{-4\\phi}D_iD_j\\alpha} - \\color{green}{e^{-4\\phi} 8\\pi \\alpha S_{ij}}+ e^{-4\\phi}(\\alpha(- 2K_{ik} K^k_j + KK_{ij}) +8\\pi\\alpha(\\frac12 \\gamma_{ij}(S-\\rho)) + \\beta^k \\partial_k K_{ij} + K_{ik}\\partial_j\\beta^k + K_{kj} \\partial_i \\beta^k)\\\\\n",
    "&-4e^{-4\\phi} K_{ij} (-\\frac16 \\alpha K + \\beta^k \\partial_k \\phi + \\frac16 \\partial_k \\beta^k)\\\\\n",
    "&-\\frac13 K^2 e^{-4\\phi} (-2\\alpha K_{ij} + D_i \\beta_j + D_j \\beta_i)\\\\\n",
    "&+4e^{-4\\phi}\\frac13 K^2\\gamma_{ij} (-\\frac16 \\alpha K + \\beta^k \\partial_k \\phi + \\frac16 \\partial_k \\beta^k)\\\\\n",
    "&- \\frac23 e^{-4\\phi}\\gamma_{ij} K (-\\gamma^{kl} D_kD_l\\alpha + \\alpha(\\tilde{A}_{kl} \\tilde{A}^{kl} + \\frac13K^2) + 4\\pi\\alpha(\\rho+S) + \\beta^k \\partial_k K ) \\\\\n",
    "\\end{align}\n",
    "$$"
   ]
  },
  {
   "cell_type": "markdown",
   "id": "335bde74",
   "metadata": {},
   "source": [
    "We note that we can combine lines 3 and 5 via the definition of A without much difficulty. \n",
    "$$ \n",
    "\\begin{align}\n",
    "\\partial_t \\tilde A_{ij} &= \\color{green}{C}\\\\\n",
    "&+ e^{-4\\phi}(\\alpha(- 2K_{ik} K^k_j + KK_{ij}) +8\\pi\\alpha(\\frac12 \\gamma_{ij}(S-\\rho)) + \\beta^k \\partial_k K_{ij} + K_{ik}\\partial_j\\beta^k + K_{kj} \\partial_i \\beta^k)\\\\\n",
    "&-4e^{-4\\phi} A_{ij} (-\\frac16 \\alpha K + \\beta^k \\partial_k \\phi + \\frac16 \\partial_k \\beta^k)\\\\\n",
    "&-\\frac13 K^2 e^{-4\\phi} (-2\\alpha K_{ij} + D_i \\beta_j + D_j \\beta_i)\\\\\n",
    "&- \\frac23 e^{-4\\phi}\\gamma_{ij} K (-\\gamma^{kl} D_kD_l\\alpha + \\alpha(\\tilde{A}_{kl} \\tilde{A}^{kl} + \\frac13K^2) + 4\\pi\\alpha(\\rho+S) + \\beta^k \\partial_k K ) \\\\\n",
    "\\end{align}\n",
    "$$\n"
   ]
  },
  {
   "cell_type": "markdown",
   "id": "9d4fc9dc",
   "metadata": {},
   "source": [
    "Now, in line 4 we set the shift vectors to the k index by adding a metric in order to get the terms to match.\n",
    "\n",
    "$$ \n",
    "\\begin{align}\n",
    "\\partial_t \\tilde A_{ij} &= \\color{green}{C}\\\\\n",
    "&+ e^{-4\\phi}(\\alpha(- 2K_{ik} K^k_j + KK_{ij}) +8\\pi\\alpha(\\frac12 \\gamma_{ij}(S-\\rho)) + \\beta^k \\partial_k K_{ij} + K_{ik}\\partial_j\\beta^k + K_{kj} \\partial_i \\beta^k)\\\\\n",
    "&-4e^{-4\\phi} A_{ij} (-\\frac16 \\alpha K + \\beta^k \\partial_k \\phi + \\frac16 \\partial_k \\beta^k)\\\\\n",
    "&-\\frac13 K^2 e^{-4\\phi} (-2\\alpha K_{ij} + \\gamma_{kj}D_i \\beta^k + \\gamma_{ki}D_j \\beta^k)\\\\\n",
    "&- \\frac23 e^{-4\\phi}\\gamma_{ij} K (-\\gamma^{kl} D_kD_l\\alpha + \\alpha(\\tilde{A}_{kl} \\tilde{A}^{kl} + \\frac13K^2) + 4\\pi\\alpha(\\rho+S) + \\beta^k \\partial_k K ) \\\\\n",
    "\\end{align}\n",
    "$$\n"
   ]
  },
  {
   "cell_type": "markdown",
   "id": "c1640263",
   "metadata": {},
   "source": [
    "Extract the shfit vector terms and move them to a new line from line 2 and 4. \n",
    "$$ \n",
    "\\begin{align}\n",
    "\\partial_t \\tilde A_{ij} &= \\color{green}{C}\\\\\n",
    "&+ e^{-4\\phi}(\\alpha(- 2K_{ik} K^k_j + KK_{ij}) +8\\pi\\alpha(\\frac12 \\gamma_{ij}(S-\\rho)) + \\beta^k \\partial_k K_{ij})\\\\\n",
    "&-4e^{-4\\phi} A_{ij} (-\\frac16 \\alpha K + \\beta^k \\partial_k \\phi + \\frac16 \\partial_k \\beta^k)\\\\\n",
    "&-\\frac13 K^2 e^{-4\\phi} (-2\\alpha K_{ij})\\\\\n",
    "&- \\frac23 e^{-4\\phi}\\gamma_{ij} K (-\\gamma^{kl} D_kD_l\\alpha + \\alpha(\\tilde{A}_{kl} \\tilde{A}^{kl} + \\frac13K^2) + 4\\pi\\alpha(\\rho+S) + \\beta^k \\partial_k K ) \\\\\n",
    "&+ e^{-4\\phi}(K_{ik}\\partial_j\\beta^k + K_{kj} \\partial_i \\beta^k) - \\frac13 K^2 e^{-4\\phi}(\\gamma_{kj}D_i \\beta^k + \\gamma_{ki}D_j \\beta^k)\n",
    "\\end{align}\n",
    "$$\n"
   ]
  },
  {
   "cell_type": "markdown",
   "id": "a85f76f9",
   "metadata": {},
   "source": [
    "Remembering the summing trick of ROUND 1 we note that the Christoffels vanish, setting the spatial covariant derivatives to partial derivatives. \n",
    "\n",
    "$$ \n",
    "\\begin{align}\n",
    "\\partial_t \\tilde A_{ij} &= \\color{green}{C}\\\\\n",
    "&+ e^{-4\\phi}(\\alpha(- 2K_{ik} K^k_j + KK_{ij}) +8\\pi\\alpha(\\frac12 \\gamma_{ij}(S-\\rho)) + \\beta^k \\partial_k K_{ij})\\\\\n",
    "&-4e^{-4\\phi} A_{ij} (-\\frac16 \\alpha K + \\beta^k \\partial_k \\phi + \\frac16 \\partial_k \\beta^k)\\\\\n",
    "&-\\frac13 K^2 e^{-4\\phi} (-2\\alpha K_{ij})\\\\\n",
    "&- \\frac23 e^{-4\\phi}\\gamma_{ij} K (-\\gamma^{kl} D_kD_l\\alpha + \\alpha(\\tilde{A}_{kl} \\tilde{A}^{kl} + \\frac13K^2) + 4\\pi\\alpha(\\rho+S) + \\beta^k \\partial_k K ) \\\\\n",
    "&+ e^{-4\\phi}(K_{ik}\\partial_j\\beta^k + K_{kj} \\partial_i \\beta^k) - \\frac13 K^2 e^{-4\\phi}(\\gamma_{kj}\\partial_i \\beta^k + \\gamma_{ki}\\partial_j \\beta^k)\n",
    "\\end{align}\n",
    "$$"
   ]
  },
  {
   "cell_type": "markdown",
   "id": "416eba2b",
   "metadata": {},
   "source": [
    "In line 5 we can combine terms to form another A term. \n",
    "\n",
    "$$ \n",
    "\\begin{align}\n",
    "\\partial_t \\tilde A_{ij} &= \\color{green}{C}\\\\\n",
    "&+ e^{-4\\phi}(\\alpha(- 2K_{ik} K^k_j + KK_{ij}) +8\\pi\\alpha(\\frac12 \\gamma_{ij}(S-\\rho)) + \\beta^k \\partial_k K_{ij})\\\\\n",
    "&-4e^{-4\\phi} A_{ij} (-\\frac16 \\alpha K + \\beta^k \\partial_k \\phi + \\frac16 \\partial_k \\beta^k)\\\\\n",
    "&-\\frac13 K^2 e^{-4\\phi} (-2\\alpha K_{ij})\\\\\n",
    "&- \\frac23 e^{-4\\phi}\\gamma_{ij} K (-\\gamma^{kl} D_kD_l\\alpha + \\alpha(\\tilde{A}_{kl} \\tilde{A}^{kl} + \\frac13K^2) + 4\\pi\\alpha(\\rho+S) + \\beta^k \\partial_k K ) \\\\\n",
    "&+ e^{-4\\phi}A_{ki}\\partial_j\\beta^k + e^{-4\\phi}A_{kj}\\partial_i \\beta^k\n",
    "\\end{align}\n",
    "$$\n",
    "\n",
    "And if we apply the conformal factor...\n",
    "\n",
    "$$ \n",
    "\\begin{align}\n",
    "\\partial_t \\tilde A_{ij} &= \\color{green}{C}\\\\\n",
    "&+ e^{-4\\phi}(\\alpha(- 2K_{ik} K^k_j + KK_{ij}) +8\\pi\\alpha(\\frac12 \\gamma_{ij}(S-\\rho)) + \\beta^k \\partial_k K_{ij})\\\\\n",
    "&-4e^{-4\\phi} A_{ij} (-\\frac16 \\alpha K + \\beta^k \\partial_k \\phi + \\frac16 \\partial_k \\beta^k)\\\\\n",
    "&-\\frac13 K^2 e^{-4\\phi} (-2\\alpha K_{ij})\\\\\n",
    "&- \\frac23 e^{-4\\phi}\\gamma_{ij} K (-\\gamma^{kl} D_kD_l\\alpha + \\alpha(\\tilde{A}_{kl} \\tilde{A}^{kl} + \\frac13K^2) + 4\\pi\\alpha(\\rho+S) + \\beta^k \\partial_k K ) \\\\\n",
    "&+ \\color{green}{\\tilde A_{ki}\\partial_j\\beta^k + \\tilde A_{kj}\\partial_i \\beta^k}\n",
    "\\end{align}\n",
    "$$\n"
   ]
  },
  {
   "cell_type": "markdown",
   "id": "b10e13e6",
   "metadata": {},
   "source": [
    "It occurs to us that we got so focused on extracting those terms we missed something: a correct term. we also simplify line 4, as it has been reduced to a single term, and adjust terms in line 5. \n",
    "\n",
    "$$ \n",
    "\\begin{align}\n",
    "\\partial_t \\tilde A_{ij} &= \\color{green}{C}\\\\\n",
    "&+ e^{-4\\phi}(\\alpha(- 2K_{ik} K^k_j + KK_{ij}) +8\\pi\\alpha(\\frac12 \\gamma_{ij}(S-\\rho)) + \\beta^k \\partial_k K_{ij})\\\\\n",
    "&- \\color{green}{\\frac23 \\tilde A_{ij} \\partial_k \\beta^k} -4e^{-4\\phi} A_{ij} (-\\frac16 \\alpha K + \\beta^k \\partial_k \\phi)\\\\\n",
    "&+\\frac23 K^2 e^{-4\\phi}\\alpha K_{ij}\\\\\n",
    "&- \\frac23 e^{-4\\phi}\\gamma_{ij} K (-D^2\\alpha + \\alpha(\\tilde{A}_{kl} \\tilde{A}^{kl} + \\frac13K^2) + 4\\pi\\alpha(\\rho+S) + \\beta^k \\partial_k K ) \\\\\n",
    "\\end{align}\n",
    "$$"
   ]
  },
  {
   "cell_type": "markdown",
   "id": "cad74c39",
   "metadata": {},
   "source": [
    "Lines 2, 3, and 5 have related last terms. Extract them. \n",
    "\n",
    "$$ \n",
    "\\begin{align}\n",
    "\\partial_t \\tilde A_{ij} &= \\color{green}{C}\\\\\n",
    "&+  e^{-4\\phi}\\beta^k\\partial_k K_{ij} + e^{-4\\phi}(\\alpha(- 2K_{ik} K^k_j + KK_{ij}) +8\\pi\\alpha(\\frac12 \\gamma_{ij}(S-\\rho)))\\\\\n",
    "&- 4e^{-4\\phi} A_{ij}\\beta^k \\partial_k \\phi - 4e^{-4\\phi} A_{ij} (-\\frac16 \\alpha K)\\\\\n",
    "&+\\frac23 K^2 e^{-4\\phi}\\alpha K_{ij}\\\\\n",
    "&- \\frac23 e^{-4\\phi}\\gamma_{ij} K \\beta^k \\partial_k K  - \\frac23 e^{-4\\phi}\\gamma_{ij} K (-D^2\\alpha + \\alpha(\\tilde{A}_{kl} \\tilde{A}^{kl} + \\frac13K^2) + 4\\pi\\alpha(\\rho+S)) \\\\\n",
    "\\end{align}\n",
    "$$\n",
    "\n",
    "Move them to a new line. The K-trace term can have the chain rule applied in reverse. We actually ALSO want to do this to the $\\phi$ term. \n",
    "\n",
    "$$ \n",
    "\\begin{align}\n",
    "\\partial_t \\tilde A_{ij} &= \\color{green}{C}\\\\\n",
    "&+ e^{-4\\phi}(\\alpha(- 2K_{ik} K^k_j + KK_{ij}) +8\\pi\\alpha(\\frac12 \\gamma_{ij}(S-\\rho)))\\\\\n",
    "&- 4e^{-4\\phi} A_{ij} (-\\frac16 \\alpha K)\\\\\n",
    "&+\\frac23 K^2 e^{-4\\phi}\\alpha K_{ij}\\\\\n",
    "&- \\frac23 e^{-4\\phi}\\gamma_{ij} K (-D^2\\alpha + \\alpha(\\tilde{A}_{kl} \\tilde{A}^{kl} + \\frac13K^2) + 4\\pi\\alpha(\\rho+S)) \\\\\n",
    "&+ e^{-4\\phi}\\beta^k\\partial_k K_{ij} + A_{ij}\\beta^k \\partial_k e^{-4\\phi} - \\frac13 e^{-4\\phi}\\gamma_{ij} \\beta^k \\partial_k K^2 \\\\\n",
    "\\end{align}\n",
    "$$"
   ]
  },
  {
   "cell_type": "markdown",
   "id": "6846573b",
   "metadata": {},
   "source": [
    "So the new line there almost squishes into a term we need, but there's a pesky $\\gamma_{ij}$ that we can't just move into the partial derivative. However, we CAN move $\\bar\\gamma_{ij}$ since we know for sure it is constant and its derivative is zero, and we have the conformal factor right there. \n",
    "\n",
    "$$ \n",
    "\\begin{align}\n",
    "\\partial_t \\tilde A_{ij} &= \\color{green}{C}\\\\\n",
    "&+ e^{-4\\phi}(\\alpha(- 2K_{ik} K^k_j + KK_{ij}) +8\\pi\\alpha(\\frac12 \\gamma_{ij}(S-\\rho)))\\\\\n",
    "&- 4e^{-4\\phi} A_{ij} (-\\frac16 \\alpha K)\\\\\n",
    "&+\\frac23 K^2 e^{-4\\phi}\\alpha K_{ij}\\\\\n",
    "&- \\frac23 e^{-4\\phi}\\gamma_{ij} K (-D^2\\alpha + \\alpha(\\tilde{A}_{kl} \\tilde{A}^{kl} + \\frac13K^2) + 4\\pi\\alpha(\\rho+S)) \\\\\n",
    "&+ e^{-4\\phi}\\beta^k\\partial_k K_{ij} + A_{ij}\\beta^k \\partial_k e^{-4\\phi} - \\beta^k \\partial_k (e^{-4\\phi}\\frac13 \\gamma_{ij} K^2) \\\\\n",
    "\\end{align}\n",
    "$$\n",
    "\n",
    "Product rule...\n",
    "\n",
    "$$ \n",
    "\\begin{align}\n",
    "\\partial_t \\tilde A_{ij} &= \\color{green}{C}\\\\\n",
    "&+ e^{-4\\phi}(\\alpha(- 2K_{ik} K^k_j + KK_{ij}) +8\\pi\\alpha(\\frac12 \\gamma_{ij}(S-\\rho)))\\\\\n",
    "&- 4e^{-4\\phi} A_{ij} (-\\frac16 \\alpha K)\\\\\n",
    "&+\\frac23 K^2 e^{-4\\phi}\\alpha K_{ij}\\\\\n",
    "&- \\frac23 e^{-4\\phi}\\gamma_{ij} K (-D^2\\alpha + \\alpha(\\tilde{A}_{kl} \\tilde{A}^{kl} + \\frac13K^2) + 4\\pi\\alpha(\\rho+S)) \\\\\n",
    "&+ e^{-4\\phi}\\beta^k\\partial_k K_{ij} + A_{ij}\\beta^k \\partial_k e^{-4\\phi} - e^{-4\\phi} \\beta^k \\partial_k (\\frac13 \\gamma_{ij} K^2) - \\frac13 \\gamma_{ij} K^2 \\beta^k \\partial_k (e^{-4\\phi}) \\\\\n",
    "\\end{align}\n",
    "$$"
   ]
  },
  {
   "cell_type": "markdown",
   "id": "eba9cb87",
   "metadata": {},
   "source": [
    "Terms 1 and 3 can be combined. \n",
    "\n",
    "$$ \n",
    "\\begin{align}\n",
    "\\partial_t \\tilde A_{ij} &= \\color{green}{C}\\\\\n",
    "&+ e^{-4\\phi}(\\alpha(- 2K_{ik} K^k_j + KK_{ij}) +8\\pi\\alpha(\\frac12 \\gamma_{ij}(S-\\rho)))\\\\\n",
    "&- 4e^{-4\\phi} A_{ij} (-\\frac16 \\alpha K)\\\\\n",
    "&+\\frac23 K^2 e^{-4\\phi}\\alpha K_{ij}\\\\\n",
    "&- \\frac23 e^{-4\\phi}\\gamma_{ij} K (-D^2\\alpha + \\alpha(\\tilde{A}_{kl} \\tilde{A}^{kl} + \\frac13K^2) + 4\\pi\\alpha(\\rho+S)) \\\\\n",
    "&+ e^{-4\\phi}\\beta^k\\partial_k A_{ij} + A_{ij}\\beta^k \\partial_k e^{-4\\phi} - \\frac13 \\gamma_{ij} K^2 \\beta^k \\partial_k (e^{-4\\phi}) \\\\\n",
    "\\end{align}\n",
    "$$\n",
    "\n",
    "And now the new terms 1 and 2 can be combined via the product rule. \n",
    "\n",
    "$$ \n",
    "\\begin{align}\n",
    "\\partial_t \\tilde A_{ij} &= \\color{green}{C}\\\\\n",
    "&+ e^{-4\\phi}(\\alpha(- 2K_{ik} K^k_j + KK_{ij}) +8\\pi\\alpha(\\frac12 \\gamma_{ij}(S-\\rho)))\\\\\n",
    "&- 4e^{-4\\phi} A_{ij} (-\\frac16 \\alpha K)\\\\\n",
    "&+\\frac23 K^2 e^{-4\\phi}\\alpha K_{ij}\\\\\n",
    "&- \\frac23 e^{-4\\phi}\\gamma_{ij} K (-D^2\\alpha + \\alpha(\\tilde{A}_{kl} \\tilde{A}^{kl} + \\frac13K^2) + 4\\pi\\alpha(\\rho+S)) \\\\\n",
    "&+ \\color{green}{\\beta^k\\partial_k \\tilde A_{ij}} - \\frac13 \\gamma_{ij} K^2 \\beta^k \\partial_k (e^{-4\\phi}) \\\\\n",
    "\\end{align}\n",
    "$$"
   ]
  },
  {
   "cell_type": "markdown",
   "id": "a5d4342e",
   "metadata": {},
   "source": [
    "That remaining term is ugly, and we might be able to argue that it has to go to zero, but let's keep it around in case it becomes useful later. Let's take a moment to simplify, noting that line 2 is now one term. We can also set the last ugly term back to something in terms of $\\partial_k \\phi$\n",
    "\n",
    "$$ \n",
    "\\begin{align}\n",
    "\\partial_t \\tilde A_{ij} &= \\color{green}{C}\\\\\n",
    "&+ e^{-4\\phi}(\\alpha(- 2K_{ik} K^k_j + KK_{ij}) +8\\pi\\alpha(\\frac12 \\gamma_{ij}(S-\\rho)))\\\\\n",
    "&+\\frac23 e^{-4\\phi} A_{ij} \\alpha K\\\\\n",
    "&+\\frac23 K^2 e^{-4\\phi}\\alpha K_{ij}\\\\\n",
    "&- \\frac23 e^{-4\\phi}\\gamma_{ij} K (-D^2\\alpha + \\alpha(\\tilde{A}_{kl} \\tilde{A}^{kl} + \\frac13K^2) + 4\\pi\\alpha(\\rho+S)) \\\\\n",
    "&+ \\frac43 e^{-4\\phi} \\gamma_{ij} K^2 \\beta^k \\partial_k \\phi \\\\\n",
    "\\end{align}\n",
    "$$"
   ]
  },
  {
   "cell_type": "markdown",
   "id": "5b77d5d0",
   "metadata": {},
   "source": [
    "Extract a term from line 5 and move it to line 3. \n",
    "\n",
    "$$ \n",
    "\\begin{align}\n",
    "\\partial_t \\tilde A_{ij} &= \\color{green}{C}\\\\\n",
    "&+ e^{-4\\phi}(\\alpha(- 2K_{ik} K^k_j + KK_{ij}) +8\\pi\\alpha(\\frac12 \\gamma_{ij}(S-\\rho)))\\\\\n",
    "&+\\frac23 e^{-4\\phi} A_{ij} \\alpha K\\\\\n",
    "&+\\frac23 K^2 e^{-4\\phi}\\alpha K_{ij}\\\\\n",
    "&- \\frac23 e^{-4\\phi}\\gamma_{ij} K (-D^2\\alpha + \\alpha(\\tilde{A}_{kl} \\tilde{A}^{kl} + \\frac13K^2) + 4\\pi\\alpha(\\rho+S)) \\\\\n",
    "&+ \\frac43 e^{-4\\phi} \\gamma_{ij} K^2 \\beta^k \\partial_k \\phi \\\\\n",
    "\\end{align}\n",
    "$$"
   ]
  },
  {
   "cell_type": "markdown",
   "id": "eb12a927",
   "metadata": {},
   "source": [
    "For the record, here are the missing terms:\n",
    "\n",
    "$$ \\partial_t \\tilde A_{ij} = \\color{green}{C} + \\color{purple}{ e^{-4\\phi} \\left( \\frac13 \\gamma_{ij} D^2\\alpha - \\alpha \\frac13 \\gamma_{ij} R + \\frac83 \\pi \\alpha \\gamma_{ij} S \\right) + \\alpha(K\\tilde A_{ij} - 2\\tilde A_{il} \\tilde A^l_j)}$$"
   ]
  },
  {
   "cell_type": "markdown",
   "id": "8c4e3b76",
   "metadata": {},
   "source": [
    "We can make some guesses as to where the restuls fomr form. First of all, the R and S terms clearly have to be derived from the $\\rho$ and S terms already present. The issue that comes up when we try to do this is the K in line 5, it keeps things from combining nicely.(And even if it wasn't there, we'd ahve some issues with constants.) There's clearly a step we're not sure of there. \n",
    "\n",
    "If the K vanished the $D^2$ term would be similarly solved. \n",
    "\n",
    "We considered for a moment that the K should never have been there and we made a mistake, but it was a necessary part of solving for one of the derivative terms, so that seems unlikely. \n",
    "\n",
    "The $\\tilde A$ terms obviously must come from whatever remains, and given all the Ks (both traces and tensors) it makes senset hat they would arise. We just... were unable to get the math to work out. This might be because of the K in line 5 again, as it is interfering with some A terms. "
   ]
  },
  {
   "cell_type": "markdown",
   "id": "529237d0",
   "metadata": {},
   "source": [
    "<a id='P3'></a>\n",
    "\n",
    "# Problem 3 \\[Back to [top](#toc)\\]\n",
    "$$\\label{P3}$$\n",
    "\n",
    "*Show that the shift terms in 11.43 arise from the Lie derivative of $\\bar\\Gamma^i$ along $\\beta^i$*\n",
    "\n",
    "$$ \\mathcal{L}_\\beta \\bar\\Gamma^i = \\beta^j \\partial_j \\bar\\Gamma^j \\partial_j \\beta^i + \\frac23 \\bar\\Gamma^i \\partial_j \\beta^j + \\frac13 \\bar\\gamma^{li}\\partial_l \\partial_j \\beta^j + \\bar\\gamma^{lj}\\partial_j\\partial_l\\beta^i $$\n",
    "\n",
    "*Hint: first show that hte conformal connection coefficients transform according to*\n",
    "\n",
    "$$ \\bar\\Gamma^{a'} = J^{-W} \\frac{\\partial x^{a'}}{\\partial x^b}\\bar\\Gamma^b + J^{-W}\\bar\\gamma^{ij} \\frac{\\partial x^{b'}}{\\partial x^i}\\frac{\\partial x^{c'}}{\\partial x^j}\\frac{\\partial x^{a'}}{\\partial x^l}\\frac{\\partial^2 x^l}{\\partial x^{b'}x^{c'}}-\\frac12 J^{-W} \\bar\\gamma^{bc}\\frac{\\partial x^{a'}}{\\partial x^{b}}\\partial_c(lnJ^W) $$\n",
    "\n",
    "((Oh my goodness how horrifying))\n",
    "\n",
    "*where J is the Jacobian of the transformation and W ist he weight of $\\bar\\gamma_{ij}$. The firs tterm is the usual transformation term for a tensor (except for hte Jacobian factor), the second term arises because the connection coefficients do not transform like tensors, and the third term appears because $\\bar\\gamma_{ij}$ is a tensor density. Then use A.7 to find equaiton 11.44* ((The goal for the first part)) *for W = -2/3. (cf. equations A.36 and A.37)*"
   ]
  },
  {
   "cell_type": "markdown",
   "id": "ef39aeb0",
   "metadata": {},
   "source": [
    "<a id='P4'></a>\n",
    "\n",
    "# Problem 4 \\[Back to [top](#toc)\\]\n",
    "$$\\label{P4}$$\n",
    "\n",
    "*Show that in the system 11.4, 11.17, and 11.18 constraint violations measured by the parameter $\\mathcal{C}$ defined in 11.56 satisfy the wave equation*\n",
    "\n",
    "$$ (-\\partial^2_t + a^2 D_i D^i)\\mathcal{C} = 0 $$"
   ]
  },
  {
   "cell_type": "markdown",
   "id": "2cc0f9dd",
   "metadata": {},
   "source": [
    "11.4: $\\partial_t A_i = -E_i - D_i\\Phi$\n",
    "\n",
    "11.17: $\\partial_t \\Gamma = \\partial_t D^i A_i = D^i \\partial_t A_i = -D^i E_i - D_i D^i \\Phi = -D_iD^i \\Phi - 4\\pi\\rho_e$\n",
    "\n",
    "11.18: $\\partial_t E_i = -D_jD^j A_i + D_i \\Gamma - 4\\pi j_i$\n",
    "\n",
    "And our paramater...\n",
    "\n",
    "$$ \\mathcal{C} = D^i E_i - 4\\pi \\rho_e $$"
   ]
  },
  {
   "cell_type": "markdown",
   "id": "6b653d70",
   "metadata": {},
   "source": [
    "Let's just write it out and see where we end up.\n",
    "\n",
    "$$\n",
    "\\begin{align}\n",
    "&= -\\partial_t^2 \\mathcal{C} + a^2 D_i D^i \\mathcal{C} \\\\\n",
    "&= -\\partial_t^2 D^i E_i + \\partial_t^2(4\\pi\\rho)  + a^2 D_i D^i D^j E_j - a^2 D_i D^i (4\\pi \\rho_e) \\\\\n",
    "&= -\\partial_t \\partial_t D^i E_i + 4\\pi \\partial_t^2\\rho  + a^2 D_i D^i D^j E_j - a^2 D_i D^i \\partial_t \\Gamma - a^2 D_i D^i D_j D^j \\Phi \\\\\n",
    "&= -\\partial_t D^i \\partial_t E_i + 4\\pi \\partial_t^2\\rho  + a^2 D_i D^i D^j E_j - a^2 D_i D^i \\partial_t \\Gamma - a^2 D_i D^i D_j D^j \\Phi \\\\\n",
    "&= \\partial_t D^i D_j D^j A_i -\\partial_t D^i D_i \\Gamma +\\partial_t D^i(4\\pi j_i) + 4\\pi \\partial_t^2\\rho  + a^2 D_i D^i D^j E_j - a^2 D_i D^i \\partial_t \\Gamma - a^2 D_i D^i D_j D^j \\Phi \\\\\n",
    "\\end{align}\n",
    "$$"
   ]
  },
  {
   "cell_type": "markdown",
   "id": "9e5f02d5",
   "metadata": {},
   "source": [
    "$$\n",
    "\\begin{align}\n",
    "&= -\\partial_t^2 \\mathcal{C} + a^2 D_i D^i \\mathcal{C} \\\\\n",
    "&= \\partial_t (4\\pi(D^ij_i + \\partial_t \\rho_e)) + a^2 D_i D^i D^j E_j - a^2 D_i D^i (4\\pi \\rho_e) \\\\\n",
    "&= 4\\pi\\partial_tD^ij_i + 4\\pi\\partial_t^2 \\rho_e + a^2 D_i D^i (4\\pi\\rho_e) - a^2 D_i D^i (4\\pi \\rho_e) \\\\\n",
    "&= 4\\pi\\partial_tD^ij_i + 4\\pi\\partial_t^2 \\rho_e \\\\\n",
    "\\end{align}\n",
    "$$\n",
    "\n",
    "We know the first temporal derivative goes to zero, but not neceassarily the second, we have to show that. "
   ]
  },
  {
   "cell_type": "markdown",
   "id": "1959742c",
   "metadata": {},
   "source": [
    "$$\n",
    "\\begin{align}\n",
    "&= \\partial_t D^i(4\\pi j_i) + 4\\pi\\partial_t^2 \\rho_e \\\\\n",
    "&= \\partial_t D^i (-\\partial_t E_i + D_jD^jA_i - D_i \\Gamma)+ 4\\pi\\partial_t^2 \\rho_e \\\\\n",
    "&= - \\partial^2_t D^i E_i + \\partial_t D^i D_j D^j A_i - D^i D_i \\Gamma + 4\\pi\\partial_t^2 \\rho_e \\\\\n",
    "&= - \\partial^2_t (4\\pi \\rho_e) + D_j D^j \\partial_t D^i A_i - \\partial_t D^i D_i \\Gamma + 4\\pi\\partial_t^2 \\rho_e \\\\\n",
    "&= D_j D^j \\partial_t \\Gamma - D^i D_i \\partial_t \\Gamma \\\\\n",
    "&=0 \\\\\n",
    "\\end{align}\n",
    "$$\n",
    "\n",
    "Which is what we sought to show. "
   ]
  },
  {
   "cell_type": "markdown",
   "id": "df50096e",
   "metadata": {},
   "source": [
    "<a id='latex_pdf_output'></a>\n",
    "\n",
    "# Addendum: Output this notebook to $\\LaTeX$-formatted PDF file \\[Back to [top](#toc)\\]\n",
    "$$\\label{latex_pdf_output}$$\n",
    "\n",
    "The following code cell converts this Jupyter notebook into a proper, clickable $\\LaTeX$-formatted PDF file. After the cell is successfully run, the generated PDF may be found in the root NRPy+ tutorial directory, with filename\n",
    "[MNR-02.pdf](MNR-02.pdf) (Note that clicking on this link may not work; you may need to open the PDF file through another means.)\n",
    "\n",
    "**Important Note**: Make sure that the file name is right in all six locations, two here in the Markdown, four in the code below. \n",
    "\n",
    "* MNR-02.pdf\n",
    "* MNR-02.ipynb\n",
    "* MNR-02.tex"
   ]
  },
  {
   "cell_type": "code",
   "execution_count": 16,
   "id": "abf583ef",
   "metadata": {
    "scrolled": true
   },
   "outputs": [
    {
     "name": "stdout",
     "output_type": "stream",
     "text": [
      "Created MNR-02.tex, and compiled LaTeX file to PDF file MNR-02.pdf\n"
     ]
    }
   ],
   "source": [
    "import cmdline_helper as cmd    # NRPy+: Multi-platform Python command-line interface\n",
    "cmd.output_Jupyter_notebook_to_LaTeXed_PDF(\"MNR-02\")"
   ]
  }
 ],
 "metadata": {
  "kernelspec": {
   "display_name": "Python 3 (ipykernel)",
   "language": "python",
   "name": "python3"
  },
  "language_info": {
   "codemirror_mode": {
    "name": "ipython",
    "version": 3
   },
   "file_extension": ".py",
   "mimetype": "text/x-python",
   "name": "python",
   "nbconvert_exporter": "python",
   "pygments_lexer": "ipython3",
   "version": "3.10.4"
  }
 },
 "nbformat": 4,
 "nbformat_minor": 5
}
