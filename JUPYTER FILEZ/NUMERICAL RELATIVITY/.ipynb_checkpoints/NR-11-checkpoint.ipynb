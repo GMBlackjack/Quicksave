{
 "cells": [
  {
   "cell_type": "markdown",
   "id": "0c1bfe81",
   "metadata": {},
   "source": [
    "# Numerical Relativity Problems Chapter 11: Recasting the Evolution Equations\n",
    "\n",
    "## Authors: Gabriel M Steward"
   ]
  },
  {
   "cell_type": "markdown",
   "id": "479540e4",
   "metadata": {},
   "source": [
    "https://github.com/zachetienne/nrpytutorial/blob/master/Tutorial-Template_Style_Guide.ipynb\n",
    "\n",
    "Link to the Style Guide. Not internal in case something breaks. "
   ]
  },
  {
   "cell_type": "markdown",
   "id": "10780970",
   "metadata": {},
   "source": [
    "### </list_source_code> NRPy+ Source Code for this module:\n",
    "None, save the pdf conversion at the bottom of this document.  \n",
    "\n",
    "## Introduction:\n",
    "Before we end this summer, we will (we must!) get to the end of BSSN, which is contained in this chapter. \n",
    "\n",
    "## </other>  Other (Optional):\n",
    "In order to fascilitate learning, whenever the opportunity arises Sympy will be used. (Which turns out not to be that often all things considered...)\n",
    "\n",
    "### Note on Notation:\n",
    "Any new notation will be brought up in the notebook when it becomes relevant. \n",
    "\n",
    "### Citations:\n",
    "\n",
    "<a id='1'></a>\n",
    "[1] linky (descrip)"
   ]
  },
  {
   "cell_type": "markdown",
   "id": "56664bc2",
   "metadata": {},
   "source": [
    "<a id='toc'></a>\n",
    "\n",
    "# Table of Contents\n",
    "$$\\label{toc}$$\n",
    "\n",
    "[Problem 1](#P1) (Coulomb Gauge)\n",
    "\n",
    "[Problem 2](#P2) (Derivation of BSSN)\n",
    "\n",
    "[Problem 3](#P3) (???)\n",
    "\n",
    "[Problem 4](#P4) (???)\n",
    "\n",
    "[PDF](#latex_pdf_output) (turn this into a PDF)"
   ]
  },
  {
   "cell_type": "markdown",
   "id": "cd9e5529",
   "metadata": {},
   "source": [
    "<a id='P1'></a>\n",
    "\n",
    "# Problem 1 \\[Back to [top](#toc)\\]\n",
    "$$\\label{P1}$$\n",
    "\n",
    "*Show that in the Coulomb gauge the gauge potential $\\Phi$ satisfies Poisson's elliptic equation $D^iD_i\\Phi = -4\\pi \\rho_e$.*"
   ]
  },
  {
   "cell_type": "markdown",
   "id": "7839ca41",
   "metadata": {},
   "source": [
    "The Coulomb Gauge says $\\Gamma = D^i A_i = 0$\n",
    "\n",
    "11.4 gives us a very helpful relation:\n",
    "\n",
    "$$ \\partial_t A_i = -E_i -D_i\\Phi $$\n",
    "\n",
    "Contract with $D^i$\n",
    "\n",
    "$$ D^i \\partial_t A_i = -D^i E_i - D^i D_i\\Phi $$\n",
    "\n",
    "$D^i E_i$ is the constraint 11.6. \n",
    "\n",
    "$$ D^i \\partial_t A_i = -4\\pi\\rho_e - D^i D_i\\Phi $$\n",
    "\n",
    "And we re-arrange...\n",
    "\n",
    "$$ D^i \\partial_t A_i + D^i D_i\\Phi = -4\\pi\\rho_e$$\n",
    "\n",
    "Which is really close. Now, if $D^i \\partial_t$ commutes, we end up with $D^i A_i$ which goes to zero in our gauge. However, WE DO NOT KNOW IF THEY COMMUTE. We do know that we are dealing with Maxwell's equations so $D^i = \\nabla^i$ and $\\partial_t = \\nabla_t$. \n",
    "\n",
    "$$ \\nabla^i \\nabla_t A_i + D^i D_i\\Phi = -4\\pi\\rho_e$$\n",
    "\n",
    "But covariant derivatives need not commute, either. If we were SUMMING over BOTH indices, it would be fine, but we are not. ($\\nabla_t$ isn't really an index anyway.) "
   ]
  },
  {
   "cell_type": "markdown",
   "id": "df07b670",
   "metadata": {},
   "source": [
    "So let's try to show that the term CAN commute. Test the equality. \n",
    "\n",
    "$$ \\nabla^i \\partial_t A_i = \\partial_t \\nabla^i A_i $$\n",
    "\n",
    "Split up the covariant derivative, knowing that in EM it is equal to the spatial covariant derivative, we don't have to worry about the 4-index that shows up.\n",
    "\n",
    "$$ \\partial^i \\partial_t A_i + \\Gamma^{ki}_i \\partial_t A_k = \\partial_t \\partial^i A_i + \\partial_t (\\Gamma^{ki}_i A_k)$$\n",
    "\n",
    "The first terms match since partial derivatives DO commute, good. Product rule the last term. \n",
    "\n",
    "$$  \\Gamma^{ki}_i \\partial_t A_k = \\Gamma^{ki}_i \\partial_t A_k + A_k \\partial_t \\Gamma^{ki}_i $$\n",
    "\n",
    "Now, remember, we are in Maxwell's equations. Here, the metric cannot be changing in time, which means the Christoffels must also be constant, thus the last term goes to zero.\n",
    "\n",
    "$$  \\Gamma^{ki}_i \\partial_t A_k = \\Gamma^{ki}_i \\partial_t A_k $$\n",
    "\n",
    "Which means that, yes, in the EM situation our operators DO commute. Which means we can say...\n",
    "\n",
    "$$ \\partial_t D^i A_i + D^i D_i\\Phi = -4\\pi\\rho_e \\Rightarrow D^i D_i\\Phi = -4\\pi\\rho_e $$\n",
    "\n",
    "Bonus thought: perhaps modeling $\\partial_t$ as $t^a \\partial_a$ would have helped?\n"
   ]
  },
  {
   "cell_type": "markdown",
   "id": "3dc10713",
   "metadata": {},
   "source": [
    "<a id='P2'></a>\n",
    "\n",
    "# Problem 2 \\[Back to [top](#toc)\\]\n",
    "$$\\label{P2}$$\n",
    "\n",
    "*Derive equations 11.35 through 11.38*\n",
    "\n",
    "Ah, so we're actually going to derive BSSN! Gooooood..."
   ]
  },
  {
   "cell_type": "markdown",
   "id": "4c2c6d5c",
   "metadata": {},
   "source": [
    "ROUND 1: 11.35, evolution of $\\phi$\n",
    "\n",
    "$$\\partial_t \\phi = -\\frac16 \\alpha K + \\beta^i \\partial_i \\phi + \\frac16 \\partial_i \\beta^i$$"
   ]
  },
  {
   "cell_type": "markdown",
   "id": "bef24cf1",
   "metadata": {},
   "source": [
    "2.136 is our friend the (annoying) $\\partial_t ln\\sqrt{\\gamma} = -\\alpha K + D_i \\beta^i$. The variable we are seeking to relate this to is $\\phi = \\frac{1}{12} ln(\\gamma/\\eta)$"
   ]
  },
  {
   "cell_type": "markdown",
   "id": "964e6a66",
   "metadata": {},
   "source": [
    "$$\n",
    "\\begin{align}\n",
    "\\partial_t \\frac12 ln\\gamma &= -\\alpha K + D_i \\beta^i \\\\\n",
    "\\Rightarrow \\partial_t ln\\gamma &= -2\\alpha K + 2D_i \\beta^i \\\\\n",
    "\\Rightarrow \\partial_t 12\\phi + \\partial_t ln\\eta &= -2\\alpha K + 2D_i \\beta^i \\\\\n",
    "\\Rightarrow \\partial_t \\phi &= -\\frac16 \\alpha K + \\frac16 D_i \\beta^i \\\\\n",
    "\\Rightarrow \\partial_t \\phi &= -\\frac16 \\alpha K + \\frac16 \\partial_i \\beta^i + \\frac16 \\beta^a \\Gamma^i_{ai} \\\\\n",
    "\\Rightarrow \\partial_t \\phi &= -\\frac16 \\alpha K + \\frac16 \\partial_i \\beta^i + \\frac16 \\beta^k \\Gamma^i_{ki} \\\\\n",
    "\\end{align}\n",
    "$$"
   ]
  },
  {
   "cell_type": "markdown",
   "id": "e7060421",
   "metadata": {},
   "source": [
    "Now, this is close, but that last term is somewhat problematic. However, if we were to evaluate what that Christoffel equals...\n",
    "\n",
    "$$\n",
    "\\begin{align}\n",
    "\\Gamma^i_{ki} &= \\frac12 \\gamma^il (\\partial_k \\gamma_{il} + \\partial_i \\gamma_{kl} - \\partial_l \\gamma_{ki}) \\\\\n",
    "\\Rightarrow \\Gamma^i_{ki} &= \\frac12 \\gamma^ii (\\partial_k \\gamma_{ii} + \\partial_i \\gamma_{ki} - \\partial_i \\gamma_{ki}) \\\\\n",
    "\\Rightarrow \\Gamma^i_{ki} &= \\frac12 \\gamma^ii \\partial_k \\gamma_{ii}\\\\\n",
    "\\Rightarrow \\Gamma^i_{ki} &= \\frac12 \\partial_k ln \\gamma\\\\\n",
    "\\end{align}\n",
    "$$\n",
    "\n",
    "The last step here is MNR-2.125. We still aren't sure why it's true but it's a given relation so we'll take it. Performing this substitution (and replacing k with i for consistency) we get\n",
    "\n",
    "$$\n",
    "\\begin{align}\n",
    "\\Rightarrow \\partial_t \\phi &= -\\frac16 \\alpha K + \\frac16 \\partial_i \\beta^i + \\frac{1}{12} \\beta^i \\partial_i ln \\gamma \\\\\n",
    "\\Rightarrow \\partial_t \\phi &= -\\frac16 \\alpha K + \\frac16 \\partial_i \\beta^i + \\frac{1}{12} \\beta^i \\partial_i ln \\gamma \\\\\n",
    "\\Rightarrow \\partial_t \\phi &= -\\frac16 \\alpha K + \\frac16 \\partial_i \\beta^i + \\frac{1}{12} \\beta^i (\\partial_i ln \\gamma - \\partial_i ln \\eta) \\\\\n",
    "\\Rightarrow \\partial_t \\phi &= -\\frac16 \\alpha K + \\frac16 \\partial_i \\beta^i + \\frac{1}{12} \\beta^i \\partial_i ln (\\frac{\\gamma}{\\eta}) \\\\\n",
    "\\Rightarrow \\partial_t \\phi &= -\\frac16 \\alpha K + \\frac16 \\partial_i \\beta^i +  \\beta^i \\partial_i \\phi \\\\\n",
    "\\end{align}\n",
    "$$\n",
    "\n",
    "And that's one of the BSSN equations derived! "
   ]
  },
  {
   "cell_type": "markdown",
   "id": "0ed4f0f9",
   "metadata": {},
   "source": [
    "ROUND 2: 11.36, evolution of K. \n",
    "\n",
    "$$ \\partial_t K = -\\gamma^{ij} D_jD_i\\alpha + \\alpha(\\tilde{A}_{ij} \\tilde{A}^{ij} + \\frac13K^2) + 4\\pi\\alpha(\\rho+S) + \\beta^i \\partial_i K $$"
   ]
  },
  {
   "cell_type": "markdown",
   "id": "f5438605",
   "metadata": {},
   "source": [
    "Of interest is 2.137.\n",
    "\n",
    "$$ \\partial_t K = -D^2 \\alpha + \\alpha K_{ij}K^{ij} + 4\\pi\\alpha(\\rho+S) + \\beta^i D_i K $$"
   ]
  },
  {
   "cell_type": "markdown",
   "id": "627abb62",
   "metadata": {},
   "source": [
    "Rather quickly we can get almost all the terms to match, no weird form adjustments here. \n",
    "\n",
    "$$ \\Rightarrow \\partial_t K = -\\gamma^{ij}D_jD_i \\alpha + \\alpha K_{ij}K^{ij} + 4\\pi\\alpha(\\rho+S) + \\beta^i \\partial_i K $$\n",
    "\n",
    "The last term introduces no Christoffels as K is a scalar. "
   ]
  },
  {
   "cell_type": "markdown",
   "id": "a621d143",
   "metadata": {},
   "source": [
    "Note that this means the only term that isn't in the new form is $\\alpha K_{ij} K^{ij}$. \n",
    "\n",
    "Unfortunately the terms we need to get it into are not in K, so this is going to be a little funky. 11.34 does give us the definition for our mysterious variable, though. \n",
    "\n",
    "$$ \\tilde{A}_{ij} = e^{-4\\phi} A_{ij} $$\n",
    "\n",
    "But what is this A? Well, it's not the EM potential, it's something else derived in the not-done **Chapter 3**. We hope this will not lead to issues down the line. The relation is 3.31.\n",
    "\n",
    "$$ K_{ij} = A_{ij} + \\frac13 \\gamma_{ij} K $$\n",
    "\n",
    "So now we have the tools to start the transformation. "
   ]
  },
  {
   "cell_type": "markdown",
   "id": "ac4ab846",
   "metadata": {},
   "source": [
    "$$ \n",
    "\\begin{align}\n",
    "\\alpha K_{ij}K^{ij} &= \\alpha(A_{ij} + \\frac13 \\gamma_ij K)(A^{ij} + \\frac13 \\gamma_ij K ) \\\\\n",
    "&= \\alpha(A_{ij}A^{ij}  + \\frac13 A_{ij} \\gamma^{ij} K + \\frac13 A^{ij}\\gamma_{ij} K + \\frac19 \\gamma K^2) \\\\\n",
    "\\end{align}\n",
    "$$"
   ]
  },
  {
   "cell_type": "markdown",
   "id": "891f63fc",
   "metadata": {},
   "source": [
    "We need to figure out how to transform into the tilde version, so we insert the definition of $\\phi$.\n",
    "\n",
    "$$ \\tilde{A}_{ij} = e^{-\\frac13 ln\\frac\\gamma\\eta} A_{ij} $$\n",
    "$$ \\Rightarrow \\tilde{A}_{ij} e^{\\frac13 ln\\frac\\gamma\\eta} =  A_{ij} $$\n",
    "\n",
    "Now we can actually pull the fraction into an exponent and remove the natural log...\n",
    "\n",
    "$$ \\Rightarrow \\tilde{A}_{ij} \\left(\\frac{\\gamma}{\\eta}\\right)^{1/3} =  A_{ij} $$"
   ]
  },
  {
   "cell_type": "markdown",
   "id": "345fc45a",
   "metadata": {},
   "source": [
    "We do note that $\\eta=1$ in our formulation, so we shall leave it off in order to write the subsequent steps easier. Now we forefully throw the term into our relation and see what we get. \n",
    "\n",
    "$$ \n",
    "\\begin{align}\n",
    "&= \\alpha( \\gamma^{2/3} \\tilde A_{ij} \\tilde A^{ij}  + \\gamma^{1/3} \\frac13 \\tilde A_{ij} \\gamma^{ij} K + \\gamma^{1/3} \\frac13 \\tilde A^{ij}\\gamma_{ij} K + \\frac19 \\gamma K^2) \\\\\n",
    "&= \\alpha \\gamma^{2/3} ( \\tilde A_{ij} \\tilde A^{ij}  + \\gamma^{-1/3} \\frac13 \\tilde A_{ij} \\gamma^{ij} K + \\gamma^{-1/3} \\frac13 \\tilde A^{ij}\\gamma_{ij} K + \\gamma^{-2/3} \\frac19 \\gamma K^2) \\\\\n",
    "&= \\alpha \\gamma^{2/3} ( \\tilde A_{ij} \\tilde A^{ij}  + \\frac13 \\tilde A_{ij} \\tilde \\gamma^{ij} K + \\frac13 \\tilde A^{ij}\\tilde \\gamma_{ij} K + \\gamma^{-2/3} \\frac19 \\gamma K^2) \\\\\n",
    "&= \\alpha \\gamma^{2/3} ( \\tilde A_{ij} \\tilde A^{ij}  + \\frac23 \\tilde A_{ij} \\tilde \\gamma^{ij} K + \\frac19 \\gamma^{1/3} K^2) \\\\\n",
    "\\end{align}\n",
    "$$"
   ]
  },
  {
   "cell_type": "markdown",
   "id": "c52e824d",
   "metadata": {},
   "source": [
    "Oho! The entire point of A is that it's traceless. But by definition our metric $\\gamma^{ij}$ is diagonal, meaning to contract with it is to *force* there to be a trace... wiat no maybe not that doesn't acutally apply, $\\gamma$ is flat, and diagonal, but not necessarily (1,1,1). \n",
    "\n",
    "One thing we can do is note that since we can always pull out a $\\gamma^{1/3}$ we might be able to force every $\\gamma$ to equal 1... leaving only the center term that needs to go to zero somehow... hmmmmmmm.  "
   ]
  },
  {
   "cell_type": "markdown",
   "id": "df50096e",
   "metadata": {},
   "source": [
    "<a id='latex_pdf_output'></a>\n",
    "\n",
    "# Addendum: Output this notebook to $\\LaTeX$-formatted PDF file \\[Back to [top](#toc)\\]\n",
    "$$\\label{latex_pdf_output}$$\n",
    "\n",
    "The following code cell converts this Jupyter notebook into a proper, clickable $\\LaTeX$-formatted PDF file. After the cell is successfully run, the generated PDF may be found in the root NRPy+ tutorial directory, with filename\n",
    "[MNR-02.pdf](MNR-02.pdf) (Note that clicking on this link may not work; you may need to open the PDF file through another means.)\n",
    "\n",
    "**Important Note**: Make sure that the file name is right in all six locations, two here in the Markdown, four in the code below. \n",
    "\n",
    "* MNR-02.pdf\n",
    "* MNR-02.ipynb\n",
    "* MNR-02.tex"
   ]
  },
  {
   "cell_type": "code",
   "execution_count": 16,
   "id": "abf583ef",
   "metadata": {
    "scrolled": true
   },
   "outputs": [
    {
     "name": "stdout",
     "output_type": "stream",
     "text": [
      "Created MNR-02.tex, and compiled LaTeX file to PDF file MNR-02.pdf\n"
     ]
    }
   ],
   "source": [
    "import cmdline_helper as cmd    # NRPy+: Multi-platform Python command-line interface\n",
    "cmd.output_Jupyter_notebook_to_LaTeXed_PDF(\"MNR-02\")"
   ]
  }
 ],
 "metadata": {
  "kernelspec": {
   "display_name": "Python 3 (ipykernel)",
   "language": "python",
   "name": "python3"
  },
  "language_info": {
   "codemirror_mode": {
    "name": "ipython",
    "version": 3
   },
   "file_extension": ".py",
   "mimetype": "text/x-python",
   "name": "python",
   "nbconvert_exporter": "python",
   "pygments_lexer": "ipython3",
   "version": "3.10.4"
  }
 },
 "nbformat": 4,
 "nbformat_minor": 5
}
