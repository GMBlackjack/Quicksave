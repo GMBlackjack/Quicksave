{
 "cells": [
  {
   "cell_type": "markdown",
   "id": "0c1bfe81",
   "metadata": {},
   "source": [
    "# Mini Numerical Relativity Problems Chapter 2: Foliations of Spacetime: Constraint and Evolution Equations\n",
    "\n",
    "## Authors: Gabriel M Steward"
   ]
  },
  {
   "cell_type": "markdown",
   "id": "479540e4",
   "metadata": {},
   "source": [
    "https://github.com/zachetienne/nrpytutorial/blob/master/Tutorial-Template_Style_Guide.ipynb\n",
    "\n",
    "Link to the Style Guide. Not internal in case something breaks. "
   ]
  },
  {
   "cell_type": "markdown",
   "id": "10780970",
   "metadata": {},
   "source": [
    "### </list_source_code> NRPy+ Source Code for this module:\n",
    "None, save the pdf conversion at the bottom of this document.  \n",
    "\n",
    "## Introduction:\n",
    "The normal Numerical Relativity book has proven to be dense and not all that helpful in terms of starting out, so we turn to this simpler, more motivated book in the hopes that it will give us the knowledge needed to reach our goal. \n",
    "\n",
    "## </other>  Other (Optional):\n",
    "In order to fascilitate learning, whenever the opportunity arises Sympy will be used. \n",
    "\n",
    "### Note on Notation:\n",
    "Any new notation will be brought up in the notebook when it becomes relevant. \n",
    "\n",
    "### Citations:\n",
    "\n",
    "<a id='1'></a>\n",
    "[1] http://linearalgebra.math.umanitoba.ca/math1220/section-28.html (Cofactor Expansion)\n",
    "\n",
    "<a id='2'></a>\n",
    "[2] https://www.chilimath.com/lessons/advanced-algebra/inverse-of-a-2x2-matrix/ (Matrix Inverse Formula)\n",
    "\n",
    "<a id='3'></a>\n",
    "[3] https://www.physicsforums.com/insights/the-electric-field-seen-by-an-observer-a-relativistic-calculation-with-tensors/ (Magnetic Field I)\n",
    "\n",
    "<a id='4'></a>\n",
    "[4] https://physics.stackexchange.com/questions/625124/trying-to-understand-electric-and-magnetic-fields-as-4-vectors (Magnetic Field II)\n",
    "\n",
    "<a id='5'></a>\n",
    "[5] https://iopscience.iop.org/article/10.1088/1742-6596/437/1/012014/pdf (Magnetic Field III)\n",
    "\n",
    "<a id='6'></a>\n",
    "[6] https://ned.ipac.caltech.edu/level5/March01/Carroll3/Carroll5.html (Lie Derivatives)"
   ]
  },
  {
   "cell_type": "markdown",
   "id": "56664bc2",
   "metadata": {},
   "source": [
    "<a id='toc'></a>\n",
    "\n",
    "# Table of Contents\n",
    "$$\\label{toc}$$\n",
    "\n",
    "[Problem 1](#P1) (Constraint Satisfaction)\n",
    "\n",
    "[Problem 2](#P2) (EM Relativistic Observations)\n",
    "\n",
    "[Problem A4](#A4) (Appendix Aside: Faraday Tensor Transformation)\n",
    "\n",
    "[Problem C1](#C1) (Appendix Aside: Faraday Tensor Determinant)\n",
    "\n",
    "[Problem 3](#P3) (Playing With Lapse And Normals)\n",
    "\n",
    "[Problem 4](#P4) (Finding the Shift Vector)\n",
    "\n",
    "[Problem 5](#P5) (Vanishing Operators)\n",
    "\n",
    "[Problem 6](#P6) (Calculating the Projection Operator)\n",
    "\n",
    "[Problem 7](#P7) (Symmetric Curvature)\n",
    "\n",
    "[Problem 8](#P8) (Manually Calculate Extrinsic Curvature)\n",
    "\n",
    "[Problem 9](#P9) (Observed Magnetism)\n",
    "\n",
    "[Problem 10](#P10) (Acceleration and Lapse)\n",
    "\n",
    "[Problem 11](#P11) (Lie Derivative Commutator)\n",
    "\n",
    "[Problem 12](#P12) (Covariant and Partial Equivalence for Lie Derivatives)\n",
    "\n",
    "[Problem 13](#P13) (Lie Lapse)\n",
    "\n",
    "[Problem 14](#P14) (Covariant Derivative of Faraday, incomplete)\n",
    "\n",
    "[Problem 15](#P15) (Lie Lapse II, incomplete)\n",
    "\n",
    "[Problem 16](#P16) (All Together Now, incomplete)\n",
    "\n",
    "[Problem 17](#P17) (Metric Traces)\n",
    "\n",
    "[Problem 18](#P18) (Determinant Relations, incomplete)\n",
    "\n",
    "28\n",
    "\n",
    "[PDF](#latex_pdf_output) (turn this into a PDF)"
   ]
  },
  {
   "cell_type": "markdown",
   "id": "cd9e5529",
   "metadata": {},
   "source": [
    "<a id='P1'></a>\n",
    "\n",
    "# Problem 1 \\[Back to [top](#toc)\\]\n",
    "$$\\label{P1}$$\n",
    "\n",
    "*Define a constraint violation function $\\mathcal{C} = D_iE^i - 4\\pi\\rho$ and assume that charge is conserved, so that the continuity equation $\\partial_t \\rho = -D_ij^i$ holds. Then show that the time derivative of the constraint violation funciton vanishes, $\\partial_t \\mathcal{C} = 0$*"
   ]
  },
  {
   "cell_type": "markdown",
   "id": "88273330",
   "metadata": {},
   "source": [
    "Take the time derivative of both sides. \n",
    "\n",
    "$$ \\partial_t \\mathcal C = \\partial_t D_i E^i - 4\\pi \\partial_t \\rho $$\n",
    "\n",
    "$$ \\Rightarrow \\partial_t \\mathcal C = \\partial_t D_i E^i + 4\\pi D_i j^i $$"
   ]
  },
  {
   "cell_type": "markdown",
   "id": "840f60d6",
   "metadata": {},
   "source": [
    "Note that while we CAN move the time derivative past the D and get an equation in the form of 2.15, THIS IS A WILD GOOSE CHASE. 2.16 has $D_i E^i = 4\\pi \\rho$. Which means...\n",
    "\n",
    "$$ \\Rightarrow \\partial_t \\mathcal C = \\partial_t 4\\pi \\rho + 4\\pi D_i j^i $$\n",
    "\n",
    "$$ \\Rightarrow \\partial_t \\mathcal C = - 4\\pi D_i j^i + 4\\pi D_i j^i $$\n",
    "\n",
    "$$ \\Rightarrow \\partial_t \\mathcal C = 0 $$\n",
    "\n",
    "And that is SO much neater than what we were trying to do. Don't even have to monkey with indeces at ALL. "
   ]
  },
  {
   "cell_type": "markdown",
   "id": "848c6998",
   "metadata": {},
   "source": [
    "<a id='P2'></a>\n",
    "\n",
    "# Problem 2 \\[Back to [top](#toc)\\]\n",
    "$$\\label{P2}$$\n",
    "\n",
    "*a) Demonstrate that 2.18 reduces to 2.17 in the observer's local Lorentz frame, where $u^a = (1,0,0,0)$*"
   ]
  },
  {
   "cell_type": "markdown",
   "id": "25132808",
   "metadata": {},
   "source": [
    "2.17 is the full Faraday Tensor, given by:\n",
    "\n",
    "$$ F^{ab} = \\begin{bmatrix}\n",
    "0 & E^x & E^y & E^z \\\\\n",
    "-E^x & 0 & B^z & -B^y \\\\\n",
    "-E^y & -B^z & 0 & B^x \\\\\n",
    "-E^z & B^y & -B^x & 0 \\\\\n",
    "\\end{bmatrix}\n",
    "$$\n",
    "\n",
    "And 2.18 is the \"one line\" verison. \n",
    "\n",
    "$$ F^{ab} = u^aE^b - u^bE^a + u_d\\epsilon^{dabc} B_c $$\n",
    "\n",
    "Our goal is to show that 2.18 really does become 2.17 when given the \"stationary\" four-velocity. "
   ]
  },
  {
   "cell_type": "markdown",
   "id": "5f3d476e",
   "metadata": {},
   "source": [
    "First of all, the diagonal: clearly correct, as every time a=b everything cancels--the two E terms are opposing, and the Levi-Civita tensor can never have duplicates in it. \n",
    "\n",
    "When a or b equals t, d cannot be t, and thus the Levi-Civita tensor vanishes for all a or b = t cases, leaving only the E terms. The negatives remain when b=t, and the positives remain when a=t, and the E terms vanish for a and not equaling t, so that's the Electric contributions. \n",
    "\n",
    "So, now for the B contributions. d has to equal t. a and b have to equal whatever the coordinates at their point is, meaning c must be the only remaining point. (so an xy would produce a B of z, which is exactly what we see). Flipping a and b changes the sign by the even-oddness rule of the Levi-Civita tensor. All we really have to do is make sure the signs are right on one side. The combinations we end up with for the upper part of the matrix are: txyz, txzy, and tyzx. Note that the first one, txyz, is the standard, thus evalutes positive. The second one is a single-shuffle, so it evaluates negatively. The last one is a double-shuffle, so it evaluates positive. \n",
    "\n",
    "Thus, every single term is accounted for! "
   ]
  },
  {
   "cell_type": "markdown",
   "id": "c864e377",
   "metadata": {},
   "source": [
    "*b) Show that an observer with (arbitrary) four-velocity $u^a$ will measure the electric field to be $E^a = F^{ab}u_b$ and the magnetic field to be $B^a = \\epsilon^{abcd}u_b F_{dc}/2$. Hint: For the latter, use $\\epsilon^{abcd}\\epsilon_{cdef} = -2\\delta^{ab}_{ef} = -2(\\delta^a_e\\delta^b_f - \\delta^a_f \\delta^b_e)$*"
   ]
  },
  {
   "cell_type": "markdown",
   "id": "13dfd7e5",
   "metadata": {},
   "source": [
    "For the electric field, we work backward by applying $u_b$ to 2.18. \n",
    "\n",
    "$$ F^{ab}u_b = u^aE^bu_b - u^bE^au_b + u_d\\epsilon^{dabc} B_cu_b $$\n",
    "\n",
    "We know from the definitions that $E^bu_b=0$ and from General Relativity that $u^bu_b=-1$. However, the last term? well, if d=b we have a case where the Levi-Civita tensor vanishes. And if they are not equal, then both u values can't exist at the same time, and everything explodes to zero. Kaboom.\n",
    "\n",
    "$$ F^{ab}u_b = E^a $$"
   ]
  },
  {
   "cell_type": "markdown",
   "id": "282b4900",
   "metadata": {},
   "source": [
    "Now, for the B version, we need to lower the indeces of F and alter them a bit. \n",
    "\n",
    "$$ F_{ab} = u_aE_b - u_bE_a + u_d\\epsilon^{dc}_{ab} B_c $$\n",
    "\n",
    "$$ \\Rightarrow F_{dc} = u_dE_c - u_cE_d + u_f\\epsilon^{fe}_{dc} B_e $$\n",
    "\n",
    "Now we use a trick akin to $u^an_a = g_{ab}u^an^b = u_bn^b$. \n",
    "\n",
    "$$ \\Rightarrow F_{dc} = u_dE_c - u_cE_d + u^e\\epsilon_{edcf} B^f $$\n",
    "\n",
    "Perform a shuffle for later index convenience. No sign change as it is two swaps. \n",
    "\n",
    "$$ \\Rightarrow F_{dc} = u_dE_c - u_cE_d + u^e\\epsilon_{dcef} B^f $$"
   ]
  },
  {
   "cell_type": "markdown",
   "id": "d5c9e83b",
   "metadata": {},
   "source": [
    "And now we see if we can extract $B^a$ with the suggested operations. \n",
    "\n",
    "$$ \\frac12 \\epsilon^{abcd}u_bF_{dc} = \\frac12 \\epsilon^{abcd}u_bu_dE_c - \\frac12 \\epsilon^{abcd}u_bu_cE_d + \\frac12 \\epsilon^{abcd}u_bu^e\\epsilon_{dcef} B^f $$"
   ]
  },
  {
   "cell_type": "markdown",
   "id": "da5b46f1",
   "metadata": {},
   "source": [
    "Note that the first two terms are summed over all three of their lower indeces, b d and c, which means that each individual term can have its indeces shuffled. \n",
    "\n",
    "$$ \\Rightarrow \\frac12 \\epsilon^{abcd}u_bF_{dc} = \\frac12 \\epsilon^{abcd}u_bu_dE_c - \\frac12 \\epsilon^{abdc}u_bu_dE_c + \\frac12 \\epsilon^{abcd}u_bu^e\\epsilon_{dcef} B^f $$\n",
    "\n",
    "This may look like it makes the first two terms add constructively due to the swap in the Levi-Civita tensor's indeces, but remember we are summing over b, d, and c. Which means ALL combinations of bdc will be hit. We can show they cancel since swapping b and d will change the sign, but not the value. For instance:\n",
    "\n",
    "$$ \\Rightarrow \\frac12 \\epsilon^{abcd}u_bF_{dc} = \\frac12 \\epsilon^{abcd}u_bu_dE_c - \\frac12 \\epsilon^{adbc}u_du_bE_c + \\frac12 \\epsilon^{abcd}u_bu^e\\epsilon_{dcef} B^f $$\n",
    "\n",
    "The L-C tensors are now two swaps away from each other, meaning they always share the value. Meaning the E terms will cancel! (Which they kind of had to for this to work at all.)\n",
    "\n",
    "$$ \\Rightarrow \\frac12 \\epsilon^{abcd}u_bF_{dc} = \\frac12 \\epsilon^{abcd}u_bu^e\\epsilon_{dcef} B^f $$"
   ]
  },
  {
   "cell_type": "markdown",
   "id": "ed88d443",
   "metadata": {},
   "source": [
    "The double tensor relation was, in fact, given. That said we do have to swap the first two indeces of the second tensor, which flips the sign yet again. And then we go on...\n",
    "\n",
    "$$ \\Rightarrow \\frac12 \\epsilon^{abcd}u_bF_{dc} = -\\frac12 u_bu^e\\epsilon^{abcd}\\epsilon_{cdef} B^f $$\n",
    "\n",
    "$$ \\Rightarrow \\frac12 \\epsilon^{abcd}u_bF_{dc} = \\delta^{ab}_{ef} u_bu^e B^a $$\n",
    "\n",
    "$$ \\Rightarrow \\frac12 \\epsilon^{abcd}u_bF_{dc} = (\\delta^a_e \\delta^b_f - \\delta^a_f \\delta^b_e) u_bu^eB^f $$\n",
    "\n",
    "We need to be RELALY CAREFUL with what we're summing in both cases. Note that a is actually constant, so each of the detlas only exist when a equals whatever it is over, which means we can reduce to...\n",
    "\n",
    "$$ \\Rightarrow \\frac12 \\epsilon^{abcd}u_bF_{dc} =  \\delta^b_f u_bu^aB^f + \\delta^b_e u_bu^eB^a $$\n",
    "\n",
    "$$ \\Rightarrow \\frac12 \\epsilon^{abcd}u_bF_{dc} =  u_fu^aB^f + u_eu^eB^a $$\n",
    "\n",
    "$$ \\Rightarrow \\frac12 \\epsilon^{abcd}u_bF_{dc} =  B^a $$\n",
    "\n",
    "Which is what we sought to show. "
   ]
  },
  {
   "cell_type": "markdown",
   "id": "0aeb8330",
   "metadata": {},
   "source": [
    "Originally we had a big problem thinking the sources didn't agree. We later found out they did, so here's the notes for posterity. This first equation is the answer. \n",
    "\n",
    "$$ B^a = \\frac12 \\epsilon^{abcd}u_bF_{dc} $$\n",
    "\n",
    "[3](#3) Says:\n",
    "\n",
    "$$ B_a = \\frac12 \\epsilon_{abcd} F^{cd} u^b $$\n",
    "\n",
    "Remember, the Levi-Civita tensor is antisymmetric, so ORDER MATTERS. \n",
    "\n",
    "$$ \\Rightarrow B^a = \\frac12 \\epsilon^a_{bcd} F^{cd} u^b $$\n",
    "\n",
    "Via $a^cb_c = g^{cd} a_db_c = a_da^d$ we can restate...\n",
    "\n",
    "NOTE: due to the funky nature of the LC tensor, this accures a minus sign. \n",
    "\n",
    "$$ \\Rightarrow B^a = - \\frac12 \\epsilon^{aefh} F_{fh} u_e $$\n",
    "\n",
    "And we can set the indeces back since they're all being summed arbitrarily.\n",
    "\n",
    "$$ \\Rightarrow B^a = - \\frac12 \\epsilon^{abcd} F_{cd} u_b $$\n",
    "\n",
    "Note the indeces on the Faray tensor are reverse what Mini Numerical Relativity gives. If we try to flip them...\n",
    "\n",
    "$$ \\Rightarrow B^a = \\frac12 \\epsilon^{abcd} F_{dc} u_b $$\n",
    "\n",
    "[4](#4) Says:\n",
    "\n",
    "$$ B^a = \\frac12 \\epsilon^{abcd}u_dF_{bc} $$\n",
    "\n",
    "Adjust indeces.\n",
    "\n",
    "$$ \\Rightarrow B^a = \\frac12 \\epsilon^{adcb}u_bF_{dc} $$\n",
    "\n",
    "Swap b and d in the LC Tensor, changing its sign. \n",
    "\n",
    "$$ \\Rightarrow B^a = -\\frac12 \\epsilon^{abcd}u_bF_{dc} $$\n",
    "\n",
    "We deduce that this one is simply wrong. Could easily be a typo. \n",
    "\n",
    "[5](#5) is a little different but it says:\n",
    "\n",
    "$$ B^i = \\frac12 \\epsilon^{0ijk} F_{kj} $$\n",
    "\n",
    "Notably this is all in cartesian indeces, but we can change that by putting the four-velocity into it agian. Since the paper was using (-1,0,0,0) this pulls out a minus sign. \n",
    "\n",
    "$$ B^a = - \\frac12 \\epsilon^{dabc} u_d F_{cb} $$\n",
    "\n",
    "Index adjustment: db=bd.\n",
    "\n",
    "$$ B^a = - \\frac12 \\epsilon^{badc} u_b F_{cd} $$\n",
    "\n",
    "Flip the Faraday tensor.\n",
    "\n",
    "$$ B^a = \\frac12 \\epsilon^{badc} u_b F_{dc} $$\n",
    "\n",
    "Index shuffling for the LC-Tensor is badc -> abdc -> abcd, two swaps, which means the sign is kept.\n",
    "\n",
    "$$ B^a = \\frac12 \\epsilon^{abcd} u_b F_{dc} $$\n"
   ]
  },
  {
   "cell_type": "markdown",
   "id": "92447646",
   "metadata": {},
   "source": [
    "Okay there have been SEVERAL references to Appendix A, so we're going to go dig around there for a while at this point. Let's see what illuminating problems there are here:\n",
    "\n",
    "Problem 1: just the identity matrix/tensor, trivial.\n",
    "\n",
    "Problem 2: The symmetrization of an antisymmetric tensor vanishes. Trivial. That said there is a good reminder of the property $S_{ab}A^{ab} = 0$ between Symmetric and Antisymmetric tensors. \n",
    "\n",
    "Problem 3: The boosting of the four-velocity via Lorentz transformation, trivial. \n",
    "\n",
    "Problem 4: ah, this one's about the Faraday tensor! Let's do it. "
   ]
  },
  {
   "cell_type": "markdown",
   "id": "bf66cd28",
   "metadata": {},
   "source": [
    "<a id='A4'></a>\n",
    "\n",
    "# Problem A4 \\[Back to [top](#toc)\\]\n",
    "$$\\label{A4}$$\n",
    "\n",
    "*The electric and magnetic fields in an unprimed corodinate system are given by $E^i$ and $B^i$, and the Faraday tensor by 2.17. An observer in a primed coordinate frame would identify the electric and magnetic fields from the Faraday tensor as $E^{i'}= F^{t'i'} = M^{t'}_c M^{i'}_{d} F^{cd}$ and similarly for the magnetic fields. Find the electric and magnetic fields as observed in a reference frame that is boosted with speed v in the positive z-direction with respect to the unprimed reference frame. Check: for the x'-component the answer is $E^{x'} = \\gamma(E^x - vB^y)$*"
   ]
  },
  {
   "cell_type": "markdown",
   "id": "421302e7",
   "metadata": {},
   "source": [
    "So basically take the Faraday Tensor and apply the z-direction Lorentz Transformation Matrix like so:\n",
    "\n",
    "$$ \\begin{bmatrix}\n",
    "\\gamma & 0 & 0 & -\\gamma v \\\\\n",
    "0 & 1 & 0 & 0 \\\\\n",
    "0 & 0 & 1 & 0 \\\\\n",
    "-\\gamma v & 0 & 0 & \\gamma \\\\\n",
    "\\end{bmatrix}  \\begin{bmatrix}\n",
    "0 & E^x & E^y & E^z \\\\\n",
    "-E^x & 0 & B^z & -B^y \\\\\n",
    "-E^y & -B^z & 0 & B^x \\\\\n",
    "-E^z & B^y & -B^x & 0 \\\\\n",
    "\\end{bmatrix}\\begin{bmatrix}\n",
    "\\gamma & 0 & 0 & -\\gamma v \\\\\n",
    "0 & 1 & 0 & 0 \\\\\n",
    "0 & 0 & 1 & 0 \\\\\n",
    "-\\gamma v & 0 & 0 & \\gamma \\\\\n",
    "\\end{bmatrix}\n",
    "$$\n",
    "\n",
    "Remember, you DO have to do it twice, once from each side, since this is a tensor. Then just multiply it out. The result is..."
   ]
  },
  {
   "cell_type": "markdown",
   "id": "769444b1",
   "metadata": {},
   "source": [
    "$$ = \\begin{bmatrix}\n",
    "\\gamma v E^z & \\gamma (E^x - vB^y) & \\gamma(E^y + vB^x) & \\gamma E^z \\\\\n",
    "-E^x & 0 & B^z & -B^y \\\\\n",
    "-E^y & -B^z & 0 & B^x \\\\\n",
    "-\\gamma E^z & \\gamma(-vE^x + B^y) & \\gamma(-vE^y - B^x) & -\\gamma v E^z \\\\\n",
    "\\end{bmatrix} \\begin{bmatrix}\n",
    "\\gamma & 0 & 0 & -\\gamma v \\\\\n",
    "0 & 1 & 0 & 0 \\\\\n",
    "0 & 0 & 1 & 0 \\\\\n",
    "-\\gamma v & 0 & 0 & \\gamma \\\\\n",
    "\\end{bmatrix}$$"
   ]
  },
  {
   "cell_type": "markdown",
   "id": "d944b51e",
   "metadata": {},
   "source": [
    "$$ = \\begin{bmatrix}\n",
    "0 & \\gamma (E^x - vB^y) & \\gamma(E^y + vB^x) & \\gamma^2 E^z (1-v^2) \\\\\n",
    "\\gamma(-E^x+vB^y) & 0 & B^z & \\gamma(vE^x - B^y) \\\\\n",
    "\\gamma(-E^y - vB^x) & -B^z & 0 & \\gamma(vE^y + B^x)\\\\\n",
    "-\\gamma^2 E^z (1-v^2) & \\gamma(-vE^x + B^y) & \\gamma(-vE^y - B^x) & 0 \\\\\n",
    "\\end{bmatrix}$$\n",
    "\n",
    "$$ = \\begin{bmatrix}\n",
    "0 & \\gamma (E^x - vB^y) & \\gamma(E^y + vB^x) & E^z \\\\\n",
    "\\gamma(-E^x+vB^y) & 0 & B^z & \\gamma(vE^x - B^y) \\\\\n",
    "\\gamma(-E^y - vB^x) & -B^z & 0 & \\gamma(vE^y + B^x)\\\\\n",
    "-E^z & \\gamma(-vE^x + B^y) & \\gamma(-vE^y - B^x) & 0 \\\\\n",
    "\\end{bmatrix}$$"
   ]
  },
  {
   "cell_type": "markdown",
   "id": "111f678e",
   "metadata": {},
   "source": [
    "Which is antysymmetric and does match the check we were given. Notably the z direction components are completley unchanged. "
   ]
  },
  {
   "cell_type": "markdown",
   "id": "f0ab4351",
   "metadata": {},
   "source": [
    "<a id='C1'></a>\n",
    "\n",
    "# Problem C1 \\[Back to [top](#toc)\\]\n",
    "$$\\label{C1}$$\n",
    "\n",
    "Once again, we were refered to the Appendix and found a problem.\n",
    "\n",
    "*a) Evaluate the components $F^a_b$ of the Faraday tensor 2.17 in a Lorentz frame where $g_{ab} = \\eta_{ab}$*"
   ]
  },
  {
   "cell_type": "markdown",
   "id": "c6f81785",
   "metadata": {},
   "source": [
    "We need to lower the second index. One may think that in a normal spacetime this won't matter, but no, the diagonal is (-1,1,1,1), so which direction the sign goes across definitely matters. We want $\\eta_{cb} F^{ac}$, which becomes in matrix form:\n",
    "\n",
    "$$ \\begin{bmatrix}\n",
    "0 & E^x & E^y & E^z \\\\\n",
    "-E^x & 0 & B^z & -B^y \\\\\n",
    "-E^y & -B^z & 0 & B^x \\\\\n",
    "-E^z & B^y & -B^x & 0 \\\\\n",
    "\\end{bmatrix}\\begin{bmatrix}\n",
    "-1 & 0 & 0 & 0 \\\\\n",
    "0 & 1 & 0 & 0 \\\\\n",
    "0 & 0 & 1 & 0 \\\\\n",
    "0 & 0 & 0 & 1 \\\\\n",
    "\\end{bmatrix}$$\n",
    "\n",
    "$$ = \\begin{bmatrix}\n",
    "0 & E^x & E^y & E^z \\\\\n",
    "E^x & 0 & B^z & -B^y \\\\\n",
    "E^y & -B^z & 0 & B^x \\\\\n",
    "E^z & B^y & -B^x & 0 \\\\\n",
    "\\end{bmatrix}$$\n",
    "\n",
    "If we had lowered the other index all E values would be negative. Note that this is NOT antisymmetric, but if we were to apply the metric again it would be. "
   ]
  },
  {
   "cell_type": "markdown",
   "id": "360b1984",
   "metadata": {},
   "source": [
    "*b) Show that $det(F^a_b) = -(\\pmb{E} \\cdot \\pmb{B})^2$*"
   ]
  },
  {
   "cell_type": "markdown",
   "id": "54613505",
   "metadata": {},
   "source": [
    "Right, there's no simple formula for the 4x4 determinant... Which means we need to go look up our how to solve for determinant methods again. We find cofactor expansion at [2](#2). Let's split it up across the top row to make it... simpler.\n",
    "\n",
    "$$ det(F^a_b) = 0 -E^x det \\begin{bmatrix}\n",
    "E^x & B^z & -B^y\\\\\n",
    "E^y & 0 & B^x\\\\\n",
    "E^z & -B^x & 0\\\\\n",
    "\\end{bmatrix}+E^y det \\begin{bmatrix}\n",
    "E^x & 0 & -B^y\\\\\n",
    "E^y & -B^z & B^x\\\\\n",
    "E^z & B^y & 0\\\\\n",
    "\\end{bmatrix}-E^z det \\begin{bmatrix}\n",
    "E^x & 0 &  B^z\\\\\n",
    "E^y & -B^z & 0\\\\\n",
    "E^z & B^y & -B^x\\\\\n",
    "\\end{bmatrix}$$\n",
    "\n"
   ]
  },
  {
   "cell_type": "markdown",
   "id": "7bf98156",
   "metadata": {},
   "source": [
    "Notice that the first determinant went to zero. As for the others..\n",
    "\n",
    "$$ = - B^zB^xE^zE^x - B^yB^xE^yE^x - B^xB^xE^xE^x - B^yB^yE^yE^y - B^zB^yE^zE^y - B^xB^yE^xE^y - B^xB^zE^xE^z - B^zB^yE^yE^z - B^zB^zE^zE^z $$\n",
    "\n",
    "$$ = - 2B^zB^xE^zE^x - 2B^yB^xE^yE^x - B^xB^xE^xE^x - B^yB^yE^yE^y - 2B^zB^yE^zE^y - B^zB^zE^zE^z $$\n",
    "\n",
    "$$ = -(E^xB^x + E^yB^y + E^zB^z)^2 $$\n",
    "\n",
    "$$ = -(\\pmb E \\cdot \\pmb B)^2 $$"
   ]
  },
  {
   "cell_type": "markdown",
   "id": "01586573",
   "metadata": {},
   "source": [
    "<a id='P3'></a>\n",
    "\n",
    "# Problem 3 \\[Back to [top](#toc)\\]\n",
    "$$\\label{P3}$$\n",
    "\n",
    "*Consider a time coordinate t that is related to the time T by $t = T-h(r)$. Here h(r), assumed to depend on the radius r = $\\sqrt{x^2+y^2+z^2}$ only, is sometimes called a **height function**; it describes how far the t=const slice lies above the T=const slice, as illustrated in Fig 2.1. Refer to the coordiantes $x^{a'}=(T,r',\\theta',\\phi')$ as primed and $x^{a}=(t,r,\\theta,\\phi)$ as unprimed, where we set up $(r,\\theta,\\phi)=(r',\\theta ', \\phi ')$. In the primes frame the metric is given by the Minkowski metric, $g_{a'b'} = \\eta_{a'b'}$.*\n",
    "\n",
    "*a) Evaluate 2.34 to find the components $n_{a'}$ and $n^{a'}$ of the normal vector--normal to the t=const surfaces, that is--in the primed frame.*"
   ]
  },
  {
   "cell_type": "markdown",
   "id": "32750669",
   "metadata": {},
   "source": [
    "NOTE: all \"d\" derivatives are partial derivatives, we got lazy with typing. \n",
    "\n",
    "2.34 is $n_a = -\\alpha \\nabla_a t$. This easily becomes\n",
    "\n",
    "$$ n_{a'} = -\\alpha \\nabla_{a'} (T-h(r)) = -\\alpha(1,-h'(r),0,0)$$\n",
    "\n",
    "Multiply by the metric to raise the operator\n",
    "\n",
    "$$ n^{a'} = -\\alpha(-1,-h'(r),0,0)$$"
   ]
  },
  {
   "cell_type": "markdown",
   "id": "bca765ae",
   "metadata": {},
   "source": [
    "*b) Normalize the normal vector according to 2.35 to find $\\alpha$*\n",
    "\n",
    "The dot product of our two vectors is \n",
    "\n",
    "$$ \\alpha^2 (-1 + h'(r)^2) $$\n",
    "\n",
    "Which needs to equal -1. Which means...\n",
    "\n",
    "$$ 1-h'(r)^2 = \\frac{1}{\\alpha^2} $$\n",
    "$$ \\Rightarrow \\alpha = \\sqrt{\\frac{1}{1-h'(r)^2}} $$"
   ]
  },
  {
   "cell_type": "markdown",
   "id": "452bacbc",
   "metadata": {},
   "source": [
    "*c) Now transform the normal vector to the umprimed frame using $n_a = (\\partial x^{b'} / \\partial x^a)n_{b'}$ (See A.29). If all goes well you will recover 2.36.*"
   ]
  },
  {
   "cell_type": "markdown",
   "id": "c5163933",
   "metadata": {},
   "source": [
    "Following this, let's examine what that derivative means...\n",
    "\n",
    "For the two angular components, which never change at all, the rate is 1 as they are the exact same. $\\theta$ changes with $\\theta$ and $\\phi$ with $\\phi$ independently, making their mixed derivatives 0 and their self derivatievs 1. But it all turns to zero anyway since those components are always zero. \n",
    "\n",
    "Now, r does in fact equal r', making the dr'/dr = 1. However, it also relies in some way on the time T or t... and we need to tease out exactly how. What is dt'/dr? This would be dT/dr, or h'(r). This would result in \n",
    "\n",
    "$$ (1)(h'(r)) + (-h'(r))(1) = 0 $$\n",
    "\n",
    "Which gives us the zero we need on our r index. \n",
    "\n",
    "So, lastly, the t index. We want it to remain 1. This involes the derivative dT/dt and dr/dt, which are not quite as obvious results. We DO know that h(r) is a function of r only, so T = t + h'(r) reveals that dT/dt = 1. This much is easy enough to show. \n",
    "\n",
    "However, the radius... to get the answer we ant the derivative dr/dt better be zero, but it doesn't *seem* to be the case. Since we don't know what h is we can't just invert, and if we try to force it we get $dr/dt = -h^{-1'}(T-t)(T-t)'$. Aha! But T'-t' is 1-1 is 0, thus it vanishes! We'll take that, it makes the derivative equal zero. Which means we end up with just a single dT/dt derivative of 1, and 1 times 1 is 1. Thus...\n",
    "\n",
    "$$ n_a = -\\alpha(1,0,0,0) $$\n",
    "\n",
    "Which is what we sought. "
   ]
  },
  {
   "cell_type": "markdown",
   "id": "ac19c944",
   "metadata": {},
   "source": [
    "<a id='P4'></a>\n",
    "\n",
    "# Problem 4 \\[Back to [top](#toc)\\]\n",
    "$$\\label{P4}$$\n",
    "\n",
    "*Return to **Problem 3** and find the contravariant components of $n^a$ of the normal vector in the unprimed frame. Compare your result with 2.40 to identify the shift factor $\\beta^i$. Hint: use $n^a = (\\partial x^a / \\partial x^{b'}) n^{b'}$*"
   ]
  },
  {
   "cell_type": "markdown",
   "id": "cd0c6a65",
   "metadata": {},
   "source": [
    "So we need to do the derivatives in \"inverse\" now. The angle derivatives do not change, don't worry about it. dr/dr' = dr/dr = 1 still. However, what of the rest? We've actually done dt/dT before, it is also just 1. \n",
    "\n",
    "However, now we have dt/dr and dr/dT. dt/dr is -h'(r). dr/dT actually has the same result as dr/dt--0. \n",
    "\n",
    "So, what does our final vector look like then with all this? We start with (-1,-h'(r),0,0). The t coordinate becomes $1-(h')^2$. The r coordinate becomes h'. (remember to watch VERY CAREFULLY the order of indeces! This trapped us up for SO LONG)\n",
    "\n",
    "$$ n^a = \\alpha(1-(h')^2, h',0,0) $$\n",
    "\n",
    "We can force this into the form we want via.\n",
    "\n",
    "$$ \\Rightarrow n^a = \\frac1\\alpha(\\alpha^2(1-(h')^2), \\alpha^2h',0,0) $$\n",
    "\n",
    "Note that since we found $\\alpha$ in **Problem 3**, the first term reduces...\n",
    "\n",
    "$$ \\Rightarrow n^a = \\frac1\\alpha(1, \\alpha^2h',0,0) $$\n",
    "\n",
    "Which means we get $\\beta^i$ of $(-\\alpha^2 h',0,0)$ via 2.40.\n",
    "\n",
    "Had to rely on the answers for this one, as we were getting a non-transformation. But we understand it fully now. Be VERY careful with terms, we lost a square the last time we did this, took a while to track down. "
   ]
  },
  {
   "cell_type": "markdown",
   "id": "d72b2830",
   "metadata": {},
   "source": [
    "<a id='P5'></a>\n",
    "\n",
    "# Problem 5 \\[Back to [top](#toc)\\]\n",
    "$$\\label{P5}$$\n",
    "\n",
    "*a) Show that $A^a_{||}$ is indeed normal by showing that its contraction with the projection operator $\\gamma^a_b$ vanishes.*"
   ]
  },
  {
   "cell_type": "markdown",
   "id": "15406df6",
   "metadata": {},
   "source": [
    "From 2.45 we get the definition of the paralell operator, giving us:\n",
    "\n",
    "$$ - \\gamma^a_b n^a n_b A^b $$\n",
    "\n",
    "The proejction operator is 2.47.\n",
    "\n",
    "$$ = - (g^a_b + n^an_b) n^a n_b A^b $$\n",
    "\n",
    "$$ = -\\delta^a_bn^a n_b A^b -n^an_b n^a n_b A^b $$"
   ]
  },
  {
   "cell_type": "markdown",
   "id": "b3617cea",
   "metadata": {},
   "source": [
    "$$ = - n^a n_a A^a - n^an_b n^a n_b A^b $$\n",
    "\n",
    "$$ = A^a - n^an_b n^a n_b A^b $$\n",
    "\n",
    "$$ = A^a - g^{ac}g_{bc}n_cn_b n^a n^c A^b $$\n",
    "\n",
    "$$ = A^a + g^a_bn_b n^a A^b $$\n",
    "\n",
    "$$ = A^a + \\delta^a_bn_b n^a A^b $$\n",
    "\n",
    "$$ = A^a + n_a n^a A^a $$\n",
    "\n",
    "$$ = A^a - A^a $$\n",
    "\n",
    "$$ = 0 $$"
   ]
  },
  {
   "cell_type": "markdown",
   "id": "cc9e5d4c",
   "metadata": {},
   "source": [
    "*b) Show that $A^a_\\perp$ is indeed spatial by showing that its contraciton with the normal vector $n^a$ vanishes.*\n",
    "\n",
    "From 2.46 we get\n",
    "\n",
    "$$ n^a(g^a_b + n^an_b)A^b $$\n",
    "\n",
    "$$ = n^ag^a_bA^b + n^an^an_bA^b $$\n",
    "\n",
    "$$ = n^a\\delta^a_bA^b + g^{ac}g_{bc}n^an^bn_bA^b $$\n",
    "\n",
    "$$ = n^a\\delta^a_bA^b - \\delta^a_bn^aA^b $$\n",
    "\n",
    "$$ = 0 $$\n",
    "\n",
    "This reveals to us a NEW TOOL: the pulling out of the delta to change indeces! \n",
    "\n",
    "NOTE: Writing this down somewhere so we don't make the mistake again: $n^a \\neq g^{aa}n_a$ "
   ]
  },
  {
   "cell_type": "markdown",
   "id": "a52b2332",
   "metadata": {},
   "source": [
    "*c) Show that $\\gamma^a_b\\gamma^b_c=\\gamma^a_c$. This property guarantees that projecting an object that has already been projected will no longer change the object. Putting it differently, the projection operator acts like the identity operator for spatial objects.*\n",
    "\n",
    "This is\n",
    "\n",
    "$$ (g^a_b + n^an_b)(g^b_c + n^bn_c) $$\n",
    "\n",
    "$$ = g^a_bg^b_c +g^a_bn^bn_c + n^an_bg^b_c + n^an_bn^bn_c $$\n",
    "\n",
    "$$ = g^a_c + g^a_bn^bn_c + n^an_bg^b_c - n^an_c $$\n",
    "\n",
    "$$ = g^a_c + n^an_c + n^an_c - n^an_c $$\n",
    "\n",
    "$$ = g^a_c + n^an_c $$\n",
    "\n",
    "And that's that!"
   ]
  },
  {
   "cell_type": "markdown",
   "id": "3c68befe",
   "metadata": {},
   "source": [
    "<a id='P6'></a>\n",
    "\n",
    "# Problem 6 \\[Back to [top](#toc)\\]\n",
    "$$\\label{P6}$$\n",
    "\n",
    "*Find the components of the operator $\\gamma^a_b$ that projects into the t=const slices described in **Problem 3** and **Problem 4**.*\n",
    "\n",
    "Well, we can already split it up a bit, the operator as a whole is:\n",
    "\n",
    "$$ \\delta^a_b + n^an_b $$\n",
    "\n",
    "Now the components of the delta are always known, diagonal of (1,1,1,1). It's the vector options that change things up. The thing is, which version of the ns do we use? We have both T and t versions, we need to be careful. We want the t=const slices, which means we want the primed frame. Which means an outer product of the following:\n",
    "\n",
    "$$ n_{a'} = -\\alpha(1,-h'(r),0,0)$$\n",
    "\n",
    "$$ n^{a'} = -\\alpha(-1,-h'(r),0,0)$$"
   ]
  },
  {
   "cell_type": "markdown",
   "id": "4b90bf7e",
   "metadata": {},
   "source": [
    "We can do most of this multiplicaiton in our sleep, so all that remains is to set up the matrix to display the answer.\n",
    "\n",
    "$$ \\gamma^a_b = \\begin{bmatrix}\n",
    "1-\\alpha^2 & -\\alpha^2h' & 0 & 0 \\\\\n",
    "\\alpha^2h' & 1+\\alpha^2(h')^2& 0 & 0 \\\\\n",
    "0 & 0 & 1 & 0 \\\\\n",
    "0 & 0 & 0 & 1 \\\\\n",
    "\\end{bmatrix}$$\n",
    "\n",
    "Evidentialy antisymmetric. \n",
    "\n",
    "Now if we were to use the OTHER set...\n",
    "\n",
    "$$ n_a = -\\alpha(1,0,0,0) $$\n",
    "\n",
    "$$ n^a = \\alpha(1-h', h',0,0) $$\n",
    "\n",
    "$$ \\Rightarrow n^a = \\frac1\\alpha(1, \\alpha^2h',0,0) $$"
   ]
  },
  {
   "cell_type": "markdown",
   "id": "6c7ffa7b",
   "metadata": {},
   "source": [
    "We would end up with a matrix:\n",
    "\n",
    "$$ \\gamma^a_b = \\begin{bmatrix}\n",
    "0 & 0 & 0 & 0 \\\\\n",
    "-\\alpha^2h' & 1 & 0 & 0 \\\\\n",
    "0 & 0 & 1 & 0 \\\\\n",
    "0 & 0 & 0 & 1 \\\\\n",
    "\\end{bmatrix}$$\n",
    "\n",
    "This is the one given in the answers, so we need to figure out why we got it backward. \n",
    "\n",
    "HERE IS WHY WE GOT IT BACKWARD: it said that we were finding t=const. IN **Problem 3** it was said we were finding the normal vector to the t=const in the primed frame. But if we look at those vectors they aren't the standard variety, they were translated! Naturally, we HAVE to use the (1,0,0,0) form, because that's what the normal vector looks like in the correct reference frame. \n",
    "\n",
    "We still keep the previous answer around for posterity. "
   ]
  },
  {
   "cell_type": "markdown",
   "id": "b502af27",
   "metadata": {},
   "source": [
    "<a id='P7'></a>\n",
    "\n",
    "# Problem 7 \\[Back to [top](#toc)\\]\n",
    "$$\\label{P7}$$\n",
    "\n",
    "*Insert the definition 2.34 into 2.53 to show that the extrinsic curvature is symmetric, $K_{ab} = K_{ba}$ or equivalently $K_{[ab]}=0$*\n",
    "\n",
    "Well, K is given by 2.53 $-\\gamma^c_a \\gamma^d_b \\nabla_c n_d$ and 2.34 is\n",
    "\n",
    "$$ n_a = -\\alpha \\nabla_a t $$"
   ]
  },
  {
   "cell_type": "markdown",
   "id": "e7d24462",
   "metadata": {},
   "source": [
    "So combining it all together we now have $\\gamma^c_a\\gamma^d_b\\nabla_c \\alpha \\nabla_d t$"
   ]
  },
  {
   "cell_type": "markdown",
   "id": "dbbfb2cc",
   "metadata": {},
   "source": [
    "We note that we are not summing over a or b so we can just shuffle them at will. What we need to show is:\n",
    "\n",
    "$$\\gamma^c_a\\gamma^d_b\\nabla_c \\alpha \\nabla_d t = \\gamma^c_b\\gamma^d_a\\nabla_c \\alpha \\nabla_d t $$\n",
    "\n",
    "Since we're summing over the terms c and d, interchanging them doesn't do anything, they always go through all their values. \n",
    "\n",
    "$$\\Rightarrow \\gamma^d_a\\gamma^c_b\\nabla_d \\alpha \\nabla_c t = \\gamma^c_b\\gamma^d_a\\nabla_c \\alpha \\nabla_d t $$\n",
    "\n",
    "If $\\alpha$ were a constant this would be trivial, as derivatives commute. But $\\alpha$ can be a function. \n",
    "\n",
    "While that step above is true, it is not all that helpful. What is helpful is the following. \n",
    "\n",
    "$$ \\gamma^d_a\\gamma^c_b = \\gamma^d_a\\delta^c_d\\gamma^d_b = \\gamma^c_a\\gamma^d_b$$\n",
    "\n",
    "That is we can swap the c and d of the $\\gamma$s *without* swapping the c and d on the derivatives. \n",
    "\n",
    "$$\\gamma^c_a\\gamma^d_b\\nabla_c \\alpha \\nabla_d t = \\gamma^c_b\\gamma^d_a\\nabla_c \\alpha \\nabla_d t $$\n",
    "$$\\Rightarrow \\gamma^d_a\\gamma^c_b\\nabla_c \\alpha \\nabla_d t = \\gamma^c_b\\gamma^d_a\\nabla_c \\alpha \\nabla_d t $$\n",
    "\n",
    "And we're done! "
   ]
  },
  {
   "cell_type": "markdown",
   "id": "d1845243",
   "metadata": {},
   "source": [
    "<a id='P8'></a>\n",
    "\n",
    "# Problem 8 \\[Back to [top](#toc)\\]\n",
    "$$\\label{P8}$$\n",
    "\n",
    "*Compute the extrinsic curvature for the t=const slices in **Prolems 3, 4, 6**.*\n",
    "\n",
    "*a) Start by showing that the metric $g_{ab} = (\\partial x^{c'}/\\partial x^{a})(\\partial x^{d'}/\\partial x^b)\\eta_{c'd'}$ in the unprimed coordinate system is*\n",
    "\n",
    "$$ g_{ab} = \\begin{bmatrix}\n",
    "-1 & -h' & 0 & 0 \\\\\n",
    "-h' & 1-(h')^2 & 0 & 0 \\\\\n",
    "0 & 0 & r^2 & 0 \\\\\n",
    "0 & 0 & 0 & r^2sin^2\\theta \\\\\n",
    "\\end{bmatrix}$$\n"
   ]
  },
  {
   "cell_type": "markdown",
   "id": "0d9c750d",
   "metadata": {},
   "source": [
    "We know that the flat metric for spherical coordiantes is the diagonal (-1,1,$r^2$,$r^2sin^2\\theta$) and that the derivatives for those sections are always just 1, so once again the angular components do not matter.\n",
    "\n",
    "However, as for the other derivatives... we have calculated all of them before, it seems. However, we need to be careful with our sums. For explicit purposes, let's just delare all the derivatives here: remember, the primed values all equal the original ones save for t'=T. \n",
    "\n",
    "$$\\partial r/\\partial r = \\partial \\theta / \\partial \\theta = \\partial \\phi / \\partial \\phi = \\partial T / \\partial t = \\partial t / \\partial T = 1 $$\n",
    "\n",
    "$$ \\partial T/\\partial \\theta = \\partial T / \\partial \\phi = \\partial t / \\partial \\theta = \\partial t / \\partial \\phi = \\partial \\theta / \\partial \\phi = \\partial \\phi / \\partial \\theta = \\partial r / \\partial \\theta = \\partial r / \\partial \\phi = \\partial r / \\partial T = \\partial r / \\partial t = \\partial \\theta / \\partial r = \\partial \\phi / \\partial r = \\partial \\theta / \\partial t = \\partial \\phi / \\partial t = \\partial \\theta / \\partial T = \\partial \\phi / \\partial T = 0$$\n",
    "\n",
    "$$ \\partial t / \\partial r = -h' $$\n",
    "\n",
    "$$ \\partial T / \\partial r = h' $$"
   ]
  },
  {
   "cell_type": "markdown",
   "id": "03c53e96",
   "metadata": {},
   "source": [
    "First, the \"tt\" location. This evaluates as $(dT/dt)(dT/dt)(-1) + 0 = -1$\n",
    "\n",
    "Next, the \"rr\" location. This evalutes as $(dr/dr)(dr/dr)(1) + (dT/dr)(dT/dr)(-1) + 0 = 1-(h')^2 $\n",
    "\n",
    "Last, the \"tr\" location. Our formula has symmetry so they're both the same. $(dr/dr)(dr/dt)(1) + (dT/dr)(dT/dt)(-1) + 0 = -h' $\n",
    "\n",
    "Which completes the matrix. "
   ]
  },
  {
   "cell_type": "markdown",
   "id": "cd3b0a28",
   "metadata": {},
   "source": [
    "*b) Invert your result from a) to show that the inverse metric $g^{ab}$ in the unprimed coordinate system is*\n",
    "\n",
    "$$ g^{ab} = \\begin{bmatrix}\n",
    "-1+(h')^2 & -h' & 0 & 0 \\\\\n",
    "-h' & 1 & 0 & 0 \\\\\n",
    "0 & 0 & r^{-2} & 0 \\\\\n",
    "0 & 0 & 0 & r^{-2}sin^{-2}\\theta \\\\\n",
    "\\end{bmatrix}$$"
   ]
  },
  {
   "cell_type": "markdown",
   "id": "1a75cd03",
   "metadata": {},
   "source": [
    "The independence of the angular components makes the angular rows and columns essentially automatic, reducing the problem to that of inverting a 2x2 matrix. There's a formula for this somewhere, we went to look it up. [2](#2) provides it to us:\n",
    "\n",
    "$$A^{-1} = \\frac{1}{detA} \\begin{bmatrix}\n",
    "d & -b \\\\\n",
    "-c & a \\\\\n",
    "\\end{bmatrix}$$\n",
    "\n",
    "So we need the determinant of our 2x2 section. This is...\n",
    "\n",
    "$$ (-1 + (h')^2) - (h')^2 = -1 $$\n",
    "\n",
    "Thus the inverse matrix is\n",
    "\n",
    "$$A^{-1} = (-1) \\begin{bmatrix}\n",
    "1-(h')^2 & h' \\\\\n",
    "h' & -1 \\\\\n",
    "\\end{bmatrix}$$\n",
    "\n",
    "Which quickly becomes the matrix we seek. "
   ]
  },
  {
   "cell_type": "markdown",
   "id": "2a90ab9c",
   "metadata": {},
   "source": [
    "*c) Now expand the covariant derivative in 2.53*\n",
    "\n",
    "$$\\nabla_a n_b = \\partial_a n_b - n_c {}^{(4)}\\Gamma^c_{ab} = \\partial_a n_b - n_t {}^{(4)} \\Gamma^t_{ab}$$\n",
    "\n",
    "*Evidently we need all the Christoffel symbols with a t index upstairs. Evaluate 1.31 to find all of them. Hint: the only nonzero ones are ${}^{(4)}\\Gamma^t_{rr}, {}^{(4)}\\Gamma^t_{\\theta\\theta} = rh', {}^{(4)}\\Gamma^t_{\\phi\\phi} $. Example provided in book omitted.*"
   ]
  },
  {
   "cell_type": "markdown",
   "id": "6ca269d2",
   "metadata": {},
   "source": [
    "1.31 is the standard Christoffel expression. \n",
    "\n",
    "$$ {}^{(4)}\\Gamma^a_{bc} = \\frac12 g^{ad}(\\partial_c g_{db} + \\partial_b g_{dc} - \\partial_d g_{bc}) $$"
   ]
  },
  {
   "cell_type": "markdown",
   "id": "c3d8c79c",
   "metadata": {},
   "source": [
    "So, rather than just trusting the hint, let's reason this out. We need the christoffels with a t on top. So let's jsut go ahead and produce a matrix out of it. \n",
    "\n",
    "First of all, $g^{td}$ only exists for d=t, r. So we can expand the equation in general. \n",
    "\n",
    "$$ {}^{(4)}\\Gamma^t_{bc} = \\frac12 g^{tt}(\\partial_c g_{tb} + \\partial_b g_{tc} - \\partial_t g_{bc}) + \\frac12 g^{tr}(\\partial_c g_{rb} + \\partial_b g_{rc} - \\partial_r g_{bc}) $$ \n",
    "\n",
    "$$  = \\frac12 (-1+(h')^2) (\\partial_c g_{tb} + \\partial_b g_{tc} - \\partial_t g_{bc}) - \\frac12 h'(\\partial_c g_{rb} + \\partial_b g_{rc} - \\partial_r g_{bc}) $$ "
   ]
  },
  {
   "cell_type": "markdown",
   "id": "685f149d",
   "metadata": {},
   "source": [
    "Now, when do these vanish? Well, there are the cases where every metric is zero or a constant (which will make the derivative zero). It's easier to count the places where this DOESN'T happen: tr, rt, rr, $\\theta\\theta$, $\\phi\\phi$. All else go to zero in the above equation. This means all the nonzero POSSIBILITIES for nonzero bc are...\n",
    "\n",
    "$$ bc = rt, rr, r\\theta, r\\phi, tr, \\theta r, \\phi r, \\theta\\theta, \\phi\\phi, t \\theta, t \\phi, \\phi t, \\theta t, tt $$"
   ]
  },
  {
   "cell_type": "markdown",
   "id": "4a02e232",
   "metadata": {},
   "source": [
    "Which ironically means we have only outirght eliminated $\\phi\\theta, \\theta\\phi$ as zero. Well, still, that's progress. \n",
    "\n",
    "Are we guaranteed symmetry? Yes, by the Christoffel rules for the lower indecies, so from our list we can remove any duplicates.\n",
    "\n",
    "$$ bc = rt, rr, r\\theta, r\\phi, \\theta\\theta, \\phi\\phi, t \\theta, t \\phi, tt $$\n",
    "\n",
    "The angles should be the easiest to remove, for every metric with an angle in it evaluates to zero. Then, if we only have one angular coordinate, we are taking a derivative with respect to said angle in the remaining index, and none of the metrics (save $\\phi\\phi$) have any angular dependence at all, and the remaining metric has to have a t or an r in it, so all of them go to zero. \n",
    "\n",
    "$$ bc = rt, rr, \\theta\\theta, \\phi\\phi, tt $$"
   ]
  },
  {
   "cell_type": "markdown",
   "id": "32e7daa8",
   "metadata": {},
   "source": [
    "Now, this is almost the list we originally proposed, save for tt. What does tt accomplish, though? Well, it makes every metric evaluate to -1 in the left half (which vanish upon derivatives). On the right half, it ends up trying to take time derivatievs of h'. h' is a function of r only, not t. Thus, it vanishes as well, resulting in zero for tt. "
   ]
  },
  {
   "cell_type": "markdown",
   "id": "52a7a252",
   "metadata": {},
   "source": [
    "Now, what of rt, we know that has to go. On the left side, this also results in attempts of taking time derivatives of h', which goes nowhere. On the right side, however, we end up with h'' - h'' as we were taking r derivatives, but they cancel to zero as well. This just leaves us the ones we know have a result: $rr, \\theta\\theta, \\phi\\phi$ Middle one first since we have a result for that.\n",
    "\n",
    "$$ {}^{(4)}\\Gamma^t_{\\theta\\theta} = \\frac12 (-1+(h')^2) (\\partial_\\theta g_{t\\theta} + \\partial_\\theta g_{t\\theta} - \\partial_t g_{\\theta\\theta}) - \\frac12 h'(\\partial_\\theta g_{r\\theta} + \\partial_\\theta g_{r\\theta} - \\partial_r g_{\\theta\\theta}) $$ \n",
    "$$  = \\frac12 h'( \\partial_r g_{\\theta\\theta}) $$ \n",
    "$$  = \\frac12 h' 2r $$ \n",
    "$$ = rh' $$\n",
    "\n",
    "Which matches our hint. "
   ]
  },
  {
   "cell_type": "markdown",
   "id": "1f26e32f",
   "metadata": {},
   "source": [
    "$$ {}^{(4)}\\Gamma^t_{\\phi\\phi} = \\frac12 (-1+(h')^2) (\\partial_\\phi g_{t\\phi} + \\partial_\\phi g_{t\\phi} - \\partial_t g_{\\phi\\phi}) - \\frac12 h'(\\partial_\\phi g_{r\\phi} + \\partial_\\phi g_{r\\phi} - \\partial_r g_{\\phi\\phi}) $$ \n",
    "$$  = \\frac12 h'(\\partial_r g_{\\phi\\phi}) $$ \n",
    "$$  = \\frac12 h'2rsin^2\\theta $$ \n",
    "$$  =  rh'sin^2\\theta $$ "
   ]
  },
  {
   "cell_type": "markdown",
   "id": "e6981985",
   "metadata": {},
   "source": [
    "$$ {}^{(4)}\\Gamma^t_{rr} = \\frac12 (-1+(h')^2) (\\partial_r g_{tr} + \\partial_r g_{tr} - \\partial_t g_{rr}) - \\frac12 h'(\\partial_r g_{rr} + \\partial_r g_{rr} - \\partial_r g_{rr}) $$ \n",
    "$$  =  (-1+(h')^2) (\\partial_r g_{tr}) - \\frac12 h'(\\partial_r g_{rr}) $$\n",
    "$$  =  (1-(h')^2) h'' + \\frac12 h' 2 h' h'' $$\n",
    "$$  =  h''-(h')^2h'' + (h')^2 h'' $$\n",
    "$$  = h'' $$"
   ]
  },
  {
   "cell_type": "markdown",
   "id": "e43fcb80",
   "metadata": {},
   "source": [
    "$$ {}^{(4)}\\Gamma^t_{bc} = \\begin{bmatrix}\n",
    "0 & 0 & 0 & 0 \\\\\n",
    "0 & h'' & 0 & 0 \\\\\n",
    "0 & 0 & rh' & 0 \\\\\n",
    "0 & 0 & 0 & rh'sin^2\\theta \\\\\n",
    "\\end{bmatrix}$$\n",
    "\n",
    "And it is now complete! "
   ]
  },
  {
   "cell_type": "markdown",
   "id": "87a1f6f1",
   "metadata": {},
   "source": [
    "*d) Now insert your results into 2.53 to find the extrinsic curvature $K_{ij}$. $K_{\\theta\\theta} = -\\alpha r h'$.*"
   ]
  },
  {
   "cell_type": "markdown",
   "id": "24f15db8",
   "metadata": {},
   "source": [
    "$$ K_{ab} = -\\gamma^c_a \\gamma^d_b \\nabla_c n_d$$\n",
    "$$ = -\\gamma^c_a \\gamma^d_b (\\partial_c n_d - n_t {}^{(4)}\\Gamma^t_{cd})$$\n"
   ]
  },
  {
   "cell_type": "markdown",
   "id": "e4d667d1",
   "metadata": {},
   "source": [
    "Now we should go grab the various n-values we calculated already in the unprimed frame.\n",
    "\n",
    "$$ n_a = -\\alpha(1,0,0,0) $$\n",
    "\n",
    "$$ n^a = \\alpha(1-h', h',0,0) $$\n",
    "\n",
    "Also the projection operator.\n",
    "\n",
    "$$ \\gamma^a_b = \\begin{bmatrix}\n",
    "0 & 0 & 0 & 0 \\\\\n",
    "-\\alpha^2h' & 1 & 0 & 0 \\\\\n",
    "0 & 0 & 1 & 0 \\\\\n",
    "0 & 0 & 0 & 1 \\\\\n",
    "\\end{bmatrix}$$"
   ]
  },
  {
   "cell_type": "markdown",
   "id": "e4bdb86c",
   "metadata": {},
   "source": [
    "And it is becoming rather clear that even with all the zeroes this isn't exactly giong to be a simple reasult. We can, however, replace the t-component. \n",
    "\n",
    "$$ = -\\gamma^c_a \\gamma^d_b (\\partial_c n_d + \\alpha {}^{(4)}\\Gamma^t_{cd})$$"
   ]
  },
  {
   "cell_type": "markdown",
   "id": "d98eb55e",
   "metadata": {},
   "source": [
    "We see a potential problem: what if we have to evaluate $\\partial_r n_t$? That will only occur if c=r and d=t. Which will never happen. We note that the top row of the projeciton operator is all zeroes, so d=t will always go to nothing. Thus the partial derivative never evaluates to anything and can be ignored. (What of the portions of the vector that are zero? Well, the normal vector may change based on $\\alpha$, but from our observation standpoint the first term is the ONLY term, the other three are always going to be zero. So we can just utterly ignore the term. \n",
    "\n",
    "$$ = -\\gamma^c_a \\gamma^d_b \\alpha {}^{(4)}\\Gamma^t_{cd}$$\n",
    "\n",
    "No matter what a and b are, the sum over c and d always occurs in its entirity. Fortunately the Christoffels only exist for three of these. \n",
    "\n",
    "$$ = -\\gamma^r_a \\gamma^r_b \\alpha {}^{(4)}\\Gamma^t_{rr} -\\gamma^\\theta_a \\gamma^\\theta_b \\alpha {}^{(4)}\\Gamma^t_{\\theta\\theta}-\\gamma^\\phi_a \\gamma^\\phi_b \\alpha {}^{(4)}\\Gamma^t_{\\phi\\phi}$$\n",
    "\n",
    "$$ = -\\gamma^r_a \\gamma^r_b \\alpha h'' -\\gamma^\\theta_a \\gamma^\\theta_b \\alpha rh' -\\gamma^\\phi_a \\gamma^\\phi_b \\alpha rh'sin^2\\theta$$"
   ]
  },
  {
   "cell_type": "markdown",
   "id": "dbaee96c",
   "metadata": {},
   "source": [
    "No, we're still not done... a and b are now the indexes on our final $K_{ab}$ matrix. Both terms need to exist for this to work. The locaitons are rt, rr, $\\theta\\theta$, and $\\phi\\phi$ for the projection operator. This means that ab has the options rr, rt, tr, tt, $\\theta\\theta$, $\\phi\\phi$, all others are zero. \n",
    "\n",
    "The angular ones are simple, as they are just 1, they evaluate straight as the last two terms. We even get $-\\alpha rh'$ for $\\theta\\theta$ as we should.\n",
    "\n",
    "Now all we have to worry about is the first term:\n",
    "\n",
    "$$ \\Rightarrow -\\gamma^r_a \\gamma^r_b \\alpha h'' $$\n",
    "\n",
    "In the case of ab=rr this is just antoher 1 case, simple. \n",
    "\n",
    "But what of the other three cases? \n",
    "\n",
    "However, the other cases produce extra terms of $-\\alpha^2h'$ and $\\alpha^4(h')^2$ Thus..."
   ]
  },
  {
   "cell_type": "markdown",
   "id": "b2ff9305",
   "metadata": {},
   "source": [
    "$$ K_{ab} = \\begin{bmatrix}\n",
    "-\\alpha^5(h')^2 h'' & \\alpha^3 h' h'' & 0 & 0 \\\\\n",
    "\\alpha^3 h' h'' & -\\alpha h'' & 0 & 0 \\\\\n",
    "0 & 0 & -\\alpha rh' & 0 \\\\\n",
    "0 & 0 & 0 & -\\alpha rh' sin^2\\theta \\\\\n",
    "\\end{bmatrix}$$"
   ]
  },
  {
   "cell_type": "markdown",
   "id": "fb770052",
   "metadata": {},
   "source": [
    "The answers say the lower three diagonal terms are correct, but implies that the three top left terms are supposed to be 0. Curious. How can the three diagonal terms be absoltuely right and the others not? \n",
    "\n",
    "THE REASON: the spatial projection operator projects things to be spatial in relation to the normal vector. **The Normal Vector for this problem is not temporal, that is, not of the form (a,0,0,0).** In fact, it is given by $(\\frac1\\alpha , \\alpha h', 0 , 0)$ So, if we double contract the tensor, we should get zero. \n",
    "\n",
    "$$ n^an^bK_{ab} = 0? $$\n",
    "\n",
    "Which only the top left quadrant provides anything to...\n",
    "\n",
    "$$-\\alpha^3 (h')^2h'' + \\alpha^3 (h')^2 h'' + \\alpha^3 (h')^2 h'' - \\alpha^3 (h')^2 h'' = 0$$\n",
    "\n",
    "Which means, yes, K is purely spatial by the definition OF spatial! (This even works with just one vector applied to it, though it results in the zero vector (0,0,0,0) rather than zero itself). \n",
    "\n",
    "Which means that our answer checks out. The three coordinates given in the answers are correct, but the three in the top corner do NOT need to be zero, by the definition of spatial-ness!\n",
    "\n",
    "That said... we would now like to figure out what the extrinsic curvature for a (1,0,0,0) vector would be. Consider this a bonus challenge. We actually already have a relation for something similar, as the one-form is (-1,0,0,0). So if we can just identify the transofrmation that takes the vector to the one-form, we can transform the extrinsic curvature in the same way. \n",
    "\n",
    "We can reduce this to a 2D problem since the angular dependenceis are irrelevant, which means we are looking for the transformation:\n",
    "\n",
    "$$ \\lambda_{ab}(\\frac1\\alpha, \\alpha h') = (-\\alpha, 0) $$\n",
    "\n",
    "We know the transformation has to be symmetric, but that leaves us with three unknowns. Three unknowns, two equations. Since our transformation is symmetric we don't have to worry about index order. "
   ]
  },
  {
   "cell_type": "markdown",
   "id": "5d1b6010",
   "metadata": {},
   "source": [
    "$$ a + c \\alpha^2 h' = -\\alpha^2 $$\n",
    "$$ c + d \\alpha^2 h' = 0 $$\n",
    "\n",
    "We do know that we want, when we apply the inverse transformation to the extrinsic curvature matrix, to end up with zeroes in three positions. Basically, is there a matrix that satisfies both the above and...\n",
    "\n",
    "$$ -a \\alpha^5 (h')^2 h'' + c \\alpha^3 h' h'' = 0 $$\n",
    "$$ a \\alpha^3 h' h'' - c \\alpha h'' = 0 $$\n",
    "$$ -c \\alpha^5 (h')^2 h'' + d \\alpha^3 h' h'' = 0 $$\n",
    "\n",
    "Now this is more information. The top two aren't the best though as they are just linear combinations and not truly independent, but we can still work with this, especially relating the previous two equations. \n",
    "\n",
    "$$ c = a\\alpha^2 h' $$\n",
    "$$ c = \\frac{d}{\\alpha^2 h'}$$\n",
    "$$ d = a\\alpha^4 (h')^2 $$\n",
    "\n",
    "$$ a = \\frac{-\\alpha^2}{1+\\alpha^2 (h')^2} = \\frac{-\\alpha^2}{1+\\alpha^2 (h')^2} $$\n",
    "\n",
    "Since we know what $\\alpha$ is we can substitute it and this gives us a chance to use SYMPY!"
   ]
  },
  {
   "cell_type": "code",
   "execution_count": 15,
   "id": "3e93fc3f",
   "metadata": {},
   "outputs": [
    {
     "name": "stdout",
     "output_type": "stream",
     "text": [
      "1\n",
      "simplified version of\n"
     ]
    },
    {
     "data": {
      "text/latex": [
       "$\\displaystyle \\frac{1}{\\left(1 - x^{2}\\right) \\left(\\frac{x^{2}}{1 - x^{2}} + 1\\right)}$"
      ],
      "text/plain": [
       "1/((1 - x**2)*(x**2/(1 - x**2) + 1))"
      ]
     },
     "execution_count": 15,
     "metadata": {},
     "output_type": "execute_result"
    }
   ],
   "source": [
    "\n",
    "import sympy as sym\n",
    "x = sym.symbols('x')\n",
    "func = (1 / (1-x*x))/(1+(x*x)*(1/(1-x*x)))\n",
    "func2 = sym.simplify(func)\n",
    "\n",
    "print(func2)\n",
    "print(\"simplified version of\")\n",
    "func"
   ]
  },
  {
   "cell_type": "markdown",
   "id": "e9f41b80",
   "metadata": {},
   "source": [
    "Pff, okay, so a=1. \n",
    "\n",
    "Which makes c=$\\alpha^2 h'$ and d=$\\alpha^4 (h')^2$\n",
    "\n",
    "Now, the question is, does this still satisfy our original requirements? ...No, it does not, dangit. The transformation may not exist. Oh well, this was me trying to go above and beyond anyway. "
   ]
  },
  {
   "cell_type": "markdown",
   "id": "d95039f7",
   "metadata": {},
   "source": [
    "This is what we hope the other form is, if it even exists. \n",
    "\n",
    "$$ K_{ab} = \\begin{bmatrix}\n",
    "0 & 0 & 0 & 0 \\\\\n",
    "0 & -\\alpha h'' & 0 & 0 \\\\\n",
    "0 & 0 & -\\alpha rh' & 0 \\\\\n",
    "0 & 0 & 0 & -\\alpha rh' sin^2\\theta \\\\\n",
    "\\end{bmatrix}$$\n",
    "\n",
    "Note that this is the result if the gamma-matrices are transposed as to what they are \"supposed\" to be. Almost like all the components were transformed... "
   ]
  },
  {
   "cell_type": "markdown",
   "id": "0135ec28",
   "metadata": {},
   "source": [
    "<a id='P9'></a>\n",
    "\n",
    "# Problem 9 \\[Back to [top](#toc)\\]\n",
    "$$\\label{P9}$$\n",
    "\n",
    "*Show that a normal observer measures the magnetic field $B^a$ to be $B^a = \\epsilon^{abc} D_b A^\\perp_c$ where $\\epsilon^{abc} = n_d\\epsilon^{dabc}$ is the spatial Levi-Civita tensor. Hint: use part b of **Problem 2**.*"
   ]
  },
  {
   "cell_type": "markdown",
   "id": "59e112f6",
   "metadata": {},
   "source": [
    "\" Show that an observer with (arbitrary) four-velocity $u^a$ will measure the electric field to be $E^a = F^{ab}u_b$ and the magnetic field to be $B^a = \\epsilon^{abcd}u_b F_{dc}/2$. \" "
   ]
  },
  {
   "cell_type": "markdown",
   "id": "8c2d17b3",
   "metadata": {},
   "source": [
    "Well, we did that (with much sweat, tears, and confusion), so now we just need to play funky with operators and indeces. \n",
    "\n",
    "BEWARE: DO NOT TRUST THE LEVI-CIVITA TENSOR, WATCH FOR SIGN FLIPS. \n",
    "\n",
    "$$ B^a = \\frac12 \\epsilon^{abcd} u_b F_{dc}  $$\n",
    "\n",
    "$$ = -\\frac12 \\epsilon^{bacd} u_b F_{dc} $$\n",
    "\n",
    "$$ = -\\frac12 \\epsilon^{acd} F_{dc} $$\n",
    "\n",
    "$$ = -\\frac12 \\epsilon^{abc} F_{cb} $$\n",
    "\n",
    "$$ = \\frac12 \\epsilon^{abc} F_{bc} $$\n",
    "\n",
    "$$ = \\frac12 \\epsilon^{abc} ( D_bA_c^\\perp - D_cA_b^\\perp + n_bE_c - n_cE_b ) $$\n",
    "\n",
    "IN COMPLETE GENERALITY, anything of the form bc-cb summed over b and c with a contraction by the $\\epsilon^{abc} $ will become 2bc-2cb (when indeces are replaced), which can be represented by just 2bc.\n",
    "\n",
    "$$ = \\frac12 \\epsilon^{abc} ( 2D_bA_c^\\perp + 2n_bE_c ) $$\n",
    "\n",
    "$$ = \\epsilon^{abc} ( D_bA_c^\\perp + n_bE_c ) $$\n",
    "\n",
    "via 2.67. Note that $n_a$ is here. And that we are NORMAL OBSERVERS. Which means that only the t component exists, for every other component the E term vanishes and we have what we want. However, there are REMAINING terms... Let's look at those. One might say that, since we have the spatial LC tensor, that no t-terms can exist at all... which is true! Remember, $n_d$ only exists on $n_t$ meaning the contraction forces $\\epsilon^{tabc}$, meaning of abc none of them are ALLOWED to take the t value! When we performed the contraction we DID restrict the options. This means that, since b cannot be t, the electric term vanishes. \n",
    "\n",
    "$$ = \\epsilon^{abc} (D_bA_c^\\perp ) $$"
   ]
  },
  {
   "cell_type": "markdown",
   "id": "b8ed7b84",
   "metadata": {},
   "source": [
    "<a id='P10'></a>\n",
    "\n",
    "# Problem 10 \\[Back to [top](#toc)\\]\n",
    "$$\\label{P10}$$\n",
    "\n",
    "*Show that the acceleration of a normal observer 2.59 is related to the lapse $\\alpha$ according to $a_a = D_a ln\\alpha$. HInt: This requires several steps. Insert $n_a = -\\alpha\\nabla_a t$ into the definition of $a_a$, commute the second derivatives of t, use $n^b\\nabla_an_b=0$, and finally recall the definition of the spatial covariant derivative.*"
   ]
  },
  {
   "cell_type": "markdown",
   "id": "db8383a0",
   "metadata": {},
   "source": [
    "The larger book has an ecplicit statement of the spatial covariant derivative acting on a scalar: $D_a f = \\gamma^b_a \\nabla_b f$"
   ]
  },
  {
   "cell_type": "markdown",
   "id": "863f6611",
   "metadata": {},
   "source": [
    "We remember this problem from the larger Numerical Relativity book. No, we couldn't solve it there, but maybe the hints here will assist. \n",
    "\n",
    "$$ a_a = n^b \\nabla_b n_a $$\n",
    "\n",
    "$$ \\Rightarrow a_a = - n^b \\nabla_b \\alpha \\nabla_a t $$\n",
    "\n",
    "$$ \\Rightarrow a_a = - n^b \\alpha \\nabla_b \\nabla_a t - n^b (\\nabla_b \\alpha) (\\nabla_a t)   $$\n",
    "\n",
    "$$ \\Rightarrow a_a = - n^b \\alpha \\nabla_a \\nabla_b t - n^b (\\nabla_b \\alpha) (\\nabla_a t)   $$\n",
    "\n",
    "$$ \\Rightarrow a_a = + \\alpha n^b \\nabla_a \\frac1\\alpha n_b - n^b (\\nabla_b \\alpha) (\\nabla_a t)   $$\n",
    "\n",
    "$$ \\Rightarrow a_a = n^b \\nabla_a n_b + \\alpha n^b n_b \\nabla_a \\frac1\\alpha - n^b (\\nabla_b \\alpha) (\\nabla_a t)   $$\n",
    "\n",
    "$$ \\Rightarrow a_a = 0 - \\alpha \\nabla_a \\frac1\\alpha - n^b (\\nabla_b \\alpha) (\\nabla_a t)   $$\n",
    "\n",
    "$$ \\Rightarrow a_a = - \\alpha \\nabla_a \\frac1\\alpha + n^b n_a \\frac1\\alpha (\\nabla_b \\alpha)    $$\n",
    "\n",
    "$$ \\Rightarrow a_a = - \\alpha \\nabla_a \\frac1\\alpha + (\\gamma^b_a - \\delta^b_a) (\\nabla_b ln \\alpha)    $$\n",
    "\n",
    "$$ \\Rightarrow a_a = \\nabla_a ln\\alpha + D_a ln\\alpha - \\delta^b_a \\nabla_b ln \\alpha    $$\n",
    "\n",
    "$$ \\Rightarrow a_a = \\nabla_a ln\\alpha + D_a ln\\alpha - \\nabla_a ln \\alpha    $$\n",
    "\n",
    "$$ \\Rightarrow a_a = D_a ln\\alpha $$\n",
    "\n",
    "Wow, that was jumping through QUITE a few hoops right there. This also answers a problem in the normal Numerical Relativity book. \n",
    "\n",
    "EDIT: since when we went over this we got confused, remember, $\\alpha \\nabla_a \\frac1\\alpha = - \\frac1\\alpha \\nabla_a \\alpha$ due to the way fractional logs work--they are subtractions. ln(1) = 0, as a reminder. "
   ]
  },
  {
   "cell_type": "markdown",
   "id": "37779327",
   "metadata": {},
   "source": [
    "<a id='P11'></a>\n",
    "\n",
    "# Problem 11 \\[Back to [top](#toc)\\]\n",
    "$$\\label{P11}$$\n",
    "\n",
    "*In general the Lie derivative along a vector field $w^a$ of a scalar $\\psi$ is*\n",
    "\n",
    "$$ \\mathcal{L}_w \\psi = w^b \\nabla_b \\psi $$\n",
    "\n",
    "*that of a contravariant vector field $v^a$ is the commutator $[w^b,v^a]$,*\n",
    "\n",
    "$$ \\mathcal{L}_w v^a = [w^b,v^a] = w^b \\nabla_b v^a - v^b \\nabla_b w^a $$\n",
    "\n",
    "*and that of a covariant vector field $v_a$ is*\n",
    "\n",
    "$$ \\mathcal{L}_w v_a = w^b \\nabla_b v_a + v_b \\nabla_a w^b $$\n",
    "\n",
    "*Use the first two equations to derive the third.*"
   ]
  },
  {
   "cell_type": "markdown",
   "id": "eb43ba70",
   "metadata": {},
   "source": [
    "Source [6](#6) From Leo Werneck was unbelievably helpful here, both in understanding what the Lie Derivative was, AND in the trick required to make this work. The trick? $v_av^a$ is a scalar. So...\n",
    "\n",
    "$$ \\mathcal{L}_w (v_av^a) = w^b \\nabla_b (v_av^a) $$\n",
    "\n",
    "$$ = w^b v_a \\nabla_b v^a + w^b v^a \\nabla_b v_a $$\n",
    "\n",
    "But the Lie derivative itself ALSO obeys the product rule, so we have:\n",
    "\n",
    "$$ \\mathcal{L}_w (v_av^a) = v_a \\mathcal{L}_w v^a + v^a \\mathcal{L}_w v_a $$"
   ]
  },
  {
   "cell_type": "markdown",
   "id": "13c65fa2",
   "metadata": {},
   "source": [
    "Which means... we can make some substitutionas as we already know what the lie derivative of a VECTOR is...\n",
    "\n",
    "$$ \\Rightarrow w^b v_a \\nabla_b v^a + w^b v^a \\nabla_b v_a = v_a (w^b \\nabla_b v^a - v^b \\nabla_b w^a) + v^a \\mathcal{L}_w v_a $$"
   ]
  },
  {
   "cell_type": "markdown",
   "id": "50da0440",
   "metadata": {},
   "source": [
    "Cancel terms and simplify. \n",
    "\n",
    "$$ \\Rightarrow w^b v^a \\nabla_b v_a + v_a v^b \\nabla_b w^a = v^a \\mathcal{L}_w v_a $$\n",
    "\n",
    "Adjust indeces\n",
    "\n",
    "$$ \\Rightarrow w^b v^a \\nabla_b v_a + v_b v^a \\nabla_a w^b = v^a \\mathcal{L}_w v_a $$\n",
    "\n",
    "Remove the leading v. \n",
    "\n",
    "$$ \\Rightarrow w^b \\nabla_b v_a + v_b \\nabla_a w^b = \\mathcal{L}_w v_a $$\n",
    "\n",
    "Which is exactly what we sought. "
   ]
  },
  {
   "cell_type": "markdown",
   "id": "8db79f0e",
   "metadata": {},
   "source": [
    "<a id='P12'></a>\n",
    "\n",
    "# Problem 12 \\[Back to [top](#toc)\\]\n",
    "$$\\label{P12}$$\n",
    "\n",
    "*Show that all terms involcing Christoffel symbols in 2.73 cancel, so that we may also write the Lie derivative in terms of partial derivatives.*\n",
    "\n",
    "$$ \\mathcal{L}_n A^\\perp_d = n^c \\partial_c A^\\perp_d + A^\\perp_c \\partial_d n^c $$\n",
    "\n",
    "*This is a general property of Lie derivatives.*\n",
    "\n",
    "This was solved in **Problem A.1** for Tensors in the big Numerical Relativity book, see NR-02 notebook. It should, in theory, be simpler for the one=form verison. "
   ]
  },
  {
   "cell_type": "markdown",
   "id": "cf3df25c",
   "metadata": {},
   "source": [
    "What we ultimately need here is to show that every Christoffel term vanishes, leaving only the partial derivative terms. For that, we turn to our book on General Relativity. Equations 6.33 through 6.35 give us all the information we need about covariant derivatives acting on tensors. We're also going to leave off the perpendicular symbol since this is a general rule. \n",
    "\n",
    "$$ 0 = - n^c \\Gamma^u_{cd} A_u + A_c \\Gamma^c_{ud} n^u $$\n",
    "\n",
    "Now since these terms are independent, some clever index rearranging can give us..\n",
    "\n",
    "$$ = - n^c \\Gamma^u_{cd} A_u + A_u \\Gamma^u_{cd} n^c $$\n",
    "\n",
    "$$ = 0 $$\n",
    "\n",
    "Which is exactly what we needed to show. "
   ]
  },
  {
   "cell_type": "markdown",
   "id": "1856b7f2",
   "metadata": {},
   "source": [
    "<a id='P13'></a>\n",
    "\n",
    "# Problem 13 \\[Back to [top](#toc)\\]\n",
    "$$\\label{P13}$$\n",
    "\n",
    "*Verify equation 2.79*\n",
    "\n",
    "$$\\alpha \\mathcal{L}_n A^\\perp_d = \\mathcal{L}_{\\alpha n} A^\\perp_d = \\mathcal{L}_t A^\\perp_d - \\mathcal{L}_\\beta A^\\perp_d $$\n",
    "\n",
    "Once again we will leave the perpendicular notaiton off since it's irrelevant to this problem. "
   ]
  },
  {
   "cell_type": "markdown",
   "id": "27df55b4",
   "metadata": {},
   "source": [
    "2.78 gives us the definition $\\alpha n^a = t^a - \\beta^a$. \n",
    "\n",
    "Let's start completely from the left.\n",
    "\n",
    "$$\\alpha \\mathcal{L}_n A_d =  \\alpha n^c \\nabla_c A_d + \\alpha A_c \\nabla_d n^c$$\n",
    "\n",
    "Since A is known to be spatial, we can apply 2.71, shuffling the order and sign of the second term. \n",
    "\n",
    "$$ =  \\alpha n^c \\nabla_c A_d - \\alpha n^c \\nabla_d A_c $$\n",
    "\n",
    "Now, treat $\\alpha n^c$ as a singular object. It only has index c so we can use 2.71 again. \n",
    "\n",
    "$$ =  \\alpha n^c \\nabla_c A_d + A_c \\nabla_d \\alpha n^c $$\n",
    "\n",
    "$$ = \\mathcal{L}_{\\alpha n} A_d $$\n",
    "\n",
    "And we're one step closer. The last step is rather trivial and doens't really involve tricks. Revert to previous step:\n",
    "\n",
    "$$ =  \\alpha n^c \\nabla_c A_d + A_c \\nabla_d \\alpha n^c $$\n",
    "\n",
    "Replace everything with the definition 2.78.\n",
    "\n",
    "$$ =  t^c \\nabla_c A_d + A_c \\nabla_d t^c - \\beta^c \\nabla_c A_d - A_c \\nabla_d \\beta^c $$\n",
    "\n",
    "$$ = \\mathcal{L}_t A^\\perp_d - \\mathcal{L}_\\beta A^\\perp_d $$\n"
   ]
  },
  {
   "cell_type": "markdown",
   "id": "a94357e5",
   "metadata": {},
   "source": [
    "<a id='P14'></a>\n",
    "\n",
    "# Problem 14 \\[Back to [top](#toc)\\]\n",
    "$$\\label{P14}$$\n",
    "\n",
    "*Derive 2.83. Hint: As before, you can start with $\\nabla_a F^{ab} = g^b_c \\nabla_a F^{ac} = (\\gamma^b_c - n^bn_c)\\nabla_a F^{ac}$, then insert 2.67 in to the first term, make the identificaitons $E^a = n_c F^{ac}$ as well as $\\nabla_a n_c = -K_{ac} -n_aa_c$ (see 2.61) in the second term, and show that $D_aE^a = \\nabla_a E^a - E^aa_a$.*\n",
    "\n",
    "2.83: $ \\nabla_a F^{ab} = \\gamma^b_c (\\mathcal{L}_n E^c - E^c K + \\nabla_a (D^a A^c_\\perp - D^c A^a_\\perp)) - n^b D_a E^a $"
   ]
  },
  {
   "cell_type": "markdown",
   "id": "182df0ba",
   "metadata": {},
   "source": [
    "2.67: $F^{ab} = D^a A^b_\\perp - D^b A^a_\\perp + n^aE^b - n^bE^a$"
   ]
  },
  {
   "cell_type": "markdown",
   "id": "cf287371",
   "metadata": {},
   "source": [
    "Okay so contrary to appearances this is actually a LONG problem, and filled up almost my entire scratch work sheet for the day! That's impressive! But it does work out completley in the end, just... bear with me as we go through it in potentially too much detail. \n",
    "\n",
    "MORAL OF THE DAY: just because something goes to zero doesn't mean you want to get rid of it! You may need those terms later! \n",
    "\n",
    "This is going to expand tremendously, so let's just start from the start. \n",
    "\n",
    "$$\\nabla_a F^{ab} = g^b_c \\nabla_c F^{ac} = \\gamma^a_c \\nabla_a F^{ac} - n^bn_c\\nabla_aF^{ac}$$\n",
    "\n",
    "And now we already have to split up, since BOTH of these terms are going to be their own thing. Notably, they easily map to terms in the answer 2.83. The left term corresponds to the gamma-term in parentheses, and the other term corresponds to the other part (the temporal part). \n",
    "\n",
    "So... spatial first since that's what we did first in our notes. "
   ]
  },
  {
   "cell_type": "markdown",
   "id": "4c45831e",
   "metadata": {},
   "source": [
    "$$\\gamma^a_c \\nabla_a F^{ac} = \\gamma^a_c \\nabla_a (D^a A_\\perp^c - D^c A_\\perp^a + n^aE^c - n^cE^a)$$\n",
    "\n",
    "Now, right away we actually have two of the terms we need: the D-terms have the $\\nabla_a$ acting on them, making up the nested portion of the answer in 2.83. So we can afford to not write them down anymore and just focus on the E-terms. And boy, do these E-terms have some funky chicken attached to them.\n",
    "\n",
    "$$ \\gamma^a_c (\\nabla_a n^aE^c - \\nabla_a n^cE^a) = \\gamma^a_c (\\nabla_a n^a n_a F^{ca} - \\nabla_a n^c n_c F^{ac}) $$\n",
    "\n",
    "Now we can apply the product rule to get what we like to call \"a mess\" \n",
    "\n",
    "$$ = \\gamma^a_c ( n_a F^{ca}\\nabla_an^a + n^a F^{ca}\\nabla_a n_a + n^a n_a \\nabla_aF^{ca} - n_c F^{ac} \\nabla_a n^c - n^c F^{ac} \\nabla_a n_c - n^c n_c \\nabla_a F^{ac}) $$\n",
    "\n",
    "Now *several* of these terms can go to zero, but it's actually not convenient for us to do that. We need to keep them around so we can arrange them into the forms we need. Now, exactly HOW we do this is a bit obtuse (and involved a fair bit of working backward from the goal to find!) but we selectively take the terms. \n",
    "\n",
    "First, let's take the following three terms...\n",
    "\n",
    "$$ n^a F^{ca}\\nabla_a n_a + n^a n_a \\nabla_aF^{ca} - n_c F^{ac} \\nabla_a n^c $$\n",
    "\n",
    "One thing we can do here is take a step BACK to get the product rule to act on two parts at once... which we will then identify as E.  \n",
    "\n",
    "$$ = n^a \\nabla_a F^{ca} n_a - n_c F^{ac} \\nabla_a n^c $$\n",
    "\n",
    "$$ = n^a \\nabla_a E^c - E^a \\nabla_a n^c $$\n",
    "\n",
    "$$ = \\mathcal{L}_n E^c $$\n",
    "\n",
    "By the relation on page 66. Which IS one of the terms we wanted. Now, we want to use the OTHER three terms to become the otehr term we need, $-E^cK$"
   ]
  },
  {
   "cell_type": "markdown",
   "id": "ef217083",
   "metadata": {},
   "source": [
    "$$ n_a F^{ca}\\nabla_an^a - n^c F^{ac} \\nabla_a n_c - n^c n_c \\nabla_a F^{ac} $$\n",
    "\n",
    "... this should eventually become the other term but our math was wrong in the notes..."
   ]
  },
  {
   "cell_type": "markdown",
   "id": "26830acf",
   "metadata": {},
   "source": [
    "SANITY CHECK\n",
    "\n",
    "$$ -E^c K $$\n",
    "\n",
    "$$ = -E^c g^{ab} K_{ab} $$\n",
    "\n",
    "$$ = -n_b F^{cb} g^{ab} (-\\nabla_a n_b - n_a a_a) $$\n",
    "\n",
    "$$ = n_b F^{cb} g^{ab} \\nabla_a n_b + n_b F^{cb} g^{ab} n_a a_a $$\n",
    "\n",
    "$$ = n_b F^{cb} g^{ab} \\nabla_a n_b + n_b F^{cb} g^{ab} n_a n^b \\nabla_b n_a $$\n",
    "\n",
    "$$ = n_b F^{cb} g^{ab} \\nabla_a n_b - F^{cb} g^{ab} n_a \\nabla_b n_a $$\n",
    "\n",
    "$$ = n^a F^{cb} \\nabla_a n_b - F^{cb} n^b \\nabla_b n_a $$\n",
    "\n",
    "$$ = n_b F^{cb} \\nabla_a n^a - F^{cb} n_a \\nabla_b n^b $$\n",
    "\n",
    "$$ = E^c \\nabla_a n^a - F^{cb} n_a \\nabla_b n^b $$"
   ]
  },
  {
   "cell_type": "markdown",
   "id": "48ef0c1c",
   "metadata": {},
   "source": [
    "$$ - F^{cb} n_a \\nabla_b n^b = - n^c F^{ac} \\nabla_a n_c - n^c n_c \\nabla_a F^{ac} $$"
   ]
  },
  {
   "cell_type": "markdown",
   "id": "9aecad00",
   "metadata": {},
   "source": [
    "Upon completion we have:\n",
    "\n",
    "$$\\gamma^a_c \\nabla_a F^{ac} = \\gamma^a_c (\\mathcal{L}_n E^c - E^c K + \\nabla_a (D^a A^c_\\perp - D^c A^a_\\perp))$$\n",
    "\n",
    "NOW we move onto the temporal term. However, before we do that, the problem statement implies we should prove a statement we're about to use, so let's do that. \n",
    "\n"
   ]
  },
  {
   "cell_type": "markdown",
   "id": "2b3cfc5c",
   "metadata": {},
   "source": [
    "The relation in question is $D_a E^a = \\nabla_a E^a - E^a a_a$\n",
    "\n",
    "Let's just work it out. \n",
    "\n",
    "$$ D_a E^a = \\gamma^c_a \\gamma^a_d \\nabla_c E^d $$\n",
    "\n",
    "$$ = \\gamma^c_d \\nabla_c E^d $$\n",
    "\n",
    "$$ = \\delta^c_d \\nabla_c E^d + n^c n_d \\nabla_c E^d $$\n",
    "\n",
    "$$ = \\nabla_d E^d - E^d n^c \\nabla_c n_d $$\n",
    "\n",
    "$$ = \\nabla_dE^d- E^d a_d $$\n",
    "\n",
    "$$ = \\nabla_a E^a - E^a a_a $$\n",
    "\n",
    "So it's proven. That said, a note: at one point we use 2.71, since E is spatial, but on the reverse indeces. However, the reverse indeces does not change the relation since the metric can move in and out at will and no other terms in the series have a d in them. $v^dw_d = v_dw^d$ after all. So we now have the relation required for our little mathematical funhouse. "
   ]
  },
  {
   "cell_type": "markdown",
   "id": "9db4df10",
   "metadata": {},
   "source": [
    "We have $- n^bn_c\\nabla_aF^{ac}$ we seek $-n^b D_a E^a$. It's much easier to go backward since what we end up with is a cancellation, so it's going to look like we're pulling terms out of nowhere for a second here. But it'll all work out. \n",
    "\n",
    "$$ - n^bn_c\\nabla_aF^{ac} = - n^bn_c\\nabla_aF^{ac} -n^b F^{ac} \\nabla_a n_c + n^b F^{ac} \\nabla_a n_c  $$\n",
    "\n",
    "$$ = - n^bn_c\\nabla_aF^{ac} -n^b F^{ac} \\nabla_a n_c - n^b F^{ca} \\nabla_a n_c $$\n",
    "\n",
    "$$ = - n^bn_c\\nabla_aF^{ac} -n^b F^{ac} \\nabla_a n_c - n^b F^{ac} \\nabla_c n_a $$\n",
    "\n",
    "$$ = - n^bn_c\\nabla_aF^{ac} -n^b F^{ac} \\nabla_a n_c + n_c n^c n^b F^{ac} \\nabla_c n_a $$\n",
    "\n",
    "$$ = - n^b  \\nabla_a n_c F^{ac} + n_c n^b F^{ac} a_a$$\n",
    "\n",
    "$$ = - n^b \\nabla_a E^a + n^b E^a a_a$$\n",
    "\n",
    "$$ = - n^b D_a E^a $$\n",
    "\n",
    "Note that we used the relation we just proved in the last step. "
   ]
  },
  {
   "cell_type": "markdown",
   "id": "4342408a",
   "metadata": {},
   "source": [
    "Which means we now have everything we need! \n",
    "\n",
    "$$\\nabla_a F^{ab} = \\gamma^a_c \\nabla_a F^{ac} - n^bn_c\\nabla_aF^{ac} = \\gamma^b_c (\\mathcal{L}_n E^c - E^c K + \\nabla_a (D^a A^c_\\perp - D^c A^a_\\perp)) - n^b D_a E^a $$"
   ]
  },
  {
   "cell_type": "markdown",
   "id": "bdca349f",
   "metadata": {},
   "source": [
    "<a id='P15'></a>\n",
    "\n",
    "# Problem 15 \\[Back to [top](#toc)\\]\n",
    "$$\\label{P15}$$\n",
    "\n",
    "*Derive 2.89*\n",
    "\n",
    "2.89: $\\alpha \\gamma^b_c \\mathcal{L}_n E^c = \\gamma^b_c \\mathcal{L}_{\\alpha n} E^c = \\delta_t E^b - \\mathcal{L}_\\beta E^b$"
   ]
  },
  {
   "cell_type": "markdown",
   "id": "19d900d4",
   "metadata": {},
   "source": [
    "The first step seems to follow immediately from **Problem 13**, but there is a major issue, andt hat major issue is that we can't use 2.71 as the indeces are wrong... EXCEPT as we know from **Problem 14** the index orientation doesn't actually matter. In addition, we can always apply a metric, hold it off to the side, and then put it back in just to ensure matching indeces. So yes, the first step follows immediately. ...or not, examine later. \n",
    "\n",
    "$$\\alpha \\mathcal{L}_n E^c =  \\alpha n^a \\nabla_a E^c - \\alpha E^a \\nabla_a n^c$$\n",
    "\n",
    "We need to get $\\alpha n^c$ together so we can treat it as a single unit. We do know that E is spatial. That does mean the first term goes to zero, but does that help us? "
   ]
  },
  {
   "cell_type": "markdown",
   "id": "572f853f",
   "metadata": {},
   "source": [
    "Assuming the first step, we have:\n",
    "\n",
    "$$\\gamma^b_c \\mathcal{L}_{\\alpha n} E^c =  \\gamma^b_c \\alpha n^a \\nabla_a E^c - \\gamma^b_c E^a \\nabla_a \\alpha n^c$$\n",
    "\n",
    "$$ =  \\gamma^b_c t^a \\nabla_a E^c - \\gamma^b_c E^a \\nabla_a t^a - \\gamma^b_c \\beta^c \\nabla_a E^c + \\gamma^b_c E^a \\nabla_a \\beta^c$$\n",
    "\n",
    "$$ =  \\gamma^b_c \\mathcal{L}_t E^c - \\gamma^b_c \\mathcal{L}_\\beta E^c$$\n",
    "\n",
    "The projection operator is acting upon the Lie derivative... of a purely spatial quantity. So the projection operator can't do anything. So all it does is change the index. \n",
    "\n",
    "$$ = \\mathcal{L}_t E^b - \\mathcal{L}_\\beta E^b$$\n",
    "\n",
    "After all, the lie derivative can't make something *not* spatial. (One could argue that the derivative of zero is not guaranteed to be zero, but E itself is actually an electric field which NEVER has a zero component, so there.) "
   ]
  },
  {
   "cell_type": "markdown",
   "id": "4e8071b6",
   "metadata": {},
   "source": [
    "<a id='P16'></a>\n",
    "\n",
    "# Problem 16 \\[Back to [top](#toc)\\]\n",
    "$$\\label{P16}$$\n",
    "\n",
    "*Retrace the steps of this section to consider the scalar field of Section 2.1 for arbitrary time slices.*\n",
    "\n",
    "*a) Define $\\kappa = -n^a \\nabla_a \\psi$ and show that this may be written as $\\delta_t \\psi = -\\alpha \\kappa + \\mathcal{L}_\\beta \\psi$, where we have used $\\mathcal{L}_\\beta \\psi = \\beta^i \\beta_i \\psi$ for a scalar field.*"
   ]
  },
  {
   "cell_type": "markdown",
   "id": "4e22c5bc",
   "metadata": {},
   "source": [
    "*b) Show that decomposition of the spacetime gradient $\\nabla_a \\psi$ yields. $\\nabla_a \\psi = D_a \\psi + n_a \\kappa$*"
   ]
  },
  {
   "cell_type": "markdown",
   "id": "7e0be869",
   "metadata": {},
   "source": [
    "*c) Now use steps similar to those in **Problem 14** to construc the decomposition of $\\nabla_a\\nabla^a \\psi = g^b_a \\nabla_b \\nabla^a \\psi$. Replace $\\nabla^a \\psi$ with 2.95, insert 2.47 for $g^b_a$, and then use the definition of the extrinsic curvature and the spatial covariant derivative (together with 2.49), as well as properties of the derivatives of the normal vector $n_a$, to show that*\n",
    "\n",
    "$$ \\partial_t \\kappa = -D_a(\\alpha D^a \\psi) + \\alpha \\kappa K + 4\\pi \\alpha\\rho + \\mathcal{L}_\\beta \\kappa $$\n",
    "\n",
    "*Note the remarkable similarity between the pair of equations 2.93 and 2.92 for electrodynamics, and 2.94 and 2.96 for the scalar field.*"
   ]
  },
  {
   "cell_type": "markdown",
   "id": "4a625989",
   "metadata": {},
   "source": [
    "2.95 is just the equation in part b). \n",
    "\n",
    "2.47: $\\gamma^a_b = g^a_b + n^an_b$\n",
    "\n",
    "2.49 is just the fact that apllying the projection operator twice does nothing more than doing it once. "
   ]
  },
  {
   "cell_type": "markdown",
   "id": "9fc0e2c6",
   "metadata": {},
   "source": [
    "<a id='P17'></a>\n",
    "\n",
    "# Problem 17 \\[Back to [top](#toc)\\]\n",
    "$$\\label{P17}$$\n",
    "\n",
    "*We can \"count\" the number of dimensions d of a space by taking the trace of the metric, i.e., d=$g^a_a$. Take the trace of the induced metric $\\gamma_{ab} = g_{ab} + n_a n_b$ to show that the dimension of the spatial slice is one less than that of the spacetime.*\n",
    "\n",
    "This is actually pretty simple. Let's get the trace here by applying a new metric:\n",
    "\n",
    "$$g^{ab}\\gamma_{ab} = g^{ab}g_{ab} + g^{ab}n_a n_b$$\n",
    "\n",
    "$$ \\Rightarrow \\gamma^a_a= g^a_a + n_a n^a$$\n",
    "\n",
    "$$ \\Rightarrow \\gamma^a_a= g^a_a -1$$\n",
    "\n",
    "Which is what we sought to show. "
   ]
  },
  {
   "cell_type": "markdown",
   "id": "e3878f53",
   "metadata": {},
   "source": [
    "<a id='P18'></a>\n",
    "\n",
    "# Problem 18 \\[Back to [top](#toc)\\]\n",
    "$$\\label{P18}$$\n",
    "\n",
    "*Show that the determinant g of the spacetime metric is related to the determinant of the spatial metric by $\\sqrt{-g} = \\alpha \\sqrt{\\gamma}$. Hint: first write $-\\alpha^2 = g^{00} $ and then recall that for any square matrix $A_{ij}$ the following is true: $(A^{-1})_{ij} = cofactorA_{ji}/detA$*"
   ]
  },
  {
   "cell_type": "code",
   "execution_count": null,
   "id": "2a984e26",
   "metadata": {},
   "outputs": [],
   "source": []
  },
  {
   "cell_type": "markdown",
   "id": "df50096e",
   "metadata": {},
   "source": [
    "<a id='latex_pdf_output'></a>\n",
    "\n",
    "# Addendum: Output this notebook to $\\LaTeX$-formatted PDF file \\[Back to [top](#toc)\\]\n",
    "$$\\label{latex_pdf_output}$$\n",
    "\n",
    "The following code cell converts this Jupyter notebook into a proper, clickable $\\LaTeX$-formatted PDF file. After the cell is successfully run, the generated PDF may be found in the root NRPy+ tutorial directory, with filename\n",
    "[MNR-02.pdf](MNR-02.pdf) (Note that clicking on this link may not work; you may need to open the PDF file through another means.)\n",
    "\n",
    "**Important Note**: Make sure that the file name is right in all six locations, two here in the Markdown, four in the code below. \n",
    "\n",
    "* MNR-02.pdf\n",
    "* MNR-02.ipynb\n",
    "* MNR-02.tex"
   ]
  },
  {
   "cell_type": "code",
   "execution_count": 1,
   "id": "abf583ef",
   "metadata": {
    "scrolled": false
   },
   "outputs": [
    {
     "name": "stdout",
     "output_type": "stream",
     "text": [
      "Created NR-02.tex, and compiled LaTeX file to PDF file NR-02.pdf\n"
     ]
    }
   ],
   "source": [
    "import cmdline_helper as cmd    # NRPy+: Multi-platform Python command-line interface\n",
    "cmd.output_Jupyter_notebook_to_LaTeXed_PDF(\"MNR-02\")"
   ]
  },
  {
   "cell_type": "code",
   "execution_count": null,
   "id": "d0d0db4d",
   "metadata": {},
   "outputs": [],
   "source": []
  },
  {
   "cell_type": "code",
   "execution_count": null,
   "id": "41264965",
   "metadata": {},
   "outputs": [],
   "source": []
  }
 ],
 "metadata": {
  "kernelspec": {
   "display_name": "Python 3 (ipykernel)",
   "language": "python",
   "name": "python3"
  },
  "language_info": {
   "codemirror_mode": {
    "name": "ipython",
    "version": 3
   },
   "file_extension": ".py",
   "mimetype": "text/x-python",
   "name": "python",
   "nbconvert_exporter": "python",
   "pygments_lexer": "ipython3",
   "version": "3.10.4"
  }
 },
 "nbformat": 4,
 "nbformat_minor": 5
}
