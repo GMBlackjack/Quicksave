{
 "cells": [
  {
   "cell_type": "markdown",
   "id": "0c1bfe81",
   "metadata": {},
   "source": [
    "# Mini Numerical Relativity Problems Chapter 2: Foliations of Spacetime: Constraint and Evolution Equations\n",
    "\n",
    "## Authors: Gabriel M Steward"
   ]
  },
  {
   "cell_type": "markdown",
   "id": "479540e4",
   "metadata": {},
   "source": [
    "https://github.com/zachetienne/nrpytutorial/blob/master/Tutorial-Template_Style_Guide.ipynb\n",
    "\n",
    "Link to the Style Guide. Not internal in case something breaks. "
   ]
  },
  {
   "cell_type": "markdown",
   "id": "10780970",
   "metadata": {},
   "source": [
    "### </list_source_code> NRPy+ Source Code for this module:\n",
    "None, save the pdf conversion at the bottom of this document.  \n",
    "\n",
    "## Introduction:\n",
    "The normal Numerical Relativity book has proven to be dense and not all that helpful in terms of starting out, so we turn to this simpler, more motivated book in the hopes that it will give us the knowledge needed to reach our goal. \n",
    "\n",
    "## </other>  Other (Optional):\n",
    "In order to fascilitate learning, whenever the opportunity arises Sympy will be used. \n",
    "\n",
    "### Note on Notation:\n",
    "Any new notation will be brought up in the notebook when it becomes relevant. \n",
    "\n",
    "### Citations:\n",
    "\n",
    "<a id='1'></a>\n",
    "[1] http://linearalgebra.math.umanitoba.ca/math1220/section-28.html (Cofactor Expansion)\n",
    "\n",
    "<a id='2'></a>\n",
    "[2] https://www.chilimath.com/lessons/advanced-algebra/inverse-of-a-2x2-matrix/ (Matrix Inverse Formula)"
   ]
  },
  {
   "cell_type": "markdown",
   "id": "56664bc2",
   "metadata": {},
   "source": [
    "<a id='toc'></a>\n",
    "\n",
    "# Table of Contents\n",
    "$$\\label{toc}$$\n",
    "\n",
    "[Problem 1](#P1) (Constraint Satisfaction)\n",
    "\n",
    "[Problem 2](#P2) (EM Relativistic Observations)\n",
    "\n",
    "[Problem A4](#A4) (Appendix Aside: Faraday Tensor Transformation)\n",
    "\n",
    "[Problem C1](#C1) (Appendix Aside: Faraday Tensor Determinant)\n",
    "\n",
    "[Problem 3](#P3) (Playing With Lapse And Normals)\n",
    "\n",
    "[Problem 4](#P4) (Finding the Shift Vector)\n",
    "\n",
    "[Problem 5](#P5) (Vanishing Operators)\n",
    "\n",
    "[Problem 6](#P6) (Calculating the Projection Operator)\n",
    "\n",
    "[Problem 7](#P7) (Symmetric Curvature)\n",
    "\n",
    "[Problem 8](#P8) (Manually Calculate Extrinsic Curvature, part d incorrect(?))\n",
    "\n",
    "[Problem 9](#P9) (Observed Magnetism, incomplete)\n",
    "\n",
    "[Problem 10](#P10) (Acceleration and Lapse)\n",
    "\n",
    "[Problem 11](#P11) (Lie Derivative Commutator, incomplete)\n",
    "\n",
    "[Problem 12](#P12) (Covariant and Partial Equivalence for Lie Derivatives)\n",
    "\n",
    "[Problem 13](#P13) (Lie Lapse)\n",
    "\n",
    "28\n",
    "\n",
    "[PDF](#latex_pdf_output) (turn this into a PDF)"
   ]
  },
  {
   "cell_type": "markdown",
   "id": "cd9e5529",
   "metadata": {},
   "source": [
    "<a id='P1'></a>\n",
    "\n",
    "# Problem 1 \\[Back to [top](#toc)\\]\n",
    "$$\\label{P1}$$\n",
    "\n",
    "*Define a constraint violation function $\\mathcal{C} = D_iE^i - 4\\pi\\rho$ and assume that charge is conserved, so that the continuity equation $\\partial_t \\rho = -D_ij^i$ holds. Then show that the time derivative of the constraint violation funciton vanishes, $\\partial_t \\mathcal{C} = 0$*"
   ]
  },
  {
   "cell_type": "markdown",
   "id": "88273330",
   "metadata": {},
   "source": [
    "Take the time derivative of both sides. \n",
    "\n",
    "$$ \\partial_t \\mathcal C = \\partial_t D_i E^i - 4\\pi \\partial_t \\rho $$\n",
    "\n",
    "$$ \\Rightarrow \\partial_t \\mathcal C = \\partial_t D_i E^i + 4\\pi D_i j^i $$\n",
    "\n",
    "$$ \\Rightarrow \\partial_t \\mathcal C =  D_i \\partial_t E^i + 4\\pi D_i j^i $$"
   ]
  },
  {
   "cell_type": "markdown",
   "id": "840f60d6",
   "metadata": {},
   "source": [
    "2.15 has the relation we want here. Note that since we are not in relativity, the metric is not \"twisted\" and thus one-forms and vectors are interchangeable. \n",
    "\n",
    "$$ \\Rightarrow \\partial_t \\mathcal C =  D_i (-D^2A^i + D_iD^jA^j - 4\\pi j^i) + 4\\pi D_i j^i $$\n",
    "\n",
    "$$ \\Rightarrow \\partial_t \\mathcal C = -D_iD^2A^i + D_iD_iD^jA^j $$\n",
    "\n",
    "$$ \\Rightarrow \\partial_t \\mathcal C = -D_iD^jD^jA^i + D_iD_iD^jA^j $$\n",
    "\n",
    "$$ \\Rightarrow \\partial_t \\mathcal C = -D^iD_jD_jA^i + D_iD_iD^jA^j $$\n",
    "\n",
    "$$ \\Rightarrow \\partial_t \\mathcal C = 0 $$"
   ]
  },
  {
   "cell_type": "markdown",
   "id": "848c6998",
   "metadata": {},
   "source": [
    "<a id='P2'></a>\n",
    "\n",
    "# Problem 2 \\[Back to [top](#toc)\\]\n",
    "$$\\label{P2}$$\n",
    "\n",
    "*a) Demonstrate that 2.18 reduces to 2.17 in the observer's local Lorentz frame, where $u^a = (1,0,0,0)$*"
   ]
  },
  {
   "cell_type": "markdown",
   "id": "25132808",
   "metadata": {},
   "source": [
    "2.17 is the full Faraday Tensor, given by:\n",
    "\n",
    "$$ F^{ab} = \\begin{bmatrix}\n",
    "0 & E^x & E^y & E^z \\\\\n",
    "-E^x & 0 & B^z & -B^y \\\\\n",
    "-E^y & -B^z & 0 & B^x \\\\\n",
    "-E^z & B^y & -B^x & 0 \\\\\n",
    "\\end{bmatrix}\n",
    "$$\n",
    "\n",
    "And 2.18 is the \"one line\" verison. \n",
    "\n",
    "$$ F^{ab} = u^aE^b - u^bE^a + u_d\\epsilon^{dabc} B_c $$\n",
    "\n",
    "Our goal is to show that 2.18 really does become 2.17 when given the \"stationary\" four-velocity. "
   ]
  },
  {
   "cell_type": "markdown",
   "id": "5f3d476e",
   "metadata": {},
   "source": [
    "First of all, the diagonal: clearly correct, as every time a=b everything cancels--the two E terms are opposing, and the Levi-Civita tensor can never have duplicates in it. \n",
    "\n",
    "When a or b equals t, d cannot be t, and thus the Levi-Civita tensor vanishes for all a or b = t cases, leaving only the E terms. The negatives remain when b=t, and the positives remain when a=t, and the E terms vanish for a and not equaling t, so that's the Electric contributions. \n",
    "\n",
    "So, now for the B contributions. d has to equal t. a and b have to equal whatever the coordinates at their point is, meaning c must be the only remaining point. (so an xy would produce a B of z, which is exactly what we see). Flipping a and b changes the sign by the even-oddness rule of the Levi-Civita tensor. All we really have to do is make sure the signs are right on one side. The combinations we end up with for the upper part of the matrix are: txyz, txzy, and tyzx. Note that the first one, txyz, is the standard, thus evalutes positive. The second one is a single-shuffle, so it evaluates negatively. The last one is a double-shuffle, so it evaluates positive. \n",
    "\n",
    "Thus, every single term is accounted for! "
   ]
  },
  {
   "cell_type": "markdown",
   "id": "c864e377",
   "metadata": {},
   "source": [
    "*b) Show that an observer with (arbitrary) four-velocity $u^a$ will measure the electric field to be $E^a = F^{ab}u_b$ and the magnetic field to be $B^a = \\epsilon^{abcd}u_b F_{dc}/2$. Hint: For the latter, use $\\epsilon^{abcd}\\epsilon_{cdef} = -2\\delta^{ab}_{ef} = -2(\\delta^a_e\\delta^b_f - \\delta^a_f \\delta^b_e)$*"
   ]
  },
  {
   "cell_type": "markdown",
   "id": "13dfd7e5",
   "metadata": {},
   "source": [
    "For the electric field, we work backward by applying $u_b$ to 2.18. \n",
    "\n",
    "$$ F^{ab}u_b = u^aE^bu_b - u^bE^au_b + u_d\\epsilon^{dabc} B_cu_b $$\n",
    "\n",
    "We know from the definitions that $E^bu_b=0$ and from General Relativity that $u^bu_b=-1$. However, the last term? well, if d=b we have a case where the Levi-Civita tensor vanishes. And if they are not equal, remember that we are summing over both b and d, meaning the antisymmetry of Levi-Civita cancels EVERYTHING. Thus, we only have:\n",
    "\n",
    "$$ F^{ab}u_b = E^a $$"
   ]
  },
  {
   "cell_type": "markdown",
   "id": "282b4900",
   "metadata": {},
   "source": [
    "Now, for the B version, we need to lower the indeces of F and alter them a bit. \n",
    "\n",
    "$$ F_{ab} = u_aE_b - u_bE_a + u_d\\epsilon^{dc}_{ab} B_c $$\n",
    "\n",
    "$$ \\Rightarrow F_{dc} = u_dE_c - u_cE_d + u_a\\epsilon^{ab}_{dc} B_b $$\n",
    "\n",
    "Now we use a trick akin to $u^an_a = g_{ab}u^an^b = u_bn^b$. \n",
    "\n",
    "$$ \\Rightarrow F_{dc} = u_dE_c - u_cE_d + u^b\\epsilon_{dcba} B^a $$"
   ]
  },
  {
   "cell_type": "markdown",
   "id": "d5c9e83b",
   "metadata": {},
   "source": [
    "And now we see if we can extract $B^a$ with the suggested operations. \n",
    "\n",
    "$$ \\frac12 \\epsilon^{abcd}u_bF_{dc} = \\frac12 \\epsilon^{abcd}u_bu_dE_c - \\frac12 \\epsilon^{abcd}u_bu_cE_d + \\frac12 \\epsilon^{abcd}u_bu^b\\epsilon_{dcba} B^a $$"
   ]
  },
  {
   "cell_type": "markdown",
   "id": "da5b46f1",
   "metadata": {},
   "source": [
    "Note that the first two terms have to take the form bdc and bcd, as all others make the Levi-Civita tensor go to zero due to duplicates. But bdc and bcd are combinations that are one swap away from each other, thus they have opposing signs, and thus they vanish. And in the third term we have a dot product of two four-velocities, which is always -1. \n",
    "\n",
    "$$ \\Rightarrow \\frac12 \\epsilon^{abcd}u_bF_{dc} = - \\frac12 \\epsilon^{abcd}\\epsilon_{dcba} B^a $$"
   ]
  },
  {
   "cell_type": "markdown",
   "id": "ed88d443",
   "metadata": {},
   "source": [
    "The double tensor relation was, in fact, given. That said we do have to swap the first two indeces of the second tensor, which flips the sign yet again. And then we go on...\n",
    "\n",
    "$$ \\Rightarrow \\frac12 \\epsilon^{abcd}u_bF_{dc} = \\frac12 \\epsilon^{abcd}\\epsilon_{cdba} B^a $$\n",
    "\n",
    "$$ \\Rightarrow \\frac12 \\epsilon^{abcd}u_bF_{dc} = -\\delta^{ab}_{ba} B^a $$\n",
    "\n",
    "$$ \\Rightarrow \\frac12 \\epsilon^{abcd}u_bF_{dc} = -(\\delta^a_b \\delta^b_a - \\delta^a_a \\delta^b_b) B^a $$\n",
    "\n",
    "$$ \\Rightarrow \\frac12 \\epsilon^{abcd}u_bF_{dc} = -(\\delta^a_b \\delta^b_a - 1) B^a $$\n",
    "\n",
    "Which obviously reduces to what we want... unless a=b, then it goes to zero. HOWEVER, by the definition of our relation, if a=b even *there* it had to go to zero, so if a=b the measured magnetic field is just zero. \n",
    "\n",
    "$$ \\Rightarrow \\frac12 \\epsilon^{abcd}u_bF_{dc} = B^a $$"
   ]
  },
  {
   "cell_type": "markdown",
   "id": "19597e82",
   "metadata": {},
   "source": [
    "Admittedly the last step reeks of fish. Though the equality does still hold when a=b, it's vacuously true, which raises our mathemetician's sense of \"that's sketchy.\" (Heck, if a=b, $u_BB^b$ would arise, and that would also equal zero, it's zero on so many levels!)"
   ]
  },
  {
   "cell_type": "markdown",
   "id": "92447646",
   "metadata": {},
   "source": [
    "Okay there have been SEVERAL references to Appendix A, so we're going to go dig around there for a while at this point. Let's see what illuminating problems there are here:\n",
    "\n",
    "Problem 1: just the identity matrix/tensor, trivial.\n",
    "\n",
    "Problem 2: The symmetrization of an antisymmetric tensor vanishes. Trivial. That said there is a good reminder of the property $S_{ab}A^{ab} = 0$ between Symmetric and Antisymmetric tensors. \n",
    "\n",
    "Problem 3: The boosting of the four-velocity via Lorentz transformation, trivial. \n",
    "\n",
    "Problem 4: ah, this one's about the Faraday tensor! Let's do it. "
   ]
  },
  {
   "cell_type": "markdown",
   "id": "bf66cd28",
   "metadata": {},
   "source": [
    "<a id='A4'></a>\n",
    "\n",
    "# Problem A4 \\[Back to [top](#toc)\\]\n",
    "$$\\label{A4}$$\n",
    "\n",
    "*The electric and magnetic fields in an unprimed corodinate system are given by $E^i$ and $B^i$, and the Faraday tensor by 2.17. An observer in a primed coordinate frame would identify the electric and magnetic fields from teh Faraday tensor as $E^{i'}= F^{t'i'} = M^{t'}_c M^{i'}_{d} F^{cd}$ and similarly for the magnetic fields. Find the electric and magnetic fields as observed in a reference frame that is boosted with speed v in the positive z-direction with respect to the unprimed reference frame. Check: for the x'-component the answer is $E^{x'} = \\gamma(E^x - vB^y)$*"
   ]
  },
  {
   "cell_type": "markdown",
   "id": "421302e7",
   "metadata": {},
   "source": [
    "So basically take the Faraday Tensor and apply the z-direction Lorentz Transformation Matrix like so:\n",
    "\n",
    "$$ \\begin{bmatrix}\n",
    "\\gamma & 0 & 0 & -\\gamma v \\\\\n",
    "0 & 1 & 0 & 0 \\\\\n",
    "0 & 0 & 1 & 0 \\\\\n",
    "-\\gamma v & 0 & 0 & \\gamma \\\\\n",
    "\\end{bmatrix}  \\begin{bmatrix}\n",
    "0 & E^x & E^y & E^z \\\\\n",
    "-E^x & 0 & B^z & -B^y \\\\\n",
    "-E^y & -B^z & 0 & B^x \\\\\n",
    "-E^z & B^y & -B^x & 0 \\\\\n",
    "\\end{bmatrix}\\begin{bmatrix}\n",
    "\\gamma & 0 & 0 & -\\gamma v \\\\\n",
    "0 & 1 & 0 & 0 \\\\\n",
    "0 & 0 & 1 & 0 \\\\\n",
    "-\\gamma v & 0 & 0 & \\gamma \\\\\n",
    "\\end{bmatrix}\n",
    "$$\n",
    "\n",
    "Remember, you DO have to do it twice, once from each side, since this is a tensor. Then just multiply it out. The result is..."
   ]
  },
  {
   "cell_type": "markdown",
   "id": "769444b1",
   "metadata": {},
   "source": [
    "$$ = \\begin{bmatrix}\n",
    "\\gamma v E^z & \\gamma (E^x - vB^y) & \\gamma(E^y + vB^x) & \\gamma E^z \\\\\n",
    "-E^x & 0 & B^z & -B^y \\\\\n",
    "-E^y & -B^z & 0 & B^x \\\\\n",
    "-\\gamma E^z & \\gamma(-vE^x + B^y) & \\gamma(-vE^y - B^x) & -\\gamma v E^z \\\\\n",
    "\\end{bmatrix} \\begin{bmatrix}\n",
    "\\gamma & 0 & 0 & -\\gamma v \\\\\n",
    "0 & 1 & 0 & 0 \\\\\n",
    "0 & 0 & 1 & 0 \\\\\n",
    "-\\gamma v & 0 & 0 & \\gamma \\\\\n",
    "\\end{bmatrix}$$"
   ]
  },
  {
   "cell_type": "markdown",
   "id": "d944b51e",
   "metadata": {},
   "source": [
    "$$ = \\begin{bmatrix}\n",
    "0 & \\gamma (E^x - vB^y) & \\gamma(E^y + vB^x) & \\gamma^2 E^z (1-v^2) \\\\\n",
    "\\gamma(-E^x+vB^y) & 0 & B^z & \\gamma(vE^x - B^y) \\\\\n",
    "\\gamma(-E^y - vB^x) & -B^z & 0 & \\gamma(vE^y + B^x)\\\\\n",
    "-\\gamma^2 E^z (1-v^2) & \\gamma(-vE^x + B^y) & \\gamma(-vE^y - B^x) & 0 \\\\\n",
    "\\end{bmatrix}$$\n",
    "\n",
    "$$ = \\begin{bmatrix}\n",
    "0 & \\gamma (E^x - vB^y) & \\gamma(E^y + vB^x) & E^z \\\\\n",
    "\\gamma(-E^x+vB^y) & 0 & B^z & \\gamma(vE^x - B^y) \\\\\n",
    "\\gamma(-E^y - vB^x) & -B^z & 0 & \\gamma(vE^y + B^x)\\\\\n",
    "-E^z & \\gamma(-vE^x + B^y) & \\gamma(-vE^y - B^x) & 0 \\\\\n",
    "\\end{bmatrix}$$"
   ]
  },
  {
   "cell_type": "markdown",
   "id": "111f678e",
   "metadata": {},
   "source": [
    "Which is antysymmetric and does match the check we were given. Notably the z direction components are completley unchanged. "
   ]
  },
  {
   "cell_type": "markdown",
   "id": "f0ab4351",
   "metadata": {},
   "source": [
    "<a id='C1'></a>\n",
    "\n",
    "# Problem C1 \\[Back to [top](#toc)\\]\n",
    "$$\\label{C1}$$\n",
    "\n",
    "Once again, we were refered to the Appendix and found a problem.\n",
    "\n",
    "*a) Evaluate the components $F^a_b$ of the Faraday tensor 2.17 in a Lorentz frame where $g_{ab} = \\eta_{ab}$*"
   ]
  },
  {
   "cell_type": "markdown",
   "id": "c6f81785",
   "metadata": {},
   "source": [
    "We need to lower the second index. One may think that in a normal spacetime this won't matter, but no, the diagonal is (-1,0,0,0), so which direction the sign goes across definitely matters. We want $\\eta_{cb} F^{ac}$, which becomes in matrix form:\n",
    "\n",
    "$$ \\begin{bmatrix}\n",
    "0 & E^x & E^y & E^z \\\\\n",
    "-E^x & 0 & B^z & -B^y \\\\\n",
    "-E^y & -B^z & 0 & B^x \\\\\n",
    "-E^z & B^y & -B^x & 0 \\\\\n",
    "\\end{bmatrix}\\begin{bmatrix}\n",
    "-1 & 0 & 0 & 0 \\\\\n",
    "0 & 1 & 0 & 0 \\\\\n",
    "0 & 0 & 1 & 0 \\\\\n",
    "0 & 0 & 0 & 1 \\\\\n",
    "\\end{bmatrix}$$\n",
    "\n",
    "$$ = \\begin{bmatrix}\n",
    "0 & E^x & E^y & E^z \\\\\n",
    "E^x & 0 & B^z & -B^y \\\\\n",
    "E^y & -B^z & 0 & B^x \\\\\n",
    "E^z & B^y & -B^x & 0 \\\\\n",
    "\\end{bmatrix}$$\n",
    "\n",
    "If we had lowered the other index all E values would be negative. Note that this is NOT antisymmetric, but if we were to apply the metric again it would be. "
   ]
  },
  {
   "cell_type": "markdown",
   "id": "360b1984",
   "metadata": {},
   "source": [
    "*b) Show that $det(F^a_b) = -(\\pmb{E} \\cdot \\pmb{B})^2$*"
   ]
  },
  {
   "cell_type": "markdown",
   "id": "54613505",
   "metadata": {},
   "source": [
    "Right, there's no simple formula for the 4x4 determinant... Which means we need to go look up our how to solve for determinant methods again. We find cofactor expansion at [2](#2). Let's split it up across the top row to make it... simpler.\n",
    "\n",
    "$$ det(F^a_b) = 0 -E^x det \\begin{bmatrix}\n",
    "E^x & B^z & -B^y\\\\\n",
    "E^y & 0 & B^x\\\\\n",
    "E^z & -B^x & 0\\\\\n",
    "\\end{bmatrix}+E^y det \\begin{bmatrix}\n",
    "E^x & 0 & -B^y\\\\\n",
    "E^y & -B^z & B^x\\\\\n",
    "E^z & B^y & 0\\\\\n",
    "\\end{bmatrix}-E^z det \\begin{bmatrix}\n",
    "E^x & 0 &  B^z\\\\\n",
    "E^y & -B^z & 0\\\\\n",
    "E^z & B^y & -B^x\\\\\n",
    "\\end{bmatrix}$$\n",
    "\n"
   ]
  },
  {
   "cell_type": "markdown",
   "id": "7bf98156",
   "metadata": {},
   "source": [
    "Notice that the first determinant went to zero. As for the others..\n",
    "\n",
    "$$ = - B^zB^xE^zE^x - B^yB^xE^yE^x - B^xB^xE^xE^x - B^yB^yE^yE^y - B^zB^yE^zE^y - B^xB^yE^xE^y - B^xB^zE^xE^z - B^zB^yE^yE^z - B^zB^zE^zE^z $$\n",
    "\n",
    "$$ = - 2B^zB^xE^zE^x - 2B^yB^xE^yE^x - B^xB^xE^xE^x - B^yB^yE^yE^y - 2B^zB^yE^zE^y - B^zB^zE^zE^z $$\n",
    "\n",
    "$$ = -(E^xB^x + E^yB^y + E^zB^z)^2 $$\n",
    "\n",
    "$$ = -(\\pmb E \\cdot \\pmb B)^2 $$"
   ]
  },
  {
   "cell_type": "markdown",
   "id": "01586573",
   "metadata": {},
   "source": [
    "<a id='P3'></a>\n",
    "\n",
    "# Problem 3 \\[Back to [top](#toc)\\]\n",
    "$$\\label{P3}$$\n",
    "\n",
    "*Consider a time coordinate t that is related to the time T by $t = T-h(r)$. Here h(r), assumed to depend on the radius r = $\\sqrt{x^2+y^2+z^2}$ only, is sometimes called a **height function**; it describes how far the t=const slice lies above the T=const slice, as illustrated in Fig 2.1. Refer to the coordiantes $x^{a'}=(T,r',\\theta',\\phi')$ as primed and $x^{a}=(t,r,\\theta,\\phi)$ as unprimed, where we set up $(r,\\theta,\\phi)=(r',\\theta ', \\phi ')$. In the primes frame the metric is given by the Minkowski metric, $g_{a'b'} = \\eta_{a'b'}$.*\n",
    "\n",
    "*a) Evaluate 2.34 to find the components $n_{a'}$ and $n^{a'}$ of the normal vector--normal to the t=const surfaces, that is--in the primed frame.*"
   ]
  },
  {
   "cell_type": "markdown",
   "id": "32750669",
   "metadata": {},
   "source": [
    "NOTE: all \"d\" derivatives are partial derivatives, we got lazy with typing. \n",
    "\n",
    "2.34 is $n_a = -\\alpha \\nabla_a t$. This easily becomes\n",
    "\n",
    "$$ n_{a'} = -\\alpha \\nabla_{a'} (T-h(r)) = -\\alpha(1,-h'(r),0,0)$$\n",
    "\n",
    "Multiply by the metric to raise the operator\n",
    "\n",
    "$$ n^{a'} = -\\alpha(-1,-h'(r),0,0)$$"
   ]
  },
  {
   "cell_type": "markdown",
   "id": "bca765ae",
   "metadata": {},
   "source": [
    "*b) Normalize the normal vector according to 2.35 to find $\\alpha$*\n",
    "\n",
    "The dot product of our two vectors is \n",
    "\n",
    "$$ \\alpha^2 (-1 + h'(r)^2) $$\n",
    "\n",
    "Which needs to equal -1. Which means...\n",
    "\n",
    "$$ 1-h'(r)^2 = \\frac{1}{\\alpha^2} $$\n",
    "$$ \\Rightarrow \\alpha = \\sqrt{\\frac{1}{1-h'(r)^2}} $$"
   ]
  },
  {
   "cell_type": "markdown",
   "id": "452bacbc",
   "metadata": {},
   "source": [
    "*c) Now transform the normal vector to the umprimed frame using $n_a = (\\partial x^{b'} / \\partial x^a)n_{b'}$ (See A.29). If all goes well you will recover 2.36.*"
   ]
  },
  {
   "cell_type": "markdown",
   "id": "c5163933",
   "metadata": {},
   "source": [
    "Following this, let's examine what that derivative means...\n",
    "\n",
    "For the two angular components, which never change at all, the rate is 1 as they are the exact same. $\\theta$ changes with $\\theta$ and $\\phi$ with $\\phi$ independently, making their mixed derivatives 0 and their self derivatievs 1. But it all turns to zero anyway since those components are always zero. \n",
    "\n",
    "Now, r does in fact equal r', making the dr'/dr = 1. However, it also relies in some way on the time T or t... and we need to tease out exactly how. What is dt'/dr? This would be dT/dr, or h'(r). This would result in \n",
    "\n",
    "$$ (1)(h'(r)) + (-h'(r))(1) = 0 $$\n",
    "\n",
    "Which gives us the zero we need on our r index. \n",
    "\n",
    "So, lastly, the t index. We want it to remain 1. This involes the derivative dT/dt and dr/dt, which are not quite as obvious results. We DO know that h(r) is a function of r only, so T = t + h'(r) reveals that dT/dt = 1. This much is easy enough to show. \n",
    "\n",
    "However, the radius... to get the answer we ant the derivative dr/dt better be zero, but it doesn't *seem* to be the case. Since we don't know what h is we can't just invert, and if we try to force it we get $dr/dt = -h^{-1'}(T-t)(T-t)'$. Aha! But T'-t' is 1-1 is 0, thus it vanishes! We'll take that, it makes the derivative equal zero. Which means we end up with just a single dT/dt derivative of 1, and 1 times 1 is 1. Thus...\n",
    "\n",
    "$$ n_a = -\\alpha(1,0,0,0) $$\n",
    "\n",
    "Which is what we sought. "
   ]
  },
  {
   "cell_type": "markdown",
   "id": "ac19c944",
   "metadata": {},
   "source": [
    "<a id='P4'></a>\n",
    "\n",
    "# Problem 4 \\[Back to [top](#toc)\\]\n",
    "$$\\label{P4}$$\n",
    "\n",
    "*Return to **Problem 3** and find the contravariant components of $n^a$ of the normal vector in the unprimed frame. Compare your result with 2.40 to identify the shift factor $\\beta^i$. Hint: use $n^a = (\\partial x^a / \\partial x^{b'}) n^{b'}$*"
   ]
  },
  {
   "cell_type": "markdown",
   "id": "cd0c6a65",
   "metadata": {},
   "source": [
    "So we need to do the derivatives in \"inverse\" now. The angle derivatives do not change, don't worry about it. dr/dr' = dr/dr = 1 still. However, what of the rest? We've actually done dt/dT before, it is also just 1. \n",
    "\n",
    "However, now we have dt/dr and dr/dT. dt/dr is -h'(r). dr/dT actually has the same result as dr/dt--0. \n",
    "\n",
    "So, what does our final vector look like then with all this? We start with (-1,-h'(r),0,0). The t coordinate becomes 1-h'. The r coordinate becomes h'. (remember to watch VERY CAREFULLY the order of indeces! This trapped us up for SO LONG)\n",
    "\n",
    "$$ n^a = \\alpha(1-h', h',0,0) $$\n",
    "\n",
    "We can force this into the form we want via.\n",
    "\n",
    "$$ \\Rightarrow n^a = \\frac1\\alpha(\\alpha^2(1-h'), \\alpha^2h',0,0) $$\n",
    "\n",
    "Note that since we found $\\alpha$ in **Problem 3**, the first term reduces...\n",
    "\n",
    "$$ \\Rightarrow n^a = \\frac1\\alpha(1, \\alpha^2h',0,0) $$\n",
    "\n",
    "Which means we get $\\beta^i$ of $(-\\alpha^2 h',0,0)$ via 2.40.\n",
    "\n",
    "Had to rely on the answers for this one, as we were getting a non-transformation. But we understand it fully now. "
   ]
  },
  {
   "cell_type": "markdown",
   "id": "d72b2830",
   "metadata": {},
   "source": [
    "<a id='P5'></a>\n",
    "\n",
    "# Problem 5 \\[Back to [top](#toc)\\]\n",
    "$$\\label{P5}$$\n",
    "\n",
    "*a) Show that $A^a_{||}$ is indeed normal by showing that its contraction with the projection operator $\\gamma^a_b$ vanishes.*"
   ]
  },
  {
   "cell_type": "markdown",
   "id": "15406df6",
   "metadata": {},
   "source": [
    "From 2.45 we get the definition of the paralell operator, giving us:\n",
    "\n",
    "$$ - \\gamma^a_b n^a n_b A^b $$\n",
    "\n",
    "The proejction operator is 2.47.\n",
    "\n",
    "$$ = - (g^a_b + n^an_b) n^a n_b A^b $$\n",
    "\n",
    "$$ = -\\delta^a_bn^a n_b A^b -n^an_b n^a n_b A^b $$"
   ]
  },
  {
   "cell_type": "markdown",
   "id": "b3617cea",
   "metadata": {},
   "source": [
    "$$ = - n^a n_a A^a - n^an_b n^a n_b A^b $$\n",
    "\n",
    "$$ = A^a - n^an_b n^a n_b A^b $$\n",
    "\n",
    "$$ = A^a - g^{ac}g_{bc}n_cn_b n^a n^c A^b $$\n",
    "\n",
    "$$ = A^a + g^a_bn_b n^a A^b $$\n",
    "\n",
    "$$ = A^a + \\delta^a_bn_b n^a A^b $$\n",
    "\n",
    "$$ = A^a + n_a n^a A^a $$\n",
    "\n",
    "$$ = A^a - A^a $$\n",
    "\n",
    "$$ = 0 $$"
   ]
  },
  {
   "cell_type": "markdown",
   "id": "cc9e5d4c",
   "metadata": {},
   "source": [
    "*b) Show that $A^a_\\perp$ is indeed spatial by showing that its contraciton with the normal vector $n^a$ vanishes.*\n",
    "\n",
    "From 2.46 we get\n",
    "\n",
    "$$ n^a(g^a_b + n^an_b)A^b $$\n",
    "\n",
    "$$ = n^ag^a_bA^b + n^an^an_bA^b $$\n",
    "\n",
    "$$ = n^a\\delta^a_bA^b + g^{ac}g_{bc}n^an^bn_bA^b $$\n",
    "\n",
    "$$ = n^a\\delta^a_bA^b - \\delta^a_bn^aA^b $$\n",
    "\n",
    "$$ = 0 $$\n",
    "\n",
    "This reveals to us a NEW TOOL: the pulling out of the delta to change indeces! \n",
    "\n",
    "NOTE: Writing this down somewhere so we don't make the mistake again: $n^a \\neq g^{aa}n_a$ "
   ]
  },
  {
   "cell_type": "markdown",
   "id": "a52b2332",
   "metadata": {},
   "source": [
    "*c) Show that $\\gamma^a_b\\gamma^b_c=\\gamma^a_c$. This property guarantees that projecting an object that has already been projected will no longer change the object. Putting it differently, the projection operator acts like the identity operator for spatial objects.*\n",
    "\n",
    "This is\n",
    "\n",
    "$$ (g^a_b + n^an_b)(g^b_c + n^bn_c) $$\n",
    "\n",
    "$$ = g^a_bg^b_c +g^a_bn^bn_c + n^an_bg^b_c + n^an_bn^bn_c $$\n",
    "\n",
    "$$ = g^a_c + g^a_bn^bn_c + n^an_bg^b_c - n^an_c $$\n",
    "\n",
    "$$ = g^a_c + n^an_c + n^an_c - n^an_c $$\n",
    "\n",
    "$$ = g^a_c + n^an_c $$\n",
    "\n",
    "And that's that!"
   ]
  },
  {
   "cell_type": "markdown",
   "id": "3c68befe",
   "metadata": {},
   "source": [
    "<a id='P6'></a>\n",
    "\n",
    "# Problem 6 \\[Back to [top](#toc)\\]\n",
    "$$\\label{P6}$$\n",
    "\n",
    "*Find the components of the operator $\\gamma^a_b$ that projects into the t=const slices described in **Problem 3** and **Problem 4**.*\n",
    "\n",
    "Well, we can already split it up a bit, the operator as a whole is:\n",
    "\n",
    "$$ \\delta^a_b + n^an_b $$\n",
    "\n",
    "Now the components of the delta are always known, diagonal of (1,1,1,1). It's the vector options that change things up. The thing is, which version of the ns do we use? We have both T and t versions, we need to be careful. We want the t=const slices, which means we want the primed frame. Which means an outer product of the following:\n",
    "\n",
    "$$ n_{a'} = -\\alpha(1,-h'(r),0,0)$$\n",
    "\n",
    "$$ n^{a'} = -\\alpha(-1,-h'(r),0,0)$$"
   ]
  },
  {
   "cell_type": "markdown",
   "id": "4b90bf7e",
   "metadata": {},
   "source": [
    "We can do most of this multiplicaiton in our sleep, so all that remains is to set up the matrix to display the answer.\n",
    "\n",
    "$$ \\gamma^a_b = \\begin{bmatrix}\n",
    "1-\\alpha^2 & -\\alpha^2h' & 0 & 0 \\\\\n",
    "\\alpha^2h' & 1+\\alpha^2(h')^2& 0 & 0 \\\\\n",
    "0 & 0 & 1 & 0 \\\\\n",
    "0 & 0 & 0 & 1 \\\\\n",
    "\\end{bmatrix}$$\n",
    "\n",
    "Evidentialy antisymmetric. \n",
    "\n",
    "Now if we were to use the OTHER set...\n",
    "\n",
    "$$ n_a = -\\alpha(1,0,0,0) $$\n",
    "\n",
    "$$ n^a = \\alpha(1-h', h',0,0) $$\n",
    "\n",
    "$$ \\Rightarrow n^a = \\frac1\\alpha(1, \\alpha^2h',0,0) $$"
   ]
  },
  {
   "cell_type": "markdown",
   "id": "6c7ffa7b",
   "metadata": {},
   "source": [
    "We would end up with a matrix:\n",
    "\n",
    "$$ \\gamma^a_b = \\begin{bmatrix}\n",
    "0 & 0 & 0 & 0 \\\\\n",
    "-\\alpha^2h' & 1 & 0 & 0 \\\\\n",
    "0 & 0 & 1 & 0 \\\\\n",
    "0 & 0 & 0 & 1 \\\\\n",
    "\\end{bmatrix}$$\n",
    "\n",
    "This is the one given in the answers, so we need to figure out why we got it backward. \n",
    "\n",
    "HERE IS WHY WE GOT IT BACKWARD: it said that we were finding t=const. IN **Problem 3** it was said we were finding the normal vector to the t=const in the primed frame. But if we look at those vectors they aren't the standard variety, they were translated! Naturally, we HAVE to use the (1,0,0,0) form, because that's what the normal vector looks like in the correct reference frame. \n",
    "\n",
    "We still keep the previous answer around for posterity. "
   ]
  },
  {
   "cell_type": "markdown",
   "id": "b502af27",
   "metadata": {},
   "source": [
    "<a id='P7'></a>\n",
    "\n",
    "# Problem 7 \\[Back to [top](#toc)\\]\n",
    "$$\\label{P7}$$\n",
    "\n",
    "*Insert the definition 2.34 into 2.53 to show that the extrinsic curvature is symmetric, $K_{ab} = K_{ba}$ or equivalently $K_{[ab]}=0$*\n",
    "\n",
    "Well, K is given by 2.53 $-\\gamma^c_a \\gamma^d_b \\nabla_c n_d$ and 2.34 is\n",
    "\n",
    "$$ n_a = -\\alpha \\nabla_a t $$"
   ]
  },
  {
   "cell_type": "markdown",
   "id": "e7d24462",
   "metadata": {},
   "source": [
    "So combining it all together we now have $\\gamma^c_a\\gamma^d_b\\nabla_c \\alpha \\nabla_d t$"
   ]
  },
  {
   "cell_type": "markdown",
   "id": "dbbfb2cc",
   "metadata": {},
   "source": [
    "We note that we are not summing over a or b so we can just shuffle them at will. What we need to show is:\n",
    "\n",
    "$$\\gamma^c_a\\gamma^d_b\\nabla_c \\alpha \\nabla_d t = \\gamma^c_b\\gamma^d_a\\nabla_c \\alpha \\nabla_d t $$\n",
    "\n",
    "Since we're summing over the terms c and d, interchanging them doesn't do anything, they always go through all their values. \n",
    "\n",
    "$$\\Rightarrow \\gamma^d_a\\gamma^c_b\\nabla_d \\alpha \\nabla_c t = \\gamma^c_b\\gamma^d_a\\nabla_c \\alpha \\nabla_d t $$\n",
    "\n",
    "If $\\alpha$ were a constant this would be trivial, as derivatives commute. But $\\alpha$ can be a function. \n",
    "\n",
    "While that step above is true, it is not all that helpful. What is helpful is the following. \n",
    "\n",
    "$$ \\gamma^d_a\\gamma^c_b = \\gamma^d_a\\delta^c_d\\gamma^d_b = \\gamma^c_a\\gamma^d_b$$\n",
    "\n",
    "That is we can swap the c and d of the $\\gamma$s *without* swapping the c and d on the derivatives. \n",
    "\n",
    "$$\\gamma^c_a\\gamma^d_b\\nabla_c \\alpha \\nabla_d t = \\gamma^c_b\\gamma^d_a\\nabla_c \\alpha \\nabla_d t $$\n",
    "$$\\Rightarrow \\gamma^d_a\\gamma^c_b\\nabla_c \\alpha \\nabla_d t = \\gamma^c_b\\gamma^d_a\\nabla_c \\alpha \\nabla_d t $$"
   ]
  },
  {
   "cell_type": "markdown",
   "id": "d1845243",
   "metadata": {},
   "source": [
    "<a id='P8'></a>\n",
    "\n",
    "# Problem 8 \\[Back to [top](#toc)\\]\n",
    "$$\\label{P8}$$\n",
    "\n",
    "*Compute the extrinsic curvature for the t=const slices in **Prolems 3, 4, 6**.*\n",
    "\n",
    "*a) Start by showing that the metric $g_{ab} = (\\partial x^{c'}/\\partial x^{a})(\\partial x^{d'}/\\partial x^b)\\eta_{c'd'}$ in the unprimed coordinate system is*\n",
    "\n",
    "$$ g_{ab} = \\begin{bmatrix}\n",
    "-1 & -h' & 0 & 0 \\\\\n",
    "-h' & 1-(h')^2 & 0 & 0 \\\\\n",
    "0 & 0 & r^2 & 0 \\\\\n",
    "0 & 0 & 0 & r^2sin^2\\theta \\\\\n",
    "\\end{bmatrix}$$\n"
   ]
  },
  {
   "cell_type": "markdown",
   "id": "0d9c750d",
   "metadata": {},
   "source": [
    "We know that the flat metric for spherical coordiantes is the diagonal (-1,1,$r^2$,$r^2sin^2\\theta$) and that the derivatives for those sections are always just 1, so once again the angular components do not matter.\n",
    "\n",
    "However, as for the other derivatives... we have calculated all of them before, it seems. However, we need to be careful with our sums. For explicit purposes, let's just delare all the derivatives here: remember, the primed values all equal the original ones save for t'=T. \n",
    "\n",
    "$$\\partial r/\\partial r = \\partial \\theta / \\partial \\theta = \\partial \\phi / \\partial \\phi = \\partial T / \\partial t = \\partial t / \\partial T = 1 $$\n",
    "\n",
    "$$ \\partial T/\\partial \\theta = \\partial T / \\partial \\phi = \\partial t / \\partial \\theta = \\partial t / \\partial \\phi = \\partial \\theta / \\partial \\phi = \\partial \\phi / \\partial \\theta = \\partial r / \\partial \\theta = \\partial r / \\partial \\phi = \\partial r / \\partial T = \\partial r / \\partial t = \\partial \\theta / \\partial r = \\partial \\phi / \\partial r = \\partial \\theta / \\partial t = \\partial \\phi / \\partial t = \\partial \\theta / \\partial T = \\partial \\phi / \\partial T = 0$$\n",
    "\n",
    "$$ \\partial t / \\partial r = -h' $$\n",
    "\n",
    "$$ \\partial T / \\partial r = h' $$"
   ]
  },
  {
   "cell_type": "markdown",
   "id": "03c53e96",
   "metadata": {},
   "source": [
    "First, the \"tt\" location. This evaluates as $(dT/dt)(dT/dt)(-1) + 0 = -1$\n",
    "\n",
    "Next, the \"rr\" location. This evalutes as $(dr/dr)(dr/dr)(1) + (dT/dr)(dT/dr)(-1) + 0 = 1-(h')^2 $\n",
    "\n",
    "Last, the \"tr\" location. Our formula has symmetry so they're both the same. $(dr/dr)(dr/dt)(1) + (dT/dr)(dT/dt)(-1) + 0 = -h' $\n",
    "\n",
    "Which completes the matrix. "
   ]
  },
  {
   "cell_type": "markdown",
   "id": "cd3b0a28",
   "metadata": {},
   "source": [
    "*b) Invert your result from a) to show that the inverse metric $g^{ab}$ in the unprimed coordinate system is*\n",
    "\n",
    "$$ g^{ab} = \\begin{bmatrix}\n",
    "-1+(h')^2 & -h' & 0 & 0 \\\\\n",
    "-h' & 1 & 0 & 0 \\\\\n",
    "0 & 0 & r^{-2} & 0 \\\\\n",
    "0 & 0 & 0 & r^{-2}sin^{-2}\\theta \\\\\n",
    "\\end{bmatrix}$$"
   ]
  },
  {
   "cell_type": "markdown",
   "id": "1a75cd03",
   "metadata": {},
   "source": [
    "The independence of the angular components makes the angular rows and columns essentially automatic, reducing the problem to that of inverting a 2x2 matrix. There's a formula for this somewhere, we went to look it up. [2](#2) provides it to us:\n",
    "\n",
    "$$A^{-1} = \\frac{1}{detA} \\begin{bmatrix}\n",
    "d & -b \\\\\n",
    "-c & a \\\\\n",
    "\\end{bmatrix}$$\n",
    "\n",
    "So we need the determinant of our 2x2 section. This is...\n",
    "\n",
    "$$ (-1 + (h')^2) - (h')^2 = -1 $$\n",
    "\n",
    "Thus the inverse matrix is\n",
    "\n",
    "$$A^{-1} = (-1) \\begin{bmatrix}\n",
    "1-(h')^2 & h' \\\\\n",
    "h' & -1 \\\\\n",
    "\\end{bmatrix}$$\n",
    "\n",
    "Which quickly becomes the matrix we seek. "
   ]
  },
  {
   "cell_type": "markdown",
   "id": "2a90ab9c",
   "metadata": {},
   "source": [
    "*c) Now expand the covariant derivative in 2.53*\n",
    "\n",
    "$$\\nabla_a n_b = \\partial_a n_b - n_c {}^{(4)}\\Gamma^c_{ab} = \\partial_a n_b - n_t {}^{(4)} \\Gamma^t_{ab}$$\n",
    "\n",
    "*Evidently we need all the Christoffel symbols with a t index upstairs. Evaluate 1.31 to find all of them. Hint: the only nonzero ones are ${}^{(4)}\\Gamma^t_{rr}, {}^{(4)}\\Gamma^t_{\\theta\\theta} = rh', {}^{(4)}\\Gamma^t_{\\phi\\phi} $. Example provided in book omitted.*"
   ]
  },
  {
   "cell_type": "markdown",
   "id": "6ca269d2",
   "metadata": {},
   "source": [
    "1.31 is the standard Christoffel expression. \n",
    "\n",
    "$$ {}^{(4)}\\Gamma^a_{bc} = \\frac12 g^{ad}(\\partial_c g_{db} + \\partial_b g_{dc} - \\partial_d g_{bc}) $$"
   ]
  },
  {
   "cell_type": "markdown",
   "id": "c3d8c79c",
   "metadata": {},
   "source": [
    "So, rather than just trusting the hint, let's reason this out. We need the christoffels with a t on top. So let's jsut go ahead and produce a matrix out of it. \n",
    "\n",
    "First of al, $g^{td}$ only exists for d=t, r. So we can expand the equation in general. \n",
    "\n",
    "$$ {}^{(4)}\\Gamma^t_{bc} = \\frac12 g^{tt}(\\partial_c g_{tb} + \\partial_b g_{tc} - \\partial_t g_{bc}) + \\frac12 g^{tr}(\\partial_c g_{rb} + \\partial_b g_{rc} - \\partial_r g_{bc}) $$ \n",
    "\n",
    "$$  = \\frac12 (-1+(h')^2) (\\partial_c g_{tb} + \\partial_b g_{tc} - \\partial_t g_{bc}) - \\frac12 h'(\\partial_c g_{rb} + \\partial_b g_{rc} - \\partial_r g_{bc}) $$ "
   ]
  },
  {
   "cell_type": "markdown",
   "id": "685f149d",
   "metadata": {},
   "source": [
    "Now, when do these vanish? Well, tehre are the cases where every metric is zero or a constant (which will make the derivative zero). It's easier to count the places where this DOESN'T happen: tr, rt, rr, $\\theta\\theta$, $\\phi\\phi$. All else go to zero in the above equation. This means all the nonzero POSSIBILITIES for nonzero bc are...\n",
    "\n",
    "$$ bc = rt, rr, r\\theta, r\\phi, tr, \\theta r, \\phi r, \\theta\\theta, \\phi\\phi, t \\theta, t \\phi, \\phi t, \\theta t, tt $$"
   ]
  },
  {
   "cell_type": "markdown",
   "id": "4a02e232",
   "metadata": {},
   "source": [
    "Which ironically means we have only outirght eliminated $\\phi\\theta, \\theta\\phi$ as zero. Well, still, that's progress. \n",
    "\n",
    "Are we guaranteed symmetry? Yes, by the Christoffel rules for the lower indecies, so from our list we can remove any duplicates.\n",
    "\n",
    "$$ bc = rt, rr, r\\theta, r\\phi, \\theta\\theta, \\phi\\phi, t \\theta, t \\phi, tt $$\n",
    "\n",
    "The angles should be the easiest to remove, for every metric with an angle in it evaluates to zero. Then, if we only have one angular coordinate, we are taking a derivative with respect to said angle in the remaining index, and none of the metrics (save $\\phi\\phi$) have any angular dependence at all, and tge remaining metric has to have a t or an r in it, so all of them go to zero. \n",
    "\n",
    "$$ bc = rt, rr, \\theta\\theta, \\phi\\phi, tt $$"
   ]
  },
  {
   "cell_type": "markdown",
   "id": "32e7daa8",
   "metadata": {},
   "source": [
    "Now, this is almost the list we originally proposed, save for tt. What does tt accomplish, though? Well, it makes every metric evaluate to -1 in the left half (which vanish upon derivatives). On the right half, it ends up trying to take time derivatievs of h'. h' is a function of r only, not t. Thus, it vanishes as well, resulting in zero for tt. "
   ]
  },
  {
   "cell_type": "markdown",
   "id": "52a7a252",
   "metadata": {},
   "source": [
    "Now, what of rt, we know that has to go. On the left side, this also results in attempts of taking time derivatives of h', which goes nowhere. On the right side, however, we end up with h'' - h'' as we were taking r derivatives, but they cancel to zero as well. This just leaves us the ones we know have a result: $rr, \\theta\\theta, \\phi\\phi$ Middle one first since we have a result for that.\n",
    "\n",
    "$$ {}^{(4)}\\Gamma^t_{\\theta\\theta} = \\frac12 (-1+(h')^2) (\\partial_\\theta g_{t\\theta} + \\partial_\\theta g_{t\\theta} - \\partial_t g_{\\theta\\theta}) - \\frac12 h'(\\partial_\\theta g_{r\\theta} + \\partial_\\theta g_{r\\theta} - \\partial_r g_{\\theta\\theta}) $$ \n",
    "$$  = \\frac12 h'( \\partial_r g_{\\theta\\theta}) $$ \n",
    "$$  = \\frac12 h' 2r $$ \n",
    "$$ = rh' $$\n",
    "\n",
    "Which matches our hint. "
   ]
  },
  {
   "cell_type": "markdown",
   "id": "1f26e32f",
   "metadata": {},
   "source": [
    "$$ {}^{(4)}\\Gamma^t_{\\phi\\phi} = \\frac12 (-1+(h')^2) (\\partial_\\phi g_{t\\phi} + \\partial_\\phi g_{t\\phi} - \\partial_t g_{\\phi\\phi}) - \\frac12 h'(\\partial_\\phi g_{r\\phi} + \\partial_\\phi g_{r\\phi} - \\partial_r g_{\\phi\\phi}) $$ \n",
    "$$  = \\frac12 h'(\\partial_r g_{\\phi\\phi}) $$ \n",
    "$$  = \\frac12 h'2rsin^2\\theta $$ \n",
    "$$  =  rh'sin^2\\theta $$ "
   ]
  },
  {
   "cell_type": "markdown",
   "id": "e6981985",
   "metadata": {},
   "source": [
    "$$ {}^{(4)}\\Gamma^t_{rr} = \\frac12 (-1+(h')^2) (\\partial_r g_{tr} + \\partial_r g_{tr} - \\partial_t g_{rr}) - \\frac12 h'(\\partial_r g_{rr} + \\partial_r g_{rr} - \\partial_r g_{rr}) $$ \n",
    "$$  =  (-1+(h')^2) (\\partial_r g_{tr}) - \\frac12 h'(\\partial_r g_{rr}) $$\n",
    "$$  =  (1-(h')^2) h'' + \\frac12 h' 2 h' h'' $$\n",
    "$$  =  h''-(h')^2h'' + (h')^2 h'' $$\n",
    "$$  = h'' $$"
   ]
  },
  {
   "cell_type": "markdown",
   "id": "e43fcb80",
   "metadata": {},
   "source": [
    "$$ {}^{(4)}\\Gamma^t_{bc} = \\begin{bmatrix}\n",
    "0 & 0 & 0 & 0 \\\\\n",
    "0 & h'' & 0 & 0 \\\\\n",
    "0 & 0 & rh' & 0 \\\\\n",
    "0 & 0 & 0 & rh'sin^2\\theta \\\\\n",
    "\\end{bmatrix}$$\n",
    "\n",
    "And it is now complete! "
   ]
  },
  {
   "cell_type": "markdown",
   "id": "87a1f6f1",
   "metadata": {},
   "source": [
    "*d) Now insert your results into 2.53 to find the extrinsic curvature $K_{ij}$. $K_{\\theta\\theta} = -\\alpha r h'$.*"
   ]
  },
  {
   "cell_type": "markdown",
   "id": "24f15db8",
   "metadata": {},
   "source": [
    "$$ K_{ab} = -\\gamma^c_a \\gamma^d_b \\nabla_c n_d$$\n",
    "$$ = -\\gamma^c_a \\gamma^d_b (\\partial_c n_d - n_t {}^{(4)}\\Gamma^t_{cd})$$\n"
   ]
  },
  {
   "cell_type": "markdown",
   "id": "e4d667d1",
   "metadata": {},
   "source": [
    "Now we should go grab the various n-values we calculated already in the unprimed frame.\n",
    "\n",
    "$$ n_a = -\\alpha(1,0,0,0) $$\n",
    "\n",
    "$$ n^a = \\alpha(1-h', h',0,0) $$\n",
    "\n",
    "Also the projection operator.\n",
    "\n",
    "$$ \\gamma^a_b = \\begin{bmatrix}\n",
    "0 & 0 & 0 & 0 \\\\\n",
    "-\\alpha^2h' & 1 & 0 & 0 \\\\\n",
    "0 & 0 & 1 & 0 \\\\\n",
    "0 & 0 & 0 & 1 \\\\\n",
    "\\end{bmatrix}$$"
   ]
  },
  {
   "cell_type": "markdown",
   "id": "e4bdb86c",
   "metadata": {},
   "source": [
    "And it is becoming rather clear that even with all the zeroes this isn't exactly giong to be a simple reasult. We can, however, replace the t-component. \n",
    "\n",
    "$$ = -\\gamma^c_a \\gamma^d_b (\\partial_c n_d + \\alpha {}^{(4)}\\Gamma^t_{cd})$$"
   ]
  },
  {
   "cell_type": "markdown",
   "id": "d98eb55e",
   "metadata": {},
   "source": [
    "We see a potential problem: what if we have to evaluate $\\partial_t n_t$? That will only occur if c=d=t.Which will never happen. We note that the top row of the projeciton operator is all zeroes, so it'll always go to nothing. Thus the partial derivative never evaluates to anything and can be ignored. \n",
    "\n",
    "$$ = -\\gamma^c_a \\gamma^d_b \\alpha {}^{(4)}\\Gamma^t_{cd}$$\n",
    "\n",
    "No matter what a and b are, the sum over c and d always occurs in its entirity. Fortunately the Christoffels only exist for three of these. \n",
    "\n",
    "$$ = -\\gamma^r_a \\gamma^r_b \\alpha {}^{(4)}\\Gamma^t_{rr} -\\gamma^\\theta_a \\gamma^\\theta_b \\alpha {}^{(4)}\\Gamma^t_{\\theta\\theta}-\\gamma^\\phi_a \\gamma^\\phi_b \\alpha {}^{(4)}\\Gamma^t_{\\phi\\phi}$$\n",
    "\n",
    "$$ = -\\gamma^r_a \\gamma^r_b \\alpha h'' -\\gamma^\\theta_a \\gamma^\\theta_b \\alpha rh' -\\gamma^\\phi_a \\gamma^\\phi_b \\alpha rh'sin^2\\theta$$"
   ]
  },
  {
   "cell_type": "markdown",
   "id": "dbaee96c",
   "metadata": {},
   "source": [
    "No, we're still not done... a and b are now the indexes on our final $K_{ab}$ matrix. Both terms need to exist for this to work. The locaitons are rt, rr, $\\theta\\theta$, and $\\phi\\phi$ for the projection operator. This means that ab has the options rr, rt, tr, tt, $\\theta\\theta$, $\\phi\\phi$, all others are zero. \n",
    "\n",
    "The angular ones are simple, as they are just 1, they evaluate straight as the last two terms. We even get $-\\alpha rh'$ for $\\theta\\theta$ as we should.\n",
    "\n",
    "Now all we have to worry about is the first term:\n",
    "\n",
    "$$ \\Rightarrow -\\gamma^r_a \\gamma^r_b \\alpha h'' $$\n",
    "\n",
    "In the case of ab=rr this is just antoher 1 case, simple. \n",
    "\n",
    "But what of the other three cases? \n",
    "\n",
    "However, the other cases produce extra terms of $-\\alpha^2h'$ and $\\alpha^4(h')^2$ Thus..."
   ]
  },
  {
   "cell_type": "markdown",
   "id": "b2ff9305",
   "metadata": {},
   "source": [
    "$$ K_{ab} = \\begin{bmatrix}\n",
    "-\\alpha^5(h')^2 h'' & \\alpha^3 h' h'' & 0 & 0 \\\\\n",
    "\\alpha^3 h' h'' & -\\alpha h'' & 0 & 0 \\\\\n",
    "0 & 0 & -\\alpha rh' & 0 \\\\\n",
    "0 & 0 & 0 & -\\alpha rh' sin^2\\theta \\\\\n",
    "\\end{bmatrix}$$"
   ]
  },
  {
   "cell_type": "markdown",
   "id": "fb770052",
   "metadata": {},
   "source": [
    "The answers say the lower three diagonal temrs are correct, but implies that the three top left terms are supposed to be 0. Curious. How can the three diagonal terms be absoltuely right and the others not? \n",
    "\n",
    "NOTE: K is purely spatial. Which should be evident because its components are constructed by the spatial projection operators. So those three terms up there should automatically just vanish. The question is why they *don't* when calculating it out. \n",
    "\n",
    "That said, the \"spatial K\" argument is perfectly valid, and we would have used it to define the zeroes had we remembered it. Obviously the projection operators MAKE what they're acting on spatial, so the t-result simply cannot be. \n",
    "\n",
    "$$ K_{ab} = \\begin{bmatrix}\n",
    "0 & 0 & 0 & 0 \\\\\n",
    "0 & -\\alpha h'' & 0 & 0 \\\\\n",
    "0 & 0 & -\\alpha rh' & 0 \\\\\n",
    "0 & 0 & 0 & -\\alpha rh' sin^2\\theta \\\\\n",
    "\\end{bmatrix}$$"
   ]
  },
  {
   "cell_type": "markdown",
   "id": "0135ec28",
   "metadata": {},
   "source": [
    "<a id='P9'></a>\n",
    "\n",
    "# Problem 9 \\[Back to [top](#toc)\\]\n",
    "$$\\label{P9}$$\n",
    "\n",
    "*Show that a normal observer measures the magnetic field $B^a$ to be $B^a = \\epsilon^{abc} D_b A^\\perp_c$ where $\\epsilon^{abc} = n_d\\epsilon^{dabc}$ is the spatial Levi-Civita tensor. Hint: use part b of **Problem 2**.*"
   ]
  },
  {
   "cell_type": "markdown",
   "id": "59e112f6",
   "metadata": {},
   "source": [
    "\" Show that an observer with (arbitrary) four-velocity $u^a$ will measure the electric field to be $E^a = F^{ab}u_b$ and the magnetic field to be $B^a = \\epsilon^{abcd}u_b F_{dc}/2$. \" "
   ]
  },
  {
   "cell_type": "markdown",
   "id": "8c2d17b3",
   "metadata": {},
   "source": [
    "Well, we did that, so now we just need to play funky with operators and indeces. \n",
    "\n",
    "$$ B^a = \\frac12 \\epsilon^{abcd} u_b F_{dc}  $$\n",
    "\n",
    "$$ = -\\frac12 \\epsilon^{bacd} u_b F_{dc} $$\n",
    "\n",
    "$$ = -\\frac12 \\epsilon^{acd} F_{dc} $$\n",
    "\n",
    "$$ = -\\frac12 \\epsilon^{abc} F_{cb} $$\n",
    "\n",
    "$$ = \\frac12 \\epsilon^{abc} F_{bc} $$\n",
    "\n",
    "$$ = \\frac12 \\epsilon^{abc} ( D_bA_c^\\perp - D_cA_b^\\perp + n_bE_c - n_cE_b ) $$\n",
    "\n",
    "via 2.67\n",
    "\n",
    "$$ = \\frac12 \\epsilon^{abc} ( D_bA_c^\\perp - D_cA_b^\\perp + n_bn^bF_{cb} - n_cn^cF_{bc} ) $$\n",
    "\n",
    "via 2.63\n",
    "\n",
    "$$ = \\frac12 \\epsilon^{abc} ( D_bA_c^\\perp - D_cA_b^\\perp - F_{cb} + F_{bc} ) $$\n",
    "\n",
    "We note that the F-tensors do NOT cancel, and in fact are quite constructive and add together. The Levi-Civita tensor is itself antisymmetric so it doesn't make the F-terms vanish. \n",
    "\n",
    "$$ = \\frac12 \\epsilon^{abc} ( D_bA_c^\\perp - D_cA_b^\\perp + 2F_{bc} ) $$\n",
    "\n",
    "Now as it turns out applying the Levi-Civita tensor to the DA sections actually results in a curious relation because we're summing over b and c, which creates like terms for each sum, which allows us to rewrite: \n",
    "\n",
    "$$ = \\frac12 \\epsilon^{abc} ( 2D_bA_c^\\perp + 2F_{bc} ) $$\n",
    "\n",
    "$$ = \\epsilon^{abc} (D_bA_c^\\perp + F_{bc} ) $$\n",
    "\n",
    "Which is almost exactly what we want, but that pesky Faraday tensor is still there. Curiously, it's the same F as what we started with, so we can state:\n",
    "\n",
    "$$ -\\frac12 \\epsilon^{abc} F_{bc} = \\epsilon^{abc} D_bA_c^\\perp $$\n",
    "\n",
    "Which implies that we equal NEGATIVE what we should. "
   ]
  },
  {
   "cell_type": "markdown",
   "id": "b8ed7b84",
   "metadata": {},
   "source": [
    "<a id='P10'></a>\n",
    "\n",
    "# Problem 10 \\[Back to [top](#toc)\\]\n",
    "$$\\label{P10}$$\n",
    "\n",
    "*Show that the acceleration of a normal observer 2.59 is related to the lapse $\\alpha$ according to $a_a = D_a ln\\alpha$. HInt: This requires several steps. Insert $n_a = -\\alpha\\nabla_a t$ into the definition of $a_a$, commute the second derivatives of t, use $n^b\\nabla_an_b=0$, and finally recall the definition of the spatial covariant derivative.*"
   ]
  },
  {
   "cell_type": "markdown",
   "id": "db8383a0",
   "metadata": {},
   "source": [
    "The larger book has an ecplicit statement of the spatial covariant derivative acting on a scalar: $D_a f = \\gamma^b_a \\nabla_b f$"
   ]
  },
  {
   "cell_type": "markdown",
   "id": "863f6611",
   "metadata": {},
   "source": [
    "We remember this problem from the larger Numerical Relativity book. No, we couldn't solve it there, but maybe the hints here will assist. \n",
    "\n",
    "$$ a_a = n^b \\nabla_b n_a $$\n",
    "\n",
    "$$ \\Rightarrow a_a = - n^b \\nabla_b \\alpha \\nabla_a t $$\n",
    "\n",
    "$$ \\Rightarrow a_a = - n^b \\alpha \\nabla_b \\nabla_a t - n^b (\\nabla_b \\alpha) (\\nabla_a t)   $$\n",
    "\n",
    "$$ \\Rightarrow a_a = - n^b \\alpha \\nabla_a \\nabla_b t - n^b (\\nabla_b \\alpha) (\\nabla_a t)   $$\n",
    "\n",
    "$$ \\Rightarrow a_a = + \\alpha n^b \\nabla_a \\frac1\\alpha n_b - n^b (\\nabla_b \\alpha) (\\nabla_a t)   $$\n",
    "\n",
    "$$ \\Rightarrow a_a = n^b \\nabla_a n_b + \\alpha n^b n_b \\nabla_a \\frac1\\alpha - n^b (\\nabla_b \\alpha) (\\nabla_a t)   $$\n",
    "\n",
    "$$ \\Rightarrow a_a = 0 - \\alpha \\nabla_a \\frac1\\alpha - n^b (\\nabla_b \\alpha) (\\nabla_a t)   $$\n",
    "\n",
    "$$ \\Rightarrow a_a = - \\alpha \\nabla_a \\frac1\\alpha + n^b n_a \\frac1\\alpha (\\nabla_b \\alpha)    $$\n",
    "\n",
    "$$ \\Rightarrow a_a = - \\alpha \\nabla_a \\frac1\\alpha + (\\gamma^b_a - \\delta^b_a) (\\nabla_b ln \\alpha)    $$\n",
    "\n",
    "$$ \\Rightarrow a_a = \\nabla_a ln\\alpha + D_a ln\\alpha - \\delta^b_a \\nabla_b ln \\alpha    $$\n",
    "\n",
    "$$ \\Rightarrow a_a = \\nabla_a ln\\alpha + D_a ln\\alpha - \\nabla_a ln \\alpha    $$\n",
    "\n",
    "$$ \\Rightarrow a_a = D_a ln\\alpha $$\n",
    "\n",
    "Wow, that was jumping through QUITE a few hoops right there. This also answers a problem in the normal Numerical Relativity book. "
   ]
  },
  {
   "cell_type": "markdown",
   "id": "37779327",
   "metadata": {},
   "source": [
    "<a id='P11'></a>\n",
    "\n",
    "# Problem 11 \\[Back to [top](#toc)\\]\n",
    "$$\\label{P11}$$\n",
    "\n",
    "*In general the Lie derivative along a vector field $w^a$ of a scalar $\\psi$ is*\n",
    "\n",
    "$$ \\mathcal{L}_w \\psi = w^b \\nabla_b \\psi $$\n",
    "\n",
    "*that of a contravariant vector field $v^a$ is the commutator $[w^b,v^a]$,*\n",
    "\n",
    "$$ \\mathcal{L}_w v^a = [w^b,v^a] = w^b \\nabla_b v^a - v^b \\nabla_b w^a $$\n",
    "\n",
    "*and that of a covariant vector field $v_a$ is*\n",
    "\n",
    "$$ \\mathcal{L}_w v_a = w^b \\nabla_b v_a + v_b \\nabla_a w^b $$\n",
    "\n",
    "*Use the first two equations to derive the third.*"
   ]
  },
  {
   "cell_type": "markdown",
   "id": "ddc7ec36",
   "metadata": {},
   "source": [
    "The nice thing about the metric g is that we can move it in and out at will. For instance...\n",
    "\n",
    "$$ \\mathcal{L}_w v_a = \\mathcal{L}_w g_{ab} v^b = g_{ab} \\mathcal{L}_w v^b = g_{ab} \\mathcal{L}_w v^a $$\n",
    "\n",
    "So in theory we can just apply the metri to the answer. \n",
    "\n",
    "$$ g_{ac} \\mathcal{L}_w v^a = g_{ac}[w^b,v^a] = g_{ac}w^b \\nabla_b v^a - g_{ac}v^b \\nabla_b w^a $$"
   ]
  },
  {
   "cell_type": "markdown",
   "id": "ab7a9f6c",
   "metadata": {},
   "source": [
    "$$ = w^b \\nabla_b g_{ac} v^a - v^b \\nabla_b g_{ac} w^a $$\n",
    "\n",
    "$$ = w^b \\nabla_b v_c - v^b \\nabla_b w_c $$"
   ]
  },
  {
   "cell_type": "markdown",
   "id": "b6d888a8",
   "metadata": {},
   "source": [
    "The first term's right, that's a good sign. Now, the second term... this will need some finagling. "
   ]
  },
  {
   "cell_type": "markdown",
   "id": "8db79f0e",
   "metadata": {},
   "source": [
    "<a id='P12'></a>\n",
    "\n",
    "# Problem 12 \\[Back to [top](#toc)\\]\n",
    "$$\\label{P12}$$\n",
    "\n",
    "*Show that all terms involcing Christoffel symbols in 2.73 cancel, so that we may also write the Lie derivative in terms of partial derivatives.*\n",
    "\n",
    "$$ \\mathcal{L}_n A^\\perp_d = n^c \\partial_c A^\\perp_d + A^\\perp_c \\partial_d n^c $$\n",
    "\n",
    "*This is a general property of Lie derivatives.*\n",
    "\n",
    "This was solved in **Problem A.1** for Tensors in the big Numerical Relativity book, see NR-02 notebook. It should, in theory, be simpler for the one=form verison. "
   ]
  },
  {
   "cell_type": "markdown",
   "id": "cf3df25c",
   "metadata": {},
   "source": [
    "What we ultimately need here is to show that every Christoffel term vanishes, leaving only the partial derivative terms. For that, we turn to our book on General Relativity. Equations 6.33 through 6.35 give us all the information we need about covariant derivatives acting on tensors. We're also going to leave off the perpendicular symbol since this is a general rule. \n",
    "\n",
    "$$ 0 = - n^c \\Gamma^u_{cd} A_u + A_c \\Gamma^c_{ud} n^u $$\n",
    "\n",
    "Now since these terms are independent, some clever index rearranging can give us..\n",
    "\n",
    "$$ = - n^c \\Gamma^u_{cd} A_u + A_u \\Gamma^u_{cd} n^c $$\n",
    "\n",
    "$$ = 0 $$\n",
    "\n",
    "Which is exactly what we needed to show. "
   ]
  },
  {
   "cell_type": "markdown",
   "id": "1856b7f2",
   "metadata": {},
   "source": [
    "<a id='P13'></a>\n",
    "\n",
    "# Problem 13 \\[Back to [top](#toc)\\]\n",
    "$$\\label{P13}$$\n",
    "\n",
    "*Verify equation 2.79*\n",
    "\n",
    "$$\\alpha \\mathcal{L}_n A^\\perp_d = \\mathcal{L}_{\\alpha n} A^\\perp_d = \\mathcal{L}_t A^\\perp_d - \\mathcal{L}_\\beta A^\\perp_d $$\n",
    "\n",
    "Once again we will leave the perpendicular notaiton off since it's irrelevant to this problem. "
   ]
  },
  {
   "cell_type": "markdown",
   "id": "27df55b4",
   "metadata": {},
   "source": [
    "2.78 gives us the definition $\\alpha n^a = t^a - \\beta^a$. \n",
    "\n",
    "Let's start completely from the left.\n",
    "\n",
    "$$\\alpha \\mathcal{L}_n A_d =  \\alpha n^c \\nabla_c A_d + \\alpha A_c \\nabla_d n^c$$\n",
    "\n",
    "Since A is known to be spatial, we can apply 2.71, shuffling the order and sign of the second term. \n",
    "\n",
    "$$ =  \\alpha n^c \\nabla_c A_d - \\alpha n^c \\nabla_d A_c $$\n",
    "\n",
    "Now, treat $\\alpha n^c$ as a singular object. It only has index c so we can use 2.71 again. \n",
    "\n",
    "$$ =  \\alpha n^c \\nabla_c A_d + A_c \\nabla_d \\alpha n^c $$\n",
    "\n",
    "$$ = \\mathcal{L}_{\\alpha n} A_d $$\n",
    "\n",
    "And we're one step closer. The last step is rather trivial and doens't really involve tricks. Revert to previous step:\n",
    "\n",
    "$$ =  \\alpha n^c \\nabla_c A_d + A_c \\nabla_d \\alpha n^c $$\n",
    "\n",
    "Replace everything with the definition 2.78.\n",
    "\n",
    "$$ =  t^c \\nabla_c A_d + A_c \\nabla_d t^c - \\beta^c \\nabla_c A_d - A_c \\nabla_d \\beta^c $$\n",
    "\n",
    "$$ = \\mathcal{L}_t A^\\perp_d - \\mathcal{L}_\\beta A^\\perp_d $$\n"
   ]
  },
  {
   "cell_type": "markdown",
   "id": "df50096e",
   "metadata": {},
   "source": [
    "<a id='latex_pdf_output'></a>\n",
    "\n",
    "# Addendum: Output this notebook to $\\LaTeX$-formatted PDF file \\[Back to [top](#toc)\\]\n",
    "$$\\label{latex_pdf_output}$$\n",
    "\n",
    "The following code cell converts this Jupyter notebook into a proper, clickable $\\LaTeX$-formatted PDF file. After the cell is successfully run, the generated PDF may be found in the root NRPy+ tutorial directory, with filename\n",
    "[MNR-02.pdf](MNR-02.pdf) (Note that clicking on this link may not work; you may need to open the PDF file through another means.)\n",
    "\n",
    "**Important Note**: Make sure that the file name is right in all six locations, two here in the Markdown, four in the code below. \n",
    "\n",
    "* MNR-02.pdf\n",
    "* MNR-02.ipynb\n",
    "* MNR-02.tex"
   ]
  },
  {
   "cell_type": "code",
   "execution_count": 1,
   "id": "abf583ef",
   "metadata": {
    "scrolled": false
   },
   "outputs": [
    {
     "name": "stdout",
     "output_type": "stream",
     "text": [
      "Created NR-02.tex, and compiled LaTeX file to PDF file NR-02.pdf\n"
     ]
    }
   ],
   "source": [
    "import cmdline_helper as cmd    # NRPy+: Multi-platform Python command-line interface\n",
    "cmd.output_Jupyter_notebook_to_LaTeXed_PDF(\"MNR-02\")"
   ]
  },
  {
   "cell_type": "code",
   "execution_count": null,
   "id": "d0d0db4d",
   "metadata": {},
   "outputs": [],
   "source": []
  },
  {
   "cell_type": "code",
   "execution_count": null,
   "id": "41264965",
   "metadata": {},
   "outputs": [],
   "source": []
  }
 ],
 "metadata": {
  "kernelspec": {
   "display_name": "Python 3 (ipykernel)",
   "language": "python",
   "name": "python3"
  },
  "language_info": {
   "codemirror_mode": {
    "name": "ipython",
    "version": 3
   },
   "file_extension": ".py",
   "mimetype": "text/x-python",
   "name": "python",
   "nbconvert_exporter": "python",
   "pygments_lexer": "ipython3",
   "version": "3.10.4"
  }
 },
 "nbformat": 4,
 "nbformat_minor": 5
}
