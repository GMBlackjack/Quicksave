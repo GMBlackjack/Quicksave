{
 "cells": [
  {
   "cell_type": "markdown",
   "id": "0c1bfe81",
   "metadata": {},
   "source": [
    "# Mini Numerical Relativity Problems Chapter 2: Foliations of Spacetime: Constraint and Evolution Equations\n",
    "\n",
    "## Authors: Gabriel M Steward"
   ]
  },
  {
   "cell_type": "markdown",
   "id": "479540e4",
   "metadata": {},
   "source": [
    "https://github.com/zachetienne/nrpytutorial/blob/master/Tutorial-Template_Style_Guide.ipynb\n",
    "\n",
    "Link to the Style Guide. Not internal in case something breaks. "
   ]
  },
  {
   "cell_type": "markdown",
   "id": "10780970",
   "metadata": {},
   "source": [
    "### </list_source_code> NRPy+ Source Code for this module:\n",
    "None, save the pdf conversion at the bottom of this document.  \n",
    "\n",
    "## Introduction:\n",
    "The normal Numerical Relativity book has proven to be dense and not all that helpful in terms of starting out, so we turn to this simpler, more motivated book in the hopes that it will give us the knowledge needed to reach our goal. \n",
    "\n",
    "## </other>  Other (Optional):\n",
    "In order to fascilitate learning, whenever the opportunity arises Sympy will be used. \n",
    "\n",
    "### Note on Notation:\n",
    "Any new notation will be brought up in the notebook when it becomes relevant. \n",
    "\n",
    "### Citations:\n",
    "\n",
    "<a id='1'></a>\n",
    "[1] http://linearalgebra.math.umanitoba.ca/math1220/section-28.html (Cofactor Expansion)\n",
    "\n",
    "<a id='2'></a>\n",
    "[2] https://www.chilimath.com/lessons/advanced-algebra/inverse-of-a-2x2-matrix/ (Matrix Inverse Formula)\n",
    "\n",
    "<a id='3'></a>\n",
    "[3] https://www.physicsforums.com/insights/the-electric-field-seen-by-an-observer-a-relativistic-calculation-with-tensors/ (Magnetic Field I)\n",
    "\n",
    "<a id='4'></a>\n",
    "[4] https://physics.stackexchange.com/questions/625124/trying-to-understand-electric-and-magnetic-fields-as-4-vectors (Magnetic Field II)\n",
    "\n",
    "<a id='5'></a>\n",
    "[5] https://iopscience.iop.org/article/10.1088/1742-6596/437/1/012014/pdf (Magnetic Field III)\n",
    "\n",
    "<a id='6'></a>\n",
    "[6] https://ned.ipac.caltech.edu/level5/March01/Carroll3/Carroll5.html (Lie Derivatives)\n",
    "\n",
    "<a id='7'></a>\n",
    "[7] https://people.math.carleton.ca/~kcheung/math/notes/MATH1107/wk07/07_cofactor_expansion.html#:~:text=One%20way%20of%20computing%20the,(i%E2%88%A3n)). (Cofactors)"
   ]
  },
  {
   "cell_type": "markdown",
   "id": "56664bc2",
   "metadata": {},
   "source": [
    "<a id='toc'></a>\n",
    "\n",
    "# Table of Contents\n",
    "$$\\label{toc}$$\n",
    "\n",
    "[Problem 1](#P1) (Constraint Satisfaction)\n",
    "\n",
    "[Problem 2](#P2) (EM Relativistic Observations)\n",
    "\n",
    "[Problem A4](#A4) (Appendix Aside: Faraday Tensor Transformation)\n",
    "\n",
    "[Problem C1](#C1) (Appendix Aside: Faraday Tensor Determinant)\n",
    "\n",
    "[Problem 3](#P3) (Playing With Lapse And Normals)\n",
    "\n",
    "[Problem 4](#P4) (Finding the Shift Vector)\n",
    "\n",
    "[Problem 5](#P5) (Vanishing Operators)\n",
    "\n",
    "[Problem 6](#P6) (Calculating the Projection Operator)\n",
    "\n",
    "[Problem 7](#P7) (Symmetric Curvature)\n",
    "\n",
    "[Problem 8](#P8) (Manually Calculate Extrinsic Curvature)\n",
    "\n",
    "[Problem 9](#P9) (Observed Magnetism)\n",
    "\n",
    "[Problem 10](#P10) (Acceleration and Lapse)\n",
    "\n",
    "[Problem 11](#P11) (Lie Derivative Commutator)\n",
    "\n",
    "[Problem 12](#P12) (Covariant and Partial Equivalence for Lie Derivatives)\n",
    "\n",
    "[Problem 13](#P13) (Lie Lapse)\n",
    "\n",
    "[Problem 14](#P14) (Covariant Derivative of Faraday)\n",
    "\n",
    "[Problem 15](#P15) (Lie Lapse II)\n",
    "\n",
    "[Problem 16](#P16) (All Together Now, incomplete)\n",
    "\n",
    "[Problem 16 Alt](#P16A) (All Together Now but phrased more helpfully)\n",
    "\n",
    "[Problem 16 Code Validation](#P16C) (The above problem's validation in NRPyLaTeX)\n",
    "\n",
    "[Problem 17](#P17) (Metric Traces)\n",
    "\n",
    "[Problem 18](#P18) (Determinant Relations)\n",
    "\n",
    "[Problem 19](#P19) (Polar Schwarzchild Quantities)\n",
    "\n",
    "28\n",
    "\n",
    "[PDF](#latex_pdf_output) (turn this into a PDF)"
   ]
  },
  {
   "cell_type": "markdown",
   "id": "cd9e5529",
   "metadata": {},
   "source": [
    "<a id='P1'></a>\n",
    "\n",
    "# Problem 1 \\[Back to [top](#toc)\\]\n",
    "$$\\label{P1}$$\n",
    "\n",
    "*Define a constraint violation function $\\mathcal{C} = D_iE^i - 4\\pi\\rho$ and assume that charge is conserved, so that the continuity equation $\\partial_t \\rho = -D_ij^i$ holds. Then show that the time derivative of the constraint violation funciton vanishes, $\\partial_t \\mathcal{C} = 0$*"
   ]
  },
  {
   "cell_type": "markdown",
   "id": "88273330",
   "metadata": {},
   "source": [
    "Take the time derivative of both sides. \n",
    "\n",
    "$$ \\partial_t \\mathcal C = \\partial_t D_i E^i - 4\\pi \\partial_t \\rho $$\n",
    "\n",
    "$$ \\Rightarrow \\partial_t \\mathcal C = \\partial_t D_i E^i + 4\\pi D_i j^i $$"
   ]
  },
  {
   "cell_type": "markdown",
   "id": "840f60d6",
   "metadata": {},
   "source": [
    "Note that while we CAN move the time derivative past the D and get an equation in the form of 2.15, THIS IS A WILD GOOSE CHASE. 2.16 has $D_i E^i = 4\\pi \\rho$. Which means...\n",
    "\n",
    "$$ \\Rightarrow \\partial_t \\mathcal C = \\partial_t 4\\pi \\rho + 4\\pi D_i j^i $$\n",
    "\n",
    "$$ \\Rightarrow \\partial_t \\mathcal C = - 4\\pi D_i j^i + 4\\pi D_i j^i $$\n",
    "\n",
    "$$ \\Rightarrow \\partial_t \\mathcal C = 0 $$\n",
    "\n",
    "And that is SO much neater than what we were trying to do. Don't even have to monkey with indeces at ALL. "
   ]
  },
  {
   "cell_type": "markdown",
   "id": "848c6998",
   "metadata": {},
   "source": [
    "<a id='P2'></a>\n",
    "\n",
    "# Problem 2 \\[Back to [top](#toc)\\]\n",
    "$$\\label{P2}$$\n",
    "\n",
    "*a) Demonstrate that 2.18 reduces to 2.17 in the observer's local Lorentz frame, where $u^a = (1,0,0,0)$*"
   ]
  },
  {
   "cell_type": "markdown",
   "id": "25132808",
   "metadata": {},
   "source": [
    "2.17 is the full Faraday Tensor, given by:\n",
    "\n",
    "$$ F^{ab} = \\begin{bmatrix}\n",
    "0 & E^x & E^y & E^z \\\\\n",
    "-E^x & 0 & B^z & -B^y \\\\\n",
    "-E^y & -B^z & 0 & B^x \\\\\n",
    "-E^z & B^y & -B^x & 0 \\\\\n",
    "\\end{bmatrix}\n",
    "$$\n",
    "\n",
    "And 2.18 is the \"one line\" verison. \n",
    "\n",
    "$$ F^{ab} = u^aE^b - u^bE^a + u_d\\epsilon^{dabc} B_c $$\n",
    "\n",
    "Our goal is to show that 2.18 really does become 2.17 when given the \"stationary\" four-velocity. "
   ]
  },
  {
   "cell_type": "markdown",
   "id": "5f3d476e",
   "metadata": {},
   "source": [
    "First of all, the diagonal: clearly correct, as every time a=b everything cancels--the two E terms are opposing, and the Levi-Civita tensor can never have duplicates in it. \n",
    "\n",
    "When a or b equals t, d cannot be t, and thus the Levi-Civita tensor vanishes for all a or b = t cases, leaving only the E terms. The negatives remain when b=t, and the positives remain when a=t, and the E terms vanish for a and not equaling t, so that's the Electric contributions. \n",
    "\n",
    "So, now for the B contributions. d has to equal t. a and b have to equal whatever the coordinates at their point is, meaning c must be the only remaining point. (so an xy would produce a B of z, which is exactly what we see). Flipping a and b changes the sign by the even-oddness rule of the Levi-Civita tensor. All we really have to do is make sure the signs are right on one side. The combinations we end up with for the upper part of the matrix are: txyz, txzy, and tyzx. Note that the first one, txyz, is the standard, thus evalutes positive. The second one is a single-shuffle, so it evaluates negatively. The last one is a double-shuffle, so it evaluates positive. \n",
    "\n",
    "Thus, every single term is accounted for! "
   ]
  },
  {
   "cell_type": "markdown",
   "id": "c864e377",
   "metadata": {},
   "source": [
    "*b) Show that an observer with (arbitrary) four-velocity $u^a$ will measure the electric field to be $E^a = F^{ab}u_b$ and the magnetic field to be $B^a = \\epsilon^{abcd}u_b F_{dc}/2$. Hint: For the latter, use $\\epsilon^{abcd}\\epsilon_{cdef} = -2\\delta^{ab}_{ef} = -2(\\delta^a_e\\delta^b_f - \\delta^a_f \\delta^b_e)$*"
   ]
  },
  {
   "cell_type": "markdown",
   "id": "13dfd7e5",
   "metadata": {},
   "source": [
    "For the electric field, we work backward by applying $u_b$ to 2.18. \n",
    "\n",
    "$$ F^{ab}u_b = u^aE^bu_b - u^bE^au_b + u_d\\epsilon^{dabc} B_cu_b $$\n",
    "\n",
    "We know from the definitions that $E^bu_b=0$ and from General Relativity that $u^bu_b=-1$. However, the last term? well, if d=b we have a case where the Levi-Civita tensor vanishes. And if they are not equal, then both u values can't exist at the same time, and everything explodes to zero. Kaboom.\n",
    "\n",
    "$$ F^{ab}u_b = E^a $$"
   ]
  },
  {
   "cell_type": "markdown",
   "id": "282b4900",
   "metadata": {},
   "source": [
    "Now, for the B version, we need to lower the indeces of F and alter them a bit. \n",
    "\n",
    "$$ F_{ab} = u_aE_b - u_bE_a + u_d\\epsilon^{dc}_{ab} B_c $$\n",
    "\n",
    "$$ \\Rightarrow F_{dc} = u_dE_c - u_cE_d + u_f\\epsilon^{fe}_{dc} B_e $$\n",
    "\n",
    "Now we use a trick akin to $u^an_a = g_{ab}u^an^b = u_bn^b$. \n",
    "\n",
    "$$ \\Rightarrow F_{dc} = u_dE_c - u_cE_d + u^e\\epsilon_{edcf} B^f $$\n",
    "\n",
    "Perform a shuffle for later index convenience. No sign change as it is two swaps. \n",
    "\n",
    "$$ \\Rightarrow F_{dc} = u_dE_c - u_cE_d + u^e\\epsilon_{dcef} B^f $$"
   ]
  },
  {
   "cell_type": "markdown",
   "id": "d5c9e83b",
   "metadata": {},
   "source": [
    "And now we see if we can extract $B^a$ with the suggested operations. \n",
    "\n",
    "$$ \\frac12 \\epsilon^{abcd}u_bF_{dc} = \\frac12 \\epsilon^{abcd}u_bu_dE_c - \\frac12 \\epsilon^{abcd}u_bu_cE_d + \\frac12 \\epsilon^{abcd}u_bu^e\\epsilon_{dcef} B^f $$"
   ]
  },
  {
   "cell_type": "markdown",
   "id": "da5b46f1",
   "metadata": {},
   "source": [
    "Note that the first two terms are summed over all three of their lower indeces, b d and c, which means that each individual term can have its indeces shuffled. \n",
    "\n",
    "$$ \\Rightarrow \\frac12 \\epsilon^{abcd}u_bF_{dc} = \\frac12 \\epsilon^{abcd}u_bu_dE_c - \\frac12 \\epsilon^{abdc}u_bu_dE_c + \\frac12 \\epsilon^{abcd}u_bu^e\\epsilon_{dcef} B^f $$\n",
    "\n",
    "This may look like it makes the first two terms add constructively due to the swap in the Levi-Civita tensor's indeces, but remember we are summing over b, d, and c. Which means ALL combinations of bdc will be hit. We can show they cancel since swapping b and d will change the sign, but not the value. For instance:\n",
    "\n",
    "$$ \\Rightarrow \\frac12 \\epsilon^{abcd}u_bF_{dc} = \\frac12 \\epsilon^{abcd}u_bu_dE_c - \\frac12 \\epsilon^{adbc}u_du_bE_c + \\frac12 \\epsilon^{abcd}u_bu^e\\epsilon_{dcef} B^f $$\n",
    "\n",
    "The L-C tensors are now two swaps away from each other, meaning they always share the value. Meaning the E terms will cancel! (Which they kind of had to for this to work at all.)\n",
    "\n",
    "$$ \\Rightarrow \\frac12 \\epsilon^{abcd}u_bF_{dc} = \\frac12 \\epsilon^{abcd}u_bu^e\\epsilon_{dcef} B^f $$"
   ]
  },
  {
   "cell_type": "markdown",
   "id": "ed88d443",
   "metadata": {},
   "source": [
    "The double tensor relation was, in fact, given. That said we do have to swap the first two indeces of the second tensor, which flips the sign yet again. And then we go on...\n",
    "\n",
    "$$ \\Rightarrow \\frac12 \\epsilon^{abcd}u_bF_{dc} = -\\frac12 u_bu^e\\epsilon^{abcd}\\epsilon_{cdef} B^f $$\n",
    "\n",
    "$$ \\Rightarrow \\frac12 \\epsilon^{abcd}u_bF_{dc} = \\delta^{ab}_{ef} u_bu^e B^a $$\n",
    "\n",
    "$$ \\Rightarrow \\frac12 \\epsilon^{abcd}u_bF_{dc} = (\\delta^a_e \\delta^b_f - \\delta^a_f \\delta^b_e) u_bu^eB^f $$\n",
    "\n",
    "We need to be RELALY CAREFUL with what we're summing in both cases. Note that a is actually constant, so each of the detlas only exist when a equals whatever it is over, which means we can reduce to...\n",
    "\n",
    "$$ \\Rightarrow \\frac12 \\epsilon^{abcd}u_bF_{dc} =  \\delta^b_f u_bu^aB^f + \\delta^b_e u_bu^eB^a $$\n",
    "\n",
    "$$ \\Rightarrow \\frac12 \\epsilon^{abcd}u_bF_{dc} =  u_fu^aB^f + u_eu^eB^a $$\n",
    "\n",
    "$$ \\Rightarrow \\frac12 \\epsilon^{abcd}u_bF_{dc} =  B^a $$\n",
    "\n",
    "Which is what we sought to show. "
   ]
  },
  {
   "cell_type": "markdown",
   "id": "0aeb8330",
   "metadata": {},
   "source": [
    "Originally we had a big problem thinking the sources didn't agree. We later found out they did, so here's the notes for posterity. This first equation is the answer. \n",
    "\n",
    "$$ B^a = \\frac12 \\epsilon^{abcd}u_bF_{dc} $$\n",
    "\n",
    "[3](#3) Says:\n",
    "\n",
    "$$ B_a = \\frac12 \\epsilon_{abcd} F^{cd} u^b $$\n",
    "\n",
    "Remember, the Levi-Civita tensor is antisymmetric, so ORDER MATTERS. \n",
    "\n",
    "$$ \\Rightarrow B^a = \\frac12 \\epsilon^a_{bcd} F^{cd} u^b $$\n",
    "\n",
    "Via $a^cb_c = g^{cd} a_db_c = a_da^d$ we can restate...\n",
    "\n",
    "NOTE: due to the funky nature of the LC tensor, this accures a minus sign. \n",
    "\n",
    "$$ \\Rightarrow B^a = - \\frac12 \\epsilon^{aefh} F_{fh} u_e $$\n",
    "\n",
    "And we can set the indeces back since they're all being summed arbitrarily.\n",
    "\n",
    "$$ \\Rightarrow B^a = - \\frac12 \\epsilon^{abcd} F_{cd} u_b $$\n",
    "\n",
    "Note the indeces on the Faray tensor are reverse what Mini Numerical Relativity gives. If we try to flip them...\n",
    "\n",
    "$$ \\Rightarrow B^a = \\frac12 \\epsilon^{abcd} F_{dc} u_b $$\n",
    "\n",
    "[4](#4) Says:\n",
    "\n",
    "$$ B^a = \\frac12 \\epsilon^{abcd}u_dF_{bc} $$\n",
    "\n",
    "Adjust indeces.\n",
    "\n",
    "$$ \\Rightarrow B^a = \\frac12 \\epsilon^{adcb}u_bF_{dc} $$\n",
    "\n",
    "Swap b and d in the LC Tensor, changing its sign. \n",
    "\n",
    "$$ \\Rightarrow B^a = -\\frac12 \\epsilon^{abcd}u_bF_{dc} $$\n",
    "\n",
    "We deduce that this one is simply wrong. Could easily be a typo. \n",
    "\n",
    "[5](#5) is a little different but it says:\n",
    "\n",
    "$$ B^i = \\frac12 \\epsilon^{0ijk} F_{kj} $$\n",
    "\n",
    "Notably this is all in cartesian indeces, but we can change that by putting the four-velocity into it agian. Since the paper was using (-1,0,0,0) this pulls out a minus sign. \n",
    "\n",
    "$$ B^a = - \\frac12 \\epsilon^{dabc} u_d F_{cb} $$\n",
    "\n",
    "Index adjustment: db=bd.\n",
    "\n",
    "$$ B^a = - \\frac12 \\epsilon^{badc} u_b F_{cd} $$\n",
    "\n",
    "Flip the Faraday tensor.\n",
    "\n",
    "$$ B^a = \\frac12 \\epsilon^{badc} u_b F_{dc} $$\n",
    "\n",
    "Index shuffling for the LC-Tensor is badc -> abdc -> abcd, two swaps, which means the sign is kept.\n",
    "\n",
    "$$ B^a = \\frac12 \\epsilon^{abcd} u_b F_{dc} $$\n"
   ]
  },
  {
   "cell_type": "markdown",
   "id": "92447646",
   "metadata": {},
   "source": [
    "Okay there have been SEVERAL references to Appendix A, so we're going to go dig around there for a while at this point. Let's see what illuminating problems there are here:\n",
    "\n",
    "Problem 1: just the identity matrix/tensor, trivial.\n",
    "\n",
    "Problem 2: The symmetrization of an antisymmetric tensor vanishes. Trivial. That said there is a good reminder of the property $S_{ab}A^{ab} = 0$ between Symmetric and Antisymmetric tensors. \n",
    "\n",
    "Problem 3: The boosting of the four-velocity via Lorentz transformation, trivial. \n",
    "\n",
    "Problem 4: ah, this one's about the Faraday tensor! Let's do it. "
   ]
  },
  {
   "cell_type": "markdown",
   "id": "bf66cd28",
   "metadata": {},
   "source": [
    "<a id='A4'></a>\n",
    "\n",
    "# Problem A4 \\[Back to [top](#toc)\\]\n",
    "$$\\label{A4}$$\n",
    "\n",
    "*The electric and magnetic fields in an unprimed corodinate system are given by $E^i$ and $B^i$, and the Faraday tensor by 2.17. An observer in a primed coordinate frame would identify the electric and magnetic fields from the Faraday tensor as $E^{i'}= F^{t'i'} = M^{t'}_c M^{i'}_{d} F^{cd}$ and similarly for the magnetic fields. Find the electric and magnetic fields as observed in a reference frame that is boosted with speed v in the positive z-direction with respect to the unprimed reference frame. Check: for the x'-component the answer is $E^{x'} = \\gamma(E^x - vB^y)$*"
   ]
  },
  {
   "cell_type": "markdown",
   "id": "421302e7",
   "metadata": {},
   "source": [
    "So basically take the Faraday Tensor and apply the z-direction Lorentz Transformation Matrix like so:\n",
    "\n",
    "$$ \\begin{bmatrix}\n",
    "\\gamma & 0 & 0 & -\\gamma v \\\\\n",
    "0 & 1 & 0 & 0 \\\\\n",
    "0 & 0 & 1 & 0 \\\\\n",
    "-\\gamma v & 0 & 0 & \\gamma \\\\\n",
    "\\end{bmatrix}  \\begin{bmatrix}\n",
    "0 & E^x & E^y & E^z \\\\\n",
    "-E^x & 0 & B^z & -B^y \\\\\n",
    "-E^y & -B^z & 0 & B^x \\\\\n",
    "-E^z & B^y & -B^x & 0 \\\\\n",
    "\\end{bmatrix}\\begin{bmatrix}\n",
    "\\gamma & 0 & 0 & -\\gamma v \\\\\n",
    "0 & 1 & 0 & 0 \\\\\n",
    "0 & 0 & 1 & 0 \\\\\n",
    "-\\gamma v & 0 & 0 & \\gamma \\\\\n",
    "\\end{bmatrix}\n",
    "$$\n",
    "\n",
    "Remember, you DO have to do it twice, once from each side, since this is a tensor. Then just multiply it out. The result is..."
   ]
  },
  {
   "cell_type": "markdown",
   "id": "769444b1",
   "metadata": {},
   "source": [
    "$$ = \\begin{bmatrix}\n",
    "\\gamma v E^z & \\gamma (E^x - vB^y) & \\gamma(E^y + vB^x) & \\gamma E^z \\\\\n",
    "-E^x & 0 & B^z & -B^y \\\\\n",
    "-E^y & -B^z & 0 & B^x \\\\\n",
    "-\\gamma E^z & \\gamma(-vE^x + B^y) & \\gamma(-vE^y - B^x) & -\\gamma v E^z \\\\\n",
    "\\end{bmatrix} \\begin{bmatrix}\n",
    "\\gamma & 0 & 0 & -\\gamma v \\\\\n",
    "0 & 1 & 0 & 0 \\\\\n",
    "0 & 0 & 1 & 0 \\\\\n",
    "-\\gamma v & 0 & 0 & \\gamma \\\\\n",
    "\\end{bmatrix}$$"
   ]
  },
  {
   "cell_type": "markdown",
   "id": "d944b51e",
   "metadata": {},
   "source": [
    "$$ = \\begin{bmatrix}\n",
    "0 & \\gamma (E^x - vB^y) & \\gamma(E^y + vB^x) & \\gamma^2 E^z (1-v^2) \\\\\n",
    "\\gamma(-E^x+vB^y) & 0 & B^z & \\gamma(vE^x - B^y) \\\\\n",
    "\\gamma(-E^y - vB^x) & -B^z & 0 & \\gamma(vE^y + B^x)\\\\\n",
    "-\\gamma^2 E^z (1-v^2) & \\gamma(-vE^x + B^y) & \\gamma(-vE^y - B^x) & 0 \\\\\n",
    "\\end{bmatrix}$$\n",
    "\n",
    "$$ = \\begin{bmatrix}\n",
    "0 & \\gamma (E^x - vB^y) & \\gamma(E^y + vB^x) & E^z \\\\\n",
    "\\gamma(-E^x+vB^y) & 0 & B^z & \\gamma(vE^x - B^y) \\\\\n",
    "\\gamma(-E^y - vB^x) & -B^z & 0 & \\gamma(vE^y + B^x)\\\\\n",
    "-E^z & \\gamma(-vE^x + B^y) & \\gamma(-vE^y - B^x) & 0 \\\\\n",
    "\\end{bmatrix}$$"
   ]
  },
  {
   "cell_type": "markdown",
   "id": "111f678e",
   "metadata": {},
   "source": [
    "Which is antysymmetric and does match the check we were given. Notably the z direction components are completley unchanged. "
   ]
  },
  {
   "cell_type": "markdown",
   "id": "f0ab4351",
   "metadata": {},
   "source": [
    "<a id='C1'></a>\n",
    "\n",
    "# Problem C1 \\[Back to [top](#toc)\\]\n",
    "$$\\label{C1}$$\n",
    "\n",
    "Once again, we were refered to the Appendix and found a problem.\n",
    "\n",
    "*a) Evaluate the components $F^a_b$ of the Faraday tensor 2.17 in a Lorentz frame where $g_{ab} = \\eta_{ab}$*"
   ]
  },
  {
   "cell_type": "markdown",
   "id": "c6f81785",
   "metadata": {},
   "source": [
    "We need to lower the second index. One may think that in a normal spacetime this won't matter, but no, the diagonal is (-1,1,1,1), so which direction the sign goes across definitely matters. We want $\\eta_{cb} F^{ac}$, which becomes in matrix form:\n",
    "\n",
    "$$ \\begin{bmatrix}\n",
    "0 & E^x & E^y & E^z \\\\\n",
    "-E^x & 0 & B^z & -B^y \\\\\n",
    "-E^y & -B^z & 0 & B^x \\\\\n",
    "-E^z & B^y & -B^x & 0 \\\\\n",
    "\\end{bmatrix}\\begin{bmatrix}\n",
    "-1 & 0 & 0 & 0 \\\\\n",
    "0 & 1 & 0 & 0 \\\\\n",
    "0 & 0 & 1 & 0 \\\\\n",
    "0 & 0 & 0 & 1 \\\\\n",
    "\\end{bmatrix}$$\n",
    "\n",
    "$$ = \\begin{bmatrix}\n",
    "0 & E^x & E^y & E^z \\\\\n",
    "E^x & 0 & B^z & -B^y \\\\\n",
    "E^y & -B^z & 0 & B^x \\\\\n",
    "E^z & B^y & -B^x & 0 \\\\\n",
    "\\end{bmatrix}$$\n",
    "\n",
    "If we had lowered the other index all E values would be negative. Note that this is NOT antisymmetric, but if we were to apply the metric again it would be. "
   ]
  },
  {
   "cell_type": "markdown",
   "id": "360b1984",
   "metadata": {},
   "source": [
    "*b) Show that $det(F^a_b) = -(\\pmb{E} \\cdot \\pmb{B})^2$*"
   ]
  },
  {
   "cell_type": "markdown",
   "id": "54613505",
   "metadata": {},
   "source": [
    "Right, there's no simple formula for the 4x4 determinant... Which means we need to go look up our how to solve for determinant methods again. We find cofactor expansion at [2](#2). Let's split it up across the top row to make it... simpler.\n",
    "\n",
    "$$ det(F^a_b) = 0 -E^x det \\begin{bmatrix}\n",
    "E^x & B^z & -B^y\\\\\n",
    "E^y & 0 & B^x\\\\\n",
    "E^z & -B^x & 0\\\\\n",
    "\\end{bmatrix}+E^y det \\begin{bmatrix}\n",
    "E^x & 0 & -B^y\\\\\n",
    "E^y & -B^z & B^x\\\\\n",
    "E^z & B^y & 0\\\\\n",
    "\\end{bmatrix}-E^z det \\begin{bmatrix}\n",
    "E^x & 0 &  B^z\\\\\n",
    "E^y & -B^z & 0\\\\\n",
    "E^z & B^y & -B^x\\\\\n",
    "\\end{bmatrix}$$\n",
    "\n"
   ]
  },
  {
   "cell_type": "markdown",
   "id": "7bf98156",
   "metadata": {},
   "source": [
    "Notice that the first determinant went to zero. As for the others..\n",
    "\n",
    "$$ = - B^zB^xE^zE^x - B^yB^xE^yE^x - B^xB^xE^xE^x - B^yB^yE^yE^y - B^zB^yE^zE^y - B^xB^yE^xE^y - B^xB^zE^xE^z - B^zB^yE^yE^z - B^zB^zE^zE^z $$\n",
    "\n",
    "$$ = - 2B^zB^xE^zE^x - 2B^yB^xE^yE^x - B^xB^xE^xE^x - B^yB^yE^yE^y - 2B^zB^yE^zE^y - B^zB^zE^zE^z $$\n",
    "\n",
    "$$ = -(E^xB^x + E^yB^y + E^zB^z)^2 $$\n",
    "\n",
    "$$ = -(\\pmb E \\cdot \\pmb B)^2 $$"
   ]
  },
  {
   "cell_type": "markdown",
   "id": "01586573",
   "metadata": {},
   "source": [
    "<a id='P3'></a>\n",
    "\n",
    "# Problem 3 \\[Back to [top](#toc)\\]\n",
    "$$\\label{P3}$$\n",
    "\n",
    "*Consider a time coordinate t that is related to the time T by $t = T-h(r)$. Here h(r), assumed to depend on the radius r = $\\sqrt{x^2+y^2+z^2}$ only, is sometimes called a **height function**; it describes how far the t=const slice lies above the T=const slice, as illustrated in Fig 2.1. Refer to the coordiantes $x^{a'}=(T,r',\\theta',\\phi')$ as primed and $x^{a}=(t,r,\\theta,\\phi)$ as unprimed, where we set up $(r,\\theta,\\phi)=(r',\\theta ', \\phi ')$. In the primes frame the metric is given by the Minkowski metric, $g_{a'b'} = \\eta_{a'b'}$.*\n",
    "\n",
    "*a) Evaluate 2.34 to find the components $n_{a'}$ and $n^{a'}$ of the normal vector--normal to the t=const surfaces, that is--in the primed frame.*"
   ]
  },
  {
   "cell_type": "markdown",
   "id": "32750669",
   "metadata": {},
   "source": [
    "NOTE: all \"d\" derivatives are partial derivatives, we got lazy with typing. \n",
    "\n",
    "2.34 is $n_a = -\\alpha \\nabla_a t$. This easily becomes\n",
    "\n",
    "$$ n_{a'} = -\\alpha \\nabla_{a'} (T-h(r)) = -\\alpha(1,-h'(r),0,0)$$\n",
    "\n",
    "Multiply by the metric to raise the operator\n",
    "\n",
    "$$ n^{a'} = -\\alpha(-1,-h'(r),0,0)$$"
   ]
  },
  {
   "cell_type": "markdown",
   "id": "bca765ae",
   "metadata": {},
   "source": [
    "*b) Normalize the normal vector according to 2.35 to find $\\alpha$*\n",
    "\n",
    "The dot product of our two vectors is \n",
    "\n",
    "$$ \\alpha^2 (-1 + h'(r)^2) $$\n",
    "\n",
    "Which needs to equal -1. Which means...\n",
    "\n",
    "$$ 1-h'(r)^2 = \\frac{1}{\\alpha^2} $$\n",
    "$$ \\Rightarrow \\alpha = \\sqrt{\\frac{1}{1-h'(r)^2}} $$"
   ]
  },
  {
   "cell_type": "markdown",
   "id": "452bacbc",
   "metadata": {},
   "source": [
    "*c) Now transform the normal vector to the umprimed frame using $n_a = (\\partial x^{b'} / \\partial x^a)n_{b'}$ (See A.29). If all goes well you will recover 2.36.*"
   ]
  },
  {
   "cell_type": "markdown",
   "id": "c5163933",
   "metadata": {},
   "source": [
    "Following this, let's examine what that derivative means...\n",
    "\n",
    "For the two angular components, which never change at all, the rate is 1 as they are the exact same. $\\theta$ changes with $\\theta$ and $\\phi$ with $\\phi$ independently, making their mixed derivatives 0 and their self derivatievs 1. But it all turns to zero anyway since those components are always zero. \n",
    "\n",
    "Now, r does in fact equal r', making the dr'/dr = 1. However, it also relies in some way on the time T or t... and we need to tease out exactly how. What is dt'/dr? This would be dT/dr, or h'(r). This would result in \n",
    "\n",
    "$$ (1)(h'(r)) + (-h'(r))(1) = 0 $$\n",
    "\n",
    "Which gives us the zero we need on our r index. \n",
    "\n",
    "So, lastly, the t index. We want it to remain 1. This involes the derivative dT/dt and dr/dt, which are not quite as obvious results. We DO know that h(r) is a function of r only, so T = t + h'(r) reveals that dT/dt = 1. This much is easy enough to show. \n",
    "\n",
    "However, the radius... to get the answer we ant the derivative dr/dt better be zero, but it doesn't *seem* to be the case. Since we don't know what h is we can't just invert, and if we try to force it we get $dr/dt = -h^{-1'}(T-t)(T-t)'$. Aha! But T'-t' is 1-1 is 0, thus it vanishes! We'll take that, it makes the derivative equal zero. Which means we end up with just a single dT/dt derivative of 1, and 1 times 1 is 1. Thus...\n",
    "\n",
    "$$ n_a = -\\alpha(1,0,0,0) $$\n",
    "\n",
    "Which is what we sought. "
   ]
  },
  {
   "cell_type": "markdown",
   "id": "ac19c944",
   "metadata": {},
   "source": [
    "<a id='P4'></a>\n",
    "\n",
    "# Problem 4 \\[Back to [top](#toc)\\]\n",
    "$$\\label{P4}$$\n",
    "\n",
    "*Return to **Problem 3** and find the contravariant components of $n^a$ of the normal vector in the unprimed frame. Compare your result with 2.40 to identify the shift factor $\\beta^i$. Hint: use $n^a = (\\partial x^a / \\partial x^{b'}) n^{b'}$*"
   ]
  },
  {
   "cell_type": "markdown",
   "id": "cd0c6a65",
   "metadata": {},
   "source": [
    "So we need to do the derivatives in \"inverse\" now. The angle derivatives do not change, don't worry about it. dr/dr' = dr/dr = 1 still. However, what of the rest? We've actually done dt/dT before, it is also just 1. \n",
    "\n",
    "However, now we have dt/dr and dr/dT. dt/dr is -h'(r). dr/dT actually has the same result as dr/dt--0. \n",
    "\n",
    "So, what does our final vector look like then with all this? We start with (-1,-h'(r),0,0). The t coordinate becomes $1-(h')^2$. The r coordinate becomes h'. (remember to watch VERY CAREFULLY the order of indeces! This trapped us up for SO LONG)\n",
    "\n",
    "$$ n^a = \\alpha(1-(h')^2, h',0,0) $$\n",
    "\n",
    "We can force this into the form we want via.\n",
    "\n",
    "$$ \\Rightarrow n^a = \\frac1\\alpha(\\alpha^2(1-(h')^2), \\alpha^2h',0,0) $$\n",
    "\n",
    "Note that since we found $\\alpha$ in **Problem 3**, the first term reduces...\n",
    "\n",
    "$$ \\Rightarrow n^a = \\frac1\\alpha(1, \\alpha^2h',0,0) $$\n",
    "\n",
    "Which means we get $\\beta^i$ of $(-\\alpha^2 h',0,0)$ via 2.40.\n",
    "\n",
    "Had to rely on the answers for this one, as we were getting a non-transformation. But we understand it fully now. Be VERY careful with terms, we lost a square the last time we did this, took a while to track down. "
   ]
  },
  {
   "cell_type": "markdown",
   "id": "d72b2830",
   "metadata": {},
   "source": [
    "<a id='P5'></a>\n",
    "\n",
    "# Problem 5 \\[Back to [top](#toc)\\]\n",
    "$$\\label{P5}$$\n",
    "\n",
    "*a) Show that $A^a_{||}$ is indeed normal by showing that its contraction with the projection operator $\\gamma^a_b$ vanishes.*"
   ]
  },
  {
   "cell_type": "markdown",
   "id": "15406df6",
   "metadata": {},
   "source": [
    "From 2.45 we get the definition of the paralell operator, giving us:\n",
    "\n",
    "$$ - \\gamma^a_b n^a n_b A^b $$\n",
    "\n",
    "The proejction operator is 2.47.\n",
    "\n",
    "$$ = - (g^a_b + n^an_b) n^a n_b A^b $$\n",
    "\n",
    "$$ = -\\delta^a_bn^a n_b A^b -n^an_b n^a n_b A^b $$"
   ]
  },
  {
   "cell_type": "markdown",
   "id": "b3617cea",
   "metadata": {},
   "source": [
    "$$ = - n^a n_a A^a - n^an_b n^a n_b A^b $$\n",
    "\n",
    "$$ = A^a - n^an_b n^a n_b A^b $$\n",
    "\n",
    "$$ = A^a - g^{ac}g_{bc}n_cn_b n^a n^c A^b $$\n",
    "\n",
    "$$ = A^a + g^a_bn_b n^a A^b $$\n",
    "\n",
    "$$ = A^a + \\delta^a_bn_b n^a A^b $$\n",
    "\n",
    "$$ = A^a + n_a n^a A^a $$\n",
    "\n",
    "$$ = A^a - A^a $$\n",
    "\n",
    "$$ = 0 $$"
   ]
  },
  {
   "cell_type": "markdown",
   "id": "cc9e5d4c",
   "metadata": {},
   "source": [
    "*b) Show that $A^a_\\perp$ is indeed spatial by showing that its contraciton with the normal vector $n^a$ vanishes.*\n",
    "\n",
    "From 2.46 we get\n",
    "\n",
    "$$ n^a(g^a_b + n^an_b)A^b $$\n",
    "\n",
    "$$ = n^ag^a_bA^b + n^an^an_bA^b $$\n",
    "\n",
    "$$ = n^a\\delta^a_bA^b + g^{ac}g_{bc}n^an^bn_bA^b $$\n",
    "\n",
    "$$ = n^a\\delta^a_bA^b - \\delta^a_bn^aA^b $$\n",
    "\n",
    "$$ = 0 $$\n",
    "\n",
    "This reveals to us a NEW TOOL: the pulling out of the delta to change indeces! \n",
    "\n",
    "NOTE: Writing this down somewhere so we don't make the mistake again: $n^a \\neq g^{aa}n_a$ "
   ]
  },
  {
   "cell_type": "markdown",
   "id": "a52b2332",
   "metadata": {},
   "source": [
    "*c) Show that $\\gamma^a_b\\gamma^b_c=\\gamma^a_c$. This property guarantees that projecting an object that has already been projected will no longer change the object. Putting it differently, the projection operator acts like the identity operator for spatial objects.*\n",
    "\n",
    "This is\n",
    "\n",
    "$$ (g^a_b + n^an_b)(g^b_c + n^bn_c) $$\n",
    "\n",
    "$$ = g^a_bg^b_c +g^a_bn^bn_c + n^an_bg^b_c + n^an_bn^bn_c $$\n",
    "\n",
    "$$ = g^a_c + g^a_bn^bn_c + n^an_bg^b_c - n^an_c $$\n",
    "\n",
    "$$ = g^a_c + n^an_c + n^an_c - n^an_c $$\n",
    "\n",
    "$$ = g^a_c + n^an_c $$\n",
    "\n",
    "And that's that!"
   ]
  },
  {
   "cell_type": "markdown",
   "id": "3c68befe",
   "metadata": {},
   "source": [
    "<a id='P6'></a>\n",
    "\n",
    "# Problem 6 \\[Back to [top](#toc)\\]\n",
    "$$\\label{P6}$$\n",
    "\n",
    "*Find the components of the operator $\\gamma^a_b$ that projects into the t=const slices described in **Problem 3** and **Problem 4**.*\n",
    "\n",
    "Well, we can already split it up a bit, the operator as a whole is:\n",
    "\n",
    "$$ \\delta^a_b + n^an_b $$\n",
    "\n",
    "Now the components of the delta are always known, diagonal of (1,1,1,1). It's the vector options that change things up. The thing is, which version of the ns do we use? We have both T and t versions, we need to be careful. We want the t=const slices, which means we want the primed frame. Which means an outer product of the following:\n",
    "\n",
    "$$ n_{a'} = -\\alpha(1,-h'(r),0,0)$$\n",
    "\n",
    "$$ n^{a'} = -\\alpha(-1,-h'(r),0,0)$$"
   ]
  },
  {
   "cell_type": "markdown",
   "id": "4b90bf7e",
   "metadata": {},
   "source": [
    "We can do most of this multiplicaiton in our sleep, so all that remains is to set up the matrix to display the answer.\n",
    "\n",
    "$$ \\gamma^a_b = \\begin{bmatrix}\n",
    "1-\\alpha^2 & -\\alpha^2h' & 0 & 0 \\\\\n",
    "\\alpha^2h' & 1+\\alpha^2(h')^2& 0 & 0 \\\\\n",
    "0 & 0 & 1 & 0 \\\\\n",
    "0 & 0 & 0 & 1 \\\\\n",
    "\\end{bmatrix}$$\n",
    "\n",
    "Evidentialy antisymmetric. \n",
    "\n",
    "Now if we were to use the OTHER set...\n",
    "\n",
    "$$ n_a = -\\alpha(1,0,0,0) $$\n",
    "\n",
    "$$ n^a = \\alpha(1-h', h',0,0) $$\n",
    "\n",
    "$$ \\Rightarrow n^a = \\frac1\\alpha(1, \\alpha^2h',0,0) $$"
   ]
  },
  {
   "cell_type": "markdown",
   "id": "6c7ffa7b",
   "metadata": {},
   "source": [
    "We would end up with a matrix:\n",
    "\n",
    "$$ \\gamma^a_b = \\begin{bmatrix}\n",
    "0 & 0 & 0 & 0 \\\\\n",
    "-\\alpha^2h' & 1 & 0 & 0 \\\\\n",
    "0 & 0 & 1 & 0 \\\\\n",
    "0 & 0 & 0 & 1 \\\\\n",
    "\\end{bmatrix}$$\n",
    "\n",
    "This is the one given in the answers, so we need to figure out why we got it backward. \n",
    "\n",
    "HERE IS WHY WE GOT IT BACKWARD: it said that we were finding t=const. IN **Problem 3** it was said we were finding the normal vector to the t=const in the primed frame. But if we look at those vectors they aren't the standard variety, they were translated! Naturally, we HAVE to use the (1,0,0,0) form, because that's what the normal vector looks like in the correct reference frame. \n",
    "\n",
    "We still keep the previous answer around for posterity. "
   ]
  },
  {
   "cell_type": "markdown",
   "id": "b502af27",
   "metadata": {},
   "source": [
    "<a id='P7'></a>\n",
    "\n",
    "# Problem 7 \\[Back to [top](#toc)\\]\n",
    "$$\\label{P7}$$\n",
    "\n",
    "*Insert the definition 2.34 into 2.53 to show that the extrinsic curvature is symmetric, $K_{ab} = K_{ba}$ or equivalently $K_{[ab]}=0$*\n",
    "\n",
    "Well, K is given by 2.53 $-\\gamma^c_a \\gamma^d_b \\nabla_c n_d$ and 2.34 is\n",
    "\n",
    "$$ n_a = -\\alpha \\nabla_a t $$"
   ]
  },
  {
   "cell_type": "markdown",
   "id": "e7d24462",
   "metadata": {},
   "source": [
    "So combining it all together we now have $\\gamma^c_a\\gamma^d_b\\nabla_c \\alpha \\nabla_d t$"
   ]
  },
  {
   "cell_type": "markdown",
   "id": "dbbfb2cc",
   "metadata": {},
   "source": [
    "We note that we are not summing over a or b so we can just shuffle them at will. What we need to show is:\n",
    "\n",
    "$$\\gamma^c_a\\gamma^d_b\\nabla_c \\alpha \\nabla_d t = \\gamma^c_b\\gamma^d_a\\nabla_c \\alpha \\nabla_d t $$\n",
    "\n",
    "Since we're summing over the terms c and d, interchanging them doesn't do anything, they always go through all their values. \n",
    "\n",
    "$$\\Rightarrow \\gamma^d_a\\gamma^c_b\\nabla_d \\alpha \\nabla_c t = \\gamma^c_b\\gamma^d_a\\nabla_c \\alpha \\nabla_d t $$\n",
    "\n",
    "If $\\alpha$ were a constant this would be trivial, as derivatives commute. But $\\alpha$ can be a function. \n",
    "\n",
    "While that step above is true, it is not all that helpful. What is helpful is the following. \n",
    "\n",
    "$$ \\gamma^d_a\\gamma^c_b = \\gamma^d_a\\delta^c_d\\gamma^d_b = \\gamma^c_a\\gamma^d_b$$\n",
    "\n",
    "That is we can swap the c and d of the $\\gamma$s *without* swapping the c and d on the derivatives. \n",
    "\n",
    "$$\\gamma^c_a\\gamma^d_b\\nabla_c \\alpha \\nabla_d t = \\gamma^c_b\\gamma^d_a\\nabla_c \\alpha \\nabla_d t $$\n",
    "$$\\Rightarrow \\gamma^d_a\\gamma^c_b\\nabla_c \\alpha \\nabla_d t = \\gamma^c_b\\gamma^d_a\\nabla_c \\alpha \\nabla_d t $$\n",
    "\n",
    "And we're done! "
   ]
  },
  {
   "cell_type": "markdown",
   "id": "d1845243",
   "metadata": {},
   "source": [
    "<a id='P8'></a>\n",
    "\n",
    "# Problem 8 \\[Back to [top](#toc)\\]\n",
    "$$\\label{P8}$$\n",
    "\n",
    "*Compute the extrinsic curvature for the t=const slices in **Prolems 3, 4, 6**.*\n",
    "\n",
    "*a) Start by showing that the metric $g_{ab} = (\\partial x^{c'}/\\partial x^{a})(\\partial x^{d'}/\\partial x^b)\\eta_{c'd'}$ in the unprimed coordinate system is*\n",
    "\n",
    "$$ g_{ab} = \\begin{bmatrix}\n",
    "-1 & -h' & 0 & 0 \\\\\n",
    "-h' & 1-(h')^2 & 0 & 0 \\\\\n",
    "0 & 0 & r^2 & 0 \\\\\n",
    "0 & 0 & 0 & r^2sin^2\\theta \\\\\n",
    "\\end{bmatrix}$$\n"
   ]
  },
  {
   "cell_type": "markdown",
   "id": "0d9c750d",
   "metadata": {},
   "source": [
    "We know that the flat metric for spherical coordiantes is the diagonal (-1,1,$r^2$,$r^2sin^2\\theta$) and that the derivatives for those sections are always just 1, so once again the angular components do not matter.\n",
    "\n",
    "However, as for the other derivatives... we have calculated all of them before, it seems. However, we need to be careful with our sums. For explicit purposes, let's just delare all the derivatives here: remember, the primed values all equal the original ones save for t'=T. \n",
    "\n",
    "$$\\partial r/\\partial r = \\partial \\theta / \\partial \\theta = \\partial \\phi / \\partial \\phi = \\partial T / \\partial t = \\partial t / \\partial T = 1 $$\n",
    "\n",
    "$$ \\partial T/\\partial \\theta = \\partial T / \\partial \\phi = \\partial t / \\partial \\theta = \\partial t / \\partial \\phi = \\partial \\theta / \\partial \\phi = \\partial \\phi / \\partial \\theta = \\partial r / \\partial \\theta = \\partial r / \\partial \\phi = \\partial r / \\partial T = \\partial r / \\partial t = \\partial \\theta / \\partial r = \\partial \\phi / \\partial r = \\partial \\theta / \\partial t = \\partial \\phi / \\partial t = \\partial \\theta / \\partial T = \\partial \\phi / \\partial T = 0$$\n",
    "\n",
    "$$ \\partial t / \\partial r = -h' $$\n",
    "\n",
    "$$ \\partial T / \\partial r = h' $$"
   ]
  },
  {
   "cell_type": "markdown",
   "id": "03c53e96",
   "metadata": {},
   "source": [
    "First, the \"tt\" location. This evaluates as $(dT/dt)(dT/dt)(-1) + 0 = -1$\n",
    "\n",
    "Next, the \"rr\" location. This evalutes as $(dr/dr)(dr/dr)(1) + (dT/dr)(dT/dr)(-1) + 0 = 1-(h')^2 $\n",
    "\n",
    "Last, the \"tr\" location. Our formula has symmetry so they're both the same. $(dr/dr)(dr/dt)(1) + (dT/dr)(dT/dt)(-1) + 0 = -h' $\n",
    "\n",
    "Which completes the matrix. "
   ]
  },
  {
   "cell_type": "markdown",
   "id": "cd3b0a28",
   "metadata": {},
   "source": [
    "*b) Invert your result from a) to show that the inverse metric $g^{ab}$ in the unprimed coordinate system is*\n",
    "\n",
    "$$ g^{ab} = \\begin{bmatrix}\n",
    "-1+(h')^2 & -h' & 0 & 0 \\\\\n",
    "-h' & 1 & 0 & 0 \\\\\n",
    "0 & 0 & r^{-2} & 0 \\\\\n",
    "0 & 0 & 0 & r^{-2}sin^{-2}\\theta \\\\\n",
    "\\end{bmatrix}$$"
   ]
  },
  {
   "cell_type": "markdown",
   "id": "1a75cd03",
   "metadata": {},
   "source": [
    "The independence of the angular components makes the angular rows and columns essentially automatic, reducing the problem to that of inverting a 2x2 matrix. There's a formula for this somewhere, we went to look it up. [2](#2) provides it to us:\n",
    "\n",
    "$$A^{-1} = \\frac{1}{detA} \\begin{bmatrix}\n",
    "d & -b \\\\\n",
    "-c & a \\\\\n",
    "\\end{bmatrix}$$\n",
    "\n",
    "So we need the determinant of our 2x2 section. This is...\n",
    "\n",
    "$$ (-1 + (h')^2) - (h')^2 = -1 $$\n",
    "\n",
    "Thus the inverse matrix is\n",
    "\n",
    "$$A^{-1} = (-1) \\begin{bmatrix}\n",
    "1-(h')^2 & h' \\\\\n",
    "h' & -1 \\\\\n",
    "\\end{bmatrix}$$\n",
    "\n",
    "Which quickly becomes the matrix we seek. "
   ]
  },
  {
   "cell_type": "markdown",
   "id": "2a90ab9c",
   "metadata": {},
   "source": [
    "*c) Now expand the covariant derivative in 2.53*\n",
    "\n",
    "$$\\nabla_a n_b = \\partial_a n_b - n_c {}^{(4)}\\Gamma^c_{ab} = \\partial_a n_b - n_t {}^{(4)} \\Gamma^t_{ab}$$\n",
    "\n",
    "*Evidently we need all the Christoffel symbols with a t index upstairs. Evaluate 1.31 to find all of them. Hint: the only nonzero ones are ${}^{(4)}\\Gamma^t_{rr}, {}^{(4)}\\Gamma^t_{\\theta\\theta} = rh', {}^{(4)}\\Gamma^t_{\\phi\\phi} $. Example provided in book omitted.*"
   ]
  },
  {
   "cell_type": "markdown",
   "id": "6ca269d2",
   "metadata": {},
   "source": [
    "1.31 is the standard Christoffel expression. \n",
    "\n",
    "$$ {}^{(4)}\\Gamma^a_{bc} = \\frac12 g^{ad}(\\partial_c g_{db} + \\partial_b g_{dc} - \\partial_d g_{bc}) $$"
   ]
  },
  {
   "cell_type": "markdown",
   "id": "c3d8c79c",
   "metadata": {},
   "source": [
    "So, rather than just trusting the hint, let's reason this out. We need the christoffels with a t on top. So let's jsut go ahead and produce a matrix out of it. \n",
    "\n",
    "First of all, $g^{td}$ only exists for d=t, r. So we can expand the equation in general. \n",
    "\n",
    "$$ {}^{(4)}\\Gamma^t_{bc} = \\frac12 g^{tt}(\\partial_c g_{tb} + \\partial_b g_{tc} - \\partial_t g_{bc}) + \\frac12 g^{tr}(\\partial_c g_{rb} + \\partial_b g_{rc} - \\partial_r g_{bc}) $$ \n",
    "\n",
    "$$  = \\frac12 (-1+(h')^2) (\\partial_c g_{tb} + \\partial_b g_{tc} - \\partial_t g_{bc}) - \\frac12 h'(\\partial_c g_{rb} + \\partial_b g_{rc} - \\partial_r g_{bc}) $$ "
   ]
  },
  {
   "cell_type": "markdown",
   "id": "685f149d",
   "metadata": {},
   "source": [
    "Now, when do these vanish? Well, there are the cases where every metric is zero or a constant (which will make the derivative zero). It's easier to count the places where this DOESN'T happen: tr, rt, rr, $\\theta\\theta$, $\\phi\\phi$. All else go to zero in the above equation. This means all the nonzero POSSIBILITIES for nonzero bc are...\n",
    "\n",
    "$$ bc = rt, rr, r\\theta, r\\phi, tr, \\theta r, \\phi r, \\theta\\theta, \\phi\\phi, t \\theta, t \\phi, \\phi t, \\theta t, tt $$"
   ]
  },
  {
   "cell_type": "markdown",
   "id": "4a02e232",
   "metadata": {},
   "source": [
    "Which ironically means we have only outirght eliminated $\\phi\\theta, \\theta\\phi$ as zero. Well, still, that's progress. \n",
    "\n",
    "Are we guaranteed symmetry? Yes, by the Christoffel rules for the lower indecies, so from our list we can remove any duplicates.\n",
    "\n",
    "$$ bc = rt, rr, r\\theta, r\\phi, \\theta\\theta, \\phi\\phi, t \\theta, t \\phi, tt $$\n",
    "\n",
    "The angles should be the easiest to remove, for every metric with an angle in it evaluates to zero. Then, if we only have one angular coordinate, we are taking a derivative with respect to said angle in the remaining index, and none of the metrics (save $\\phi\\phi$) have any angular dependence at all, and the remaining metric has to have a t or an r in it, so all of them go to zero. \n",
    "\n",
    "$$ bc = rt, rr, \\theta\\theta, \\phi\\phi, tt $$"
   ]
  },
  {
   "cell_type": "markdown",
   "id": "32e7daa8",
   "metadata": {},
   "source": [
    "Now, this is almost the list we originally proposed, save for tt. What does tt accomplish, though? Well, it makes every metric evaluate to -1 in the left half (which vanish upon derivatives). On the right half, it ends up trying to take time derivatievs of h'. h' is a function of r only, not t. Thus, it vanishes as well, resulting in zero for tt. "
   ]
  },
  {
   "cell_type": "markdown",
   "id": "52a7a252",
   "metadata": {},
   "source": [
    "Now, what of rt, we know that has to go. On the left side, this also results in attempts of taking time derivatives of h', which goes nowhere. On the right side, however, we end up with h'' - h'' as we were taking r derivatives, but they cancel to zero as well. This just leaves us the ones we know have a result: $rr, \\theta\\theta, \\phi\\phi$ Middle one first since we have a result for that.\n",
    "\n",
    "$$ {}^{(4)}\\Gamma^t_{\\theta\\theta} = \\frac12 (-1+(h')^2) (\\partial_\\theta g_{t\\theta} + \\partial_\\theta g_{t\\theta} - \\partial_t g_{\\theta\\theta}) - \\frac12 h'(\\partial_\\theta g_{r\\theta} + \\partial_\\theta g_{r\\theta} - \\partial_r g_{\\theta\\theta}) $$ \n",
    "$$  = \\frac12 h'( \\partial_r g_{\\theta\\theta}) $$ \n",
    "$$  = \\frac12 h' 2r $$ \n",
    "$$ = rh' $$\n",
    "\n",
    "Which matches our hint. "
   ]
  },
  {
   "cell_type": "markdown",
   "id": "1f26e32f",
   "metadata": {},
   "source": [
    "$$ {}^{(4)}\\Gamma^t_{\\phi\\phi} = \\frac12 (-1+(h')^2) (\\partial_\\phi g_{t\\phi} + \\partial_\\phi g_{t\\phi} - \\partial_t g_{\\phi\\phi}) - \\frac12 h'(\\partial_\\phi g_{r\\phi} + \\partial_\\phi g_{r\\phi} - \\partial_r g_{\\phi\\phi}) $$ \n",
    "$$  = \\frac12 h'(\\partial_r g_{\\phi\\phi}) $$ \n",
    "$$  = \\frac12 h'2rsin^2\\theta $$ \n",
    "$$  =  rh'sin^2\\theta $$ "
   ]
  },
  {
   "cell_type": "markdown",
   "id": "e6981985",
   "metadata": {},
   "source": [
    "$$ {}^{(4)}\\Gamma^t_{rr} = \\frac12 (-1+(h')^2) (\\partial_r g_{tr} + \\partial_r g_{tr} - \\partial_t g_{rr}) - \\frac12 h'(\\partial_r g_{rr} + \\partial_r g_{rr} - \\partial_r g_{rr}) $$ \n",
    "$$  =  (-1+(h')^2) (\\partial_r g_{tr}) - \\frac12 h'(\\partial_r g_{rr}) $$\n",
    "$$  =  (1-(h')^2) h'' + \\frac12 h' 2 h' h'' $$\n",
    "$$  =  h''-(h')^2h'' + (h')^2 h'' $$\n",
    "$$  = h'' $$"
   ]
  },
  {
   "cell_type": "markdown",
   "id": "e43fcb80",
   "metadata": {},
   "source": [
    "$$ {}^{(4)}\\Gamma^t_{bc} = \\begin{bmatrix}\n",
    "0 & 0 & 0 & 0 \\\\\n",
    "0 & h'' & 0 & 0 \\\\\n",
    "0 & 0 & rh' & 0 \\\\\n",
    "0 & 0 & 0 & rh'sin^2\\theta \\\\\n",
    "\\end{bmatrix}$$\n",
    "\n",
    "And it is now complete! "
   ]
  },
  {
   "cell_type": "markdown",
   "id": "87a1f6f1",
   "metadata": {},
   "source": [
    "*d) Now insert your results into 2.53 to find the extrinsic curvature $K_{ij}$. $K_{\\theta\\theta} = -\\alpha r h'$.*"
   ]
  },
  {
   "cell_type": "markdown",
   "id": "24f15db8",
   "metadata": {},
   "source": [
    "$$ K_{ab} = -\\gamma^c_a \\gamma^d_b \\nabla_c n_d$$\n",
    "$$ = -\\gamma^c_a \\gamma^d_b (\\partial_c n_d - n_t {}^{(4)}\\Gamma^t_{cd})$$\n"
   ]
  },
  {
   "cell_type": "markdown",
   "id": "e4d667d1",
   "metadata": {},
   "source": [
    "Now we should go grab the various n-values we calculated already in the unprimed frame.\n",
    "\n",
    "$$ n_a = -\\alpha(1,0,0,0) $$\n",
    "\n",
    "$$ n^a = \\alpha(1-h', h',0,0) $$\n",
    "\n",
    "Also the projection operator.\n",
    "\n",
    "$$ \\gamma^a_b = \\begin{bmatrix}\n",
    "0 & 0 & 0 & 0 \\\\\n",
    "-\\alpha^2h' & 1 & 0 & 0 \\\\\n",
    "0 & 0 & 1 & 0 \\\\\n",
    "0 & 0 & 0 & 1 \\\\\n",
    "\\end{bmatrix}$$"
   ]
  },
  {
   "cell_type": "markdown",
   "id": "e4bdb86c",
   "metadata": {},
   "source": [
    "And it is becoming rather clear that even with all the zeroes this isn't exactly giong to be a simple reasult. We can, however, replace the t-component. \n",
    "\n",
    "$$ = -\\gamma^c_a \\gamma^d_b (\\partial_c n_d + \\alpha {}^{(4)}\\Gamma^t_{cd})$$"
   ]
  },
  {
   "cell_type": "markdown",
   "id": "d98eb55e",
   "metadata": {},
   "source": [
    "We see a potential problem: what if we have to evaluate $\\partial_r n_t$? That will only occur if c=r and d=t. Which will never happen. We note that the top row of the projeciton operator is all zeroes, so d=t will always go to nothing. Thus the partial derivative never evaluates to anything and can be ignored. (What of the portions of the vector that are zero? Well, the normal vector may change based on $\\alpha$, but from our observation standpoint the first term is the ONLY term, the other three are always going to be zero. So we can just utterly ignore the term. \n",
    "\n",
    "$$ = -\\gamma^c_a \\gamma^d_b \\alpha {}^{(4)}\\Gamma^t_{cd}$$\n",
    "\n",
    "No matter what a and b are, the sum over c and d always occurs in its entirity. Fortunately the Christoffels only exist for three of these. \n",
    "\n",
    "$$ = -\\gamma^r_a \\gamma^r_b \\alpha {}^{(4)}\\Gamma^t_{rr} -\\gamma^\\theta_a \\gamma^\\theta_b \\alpha {}^{(4)}\\Gamma^t_{\\theta\\theta}-\\gamma^\\phi_a \\gamma^\\phi_b \\alpha {}^{(4)}\\Gamma^t_{\\phi\\phi}$$\n",
    "\n",
    "$$ = -\\gamma^r_a \\gamma^r_b \\alpha h'' -\\gamma^\\theta_a \\gamma^\\theta_b \\alpha rh' -\\gamma^\\phi_a \\gamma^\\phi_b \\alpha rh'sin^2\\theta$$"
   ]
  },
  {
   "cell_type": "markdown",
   "id": "dbaee96c",
   "metadata": {},
   "source": [
    "No, we're still not done... a and b are now the indexes on our final $K_{ab}$ matrix. Both terms need to exist for this to work. The locaitons are rt, rr, $\\theta\\theta$, and $\\phi\\phi$ for the projection operator. This means that ab has the options rr, rt, tr, tt, $\\theta\\theta$, $\\phi\\phi$, all others are zero. \n",
    "\n",
    "The angular ones are simple, as they are just 1, they evaluate straight as the last two terms. We even get $-\\alpha rh'$ for $\\theta\\theta$ as we should.\n",
    "\n",
    "Now all we have to worry about is the first term:\n",
    "\n",
    "$$ \\Rightarrow -\\gamma^r_a \\gamma^r_b \\alpha h'' $$\n",
    "\n",
    "In the case of ab=rr this is just antoher 1 case, simple. \n",
    "\n",
    "But what of the other three cases? \n",
    "\n",
    "However, the other cases produce extra terms of $-\\alpha^2h'$ and $\\alpha^4(h')^2$ Thus..."
   ]
  },
  {
   "cell_type": "markdown",
   "id": "b2ff9305",
   "metadata": {},
   "source": [
    "$$ K_{ab} = \\begin{bmatrix}\n",
    "-\\alpha^5(h')^2 h'' & \\alpha^3 h' h'' & 0 & 0 \\\\\n",
    "\\alpha^3 h' h'' & -\\alpha h'' & 0 & 0 \\\\\n",
    "0 & 0 & -\\alpha rh' & 0 \\\\\n",
    "0 & 0 & 0 & -\\alpha rh' sin^2\\theta \\\\\n",
    "\\end{bmatrix}$$"
   ]
  },
  {
   "cell_type": "markdown",
   "id": "fb770052",
   "metadata": {},
   "source": [
    "The answers say the lower three diagonal terms are correct, but implies that the three top left terms are supposed to be 0. Curious. How can the three diagonal terms be absoltuely right and the others not? \n",
    "\n",
    "THE REASON: the spatial projection operator projects things to be spatial in relation to the normal vector. **The Normal Vector for this problem is not temporal, that is, not of the form (a,0,0,0).** In fact, it is given by $(\\frac1\\alpha , \\alpha h', 0 , 0)$ So, if we double contract the tensor, we should get zero. \n",
    "\n",
    "$$ n^an^bK_{ab} = 0? $$\n",
    "\n",
    "Which only the top left quadrant provides anything to...\n",
    "\n",
    "$$-\\alpha^3 (h')^2h'' + \\alpha^3 (h')^2 h'' + \\alpha^3 (h')^2 h'' - \\alpha^3 (h')^2 h'' = 0$$\n",
    "\n",
    "Which means, yes, K is purely spatial by the definition OF spatial! (This even works with just one vector applied to it, though it results in the zero vector (0,0,0,0) rather than zero itself). \n",
    "\n",
    "Which means that our answer checks out. The three coordinates given in the answers are correct, but the three in the top corner do NOT need to be zero, by the definition of spatial-ness!\n",
    "\n",
    "That said... we would now like to figure out what the extrinsic curvature for a (1,0,0,0) vector would be. Consider this a bonus challenge. We actually already have a relation for something similar, as the one-form is (-1,0,0,0). So if we can just identify the transofrmation that takes the vector to the one-form, we can transform the extrinsic curvature in the same way. \n",
    "\n",
    "We can reduce this to a 2D problem since the angular dependenceis are irrelevant, which means we are looking for the transformation:\n",
    "\n",
    "$$ \\lambda_{ab}(\\frac1\\alpha, \\alpha h') = (-\\alpha, 0) $$\n",
    "\n",
    "We know the transformation has to be symmetric, but that leaves us with three unknowns. Three unknowns, two equations. Since our transformation is symmetric we don't have to worry about index order. "
   ]
  },
  {
   "cell_type": "markdown",
   "id": "5d1b6010",
   "metadata": {},
   "source": [
    "$$ a + c \\alpha^2 h' = -\\alpha^2 $$\n",
    "$$ c + d \\alpha^2 h' = 0 $$\n",
    "\n",
    "We do know that we want, when we apply the inverse transformation to the extrinsic curvature matrix, to end up with zeroes in three positions. Basically, is there a matrix that satisfies both the above and...\n",
    "\n",
    "$$ -a \\alpha^5 (h')^2 h'' + c \\alpha^3 h' h'' = 0 $$\n",
    "$$ a \\alpha^3 h' h'' - c \\alpha h'' = 0 $$\n",
    "$$ -c \\alpha^5 (h')^2 h'' + d \\alpha^3 h' h'' = 0 $$\n",
    "\n",
    "Now this is more information. The top two aren't the best though as they are just linear combinations and not truly independent, but we can still work with this, especially relating the previous two equations. \n",
    "\n",
    "$$ c = a\\alpha^2 h' $$\n",
    "$$ c = \\frac{d}{\\alpha^2 h'}$$\n",
    "$$ d = a\\alpha^4 (h')^2 $$\n",
    "\n",
    "$$ a = \\frac{-\\alpha^2}{1+\\alpha^2 (h')^2} = \\frac{-\\alpha^2}{1+\\alpha^2 (h')^2} $$\n",
    "\n",
    "Since we know what $\\alpha$ is we can substitute it and this gives us a chance to use SYMPY!"
   ]
  },
  {
   "cell_type": "code",
   "execution_count": 1,
   "id": "3e93fc3f",
   "metadata": {},
   "outputs": [
    {
     "name": "stdout",
     "output_type": "stream",
     "text": [
      "1\n",
      "simplified version of\n"
     ]
    },
    {
     "data": {
      "text/latex": [
       "$\\displaystyle \\frac{1}{\\left(1 - x^{2}\\right) \\left(\\frac{x^{2}}{1 - x^{2}} + 1\\right)}$"
      ],
      "text/plain": [
       "1/((1 - x**2)*(x**2/(1 - x**2) + 1))"
      ]
     },
     "execution_count": 1,
     "metadata": {},
     "output_type": "execute_result"
    }
   ],
   "source": [
    "\n",
    "import sympy as sym\n",
    "x = sym.symbols('x')\n",
    "func = (1 / (1-x*x))/(1+(x*x)*(1/(1-x*x)))\n",
    "func2 = sym.simplify(func)\n",
    "\n",
    "print(func2)\n",
    "print(\"simplified version of\")\n",
    "func"
   ]
  },
  {
   "cell_type": "markdown",
   "id": "e9f41b80",
   "metadata": {},
   "source": [
    "Pff, okay, so a=1. \n",
    "\n",
    "Which makes c=$\\alpha^2 h'$ and d=$\\alpha^4 (h')^2$\n",
    "\n",
    "Now, the question is, does this still satisfy our original requirements? ...No, it does not, dangit. The transformation may not exist. Oh well, this was me trying to go above and beyond anyway. "
   ]
  },
  {
   "cell_type": "markdown",
   "id": "d95039f7",
   "metadata": {},
   "source": [
    "This is what we hope the other form is, if it even exists. \n",
    "\n",
    "$$ K_{ab} = \\begin{bmatrix}\n",
    "0 & 0 & 0 & 0 \\\\\n",
    "0 & -\\alpha h'' & 0 & 0 \\\\\n",
    "0 & 0 & -\\alpha rh' & 0 \\\\\n",
    "0 & 0 & 0 & -\\alpha rh' sin^2\\theta \\\\\n",
    "\\end{bmatrix}$$\n",
    "\n",
    "Note that this is the result if the gamma-matrices are transposed as to what they are \"supposed\" to be. Almost like all the components were transformed... "
   ]
  },
  {
   "cell_type": "markdown",
   "id": "0135ec28",
   "metadata": {},
   "source": [
    "<a id='P9'></a>\n",
    "\n",
    "# Problem 9 \\[Back to [top](#toc)\\]\n",
    "$$\\label{P9}$$\n",
    "\n",
    "*Show that a normal observer measures the magnetic field $B^a$ to be $B^a = \\epsilon^{abc} D_b A^\\perp_c$ where $\\epsilon^{abc} = n_d\\epsilon^{dabc}$ is the spatial Levi-Civita tensor. Hint: use part b of **Problem 2**.*"
   ]
  },
  {
   "cell_type": "markdown",
   "id": "59e112f6",
   "metadata": {},
   "source": [
    "\" Show that an observer with (arbitrary) four-velocity $u^a$ will measure the electric field to be $E^a = F^{ab}u_b$ and the magnetic field to be $B^a = \\epsilon^{abcd}u_b F_{dc}/2$. \" "
   ]
  },
  {
   "cell_type": "markdown",
   "id": "8c2d17b3",
   "metadata": {},
   "source": [
    "Well, we did that (with much sweat, tears, and confusion), so now we just need to play funky with operators and indeces. \n",
    "\n",
    "BEWARE: DO NOT TRUST THE LEVI-CIVITA TENSOR, WATCH FOR SIGN FLIPS. \n",
    "\n",
    "$$ B^a = \\frac12 \\epsilon^{abcd} u_b F_{dc}  $$\n",
    "\n",
    "$$ = -\\frac12 \\epsilon^{bacd} u_b F_{dc} $$\n",
    "\n",
    "$$ = -\\frac12 \\epsilon^{acd} F_{dc} $$\n",
    "\n",
    "$$ = -\\frac12 \\epsilon^{abc} F_{cb} $$\n",
    "\n",
    "$$ = \\frac12 \\epsilon^{abc} F_{bc} $$\n",
    "\n",
    "$$ = \\frac12 \\epsilon^{abc} ( D_bA_c^\\perp - D_cA_b^\\perp + n_bE_c - n_cE_b ) $$\n",
    "\n",
    "IN COMPLETE GENERALITY, anything of the form bc-cb summed over b and c with a contraction by the $\\epsilon^{abc} $ will become 2bc-2cb (when indeces are replaced), which can be represented by just 2bc.\n",
    "\n",
    "$$ = \\frac12 \\epsilon^{abc} ( 2D_bA_c^\\perp + 2n_bE_c ) $$\n",
    "\n",
    "$$ = \\epsilon^{abc} ( D_bA_c^\\perp + n_bE_c ) $$\n",
    "\n",
    "via 2.67. Note that $n_a$ is here. And that we are NORMAL OBSERVERS. Which means that only the t component exists, for every other component the E term vanishes and we have what we want. However, there are REMAINING terms... Let's look at those. One might say that, since we have the spatial LC tensor, that no t-terms can exist at all... which is true! Remember, $n_d$ only exists on $n_t$ meaning the contraction forces $\\epsilon^{tabc}$, meaning of abc none of them are ALLOWED to take the t value! When we performed the contraction we DID restrict the options. This means that, since b cannot be t, the electric term vanishes. \n",
    "\n",
    "$$ = \\epsilon^{abc} (D_bA_c^\\perp ) $$"
   ]
  },
  {
   "cell_type": "markdown",
   "id": "b8ed7b84",
   "metadata": {},
   "source": [
    "<a id='P10'></a>\n",
    "\n",
    "# Problem 10 \\[Back to [top](#toc)\\]\n",
    "$$\\label{P10}$$\n",
    "\n",
    "*Show that the acceleration of a normal observer 2.59 is related to the lapse $\\alpha$ according to $a_a = D_a ln\\alpha$. HInt: This requires several steps. Insert $n_a = -\\alpha\\nabla_a t$ into the definition of $a_a$, commute the second derivatives of t, use $n^b\\nabla_an_b=0$, and finally recall the definition of the spatial covariant derivative.*"
   ]
  },
  {
   "cell_type": "markdown",
   "id": "db8383a0",
   "metadata": {},
   "source": [
    "The larger book has an ecplicit statement of the spatial covariant derivative acting on a scalar: $D_a f = \\gamma^b_a \\nabla_b f$"
   ]
  },
  {
   "cell_type": "markdown",
   "id": "863f6611",
   "metadata": {},
   "source": [
    "We remember this problem from the larger Numerical Relativity book. No, we couldn't solve it there, but maybe the hints here will assist. \n",
    "\n",
    "$$ a_a = n^b \\nabla_b n_a $$\n",
    "\n",
    "$$ \\Rightarrow a_a = - n^b \\nabla_b \\alpha \\nabla_a t $$\n",
    "\n",
    "$$ \\Rightarrow a_a = - n^b \\alpha \\nabla_b \\nabla_a t - n^b (\\nabla_b \\alpha) (\\nabla_a t)   $$\n",
    "\n",
    "$$ \\Rightarrow a_a = - n^b \\alpha \\nabla_a \\nabla_b t - n^b (\\nabla_b \\alpha) (\\nabla_a t)   $$\n",
    "\n",
    "$$ \\Rightarrow a_a = + \\alpha n^b \\nabla_a \\frac1\\alpha n_b - n^b (\\nabla_b \\alpha) (\\nabla_a t)   $$\n",
    "\n",
    "$$ \\Rightarrow a_a = n^b \\nabla_a n_b + \\alpha n^b n_b \\nabla_a \\frac1\\alpha - n^b (\\nabla_b \\alpha) (\\nabla_a t)   $$\n",
    "\n",
    "$$ \\Rightarrow a_a = 0 - \\alpha \\nabla_a \\frac1\\alpha - n^b (\\nabla_b \\alpha) (\\nabla_a t)   $$\n",
    "\n",
    "$$ \\Rightarrow a_a = - \\alpha \\nabla_a \\frac1\\alpha + n^b n_a \\frac1\\alpha (\\nabla_b \\alpha)    $$\n",
    "\n",
    "$$ \\Rightarrow a_a = - \\alpha \\nabla_a \\frac1\\alpha + (\\gamma^b_a - \\delta^b_a) (\\nabla_b ln \\alpha)    $$\n",
    "\n",
    "$$ \\Rightarrow a_a = \\nabla_a ln\\alpha + D_a ln\\alpha - \\delta^b_a \\nabla_b ln \\alpha    $$\n",
    "\n",
    "$$ \\Rightarrow a_a = \\nabla_a ln\\alpha + D_a ln\\alpha - \\nabla_a ln \\alpha    $$\n",
    "\n",
    "$$ \\Rightarrow a_a = D_a ln\\alpha $$\n",
    "\n",
    "Wow, that was jumping through QUITE a few hoops right there. This also answers a problem in the normal Numerical Relativity book. \n",
    "\n",
    "EDIT: since when we went over this we got confused, remember, $\\alpha \\nabla_a \\frac1\\alpha = - \\frac1\\alpha \\nabla_a \\alpha$ due to the way fractional logs work--they are subtractions. ln(1) = 0, as a reminder. "
   ]
  },
  {
   "cell_type": "markdown",
   "id": "37779327",
   "metadata": {},
   "source": [
    "<a id='P11'></a>\n",
    "\n",
    "# Problem 11 \\[Back to [top](#toc)\\]\n",
    "$$\\label{P11}$$\n",
    "\n",
    "*In general the Lie derivative along a vector field $w^a$ of a scalar $\\psi$ is*\n",
    "\n",
    "$$ \\mathcal{L}_w \\psi = w^b \\nabla_b \\psi $$\n",
    "\n",
    "*that of a contravariant vector field $v^a$ is the commutator $[w^b,v^a]$,*\n",
    "\n",
    "$$ \\mathcal{L}_w v^a = [w^b,v^a] = w^b \\nabla_b v^a - v^b \\nabla_b w^a $$\n",
    "\n",
    "*and that of a covariant vector field $v_a$ is*\n",
    "\n",
    "$$ \\mathcal{L}_w v_a = w^b \\nabla_b v_a + v_b \\nabla_a w^b $$\n",
    "\n",
    "*Use the first two equations to derive the third.*"
   ]
  },
  {
   "cell_type": "markdown",
   "id": "eb43ba70",
   "metadata": {},
   "source": [
    "Source [6](#6) From Leo Werneck was unbelievably helpful here, both in understanding what the Lie Derivative was, AND in the trick required to make this work. The trick? $v_av^a$ is a scalar. So...\n",
    "\n",
    "$$ \\mathcal{L}_w (v_av^a) = w^b \\nabla_b (v_av^a) $$\n",
    "\n",
    "$$ = w^b v_a \\nabla_b v^a + w^b v^a \\nabla_b v_a $$\n",
    "\n",
    "But the Lie derivative itself ALSO obeys the product rule, so we have:\n",
    "\n",
    "$$ \\mathcal{L}_w (v_av^a) = v_a \\mathcal{L}_w v^a + v^a \\mathcal{L}_w v_a $$"
   ]
  },
  {
   "cell_type": "markdown",
   "id": "13c65fa2",
   "metadata": {},
   "source": [
    "Which means... we can make some substitutionas as we already know what the lie derivative of a VECTOR is...\n",
    "\n",
    "$$ \\Rightarrow w^b v_a \\nabla_b v^a + w^b v^a \\nabla_b v_a = v_a (w^b \\nabla_b v^a - v^b \\nabla_b w^a) + v^a \\mathcal{L}_w v_a $$"
   ]
  },
  {
   "cell_type": "markdown",
   "id": "50da0440",
   "metadata": {},
   "source": [
    "Cancel terms and simplify. \n",
    "\n",
    "$$ \\Rightarrow w^b v^a \\nabla_b v_a + v_a v^b \\nabla_b w^a = v^a \\mathcal{L}_w v_a $$\n",
    "\n",
    "Adjust indeces\n",
    "\n",
    "$$ \\Rightarrow w^b v^a \\nabla_b v_a + v_b v^a \\nabla_a w^b = v^a \\mathcal{L}_w v_a $$\n",
    "\n",
    "Remove the leading v. \n",
    "\n",
    "$$ \\Rightarrow w^b \\nabla_b v_a + v_b \\nabla_a w^b = \\mathcal{L}_w v_a $$\n",
    "\n",
    "Which is exactly what we sought. "
   ]
  },
  {
   "cell_type": "markdown",
   "id": "8db79f0e",
   "metadata": {},
   "source": [
    "<a id='P12'></a>\n",
    "\n",
    "# Problem 12 \\[Back to [top](#toc)\\]\n",
    "$$\\label{P12}$$\n",
    "\n",
    "*Show that all terms involcing Christoffel symbols in 2.73 cancel, so that we may also write the Lie derivative in terms of partial derivatives.*\n",
    "\n",
    "$$ \\mathcal{L}_n A^\\perp_d = n^c \\partial_c A^\\perp_d + A^\\perp_c \\partial_d n^c $$\n",
    "\n",
    "*This is a general property of Lie derivatives.*\n",
    "\n",
    "This was solved in **Problem A.1** for Tensors in the big Numerical Relativity book, see NR-02 notebook. It should, in theory, be simpler for the one=form verison. "
   ]
  },
  {
   "cell_type": "markdown",
   "id": "cf3df25c",
   "metadata": {},
   "source": [
    "What we ultimately need here is to show that every Christoffel term vanishes, leaving only the partial derivative terms. For that, we turn to our book on General Relativity. Equations 6.33 through 6.35 give us all the information we need about covariant derivatives acting on tensors. We're also going to leave off the perpendicular symbol since this is a general rule. \n",
    "\n",
    "$$ 0 = - n^c \\Gamma^u_{cd} A_u + A_c \\Gamma^c_{ud} n^u $$\n",
    "\n",
    "Now since these terms are independent, some clever index rearranging can give us..\n",
    "\n",
    "$$ = - n^c \\Gamma^u_{cd} A_u + A_u \\Gamma^u_{cd} n^c $$\n",
    "\n",
    "$$ = 0 $$\n",
    "\n",
    "Which is exactly what we needed to show. "
   ]
  },
  {
   "cell_type": "markdown",
   "id": "1856b7f2",
   "metadata": {},
   "source": [
    "<a id='P13'></a>\n",
    "\n",
    "# Problem 13 \\[Back to [top](#toc)\\]\n",
    "$$\\label{P13}$$\n",
    "\n",
    "*Verify equation 2.79*\n",
    "\n",
    "$$\\alpha \\mathcal{L}_n A^\\perp_d = \\mathcal{L}_{\\alpha n} A^\\perp_d = \\mathcal{L}_t A^\\perp_d - \\mathcal{L}_\\beta A^\\perp_d $$\n",
    "\n",
    "Once again we will leave the perpendicular notaiton off since it's irrelevant to this problem. "
   ]
  },
  {
   "cell_type": "markdown",
   "id": "27df55b4",
   "metadata": {},
   "source": [
    "2.78 gives us the definition $\\alpha n^a = t^a - \\beta^a$. \n",
    "\n",
    "Let's start completely from the left.\n",
    "\n",
    "$$\\alpha \\mathcal{L}_n A_d =  \\alpha n^c \\nabla_c A_d + \\alpha A_c \\nabla_d n^c$$\n",
    "\n",
    "Since A is known to be spatial, we can apply 2.71, shuffling the order and sign of the second term. \n",
    "\n",
    "$$ =  \\alpha n^c \\nabla_c A_d - \\alpha n^c \\nabla_d A_c $$\n",
    "\n",
    "Now, treat $\\alpha n^c$ as a singular object. It only has index c so we can use 2.71 again. \n",
    "\n",
    "$$ =  \\alpha n^c \\nabla_c A_d + A_c \\nabla_d \\alpha n^c $$\n",
    "\n",
    "$$ = \\mathcal{L}_{\\alpha n} A_d $$\n",
    "\n",
    "And we're one step closer. The last step is rather trivial and doens't really involve tricks. Revert to previous step:\n",
    "\n",
    "$$ =  \\alpha n^c \\nabla_c A_d + A_c \\nabla_d \\alpha n^c $$\n",
    "\n",
    "Replace everything with the definition 2.78.\n",
    "\n",
    "$$ =  t^c \\nabla_c A_d + A_c \\nabla_d t^c - \\beta^c \\nabla_c A_d - A_c \\nabla_d \\beta^c $$\n",
    "\n",
    "$$ = \\mathcal{L}_t A^\\perp_d - \\mathcal{L}_\\beta A^\\perp_d $$\n"
   ]
  },
  {
   "cell_type": "markdown",
   "id": "a94357e5",
   "metadata": {},
   "source": [
    "<a id='P14'></a>\n",
    "\n",
    "# Problem 14 \\[Back to [top](#toc)\\]\n",
    "$$\\label{P14}$$\n",
    "\n",
    "*Derive 2.83. Hint: As before, you can start with $\\nabla_a F^{ab} = g^b_c \\nabla_a F^{ac} = (\\gamma^b_c - n^bn_c)\\nabla_a F^{ac}$, then insert 2.67 in to the first term, make the identificaitons $E^a = n_c F^{ac}$ as well as $\\nabla_a n_c = -K_{ac} -n_aa_c$ (see 2.61) in the second term, and show that $D_aE^a = \\nabla_a E^a - E^aa_a$.*\n",
    "\n",
    "2.83: $ \\nabla_a F^{ab} = \\gamma^b_c (\\mathcal{L}_n E^c - E^c K + \\nabla_a (D^a A^c_\\perp - D^c A^a_\\perp)) - n^b D_a E^a $"
   ]
  },
  {
   "cell_type": "markdown",
   "id": "182df0ba",
   "metadata": {},
   "source": [
    "2.67: $F^{ab} = D^a A^b_\\perp - D^b A^a_\\perp + n^aE^b - n^bE^a$"
   ]
  },
  {
   "cell_type": "markdown",
   "id": "cf287371",
   "metadata": {},
   "source": [
    "Okay so contrary to appearances this is actually a LONG problem, and filled up almost my entire scratch work sheet for the day! That's impressive! But it does work out completley in the end, just... bear with me as we go through it in potentially too much detail. \n",
    "\n",
    "MORAL OF THE DAY: just because something goes to zero doesn't mean you want to get rid of it! You may need those terms later! \n",
    "\n",
    "This is going to expand tremendously, so let's just start from the start. \n",
    "\n",
    "$$\\nabla_a F^{ab} = g^b_c \\nabla_a F^{ac} = \\gamma^b_c \\nabla_a F^{ac} - n^bn_c\\nabla_aF^{ac}$$\n",
    "\n",
    "And now we already have to split up, since BOTH of these terms are going to be their own thing. Notably, they easily map to terms in the answer 2.83. The left term corresponds to the gamma-term in parentheses, and the other term corresponds to the other part (the temporal part). \n",
    "\n",
    "So... spatial first since that's what we did first in our notes. "
   ]
  },
  {
   "cell_type": "markdown",
   "id": "4c45831e",
   "metadata": {},
   "source": [
    "$$\\gamma^b_c \\nabla_a F^{ac} = \\gamma^b_c \\nabla_a (D^a A_\\perp^c - D^c A_\\perp^a + n^aE^c - n^cE^a)$$\n",
    "\n",
    "Now, right away we actually have two of the terms we need: the D-terms have the $\\nabla_a$ acting on them, making up the nested portion of the answer in 2.83. So we can afford to not write them down anymore and just focus on the E-terms. And boy, do these E-terms have some funky chicken attached to them.\n",
    "\n",
    "$$ \\gamma^b_c (\\nabla_a n^aE^c - \\nabla_a n^cE^a) = \\gamma^b_c (\\nabla_a n^a n_d F^{cd} - \\nabla_a n^c n_d F^{ad}) $$\n",
    "\n",
    "Now we can apply the product rule to get what we like to call \"a mess\" \n",
    "\n",
    "$$ = \\gamma^b_c ( n_d F^{cd}\\nabla_an^a + n^a F^{cd}\\nabla_a n_d + n^a n_d \\nabla_aF^{cd} - n_d F^{ad} \\nabla_a n^c - n^c F^{ad} \\nabla_a n_d - n^c n_d \\nabla_a F^{ad}) $$\n",
    "\n",
    "Now *several* of these terms can go to zero, but it's actually not convenient for us to do that. (Note: turns out that this may not be true as we had index errors originally, but they still might go to zero.) We need to keep them around so we can arrange them into the forms we need. Now, exactly HOW we do this is a bit obtuse (and involved a fair bit of working backward from the goal to find!) but we selectively take the terms as we need them. \n",
    "\n",
    "First, let's take the following three terms...\n",
    "\n",
    "$$ n^a F^{cd}\\nabla_a n_d + n^a n_d \\nabla_aF^{cd} - n_d F^{ad} \\nabla_a n^c $$\n",
    "\n",
    "One thing we can do here is take a step BACK to get the product rule to act on two parts at once... which we will then identify as E.  \n",
    "\n",
    "$$ = n^a \\nabla_a F^{cd} n_d - n_d F^{ad} \\nabla_a n^c $$\n",
    "\n",
    "$$ = n^a \\nabla_a E^c - E^a \\nabla_a n^c $$\n",
    "\n",
    "$$ = \\mathcal{L}_n E^c $$\n",
    "\n",
    "By the relation on page 66. Which IS one of the terms we wanted. Now, we want to use the OTHER three terms to become the other term we need, $-E^cK$"
   ]
  },
  {
   "cell_type": "markdown",
   "id": "7d51c2ef",
   "metadata": {},
   "source": [
    "For this, we actually just take ONE of the terms! \n",
    "\n",
    "$$ n_d F^{cd} \\nabla_a n^a $$\n",
    "\n",
    "$$ = E^c \\nabla_a n^a $$\n",
    "\n",
    "$$ = - E^c K $$\n",
    "\n",
    "By the relation on pg 66. (Which we also prove here because we did it the long way first and dangit we don't want our work to go to waste!)\n",
    "\n",
    "$$ -E^c K $$\n",
    "\n",
    "$$ = -E^c g^{ab} K_{ab} $$\n",
    "\n",
    "$$ = -n_d F^{cd} g^{ab} (-\\nabla_a n_b - n_a a_b) $$\n",
    "\n",
    "$$ = n_d F^{cd} g^{ab} \\nabla_a n_b + n_d F^{cd} g^{ab} n_a a_b $$\n",
    "\n",
    "$$ = n_d F^{cd} g^{ab} \\nabla_a n_b + n_d F^{cd} g^{ab} n_a n^e \\nabla_e n_b $$\n",
    "\n",
    "$$ = n_d F^{cd} g^{ab} \\nabla_a n_b + n_d F^{cd} n^b n^e \\nabla_e n_b $$\n",
    "\n",
    "$$ = n_d F^{cd} \\nabla_a n^a - 0 $$\n",
    "\n",
    "$$ = n_d F^{cd} \\nabla_a n^a  $$\n",
    "\n",
    "$$ = E^c \\nabla_a n^a $$"
   ]
  },
  {
   "cell_type": "markdown",
   "id": "ef217083",
   "metadata": {},
   "source": [
    "However, we still have two remaining terms... \n",
    "\n",
    "$$ - n^c F^{ad} \\nabla_a n_d - n^c n_d \\nabla_a F^{ad} $$\n",
    "\n",
    "However, note something. Each of these terms will evaluate to something of the form $n^c N$ where N is just some number. Now, WAAAAAAAY out in the front of all of this there is a $\\gamma^b_c$, so in reality all these terms are actually $\\gamma^b_c n^c N$. We note that the spatial projection of $n^c$ goes to zero. So they both vanish. "
   ]
  },
  {
   "cell_type": "markdown",
   "id": "9aecad00",
   "metadata": {},
   "source": [
    "Upon completion we have:\n",
    "\n",
    "$$\\gamma^a_c \\nabla_a F^{ac} = \\gamma^a_c (\\mathcal{L}_n E^c - E^c K + \\nabla_a (D^a A^c_\\perp - D^c A^a_\\perp))$$\n",
    "\n",
    "NOW we move onto the temporal term. However, before we do that, the problem statement implies we should prove a statement we're about to use, so let's do that. \n",
    "\n"
   ]
  },
  {
   "cell_type": "markdown",
   "id": "2b3cfc5c",
   "metadata": {},
   "source": [
    "The relation in question is $D_a E^a = \\nabla_a E^a - E^a a_a$\n",
    "\n",
    "Let's just work it out. \n",
    "\n",
    "$$ D_a E^a = \\gamma^c_a \\gamma^a_d \\nabla_c E^d $$\n",
    "\n",
    "$$ = \\gamma^c_d \\nabla_c E^d $$\n",
    "\n",
    "$$ = \\delta^c_d \\nabla_c E^d + n^c n_d \\nabla_c E^d $$\n",
    "\n",
    "$$ = \\nabla_d E^d - E^d n^c \\nabla_c n_d $$\n",
    "\n",
    "$$ = \\nabla_dE^d- E^d a_d $$\n",
    "\n",
    "$$ = \\nabla_a E^a - E^a a_a $$\n",
    "\n",
    "So it's proven. That said, a note: at one point we use 2.71, since E is spatial, but on the reverse indeces. However, the reverse indeces does not change the relation since the metric can move in and out at will and no other terms in the series have a d in them. $v^dw_d = v_dw^d$ after all. So we now have the relation required for our little mathematical funhouse. "
   ]
  },
  {
   "cell_type": "markdown",
   "id": "9db4df10",
   "metadata": {},
   "source": [
    "We have $- n^bn_c\\nabla_aF^{ac}$ we seek $-n^b D_a E^a$. It's much easier to go backward since what we end up with is a cancellation, so it's going to look like we're pulling terms out of nowhere for a second here. But it'll all work out. \n",
    "\n",
    "$$ - n^bn_c\\nabla_aF^{ac} = - n^bn_c\\nabla_aF^{ac} -n^b F^{ac} \\nabla_a n_c + n^b F^{ac} \\nabla_a n_c  $$\n",
    "\n",
    "$$ = - n^bn_c\\nabla_aF^{ac} -n^b F^{ac} \\nabla_a n_c - n^b F^{ca} \\nabla_a n_c $$\n",
    "\n",
    "$$ = - n^bn_c\\nabla_aF^{ac} -n^b F^{ac} \\nabla_a n_c - n^b F^{ac} \\nabla_c n_a $$\n",
    "\n",
    "$$ = - n^bn_c\\nabla_aF^{ac} -n^b F^{ac} \\nabla_a n_c + n_d n^d n^b F^{ac} \\nabla_c n_a $$\n",
    "\n",
    "$$ = - n^bn_c\\nabla_aF^{ac} -n^b F^{ac} \\nabla_a n_c + n_d n^c n^b F^{ad} \\nabla_c n_a $$\n",
    "\n",
    "$$ = - n^b  \\nabla_a n_c F^{ac} + n_d n^b F^{ad} a_a$$\n",
    "\n",
    "$$ = - n^b \\nabla_a E^a + n^b E^a a_a$$\n",
    "\n",
    "$$ = - n^b D_a E^a $$\n",
    "\n",
    "Note that we used the relation we just proved in the last step. "
   ]
  },
  {
   "cell_type": "markdown",
   "id": "4342408a",
   "metadata": {},
   "source": [
    "Which means we now have everything we need! \n",
    "\n",
    "$$\\nabla_a F^{ab} = \\gamma^a_c \\nabla_a F^{ac} - n^bn_c\\nabla_aF^{ac} = \\gamma^b_c (\\mathcal{L}_n E^c - E^c K + \\nabla_a (D^a A^c_\\perp - D^c A^a_\\perp)) - n^b D_a E^a $$"
   ]
  },
  {
   "cell_type": "markdown",
   "id": "bdca349f",
   "metadata": {},
   "source": [
    "<a id='P15'></a>\n",
    "\n",
    "# Problem 15 \\[Back to [top](#toc)\\]\n",
    "$$\\label{P15}$$\n",
    "\n",
    "*Derive 2.89*\n",
    "\n",
    "2.89: $\\alpha \\gamma^b_c \\mathcal{L}_n E^c = \\gamma^b_c \\mathcal{L}_{\\alpha n} E^c = \\delta_t E^b - \\mathcal{L}_\\beta E^b$"
   ]
  },
  {
   "cell_type": "markdown",
   "id": "19d900d4",
   "metadata": {},
   "source": [
    "The first step seems to follow immediately from **Problem 13**, but there is a major issue, and that major issue is that we can't use 2.71 as the indeces are wrong... \n",
    "\n",
    "$$\\gamma^b_c \\alpha \\mathcal{L}_n E^c = \\gamma^b_c \\alpha n^a \\nabla_a E^c - \\gamma^b_c \\alpha E^a \\nabla_a n^c$$\n",
    "\n",
    "We need to get $\\alpha n^c$ together so we can treat it as a single unit. We do know that E is spatial. The trick here is that we're just going to up and add a term that goes to zero:\n",
    "\n",
    "$$ = \\gamma^b_c \\alpha n^a \\nabla_a E^c - \\gamma^b_c \\alpha E^a \\nabla_a n^c - \\gamma^b_c n^c E^a \\nabla_a \\alpha $$\n",
    "\n",
    "Same argument as **Problem 14**--spatial projection of $n^c N$ where N is some number goes to zero, so that last term is zero. FORTUNATELY this means we can now combine the terms via reverse product rule.\n",
    "\n",
    "$$ = \\gamma^b_c \\alpha n^a \\nabla_a E^c - \\gamma^b_c \\gamma^b_c E^a \\nabla_a \\alpha n^c $$\n",
    "\n",
    "$$ = \\gamma^b_c \\mathcal{L}_{\\alpha n} E^c $$\n",
    "\n",
    "And that is the first step."
   ]
  },
  {
   "cell_type": "markdown",
   "id": "572f853f",
   "metadata": {},
   "source": [
    "Expanding the first step again, we have:\n",
    "\n",
    "$$\\gamma^b_c \\mathcal{L}_{\\alpha n} E^c =  \\gamma^b_c \\alpha n^a \\nabla_a E^c - \\gamma^b_c E^a \\nabla_a \\alpha n^c$$\n",
    "\n",
    "$$ =  \\gamma^b_c t^a \\nabla_a E^c - \\gamma^b_c E^a \\nabla_a t^a - \\gamma^b_c \\beta^c \\nabla_a E^c + \\gamma^b_c E^a \\nabla_a \\beta^c$$\n",
    "\n",
    "$$ =  \\gamma^b_c \\mathcal{L}_t E^c - \\gamma^b_c \\mathcal{L}_\\beta E^c$$\n",
    "\n",
    "The projection operator is acting upon the Lie derivative... of a purely spatial quantity. So the projection operator can't do anything. So all it does is change the index. \n",
    "\n",
    "$$ = \\mathcal{L}_t E^b - \\mathcal{L}_\\beta E^b$$\n",
    "\n",
    "After all, the lie derivative can't make something *not* spatial. (One could argue that the derivative of zero is not guaranteed to be zero, but E itself is actually an electric field which NEVER has a zero component, so there.) "
   ]
  },
  {
   "cell_type": "markdown",
   "id": "4e8071b6",
   "metadata": {},
   "source": [
    "<a id='P16'></a>\n",
    "\n",
    "# Problem 16 \\[Back to [top](#toc)\\]\n",
    "$$\\label{P16}$$\n",
    "\n",
    "NOTE: THIS PROBLEM WAS DEEMED TO BE \"NOT GREAT\" SO LEO CREATED A NEW PROBLEM THAT DOES THE SAME THING, SEE **PROBLEM 16 ALT** FOR EVERYTHING. There is some coding in here though with NRPyLaTeX that might be helpful to review, though. \n",
    "\n",
    "*Retrace the steps of this section to consider the scalar field of Section 2.1 for arbitrary time slices.*\n",
    "\n",
    "*a) Define $\\kappa = -n^a \\nabla_a \\psi$ and show that this may be written as $\\delta_t \\psi = -\\alpha \\kappa + \\mathcal{L}_\\beta \\psi$, where we have used $\\mathcal{L}_\\beta \\psi = \\beta^i \\partial_i \\psi$ for a scalar field.*"
   ]
  },
  {
   "cell_type": "markdown",
   "id": "2d3de7e9",
   "metadata": {},
   "source": [
    "Let's just start and see where this goes. \n",
    "\n",
    "$$\\kappa = -n^a \\nabla_a \\psi$$\n",
    "\n",
    "Since this is a scalar field covariants become partials. \n",
    "\n",
    "$$ = -n^t \\partial_t \\psi - n^i \\partial_i \\psi  $$\n",
    "\n",
    "The arbitrary notation for the components of $n^a$ is 2.40, $(\\frac1\\alpha,-\\frac{\\beta^i}{\\alpha},-\\frac{\\beta^j}{\\alpha},-\\frac{\\beta^k}{\\alpha})$ so we have\n",
    "\n",
    "$$ = -\\frac{1}{\\alpha} \\partial_t \\psi + \\frac{\\beta^i}{\\alpha} \\partial_i \\psi  $$\n",
    "\n",
    "Now let's actually try to work with this as an equation so we can get the above relation. \n",
    "\n",
    "$$ \\alpha\\kappa = -\\partial_t \\psi + \\beta^i \\partial_i \\psi $$\n",
    "\n",
    "$$ \\Rightarrow \\partial_t \\psi = -\\alpha \\kappa + \\beta^i \\partial_i \\psi $$\n",
    "\n",
    "$$ \\Rightarrow \\partial_t \\psi = -\\alpha \\kappa + \\mathcal{L}_\\beta \\psi $$\n",
    "\n",
    "Which is what we sought. "
   ]
  },
  {
   "cell_type": "markdown",
   "id": "722e0ec9",
   "metadata": {},
   "source": [
    "A note: the relation used for the Lie Derivative of the scalar is 2.74, applied essentially directly. We only note this since it was not specified in the problem statement. "
   ]
  },
  {
   "cell_type": "markdown",
   "id": "4e22c5bc",
   "metadata": {},
   "source": [
    "*b) Show that decomposition of the spacetime gradient $\\nabla_a \\psi$ yields. $\\nabla_a \\psi = D_a \\psi + n_a \\kappa$*"
   ]
  },
  {
   "cell_type": "markdown",
   "id": "31174568",
   "metadata": {},
   "source": [
    "This looks... so much neater when working backwards, when working forwards we just add a complicated zero. \n",
    "\n",
    "$$\\nabla_a \\psi = \\nabla_a \\psi + n_a n^c \\nabla_c \\psi - n_a n^c \\nabla_c \\psi$$\n",
    "\n",
    "$$ = \\delta_a^c \\nabla_c \\psi + n_a n^c \\nabla_c \\psi + n_a \\kappa $$\n",
    "\n",
    "$$ = \\gamma_a^c \\nabla_c \\psi + n_a \\kappa $$\n",
    "\n",
    "$$ = D_a \\psi + n_a \\kappa $$\n",
    "\n",
    "Which certainly works but definitely isn't obvious. "
   ]
  },
  {
   "cell_type": "markdown",
   "id": "7ca60ee7",
   "metadata": {},
   "source": [
    "Leo Werneck had a better proof. \n",
    "\n",
    "$$ \\nabla_a \\psi = g^b_a \\nabla_b \\psi = (\\gamma^b_a - n^bn_a)\\nabla_b \\psi = D_a \\psi + n_a \\kappa $$\n",
    "\n",
    "Tah-dah! "
   ]
  },
  {
   "cell_type": "markdown",
   "id": "7e0be869",
   "metadata": {},
   "source": [
    "*c) Now use steps similar to those in **Problem 14** to construct the decomposition of $\\nabla_a\\nabla^a \\psi = g^b_a \\nabla_b \\nabla^a \\psi$. Replace $\\nabla^a \\psi$ with 2.95, insert 2.47 for $g^b_a$, and then use the definition of the extrinsic curvature and the spatial covariant derivative (together with 2.49), as well as properties of the derivatives of the normal vector $n_a$, to show that*\n",
    "\n",
    "$$ \\partial_t \\kappa = -D_a(\\alpha D^a \\psi) + \\alpha \\kappa K + 4\\pi \\alpha\\rho + \\mathcal{L}_\\beta \\kappa $$\n",
    "\n",
    "*Note the remarkable similarity between the pair of equations 2.93 and 2.92 for electrodynamics, and 2.94 and 2.96 for the scalar field.*"
   ]
  },
  {
   "cell_type": "markdown",
   "id": "4e5c3977",
   "metadata": {},
   "source": [
    "2.95 is just the equation in part b). \n",
    "\n",
    "2.47: $\\gamma^a_b = g^a_b + n^an_b$\n",
    "\n",
    "2.49 is just the fact that apllying the projection operator twice does nothing more than doing it once. "
   ]
  },
  {
   "cell_type": "markdown",
   "id": "1c5f4569",
   "metadata": {},
   "source": [
    "Leo has suggested starting from scratch and doing it all over again. In addition, we will ALSO be using NRPy+LaTeX to validate every step we can. Hopefully this will work. So, to begin, we will validate the first step: specifically, the one given to us. \n",
    "\n",
    "NOTE: the code was removed from this seciton as it was messing with code down below. It's probably best to just go look at **Problem 16 Alt**, as it solves the same problem. "
   ]
  },
  {
   "cell_type": "markdown",
   "id": "cdb4ebbc",
   "metadata": {},
   "source": [
    "We have successfully done... not even the first step, we just validated the relation given to us. So, now we can go about actually trying to solve the problem. First of all, let's completely clear the cache so we can use everything we want, then start defining things. We'll be needing quite a few... "
   ]
  },
  {
   "cell_type": "markdown",
   "id": "07da1eed",
   "metadata": {},
   "source": [
    "The actual first STEP is the following: \n",
    "\n",
    "$$\\nabla_a \\nabla^a \\psi$$\n",
    "\n",
    "$$ = g^b_a \\nabla_b \\nabla^a \\psi $$\n",
    "\n",
    "$$ = (\\gamma^b_a - n^bn_a) \\nabla_b (D^a \\psi + n^a \\kappa) $$\n",
    "\n",
    "$$ = \\gamma^b_a\\nabla_b D^a \\psi + \\gamma^b_a \\nabla_b n^a \\kappa -n^bn_a \\nabla_b D^a \\psi - n^bn_a \\nabla_b (n^a \\kappa) $$\n",
    "\n",
    "Note the parentheses. These parentheses drive NRPy+ LaTeX insane. But we'll make it work. (usually we imply the parentheses, but it has led to problems before, sooooo)"
   ]
  },
  {
   "cell_type": "markdown",
   "id": "84f296d9",
   "metadata": {},
   "source": [
    "Well would you look at that, it tossed out zero! WOO-HOO YEAH! \n",
    "\n",
    "Anyway, we have validated that the splitting up of the equation is correct. Now we deal with individual terms at a time. \n",
    "\n",
    "$$ \\gamma^b_a\\nabla_b D^a \\psi + \\gamma^b_a \\nabla_b n^a \\kappa -n^bn_a \\nabla_b D^a \\psi - n^bn_a \\nabla_b (n^a \\kappa) $$\n",
    "\n",
    "This is our start. We have absolutely and definitely codified it. Now we just have to start from \"le scratch\" and do it again. "
   ]
  },
  {
   "cell_type": "markdown",
   "id": "c5030415",
   "metadata": {},
   "source": [
    "Now, we handle each of these terms separately. The fourth term is the easisest.\n",
    "\n",
    "$$ -n^bn_a \\nabla_b n^a \\kappa $$\n",
    "\n",
    "$$ = -n^bn_a n^a \\nabla_b \\kappa -n^bn_a \\kappa \\nabla_b n^a $$\n",
    "\n",
    "Second term goes to zero, first term has a \"-1\" contraction. \n",
    "\n",
    "$$ = + n^b \\nabla_b \\kappa $$\n",
    "\n",
    "So, moving on to the third term. We're going to do some re-arranging. \n",
    "\n",
    "$$ -n^bn_a \\nabla_b D^a \\psi $$\n",
    "\n",
    "$$ = -n^bn_a D^a \\nabla_b \\psi $$\n",
    "\n",
    "$$ = -n^bn_a \\gamma^a_c \\gamma_d^b \\nabla^c \\nabla_d \\psi $$\n",
    "\n",
    "Now when we originally solved the problem we worked this term out and proved it went to zero after a lot of steps. Turns out, there's a faster way to do it. All the steps so far that we've done can be applid to the first term as well, which means we can transform back to:\n",
    "\n",
    "$$ g^b_a \\gamma^a_c \\gamma_d^b \\nabla^c \\nabla_d \\psi $$\n",
    "\n",
    "$$ = \\gamma^b_c \\gamma_d^b \\nabla^c \\nabla_d \\psi $$\n",
    "\n",
    "$$ = \\gamma^d_c \\nabla^c \\nabla_d \\psi $$\n",
    "\n",
    "$$ = g^d_c \\nabla^c \\nabla_d \\psi + n^dn_c \\nabla^c \\nabla_d \\psi $$\n",
    "\n",
    "$$ = \\nabla^d \\nabla_d \\psi + n^dn_c \\nabla^c \\nabla_d \\psi $$\n",
    "\n",
    "$$ = \\nabla^a \\nabla_a \\psi + n^an_b \\nabla^b \\nabla_a \\psi $$\n",
    "\n",
    "We note that we have reclaimed the original formula here. Which is to say these two terms, combined, make up the spatial projection of the original part. This means it's purely spatial, a fact which may or may not be useful later. "
   ]
  },
  {
   "cell_type": "markdown",
   "id": "9bb943ba",
   "metadata": {},
   "source": [
    "Now we only have the second term left to evaluate. That is:\n",
    "\n",
    "$$ \\gamma^b_a \\nabla_b n^a \\kappa $$\n",
    "\n",
    "$$ = \\gamma^b_a n^a \\nabla_b \\kappa + \\gamma^b_a \\kappa \\nabla_b n^a$$\n",
    "\n",
    "$$ = g^b_a n^a \\nabla_b \\kappa + g^b_a \\kappa \\nabla_b n^a + n^bn_a n^a \\nabla_b \\kappa + n^bn_a \\kappa \\nabla_b n^a$$"
   ]
  },
  {
   "cell_type": "markdown",
   "id": "8a0f59a1",
   "metadata": {},
   "source": [
    "Oh what fun, four terms again. Once again, the fourth term goes to zero due to the indeces. The first and third terms are also related... because they cancel! the matching indices on the third make it negative, and the g is just the delta so everything cancels, leaving only the second term. \n",
    "\n",
    "$$ = g^b_a \\kappa \\nabla_b n^a $$\n",
    "\n",
    "$$ = \\kappa \\nabla_b n^b $$\n",
    "\n",
    "$$ = - \\kappa K $$\n",
    "\n",
    "Which is nice since this is one of the terms we want to have in our final relation. \n",
    "\n",
    "So, in the end, we learned the following:\n",
    "\n",
    "$$ \\nabla^a \\nabla_a \\psi = \\gamma^a_b \\nabla^b \\nabla_a \\psi - \\kappa K + n^b \\nabla_b \\kappa = \\nabla^a \\nabla_a \\psi + n^an_b \\nabla^b \\nabla_a \\psi -\\kappa K + n^b \\nabla_b \\kappa = 4\\pi \\rho$$\n",
    "\n",
    "Note that we have successfully split it into spatial and temporal components. And, also potentially useful, the relation contains the original equation itself. (The last result is just equation 2.1.) \n",
    "\n",
    "From 2.2 we also have \n",
    "\n",
    "$$ \\nabla^a \\nabla_a \\psi = -\\partial_t^2 \\psi + D^2 \\psi $$"
   ]
  },
  {
   "cell_type": "markdown",
   "id": "c450ba42",
   "metadata": {},
   "source": [
    "The question is... now what? Our $\\kappa$ most definitely does not match the $\\kappa$ in equations 2.3 onward. Instead, we can make these relations:\n",
    "$$ \\partial_t^2 \\psi = \\kappa K - n^b \\nabla_b \\kappa $$\n",
    "$$ D^2 \\psi = \\gamma^a_b \\nabla^b \\nabla_a \\psi $$"
   ]
  },
  {
   "cell_type": "markdown",
   "id": "1482d6f2",
   "metadata": {},
   "source": [
    "Which are quite useful.\n",
    "\n",
    "Now, we usually try to avoid working backwards in these solutions, but we need our \"result\" in a better form to work with. (And there's still a missing step in the formulation.) Starting with the result...\n",
    "\n",
    "$$ \\partial_t \\kappa = -D_a(\\alpha D^a \\psi) + \\alpha \\kappa K + 4\\pi \\alpha\\rho + \\mathcal{L}_\\beta \\kappa $$\n",
    "\n",
    "First of all, the left hand side and the last term are actually very closely related. \n",
    "\n",
    "$$ \\partial_t \\kappa - \\mathcal{L}_\\beta \\kappa $$\n",
    "\n",
    "$$ = \\partial_t \\kappa - \\beta^i \\partial_i \\kappa $$\n",
    "\n",
    "$$ = \\alpha n^a \\partial_a \\kappa $$\n",
    "\n",
    "Which can also be written as\n",
    "\n",
    "$$ = \\alpha n^a \\nabla_a \\kappa = \\alpha \\mathcal{L}_n \\kappa = \\mathcal{L}_{n\\alpha} \\kappa$$\n",
    "\n",
    "It's nice (albeit a bit confusing) how a scalar makes the three derivatives so easily shuffleable. "
   ]
  },
  {
   "cell_type": "markdown",
   "id": "83a29626",
   "metadata": {},
   "source": [
    "Regardless, now our relation is of a more manageable summation notation.\n",
    "\n",
    "$$ \\Rightarrow \\alpha n^a \\partial_a \\kappa = -D_a(\\alpha D^a \\psi) + \\alpha \\kappa K + 4\\pi \\alpha\\rho $$\n",
    "\n",
    "$$ \\Rightarrow n^a \\partial_a \\kappa = -\\frac{1}{\\alpha} D_a(\\alpha D^a \\psi) + \\kappa K + 4 \\pi \\rho $$\n",
    "\n",
    "This is much easier to look at. Note the last two terms: they look unrelated, but we know $4 \\pi \\rho$ is the solution to the massless scalar field wave equation, that is, $\\nabla^a \\nabla_a \\psi$. And we just showed that $-\\kappa K$ is the temporal part of that solution! Thus, we're subtracting the two from each other, effectively, leaving us with only the SPATIAL solution! \n",
    "\n",
    "$$ \\Rightarrow n^a \\partial_a \\kappa = -\\frac{1}{\\alpha} D_a(\\alpha D^a \\psi) + \\gamma^a_c \\nabla^c \\nabla_a \\psi $$\n",
    "\n",
    "$$ \\Rightarrow n^a \\partial_a \\kappa = -\\frac{1}{\\alpha} D_a(\\alpha D^a \\psi) + D^2 \\psi $$"
   ]
  },
  {
   "cell_type": "markdown",
   "id": "f5b0cfbf",
   "metadata": {},
   "source": [
    "Sanity check: the above step is somewhat \"fancy\" so it's worthwhile to show all the steps:\n",
    "\n",
    "$$ \\kappa K + 4 \\pi \\rho $$\n",
    "$$ = n^an_b\\nabla^b\\nabla_a + \\nabla^a \\nabla_a \\psi $$\n",
    "$$ = n^an_b\\nabla^b\\nabla_a + g^a_b \\nabla^b \\nabla_a \\psi $$\n",
    "$$ = \\gamma^a_b \\nabla^b\\nabla_a $$\n"
   ]
  },
  {
   "cell_type": "markdown",
   "id": "f5db62f8",
   "metadata": {},
   "source": [
    "The first term on the right of our relation can be expanded by the product rule. \n",
    "\n",
    "$$ \\Rightarrow n^a \\partial_a \\kappa = -\\frac{1}{\\alpha} \\alpha D_a( D^a \\psi) -\\frac{1}{\\alpha} (D_a\\alpha) (D^a \\psi) + D^2 \\psi $$\n",
    "\n",
    "$$ \\Rightarrow n^a \\partial_a \\kappa = - D^2 \\psi - \\frac{1}{\\alpha} (D_a\\alpha) (D^a \\psi) + D^2 \\psi $$\n",
    "\n",
    "$$ \\Rightarrow n^a \\partial_a \\kappa = - \\frac{1}{\\alpha} (D_a\\alpha) (D^a \\psi) $$\n",
    "\n",
    "Now remember the very unusual relation $a_a = D_a ln\\alpha$ (2.69, see **Problem 10**).\n",
    "\n",
    "$$ \\Rightarrow n^a \\partial_a \\kappa = - (D_a ln\\alpha) (D^a \\psi) $$\n",
    "\n",
    "$$ \\Rightarrow n^a \\partial_a \\kappa = - a_a D^a \\psi $$\n",
    "\n",
    "And at this point we're not sure exactly what we're doing. All we need to do is prove that the equality is true, and we're done. (Everything after this point we are uncertain about.)"
   ]
  },
  {
   "cell_type": "markdown",
   "id": "9e61ddd5",
   "metadata": {},
   "source": [
    "$$ \\Rightarrow n^a \\nabla_a \\kappa = - a_a D^a \\psi $$\n",
    "\n",
    "$$ \\Rightarrow n_a \\nabla^a \\kappa = - a_a \\nabla^a \\psi - a_an^a\\kappa$$\n",
    "\n",
    "Via part b). As acceleration is purely spatial (See **Problem 2-12** in the big Numerical Relativity book) the second term on the right vanishes. \n",
    "\n",
    "$$ \\Rightarrow n_a \\nabla^a \\kappa = - a_a \\nabla^a \\psi$$\n",
    "\n",
    "$$ \\Rightarrow -n_a \\nabla^a (n^b\\nabla_b \\psi) = - n^b (\\nabla_b n_a) \\nabla^a \\psi$$\n",
    "\n",
    "While at first this looks very, very promising--the sign is the same and the terms all match!--the problem is the derivatives are nested incorrectly for the equality to be direct. The left side has a derivative of a derivative, the right does not. We can expand the left by the product rule...\n",
    "\n",
    "$$ \\Rightarrow -n_a (\\nabla^a n^b)(\\nabla_b \\psi) -n_a n^b (\\nabla^a\\nabla_b \\psi) = - n^b (\\nabla_b n_a) \\nabla^a \\psi$$\n",
    "\n",
    "$$ \\Rightarrow -n^b (\\nabla^a n_a)(\\nabla_b \\psi) -n_a n^b (\\nabla^a\\nabla_b \\psi) = - n^b (\\nabla_b n_a) \\nabla^a \\psi$$\n",
    "\n",
    "$$ \\Rightarrow  -n_a n^b (\\nabla^a\\nabla_b \\psi) = 0$$"
   ]
  },
  {
   "cell_type": "markdown",
   "id": "b47ec3ca",
   "metadata": {},
   "source": [
    "Now... the thing is this simply isn't true. We already know what this is equal to. We used the relation bevore.\n",
    "\n",
    "$$ n_a n^b (\\nabla^a\\nabla_b \\psi) = \\kappa K$$\n",
    "\n",
    "Which isn't zero... at least, it sure seems like it isn't. So something has gone wrong... somewhere. "
   ]
  },
  {
   "cell_type": "markdown",
   "id": "6c4a3bbd",
   "metadata": {},
   "source": [
    "<a id='P16A'></a>\n",
    "\n",
    "# Problem 16 Alt \\[Back to [top](#toc)\\]\n",
    "$$\\label{P16A}$$\n",
    "\n",
    "Leo thinks the above **Problem 16c** is arranged badly, so instead he offers this:"
   ]
  },
  {
   "cell_type": "markdown",
   "id": "5ed476bd",
   "metadata": {},
   "source": [
    "*In this exercise we will find the 3+1 decomposition of the Klein-Gordon equation*\n",
    "\n",
    "$$ \\nabla^a\\nabla_a\\psi = 4\\pi \\rho .$$\n",
    "\n",
    "*a) Consider the definition $D_aD_b\\psi = \\gamma^c_a\\gamma^d_b\\nabla_cD_d\\psi.$ Using $\\nabla_a\\psi = D_a\\psi + n_a \\kappa$, show that*\n",
    "\n",
    "$$ \\gamma^c_a \\gamma^d_b \\nabla_c \\nabla_d \\psi = D_a D_b \\psi - \\kappa K_{ab} $$\n",
    "\n",
    "where $K_{ab} = -\\nabla_an_b - n_aD_b ln\\alpha$ is the extrinsic curvature and $\\gamma^c_a K_{cb} = K_{ab}$"
   ]
  },
  {
   "cell_type": "markdown",
   "id": "048d4af2",
   "metadata": {},
   "source": [
    "Right, the relations are given, let's do this!\n",
    "\n",
    "$$ \\gamma^c_a \\gamma^d_b \\nabla_c \\nabla_d \\psi $$\n",
    "\n",
    "$$ = \\gamma^c_a \\gamma^d_b \\nabla_c D_d \\psi + \\gamma^c_a \\gamma^d_b \\nabla_c (n_d \\kappa) $$\n",
    "\n",
    "$$ = D_a D_b \\psi + \\gamma^c_a \\gamma^d_b n_d \\nabla_c (\\kappa) + \\gamma^c_a \\gamma^d_b \\kappa \\nabla_c (n_d) $$\n",
    "\n",
    "The first term is already in the form we want, so we know the other two must eventually become the other term we need. \n",
    "\n",
    "$$ = D_a D_b \\psi + \\gamma^d_b n_d D_a(\\kappa) +  \\kappa D_a n_b$$\n",
    "\n",
    "Middle term goes to zero, spatial projection of the lowered normal is nothing. \n",
    "\n",
    "$$ = D_a D_b \\psi + \\kappa D_a n_b$$\n",
    "\n",
    "Now the next step only makes sense since we know we want to get a K out of this eventually, which means we need to grab the acceleraiton, which means we REVERT that second term. \n",
    "\n",
    "$$ = D_a D_b \\psi + \\kappa \\gamma^c_a \\gamma^d_b \\nabla_c (n_d) $$\n",
    "\n",
    "$$ = D_a D_b \\psi + \\kappa \\gamma^c_a \\gamma^d_b (-K_{cd} - n_c a_d) $$\n",
    "\n",
    "$$ = D_a D_b \\psi - \\kappa\\gamma^c_a \\gamma^d_b K_{cd} - \\kappa \\gamma^c_a \\gamma^d_b n_c a_d $$\n",
    "\n",
    "K is spatial, the projections pass right through, and the projections go to zero for the last term. \n",
    "\n",
    "$$ = D_a D_b \\psi - \\kappa K_{ab}$$\n",
    "\n",
    "Which is what we sought to show! "
   ]
  },
  {
   "cell_type": "markdown",
   "id": "c8489d49",
   "metadata": {},
   "source": [
    "*b) Again using $\\nabla_a \\psi = D_a \\psi + n_a \\kappa,$ show that*\n",
    "\n",
    "$$ n^an^b \\nabla_a \\nabla_b \\psi = -\\alpha^{-1} (\\partial_t \\kappa - \\mathcal{L}_\\beta \\kappa + D^a \\psi D_a \\alpha) $$\n",
    "\n",
    "*Hint: Use the fact that $n^a D_a \\psi = 0$*"
   ]
  },
  {
   "cell_type": "markdown",
   "id": "40a61f02",
   "metadata": {},
   "source": [
    "Once more, with feeling!\n",
    "\n",
    "$$ n^an^b\\nabla_a\\nabla_b\\psi $$\n",
    "\n",
    "$$ = n^an^b\\nabla_aD_b \\psi + n^an^b\\nabla_a(n_b \\kappa) $$\n",
    "\n",
    "$$ = n^an^b\\nabla_aD_b \\psi + n^an^bn_b\\nabla_a \\kappa + n^an^b\\kappa\\nabla_an_b $$\n",
    "\n",
    "$$ = n^an^b\\nabla_aD_b \\psi - n^a \\nabla_a \\kappa $$\n",
    "\n",
    "Note that since we have a normal on one side and a spatial component on the other of the covariant derivative, we can use 2.71 to flip things in the first term. \n",
    "\n",
    "$$ = - n^a(D_b\\psi)\\nabla_a n^b - n^a \\partial_a \\kappa $$\n",
    "\n",
    "$$ = - n^a(D^b\\psi)\\nabla_a n_b  - \\frac1\\alpha \\partial_t \\kappa + \\frac1\\alpha \\beta^i \\partial_i \\kappa  $$\n",
    "\n",
    "$$ = - (D^b\\psi)a_b - \\frac1\\alpha \\partial_t \\kappa + \\frac1\\alpha \\mathcal{L}_\\beta \\kappa  $$\n",
    "\n",
    "$$ = - (D^b\\psi)D_b ln\\alpha - \\frac1\\alpha \\partial_t \\kappa + \\frac1\\alpha \\mathcal{L}_\\beta \\kappa  $$\n",
    "\n",
    "$$ = - \\frac1\\alpha (D^b\\psi)D_b \\alpha - \\frac1\\alpha \\partial_t \\kappa + \\frac1\\alpha \\mathcal{L}_\\beta \\kappa  $$\n",
    "\n",
    "$$ = - \\frac1\\alpha [(D^a\\psi)D_a \\alpha + \\partial_t \\kappa - \\mathcal{L}_\\beta \\kappa]  $$"
   ]
  },
  {
   "cell_type": "markdown",
   "id": "1e939dbf",
   "metadata": {},
   "source": [
    "*c) Starting from*\n",
    "\n",
    "$$ \\nabla_a \\nabla_b \\psi = g^c_a g^d_b \\nabla_c \\nabla_d \\psi, $$\n",
    "\n",
    "and using the results from items a) and b), show that\n",
    "\n",
    "$$ \\nabla^a \\nabla_a \\psi = D^a D_a \\psi -\\kappa K + \\alpha^{-1} [\\delta_t \\kappa - \\mathcal{L}_\\beta \\kappa + D^a \\psi D_a \\alpha] $$\n",
    "\n",
    "where K = $g^{ab}K_{ab} = K^a_a$ is the mean curvature. "
   ]
  },
  {
   "cell_type": "markdown",
   "id": "f061f666",
   "metadata": {},
   "source": [
    "And this is...\n",
    "\n",
    "$$ \\nabla^a \\nabla_a \\psi $$\n",
    "\n",
    "$$ = g^{ab} \\nabla_b \\nabla_a \\psi $$\n",
    "\n",
    "$$ = g^{ab} g^c_a g^d_b \\nabla_c \\nabla_d \\psi $$\n",
    "\n",
    "$$ = g^{ab} \\gamma^c_a \\gamma^d_b \\nabla_c \\nabla_d \\psi - g^{ab} \\gamma^c_a n^d n_b \\nabla_c \\nabla_d \\psi - g^{ab} n^c n_a \\gamma^d_b \\nabla_c \\nabla_d \\psi + g^{ab} n^cn_an^dn_b \\nabla_c \\nabla_d \\psi $$\n",
    "\n",
    "$$ = g^{ab} \\gamma^c_a \\gamma^d_b \\nabla_c \\nabla_d \\psi - g^{db} \\gamma^c_a n^a n_b \\nabla_c \\nabla_d \\psi - g^{ac} n^b n_a \\gamma^d_b \\nabla_c \\nabla_d \\psi + g^{ab} n^cn_an^dn_b \\nabla_c \\nabla_d \\psi $$\n",
    "\n",
    "$$ = g^{ab} \\gamma^c_a \\gamma^d_b \\nabla_c \\nabla_d \\psi + n^cn^bn^dn_b \\nabla_c \\nabla_d \\psi $$\n",
    "\n",
    "$$ = g^{ab} \\gamma^c_a \\gamma^d_b \\nabla_c \\nabla_d \\psi - n^cn^d \\nabla_c \\nabla_d \\psi $$\n",
    "\n",
    "Now we can just make our substitutions. \n",
    "\n",
    "$$ = g^{ab} (D_aD_b\\psi - \\kappa K_{ab}) + \\frac1\\alpha [(D^a\\psi)D_a \\alpha + \\partial_t \\kappa - \\mathcal{L}_\\beta \\kappa]  $$\n",
    "\n",
    "$$ = D^bD_b\\psi - \\kappa K + \\frac1\\alpha [(D^a\\psi)D_a \\alpha + \\partial_t \\kappa - \\mathcal{L}_\\beta \\kappa]  $$\n",
    "\n",
    "$$ = D^aD_a\\psi - \\kappa K + \\frac1\\alpha [(D^a\\psi)D_a \\alpha + \\partial_t \\kappa - \\mathcal{L}_\\beta \\kappa]  $$"
   ]
  },
  {
   "cell_type": "markdown",
   "id": "458fc82d",
   "metadata": {},
   "source": [
    "*d) Finally, return to the original equation and show that*\n",
    "\n",
    "$$ \\partial_t \\kappa = \\mathcal{L}_\\beta \\kappa - D^a(\\alpha D_a \\psi) + \\alpha \\kappa K + 4 \\pi \\alpha \\rho$$"
   ]
  },
  {
   "cell_type": "markdown",
   "id": "b45a8c63",
   "metadata": {},
   "source": [
    "The full relation from part c) is\n",
    "\n",
    "$$ \\nabla^a \\nabla_a \\psi = D^a D_a \\psi -\\kappa K + \\frac1\\alpha [\\partial_t \\kappa - \\mathcal{L}_\\beta \\kappa + D^a \\psi D_a \\alpha] $$\n",
    "\n",
    "Which, using the FIRST equation, allows us to say:\n",
    "\n",
    "$$ \\Rightarrow 4\\pi\\rho = D^a D_a \\psi -\\kappa K + \\frac1\\alpha [\\partial_t \\kappa - \\mathcal{L}_\\beta \\kappa + D^a \\psi D_a \\alpha] $$\n",
    "\n",
    "Rearrangements produce...\n",
    "\n",
    "$$ \\Rightarrow 4\\pi\\alpha\\rho = \\alpha D^a D_a \\psi -\\alpha\\kappa K + \\partial_t \\kappa - \\mathcal{L}_\\beta \\kappa + D^a \\psi D_a \\alpha $$\n",
    "\n",
    "$$ \\Rightarrow 4\\pi\\alpha\\rho - \\alpha D^a D_a \\psi + \\alpha\\kappa K +  \\mathcal{L}_\\beta \\kappa - D^a \\psi D_a \\alpha  = \\partial_t \\kappa $$\n",
    "\n",
    "$$ \\Rightarrow 4\\pi\\alpha\\rho -  D^a(\\alpha D_a \\psi) + \\alpha\\kappa K +  \\mathcal{L}_\\beta \\kappa  = \\partial_t \\kappa $$\n",
    "\n",
    "Which is what we sought, albeit with terms rearranged. "
   ]
  },
  {
   "cell_type": "markdown",
   "id": "f21b6a1b",
   "metadata": {},
   "source": [
    "<a id='P16C'></a>\n",
    "\n",
    "# Problem 16 Code Validation \\[Back to [top](#toc)\\]\n",
    "$$\\label{P16C}$$\n",
    "\n",
    "As we were trying to do with the original Problem 16, we are now going to use it as a way to learn NRPyLaTeX and validate the results. With code. Wheeee!"
   ]
  },
  {
   "cell_type": "code",
   "execution_count": 2,
   "id": "4d3299e8",
   "metadata": {},
   "outputs": [
    {
     "name": "stdout",
     "output_type": "stream",
     "text": [
      "\u001b[33mWARNING: There was an error checking the latest version of pip.\u001b[0m\u001b[33m\n",
      "\u001b[0mnrpylatex==1.2.2\n"
     ]
    }
   ],
   "source": [
    "!pip install nrpylatex~=1.2.2 > /dev/null\n",
    "!pip freeze | grep nrpylatex"
   ]
  },
  {
   "cell_type": "code",
   "execution_count": 3,
   "id": "1d35bcf9",
   "metadata": {},
   "outputs": [],
   "source": [
    "from nrpylatex import parse_latex #For python\n",
    "\n",
    "#from nrpylatex.core.assert_equal import assert_equal\n",
    "#this is not used any longer, we keep it here so we know how to grab it if necessary. \n",
    "\n",
    "import sympy as sp\n",
    "simplify = lambda x: list(sp.simplify(sp.Matrix(x)))\n",
    "#simplify only knows how to work on certain objects, and NRPyLaTeX stores things NOT as those objects.\n",
    "#here we define a new simplify that first converts it all to a matrix that can be worked with. \n",
    "#a lambda is just a Python tiny function. \n",
    "\n",
    "#for line magic in jupyter\n",
    "%load_ext nrpylatex.extension "
   ]
  },
  {
   "cell_type": "code",
   "execution_count": 4,
   "id": "0bffa38c",
   "metadata": {},
   "outputs": [
    {
     "data": {
      "text/latex": [
       "\\[\n",
       "% define gUU --dim 3 --metric\n",
       "% define vD --dim 3 \n",
       "\\]"
      ],
      "text/plain": [
       "('vD', 'gdet', 'gDD', 'gUU', 'epsilonDDD', 'GammaUDD')"
      ]
     },
     "execution_count": 4,
     "metadata": {},
     "output_type": "execute_result"
    }
   ],
   "source": [
    "%%parse_latex --reset\n",
    "\n",
    "% define gUU --dim 3 --metric\n",
    "% define vD --dim 3 \n"
   ]
  },
  {
   "cell_type": "code",
   "execution_count": 5,
   "id": "55c680cc",
   "metadata": {},
   "outputs": [
    {
     "data": {
      "text/latex": [
       "\\[\n",
       "% define gDD --dim 4 --metric\n",
       "% define psi --dim 4 --deriv dD\n",
       "% define alpha --dim 4 --deriv dD\n",
       "% define betaU --dim 4 --deriv dD\n",
       "% define nU --dim 4 \n",
       "% define nD --dim 4 --zero \n",
       "%  n^{0} = 1/\\alpha \\\\\n",
       "%  n^{1} = -\\beta^1/\\alpha \\\\\n",
       "%  n^{2} = -\\beta^2/\\alpha \\\\\n",
       "%  n^{3} = -\\beta^3/\\alpha \\\\\n",
       "%  n_{0} = -\\alpha \\\\\n",
       "\n",
       "\\gamma^\\alpha_\\beta = g^\\alpha_\\beta + n^\\alpha n_\\beta \\\\\n",
       "\\kappa = -n^\\alpha \\nabla_\\alpha \\psi \\\\\n",
       "\n",
       "% define alpha --dim 4 --deriv dD\n",
       "A = \\ln\\alpha \\\\\n",
       "%% we have to define this because the D operator won't accept a ln of something else. \n",
       "\n",
       "K_{\\alpha\\beta} = -\\nabla_\\alpha n_\\beta - n_\\alpha D_\\beta A\n",
       "\\]"
      ],
      "text/plain": [
       "('gUD',\n",
       " 'alpha',\n",
       " 'psi',\n",
       " 'A',\n",
       " 'nD',\n",
       " 'gdet',\n",
       " 'nU',\n",
       " 'A_cdD',\n",
       " 'kappa',\n",
       " 'gUU',\n",
       " 'psi_cdD',\n",
       " 'psi_dD',\n",
       " 'nD_cdD',\n",
       " 'epsilonUUUU',\n",
       " 'betaU',\n",
       " 'gDD',\n",
       " 'gammaUD',\n",
       " 'GammaUDD',\n",
       " 'KDD')"
      ]
     },
     "execution_count": 5,
     "metadata": {},
     "output_type": "execute_result"
    }
   ],
   "source": [
    "%%parse_latex --reset\n",
    "\n",
    "% define gDD --dim 4 --metric\n",
    "% define psi --dim 4 --deriv dD\n",
    "% define alpha --dim 4 --deriv dD\n",
    "% define betaU --dim 4 --deriv dD\n",
    "% define nU --dim 4 \n",
    "% define nD --dim 4 --zero \n",
    "%  n^{0} = 1/\\alpha \\\\\n",
    "%  n^{1} = -\\beta^1/\\alpha \\\\\n",
    "%  n^{2} = -\\beta^2/\\alpha \\\\\n",
    "%  n^{3} = -\\beta^3/\\alpha \\\\\n",
    "%  n_{0} = -\\alpha \\\\\n",
    "\n",
    "\\gamma^\\alpha_\\beta = g^\\alpha_\\beta + n^\\alpha n_\\beta \\\\\n",
    "\\kappa = -n^\\alpha \\nabla_\\alpha \\psi \\\\\n",
    "\n",
    "% define alpha --dim 4 --deriv dD\n",
    "A = \\ln\\alpha \\\\\n",
    "%% we have to define this because the D operator won't accept a ln of something else. \n",
    "\n",
    "K_{\\alpha\\beta} = -\\nabla_\\alpha n_\\beta - n_\\alpha D_\\beta A"
   ]
  },
  {
   "cell_type": "code",
   "execution_count": 6,
   "id": "548fe0d2",
   "metadata": {},
   "outputs": [
    {
     "name": "stderr",
     "output_type": "stream",
     "text": [
      "OverrideWarning: some variable(s) in the namespace were overridden\n"
     ]
    },
    {
     "data": {
      "text/latex": [
       "\\[\n",
       "Q_{\\alpha\\beta} = \\gamma^\\gamma_\\alpha \\gamma^\\delta_\\beta \\nabla_\\gamma \\nabla_\\delta \\psi\n",
       "- \\gamma^\\gamma_\\alpha \\gamma^\\delta_\\beta \\nabla_\\gamma D_\\delta \\psi\n",
       "- \\gamma^\\gamma_\\alpha \\gamma^\\delta_\\beta \\nabla_\\gamma (n_\\delta \\kappa)\n",
       "\\]"
      ],
      "text/plain": [
       "('*psi_cdD', 'psi_cdD_dD', 'QDD', 'psi_cdDD', 'kappa_cdD', 'psi_dDD')"
      ]
     },
     "execution_count": 6,
     "metadata": {},
     "output_type": "execute_result"
    }
   ],
   "source": [
    "%%parse_latex\n",
    "\n",
    "Q_{\\alpha\\beta} = \\gamma^\\gamma_\\alpha \\gamma^\\delta_\\beta \\nabla_\\gamma \\nabla_\\delta \\psi\n",
    "- \\gamma^\\gamma_\\alpha \\gamma^\\delta_\\beta \\nabla_\\gamma D_\\delta \\psi\n",
    "- \\gamma^\\gamma_\\alpha \\gamma^\\delta_\\beta \\nabla_\\gamma (n_\\delta \\kappa)"
   ]
  },
  {
   "cell_type": "code",
   "execution_count": 7,
   "id": "a9ea0102",
   "metadata": {
    "scrolled": true
   },
   "outputs": [
    {
     "name": "stdout",
     "output_type": "stream",
     "text": [
      "[0, 0, 0, 0, 0, 0, 0, 0, 0, 0, 0, 0, 0, 0, 0, 0]\n"
     ]
    }
   ],
   "source": [
    "print(simplify(QDD))"
   ]
  },
  {
   "cell_type": "markdown",
   "id": "abd5735b",
   "metadata": {},
   "source": [
    "That was ultimately just a proof of concept, to show that the first step of the problem, \n",
    "\n",
    "$$ \\gamma^c_a \\gamma^d_b \\nabla_c \\nabla_d \\psi $$\n",
    "\n",
    "$$ = \\gamma^c_a \\gamma^d_b \\nabla_c D_d \\psi + \\gamma^c_a \\gamma^d_b \\nabla_c (n_d \\kappa), $$\n",
    "\n",
    "could be modeled correctly. \n",
    "\n",
    "Now, it's possible one of the relations we end up using will make it so we can't just do this all at once, but we're going to try! ...going right to the end did not work. Sure, a LOT of terms went to zero, just not all of them. (in fact, it seems like only the t-components ended up with things in them...) The issue appears to be that it doesn't know the definition of the spatial derivative which is fair, as it doesn't know the projection operator either. So we manually add it in using srepl. \n",
    "\n",
    "With this NRPyLaTeX CAN go right to the end! \n"
   ]
  },
  {
   "cell_type": "code",
   "execution_count": 8,
   "id": "8f749322",
   "metadata": {},
   "outputs": [
    {
     "data": {
      "text/latex": [
       "\\[\n",
       "% srepl \"D_<1> D_<2>\" -> \"\\gamma^{i_1}_<1> \\gamma^{i_2}_<2> \\nabla_{i_1} D_{i_2}\"\n",
       "%% srepl \"\\gamma^<3>_<1> \\gamma^<4>_<2> \\nabla_<3> D_<4>\" -> \"D_<1> D_<2>\"\n",
       "\n",
       "M_{\\alpha\\beta} = \\gamma^\\gamma_\\alpha \\gamma^\\delta_\\beta \\nabla_\\gamma \\nabla_\\delta \\psi\n",
       "- D_\\alpha D_\\beta \\psi + \\kappa K_{\\alpha\\beta}\n",
       "\\]"
      ],
      "text/plain": [
       "('MDD',)"
      ]
     },
     "execution_count": 8,
     "metadata": {},
     "output_type": "execute_result"
    }
   ],
   "source": [
    "%%parse_latex\n",
    "\n",
    "% srepl \"D_<1> D_<2>\" -> \"\\gamma^{i_1}_<1> \\gamma^{i_2}_<2> \\nabla_{i_1} D_{i_2}\"\n",
    "%% srepl \"\\gamma^<3>_<1> \\gamma^<4>_<2> \\nabla_<3> D_<4>\" -> \"D_<1> D_<2>\"\n",
    "\n",
    "M_{\\alpha\\beta} = \\gamma^\\gamma_\\alpha \\gamma^\\delta_\\beta \\nabla_\\gamma \\nabla_\\delta \\psi\n",
    "- D_\\alpha D_\\beta \\psi + \\kappa K_{\\alpha\\beta}"
   ]
  },
  {
   "cell_type": "code",
   "execution_count": 9,
   "id": "c944d022",
   "metadata": {},
   "outputs": [
    {
     "name": "stdout",
     "output_type": "stream",
     "text": [
      "[0, 0, 0, 0, 0, 0, 0, 0, 0, 0, 0, 0, 0, 0, 0, 0]\n"
     ]
    }
   ],
   "source": [
    "print(simplify(MDD))"
   ]
  },
  {
   "cell_type": "markdown",
   "id": "2e6e99bd",
   "metadata": {},
   "source": [
    "All zeroes, part a) has been validated! \n",
    "\n",
    "Now, for part b). To make things easier we are just going to keep the temporal and spatial components of the funky terms together, $n^a\\nabla_a \\kappa$ rather than splitting it up to make it hard on the poor computer. \n",
    "\n",
    "The \"all in one\" step did not work, it did not think it was zero (in fact it thinks it is a huge mess), so let's do it one bit at a time. "
   ]
  },
  {
   "cell_type": "code",
   "execution_count": 10,
   "id": "1ea2b732",
   "metadata": {},
   "outputs": [
    {
     "data": {
      "text/latex": [
       "\\[\n",
       "P = n^\\alpha n^\\beta \\nabla_\\alpha \\nabla_\\beta \\psi \n",
       "- n^\\alpha n^\\beta \\nabla_\\alpha D_\\beta \\psi + n^\\alpha \\nabla_\\alpha \\kappa \\\\\n",
       "\n",
       "%% We have identified the step where trouble occurs,\n",
       "%% The fliping across the nabla. \n",
       "O = n^\\alpha n^\\beta \\nabla_\\alpha D_\\beta \\psi + n^\\alpha (D_\\beta \\psi) \\nabla_\\alpha n^\\beta \\\\\n",
       "%% this evaluation is not zero, despite us knowing it works. \n",
       "%% Digging a bit we find that the computer does not recognize\n",
       "N = n^\\alpha D_\\alpha \\psi \\\\\n",
       "%% as going to zero, an even simpler relation used to prove the above. Projecting \n",
       "%% spatial anything along the normal should vanish. \n",
       "\n",
       "%% We THINK this is arising because we manually defined both versions of n\n",
       "%% but have not defined the metric g. Even though the nature of n puts limits on g. \n",
       "\n",
       "%% The \"all in one\" attempt that did not work. \n",
       "%% P = n^\\alpha n^\\beta \\nabla_\\alpha \\nabla_\\beta \\psi \n",
       "%% - \\frac{1}{\\alpha} (D^\\alpha \\psi)D_\\alpha \\alpha + n^\\alpha \\nabla_\\alpha \\kappa\n",
       "\\]"
      ],
      "text/plain": [
       "('P', 'nU_cdD', 'O', 'N')"
      ]
     },
     "execution_count": 10,
     "metadata": {},
     "output_type": "execute_result"
    }
   ],
   "source": [
    "%%parse_latex\n",
    "\n",
    "P = n^\\alpha n^\\beta \\nabla_\\alpha \\nabla_\\beta \\psi \n",
    "- n^\\alpha n^\\beta \\nabla_\\alpha D_\\beta \\psi + n^\\alpha \\nabla_\\alpha \\kappa \\\\\n",
    "\n",
    "%% We have identified the step where trouble occurs,\n",
    "%% The fliping across the nabla. \n",
    "O = n^\\alpha n^\\beta \\nabla_\\alpha D_\\beta \\psi + n^\\alpha (D_\\beta \\psi) \\nabla_\\alpha n^\\beta \\\\\n",
    "%% this evaluation is not zero, despite us knowing it works. \n",
    "%% Digging a bit we find that the computer does not recognize\n",
    "N = n^\\alpha D_\\alpha \\psi \\\\\n",
    "%% as going to zero, an even simpler relation used to prove the above. Projecting \n",
    "%% spatial anything along the normal should vanish. \n",
    "\n",
    "%% We THINK this is arising because we manually defined both versions of n\n",
    "%% but have not defined the metric g. Even though the nature of n puts limits on g. \n",
    "\n",
    "%% The \"all in one\" attempt that did not work. \n",
    "%% P = n^\\alpha n^\\beta \\nabla_\\alpha \\nabla_\\beta \\psi \n",
    "%% - \\frac{1}{\\alpha} (D^\\alpha \\psi)D_\\alpha \\alpha + n^\\alpha \\nabla_\\alpha \\kappa"
   ]
  },
  {
   "cell_type": "code",
   "execution_count": 11,
   "id": "a9a7135d",
   "metadata": {
    "scrolled": false
   },
   "outputs": [
    {
     "name": "stdout",
     "output_type": "stream",
     "text": [
      "0\n",
      "(betaU1**2*psi_dDD11 + 2*betaU1*betaU2*psi_dDD12 + 2*betaU1*betaU3*psi_dDD13 - 2*betaU1*psi_dDD01 + betaU2**2*psi_dDD22 + 2*betaU2*betaU3*psi_dDD23 - 2*betaU2*psi_dDD02 + betaU3**2*psi_dDD33 - 2*betaU3*psi_dDD03 + psi_dDD00)/alpha**2\n",
      "(-betaU1*psi_dD1 - betaU2*psi_dD2 - betaU3*psi_dD3 + psi_dD0)/alpha\n"
     ]
    }
   ],
   "source": [
    "print(sp.simplify(P))\n",
    "print(sp.simplify(O))\n",
    "print(sp.simplify(N))"
   ]
  },
  {
   "cell_type": "code",
   "execution_count": 12,
   "id": "a7011875",
   "metadata": {},
   "outputs": [
    {
     "name": "stderr",
     "output_type": "stream",
     "text": [
      "OverrideWarning: some variable(s) in the namespace were overridden\n"
     ]
    },
    {
     "data": {
      "text/latex": [
       "\\[\n",
       "%% So instead let's use a srepl to define the relation. \n",
       "\n",
       "% srepl \"n^<1> D_<1> \\psi\" -> \"0\"\n",
       "\n",
       "%% this notably fixes the small relation, but NRPyLaTeX cannot carry it through\n",
       "%% so we also define the flip\n",
       "\n",
       "P = n^\\alpha n^\\beta \\nabla_\\alpha \\nabla_\\beta \\psi \n",
       "- n^\\alpha n^\\beta \\nabla_\\alpha D_\\beta \\psi + n^\\alpha \\nabla_\\alpha \\kappa \\\\\n",
       "\n",
       "% srepl \"n^\\beta \\nabla_\\alpha D_\\beta \\psi\" -> \"(D_\\beta \\psi) \\nabla_\\alpha n^\\beta\"\n",
       "\n",
       "O = n^\\alpha n^\\beta \\nabla_\\alpha D_\\beta \\psi + n^\\alpha (D_\\beta \\psi) \\nabla_\\alpha n^\\beta \\\\\n",
       "\n",
       "N = n^\\alpha D_\\alpha \\psi \\\\\n",
       "\n",
       "%% Curiously the srepl breaks P, but so long as we do it afterward, we're fine and the\n",
       "%% things go to zero. \n",
       "\\]"
      ],
      "text/plain": [
       "('*P', '*O', '*N')"
      ]
     },
     "execution_count": 12,
     "metadata": {},
     "output_type": "execute_result"
    }
   ],
   "source": [
    "%%parse_latex\n",
    "\n",
    "%% So instead let's use a srepl to define the relation. \n",
    "\n",
    "% srepl \"n^<1> D_<1> \\psi\" -> \"0\"\n",
    "\n",
    "%% this notably fixes the small relation, but NRPyLaTeX cannot carry it through\n",
    "%% so we also define the flip\n",
    "\n",
    "P = n^\\alpha n^\\beta \\nabla_\\alpha \\nabla_\\beta \\psi \n",
    "- n^\\alpha n^\\beta \\nabla_\\alpha D_\\beta \\psi + n^\\alpha \\nabla_\\alpha \\kappa \\\\\n",
    "\n",
    "% srepl \"n^\\beta \\nabla_\\alpha D_\\beta \\psi\" -> \"(D_\\beta \\psi) \\nabla_\\alpha n^\\beta\"\n",
    "\n",
    "O = n^\\alpha n^\\beta \\nabla_\\alpha D_\\beta \\psi + n^\\alpha (D_\\beta \\psi) \\nabla_\\alpha n^\\beta \\\\\n",
    "\n",
    "N = n^\\alpha D_\\alpha \\psi \\\\\n",
    "\n",
    "%% Curiously the srepl breaks P, but so long as we do it afterward, we're fine and the\n",
    "%% things go to zero. "
   ]
  },
  {
   "cell_type": "code",
   "execution_count": 13,
   "id": "afee8cab",
   "metadata": {},
   "outputs": [
    {
     "name": "stdout",
     "output_type": "stream",
     "text": [
      "0\n",
      "0\n",
      "0\n"
     ]
    }
   ],
   "source": [
    "print(sp.simplify(P))\n",
    "print(sp.simplify(O))\n",
    "print(sp.simplify(N))"
   ]
  },
  {
   "cell_type": "code",
   "execution_count": 14,
   "id": "35039153",
   "metadata": {},
   "outputs": [
    {
     "data": {
      "text/latex": [
       "\\[\n",
       "%%We note that we already have the last term in both places, so we ignore it here.\n",
       "\n",
       "%% notably, it seems that the program does not know how to create the acceleraiton, \n",
       "%% so we will do it manually \n",
       "\n",
       "% define aD --dim 4\n",
       "\n",
       "% srepl \"n^<1> \\nabla_<1> n_<2>\" -> \"\\frac{1}{\\alpha} D_<2> \\alpha\"\n",
       "\n",
       "L = - (D_\\beta \\psi) n^\\alpha \\nabla_\\alpha n^\\beta\n",
       "+ (D^\\beta \\psi) n^\\alpha \\nabla_\\alpha n_\\beta \\\\\n",
       "\n",
       "K = - (D_\\beta \\psi) n^\\alpha \\nabla_\\alpha n^\\beta\n",
       "+ \\frac{1}{\\alpha} (D^\\alpha \\psi)D_\\alpha \\alpha \n",
       "\\]"
      ],
      "text/plain": [
       "('K', 'alpha_dD', 'aD', 'psi_cdU', 'L', 'alpha_cdD')"
      ]
     },
     "execution_count": 14,
     "metadata": {},
     "output_type": "execute_result"
    }
   ],
   "source": [
    "%%parse_latex\n",
    "\n",
    "%%We note that we already have the last term in both places, so we ignore it here.\n",
    "\n",
    "%% notably, it seems that the program does not know how to create the acceleraiton, \n",
    "%% so we will do it manually \n",
    "\n",
    "% define aD --dim 4\n",
    "\n",
    "% srepl \"n^<1> \\nabla_<1> n_<2>\" -> \"\\frac{1}{\\alpha} D_<2> \\alpha\"\n",
    "\n",
    "L = - (D_\\beta \\psi) n^\\alpha \\nabla_\\alpha n^\\beta\n",
    "+ (D^\\beta \\psi) n^\\alpha \\nabla_\\alpha n_\\beta \\\\\n",
    "\n",
    "K = - (D_\\beta \\psi) n^\\alpha \\nabla_\\alpha n^\\beta\n",
    "+ \\frac{1}{\\alpha} (D^\\alpha \\psi)D_\\alpha \\alpha "
   ]
  },
  {
   "cell_type": "code",
   "execution_count": 15,
   "id": "eed9333d",
   "metadata": {
    "scrolled": true
   },
   "outputs": [
    {
     "name": "stdout",
     "output_type": "stream",
     "text": [
      "(zoo*alpha_dD0*(-psi_dD0*(-gDD11*gDD22*gDD33 + gDD11*gDD23**2 + gDD12**2*gDD33 - 2*gDD12*gDD13*gDD23 + gDD13**2*gDD22) - psi_dD1*(gDD01*gDD22*gDD33 - gDD01*gDD23**2 - gDD02*gDD12*gDD33 + gDD02*gDD13*gDD23 + gDD03*gDD12*gDD23 - gDD03*gDD13*gDD22) + psi_dD2*(gDD01*gDD12*gDD33 - gDD01*gDD13*gDD23 - gDD02*gDD11*gDD33 + gDD02*gDD13**2 + gDD03*gDD11*gDD23 - gDD03*gDD12*gDD13) - psi_dD3*(gDD01*gDD12*gDD23 - gDD01*gDD13*gDD22 - gDD02*gDD11*gDD23 + gDD02*gDD12*gDD13 + gDD03*gDD11*gDD22 - gDD03*gDD12**2)) - alpha_dD1*(-psi_dD0*(gDD01*gDD22*gDD33 - gDD01*gDD23**2 - gDD02*gDD12*gDD33 + gDD02*gDD13*gDD23 + gDD03*gDD12*gDD23 - gDD03*gDD13*gDD22) - psi_dD1*(-gDD00*gDD22*gDD33 + gDD00*gDD23**2 + gDD02**2*gDD33 - 2*gDD02*gDD03*gDD23 + gDD03**2*gDD22) - psi_dD2*(gDD00*gDD12*gDD33 - gDD00*gDD13*gDD23 - gDD01*gDD02*gDD33 + gDD01*gDD03*gDD23 + gDD02*gDD03*gDD13 - gDD03**2*gDD12) + psi_dD3*(gDD00*gDD12*gDD23 - gDD00*gDD13*gDD22 - gDD01*gDD02*gDD23 + gDD01*gDD03*gDD22 + gDD02**2*gDD13 - gDD02*gDD03*gDD12)) - alpha_dD2*(psi_dD0*(gDD01*gDD12*gDD33 - gDD01*gDD13*gDD23 - gDD02*gDD11*gDD33 + gDD02*gDD13**2 + gDD03*gDD11*gDD23 - gDD03*gDD12*gDD13) - psi_dD1*(gDD00*gDD12*gDD33 - gDD00*gDD13*gDD23 - gDD01*gDD02*gDD33 + gDD01*gDD03*gDD23 + gDD02*gDD03*gDD13 - gDD03**2*gDD12) - psi_dD2*(-gDD00*gDD11*gDD33 + gDD00*gDD13**2 + gDD01**2*gDD33 - 2*gDD01*gDD03*gDD13 + gDD03**2*gDD11) - psi_dD3*(gDD00*gDD11*gDD23 - gDD00*gDD12*gDD13 - gDD01**2*gDD23 + gDD01*gDD02*gDD13 + gDD01*gDD03*gDD12 - gDD02*gDD03*gDD11))/2 - alpha_dD3*(-psi_dD0*(gDD01*gDD12*gDD23 - gDD01*gDD13*gDD22 - gDD02*gDD11*gDD23 + gDD02*gDD12*gDD13 + gDD03*gDD11*gDD22 - gDD03*gDD12**2) + psi_dD1*(gDD00*gDD12*gDD23 - gDD00*gDD13*gDD22 - gDD01*gDD02*gDD23 + gDD01*gDD03*gDD22 + gDD02**2*gDD13 - gDD02*gDD03*gDD12) - psi_dD2*(gDD00*gDD11*gDD23 - gDD00*gDD12*gDD13 - gDD01**2*gDD23 + gDD01*gDD02*gDD13 + gDD01*gDD03*gDD12 - gDD02*gDD03*gDD11) - psi_dD3*(-gDD00*gDD11*gDD22 + gDD00*gDD12**2 + gDD01**2*gDD22 - 2*gDD01*gDD02*gDD12 + gDD02**2*gDD11))/3)/(-gDD00*gDD11*gDD22*gDD33 + gDD00*gDD11*gDD23**2 + gDD00*gDD12**2*gDD33 - 2*gDD00*gDD12*gDD13*gDD23 + gDD00*gDD13**2*gDD22 + gDD01**2*gDD22*gDD33 - gDD01**2*gDD23**2 - 2*gDD01*gDD02*gDD12*gDD33 + 2*gDD01*gDD02*gDD13*gDD23 + 2*gDD01*gDD03*gDD12*gDD23 - 2*gDD01*gDD03*gDD13*gDD22 + gDD02**2*gDD11*gDD33 - gDD02**2*gDD13**2 - 2*gDD02*gDD03*gDD11*gDD23 + 2*gDD02*gDD03*gDD12*gDD13 + gDD03**2*gDD11*gDD22 - gDD03**2*gDD12**2)\n",
      "(-alpha_dD0*(-psi_dD0*(-gDD11*gDD22*gDD33 + gDD11*gDD23**2 + gDD12**2*gDD33 - 2*gDD12*gDD13*gDD23 + gDD13**2*gDD22) - psi_dD1*(gDD01*gDD22*gDD33 - gDD01*gDD23**2 - gDD02*gDD12*gDD33 + gDD02*gDD13*gDD23 + gDD03*gDD12*gDD23 - gDD03*gDD13*gDD22) + psi_dD2*(gDD01*gDD12*gDD33 - gDD01*gDD13*gDD23 - gDD02*gDD11*gDD33 + gDD02*gDD13**2 + gDD03*gDD11*gDD23 - gDD03*gDD12*gDD13) - psi_dD3*(gDD01*gDD12*gDD23 - gDD01*gDD13*gDD22 - gDD02*gDD11*gDD23 + gDD02*gDD12*gDD13 + gDD03*gDD11*gDD22 - gDD03*gDD12**2)) - alpha_dD1*(-psi_dD0*(gDD01*gDD22*gDD33 - gDD01*gDD23**2 - gDD02*gDD12*gDD33 + gDD02*gDD13*gDD23 + gDD03*gDD12*gDD23 - gDD03*gDD13*gDD22) - psi_dD1*(-gDD00*gDD22*gDD33 + gDD00*gDD23**2 + gDD02**2*gDD33 - 2*gDD02*gDD03*gDD23 + gDD03**2*gDD22) - psi_dD2*(gDD00*gDD12*gDD33 - gDD00*gDD13*gDD23 - gDD01*gDD02*gDD33 + gDD01*gDD03*gDD23 + gDD02*gDD03*gDD13 - gDD03**2*gDD12) + psi_dD3*(gDD00*gDD12*gDD23 - gDD00*gDD13*gDD22 - gDD01*gDD02*gDD23 + gDD01*gDD03*gDD22 + gDD02**2*gDD13 - gDD02*gDD03*gDD12)) - alpha_dD2*(psi_dD0*(gDD01*gDD12*gDD33 - gDD01*gDD13*gDD23 - gDD02*gDD11*gDD33 + gDD02*gDD13**2 + gDD03*gDD11*gDD23 - gDD03*gDD12*gDD13) - psi_dD1*(gDD00*gDD12*gDD33 - gDD00*gDD13*gDD23 - gDD01*gDD02*gDD33 + gDD01*gDD03*gDD23 + gDD02*gDD03*gDD13 - gDD03**2*gDD12) - psi_dD2*(-gDD00*gDD11*gDD33 + gDD00*gDD13**2 + gDD01**2*gDD33 - 2*gDD01*gDD03*gDD13 + gDD03**2*gDD11) - psi_dD3*(gDD00*gDD11*gDD23 - gDD00*gDD12*gDD13 - gDD01**2*gDD23 + gDD01*gDD02*gDD13 + gDD01*gDD03*gDD12 - gDD02*gDD03*gDD11)) - alpha_dD3*(-psi_dD0*(gDD01*gDD12*gDD23 - gDD01*gDD13*gDD22 - gDD02*gDD11*gDD23 + gDD02*gDD12*gDD13 + gDD03*gDD11*gDD22 - gDD03*gDD12**2) + psi_dD1*(gDD00*gDD12*gDD23 - gDD00*gDD13*gDD22 - gDD01*gDD02*gDD23 + gDD01*gDD03*gDD22 + gDD02**2*gDD13 - gDD02*gDD03*gDD12) - psi_dD2*(gDD00*gDD11*gDD23 - gDD00*gDD12*gDD13 - gDD01**2*gDD23 + gDD01*gDD02*gDD13 + gDD01*gDD03*gDD12 - gDD02*gDD03*gDD11) - psi_dD3*(-gDD00*gDD11*gDD22 + gDD00*gDD12**2 + gDD01**2*gDD22 - 2*gDD01*gDD02*gDD12 + gDD02**2*gDD11)))/(alpha*(-gDD00*gDD11*gDD22*gDD33 + gDD00*gDD11*gDD23**2 + gDD00*gDD12**2*gDD33 - 2*gDD00*gDD12*gDD13*gDD23 + gDD00*gDD13**2*gDD22 + gDD01**2*gDD22*gDD33 - gDD01**2*gDD23**2 - 2*gDD01*gDD02*gDD12*gDD33 + 2*gDD01*gDD02*gDD13*gDD23 + 2*gDD01*gDD03*gDD12*gDD23 - 2*gDD01*gDD03*gDD13*gDD22 + gDD02**2*gDD11*gDD33 - gDD02**2*gDD13**2 - 2*gDD02*gDD03*gDD11*gDD23 + 2*gDD02*gDD03*gDD12*gDD13 + gDD03**2*gDD11*gDD22 - gDD03**2*gDD12**2))\n"
     ]
    }
   ],
   "source": [
    "print(sp.simplify(K))\n",
    "print(sp.simplify(L))"
   ]
  },
  {
   "cell_type": "markdown",
   "id": "21a62ead",
   "metadata": {},
   "source": [
    "Well uh... what? \n",
    "\n",
    "It really seems as though something in our problem is keeping this from working, most likely the fact that n is being explicilty defined while g is not, and g's components *are* limited by what n is, but not ALL of them. \n",
    "\n",
    "Perhaps this is not the problem to be trying NRPyLaTeX on... \n",
    "\n",
    "Regardless, we've gotten our experience with the program, annoyance at the results or no. "
   ]
  },
  {
   "cell_type": "markdown",
   "id": "9fc0e2c6",
   "metadata": {},
   "source": [
    "<a id='P17'></a>\n",
    "\n",
    "# Problem 17 \\[Back to [top](#toc)\\]\n",
    "$$\\label{P17}$$\n",
    "\n",
    "*We can \"count\" the number of dimensions d of a space by taking the trace of the metric, i.e., d=$g^a_a$. Take the trace of the induced metric $\\gamma_{ab} = g_{ab} + n_a n_b$ to show that the dimension of the spatial slice is one less than that of the spacetime.*\n",
    "\n",
    "This is actually pretty simple. Let's get the trace here by applying a new metric:\n",
    "\n",
    "$$g^{ab}\\gamma_{ab} = g^{ab}g_{ab} + g^{ab}n_a n_b$$\n",
    "\n",
    "$$ \\Rightarrow \\gamma^a_a= g^a_a + n_a n^a$$\n",
    "\n",
    "$$ \\Rightarrow \\gamma^a_a= g^a_a -1$$\n",
    "\n",
    "Which is what we sought to show. "
   ]
  },
  {
   "cell_type": "markdown",
   "id": "e3878f53",
   "metadata": {},
   "source": [
    "<a id='P18'></a>\n",
    "\n",
    "# Problem 18 \\[Back to [top](#toc)\\]\n",
    "$$\\label{P18}$$\n",
    "\n",
    "*Show that the determinant g of the spacetime metric is related to the determinant of the spatial metric by $\\sqrt{-g} = \\alpha \\sqrt{\\gamma}$. Hint: first write $-\\alpha^2 = g^{00} $ and then recall that for any square matrix $A_{ij}$ the following is true: $(A^{-1})_{ij} = cofactorA_{ji}/detA$*\n",
    "\n",
    "There's a typo in the problem, from 2.102 we know $g^{00} = -\\alpha^{-2}$, the minus is missing in the problem statement. "
   ]
  },
  {
   "cell_type": "markdown",
   "id": "b625e4e4",
   "metadata": {},
   "source": [
    "Wait a second.... this is almost trivial. [7](#7) reminds us of the cofactor rules of linear algebra. The cofactor of any individual element is:\n",
    "\n",
    "$$ C_{ij} = (-1)^{i+j} det A(i|k) $$\n",
    "\n",
    "where the determinant is the determinant of the matrix with those specific rows and columns removed. Note that the indices on the cofactor C can be up or down it really doesn't matter. Let's just set i and j to zero and use the INVERSE of the known value. \n",
    "\n",
    "$$ \n",
    "\\begin{align}\n",
    "C_{00} &= (-1)^0 det A(0|0) \\\\\n",
    "&= det \\gamma^{ij} \\\\\n",
    "&= \\gamma\n",
    "\\end{align}\n",
    "$$"
   ]
  },
  {
   "cell_type": "markdown",
   "id": "4379f781",
   "metadata": {},
   "source": [
    "Now using the inverse relation, we see that $ g^{00} = \\frac{C_{00}}{det g} $ which we can expand to:\n",
    "\n",
    "$$\n",
    "\\begin{align}\n",
    "-\\alpha^-2 &= \\gamma / g \\\\\n",
    "-g &= \\alpha^2 \\gamma \\\\\n",
    "\\sqrt{-g} &= \\alpha \\sqrt{\\gamma}\n",
    "\\end{align}\n",
    "$$\n",
    "\n",
    "Tah-dah, all done! "
   ]
  },
  {
   "cell_type": "markdown",
   "id": "11d41fd4",
   "metadata": {},
   "source": [
    "<a id='P19'></a>\n",
    "\n",
    "# Problem 19 \\[Back to [top](#toc)\\]\n",
    "$$\\label{P19}$$\n",
    "\n",
    "*If all went well in **Problem 1.5**,* ((We did not do chapter 1.)) *you should have found that the Schwarzchild metric in isotropic coordinates (on slices of constant Schwarzchild time) is given by:*\n",
    "\n",
    "$$ ds^2 = -\\left( \\frac{1-M/2r}{1+M/2r} \\right)^2 dt^2 + \\left( 1 + \\frac{M}{2r}\\right)^4 (dr^2 + r^2 d\\Omega^2) $$\n",
    "\n",
    "*Compare this line element with the \"3+1\" line element (2.104) to identify the lapse funciton $\\alpha$, the shift vector $\\beta^i$, and the spatial metric $\\gamma_{ij}$ in spherical polar coordinates.*"
   ]
  },
  {
   "cell_type": "markdown",
   "id": "7f873958",
   "metadata": {},
   "source": [
    "2.104 is...\n",
    "\n",
    "$$\n",
    "\\begin{align}\n",
    "ds^2 &= g_{ab}dx^adx^b \\\\\n",
    "&= -\\alpha^2 dt^2 + \\gamma_{ij}(dx^i + \\beta^i dt)(dx^j + \\beta^j dt) \\\\\n",
    "&= -\\alpha^2 dt^2 + \\gamma_{ij}dx^idx^j + \\beta^j dx^i dt + \\beta^i dx^j dt + \\beta_i\\beta^i dt^2 \\\\\n",
    "\\end{align}\n",
    "$$"
   ]
  },
  {
   "cell_type": "markdown",
   "id": "5eac557a",
   "metadata": {},
   "source": [
    "The problem here is that not everything is decoupled, we can simply set the two parts to each other, but that's not always going to work. First, let's expand the schwarzchild metric a bit into its components. \n",
    "\n",
    "$$ ds^2 = -\\left( \\frac{1-M/2r}{1+M/2r} \\right)^2 dt^2 + \\left( 1 + \\frac{M}{2r}\\right)^4 dr^2 + \\left( 1 + \\frac{M}{2r}\\right)^4 r^2 d\\Omega^2 $$\n",
    "\n",
    "or\n",
    "\n",
    "$$ ds^2 = -\\left( \\frac{1-M/2r}{1+M/2r} \\right)^2 dt^2 + \\left( 1 + \\frac{M}{2r}\\right)^4 dr^2 + \\left( 1 + \\frac{M}{2r}\\right)^4 r^2 d\\theta^2 + \\left( 1 + \\frac{M}{2r}\\right)^4 r^2 sin^2\\theta d\\phi^2 $$"
   ]
  },
  {
   "cell_type": "markdown",
   "id": "0841c1d0",
   "metadata": {},
   "source": [
    "Now, one thing we can say right away is taht the Schwarzchild metric *has no combined differentials*. There's nothing in the middle, so those terms have to either cancel or go to zero in 2.104. They naturally *can't* just go to zero since they can equal each other when i=j, so they must BE zero. Thus, $\\beta^i = 0$ no matter what. This already gives us the shift vector: (0,0,0). It vanishes. One part down! \n",
    "\n",
    "This also reduces the 2.104 relation to:\n",
    "\n",
    "$$\n",
    "\\begin{align}\n",
    "ds^2 &= -\\alpha^2 dt^2 + \\gamma_{ij}dx^idx^j \\\\\n",
    "\\end{align}\n",
    "$$"
   ]
  },
  {
   "cell_type": "markdown",
   "id": "8ed50e86",
   "metadata": {},
   "source": [
    "Now this quickly gives us $\\alpha$ as both 2.104 and the Schwarzchild metric have distinct temporal parts that are even in the same FORM. \n",
    "\n",
    "$$ \\alpha = \\frac{1-M/2r}{1+M/2r} $$\n",
    "\n",
    "Which leaves us with one piece left, though it is the most... complex looking. \n",
    "\n",
    "$$ \\gamma_{ij}dx^idx^j = \\left( 1 + \\frac{M}{2r}\\right)^4 dr^2 + \\left( 1 + \\frac{M}{2r}\\right)^4 r^2 d\\theta^2 + \\left( 1 + \\frac{M}{2r}\\right)^4 r^2 sin^2\\theta d\\phi^2 $$"
   ]
  },
  {
   "cell_type": "markdown",
   "id": "ea5699f3",
   "metadata": {},
   "source": [
    "But aha! We never specified what our coordiantes were! They don't HAVE to be xyz, they can just as well be $r\\theta\\phi$. Thus we can make direct comparisons, and create the matrix for the spatial metric without any problem. \n",
    "\n",
    "$$\n",
    "\\gamma_{ij} = \\begin{bmatrix}\n",
    "\\left( 1 + \\frac{M}{2r}\\right)^4 & 0 & 0 \\\\\n",
    "0 & \\left( 1 + \\frac{M}{2r}\\right)^4 r^2 & 0 \\\\\n",
    "0 & 0 & \\left( 1 + \\frac{M}{2r}\\right)^4 r^2 sin^2\\theta \\\\\n",
    "\\end{bmatrix}\n",
    "$$\n",
    "\n",
    "And there we go! The book was right this was easy. Unfortunately the shift vector isn't going to vanish in the next problem. "
   ]
  },
  {
   "cell_type": "markdown",
   "id": "686a5597",
   "metadata": {},
   "source": [
    "<a id='P20'></a>\n",
    "\n",
    "# Problem 20 \\[Back to [top](#toc)\\]\n",
    "$$\\label{P20}$$\n",
    "\n",
    "*Revisit the Schwarzchild solution in the trumpet coordinate system of **Problem 1.6**.*\n",
    "\n",
    "*a) Compare the line elements 2.104 and 1.48 to identify $\\beta_{\\bar r} = \\gamma_{\\bar r \\bar r} \\beta^{\\bar r}$ and the spatial metric $\\gamma_{\\bar i \\bar j}$ on slices of constant time $\\bar t$*"
   ]
  },
  {
   "cell_type": "markdown",
   "id": "c39e9668",
   "metadata": {},
   "source": [
    "*b) Invert the spatial metric and compute $\\beta^{\\bar r}$*"
   ]
  },
  {
   "cell_type": "markdown",
   "id": "e4963f0b",
   "metadata": {},
   "source": [
    "*c) Compute the lapse funciton $\\alpha$*\n",
    "\n",
    "*Check: For $\\bar r = M$ you should find $\\alpha = 1/2$*"
   ]
  },
  {
   "cell_type": "markdown",
   "id": "df50096e",
   "metadata": {},
   "source": [
    "<a id='latex_pdf_output'></a>\n",
    "\n",
    "# Addendum: Output this notebook to $\\LaTeX$-formatted PDF file \\[Back to [top](#toc)\\]\n",
    "$$\\label{latex_pdf_output}$$\n",
    "\n",
    "The following code cell converts this Jupyter notebook into a proper, clickable $\\LaTeX$-formatted PDF file. After the cell is successfully run, the generated PDF may be found in the root NRPy+ tutorial directory, with filename\n",
    "[MNR-02.pdf](MNR-02.pdf) (Note that clicking on this link may not work; you may need to open the PDF file through another means.)\n",
    "\n",
    "**Important Note**: Make sure that the file name is right in all six locations, two here in the Markdown, four in the code below. \n",
    "\n",
    "* MNR-02.pdf\n",
    "* MNR-02.ipynb\n",
    "* MNR-02.tex"
   ]
  },
  {
   "cell_type": "code",
   "execution_count": 16,
   "id": "abf583ef",
   "metadata": {
    "scrolled": false
   },
   "outputs": [
    {
     "name": "stdout",
     "output_type": "stream",
     "text": [
      "Created MNR-02.tex, and compiled LaTeX file to PDF file MNR-02.pdf\n"
     ]
    }
   ],
   "source": [
    "import cmdline_helper as cmd    # NRPy+: Multi-platform Python command-line interface\n",
    "cmd.output_Jupyter_notebook_to_LaTeXed_PDF(\"MNR-02\")"
   ]
  }
 ],
 "metadata": {
  "kernelspec": {
   "display_name": "Python 3 (ipykernel)",
   "language": "python",
   "name": "python3"
  },
  "language_info": {
   "codemirror_mode": {
    "name": "ipython",
    "version": 3
   },
   "file_extension": ".py",
   "mimetype": "text/x-python",
   "name": "python",
   "nbconvert_exporter": "python",
   "pygments_lexer": "ipython3",
   "version": "3.10.4"
  }
 },
 "nbformat": 4,
 "nbformat_minor": 5
}
