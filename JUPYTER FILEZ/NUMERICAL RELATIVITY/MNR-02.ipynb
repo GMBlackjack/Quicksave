{
 "cells": [
  {
   "cell_type": "markdown",
   "id": "0c1bfe81",
   "metadata": {},
   "source": [
    "# Mini Numerical Relativity Problems Chapter 2: Foliations of Spacetime: Constraint and Evolution Equations\n",
    "\n",
    "## Authors: Gabriel M Steward"
   ]
  },
  {
   "cell_type": "markdown",
   "id": "479540e4",
   "metadata": {},
   "source": [
    "https://github.com/zachetienne/nrpytutorial/blob/master/Tutorial-Template_Style_Guide.ipynb\n",
    "\n",
    "Link to the Style Guide. Not internal in case something breaks. "
   ]
  },
  {
   "cell_type": "markdown",
   "id": "10780970",
   "metadata": {},
   "source": [
    "### </list_source_code> NRPy+ Source Code for this module:\n",
    "None, save the pdf conversion at the bottom of this document.  \n",
    "\n",
    "## Introduction:\n",
    "The normal Numerical Relativity book has proven to be dense and not all that helpful in terms of starting out, so we turn to this simpler, more motivated book in the hopes that it will give us the knowledge needed to reach our goal. \n",
    "\n",
    "## </other>  Other (Optional):\n",
    "In order to fascilitate learning, whenever the opportunity arises Sympy will be used. \n",
    "\n",
    "### Note on Notation:\n",
    "Any new notation will be brought up in the notebook when it becomes relevant. \n",
    "\n",
    "### Citations:\n",
    "\n",
    "<a id='1'></a>\n",
    "[1] http://linearalgebra.math.umanitoba.ca/math1220/section-28.html (Cofactor Expansion)"
   ]
  },
  {
   "cell_type": "markdown",
   "id": "56664bc2",
   "metadata": {},
   "source": [
    "<a id='toc'></a>\n",
    "\n",
    "# Table of Contents\n",
    "$$\\label{toc}$$\n",
    "\n",
    "[Problem 1](#P1) (Constraint Satisfaction)\n",
    "\n",
    "[Problem 2](#P2) (EM Relativistic Observations)\n",
    "\n",
    "[Problem A4](#A4) (Appendix Aside: Faraday Tensor Transformation)\n",
    "\n",
    "[Problem C1](#C1) (Appendix Aside: Faraday Tensor Determinant)\n",
    "\n",
    "[Problem 3](#P3) (Playing With Lapse And Normals)\n",
    "\n",
    "[Problem 4](#P4) (Finding the Shift Vector)\n",
    "\n",
    "[Problem 5](#P5) (Vanishing Operators)\n",
    "\n",
    "[Problem 6](#P6) (Calculating the Projection Operator)\n",
    "\n",
    "[Problem 7](#P7) (Symmetric Curvature)\n",
    "\n",
    "28\n",
    "\n",
    "[PDF](#latex_pdf_output) (turn this into a PDF)"
   ]
  },
  {
   "cell_type": "markdown",
   "id": "cd9e5529",
   "metadata": {},
   "source": [
    "<a id='P1'></a>\n",
    "\n",
    "# Problem 1 \\[Back to [top](#toc)\\]\n",
    "$$\\label{P1}$$\n",
    "\n",
    "*Define a constraint violation function $\\mathcal{C} = D_iE^i - 4\\pi\\rho$ and assume that charge is conserved, so that the continuity equation $\\partial_t \\rho = -D_ij^i$ holds. Then show that the time derivative of the constraint violation funciton vanishes, $\\partial_t \\mathcal{C} = 0$*"
   ]
  },
  {
   "cell_type": "markdown",
   "id": "88273330",
   "metadata": {},
   "source": [
    "Take the time derivative of both sides. \n",
    "\n",
    "$$ \\partial_t \\mathcal C = \\partial_t D_i E^i - 4\\pi \\partial_t \\rho $$\n",
    "\n",
    "$$ \\Rightarrow \\partial_t \\mathcal C = \\partial_t D_i E^i + 4\\pi D_i j^i $$\n",
    "\n",
    "$$ \\Rightarrow \\partial_t \\mathcal C =  D_i \\partial_t E^i + 4\\pi D_i j^i $$"
   ]
  },
  {
   "cell_type": "markdown",
   "id": "840f60d6",
   "metadata": {},
   "source": [
    "2.15 has the relation we want here. Note that since we are not in relativity, the metric is not \"twisted\" and thus one-forms and vectors are interchangeable. \n",
    "\n",
    "$$ \\Rightarrow \\partial_t \\mathcal C =  D_i (-D^2A^i + D_iD^jA^j - 4\\pi j^i) + 4\\pi D_i j^i $$\n",
    "\n",
    "$$ \\Rightarrow \\partial_t \\mathcal C = -D_iD^2A^i + D_iD_iD^jA^j $$\n",
    "\n",
    "$$ \\Rightarrow \\partial_t \\mathcal C = -D_iD^jD^jA^i + D_iD_iD^jA^j $$\n",
    "\n",
    "$$ \\Rightarrow \\partial_t \\mathcal C = -D^iD_jD_jA^i + D_iD_iD^jA^j $$\n",
    "\n",
    "$$ \\Rightarrow \\partial_t \\mathcal C = 0 $$"
   ]
  },
  {
   "cell_type": "markdown",
   "id": "848c6998",
   "metadata": {},
   "source": [
    "<a id='P2'></a>\n",
    "\n",
    "# Problem 2 \\[Back to [top](#toc)\\]\n",
    "$$\\label{P2}$$\n",
    "\n",
    "*a) Demonstrate that 2.18 reduces to 2.17 in the observer's local Lorentz frame, where $u^a = (1,0,0,0)$*"
   ]
  },
  {
   "cell_type": "markdown",
   "id": "25132808",
   "metadata": {},
   "source": [
    "2.17 is the full Faraday Tensor, given by:\n",
    "\n",
    "$$ F^{ab} = \\begin{bmatrix}\n",
    "0 & E^x & E^y & E^z \\\\\n",
    "-E^x & 0 & B^z & -B^y \\\\\n",
    "-E^y & -B^z & 0 & B^x \\\\\n",
    "-E^z & B^y & -B^x & 0 \\\\\n",
    "\\end{bmatrix}\n",
    "$$\n",
    "\n",
    "And 2.18 is the \"one line\" verison. \n",
    "\n",
    "$$ F^{ab} = u^aE^b - u^bE^a + u_d\\epsilon^{dabc} B_c $$\n",
    "\n",
    "Our goal is to show that 2.18 really does become 2.17 when given the \"stationary\" four-velocity. "
   ]
  },
  {
   "cell_type": "markdown",
   "id": "5f3d476e",
   "metadata": {},
   "source": [
    "First of all, the diagonal: clearly correct, as every time a=b everything cancels--the two E terms are opposing, and the Levi-Civita tensor can never have duplicates in it. \n",
    "\n",
    "When a or b equals t, d cannot be t, and thus the Levi-Civita tensor vanishes for all a or b = t cases, leaving only the E terms. The negatives remain when b=t, and the positives remain when a=t, and the E terms vanish for a and not equaling t, so that's the Electric contributions. \n",
    "\n",
    "So, now for the B contributions. d has to equal t. a and b have to equal whatever the coordinates at their point is, meaning c must be the only remaining point. (so an xy would produce a B of z, which is exactly what we see). Flipping a and b changes the sign by the even-oddness rule of the Levi-Civita tensor. All we really have to do is make sure the signs are right on one side. The combinations we end up with for the upper part of the matrix are: txyz, txzy, and tyzx. Note that the first one, txyz, is the standard, thus evalutes positive. The second one is a single-shuffle, so it evaluates negatively. The last one is a double-shuffle, so it evaluates positive. \n",
    "\n",
    "Thus, every single term is accounted for! "
   ]
  },
  {
   "cell_type": "markdown",
   "id": "c864e377",
   "metadata": {},
   "source": [
    "*b) Show that an observer with (arbitrary) four-velocity $u^a$ will measure the electric field to be $E^a = F^{ab}u_b$ and the magnetic field to be $B^a = \\epsilon^{abcd}u_b F_{dc}/2$. Hint: For the latter, use $\\epsilon^{abcd}\\epsilon_{cdef} = -2\\delta^{ab}_{ef} = -2(\\delta^a_e\\delta^b_f - \\delta^a_f \\delta^b_e)$*"
   ]
  },
  {
   "cell_type": "markdown",
   "id": "13dfd7e5",
   "metadata": {},
   "source": [
    "For the electric field, we work backward by applying $u_b$ to 2.18. \n",
    "\n",
    "$$ F^{ab}u_b = u^aE^bu_b - u^bE^au_b + u_d\\epsilon^{dabc} B_cu_b $$\n",
    "\n",
    "We know from the definitions that $E^bu_b=0$ and from General Relativity that $u^bu_b=-1$. However, the last term? well, if d=b we have a case where the Levi-Civita tensor vanishes. And if they are not equal, remember that we are summing over both b and d, meaning the antisymmetry of Levi-Civita cancels EVERYTHING. Thus, we only have:\n",
    "\n",
    "$$ F^{ab}u_b = E^a $$"
   ]
  },
  {
   "cell_type": "markdown",
   "id": "282b4900",
   "metadata": {},
   "source": [
    "Now, for the B version, we need to lower the indeces of F and alter them a bit. \n",
    "\n",
    "$$ F_{ab} = u_aE_b - u_bE_a + u_d\\epsilon^{dc}_{ab} B_c $$\n",
    "\n",
    "$$ \\Rightarrow F_{dc} = u_dE_c - u_cE_d + u_a\\epsilon^{ab}_{dc} B_b $$\n",
    "\n",
    "Now we use a trick akin to $u^an_a = g_{ab}u^an^b = u_bn^b$. \n",
    "\n",
    "$$ \\Rightarrow F_{dc} = u_dE_c - u_cE_d + u^b\\epsilon_{dcba} B^a $$"
   ]
  },
  {
   "cell_type": "markdown",
   "id": "d5c9e83b",
   "metadata": {},
   "source": [
    "And now we see if we can extract $B^a$ with the suggested operations. \n",
    "\n",
    "$$ \\frac12 \\epsilon^{abcd}u_bF_{dc} = \\frac12 \\epsilon^{abcd}u_bu_dE_c - \\frac12 \\epsilon^{abcd}u_bu_cE_d + \\frac12 \\epsilon^{abcd}u_bu^b\\epsilon_{dcba} B^a $$"
   ]
  },
  {
   "cell_type": "markdown",
   "id": "da5b46f1",
   "metadata": {},
   "source": [
    "Note that the first two terms have to take the form bdc and bcd, as all others make the Levi-Civita tensor go to zero due to duplicates. But bdc and bcd are combinations that are one swap away from each other, thus they have opposing signs, and thus they vanish. And in the third term we have a dot product of two four-velocities, which is always -1. \n",
    "\n",
    "$$ \\Rightarrow \\frac12 \\epsilon^{abcd}u_bF_{dc} = - \\frac12 \\epsilon^{abcd}\\epsilon_{dcba} B^a $$"
   ]
  },
  {
   "cell_type": "markdown",
   "id": "ed88d443",
   "metadata": {},
   "source": [
    "The double tensor relation was, in fact, given. That said we do have to swap the first two indeces of the second tensor, which flips the sign yet again. And then we go on...\n",
    "\n",
    "$$ \\Rightarrow \\frac12 \\epsilon^{abcd}u_bF_{dc} = \\frac12 \\epsilon^{abcd}\\epsilon_{cdba} B^a $$\n",
    "\n",
    "$$ \\Rightarrow \\frac12 \\epsilon^{abcd}u_bF_{dc} = -\\delta^{ab}_{ba} B^a $$\n",
    "\n",
    "$$ \\Rightarrow \\frac12 \\epsilon^{abcd}u_bF_{dc} = -(\\delta^a_b \\delta^b_a - \\delta^a_a \\delta^b_b) B^a $$\n",
    "\n",
    "$$ \\Rightarrow \\frac12 \\epsilon^{abcd}u_bF_{dc} = -(\\delta^a_b \\delta^b_a - 1) B^a $$\n",
    "\n",
    "Which obviously reduces to what we want... unless a=b, then it goes to zero. HOWEVER, by the definition of our relation, if a=b even *there* it had to go to zero, so if a=b the measured magnetic field is just zero. \n",
    "\n",
    "$$ \\Rightarrow \\frac12 \\epsilon^{abcd}u_bF_{dc} = B^a $$"
   ]
  },
  {
   "cell_type": "markdown",
   "id": "19597e82",
   "metadata": {},
   "source": [
    "Admittedly the last step reeks of fish. Though the equality does still hold when a=b, it's vacuously true, which raises our mathemetician's sense of \"that's sketchy.\" (Heck, if a=b, $u_BB^b$ would arise, and that would also equal zero, it's zero on so many levels!)"
   ]
  },
  {
   "cell_type": "markdown",
   "id": "92447646",
   "metadata": {},
   "source": [
    "Okay there have been SEVERAL references to Appendix A, so we're going to go dig around there for a while at this point. Let's see what illuminating problems there are here:\n",
    "\n",
    "Problem 1: just the identity matrix/tensor, trivial.\n",
    "\n",
    "Problem 2: The symmetrization of an antisymmetric tensor vanishes. Trivial. That said there is a good reminder of the property $S_{ab}A^{ab} = 0$ between Symmetric and Antisymmetric tensors. \n",
    "\n",
    "Problem 3: The boosting of the four-velocity via Lorentz transformation, trivial. \n",
    "\n",
    "Problem 4: ah, this one's about the Faraday tensor! Let's do it. "
   ]
  },
  {
   "cell_type": "markdown",
   "id": "bf66cd28",
   "metadata": {},
   "source": [
    "<a id='A4'></a>\n",
    "\n",
    "# Problem A4 \\[Back to [top](#toc)\\]\n",
    "$$\\label{A4}$$\n",
    "\n",
    "*The electric and magnetic fields in an unprimed corodinate system are given by $E^i$ and $B^i$, and the Faraday tensor by 2.17. An observer in a primed coordinate frame would identify the electric and magnetic fields from teh Faraday tensor as $E^{i'}= F^{t'i'} = M^{t'}_c M^{i'}_{d} F^{cd}$ and similarly for the magnetic fields. Find the electric and magnetic fields as observed in a reference frame that is boosted with speed v in the positive z-direction with respect to the unprimed reference frame. Check: for the x'-component the answer is $E^{x'} = \\gamma(E^x - vB^y)$*"
   ]
  },
  {
   "cell_type": "markdown",
   "id": "421302e7",
   "metadata": {},
   "source": [
    "So basically take the Faraday Tensor and apply the z-direction Lorentz Transformation Matrix like so:\n",
    "\n",
    "$$ \\begin{bmatrix}\n",
    "\\gamma & 0 & 0 & -\\gamma v \\\\\n",
    "0 & 1 & 0 & 0 \\\\\n",
    "0 & 0 & 1 & 0 \\\\\n",
    "-\\gamma v & 0 & 0 & \\gamma \\\\\n",
    "\\end{bmatrix}  \\begin{bmatrix}\n",
    "0 & E^x & E^y & E^z \\\\\n",
    "-E^x & 0 & B^z & -B^y \\\\\n",
    "-E^y & -B^z & 0 & B^x \\\\\n",
    "-E^z & B^y & -B^x & 0 \\\\\n",
    "\\end{bmatrix}\\begin{bmatrix}\n",
    "\\gamma & 0 & 0 & -\\gamma v \\\\\n",
    "0 & 1 & 0 & 0 \\\\\n",
    "0 & 0 & 1 & 0 \\\\\n",
    "-\\gamma v & 0 & 0 & \\gamma \\\\\n",
    "\\end{bmatrix}\n",
    "$$\n",
    "\n",
    "Remember, you DO have to do it twice, once from each side, since this is a tensor. Then just multiply it out. The result is..."
   ]
  },
  {
   "cell_type": "markdown",
   "id": "769444b1",
   "metadata": {},
   "source": [
    "$$ = \\begin{bmatrix}\n",
    "\\gamma v E^z & \\gamma (E^x - vB^y) & \\gamma(E^y + vB^x) & \\gamma E^z \\\\\n",
    "-E^x & 0 & B^z & -B^y \\\\\n",
    "-E^y & -B^z & 0 & B^x \\\\\n",
    "-\\gamma E^z & \\gamma(-vE^x + B^y) & \\gamma(-vE^y - B^x) & -\\gamma v E^z \\\\\n",
    "\\end{bmatrix} \\begin{bmatrix}\n",
    "\\gamma & 0 & 0 & -\\gamma v \\\\\n",
    "0 & 1 & 0 & 0 \\\\\n",
    "0 & 0 & 1 & 0 \\\\\n",
    "-\\gamma v & 0 & 0 & \\gamma \\\\\n",
    "\\end{bmatrix}$$"
   ]
  },
  {
   "cell_type": "markdown",
   "id": "d944b51e",
   "metadata": {},
   "source": [
    "$$ = \\begin{bmatrix}\n",
    "0 & \\gamma (E^x - vB^y) & \\gamma(E^y + vB^x) & \\gamma^2 E^z (1-v^2) \\\\\n",
    "\\gamma(-E^x+vB^y) & 0 & B^z & \\gamma(vE^x - B^y) \\\\\n",
    "\\gamma(-E^y - vB^x) & -B^z & 0 & \\gamma(vE^y + B^x)\\\\\n",
    "-\\gamma^2 E^z (1-v^2) & \\gamma(-vE^x + B^y) & \\gamma(-vE^y - B^x) & 0 \\\\\n",
    "\\end{bmatrix}$$\n",
    "\n",
    "$$ = \\begin{bmatrix}\n",
    "0 & \\gamma (E^x - vB^y) & \\gamma(E^y + vB^x) & E^z \\\\\n",
    "\\gamma(-E^x+vB^y) & 0 & B^z & \\gamma(vE^x - B^y) \\\\\n",
    "\\gamma(-E^y - vB^x) & -B^z & 0 & \\gamma(vE^y + B^x)\\\\\n",
    "-E^z & \\gamma(-vE^x + B^y) & \\gamma(-vE^y - B^x) & 0 \\\\\n",
    "\\end{bmatrix}$$"
   ]
  },
  {
   "cell_type": "markdown",
   "id": "111f678e",
   "metadata": {},
   "source": [
    "Which is antysymmetric and does match the check we were given. Notably the z direction components are completley unchanged. "
   ]
  },
  {
   "cell_type": "markdown",
   "id": "f0ab4351",
   "metadata": {},
   "source": [
    "<a id='C1'></a>\n",
    "\n",
    "# Problem C1 \\[Back to [top](#toc)\\]\n",
    "$$\\label{C1}$$\n",
    "\n",
    "Once again, we were refered to the Appendix and found a problem.\n",
    "\n",
    "*a) Evaluate the components $F^a_b$ of the Faraday tensor 2.17 in a Lorentz frame where $g_{ab} = \\eta_{ab}$*"
   ]
  },
  {
   "cell_type": "markdown",
   "id": "c6f81785",
   "metadata": {},
   "source": [
    "We need to lower the second index. One may think that in a normal spacetime this won't matter, but no, the diagonal is (-1,0,0,0), so which direction the sign goes across definitely matters. We want $\\eta_{cb} F^{ac}$, which becomes in matrix form:\n",
    "\n",
    "$$ \\begin{bmatrix}\n",
    "0 & E^x & E^y & E^z \\\\\n",
    "-E^x & 0 & B^z & -B^y \\\\\n",
    "-E^y & -B^z & 0 & B^x \\\\\n",
    "-E^z & B^y & -B^x & 0 \\\\\n",
    "\\end{bmatrix}\\begin{bmatrix}\n",
    "-1 & 0 & 0 & 0 \\\\\n",
    "0 & 1 & 0 & 0 \\\\\n",
    "0 & 0 & 1 & 0 \\\\\n",
    "0 & 0 & 0 & 1 \\\\\n",
    "\\end{bmatrix}$$\n",
    "\n",
    "$$ = \\begin{bmatrix}\n",
    "0 & E^x & E^y & E^z \\\\\n",
    "E^x & 0 & B^z & -B^y \\\\\n",
    "E^y & -B^z & 0 & B^x \\\\\n",
    "E^z & B^y & -B^x & 0 \\\\\n",
    "\\end{bmatrix}$$\n",
    "\n",
    "If we had lowered the other index all E values would be negative. Note that this is NOT antisymmetric, but if we were to apply the metric again it would be. "
   ]
  },
  {
   "cell_type": "markdown",
   "id": "360b1984",
   "metadata": {},
   "source": [
    "*b) Show that $det(F^a_b) = -(\\pmb{E} \\cdot \\pmb{B})^2$*"
   ]
  },
  {
   "cell_type": "markdown",
   "id": "54613505",
   "metadata": {},
   "source": [
    "Right, there's no simple formula for the 4x4 determinant... Which means we need to go look up our how to solve for determinant methods again. We find cofactor expansion at [2](#2). Let's split it up across the top row to make it... simpler.\n",
    "\n",
    "$$ det(F^a_b) = 0 -E^x det \\begin{bmatrix}\n",
    "E^x & B^z & -B^y\\\\\n",
    "E^y & 0 & B^x\\\\\n",
    "E^z & -B^x & 0\\\\\n",
    "\\end{bmatrix}+E^y det \\begin{bmatrix}\n",
    "E^x & 0 & -B^y\\\\\n",
    "E^y & -B^z & B^x\\\\\n",
    "E^z & B^y & 0\\\\\n",
    "\\end{bmatrix}-E^z det \\begin{bmatrix}\n",
    "E^x & 0 &  B^z\\\\\n",
    "E^y & -B^z & 0\\\\\n",
    "E^z & B^y & -B^x\\\\\n",
    "\\end{bmatrix}$$\n",
    "\n"
   ]
  },
  {
   "cell_type": "markdown",
   "id": "7bf98156",
   "metadata": {},
   "source": [
    "Notice that the first determinant went to zero. As for the others..\n",
    "\n",
    "$$ = - B^zB^xE^zE^x - B^yB^xE^yE^x - B^xB^xE^xE^x - B^yB^yE^yE^y - B^zB^yE^zE^y - B^xB^yE^xE^y - B^xB^zE^xE^z - B^zB^yE^yE^z - B^zB^zE^zE^z $$\n",
    "\n",
    "$$ = - 2B^zB^xE^zE^x - 2B^yB^xE^yE^x - B^xB^xE^xE^x - B^yB^yE^yE^y - 2B^zB^yE^zE^y - B^zB^zE^zE^z $$\n",
    "\n",
    "$$ = -(E^xB^x + E^yB^y + E^zB^z)^2 $$\n",
    "\n",
    "$$ = -(\\pmb E \\cdot \\pmb B)^2 $$"
   ]
  },
  {
   "cell_type": "markdown",
   "id": "01586573",
   "metadata": {},
   "source": [
    "<a id='P3'></a>\n",
    "\n",
    "# Problem 3 \\[Back to [top](#toc)\\]\n",
    "$$\\label{P3}$$\n",
    "\n",
    "*Consider a time coordinate t that is related to the time T by $t = T-h(r)$. Here h(r), assumed to depend on the radius r = $\\sqrt{x^2+y^2+z^2}$ only, is sometimes called a **height function**; it describes how far the t=const slice lies above the T=const slice, as illustrated in Fig 2.1. Refer to the coordiantes $x^{a'}=(T,r',\\theta',\\phi')$ as primed and $x^{a}=(t,r,\\theta,\\phi)$ as unprimed, where we set up $(r,\\theta,\\phi)=(r',\\theta ', \\phi ')$. In the primes frame the metric is given by the Minkowski metric, $g_{a'b'} = \\eta_{a'b'}$.*\n",
    "\n",
    "*a) Evaluate 2.34 to find the components $n_{a'}$ and $n^{a'}$ of the normal vector--normal to the t=const surfaces, that is--in the primed frame.*"
   ]
  },
  {
   "cell_type": "markdown",
   "id": "32750669",
   "metadata": {},
   "source": [
    "NOTE: all \"d\" derivatives are partial derivatives, we got lazy with typing. \n",
    "\n",
    "2.34 is $n_a = -\\alpha \\nabla_a t$. This easily becomes\n",
    "\n",
    "$$ n_{a'} = -\\alpha \\nabla_{a'} (T-h(r)) = -\\alpha(1,-h'(r),0,0)$$\n",
    "\n",
    "Multiply by the metric to raise the operator\n",
    "\n",
    "$$ n^{a'} = -\\alpha(-1,-h'(r),0,0)$$"
   ]
  },
  {
   "cell_type": "markdown",
   "id": "bca765ae",
   "metadata": {},
   "source": [
    "*b) Normalize the normal vector according to 2.35 to find $\\alpha$*\n",
    "\n",
    "The dot product of our two vectors is \n",
    "\n",
    "$$ \\alpha^2 (-1 + h'(r)^2) $$\n",
    "\n",
    "Which needs to equal -1. Which means...\n",
    "\n",
    "$$ 1-h'(r)^2 = \\frac{1}{\\alpha^2} $$\n",
    "$$ \\Rightarrow \\alpha = \\sqrt{\\frac{1}{1-h'(r)^2}} $$"
   ]
  },
  {
   "cell_type": "markdown",
   "id": "452bacbc",
   "metadata": {},
   "source": [
    "*c) Now transform the normal vector to the umprimed frame using $n_a = (\\partial x^{b'} / \\partial x^a)n_{b'}$ (See A.29). If all goes well you will recover 2.36.*"
   ]
  },
  {
   "cell_type": "markdown",
   "id": "c5163933",
   "metadata": {},
   "source": [
    "Following this, let's examine what that derivative means...\n",
    "\n",
    "For the two angular components, which never change at all, the rate is 1 as they are the exact same. $\\theta$ changes with $\\theta$ and $\\phi$ with $\\phi$ independently, making their mixed derivatives 0 and their self derivatievs 1. But it all turns to zero anyway since those components are always zero. \n",
    "\n",
    "Now, r does in fact equal r', making the dr'/dr = 1. However, it also relies in some way on the time T or t... and we need to tease out exactly how. What is dt'/dr? This would be dT/dr, or h'(r). This would result in \n",
    "\n",
    "$$ (1)(h'(r)) + (-h'(r))(1) = 0 $$\n",
    "\n",
    "Which gives us the zero we need on our r index. \n",
    "\n",
    "So, lastly, the t index. We want it to remain 1. This involes the derivative dT/dt and dr/dt, which are not quite as obvious results. We DO know that h(r) is a function of r only, so T = t + h'(r) reveals that dT/dt = 1. This much is easy enough to show. \n",
    "\n",
    "However, the radius... to get the answer we ant the derivative dr/dt better be zero, but it doesn't *seem* to be the case. Since we don't know what h is we can't just invert, and if we try to force it we get $dr/dt = -h^{-1'}(T-t)(T-t)'$. Aha! But T'-t' is 1-1 is 0, thus it vanishes! We'll take that, it makes the derivative equal zero. Which means we end up with just a single dT/dt derivative of 1, and 1 times 1 is 1. Thus...\n",
    "\n",
    "$$ n_a = -\\alpha(1,0,0,0) $$\n",
    "\n",
    "Which is what we sought. "
   ]
  },
  {
   "cell_type": "markdown",
   "id": "ac19c944",
   "metadata": {},
   "source": [
    "<a id='P4'></a>\n",
    "\n",
    "# Problem 4 \\[Back to [top](#toc)\\]\n",
    "$$\\label{P4}$$\n",
    "\n",
    "*Return to **Problem 3** and find the contravariant components of $n^a$ of the normal vector in the unprimed frame. Compare your result with 2.40 to identify the shift factor $\\beta^i$. Hint: use $n^a = (\\partial x^a / \\partial x^{b'}) n^{b'}$*"
   ]
  },
  {
   "cell_type": "markdown",
   "id": "cd0c6a65",
   "metadata": {},
   "source": [
    "So we need to do the derivatives in \"inverse\" now. The angle derivatives do not change, don't worry about it. dr/dr' = dr/dr = 1 still. However, what of the rest? We've actually done dt/dT before, it is also just 1. \n",
    "\n",
    "However, now we have dt/dr and dr/dT. dt/dr is -h'(r). dr/dT actually has the same result as dr/dt--0. \n",
    "\n",
    "So, what does our final vector look like then with all this? We start with (-1,-h'(r),0,0). The t coordinate becomes 1-h'. The r coordinate becomes h'. (remember to watch VERY CAREFULLY the order of indeces! This trapped us up for SO LONG)\n",
    "\n",
    "$$ n^a = \\alpha(1-h', h',0,0) $$\n",
    "\n",
    "We can force this into the form we want via.\n",
    "\n",
    "$$ \\Rightarrow n^a = \\frac1\\alpha(\\alpha^2(1-h'), \\alpha^2h',0,0) $$\n",
    "\n",
    "Note that since we found $\\alpha$ in **Problem 3**, the first term reduces...\n",
    "\n",
    "$$ \\Rightarrow n^a = \\frac1\\alpha(1, \\alpha^2h',0,0) $$\n",
    "\n",
    "Which means we get $\\beta^i$ of $(-\\alpha^2 h',0,0)$ via 2.40.\n",
    "\n",
    "Had to rely on the answers for this one, as we were getting a non-transformation. But we understand it fully now. "
   ]
  },
  {
   "cell_type": "markdown",
   "id": "d72b2830",
   "metadata": {},
   "source": [
    "<a id='P5'></a>\n",
    "\n",
    "# Problem 5 \\[Back to [top](#toc)\\]\n",
    "$$\\label{P5}$$\n",
    "\n",
    "*a) Show that $A^a_{||}$ is indeed normal by showing that its contraction with the projection operator $\\gamma^a_b$ vanishes.*"
   ]
  },
  {
   "cell_type": "markdown",
   "id": "15406df6",
   "metadata": {},
   "source": [
    "From 2.45 we get the definition of the paralell operator, giving us:\n",
    "\n",
    "$$ - \\gamma^a_b n^a n_b A^b $$\n",
    "\n",
    "The proejction operator is 2.47.\n",
    "\n",
    "$$ = - (g^a_b + n^an_b) n^a n_b A^b $$\n",
    "\n",
    "$$ = -\\delta^a_bn^a n_b A^b -n^an_b n^a n_b A^b $$"
   ]
  },
  {
   "cell_type": "markdown",
   "id": "b3617cea",
   "metadata": {},
   "source": [
    "$$ = - n^a n_a A^a - n^an_b n^a n_b A^b $$\n",
    "\n",
    "$$ = A^a - n^an_b n^a n_b A^b $$\n",
    "\n",
    "$$ = A^a - g^{ac}g_{bc}n_cn_b n^a n^c A^b $$\n",
    "\n",
    "$$ = A^a + g^a_bn_b n^a A^b $$\n",
    "\n",
    "$$ = A^a + \\delta^a_bn_b n^a A^b $$\n",
    "\n",
    "$$ = A^a + n_a n^a A^a $$\n",
    "\n",
    "$$ = A^a - A^a $$\n",
    "\n",
    "$$ = 0 $$"
   ]
  },
  {
   "cell_type": "markdown",
   "id": "cc9e5d4c",
   "metadata": {},
   "source": [
    "*b) Show that $A^a_\\perp$ is indeed spatial by showing that its contraciton with the normal vector $n^a$ vanishes.*\n",
    "\n",
    "From 2.46 we get\n",
    "\n",
    "$$ n^a(g^a_b + n^an_b)A^b $$\n",
    "\n",
    "$$ = n^ag^a_bA^b + n^an^an_bA^b $$\n",
    "\n",
    "$$ = n^a\\delta^a_bA^b + g^{ac}g_{bc}n^an^bn_bA^b $$\n",
    "\n",
    "$$ = n^a\\delta^a_bA^b - \\delta^a_bn^aA^b $$\n",
    "\n",
    "$$ = 0 $$\n",
    "\n",
    "This reveals to us a NEW TOOL: the pulling out of the delta to change indeces! \n",
    "\n",
    "NOTE: Writing this down somewhere so we don't make the mistake again: $n^a \\neq g^{aa}n_a$ "
   ]
  },
  {
   "cell_type": "markdown",
   "id": "a52b2332",
   "metadata": {},
   "source": [
    "*c) Show that $\\gamma^a_b\\gamma^b_c=\\gamma^a_c$. This property guarantees that projecting an object that has already been projected will no longer change the object. Putting it differently, the projection operator acts like the identity operator for spatial objects.*\n",
    "\n",
    "This is\n",
    "\n",
    "$$ (g^a_b + n^an_b)(g^b_c + n^bn_c) $$\n",
    "\n",
    "$$ = g^a_bg^b_c +g^a_bn^bn_c + n^an_bg^b_c + n^an_bn^bn_c $$\n",
    "\n",
    "$$ = g^a_c + g^a_bn^bn_c + n^an_bg^b_c - n^an_c $$\n",
    "\n",
    "$$ = g^a_c + n^an_c + n^an_c - n^an_c $$\n",
    "\n",
    "$$ = g^a_c + n^an_c $$\n",
    "\n",
    "And that's that!"
   ]
  },
  {
   "cell_type": "markdown",
   "id": "3c68befe",
   "metadata": {},
   "source": [
    "<a id='P6'></a>\n",
    "\n",
    "# Problem 6 \\[Back to [top](#toc)\\]\n",
    "$$\\label{P6}$$\n",
    "\n",
    "*Find the components of the operator $\\gamma^a_b$ that projects into the t=const slices described in **Problem 3** and **Problem 4**.*\n",
    "\n",
    "Well, we can already split it up a bit, the operator as a whole is:\n",
    "\n",
    "$$ \\delta^a_b + n^an_b $$\n",
    "\n",
    "Now the components of the delta are always known, diagonal of (1,1,1,1). It's the vector options that change things up. The thing is, which version of the ns do we use? We have both T and t versions, we need to be careful. We want the t=const slices, which means we want the primed frame. Which means an outer product of the following:\n",
    "\n",
    "$$ n_{a'} = -\\alpha(1,-h'(r),0,0)$$\n",
    "\n",
    "$$ n^{a'} = -\\alpha(-1,-h'(r),0,0)$$"
   ]
  },
  {
   "cell_type": "markdown",
   "id": "4b90bf7e",
   "metadata": {},
   "source": [
    "We can do most of this multiplicaiton in our sleep, so all that remains is to set up the matrix to display the answer.\n",
    "\n",
    "$$ \\gamma^a_b = \\begin{bmatrix}\n",
    "1-\\alpha^2 & -\\alpha^2h' & 0 & 0 \\\\\n",
    "\\alpha^2h' & 1+\\alpha^2(h')^2& 0 & 0 \\\\\n",
    "0 & 0 & 1 & 0 \\\\\n",
    "0 & 0 & 0 & 1 \\\\\n",
    "\\end{bmatrix}$$\n",
    "\n",
    "Evidentialy antisymmetric. \n",
    "\n",
    "Now if we were to use the OTHER set...\n",
    "\n",
    "$$ n_a = -\\alpha(1,0,0,0) $$\n",
    "\n",
    "$$ n^a = \\alpha(1-h', h',0,0) $$\n",
    "\n",
    "$$ \\Rightarrow n^a = \\frac1\\alpha(1, \\alpha^2h',0,0) $$"
   ]
  },
  {
   "cell_type": "markdown",
   "id": "6c7ffa7b",
   "metadata": {},
   "source": [
    "We would end up with a matrix:\n",
    "\n",
    "$$ \\gamma^a_b = \\begin{bmatrix}\n",
    "0 & 0 & 0 & 0 \\\\\n",
    "-\\alpha^2h' & 1 & 0 & 0 \\\\\n",
    "0 & 0 & 1 & 0 \\\\\n",
    "0 & 0 & 0 & 1 \\\\\n",
    "\\end{bmatrix}$$\n",
    "\n",
    "This is the one given in the answers, so we need to figure out why we got it backward. \n",
    "\n",
    "HERE IS WHY WE GOT IT BACKWARD: it said that we were finding t=const. IN **Problem 3** it was said we were finding the normal vector to the t=const in the primed frame. But if we look at those vectors they aren't the standard variety, they were translated! Naturally, we HAVE to use the (1,0,0,0) form, because that's what the normal vector looks like in the correct reference frame. \n",
    "\n",
    "We still keep the previous answer around for posterity. "
   ]
  },
  {
   "cell_type": "markdown",
   "id": "b502af27",
   "metadata": {},
   "source": [
    "<a id='P7'></a>\n",
    "\n",
    "# Problem 7 \\[Back to [top](#toc)\\]\n",
    "$$\\label{P7}$$\n",
    "\n",
    "*Insert the definition 2.34 into 2.53 to show that the extrinsic curvature is symmetric, $K_{ab} = K_{ba}$ or equivalently $K_{[ab]}=0$*\n",
    "\n",
    "Well, K is given by 2.53 $-\\gamma^c_a \\gamma^d_b \\nabla_c n_d$ and 2.34 is\n",
    "\n",
    "$$ n_a = -\\alpha \\nabla_a t $$"
   ]
  },
  {
   "cell_type": "markdown",
   "id": "e7d24462",
   "metadata": {},
   "source": [
    "So combining it all together we now have $\\gamma^c_a\\gamma^d_b\\nabla_c \\alpha \\nabla_d t$"
   ]
  },
  {
   "cell_type": "markdown",
   "id": "dbbfb2cc",
   "metadata": {},
   "source": [
    "We note that we are not summing over a or b so we can just shuffle them at will. What we need to show is:\n",
    "\n",
    "$$\\gamma^c_a\\gamma^d_b\\nabla_c \\alpha \\nabla_d t = \\gamma^c_b\\gamma^d_a\\nabla_c \\alpha \\nabla_d t $$\n",
    "\n",
    "Since we're summing over the terms c and d, interchanging them doesn't do anything, they always go through all their values. \n",
    "\n",
    "$$\\Rightarrow \\gamma^d_a\\gamma^c_b\\nabla_d \\alpha \\nabla_c t = \\gamma^c_b\\gamma^d_a\\nabla_c \\alpha \\nabla_d t $$\n",
    "\n",
    "If $\\alpha$ were a constant this would be trivial, as derivatives commute. But $\\alpha$ can be a function. HOWEVER, we can pull a clever little index trick. Since we're summing over both c and d, we can actually swap sets of them and not change anything. Let's illustrate this with an example to make it abundantly clear. Take Let's just make some random tensor P. Let it be represented as $P^{ab}_{ab}$, so we're summing over both a and b along its indeces. Let a and b range from 0 to 1, so we end up with $P^{00}_{00}, P^{11}_{11}, P^{01}_{01}, P^{10}_{10}$. Now, if we suddenly evaluated $P^{ab}_{ba}$ we would get $P^{00}_{00}, P^{11}_{11}, P^{01}_{10}, P^{10}_{01}$ which... would only be the same if the Tensor were symmetric, which is what we are trying to prove, not what we already have... Except for this! The covariant derivatives may be currently locked by the $\\alpha$, but the projection operators are not. They can be shuffled around at will. \n",
    "\n",
    "$$\\Rightarrow \\gamma^c_b\\gamma^d_a\\nabla_d \\alpha \\nabla_c t = \\gamma^d_a\\gamma^c_b\\nabla_c \\alpha \\nabla_d t $$\n",
    "\n",
    "\n",
    "\n",
    "\n",
    "Which we believe is a simple as demonstrating that\n",
    "\n",
    "$$\\gamma^c_a\\gamma^d_b = \\gamma^c_b\\gamma^d_a $$\n",
    "\n",
    "$$\\Rightarrow (\\delta^c_a + n^cn_a)(\\delta^d_b + n^dn_b) = (\\delta^c_b + n^cn_b)(\\delta^d_a + n^dn_a)$$"
   ]
  },
  {
   "cell_type": "markdown",
   "id": "aeadd5bf",
   "metadata": {},
   "source": [
    "$$\\Rightarrow \\delta^c_a\\delta^d_b + \\delta^c_an^dn_b + n^cn_a\\delta^d_b + n^cn_an^dn_b = \\delta^c_b\\delta^d_a + \\delta^c_bn^dn_a + n^cn_b\\delta^d_a + n^cn_bn^dn_a$$\n",
    "\n",
    "$$\\Rightarrow \\delta^c_a\\delta^d_b + \\delta^c_an^dn_b + n^cn_a\\delta^d_b = \\delta^c_b\\delta^d_a + \\delta^c_bn^dn_a + n^cn_b\\delta^d_a$$\n",
    "\n",
    "Okay so it's not actually identically true, but we have gotten rid of a term. Anyway, we can tack the other end back on. \n",
    "\n",
    "$$\\delta^c_a\\delta^d_b \\nabla_c \\alpha \\nabla_d t  + \\delta^c_an^dn_b \\nabla_c \\alpha \\nabla_d t  + n^cn_a\\delta^d_b \\nabla_c \\alpha \\nabla_d t  = \\delta^c_b\\delta^d_a \\nabla_c \\alpha \\nabla_d t  + \\delta^c_bn^dn_a \\nabla_c \\alpha \\nabla_d t  + n^cn_b\\delta^d_a \\nabla_c \\alpha \\nabla_d t $$\n",
    "\n",
    "The main issue here is that $\\alpha$ need not be a constant, it can be a function, which means the derivative can't just up and pass through it. HOWEVER, since we are *summing* over c and d, we can interchange them now at will! We can also make more substitutions.\n",
    "\n",
    "$$\\Rightarrow \\delta^c_a\\delta^d_b \\nabla_c \\alpha \\nabla_d t  - \\delta^c_an^d(\\alpha \\nabla_b t) \\nabla_c \\alpha \\nabla_d t  - n^c(\\alpha \\nabla_a t)\\delta^d_b \\nabla_c \\alpha \\nabla_d t  = \\delta^c_b\\delta^d_a \\nabla_c \\alpha \\nabla_d t  - \\delta^c_bn^d(\\alpha \\nabla_a t) \\nabla_c \\alpha \\nabla_d t  - n^c(\\alpha \\nabla_b t)\\delta^d_a \\nabla_c \\alpha \\nabla_d t $$\n"
   ]
  },
  {
   "cell_type": "markdown",
   "id": "df50096e",
   "metadata": {},
   "source": [
    "<a id='latex_pdf_output'></a>\n",
    "\n",
    "# Addendum: Output this notebook to $\\LaTeX$-formatted PDF file \\[Back to [top](#toc)\\]\n",
    "$$\\label{latex_pdf_output}$$\n",
    "\n",
    "The following code cell converts this Jupyter notebook into a proper, clickable $\\LaTeX$-formatted PDF file. After the cell is successfully run, the generated PDF may be found in the root NRPy+ tutorial directory, with filename\n",
    "[MNR-02.pdf](MNR-02.pdf) (Note that clicking on this link may not work; you may need to open the PDF file through another means.)\n",
    "\n",
    "**Important Note**: Make sure that the file name is right in all six locations, two here in the Markdown, four in the code below. \n",
    "\n",
    "* MNR-02.pdf\n",
    "* MNR-02.ipynb\n",
    "* MNR-02.tex"
   ]
  },
  {
   "cell_type": "code",
   "execution_count": 1,
   "id": "abf583ef",
   "metadata": {
    "scrolled": false
   },
   "outputs": [
    {
     "name": "stdout",
     "output_type": "stream",
     "text": [
      "Created NR-02.tex, and compiled LaTeX file to PDF file NR-02.pdf\n"
     ]
    }
   ],
   "source": [
    "import cmdline_helper as cmd    # NRPy+: Multi-platform Python command-line interface\n",
    "cmd.output_Jupyter_notebook_to_LaTeXed_PDF(\"MNR-02\")"
   ]
  },
  {
   "cell_type": "code",
   "execution_count": null,
   "id": "d0d0db4d",
   "metadata": {},
   "outputs": [],
   "source": []
  },
  {
   "cell_type": "code",
   "execution_count": null,
   "id": "41264965",
   "metadata": {},
   "outputs": [],
   "source": []
  }
 ],
 "metadata": {
  "kernelspec": {
   "display_name": "Python 3 (ipykernel)",
   "language": "python",
   "name": "python3"
  },
  "language_info": {
   "codemirror_mode": {
    "name": "ipython",
    "version": 3
   },
   "file_extension": ".py",
   "mimetype": "text/x-python",
   "name": "python",
   "nbconvert_exporter": "python",
   "pygments_lexer": "ipython3",
   "version": "3.10.4"
  }
 },
 "nbformat": 4,
 "nbformat_minor": 5
}
