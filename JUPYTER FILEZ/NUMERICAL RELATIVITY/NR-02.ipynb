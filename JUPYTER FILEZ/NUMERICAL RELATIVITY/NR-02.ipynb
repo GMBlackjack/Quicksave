{
 "cells": [
  {
   "cell_type": "markdown",
   "id": "0c1bfe81",
   "metadata": {},
   "source": [
    "# Numerical Relativity Problems Chapter 2: The 3+1 Deconposition of Einstein's Equations\n",
    "\n",
    "## Authors: Gabriel M Steward"
   ]
  },
  {
   "cell_type": "markdown",
   "id": "479540e4",
   "metadata": {},
   "source": [
    "https://github.com/zachetienne/nrpytutorial/blob/master/Tutorial-Template_Style_Guide.ipynb\n",
    "\n",
    "Link to the Style Guide. Not internal in case something breaks. "
   ]
  },
  {
   "cell_type": "markdown",
   "id": "10780970",
   "metadata": {},
   "source": [
    "### </list_source_code> NRPy+ Source Code for this module:\n",
    "None, save the pdf conversion at the bottom of this document.  \n",
    "\n",
    "## Introduction:\n",
    "Now we take a look into \"so how do we actually go about doing this?\" via Numerical Relativity by Baumgarte and Shapiro.\n",
    "\n",
    "## </other>  Other (Optional):\n",
    "In order to fascilitate learning, whenever the opportunity arises Sympy will be used. \n",
    "\n",
    "### Note on Notation:\n",
    "Any new notation will be brought up in the notebook when it becomes relevant. \n",
    "\n",
    "### Citations:\n",
    "\n",
    "<a id='1'></a>\n",
    "[1] linky (descrip)"
   ]
  },
  {
   "cell_type": "markdown",
   "id": "56664bc2",
   "metadata": {},
   "source": [
    "<a id='toc'></a>\n",
    "\n",
    "# Table of Contents\n",
    "$$\\label{toc}$$\n",
    "\n",
    "[Problem 1](#P1) (Initial Satisfaction of Constraints)\n",
    "\n",
    "[Problem 2](#P2) (Adjusting Electromagnetism, incomplete)\n",
    "\n",
    "[Problem 3](#P3) (Gauge adjustments)\n",
    "\n",
    "[Problem 4](#P4) (Coulomb Gauge, part 2 incomplete)\n",
    "\n",
    "34\n",
    "\n",
    "[PDF](#latex_pdf_output) (turn this into a PDF)"
   ]
  },
  {
   "cell_type": "markdown",
   "id": "cd9e5529",
   "metadata": {},
   "source": [
    "<a id='P1'></a>\n",
    "\n",
    "# Problem 1 \\[Back to [top](#toc)\\]\n",
    "$$\\label{P1}$$\n",
    "\n",
    "*Demonstrate that the constraint equations 2.2, if satisfied initially, are automatically satisfied at later times when the gravitational field is evolved by using the dynamical equations 2.3. Equivalently, show that the relation $\\partial_t (G^{a0} - 8\\pi T^{a0}) = 0$ will be satisfied at the initial time $x^0=t$, hence conclude that 2.2 will be satisfied at $x^0 = t+\\delta t$. Hint: use the Bianchi identities together with the equations of energy-momentum conservation to evaluate $\\nabla_b(G^{ab}-8\\pi T^{ab})$ at $x^0=t$*"
   ]
  },
  {
   "cell_type": "markdown",
   "id": "79b7eea1",
   "metadata": {},
   "source": [
    "2.2: $G^{a0} = 8\\pi T^{a0}$\n",
    "\n",
    "2.3: $G^{ij} = 8\\pi T^{ij}$\n",
    "\n",
    "1.23 (The Bianchi Identities): $\\nabla_e R_{abcd} + \\nabla_d R_{abec} + \\nabla_c R_{adbe} = 0$\n",
    "\n",
    "And naturally energy-momentum is conserved. Though, as we know, energy is rather hard to define in relativity..."
   ]
  },
  {
   "cell_type": "markdown",
   "id": "a494e855",
   "metadata": {},
   "source": [
    "Note that it at first seems like we are being asked to solve it different ways, but the \"equivalently\" really is just giving us a hint on where to go and what to do and why. Naturally if the time derivative of a quantity is zero, that quantity is not going to change over an infinitesimal adjustment ($\\delta t$ in our formulation). So let's just start working it out the way the hint suggests.\n",
    "\n",
    "$$ \\nabla_b(G^{ab}-8\\pi T^{ab}) $$\n",
    "\n",
    "$$ = \\nabla_bG^{ab}- \\nabla_b8\\pi T^{ab} $$\n",
    "\n",
    "$$ = g_{bf}\\nabla_bG^{a}_f - g_{bf}8\\pi \\nabla_b T^{a}_f $$"
   ]
  },
  {
   "cell_type": "markdown",
   "id": "f05e2407",
   "metadata": {},
   "source": [
    "Now here's the thing, on page 6 we note that as a consequence of the Branchi identities, the covariant divergence of G vanishe AND so does T, via 1.34. Thus we have two terms that are zero. Specifically, zero *always*. Now, granted, we haven't proven WHY the Branchi identities demand this, but it does give us the rather obvious case of \n",
    "\n",
    "$$ = 0 $$\n",
    "\n",
    "That said, this is not what we are looking for, that's the ENTIRE covariant derivative. What WE want is to show that JUST the temporal portions go to zero as well. So let's back up a bit, all the way to the General Relativity book, which will henceforth be refered to as GR. GR6.97 actually gives ust he end result of contracting the Bianchi identities.\n",
    "\n",
    "$$ \\nabla_u(2R^u_l-\\delta^u_kR) = 0 $$\n",
    "\n",
    "Save for a the placement of hte 2 this is identical to the formulation for the G in terms of R. Which is WHY we can say covariant derivatives of G are always zero. \n",
    "\n",
    "\n",
    "\n",
    "$$ 0 = \\nabla_jG^{ij}- \\nabla_j8\\pi T^{ij} + \\nabla_0G^{a0}- \\nabla_08\\pi T^{a0} + \\nabla_bG^{0b}- \\nabla_b8\\pi T^{0b} - \\nabla_0G^{00} + \\nabla_08\\pi T^{00} $$\n",
    "\n",
    "What we have here is spatial components, temporal component column, temporal component row, and then a subtraction of the 00 case which was counted twice. The symmetry of G and T does not allow us to simplify as the derivative on identical components relies on a potentially different variable. "
   ]
  },
  {
   "cell_type": "markdown",
   "id": "1b2c42ea",
   "metadata": {},
   "source": [
    "We also note from GR that the Bianchi identities also imply the covariant derivative of T is zero, and this specifically *IS* the local conservation of energy and momentum. From our earlier work we now expand the covariant derivative out, yet we know it must be zero still. "
   ]
  },
  {
   "cell_type": "markdown",
   "id": "8cfff6ec",
   "metadata": {},
   "source": [
    "$$ 0 = g_{bf}\\left(\\partial_bG^{a}_f+\\Gamma^a_{db}G^{d}_f-\\Gamma^d_{fb}G^{a}_d\\right) - g_{bf}8\\pi \\left(\\partial_bT^{a}_f+\\Gamma^a_{db}T^{d}_f-\\Gamma^d_{fb}T^{a}_d\\right) $$\n",
    "\n",
    "Since we're looking for a time relation, might as well make the covariant derivative time specifically. \n",
    "\n",
    "$$ \\Rightarrow 0 = g_{tf}\\left(\\partial_tG^{a}_f+\\Gamma^a_{dt}G^{d}_f-\\Gamma^d_{ft}G^{a}_d\\right) - g_{tf}8\\pi \\left(\\partial_tT^{a}_f+\\Gamma^a_{dt}T^{d}_f-\\Gamma^d_{ft}T^{a}_d\\right) $$\n",
    "\n",
    "We can arrange terms together and divide out the metric...\n",
    "\n",
    "$$ \\Rightarrow 0 = \\partial_tG^{a}_f - 8\\pi\\partial_tT^{a}_f+\\Gamma^a_{dt}G^{d}_f-\\Gamma^d_{ft}G^{a}_d-8\\pi\\Gamma^a_{dt}T^{d}_f+8\\pi\\Gamma^d_{ft}T^{a}_d $$"
   ]
  },
  {
   "cell_type": "markdown",
   "id": "9ba5e57e",
   "metadata": {},
   "source": [
    "Here's the curious thing about this--the Christoffel symbols on both sides match with flipped signs, and the signs for G and T are in the same place. We have NOT applied any restrictions to G or T, their indeces are still free, so they hit everything. Remember that in general $$G^{ab} = 8\\pi T^{ab}$$. Which means that since the Christoffel symbols match, the four trailing terms will CANCEL! \n",
    "\n",
    "$$ \\Rightarrow 0 = \\partial_t(G^{a}_f - 8\\pi T^{a}_f ) $$\n",
    "\n",
    "Which is what we sought. Which is far more trivial than we made it by overthinking. This kind of HAS to be true, however the subtraction used on the Christoffel symbols would not apply here, as the derivatives are being taken and the derivative of 0 need not actually be 0. \n",
    "\n",
    "We know that the conditions of Einstein's equations are satisfied initially, and we have just seen that with said conditions the temporal derivative is zero, thus so long as Einstein's equations are satisfied the evolution is valid. \n",
    "\n",
    "Which is good, but remember that such assumptions vanish at cosmological scales due to the Cosmological Constant. "
   ]
  },
  {
   "cell_type": "markdown",
   "id": "ee11ff0e",
   "metadata": {},
   "source": [
    "<a id='P2'></a>\n",
    "\n",
    "# Problem 2 \\[Back to [top](#toc)\\]\n",
    "$$\\label{P2}$$\n",
    "\n",
    "*Show that the evolution equations 2.11 and 2.12 preserve the constraint 2.5. i.e., show that*\n",
    "\n",
    "$$ \\frac{\\partial}{\\partial t} \\mathcal{C}_E = 0 $$"
   ]
  },
  {
   "cell_type": "markdown",
   "id": "f06ff5b1",
   "metadata": {},
   "source": [
    "2.5: $\\mathcal{C}_E = D_i E^i - 4\\pi \\rho = 0 $\n",
    "\n",
    "2.11: $ \\partial_t A_i = -E_i - D_i\\Phi $\n",
    "\n",
    "2.12: $ \\partial_t E_i = D_iD^jA_j - D^jD_jA^i - 4\\pi j_i $"
   ]
  },
  {
   "cell_type": "markdown",
   "id": "4004beeb",
   "metadata": {},
   "source": [
    "OKAY so there are pages upon pages of scratch work here that have gone absolutely nowhere, time to move on. "
   ]
  },
  {
   "cell_type": "markdown",
   "id": "9bc80a4f",
   "metadata": {},
   "source": [
    "<a id='P3'></a>\n",
    "\n",
    "# Problem 3 \\[Back to [top](#toc)\\]\n",
    "$$\\label{P3}$$\n",
    "\n",
    "*Show that a transformation to a new \"tilded\" gauge according to*\n",
    "\n",
    "$$ \\tilde\\Phi = \\Phi - \\frac{\\partial \\Lambda}{\\partial t} $$\n",
    "\n",
    "$$ \\tilde{A}_i = A_i + D_i \\Lambda $$\n",
    "\n",
    "*leaves the physical fields $E^i$ and $B^i$ unchanged*\n",
    "\n",
    "We do note that to be a gauge transformation the shifts have to be sufficiently small, so we know that the additional terms are small in comparison to the original ones. Thus we consider $\\Lambda$ and its derivative to be small."
   ]
  },
  {
   "cell_type": "markdown",
   "id": "b073a6f7",
   "metadata": {},
   "source": [
    "Let's go with a relation that has E in it:\n",
    "\n",
    "$$ \\partial_t A_i = -E_i -D_i \\Phi $$\n",
    "\n",
    "$$ \\Rightarrow E_i = - \\partial_t A_i -D_i \\Phi $$\n",
    "\n",
    "So if we replace our adjustments with our substitutions this BETTER be the same. \n",
    "\n",
    "$$ \\Rightarrow E_i = - \\partial_t A_i - \\partial_t D_i \\Lambda - D_i \\Phi + D_i \\partial_t \\Lambda $$\n",
    "\n",
    "$$ \\Rightarrow E_i = - \\partial_t A_i- D_i \\Phi $$\n",
    "\n",
    "So yes E has to be the same. "
   ]
  },
  {
   "cell_type": "markdown",
   "id": "47b8c8af",
   "metadata": {},
   "source": [
    "But what of B? Well, we can kind of think of this logically. E and B are intrisically linked, if E changes, B changes, if E stays the same, B stays the same. Thus, if one is unchanged, both are unchanged. 2.8 allows one to be calculated from the other. "
   ]
  },
  {
   "cell_type": "markdown",
   "id": "99052799",
   "metadata": {},
   "source": [
    "<a id='P4'></a>\n",
    "\n",
    "# Problem 4 \\[Back to [top](#toc)\\]\n",
    "$$\\label{P4}$$\n",
    "\n",
    "*In the so-called radiation, Coulomb, or transverse gauge, the divergence (or longitudinal) part of A is chosen to vanish. $D_iA^i = 0$. So that $A_i$ is purely transverse. Show that in this gague $\\Phi$ plays the role of a Coulomb potential, $D^iD_i\\Phi = -4\\pi \\rho$ and that the vector potential $A_i$ satisfies a simple inhomogeneous wave equation*\n",
    "\n",
    "$$ \\square A_i = -\\partial^2_t A_i + D^j D_j A_i = -4\\pi j_i + D_i(\\partial_t\\Phi) $$"
   ]
  },
  {
   "cell_type": "markdown",
   "id": "29f75d3b",
   "metadata": {},
   "source": [
    "This appears to be a problem in two parts, first we have to show that the potential is as always, knowing only that the physical covariant derivative for A always goes to zero. This knowledge does not immediately remove most restrictions, however--after all, derivatives of zero can still be something other than zero. The bane of our existence. \n",
    "\n",
    "This DOES immediately point out that 2.10 makes $B_i=0$ which honestly makes sense. We are in the Coulomb gauge, the magnetic field should vanish. As we know from **Problem 3** if the magnetic field ever changed, the electric field would change as well. Since in our system there IS no magnetic field, then the electric field is constant. As Coulomb problems are. \n",
    "\n",
    "Now for a constant electric field every time derivative of it is always zero. 2.12 becomes...\n",
    "\n",
    "$$ 0 = D_iD^jA_j - D^jD_jA_i - 4\\pi j_i $$\n",
    "\n",
    "Unfortunately we can't just up and use this on 2.11 since doing so would involve a physical derivative, and E need not be the same everywhere. (B does though). From 2.7 we can actually say that the current term also has to be zero. (obviously there is no moving charge). This allows us to adapt the above to:\n",
    "\n",
    "$$ D_iD^jA_j = D^jD_jA_i $$"
   ]
  },
  {
   "cell_type": "markdown",
   "id": "72f38421",
   "metadata": {},
   "source": [
    "And that doesn't help us solve our problem but we'll keep it here anyway for later reference. \n",
    "\n",
    "What DOES help us solve it is 2.5, which, when reworded, states that $D_iE^i = 4\\pi \\rho$. With this knowledge, we can apply a covariant derivative on 2.11\n",
    "\n",
    "$$ D^i \\partial_t A_i = -D^iE_i - D^i D_i \\Phi$$ "
   ]
  },
  {
   "cell_type": "markdown",
   "id": "8e6be67a",
   "metadata": {},
   "source": [
    "The last term is the one we want. The left-hand side looks unevaluatable, but since the divergence vanishes, it better vanish equally at all times, thus the derivative of zero is zero in this case. This leaves us with:\n",
    "\n",
    "$$ \\Rightarrow D^i D_i \\Phi = -D^iE_i $$ \n",
    "\n",
    "$$ \\Rightarrow D^i D_i \\Phi = -4\\pi \\rho $$ \n",
    "\n",
    "Which is what it should be.\n",
    "\n",
    "Now, the second part... we will deal with later. "
   ]
  },
  {
   "cell_type": "markdown",
   "id": "df50096e",
   "metadata": {},
   "source": [
    "<a id='latex_pdf_output'></a>\n",
    "\n",
    "# Addendum: Output this notebook to $\\LaTeX$-formatted PDF file \\[Back to [top](#toc)\\]\n",
    "$$\\label{latex_pdf_output}$$\n",
    "\n",
    "The following code cell converts this Jupyter notebook into a proper, clickable $\\LaTeX$-formatted PDF file. After the cell is successfully run, the generated PDF may be found in the root NRPy+ tutorial directory, with filename\n",
    "[NR-02.pdf](NR-02.pdf) (Note that clicking on this link may not work; you may need to open the PDF file through another means.)\n",
    "\n",
    "**Important Note**: Make sure that the file name is right in all six locations, two here in the Markdown, four in the code below. \n",
    "\n",
    "* NR-02.pdf\n",
    "* NR-02.ipynb\n",
    "* NR-02.tex"
   ]
  },
  {
   "cell_type": "code",
   "execution_count": 1,
   "id": "abf583ef",
   "metadata": {
    "scrolled": false
   },
   "outputs": [
    {
     "name": "stdout",
     "output_type": "stream",
     "text": [
      "Created NR-02.tex, and compiled LaTeX file to PDF file NR-02.pdf\n"
     ]
    }
   ],
   "source": [
    "import cmdline_helper as cmd    # NRPy+: Multi-platform Python command-line interface\n",
    "cmd.output_Jupyter_notebook_to_LaTeXed_PDF(\"NR-02\")"
   ]
  },
  {
   "cell_type": "code",
   "execution_count": null,
   "id": "d0d0db4d",
   "metadata": {},
   "outputs": [],
   "source": []
  },
  {
   "cell_type": "code",
   "execution_count": null,
   "id": "41264965",
   "metadata": {},
   "outputs": [],
   "source": []
  }
 ],
 "metadata": {
  "kernelspec": {
   "display_name": "Python 3 (ipykernel)",
   "language": "python",
   "name": "python3"
  },
  "language_info": {
   "codemirror_mode": {
    "name": "ipython",
    "version": 3
   },
   "file_extension": ".py",
   "mimetype": "text/x-python",
   "name": "python",
   "nbconvert_exporter": "python",
   "pygments_lexer": "ipython3",
   "version": "3.10.4"
  }
 },
 "nbformat": 4,
 "nbformat_minor": 5
}
