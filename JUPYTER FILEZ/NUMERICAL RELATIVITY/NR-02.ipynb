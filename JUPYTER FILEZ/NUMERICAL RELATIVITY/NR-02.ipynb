{
 "cells": [
  {
   "cell_type": "markdown",
   "id": "0c1bfe81",
   "metadata": {},
   "source": [
    "# Numerical Relativity Problems Chapter 2: The 3+1 Deconposition of Einstein's Equations\n",
    "\n",
    "## Authors: Gabriel M Steward"
   ]
  },
  {
   "cell_type": "markdown",
   "id": "479540e4",
   "metadata": {},
   "source": [
    "https://github.com/zachetienne/nrpytutorial/blob/master/Tutorial-Template_Style_Guide.ipynb\n",
    "\n",
    "Link to the Style Guide. Not internal in case something breaks. "
   ]
  },
  {
   "cell_type": "markdown",
   "id": "10780970",
   "metadata": {},
   "source": [
    "### </list_source_code> NRPy+ Source Code for this module:\n",
    "None, save the pdf conversion at the bottom of this document.  \n",
    "\n",
    "## Introduction:\n",
    "Now we take a look into \"so how do we actually go about doing this?\" via Numerical Relativity by Baumgarte and Shapiro.\n",
    "\n",
    "## </other>  Other (Optional):\n",
    "Note: since this was done in tandem with Mini Numerical Relativity (see that notebook) we use some theorems from that book. And then find later that the Numerical Relativity book (this one) hadn't proven these things yet and we were expected to do problems without them. As such, this entire notebook is kind of out of order. \n",
    "\n",
    "### Note on Notation:\n",
    "Any new notation will be brought up in the notebook when it becomes relevant. \n",
    "\n",
    "### Citations:\n",
    "\n",
    "<a id='1'></a>\n",
    "[1] https://physics.stackexchange.com/questions/79157/square-bracket-notation-for-anti-symmetric-part-of-a-tensor (3-way and up antisymmetry formula)\n",
    "\n",
    "<a id='2'></a>\n",
    "[2] https://profoundphysics.com/christoffel-symbols-a-complete-guide-with-examples/ (Christoffel Symbols)\n",
    "\n",
    "<a id='3'></a>\n",
    "[3] https://www.cuemath.com/algebra/inverse-of-3x3-matrix/ (3x3 Matrix Inverse)"
   ]
  },
  {
   "cell_type": "markdown",
   "id": "56664bc2",
   "metadata": {},
   "source": [
    "<a id='toc'></a>\n",
    "\n",
    "# Table of Contents\n",
    "$$\\label{toc}$$\n",
    "\n",
    "[Problem 1](#P1) (Initial Satisfaction of Constraints)\n",
    "\n",
    "[Problem 2](#P2) (Adjusting Electromagnetism)\n",
    "\n",
    "[Problem 3](#P3) (Gauge adjustments)\n",
    "\n",
    "[Problem 4](#P4) (Coulomb Gauge)\n",
    "\n",
    "[Problem 5](#P5) (Rotation Free)\n",
    "\n",
    "[Problem 6](#P6) (Spacelike Entirely)\n",
    "\n",
    "[Problem 7](#P7) (Projected Tensors)\n",
    "\n",
    "[Problem 8](#P8) (3D Derivatives)\n",
    "\n",
    "[Problem 9](#P9) (The Inconsistent Product Rule)\n",
    "\n",
    "[Problem 10](#P10) (Rotation Free Returns)\n",
    "\n",
    "[Problem 11](#P11) (The Extrinsic Curvature Vanishes)\n",
    "\n",
    "[Problem 12](#P12) (Spacelike Acceleration)\n",
    "\n",
    "[Problem 13](#P13) (Acceleration Lapse)\n",
    "\n",
    "[Problem 14](#P14) (Schwartzchild Acceleration)\n",
    "\n",
    "Appendix A Break Begin\n",
    "\n",
    "[Problem A1](#PA1) (Equivalence of Covariant and Partial Derivatives in the Lie Derivative)\n",
    "\n",
    "[Problem A2](#PA2) (The Product Rule Holds for Lie Derivatives)\n",
    "\n",
    "[Problem A3](#PA3) (Exterior Derivative Commutation)\n",
    "\n",
    "[Problem A4](#PA4) (Lie Dragging of a Secondary Field, questionable)\n",
    "\n",
    "Appendix A Break End\n",
    "\n",
    "[Problem 15](#P15) (Return of the Reimann Tensor and Index Salad, long sketch work not reproduced)\n",
    "\n",
    "[Problem 16](#P16) (Spatial Vector Funtimes)\n",
    "\n",
    "[Problem 17](#P17) (A New World of Spatial Covariant Derivatives)\n",
    "\n",
    "[Problem 18](#P18) (Spatial Lie Derivative)\n",
    "\n",
    "[Problem 19](#P19) (Derivatives and Alphas)\n",
    "\n",
    "[Problem 20](#P20) (Swarm of Particles, complete but marked for review)\n",
    "\n",
    "[Problem 21](#P21) (Lie of the Metric, incomplete)\n",
    "\n",
    "[Problem 22](#P22) (Simpler Than it Looks)\n",
    "\n",
    "[Problem 23](#P23) (Lie of the Basis, incomplete)\n",
    "\n",
    "[Problem 24](#P24) (Metric Contraction)\n",
    "\n",
    "[Problem 25](#P25) (Metric Determinants)\n",
    "\n",
    "[Problem 26](#P26) (Proper Time in 3+1)\n",
    "\n",
    "[Problem 27](#P27) (DOOM!)\n",
    "\n",
    "[Problem 28](#P28) (Our Old Friend the Newtonian Metric)\n",
    "\n",
    "[Problem 29](#P29) (Spatial Christoffels, Skipped)\n",
    "\n",
    "[Problem 30](#P30) (Derivative Equivalence)\n",
    "\n",
    "[Problem 31](#P31) (Lapse Derivatives, unsimplified mess)\n",
    "\n",
    "[Problem 32](#P32) (Fun with P-G Coordinates, some parts skipped)\n",
    "\n",
    "[Problem 33](#P33) (Fun with K-S Coordinates, some parts skipped/outlined)\n",
    "\n",
    "[Problem 34](#P34) (Fun with B-L Coordinates, some parts skipped)\n",
    "\n",
    "A note on \"some parts skipped:\" ain't no way we're calculating out all the Christoffels for every new metric handed to us. Maybe if there's time later, type it all up in NRPyLaTeX to get the symbols. \n",
    "\n",
    "[PDF](#latex_pdf_output) (turn this into a PDF)"
   ]
  },
  {
   "cell_type": "markdown",
   "id": "cd9e5529",
   "metadata": {},
   "source": [
    "<a id='P1'></a>\n",
    "\n",
    "# Problem 1 \\[Back to [top](#toc)\\]\n",
    "$$\\label{P1}$$\n",
    "\n",
    "*Demonstrate that the constraint equations 2.2, if satisfied initially, are automatically satisfied at later times when the gravitational field is evolved by using the dynamical equations 2.3. Equivalently, show that the relation $\\partial_t (G^{a0} - 8\\pi T^{a0}) = 0$ will be satisfied at the initial time $x^0=t$, hence conclude that 2.2 will be satisfied at $x^0 = t+\\delta t$. Hint: use the Bianchi identities together with the equations of energy-momentum conservation to evaluate $\\nabla_b(G^{ab}-8\\pi T^{ab})$ at $x^0=t$*"
   ]
  },
  {
   "cell_type": "markdown",
   "id": "79b7eea1",
   "metadata": {},
   "source": [
    "2.2: $G^{a0} = 8\\pi T^{a0}$\n",
    "\n",
    "2.3: $G^{ij} = 8\\pi T^{ij}$\n",
    "\n",
    "1.23 (The Bianchi Identities): $\\nabla_e R_{abcd} + \\nabla_d R_{abec} + \\nabla_c R_{adbe} = 0$\n",
    "\n",
    "And naturally energy-momentum is conserved, which is basically $\\nabla_a T^{ab} = 0.$"
   ]
  },
  {
   "cell_type": "markdown",
   "id": "dea19569",
   "metadata": {},
   "source": [
    "Maybe the book was just being confusing for no reason becasue we can easily show that the derivative is zero without even refering to the Bianchi Identities. \n",
    "\n",
    "$$\n",
    "\\begin{align}\n",
    "\\partial_t (G^{a0} - 8\\pi T^{a0}) &= \\partial_t G^{a0} - \\partial_t 8\\pi T^{a0}\\\\\n",
    "&= \\partial_t G^{a0} - 8\\pi \\partial_t T^{a0}\\\\\n",
    "&= 8 \\pi \\partial_t T^{a0} - 8\\pi \\partial_t T^{a0}\\\\\n",
    "&= 0 \\\\\n",
    "\\end{align}\n",
    "$$"
   ]
  },
  {
   "cell_type": "markdown",
   "id": "f4acc0fb",
   "metadata": {},
   "source": [
    "The only equaiton we use is 2.2, and the partial derivative sum rule. The steps above are taken in genreal: it does not matter what time \"t\" it is, it is always true. Weird... should be harder than this you'd think...\n",
    "\n",
    "In our work we also found an inadvertant proof for equation 2.1 via the Bianchi Identities. Might as well write it down. \n",
    "\n",
    "$$ 0 = \\nabla_b G^{ab} = \\nabla_t G^{at} + \\nabla_i G^{ai} = \\partial_t G^{at} + \\partial_i G^{ai} + G^{bc} \\Gamma^a_{bc} + G^{ab} \\Gamma^c_{bc} $$\n",
    "\n",
    "Which may be useful in the future. \n",
    "\n",
    "NOTE: clearly this is true, but the reasoning as to why the time covariant derivative can become partial... is not evident upon reread. "
   ]
  },
  {
   "cell_type": "markdown",
   "id": "5779693f",
   "metadata": {},
   "source": [
    "We believe THIS is what the book wants. First of all, remove all Ts, the \"conservation of momentum\" says that the covariant derivative is zero. (We could also do this for G if we wanted, but let's try to do it the way they want.)\n",
    "\n",
    "$$ \\nabla_a G^{ab} = \\nabla_t G^{tb} + \\nabla_i G^{ib} $$\n",
    "\n",
    "Now we ARE told to use 2.2, which says $G^{at} = 8\\pi T^{at}$. Note that we're only assuming this is true at the start time, but at the end it will always be true. This automatically makes the term go to zero since we're acting on T with a covariant derivative. \n",
    "\n",
    "$$ \\nabla_t G^{tb} = 0 $$\n",
    "\n",
    "Now the bianchi idnetities tell us DIRECTLY that $\\nabla_b G^{ab} =0$ so we can now say:\n",
    "\n",
    "$$ \\nabla_i G^{ib} = 0 $$ \n",
    "\n",
    "Since the first equality in this section must be met. \n",
    "\n",
    "Now, we look at equation 2.1\n",
    "\n",
    "$$ \\partial_t G^{at} = -\\partial_i G^{ai} - G^{bc}\\Gamma^a_{bc} - G^{ab}\\Gamma^c_{bc} $$\n",
    "\n",
    "Which is easily equivalent to:\n",
    "\n",
    "$$ \\partial_t G^{at} = -\\nabla_i G^{ai} $$"
   ]
  },
  {
   "cell_type": "markdown",
   "id": "75bb100b",
   "metadata": {},
   "source": [
    "This will allow us to evaluate the thing we actually need to:\n",
    "\n",
    "$$ \\partial_t (G^{at} - 8\\pi T^{at}) = \\partial_t G^{at} = -\\nabla_i G^{ai} = 0 $$\n",
    "\n",
    "Thus we have proven what we sought to show. In we think the way the book wanted it. "
   ]
  },
  {
   "cell_type": "markdown",
   "id": "ee11ff0e",
   "metadata": {},
   "source": [
    "<a id='P2'></a>\n",
    "\n",
    "# Problem 2 \\[Back to [top](#toc)\\]\n",
    "$$\\label{P2}$$\n",
    "\n",
    "*Show that the evolution equations 2.11 and 2.12 preserve the constraint 2.5. i.e., show that*\n",
    "\n",
    "$$ \\frac{\\partial}{\\partial t} \\mathcal{C}_E = 0 $$"
   ]
  },
  {
   "cell_type": "markdown",
   "id": "f06ff5b1",
   "metadata": {},
   "source": [
    "2.5: $\\mathcal{C}_E = D_i E^i - 4\\pi \\rho = 0 $\n",
    "\n",
    "2.11: $ \\partial_t A_i = -E_i - D_i\\Phi $\n",
    "\n",
    "2.12: $ \\partial_t E_i = D_iD^jA_j - D^jD_jA^i - 4\\pi j_i $"
   ]
  },
  {
   "cell_type": "markdown",
   "id": "4004beeb",
   "metadata": {},
   "source": [
    "OKAY so there are pages upon pages of scratch work here that have gone absolutely nowhere, time to move on. \n",
    "\n",
    "UPDATE: this same exact problem was posed in Mini Numerical Relativity **Problem 2.1**, and we solved it there. For reference, the key realization was that $\\partial_t \\rho = -D_i j_i$ at which point the rest of it kind of falls into place. We work it out here in this notation for completion's sake. Remember, this is an EM problem, the metric is cartesian so vectors and one-forms are largely fungible. \n",
    "\n",
    "Take the time derivative of both sides. \n",
    "\n",
    "$$ \\partial_t \\mathcal C = \\partial_t D_i E^i - 4\\pi \\partial_t \\rho $$\n",
    "\n",
    "$$ \\Rightarrow \\partial_t \\mathcal C = \\partial_t D_i E^i + 4\\pi D_i j^i $$\n",
    "\n",
    "2.16 (in Mini Numerical Relativity) has $D_i E^i = 4\\pi \\rho$. Which means...\n",
    "\n",
    "$$ \\Rightarrow \\partial_t \\mathcal C = \\partial_t 4\\pi \\rho + 4\\pi D_i j^i $$\n",
    "\n",
    "$$ \\Rightarrow \\partial_t \\mathcal C = - 4\\pi D_i j^i + 4\\pi D_i j^i $$\n",
    "\n",
    "$$ \\Rightarrow \\partial_t \\mathcal C = 0 $$\n",
    "\n",
    "Tah-dah. "
   ]
  },
  {
   "cell_type": "markdown",
   "id": "9bc80a4f",
   "metadata": {},
   "source": [
    "<a id='P3'></a>\n",
    "\n",
    "# Problem 3 \\[Back to [top](#toc)\\]\n",
    "$$\\label{P3}$$\n",
    "\n",
    "*Show that a transformation to a new \"tilded\" gauge according to*\n",
    "\n",
    "$$ \\tilde\\Phi = \\Phi - \\frac{\\partial \\Lambda}{\\partial t} $$\n",
    "\n",
    "$$ \\tilde{A}_i = A_i + D_i \\Lambda $$\n",
    "\n",
    "*leaves the physical fields $E^i$ and $B^i$ unchanged*\n",
    "\n",
    "We do note that to be a gauge transformation the shifts have to be sufficiently small, so we know that the additional terms are small in comparison to the original ones. Thus we consider $\\Lambda$ and its derivative to be small."
   ]
  },
  {
   "cell_type": "markdown",
   "id": "b073a6f7",
   "metadata": {},
   "source": [
    "Let's go with a relation that has E in it:\n",
    "\n",
    "$$ \\partial_t A_i = -E_i -D_i \\Phi $$\n",
    "\n",
    "$$ \\Rightarrow E_i = - \\partial_t A_i -D_i \\Phi $$\n",
    "\n",
    "So if we replace our adjustments with our substitutions this BETTER be the same. \n",
    "\n",
    "$$ \\Rightarrow E_i = - \\partial_t A_i - \\partial_t D_i \\Lambda - D_i \\Phi + D_i \\partial_t \\Lambda $$\n",
    "\n",
    "$$ \\Rightarrow E_i = - \\partial_t A_i- D_i \\Phi $$\n",
    "\n",
    "So yes E has to be the same. "
   ]
  },
  {
   "cell_type": "markdown",
   "id": "47b8c8af",
   "metadata": {},
   "source": [
    "But what of B? Well, we can kind of think of this logically. E and B are intrisically linked, if E changes, B changes, if E stays the same, B stays the same. Thus, if one is unchanged, both are unchanged. 2.8 allows one to be calculated from the other. "
   ]
  },
  {
   "cell_type": "markdown",
   "id": "99052799",
   "metadata": {},
   "source": [
    "<a id='P4'></a>\n",
    "\n",
    "# Problem 4 \\[Back to [top](#toc)\\]\n",
    "$$\\label{P4}$$\n",
    "\n",
    "*In the so-called radiation, Coulomb, or transverse gauge, the divergence (or longitudinal) part of A is chosen to vanish. $D_iA^i = 0$. So that $A_i$ is purely transverse. Show that in this gague $\\Phi$ plays the role of a Coulomb potential, $D^iD_i\\Phi = -4\\pi \\rho$ and that the vector potential $A_i$ satisfies a simple inhomogeneous wave equation*\n",
    "\n",
    "$$ \\square A_i = -\\partial^2_t A_i + D^j D_j A_i = -4\\pi j_i + D_i(\\partial_t\\Phi) $$"
   ]
  },
  {
   "cell_type": "markdown",
   "id": "29f75d3b",
   "metadata": {},
   "source": [
    "This appears to be a problem in two parts, first we have to show that the potential is as always, knowing only that the physical covariant derivative for A always goes to zero. This knowledge does not immediately remove most restrictions, however--after all, derivatives of zero can still be something other than zero. The bane of our existence. \n",
    "\n",
    "NOTE: there was a section here about j=0. It does not. "
   ]
  },
  {
   "cell_type": "markdown",
   "id": "72f38421",
   "metadata": {},
   "source": [
    "What DOES help us solve it is 2.5, which, when reworded, states that $D_iE^i = 4\\pi \\rho$. With this knowledge, we can apply a covariant derivative on 2.11\n",
    "\n",
    "$$ D^i \\partial_t A_i = -D^iE_i - D^i D_i \\Phi$$ "
   ]
  },
  {
   "cell_type": "markdown",
   "id": "8e6be67a",
   "metadata": {},
   "source": [
    "The last term is the one we want. The left-hand side looks unevaluatable, but since the divergence vanishes, it better vanish equally at all times, thus the derivative of zero is zero in this case. This leaves us with:\n",
    "\n",
    "$$ \\Rightarrow D^i D_i \\Phi = -D^iE_i $$ \n",
    "\n",
    "$$ \\Rightarrow D^i D_i \\Phi = -4\\pi \\rho $$ \n",
    "\n",
    "Which is what it should be."
   ]
  },
  {
   "cell_type": "markdown",
   "id": "5335788d",
   "metadata": {},
   "source": [
    "And now the second part. We need to show:\n",
    "\n",
    "$$ \\square A_i = -\\partial^2_t A_i + D^j D_j A_i = -4\\pi j_i + D_i(\\partial_t\\Phi) $$\n",
    "\n",
    "Which is a relation of the square laplacian. The left hand side and the middle follow automatically. However, the last step does not."
   ]
  },
  {
   "cell_type": "markdown",
   "id": "27ab80c1",
   "metadata": {},
   "source": [
    "From the middle step, we can expand the time derivative of $A_i$ via 2.11\n",
    "\n",
    "$$ -\\partial^2_t A_i + D^j D_j A_i $$\n",
    "\n",
    "$$ = -\\partial_t (-E_i - D_i \\Phi) + D^j D_j A_i $$\n",
    "\n",
    "$$ = \\partial_tE_i + D_i \\partial_t \\Phi + D^j D_j A_i $$\n",
    "\n",
    "With this we have one of the terms we want. We can use 2.12 for the time derivative of E to get...\n",
    "\n",
    "$$ = D_iD^jA_j - D^jD_jA_i - 4\\pi j_i + D_i \\partial_t \\Phi + D^j D_j A_i $$\n",
    "\n",
    "The divergence vanishes, and two terms cancel, leaving us with:\n",
    "\n",
    "$$ = - 4\\pi j_i + D_i \\partial_t \\Phi $$\n",
    "\n",
    "Which is what we sought."
   ]
  },
  {
   "cell_type": "markdown",
   "id": "df559967",
   "metadata": {},
   "source": [
    "A note on the SQUARE:\n",
    "\n",
    "$\\square = \\partial^a \\partial_a = g^{ab} \\partial_b \\partial_a = -\\partial^2_t + \\partial^2_i$\n",
    "\n",
    "Note that the second term is not automatically D, it would only be D when the metric is spatial. Which it kind of has to be for the last step. Just a clarificaiton for potential confusion. Be careful with it. "
   ]
  },
  {
   "cell_type": "markdown",
   "id": "36081fcc",
   "metadata": {},
   "source": [
    "<a id='P5'></a>\n",
    "\n",
    "# Problem 5 \\[Back to [top](#toc)\\]\n",
    "$$\\label{P5}$$\n",
    "\n",
    "*Show that the normalized 1-form $\\omega_a = \\alpha\\Omega_a$ is rotation-free $\\omega_{[a} \\nabla_b \\omega_{c]} = 0$*"
   ]
  },
  {
   "cell_type": "markdown",
   "id": "db8d06e5",
   "metadata": {},
   "source": [
    "So first of all we need to be careful with the notation-- the brackets refer to the antisymmetric portion of the tensor. in this case it would be the tensor composed of all these things smashed together, which is a three-way antisymmetric tensor. We use [1](#1) to grab the three-index antisymmetry formula.\n",
    "\n",
    "$$ \\omega_{[a} \\nabla_b \\omega_{c]} $$\n",
    "\n",
    "$$ = \\alpha^2 \\Omega_{[a} \\nabla_b \\Omega_{c]} $$\n",
    "\n",
    "$$ = \\alpha^2 \\nabla_{[a}t \\nabla_b \\nabla_{c]}t $$\n",
    "\n",
    "2.20 lets us know that $\\nabla_{[a}\\nabla_{b]}t = 0$. Perhaps we can make use of this. This fact may be rather obvious since derivative order can be changed at will, but the extra t we have in the middle here complicates things now. The antisymmetric expansion gives us:\n",
    "\n",
    "$$ = \\alpha^2 \\frac{1}{3!} \\left[ \\nabla_{a}t \\nabla_b \\nabla_{c}t + \\nabla_{c}t \\nabla_a \\nabla_{b}t + \\nabla_{b}t \\nabla_c \\nabla_{a}t - \\nabla_{a}t \\nabla_c \\nabla_{b}t - \\nabla_{b}t \\nabla_a \\nabla_{c}t - \\nabla_{c}t \\nabla_b \\nabla_{a}t \\right]$$\n",
    "\n",
    "We note that every term cancels because the last two $\\nabla$s can be shuffled at will, meaning a + term will always cancel with a - term. Thus, it goes to zero. \n",
    "\n",
    "Now as for what exactly this means physically... what DOES rotation-free mean? Presumably it means it's immune to rotation or lacks the capacity to rotate, but the physical intuition is not coming today. "
   ]
  },
  {
   "cell_type": "markdown",
   "id": "b9fe6abe",
   "metadata": {},
   "source": [
    "<a id='P6'></a>\n",
    "\n",
    "# Problem 6 \\[Back to [top](#toc)\\]\n",
    "$$\\label{P6}$$\n",
    "\n",
    "*Show that $\\gamma^a_b v^b$, where $v^b$ is an arbitrary spacetime vector, is purely spatial.*\n",
    "\n",
    "Just so we're clear, $v^b = (t,x,y,z).$ The final result of what we get here better not have any time in it. \n",
    "\n",
    "2.30 gives us the projection operator, $\\gamma^a_b = \\delta^a_b + n^an_b$"
   ]
  },
  {
   "cell_type": "markdown",
   "id": "aa85f557",
   "metadata": {},
   "source": [
    "This was originally done INCORRECTLY. It was done correctly in Mini Numerical Relativity **Problem 2.5**, and has work of:\n",
    "\n",
    "$$ n^a(g^a_b + n^an_b)A^b $$\n",
    "\n",
    "$$ = n^ag^a_bA^b + n^an^an_bA^b $$\n",
    "\n",
    "$$ = n^a\\delta^a_bA^b + n^an^bn_bA^a $$\n",
    "\n",
    "$$ = n^aA^a - n^aA^a $$\n",
    "\n",
    "$$ = 0 $$\n",
    "\n",
    "Albeit with slightly different notation. "
   ]
  },
  {
   "cell_type": "markdown",
   "id": "c6af179b",
   "metadata": {},
   "source": [
    "<a id='P7'></a>\n",
    "\n",
    "# Problem 7 \\[Back to [top](#toc)\\]\n",
    "$$\\label{P7}$$\n",
    "\n",
    "*Show that for the second rank tensor $T_{ab}$ we have*\n",
    "\n",
    "$$ T_{ab} = \\perp T_{ab} - n_an^c \\perp T_{cb} - n_bn^c \\perp T_{ac} + n_an_bn^cn^dT_{cd}. $$\n",
    "\n",
    "(Assisted by Leo Werneck)"
   ]
  },
  {
   "cell_type": "markdown",
   "id": "9a9898f7",
   "metadata": {},
   "source": [
    "Curiously, this seems to be a case of working backward. We have projections of the tensor, we need to reclaim the original tensor with them. (Or think of it as putting the tensor in terms of its projections... sorta. The motivation is a bit unclear). We are warned in the book to use the projection symbol with some care since it only applies to the free indices of the tensor that it operates on. \n",
    "\n",
    "First step, let's expand all the projections via 2.31. \n",
    "\n",
    "$$ T_{ab} = \\gamma^c_a\\gamma^d_b T_{cd} - n_an^c \\gamma^a_c \\gamma^d_b T_{ad} - n_bn^c \\gamma^d_a \\gamma^b_c T_{bd} + n_an_bn^cn^dT_{cd}. $$"
   ]
  },
  {
   "cell_type": "markdown",
   "id": "32000c8a",
   "metadata": {},
   "source": [
    "NOTE: the equality above is still unproven, we need to show in the end $T_{ab} = T_{ab}$ or something obviously equivalent. --Review GM. \n",
    "\n",
    "Now, here's the thing. \n",
    "\n",
    "$$ n_a \\gamma^b_a = n_a \\delta^b_a + n_an^an^b = n^b - n^b = 0 $$\n",
    "\n",
    "The above just straight up vanishes. Which means the two middle terms vanish. \n",
    "\n",
    "$$ T_{ab} = \\gamma^c_a\\gamma^d_b T_{cd} + n_an_bn^cn^dT_{cd} $$."
   ]
  },
  {
   "cell_type": "markdown",
   "id": "4a4d2abd",
   "metadata": {},
   "source": [
    "Now we can do the \"add zero\" trick. Which we means we can add *anything* spatially contracted and then run along $n^a$. We can use this to get the binomial we've been hutning for for so long. (You may not be able to see all the work, but trust us, it was a headache)\n",
    "\n",
    "$$ T_{ab} = \\gamma^c_a\\gamma^d_b T_{cd} - n_an^c \\gamma^c_a \\gamma^d_bT_{cd} - n_bn^d \\gamma^c_a \\gamma^d_bT_{cd} + n_an_bn^cn^dT_{cd} $$.\n",
    "\n",
    "Note that $\\gamma^a_b$ always makes something purely spatial, meaning any term that is then contracted over $n^a$ is zero, no matter what. So those terms might as well not exist. But we can still play pretend. \n",
    "\n",
    "$$ = (\\gamma^c_a - n_an^c)(\\gamma^d_b-n_bn^a)T_{cd}$$\n",
    "\n",
    "2.30 informs us that the binomials in parentheses are delta functions! Specifically:\n",
    "\n",
    "$$ = (\\delta^c_a)(\\delta^d_b)T_{cd} = T_{ab}$$\n",
    "\n",
    "Which is what we sought to show. "
   ]
  },
  {
   "cell_type": "markdown",
   "id": "ad7c3ed5",
   "metadata": {},
   "source": [
    "BONUS: in the failed work we did nonetheless derive this potentially helpful relation:\n",
    "\n",
    "Now we recall from 2.24 that every normal vector *contains* a metric. The best part is we can choose exactly what form that metric takes for maximum simplification. More specifically, we choose indeces such that we end up with forms akin to $g^{ab} g_{bc} = g^a_c = \\delta^a_c$ and deltas are really easy to make vanish. Furthermore, we played with indeces and found:\n",
    "\n",
    "$$ n^a = -g^{ab}\\omega_b \\Rightarrow n_c = -g_{ac}g^{ab}\\omega_b = -\\delta^b_c \\omega_b = -\\omega_c$$\n",
    "\n",
    "Which makes this quite a bit simpler. Watch the negative sign! (Which doesn't show up here since we always end up with two of them)"
   ]
  },
  {
   "cell_type": "markdown",
   "id": "3bbdbd4a",
   "metadata": {},
   "source": [
    "<a id='P8'></a>\n",
    "\n",
    "# Problem 8 \\[Back to [top](#toc)\\]\n",
    "$$\\label{P8}$$\n",
    "\n",
    "*Show that the 3-dimensional covariant derivative is compatible with the spatial metric $\\gamma_{ab}$, that is, show that $D_a\\gamma_{bc} = 0$*"
   ]
  },
  {
   "cell_type": "markdown",
   "id": "5d15ba80",
   "metadata": {},
   "source": [
    "Let's write this out carefully. When acting on a scalar, the covariant derivative follows 2.40: $D_af = \\gamma_a^b \\nabla_b f$ For our purposes replace b with d since we have other indeces around. \n",
    "\n",
    "Acting on other tensors involves tacking on more $\\gamma$ functions based on the number of indeces. For instance, in our case:\n",
    "\n",
    "$$ D_a\\gamma_{bc} =  \\gamma^e_b \\gamma^f_c \\gamma_a^d \\nabla_d\\gamma_{ef} $$\n",
    "\n",
    "We just need to show that this is in fact zero. \n",
    "\n",
    "First, expand out the gamma. \n",
    "\n",
    "$$ =  \\gamma^e_b \\gamma^f_c \\gamma_a^d \\nabla_d(g_{ef} + n_en_f)$$\n",
    "\n",
    "The first covariant derivative of the g-metric is always zero. As for the n components...\n",
    "\n",
    "$$ =  \\gamma^e_b \\gamma^f_c \\gamma_a^d (n_e\\nabla_dn_f + n_f\\nabla_dn_e)$$\n",
    "\n",
    "Now, each of the projection operators are acting on a $n_a$ object, that is, the thing we defined AS the normal. Which is purely TEMPORAL and thus when projected will go to zero, guaranteed. This gets rid of both the other terms. \n",
    "\n",
    "$$ =0 $$"
   ]
  },
  {
   "cell_type": "markdown",
   "id": "195934b7",
   "metadata": {},
   "source": [
    "<a id='P9'></a>\n",
    "\n",
    "# Problem 9 \\[Back to [top](#toc)\\]\n",
    "$$\\label{P9}$$\n",
    "\n",
    "*Show that for a scalar product $v^aw_a$ the Leibnitz rule*\n",
    "\n",
    "$$D_a(v^bw_b) = v^bD_aw_b + w_bD_av^b$$\n",
    "\n",
    "*Only holds if $v^a$ and $v_b$ are purely spatial*\n",
    "\n",
    "Oho, trying to tell me the product rule is wrong are you? Well... yeah that makes sense. "
   ]
  },
  {
   "cell_type": "markdown",
   "id": "f317da3d",
   "metadata": {},
   "source": [
    "Anyway a scalar product is a SCALAR so the 3D derivative becomes\n",
    "\n",
    "$$ \\gamma^c_a \\nabla_c (v^bw_b) $$\n",
    "\n",
    "Now we know the product rule applies to the normal covariant derivative, so we can use it here.\n",
    "\n",
    "$$ \\gamma^c_a \\left[ \\nabla_c (v^b) w_b + v^b \\nabla_c (w_b) \\right] $$\n",
    "\n",
    "Now, it sure seems like no matter what $\\gamma$ can just be pulled in and show that the product rule still applies... but let's think about what $\\gamma$ IS. The form we have is 2.30, which is the projection of a 4-dimensional tensor into a spatial slice. Well, if v and w are spatial, then the result is obvious: projection does nothing if it's already projected, so the rule must still hold. \n",
    "\n",
    "But that's only half of the proof. We need to show that it is NOT true when v or w or both has a temporal component. This is actually easy to see: let there be v = (1,x,y,z) and w = (0,x,y,z). When they have their fancy dot product they just end up with \"$x^2+y^2+z^2$\" the temporal components completley cancel, then everything goes throgh and acts just fine.\n",
    "\n",
    "For the side of the product rule where D acts on v alone will remove the temporal component entirely. However, in the case where D acts on w, the temporal component in v is still there. Thus when $\\gamma$ goes through it WILL act on that vector and project it. Which is to say *a situation may be constructed where $\\gamma$ changes the left side of the rule without the right, necessarily breaking the equality*. Essentially what we've done is proof by counterexample, ableit somewhat generally. "
   ]
  },
  {
   "cell_type": "markdown",
   "id": "01bf436a",
   "metadata": {},
   "source": [
    "Put another way, if either w or v has a temporal component, when $\\gamma$ goes through the vector by necessity must be altered to remove it, it doesn't matter how exactly. However, on the opposite side, there is no alteration occuring, that is to say, \"no change\". \n",
    "\n",
    "The end result of all this would be something akin to:\n",
    "\n",
    "$$D_a(v^bw_b) = v^{b '} D_aw_b + w_bD_av^b$$\n",
    "\n",
    "Where the prime vector has been altered in some fashion. This is not a general rule, this is just our specific case. \n",
    "\n",
    "How exactly $\\gamma$ acts can be left vague. Good for us! "
   ]
  },
  {
   "cell_type": "markdown",
   "id": "ecef8ecf",
   "metadata": {},
   "source": [
    "<a id='P10'></a>\n",
    "\n",
    "# Problem 10 \\[Back to [top](#toc)\\]\n",
    "$$\\label{P10}$$\n",
    "\n",
    "*Show that the twist $\\omega_{ab}$ has to vanish as a consequence of $n^a$ being rotation-free. See **Problem 5**.*\n"
   ]
  },
  {
   "cell_type": "markdown",
   "id": "4fc38a58",
   "metadata": {},
   "source": [
    "What **Problem 5** actually shows is that $\\omega_a$ is rotation free. That said, since it is rotation free, and $n^a$ is constructed from it and the metric, obviously the same holds for it. \n",
    "\n",
    "So the question is why does this make the twist vanish? (Such an excellent name, the Twist...) The twist is given by 2.48.\n",
    "\n",
    "$$ \\omega_{ab} = \\gamma_a^c \\gamma_b^d \\nabla_{[c}n_{d]} $$\n",
    "\n",
    "And the rotation-free requirement is 2.23.\n",
    "\n",
    "$$\\omega_{[a} \\nabla_b \\omega_{c]} = 0 = n_{[a} \\nabla_b n_{c]} $$\n",
    "\n",
    "**Problem 7** can confirm that this is actually a direct substitution, just with a negative sign. Notably since there are two of them the signs cancel. "
   ]
  },
  {
   "cell_type": "markdown",
   "id": "2f420f35",
   "metadata": {},
   "source": [
    "Note that all $\\omega$ are actually $\\alpha\\Omega$ which means we actuallky have:\n",
    "\n",
    "$$ \\omega_{ab} = \\gamma_a^c \\gamma_b^d \\alpha \\nabla_{[c}\\Omega_{d]} $$\n",
    "\n",
    "And from 2.20 we know that that antisymmetric portion goes to zero. Thus everything goes to zero and the twist vanishes. \n",
    "\n",
    "...Seems too simple..."
   ]
  },
  {
   "cell_type": "markdown",
   "id": "eb483591",
   "metadata": {},
   "source": [
    "<a id='P11'></a>\n",
    "\n",
    "# Problem 11 \\[Back to [top](#toc)\\]\n",
    "$$\\label{P11}$$\n",
    "\n",
    "*Show that the extrinsic curvature of t=constant hypersurfaces of the Schwarzchild metric 2.35 vanishes.*"
   ]
  },
  {
   "cell_type": "markdown",
   "id": "e2c04d9b",
   "metadata": {},
   "source": [
    "The curvature is given by 2.49\n",
    "\n",
    "$$ K_{ab} = -\\gamma^c_a\\gamma^d_b\\nabla_c n_d $$.\n",
    "\n",
    "We just need to evaluate this for Schwarzchild geometry. Which we actually have outlined in other places. The spatial metric is 2.39\n",
    "\n",
    "$$ \\gamma_{ab} = \\left( 1 + \\frac{M}{2r}\\right)^4 diag(0,1,r^2,r^2sin^2\\theta) $$\n",
    "\n",
    "And the normal vector is \n",
    "\n",
    "$$ n^a = -g^{ab}\\omega_b = \\frac{1+M/2r}{1-M/2r}(1,0,0,0) $$\n",
    "\n",
    "Now, these are not exactly in the right forms. But we can alter the curvature equation to *make* it the right forms!\n",
    "\n"
   ]
  },
  {
   "cell_type": "markdown",
   "id": "b44280df",
   "metadata": {},
   "source": [
    "$$ K_{ab} = - g^{cf}g^{dg}g_{dh} \\gamma_{fa}\\gamma_{gb}\\nabla_c n^h $$."
   ]
  },
  {
   "cell_type": "markdown",
   "id": "b21d22db",
   "metadata": {},
   "source": [
    "Now, in OUR metric, these terms only exist in certain locations. The easiest result is to remove all non-diagonals.\n",
    "\n",
    "$$ K_{ab} = - g^{ca}g^{db}g_{dh} \\gamma_{aa}\\gamma_{bb}\\nabla_c n^h $$.\n",
    "\n",
    "$$ K_{ab} = - g^{ca} \\delta^b_h \\gamma_{aa}\\gamma_{bb}\\nabla_c n^h $$.\n",
    "\n",
    "$$ K_{ab} = - g^{ca} \\gamma_{aa}\\gamma_{bb}\\nabla_c n^b $$."
   ]
  },
  {
   "cell_type": "markdown",
   "id": "f8be9bde",
   "metadata": {},
   "source": [
    "And that seals it! The only time n exists is when b=t, but when b=t, the $\\gamma$ does not exist! and the other way around is true as well meaning that, no matter what, the extrinsic curvature will vanish. Now at first we wonder why we need to think about why t=const here, what if t wasn't const? Well. Remember that the hypersurfaces we've been modeling this entire time have t=const as the assumption the *entire time*. It's baked in to what we've done above. \n",
    "\n",
    "NOTE: the index notation here is bad. But the argument is still correct. Having done other problems, though, we now recognize this problem as essentially pointing out that there is no shift vector. --Review GM. "
   ]
  },
  {
   "cell_type": "markdown",
   "id": "d3c1547b",
   "metadata": {},
   "source": [
    "<a id='P12'></a>\n",
    "\n",
    "# Problem 12 \\[Back to [top](#toc)\\]\n",
    "$$\\label{P12}$$\n",
    "\n",
    "*Show that the acceleration $a_a$ is purely spatial, $n^aa_a = 0$*"
   ]
  },
  {
   "cell_type": "markdown",
   "id": "7fe5e6ab",
   "metadata": {},
   "source": [
    "The grief that this problem gave is is only made worse by the fact that the answer is so trivial.\n",
    "\n",
    "$$ n^aa_a = n^an^b\\nabla_bn_a = n^bn^a\\nabla_bn_a = 0 $$\n",
    "\n",
    "Yaaaaay."
   ]
  },
  {
   "cell_type": "markdown",
   "id": "15d45ba1",
   "metadata": {},
   "source": [
    "<a id='P13'></a>\n",
    "\n",
    "# Problem 13 \\[Back to [top](#toc)\\]\n",
    "$$\\label{P13}$$\n",
    "\n",
    "*Show that the acceleration $a_a$ is related to the lapse $\\alpha$ according to* \n",
    "\n",
    "$$ a_a = D_a ln \\alpha $$\n",
    "\n",
    "Solved in **Problem 2.10** of Mini Numerical Relativity.\n",
    "\n",
    "$$ a_a = n^b \\nabla_b n_a $$\n",
    "\n",
    "$$ \\Rightarrow a_a = - n^b \\nabla_b \\alpha \\nabla_a t $$\n",
    "\n",
    "$$ \\Rightarrow a_a = - n^b \\alpha \\nabla_b \\nabla_a t - n^b (\\nabla_b \\alpha) (\\nabla_a t)   $$\n",
    "\n",
    "$$ \\Rightarrow a_a = - n^b \\alpha \\nabla_a \\nabla_b t - n^b (\\nabla_b \\alpha) (\\nabla_a t)   $$\n",
    "\n",
    "$$ \\Rightarrow a_a = + \\alpha n^b \\nabla_a \\frac1\\alpha n_b - n^b (\\nabla_b \\alpha) (\\nabla_a t)   $$\n",
    "\n",
    "$$ \\Rightarrow a_a = n^b \\nabla_a n_b + \\alpha n^b n_b \\nabla_a \\frac1\\alpha - n^b (\\nabla_b \\alpha) (\\nabla_a t)   $$\n",
    "\n",
    "$$ \\Rightarrow a_a = 0 - \\alpha \\nabla_a \\frac1\\alpha - n^b (\\nabla_b \\alpha) (\\nabla_a t)   $$\n",
    "\n",
    "$$ \\Rightarrow a_a = - \\alpha \\nabla_a \\frac1\\alpha + n^b n_a \\frac1\\alpha (\\nabla_b \\alpha)    $$\n",
    "\n",
    "$$ \\Rightarrow a_a = - \\alpha \\nabla_a \\frac1\\alpha + (\\gamma^b_a - \\delta^b_a) (\\nabla_b ln \\alpha)    $$\n",
    "\n",
    "$$ \\Rightarrow a_a = \\nabla_a ln\\alpha + D_a ln\\alpha - \\delta^b_a \\nabla_b ln \\alpha    $$\n",
    "\n",
    "$$ \\Rightarrow a_a = \\nabla_a ln\\alpha + D_a ln\\alpha - \\nabla_a ln \\alpha    $$\n",
    "\n",
    "$$ \\Rightarrow a_a = D_a ln\\alpha $$"
   ]
  },
  {
   "cell_type": "markdown",
   "id": "1ad9580f",
   "metadata": {},
   "source": [
    "<a id='P14'></a>\n",
    "\n",
    "# Problem 14 \\[Back to [top](#toc)\\]\n",
    "$$\\label{P14}$$\n",
    "\n",
    "*Find the acceleration $a_a$ for the normal observer 2.38 in Schwarzchild spacetime.*\n",
    "\n",
    "The definition of acceleration is $a_a = n^b \\nabla_b n_a$. For the Schwarzchild metric we would need to grab Christoffels to deal with this... and for the alternative method we would ALSO need them so egh let's just go grab them from [2](#2). Now that we have them, we can use 2.38:\n",
    "\n",
    "$$ n^a = \\frac{1+M/2r}{1-M/2r}(1,0,0,0) $$\n",
    "\n",
    "This means, rather obviously, that only $n^t$ actually exists. "
   ]
  },
  {
   "cell_type": "markdown",
   "id": "258dddde",
   "metadata": {},
   "source": [
    "The normal observer is the one moving along the normal vector, which essentially means that the acceleration itself is only happening in the time component as well. (We can see this since the xyz terms in our expression all vanish.) NOTE: Athis can also be thought of as a lack of shift vector. --Review GM. \n",
    "\n",
    "Curiously the sum over the b index also goes to nothing except for t, which leaves us with\n",
    "\n",
    "$$ a_t = n^t \\nabla_t n_t.$$\n",
    "\n",
    "Of course, the issue is that our vector n isn't in the right index form, so we have to:\n",
    "\n",
    "$$ = n^t \\nabla_t g_{tt} n^t.$$"
   ]
  },
  {
   "cell_type": "markdown",
   "id": "c046ecbf",
   "metadata": {},
   "source": [
    "Now we happen to just know what the Schwarzchild metric is, so this isn't an issue. The tt component is $(-\\frac{1-M/2r}{1+M/2r})^2$ which gives us... a result of $-\\frac{1-M/2r}{1+M/2r}$. However, this is entirely independent of time. The partial derivative portion goes to zero... but what of the Christoffel? \n",
    "\n",
    "$$ = - n^t n_u \\Gamma^u_{tt}$$\n",
    "\n",
    "Only one of the Christoffels exists, $\\Gamma^r_{tt}$. However, this means we have to use $u_r$! But as we know from Mini Numerical Relativity 2.36, that term is ALWAYS zero. Which means the entire thing goes to zero! No acceleration! \n",
    "\n",
    "But wait, didn't we say there should be temporal acceleration?\n",
    "\n",
    "Well, as it turns out, it's merely that there COULD be. As it is, the normal observer is effectively moving forward in time at a constant rate. (whatever it thinks that is at the moment.) We can also think of this as the LAPSE being constant, which is to say, no distortion. Which is kind of really weird if you think about it... \n",
    "\n",
    "But we actually know what that lapse is, since we have $n^a$. \n",
    "\n",
    "$$ \\alpha = \\frac{1-M/2r}{1+M/2r} $$\n",
    "\n",
    "From Mini Numerical Relativity 2.40. "
   ]
  },
  {
   "cell_type": "markdown",
   "id": "815352ce",
   "metadata": {},
   "source": [
    "# A.1 An Aside on Lie Derivatives\n",
    "\n",
    "The book introduced Lie Derivatives and said to refer to the appendix and guess what, there are problems back there, so we're going to DO them. \n",
    "\n",
    "<a id='PA1'></a>\n",
    "\n",
    "# Problem A1 \\[Back to [top](#toc)\\]\n",
    "$$\\label{PA1}$$\n",
    "\n",
    "*Show that the expression*\n",
    "\n",
    "$$ \\mathcal{L}_{\\textbf X} T^a_b = X^c \\nabla_c T^a_b - T^c_b \\nabla_c X^a + T^a_c \\nabla_b X^c $$\n",
    "\n",
    "*where $\\nabla_a$ denotes a covariant derivative with a symmetric connection, is equivalent to A.8*\n",
    "\n",
    "$A.8: \\mathcal{L}_{\\textbf X} T^a_b = X^c \\partial_c T^a_b - T^c_b \\partial_c X^a + T^a_c \\partial_b X^c $"
   ]
  },
  {
   "cell_type": "markdown",
   "id": "a3486843",
   "metadata": {},
   "source": [
    "The symmetric connection merely means theat the Christoffels are symmetric on their lower indeces. Which... well we kind of usually assume they are but in the GENERAL Lie Derivative case they may not be. Regardless, what we ultimately need here is to show that every Christoffel term vanishes, leaving only the partial derivative terms. For that, we turn to our book on General Relativity. Equations 6.33 through 6.35 give us all the information we need about covariant derivatives acting on tensors. We already know the partial derivative terms are prsent in A.8, so we actually want to show that:\n",
    "\n",
    "$$ 0 = X^c(\\Gamma^a_{uc} T^u_b - \\Gamma^u_{cb} T^a_u) - T^c_b(\\Gamma^a_{uc} X^u) + T^a_c(\\Gamma^c_{ub} X^u) $$\n"
   ]
  },
  {
   "cell_type": "markdown",
   "id": "d0d66e2e",
   "metadata": {},
   "source": [
    "Note that every term is summed over both c and u. WIth some clever index shuffling, we can arrive at:\n",
    "\n",
    "$$ \\Rightarrow 0 = X^u\\Gamma^a_{cu} T^c_b - X^u\\Gamma^c_{ub} T^a_c - T^c_b\\Gamma^a_{uc} X^u + T^a_c\\Gamma^c_{ub} X^u $$"
   ]
  },
  {
   "cell_type": "markdown",
   "id": "02aae462",
   "metadata": {},
   "source": [
    "Which only cancels if the Christoffels in the first and third terms can shuffle their lower indeces. Which is, in fact, a thing we were given. "
   ]
  },
  {
   "cell_type": "markdown",
   "id": "c742d6df",
   "metadata": {},
   "source": [
    "<a id='PA2'></a>\n",
    "\n",
    "# Problem A2 \\[Back to [top](#toc)\\]\n",
    "$$\\label{PA2}$$\n",
    "\n",
    "*Show that $\\mathcal{L}_{\\textbf X}(\\nu^a\\omega_b) = \\nu^a \\mathcal{L}_{\\textbf X}\\omega_b + \\omega_b \\mathcal{L}_{\\textbf X}(\\nu^a) $*\n",
    "\n",
    "Ah, our good friend the product rule. \n",
    "\n",
    "This is not as trivial as it appears to be, for the equation relating the Lie derivative of a tensor is separate from that of the Lie derivative of a vector/one form. A.8 is the tensor, A.13 is the vector, and A.14 is the one form. Let's make the relation explicit. "
   ]
  },
  {
   "cell_type": "markdown",
   "id": "24cd88bf",
   "metadata": {},
   "source": [
    "$$\\mathcal{L}_{\\textbf X}(\\nu^a\\omega_b) = \\nu^a \\mathcal{L}_{\\textbf X}\\omega_b + \\omega_b \\mathcal{L}_{\\textbf X}(\\nu^a) $$\n",
    "\n",
    "$$\\Rightarrow X^c \\nabla_c (\\nu^a\\omega_b) - (\\nu^c\\omega_b)\\nabla_c X^a + (\\nu^a\\omega_c)\\nabla_b X^c = \\nu^a X^c \\nabla_c \\omega_b + \\nu^a \\omega_c \\nabla_b X^c + \\omega_b X^c \\nabla_c \\nu^a  - \\omega_b \\nu^c \\nabla_c X^a $$\n",
    "\n",
    "Using the covariant derivative version to make everything match up. Now covariant derivatives DO obey the product rule. "
   ]
  },
  {
   "cell_type": "markdown",
   "id": "e6b0e793",
   "metadata": {},
   "source": [
    "$$\\Rightarrow X^c \\nu^a \\nabla_c \\omega_b + X^c \\omega_b \\nabla_c \\nu^a- (\\nu^c\\omega_b)\\nabla_c X^a + (\\nu^a\\omega_c)\\nabla_b X^c = \\nu^a X^c \\nabla_c \\omega_b + \\nu^a \\omega_c \\nabla_b X^c + \\omega_b X^c \\nabla_c \\nu^a  - \\omega_b \\nu^c \\nabla_c X^a $$\n",
    "\n",
    "$$\\Rightarrow X^c \\nu^a \\nabla_c \\omega_b + X^c \\omega_b \\nabla_c \\nu^a = \\nu^a X^c \\nabla_c \\omega_b  + \\omega_b X^c \\nabla_c \\nu^a  $$\n",
    "\n",
    "Which is now obviously true. "
   ]
  },
  {
   "cell_type": "markdown",
   "id": "9db4609f",
   "metadata": {},
   "source": [
    "<a id='PA3'></a>\n",
    "\n",
    "# Problem A3 \\[Back to [top](#toc)\\]\n",
    "$$\\label{PA3}$$\n",
    "\n",
    "*Show that for a p-form $\\tilde{\\pmb{\\Omega}}$, $ \\mathcal{L}_{\\pmb X}\\tilde{\\pmb d}\\tilde{\\pmb{\\Omega}} = \\tilde{\\pmb d}\\mathcal{L}_{\\pmb X}\\tilde{\\pmb{\\Omega}} $*\n",
    "\n",
    "Now that's a mess of bolding. "
   ]
  },
  {
   "cell_type": "markdown",
   "id": "5f0e61ff",
   "metadata": {},
   "source": [
    "Okay so annoyingly the trick to how to deal with this comes from A.18, which is in the NEXT SECTION and we didn't even look at it, harumph. Anyway, the expression above is annoying, let's write it out a little differently. \n",
    "\n",
    "$$ \\mathcal{L}_{\\pmb X} \\partial_a \\Omega_{bcdef...} $$\n",
    "\n",
    "Now we know the one-form is just the \"gradient\" (or what we often think of as the gradient), and all it does is take partial derivatives of every single component in the p-form. \n",
    "\n",
    "Well guess what, derivatives commute and can be taken in any order. However, from a cursory inspection of A.18 it appears constants are thrown into the middle of everything, so it's not eactly a trivial result... The first term is the problem child--every subsequent term has the $\\Omega$ out front where the derivative can easily access it no problem. \n",
    "\n",
    "But the first term...\n",
    "\n",
    "$$ \\mathcal{L}_{\\pmb X} \\Omega_{bcdef...} = X^o \\nabla_o \\Omega_{bcdef...} + \\text{nice terms} $$\n",
    "\n",
    "Now if we add the one-form back in, \n",
    "\n",
    "$$ \\partial_a \\mathcal{L}_{\\pmb X} \\Omega_{bcdef...} = \\partial_a X^o \\nabla_o \\Omega_{bcdef...} + \\text{nice terms} $$\n",
    "\n",
    "Now for the other relation, we actually get two terms out since if the Lie Derivative acts on the entire \"one form\" at once, it produces a term for every single index, including the index on the exterior derivative.\n",
    "\n",
    "\n",
    "$$  \\mathcal{L}_{\\pmb X} \\partial_a \\Omega_{bcdef...} = X^o \\nabla_o \\partial_a \\Omega_{bcdef...} + \\partial_o \\Omega_{bcdef...}\\nabla_a X^o + \\text{nice terms} $$\n",
    "\n",
    "Because we didn't have a term that changed the differential index before. However, all the \"nice terms\" are identical and just go poof, making the equality:\n",
    "\n",
    "$$ \\partial_a X^o \\nabla_o \\Omega_{bcdef...} = X^o \\nabla_o \\partial_a \\Omega_{bcdef...} + \\partial_o \\Omega_{bcdef...}\\nabla_a X^o $$\n",
    "\n",
    "Which we might be able to work with, let's see. "
   ]
  },
  {
   "cell_type": "markdown",
   "id": "735115a6",
   "metadata": {},
   "source": [
    "Expand the left side by the product rule.\n",
    "\n",
    "$$ \\Rightarrow \\nabla_o \\Omega_{bcdef...} \\partial_a X^o + X^o \\partial_a \\nabla_o \\Omega_{bcdef...} = X^o \\nabla_o \\partial_a \\Omega_{bcdef...} + \\partial_o \\Omega_{bcdef...}\\nabla_a X^o $$\n",
    "\n",
    "Since derivatives commute we have the two terms closest to the equals sign cancel.\n",
    "\n",
    "$$ \\Rightarrow \\nabla_o \\Omega_{bcdef...} \\partial_a X^o  = \\partial_o \\Omega_{bcdef...}\\nabla_a X^o $$"
   ]
  },
  {
   "cell_type": "markdown",
   "id": "ce8c8f25",
   "metadata": {},
   "source": [
    "Now this is quite promising. In fact, covariant and partial derivatives are interchangeable... IF we have a symmetric affine connection, that is, that the Christoffels commute. Notably, this assumption has been *implicit* in all our work so far since we relied on A.11, A.13, A.14, all of which use the covariant derivative version. \n",
    "\n",
    "We are not sure this assumption is valid, to be sure... HOWEVER! The *general* form of the Lie Derivative uses partial derivaties, so if we doubt this step, we can revert to A.8 and use the partial derivative version. Which means that, even in the GENERAL case...\n",
    "\n",
    "$$ \\Rightarrow \\partial_o \\Omega_{bcdef...} \\partial_a X^o  = \\partial_o \\Omega_{bcdef...}\\partial_a X^o $$\n",
    "\n",
    "Which IS clearly true and what we sought to prove. \n",
    "\n",
    "From work elsewhere it's seeming like it's a very unusual day when the Christoffels can't shuffle their lower indeces. In fact by the definition we generally use... it's always true so long as the metric is symmetric. Which it better be in relativity. Thus, we are free to replace Lie derivative terms at will with no fear of consequences. "
   ]
  },
  {
   "cell_type": "markdown",
   "id": "d4ba352f",
   "metadata": {},
   "source": [
    "<a id='PA4'></a>\n",
    "\n",
    "# Problem A4 \\[Back to [top](#toc)\\]\n",
    "$$\\label{PA4}$$\n",
    "\n",
    "*Let $x^a(\\lambda)$ be the integral curves of a vector field $x^a$, and let $Y^a$ be a second vector field. Show that if $Y^a$ is **Lie dragged** along $X^a$, $\\mathcal{L}_{\\pmb X}Y^a = 0$, then it will connect points of equal $\\lambda$ along the congruence $x^a(\\lambda)$*\n",
    "\n",
    "Okay let's just try to evaluate this, as a vector field IS a vector, in a way. \n",
    "\n",
    "$$ \\mathcal{L}_{\\pmb X}Y^a $$\n",
    "\n",
    "$$ = X^b \\nabla_b Y^a - Y^b \\nabla_b X^a $$\n",
    "\n",
    "$$ = [X,Y]^a $$\n",
    "\n",
    "So we are actually *given* that this equals zero. We need to take this zero and, from it, show that Y connects poitns of equal $\\lambda$ along the given congruence. What we're doing is looking for a situation where this commutator equals zero. This is obviously only true when the fields are equal to each other, that is, X=Y. (Or one of them is zero but that's trivial.)"
   ]
  },
  {
   "cell_type": "markdown",
   "id": "decbd440",
   "metadata": {},
   "source": [
    "This means that Y has the same integral curves as X. Thus we have shown what we sought. \n",
    "\n",
    "(Mild confusion... we'll see if this leads to any problems later.)\n",
    "\n",
    "(Okay, HEAVY confusion now, but it seems irrelevant so far so.. let's just leave it. --Review GM)"
   ]
  },
  {
   "cell_type": "markdown",
   "id": "fefcf032",
   "metadata": {},
   "source": [
    "<a id='P15'></a>\n",
    "\n",
    "# Problem 15 \\[Back to [top](#toc)\\]\n",
    "$$\\label{P15}$$\n",
    "\n",
    "*Following the example of **Problem 7**, show that the 4-dimensional Reimann tensor $^{(4)}R_{abcd}$ can be written as:*\n",
    "\n",
    "$$ ^{(4)}R_{abcd} = \\gamma^p_a \\gamma^q_b \\gamma^r_c \\gamma^s_d {}^{(4)}R_{pqrs} - 2\\gamma_a^p \\gamma_b^q \\gamma^r_{[c} n_{d]} n^s {}^{(4)}R_{pqrs} - 2\\gamma_c^p\\gamma_d^q\\gamma^r_{[a}n_{b]}n^s{}^{(4)}R_{pqrs} +  2\\gamma_a^p \\gamma^r_{[c} n_{d]} n_b n^q n^s {}^{(4)}R_{pqrs} - 2\\gamma_b^p\\gamma^r_{[c}n_{d]}n_an^qn^s{}^{(4)}R_{pqrs} $$"
   ]
  },
  {
   "cell_type": "markdown",
   "id": "00b2079e",
   "metadata": {},
   "source": [
    "THIS HAS BEEN CONFIRMED IN SCRATCH WORK! However, it is STUPENDOUSLY long. And a bit arbitrary. But we'll outline what was done so it can be refernced later. (Also drawing on some of a failed attempt.) \n",
    "\n",
    "First of all, just apply four g metrics to R to get ggggR. Immediately expand all the gs into ($\\gamma+N$) form. Which means we will end up with SIXTEEN terms of $R_{pqrs}$. For ease of typing let $\\gamma \\rightarrow L$. The results will be:\n",
    "\n",
    "LLLL LLNL LLLN LLNN\n",
    "\n",
    "NLLL NLNL NLLN NLNN\n",
    "\n",
    "LNLL LNNL LNLN LNNN\n",
    "\n",
    "NNLL NNNL NNLN NNNN\n",
    "\n",
    "Now, the top left LLLL term obviously exists in the answer. It's not obvious, but all the 3-L terms also exist in the next two terms. One can see this HAS to be the case as the antisymmetry will split the 3L terms into four total terms. With a lot of index finagling (NEVER adjusting abcd, only pqrs) it can be shown that they map directly. \n",
    "\n",
    "The 2L terms are a bit different, as there are six of them, not four. Working backwards, we found that the four terms in the relation we seek to show appear in the CENTER of the 4x4 square. That means the 9 top-left terms are all included in the final relation, and in fact completely describe it. \n",
    "\n",
    "So now, why do the last seven terms go to zero? \n",
    "\n",
    "NNNN is the easiest to see. \n",
    "\n",
    "$$ n_an_bn_cn_dn^pn^qn^rn^s R_{pqrs} = - n_an_bn_cn_dn^pn^qn^sn^r R_{pqrs} $$ \n",
    "\n",
    "This is due to the antysimmetry of R on indices 34. This also works on 12. Because the n terms can shuffle (and $\\gamma$ cannot), these n-terms uniquely go to zero when their indices can be shuffled. Which means that any term with NN on 12 or 34 goes to zero! Which, wouldn't you know it, all of our 7 remaining terms DO, and the 9 terms we kept DO NOT. \n",
    "\n",
    "AND SO THE RELATION IS PROVEN. \n",
    "\n",
    "Below is the nonsense of a failed attempt that, nonetheless, can be used to see that, yes, the relation we seek will in fact have 9 terms in it. "
   ]
  },
  {
   "cell_type": "markdown",
   "id": "5194a5df",
   "metadata": {},
   "source": [
    "Now as we recall **Problem 7** was annoying and involved some \"questionable\" index shuffling, but we'll see if we can do it agian. The antisymmetric parts are a bit problematic.. let's examine what they actually mean.\n",
    "\n",
    "$$ \\gamma^r_{[c} n_{d]} = \\frac12 (\\gamma^r_c n_d - \\gamma^r_d n_c) $$\n",
    "\n",
    "notably this is actually helpful if we EXPAND, then it'll get rid of all the 2-coefficients and give us more terms, but all temrs that are more similar to each other. \n",
    "\n",
    "$$ ^{(4)}R_{abcd} = \\gamma^p_a \\gamma^q_b \\gamma^r_c \\gamma^s_d {}^{(4)}R_{pqrs} - \\gamma_a^p \\gamma_b^q \\gamma^r_{c} n_{d} n^s {}^{(4)}R_{pqrs} + \\gamma_a^p \\gamma_b^q \\gamma^r_{d} n_{c} n^s {}^{(4)}R_{pqrs} - \\gamma_c^p\\gamma_d^q\\gamma^r_{a}n_{b}n^s{}^{(4)}R_{pqrs} + \\gamma_c^p\\gamma_d^q\\gamma^r_{b}n_{a}n^s{}^{(4)}R_{pqrs} + \\gamma_a^p \\gamma^r_{c} n_{d} n_b n^q n^s {}^{(4)}R_{pqrs} - \\gamma_a^p \\gamma^r_{d} n_{c} n_b n^q n^s {}^{(4)}R_{pqrs} - \\gamma_b^p\\gamma^r_{c}n_{d}n_an^qn^s{}^{(4)}R_{pqrs} + \\gamma_b^p\\gamma^r_{d}n_{c}n_an^qn^s{}^{(4)}R_{pqrs} $$\n"
   ]
  },
  {
   "cell_type": "markdown",
   "id": "40323eba",
   "metadata": {},
   "source": [
    "$$ \\Rightarrow ^{(4)}R_{abcd} = \\left(\\gamma^p_a \\gamma^q_b \\gamma^r_c \\gamma^s_d  - \\gamma_a^p \\gamma_b^q \\gamma^r_{c} n_{d} n^s + \\gamma_a^p \\gamma_b^q \\gamma^r_{d} n_{c} n^s - \\gamma_c^p\\gamma_d^q\\gamma^r_{a}n_{b}n^s + \\gamma_c^p\\gamma_d^q\\gamma^r_{b}n_{a}n^s + \\gamma_a^p \\gamma^r_{c} n_{d} n_b n^q n^s  - \\gamma_a^p \\gamma^r_{d} n_{c} n_b n^q n^s- \\gamma_b^p\\gamma^r_{c}n_{d}n_an^qn^s + \\gamma_b^p\\gamma^r_{d}n_{c}n_an^qn^s\\right){}^{(4)}R_{pqrs} $$"
   ]
  },
  {
   "cell_type": "markdown",
   "id": "cab05c97",
   "metadata": {},
   "source": [
    "So basically we need to show that the things in the parentheses reduce to nothing more than a \"change the index of R\" situation. Which pretty clearly means it becomes $\\delta^p_a\\delta^q_b\\delta^r_c\\delta^s_d$\n",
    "\n",
    "$$ ^{(4)}R_{abcd} = \\left(\\gamma^p_a \\gamma^q_b \\gamma^r_c \\gamma^s_d  - \\gamma_a^p \\gamma_b^q \\gamma^r_{c} n_{d} n^s + \\gamma_a^p \\gamma_b^q \\gamma^r_{d} n_{c} n^s - \\gamma_c^p\\gamma_d^q\\gamma^r_{a}n_{b}n^s + \\gamma_c^p\\gamma_d^q\\gamma^r_{b}n_{a}n^s + \\gamma_a^p \\gamma^r_{c} n_{d} n_b n^q n^s  - \\gamma_a^p \\gamma^r_{d} n_{c} n_b n^q n^s- \\gamma_b^p\\gamma^r_{c}n_{d}n_an^qn^s + \\gamma_b^p\\gamma^r_{d}n_{c}n_an^qn^s\\right){}^{(4)}R_{pqrs} $$"
   ]
  },
  {
   "cell_type": "markdown",
   "id": "a8767707",
   "metadata": {},
   "source": [
    "Much like **Problem 7** even after much monkeying, the relations just don't seem to be equal. "
   ]
  },
  {
   "cell_type": "markdown",
   "id": "c459b12a",
   "metadata": {},
   "source": [
    "<a id='P16'></a>\n",
    "\n",
    "# Problem 16 \\[Back to [top](#toc)\\]\n",
    "$$\\label{P16}$$\n",
    "\n",
    "*Show that*\n",
    "\n",
    "$$ \\nabla_a V^a = \\frac1\\alpha D_a (\\alpha V^a) $$\n",
    "\n",
    "*For any spatial vector $V^a$. Hint: One possible derivation uses 2.51 and 2.62; a more elegant aproach starts with the identity A.44*\n",
    "\n",
    "2.51 is from **Problem 13** and is $a_a = D_a ln \\alpha$\n",
    "\n",
    "2.62 is the long \n",
    "\n",
    "$$ D_a V^b = \\gamma^p_a\\gamma^b_q\\nabla_pV^q = \\gamma^p_a(g^b_q+n_qn^b) \\nabla_pV^q = \\gamma^p_a \\nabla_p V^b - \\gamma^p_a n^b V^q \\nabla_p n_q = \\gamma_a^p \\nabla_p V^b - n^bV^e\\gamma^p_a\\gamma^q_e\\nabla_pn_q = \\gamma^p_a\\nabla_pV^b + n^bV^eK_{ae}$$\n",
    "\n",
    "Meanwhile A.44 gives us\n",
    "\n",
    "$$\\nabla_a X^a = \\frac{1}{\\sqrt{|g|}} \\partial_a (\\sqrt{|g|}X^a)$$"
   ]
  },
  {
   "cell_type": "markdown",
   "id": "06a2d5be",
   "metadata": {},
   "source": [
    "Clearly A.44 is the prefered option. in fact we remember deriving it. Let's remind ourselves what index-less g means from General Relativity... Right, it's the determinant of the metric. \n",
    "\n",
    "OKAY so we found the ugly solution but it's on our notebook so we're gonna have to write it up later BUT THE PROBLEM IS SOLVED HAH. (Review GM: the idea was right, but there was an error. That error is now fixed.)"
   ]
  },
  {
   "cell_type": "markdown",
   "id": "7f8e2796",
   "metadata": {},
   "source": [
    "We're keeping the above note for posterity's sake. Here's the solution.\n",
    "\n",
    "$$ \\frac1\\alpha D_a (\\alpha V^a) $$\n",
    "$$ = D_a V^a + \\frac1\\alpha V^a D_a \\alpha $$\n",
    "$$ = \\gamma^p_a \\nabla_p V^a + n^aV^eK_{ae} + V^a a_a $$\n",
    "$$ = \\gamma^p_a \\nabla_p V^a + n^aV^eK_{ae} + V^a n^b \\nabla_b n_a $$\n",
    "\n",
    "First off, the middle term goes to zero, as K and V are both spatial, so the contraction is spatial, and spatial anything goes to zero when contracted with the normal. The last term is also zero, but it'll take a bit more to show that: \n",
    "\n",
    "$$ = \\gamma^p_a \\nabla_p V^a + V^a n_b \\nabla^b n_a $$\n",
    "$$ = \\gamma^p_a \\nabla_p V^a + V^a n_a \\nabla^b n_b $$\n",
    "\n",
    "$V^a n_a$ is always zero. \n",
    "\n",
    "$$ = \\gamma^p_a \\nabla_p V^a $$\n",
    "\n",
    "And that $\\gamma$ operator is the projection onto spatial, if it acts on something that is already spatial it does nothing. No amount of derivatives could un-spatial-ify (heh) a purely spatial vector field. However, we need to be careful, we can't just replace the projector up into its two componetns. \n",
    "\n",
    "$$ = \\delta^p_a \\nabla_p V^a + n^pn_a\\nabla_pV^a$$\n",
    "\n",
    "The second term is the \"change\" portion, the part that does the projecting. As what we're acting on is spatial, it goes to zero. (We could also accomplish this by just having $n^a$ act on $\\nabla_p V_a$ and result in nothing.)\n",
    "\n",
    "$$ = \\delta^p_a \\nabla_p V^a$$\n",
    "$$ = \\nabla_a V^a$$\n",
    "\n",
    "Which is what we sought to show. "
   ]
  },
  {
   "cell_type": "markdown",
   "id": "2854ee9b",
   "metadata": {},
   "source": [
    "As for why A.44 works, we still have no idea how to correlate the determinant of g to $\\alpha$. But fortunately for us, we don't need to. \n",
    "\n",
    "Addendum: probably something to do with the following identity: $\\sqrt{-g} = \\alpha \\sqrt{\\gamma}$, but we can't get the gamma determinants to cancel. "
   ]
  },
  {
   "cell_type": "markdown",
   "id": "389cdac0",
   "metadata": {},
   "source": [
    "<a id='P17'></a>\n",
    "\n",
    "# Problem 17 \\[Back to [top](#toc)\\]\n",
    "$$\\label{P17}$$\n",
    "\n",
    "*Show that*\n",
    "\n",
    "$$ D_a D_b V^c = \\gamma^p_a \\gamma^q_b \\gamma^c_r \\nabla_p \\nabla_q V^r - K_{ab} \\gamma^c_r n^p \\nabla_p V^r - K^c_a K_{bp} V^p $$."
   ]
  },
  {
   "cell_type": "markdown",
   "id": "341e0dfd",
   "metadata": {},
   "source": [
    "Well we have an answer, but we're fairly certain there shouldn't be a minus sign on the second term. everything else is correct, but let's go through it methodically just to make extra sure. \n",
    "\n",
    "First, expand the derivatives using 2.62 and the definition of hte spatial derivative. \n",
    "\n",
    "$$ D_a D_b V^c = D_a (\\gamma^s_b \\nabla_s V^c) + D_a (n^c V^e K_{be}) = \\gamma^p_a \\gamma^q_b \\gamma^c_r \\nabla_p (\\gamma^s_q \\nabla_s V^r) + \\gamma^p_a \\gamma^q_b \\gamma^c_r \\nabla_p (n^r V^e K_{qe})  $$\n",
    "\n",
    "Now we expand with the product rule, giving us FIVE terms to deal with.\n",
    "\n",
    "$$ \\gamma^p_a \\gamma^q_b \\gamma^c_r (\\nabla_p \\gamma^s_q) (\\nabla_s V^r) + \\gamma^p_a \\gamma^q_b \\gamma^c_r \\gamma^s_q \\nabla_p (\\nabla_s V^r) + \\gamma^p_a \\gamma^q_b \\gamma^c_r n^r V^e  \\nabla_p (K_{qe}) + \\gamma^p_a \\gamma^q_b \\gamma^c_r n^r  K_{qe} \\nabla_p ( V^e ) + \\gamma^p_a \\gamma^q_b \\gamma^c_r V^e K_{qe} \\nabla_p (n^r)  $$\n",
    "\n",
    "We will handle each of these terms individually in what seems to be a random order but really is organized in how simple it is."
   ]
  },
  {
   "cell_type": "markdown",
   "id": "91ca91d3",
   "metadata": {},
   "source": [
    "Now let's look at the terms that go to zero first. \n",
    "\n",
    "$$ \\gamma^p_a \\gamma^q_b \\gamma^c_r (\\nabla_p \\gamma^s_q) (\\nabla_s V^r) $$\n",
    "\n",
    "Now this one can be argued that it goes to zero rather quickly, just shuffle an s and an r...\n",
    "\n",
    "$$ = \\gamma^p_a \\gamma^q_b \\gamma^c_r (\\nabla_p \\gamma^r_q) (\\nabla_s V^s) $$\n",
    "\n",
    "And what we clearly have is a $ D_a \\gamma^c_b $ situation which is known to go to zero. However, as we are being VERY CAREFUL, let's go ahead and expand it and prove it more directly.\n",
    "\n",
    "$$ = \\gamma^p_a \\gamma^q_b \\gamma^c_r (\\nabla_p g^r_q + \\nabla_p (n^r n_q)) (\\nabla_s V^s) $$\n",
    "\n",
    "Now the fact that g vanishes when its covariant derivative is taken is not in question. This leaves us with just the n-terms, which we apply the product rule to. \n",
    "\n",
    "$$ = \\gamma^p_a \\gamma^q_b \\gamma^c_r (n^r \\nabla_p n_q + n_q \\nabla_p n^r) (\\nabla_s V^s) $$\n",
    "\n",
    "Shuffle indices to get the n terms to match. \n",
    "\n",
    "$$ = \\gamma^p_a \\gamma^r_b \\gamma^c_r (n^q \\nabla_p n_q + n_q \\nabla_p n^q) (\\nabla_s V^s) $$\n",
    "\n",
    "And as we all know $n^q \\nabla_p n_q = 0$, so this entire term just vanishes. Note that this only worked BECAUSE we could shuffle indices, which only happened because of the $\\gamma$ terms out front provided by the D. "
   ]
  },
  {
   "cell_type": "markdown",
   "id": "4da7ba5c",
   "metadata": {},
   "source": [
    "The other zero term has a similar trick. \n",
    "\n",
    "$$ \\gamma^p_a \\gamma^q_b \\gamma^c_r n^r V^e  \\nabla_p (K_{qe}) $$\n",
    "\n",
    "Now the OBVIOUS argument is that K is spatial and we can just shuffle an r index into there to make it contract with $n^r$. But we want to make absolutely sure, so we split K up. \n",
    "\n",
    "$$ = - \\gamma^p_a \\gamma^q_b \\gamma^c_r n^r V^e (\\nabla_p \\nabla_q n_e + \\nabla_p (n_q a_e)) $$\n",
    "\n",
    "The second term can be expanded via the product rule.  \n",
    "\n",
    "$$ = - \\gamma^p_a \\gamma^q_b \\gamma^c_r n^r V^e (\\nabla_p \\nabla_q n_e + a_e \\nabla_p (n_q) + n_q \\nabla_p (a_e)) $$\n",
    "\n",
    "Like with the previous 0-term, through index shuffling we can get the normals to interfere destructively. This immediately gets rid of the middle term. (note: this only works when the indices of both n-terms are summed over.)\n",
    "\n",
    "$$ = - \\gamma^p_a \\gamma^q_b \\gamma^c_r n^r V^e (\\nabla_p \\nabla_q n_e + n_q \\nabla_p (a_e)) $$\n",
    "\n",
    "If we expand the acceleraiton...\n",
    "\n",
    "$$ = - \\gamma^p_a \\gamma^q_b \\gamma^c_r n^r V^e (\\nabla_p \\nabla_q n_e + n_q \\nabla_p (n^u \\nabla_u n_e)) $$\n",
    "\n",
    "And apply the product rule...\n",
    "\n",
    "$$ = - \\gamma^p_a \\gamma^q_b \\gamma^c_r n^r V^e (\\nabla_p \\nabla_q n_e + n_q (\\nabla_u n_e)(\\nabla_p n^u)  + n_q n^u \\nabla_p \\nabla_u n_e) $$\n",
    "\n",
    "The middle term vanishes for the same reason. (in fact it doesn't even need to bring in the n term outside the parentheses)\n",
    "\n",
    "$$ = - \\gamma^p_a \\gamma^q_b \\gamma^c_r n^r V^e (\\nabla_p \\nabla_q n_e + n_q n^u \\nabla_p \\nabla_u n_e) $$\n",
    "\n",
    "Now we will visually do the substitutuion, do a qu swap via $\\delta^u_q$ extraction.\n",
    "\n",
    "$$ = - \\gamma^p_a \\gamma^u_b \\gamma^c_r n^r V^e (\\nabla_p \\nabla_u n_e + n_q n^q \\nabla_p \\nabla_u n_e) $$\n",
    "\n",
    "The $n^an_a = -1$ applies. \n",
    "\n",
    "$$ = - \\gamma^p_a \\gamma^u_b \\gamma^c_r n^r V^e (\\nabla_p \\nabla_u n_e - \\nabla_p \\nabla_u n_e) $$\n",
    "\n",
    "Which obviously goes to zero. "
   ]
  },
  {
   "cell_type": "markdown",
   "id": "a9c5fc73",
   "metadata": {},
   "source": [
    "Now those were the zero terms. We have three other terms we need to get into forms that match our goal. \n",
    "\n",
    "$$ \\gamma^p_a \\gamma^q_b \\gamma^c_r \\gamma^s_q \\nabla_p (\\nabla_s V^r) $$\n",
    "\n",
    "Projectors acting on each other can combine. \n",
    "\n",
    "$$ = \\gamma^p_a \\gamma^s_b \\gamma^c_r \\nabla_p (\\nabla_s V^r) $$\n",
    "\n",
    "Set s to q. \n",
    "\n",
    "$$ = \\gamma^p_a \\gamma^q_b \\gamma^c_r \\nabla_p (\\nabla_q V^r) $$\n",
    "\n",
    "Which is exactly what we need for the first term. "
   ]
  },
  {
   "cell_type": "markdown",
   "id": "37bc5a36",
   "metadata": {},
   "source": [
    "Next...\n",
    "\n",
    "$$ \\gamma^p_a \\gamma^q_b \\gamma^c_r V^e K_{qe} \\nabla_p (n^r) $$\n",
    "\n",
    "To simplify this we need to take the definition of the extrinsic curvature and transform it:\n",
    "\n",
    "$$ K_{au} = -\\gamma^p_a \\gamma^r_u \\nabla_p n_r \\rightarrow K^c_a = -\\gamma^p_a \\gamma^{rc} \\nabla_p n_r = \\gamma^p_a \\gamma^c_r \\nabla_p n^r $$\n",
    "\n",
    "Which we actually have in our above term. Note the added minus sign. \n",
    "\n",
    "$$ = -\\gamma^q_b  V^e K_{qe} K^c_a $$\n",
    "\n",
    "Since K is spatial, the projector does nothing.\n",
    "\n",
    "$$ = -K^c_a K_{be} V^e$$\n",
    "\n",
    "And we are free to set e to p.\n",
    "\n",
    "$$ = -K^c_a K_{bp} V^p$$\n",
    "\n",
    "Which is another term we need. "
   ]
  },
  {
   "cell_type": "markdown",
   "id": "27f98c5b",
   "metadata": {},
   "source": [
    "The last term is the problem child. Not because we can't work with it, it's actually just fine, but the sign comes out \"wrong.\" Perhaps the book has a typo? \n",
    "\n",
    "$$ \\gamma^p_a \\gamma^q_b \\gamma^c_r n^r  K_{qe} \\nabla_p ( V^e )  $$\n",
    "\n",
    "Shuffle indices between e and p via $g^{pe}$.\n",
    "\n",
    "$$ = \\gamma^p_a \\gamma^q_b \\gamma^c_r n^r  K_{qp} \\nabla_e ( V^e )  $$\n",
    "\n",
    "Project K. As it is spatial this is just an index adjustment, effectively. K, being symmetric, can have its indeces flipped no issue. \n",
    "\n",
    "$$ = K_{ab} \\gamma^c_r n^r \\nabla_e ( V^e )  $$\n",
    "\n",
    "Shuffle e and r along the top via $g_{er}$\n",
    "\n",
    "$$ = K_{ab} \\gamma^c_r n^e \\nabla_e ( V^r )  $$\n",
    "\n",
    "And we are free to set e to p. \n",
    "\n",
    "$$ = K_{ab} \\gamma^c_r n^p \\nabla_p ( V^r )  $$\n",
    "\n",
    "And this is the term we need--except it's positive, while the problem statement indicates it should be negative. However, we rather meticluously went over the entire process (as you can see above) so we tend to think we're right on this one, and that it's just a typo. "
   ]
  },
  {
   "cell_type": "markdown",
   "id": "ce2bb2bb",
   "metadata": {},
   "source": [
    "<a id='P18'></a>\n",
    "\n",
    "# Problem 18 \\[Back to [top](#toc)\\]\n",
    "$$\\label{P18}$$\n",
    "\n",
    "*Show that $\\mathcal{L}_n K_{ab}$ is purely spatial, $n^a \\mathcal{L}_n K_{ab} = 0 $*\n",
    "\n",
    "Right so let's test this with 2.78.\n",
    "\n",
    "$$ \\mathcal{L}_n K_{ab} = -n^d n^c {}^{(4)}R_{dbac} - \\nabla_a a_b - n^c n_a \\nabla_c a_b - a_a a_b - K^c_b K_{ac} - K_{ca}n_ba^c $$"
   ]
  },
  {
   "cell_type": "markdown",
   "id": "797f05b0",
   "metadata": {},
   "source": [
    "Okay, so, first of all, some of these terms just obviously poof. The acceleration and the Extrinsic Curvature are all, by nature, completely spatial, so the last three terms just poof. \n",
    "\n",
    "$$ n^a \\mathcal{L}_n K_{ab} = -n^a n^d n^c {}^{(4)}R_{dbac} - n^a \\nabla_a a_b - n^a n^c n_a \\nabla_c a_b $$"
   ]
  },
  {
   "cell_type": "markdown",
   "id": "2790b489",
   "metadata": {},
   "source": [
    "The last term has a \"-1\" result that adjusts it. \n",
    "\n",
    "$$ n^a \\mathcal{L}_n K_{ab} = -n^a n^d n^c {}^{(4)}R_{dbac} - n^a \\nabla_a a_b + n^c \\nabla_c a_b $$\n",
    "\n",
    "Those last two terms are equal but opposite in all but indices, and we can reassign at will, so they cancel. \n",
    "\n",
    "$$  = -n^a n^d n^c {}^{(4)}R_{dbac} $$\n",
    "\n",
    "The question now, is... how is this last term zero? Well, 2.75 holds the key.\n",
    "\n",
    "$$ = -n^a n^c (2\\nabla_{[c}\\nabla_{a]} n_b) $$\n",
    "\n",
    "Which, if we expand the antisymmetry...\n",
    "\n",
    "$$ = -n^a n^c (\\nabla_{c}\\nabla_a n_b - \\nabla_{a}\\nabla_{c} n_b)  $$\n",
    "\n",
    "Since derivatives commute this goes to zero. \n",
    "\n",
    "This seems... suspiciously easy. But it is what it is. "
   ]
  },
  {
   "cell_type": "markdown",
   "id": "5f6d1bf9",
   "metadata": {},
   "source": [
    "Did some scratch work, and yes, it does appear that derivatives always commute even when only ONE of them is being summed over. Since both are being summed over, we don't even have to rely on the commutative property: shuffling along the top or the bottom along two different summed indcies is always allowed. So it just goes to zero. "
   ]
  },
  {
   "cell_type": "markdown",
   "id": "a248cf73",
   "metadata": {},
   "source": [
    "<a id='P19'></a>\n",
    "\n",
    "# Problem 19 \\[Back to [top](#toc)\\]\n",
    "$$\\label{P19}$$\n",
    "\n",
    "*Show that $ D_a a_b = -a_a a_b + \\frac1\\alpha D_a D_b \\alpha $.*\n",
    "\n",
    "Umm... Okay, but I find myself asking \"why?\""
   ]
  },
  {
   "cell_type": "markdown",
   "id": "1700327f",
   "metadata": {},
   "source": [
    "And wow, this took all of two minutes to sketch out. \n",
    "\n",
    "$$ \n",
    "\\begin{align}\n",
    "D_aa_b &= D_a D_b ln\\alpha \\\\\n",
    "&= D_a (\\frac1\\alpha D_b \\alpha) \\\\\n",
    "&= (D_b \\alpha)(D_a \\frac1\\alpha) + \\frac1\\alpha D_a D_b \\alpha \\\\\n",
    "&= (\\frac1\\alpha D_b \\alpha)(\\alpha D_a \\frac1\\alpha) + \\frac1\\alpha D_a D_b \\alpha \\\\\n",
    "&= ( D_b ln \\alpha)(D_a ln\\frac1\\alpha) + \\frac1\\alpha D_a D_b \\alpha \\\\\n",
    "&= ( D_b ln \\alpha)(- D_a ln\\alpha) + \\frac1\\alpha D_a D_b \\alpha \\\\\n",
    "&= -a_aa_b + \\frac1\\alpha D_a D_b \\alpha \\\\\n",
    "\\end{align}\n",
    "$$\n",
    "\n",
    "Yeah, that's it. Huh..."
   ]
  },
  {
   "cell_type": "markdown",
   "id": "fa7adddf",
   "metadata": {},
   "source": [
    "<a id='P20'></a>\n",
    "\n",
    "# Problem 20 \\[Back to [top](#toc)\\]\n",
    "$$\\label{P20}$$\n",
    "\n",
    "*Consider a swarm of particls of rest mass m and proper (comoving) number density n, all moving with the same 4-velocity $u^a$. The stress-energy tensor for such a swarm is $T^{ab} = mnu^au^b$. Determine the energy density $\\rho$ and momentum density $S_a$ for the swarm and provide a simple physical interpretation for the terms in your expressions.*"
   ]
  },
  {
   "cell_type": "markdown",
   "id": "7e860b1d",
   "metadata": {},
   "source": [
    "Ooooh! Been a while since we've had a \"practical\" problem. \n",
    "\n",
    "We have our definitions $\\rho = n_an_b T^{ab}; S_a = -\\gamma^b_a n^c T_{bc}$."
   ]
  },
  {
   "cell_type": "markdown",
   "id": "50b168bf",
   "metadata": {},
   "source": [
    "Let's just try substituting in the stress-energy tensor and see what happens. (Note $n^a \\neq n$, different things.) \n",
    "\n",
    "$$ \\rho = n_a n_b mn u^a u^b $$\n",
    "\n",
    "Note that this only contains the normal one-forms, which are always $(-\\alpha,0,0,0).$ Thus, only a=b=t exists. Which naturally makes sense as, generally, the stress-energy tensor's tt component is associated with the energy density. \n",
    "\n",
    "$$ \\rho = n_t n_t mn u^t u^t = mn \\alpha^2 (u^t)^2 $$\n",
    "\n",
    "Oh my! Is that a square of a 4-velocity? If we recall, that ALWAYS equals -1... ah, but only if all the components are there, which is not the case as the normals canceled them out. \n",
    "\n",
    "Regardless, tehre's the energy-density. We can also write it like so:\n",
    "\n",
    "$$ \\rho = n_t n^t mn u^t u_t = -mn u^t u_t$$\n",
    "\n",
    "Wait a minute... this reveals that we don't have to define n at all. For...\n",
    "\n",
    "$$ \\rho = n_a n_b mn u^a u^b = n_a n^b mn u^a u_b = n_a n^a mn u^b u_b $$\n",
    "\n",
    "And both of those sums over n and u equal -1 by known properties. Which means...\n",
    "\n",
    "$$ \\rho = mn $$\n",
    "\n",
    "This is presumably the form we want. And it also makes sense, as it contains mass and how many of them there are. That said, this is just the rest energy density, supposedly they are moving and it should be a little higher...? Hmm. The math checks out though. \n",
    "\n",
    "And we note that the energy density we were thinking of WAS the tt component of the stress-energy tensor, the energy density defined by the equation above is that measured by a normal observer. Which, you know, is convinced it isn't accelerating. ...But are we considering the observer to be normal to the frame or normal to the dust particles? The latter makes sense, but the problem isn't exactly clear. \n",
    "\n",
    "Unsure, moving on. "
   ]
  },
  {
   "cell_type": "markdown",
   "id": "a8b3db54",
   "metadata": {},
   "source": [
    "$$S_a = -\\gamma^b_a n^c mn u_b u_c$$\n",
    "\n",
    "So this is our next relation. We note that the stress-energy tensor very much is NOT spatial, and thus we need to split up our little projector. \n",
    "\n",
    "$$S_a = -g^b_a n^c mn u_b u_c - n^b n_a n^c mn u_b u_c = -n^c mn u_a u_c - n^b n_a n^c mn u_b u_c $$"
   ]
  },
  {
   "cell_type": "markdown",
   "id": "561ed675",
   "metadata": {},
   "source": [
    "For the second term we can pull the same trick we did for $\\rho$, making the us and ns vanish. \n",
    "\n",
    "$$S_a  = -n^c mn u_a u_c - n_a mn$$"
   ]
  },
  {
   "cell_type": "markdown",
   "id": "071a1b1e",
   "metadata": {},
   "source": [
    "Now, what is the contraction $-n^c u_c$? That is what we need to evaluate for the first term. If we continue our assumption that normal means \"in line with the dust particles\" that means that the normal and velocity \"point\" in the same direction. Surely we can make use of this? \n",
    "\n",
    "Perhaps, but nothing's coming to mind. Maybe it'll appear later. What we CAN do is adjust some indices so the normal vector becomes the normal one-form, which we know the value of, reducing the sum over c to just the t components...\n",
    "\n",
    "$$S_a  = -n_c mn u_a u^c - n_a mn = -n_t mn u_a u^t - n_a mn = \\alpha mn u_a \\gamma - n_a mn  $$\n",
    "\n",
    "Now let's think about what this means. \n",
    "\n",
    "$$ S_a = (\\alpha mn \\gamma^2 - \\alpha mn,\\alpha mn v_i \\gamma^2) $$\n",
    "\n",
    "The temporal term can be simplified. \n",
    "\n",
    "$$ S_a = (\\alpha mn (\\gamma^2-1),\\alpha mn v_i \\gamma^2) = \\alpha mn ((\\gamma^2-1),v_i \\gamma^2) = \\alpha \\rho (v^2\\gamma^2,v_i \\gamma^2) $$"
   ]
  },
  {
   "cell_type": "markdown",
   "id": "d08459e1",
   "metadata": {},
   "source": [
    "So, what does this mean, exactly? Well, first of all, the lapse is highly important. Which it kind of has to be if the normals can't be made to factor out. The presence of the energy density is not surprising as S itself is the momentum density. The energy density basically is the total mass in this case so naturally mass times velocity is USUALLY what momentum is. However, we note that it's not a strict mass-times-four-velocity result, we have gammas (not metric determinants, these are Lorentz factors) and the three-velocity. Notably the temporal component only changes based on the total magnitude of the three-velocity, while the spatial components care which direction everything is actually giong, which is to be expected. \n",
    "\n",
    "All in all, we feel like we have an answer, but we aren't exactly confident that it's 100% justified. Perhaps this is a problem to NRPyLaTeX later. "
   ]
  },
  {
   "cell_type": "markdown",
   "id": "5bab138d",
   "metadata": {},
   "source": [
    "<a id='P21'></a>\n",
    "\n",
    "# Problem 21 \\[Back to [top](#toc)\\]\n",
    "$$\\label{P21}$$\n",
    "\n",
    "*a) Show that the Lie derivative of the projection operator along $\\alpha n^a$ vanishes. $\\mathcal{L}_{\\alpha n} \\gamma^a_b = 0$.*"
   ]
  },
  {
   "cell_type": "markdown",
   "id": "94613b90",
   "metadata": {},
   "source": [
    "The odd thing here is that, far as we can tell, this doesn't go to zero. Not writing it all up until we think it worth it, but we do know that:\n",
    "\n",
    "$$ -2K_{ab} = \\mathcal{L_n} \\gamma_{ab} $$\n",
    "\n",
    "And when we get to the end of our work we think the above Lie deriavtive is $-2\\alpha K^a_b$. Which makes perfect sense. One could think \"we can't just raise an operator through a Lie derivative\" but when we did our work we didn't raise the operator until after the Lie derivative acted, and the operator raising CAN go through covariatn derivatives, which are the components of the Lie derivative. We even treated $\\alpha$ as an arbitrary function and it still came out like this, all derivatives OF it canceling with other terms. \n",
    "\n",
    "Needless to say, WEIRD. "
   ]
  },
  {
   "cell_type": "markdown",
   "id": "198293ad",
   "metadata": {},
   "source": [
    "*b) Show that the Lie derivative of any spatial tensor along $\\alpha n^a$ is again spatial.*"
   ]
  },
  {
   "cell_type": "markdown",
   "id": "7d162d8d",
   "metadata": {},
   "source": [
    "From Mini Numerical Relativity we have the following relation. (see **Problem 2.13** there)\n",
    "\n",
    "$$\\alpha \\mathcal{L}_n A^\\perp_d = \\mathcal{L}_{\\alpha n} A^\\perp_d = \\mathcal{L}_t A^\\perp_d - \\mathcal{L}_\\beta A^\\perp_d $$"
   ]
  },
  {
   "cell_type": "markdown",
   "id": "7dfa2f80",
   "metadata": {},
   "source": [
    "So it clearly works for spatial vectors. Notably the time vector passes through spatial things (as it is 1,0,0,0) and so the shift vector is all that can interact with a spatial object. So, clearly, this equation makes it work for spatial one-forms. (vectors as well). But we need to expand this relation to include ALL possible tensor sizes. \n",
    "\n",
    "Let's examine the proof of the above relation. \n",
    "\n",
    "From **Mini Numerical Relativity Problem 13...** (the perp symbol has been left off)\n",
    "\n",
    "2.78 gives us the definition $\\alpha n^a = t^a - \\beta^a$. \n",
    "\n",
    "Let's start completely from the left.\n",
    "\n",
    "$$\\alpha \\mathcal{L}_n A_d =  \\alpha n^c \\nabla_c A_d + \\alpha A_c \\nabla_d n^c$$\n",
    "\n",
    "Since A is known to be spatial, we can apply 2.71, shuffling the order and sign of the second term. \n",
    "\n",
    "$$ =  \\alpha n^c \\nabla_c A_d - \\alpha n^c \\nabla_d A_c $$\n",
    "\n",
    "Now, treat $\\alpha n^c$ as a singular object. It only has index c so we can use 2.71 again. \n",
    "\n",
    "$$ =  \\alpha n^c \\nabla_c A_d + A_c \\nabla_d \\alpha n^c $$\n",
    "\n",
    "$$ = \\mathcal{L}_{\\alpha n} A_d $$\n",
    "\n",
    "And we're one step closer. The last step is rather trivial and doens't really involve tricks. Revert to previous step:\n",
    "\n",
    "$$ =  \\alpha n^c \\nabla_c A_d + A_c \\nabla_d \\alpha n^c $$\n",
    "\n",
    "Replace everything with the definition 2.78.\n",
    "\n",
    "$$ =  t^c \\nabla_c A_d + A_c \\nabla_d t^c - \\beta^c \\nabla_c A_d - A_c \\nabla_d \\beta^c $$\n",
    "\n",
    "$$ = \\mathcal{L}_t A^\\perp_d - \\mathcal{L}_\\beta A^\\perp_d $$\n"
   ]
  },
  {
   "cell_type": "markdown",
   "id": "3555fc81",
   "metadata": {},
   "source": [
    "Note that this would also work for any number of down-indices, so any down-only tensors woudl work just fine. However, what if it was a vector and not a one-form? Well in Mini Numerical Relativity, we also had **Problem 15**. \n",
    "\n",
    "$$ \\alpha \\gamma^b_c \\mathcal{L}_n E^c = \\gamma^b_c \\mathcal{L}_{\\alpha n} E^c = \\mathcal{L_t} E^b - \\mathcal{L}_\\beta E^b$$"
   ]
  },
  {
   "cell_type": "markdown",
   "id": "b3d7a526",
   "metadata": {},
   "source": [
    "Which rather than repeating it we'll just argue that it works for any number of up indices since they are independent of each other. \n",
    "\n",
    "The question does remain, though... how can we be sure all these relations don't create a temporal component? Well, if we examine the definition of how the Lie derivative acts on Tensors in A.8, we see that there are three terms.\n",
    "\n",
    "$$ \\mathcal{L}_X T^a_b = X^c \\partial_c T^a_b - T^c_b \\partial_c X^a + T^a_c \\partial_b X^c $$\n",
    "\n",
    "So, all we know is that T is spatial, and that we can treat the t-vector and shift-vector separately. \n",
    "\n",
    "For the first term, derivatives of the spatial tensor are taken. As it is pruely spatial any t-components remain zero, as it better be spatial at all TIMES. \n",
    "\n",
    "Now the other terms aren't quite so obvious. We note that the t-vector cannot change, so its derivatives just vanish and are irrelevant. The shift vector simply *has* no t component, and it never can, so there's also nothing spatial there. \n",
    "\n",
    "So while this problem may be messy, it is very clear that Lie derivatives retain the spatial nature of the things they act upon, and that EVERYTHING can be split into t-vectors and shift vectors.\n",
    "\n",
    "The t and shift realization is probably more important in the long run. "
   ]
  },
  {
   "cell_type": "markdown",
   "id": "0be7043a",
   "metadata": {},
   "source": [
    "<a id='P22'></a>\n",
    "\n",
    "# Problem 22 \\[Back to [top](#toc)\\]\n",
    "$$\\label{P22}$$\n",
    "\n",
    "*Show that raising an index in 2.106 yields*\n",
    "\n",
    "$$ \\mathcal{L}_t K^a_b = -D^a D_b \\alpha + \\alpha(R^a_b + KK^a_b) - 8\\pi\\alpha(S^a_b - \\frac12 \\gamma^a_b(S-\\rho)) + \\mathcal{L}_\\beta K^a_b $$\n",
    "\n",
    "2.106:\n",
    "\n",
    "$$ \\mathcal{L}_t K_{ab} = -D_a D_b \\alpha + \\alpha(R_{ab} - 2K_{ac} K^c_b + KK^{ab}) - 8\\pi\\alpha(S_{ab} - \\frac12 \\gamma_{ab}(S-\\rho)) + \\mathcal{L}_\\beta K_{ab} $$"
   ]
  },
  {
   "cell_type": "markdown",
   "id": "3057855d",
   "metadata": {},
   "source": [
    "You may note that these two equations are essentially identical. They basically are, save for the index raising and ONE term:\n",
    "\n",
    "$$ \\alpha(R_{ab} - 2K_{ac} K^c_b + KK^{ab}) \\Leftarrow \\alpha(R^a_b + KK^a_b) $$\n",
    "\n",
    "Now if we perform the actual raising, we see what this question is REALLY asking us. \n",
    "\n",
    "$$ \\alpha(R^a_b - 2K^a_c K^c_b + KK^a_b) = \\alpha(R^a_b + KK^a_b) $$\n",
    "\n",
    "Or, even simpler...\n",
    "\n",
    "$$ K^a_c K^c_b = 0 $$"
   ]
  },
  {
   "cell_type": "markdown",
   "id": "6199d173",
   "metadata": {},
   "source": [
    "So, does contracting the extrnsic curvature with itself go to zero? Well... only one way to find out, and that's to expand it and see where we end up. This turns out to not be the simplest thing in the world, but we sure can be clever about it. \n",
    "\n",
    "First of all, split up the Ks and then multiply. \n",
    "\n",
    "$$ K^a_c K^c_b = (\\nabla^an_c + n^aa_c)(\\nabla^cn_b + n^ca_b) = (\\nabla^an_c)(\\nabla^cn_b) + n^ca_b\\nabla^an_c + n^aa_c\\nabla^cn_b + n^aa_cn^ca_b $$"
   ]
  },
  {
   "cell_type": "markdown",
   "id": "c030e025",
   "metadata": {},
   "source": [
    "The last term goes to zero since $a_c$ contains a $\\nabla_d n_c$ in it, vanishing. The second term goes to zero obviously for similar reasons. \n",
    "\n",
    "$$ = (\\nabla^an_c)(\\nabla^cn_b) + n^aa_c\\nabla^cn_b $$\n",
    "\n",
    "Now expand the acceleration on the second term. \n",
    "\n",
    "$$ = (\\nabla^an_c)(\\nabla^cn_b) + n^an^d(\\nabla_d n_c)(\\nabla^cn_b) $$\n",
    "\n",
    "We are now summing over both d and c. So we can swap a d and a c. \n",
    "\n",
    "$$ = (\\nabla^an_c)(\\nabla^cn_b) + n^an^c(\\nabla_d n_c)(\\nabla^dn_b) $$\n",
    "\n",
    "And would you look at that, we have $n^c\\nabla_dn_c$. It all goes to zero! Leavling... only the first term. \n",
    "\n",
    "$$ = (\\nabla^an_c)(\\nabla^cn_b) $$"
   ]
  },
  {
   "cell_type": "markdown",
   "id": "a29765ec",
   "metadata": {},
   "source": [
    "Now, we could probably prove this in a rigorously mathematical way, but we realized something when working that allows us to say that goes to zero by pure logic. Note that K is purely spatial, so any construciton made from just K must also be purely spatial. Which means the thing we have above, that single term, MUST be spatial as well. Thus, a and b can never equal t. (Okay so this is not true in EVERY possible reference frame, but we're in a tensor equation, so if we show that for one case we know exists, it applies for all cases. For any spatial tensor there exists a reference where all it's t-cooridnates are zero. ADDENDUM: hey look on the lower half of the page the book agrees with me on this front. Though that implies there is a way to prove this without resorting to this particular method. I wonder what it is...) \n",
    "\n",
    "If a and b can't be t, might as well replace them with latin indices. (NOTE: we can only do this since we only have one term remaining. If there were two terms, they could each have temporal components that cancel each other out.) \n",
    "\n",
    "$$ = (\\nabla^in_c)(\\nabla^cn_j) $$\n",
    "\n",
    "See, that $n_j$ is the key. $n_a = (-\\alpha,0,0,0)$ so $n_j = (0,0,0)$. It's nothing and it can never be anything else, so the derivatives do nothing to it, making the entire term zero. \n",
    "\n",
    "Thus, the contraciton of K with itself goes to zero. \n",
    "\n",
    "THUS, the relation at the top of the problem is true. "
   ]
  },
  {
   "cell_type": "markdown",
   "id": "74c7860d",
   "metadata": {},
   "source": [
    "<a id='P23'></a>\n",
    "\n",
    "# Problem 23 \\[Back to [top](#toc)\\]\n",
    "$$\\label{P23}$$\n",
    "\n",
    "*Show that a spatial vector $e^a_{(i)}$ that is Lie dragged along $t^a$ remains spatial. i.e., show that $\\mathcal{L}_t (\\Omega_a e^a_{(i)})=0$.*\n",
    "\n",
    "Skipped this problem for now as we still don't know what went wrong in **Problem 21** and it's effectively the same thing. "
   ]
  },
  {
   "cell_type": "markdown",
   "id": "7dbc0be9",
   "metadata": {},
   "source": [
    "<a id='P24'></a>\n",
    "\n",
    "# Problem 24 \\[Back to [top](#toc)\\]\n",
    "$$\\label{P24}$$\n",
    "\n",
    "*Show that $\\gamma^{ik} \\gamma_{kj} = \\delta^i_j$*\n",
    "\n",
    "Trivial. Since the metric raises and lowers itself, we automatically get to $\\gamma^i_j$. it is known that $g^a_b = \\delta^a_b$. We would consider this enough, but once again we're paranoid and just want to make sure. \n",
    "\n",
    "$$\n",
    "\\begin{align}\n",
    "\\gamma^i_j &= g^i_j + n^in_j \\\\\n",
    "&= \\delta^i_j + 0\n",
    "\\end{align}\n",
    "$$\n",
    "\n",
    "because if you force the normal to be spatial only, $n_j$ is purely temporal. Tah-dah. \n",
    "\n",
    "...ironically the book seems to imply we shouldn't have known that the spatial metric... was the spatial metric. Weird. Regardless all that would do was make there be a few more steps in expanding both spatial metrics into their g and N components, the result is the same. "
   ]
  },
  {
   "cell_type": "markdown",
   "id": "6c8930e2",
   "metadata": {},
   "source": [
    "<a id='P25'></a>\n",
    "\n",
    "# Problem 25 \\[Back to [top](#toc)\\]\n",
    "$$\\label{P25}$$\n",
    "\n",
    "*SHow that the determinant g of the spacetime metric can be written as $\\sqrt{-g} = \\alpha\\sqrt{\\gamma}$*\n",
    "\n",
    "Solved in Mini Numerical Relativity **Problem 2.18**. Solution repeated below."
   ]
  },
  {
   "cell_type": "markdown",
   "id": "dc84b7a7",
   "metadata": {},
   "source": [
    "Wait a second.... this is almost trivial. [7](#7) reminds us of the cofactor rules of linear algebra. The cofactor of any individual element is:\n",
    "\n",
    "$$ C_{ij} = (-1)^{i+j} det A(i|k) $$\n",
    "\n",
    "where the determinant is the determinant of the matrix with those specific rows and columns removed. Note that the indices on the cofactor C can be up or down it really doesn't matter. Let's just set i and j to zero and use the INVERSE of the known value. \n",
    "\n",
    "$$ \n",
    "\\begin{align}\n",
    "C_{00} &= (-1)^0 det A(0|0) \\\\\n",
    "&= det \\gamma^{ij} \\\\\n",
    "&= \\gamma\n",
    "\\end{align}\n",
    "$$"
   ]
  },
  {
   "cell_type": "markdown",
   "id": "08caba81",
   "metadata": {},
   "source": [
    "Now using the inverse relation, we see that $ g^{00} = \\frac{C_{00}}{det g} $ which we can expand to:\n",
    "\n",
    "$$\n",
    "\\begin{align}\n",
    "-\\alpha^{-2} &= \\gamma / g \\\\\n",
    "-g &= \\alpha^2 \\gamma \\\\\n",
    "\\sqrt{-g} &= \\alpha \\sqrt{\\gamma}\n",
    "\\end{align}\n",
    "$$\n",
    "\n",
    "Tah-dah, all done! "
   ]
  },
  {
   "cell_type": "markdown",
   "id": "1cfe62b0",
   "metadata": {},
   "source": [
    "<a id='P26'></a>\n",
    "\n",
    "# Problem 26 \\[Back to [top](#toc)\\]\n",
    "$$\\label{P26}$$\n",
    "\n",
    "*Use 2.123 directly to determine the proper time $d\\tau$ measured by a clock carried by a normal observer $n^a$ in a coordinate time interval dt.*"
   ]
  },
  {
   "cell_type": "markdown",
   "id": "cc4c2ef9",
   "metadata": {},
   "source": [
    "The equation we're given is...\n",
    "\n",
    "$$ ds^2 = -\\alpha^2 dt^2 + \\gamma_{ij}(dx^i + \\beta^i dt)(dx^j + \\beta^j dt) $$\n",
    "\n",
    "So, now we need to remind ourselves how we find the proper time. We HAVE the coordinate time interval, dt. We also note that since we are a NORMAL observer, we have the bennefit of \"not moving\", which means that all the dx options are entirely zero. So we can adjust...\n",
    "\n",
    "$$ ds^2 = -\\alpha^2 dt^2 + \\gamma_{ij} \\beta^i \\beta^j dt^2  = -\\alpha^2 dt^2 + \\beta_l \\beta^l dt^2 $$\n",
    "\n",
    "The index l is added as it was in Mini Numerical Relativity (and this book's 2.122) to make it clear that the index is 3D but it is independent of \"choosing\" i or j. "
   ]
  },
  {
   "cell_type": "markdown",
   "id": "c6fc6fd7",
   "metadata": {},
   "source": [
    "Notably, since we're not moving physically at all, the interval is purely temporal and thus IS our proper time. Neat. (NOTE: this is later realized to be a mistake, there should be a negative sign, the interval measures the NEGATIVE time. That -1 in position tt will getcha.)\n",
    "\n",
    "$$ -d\\tau^2 = -\\alpha^2 dt^2 + \\beta_l \\beta^l dt^2 $$\n",
    "\n",
    "Now we know the second term on the right has to vanish as we have NO proper distance between our situations, but why? Well, again, we are a normal observer. Specifically, $n^a$, which we can also know as $\\frac1\\alpha(1,-\\beta^i)$. Which is to say *the observer is moving with the shift vector*, making it vanish from our perceptions entirely. So with it going poof, we have...\n",
    "\n",
    "$$ -d\\tau^2 = -\\alpha^2 dt^2 $$\n",
    "\n",
    "Which means $d\\tau = \\alpha dt$. \n",
    "\n",
    "Which matches MNR-2.39."
   ]
  },
  {
   "cell_type": "markdown",
   "id": "4d5fdcea",
   "metadata": {},
   "source": [
    "<a id='P27'></a>\n",
    "\n",
    "# Problem 27 \\[Back to [top](#toc)\\]\n",
    "$$\\label{P27}$$\n",
    "\n",
    "*Show that the determinant $\\gamma=det\\gamma_{ij}$ of the spatial metric and the trace $K=K^i_i$ of the extrinsic curvature satisfy the equations*\n",
    "\n",
    "$$ \\partial_t ln \\sqrt{\\gamma} = -\\alpha K + D_i \\beta^i $$\n",
    "\n",
    "*and*\n",
    "\n",
    "$$ \\partial_t K = -D^2 \\alpha + \\alpha(K_{ij}K^{ij} + 4\\pi(\\rho + S)) + \\beta^i D_i K $$\n",
    "\n",
    "*where $D^2 = \\gamma^{ij}D_iD_j$ is the Laplace operator associated with $\\gamma_{ij}$*\n",
    "\n",
    "PANIC ain't no way no how we're doing this right now! Come back later! Maybe use A.44! \n",
    "\n",
    "A.44 is unecessary. For full solution see **Problem 2.26** in Mini Numerical Relativity. It is long. We are not reproducing it here. "
   ]
  },
  {
   "cell_type": "markdown",
   "id": "108b2026",
   "metadata": {},
   "source": [
    "<a id='P28'></a>\n",
    "\n",
    "# Problem 28 \\[Back to [top](#toc)\\]\n",
    "$$\\label{P28}$$\n",
    "\n",
    "*Argue that when treating the weak-field slow-velocity Newtonian limit of general relativity in nearly inertial conditions, the lapse function is given by $\\alpha = 1+\\phi$, where $\\phi$ is the Newtonian gravitational potential (which we assume to vanish at spatial infinity.)*\n",
    "\n",
    "Well, why don't we just go grab the Newtonian metric and run the calculation? Its one of the very early metrics we dealt with alllll the way back in General Relativity. Let's pull it out of that book...\n",
    "\n",
    "Newtonian Metric: $ds^2 = -(1+2\\phi)dt^2 + (1-2\\phi)(dx^2+dy^2+dz^2)$\n",
    "\n",
    "As we did in **Problem 26** we can say we are a normal observer to restrict this to just finding the proper time. Remember the minus sign. \n",
    "\n",
    "$$ d\\tau^2 = (1+2\\phi)dt^2 $$\n",
    "\n",
    "And so...\n",
    "\n",
    "$$ d\\tau = \\sqrt{1+2\\phi}dt $$\n",
    "\n",
    "Now this highly suggests $\\alpha = \\sqrt{1+2\\phi}$. However, $\\phi$ is weak-field so it is much, much smaller than 1, thus we can apply an *approximation*. What approximation? Why, whatever one makes the below true!\n",
    "\n",
    "$$ \n",
    "\\begin{align}\n",
    "\\sqrt(1+2\\phi) &\\approx 1+\\phi \\\\\n",
    "1+2\\phi &\\approx 1+\\phi^2 + 2\\phi \\\\\n",
    "\\end{align}\n",
    "$$\n",
    "\n",
    "Which, if we ignore $\\phi^2$, is in fact true. So the approximation is valid, and thus our argument is complete. \n",
    "\n",
    "We could have derived this without the answer by \"completing the square,\" realizing that $1+2\\phi = (1+\\phi)^2 - \\phi^2$, but that looks messier. "
   ]
  },
  {
   "cell_type": "markdown",
   "id": "6459969d",
   "metadata": {},
   "source": [
    "<a id='P29'></a>\n",
    "\n",
    "# Problem 29 \\[Back to [top](#toc)\\]\n",
    "$$\\label{P29}$$\n",
    "\n",
    "*Find the connnection coefficients (Christoffels) for a spherically symmetric spatial metric of the form*\n",
    "\n",
    "$$ \\gamma_{ij} - \\psi^4 \\eta_{ij} = \\psi^4 diag(1,r^2, r^2sin^2\\theta) $$\n",
    "\n",
    "*Where the funciton $\\psi$, which we will refer to as the conformal factor in Chapter 3, depends on r alone.*"
   ]
  },
  {
   "cell_type": "markdown",
   "id": "e8ad47f1",
   "metadata": {},
   "source": [
    "So this is an altered sphericall metric. ...We did something like this in MNR. Yes, this is the transformed Schwarzchild metric, or at least the spatial portion! Interesting... however, the only reason we recognized it was because it was the problem in chapter 1 that chapter 2 problems refered to, but we never did, and as such was confusing, so it won't really help us here. \n",
    "\n",
    "That said all we're doing is finding Christoffels. And... ...you knwo what that's just going to be tedious. All we do is pull out the definition for the physical Christoffels and start taking derivatives, treating $\\psi$ as a funciton of r and adding a prime whenever we take a derivative with respect to r. \n",
    "\n",
    "Skipped, no desire for tedium today, we've claculated enough Christoffels in our time. "
   ]
  },
  {
   "cell_type": "markdown",
   "id": "efb3e7d8",
   "metadata": {},
   "source": [
    "<a id='P30'></a>\n",
    "\n",
    "# Problem 30 \\[Back to [top](#toc)\\]\n",
    "$$\\label{P30}$$\n",
    "\n",
    "*Show that for any spatial vector $V^i$, $\\nabla_i V_j = D_i V_j$ but that, in general, $\\nabla_i V^j \\neq D_i V^j$ and $\\nabla^iV_j \\neq D^iV_j$.*\n",
    "\n",
    "*Hint: Use 2.62*\n",
    "\n",
    "First of all, the problem is pretending like the last two things are different results, but if you prove one you prove the other. Just extracting a $g_{ij}$ can translate from one to the other easily. So we really only have two things to show. And we shall show them by expanding via the definitions..."
   ]
  },
  {
   "cell_type": "markdown",
   "id": "4e7b1125",
   "metadata": {},
   "source": [
    "The key is the hint (that we forgot to transcribe first time so ended up fumbling around) which tells us:\n",
    "\n",
    "$$ D_a V^b = \\gamma^p_a \\nabla_p V^b + n^b V^e K_{ae} $$\n",
    "\n",
    "Since V is spatial, we automatically have it restricted to three-indices. No matter where it shows up it forces spatial nature. In addition, in our problem statement we ignoire D's temporal component. \n",
    "\n",
    "$$ D_i V^j = \\gamma^p_i \\nabla_p V^j + n^j V^k K_{ik} $$\n",
    "\n",
    "Note that all forms of the metric are spatial, so in our reference frame we ignore all temporal components, which sets p to l. \n",
    "\n",
    "$$ D_i V^j = \\gamma^l_i \\nabla_l V^j + n^j V^k K_{ik} $$\n",
    "\n",
    "Which then becomes...\n",
    "\n",
    "$$ D_i V^j = \\nabla_i V^j + n^j V^k K_{ik} $$\n",
    "\n",
    "Notice that extra Extrinsic Curvature term at the end. That doesn't go to zero. (Because we are not contracting with $n^a$, that is, we are ignoring the temporal component of the normal.) This term may not ALWAYS exist, but it will certianly sometimes exist for arbitrary V. \n",
    "\n",
    "Now, let's transform this result by contracting with... oh, $\\gamma_{jm}$. We still consider m to be a 3-index. \n",
    "\n",
    "$$ \\gamma_{jm}D_i V^j = \\gamma_{jm}\\nabla_i V^j + \\gamma_{jm}n^j V^k K_{ik} $$\n",
    "\n",
    "The spatial metric can pass through D and, as we learned in another problem, the full covariant derivative as well. Thus...\n",
    "\n",
    "$$ D_i V_m = \\nabla_i V_m + n_m V^k K_{ik} $$\n",
    "\n",
    "Set m to j. \n",
    "\n",
    "$$ D_i V_j = \\nabla_i V_j + n_j V^k K_{ik} $$\n",
    "\n",
    "Now, the extrinsic curvature term... this goes to zero. Remember, in our formulation, $n_a = (-\\alpha,0,0,0)$ so $n_j = (0,0,0)$ thus all the terms just poof. \n",
    "\n",
    "$$ D_i V_j = \\nabla_i V_j $$\n",
    "\n",
    "So the reason one works and not the other is the Extrinsic Curvature term. "
   ]
  },
  {
   "cell_type": "markdown",
   "id": "16ea7411",
   "metadata": {},
   "source": [
    "<a id='P31'></a>\n",
    "\n",
    "# Problem 31 \\[Back to [top](#toc)\\]\n",
    "$$\\label{P31}$$\n",
    "\n",
    "*Compute the second derivatives $D_iD_j\\alpha$ for the Schwarzchild solution in isotropic coordinates.*\n",
    "\n",
    "Well let's look at $\\alpha$ then why don't we?\n",
    "\n",
    "$$ \\alpha = \\frac{1-M/(2r)}{1+M/(2r)} $$\n",
    "\n",
    "Aha! This is only a funciton of r! So we already know that the vast majority of second derivatives are just flat-out zero. ...But do we really? That would be the case for partial derivatives, yes, but these spatial covariant derivatives can spit out Christoffels and we do in fact have Christoffels in this metric. \n",
    "\n",
    "BUT $\\alpha$ is a scalar. So the first derivative acting on it reduces to partial, and thus becomes zero. And then the SECOND derivative is only left with a zero and that also goes to nothing! So, really, all we have to worry about are ij = rr. \n",
    "\n",
    "And that will only require ONE Christoffel symbol! \n",
    "\n",
    "$$\n",
    "\\begin{align}\n",
    "D_r D_r \\alpha &= D_r \\partial_r \\alpha \\\\\n",
    "&= \\partial_r \\partial_r \\alpha - \\Gamma^k_{rr} \\partial_k \\alpha \\\\\n",
    "&= \\partial_r \\partial_r \\alpha - \\Gamma^r_{rr} \\partial_r \\alpha \\\\\n",
    "\\end{align}\n",
    "$$\n",
    "\n",
    "See? One Christoffel. What IS this Christoffel? Well...\n",
    "\n",
    "$$ \\Gamma^r_{rr} = \\frac12 \\gamma^{rr}(\\partial_r \\gamma_{rr}) = \\frac12 (1+M/2r)^{-4} \\partial_r (1+M/2r)^4 $$\n",
    "\n",
    "Which we might as well put into the entire equation...\n",
    "\n",
    "$$ \\partial_r \\partial_r \\frac{1-M/(2r)}{1+M/(2r)}  - \\frac12 (1+M/2r)^{-4} \\partial_r (1+M/2r)^4 \\partial_r \\frac{1-M/(2r)}{1+M/(2r)}  $$"
   ]
  },
  {
   "cell_type": "markdown",
   "id": "e17da91a",
   "metadata": {},
   "source": [
    "Which. Y'know. TECHNICALLY this is an answer... but... well someone probably wants the derivatives evaluated... so let's turn to our friend GeoGebra to do this quickly.\n",
    "\n",
    "$$ = \\partial_r \\frac{(1+M/2r)(M/2r^2) + (1-M/2r)(M/2r^2)}{(1+M/2r)^2}   - \\frac12 (1+M/2r)^{-4} \\frac{-2M}{r^2} (1+M/2r)^3 \\frac{(1+M/2r)(M/2r^2) + (1-M/2r)(M/2r^2)}{(1+M/2r)^2}  $$\n",
    "\n",
    "$$ = \\partial_r \\frac{(1+M/2r)(M/2r^2) + (1-M/2r)(M/2r^2)}{(1+M/2r)^2}   - \\frac12 (1+M/2r)^{-1} \\frac{-2M}{r^2} \\frac{(1+M/2r)(M/2r^2) + (1-M/2r)(M/2r^2)}{(1+M/2r)^2}  $$\n",
    "\n",
    "$$ = \\partial_r \\frac{(1+M/2r)(M/2r^2) + (1-M/2r)(M/2r^2)}{(1+M/2r)^2}   +  \\frac{M}{r^2} \\frac{(1+M/2r)(M/2r^2) + (1-M/2r)(M/2r^2)}{(1+M/2r)^3}  $$\n",
    "\n",
    "$$ = \\frac{-16 M}{M^3 + 8r^3 + 12Mr^2 + 6M^2 r}   +  \\frac{M}{r^2} \\frac{(1+M/2r)(M/2r^2) + (1-M/2r)(M/2r^2)}{(1+M/2r)^3}  $$"
   ]
  },
  {
   "cell_type": "markdown",
   "id": "eb3ff16f",
   "metadata": {},
   "source": [
    "This can most definitely be simplified. But you know what, we're not going to bother. That is an answer, it's the rr derivative, and all others are zero. So there. "
   ]
  },
  {
   "cell_type": "markdown",
   "id": "9e9c5b0a",
   "metadata": {},
   "source": [
    "<a id='P32'></a>\n",
    "\n",
    "# Problem 32 \\[Back to [top](#toc)\\]\n",
    "$$\\label{P32}$$\n",
    "\n",
    "*In spherical polar Painleve-Gullstrand coordinates the line element of a Schwarzchild spacetime is*\n",
    "\n",
    "$$ ds^2 = -dt^2 + \\left( dr+\\sqrt{\\frac{2M}{r}}dt \\right)^2 + r^2(d\\theta^2 + sin^2\\theta d\\phi^2) $$\n",
    "\n",
    "*a) Identify the lapse $\\alpha$, the shift $\\beta^i$, and note that the spatial metric $\\gamma_{ij}$ is flat, which is a remarkable property.*"
   ]
  },
  {
   "cell_type": "markdown",
   "id": "d9e9d7a9",
   "metadata": {},
   "source": [
    "NOTE: we did similar problems in Mini Numerical Relativity, if this one seems a little bare-bones. \n",
    "\n",
    "The shift one-form is on the off-diagonal t-parts. Fortunately there's only one of these, drdt.\n",
    "\n",
    "$$ \\beta_i = (\\sqrt{\\frac{2M}{r}},0,0) $$\n",
    "\n",
    "Now, naturally, we'll want to raise this to get the vector. But we'll get the metric first. Which is a diagonal matrix with diagonal\n",
    "\n",
    "$$ \\left( 1, r^2, r^2sin^2\\theta \\right) $$\n",
    "\n",
    "which, yes, is the flat metric for spherical coordinates. The inverse would be\n",
    "\n",
    "$$ \\left( 1, r^{-2}, r^{-2}sin^{-2}\\theta \\right) $$\n",
    "\n",
    "Which we can use to raise the shift one-form to the shift vector. Which... as it turns out does nothing to it. \n",
    "\n",
    "$$ \\beta^i = (\\sqrt{\\frac{2M}{r}},0,0) $$\n",
    "\n",
    "Now, the tt component is where our lapse hides, $-\\alpha^2 +\\beta_l \\beta^l$. We have our shift vectors, And we can read off the dtdt component to get the equality:\n",
    "\n",
    "$$ -\\alpha^2 + \\frac{2M}{r} = -1 + \\frac{2M}{r} $$\n",
    "\n",
    "So obviously the lapse is 1. Which is sensible as we have a flat metric. "
   ]
  },
  {
   "cell_type": "markdown",
   "id": "0486aab3",
   "metadata": {},
   "source": [
    "*b) compute the extrinsic curvature $K_{ij}$ and the Ricci tensor $R_{ij}$*\n",
    "\n",
    "*Loud sigh.* Look, we're not calculating out every term of these huge tensors. The Ricci tensor would involve calclulating all the Christoffels, and that *alone* is a huge time-waster. If you ever really need to, see equations 2.142 and 2.141. Simple enough. \n",
    "\n",
    "That said, what of the Extrinsic Curvature? There's no obvious calcluaiton for it. However, 2.128 provides us with the key:\n",
    "\n",
    "$$ \\partial_t \\gamma_{ij} = -2\\alpha K_{ij} + D_i\\beta_j + D_j \\beta_i $$\n",
    "\n",
    "In this particular case virtually everything goes to zero except rr. \n",
    "\n",
    "$$ 0 = -2\\alpha K_{rr} + D_r\\beta_r + D_r \\beta_r $$\n",
    "\n",
    "Of cousre, actually evaluating those Spatial Covariant Derivatives would require the Christoffels. Which we are not bothering with. "
   ]
  },
  {
   "cell_type": "markdown",
   "id": "25a96f42",
   "metadata": {},
   "source": [
    "*c) Verify that this solution satisfies the constraint and evolution equations 2.125-2.128 with $\\partial_t K_{ij} = 0$*\n",
    "\n",
    "See that, my friend, would require the Christoffels. So skip.\n",
    "\n",
    "That said it is just a matter of calculation once you do have them. The only oddity would be calculating around the mass terms, which have the stress-energy tensor inside of them, but it should work out just fine. ...Also, it seems odd to try to prove that it satisfies 2.128 when we used 2.128 to calculate K. We could, we suppose, calculate K from its direct definition, but 2.128 seems so much neater. "
   ]
  },
  {
   "cell_type": "markdown",
   "id": "1cc6d699",
   "metadata": {},
   "source": [
    "<a id='P33'></a>\n",
    "\n",
    "# Problem 33 \\[Back to [top](#toc)\\]\n",
    "$$\\label{P33}$$\n",
    "\n",
    "*In Kerr-Schild coordinates, or ingoing Eddington-Finkelstein coordinates, the line element of a Schwarzchild spacetime is*\n",
    "\n",
    "$$ ds^2 = (\\eta_{ab} + 2Hl_al_b)dx^adx^b). $$\n",
    "\n",
    "*Here, the 4-vector $l^a$ is null with respect to both $g_{ab}$ and $\\eta_{ab}$, $\\eta_{ab}l^al^b = g_{ab}l^al^b = 0$, and, in Cartesian coordinates, can be written:*\n",
    "\n",
    "$$ l_t=-l^t = 1 ; l_i=l^i = x^i/r $$\n",
    "\n",
    "with $r^2 = x^2 + y^2 + z^2.$ We have also defined H=M/r. Recall that in Cartesian coordiantes, $\\eta_{ab} = diag(-1,1,1,1)$. Identify the lapse $\\alpha$, the shift $\\beta^i$, and the spatial metric $\\gamma_{ij}$, and show that the extrinsic curvature is\n",
    "\n",
    "$$ K_{ij} = \\frac{2H\\alpha}{r}(\\eta_{ij} - (2+H)l_il_j) $$"
   ]
  },
  {
   "cell_type": "markdown",
   "id": "9db5595a",
   "metadata": {},
   "source": [
    "We will find everything but the curvature, for that will require some Christoffels, and just... no. (Though we might come back later with NRPyLaTeX. )\n",
    "\n",
    "Anyway, we can read off the metric. \n",
    "\n",
    "$$\n",
    "\\gamma_{ij} = \\begin{bmatrix}\n",
    "1+2Hl_x^2 & 2Hl_xl_y & 2Hl_xl_z \\\\\n",
    "2Hl_xl_y & 1 + 2Hl_y^2 & 2Hl_yl_z \\\\\n",
    "2Hl_xl_z & 2Hl_yl_z & 1 + 2Hl_z^2 \\\\\n",
    "\\end{bmatrix}\n",
    "$$\n",
    "\n",
    "And the shift one-form.\n",
    "\n",
    "$$ \\beta_i = (2Hl_tl_x, 2Hl_tl_y, 2Hl_tl_z) $$"
   ]
  },
  {
   "cell_type": "markdown",
   "id": "fcffbc93",
   "metadata": {},
   "source": [
    "The thing is now we need the inverse metric, and that's not exactly going to be the easiest to find as... well the metric isn't simple. We need it to find the shift vector, which is required for the lapse. Annoying. The inverse is not an easy operation to make, either...\n",
    "\n",
    "We shall outline it since we wish to move on and we did problems like this in Mini Numerical Relativity. \n",
    "\n",
    "The \"formula\" for finding the inverse of a 3x3 matrix is the Adjoint divided by the Determinant. The Adjoint is the transpose of the Cofactor matrix, and the Cofactor matrix we all know at this point. For details see [3](#3).\n",
    "\n",
    "Definitely a candidate for using NRPyLaTeX, since I know it has a matrix inverter somewhere. \n",
    "\n",
    "Regardless, once $\\gamma^{ij}$ is found $\\beta^i$ can be found and then it can be used to find $\\alpha$ in relation to $g_{tt}$. "
   ]
  },
  {
   "cell_type": "markdown",
   "id": "678906c2",
   "metadata": {},
   "source": [
    "<a id='P34'></a>\n",
    "\n",
    "# Problem 34 \\[Back to [top](#toc)\\]\n",
    "$$\\label{P34}$$\n",
    "\n",
    "*In Boyer-Lindquist coordinates, the sapcetime metric of a rotatin Kerr black hole is*\n",
    "\n",
    "$$ ds^2 = -\\left( 1-\\frac{2Mr}{\\rho^2} \\right) dt^2 - \\frac{4Marsin^2\\theta}{\\rho^2} dtd\\phi + \\frac{\\rho^2}{\\Delta}dr^2 + \\rho^2 d\\theta^2 + \\frac{sin^2\\theta}{\\rho^2}((r^2+a^2)^2 - a^2\\Delta sin^2\\theta)d\\phi^2 $$\n",
    "\n",
    "*where*\n",
    "\n",
    "$$\\Delta = r^2 - 2Mr+a^2$$\n",
    "\n",
    "*and*\n",
    "\n",
    "$$ \\rho^2 = r^2 + a^2 cos^2\\theta $$\n",
    "\n",
    "*and where a=J/M is the angular momentum per unit mass.*\n",
    "\n",
    "*a) Identify the lapse, shift, and spatial metric. Evaluate $t^at_a$ and determine its sign both inside and outside the ergosphere.*\n",
    "\n",
    "That last part is fascinating, let's see where it takes us. "
   ]
  },
  {
   "cell_type": "markdown",
   "id": "9f915f75",
   "metadata": {},
   "source": [
    "First of all, there are no mixed spatial locaitons, so we read off\n",
    "\n",
    "$$ \\gamma_{ij} = diag\\left( \\frac{\\rho^2}{\\Delta} , \\rho^2 ,  \\frac{sin^2\\theta}{\\rho^2}((r^2+a^2)^2 - a^2\\Delta sin^2\\theta) \\right) $$\n",
    "\n",
    "The inverse, as this is a diagonal matrix, is just the \"flip\"\n",
    "\n",
    "$$ \\gamma^{ij} = diag\\left( \\frac{\\Delta}{\\rho^2} , \\frac{1}{\\rho^2} ,  \\frac{\\rho^2}{sin^2\\theta ((r^2+a^2)^2 - a^2\\Delta sin^2\\theta)} \\right)$$"
   ]
  },
  {
   "cell_type": "markdown",
   "id": "f236f64a",
   "metadata": {},
   "source": [
    "We read off the shift one-form.\n",
    "\n",
    "$$ \\beta_i = \\left(0,0, -\\frac{4Marsin^2\\theta}{\\rho^2}\\right) $$\n",
    "\n",
    "Apply the inverse metric to get the shift vector.\n",
    "\n",
    "$$ \\beta^i = \\left(0,0, -\\frac{4Marsin^2\\theta}{\\rho^2} \\frac{\\rho^2}{sin^2\\theta ((r^2+a^2)^2 - a^2\\Delta sin^2\\theta)} \\right) = \\left(0,0, -\\frac{4Marsin^2\\theta}{sin^2\\theta ((r^2+a^2)^2 - a^2\\Delta sin^2\\theta)}  \\right) $$"
   ]
  },
  {
   "cell_type": "markdown",
   "id": "58e335b7",
   "metadata": {},
   "source": [
    "The lapse equation gives us\n",
    "\n",
    "$$ -\\alpha^2 +\\beta_l \\beta^l = \\frac{2Mr}{\\rho^2}-1 $$\n",
    "\n",
    "If we evaluate the shift vector...\n",
    "\n",
    "$$ \\Rightarrow -\\alpha^2 + \\frac{1}{\\rho^2}\\frac{16M^2a^2r^2sin^4\\theta}{sin^2\\theta ((r^2+a^2)^2 - a^2\\Delta sin^2\\theta)} = \\frac{2Mr}{\\rho^2}-1 $$\n",
    "\n",
    "We see a like term here. \n",
    "\n",
    "$$ \\Rightarrow -\\alpha^2 + \\frac{16M^2a^2r^2sin^4\\theta}{sin^2\\theta ((r^2+a^2)^2 - a^2\\Delta sin^2\\theta)} = 2Mr-1 $$\n",
    "\n",
    "$$ \\Rightarrow -\\alpha^2 = 2Mr-1-\\frac{16M^2a^2r^2sin^2\\theta}{(r^2+a^2)^2 - a^2\\Delta sin^2\\theta} $$"
   ]
  },
  {
   "cell_type": "markdown",
   "id": "7f979886",
   "metadata": {},
   "source": [
    "Now while this is an answer, it definitely isn't simple enough to be satisfying. So let's work on that. \n",
    "\n",
    "...Simplification actually didn't really go much of anywhere, the denominator is just too ill-behaved. But hey, at least we have it. "
   ]
  },
  {
   "cell_type": "markdown",
   "id": "4c2487f9",
   "metadata": {},
   "source": [
    "$t^a = (1,0,0,0)$. To find the inverse of this we actually need $g_{0a}$. \n",
    "\n",
    "This would be written out as $ t_a = g_{0a} t^0 = (-\\alpha^{2} + \\beta_l\\beta^l, \\beta_i) $\n",
    "\n",
    "Which we actually have, as the first one is just $g_{00}$, which we read off the line element, and the shift one form. \n",
    "\n",
    "$$ t_a = (\\frac{2Mr}{\\rho^2} - 1 , - \\frac{4Marsin^2\\theta}{\\rho^2}) $$\n",
    "\n",
    "And so...\n",
    "\n",
    "$$ t_at^a = \\frac{2Mr}{\\rho^2} - 1 + 0 $$ \n",
    "\n",
    "After all, only $t^t$ exists, so this ends up just being the metric $g_{00}$.\n",
    "\n",
    "Now we just need to remember where the boundary of the ergosphere is... PRESUMABLY where this answer changes sign, but better safe than sorry. General Relativity 11.80 gives this to us: $M + \\sqrt{M^2 - a^2cos^2\\theta}$. Since $\\rho = r^2 + a^2cos^2\\theta$ this bodes well but let's plug it in. ...wait hang on a sec, this also means $r^2 = a^2cos^2\\theta - \\rho...$\n",
    "\n",
    "$$ M^2 + M^2 - a^2cos^2\\theta + M\\sqrt{M^2-a^2cos^2\\theta} = a^2cos^2\\theta - \\rho $$\n",
    "\n",
    "$$ \\frac{2M (M^2 - a^2 cos^2 \\theta)}{(r^2 + a^2cos^2\\theta)^2} - 1 $$\n",
    "\n",
    "HOLD IT: let's consider the ergosphere radius on the $\\theta = \\pi/2$ plane to make calculations simpler. There it is. So that adjusts the definition of $\\rho$ to $\\rho = r^2$ and the ergosphere radius $2M.$\n",
    "\n",
    "This does work!\n",
    "\n",
    "$$ \\frac{2M 2M}{(2M)^2} -1 = 0 $$\n",
    "\n",
    "Now, what happens when r is larger than this, though? Well, fortunately for us we don't have to get specific, we just have to increase the value of R to a \"large\" value and see the behavior. With large r, $\\rho$ reduces to r in all cases. \n",
    "\n",
    "$$ \\frac{2Mr}{r^2} -1 = \\frac{2M}{r} -1 $$\n",
    "\n",
    "So its negative outside the ergosphere. Which means inside, it better be positive...\n",
    "\n",
    "If we ignore the angular contribution, this clearly becomes the case, as $\\frac{1}{r}$ gets larger as r gets smaller. This is, however, assuming r dominates over the angular term. But that's enough to show that inside we have positive and outside we have negative. \n",
    "\n",
    "So we have evaluated the desired relation and found the sign. A little handwavey, but it works enough and we're out of time for today. "
   ]
  },
  {
   "cell_type": "markdown",
   "id": "bfc42361",
   "metadata": {},
   "source": [
    "We still desire to show the exact relation, but we think we can do that--let's just leave $\\rho$ as the only term in the denominator, substituting in r. \n",
    "\n",
    "$$ t_at^a = \\frac{2M\\sqrt{a^2cos^2\\theta - \\rho}}{\\rho^2} - 1 $$ \n",
    "\n",
    "Squaring both sides isn't an issue, we already know the sign at large r and small r, we just need to prove it goes to zero at this point. \n",
    "\n",
    "$$ (t_at^a)^2 = \\frac{4M^2a^2cos^2\\theta - 4M^2\\rho}{\\rho^4} - 1 $$ \n",
    "\n",
    "...Hmm. Annoying. However, we did realize that this has already been done for us in General Relativity: The radius of the ergosphere is *defined* on page 312 as the place where $g_{tt}=0$, so it is so, and if it is so everywhere it willl be so on the equatorial plane. So our proof is sufficient.  "
   ]
  },
  {
   "cell_type": "markdown",
   "id": "f49f66f0",
   "metadata": {},
   "source": [
    "*b) Show that in the asymptotic region where r >> M and r >> a the only nonvanishing component of the extrnsic curvature is given by*\n",
    "\n",
    "$$ K_{r\\phi} = \\frac{3Ma}{r^2}sin^2\\theta $$\n",
    "\n",
    "Skipped. *shivers* the Christoffels..."
   ]
  },
  {
   "cell_type": "markdown",
   "id": "df50096e",
   "metadata": {},
   "source": [
    "<a id='latex_pdf_output'></a>\n",
    "\n",
    "# Addendum: Output this notebook to $\\LaTeX$-formatted PDF file \\[Back to [top](#toc)\\]\n",
    "$$\\label{latex_pdf_output}$$\n",
    "\n",
    "The following code cell converts this Jupyter notebook into a proper, clickable $\\LaTeX$-formatted PDF file. After the cell is successfully run, the generated PDF may be found in the root NRPy+ tutorial directory, with filename\n",
    "[NR-02.pdf](NR-02.pdf) (Note that clicking on this link may not work; you may need to open the PDF file through another means.)\n",
    "\n",
    "**Important Note**: Make sure that the file name is right in all six locations, two here in the Markdown, four in the code below. \n",
    "\n",
    "* NR-02.pdf\n",
    "* NR-02.ipynb\n",
    "* NR-02.tex"
   ]
  },
  {
   "cell_type": "code",
   "execution_count": 1,
   "id": "abf583ef",
   "metadata": {
    "scrolled": false
   },
   "outputs": [
    {
     "name": "stdout",
     "output_type": "stream",
     "text": [
      "Created NR-02.tex, and compiled LaTeX file to PDF file NR-02.pdf\n"
     ]
    }
   ],
   "source": [
    "import cmdline_helper as cmd    # NRPy+: Multi-platform Python command-line interface\n",
    "cmd.output_Jupyter_notebook_to_LaTeXed_PDF(\"NR-02\")"
   ]
  },
  {
   "cell_type": "code",
   "execution_count": null,
   "id": "d0d0db4d",
   "metadata": {},
   "outputs": [],
   "source": []
  },
  {
   "cell_type": "code",
   "execution_count": null,
   "id": "41264965",
   "metadata": {},
   "outputs": [],
   "source": []
  }
 ],
 "metadata": {
  "kernelspec": {
   "display_name": "Python 3 (ipykernel)",
   "language": "python",
   "name": "python3"
  },
  "language_info": {
   "codemirror_mode": {
    "name": "ipython",
    "version": 3
   },
   "file_extension": ".py",
   "mimetype": "text/x-python",
   "name": "python",
   "nbconvert_exporter": "python",
   "pygments_lexer": "ipython3",
   "version": "3.10.4"
  }
 },
 "nbformat": 4,
 "nbformat_minor": 5
}
