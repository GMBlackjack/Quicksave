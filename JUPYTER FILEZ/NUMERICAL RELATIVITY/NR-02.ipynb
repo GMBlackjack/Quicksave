{
 "cells": [
  {
   "cell_type": "markdown",
   "id": "0c1bfe81",
   "metadata": {},
   "source": [
    "# Numerical Relativity Problems Chapter 2: The 3+1 Deconposition of Einstein's Equations\n",
    "\n",
    "## Authors: Gabriel M Steward"
   ]
  },
  {
   "cell_type": "markdown",
   "id": "479540e4",
   "metadata": {},
   "source": [
    "https://github.com/zachetienne/nrpytutorial/blob/master/Tutorial-Template_Style_Guide.ipynb\n",
    "\n",
    "Link to the Style Guide. Not internal in case something breaks. "
   ]
  },
  {
   "cell_type": "markdown",
   "id": "10780970",
   "metadata": {},
   "source": [
    "### </list_source_code> NRPy+ Source Code for this module:\n",
    "None, save the pdf conversion at the bottom of this document.  \n",
    "\n",
    "## Introduction:\n",
    "Now we take a look into \"so how do we actually go about doing this?\" via Numerical Relativity by Baumgarte and Shapiro.\n",
    "\n",
    "## </other>  Other (Optional):\n",
    "In order to fascilitate learning, whenever the opportunity arises Sympy will be used. \n",
    "\n",
    "### Note on Notation:\n",
    "Any new notation will be brought up in the notebook when it becomes relevant. \n",
    "\n",
    "### Citations:\n",
    "\n",
    "<a id='1'></a>\n",
    "[1] https://physics.stackexchange.com/questions/79157/square-bracket-notation-for-anti-symmetric-part-of-a-tensor (3-way and up antisymmetry formula)\n",
    "\n",
    "<a id='2'></a>\n",
    "[2] https://profoundphysics.com/christoffel-symbols-a-complete-guide-with-examples/ (Christoffel Symbols)"
   ]
  },
  {
   "cell_type": "markdown",
   "id": "56664bc2",
   "metadata": {},
   "source": [
    "<a id='toc'></a>\n",
    "\n",
    "# Table of Contents\n",
    "$$\\label{toc}$$\n",
    "\n",
    "[Problem 1](#P1) (Initial Satisfaction of Constraints)\n",
    "\n",
    "[Problem 2](#P2) (Adjusting Electromagnetism)\n",
    "\n",
    "[Problem 3](#P3) (Gauge adjustments)\n",
    "\n",
    "[Problem 4](#P4) (Coulomb Gauge)\n",
    "\n",
    "[Problem 5](#P5) (Rotation Free)\n",
    "\n",
    "[Problem 6](#P6) (Spacelike Entirely)\n",
    "\n",
    "[Problem 7](#P7) (Projected Tensors)\n",
    "\n",
    "[Problem 8](#P8) (3D Derivatives)\n",
    "\n",
    "[Problem 9](#P9) (The Inconsistent Product Rule)\n",
    "\n",
    "[Problem 10](#P10) (Rotation Free Returns)\n",
    "\n",
    "[Problem 11](#P11) (The Extrinsic Curvature Vanishes)\n",
    "\n",
    "[Problem 12](#P12) (Spacelike Acceleration)\n",
    "\n",
    "[Problem 13](#P13) (Acceleration Lapse)\n",
    "\n",
    "[Problem 14](#P14) (Schwartzchild Acceleration)\n",
    "\n",
    "Appendix A Break Begin\n",
    "\n",
    "[Problem A1](#PA1) (Equivalence of Covariant and Partial Derivatives in the Lie Derivative)\n",
    "\n",
    "[Problem A2](#PA2) (The Product Rule Holds for Lie Derivatives)\n",
    "\n",
    "[Problem A3](#PA3) (Exterior Derivative Commutation)\n",
    "\n",
    "[Problem A4](#PA4) (Lie Dragging of a Secondary Field, questionable)\n",
    "\n",
    "Appendix A Break End\n",
    "\n",
    "[Problem 15](#P15) (Return of the Reimann Tensor and Index Salad, long sketch work not reproduced)\n",
    "\n",
    "[Problem 16](#P16) (Spatial Vector Funtimes)\n",
    "\n",
    "34\n",
    "\n",
    "[PDF](#latex_pdf_output) (turn this into a PDF)"
   ]
  },
  {
   "cell_type": "markdown",
   "id": "cd9e5529",
   "metadata": {},
   "source": [
    "<a id='P1'></a>\n",
    "\n",
    "# Problem 1 \\[Back to [top](#toc)\\]\n",
    "$$\\label{P1}$$\n",
    "\n",
    "*Demonstrate that the constraint equations 2.2, if satisfied initially, are automatically satisfied at later times when the gravitational field is evolved by using the dynamical equations 2.3. Equivalently, show that the relation $\\partial_t (G^{a0} - 8\\pi T^{a0}) = 0$ will be satisfied at the initial time $x^0=t$, hence conclude that 2.2 will be satisfied at $x^0 = t+\\delta t$. Hint: use the Bianchi identities together with the equations of energy-momentum conservation to evaluate $\\nabla_b(G^{ab}-8\\pi T^{ab})$ at $x^0=t$*"
   ]
  },
  {
   "cell_type": "markdown",
   "id": "79b7eea1",
   "metadata": {},
   "source": [
    "2.2: $G^{a0} = 8\\pi T^{a0}$\n",
    "\n",
    "2.3: $G^{ij} = 8\\pi T^{ij}$\n",
    "\n",
    "1.23 (The Bianchi Identities): $\\nabla_e R_{abcd} + \\nabla_d R_{abec} + \\nabla_c R_{adbe} = 0$\n",
    "\n",
    "And naturally energy-momentum is conserved. Though, as we know, energy is rather hard to define in relativity..."
   ]
  },
  {
   "cell_type": "markdown",
   "id": "e7ac9029",
   "metadata": {},
   "source": [
    "This problem was originally done incorrectly, but then we found equation 2.1.\n",
    "\n",
    "$$ \\partial_t G^{a0} = -\\partial_i G^{ai} - G^{bc}\\Gamma^a_{bc} - G^{ab}\\Gamma^c_{bc} $$\n",
    "\n",
    "Since we know from page 6 that $\\nabla_b G^{ab}=0$ and $\\nabla_b T^{ab}$ = 0, the equality above also has to hold for T. \n",
    "\n",
    "$$ \\partial_t T^{a0} = -\\partial_i T^{ai} - T^{bc}\\Gamma^a_{bc} - T^{ab}\\Gamma^c_{bc} $$\n",
    "\n",
    "Since $ \\nabla_b(G^{ab}-8\\pi T^{ab}) = 0 $."
   ]
  },
  {
   "cell_type": "markdown",
   "id": "2cf5072d",
   "metadata": {},
   "source": [
    "This means we have\n",
    "\n",
    "$$ \\partial_t (G^{a0} - 8\\pi T^{a0}) = -\\partial_i G^{ai} - G^{bc}\\Gamma^a_{bc} - G^{ab}\\Gamma^c_{bc} + 8\\pi \\partial_i T^{ai} +8\\pi T^{bc}\\Gamma^a_{bc} +8\\pi T^{ab}\\Gamma^c_{bc} $$\n",
    "$$ = \\partial_i (-G^{ai}+8\\pi T^{ai}) + (-G^{bc}+8\\pi T^{bc})\\Gamma^a_{bc} + (-G^{ab}+8\\pi T^{ab})\\Gamma^c_{bc}   $$"
   ]
  },
  {
   "cell_type": "markdown",
   "id": "fac2f14b",
   "metadata": {},
   "source": [
    "From 1.32 the terms attached to the Christoffels obviously vanish. \n",
    "\n",
    "$$ \\partial_t (G^{a0} - 8\\pi T^{a0}) = \\partial_i (-G^{ai}+8\\pi T^{ai}) $$\n",
    "\n",
    "We want the left side to be zero so we have to show that the right is zero. "
   ]
  },
  {
   "cell_type": "markdown",
   "id": "0fdd7318",
   "metadata": {},
   "source": [
    "We can also do this with the full covariant derivative to get:\n",
    "\n",
    "$$ \\nabla_b(G^{ab}-8\\pi T^{ab}) = \\partial_b(G^{ab}-8\\pi T^{ab}) = 0 $$\n",
    "\n",
    "Which is essentially just a statement of what we already have above. "
   ]
  },
  {
   "cell_type": "markdown",
   "id": "dea19569",
   "metadata": {},
   "source": [
    "Maybe the book was just being confusing for no reason becasue we can easily show that the derivative is zero without even refering to the Bianchi Identities. \n",
    "\n",
    "$$\n",
    "\\begin{align}\n",
    "\\partial_t (G^{a0} - 8\\pi T^{a0}) &= \\partial_t G^{a0} - \\partial_t 8\\pi T^{a0}\\\\\n",
    "&= \\partial_t G^{a0} - 8\\pi \\partial_t T^{a0}\\\\\n",
    "&= 8 \\pi \\partial_t T^{a0} - 8\\pi \\partial_t T^{a0}\\\\\n",
    "&= 0 \\\\\n",
    "\\end{align}\n",
    "$$"
   ]
  },
  {
   "cell_type": "markdown",
   "id": "f4acc0fb",
   "metadata": {},
   "source": [
    "The only equaiton we use is 2.2, and the partial derivative sum rule. The steps above are taken in genreal: it does not matter what time \"t\" it is, it is always true. Weird... should be harder than this you'd think...\n",
    "\n",
    "In our work we also found an inadvertant proof for equation 2.1 via the Bianchi Identities. Might as well write it down. \n",
    "\n",
    "$$ 0 = \\nabla_b G^{ab} = \\nabla_t G^{at} + \\nabla_i G^{ai} = \\partial_t G^{at} + \\partial_i G^{ai} + G^{bc} \\Gamma^a_{bc} + G^{ab} \\Gamma^c_{bc} $$\n",
    "\n",
    "Which may be useful in the future. "
   ]
  },
  {
   "cell_type": "markdown",
   "id": "ee11ff0e",
   "metadata": {},
   "source": [
    "<a id='P2'></a>\n",
    "\n",
    "# Problem 2 \\[Back to [top](#toc)\\]\n",
    "$$\\label{P2}$$\n",
    "\n",
    "*Show that the evolution equations 2.11 and 2.12 preserve the constraint 2.5. i.e., show that*\n",
    "\n",
    "$$ \\frac{\\partial}{\\partial t} \\mathcal{C}_E = 0 $$"
   ]
  },
  {
   "cell_type": "markdown",
   "id": "f06ff5b1",
   "metadata": {},
   "source": [
    "2.5: $\\mathcal{C}_E = D_i E^i - 4\\pi \\rho = 0 $\n",
    "\n",
    "2.11: $ \\partial_t A_i = -E_i - D_i\\Phi $\n",
    "\n",
    "2.12: $ \\partial_t E_i = D_iD^jA_j - D^jD_jA^i - 4\\pi j_i $"
   ]
  },
  {
   "cell_type": "markdown",
   "id": "4004beeb",
   "metadata": {},
   "source": [
    "OKAY so there are pages upon pages of scratch work here that have gone absolutely nowhere, time to move on. \n",
    "\n",
    "UPDATE: this same exact problem was posed in Mini Numerical Relativity **Problem 2.1**, and we solved it there. For reference, the key realization was that $\\partial_t \\rho = -D_i j_i$ at which point the rest of it kind of falls into place. We work it out here in this notation for completion's sake. Remember, this is an EM problem, the metric is cartesian so vectors and one-forms are largely fungible. \n",
    "\n",
    "Take the time derivative of both sides. \n",
    "\n",
    "$$ \\partial_t \\mathcal C = \\partial_t D_i E^i - 4\\pi \\partial_t \\rho $$\n",
    "\n",
    "$$ \\Rightarrow \\partial_t \\mathcal C = \\partial_t D_i E^i + 4\\pi D_i j^i $$\n",
    "\n",
    "2.16 (in Mini Numerical Relativity) has $D_i E^i = 4\\pi \\rho$. Which means...\n",
    "\n",
    "$$ \\Rightarrow \\partial_t \\mathcal C = \\partial_t 4\\pi \\rho + 4\\pi D_i j^i $$\n",
    "\n",
    "$$ \\Rightarrow \\partial_t \\mathcal C = - 4\\pi D_i j^i + 4\\pi D_i j^i $$\n",
    "\n",
    "$$ \\Rightarrow \\partial_t \\mathcal C = 0 $$\n",
    "\n",
    "Tah-dah. "
   ]
  },
  {
   "cell_type": "markdown",
   "id": "9bc80a4f",
   "metadata": {},
   "source": [
    "<a id='P3'></a>\n",
    "\n",
    "# Problem 3 \\[Back to [top](#toc)\\]\n",
    "$$\\label{P3}$$\n",
    "\n",
    "*Show that a transformation to a new \"tilded\" gauge according to*\n",
    "\n",
    "$$ \\tilde\\Phi = \\Phi - \\frac{\\partial \\Lambda}{\\partial t} $$\n",
    "\n",
    "$$ \\tilde{A}_i = A_i + D_i \\Lambda $$\n",
    "\n",
    "*leaves the physical fields $E^i$ and $B^i$ unchanged*\n",
    "\n",
    "We do note that to be a gauge transformation the shifts have to be sufficiently small, so we know that the additional terms are small in comparison to the original ones. Thus we consider $\\Lambda$ and its derivative to be small."
   ]
  },
  {
   "cell_type": "markdown",
   "id": "b073a6f7",
   "metadata": {},
   "source": [
    "Let's go with a relation that has E in it:\n",
    "\n",
    "$$ \\partial_t A_i = -E_i -D_i \\Phi $$\n",
    "\n",
    "$$ \\Rightarrow E_i = - \\partial_t A_i -D_i \\Phi $$\n",
    "\n",
    "So if we replace our adjustments with our substitutions this BETTER be the same. \n",
    "\n",
    "$$ \\Rightarrow E_i = - \\partial_t A_i - \\partial_t D_i \\Lambda - D_i \\Phi + D_i \\partial_t \\Lambda $$\n",
    "\n",
    "$$ \\Rightarrow E_i = - \\partial_t A_i- D_i \\Phi $$\n",
    "\n",
    "So yes E has to be the same. "
   ]
  },
  {
   "cell_type": "markdown",
   "id": "47b8c8af",
   "metadata": {},
   "source": [
    "But what of B? Well, we can kind of think of this logically. E and B are intrisically linked, if E changes, B changes, if E stays the same, B stays the same. Thus, if one is unchanged, both are unchanged. 2.8 allows one to be calculated from the other. "
   ]
  },
  {
   "cell_type": "markdown",
   "id": "99052799",
   "metadata": {},
   "source": [
    "<a id='P4'></a>\n",
    "\n",
    "# Problem 4 \\[Back to [top](#toc)\\]\n",
    "$$\\label{P4}$$\n",
    "\n",
    "*In the so-called radiation, Coulomb, or transverse gauge, the divergence (or longitudinal) part of A is chosen to vanish. $D_iA^i = 0$. So that $A_i$ is purely transverse. Show that in this gague $\\Phi$ plays the role of a Coulomb potential, $D^iD_i\\Phi = -4\\pi \\rho$ and that the vector potential $A_i$ satisfies a simple inhomogeneous wave equation*\n",
    "\n",
    "$$ \\square A_i = -\\partial^2_t A_i + D^j D_j A_i = -4\\pi j_i + D_i(\\partial_t\\Phi) $$"
   ]
  },
  {
   "cell_type": "markdown",
   "id": "29f75d3b",
   "metadata": {},
   "source": [
    "This appears to be a problem in two parts, first we have to show that the potential is as always, knowing only that the physical covariant derivative for A always goes to zero. This knowledge does not immediately remove most restrictions, however--after all, derivatives of zero can still be something other than zero. The bane of our existence. \n",
    "\n",
    "NOTE: there was a section here about j=0. It does not. "
   ]
  },
  {
   "cell_type": "markdown",
   "id": "72f38421",
   "metadata": {},
   "source": [
    "What DOES help us solve it is 2.5, which, when reworded, states that $D_iE^i = 4\\pi \\rho$. With this knowledge, we can apply a covariant derivative on 2.11\n",
    "\n",
    "$$ D^i \\partial_t A_i = -D^iE_i - D^i D_i \\Phi$$ "
   ]
  },
  {
   "cell_type": "markdown",
   "id": "8e6be67a",
   "metadata": {},
   "source": [
    "The last term is the one we want. The left-hand side looks unevaluatable, but since the divergence vanishes, it better vanish equally at all times, thus the derivative of zero is zero in this case. This leaves us with:\n",
    "\n",
    "$$ \\Rightarrow D^i D_i \\Phi = -D^iE_i $$ \n",
    "\n",
    "$$ \\Rightarrow D^i D_i \\Phi = -4\\pi \\rho $$ \n",
    "\n",
    "Which is what it should be."
   ]
  },
  {
   "cell_type": "markdown",
   "id": "5335788d",
   "metadata": {},
   "source": [
    "And now the second part. We need to show:\n",
    "\n",
    "$$ \\square A_i = -\\partial^2_t A_i + D^j D_j A_i = -4\\pi j_i + D_i(\\partial_t\\Phi) $$\n",
    "\n",
    "Which is a relation of the square laplacian. The left hand side and the middle follow automatically. However, the last step does not."
   ]
  },
  {
   "cell_type": "markdown",
   "id": "27ab80c1",
   "metadata": {},
   "source": [
    "From the middle step, we can expand the time derivative of $A_i$ via 2.11\n",
    "\n",
    "$$ -\\partial^2_t A_i + D^j D_j A_i $$\n",
    "\n",
    "$$ = -\\partial_t (-E_i - D_i \\Phi) + D^j D_j A_i $$\n",
    "\n",
    "$$ = \\partial_tE_i + D_i \\partial_t \\Phi + D^j D_j A_i $$\n",
    "\n",
    "With this we have one of the terms we want. We can use 2.12 for the time derivative of E to get...\n",
    "\n",
    "$$ = D_iD^jA_j - D^jD_jA_i - 4\\pi j_i + D_i \\partial_t \\Phi + D^j D_j A_i $$\n",
    "\n",
    "The divergence vanishes, and two terms cancel, leaving us with:\n",
    "\n",
    "$$ = - 4\\pi j_i + D_i \\partial_t \\Phi $$\n",
    "\n",
    "Which is what we sought."
   ]
  },
  {
   "cell_type": "markdown",
   "id": "df559967",
   "metadata": {},
   "source": [
    "A note on the SQUARE:\n",
    "\n",
    "$\\square = \\partial^a \\partial_a = g^{ab} \\partial_b \\partial_a = -\\partial^2_t + \\partial^2_i$\n",
    "\n",
    "Note that the second term is not automatically D, it would only be D when the metric is spatial. Which it kind of has to be for the last step. Just a clarificaiton for potential confusion. Be careful with it. "
   ]
  },
  {
   "cell_type": "markdown",
   "id": "36081fcc",
   "metadata": {},
   "source": [
    "<a id='P5'></a>\n",
    "\n",
    "# Problem 5 \\[Back to [top](#toc)\\]\n",
    "$$\\label{P5}$$\n",
    "\n",
    "*Show that the normalized 1-form $\\omega_a = \\alpha\\Omega_a$ is rotation-free $\\omega_{[a} \\nabla_b \\omega_{c]} = 0$*"
   ]
  },
  {
   "cell_type": "markdown",
   "id": "db8d06e5",
   "metadata": {},
   "source": [
    "So first of all we need to be careful with the notation-- the brackets refer to the antisymmetric portion of the tensor. in this case it would be the tensor composed of all these things smashed together, which is a three-way antisymmetric tensor. We use [1](#1) to grab the three-index antisymmetry formula.\n",
    "\n",
    "$$ \\omega_{[a} \\nabla_b \\omega_{c]} $$\n",
    "\n",
    "$$ = \\alpha^2 \\Omega_{[a} \\nabla_b \\Omega_{c]} $$\n",
    "\n",
    "$$ = \\alpha^2 \\nabla_{[a}t \\nabla_b \\nabla_{c]}t $$\n",
    "\n",
    "2.20 lets us know that $\\nabla_{[a}\\nabla_{b]}t = 0$. Perhaps we can make use of this. This fact may be rather obvious since derivative order can be changed at will, but the extra t we have in the middle here complicates things now. The antisymmetric expansion gives us:\n",
    "\n",
    "$$ = \\alpha^2 \\frac{1}{3!} \\left[ \\nabla_{a}t \\nabla_b \\nabla_{c}t + \\nabla_{c}t \\nabla_a \\nabla_{b}t + \\nabla_{b}t \\nabla_c \\nabla_{a}t - \\nabla_{a}t \\nabla_c \\nabla_{b}t - \\nabla_{b}t \\nabla_a \\nabla_{c}t - \\nabla_{c}t \\nabla_b \\nabla_{a}t \\right]$$\n",
    "\n",
    "We note that every term cancels because the last two $\\nabla$s can be shuffled at will, meaning a + term will always cancel with a - term. Thus, it goes to zero. \n",
    "\n",
    "Now as for what exactly this means physically... what DOES rotation-free mean? Presumably it means it's immune to rotation or lacks the capacity to rotate, but the physical intuition is not coming today. "
   ]
  },
  {
   "cell_type": "markdown",
   "id": "b9fe6abe",
   "metadata": {},
   "source": [
    "<a id='P6'></a>\n",
    "\n",
    "# Problem 6 \\[Back to [top](#toc)\\]\n",
    "$$\\label{P6}$$\n",
    "\n",
    "*Show that $\\gamma^a_b v^b$, where $v^b$ is an arbitrary spacetime vector, is purely spatial.*\n",
    "\n",
    "Just so we're clear, $v^b = (t,x,y,z).$ The final result of what we get here better not have any time in it. \n",
    "\n",
    "2.30 gives us the projection operator, $\\gamma^a_b = \\delta^a_b + n^an_b$"
   ]
  },
  {
   "cell_type": "markdown",
   "id": "aa85f557",
   "metadata": {},
   "source": [
    "This was originally done INCORRECTLY. It was done correctly in Mini Numerical Relativity **Problem 2.5**, and has work of:\n",
    "\n",
    "$$ n^a(g^a_b + n^an_b)A^b $$\n",
    "\n",
    "$$ = n^ag^a_bA^b + n^an^an_bA^b $$\n",
    "\n",
    "$$ = n^a\\delta^a_bA^b + n^an^bn_bA^a $$\n",
    "\n",
    "$$ = n^aA^a - n^aA^a $$\n",
    "\n",
    "$$ = 0 $$\n",
    "\n",
    "Albeit with slightly different notation. "
   ]
  },
  {
   "cell_type": "markdown",
   "id": "c6af179b",
   "metadata": {},
   "source": [
    "<a id='P7'></a>\n",
    "\n",
    "# Problem 7 \\[Back to [top](#toc)\\]\n",
    "$$\\label{P7}$$\n",
    "\n",
    "*Show that for the second rank tensor $T_{ab}$ we have*\n",
    "\n",
    "$$ T_{ab} = \\perp T_{ab} - n_an^c \\perp T_{cb} - n_bn^c \\perp T_{ac} + n_an_bn^cn^dT_{cd}. $$\n",
    "\n",
    "(Assisted by Leo Werneck)"
   ]
  },
  {
   "cell_type": "markdown",
   "id": "9a9898f7",
   "metadata": {},
   "source": [
    "Curiously, this seems to be a case of working backward. We have projections of the tensor, we need to reclaim the original tensor with them. (Or think of it as putting the tensor in terms of its projections... sorta. The motivation is a bit unclear). We are warned in the book to use the projection symbol with some care since it only applies to the free indices of the tensor that it operates on. \n",
    "\n",
    "First step, let's expand all the projections via 2.31. \n",
    "\n",
    "$$ T_{ab} = \\gamma^c_a\\gamma^d_b T_{cd} - n_an^c \\gamma^a_c \\gamma^d_b T_{ad} - n_bn^c \\gamma^d_a \\gamma^b_c T_{bd} + n_an_bn^cn^dT_{cd}. $$"
   ]
  },
  {
   "cell_type": "markdown",
   "id": "32000c8a",
   "metadata": {},
   "source": [
    "NOTE: the equality above is still unproven, we need to show in the end $T_{ab} = T_{ab}$ or something obviously equivalent. --Review GM. \n",
    "\n",
    "Now, here's the thing. \n",
    "\n",
    "$$ n_a \\gamma^b_a = n_a \\delta^b_a + n_an^an^b = n^b - n^b = 0 $$\n",
    "\n",
    "The above just straight up vanishes. Which means the two middle terms vanish. \n",
    "\n",
    "$$ T_{ab} = \\gamma^c_a\\gamma^d_b T_{cd} + n_an_bn^cn^dT_{cd} $$."
   ]
  },
  {
   "cell_type": "markdown",
   "id": "4a4d2abd",
   "metadata": {},
   "source": [
    "Now we can do the \"add zero\" trick. Which we means we can add *anything* spatially contracted and then run along $n^a$. We can use this to get the binomial we've been hutning for for so long. (You may not be able to see all the work, but trust us, it was a headache)\n",
    "\n",
    "$$ T_{ab} = \\gamma^c_a\\gamma^d_b T_{cd} - n_an^c \\gamma^c_a \\gamma^d_bT_{cd} - n_bn^d \\gamma^c_a \\gamma^d_bT_{cd} + n_an_bn^cn^dT_{cd} $$.\n",
    "\n",
    "Note that $\\gamma^a_b$ always makes something purely spatial, meaning any term that is then contracted over $n^a$ is zero, no matter what. So those terms might as well not exist. But we can still play pretend. \n",
    "\n",
    "$$ = (\\gamma^c_a - n_an^c)(\\gamma^d_b-n_bn^a)T_{cd}$$\n",
    "\n",
    "2.30 informs us that the binomials in parentheses are delta functions! Specifically:\n",
    "\n",
    "$$ = (\\delta^c_a)(\\delta^d_b)T_{cd} = T_{ab}$$\n",
    "\n",
    "Which is what we sought to show. "
   ]
  },
  {
   "cell_type": "markdown",
   "id": "ad7c3ed5",
   "metadata": {},
   "source": [
    "BONUS: in the failed work we did nonetheless derive this potentially helpful relation:\n",
    "\n",
    "Now we recall from 2.24 that every normal vector *contains* a metric. The best part is we can choose exactly what form that metric takes for maximum simplification. More specifically, we choose indeces such that we end up with forms akin to $g^{ab} g_{bc} = g^a_c = \\delta^a_c$ and deltas are really easy to make vanish. Furthermore, we played with indeces and found:\n",
    "\n",
    "$$ n^a = -g^{ab}\\omega_b \\Rightarrow n_c = -g_{ac}g^{ab}\\omega_b = -\\delta^b_c \\omega_b = -\\omega_c$$\n",
    "\n",
    "Which makes this quite a bit simpler. Watch the negative sign! (Which doesn't show up here since we always end up with two of them)"
   ]
  },
  {
   "cell_type": "markdown",
   "id": "3bbdbd4a",
   "metadata": {},
   "source": [
    "<a id='P8'></a>\n",
    "\n",
    "# Problem 8 \\[Back to [top](#toc)\\]\n",
    "$$\\label{P8}$$\n",
    "\n",
    "*Show that the 3-dimensional covariant derivative is compatible with the spatial metric $\\gamma_{ab}$, that is, show that $D_a\\gamma_{bc} = 0$*"
   ]
  },
  {
   "cell_type": "markdown",
   "id": "5d15ba80",
   "metadata": {},
   "source": [
    "Let's write this out carefully. When acting on a scalar, the covariant derivative follows 2.40: $D_af = \\gamma_a^b \\nabla_b f$ For our purposes replace b with d since we have other indeces around. \n",
    "\n",
    "Acting on other tensors involves tacking on more $\\gamma$ functions based on the number of indeces. For instance, in our case:\n",
    "\n",
    "$$ D_a\\gamma_{bc} =  \\gamma^e_b \\gamma^f_c \\gamma_a^d \\nabla_d\\gamma_{ef} $$\n",
    "\n",
    "We just need to show that this is in fact zero. \n",
    "\n",
    "First, expand out the gamma. \n",
    "\n",
    "$$ =  \\gamma^e_b \\gamma^f_c \\gamma_a^d \\nabla_d(g_{ef} + n_en_f)$$\n",
    "\n",
    "The first covariant derivative of the g-metric is always zero. As for the n components...\n",
    "\n",
    "$$ =  \\gamma^e_b \\gamma^f_c \\gamma_a^d (n_e\\nabla_dn_f + n_f\\nabla_dn_e)$$\n",
    "\n",
    "Now, each of the projection operators are acting on a $n_a$ object, that is, the thing we defined AS the normal. Which is purely TEMPORAL and thus when projected will go to zero, guaranteed. This gets rid of both the other terms. \n",
    "\n",
    "$$ =0 $$"
   ]
  },
  {
   "cell_type": "markdown",
   "id": "195934b7",
   "metadata": {},
   "source": [
    "<a id='P9'></a>\n",
    "\n",
    "# Problem 9 \\[Back to [top](#toc)\\]\n",
    "$$\\label{P9}$$\n",
    "\n",
    "*Show that for a scalar product $v^aw_a$ the Leibnitz rule*\n",
    "\n",
    "$$D_a(v^bw_b) = v^bD_aw_b + w_bD_av^b$$\n",
    "\n",
    "*Only holds if $v^a$ and $v_b$ are purely spatial*\n",
    "\n",
    "Oho, trying to tell me the product rule is wrong are you? Well... yeah that makes sense. "
   ]
  },
  {
   "cell_type": "markdown",
   "id": "f317da3d",
   "metadata": {},
   "source": [
    "Anyway a scalar product is a SCALAR so the 3D derivative becomes\n",
    "\n",
    "$$ \\gamma^c_a \\nabla_c (v^bw_b) $$\n",
    "\n",
    "Now we know the product rule applies to the normal covariant derivative, so we can use it here.\n",
    "\n",
    "$$ \\gamma^c_a \\left[ \\nabla_c (v^b) w_b + v^b \\nabla_c (w_b) \\right] $$\n",
    "\n",
    "Now, it sure seems like no matter what $\\gamma$ can just be pulled in and show that the product rule still applies... but let's think about what $\\gamma$ IS. The form we have is 2.30, which is the projection of a 4-dimensional tensor into a spatial slice. Well, if v and w are spatial, then the result is obvious: projection does nothing if it's already projected, so the rule must still hold. \n",
    "\n",
    "But that's only half of the proof. We need to show that it is NOT true when v or w or both has a temporal component. This is actually easy to see: let there be v = (1,x,y,z) and w = (0,x,y,z). When they have their fancy dot product they just end up with \"$x^2+y^2+z^2$\" the temporal components completley cancel, then everything goes throgh and acts just fine.\n",
    "\n",
    "For the side of the product rule where D acts on v alone will remove the temporal component entirely. However, in the case where D acts on w, the temporal component in v is still there. Thus when $\\gamma$ goes through it WILL act on that vector and project it. Which is to say *a situation may be constructed where $\\gamma$ changes the left side of the rule without the right, necessarily breaking the equality*. Essentially what we've done is proof by counterexample, ableit somewhat generally. "
   ]
  },
  {
   "cell_type": "markdown",
   "id": "01bf436a",
   "metadata": {},
   "source": [
    "Put another way, if either w or v has a temporal component, when $\\gamma$ goes through the vector by necessity must be altered to remove it, it doesn't matter how exactly. However, on the opposite side, there is no alteration occuring, that is to say, \"no change\". \n",
    "\n",
    "The end result of all this would be something akin to:\n",
    "\n",
    "$$D_a(v^bw_b) = v^{b '} D_aw_b + w_bD_av^b$$\n",
    "\n",
    "Where the prime vector has been altered in some fashion. This is not a general rule, this is just our specific case. \n",
    "\n",
    "How exactly $\\gamma$ acts can be left vague. Good for us! "
   ]
  },
  {
   "cell_type": "markdown",
   "id": "ecef8ecf",
   "metadata": {},
   "source": [
    "<a id='P10'></a>\n",
    "\n",
    "# Problem 10 \\[Back to [top](#toc)\\]\n",
    "$$\\label{P10}$$\n",
    "\n",
    "*Show that the twist $\\omega_{ab}$ has to vanish as a consequence of $n^a$ being rotation-free. See **Problem 5**.*\n"
   ]
  },
  {
   "cell_type": "markdown",
   "id": "4fc38a58",
   "metadata": {},
   "source": [
    "What **Problem 5** actually shows is that $\\omega_a$ is rotation free. That said, since it is rotation free, and $n^a$ is constructed from it and the metric, obviously the same holds for it. \n",
    "\n",
    "So the question is why does this make the twist vanish? (Such an excellent name, the Twist...) The twist is given by 2.48.\n",
    "\n",
    "$$ \\omega_{ab} = \\gamma_a^c \\gamma_b^d \\nabla_{[c}n_{d]} $$\n",
    "\n",
    "And the rotation-free requirement is 2.23.\n",
    "\n",
    "$$\\omega_{[a} \\nabla_b \\omega_{c]} = 0 = n_{[a} \\nabla_b n_{c]} $$\n",
    "\n",
    "**Problem 7** can confirm that this is actually a direct substitution, just with a negative sign. Notably since there are two of them the signs cancel. "
   ]
  },
  {
   "cell_type": "markdown",
   "id": "2f420f35",
   "metadata": {},
   "source": [
    "Note that all $\\omega$ are actually $\\alpha\\Omega$ which means we actuallky have:\n",
    "\n",
    "$$ \\omega_{ab} = \\gamma_a^c \\gamma_b^d \\alpha \\nabla_{[c}\\Omega_{d]} $$\n",
    "\n",
    "And from 2.20 we know that that antisymmetric portion goes to zero. Thus everything goes to zero and the twist vanishes. \n",
    "\n",
    "...Seems too simple..."
   ]
  },
  {
   "cell_type": "markdown",
   "id": "eb483591",
   "metadata": {},
   "source": [
    "<a id='P11'></a>\n",
    "\n",
    "# Problem 11 \\[Back to [top](#toc)\\]\n",
    "$$\\label{P11}$$\n",
    "\n",
    "*Show that the extrinsic curvature of t=constant hypersurfaces of the Schwarzchild metric 2.35 vanishes.*"
   ]
  },
  {
   "cell_type": "markdown",
   "id": "e2c04d9b",
   "metadata": {},
   "source": [
    "The curvature is given by 2.49\n",
    "\n",
    "$$ K_{ab} = -\\gamma^c_a\\gamma^d_b\\nabla_c n_d $$.\n",
    "\n",
    "We just need to evaluate this for Schwarzchild geometry. Which we actually have outlined in other places. The spatial metric is 2.39\n",
    "\n",
    "$$ \\gamma_{ab} = \\left( 1 + \\frac{M}{2r}\\right)^4 diag(0,1,r^2,r^2sin^2\\theta) $$\n",
    "\n",
    "And the normal vector is \n",
    "\n",
    "$$ n^a = -g^{ab}\\omega_b = \\frac{1+M/2r}{1-M/2r}(1,0,0,0) $$\n",
    "\n",
    "Now, these are not exactly in the right forms. But we can alter the curvature equation to *make* it the right forms!\n",
    "\n"
   ]
  },
  {
   "cell_type": "markdown",
   "id": "b44280df",
   "metadata": {},
   "source": [
    "$$ K_{ab} = - g^{cf}g^{dg}g_{dh} \\gamma_{fa}\\gamma_{gb}\\nabla_c n^h $$."
   ]
  },
  {
   "cell_type": "markdown",
   "id": "b21d22db",
   "metadata": {},
   "source": [
    "Now, in OUR metric, these terms only exist in certain locations. The easiest result is to remove all non-diagonals.\n",
    "\n",
    "$$ K_{ab} = - g^{ca}g^{db}g_{dh} \\gamma_{aa}\\gamma_{bb}\\nabla_c n^h $$.\n",
    "\n",
    "$$ K_{ab} = - g^{ca} \\delta^b_h \\gamma_{aa}\\gamma_{bb}\\nabla_c n^h $$.\n",
    "\n",
    "$$ K_{ab} = - g^{ca} \\gamma_{aa}\\gamma_{bb}\\nabla_c n^b $$."
   ]
  },
  {
   "cell_type": "markdown",
   "id": "f8be9bde",
   "metadata": {},
   "source": [
    "And that seals it! The only time n exists is when b=t, but when b=t, the $\\gamma$ does not exist! and the other way around is true as well meaning that, no matter what, the extrinsic curvature will vanish. Now at first we wonder why we need to think about why t=const here, what if t wasn't const? Well. Remember that the hypersurfaces we've been modeling this entire time have t=const as the assumption the *entire time*. It's baked in to what we've done above. \n",
    "\n",
    "NOTE: the index notation here is bad. But the argument is still correct. Having done other problems, though, we now recognize this problem as essentially pointing out that there is no shift vector. --Review GM. "
   ]
  },
  {
   "cell_type": "markdown",
   "id": "d3c1547b",
   "metadata": {},
   "source": [
    "<a id='P12'></a>\n",
    "\n",
    "# Problem 12 \\[Back to [top](#toc)\\]\n",
    "$$\\label{P12}$$\n",
    "\n",
    "*Show that the acceleration $a_a$ is purely spatial, $n^aa_a = 0$*"
   ]
  },
  {
   "cell_type": "markdown",
   "id": "7fe5e6ab",
   "metadata": {},
   "source": [
    "The grief that this problem gave is is only made worse by the fact that the answer is so trivial.\n",
    "\n",
    "$$ n^aa_a = n^an^b\\nabla_bn_a = n^bn^a\\nabla_bn_a = 0 $$\n",
    "\n",
    "Yaaaaay."
   ]
  },
  {
   "cell_type": "markdown",
   "id": "15d45ba1",
   "metadata": {},
   "source": [
    "<a id='P13'></a>\n",
    "\n",
    "# Problem 13 \\[Back to [top](#toc)\\]\n",
    "$$\\label{P13}$$\n",
    "\n",
    "*Show that the acceleration $a_a$ is related to the lapse $\\alpha$ according to* \n",
    "\n",
    "$$ a_a = D_a ln \\alpha $$\n",
    "\n",
    "Solved in **Problem 2.10** of Mini Numerical Relativity.\n",
    "\n",
    "$$ a_a = n^b \\nabla_b n_a $$\n",
    "\n",
    "$$ \\Rightarrow a_a = - n^b \\nabla_b \\alpha \\nabla_a t $$\n",
    "\n",
    "$$ \\Rightarrow a_a = - n^b \\alpha \\nabla_b \\nabla_a t - n^b (\\nabla_b \\alpha) (\\nabla_a t)   $$\n",
    "\n",
    "$$ \\Rightarrow a_a = - n^b \\alpha \\nabla_a \\nabla_b t - n^b (\\nabla_b \\alpha) (\\nabla_a t)   $$\n",
    "\n",
    "$$ \\Rightarrow a_a = + \\alpha n^b \\nabla_a \\frac1\\alpha n_b - n^b (\\nabla_b \\alpha) (\\nabla_a t)   $$\n",
    "\n",
    "$$ \\Rightarrow a_a = n^b \\nabla_a n_b + \\alpha n^b n_b \\nabla_a \\frac1\\alpha - n^b (\\nabla_b \\alpha) (\\nabla_a t)   $$\n",
    "\n",
    "$$ \\Rightarrow a_a = 0 - \\alpha \\nabla_a \\frac1\\alpha - n^b (\\nabla_b \\alpha) (\\nabla_a t)   $$\n",
    "\n",
    "$$ \\Rightarrow a_a = - \\alpha \\nabla_a \\frac1\\alpha + n^b n_a \\frac1\\alpha (\\nabla_b \\alpha)    $$\n",
    "\n",
    "$$ \\Rightarrow a_a = - \\alpha \\nabla_a \\frac1\\alpha + (\\gamma^b_a - \\delta^b_a) (\\nabla_b ln \\alpha)    $$\n",
    "\n",
    "$$ \\Rightarrow a_a = \\nabla_a ln\\alpha + D_a ln\\alpha - \\delta^b_a \\nabla_b ln \\alpha    $$\n",
    "\n",
    "$$ \\Rightarrow a_a = \\nabla_a ln\\alpha + D_a ln\\alpha - \\nabla_a ln \\alpha    $$\n",
    "\n",
    "$$ \\Rightarrow a_a = D_a ln\\alpha $$"
   ]
  },
  {
   "cell_type": "markdown",
   "id": "1ad9580f",
   "metadata": {},
   "source": [
    "<a id='P14'></a>\n",
    "\n",
    "# Problem 14 \\[Back to [top](#toc)\\]\n",
    "$$\\label{P14}$$\n",
    "\n",
    "*Find the acceleration $a_a$ for the normal observer 2.38 in Schwarzchild spacetime.*\n",
    "\n",
    "The definition of acceleration is $a_a = n^b \\nabla_b n_a$. For the Schwarzchild metric we would need to grab Christoffels to deal with this... and for the alternative method we would ALSO need them so egh let's just go grab them from [2](#2). Now that we have them, we can use 2.38:\n",
    "\n",
    "$$ n^a = \\frac{1+M/2r}{1-M/2r}(1,0,0,0) $$\n",
    "\n",
    "This means, rather obviously, that only $n^t$ actually exists. "
   ]
  },
  {
   "cell_type": "markdown",
   "id": "258dddde",
   "metadata": {},
   "source": [
    "The normal observer is the one moving along the normal vector, which essentially means that the acceleration itself is only happening in the time component as well. (We can see this since the xyz terms in our expression all vanish.) NOTE: Athis can also be thought of as a lack of shift vector. --Review GM. \n",
    "\n",
    "Curiously the sum over the b index also goes to nothing except for t, which leaves us with\n",
    "\n",
    "$$ a_t = n^t \\nabla_t n_t.$$\n",
    "\n",
    "Of course, the issue is that our vector n isn't in the right index form, so we have to:\n",
    "\n",
    "$$ = n^t \\nabla_t g_{tt} n^t.$$"
   ]
  },
  {
   "cell_type": "markdown",
   "id": "c046ecbf",
   "metadata": {},
   "source": [
    "Now we happen to just know what the Schwarzchild metric is, so this isn't an issue. The tt component is $(-\\frac{1-M/2r}{1+M/2r})^2$ which gives us... a result of $-\\frac{1-M/2r}{1+M/2r}$. However, this is entirely independent of time. The partial derivative portion goes to zero... but what of the Christoffel? \n",
    "\n",
    "$$ = - n^t n_u \\Gamma^u_{tt}$$\n",
    "\n",
    "Only one of the Christoffels exists, $\\Gamma^r_{tt}$. However, this means we have to use $u_r$! But as we know from Mini Numerical Relativity 2.36, that term is ALWAYS zero. Which means the entire thing goes to zero! No acceleration! \n",
    "\n",
    "But wait, didn't we say there should be temporal acceleration?\n",
    "\n",
    "Well, as it turns out, it's merely that there COULD be. As it is, the normal observer is effectively moving forward in time at a constant rate. (whatever it thinks that is at the moment.) We can also think of this as the LAPSE being constant, which is to say, no distortion. Which is kind of really weird if you think about it... \n",
    "\n",
    "But we actually know what that lapse is, since we have $n^a$. \n",
    "\n",
    "$$ \\alpha = \\frac{1-M/2r}{1+M/2r} $$\n",
    "\n",
    "From Mini Numerical Relativity 2.40. "
   ]
  },
  {
   "cell_type": "markdown",
   "id": "815352ce",
   "metadata": {},
   "source": [
    "# A.1 An Aside on Lie Derivatives\n",
    "\n",
    "The book introduced Lie Derivatives and said to refer to the appendix and guess what, there are problems back there, so we're going to DO them. \n",
    "\n",
    "<a id='PA1'></a>\n",
    "\n",
    "# Problem A1 \\[Back to [top](#toc)\\]\n",
    "$$\\label{PA1}$$\n",
    "\n",
    "*Show that the expression*\n",
    "\n",
    "$$ \\mathcal{L}_{\\textbf X} T^a_b = X^c \\nabla_c T^a_b - T^c_b \\nabla_c X^a + T^a_c \\nabla_b X^c $$\n",
    "\n",
    "*where $\\nabla_a$ denotes a covariant derivative with a symmetric connection, is equivalent to A.8*\n",
    "\n",
    "$A.8: \\mathcal{L}_{\\textbf X} T^a_b = X^c \\partial_c T^a_b - T^c_b \\partial_c X^a + T^a_c \\partial_b X^c $"
   ]
  },
  {
   "cell_type": "markdown",
   "id": "a3486843",
   "metadata": {},
   "source": [
    "The symmetric connection merely means theat the Christoffels are symmetric on their lower indeces. Which... well we kind of usually assume they are but in the GENERAL Lie Derivative case they may not be. Regardless, what we ultimately need here is to show that every Christoffel term vanishes, leaving only the partial derivative terms. For that, we turn to our book on General Relativity. Equations 6.33 through 6.35 give us all the information we need about covariant derivatives acting on tensors. We already know the partial derivative terms are prsent in A.8, so we actually want to show that:\n",
    "\n",
    "$$ 0 = X^c(\\Gamma^a_{uc} T^u_b - \\Gamma^u_{cb} T^a_u) - T^c_b(\\Gamma^a_{uc} X^u) + T^a_c(\\Gamma^c_{ub} X^u) $$\n"
   ]
  },
  {
   "cell_type": "markdown",
   "id": "d0d66e2e",
   "metadata": {},
   "source": [
    "Note that every term is summed over both c and u. WIth some clever index shuffling, we can arrive at:\n",
    "\n",
    "$$ \\Rightarrow 0 = X^u\\Gamma^a_{cu} T^c_b - X^u\\Gamma^c_{ub} T^a_c - T^c_b\\Gamma^a_{uc} X^u + T^a_c\\Gamma^c_{ub} X^u $$"
   ]
  },
  {
   "cell_type": "markdown",
   "id": "02aae462",
   "metadata": {},
   "source": [
    "Which only cancels if the Christoffels in the first and third terms can shuffle their lower indeces. Which is, in fact, a thing we were given. "
   ]
  },
  {
   "cell_type": "markdown",
   "id": "c742d6df",
   "metadata": {},
   "source": [
    "<a id='PA2'></a>\n",
    "\n",
    "# Problem A2 \\[Back to [top](#toc)\\]\n",
    "$$\\label{PA2}$$\n",
    "\n",
    "*Show that $\\mathcal{L}_{\\textbf X}(\\nu^a\\omega_b) = \\nu^a \\mathcal{L}_{\\textbf X}\\omega_b + \\omega_b \\mathcal{L}_{\\textbf X}(\\nu^a) $*\n",
    "\n",
    "Ah, our good friend the product rule. \n",
    "\n",
    "This is not as trivial as it appears to be, for the equation relating the Lie derivative of a tensor is separate from that of the Lie derivative of a vector/one form. A.8 is the tensor, A.13 is the vector, and A.14 is the one form. Let's make the relation explicit. "
   ]
  },
  {
   "cell_type": "markdown",
   "id": "24cd88bf",
   "metadata": {},
   "source": [
    "$$\\mathcal{L}_{\\textbf X}(\\nu^a\\omega_b) = \\nu^a \\mathcal{L}_{\\textbf X}\\omega_b + \\omega_b \\mathcal{L}_{\\textbf X}(\\nu^a) $$\n",
    "\n",
    "$$\\Rightarrow X^c \\nabla_c (\\nu^a\\omega_b) - (\\nu^c\\omega_b)\\nabla_c X^a + (\\nu^a\\omega_c)\\nabla_b X^c = \\nu^a X^c \\nabla_c \\omega_b + \\nu^a \\omega_c \\nabla_b X^c + \\omega_b X^c \\nabla_c \\nu^a  - \\omega_b \\nu^c \\nabla_c X^a $$\n",
    "\n",
    "Using the covariant derivative version to make everything match up. Now covariant derivatives DO obey the product rule. "
   ]
  },
  {
   "cell_type": "markdown",
   "id": "e6b0e793",
   "metadata": {},
   "source": [
    "$$\\Rightarrow X^c \\nu^a \\nabla_c \\omega_b + X^c \\omega_b \\nabla_c \\nu^a- (\\nu^c\\omega_b)\\nabla_c X^a + (\\nu^a\\omega_c)\\nabla_b X^c = \\nu^a X^c \\nabla_c \\omega_b + \\nu^a \\omega_c \\nabla_b X^c + \\omega_b X^c \\nabla_c \\nu^a  - \\omega_b \\nu^c \\nabla_c X^a $$\n",
    "\n",
    "$$\\Rightarrow X^c \\nu^a \\nabla_c \\omega_b + X^c \\omega_b \\nabla_c \\nu^a = \\nu^a X^c \\nabla_c \\omega_b  + \\omega_b X^c \\nabla_c \\nu^a  $$\n",
    "\n",
    "Which is now obviously true. "
   ]
  },
  {
   "cell_type": "markdown",
   "id": "9db4609f",
   "metadata": {},
   "source": [
    "<a id='PA3'></a>\n",
    "\n",
    "# Problem A3 \\[Back to [top](#toc)\\]\n",
    "$$\\label{PA3}$$\n",
    "\n",
    "*Show that for a p-form $\\tilde{\\pmb{\\Omega}}$, $ \\mathcal{L}_{\\pmb X}\\tilde{\\pmb d}\\tilde{\\pmb{\\Omega}} = \\tilde{\\pmb d}\\mathcal{L}_{\\pmb X}\\tilde{\\pmb{\\Omega}} $*\n",
    "\n",
    "Now that's a mess of bolding. "
   ]
  },
  {
   "cell_type": "markdown",
   "id": "5f0e61ff",
   "metadata": {},
   "source": [
    "Okay so annoyingly the trick to how to deal with this comes from A.18, which is in the NEXT SECTION and we didn't even look at it, harumph. Anyway, the expression above is annoying, let's write it out a little differently. \n",
    "\n",
    "$$ \\mathcal{L}_{\\pmb X} \\partial_a \\Omega_{bcdef...} $$\n",
    "\n",
    "Now we know the one-form is just the \"gradient\" (or what we often think of as the gradient), and all it does is take partial derivatives of every single component in the p-form. \n",
    "\n",
    "Well guess what, derivatives commute and can be taken in any order. However, from a cursory inspection of A.18 it appears constants are thrown into the middle of everything, so it's not eactly a trivial result... The first term is the problem child--every subsequent term has the $\\Omega$ out front where the derivative can easily access it no problem. \n",
    "\n",
    "But the first term...\n",
    "\n",
    "$$ \\mathcal{L}_{\\pmb X} \\Omega_{bcdef...} = X^o \\nabla_o \\Omega_{bcdef...} + \\text{nice terms} $$\n",
    "\n",
    "Now if we add the one-form back in, \n",
    "\n",
    "$$ \\partial_a \\mathcal{L}_{\\pmb X} \\Omega_{bcdef...} = \\partial_a X^o \\nabla_o \\Omega_{bcdef...} + \\text{nice terms} $$\n",
    "\n",
    "Now for the other relation, we actually get two terms out since if the Lie Derivative acts on the entire \"one form\" at once, it produces a term for every single index, including the index on the exterior derivative.\n",
    "\n",
    "\n",
    "$$  \\mathcal{L}_{\\pmb X} \\partial_a \\Omega_{bcdef...} = X^o \\nabla_o \\partial_a \\Omega_{bcdef...} + \\partial_o \\Omega_{bcdef...}\\nabla_a X^o + \\text{nice terms} $$\n",
    "\n",
    "Because we didn't have a term that changed the differential index before. However, all the \"nice terms\" are identical and just go poof, making the equality:\n",
    "\n",
    "$$ \\partial_a X^o \\nabla_o \\Omega_{bcdef...} = X^o \\nabla_o \\partial_a \\Omega_{bcdef...} + \\partial_o \\Omega_{bcdef...}\\nabla_a X^o $$\n",
    "\n",
    "Which we might be able to work with, let's see. "
   ]
  },
  {
   "cell_type": "markdown",
   "id": "735115a6",
   "metadata": {},
   "source": [
    "Expand the left side by the product rule.\n",
    "\n",
    "$$ \\Rightarrow \\nabla_o \\Omega_{bcdef...} \\partial_a X^o + X^o \\partial_a \\nabla_o \\Omega_{bcdef...} = X^o \\nabla_o \\partial_a \\Omega_{bcdef...} + \\partial_o \\Omega_{bcdef...}\\nabla_a X^o $$\n",
    "\n",
    "Since derivatives commute we have the two terms closest to the equals sign cancel.\n",
    "\n",
    "$$ \\Rightarrow \\nabla_o \\Omega_{bcdef...} \\partial_a X^o  = \\partial_o \\Omega_{bcdef...}\\nabla_a X^o $$"
   ]
  },
  {
   "cell_type": "markdown",
   "id": "ce8c8f25",
   "metadata": {},
   "source": [
    "Now this is quite promising. In fact, covariant and partial derivatives are interchangeable... IF we have a symmetric affine connection, that is, that the Christoffels commute. Notably, this assumption has been *implicit* in all our work so far since we relied on A.11, A.13, A.14, all of which use the covariant derivative version. \n",
    "\n",
    "We are not sure this assumption is valid, to be sure... HOWEVER! The *general* form of the Lie Derivative uses partial derivaties, so if we doubt this step, we can revert to A.8 and use the partial derivative version. Which means that, even in the GENERAL case...\n",
    "\n",
    "$$ \\Rightarrow \\partial_o \\Omega_{bcdef...} \\partial_a X^o  = \\partial_o \\Omega_{bcdef...}\\partial_a X^o $$\n",
    "\n",
    "Which IS clearly true and what we sought to prove. \n",
    "\n",
    "From work elsewhere it's seeming like it's a very unusual day when the Christoffels can't shuffle their lower indeces. In fact by the definition we generally use... it's always true so long as the metric is symmetric. Which it better be in relativity. Thus, we are free to replace Lie derivative terms at will with no fear of consequences. "
   ]
  },
  {
   "cell_type": "markdown",
   "id": "d4ba352f",
   "metadata": {},
   "source": [
    "<a id='PA4'></a>\n",
    "\n",
    "# Problem A4 \\[Back to [top](#toc)\\]\n",
    "$$\\label{PA4}$$\n",
    "\n",
    "*Let $x^a(\\lambda)$ be the integral curves of a vector field $x^a$, and let $Y^a$ be a second vector field. Show that if $Y^a$ is **Lie dragged** along $X^a$, $\\mathcal{L}_{\\pmb X}Y^a = 0$, then it will connect points of equal $\\lambda$ along the congruence $x^a(\\lambda)$*\n",
    "\n",
    "Okay let's just try to evaluate this, as a vector field IS a vector, in a way. \n",
    "\n",
    "$$ \\mathcal{L}_{\\pmb X}Y^a $$\n",
    "\n",
    "$$ = X^b \\nabla_b Y^a - Y^b \\nabla_b X^a $$\n",
    "\n",
    "$$ = [X,Y]^a $$\n",
    "\n",
    "So we are actually *given* that this equals zero. We need to take this zero and, from it, show that Y connects poitns of equal $\\lambda$ along the given congruence. What we're doing is looking for a situation where this commutator equals zero. This is obviously only true when the fields are equal to each other, that is, X=Y. (Or one of them is zero but that's trivial.)"
   ]
  },
  {
   "cell_type": "markdown",
   "id": "decbd440",
   "metadata": {},
   "source": [
    "This means that Y has the same integral curves as X. Thus we have shown what we sought. \n",
    "\n",
    "(Mild confusion... we'll see if this leads to any problems later.)\n",
    "\n",
    "(Okay, HEAVY confusion now, but it seems irrelevant so far so.. let's just leave it. --Review GM)"
   ]
  },
  {
   "cell_type": "markdown",
   "id": "fefcf032",
   "metadata": {},
   "source": [
    "<a id='P15'></a>\n",
    "\n",
    "# Problem 15 \\[Back to [top](#toc)\\]\n",
    "$$\\label{P15}$$\n",
    "\n",
    "*Following the example of **Problem 7**, show that the 4-dimensional Reimann tensor $^{(4)}R_{abcd}$ can be written as:*\n",
    "\n",
    "$$ ^{(4)}R_{abcd} = \\gamma^p_a \\gamma^q_b \\gamma^r_c \\gamma^s_d {}^{(4)}R_{pqrs} - 2\\gamma_a^p \\gamma_b^q \\gamma^r_{[c} n_{d]} n^s {}^{(4)}R_{pqrs} - 2\\gamma_c^p\\gamma_d^q\\gamma^r_{[a}n_{b]}n^s{}^{(4)}R_{pqrs} +  2\\gamma_a^p \\gamma^r_{[c} n_{d]} n_b n^q n^s {}^{(4)}R_{pqrs} - 2\\gamma_b^p\\gamma^r_{[c}n_{d]}n_an^qn^s{}^{(4)}R_{pqrs} $$"
   ]
  },
  {
   "cell_type": "markdown",
   "id": "00b2079e",
   "metadata": {},
   "source": [
    "THIS HAS BEEN CONFIRMED IN SCRATCH WORK! However, it is STUPENDOUSLY long. And a bit arbitrary. But we'll outline what was done so it can be refernced later. (Also drawing on some of a failed attempt.) \n",
    "\n",
    "First of all, just apply four g metrics to R to get ggggR. Immediately expand all the gs into ($\\gamma+N$) form. Which means we will end up with SIXTEEN terms of $R_{pqrs}$. For ease of typing let $\\gamma \\rightarrow L$. The results will be:\n",
    "\n",
    "LLLL LLNL LLLN LLNN\n",
    "\n",
    "NLLL NLNL NLLN NLNN\n",
    "\n",
    "LNLL LNNL LNLN LNNN\n",
    "\n",
    "NNLL NNNL NNLN NNNN\n",
    "\n",
    "Now, the top left LLLL term obviously exists in the answer. It's not obvious, but all the 3-L terms also exist in the next two terms. One can see this HAS to be the case as the antisymmetry will split the 3L terms into four total terms. With a lot of index finagling (NEVER adjusting abcd, only pqrs) it can be shown that they map directly. \n",
    "\n",
    "The 2L terms are a bit different, as there are six of them, not four. Working backwards, we found that the four terms in the relation we seek to show appear in the CENTER of the 4x4 square. That means the 9 top-left terms are all included in the final relation, and in fact completely describe it. \n",
    "\n",
    "So now, why do the last seven terms go to zero? \n",
    "\n",
    "NNNN is the easiest to see. \n",
    "\n",
    "$$ n_an_bn_cn_dn^pn^qn^rn^s R_{pqrs} = - n_an_bn_cn_dn^pn^qn^sn^r R_{pqrs} $$ \n",
    "\n",
    "This is due to the antysimmetry of R on indices 34. This also works on 12. Because the n terms can shuffle (and $\\gamma$ cannot), these n-terms uniquely go to zero when their indices can be shuffled. Which means that any term with NN on 12 or 34 goes to zero! Which, wouldn't you know it, all of our 7 remaining terms DO, and the 9 terms we kept DO NOT. \n",
    "\n",
    "AND SO THE RELATION IS PROVEN. \n",
    "\n",
    "Below is the nonsense of a failed attempt that, nonetheless, can be used to see that, yes, the relation we seek will in fact have 9 terms in it. "
   ]
  },
  {
   "cell_type": "markdown",
   "id": "5194a5df",
   "metadata": {},
   "source": [
    "Now as we recall **Problem 7** was annoying and involved some \"questionable\" index shuffling, but we'll see if we can do it agian. The antisymmetric parts are a bit problematic.. let's examine what they actually mean.\n",
    "\n",
    "$$ \\gamma^r_{[c} n_{d]} = \\frac12 (\\gamma^r_c n_d - \\gamma^r_d n_c) $$\n",
    "\n",
    "notably this is actually helpful if we EXPAND, then it'll get rid of all the 2-coefficients and give us more terms, but all temrs that are more similar to each other. \n",
    "\n",
    "$$ ^{(4)}R_{abcd} = \\gamma^p_a \\gamma^q_b \\gamma^r_c \\gamma^s_d {}^{(4)}R_{pqrs} - \\gamma_a^p \\gamma_b^q \\gamma^r_{c} n_{d} n^s {}^{(4)}R_{pqrs} + \\gamma_a^p \\gamma_b^q \\gamma^r_{d} n_{c} n^s {}^{(4)}R_{pqrs} - \\gamma_c^p\\gamma_d^q\\gamma^r_{a}n_{b}n^s{}^{(4)}R_{pqrs} + \\gamma_c^p\\gamma_d^q\\gamma^r_{b}n_{a}n^s{}^{(4)}R_{pqrs} + \\gamma_a^p \\gamma^r_{c} n_{d} n_b n^q n^s {}^{(4)}R_{pqrs} - \\gamma_a^p \\gamma^r_{d} n_{c} n_b n^q n^s {}^{(4)}R_{pqrs} - \\gamma_b^p\\gamma^r_{c}n_{d}n_an^qn^s{}^{(4)}R_{pqrs} + \\gamma_b^p\\gamma^r_{d}n_{c}n_an^qn^s{}^{(4)}R_{pqrs} $$\n"
   ]
  },
  {
   "cell_type": "markdown",
   "id": "40323eba",
   "metadata": {},
   "source": [
    "$$ \\Rightarrow ^{(4)}R_{abcd} = \\left(\\gamma^p_a \\gamma^q_b \\gamma^r_c \\gamma^s_d  - \\gamma_a^p \\gamma_b^q \\gamma^r_{c} n_{d} n^s + \\gamma_a^p \\gamma_b^q \\gamma^r_{d} n_{c} n^s - \\gamma_c^p\\gamma_d^q\\gamma^r_{a}n_{b}n^s + \\gamma_c^p\\gamma_d^q\\gamma^r_{b}n_{a}n^s + \\gamma_a^p \\gamma^r_{c} n_{d} n_b n^q n^s  - \\gamma_a^p \\gamma^r_{d} n_{c} n_b n^q n^s- \\gamma_b^p\\gamma^r_{c}n_{d}n_an^qn^s + \\gamma_b^p\\gamma^r_{d}n_{c}n_an^qn^s\\right){}^{(4)}R_{pqrs} $$"
   ]
  },
  {
   "cell_type": "markdown",
   "id": "cab05c97",
   "metadata": {},
   "source": [
    "So basically we need to show that the things in the parentheses reduce to nothing more than a \"change the index of R\" situation. Which pretty clearly means it becomes $\\delta^p_a\\delta^q_b\\delta^r_c\\delta^s_d$\n",
    "\n",
    "$$ ^{(4)}R_{abcd} = \\left(\\gamma^p_a \\gamma^q_b \\gamma^r_c \\gamma^s_d  - \\gamma_a^p \\gamma_b^q \\gamma^r_{c} n_{d} n^s + \\gamma_a^p \\gamma_b^q \\gamma^r_{d} n_{c} n^s - \\gamma_c^p\\gamma_d^q\\gamma^r_{a}n_{b}n^s + \\gamma_c^p\\gamma_d^q\\gamma^r_{b}n_{a}n^s + \\gamma_a^p \\gamma^r_{c} n_{d} n_b n^q n^s  - \\gamma_a^p \\gamma^r_{d} n_{c} n_b n^q n^s- \\gamma_b^p\\gamma^r_{c}n_{d}n_an^qn^s + \\gamma_b^p\\gamma^r_{d}n_{c}n_an^qn^s\\right){}^{(4)}R_{pqrs} $$"
   ]
  },
  {
   "cell_type": "markdown",
   "id": "a8767707",
   "metadata": {},
   "source": [
    "Much like **Problem 7** even after much monkeying, the relations just don't seem to be equal. "
   ]
  },
  {
   "cell_type": "markdown",
   "id": "c459b12a",
   "metadata": {},
   "source": [
    "<a id='P16'></a>\n",
    "\n",
    "# Problem 16 \\[Back to [top](#toc)\\]\n",
    "$$\\label{P16}$$\n",
    "\n",
    "*Show that*\n",
    "\n",
    "$$ \\nabla_a V^a = \\frac1\\alpha D_a (\\alpha V^a) $$\n",
    "\n",
    "*For any spatial vector V^a. Hint: One possible derivation uses 2.51 and 2.62; a more elegant aproach starts with the identity A.44*\n",
    "\n",
    "2.51 is from **Problem 13** and is $a_a = D_a ln \\alpha$\n",
    "\n",
    "2.62 is the long \n",
    "\n",
    "$$ D_a V^b = \\gamma^p_a\\gamma^b_q\\nabla_pV^q = \\gamma^p_a(g^b_q+n_qn^b) \\nabla_pV^q = \\gamma^p_a \\nabla_p V^b - \\gamma^p_a n^b V^q \\nabla_p n_q = \\gamma_a^p \\nabla_p V^b - n^bV^e\\gamma^p_a\\gamma^q_e\\nabla_pn_q = \\gamma^p_a\\nabla_pV^b + n^bV^eK_{ae}$$\n",
    "\n",
    "Meanwhile A.44 gives us\n",
    "\n",
    "$$\\nabla_a X^a = \\frac{1}{\\sqrt{|g|}} \\partial_a (\\sqrt{|g|}X^a)$$"
   ]
  },
  {
   "cell_type": "markdown",
   "id": "06a2d5be",
   "metadata": {},
   "source": [
    "Clearly A.44 is the prefered option. in fact we remember deriving it. Let's remind ourselves what index-less g means from General Relativity... Right, it's the determinant of the metric. \n",
    "\n",
    "OKAY so we found the ugly solution but it's on our notebook so we're gonna have to write it up later BUT THE PROBLEM IS SOLVED HAH. "
   ]
  },
  {
   "cell_type": "markdown",
   "id": "7f8e2796",
   "metadata": {},
   "source": [
    "I'm keeping the above note for posterity's sake. Here's the solution.\n",
    "\n",
    "$$ \\frac1\\alpha D_a (\\alpha V^a) $$\n",
    "$$ = D_a V^a + \\frac1\\alpha V^a D_a \\alpha $$\n",
    "$$ = \\gamma^p_a \\nabla_p V^a + n^aV^eK_{ae} + V^a a_a $$\n",
    "$$ = \\gamma^p_a \\nabla_p V^a + n^aV^e\\nabla_an_e - n^aV^en_aa_e + V^a a_a $$\n",
    "\n",
    "First off, $n^an_a=1$.\n",
    "\n",
    "$$ = \\gamma^p_a \\nabla_p V^a + n^aV^e\\nabla_an_e - V^ea_e + V^a a_a $$\n",
    "$$ = \\gamma^p_a \\nabla_p V^a + n^aV^e\\nabla_an_e $$\n",
    "\n",
    "$n^a$ acting on something spatial always produces zero. \n",
    "\n",
    "$$ = \\gamma^p_a \\nabla_p V^a $$\n",
    "\n",
    "And that $\\gamma$ operator is the projection onto spatial, if it acts on something that is already spatial it does nothing. No amount of derivatives could un-spatial-ify (heh) a purely spatial vector field. However, we need to be careful, we can't just replace the projector up into its two componetns. \n",
    "\n",
    "$$ = \\delta^p_a \\nabla_p V^a + n^pn_a\\nabla_pV^a$$\n",
    "\n",
    "The second term is the \"change\" portion, the part that does the projecting. As what we're acting on is spatial, it goes to zero. (We could also accomplish this by just having $n^p$ act on $\\nabla_p V^a$ and result in nothing.)\n",
    "\n",
    "$$ = \\delta^p_a \\nabla_p V^a$$\n",
    "$$ = \\nabla_a V^a$$\n",
    "\n",
    "Which is what we sought to show. "
   ]
  },
  {
   "cell_type": "markdown",
   "id": "2854ee9b",
   "metadata": {},
   "source": [
    "As for why A.44 works, we still have no idea how to correlate the determinant of g to $\\alpha$. But fortunately for us we don't need to. "
   ]
  },
  {
   "cell_type": "markdown",
   "id": "389cdac0",
   "metadata": {},
   "source": [
    "<a id='P17'></a>\n",
    "\n",
    "# Problem 17 \\[Back to [top](#toc)\\]\n",
    "$$\\label{P17}$$\n",
    "\n",
    "*Show that*\n",
    "\n",
    "$$ D_a D_b V^c = \\gamma^p_a \\gamma^q_b \\gamma^c_r \\nabla_p \\nabla_q V^r - K_{ab} \\gamma^c_r n^p \\nabla_p V^r - K^c_a K_{bp} V^p $$."
   ]
  },
  {
   "cell_type": "markdown",
   "id": "341e0dfd",
   "metadata": {},
   "source": [
    "Yeah this didn't go anywhere, moving on. "
   ]
  },
  {
   "cell_type": "markdown",
   "id": "a9c5fc73",
   "metadata": {},
   "source": []
  },
  {
   "cell_type": "markdown",
   "id": "df50096e",
   "metadata": {},
   "source": [
    "<a id='latex_pdf_output'></a>\n",
    "\n",
    "# Addendum: Output this notebook to $\\LaTeX$-formatted PDF file \\[Back to [top](#toc)\\]\n",
    "$$\\label{latex_pdf_output}$$\n",
    "\n",
    "The following code cell converts this Jupyter notebook into a proper, clickable $\\LaTeX$-formatted PDF file. After the cell is successfully run, the generated PDF may be found in the root NRPy+ tutorial directory, with filename\n",
    "[NR-02.pdf](NR-02.pdf) (Note that clicking on this link may not work; you may need to open the PDF file through another means.)\n",
    "\n",
    "**Important Note**: Make sure that the file name is right in all six locations, two here in the Markdown, four in the code below. \n",
    "\n",
    "* NR-02.pdf\n",
    "* NR-02.ipynb\n",
    "* NR-02.tex"
   ]
  },
  {
   "cell_type": "code",
   "execution_count": 1,
   "id": "abf583ef",
   "metadata": {
    "scrolled": false
   },
   "outputs": [
    {
     "name": "stdout",
     "output_type": "stream",
     "text": [
      "Created NR-02.tex, and compiled LaTeX file to PDF file NR-02.pdf\n"
     ]
    }
   ],
   "source": [
    "import cmdline_helper as cmd    # NRPy+: Multi-platform Python command-line interface\n",
    "cmd.output_Jupyter_notebook_to_LaTeXed_PDF(\"NR-02\")"
   ]
  },
  {
   "cell_type": "code",
   "execution_count": null,
   "id": "d0d0db4d",
   "metadata": {},
   "outputs": [],
   "source": []
  },
  {
   "cell_type": "code",
   "execution_count": null,
   "id": "41264965",
   "metadata": {},
   "outputs": [],
   "source": []
  }
 ],
 "metadata": {
  "kernelspec": {
   "display_name": "Python 3 (ipykernel)",
   "language": "python",
   "name": "python3"
  },
  "language_info": {
   "codemirror_mode": {
    "name": "ipython",
    "version": 3
   },
   "file_extension": ".py",
   "mimetype": "text/x-python",
   "name": "python",
   "nbconvert_exporter": "python",
   "pygments_lexer": "ipython3",
   "version": "3.10.4"
  }
 },
 "nbformat": 4,
 "nbformat_minor": 5
}
