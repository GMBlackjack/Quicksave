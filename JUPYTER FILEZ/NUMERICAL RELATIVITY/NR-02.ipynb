{
 "cells": [
  {
   "cell_type": "markdown",
   "id": "0c1bfe81",
   "metadata": {},
   "source": [
    "# Numerical Relativity Problems Chapter 2: The 3+1 Deconposition of Einstein's Equations\n",
    "\n",
    "## Authors: Gabriel M Steward"
   ]
  },
  {
   "cell_type": "markdown",
   "id": "479540e4",
   "metadata": {},
   "source": [
    "https://github.com/zachetienne/nrpytutorial/blob/master/Tutorial-Template_Style_Guide.ipynb\n",
    "\n",
    "Link to the Style Guide. Not internal in case something breaks. "
   ]
  },
  {
   "cell_type": "markdown",
   "id": "10780970",
   "metadata": {},
   "source": [
    "### </list_source_code> NRPy+ Source Code for this module:\n",
    "None, save the pdf conversion at the bottom of this document.  \n",
    "\n",
    "## Introduction:\n",
    "Now we take a look into \"so how do we actually go about doing this?\" via Numerical Relativity by Baumgarte and Shapiro.\n",
    "\n",
    "## </other>  Other (Optional):\n",
    "In order to fascilitate learning, whenever the opportunity arises Sympy will be used. \n",
    "\n",
    "### Note on Notation:\n",
    "Any new notation will be brought up in the notebook when it becomes relevant. \n",
    "\n",
    "### Citations:\n",
    "\n",
    "<a id='1'></a>\n",
    "[1] https://physics.stackexchange.com/questions/79157/square-bracket-notation-for-anti-symmetric-part-of-a-tensor (3-way and up antisymmetry formula)"
   ]
  },
  {
   "cell_type": "markdown",
   "id": "56664bc2",
   "metadata": {},
   "source": [
    "<a id='toc'></a>\n",
    "\n",
    "# Table of Contents\n",
    "$$\\label{toc}$$\n",
    "\n",
    "[Problem 1](#P1) (Initial Satisfaction of Constraints)\n",
    "\n",
    "[Problem 2](#P2) (Adjusting Electromagnetism, incomplete)\n",
    "\n",
    "[Problem 3](#P3) (Gauge adjustments)\n",
    "\n",
    "[Problem 4](#P4) (Coulomb Gauge)\n",
    "\n",
    "[Problem 5](#P5) (Rotation Free)\n",
    "\n",
    "[Problem 6](#P6) (Spacelike Entirely)\n",
    "\n",
    "[Problem 7](#P7) (Projected Tensors, dubious Index Salad shuffling)\n",
    "\n",
    "[Problem 8](#P8) (3D Derivatives, incomplete)\n",
    "\n",
    "[Problem 9](#P9) (The Inconsistent Product Rule)\n",
    "\n",
    "[Problem 10](#P10) (Rotation Free Returns)\n",
    "\n",
    "[Problem 11](#P11) (The Extrinsic Curvature Vanishes)\n",
    "\n",
    "[Problem 12](#P12) (Spacelike Acceleration)\n",
    "\n",
    "34\n",
    "\n",
    "[PDF](#latex_pdf_output) (turn this into a PDF)"
   ]
  },
  {
   "cell_type": "markdown",
   "id": "cd9e5529",
   "metadata": {},
   "source": [
    "<a id='P1'></a>\n",
    "\n",
    "# Problem 1 \\[Back to [top](#toc)\\]\n",
    "$$\\label{P1}$$\n",
    "\n",
    "*Demonstrate that the constraint equations 2.2, if satisfied initially, are automatically satisfied at later times when the gravitational field is evolved by using the dynamical equations 2.3. Equivalently, show that the relation $\\partial_t (G^{a0} - 8\\pi T^{a0}) = 0$ will be satisfied at the initial time $x^0=t$, hence conclude that 2.2 will be satisfied at $x^0 = t+\\delta t$. Hint: use the Bianchi identities together with the equations of energy-momentum conservation to evaluate $\\nabla_b(G^{ab}-8\\pi T^{ab})$ at $x^0=t$*"
   ]
  },
  {
   "cell_type": "markdown",
   "id": "79b7eea1",
   "metadata": {},
   "source": [
    "2.2: $G^{a0} = 8\\pi T^{a0}$\n",
    "\n",
    "2.3: $G^{ij} = 8\\pi T^{ij}$\n",
    "\n",
    "1.23 (The Bianchi Identities): $\\nabla_e R_{abcd} + \\nabla_d R_{abec} + \\nabla_c R_{adbe} = 0$\n",
    "\n",
    "And naturally energy-momentum is conserved. Though, as we know, energy is rather hard to define in relativity..."
   ]
  },
  {
   "cell_type": "markdown",
   "id": "a494e855",
   "metadata": {},
   "source": [
    "Note that it at first seems like we are being asked to solve it different ways, but the \"equivalently\" really is just giving us a hint on where to go and what to do and why. Naturally if the time derivative of a quantity is zero, that quantity is not going to change over an infinitesimal adjustment ($\\delta t$ in our formulation). So let's just start working it out the way the hint suggests.\n",
    "\n",
    "$$ \\nabla_b(G^{ab}-8\\pi T^{ab}) $$\n",
    "\n",
    "$$ = \\nabla_bG^{ab}- \\nabla_b8\\pi T^{ab} $$\n",
    "\n",
    "$$ = g_{bf}\\nabla_bG^{a}_f - g_{bf}8\\pi \\nabla_b T^{a}_f $$"
   ]
  },
  {
   "cell_type": "markdown",
   "id": "f05e2407",
   "metadata": {},
   "source": [
    "Now here's the thing, on page 6 we note that as a consequence of the Branchi identities, the covariant divergence of G vanishe AND so does T, via 1.34. Thus we have two terms that are zero. Specifically, zero *always*. Now, granted, we haven't proven WHY the Branchi identities demand this, but it does give us the rather obvious case of \n",
    "\n",
    "$$ = 0 $$\n",
    "\n",
    "That said, this is not what we are looking for, that's the ENTIRE covariant derivative. What WE want is to show that JUST the temporal portions go to zero as well. So let's back up a bit, all the way to the General Relativity book, which will henceforth be refered to as GR. GR6.97 actually gives ust he end result of contracting the Bianchi identities.\n",
    "\n",
    "$$ \\nabla_u(2R^u_l-\\delta^u_kR) = 0 $$\n",
    "\n",
    "Save for a the placement of hte 2 this is identical to the formulation for the G in terms of R. Which is WHY we can say covariant derivatives of G are always zero. \n",
    "\n",
    "\n",
    "\n",
    "$$ 0 = \\nabla_jG^{ij}- \\nabla_j8\\pi T^{ij} + \\nabla_0G^{a0}- \\nabla_08\\pi T^{a0} + \\nabla_bG^{0b}- \\nabla_b8\\pi T^{0b} - \\nabla_0G^{00} + \\nabla_08\\pi T^{00} $$\n",
    "\n",
    "What we have here is spatial components, temporal component column, temporal component row, and then a subtraction of the 00 case which was counted twice. The symmetry of G and T does not allow us to simplify as the derivative on identical components relies on a potentially different variable. "
   ]
  },
  {
   "cell_type": "markdown",
   "id": "1b2c42ea",
   "metadata": {},
   "source": [
    "We also note from GR that the Bianchi identities also imply the covariant derivative of T is zero, and this specifically *IS* the local conservation of energy and momentum. From our earlier work we now expand the covariant derivative out, yet we know it must be zero still. "
   ]
  },
  {
   "cell_type": "markdown",
   "id": "8cfff6ec",
   "metadata": {},
   "source": [
    "$$ 0 = g_{bf}\\left(\\partial_bG^{a}_f+\\Gamma^a_{db}G^{d}_f-\\Gamma^d_{fb}G^{a}_d\\right) - g_{bf}8\\pi \\left(\\partial_bT^{a}_f+\\Gamma^a_{db}T^{d}_f-\\Gamma^d_{fb}T^{a}_d\\right) $$\n",
    "\n",
    "Since we're looking for a time relation, might as well make the covariant derivative time specifically. \n",
    "\n",
    "$$ \\Rightarrow 0 = g_{tf}\\left(\\partial_tG^{a}_f+\\Gamma^a_{dt}G^{d}_f-\\Gamma^d_{ft}G^{a}_d\\right) - g_{tf}8\\pi \\left(\\partial_tT^{a}_f+\\Gamma^a_{dt}T^{d}_f-\\Gamma^d_{ft}T^{a}_d\\right) $$\n",
    "\n",
    "We can arrange terms together and divide out the metric...\n",
    "\n",
    "$$ \\Rightarrow 0 = \\partial_tG^{a}_f - 8\\pi\\partial_tT^{a}_f+\\Gamma^a_{dt}G^{d}_f-\\Gamma^d_{ft}G^{a}_d-8\\pi\\Gamma^a_{dt}T^{d}_f+8\\pi\\Gamma^d_{ft}T^{a}_d $$"
   ]
  },
  {
   "cell_type": "markdown",
   "id": "9ba5e57e",
   "metadata": {},
   "source": [
    "Here's the curious thing about this--the Christoffel symbols on both sides match with flipped signs, and the signs for G and T are in the same place. We have NOT applied any restrictions to G or T, their indeces are still free, so they hit everything. Remember that in general $$G^{ab} = 8\\pi T^{ab}$$. Which means that since the Christoffel symbols match, the four trailing terms will CANCEL! \n",
    "\n",
    "$$ \\Rightarrow 0 = \\partial_t(G^{a}_f - 8\\pi T^{a}_f ) $$\n",
    "\n",
    "Which is what we sought. Which is far more trivial than we made it by overthinking. This kind of HAS to be true, however the subtraction used on the Christoffel symbols would not apply here, as the derivatives are being taken and the derivative of 0 need not actually be 0. \n",
    "\n",
    "We know that the conditions of Einstein's equations are satisfied initially, and we have just seen that with said conditions the temporal derivative is zero, thus so long as Einstein's equations are satisfied the evolution is valid. \n",
    "\n",
    "Which is good, but remember that such assumptions vanish at cosmological scales due to the Cosmological Constant. "
   ]
  },
  {
   "cell_type": "markdown",
   "id": "ee11ff0e",
   "metadata": {},
   "source": [
    "<a id='P2'></a>\n",
    "\n",
    "# Problem 2 \\[Back to [top](#toc)\\]\n",
    "$$\\label{P2}$$\n",
    "\n",
    "*Show that the evolution equations 2.11 and 2.12 preserve the constraint 2.5. i.e., show that*\n",
    "\n",
    "$$ \\frac{\\partial}{\\partial t} \\mathcal{C}_E = 0 $$"
   ]
  },
  {
   "cell_type": "markdown",
   "id": "f06ff5b1",
   "metadata": {},
   "source": [
    "2.5: $\\mathcal{C}_E = D_i E^i - 4\\pi \\rho = 0 $\n",
    "\n",
    "2.11: $ \\partial_t A_i = -E_i - D_i\\Phi $\n",
    "\n",
    "2.12: $ \\partial_t E_i = D_iD^jA_j - D^jD_jA^i - 4\\pi j_i $"
   ]
  },
  {
   "cell_type": "markdown",
   "id": "4004beeb",
   "metadata": {},
   "source": [
    "OKAY so there are pages upon pages of scratch work here that have gone absolutely nowhere, time to move on. "
   ]
  },
  {
   "cell_type": "markdown",
   "id": "9bc80a4f",
   "metadata": {},
   "source": [
    "<a id='P3'></a>\n",
    "\n",
    "# Problem 3 \\[Back to [top](#toc)\\]\n",
    "$$\\label{P3}$$\n",
    "\n",
    "*Show that a transformation to a new \"tilded\" gauge according to*\n",
    "\n",
    "$$ \\tilde\\Phi = \\Phi - \\frac{\\partial \\Lambda}{\\partial t} $$\n",
    "\n",
    "$$ \\tilde{A}_i = A_i + D_i \\Lambda $$\n",
    "\n",
    "*leaves the physical fields $E^i$ and $B^i$ unchanged*\n",
    "\n",
    "We do note that to be a gauge transformation the shifts have to be sufficiently small, so we know that the additional terms are small in comparison to the original ones. Thus we consider $\\Lambda$ and its derivative to be small."
   ]
  },
  {
   "cell_type": "markdown",
   "id": "b073a6f7",
   "metadata": {},
   "source": [
    "Let's go with a relation that has E in it:\n",
    "\n",
    "$$ \\partial_t A_i = -E_i -D_i \\Phi $$\n",
    "\n",
    "$$ \\Rightarrow E_i = - \\partial_t A_i -D_i \\Phi $$\n",
    "\n",
    "So if we replace our adjustments with our substitutions this BETTER be the same. \n",
    "\n",
    "$$ \\Rightarrow E_i = - \\partial_t A_i - \\partial_t D_i \\Lambda - D_i \\Phi + D_i \\partial_t \\Lambda $$\n",
    "\n",
    "$$ \\Rightarrow E_i = - \\partial_t A_i- D_i \\Phi $$\n",
    "\n",
    "So yes E has to be the same. "
   ]
  },
  {
   "cell_type": "markdown",
   "id": "47b8c8af",
   "metadata": {},
   "source": [
    "But what of B? Well, we can kind of think of this logically. E and B are intrisically linked, if E changes, B changes, if E stays the same, B stays the same. Thus, if one is unchanged, both are unchanged. 2.8 allows one to be calculated from the other. "
   ]
  },
  {
   "cell_type": "markdown",
   "id": "99052799",
   "metadata": {},
   "source": [
    "<a id='P4'></a>\n",
    "\n",
    "# Problem 4 \\[Back to [top](#toc)\\]\n",
    "$$\\label{P4}$$\n",
    "\n",
    "*In the so-called radiation, Coulomb, or transverse gauge, the divergence (or longitudinal) part of A is chosen to vanish. $D_iA^i = 0$. So that $A_i$ is purely transverse. Show that in this gague $\\Phi$ plays the role of a Coulomb potential, $D^iD_i\\Phi = -4\\pi \\rho$ and that the vector potential $A_i$ satisfies a simple inhomogeneous wave equation*\n",
    "\n",
    "$$ \\square A_i = -\\partial^2_t A_i + D^j D_j A_i = -4\\pi j_i + D_i(\\partial_t\\Phi) $$"
   ]
  },
  {
   "cell_type": "markdown",
   "id": "29f75d3b",
   "metadata": {},
   "source": [
    "This appears to be a problem in two parts, first we have to show that the potential is as always, knowing only that the physical covariant derivative for A always goes to zero. This knowledge does not immediately remove most restrictions, however--after all, derivatives of zero can still be something other than zero. The bane of our existence. \n",
    "\n",
    "NOTE: there was a section here about j=0. It does not. "
   ]
  },
  {
   "cell_type": "markdown",
   "id": "72f38421",
   "metadata": {},
   "source": [
    "What DOES help us solve it is 2.5, which, when reworded, states that $D_iE^i = 4\\pi \\rho$. With this knowledge, we can apply a covariant derivative on 2.11\n",
    "\n",
    "$$ D^i \\partial_t A_i = -D^iE_i - D^i D_i \\Phi$$ "
   ]
  },
  {
   "cell_type": "markdown",
   "id": "8e6be67a",
   "metadata": {},
   "source": [
    "The last term is the one we want. The left-hand side looks unevaluatable, but since the divergence vanishes, it better vanish equally at all times, thus the derivative of zero is zero in this case. This leaves us with:\n",
    "\n",
    "$$ \\Rightarrow D^i D_i \\Phi = -D^iE_i $$ \n",
    "\n",
    "$$ \\Rightarrow D^i D_i \\Phi = -4\\pi \\rho $$ \n",
    "\n",
    "Which is what it should be."
   ]
  },
  {
   "cell_type": "markdown",
   "id": "5335788d",
   "metadata": {},
   "source": [
    "And now the second part. We need to show:\n",
    "\n",
    "$$ \\square A_i = -\\partial^2_t A_i + D^j D_j A_i = -4\\pi j_i + D_i(\\partial_t\\Phi) $$\n",
    "\n",
    "Which is a relation of the square laplacian. The left hand side andt he middle follow automatically. However, the last step does not. Also it seems to imply that the current, j, is not zero, like we determined before. "
   ]
  },
  {
   "cell_type": "markdown",
   "id": "27ab80c1",
   "metadata": {},
   "source": [
    "From the middle step, we can expand the time derivative of $A_i$ via 2.11\n",
    "\n",
    "$$ -\\partial^2_t A_i + D^j D_j A_i $$\n",
    "\n",
    "$$ = -\\partial_t (-E_i - D_i \\Phi) + D^j D_j A_i $$\n",
    "\n",
    "$$ = \\partial_tE_i + D_i \\partial_t \\Phi + D^j D_j A_i $$\n",
    "\n",
    "With this we ave one of the terms we want. We can use 2.12 for the time derivative of E to get...\n",
    "\n",
    "$$ = D_iD^jA_j - D^jD_jA_i - 4\\pi j_i + D_i \\partial_t \\Phi + D^j D_j A_i $$\n",
    "\n",
    "The divergence vanishes, and two terms cancel, leaving us with:\n",
    "\n",
    "$$ = - 4\\pi j_i + D_i \\partial_t \\Phi $$\n",
    "\n",
    "Which is what we sought."
   ]
  },
  {
   "cell_type": "markdown",
   "id": "36081fcc",
   "metadata": {},
   "source": [
    "<a id='P5'></a>\n",
    "\n",
    "# Problem 5 \\[Back to [top](#toc)\\]\n",
    "$$\\label{P5}$$\n",
    "\n",
    "*Show that the normalized 1-form $\\omega_a = \\alpha\\Omega_a$ is rotation-free $\\omega_{[a} \\nabla_b \\omega_{c]} = 0$*"
   ]
  },
  {
   "cell_type": "markdown",
   "id": "db8d06e5",
   "metadata": {},
   "source": [
    "So first of all we need to be careful with the notation-- the brackets refer to the antisymmetric portion of the tensor. in this case it would be the tensor composed of all these things smashed together, which is a three-way antisymmetric tensor. We use [1](#1) to grab the three-index antisymmetry formula.\n",
    "\n",
    "$$ \\omega_{[a} \\nabla_b \\omega_{c]} $$\n",
    "\n",
    "$$ = \\alpha^2 \\Omega_{[a} \\nabla_b \\Omega_{c]} $$\n",
    "\n",
    "$$ = \\alpha^2 \\nabla_{[a}t \\nabla_b \\nabla_{c]}t $$\n",
    "\n",
    "2.20 lets us know that $\\nabla_{[a}\\nabla_{b]}t = 0$. Perhaps we can make use of this. This fact may be rather obvious since derivative order can be changed at will, but the extra t we have in the middle here complicates things now. The antisymmetric expansion gives us:\n",
    "\n",
    "$$ = \\alpha^2 \\frac{1}{3!} \\left[ \\nabla_{a}t \\nabla_b \\nabla_{c}t + \\nabla_{c}t \\nabla_a \\nabla_{b}t + \\nabla_{b}t \\nabla_c \\nabla_{a}t - \\nabla_{a}t \\nabla_c \\nabla_{b}t - \\nabla_{b}t \\nabla_a \\nabla_{c}t - \\nabla_{c}t \\nabla_b \\nabla_{a}t \\right]$$\n",
    "\n",
    "We note that every term cancels because the last two $\\nabla$s can be shuffled at will, meaning a + term will always cancel with a - term. Thus, it goes to zero. \n",
    "\n",
    "Now as for what exactly this means physically... what DOES rotation-free mean? Presumably it means it's immune to rotation or lacks the capacity to rotate, but the physical intuition is not coming today. "
   ]
  },
  {
   "cell_type": "markdown",
   "id": "b9fe6abe",
   "metadata": {},
   "source": [
    "<a id='P6'></a>\n",
    "\n",
    "# Problem 6 \\[Back to [top](#toc)\\]\n",
    "$$\\label{P6}$$\n",
    "\n",
    "*Show that $\\gamma^a_b v^b$, where $v^b$ is an arbitrary spacetime vector, is purely spatial.*\n",
    "\n",
    "Just so we're clear, $v^b = (t,x,y,z).$ The final result of what we get here better not have any time in it. \n",
    "\n",
    "2.30 gives us the projection operator, $\\gamma^a_b = \\delta^a_b + n^an_b$"
   ]
  },
  {
   "cell_type": "markdown",
   "id": "c6edba6b",
   "metadata": {},
   "source": [
    "All together, we get the result\n",
    "\n",
    "$$ \\delta^a_b v^b + n^an_bv^b $$\n",
    "\n",
    "Notably we only sum over b, a is what our final vector is goign to be. \n",
    "\n",
    "$$ = v^a + n^an_bv^b $$\n",
    "\n",
    "This initial projection just makes use of the dirac delta, only the term that matches the index will survive. As for the other term, however, the terms of the sum don't just automatically vanish. "
   ]
  },
  {
   "cell_type": "markdown",
   "id": "2d7bad4a",
   "metadata": {},
   "source": [
    "The way to prove something is spatial in this case is to prove that nothing about it lies along the normal vector to time, which is to say, we apply $n^a$ to it again and see where we end up:\n",
    "\n",
    "$$ n^av^a + n^an^an_bv^b $$\n",
    "\n",
    "In essence, this better equal zero!"
   ]
  },
  {
   "cell_type": "markdown",
   "id": "aa85f557",
   "metadata": {},
   "source": [
    "Since we are trying to equal zero here, we can pull out a metric from every term to lower the index of a. We actually pull the dirac delta back out since it'll be useful now.  \n",
    "\n",
    "$$ g^{aa}n_a \\delta^a_b v^b + g^{aa}n_an^an_bv^b $$\n",
    "\n",
    "$$ = g^{aa}n_b v^b - g^{aa}n_bv^b = 0 $$\n",
    "\n",
    "Where the last step is $n^an_a = -1$. And we're done!"
   ]
  },
  {
   "cell_type": "markdown",
   "id": "c6af179b",
   "metadata": {},
   "source": [
    "<a id='P7'></a>\n",
    "\n",
    "# Problem 7 \\[Back to [top](#toc)\\]\n",
    "$$\\label{P7}$$\n",
    "\n",
    "*Show that for hte second rank tensor $T_{ab}$ we have*\n",
    "\n",
    "$$ T_{ab} = \\perp T_{ab} - n_an^c \\perp T_{cb} - n_bn^c \\perp T_{ac} + n_an_bn^cn^dT_{cd} $$."
   ]
  },
  {
   "cell_type": "markdown",
   "id": "9a9898f7",
   "metadata": {},
   "source": [
    "Curiously, this seems to be a case of working backward. We have projections of the tensor, we need to reclaim the original tensor with them. (Or think of it as putting the tensor in terms of its projections... sorta. The motivation is a bit unclear). We are warned in teh book to use the projection symbolw ith some care since it only applies to the free indices of the tensor that it operates on. \n",
    "\n",
    "First step, let's expand all the projections via 2.31. \n",
    "\n",
    "$$ T_{ab} = \\gamma^c_a\\gamma^d_b T_{cd} - n_an^c \\gamma^a_c \\gamma^d_b T_{ad} - n_bn^c \\gamma^d_a \\gamma^b_c T_{db} + n_an_bn^cn^dT_{cd} $$."
   ]
  },
  {
   "cell_type": "markdown",
   "id": "98bf92e8",
   "metadata": {},
   "source": [
    "Each term in the sum is independent and ends with a particular tensor T. We can re-arrange the index to put it in ab terms, giving us:\n",
    "\n",
    "$$ = (\\gamma^a_c\\gamma^b_d - n_an^c \\gamma^a_c \\gamma^b_d - n_bn^c \\gamma^a_d \\gamma^b_c + n_cn_dn^an^b)T_{ab} $$\n",
    "\n",
    "Now we engage in the practice of Index Salad trying to get the term in parentheses to reduce to 1. Curious, this almost looks like a binomial expansion. Only a and b matter for interacting with the Tensor, so we can shuffle c and d as we wish, getting some nice like terms: \n",
    "\n",
    "$$ = (\\gamma^a_c\\gamma^b_d - n_an^c \\gamma^a_c \\gamma^b_d - n_bn^d \\gamma^a_c \\gamma^b_d + n_cn_dn^an^b)T_{ab} $$\n",
    "\n",
    "The indeces on the last term aren't neat, we want up to be down and down to be up. Unfortunately it does not seem possible to just \"choose metrics\" that will make everything cancel when we adjust the indeces. \n",
    "\n",
    "Now we recall from 2.24 that every normal vector *contains* a metric. The best part is we can choose exactly what form that metric takes for maximum simplification. More specifically, we choose indeces such that we end up with forms akin to $g^{ab} g_{bc} = g^a_c = \\delta^a_c$ and deltas are really easy to make vanish. Furthermore, we played with indeces and found:\n",
    "\n",
    "$$ n^a = -g^{ab}\\omega_b \\Rightarrow n_c = -g_{ac}g^{ab}\\omega_b = -\\delta^b_c \\omega_b = -\\omega_c$$\n",
    "\n",
    "Which makes this quite a bit simpler. Watch the negative sign! (Which doesn't show up here since we always end up with two of them)"
   ]
  },
  {
   "cell_type": "markdown",
   "id": "9c10f968",
   "metadata": {},
   "source": [
    "$$ = (\\gamma^a_c\\gamma^b_d - n_an^c \\gamma^a_c \\gamma^b_d - n_bn^d \\gamma^a_c \\gamma^b_d + n_cn_dn^an^b)T_{ab} $$\n",
    "\n",
    "...Wait hold on while the relation above appears potentially useful, we still cannot decomposet his into a square binomial like it looks like we SHOULD. If we COULD we would end up with something along the lines of:\n",
    "\n",
    "$$ = (\\gamma^a_c - n_an^c)(\\gamma^b_d-n_bn^a)T_{ab}$$\n",
    "\n",
    "2.30 informs us that the binomials in parentheses are delta functions! Specifically:\n",
    "\n",
    "$$ = (\\delta^a_c)(\\delta^b_d)T_{ab}$$\n",
    "\n",
    "$$ = T_{cd} = T_{ab}$$\n",
    "\n",
    "So yes this LOOKS about right. This would all be automatic if we could prove $n_an_bn^cn^d = n_cn_dn^an^b$\n",
    "\n",
    "Wait, hold on, agh, there's the obvious answer right there. We CAN shuffle the indeces around, even a and b, because while they WOULD interact with T, they actually in the end DO NOT. Sure, the two diracs change the indeces from ab to cd... but then we change them right bac. In effect, there is no change at all to the tensor. Which means that even if we shuffle indeces around of the summing terms, the result is still 1. Hah!\n",
    "\n",
    "...Yes this is a little shaky but it has to be true, though as for why we can't do it without this step we are not sure. \n",
    "\n",
    "If we split each n up into its component parts, we *can* get each to behave, ending up with the \"equality\"\n",
    "\n",
    "$$ \\omega_a\\omega_b\\omega_c\\omega_d (-g^{cd})^2 = \\omega_a\\omega_b\\omega_c\\omega_d (-g^{ab})^2 $$\n",
    "\n",
    "Which, if we are allowed to shuffle the indeces, yes is true. IF we are allowed to shuffle the indeces. It seems like we should due to the order of operations we have set up, but we are hesitant. "
   ]
  },
  {
   "cell_type": "markdown",
   "id": "3bbdbd4a",
   "metadata": {},
   "source": [
    "<a id='P8'></a>\n",
    "\n",
    "# Problem 8 \\[Back to [top](#toc)\\]\n",
    "$$\\label{P8}$$\n",
    "\n",
    "*Show that the 3-dimensional covariant derivative is compatible with teh spatial metric $\\gamma_{ab}$, that is, show that $D_a\\gamma_{bc} = 0$*"
   ]
  },
  {
   "cell_type": "markdown",
   "id": "5d15ba80",
   "metadata": {},
   "source": [
    "Let's write this out carefully. When acting on a scalar, the covariant derivative follows 2.40: $D_af = \\gamma_a^b \\nabla_b f$ For our purposes replace b with d since we have other indeces around. \n",
    "\n",
    "Acting on other tensors involves tacking on more $\\gamma$ functions based on the number of indeces. For instance, in our case:\n",
    "\n",
    "$$ D_a\\gamma_{bc} =  \\gamma^b_e \\gamma^c_f \\gamma_a^d \\nabla_d\\gamma_{ef} $$\n",
    "\n",
    "We just need to show that this is in fact zero. "
   ]
  },
  {
   "cell_type": "markdown",
   "id": "2e968ccd",
   "metadata": {},
   "source": [
    "...Yeah haven't the foggiest idea how to do this. "
   ]
  },
  {
   "cell_type": "markdown",
   "id": "195934b7",
   "metadata": {},
   "source": [
    "<a id='P9'></a>\n",
    "\n",
    "# Problem 9 \\[Back to [top](#toc)\\]\n",
    "$$\\label{P9}$$\n",
    "\n",
    "*Show that for a scalar product $v^aw_a$ the Leibnitz rule*\n",
    "\n",
    "$$D_a(v^bw_b) = v^bD_aw_b + w_bD_av^b$$\n",
    "\n",
    "*Only holds if $v^a$ and $v_b$ are purely spatial*\n",
    "\n",
    "Oho, trying to tell me the product rule is wrong are you? Well... yeah that makes sense. "
   ]
  },
  {
   "cell_type": "markdown",
   "id": "f317da3d",
   "metadata": {},
   "source": [
    "Anyway a scalar product is a SCALAR so the 3D derivative becomes\n",
    "\n",
    "$$ \\gamma^c_a \\nabla_c (v^bw_b) $$\n",
    "\n",
    "Now we know the product rule applies to the normal covariant derivative, so we can use it here.\n",
    "\n",
    "$$ \\gamma^c_a \\left[ \\nabla_c (v^b) w_b + v^b \\nabla_c (w_b) \\right] $$\n",
    "\n",
    "Now, it sure seems like no matter what $\\gamma$ can just be pulled in and show that the product rule still applies... but let's think about what $\\gamma$ IS. The form we have is 2.30, which is the projection of a 4-dimensional tensor into a spatial slice. Well, if v and w are spatial, then the result is obvious: projection does nothing if it's already projected, so the rule must still hold. \n",
    "\n",
    "But that's only half of the proof. We need to show that it is NOT true when v or w or both has a temporal component. This is actually easy to see: let there be v = (1,x,y,z) and w = (0,x,y,z). When they have their fancy dot product they just end up with \"$x^2+y^2+z^2$\" the temporal components completley cancel, then everything goes throgh and acts just fine.\n",
    "\n",
    "For the side of the product rule where D acts on v alone will remove the temporal component entirely. However, in the case where D acts on w, the temporal component in v is still there. Thus when $\\gamma$ goes through it WILL act on that vector and project it. Which is to say *a situation may be constructed where $\\gamma$ changes the left side of the rule without the right, necessarily breaking the equality*. Essentially what we've done is proof by counterexample, ableit somewhat generally. "
   ]
  },
  {
   "cell_type": "markdown",
   "id": "01bf436a",
   "metadata": {},
   "source": [
    "Put another way, if either w or v has a temporal component, when $\\gamma$ goes through the vector by necessity must be altered to remove it, it doesn't matter how exactly. However, on the opposite side, there is no alteration occuring, that is to say, \"no change\". \n",
    "\n",
    "The end result of all this would be something akin to:\n",
    "\n",
    "$$D_a(v^bw_b) = v^{b '} D_aw_b + w_bD_av^b$$\n",
    "\n",
    "Where the prime vector has been altered in some fashion. This is not a general rule, this is just our specific case. \n",
    "\n",
    "How exactly $\\gamma$ acts can be left vague. Good for us! "
   ]
  },
  {
   "cell_type": "markdown",
   "id": "ecef8ecf",
   "metadata": {},
   "source": [
    "<a id='P10'></a>\n",
    "\n",
    "# Problem 10 \\[Back to [top](#toc)\\]\n",
    "$$\\label{P10}$$\n",
    "\n",
    "*Show that the twist $\\omega_{ab}$ has to vanish as a consequence of $n^a$ being rotation-free. See **Problem 5**.*\n"
   ]
  },
  {
   "cell_type": "markdown",
   "id": "4fc38a58",
   "metadata": {},
   "source": [
    "What **Problem 5** actually shows is that $\\omega_a$ is rotation free. That said, since it is rotation free, and $n^a$ is constructed from it and the metric, obviously the same holds for it. \n",
    "\n",
    "So the question is why does this make the twist vanish? (Such an excellent name, the Twist...) The twist is given by 2.48.\n",
    "\n",
    "$$ \\omega_{ab} = \\gamma_a^c \\gamma_b^d \\nabla_{[c}n_{d]} $$\n",
    "\n",
    "And the rotation-free requirement is 2.23.\n",
    "\n",
    "$$\\omega_{[a} \\nabla_b \\omega_{c]} = 0 = n_{[a} \\nabla_b n_{c]} $$\n",
    "\n",
    "**Problem 7** can confirm that this is actually a direct substitution, just with a negative sign. Notably since there are two of them the signs cancel. "
   ]
  },
  {
   "cell_type": "markdown",
   "id": "2f420f35",
   "metadata": {},
   "source": [
    "Note that all $\\omega$ are actually $\\alpha\\Omega$ which means we actuallky have:\n",
    "\n",
    "$$ \\omega_{ab} = \\gamma_a^c \\gamma_b^d \\alpha \\nabla_{[c}\\Omega_{d]} $$\n",
    "\n",
    "And from 2.20 we know that that antisymmetric portion goes to zero. Thus everything goes to zero and the twist vanishes. \n",
    "\n",
    "...Seems too simple..."
   ]
  },
  {
   "cell_type": "markdown",
   "id": "eb483591",
   "metadata": {},
   "source": [
    "<a id='P11'></a>\n",
    "\n",
    "# Problem 11 \\[Back to [top](#toc)\\]\n",
    "$$\\label{P11}$$\n",
    "\n",
    "*Show that the extrinsic curvature of t=constant hypersurfaces of the Schwarzchild metric 2.35 vanishes.*"
   ]
  },
  {
   "cell_type": "markdown",
   "id": "e2c04d9b",
   "metadata": {},
   "source": [
    "The curvature is given by 2.49\n",
    "\n",
    "$$ K_{ab} = -\\gamma^c_a\\gamma^d_b\\nabla_c n_d $$.\n",
    "\n",
    "We just need to evaluate this for Schwarzchild geometry. Which we actually have outlined in other places. The spatial metric is 2.39\n",
    "\n",
    "$$ \\gamma_{ab} = \\left( 1 + \\frac{M}{2r}\\right)^4 diag(0,1,r^2,r^2sin^2\\theta) $$\n",
    "\n",
    "And the normal vector is \n",
    "\n",
    "$$ n^a = -g^{ab}\\omega_b = \\frac{1+M/2r}{1-M/2r}(1,0,0,0) $$\n",
    "\n",
    "Now, these are not exactly in the right forms. But we can alter the curvature equation to *make* it the right forms!\n",
    "\n"
   ]
  },
  {
   "cell_type": "markdown",
   "id": "b44280df",
   "metadata": {},
   "source": [
    "$$ K_{ab} = - g^{cf}g^{dg}g_{dh} \\gamma_{fa}\\gamma_{gb}\\nabla_c n^h $$."
   ]
  },
  {
   "cell_type": "markdown",
   "id": "b21d22db",
   "metadata": {},
   "source": [
    "Now, in OUR metric, these terms only exist in certain locations. The easiest result is to remove all non-diagonals.\n",
    "\n",
    "$$ K_{ab} = - g^{ca}g^{db}g_{dh} \\gamma_{aa}\\gamma_{bb}\\nabla_c n^h $$.\n",
    "\n",
    "$$ K_{ab} = - g^{ca} \\delta^b_h \\gamma_{aa}\\gamma_{bb}\\nabla_c n^h $$.\n",
    "\n",
    "$$ K_{ab} = - g^{ca} \\gamma_{aa}\\gamma_{bb}\\nabla_c n^b $$."
   ]
  },
  {
   "cell_type": "markdown",
   "id": "f8be9bde",
   "metadata": {},
   "source": [
    "And that seals it! The only time n exists is when b=t, but when b=t, the $\\gamma$ does not exist! and the other way around is true as well meaning that, no matter what, the extrinsic curvature will vanish. Now at first we wonder why we need to think about why t=const here, what if t wasn't const? Well. Remember that the hypersurfaces we've been modeling this entire time has t=const as the assumption the *entire time*. It's baked in to what we've done above. "
   ]
  },
  {
   "cell_type": "markdown",
   "id": "d3c1547b",
   "metadata": {},
   "source": [
    "<a id='P12'></a>\n",
    "\n",
    "# Problem 12 \\[Back to [top](#toc)\\]\n",
    "$$\\label{P12}$$\n",
    "\n",
    "*Show that the acceleration $a_a$ is purely spatial, $n^aa_a = 0$"
   ]
  },
  {
   "cell_type": "markdown",
   "id": "df50096e",
   "metadata": {},
   "source": [
    "<a id='latex_pdf_output'></a>\n",
    "\n",
    "# Addendum: Output this notebook to $\\LaTeX$-formatted PDF file \\[Back to [top](#toc)\\]\n",
    "$$\\label{latex_pdf_output}$$\n",
    "\n",
    "The following code cell converts this Jupyter notebook into a proper, clickable $\\LaTeX$-formatted PDF file. After the cell is successfully run, the generated PDF may be found in the root NRPy+ tutorial directory, with filename\n",
    "[NR-02.pdf](NR-02.pdf) (Note that clicking on this link may not work; you may need to open the PDF file through another means.)\n",
    "\n",
    "**Important Note**: Make sure that the file name is right in all six locations, two here in the Markdown, four in the code below. \n",
    "\n",
    "* NR-02.pdf\n",
    "* NR-02.ipynb\n",
    "* NR-02.tex"
   ]
  },
  {
   "cell_type": "code",
   "execution_count": 1,
   "id": "abf583ef",
   "metadata": {
    "scrolled": false
   },
   "outputs": [
    {
     "name": "stdout",
     "output_type": "stream",
     "text": [
      "Created NR-02.tex, and compiled LaTeX file to PDF file NR-02.pdf\n"
     ]
    }
   ],
   "source": [
    "import cmdline_helper as cmd    # NRPy+: Multi-platform Python command-line interface\n",
    "cmd.output_Jupyter_notebook_to_LaTeXed_PDF(\"NR-02\")"
   ]
  },
  {
   "cell_type": "code",
   "execution_count": null,
   "id": "d0d0db4d",
   "metadata": {},
   "outputs": [],
   "source": []
  },
  {
   "cell_type": "code",
   "execution_count": null,
   "id": "41264965",
   "metadata": {},
   "outputs": [],
   "source": []
  }
 ],
 "metadata": {
  "kernelspec": {
   "display_name": "Python 3 (ipykernel)",
   "language": "python",
   "name": "python3"
  },
  "language_info": {
   "codemirror_mode": {
    "name": "ipython",
    "version": 3
   },
   "file_extension": ".py",
   "mimetype": "text/x-python",
   "name": "python",
   "nbconvert_exporter": "python",
   "pygments_lexer": "ipython3",
   "version": "3.10.4"
  }
 },
 "nbformat": 4,
 "nbformat_minor": 5
}
