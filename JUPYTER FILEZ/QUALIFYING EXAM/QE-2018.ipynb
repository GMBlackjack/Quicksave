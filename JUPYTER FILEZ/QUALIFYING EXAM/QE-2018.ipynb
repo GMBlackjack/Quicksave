{
 "cells": [
  {
   "cell_type": "markdown",
   "id": "0c1bfe81",
   "metadata": {},
   "source": [
    "# Qualifying Exam 2018\n",
    "\n",
    "## Answers: Gabriel M Steward"
   ]
  },
  {
   "cell_type": "markdown",
   "id": "56664bc2",
   "metadata": {},
   "source": [
    "<a id='toc'></a>\n",
    "\n",
    "# Table of Contents\n",
    "$$\\label{toc}$$\n",
    "\n",
    "[Problem 1](#P1) (Double Pendulum)\n",
    "\n",
    "[Problem 2](#P2) (Cubic Moments of Inertia)\n",
    "\n",
    "[Problem 3](#P3) (Electron Dot Well)\n",
    "\n",
    "[Problem 4](#P4) (Hamiltonian Pauli Fun)\n",
    "\n",
    "[Problem 5](#P5) (Quantum Jumping Beans)\n",
    "\n",
    "[Problem 6](#P6) (Zappy Cube)\n",
    "\n",
    "[Problem 7](#P7) (Dual Solenoids)\n",
    "\n",
    "[Problem 8](#P8) (Waves on a Plate)\n",
    "\n",
    "[Problem 9](#P9) (Triple Threat)\n",
    "\n",
    "[Problem 10](#P10) (Mathematical Transforms)\n"
   ]
  },
  {
   "cell_type": "markdown",
   "id": "cd9e5529",
   "metadata": {},
   "source": [
    "<a id='P1'></a>\n",
    "\n",
    "# Problem 1 \\[Back to [top](#toc)\\]\n",
    "$$\\label{P1}$$\n",
    "\n",
    "*Consider the double pendulum (equal lengths l but different masses, $m_1$ and $m_2$ shown in the figure. THe system performs small oscillations about its equilibrium position.*\n",
    "\n",
    "*a) Introduce genrealized coordiantes $\\eta_1$ and $\\eta_2$, where $\\eta_1$ is the transverse displacements of mass $m_1$ from the vertical and $\\eta_2$ is the transverse displacements of mass $m_2$ from $m_1$. Apply appropiate approximations to write the kinetic energy and the potential energy of the system as homogeneous quadratic functions of the genrealized coordiantes.*"
   ]
  },
  {
   "cell_type": "markdown",
   "id": "46d59831",
   "metadata": {},
   "source": [
    "**IMMEDIATE KNOWLEDGE**\n",
    "\n",
    "So, we are given the generalized coordinates. But, we should write the energies down without them first:\n",
    "\n",
    "$$ KE: \\frac 12 m_1 v_1^2 + \\frac 12 m_2 v_2^2 $$\n",
    "\n",
    "$$ PE: m_1gh_1 + m_2gh_2 $$\n",
    "\n",
    "Now we need to write these various parameters in terms of the new coordinates.\n",
    "\n",
    "For pendulum 1, this isn't difficult, though we usually use angles so it's going to take a few steps to actually resolve. See, the normal transformation is $h = lcos\\theta$ for the first pendulum, but we can't do that anymore. \n",
    "\n",
    "One thing we *can* do is say $\\eta_1 = l sin\\theta_1$ and $\\eta_2 = l sin\\theta_2$. But this is horizontal displacement, not vertical displacement, which is the actual important part. \n",
    "\n",
    "But since we have l we can find the third side using the Pythagorean Theorem, so $h_1 = -\\sqrt{l^2 + \\eta_1^2}$. The second pendulum's is slightly different with $h_2 = -\\sqrt{l^2 + \\eta_2^2} + h_1$. The minus signs are present to remind us that displacement is *downward*. \n",
    "\n",
    "Anyway that gives us our potential energies handily.\n",
    "\n",
    "$$ PE: -m_1g\\sqrt{l^2 + \\eta_1^2} - m_2g(\\sqrt{l^2 + \\eta_2^2} + \\sqrt{l^2 + \\eta_1^2}) $$\n",
    "\n"
   ]
  },
  {
   "cell_type": "markdown",
   "id": "5c750a04",
   "metadata": {},
   "source": [
    "Now for the kinetic we need the velocities, which can be attained from $v^2 = \\dot x^2 + \\dot y^2$. And would you look at that, we have the horizontal displacements provided and we just foudn the vertical ones. All we need to do... is take those derivatives. \n",
    "\n",
    "$$ v_1^2 = \\dot \\eta_1^2 + \\frac{\\dot \\eta_1^2}{l^2 + \\eta_1^2} $$\n",
    "\n",
    "It's similar for the second mass, except since it's a sum we get a cross term when it's squared. \n",
    "\n",
    "$$ v_2^2 = \\dot \\eta_2^2 + \\frac{\\dot \\eta_1^2}{l^2 + \\eta_1^2} - \\frac{\\dot \\eta_1 \\dot \\eta_2}{\\sqrt{l^2 + \\eta_1^2}\\sqrt{l^2+\\eta_2^2}} + \\frac{\\dot \\eta_2^2}{l^2 + \\eta_2^2} $$\n",
    "\n",
    "**IMMEDIATE KNOWLEDGE** ends here, as the next part requires normal modes and I can't just pull that out of memory instantly. I could construct the Lagrangian at this point though, L = T - U after all. "
   ]
  },
  {
   "cell_type": "markdown",
   "id": "bb6f43bf",
   "metadata": {},
   "source": [
    "*b) Determine the normal mode frequencies. Express your result in terms of g, l, and the ratio $m_1/(m_1+m_2)$. Examine your expressions in the limiting cases: $m_2 << m_1$ and $m_1 << m_2$.* Comment on whether your limits are physically reasonable."
   ]
  },
  {
   "cell_type": "markdown",
   "id": "e768aab7",
   "metadata": {},
   "source": [
    "*c) Determine the eigenvectors, but do not worry about normalizing them.*"
   ]
  },
  {
   "cell_type": "markdown",
   "id": "b9fba3f9",
   "metadata": {},
   "source": [
    "**DIAGRAM:**\n",
    "*Basic double pendulum, mass 1 is first pendulum, mass 2 is second, the $\\eta$ coordinates are measured as x-displacement from the y-lines formed by the pivots.*"
   ]
  },
  {
   "cell_type": "markdown",
   "id": "1978b879",
   "metadata": {},
   "source": [
    "<a id='P2'></a>\n",
    "\n",
    "# Problem 2 \\[Back to [top](#toc)\\]\n",
    "$$\\label{P2}$$\n",
    "\n",
    "*a) With respect to the coordinate axes shown in the figure, determine all elements of the intertia tensor for a uniform cube of mass M and side L.*\n",
    "\n",
    "**DIAGRAM:** *Cube with axis senter on one of the vertexes.*"
   ]
  },
  {
   "cell_type": "markdown",
   "id": "e7db7ab7",
   "metadata": {},
   "source": [
    "NOTE: THE MOMENT OF INERTIA TENSOR WAS PROVIDED YOU IDIOT YOU DIDN'T HAVE TO KNOW IT.\n",
    "\n",
    "**IMMEDIATE KNOWLEDGE**\n",
    "\n",
    "Since I'm not 100% confident in my memory, let's go over the basics. Moment of inertia for a single particle is $MR^2$, and virtually all moments of inertia come from that. (Was wrong about: diagonals are zero. They are not, we are not in the center of mass). We're in xyz, and our cube is constant density. \n",
    "\n",
    "In genreal that would mean the integral for the moment of inertia is...\n",
    "\n",
    "$$ \\int \\rho r^2 dV $$\n",
    "\n",
    "where dV is the volume element. If the volume element is a dirac delta we get $MR^2$ out of this, so it makes sense. However, that radius is the radius measured from the axis of rotation, and we need to do it around xx, yy, and zz. Fortunately we can do that with the very simple realization that $r^2 = x^2 + y^2 + z^2$ in total and if one of those is our axis we simply remove it from the definition. \n",
    "\n",
    "We also only need to actually calcualte it once since all the moments will be the same. \n",
    "\n",
    "$$ \\int \\rho (x^2 + y^2) dxdydz $$\n",
    "\n",
    "Integrate everything from 0 to L. \n",
    "\n",
    "$$ L \\rho \\int (x^2 + y^2) dxdy $$\n",
    "$$ \\Rightarrow L \\rho \\int (x^3/3 + xy^2)_0^L dy $$\n",
    "$$ \\Rightarrow L \\rho \\int (L^3/3 + Ly^2) dy $$\n",
    "$$ \\Rightarrow L \\rho (L^4/3 + L^4/3) $$\n",
    "$$ \\Rightarrow L^5 \\rho \\frac 23 $$\n",
    "$$ \\Rightarrow \\frac 23 M L^2 $$\n",
    "\n",
    "And this is for all the diagonals.\n",
    "\n",
    "**QUICK LOOKUP**\n",
    "\n",
    "So it turns out the off-diagonals are not zero in this case. So let's figure them out. Their integrals are\n",
    "\n",
    "$$ - \\int \\rho xy dV $$\n",
    "\n",
    "(And I looked this up immediately, the minus sign and arrangements are correct). This is for the xy term. \n",
    "\n",
    "$$ \\Rightarrow - L \\rho \\int xy dxdy $$\n",
    "$$ \\Rightarrow - L \\rho \\int L^2y/2 dy $$\n",
    "$$ \\Rightarrow - L \\rho L^4/4 $$\n",
    "$$ \\Rightarrow - \\frac14 ML^2 $$\n",
    "\n",
    "Which is the same for all off diagonals. *AND* matches what the internet says the tensor should be for the corner cube. \n"
   ]
  },
  {
   "cell_type": "markdown",
   "id": "4c7dda38",
   "metadata": {},
   "source": [
    "*b) Supposet the cube rotates with angular velocity $\\omega$ about the x axis shown in the figure. Determine the angular momentum vector of the cube. Is it in the same direction as the angular velocity vector?*"
   ]
  },
  {
   "cell_type": "markdown",
   "id": "e2acb192",
   "metadata": {},
   "source": [
    "**IMMEDIATE KNOWLEDGE**\n",
    "\n",
    "This seems like a gimme, angular momentum is just $L = I\\omega$ corresponding to $p = mv$. Now if we do it vectorally,\n",
    "\n",
    "$$ \\vec L = I \\vec \\omega $$\n",
    "\n",
    "So yes they point the same direction so long as I is positive. And for rotation purely around the x axis, the moment of inertia is $\\frac 23 ML^2$ as we just showed so yes, it is the same direction. In exact terms...\n",
    "\n",
    "**QUICK LOOKUP**\n",
    "\n",
    "Initial response was wrong, a constant angular frequency still multiplies by the entire angular momentum, so it's not just 2/3, it has the -1/4 terms as well. So...\n",
    "\n",
    "$$ \\vec L = (\\frac23 - \\frac24) ML^2 \\omega \\hat x $$\n",
    "$$ = (\\frac16) ML^2 \\omega \\hat x $$\n",
    "\n",
    "This would be the same around any of the axes. And it still points the same direction as the angular velocity."
   ]
  },
  {
   "cell_type": "markdown",
   "id": "183ef98f",
   "metadata": {},
   "source": [
    "*c) Now move the origin of the axis shown in the figure to the center of the cube and find the elements of the intertia tensor with respect to this new coordinate system. If the cube rotates about its center, for which direction(s) of $\\vec \\omega$ will the angular momentum vector point in the same direciton as the angular velocity?*"
   ]
  },
  {
   "cell_type": "markdown",
   "id": "11eceeb4",
   "metadata": {},
   "source": [
    "**IMMEDIATE KNOWLEDGE**\n",
    "\n",
    "Okay so the moment of inertia around a *centered* cube is always the same, and always positive. Also since we're now centered there are no off-diagonals, those are all zero! This leaves us with just one integral to do.\n",
    "\n",
    "$$ I = \\int_{-L/2}^{+L/2} \\rho r^2 dV $$\n",
    "\n",
    "Where I will now have the half length be \"a\" just to make things easier to write.\n",
    "\n",
    "$$ \\int_{-a}^a \\rho x^2 + y^2 dxdydz $$\n",
    "\n",
    "My look isn't this familiar. However the bounds are different, so...\n",
    "\n",
    "$$ \\Rightarrow 2a \\rho \\int_{-a}^a x^2 + y^2 dxdy $$\n",
    "$$ \\Rightarrow 2a \\rho \\int_{-a}^a 2a^3/3 + 2ay^2 dy $$\n",
    "$$ \\Rightarrow 2a \\rho ( 4a^4/3 + 4a^4/3 )$$\n",
    "$$ \\Rightarrow 8a^3 \\rho ( 2a^2/3 )$$\n",
    "$$ \\Rightarrow ML^2 \\frac16$$\n",
    "\n",
    "Which is, yes exactly what it should be. "
   ]
  },
  {
   "cell_type": "markdown",
   "id": "3721b2a3",
   "metadata": {},
   "source": [
    "<a id='P3'></a>\n",
    "\n",
    "# Problem 3 \\[Back to [top](#toc)\\]\n",
    "$$\\label{P3}$$\n",
    "\n",
    "*An electron is trapped in a quantum dot. The quantum dot may be modeled as a one-dimensional, infinitely deep potential well of width 1.00 nm.*\n",
    "\n",
    "*a) Taking x=0 at the left side of the well, calculate the probability of finding the electrom between $x_1=0.150$ nm and $x_2=0.350$ nm in the ground state and in the first excited state*"
   ]
  },
  {
   "cell_type": "markdown",
   "id": "f66c2851",
   "metadata": {},
   "source": [
    "*b) Find the energies of the electron (in electrom volts) in the ground state and in the first excited state.*"
   ]
  },
  {
   "cell_type": "markdown",
   "id": "555a2ccb",
   "metadata": {},
   "source": [
    "<a id='P4'></a>\n",
    "\n",
    "# Problem 4 \\[Back to [top](#toc)\\]\n",
    "$$\\label{P4}$$\n",
    "\n",
    "*The Hamiltonian of a system is $H = \\epsilon \\vec \\sigma \\cdot \\hat n$, where $\\epsilon$ is a constant, $\\hat n$ is a unit vector in an arbitrary direction, and $\\vec \\sigma$ are the Pauli matrices $\\sigma_x, \\sigma_y, \\sigma_z$.*\n",
    "\n",
    "*a) Find the energy eigenvalues and the normalized eigenvectors of the Hamiltonian. (Hint write the arbitrary unit vector in terms of spherical coordinates and cartesian unit vectors as $\\hat n = (sin\\theta cos\\phi)\\hat i + (sin\\theta sin\\phi)\\hat j + (cos\\theta)\\hat k$.*"
   ]
  },
  {
   "cell_type": "markdown",
   "id": "3831906f",
   "metadata": {},
   "source": [
    "*b) Find a transformation matrix which diagnolazes the Hamiltonian.*"
   ]
  },
  {
   "cell_type": "markdown",
   "id": "78e12811",
   "metadata": {},
   "source": [
    "<a id='P5'></a>\n",
    "\n",
    "# Problem 5 \\[Back to [top](#toc)\\]\n",
    "$$\\label{P5}$$\n",
    "\n",
    "*A particle is initially in its ground state in a one-dimensional harmonic oscillator potential. At t=0 a perturbation V(x,t) = $V_0x^3 e^{-t/\\tau}$ is turned on, where x is hte position operator and $V_0$ and $\\tau$ are given constants. To first order, calculate the probability that, after a sufficiently long time (t approaching infinity), the system will have made a transition to an excited state (of the unperturbed system). Consider all final states.*"
   ]
  },
  {
   "cell_type": "markdown",
   "id": "f4b7e00f",
   "metadata": {},
   "source": [
    "<a id='P6'></a>\n",
    "\n",
    "# Problem 6 \\[Back to [top](#toc)\\]\n",
    "$$\\label{P6}$$\n",
    "\n",
    "*A cube with sides of length L is made of six conducting plates.*\n",
    "\n",
    "*a) Say the top and bottom walls are held at constant potential V while all the side alls are grounded. What is the potential at the exact center of the cube? you can express your answer as an infinite series, but indicate which term in that series is the largest one.*"
   ]
  },
  {
   "cell_type": "markdown",
   "id": "133ebef4",
   "metadata": {},
   "source": [
    "**ACTUALLY DO IT**\n",
    "\n",
    "This problem is a mess with a lot of different ways things can go wrong and be messed up. Let's step through it carefully and methodically. \n",
    "\n",
    "So, first, we know this is going to be primarily a boundary conditions problem, similar to particle-in-a-box situations. While the coordiantes of this system are kind of a mess, we think the best way is to define the origin at one of the corners. \n",
    "\n",
    "With this setup for the coordinates, the boundary conditions can be writen as follows:\n",
    "\n",
    "V(x,y,0) = V(x,y,L) = V\n",
    "\n",
    "V(0,y,z) = V(L,y,z) = V(x,0,z) = V(x,L,z) = 0\n"
   ]
  },
  {
   "cell_type": "markdown",
   "id": "002c6200",
   "metadata": {},
   "source": [
    "Now, for a region with no charge $\\nabla^2 V = 0$, which will serve as our set of differential equations for today. Since we're in a cube the obvious choice here is the cartesian version, and furthermore the cubic nature indicates the solution should be separable. So, declare that V = XYZ which each of the three variables xyz. Anyway, expanding the Laplacian we get\n",
    "\n",
    "$$ YZ \\frac{\\partial^2}{\\partial x^2}X + XZ \\frac{\\partial^2}{\\partial y^2}Y + XY \\frac{\\partial^2}{\\partial z^2}Z = 0 $$\n",
    "\n",
    "It's a trivial matter to isolate the variables. \n",
    "\n",
    "$$ \\frac{1}{X} \\frac{\\partial^2}{\\partial x^2}X + \\frac{1}{Y} \\frac{\\partial^2}{\\partial y^2}Y +\\frac{1}{Z}\\frac{\\partial^2}{\\partial z^2}Z = 0 $$\n",
    "\n",
    "All of these are, individually, equal to a constant. That constant will very readily be different for each of them, but we can consider each one individually. However, as there are *three* of them, we sadly can't just solve generically, we have to solve them individually. Which is annoying at best."
   ]
  },
  {
   "cell_type": "markdown",
   "id": "9209d3f1",
   "metadata": {},
   "source": [
    "We keep trying to assign equalities to each equation, but we can't do that. Assume NOTHING is identical. X and Y will be of similar *form* but their constants can possibly have different constants (n and m integers especially). However, since each one can be separated individually, we can assign constants to them individually as well. Let it be $\\alpha\\beta\\gamma$...\n",
    "\n",
    "$$ -\\alpha -\\beta -\\gamma = 0  $$\n",
    "\n",
    "This naturally leads to the conclusion that one has opposite sign of the other two. Let's declare the sets to be XY and Z, so $\\alpha\\beta$, and $\\gamma$. \n",
    "\n",
    "Now, which sign is which? Well, that depends on the nature of the solutions. We know that these particular solutions either have sincos, sinhcosh, or linear form. Linear is senseless given our bondaries, so we are restricted to sincos and sinhcosh. XY *must* have sincos solutions as their boundary conditions are zero, so Z gets to be the hyperbolic. \n",
    "\n",
    "ANYWAY the full solution set would be:\n",
    "\n",
    "$$ X = Acos(\\sqrt\\alpha x) + Bsin(\\sqrt\\alpha x) $$\n",
    "$$ Y = Acos(\\sqrt\\beta y) + Bsin(\\sqrt\\beta y) $$\n",
    "$$ Z = Acosh(\\sqrt{-\\gamma} z) + Bsinh(\\sqrt{-\\gamma} z) $$\n",
    "\n",
    "The X and Y boundary conditions make it trivially true that the cosine functions are useless as we need 0 at 0. For Z, however, we have a minor problem, that problem being that neither cosh nor sinh clearly match the boundary conditions on both sides. So isntead of solving both conditions at once, we instead solve for TWO CUBES! A solution for a cube that starts at a potential V and goes to 0 at the other end. At the end we will add the two resulting potentials together. Regardless, in both cases the shape of those solutions will be sinh not cosh, as cosh cannot attain zero. \n",
    "\n",
    "$$ X = Bsin(\\sqrt\\alpha x) $$\n",
    "$$ Y = Bsin(\\sqrt\\beta y) $$\n",
    "$$ Z = Bsinh(\\sqrt{-\\gamma} z) $$\n",
    "\n",
    "So let's ignore B for now, it'll be the final thing we uncover in the fourier transform. What we need are the results for our inner constants. \n",
    "\n",
    "For $\\alpha$ and $\\beta$, we can just up and do that. We need it to be zero on both sides, it's automatically at the origin, and to get it to L we would need...\n",
    "\n",
    "$$ \\alpha = \\frac{n^2\\pi^2}{L^2} $$\n",
    "$$ \\beta = \\frac{m^2\\pi^2}{L^2} $$\n",
    "\n",
    "And since all three values have to add to 0, we have:\n",
    "\n",
    "$$ \\gamma = -\\frac{(m^2+n^2)\\pi^2}{L^2} $$\n",
    "\n",
    "Signs are confusing but they work out. Just check with the above. Anyway, we won't perform these substitutions yet as they'll be quite ugly, just know that all of them have been found. \n",
    "\n",
    "This means we can write down \"a\" solution. \n",
    "\n",
    "$$ V = Bsin(\\sqrt\\alpha x)sin(\\sqrt\\beta y)sinh(\\sqrt{-\\gamma} z) $$\n",
    "\n",
    "Keep in mind this is just for a cube with a *single* charged face. We'll compose the doubly charged face later. "
   ]
  },
  {
   "cell_type": "markdown",
   "id": "5de21c53",
   "metadata": {},
   "source": [
    "Let's say we're solving for z=L has the potential $V_0$. This is the easiest one to solve completely as it's the one the sinh naturally matches. However, solving for B would be different for every single set of n,m. Thus we do SUPERPOSITION. \n",
    "\n",
    "$$ V = \\Sigma_{nm} B_{nm}sin(\\sqrt\\alpha x)sin(\\sqrt\\beta y)sinh(\\sqrt{-\\gamma} z) $$\n",
    "\n",
    "So we need this to equal $V_0$ at z=L. \n",
    "\n",
    "$$ V_0 = \\Sigma_{nm} B_{nm}sin(\\sqrt\\alpha x)sin(\\sqrt\\beta y)sinh(\\sqrt{-\\gamma} L) $$\n",
    "\n",
    "Note that sinh is now itself a constant that depends on nm. Thus we can fold it into B and solve for B' using the usual method, then pull it out later. \n",
    "\n",
    "$$ V_0 = \\Sigma_{nm} B'_{nm}sin(\\sqrt\\alpha x)sin(\\sqrt\\beta y)$$\n",
    "\n",
    "Now this is the Fourier relation we should be familiar with. Using orthogonality (but really just memory) we flip this around to:\n",
    "\n",
    "$$ B'_{mn} = \\frac{4}{L^2}\\int\\int V_0 sin(\\sqrt\\alpha x)sin(\\sqrt\\beta y) dxdy $$\n",
    "$$ = \\frac{4V_0}{L^2}\\int sin(\\sqrt\\alpha x)dx \\int sin(\\sqrt\\beta y) dy $$\n",
    "$$ = \\frac{4V_0}{L^2} \\left[ \\frac{-1}{\\sqrt\\alpha}cos(\\sqrt\\alpha x) \\right]_0^L \\left[ \\frac{-1}{\\sqrt\\beta} cos(\\sqrt\\beta y) \\right]_0^L $$\n",
    "$$ = \\frac{16V_0}{L^2\\sqrt{\\alpha\\beta}} $$"
   ]
  },
  {
   "attachments": {
    "image.png": {
     "image/png": "[encoded data removed]"
    }
   },
   "cell_type": "markdown",
   "id": "3adf3c4f",
   "metadata": {},
   "source": [
    "So the individual constants are then:\n",
    "\n",
    "$$ B_{nm} = \\frac{16V_0}{L^2\\sqrt{\\alpha\\beta}} \\frac{1}{sinh(\\sqrt{-\\gamma}L)} $$\n",
    "\n",
    "The sinh makes things a little awkward but we can manage. Anyway, this suffices as a full answer for *one* face of a cube. We need two. Fortunately the other side is identical, it just needs to be reflected about z=L/2. Which is going to be interesting. So, the one we have:\n",
    "\n",
    "$$ V = \\Sigma_{nm} B_{nm}sin(\\sqrt\\alpha x)sin(\\sqrt\\beta y)sinh(\\sqrt{-\\gamma} z) $$\n",
    "\n",
    "And the reflected one:\n",
    "\n",
    "$$ V = \\Sigma_{nm} B_{nm}sin(\\sqrt\\alpha x)sin(\\sqrt\\beta y)sinh(\\sqrt{-\\gamma} (L-z)) $$\n",
    "\n",
    "So the total just adds them together. \n",
    "\n",
    "$$ V = \\Sigma_{nm} B_{nm}sin(\\sqrt\\alpha x)sin(\\sqrt\\beta y)(sinh(\\sqrt{-\\gamma} (L-z))+sinh(\\sqrt{-\\gamma} z)) $$\n",
    "\n",
    "Note that the constant changed here! \n",
    "\n",
    "Now the addition of the sinh functions does *appear* as a cosh function, so it likely could be replaced by one, we just don't know the identity. \n",
    "\n",
    "Found them!\n",
    "\n",
    "![image.png](attachment:image.png)\n",
    "\n",
    "While this may not simplify things that much, it does give us:\n",
    "\n",
    "$$ V = \\Sigma_{nm} B_{nm}sin(\\sqrt\\alpha x)sin(\\sqrt\\beta y)2sinh\\frac{\\sqrt{-\\gamma}L}{2}cosh\\frac{\\sqrt{-\\gamma}(2z-L)}{2} $$\n",
    "\n",
    "The sinh portion is a constant based on the size L of the box, and so we have only a cosh form result, but one offset somewhat. Everything seems to have fallen in place to get this to work so we aren't about to complain! That's our answer! All constants have been defined for everywhere in the cube, $\\alpha\\beta\\gamma$ and $B_{mn}$\n",
    "\n",
    "So, what is the value at the center, (L/2,L/2,L/2)? Well, this changes the value of none of our constants at all, so our result is...\n",
    "\n",
    "$$ V = \\Sigma_{nm} B_{nm}sin(n\\pi/2)sin(m\\pi/2)2sinh\\frac{\\sqrt{m^2+n^2}\\pi}{2}$$\n",
    "\n",
    "We note that the sine terms will sometimes be zero here, and sometimes be 1 or -1, but never anything else. To fully solve everything though we need to identify the dominant term, that is, what mn is the largest. This will require B and the two hyperbolic trig functions to be evaluated. Maximize this:\n",
    "\n",
    "$$ \\frac{16V_0}{nm\\pi^2}\\frac{1}{sinh(\\sqrt{m^2+n^2}\\pi)} sinh\\frac{\\sqrt{m^2+n^2}\\pi}{2} $$\n",
    "\n",
    "So the sinh terms will cancel each other out as m and n increase, and larger m and n continually lower the overall intensity. Also we have no care for n=m=0 since we used the sine series, such things don't exist. So the primary candidate for largest is n=m=1, as it reduces the lead the least. However, we do need to ask: does the 11 state actually exist? Yes, it seems so! So the dominant term is:\n",
    "\n",
    "\n",
    "$$ V_{11} = \\frac{32V_0}{\\pi^2} \\frac{sinh\\frac{\\pi}{\\sqrt2}}{sinh(\\sqrt{2}\\pi)}$$\n",
    "\n",
    "And I am NOT going to bother simplifying that. "
   ]
  },
  {
   "cell_type": "markdown",
   "id": "80820f3e",
   "metadata": {},
   "source": [
    "*b) Say the side walls are all grounded, but now the top wall is held at a constant potential V while the bottom panel is held at a constant potential -V. What is the potential at the exact center of the cube?*\n",
    "\n",
    "**IMMEDIATE KNOWLEDGE** (so immediate that I did this while I was writing the problem down!)\n",
    "\n",
    "I can answer this one now. 0. It's zero. "
   ]
  },
  {
   "cell_type": "markdown",
   "id": "b1aa7fe1",
   "metadata": {},
   "source": [
    "<a id='P7'></a>\n",
    "\n",
    "# Problem 7 \\[Back to [top](#toc)\\]\n",
    "$$\\label{P7}$$\n",
    "\n",
    "*Consider two long coaxial solenoids of length L. The inner solenlid has radius $r_1$ and $N_1$ turns, while the outer solenoid has radius $r_2$ and $N_2$ turns.*\n",
    "\n",
    "*a) Say a current $I=I_0 cos\\omega t$ flows through the inner solenoid, and the spaces around the solenoids are just air. Find the induced voltage across the ends of the outer solenoid due only to this current. You may ignore fringing fields.*\n",
    "\n",
    "No immediate knowledge, **QUICK LOOKUP** showed that constant magnetic field in a solenoid was not what I thought: it's just $\\mu_0 N I/L$. Whoops. The rest would rely on Maxwell's Equations or shortcuts I don't have memorized. "
   ]
  },
  {
   "cell_type": "markdown",
   "id": "335ebad4",
   "metadata": {},
   "source": [
    "Let's do this more rigidly. What we have here is a case of inductance. Since we are given no resistance value, assume that there effectively is none and response times are instantaneous. \n",
    "\n",
    "SO! The EMF equation actually dictates how the thing here works, one that as far as I can tell was not studied in our class. BUT it's not all that complicated.\n",
    "\n",
    "$$ emf = V = -N\\frac{d\\Phi}{dt} $$\n",
    "\n",
    "Which is to say the voltage (emf) is the time integral of the change in flux. We are told only to look at the effect of the current of the inner solenoid, so the induced current on the outer solenoid is *irrelevant*. \n",
    "\n",
    "Normally to find flux you'd need to integrate, but inside solenoids the field is constant, so magnetic flux is just BA, where B is $\\mu_0 N I/L$\n",
    "\n",
    "$$ \\Phi = \\pi r_1^2 \\mu_0 N_1 I_0 cos\\omega t /L$$\n",
    "\n",
    "Take the time derivative and multiply by the loops in the second solenoid. \n",
    "\n",
    "$$ V = N_2 \\pi r_1^2 \\mu_0 N_1 I_0 \\omega sin\\omega t/L $$"
   ]
  },
  {
   "cell_type": "markdown",
   "id": "e5534f1e",
   "metadata": {},
   "source": [
    "*b) Say a current $I = I_0 cos\\omega t$ flows through the outer solenoid, and the spaces aroudn the solenoids are just air. Find the induced voltage across the ends of the inner solenoid due only to this current. You may ignore fringing fields.*"
   ]
  },
  {
   "cell_type": "markdown",
   "id": "3bb33247",
   "metadata": {},
   "source": [
    "So this is slightly different than the above, because the flux is the flux going through the area of the *inner* solenoid, so our area is the same as previously. Otherwise the only change is flipping indices. \n",
    "\n",
    "$$ V = N_1 \\pi r_1^2 \\mu_0 N_2 I_0 \\omega sin\\omega t /L$$\n",
    "\n",
    "You may note that this only changes the indices on N, which are interchangeable anyway, so there is no real difference between case a) and b) as the magnetic field is a constant. The same current in both produces the same voltage difference! Now this would likely make different *induced* currents but let's not worry about those. "
   ]
  },
  {
   "cell_type": "markdown",
   "id": "44d8fecb",
   "metadata": {},
   "source": [
    "*c) Say a current $I = I_0 cos \\omega t$ flows through the outer solenoid, and the space between the inner and outer solenoid is filled with a material with magnetic permeability $\\mu_2$, while the inner solenoid is filled with a material with a magnetic permeability $\\mu_1$. Find the induced voltage across the ends of the inner solenoid due only to the current I. Ignore fringing fields*."
   ]
  },
  {
   "cell_type": "markdown",
   "id": "72b41699",
   "metadata": {},
   "source": [
    "So, let's ignore the inner solenoid for a moment, the issue in this problem hinges upon the magnetic field inside a solenoid filled with not one, but two different kinds of magnetic material. Naturally it's still all perfectly directed in the z direction and a cosntant, but what is that constant?\n",
    "\n",
    "First, consider a solenoid filled with just *one* material. In our case we can always say $\\vec B = \\mu \\vec H$. Without the material the H-field is just $NI/L$. However, when we add the material in it, the free H-field remains, but there is now a *bound* H-field. For reasons not understood, the single material case is just a replacement of $\\mu_0$ with $\\mu$.\n",
    "\n",
    "$$ \\vec B = \\mu NI/L \\hat z$$\n",
    "\n",
    "But does this change when we have *two* materials inside? Well, in that case we would need to consider our boundary conditions. Is the H-field permitted to dramatically change across a parallel boundary? \n",
    "\n",
    "We actually know it has to be, sicne on an infinite solenolid the interior and exterior are dsicontinuous. So this is perfectly fine. \n",
    "\n"
   ]
  },
  {
   "cell_type": "markdown",
   "id": "19cba5b4",
   "metadata": {},
   "source": [
    "So, what is the deal? WEll, $\\vec B = \\mu_0 (\\vec M + \\vec H)$. M is the magnetization, and H is the field generated by the free current, that is, the current that is genreated without the magnetization--which, in our case, is the driven current. In order to find the actual magnetic field we need to know what the bound current is going to be, and then we can treat that surface current as another contributor to the magnetic field. Everything is in parallel... so, aha! Knowing that a single solenoid filled with material has a field of $\\mu N I/L$, we can replace it with another entirely empty solenoid with the effecitvely changed *current*. In fact we can even unambiguously shrink the solenoid until it touches the edge of the inner material. This tiered approach will get us the field strength insdie the innermost solenoid, which we can plug in directly above to get the Voltage. \n",
    "\n",
    "So, we have $B = \\mu_2 N I/L$. We want to adjust this so it looks like a field going through a vacuum with a stronger current. This is easy enough to do...\n",
    "\n",
    "$$ B = \\mu_0 (N/L) \\frac{\\mu_2 I}{\\mu_0} $$\n",
    "\n",
    "Now, treating that last term there as the new current, pretend like we fill *it* with the new susceptibility. WHich will give us...\n",
    "\n",
    "$$ B = \\mu_1 (N/L) \\frac{\\mu_2 I}{\\mu_0} $$\n",
    "\n",
    "Wait: hold up, we need to be careful. Does it really scale like this? Think of it in terms of the currents. We have a driven current, and we have a bound current. With one material, those are both at the same location, just different, usually providing a magnifying effect. The argument depends on this bound current being the same whether or not there is a different core inside the material. Well, we know the solenoid's driving field is constant, and so the magnetization of the material outside is constant and doesn't depend on anything but its boundaries. The outer boundary is the same, and the inner boundary is only going to influence the *inner* field, as it's just another solenoid! Thus, the outer magnetization/bound current isn't going to \"see\" the inner one, and therefore it is the same with or without the care. \n",
    "\n",
    "And *this* is sufficient to answer the problem, as the field inside the solenoid is its flux, and said flux will determine the voltage. \n"
   ]
  },
  {
   "cell_type": "markdown",
   "id": "54babd8d",
   "metadata": {},
   "source": [
    "*d) Say a voltage $V = V_0 cos\\omega t$ is applied to the outer solenoid, and the spaces around the solenoids are just air. Find the induced voltage across the ends of the inner solenoid due only to this curent. You may ignore fringing fields. (Hint: Use Faraday's law to relate both voltages to the relevant magnetic fluxes and use conservation of energy to obtain another relationship between the currents and voltages in the two wires.)*"
   ]
  },
  {
   "cell_type": "markdown",
   "id": "ab08708d",
   "metadata": {},
   "source": [
    "See we would love to use V=IR here but that's not going to work as we don't know R, thus we have to figure something else out. \n",
    "\n",
    "Faraday's law is just hte emf equation. \n",
    "\n",
    "$$ emf = V = -N\\frac{d\\Phi}{dt} $$\n",
    "\n",
    "And conservation of energy is conservation of energy. You know we might be able to just solve Faraday's Law as a differential equation.\n",
    "\n",
    "$$ -\\frac{V_0}{N_2} cos\\omega t = \\frac{d\\Phi}{dt} $$\n",
    "$$ \\Rightarrow -\\frac{V_0}{N_2\\omega} sin\\omega t = \\Phi $$\n",
    "\n",
    "Thus we have the flux that would induce the EMF, or perhaps more accuratly this is the flux that is being created BY the EMF now, as it works both ways. \n",
    "\n",
    "Now, the flux is related to the magnetic field by $\\Phi = AB = \\pi r_2^2 \\mu_0 N_2 I_2 / L$, where currently $I_2$ is unknown. However, as we have a relation, it's not going to be hard to find.\n",
    "\n",
    "$$ \\Rightarrow I_2 = \\frac{V_0}{N_2\\omega} sin\\omega t \\frac{L}{\\pi r_2^2 \\mu_0 N_2} $$\n",
    "\n",
    "Now this is a mess, but it is a current. Now we just do what we did in parts a) and b) with the previous current we got, agian ignoring induced current on the inner solenoid. I don't think I need to write it out, it's acutally pretty \"simple.\" Never had to use the conservation of energy, though, just the inverse of Faraday's law and some logic. ACtualyl we could just substitute into the answer for b) if we did it right!"
   ]
  },
  {
   "cell_type": "markdown",
   "id": "c572998a",
   "metadata": {},
   "source": [
    "The answer for b) is:\n",
    "\n",
    "$$ V = N_1 \\pi r_1^2 \\mu_0 N_2 I_0 \\omega sin\\omega t /L$$\n",
    "\n",
    "This is for a current of $I = I_0 cos\\omega t$. Replacing cosine with sine here, though, will adjust some things. However, we can condense some of our values: let $I_2 = I_0 sin\\omega t$  where \n",
    "\n",
    "$$ I_0 = \\frac{V_0 L}{N_2^2 \\omega \\pi r_2^2 \\mu_0} $$\n",
    "\n",
    "So the flux is then\n",
    "\n",
    "$$ \\Phi = \\pi r_1^2 \\mu_0 N_1 I_0 sin\\omega t /L$$\n",
    "\n",
    "Take the time derivative and multiply by the loops in the second solenoid. \n",
    "\n",
    "$$ V = - N_2 \\pi r_1^2 \\mu_0 N_1 I_0 \\omega cos\\omega t/L $$\n",
    "\n",
    "Payling close attention reveals the *minus sign* is different from part b), due entirely to the sincos switch. Also if we substitute $I_0$ we get some cancels. "
   ]
  },
  {
   "cell_type": "markdown",
   "id": "b5c1117c",
   "metadata": {},
   "source": [
    "$$ V = - \\frac{N_1}{N_2} \\frac{r_1^2}{r_2^2} V_0 cos\\omega t $$"
   ]
  },
  {
   "cell_type": "markdown",
   "id": "b14b63f1",
   "metadata": {},
   "source": [
    "<a id='P8'></a>\n",
    "\n",
    "# Problem 8 \\[Back to [top](#toc)\\]\n",
    "$$\\label{P8}$$\n",
    "\n",
    "*A linearly polarized electromagnetic plane wave with frequency $\\omega$ and electric field amplitude $E_0$ is propogating through vacuum with a wavevector whose direction is given by $\\hat k = sin\\theta \\hat y + cos\\theta \\hat z$ when it encounters an infinite conducting surface at z=0.*\n",
    "\n",
    "*a) Assuming the surface is perfectly flat and perfectly conducting, what is the distribution of charge and current on the surface as a function of the coordinates x, y, and time t?*"
   ]
  },
  {
   "cell_type": "markdown",
   "id": "2026cda0",
   "metadata": {},
   "source": [
    "Okay this problem was originally done as a rather intense *mess*. So let's be a bit more careful this time, get some actual answers. \n",
    "\n",
    "So, in essenc, we have two waves. The incoming and the reflected wave. A perfect conductor is also a perfect reflector, so we don't have to think about that at all, method of images would even allow us to just have the two waves superposed over each other. \n",
    "\n",
    "Write out the incoming wave as:\n",
    "\n",
    "$$ E_0 e^{i(\\vec k \\cdot \\vec x - \\omega t)} \\hat p$$\n",
    "\n",
    "Where $\\hat p$ is the polarization direction, which is only really known to be perpendicular to $\\hat k$.\n",
    "\n",
    "Yes there would also be a magnetic component, but we're going to do it completely in terms of E for simplicity. We could write the B-field down from the E rather simply. \n",
    "\n",
    "So, we have the incoming wave. How about the outgoing? Well, the only things that will change are $\\hat k$ and $\\hat p$. For now, let's ignore the polarization, it'll be a hard thing to mess with. \n",
    "\n",
    "$\\hat k$ is $sin\\theta \\hat y + cos\\theta \\hat z$. The reflected wave will be traveling away at the other angle, so the y direction will be the same but z will be reversed, so... $\\hat k' = sin\\theta \\hat y - cos\\theta \\hat z$. Therefore the secondary wave is:\n",
    "\n",
    "$$ E_0 e^{i(\\vec k' \\cdot \\vec x - \\omega t)} \\hat p'$$\n",
    "\n",
    "Now let's actually evaluate the dot product for both. \n",
    "\n",
    "$$ E_0 e^{i(kysin\\theta + kzcos\\theta - \\omega t)} \\hat p$$\n",
    "$$ E_0 e^{i(kysin\\theta - kzcos\\theta - \\omega t)} \\hat p'$$"
   ]
  },
  {
   "cell_type": "markdown",
   "id": "68465a20",
   "metadata": {},
   "source": [
    "After LONG and ARDUOUS problems, and realzing the textbook HAS IT WRONG, here is the result:\n",
    "\n",
    "When perfectly reflected, the E polarization remains the same and the B polarizaiton swaps. \n",
    "\n",
    "https://eng.libretexts.org/Bookshelves/Electrical_Engineering/Electro-Optics/Electromagnetic_Field_Theory%3A_A_Problem_Solving_Approach_(Zahn)/07%3A_Electrodynamics-fields_and_Waves/7.05%3A_Normal_Incidence_onto_a_Perfect_Conductor\n",
    "\n",
    "So in this case we CAN just add them, but we need to be careful and note that the relations are going to be different. This is definitely one big old mess. But this WILL make everything else work out. TE and TM waves are going to behave differently at the boundaries. Fortunately every situation can always be written as a combination of TE and TM. (TEM occurs at $\\theta=0$). So let's write out both polarizations. "
   ]
  },
  {
   "cell_type": "markdown",
   "id": "8fd2ac92",
   "metadata": {},
   "source": [
    "TE (the one that's easier to write down):\n",
    "\n",
    "$$ E_0 e^{i(kysin\\theta + kzcos\\theta - \\omega t)} \\hat x$$\n",
    "$$ E_0 e^{i(kysin\\theta - kzcos\\theta - \\omega t)} \\hat x$$\n",
    "\n",
    "TM is a bit more awkward, as we're working in E and it depends on the propogation direction. Remember, $\\hat E \\times \\hat B = \\hat k$. In TM, the magnetic field will be in the x direction (the sign is irrelevant, both positive and negative TM can be used to form the basis we need to complete the picture). \n",
    "\n",
    "$$\\hat E \\times \\hat x = sin\\theta \\hat y + cos\\theta \\hat z$$\n",
    "$$\\Rightarrow \\hat E = -cos\\theta \\hat y + sin\\theta \\hat z$$\n",
    "\n",
    "So this gives us our polarization for a TM wave. Remember that the magnetic field flips. The E field will take the same *relative* direction to the B field, but since we're at an angle there is a slight adjustment in the z component, which normally doesn't exist. \n",
    "\n",
    "TM:\n",
    "\n",
    "$$ E_0 e^{i(kysin\\theta + kzcos\\theta - \\omega t)} (-cos\\theta \\hat y + sin\\theta \\hat z)$$\n",
    "$$ E_0 e^{i(kysin\\theta - kzcos\\theta - \\omega t)} (-cos\\theta \\hat y - sin\\theta \\hat z)$$"
   ]
  },
  {
   "cell_type": "markdown",
   "id": "f74860e8",
   "metadata": {},
   "source": [
    "So, for TE and TM, the entire field is just the sum. Granted, the sum is a little awkward in a lot of places, but it can work. Do note: these things do not cancel at z=0. We expected this at first but then we realized, this only applies when a standing wave is properly created. This won't necessarily *be* a standing wave, we're coming in at an angle. \n",
    "\n",
    "TE:\n",
    "\n",
    "$$ E_0 e^{i(kysin\\theta - \\omega t)} \\left( e^{ikzcos\\theta} + e^{-ikzcos\\theta}\\right) \\hat x $$\n",
    "\n",
    "TM:\n",
    "\n",
    "$$ E_0 e^{i(kysin\\theta - \\omega t)} (-\\left( e^{ikzcos\\theta} + e^{-ikzcos\\theta}\\right)cos\\theta \\hat y + \\left( e^{ikzcos\\theta} - e^{-ikzcos\\theta}\\right)sin\\theta \\hat z) $$\n",
    "\n",
    "And every possible wave can be constructed from these two. TEM arrives when $\\theta = 0$. \n",
    "\n",
    "Let's go ahead and get the magnetic field as well. Remember that it flips across refleciton boundaries while E doesn't. (Agh so much pain here...)\n",
    "\n",
    "TE:\n",
    "\n",
    "$$ \\frac{k}{c}E_0 e^{i(kysin\\theta + kzcos\\theta - \\omega t)} (cos\\theta \\hat y - sin\\theta \\hat z)$$\n",
    "$$ \\frac{k}{c}E_0 e^{i(kysin\\theta - kzcos\\theta - \\omega t)} (-cos\\theta \\hat y - sin\\theta \\hat z)$$\n",
    "\n",
    "TM:\n",
    "\n",
    "$$ \\frac{k}{c}E_0 e^{i(kysin\\theta + kzcos\\theta - \\omega t)} \\hat x$$\n",
    "$$ - \\frac{k}{c}E_0 e^{i(kysin\\theta - kzcos\\theta - \\omega t)} \\hat x$$\n",
    "\n",
    "And the combination versions:\n",
    "\n",
    "TE:\n",
    "\n",
    "$$ \\vec B = \\frac{k}{c}E_0 e^{i(kysin\\theta - \\omega t)} (\\left( e^{ikzcos\\theta} - e^{-ikzcos\\theta}\\right)cos\\theta \\hat y - \\left(e^{ikzcos\\theta} + e^{-ikzcos\\theta}\\right)sin\\theta \\hat z) $$\n",
    "\n",
    "TM:\n",
    "\n",
    "$$ \\vec B = \\frac{k}{c}E_0 e^{i(kysin\\theta - \\omega t)} \\left( e^{ikzcos\\theta} - e^{-ikzcos\\theta}\\right) \\hat x $$\n",
    "\n",
    "\n"
   ]
  },
  {
   "cell_type": "markdown",
   "id": "0eb9bf86",
   "metadata": {},
   "source": [
    "So, one would think we use these combination fields to find the charge distribution, right? WRONG! The induced charge distribution will be due to just *one* of the waves! The distribution creates the reflected wave, not the incoming wave, so the symmetric combination WOULD NOT FIT. \n",
    "\n",
    "Anyway we need the charge distribution and current distribution. Which means we need values for the waves at z=0.\n",
    "\n",
    "TE:\n",
    "\n",
    "$$ \\vec E = E_0 e^{i(kysin\\theta - \\omega t)} \\hat x$$\n",
    "$$ \\vec E = E_0 e^{i(kysin\\theta - \\omega t)} \\hat x$$\n",
    "\n",
    "TM:\n",
    "\n",
    "$$ \\vec E =  E_0 e^{i(kysin\\theta - \\omega t)} (-cos\\theta \\hat y + sin\\theta \\hat z)$$\n",
    "$$ \\vec E =  E_0 e^{i(kysin\\theta - \\omega t)} (-cos\\theta \\hat y - sin\\theta \\hat z)$$\n",
    "\n",
    "TE:\n",
    "\n",
    "$$ \\vec B = \\frac{k}{c}E_0 e^{i(kysin\\theta - \\omega t)} (cos\\theta \\hat y - sin\\theta \\hat z)$$\n",
    "$$ \\vec B = \\frac{k}{c}E_0 e^{i(kysin\\theta - \\omega t)} (-cos\\theta \\hat y - sin\\theta \\hat z)$$\n",
    "\n",
    "TM:\n",
    "\n",
    "$$ \\vec B = \\frac{k}{c}E_0 e^{i(kysin\\theta - \\omega t)} \\hat x$$\n",
    "$$ \\vec B = - \\frac{k}{c}E_0 e^{i(kysin\\theta - \\omega t)} \\hat x$$\n",
    "\n",
    "\n"
   ]
  },
  {
   "cell_type": "markdown",
   "id": "8b2b806f",
   "metadata": {},
   "source": [
    "So, the first ones are always the incoming waves. For the charge distribution, the method of images suggests:\n",
    "\n",
    "$$ \\sigma = \\epsilon_0 \\hat n \\cdot \\vec E(z=0)  = -\\epsilon_0 |\\frac{\\partial \\varphi}{\\partial z}|_{z=0} $$\n",
    "\n",
    "Thus, when we have a TE wave, we have no surface contribution. However, in the TM case, we DO have a z component. Taking the incoming wave, we get...\n",
    "\n",
    "$$ \\sigma = - \\epsilon_0 E_0 e^{i(kysin\\theta - \\omega t)} sin\\theta (\\text{TM_ONLY}) $$\n",
    "\n",
    "Note that at normal incidence this goes to zero. As it should, as at normal incidence a standing wave is produced.\n",
    "\n",
    "The current is a similar procedure.\n",
    "\n",
    "$$ \\mu_0 \\vec K = -\\hat z \\times \\vec B $$\n",
    "\n",
    "It's just that results exist for both TE and TM. Which is sensible, as TEM waves *do* in fact have a current arise from the situation.\n",
    "\n",
    "TE:\n",
    "\n",
    "$$ \\vec K = \\frac{k}{c\\mu_0}E_0 e^{i(kysin\\theta - \\omega t)} cos\\theta \\hat x  $$\n",
    "\n",
    "TM:\n",
    "\n",
    "$$ \\vec K = - \\frac{k}{c\\mu_0}E_0 e^{i(kysin\\theta - \\omega t)} \\hat y  $$\n",
    "\n",
    "This appears to be the answer. Agh. "
   ]
  },
  {
   "cell_type": "markdown",
   "id": "7382d548",
   "metadata": {},
   "source": [
    "*b) Compute the force per unit area acting on the conducting surface currents and charges due to electric and magnetic fields associated with the wave. Are the magnitude and direction of this force sensible, given the momentum density carried by the wave?*"
   ]
  },
  {
   "cell_type": "markdown",
   "id": "63828610",
   "metadata": {},
   "source": [
    "All right let's try to be clever and use principles to solve this rather than throwing Poynting Vectors at it. At direct incidence the change in energy per unit area is 2E, so a TEM wave can be used as a basis. \n",
    "\n",
    "The angle provides a scaled energy as well, $2cos\\theta E$. (E being energy, not electric field). So all we *need* to know is the energy or pressure from the wave *alone* as if it were perfectly incident! \n",
    "\n",
    "$$\\vec P = \\frac{<\\vec S>}{c}$$\n",
    "\n",
    "$$ <\\vec S> = \\frac{\\epsilon_0}{2} c |E_0|^2 \\hat k $$\n",
    "\n",
    "So this would be the *direct* pressure, that is, one from a perfect absorber. The reflection doubles this force due to the secondary wave leaving, and the angle adjusts it. So...\n",
    "\n",
    "$$ \\vec P = cos\\theta \\epsilon_0 |E_0|^2 \\hat z$$\n",
    "\n",
    "They probably wanted us to calculate the poynting vector. But why would we do that when we can just use optics? "
   ]
  },
  {
   "cell_type": "markdown",
   "id": "89e91e69",
   "metadata": {},
   "source": [
    "*c) Say the surface was instead a perfect absorber of radiation. How would the magnitude and direction of the force per unit area acting on the surface change?*"
   ]
  },
  {
   "cell_type": "markdown",
   "id": "e927ba82",
   "metadata": {},
   "source": [
    "**IMMEDIATE KNOWLEDGE**\n",
    "\n",
    "One part of this is easy to answer: the direction of the force. IN the conducting case, there is a reflection, a perfect reflection in fact as we are a perfect conductor, and so the force is normal to the surface. However, in the absorbing case, conservation of momentum dictates that the force push in the direction of incidence. \n",
    "\n",
    "As for the magnitude of the force, if our perfect reflection is to be believed, the force in that case correlates to the value $2cos\\theta$ as this is the z component that flips when the wave is reflected. However, if the force is simply absorved than the wavevector's magnitude indicates the relative power of the force, that is, $\\sqrt{sin^2\\theta + cos^2\\theta} = 1$. So the angle does not matter for the perfect absorber (which makes sense), but the angle does matter for the reflector, and the reflector can have relative force magnitudes of near-0 or 2. \n",
    "\n",
    "(a lookup confirms that a perfect conductor is also a perfect reflector.)"
   ]
  },
  {
   "cell_type": "markdown",
   "id": "1ff02dd5",
   "metadata": {},
   "source": [
    "<a id='P9'></a>\n",
    "\n",
    "# Problem 9 \\[Back to [top](#toc)\\]\n",
    "$$\\label{P9}$$\n",
    "\n",
    "*Parts a, b, and c are independent.*\n",
    "\n",
    "*a) A gas obeys the equation of state*\n",
    "\n",
    "$$P(V-b) = RTexp\\left( -\\frac{a}{RTV} \\right)$$\n",
    "\n",
    "*Find V and T at the critical point in terms of a, b, and R. Determine the numerical value of the ratio PV/RT at the critical point.*"
   ]
  },
  {
   "cell_type": "markdown",
   "id": "4cc9a582",
   "metadata": {},
   "source": [
    "Okay so the critical point is where liquid and gas become indistinguishable, which can be determined by examining the way P(V) behaves--we're specifically looking for where a saddle point exists. So, take derivatives with respect to V.\n",
    "\n",
    "$$P = \\frac{RT}{V-b}e^{ -\\frac{a}{RTV}}$$\n",
    "$$P' = - \\frac{RT}{(V-b)^2}e^{ -\\frac{a}{RTV}} + \\frac{a}{V^2(V-b)}e^{ -\\frac{a}{RTV}}$$\n",
    "$$P'' = \\frac{2RT}{(V-b)^3}e^{ -\\frac{a}{RTV}} + \\frac{a}{V^2(V-b)^2}e^{ -\\frac{a}{RTV}} - \\frac{a^2}{RTV^4(V-b)}e^{ -\\frac{a}{RTV}} - \\frac{a}{(V^2(V-b))^2}[3V^2-2Vb]e^{ -\\frac{a}{RTV}}$$\n",
    "\n",
    "So for the point we're looking for, both the first and second derivatives are zero. \n",
    "\n",
    "$$0 = - \\frac{RT}{(V-b)^2}e^{ -\\frac{a}{RTV}} + \\frac{a}{V^2(V-b)}e^{ -\\frac{a}{RTV}}$$\n",
    "$$0 = \\frac{2RT}{(V-b)^3}e^{ -\\frac{a}{RTV}} + \\frac{a}{V^2(V-b)^2}e^{ -\\frac{a}{RTV}} - \\frac{a^2}{RTV^4(V-b)}e^{ -\\frac{a}{RTV}} - \\frac{a}{(V^2(V-b))^2}[3V^2-2Vb]e^{ -\\frac{a}{RTV}}$$\n",
    "\n",
    "The exponentials can now be divided out and we can try to determine what we actually know from this.\n",
    "\n",
    "$$0 = - \\frac{RT}{(V-b)^2} + \\frac{a}{V^2(V-b)}$$\n",
    "$$0 = \\frac{2RT}{(V-b)^3} + \\frac{a}{V^2(V-b)^2} - \\frac{a^2}{RTV^4(V-b)} - \\frac{a}{(V^2(V-b))^2}[3V^2-2Vb]$$\n",
    "\n",
    "There are a like term that can be removed as well: V-b. \n",
    "\n",
    "$$0 = - \\frac{RT}{(V-b)} + \\frac{a}{V^2}$$\n",
    "$$0 = \\frac{2RT}{(V-b)^2} + \\frac{a}{V^2(V-b)} - \\frac{a^2}{RTV^4} - \\frac{a}{V^4(V-b) }[3V^2-2Vb]$$"
   ]
  },
  {
   "cell_type": "markdown",
   "id": "a512b511",
   "metadata": {},
   "source": [
    "We treat only V and T as unknowns, and we solve for them. Finding the answers in terms of each other isn't going to be too difficult. (Solving for T was simple, V however required use of the quadratic formula and ended up rather indeterminant since we have no real restrictions on the values of a and b stated.) \n",
    "\n",
    "$$ T = \\frac{a(V-b)}{RV^2} $$\n",
    "\n",
    "Now, after a lot of sbustitution and messing around, we have this form for the second derivative:\n",
    "\n",
    "$$ 0 = - \\frac{a}{V^2(V-b)} + \\frac{2ba}{V^3(V-b)} $$\n",
    "$$ \\Rightarrow 0 = - a + \\frac{2ba}{V} $$\n",
    "$$ \\Rightarrow V=2b $$\n",
    "\n",
    "Which is... kind of expected and what it usually is, even in Van der Waals. "
   ]
  },
  {
   "cell_type": "markdown",
   "id": "50f2b5ba",
   "metadata": {},
   "source": [
    "Anyway, now PV/RT is our thing. This means we need a new T...\n",
    "\n",
    "$$ T = a/4Rb $$\n",
    "\n",
    "So PV/RT = $16Pb^2/a$\n",
    "\n",
    "Yet we most definitely need an expression for P as well. Luckily we can solve with the base equation for that. \n",
    "\n",
    "$$ P = \\frac{a}{4b^2}e^{-2} $$\n",
    "\n",
    "And so...\n",
    "\n",
    "$$ PV/RT = 4e^{-2} $$"
   ]
  },
  {
   "cell_type": "markdown",
   "id": "ba494329",
   "metadata": {},
   "source": [
    "*b) Suppose that the energy of a particle can be represented by $E(q) = bq^2$, where q can be a coordinate or a momentum and can have all values between negative infinity and positive infinity. Determine the average energy per particle in a system of such particles if they obey Boltzmann statistics. Comment on your result in view of the theorem of equipartition of energy. State the theorem.*"
   ]
  },
  {
   "cell_type": "markdown",
   "id": "83d5fc1a",
   "metadata": {},
   "source": [
    "The Equipartition Theorem is \n",
    "\n",
    "$$ U = NfkT/2 $$\n",
    "\n",
    "Naturally we end up with one degree of freedom as the energy only has one contributor. However, how would we show this? Well, we'd need to find the energy from the partition function:\n",
    "\n",
    "$$ U = - \\frac{\\partial}{\\partial \\beta} lnZ$$\n",
    "\n",
    "$$ Z = \\frac1h \\int e^{H/kT}$$\n",
    "\n",
    "Notably the leading term on Z would be different if there was more than one particle, but there is not. Anyway, the integral is over a gaussian, so we end up with:\n",
    "\n",
    "$$ Z = \\frac1h \\sqrt{\\frac{\\pi k T}{b}} $$\n",
    "\n",
    "$ kT = 1/\\beta $ so we can resolve this by just taking the derivative. Due to properties of ln described better in the 2019 situation, the result is...\n",
    "\n",
    "$$ U = \\frac12 kT $$\n",
    "\n",
    "Which matches equipartition for N=1 and f=1. Which yeah we have one particle. "
   ]
  },
  {
   "cell_type": "markdown",
   "id": "b5050870",
   "metadata": {},
   "source": [
    "*c) In a system of N non-interacting particles obyeing Boltzmann statistics the energy of each particle can be either 0 or E>0. (In other words, there are only two states, one with energy 0 and one with energy E>0.) The occupiation numbers of the levels 0 and E are $N_0$ and $N_1$ respectively. The total energy is constant and equal to $E_{tot}$. For which values of $N_0$ (in terms of N) will T be negative?*"
   ]
  },
  {
   "cell_type": "markdown",
   "id": "b3522c7d",
   "metadata": {},
   "source": [
    "So this is worded rather confusingly I have to admit, as a specific number N with only one nonzero energy level and a total constant energy would uniquely determine everything, it seems, but let's just go with it. \n",
    "\n",
    "So, with a large number of N particles, they will naturally sift themselves into their probabilities. So the ratio of probabilities P2/P1 will equal N2/N1 in every case, due to STATISTICS! \n",
    "\n",
    "Anyway the partition function Z cancels out of this ratio and we just end up with:\n",
    "\n",
    "$$ \\frac{N_1}{N_0} = e^{-(E_1-E_0)/kT} $$\n",
    "$$ \\Rightarrow ln\\frac{N_1}{N_0} = -(E_1-E_0)/kT $$\n",
    "$$ \\Rightarrow -\\frac{k}{E_1-E_0}ln\\frac{N_1}{N_0} = 1/T $$\n",
    "$$ \\Rightarrow -\\frac{E_1-E_0}{kln\\frac{N_1}{N_0}} = T $$\n"
   ]
  },
  {
   "attachments": {
    "image.png": {
     "image/png": "[encoded data removed]"
    }
   },
   "cell_type": "markdown",
   "id": "4dca40e4",
   "metadata": {},
   "source": [
    "So, this is the geneal form. Fortunately we know the actual value of some of the energies, so we can simplify. Split up the ln. \n",
    "\n",
    "$$ \\Rightarrow -\\frac{E_1}{k(lnN_1-lnN_0)} = T $$\n",
    "$$ \\Rightarrow \\frac{E_1}{k(lnN_0-lnN_1)} = T $$\n",
    "\n",
    "T will pretty clearly be negative when $N_1>N_0$. Which seems... odd. \n",
    "\n",
    "Except this is exactly what we would expect, now that we think about it. Notice that as we increaset eh overall energy, the multiplicity of systems goes down. If all the particles were in the elevated state there would only be one way to arrange them! As we add more and more, instead of spreading out we get more restricted, which results in a negative temperature. The turning point is N/2, where an equal number are in both states! Below we plot -1/ln(x) to demonstrate the shape, the N/2 location is x=1. Note that we have positive tempreature that shoots up absurdly before swapping negative. This is very similar to how a two-state paramagnet behaves. \n",
    "\n",
    "![image.png](attachment:image.png)"
   ]
  },
  {
   "cell_type": "markdown",
   "id": "de6ad6de",
   "metadata": {},
   "source": [
    "The strict answer is $N_0 < N/2$"
   ]
  },
  {
   "cell_type": "markdown",
   "id": "5e84a949",
   "metadata": {},
   "source": [
    "<a id='P10'></a>\n",
    "\n",
    "# Problem 10 \\[Back to [top](#toc)\\]\n",
    "$$\\label{P10}$$\n",
    "\n",
    "*a) Find the Fourier transform of the funciton $f(t) = e^{-|t|}$*"
   ]
  },
  {
   "cell_type": "markdown",
   "id": "e9c95378",
   "metadata": {},
   "source": [
    "**QUICK LOOKUP**\n",
    "\n",
    "Okay so the Fourier transform is\n",
    "\n",
    "$$ \\frac{1}{(2\\pi)^{3/2}} \\int e^{-i\\vec k \\cdot \\vec r} \\psi(\\vec r) d\\vec r $$\n",
    "\n",
    "We can figure out the full transform from this. ...Actually wait, hae we done this exact formula before? No, that turns out to have been the normal absolute value function.\n",
    "\n",
    "ANYWAY, substituting in...\n",
    "\n",
    "$$ \\frac{1}{(2\\pi)^{1/2}} \\int e^{-ixt} e^{-|t|} dt $$\n",
    "\n",
    "Remember to reduce the 3/2 to 1/2 as this is not a 3D transform. "
   ]
  },
  {
   "cell_type": "markdown",
   "id": "b749a824",
   "metadata": {},
   "source": [
    "Anyway, this is annoyingly not symmetric about anything due to the fourier transform term there. We end up with\n",
    "\n",
    "$$ = \\frac{1}{\\sqrt{2\\pi}} \\left( \\int_{-\\infty}^{0}  e^{t-ixt} dt + \\int_{0}^{\\infty}  e^{-t-ixt} dt \\right)$$\n",
    "$$ = \\frac{1}{\\sqrt{2\\pi}} \\left( \\int_{-\\infty}^{0}  e^{t(1-ix)} dt + \\int_{0}^{\\infty}  e^{-t(1+ix)} dt \\right)$$"
   ]
  },
  {
   "cell_type": "markdown",
   "id": "ec02bb54",
   "metadata": {},
   "source": [
    "We were expecting differences of squres, but no, t is the only variable we have, so we can treat the rest like constants. Neat! The integral just introduces a forward-fractional portion as these are of the form $e^x$\n",
    "\n",
    "$$ = \\frac{1}{\\sqrt{2\\pi}} \\left( \\left[ \\frac{1}{1-ix} e^{t(1-ix)} \\right]_{-\\infty}^{0} + \\left[ \\frac{-1}{1+ix} e^{-t(1+ix)} \\right]_{0}^{\\infty} \\right)$$"
   ]
  },
  {
   "cell_type": "markdown",
   "id": "49da7d00",
   "metadata": {},
   "source": [
    "Keep in mind that it's t we're evaluating at, x remains as the new variable in the transform. Now we have to be really careful, since the infinities are going to bring about some discontinuities. We will physically place all substitutions in even if they don't make mathematical sense to keep track of them--we are specifically looking for cancelations. \n",
    "\n",
    "$$ = \\frac{1}{\\sqrt{2\\pi}} \\left( \\frac{1}{1-ix} - \\frac{1}{1-ix} e^{-\\infty(1-ix)} + \\frac{-1}{1+ix} e^{-\\infty(1+ix)} - \\frac{-1}{1+ix} \\right)$$"
   ]
  },
  {
   "cell_type": "markdown",
   "id": "c924dd8b",
   "metadata": {},
   "source": [
    "Note that in both cases we are adding *conjugates* together, which by necessity means the final result must be real, as all the imaginary componetns must cancel. So if we could just take the Re[] of every term, we would have our answer. Annoyingly though everything's in the denominator. Let's go look up the special rules for dividing complex numbers again, we think it's simple but just can't remember. \n",
    "\n",
    "Okay look ups aren't very helpful but we did figure out what we need to do: find the multiplicative inverse of the term in the denominator, which is to say, what times it equals 1. Which, since our leading coefficient *is* 1, these are just the conjugates divided by the square magnitude. \n",
    "$$ = \\frac{1}{\\sqrt{2\\pi}} \\frac{1}{1+x^2} \\left( (1+ix) - (1+ix) e^{-\\infty(1-ix)} - (1-ix) e^{-\\infty(1+ix)} + (1-ix) \\right)$$\n",
    "\n",
    "Apply Re[] to the non-exponential terms and combine. ...Or since they're so simple just combine them straight up. \n",
    "\n",
    "$$ = \\frac{1}{\\sqrt{2\\pi}} \\frac{1}{1+x^2} \\left( 2 - (1+ix) e^{-\\infty(1-ix)} - (1-ix) e^{-\\infty(1+ix)} \\right)$$"
   ]
  },
  {
   "cell_type": "markdown",
   "id": "6d3334e9",
   "metadata": {},
   "source": [
    "Now the exponentials remain, these will be trickly, as they still have those placeholder infinities. (reminder: those are just there to keep us from having to write the limit over and ovedr again.) But wait, we just realized something! We can split it up like so...\n",
    "\n",
    "$$ = \\frac{1}{\\sqrt{2\\pi}} \\frac{1}{1+x^2} \\left( 2 - (1+ix) e^{-\\infty}e^{\\infty i x} - (1-ix) e^{-\\infty}e^{-\\infty ix} \\right)$$"
   ]
  },
  {
   "cell_type": "markdown",
   "id": "bf4a0079",
   "metadata": {},
   "source": [
    "and the nice thing about purely imaginary exponentials is that they don't grow without bound, they just cycle forever. Thus, the terms are dominated by the infinite exponentials which, as they are both negative, just go to zero! Therefore...\n",
    "\n",
    "$$ = \\frac{\\sqrt{2}}{\\sqrt{\\pi}} \\frac{1}{1+x^2}$$\n",
    "\n",
    "Is our answer!"
   ]
  },
  {
   "cell_type": "markdown",
   "id": "ea5430d5",
   "metadata": {},
   "source": [
    "*b) Prove that*\n",
    "\n",
    "$$ \\frac{\\pi}{2}e^{-|t|} = \\int_0^\\infty \\frac{cos(\\omega t)}{1+\\omega^2} d\\omega $$"
   ]
  },
  {
   "cell_type": "markdown",
   "id": "5f2f07e7",
   "metadata": {},
   "source": [
    "**QUICK LOOKUP**\n",
    "\n",
    "At first I thoguht this was unrelated to the previous part, but now I see that's not the case, it's actually very closely related. It looks like we have another fourier transform in order, specifically an *inverse Fourier Transform*. To transform *back* the transform simply changes the variable and the sign in the exponential.\n",
    "\n",
    "$$ \\frac{1}{(2\\pi)^{1/2}} \\int e^{i\\vec t x} \\psi(x) dx $$\n",
    "\n",
    "So if we wanted to reclaim our original function, we would write:\n",
    "\n",
    "$$ e^{-|t|} = \\frac{1}{\\sqrt{2\\pi}} \\int_{-\\infty}^{\\infty} e^{i\\vec t x} \\frac{\\sqrt{2}}{\\sqrt{\\pi}} \\frac{1}{1+x^2} dx $$\n",
    "\n",
    "Now we get some constants shuffled around from this.\n",
    "\n",
    "$$ \\Rightarrow \\pi e^{-|t|} = \\int_{-\\infty}^{\\infty} e^{i\\vec t x} \\frac{1}{1+x^2} dx $$\n",
    "\n",
    "Split up the exponential\n",
    "\n",
    "$$ \\Rightarrow \\pi e^{-|t|} = \\int_{-\\infty}^{\\infty} \\frac{cos(tx) + isin(tx) }{1+x^2} dx $$\n",
    "\n",
    "Equation is even, thus we can split the integral and get our 2 back. The *odd* part, the sine, cancels due to symmetric bounds. \n",
    "\n",
    "$$ \\Rightarrow \\frac{\\pi}{2} e^{-|t|} = \\int_{0}^{\\infty} \\frac{cos(tx)}{1+x^2} dx $$\n",
    "\n",
    "And this is exactly what we were aksed to show.\n"
   ]
  },
  {
   "cell_type": "markdown",
   "id": "96737091",
   "metadata": {},
   "source": [
    "*c) For the funciton $f(t) = e^{-|t|}$ and its Fourier transform, $g(\\omega)$, verify Parseval's equality, according to which Fourier-transforming preserves the normalization. (Hint, the transformation $\\omega = tan\\theta$ may be helpful.*"
   ]
  },
  {
   "attachments": {
    "image.png": {
     "image/png": "[encoded data removed]"
    }
   },
   "cell_type": "markdown",
   "id": "a1fcb4f5",
   "metadata": {},
   "source": [
    "**QUICK LOOKUP**\n",
    "\n",
    "![image.png](attachment:image.png)\n",
    "\n",
    "Basically, show that the integrals of the squares are equal to each other. Which basically says \"normalization is conserved.\" So let's see. Squaring them gives us:\n",
    "\n",
    "$$ e^{-2|t|} $$\n",
    "\n",
    "$$ \\frac{2}{\\pi} \\frac{1}{(1+x^2)^2} $$\n",
    "\n",
    "So now we need to integrate them over all space and show that the result is the same. \n",
    "\n",
    "$$ \\int e^{-2|t|} dt = 2\\int_0^{\\infty} e^{-2t} dt = 2 \\left[ \\frac{-1}{2} e^{-2t} \\right]_0^{\\infty} = 1$$\n",
    "\n",
    "Ah, so this is literally a normalization problem. Anyway, the other one.\n",
    "\n",
    "$$ \\frac{2}{\\pi} \\int \\frac{1}{(1+x^2)^2} dx $$\n",
    "\n",
    "Ah, this is worse. See if this was a derivative we would be having a field day, but this is an *integral*. However it's not too complicated visually, perhaps we can u-substitute... okay fine integral calculator how do we figure this one out.\n",
    "\n",
    "Okay so we have an answer, but the \"how to get it\" involves the *reduction formula* which isn't something I can just memorize. We need to find a more reasonable way to turn this into a 1/(1+u^2) situation, as that goes to atan. HMMM. Aha! Split it up like a fraction!\n",
    "\n",
    "$$ \\frac{2}{\\pi} \\int \\frac{1+x^2}{2(1+x^2)^2} + \\frac{1-x^2}{2(1+x^2)^2} dx $$\n",
    "$$ \\frac{2}{\\pi} \\int \\frac12\\frac{1}{1+x^2} + \\frac{1-x^2}{2(1+x^2)^2} dx $$\n",
    "\n",
    "So the front there will integrate to $\\frac12 atanx$, which is what we want. The other part, though... well we know it has to go to zero but how can we argue that? "
   ]
  },
  {
   "cell_type": "markdown",
   "id": "bd9d60b2",
   "metadata": {},
   "source": [
    "There has GOT to be a way to do this integral without simply memorizing the reduction formula. It...\n",
    "\n",
    "...frick, it's contour integration isn't it. Mother of... okay, well, let's just say we *did* the contour integration. THe result is tat of 1/2 atan(x), which is just pi/2. Which is 1. So confirmed. *flips table*. "
   ]
  },
  {
   "cell_type": "markdown",
   "id": "6cfbedc5",
   "metadata": {},
   "source": [
    "Contour integration! How can the denominator of the second term equal zero? well, x can equal i or -i, and due to the extra square it's a double pole. \n",
    "\n",
    "$$ Res = \\frac{1}{(n-1)!} lim_{z->z_0} \\partial_z^{n-1} ((z-z_0)^n f(z)) $$\n",
    "\n",
    "So in our case..."
   ]
  },
  {
   "cell_type": "markdown",
   "id": "0c596b9f",
   "metadata": {},
   "source": [
    "$$ \\frac{\\partial}{\\partial x} \\frac{1-x^2}{2(x+i)^2} $$\n",
    "$$ = \\frac{-(x+i)^2x - (1-x^2)(x+i)}{(x+i)^4} $$\n",
    "\n",
    "Now evaluate at x=i. \n",
    "\n",
    "$$ = \\frac{-(2i)^2i - (1-i^2)(2i)}{(2i)^4} $$\n",
    "$$ = \\frac{4i - 4i}{(2i)^4} $$\n",
    "$$ = 0 $$\n"
   ]
  },
  {
   "cell_type": "markdown",
   "id": "cd4920ae",
   "metadata": {},
   "source": [
    "RESIDUE IS ZERO, MEANS INTEGRAL GOES TO TAN, WHICH IS WAHT WE NEEDED TO DEMONSTRATE THE ABOVE. GAH. Done!"
   ]
  },
  {
   "cell_type": "code",
   "execution_count": null,
   "id": "c94bf607",
   "metadata": {},
   "outputs": [],
   "source": []
  }
 ],
 "metadata": {
  "kernelspec": {
   "display_name": "Python 3 (ipykernel)",
   "language": "python",
   "name": "python3"
  },
  "language_info": {
   "codemirror_mode": {
    "name": "ipython",
    "version": 3
   },
   "file_extension": ".py",
   "mimetype": "text/x-python",
   "name": "python",
   "nbconvert_exporter": "python",
   "pygments_lexer": "ipython3",
   "version": "3.7.9"
  }
 },
 "nbformat": 4,
 "nbformat_minor": 5
}
