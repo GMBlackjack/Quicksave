{
 "cells": [
  {
   "cell_type": "markdown",
   "id": "0c1bfe81",
   "metadata": {},
   "source": [
    "# Qualifying Exam 2019\n",
    "\n",
    "## Answers: Gabriel M Steward"
   ]
  },
  {
   "cell_type": "markdown",
   "id": "56664bc2",
   "metadata": {},
   "source": [
    "<a id='toc'></a>\n",
    "\n",
    "# Table of Contents\n",
    "$$\\label{toc}$$\n",
    "\n",
    "[Problem 1](#P1) (Springy Normal Modes)\n",
    "\n",
    "[Problem 2](#P2) (Plank and Pendulum)\n",
    "\n",
    "[Problem 3](#P3) (Potential Box)\n",
    "\n",
    "[Problem 4](#P4) (SPIIIIIIN)\n",
    "\n",
    "[Problem 5](#P5) (State Probability)\n",
    "\n",
    "[Problem 6](#P6) (Arranged Wires)\n",
    "\n",
    "[Problem 7](#P7) (Presence of Magnetic Field)\n",
    "\n",
    "[Problem 8](#P8) (Boundary Deja Vu)\n",
    "\n",
    "[Problem 9](#P9) (Hamiltonian Partitions)\n",
    "\n",
    "[Problem 10](#P10) (Two Unrelated Math Problems)\n"
   ]
  },
  {
   "cell_type": "markdown",
   "id": "cd9e5529",
   "metadata": {},
   "source": [
    "<a id='P1'></a>\n",
    "\n",
    "# Problem 1 \\[Back to [top](#toc)\\]\n",
    "$$\\label{P1}$$\n",
    "\n",
    "*A linear triatomic molecule consists of three masses free to move on one straingt line, connected by springs (all of equal elastic strength k) as shown in the figure. One atom has mass M and the two on either side of M have equal masses m. $x_i$ (i=1,2,3) are the coordinates marking the positions of the three particles on the line. At the equilibrium, $x_{02} - x_{01} =- x_{03} - x_{02} = l$.*\n",
    "\n",
    "*a) Introduce appropriate equilibrium coordinates, $\\eta_i$. Find the normal frequencies.*"
   ]
  },
  {
   "cell_type": "markdown",
   "id": "9bc8d62b",
   "metadata": {},
   "source": [
    "**IMMEDIATE KNOWLEDGE**\n",
    "\n",
    "From inspection I know that there are two normal modes, one where the two ends are anti-oscillating and one where they oscillate in time. For each, the proper equilibrium coordinates need to be the only thing varying, and yet the two coordinates together need to describe the full range of motion. \n",
    "\n",
    "Also we technically allow the masses to move so there's a third coordinate and a third mode but we can just represent position by the central coordinate $x_2$ and the normal \"frequency\" here is infinite as it just translates forever.\n",
    "\n",
    "The other two are what are interesting. So, let's think about this. Consider the mode where both oscillate in time, the distance between them remains constant. The other mode, where they're anti-oscillating, the distance between them changes, but their relative difference from the center remains the same. \n",
    "\n",
    "We can represent this with the two new coordinates $x_1 + x_3$ and $x_1 - x_3$. If we measure the origin as being at the center, $x_2$, which we really should since the translational mode is boring. In each mode only one of these quantities is changing, perfect.\n",
    "\n",
    "That said finding the actual frequencies is beyond me as I do not have the normal modes procedure memorized. Whoops.\n",
    "\n",
    "((Anyway when actually solving this problem clearly we should use the length l as measurement and still allow for the lame translational mode.))"
   ]
  },
  {
   "cell_type": "markdown",
   "id": "bb6f43bf",
   "metadata": {},
   "source": [
    "*b) Find the normalized eigenvectors and describe the normal modes.*"
   ]
  },
  {
   "cell_type": "markdown",
   "id": "c5235357",
   "metadata": {},
   "source": [
    "*c) Write down the condition that the center of mass remains stationary at the origin. If you used such condition to eliminate the coordinate $x_2$ from the problem, how would the normal frequencies change as compared to those you found in part a)?*"
   ]
  },
  {
   "cell_type": "markdown",
   "id": "cad4a948",
   "metadata": {},
   "source": [
    "Preflight Uncertainty: I Don't think they would change, as each mode can be solved independent of the motion of the others, so the nonexistence of the translational mode would change nothing about the other two. "
   ]
  },
  {
   "cell_type": "markdown",
   "id": "a4d24ab8",
   "metadata": {},
   "source": [
    "**DIAGRAM:**\n",
    "*Basic spring diagram. Kind of like a CO2 molecule. m masses on the ends. 123 left to right.*"
   ]
  },
  {
   "cell_type": "markdown",
   "id": "1978b879",
   "metadata": {},
   "source": [
    "<a id='P2'></a>\n",
    "\n",
    "# Problem 2 \\[Back to [top](#toc)\\]\n",
    "$$\\label{P2}$$\n",
    "\n",
    "*The string supporting hte pendulum bomb, see figure, passes through a small fricitoness hole in a board which oscillates vertically along the y-axis such that s(t) = $Asin(\\omega t).$ The bob has mass m.*\n",
    "\n",
    "*a) How many degrees of freedom are there? Write the Lagrangian for this pendulum.*\n",
    "\n",
    "**DIAGRAM:** *Bit of an unusual ficture, the plate has a hole in it and oscillates from a zero point measured by s. g points downward. The bob is only given one angle, but one could imagine a 3D angle coming out.*"
   ]
  },
  {
   "cell_type": "markdown",
   "id": "90534147",
   "metadata": {},
   "source": [
    "**IMMEDIATE KNOWLEDGE**\n",
    "\n",
    "Technically speaking if the bob is completley free, we have three degrees of freedom: the board, and the two angles in which the pendulum can swing in. But we highly doubt that's what the problem is asking and the diagram only has one angle labeled so we'll just say \"yeah, two degrees of freedom\" and label the coordiantes s and $\\theta$.\n",
    "\n",
    "Now, to do a proper Lagrangian problem you\n",
    "\n",
    "PHASE I: ENERGIES\n",
    "\n",
    "$$ \\frac 12 mv^2 $$\n",
    "\n",
    "$$ mgh $$\n",
    "\n",
    "PHASE II: COORDINATES\n",
    "\n",
    "Okay so the issue here is mainly the fact that we need to decide where our potential energy zero is. The center of the board oscillation? The top? The bottom? Instinct tells me the top of the oscillation is the best since we can define the maximum length of the wire as l and move from there. \n",
    "\n",
    "The diagram indicates that *positive* s is *downward* displacement, so the largest *negative* is what we want (man this'll be a mess to keep track of). This means when s=-A, the length is at its maximum. When s=A, the length is at l-2A. Thus we can write a function for the length of the rope that is free to swing:\n",
    "\n",
    "$$ L(t) = l - A - s  = l - A - Asin(\\omega t)$$\n",
    "\n",
    "This, in turn, can give us our height value. Which should be negative measured from potential zero at the anchor point for the longest the rope can be. \n",
    "\n",
    "$$ h = -(A-Asin(\\omega t)) - (l-A-Asin(\\omega t))cos\\theta $$\n",
    "\n",
    "Which we will not definitely depends on t, which is going to matter for the next part.\n",
    "\n",
    "Anyway, now we need the velocity of the bob. This can be derived from the angle and the length by finding x and y. Normally we would just quantify it in the angle terms and not worry about displacement, but no, to get the velocity we have to take a time derivative and that will depend on time and s depends on time so even the displacement will adjust. We already determined a \"y\" in terms of h, even though the sign flips it'll be squared anyway. The x...\n",
    "\n",
    "$$ x = (l-A-Asin(\\omega t))sin\\theta $$ \n",
    "\n",
    "And so the actual velocity...\n",
    "\n",
    "$$ v^2 = \\dot x^2 + \\dot y^2 $$\n",
    "\n",
    "The issue here is that the time derivatives are going to add a lot of terms. A *lot*. So let's take them one at a time.\n",
    "\n",
    "$$ \\dot x = (l-A-Asin(\\omega t))cos\\theta\\dot \\theta + (-A\\omega cos(\\omega t))sin\\theta $$ \n",
    "$$ \\dot y = (-A\\omega cos(\\omega t)) + (l-A-Asin(\\omega t))sin\\theta \\dot \\theta + (-A\\omega cos(\\omega t))cos\\theta $$\n",
    "\n",
    "And to get the velocity we square. Which, since we don't need to *do* anything with the Lagrangian, I'm not writing out. We have all the substitutions here, it'd just be a waste of time. (And is indicative of there being better coordinates to use as well for this, perhaps define the zero potential to be the middle of the oscillator). "
   ]
  },
  {
   "cell_type": "markdown",
   "id": "e28db935",
   "metadata": {},
   "source": [
    "PHASE III: Lagrangian.\n",
    "\n",
    "And we actually stop here as it's as far as we need to go. T-U\n",
    "\n",
    "$$ \\mathcal{L} = \\frac12 m v^2 - mgh $$\n",
    "\n",
    "Where $v^2$ and $h$ are defined as above. This will result in a sign flip on the potential energy."
   ]
  },
  {
   "cell_type": "markdown",
   "id": "4c7dda38",
   "metadata": {},
   "source": [
    "*b) Write the Hamiltonian. Is the Hamiltonian equal to the total mechanical energy of the pendulum?*"
   ]
  },
  {
   "cell_type": "markdown",
   "id": "5a3c86c9",
   "metadata": {},
   "source": [
    "Not in this case! Why? The potential energy is time dependent! Devious. $\\mathcal H = T+U$ does not apply, we now have to do $\\mathcal H = p\\vec V - \\mathcal L$. Whcih, you know, would be easy. The velocities are just $\\dot \\theta$ and $\\dot s$. However, uh, p is the generalized momentum and just taking the time derivative of the Lagrangian is no longer going to fly... \n",
    "\n",
    "**QUICK LOOKUP**\n",
    "\n",
    "Hey, it isn't even dL/dt, it's dL/dv. Which we can actually do... somewhat, it would involve fully working out L and we really don't want to do that without better coordinates. Luckily we have time here, unlike in a test. Hooo boy... \n",
    "\n",
    "Anyway, do that when we return. Fact is we know how to do this problem. \n",
    "\n",
    "NOTE: it is possible that it just all works out for the Hamiltonian to be T+U. Just because it is time dependent doesn't mean it has to break the rule, it just means it can break the rule. "
   ]
  },
  {
   "cell_type": "markdown",
   "id": "36ec29d1",
   "metadata": {},
   "source": [
    "<a id='P3'></a>\n",
    "\n",
    "# Problem 3 \\[Back to [top](#toc)\\]\n",
    "$$\\label{P3}$$\n",
    "\n",
    "*A spinless particle of mass m moves in the three dimensional potential*\n",
    "\n",
    "$$ V(x,y,z) = \\frac12 m \\omega^2 z^2 , 0<x<a , 0<y<a $$\n",
    "$$ \\infty , elsewhere $$\n",
    "\n",
    "*a) Write down the general wave functions and total energies for the eigenstates of this system.*"
   ]
  },
  {
   "cell_type": "markdown",
   "id": "fea55474",
   "metadata": {},
   "source": [
    "*b) assuming $\\hbar \\omega > \\frac{3\\pi^2 \\hbar^2}{2ma^2}$, find the energies and the corresponding degeneracies for the ground state and the first excited state.*"
   ]
  },
  {
   "cell_type": "markdown",
   "id": "69014f4d",
   "metadata": {},
   "source": [
    "*c) Assume now that this particle has electric charge q and, in addition to the potential V(x,y,z), it is subjected to a constant electric field $\\epsilon$ directed along the z-axis. THerefore, the z-dependent part of the Hamiltonian is now given by*\n",
    "\n",
    "$$ H_z = - \\frac{\\hbar^2}{2m} \\frac{\\partial^2}{\\partial z^2} + \\frac12 m\\omega^2z^2 - q\\epsilon z $$.\n",
    "\n",
    "*Derive the total energy eigenvalues of this system. (Hint:: first, derive the energy eigenvalues for the Hamiltonian $H_z$.)*"
   ]
  },
  {
   "cell_type": "markdown",
   "id": "a650fe7d",
   "metadata": {},
   "source": [
    "<a id='P4'></a>\n",
    "\n",
    "# Problem 4 \\[Back to [top](#toc)\\]\n",
    "$$\\label{P4}$$\n",
    "\n",
    "*a) Find the eigenvalues and the eigenstates of the spin operator S of an electron in the direction of a unit vector $\\hat n$. Assume that $\\vec n$ lies in the xz plane.*"
   ]
  },
  {
   "cell_type": "markdown",
   "id": "a178c4fa",
   "metadata": {},
   "source": [
    "*b) Find the probability of measuring $S_z = +\\hbar / 2$ assuming the electron is initially in one of the eigenstates found in part a).*"
   ]
  },
  {
   "cell_type": "markdown",
   "id": "0bf2cd3d",
   "metadata": {},
   "source": [
    "<a id='P5'></a>\n",
    "\n",
    "# Problem 5 \\[Back to [top](#toc)\\]\n",
    "$$\\label{P5}$$\n",
    "\n",
    "*A hydrogen atom, initially (t approaches - infinity) in its ground state, is placed starting at time t=0 in a time-dependent electric field pointing along the z-axis.*\n",
    "\n",
    "$$ \\vec E(t) = \\frac{E_0 \\tau}{\\tau^2 + t^2} \\hat z $$\n",
    "\n",
    "*where $E_0$ and $\\tau$ are constant. Calculate the probability that the atom will be found in the |210> state after a sufficiently long time (t approaches infinity) using first-order time-dependent perturbation theory. Hint for this problem, you may find it useful to apply the calculus of residues for the integration over time.*"
   ]
  },
  {
   "cell_type": "markdown",
   "id": "47881908",
   "metadata": {},
   "source": [
    "<a id='P6'></a>\n",
    "\n",
    "# Problem 6 \\[Back to [top](#toc)\\]\n",
    "$$\\label{P6}$$\n",
    "\n",
    "*a) Two infinitely long parallel wires have equal but opposite constant charge densities $\\pm \\lambda$ and are separated by a small distance d. Find the leading-order approximate expression for the combined electric field of these two wires at a distance $\\rho >> d$ from the midpoint between the two wires, and write down how the strength of the electric field depends on $\\rho$ in this limit.*"
   ]
  },
  {
   "cell_type": "markdown",
   "id": "cfdab6be",
   "metadata": {},
   "source": [
    "**QUICK LOOKUP**\n",
    "\n",
    "Ah, this one isn't specified to occur along an axis, we need to think of the field *everywhere*. Lovely... Anyway, the wires themselves have electric fields that go like\n",
    "\n",
    "$$ \\vec E = \\frac{\\lambda}{4 \\pi \\epsilon_0 r} \\hat r $$\n",
    "\n",
    "r here is the distance from one of the wires. Naturally our wires are offset by d/2 from the center, so each one will shift slightly as we move out. \n",
    "\n",
    "Coordinates are going to be odd here, since we want to be able to add two different radial situations, so let's convert to cartesian. This isa ctually pretty simple::\n",
    "\n",
    "$$ \\vec E = \\frac{\\lambda}{4 \\pi \\epsilon_0 \\sqrt{x^2+y^2}} (cos\\theta \\hat x + sin\\theta \\hat y) $$\n",
    "\n",
    "Unfortunately since we're not going to be setting the angle to an axis, we need the ratios, not the trig relations.\n",
    "\n",
    "$$ \\vec E = \\frac{\\lambda}{4 \\pi \\epsilon_0 \\sqrt{x^2+y^2}} (\\frac{x}{\\sqrt{x^2+y^2}} \\hat x + \\frac{y}{\\sqrt{x^2+y^2}}  \\hat y) $$\n",
    "$$ \\vec E = \\frac{\\lambda}{4 \\pi \\epsilon_0 (x^2+y^2)} (x \\hat x + y \\hat y) $$\n",
    "\n",
    "Now, each of the individual wires will see a shift in x.\n",
    "\n",
    "$$ \\vec E = \\frac{\\lambda}{4 \\pi \\epsilon_0 ((x\\pm d/2)^2+y^2)} ((x \\pm d/2) \\hat x + y \\hat y) $$\n",
    "\n",
    "So the total grouping is...\n",
    "\n",
    "$$ \\vec E_{total} = \\frac{\\lambda}{4 \\pi \\epsilon_0 ((x + d/2)^2+y^2)} ((x + d/2) \\hat x + y \\hat y) - \\frac{\\lambda}{4 \\pi \\epsilon_0 ((x - d/2)^2+y^2)} ((x - d/2) \\hat x + y \\hat y) $$"
   ]
  },
  {
   "cell_type": "markdown",
   "id": "e2bef0a9",
   "metadata": {},
   "source": [
    "Now if we could choose just to evaluate on the x axis or the y axis we could simplify this greatly. However, we are not told to specify that, so we could end up in any direction, and we are not going to be azimuthally symmetric, obviously, except to first order but to first order the fields entirely cancel. So the obvious second path is then \"what about second order?\"\n",
    "\n",
    "To be claer, second order is where we note that d/x << 1 (and same for y) but only remove the $d^2/x^2$ terms. Hence, \"second order.\" We can actually pull this out of the denominators: $x^2(1\\pm d/x + d^2/4x^2)$. The last term here vanishes in the second order approximation, and we are thus left with:\n",
    "\n",
    "$$ \\vec E_{total} \\approx \\frac{\\lambda}{4 \\pi \\epsilon_0 (x^2+dx+y^2)} ((x + d/2) \\hat x + y \\hat y) - \\frac{\\lambda}{4 \\pi \\epsilon_0 ((x^2-dx+y^2)} ((x - d/2) \\hat x + y \\hat y) $$\n",
    "\n",
    "Which is, well, *an* answer. \n",
    "\n",
    "The problem does want to discuss it in terms of $\\rho$, or the radius. We can accomplish this by converting to polar/cylindrical coordinates.\n",
    "\n",
    "$$ \\vec E_{total} \\approx \\frac{\\lambda}{4 \\pi \\epsilon_0 (\\rho^2+d\\rho cos\\theta)} ((\\rho cos\\theta + d/2) \\hat x + \\rho sin\\theta \\hat y) - \\frac{\\lambda}{4 \\pi \\epsilon_0 (\\rho^2-d\\rho cos\\theta)} ((\\rho cos\\theta - d/2) \\hat x + \\rho sin\\theta \\hat y) $$"
   ]
  },
  {
   "cell_type": "markdown",
   "id": "2a5da469",
   "metadata": {},
   "source": [
    "Note that we have not converted the unit vectors. This is becasue the centers of the two wires are not the centers of the actual coordinate system, so the result would be decidedly a mess, and we can in fact see how things depend on $\\rho$ here. WE can actually cancel it out once:\n",
    "\n",
    "$$ \\vec E_{total} \\approx \\frac{\\lambda}{4 \\pi \\epsilon_0 (\\rho+dcos\\theta)} ((cos\\theta + d/2\\rho) \\hat x + sin\\theta \\hat y) - \\frac{\\lambda}{4 \\pi \\epsilon_0 (\\rho-d cos\\theta)} ((cos\\theta - d/2\\rho) \\hat x + sin\\theta \\hat y) $$\n",
    "\n",
    "For all the present mess, we clearly have a rough 1/$\\rho$ dependence. The $dcos\\theta$ indicates it is strongest along the x axis and vanishes to nothing along the y, as is to be expected. "
   ]
  },
  {
   "cell_type": "markdown",
   "id": "afff428e",
   "metadata": {},
   "source": [
    "*b) Four infinitely long parallel wires carry constant linear charge densities $\\pm \\lambda$ and are arranged in teh configuration shown below. Sketch the field of the system and predict how the field should depend on distance $\\rho$ when $\\rho >> d$. Do not try to explicitly calculate the field of this system, instead make an argument based on the configuration of the charges and your calculations in part a).*\n",
    "\n",
    "**DIAGRAM:** *Two different situations. A) are two wires in parelell with each other separated by d, and b) is a square arrangement of wires (all paralell) with the corners having the same sign as opposite corners.*"
   ]
  },
  {
   "cell_type": "markdown",
   "id": "dda016ff",
   "metadata": {},
   "source": [
    "OKAY SO one might thing \"just add the two fields above\" but haha we've got a minor problem of *it's not centered again*, this time we have one above and one below. However, one thing we *are* able to determine is that we will have four source terms, the magnitudes will still be the same, and our directions will be offset by d/2 in both x *and* y now. The part that remains to be determined is what form, exactly, the denominator takes? Well, examining how it was constructed, the denominator would be formed this time out of $(x\\pm d/2)^2 + (y\\pm d/2)^2$! Four different combos, four different denominators. In the end this just provides an additional component: $dsin\\theta$. Which is naturally sensible as the new dimension has to also have a canceling axis where everything goes to zero! Thus, we propose...\n",
    "\n",
    "$$ \\vec E_4 \\approx \\frac{\\lambda}{4\\pi\\epsilon_0} \\left[ \\frac{(cos\\theta + d/2\\rho)\\hat x + (sin\\theta + d/2\\rho)\\hat y}{\\rho + dcos\\theta + dsin\\theta} - \\frac{(cos\\theta - d/2\\rho)\\hat x + (sin\\theta + d/2\\rho)\\hat y}{\\rho - dcos\\theta + dsin\\theta}\\\\\n",
    "- \\frac{(cos\\theta + d/2\\rho)\\hat x + (sin\\theta - d/2\\rho)\\hat y}{\\rho + dcos\\theta - dsin\\theta} + \\frac{(cos\\theta - d/2\\rho)\\hat x + (sin\\theta - d/2\\rho)\\hat y}{\\rho - dcos\\theta - dsin\\theta} \\right] $$\n",
    "\n",
    "Which goes to zero at all four places! Yay!"
   ]
  },
  {
   "cell_type": "markdown",
   "id": "c53d667d",
   "metadata": {},
   "source": [
    "<a id='P7'></a>\n",
    "\n",
    "# Problem 7 \\[Back to [top](#toc)\\]\n",
    "$$\\label{P7}$$\n",
    "\n",
    "*Compute the magnetic field B everywhere in teh following two situations. (Hint: you can make a reasonable guess about the field direction based on symmetry, and then use boundary conditions to determine the absolute magnitude of the field in the two regions.)*\n",
    "\n",
    "*The regions with susceptibility $\\chi_m$ are the gray areas in the figures.*\n",
    "\n",
    "**DIAGRAM:** *Figure for a) is a gray square with a circle cut out of it, and a poitn I in the center of the hole. b) a gray rectangle on the right and a point sitting on the surface.*\n",
    "\n",
    "*a) A wire carrying a current I lies along the axis of a cylindrical empty hole of radius R in a large region of material with magnetic susceptibility $\\chi_m$*"
   ]
  },
  {
   "cell_type": "markdown",
   "id": "675bf1fa",
   "metadata": {},
   "source": [
    "**QUICK LOOKUP**\n",
    "\n",
    "The *direction* of the magnetic field is not hard to come up with here, it's $\\hat \\phi$ due to cylindrical symmetry. \n",
    "\n",
    "$$ \\vec B = \\frac{\\mu_0 I}{2\\pi r} \\hat \\phi $$\n",
    "\n",
    "This, however, only applies in the inteiror region. Beyond the interior region we have a material with a *magnetic susceptibility*. Which means we're going to have to look up what that does once again. Good news is that in this case it's magnetostatics so will probaly be somewhat simpler. \n",
    "\n",
    "The relevant definition here is $\\vec B = \\mu \\vec H = \\mu_0 (1+\\chi_M)\\vec H$ and $\\vec M = \\chi_m \\vec H$. We know the direction of the magnetic field, as well as the value on the boundary, but we need to recall: what boundary conditions actually get us the field magnitude further out? \n",
    "\n",
    "This is going to require us being a bit more specific with what the H-field is. Well, it's the field generated by \"magnetic charge\" which doesn't exist, really, but sort of pseudo-exists in the wire. In another sense, it is the part of the magnetic field that does not include the field contribution from direct Magnetization. (Which would be the M-field that only exists inside magnetized things, aka, not the air). So if there was no magnetized material, we would simply have\n",
    "\n",
    "$$ \\vec H = \\frac{ I}{2\\pi r} \\hat \\phi $$\n",
    "\n",
    "This will be true up until the radius R, as there space is free. (And we can also find B easily and state M as zero simply). However, further out? Well, there we can use the H field. We do need to be careful, but in situations with just free current the H-field doesn't care about where any material is. Anywhere that the line integral of Ampere's Law can be applied, the relation is simply $\\vec B = \\mu \\vec H$, and H pretends like no material exists. THe only awkwardness is that we have to repalce $\\mu$ with $\\mu_0(1+\\chi_m)$. This gives us a magnetic field of:\n",
    "\n",
    "$$ \\vec B = \\frac{\\mu_0(1+\\chi_m) I}{2\\pi r} \\hat \\phi $$\n",
    "\n",
    "For the exterior portion of the material. Interior is as vacuum."
   ]
  },
  {
   "cell_type": "markdown",
   "id": "aefe87d1",
   "metadata": {},
   "source": [
    "*b) A wire carrying a current I lies along the planar edge of a large region containing a material with magnetic susceptibility $\\chi_m$.*"
   ]
  },
  {
   "cell_type": "markdown",
   "id": "7e71a5ba",
   "metadata": {},
   "source": [
    "So, here, this is decideldy awlward. The current is embedded on a *plane* interface, which laughs in the face of any real idea of cylindrical symmetry. One thing we do know is that the wire *is* producing a magnetic field of the normal strength everywhere, there's just an additional component. In the above part that component came from the surface interface betwene the hole and the material, we didn't calculate it out since it wasn't necessary but there was a surface current there. Now, perhaps in this instance, we need to find the surface current.\n",
    "\n",
    "We then ask ourselves if the only possible source of $\\vec H$ is free current here? It seems like there will be some other situations, as we can think of the circulating currents in the material as creating one giant horseshoe magnet, with \"poles\" on either side of the current wire. (A more reaosnable way to use this realization in the wild is that the magnetic field lines are piercing the interface between the mateerials. In the previous part, they were not.)\n",
    "\n",
    "So, B is going to be $\\mu(H_f + H_b)$. H free is known. H bound is *not*. How do we find H bound? Well, this part is driven by the fake magnetic charges $\\rho_M = -\\nabla \\cdot \\vec M$ and $\\sigma_M = \\vec M \\cdot \\hat n$. We will *definitely* have surface charge going on here, due to the magnetic field lines piercing the material. However, do we have volume charge? Actually we kind of have to by necessity as M must go down as r increases. "
   ]
  },
  {
   "cell_type": "markdown",
   "id": "adbf236d",
   "metadata": {},
   "source": [
    "Let's consider what we CAN know. What of the direction of B? Well, we know that the wire produces a angular directional situation. By symmetry we cannot have anything in the z direction otherwise there would be some kind of flow up or down the wire which isn't how magnetic fields work. And can B have anything in the radial direction? No! If it did, then it could do work and the divergence wouldn't be zero! So $\\vec B$ must be purely angular, $\\hat \\phi$. One might think the interface would destroy this, but all it destroys is the condition of continuity, B need not be constant across the barrier. B must also be continuous, so any radial component would have to exist *just* on the interface, which doesn't make any sense. So, B is *purely* radial. The real question is how strong is it radially? \n",
    "\n",
    "Let's discuss the other fields. $\\vec B = \\mu_0(\\vec H + \\vec M)$. This implies that either H and M are also both purely angular, or that their non-angular components *cancel* each other somehow, which *could* be possible, it's not like their forced to be equal and match. \n",
    "\n",
    "Oho! It appears there is something we can do, though! The *method of images* also works for magnetic dipole moments, and a current wire can be thought of as a *lot* of stacked currents! The mirror interface will make it as though there is another current source pushing everything *down*. The relevant equations are 13.91 and 13.92. At a planar interface where there is a Left (L) region and a Right (R) region where the magnetic permability R is greater than L, the magnetic field in L is derivable by the current density in R:\n",
    "\n",
    "$$ \\vec j_R = \\frac{\\mu_L-\\mu_R}{\\mu_L+\\mu_R}[-j_x(x,y,-z), -j_y(x,y,-z), j_z{x,y,-z}] $$\n",
    "\n",
    "That weird vector is just $\\vec j$ mirrored. Anyway, likewise, we can get R from L's density and the normal density.\n",
    "\n",
    "$$ \\vec j_L = \\frac{2\\mu_L}{\\mu_L + \\mu_R}\\vec j $$\n",
    "\n",
    "Now in our case we can just treat all of this as *scaling factors* for our currents, for our current density is I, and across the mirror it would be -I. $\\mu_L = \\mu_0$ and we can derive $\\mu_R$ from $\\chi$ if we bothered. But let's not bother. \n",
    "\n",
    "$$ j_R \\propto \\frac{\\mu_0-\\mu_R}{\\mu_0+\\mu_R}I $$\n",
    "$$ j_L \\propto \\frac{2\\mu_0}{\\mu_0+\\mu_R}I $$\n",
    "\n",
    "Anyway this produces our actual result, remember that the method of images side with the charge has two contributions, one from the reflection and one from the not-reflection. \n",
    "\n",
    " $$ \\vec B_L = \\frac{\\mu_0 I}{2\\pi r}+\\frac{\\mu_0-\\mu_R}{\\mu_0+\\mu_R} \\frac{\\mu_0 I}{2\\pi r} \\hat \\phi $$\n",
    " \n",
    " $$ \\vec B_R = \\frac{2\\mu_0}{\\mu_0+\\mu_R}\\frac{\\mu_0 I}{2\\pi r} \\hat \\phi $$"
   ]
  },
  {
   "cell_type": "markdown",
   "id": "c812bcc8",
   "metadata": {},
   "source": [
    "It is presumably worth WRITING DOWN the method used here so it can be referenced. \n",
    "\n",
    "Basically, any sysetem of magnetic current can be thought of as a bunch of dipoles. (For a current it's a bunch of dipoles in a line). When up against a flat interface, we are allowed to use a version of the Method of Images, wherein we reflect the individual dipoles. The simplest way to determine the result is to use fictitious magnetic monopoles with potential\n",
    "\n",
    "$$ \\psi = \\frac{g}{4\\pi r} $$\n",
    "\n",
    "Where r can be a vector and is often written $|\\vec r - \\vec r_0|$. This is somewahte irrelevant, as it's the ratio of the images that matter the most. From them we can find potentials for the Left and Right sides for an individual magnetic charge.\n",
    "\n",
    "$$ \\psi_L = \\frac{1}{4\\pi \\mu_L} \\left[ \\frac{g}{\\sqrt{\\rho^2 + (z+d)^2}} + \\frac{g_R}{\\sqrt{\\rho^2 + (z-d)^2}} \\right] $$\n",
    "\n",
    "$$ \\psi_R = \\frac{1}{4\\pi \\mu_R} \\frac{g_L}{\\sqrt{\\rho^2 + (z+d)^2}} $$\n",
    "\n",
    "It occurs to us that we genreally don't worry about the field on the other side of the bizarre interface in a method of images problem. This bears more research. Anyway, the charge adjustments for g on both R and L should be familiar:\n",
    "\n",
    "$$ g_R = \\frac{\\mu_L - \\mu_R}{\\mu_L + \\mu_R} g $$\n",
    "$$ g_L = \\frac{2\\mu_L}{\\mu_L + \\mu_g} g $$\n",
    "\n",
    "Now naturally the *scalings* here should be the same as those for the current densities. THe only thing is that when creating $\\vec j_R$ you gotta be *quite* careful to do the reflection across the interface correctly. The motion of charges itself is what's flipped! So while a current loop would chang orientation and reverse the magnetic field, a current wire woudl not.\n",
    "\n",
    "A note, g and $g_R$ hav eopposite signs when the right interface has a higher magnetic permeability, which it does in this case, so that addition is actually a subtraction in our answer.   \n",
    "\n",
    "Of note the form for dielectrics is also exacrly the same. "
   ]
  },
  {
   "cell_type": "markdown",
   "id": "7caadb7b",
   "metadata": {},
   "source": [
    "<a id='P8'></a>\n",
    "\n",
    "# Problem 8 \\[Back to [top](#toc)\\]\n",
    "$$\\label{P8}$$\n",
    "\n",
    "*Consider a planar interface between two regions filled with dielectrics with purely real permittivities $\\epsilon_1$ and $\\epsilon_2$ and the same permeabilities as free space ($\\mu_1 = \\mu_2 = \\mu_0$). Say two linearly-polarized electromagnetic waves with the same frequency $\\omega$ and amplitudes $E_1$ and $E_2$ approach the intrface from opposite sides as shown below. Generally, these incident waves will give rise to outgoing waves in both media.*\n",
    "\n",
    "*a) Determine the ratio of the incident fields $E_2/E_1$ if there is to be no outgoing electromagnetic wave in region 2.*"
   ]
  },
  {
   "cell_type": "markdown",
   "id": "e8bffabb",
   "metadata": {},
   "source": [
    "**QUICK LOOKUP**\n",
    "\n",
    "This is a sitaution where we need to know reflection and transmission coefficients for oncoming radiation. These are just going to have to be memorized. \n",
    "\n",
    "For TEM waves (direct incidence) it's not hard.\n",
    "\n",
    "$$ \\frac{R}{I} = \\frac{n_1-n_2}{n_1+n_2} $$\n",
    "$$ \\frac{T}{I} = \\frac{2n_1}{n_1+n_2} $$\n",
    "\n",
    "Note that this is from 1 to 2, for the other incoming wave we'll need to be carefull. Now indices of refraction can be calculated via $\\sqrt{\\epsilon\\mu}$. We just know this so let's just declare it and not bother writing down specific permitivities and the like. \n",
    "\n",
    "Anyway, to be extra clear, the transmitted waves matter to. So what we are going to end up is with *six* components, three on either side. On side 1:\n",
    "\n",
    "$$ E_1 - E_{1R} - E_{2T} $$\n",
    "$$ -E_2 + E_{2R} + E_{1T} $$\n",
    "\n",
    "Be very careful with the signs. \n",
    "\n",
    "For no outgoing wave in region 2, $ E_{2R} = -E_{1T} $. Which is to say...\n",
    "\n",
    "$$ \\frac{n_2-n_1}{n_1+n_2} E_2 = - \\frac{2n_1}{n_1+n_2} E_1 $$\n",
    "$$ \\Rightarrow E_2/E_1 = -\\frac{2n_1}{n_2-n_1} $$\n",
    "\n",
    "Which can generally be accomplished if $n_1$ is larger than $n_2$"
   ]
  },
  {
   "cell_type": "markdown",
   "id": "8119f7f8",
   "metadata": {},
   "source": [
    "*b) If you kept the ratio of the amplitudes the same as in part a), but changed the phase of the wave $E_2$ by 180$\\deg$, what ist he amplitude of the outgoing wave in region 2? Express your answer in terms of $E_1$ and the relevant material constants.*"
   ]
  },
  {
   "cell_type": "markdown",
   "id": "86da36e5",
   "metadata": {},
   "source": [
    "**DIAGRAM:** *Planar interface. Left is empty, right is region 1, left is region 2. Not hard to think about.*"
   ]
  },
  {
   "cell_type": "markdown",
   "id": "ace38f98",
   "metadata": {},
   "source": [
    "Not too difficult, just flip the sign on any $E_2$ relevant quantities. So the outgoing wave is now $E_{1T} - E_{2R}$. \n",
    "\n",
    "However, we keep the same ratio of magnitudes, so this is going to be a bit funky. Expanded we get:\n",
    "\n",
    "$$ \\frac{2n_1}{n_1+n_2}E_1 - \\frac{n_2-n_1}{n_1+n_2} E_2 $$\n",
    "$$ = \\frac{2n_1}{n_1+n_2}E_1 + \\frac{n_2-n_1}{n_1+n_2} \\frac{n_2 - n_1}{2n_1} E_1 $$  \n",
    "\n",
    "Which... doesnt' seem particuarly illuminating but there it is."
   ]
  },
  {
   "cell_type": "markdown",
   "id": "cbd69c04",
   "metadata": {},
   "source": [
    "<a id='P9'></a>\n",
    "\n",
    "# Problem 9 \\[Back to [top](#toc)\\]\n",
    "$$\\label{P9}$$\n",
    "\n",
    "*A two-dimensional gas confined in the xy plane consists of N non-interacting particles in thermal equilibrium at temperature T. THe classical Hamiltonian for the single particle is given to be:*\n",
    "\n",
    "$$ H = \\frac{1}{2m} (p_x^2 + p_y^2) + \\frac12 m\\omega^2 [a(x^2 + y^2) + 2bxy] $$\n",
    "\n",
    "*where m, $\\omega$, a, b are given constatns, with a>0 and $a^2 > b^2$.*\n",
    "\n",
    "*a) Find the canonical partition function.*"
   ]
  },
  {
   "cell_type": "markdown",
   "id": "e1ea8a59",
   "metadata": {},
   "source": [
    "As there is no time-dependence, H=U (for statistial mechancis U is the total energy) so we don't have to worry about translation here, it's direct.\n",
    "\n",
    "The canonical partition function is, in general...\n",
    "\n",
    "$$ Z = \\sum_s g_s e^{-E_s/kT} $$\n",
    "\n",
    "However we clearly have a continuum of states here, and that degeneracy term is unneeded if we switch from a sum of specific energies and instead just integrate over all possivle x and y values.\n",
    "\n",
    "$$ Z = \\int e^{-H/kT} $$\n",
    "\n",
    "The question now is what exactly are we integrating *over?* we have x, y, and both momentums in the hamiltonian. This indicates that we should integrave over all of phase space. We need to be careful: H is just for one particle, for N we'll have to add up *all* H's. Technically waht's above is just for N=1, and we also forgot the quantum factor *h*. (though as we hadn't defined what we were integrating over, technically we would still be able to add it). The full expression for a partition function from a Hamiltonian is\n",
    "\n",
    "$$ Z_N = \\frac{1}{N! h^{3N}} \\int e^{-H/kT} d\\omega $$\n",
    "\n",
    "Here, $d\\omega$ is all of phase space, or $\\Pi d^3q_i d^3p_i$. Though in our case we only have $dxdydp_xdp_y$ (actually no, we have to consider the bizarreness of phase space). "
   ]
  },
  {
   "cell_type": "markdown",
   "id": "c965e767",
   "metadata": {},
   "source": [
    "The challenge here is actually taking the integral and not making any mistakes. (Fun fact: for an ideal gas the spatial coordiantes would have just integrated to V (or A I suppose in this 2D system) as there would be no spatial dependence.)\n",
    "\n",
    "HOLD! Above expression might be 3D only, let's revert to 2D and consider. \n",
    "\n",
    "The conversion factor is dependent on degrees of freedom. If we have 2 degrees of freedom for N particles, we have 2N degrees of freedom. Or... $h^{2N}$. This would be the 2D result. Granted, this only changes the leading constant and the dimensionality.\n",
    "\n",
    "$$ Z_N = \\frac{1}{N! h^{2N}} \\int e^{-\\sum H_N/kT}d^{2N}q_i d^{2N}p_i$$\n",
    "\n",
    "Now, surely, we just spread out the differential and integrate? WRONG! Phase space is a mean beast, as we got ourselves a hypersphere situation. Which is annoying to wrap one's head around so let's take it slowly for a bit... \n",
    "\n",
    "One thing we note is that each individual N of H is going to be independent of all the others in this integral, and since we're integrating over everything, we end up with N identical integrals.\n",
    "\n",
    "$$ Z_N = \\frac{1}{N! h^{2N}} \\left[ \\int e^{-H/kT} d^2q_i d^2p_i \\right]^N$$"
   ]
  },
  {
   "cell_type": "markdown",
   "id": "b6ca5d4e",
   "metadata": {},
   "source": [
    "NOW we see what the whole issue earlier was. We can choose to integrate this in a cartesian sense $d\\omega = dxdydp_xdp_y$ or we could create a circular way. $d\\omega = 2\\pi rdr 2\\pi p_rdp_r$ (the $2\\pi$ terms come from the angular coordinate of which there is no dependence... well not in momentum anyway, it might show up in the position since things are weird.) We're actually completely free to choose how to do this. Since we're dealign with a *gaussian* in oure integrations, cartesian is probably safest since it'll avoid adding additional variables.\n",
    "\n",
    "$$ Z_N = \\frac{1}{N! h^{2N}} \\left[ \\int e^{-H/kT} dxdydp_xdp_y \\right]^N$$\n",
    "\n",
    "If we had converted to polar our integration bounds would have been from zero to infinity, but now they are both infinities. Fortunately positional and momentum integrals are entirely separate!\n",
    "\n",
    "$$ Z_N = \\frac{1}{N! h^{2N}} \\left[ \\int e^{-\\left( \\frac{1}{2m} (p_x^2 + p_y^2) \\right)/kT} dp_xdp_y \\int e^{-\\left( \\frac12 m\\omega^2 [a(x^2 + y^2) + 2bxy] \\right)/kT} dxdy\\right]^N$$"
   ]
  },
  {
   "cell_type": "markdown",
   "id": "63cab311",
   "metadata": {},
   "source": [
    "Most of these are simple, just remember the integral of the gaussian: $\\sqrt{\\frac{\\pi}{a}}$, where a is the constant in front of the squared coordinate. This resolves our momentum integrals. \n",
    "\n",
    "$$ Z_N = \\frac{1}{N! h^{2N}} \\left[ (\\pi2kTm) \\int e^{-\\left( \\frac12 m\\omega^2 [a(x^2 + y^2) + 2bxy] \\right)/kT} dxdy\\right]^N$$\n",
    "\n"
   ]
  },
  {
   "attachments": {
    "image.png": {
     "image/png": "[encoded data removed]"
    }
   },
   "cell_type": "markdown",
   "id": "d492cdda",
   "metadata": {},
   "source": [
    "Trying to \"evaluate\" the integral proved to not go well, so let's look at the extended form of the Gaussian integral. This probably is worth memorizing. \n",
    "\n",
    "![image.png](attachment:image.png)"
   ]
  },
  {
   "cell_type": "markdown",
   "id": "f47e76f6",
   "metadata": {},
   "source": [
    "The exponent in our position area can, in fact, be arranged in this manner, one coordinate at a time. \n",
    "\n",
    "$$ Z_N = \\frac{1}{N! h^{2N}} \\left[ (\\pi2kTm)\\sqrt{\\frac{\\pi 2kT}{m\\omega^2a}} \\int e^{\\frac{m\\omega^2}{2kT}\\left( \\frac{b^2y^2}{a} - ay^2 \\right)} dy\\right]^N$$\n",
    "\n",
    "$$ Z_N = \\frac{1}{N! h^{2N}} \\left[ (\\pi2kTm)\\sqrt{\\frac{\\pi 2kT}{m\\omega^2a}} \\int e^{\\frac{m\\omega^2}{2kT}\\left( \\frac{b^2-a^2}{a} \\right)y^2} dy\\right]^N$$\n",
    "\n",
    "Constant is negative due to initial problem conditions so we can still gaussian solve it. \n",
    "\n",
    "$$ Z_N = \\frac{1}{N! h^{2N}} \\left[ (\\pi2kTm)\\sqrt{\\frac{\\pi 2kT}{m\\omega^2a}} \\sqrt{\\frac{\\pi a 2kT}{m\\omega^2 (a^2-b^2)}} \\right]^N$$\n",
    "\n",
    "And re-arrange...\n",
    "\n",
    "$$ Z_N = \\frac{1}{N! h^{2N}} \\left[ \\frac{4\\pi^2k^2T^2}{\\omega^2 \\sqrt{a^2-b^2}} \\right]^N$$\n",
    "\n",
    "Which we submit as the canonical partition function!"
   ]
  },
  {
   "cell_type": "markdown",
   "id": "fdbc6714",
   "metadata": {},
   "source": [
    "*b) Find the internal energy and the specific heat of the system. Are your results consisten with the Equipartition Theorem?*"
   ]
  },
  {
   "cell_type": "markdown",
   "id": "975833b9",
   "metadata": {},
   "source": [
    "Grab equations!\n",
    "\n",
    "$$ U = -\\left[ \\frac{\\partial}{\\partial \\beta} lnZ \\right]_{E_r} $$\n",
    "\n",
    "$$ C_V = \\left( \\frac{\\partial U}{\\partial T} \\right)_{N,V} $$\n",
    "\n",
    "$$\\beta = 1/kT$$\n",
    "\n",
    "So we have all the tools to do this we just need to run it to its conclusion. "
   ]
  },
  {
   "cell_type": "markdown",
   "id": "57c6b87b",
   "metadata": {},
   "source": [
    "$$ U = 2N/\\beta = 2NkT $$\n",
    "\n",
    "HUH. WELL THEN. \n",
    "\n",
    "$$ C_V = 2Nk $$\n",
    "\n",
    "This is of the right form for what we would expect from the equipartition thorem, which relates the energy to the degrees of freedom times kT. However the exact *scaling* can change depending on the system, so we should be careful.\n",
    "\n",
    "U = NfkT/2\n",
    "\n",
    "f is degrees of freedom. Which we now need to think, what system do we have? We have two dimensions, so two degrees there, but the equipartition theorem suggests we should have 4 here. We can see where each factor came from: the two momentum coordintes each produced a square root of kT, and the two position coordinates did the same. Is a momentum degree of freedom in the Hamiltonian equivalent? Unsure. \n",
    "\n",
    "Ah! But we note that the $\\omega$ indicates a ROTATIONAL degree of freedom, thus 2 rotational and 2 positional degrees of freedom gives us exactly what we need! Yay! \n",
    "\n",
    "(Helpful ln rules to remember: ln(AB) = lnA+lnB and if A is just a constant, when a derivative is taken it vanishes. $ln(A^B)$ = BlnA)"
   ]
  },
  {
   "cell_type": "markdown",
   "id": "9e42f28c",
   "metadata": {},
   "source": [
    "<a id='P10'></a>\n",
    "\n",
    "# Problem 10 \\[Back to [top](#toc)\\]\n",
    "$$\\label{P10}$$\n",
    "\n",
    "*Parts a) and b) are independent.*\n",
    "\n",
    "*a) Use contour integration to evaluate the integral where b>a>0.*\n",
    "\n",
    "$$ \\int_0^{2\\pi} \\frac{cos2\\theta}{a^2 + b^2 - 2abcos\\theta} d\\theta $$\n",
    "\n",
    "NOTE: THIS PROBLEM IS IN THE BOOK ON PAGE 861! Main issue was forgetting ALL residues. "
   ]
  },
  {
   "cell_type": "markdown",
   "id": "78a319a0",
   "metadata": {},
   "source": [
    "Unlike a certain problem in the next portion of the exam, we can just up and do this. Make it a contour integral over a circle. REMEMBER THE DIFFERENTIAL TRANSLATES AS WELL!\n",
    "\n",
    "$$ -i \\int_C \\frac{\\frac12 (z^2 + 1/z^2)(1/z) }{a^2+b^2-ab(z+1/z)} dz $$\n",
    "\n",
    "Now we also need to *clean up* to make sure everything is on the denominator and in terms of z rather than fractions, this slipped us up earlier.\n",
    "\n",
    "$$ -i \\int_C \\frac{\\frac12 (z^4 + 1) (1/z^2)}{z(a^2+b^2)-ab(z^2+1)} dz $$\n",
    "\n",
    "Now, do we have any residues within the unit circle? That is, can we find any points where:\n",
    "\n",
    "$$a^2 + b^2 = ab(z+1/z)$$\n",
    "$$\\Rightarrow \\frac{a^2 + b^2}{ab} = z+1/z$$\n",
    "$$\\Rightarrow \\frac ab + \\frac ba = z+1/z$$\n",
    "\n",
    "So we have residues at z=a/b and b/a. Which... hey, only a/b would be less than 1! Nice! So we have a single residue a/b. \n",
    "\n",
    "We also have a double at z=0.\n",
    "\n",
    "Find the residue by multiplying (z-a/b) and canceling out the term. Which will necessitate writing the denominator out newly so we can figure out how exactly to do this.\n",
    "\n",
    "$$ \\frac{\\frac12 (z^4 + 1)(z-a/b) }{z^2(z-a/b)(b^2-abz)} \\rightarrow \\frac{\\frac12 (z^4 + 1)}{z^2(b^2-abz)}$$\n",
    "\n",
    "Now we take the limit to see what our residue is. Remembering the i out front. \n",
    "\n",
    "$$ -\\frac{\\frac i2 (a^2 + b^2)}{a^2b^2(b^2-a^2)} $$"
   ]
  },
  {
   "cell_type": "markdown",
   "id": "42d69b07",
   "metadata": {},
   "source": [
    "This could probably be simplified (and we know it can from the textbook) but for now let's consider our *DOUBLE* pole at z=0. \n",
    "\n",
    "$$ Res = \\frac{1}{(n-1)!} lim_{z->z_0} \\partial_z^{n-1} ((z-z_0)^n f(z)) $$"
   ]
  },
  {
   "cell_type": "markdown",
   "id": "a5f4f7f9",
   "metadata": {},
   "source": [
    "I am going to be honest. I don't think doing the mathematical slurry to work this out will help in the future doings of this problem on the test. The above formula is given, we know how to take derivatives and limits, just go with it. See page 862 of the book if you want to see some steps. ANYWAY, the residue HERE turns out to be (i/2ab)(a/b + b/a). \n",
    "\n",
    "IN THE END just apply the REsidue Theorem, 2$\\pi$i times the sum of the residues. IT's tedious but straightforward.\n",
    "\n",
    "$$ \\frac{2\\pi a^2}{b^2(b^2-a^2)} $$"
   ]
  },
  {
   "cell_type": "markdown",
   "id": "deb8f8c6",
   "metadata": {},
   "source": [
    "*b) Consider one-dimentional wave propogation in a rope fixed at x=0 and x=a. Find the solution of the wave equation*\n",
    "\n",
    "$$\\nabla^2 \\Psi - \\frac{1}{v^2} \\frac{\\partial^2 \\Psi}{\\partial t^2} = 0$$\n",
    "\n",
    "*subjected to the boundary conditions*\n",
    "\n",
    "$$ \\Psi(x,t=0) = f(x) $$\n",
    "$$ (\\frac{\\partial \\Psi}{\\partial t})_{t=0} = g(x) $$\n",
    "\n",
    "*If you introduce constants and/or coefficients, be sure to determine their values in terms of given quantities.*"
   ]
  },
  {
   "cell_type": "markdown",
   "id": "d44ec4ee",
   "metadata": {},
   "source": [
    "**QUICK LOOKUP**\n",
    "\n",
    "Well this looks like a 3D wave problem at first but it's actually 1D. And we did a problem similar to this one in another qualifying exam, so let's see if our newfound memory holds up. First, get the wave equation into 1D.\n",
    "\n",
    "$$ \\frac{\\partial^2}{\\partial x^2} \\Psi - \\frac{1}{v^2} \\frac{\\partial^2}{\\partial t^2} \\Psi = 0$$\n",
    "\n",
    "Apply separation of variables, letting the components here be X(x) and T(t).\n",
    "\n",
    "$$ T \\frac{\\partial^2}{\\partial x^2} X = \\frac{X}{v^2} \\frac{\\partial^2}{\\partial t^2} T $$\n",
    "$$ \\frac{1}{X} \\frac{\\partial^2}{\\partial x^2} X = \\frac{1}{Tv^2} \\frac{\\partial^2}{\\partial t^2} $$\n",
    "\n",
    "Therefore both sides must equal a constant. We realize at this point that this is the WAVE equation, not the HEAT equation, so we're not going to end up with a bunch of neat results--none of these solutions will be exponential, they will both be periodic. Anyway, let both sides equal $-\\lambda$ and solve.\n",
    "\n",
    "$$ \\frac{1}{X} \\frac{\\partial^2}{\\partial x^2} X = -\\lambda $$\n",
    "$$ \\frac{1}{Tv^2} \\frac{\\partial^2}{\\partial t^2} = -\\lambda $$\n",
    "\n",
    "Both of these solutions are of the trigonometric form.\n",
    "\n",
    "$$ X = Acos(\\sqrt\\lambda x) + Bsin(\\sqrt\\lambda x) $$\n",
    "$$ T = Ccos(\\sqrt\\lambda v t) + Dsin(\\sqrt\\lambda v t) $$"
   ]
  },
  {
   "cell_type": "markdown",
   "id": "06a7d579",
   "metadata": {},
   "source": [
    "Now we inspect our boundary conditions. Annoyingly, all this specifies are the functions f(x) and g(x) as the initial condition for the function and the derivative. This does not allow us to find ABCD or $\\lambda$. However, there are other *hidden* boundary conditions. The rope is fixed at x=0 and x=a. So at *those* points the rope must be at zero. Thus, we apply the limitation to our X coordinate, reducing it considerably.\n",
    "\n",
    "$$ X = Bsin(\\sqrt\\lambda x) $$\n",
    "\n",
    "B is unspecified, but we can specify $\\lambda$ to some extent, as we need to match zero amplitude at x=a, making $\\sqrt\\lambda = n\\pi/a$. \n",
    "\n",
    "$$ X = Bsin(\\frac{n \\pi x}{a}) $$\n",
    "\n",
    "Now we can actually abstract B out now since we multiply X and T together.\n",
    "\n",
    "$$ XT = \\Psi = Csin(\\frac{n\\pi x}{a})cos(\\frac{n\\pi t}{a}) + Dsin(\\frac{n\\pi x}{a})sin(\\frac{n \\pi t}{a}) $$"
   ]
  },
  {
   "cell_type": "markdown",
   "id": "2c84f3a8",
   "metadata": {},
   "source": [
    "Now, however, we need to find a way to specify C and D so that our function equals f(x) and g(x) at the function and derivative level. For clarity's sake here's what the derivative looks like.\n",
    "\n",
    "$$ \\Psi' = -\\frac{n\\pi}{a}Csin(\\frac{n\\pi x}{a})sin(\\frac{n\\pi t}{a}) + \\frac{n\\pi}{a}Dsin(\\frac{n\\pi x}{a})cos(\\frac{n \\pi t}{a}) $$"
   ]
  },
  {
   "cell_type": "markdown",
   "id": "72970ff2",
   "metadata": {},
   "source": [
    "Note, however, that we only have to match conditions at t=0. So let's set t=0 and see how that goes.\n",
    "\n",
    "$$ \\Psi(t=0) = Csin(\\frac{n\\pi x}{a}) $$\n",
    "$$ \\Psi'(t=0) = \\frac{n\\pi}{a}Dsin(\\frac{n\\pi x}{a}) $$"
   ]
  },
  {
   "cell_type": "markdown",
   "id": "5c8bb3ee",
   "metadata": {},
   "source": [
    "Which means that C is literally the Fourier Sine Series Coefficients for f(x). Since we don't know what f(x) is we don't have to calculate this, but we can represent it as Fourier(f(x)).\n",
    "\n",
    "D is a little different, it needs to be Fourier(g(x)) divided by $a/n \\pi$ on account of the constant out front. But at that point, we have finished our resolution!\n",
    "\n",
    "Note that we do not know the Fourier transform off the top of our heads to write it down. We don't think it necessary, but the sine series would be...\n",
    "\n",
    "$$ A_n = \\frac{1}{a} \\int_{-a}^{a} Odd(f(x)) sin\\frac{n \\pi x}{a} dx $$\n",
    "\n",
    "Note that we use the odd extension of f here. No doubt we will memorize a more useful form later. "
   ]
  },
  {
   "cell_type": "code",
   "execution_count": null,
   "id": "b6d7b1ea",
   "metadata": {},
   "outputs": [],
   "source": []
  }
 ],
 "metadata": {
  "kernelspec": {
   "display_name": "Python 3 (ipykernel)",
   "language": "python",
   "name": "python3"
  },
  "language_info": {
   "codemirror_mode": {
    "name": "ipython",
    "version": 3
   },
   "file_extension": ".py",
   "mimetype": "text/x-python",
   "name": "python",
   "nbconvert_exporter": "python",
   "pygments_lexer": "ipython3",
   "version": "3.7.9"
  }
 },
 "nbformat": 4,
 "nbformat_minor": 5
}
