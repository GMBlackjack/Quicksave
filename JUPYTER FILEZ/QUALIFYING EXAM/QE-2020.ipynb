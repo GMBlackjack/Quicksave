{
 "cells": [
  {
   "cell_type": "markdown",
   "id": "0c1bfe81",
   "metadata": {},
   "source": [
    "# Qualifying Exam 2020\n",
    "\n",
    "## Answers: Gabriel M Steward"
   ]
  },
  {
   "cell_type": "markdown",
   "id": "56664bc2",
   "metadata": {},
   "source": [
    "<a id='toc'></a>\n",
    "\n",
    "# Table of Contents\n",
    "$$\\label{toc}$$\n",
    "\n",
    "[Problem 1](#P1) (Cylinder Geodesic)\n",
    "\n",
    "[Problem 2](#P2) (H and L nonsense)\n",
    "\n",
    "[Problem 3](#P3) (Potential Well 1D)\n",
    "\n",
    "[Problem 4](#P4) (One dimensional harmonic oscillator)\n",
    "\n",
    "[Problem 5](#P5) (Quantum Hamiltonian)\n",
    "\n",
    "[Problem 6](#P6) (Dots in Circles)\n",
    "\n",
    "[Problem 7](#P7) (Wire Arrangements)\n",
    "\n",
    "[Problem 8](#P8) (Transmission Line)\n",
    "\n",
    "[Problem 9](#P9) (Energy Levels and Divisions)\n",
    "\n",
    "[Problem 10](#P10) (Integrals and Vectors)\n"
   ]
  },
  {
   "cell_type": "markdown",
   "id": "cd9e5529",
   "metadata": {},
   "source": [
    "<a id='P1'></a>\n",
    "\n",
    "# Problem 1 \\[Back to [top](#toc)\\]\n",
    "$$\\label{P1}$$\n",
    "\n",
    "*A geodesic is the shortest possible line between two points on a surface.*\n",
    "\n",
    "*a) Use Euler's equation to find the geodesics on a cone whose equation, in cylindrical coordiantes, is z=a$\\rho$, where a is constant. Choose $\\rho$ as the independent variable.*"
   ]
  },
  {
   "cell_type": "markdown",
   "id": "c2daf542",
   "metadata": {},
   "source": [
    "**QUICK LOOKUP**\n",
    "\n",
    "Everyone hold the phone! We have done this exact problem in a Mechanics homework before! Yep, the exact same problem at that!\n",
    "\n",
    "Anyway, let's figure out our coordinates. We can state the line element in terms of $\\phi$ and $\\rho$ to get every single coordinate on the cone. To be explicit, $\\rho$ is the radius from the center *in the xy plane*, $\\phi$ is the angle around the vertical (z) axis. \n",
    "\n",
    "The first step is to find the equation (most likely a radical) that gives the infinitesimal length along the cone. To do that, let us consider the infinitesimal length for each coordinate. \n",
    "\n",
    "Changing $\\phi$ is pretty obvious, it goes like $\\rho d\\phi$. \n",
    "\n",
    "Changing $\\rho$ is a bit different. It's linear, yes, but by what factor? It could be at any angle depending on a. If a=0, well then the result is just $d\\rho$. But what at higher values of a? Well, by the pythagorean theorem we an see that the actual length is $\\sqrt{z^2 + \\rho^2}$ or $\\sqrt{a^2\\rho^2 + \\rho^2}$ and if we make it infinitesimal, $\\sqrt{1+a^2}d\\rho$. IN the original solution we dropped that square for some reaosn, oops. \n",
    "\n",
    "Anyway, combining all this together, counting both infinitesimals as orthogonal (which they are) we get an actual length total of\n",
    "\n",
    "$$ dl = \\sqrt{(1+a^2)d\\rho^2 + \\rho^2 d\\phi^2} $$\n",
    "\n",
    "And that's phase 1!"
   ]
  },
  {
   "cell_type": "markdown",
   "id": "4d957a43",
   "metadata": {},
   "source": [
    "Phase 2 uses the EL equation, but remember, we need to choose one coordinate to be the \"physical\" one and one to be the \"temproal\" one. This has minimal bearing on anything it just makes it easy to remember. The \"temporal\" one is whichever one we decide to pull out. Let's do $\\rho$\n",
    "\n",
    "$$ f = \\sqrt{(1+a^2) + \\rho^2 \\frac{d\\phi^2}{d\\rho^2}}d\\rho $$\n",
    "\n",
    "Now EL's equation in this case is...\n",
    "\n",
    "$$ \\frac{\\partial f}{\\partial \\phi} - \\frac{d}{d\\rho} \\frac{\\partial f}{\\partial \\phi'} = 0 $$\n",
    "\n",
    "We notably have no $\\phi$ dependence, just $\\phi'$, so we can say that $\\frac{\\partial f}{\\partial \\phi'} = C$, as we have no idea what form $\\phi'$ actually taeks yet, the C is arbitrary constant.\n",
    "\n",
    "That said we can just up an dtake the actual derivative. \n",
    "\n",
    "$$ C = \\frac{\\rho^2 \\phi'}{\\sqrt{(1+a^2) + \\rho^2\\phi'^2}} $$\n",
    "\n",
    "This is a simple chain rule situation, even if it looks somewaht complciated. "
   ]
  },
  {
   "cell_type": "markdown",
   "id": "b9afb5e5",
   "metadata": {},
   "source": [
    "Anyway, next phase is to solve for $\\phi'$. This is just algebra. \n",
    "\n",
    "$$ \\Rightarrow \\rho^4 \\phi'^2 = C^2 + C^2 a^2 + C^2 \\rho^2 \\phi'^2 $$\n",
    "$$ \\Rightarrow \\phi'^2(\\rho^4 - C^2 \\rho^2) = C^2(1+a^2) $$\n",
    "$$ \\Rightarrow \\phi'^2 = \\frac{C^2(1+a^2)}{\\rho^4 - C^2 \\rho^2} $$\n",
    "$$ \\Rightarrow \\phi' = \\sqrt{\\frac{C^2(1+a^2)}{\\rho^4 - C^2 \\rho^2}} $$\n"
   ]
  },
  {
   "cell_type": "markdown",
   "id": "f10edb78",
   "metadata": {},
   "source": [
    "Now we can jsut take the integral. We know it's an integral that exists, we did it in the homework, but it's an atan function. \n",
    "\n",
    "$$ \\phi = \\sqrt{(1+a^2)} tan^{-1}\\left( \\frac{\\sqrt{\\rho^2-C^2}}{C} \\right) + D $$"
   ]
  },
  {
   "cell_type": "markdown",
   "id": "97c4784d",
   "metadata": {},
   "source": [
    "First, let's do our proper integral. The numerator portion is all constants so it can be ignored, and thus we end up with:\n",
    "\n",
    "$$ \\int \\frac{1}{\\rho\\sqrt{\\rho^2-C^2}} d\\rho $$\n",
    "\n",
    "The trick now is a very fortuitous u-substitution. Let u = $\\sqrt{\\rho^2-C^2}$. Then by taking the derivative, du is $\\frac{\\rho}{\\sqrt{\\rho^2+C^2}}d\\rho$. At first this doesn't appear to help.\n",
    "\n",
    "$$ \\int \\frac{1}{\\rho^2} du $$\n",
    "\n",
    "But we can express $\\rho^2$ in terms of u, getting...\n",
    "\n",
    "$$ \\int \\frac{1}{u^2+C^2} du $$\n",
    "\n",
    "This is certainly simpler. Now perform ANOTHER u-substitution. v=u/C and dv = du/C. \n",
    "\n",
    "$$ \\frac{1}{C} \\int \\frac{1}{v^2+1} dv  $$\n",
    "\n",
    "Now you just have to *know* that this goes to arctan. (+D).\n",
    "\n",
    "$$ \\frac{1}{C} atan(v) + D $$\n",
    "$$ \\frac{1}{C} atan(\\frac{u}{C}) + D $$\n",
    "$$ \\frac{1}{C} atan(\\frac{\\sqrt{\\rho^2-C^2}}{C}) + D $$\n",
    "\n",
    "And with the leading constant we get (assuming posistive C)...\n",
    "\n",
    "$$ \\sqrt{1+a^2} atan(\\frac{\\sqrt{\\rho^2-C^2}}{C}) + D $$\n",
    "\n",
    "Which is what we originally had. Yay!"
   ]
  },
  {
   "cell_type": "markdown",
   "id": "bb6f43bf",
   "metadata": {},
   "source": [
    "*b) Examine your result in the limit a approaches 0. Is it consistent with what you would expect? Explain why or why not.*"
   ]
  },
  {
   "cell_type": "markdown",
   "id": "c4f9d6c5",
   "metadata": {},
   "source": [
    "Obviously, this should just be straight lines. And it is, we've graphed this before, when a=0 we reduce to straight lines. The quesiton is how exactly to show this *without* having access to graphing programs. \n",
    "\n",
    "Fortunately all we really need to do is show the nature of this equation in cartesian coordinates. $\\rho^2 = x^2 + y^2$, after all, so we end up with...\n",
    "\n",
    "$$ \\sqrt{1+a^2} atan(\\frac{\\sqrt{x^2+y^2-C^2}}{C}) + D $$\n",
    "\n",
    "Set a to zero as requested, and get rid of D while we're at it, it can't affect linearity. (all it does is provide a phase to the angle). \n",
    "\n",
    "$$ atan(\\frac{\\sqrt{x^2+y^2-C^2}}{C}) $$\n",
    "\n",
    "We need to remember that this is $\\phi =$, and $\\phi = atan(y/x)$. Which means we can *undo* the atan. \n",
    "\n",
    "$$ \\frac{y}{x} = \\frac{\\sqrt{x^2+y^2-C^2}}{C} $$\n",
    "$$ \\frac{y^2}{x^2} = \\frac{1}{C}(x^2+y^2-C^2) $$\n",
    "\n",
    "We seek something of hte form y=mx+b. Does such a thing exist? It doesn't look like it, considering the y^2... but another graph shows that, yep, it's straight. There's just gotta be a way to resolve it. Aha! But in the case we've decided the lines just happen to be vertical so of course y=mx+b won't work! Know what does? *canceling y entirely*. \n",
    "\n",
    "$$ C^2 (y^2/x^2 + 1) = y^2 + x^2 $$\n",
    "$$ \\frac{y^2 + x^2}{x^2} = \\frac{y^2+x^2}{C^2}$$\n",
    "$$ \\frac{1}{x^2} = \\frac{1}{C^2} $$\n",
    "\n",
    "Adjusting D would be what makes there be other kinds of lines, but we don't need to bother with that we don't think. "
   ]
  },
  {
   "cell_type": "markdown",
   "id": "1978b879",
   "metadata": {},
   "source": [
    "<a id='P2'></a>\n",
    "\n",
    "# Problem 2 \\[Back to [top](#toc)\\]\n",
    "$$\\label{P2}$$\n",
    "\n",
    "*A pendulum consists of a mass m suspended by a massless spring with equilibrium length l and elastic constant k, in the presence of a  uniform gravitational field. The pendulum's point of support rises vertically with constant acceleration a.*\n",
    "\n",
    "*a) Find the Lagrange's equations of motion.*"
   ]
  },
  {
   "cell_type": "markdown",
   "id": "5daf77b2",
   "metadata": {},
   "source": [
    "**IMMEDIATE KNOWLEDGE**\n",
    "\n",
    "PHASE I: Energies\n",
    "\n",
    "$$ \\frac 12 mv^2 $$\n",
    "$$ mgh + \\frac12 kx^2$$\n",
    "\n",
    "We only have one bob, so that's all we need here. However we're going to find that our coordinates aren't so simple.\n",
    "\n",
    "PHASE II: Coordinates\n",
    "\n",
    "Okay, so, coordinates. We actually have two degrees of freedom, the pendulum angle and the displacement from equilibrium for the spring. The displacement form equilibrium is labeled as x above, but since we'll be using the actual coordinate x later, let's call the new displacement d. That's one substitution made. The displacement from equilibrium does not care about things like the acceleration of the pivot, so we're good here. \n",
    "\n",
    "The height, though, that cares. However, at this point we can use a trick of Relativity. If we are accelerating constantly upward that is *indistinguishable* from being in a gravity field of the same strength! So if we are rising with a in a field of g, it is the same as not rising in a field of (g+a). call this G. Thus, in the \"larger gravity\" reference, our height is simply:\n",
    "\n",
    "$$ h=-(l+d)cos\\theta $$\n",
    "\n",
    "And the only change to our potential energy is that g is replaced with G. In essence, we can solve this problem by thinking about solving for a spring pendulum on an arbitrary planet. \n",
    "\n",
    "Now we turn to the velocity. There are two components of the velocity: the x velocity and the y velocity. Since we are treating this in the reference frame of \"stronger gravity,\" there is no motion aside from the spring and the pendulum bob itself. These parts of the velocity depend on both the angle and the current length of the spring. To get them we will consider the x and y positions relative to the pivot itself. The y position is just the height we defined earlier. Define the zero angle as downward. This means...\n",
    "\n",
    "$$ x = (l+d)sin\\theta $$\n",
    "\n",
    "So we can then find the individual velocity components by taking derivatives, and in the case of y adding the acceleration contribution.\n",
    "\n",
    "$$ \\dot x = (l+d)cos\\theta \\dot \\theta + \\dot d sin\\theta $$\n",
    "$$ \\dot y = (l+d)sin\\theta \\dot \\theta - \\dot d cos\\theta $$\n",
    "\n",
    "And to get the total square velocity, we just square these components and add them, hopefully canceling any similarities.\n",
    "\n",
    "$$ v^2 = (l+d)^2cos^2\\theta \\dot\\theta^2 + \\dot d^2 sin^2\\theta + 2(l+d)\\dot d \\dot \\theta cos\\theta sin\\theta + (l+d)^2sin^2\\theta \\dot \\theta^2 + \\dot d^2 cos^2\\theta - 2(l+d) \\dot d \\dot \\theta cos\\theta sin\\theta $$"
   ]
  },
  {
   "cell_type": "markdown",
   "id": "fe14b679",
   "metadata": {},
   "source": [
    "There are a few immediate cancelations here, and a few of the square trig functions equal 1 situation.\n",
    "\n",
    "$$ v^2 = (l+d)^2 \\dot\\theta^2 + \\dot d^2  $$\n",
    "\n",
    "Which means we can now, finally, write down our new energies.\n",
    "\n",
    "$$ \\frac12 m \\left[ (l+d)^2 \\dot\\theta^2 + \\dot d^2  \\right] $$\n",
    "\n",
    "$$ mG\\left[ -(l+d)cos\\theta \\right] + \\frac12 k d^2 $$"
   ]
  },
  {
   "cell_type": "markdown",
   "id": "e6cdd686",
   "metadata": {},
   "source": [
    "PHASE III: Lagrangian.\n",
    "\n",
    "The Lagrangian is T-U. Or, in our case...\n",
    "\n",
    "$$ \\mathcal L = \\frac12 m \\left[ (l+d)^2 \\dot\\theta^2 + \\dot d^2 \\right] + mG\\left[ (l+d)cos\\theta \\right] - \\frac12 k d^2 $$\n",
    "\n",
    "Nothing here appears to cancel, the terms for m, g, and k are all independent. \n",
    "\n",
    "PHASE IV: Euler-Lagrange equation.\n",
    "\n",
    "So, from what we remember, this is...\n",
    "\n",
    "$$ \\partial_t (\\partial_{\\dot q} \\mathcal L) - \\partial_q \\mathcal L = 0 $$\n",
    "\n",
    "IS that right? Internet lookup says yes, though sometimes the sign is on the other term. Notably that matters not in the slightest, just make sure to associate the time derivative with the velocity terms. Anyway, we need to do this for both $\\theta$ and for d."
   ]
  },
  {
   "cell_type": "markdown",
   "id": "da3f6fea",
   "metadata": {},
   "source": [
    "Let's do d first.\n",
    "\n",
    "$$ m\\ddot d = m(l+d)\\dot\\theta^2 + mGcos\\theta - kd $$\n",
    "\n",
    "And the angle...\n",
    "\n",
    "$$ 2m(l+d)\\dot d \\dot\\theta + m(l+d)^2\\ddot \\theta + mG(l+d)sin\\theta = 0 $$"
   ]
  },
  {
   "cell_type": "markdown",
   "id": "5bf5b1cd",
   "metadata": {},
   "source": [
    "PHASE V: The Secret Phase!\n",
    "\n",
    "Do we have to do anything with Lagrange's equations? well we are asked specifically for the equtiaons of motion, so we should probably state this in terms of the aacceleraitons.\n",
    "\n",
    "$$ \\ddot d = (l+d)\\dot \\theta^2 + Gcos\\theta - \\frac{kd}{m} $$\n",
    "$$ \\ddot \\theta = -\\frac{Gsin\\theta}{l+d} - \\frac{2\\dot d \\dot \\theta}{l+d} $$\n",
    "\n",
    "Now in a complete problem we would try to solve these in terms of time directly. In practice it seems unlikely that we have to solve this set of differential equations after having gone through so much to get here already, and it's not *explicitly* asked for. "
   ]
  },
  {
   "cell_type": "markdown",
   "id": "4c7dda38",
   "metadata": {},
   "source": [
    "*b) Find the Hamiltonian and Hamilton's equaitons of motion.*\n",
    "\n",
    "Now normally $\\mathcal H = T + U$ and this is actually true today since we removed the time dependence from the potential by just making gravity G. That said it's still a good idea to review the actual Hamiltonian so let's do that (and it might be helpful for part c) as well...)\n",
    "\n",
    "Fortunately we have the full Hamiltonian: $ \\mathcal H = pV - \\mathcal L $\n",
    "\n",
    "V is just the velocities, one for each coordinate. p is the coordinate momentum, which is just\n",
    "\n",
    "$$ \\partial_{\\dot q} \\mathcal L $$\n",
    "\n",
    "Which we actually already did in the middle of our previous part so...\n",
    "\n",
    "$$ p_d = m\\dot d $$\n",
    "$$ p_\\theta = m(l+d)^2 \\dot\\theta$$\n",
    "\n",
    "Neither of these are conserved as the potential energy depends on both variables. \n",
    "\n",
    "This was technically PHASE III of Hamiltonian Problem. PHASE IV is now to write these in terms of velocities, since in a Hamiltonian problem the final result should not have velocities in it. \n",
    "\n",
    "$$ \\dot d = \\frac{p_d}{m} $$\n",
    "$$ \\dot \\theta = \\frac{p_\\theta}{m(l+d)^2} $$"
   ]
  },
  {
   "cell_type": "markdown",
   "id": "0c6dfadc",
   "metadata": {},
   "source": [
    "Now we have both, so we can write our Hamiltonians. However, as the Lagrangian is still in forms of velocities, it is probably best to insert the pV term as that as well so subtractions might actually be able to be made. (**ALERT:** dunno if I would have realized this or not, but the pV term is a sum of all coordinates, there is only one hamiltonian, be careful remember this). \n",
    "\n",
    "Anyway, in velocity-form we have:\n",
    "\n",
    "$$ \\mathcal H = m\\dot d^2 + m(l+d)^2 \\dot\\theta^2 - \\frac12 m \\left[ (l+d)^2 \\dot\\theta^2 + \\dot d^2 \\right] - mG\\left[ (l+d)cos\\theta \\right] + \\frac12 k d^2   $$"
   ]
  },
  {
   "cell_type": "markdown",
   "id": "173cbd21",
   "metadata": {},
   "source": [
    "This is technically a hamlitonian if all the velocities get subsittuted out, but can we simplify? Yes, quite a bit. \n",
    "\n",
    "$$ \\mathcal H = \\frac12 m\\dot d^2 + \\frac 12 m(l+d)^2 \\dot\\theta^2 - mG\\left[ (l+d)cos\\theta  \\right] + \\frac12 k d^2   $$\n",
    "\n",
    "Note that this IS the sign adjustment for the Lagrangian, so we have $\\mathcal H = T+U$ today. As we knew already. "
   ]
  },
  {
   "cell_type": "markdown",
   "id": "842935bb",
   "metadata": {},
   "source": [
    "Of course Hamiltonians shouldn't have velocities, so we need to make our substitutions here.\n",
    "\n",
    "$$ \\mathcal H = \\frac12 \\frac{p_d^2}{m} + \\frac 12 \\frac{p_\\theta^2}{m(l+d)^2} - mG\\left[ (l+d)cos\\theta  \\right] + \\frac12 k d^2 $$\n",
    "\n",
    "Now at this point we apply Hamilton's equaitons which... I do not remember the sign on off the top of my head. One is dp = dH and the other is dq = -dH or... wow I don't even remember what it's with respect too actually.\n",
    "\n",
    "**QUICK LOOKUP**\n",
    "\n",
    "$$ \\partial_t q = \\partial_p \\mathcal H $$\n",
    "$$ \\partial_t p = -\\partial_q \\mathcal H $$"
   ]
  },
  {
   "cell_type": "markdown",
   "id": "776e62aa",
   "metadata": {},
   "source": [
    "Now the velocity relations should give us what we started with, so let's start with those. As it turns out, they do so trivially, as the potential energy terms just *poof*.\n",
    "\n",
    "This means the intereating relations are the momentum ones. This is to say...\n",
    "\n",
    "$$ \\dot p_\\theta = -mG(l+d)sin\\theta $$\n",
    "\n",
    "And for our other cooridnate we have a bit harder of a time differentiating, but we can...\n",
    "\n",
    "$$ \\dot p_d = \\frac{p_\\theta^2}{m(l+d)^3} + mGcos\\theta - kd $$"
   ]
  },
  {
   "cell_type": "markdown",
   "id": "6027e3e6",
   "metadata": {},
   "source": [
    "Normally at this point we would start declaring \"we can't keep the velocities in here\" but they're already gone so not our problem. Tah-dah!"
   ]
  },
  {
   "cell_type": "markdown",
   "id": "d11a9784",
   "metadata": {},
   "source": [
    "*c) Find the period of small oscillations for any oscillating coordinate.*"
   ]
  },
  {
   "cell_type": "markdown",
   "id": "7c27f7fc",
   "metadata": {},
   "source": [
    "Note: as we currently have it, the solutions are not suitable for a normal modes determination. Shame. This is due to $\\dot d \\dot \\theta$ in our expression. Anyway..."
   ]
  },
  {
   "cell_type": "markdown",
   "id": "0dd606ea",
   "metadata": {},
   "source": [
    "\n",
    "\n",
    "So for small oscillations we have $sinx = x$ and, if it's sufficient, $cosx = 1$. (The second one may not be sufficient, we'll see. It'll become $1-x^2/2$ if not.). Also, l+d ~ l. \n",
    "\n",
    "Let's look at all our results with these approximations and see if anything jumps out.\n",
    "\n",
    "$$ \\dot p_d = \\frac{p_\\theta^2}{ml^3} + mG - kd $$\n",
    "$$ \\dot p_\\theta = -mGl\\theta $$\n",
    "$$ \\dot d = \\frac{p_d}{m} $$\n",
    "$$ \\dot \\theta = \\frac{p_\\theta}{ml^2} $$"
   ]
  },
  {
   "cell_type": "markdown",
   "id": "974adc33",
   "metadata": {},
   "source": [
    "$$ p_d = m\\dot d $$\n",
    "$$ p_\\theta = ml^2 \\dot\\theta$$\n",
    "$$ \\ddot d = l\\dot \\theta^2 + G - \\frac{kd}{m} $$\n",
    "$$ \\ddot \\theta = -\\frac{G\\theta}{l} - \\frac{2\\dot d \\dot \\theta}{l} $$\n"
   ]
  },
  {
   "cell_type": "markdown",
   "id": "02cae10a",
   "metadata": {},
   "source": [
    "Now, we would like it if we could use the standard pendulum period, but the $\\ddot \\theta$ relation doesn't let us due to the presence of the $\\dot d \\dot \\theta$ term. However... watch this trick.\n",
    "\n",
    "$$ \\dot \\theta = \\frac{p_\\theta}{ml^2} $$\n",
    "$$ \\Rightarrow \\ddot \\theta = \\frac{\\dot p_\\theta}{ml^2} $$\n",
    "$$ \\Rightarrow \\ddot \\theta = \\frac{-mGl\\theta}{ml^2} $$\n",
    "$$ \\Rightarrow \\ddot \\theta = \\frac{-G\\theta}{l} $$\n",
    "\n",
    "Fascinating. From the Hamiltonian, the second term doesn't exist, and we get directly to the pendulum situation. Which, as we know, has a period of $2\\pi\\sqrt{l}{G}$. (If you want to do this manually just solve the differential equation, $\\theta$ takes a trig form). This implies that so long as d oscillations are small, they have no affect on the angle oscillations. \n",
    "\n",
    "Unfortunately doing this for d doesn't work as d depends on $p_\\theta$ so whoops. \n",
    "\n",
    "Actually, do the d oscillations even need to be small? Let's expand the relation we used:\n",
    "\n",
    "$$ \\dot \\theta = \\frac{p_\\theta}{m(l+d)^2} $$\n",
    "$$ \\dot p_\\theta = -mG(l+d)sin\\theta $$ \n",
    "$$ p_\\theta = m(l+d)^2 \\dot\\theta$$"
   ]
  },
  {
   "cell_type": "markdown",
   "id": "6b2a7f1a",
   "metadata": {},
   "source": [
    "Now, if we *don't* assume small d, we will end up with two terms.\n",
    "\n",
    "$$ \\ddot \\theta = -\\frac{G}{l+d}sin\\theta - \\frac{2 \\dot d \\dot \\theta}{l+d} $$\n",
    "\n",
    "In which we recover that second annoying term. As we can see here what the Hamiltonian did was allow us to justify that second term being small, and reverting the small oscillations to just the first term. Yay! \n",
    "\n",
    "Remember G=g+a so the actual final result is\n",
    "\n",
    "$$ P = 2\\pi \\sqrt\\frac{l}{g+a} $$\n",
    "\n",
    "Tah-dah! *party streamer goes off*."
   ]
  },
  {
   "cell_type": "markdown",
   "id": "36ec29d1",
   "metadata": {},
   "source": [
    "<a id='P3'></a>\n",
    "\n",
    "# Problem 3 \\[Back to [top](#toc)\\]\n",
    "$$\\label{P3}$$\n",
    "\n",
    "*A particle of mass m is subject to an attractive potential V(x) = -$V_0 \\delta(x)$, where $V_0$ is a positive constant with the dimensions of energy x distance.*\n",
    "\n",
    "*a) Consider the case of negative energies and show that there is only one bound state. Find the energy and the normalized wave funciton for this state.*"
   ]
  },
  {
   "cell_type": "markdown",
   "id": "2887eb07",
   "metadata": {},
   "source": [
    "So, here we have the Delta Function Well, where everything is flat at V=0 everywhere except at x=0, where we have the delta spike of \"magnitude\" $V_0$. \n",
    "\n",
    "We could write the Hamiltonian like:\n",
    "\n",
    "$$ \\mathcal H = \\frac{p^2}{2m} - V_0 \\delta(x) = - \\frac{\\hbar^2}{2m}\\frac{\\partial^2}{\\partial x^2} - V_0 \\delta(x) $$\n",
    "\n",
    "And as usual since we have no t involved\n",
    "\n",
    "$$ H\\psi = E\\psi $$\n",
    "\n",
    "We have two \"regions\" of concern, x=0, and everywhere else. Everywhere else has the standard result:\n",
    "\n",
    "$$ \\frac{\\partial^2 \\psi}{\\partial x^2} = -\\frac{E2m}{\\hbar^2}\\psi = \\kappa^2 \\psi $$\n",
    "\n",
    "$\\kappa$ in this case is real and positive due to negative E. Which produces the standard differential equation result of\n",
    "\n",
    "$$ Ae^{-\\kappa x} + Be^{\\kappa x} $$\n",
    "\n",
    "However on each side of the divide, one of these explode, so we have on the left:\n",
    "\n",
    "$$ Be^{\\kappa x} $$\n",
    "\n",
    "And on the right::\n",
    "\n",
    "$$ Fe^{-\\kappa x} $$\n",
    "\n",
    "And in the middle we... really don't know yet as it's an infinitesimal. BUT we can apply the boundary conditions. $\\psi$ is always continuous, and $d\\psi/dx$ is continuous except at infinite potentials. (i.e. this one). \n",
    "\n",
    "This tells us F=B. For now we have no indication of where the delta function comes into this. (It'll give us the difference in the derivative.) "
   ]
  },
  {
   "cell_type": "markdown",
   "id": "90d91494",
   "metadata": {},
   "source": [
    "So, the trick is to take the Schrodinger equation $H\\psi = E\\psi$ and take an infinitesimal integral around x = 0. The right hand side just goes to 0 as there's no discontinuities there. HOwever, the left hand side (the hailtonian) will provide some fun... (minor note: these should be full derivatives not partial ones. Oh well, doens't change anything far as I know.)\n",
    "\n",
    "$$ -\\frac{\\hbar^2}{2m} \\int \\frac{d^2\\psi}{dx^2} dx - \\int V_0 \\delta(x) \\psi dx = 0 $$\n",
    "\n",
    "Now the first integral just becomes $\\Delta \\partial\\psi/dx $, that is it measures the distontinuity in the derivative. The left hand side is over a delta funmction so it just extracts the value at x=0. So we end up with...\n",
    "\n",
    "$$ -\\frac{\\hbar^2}{2m}  \\Delta \\frac{d\\psi}{dx} - V_0 \\psi(0) = 0 $$\n",
    "$$ \\Rightarrow \\Delta \\frac{\\partial \\psi}{\\partial x} = -\\frac{2mV_0}{\\hbar^2}\\psi(0) $$\n",
    "\n",
    "Take the derivatives of the functions on both sides, get $-B\\kappa, +B\\kappa$ at x=0, making the new relation:\n",
    "\n",
    "$$ 2B\\kappa = \\frac{2mV_0}{\\hbar^2} B $$\n",
    "$$ \\kappa = \\frac{mV_0}{\\hbar^2}$$\n",
    "\n",
    "Thus the allowed energy is\n",
    "\n",
    "$$ E = -\\frac{\\hbar^2\\kappa^2}{2m} = -\\frac{mV_0^2}{2\\hbar}$$\n",
    "\n",
    "Of course we have the energy, and $\\kappa$ but we now need to normalize the wavefunction. Keep in mind the *probability* is what is actually normalized, so it needs to be squared. Also it's even so we don't have to split it."
   ]
  },
  {
   "cell_type": "markdown",
   "id": "d943ffea",
   "metadata": {},
   "source": [
    "$$ 2|B|^2\\int_0^\\infty e^{-2\\kappa x} dx = 1 $$\n",
    "$$ 2B^2 \\left[ \\frac{-1}{2\\kappa} e^{-\\kappa x} \\right]_0^\\infty = 1 $$\n",
    "$$ B^2 / \\kappa = 1 $$\n",
    "$$ B = \\sqrt\\kappa $$\n",
    "\n",
    "So with B and $\\kappa$ now known, we have a solution.\n",
    "\n",
    "$$ \\sqrt{\\frac{mV_0}{\\hbar^2}} e^{-mV_0|x|/\\hbar^2} $$\n",
    "\n",
    "The |x| keeps us from having to write it peicewise. "
   ]
  },
  {
   "cell_type": "markdown",
   "id": "fea55474",
   "metadata": {},
   "source": [
    "*b) Calculate the probability of finding the particle in the interval $-a \\leq x \\leq a$.*"
   ]
  },
  {
   "cell_type": "markdown",
   "id": "684ea5a3",
   "metadata": {},
   "source": [
    "This is a somewaht simple integral, in fact we did one similar, we just need to replace the infinity bound with a.\n",
    "\n",
    "$$ 2B^2 \\left[ \\frac{-1}{2\\kappa} e^{-\\kappa x} \\right]_0^a = P $$\n",
    "$$ -\\frac{B^2}{\\kappa} (e^{-\\kappa a}-1) = P $$\n",
    "$$ \\frac{B^2}{\\kappa} (1-e^{-\\kappa a}) = P $$"
   ]
  },
  {
   "cell_type": "markdown",
   "id": "69014f4d",
   "metadata": {},
   "source": [
    "*c) Now study the scattering case E>0. Calculate the reflection and transmission coefficients as a function of the wave number k.*"
   ]
  },
  {
   "cell_type": "markdown",
   "id": "a452652e",
   "metadata": {},
   "source": [
    "So in this case we replace kappa with k and have:\n",
    "\n",
    "$$ \\frac{\\partial^2 \\psi}{\\partial x^2} = -\\frac{E2m}{\\hbar^2}\\psi = -k^2 \\psi $$\n",
    "\n",
    "The solution in this case is the imaginaries.\n",
    "\n",
    "$$ Ae^{ikx} + Be^{-ikx} $$\n",
    "\n",
    "With similar forms on the other side for F and G. Since we are asked specifically for reflection and transmission coefficietns, we can take the case where there is no incoming wave on the right hand side, so G=0. Thus F=A+B. \n",
    "\n",
    "In this case, A is incoming, B is reflected, and F is transmitted. One may think the coefficients we want are just the fractions, but no, it's the *square* fractions. \n",
    "\n",
    "$$ R = \\frac{|B|^2}{|A|^2} ; T = \\frac{|F|^2}{|A|^2}$$\n",
    "\n",
    "Anyway we just need to find relative strengths for A, B, and F. We can still find the change in derivative by taking the derivatives at zero:\n",
    "\n",
    "$$ \\Delta \\frac{\\partial \\psi}{\\partial x} = -\\frac{2mV_0}{\\hbar^2}\\psi(0) $$\n",
    "$$ = ikF - ik(A-B)  = -\\frac{2mV_0}{\\hbar^2} (A+B)$$\n",
    "\n",
    "Note that A+B = F. \n",
    "\n",
    "Anyway, we do just want ratios in the end, so we should be able to solve for those. Let our constant in front be $\\beta$ just so we can simplify. \n",
    "\n",
    "$$ F(ik + \\beta) = ikA - ikB $$\n",
    "$$ \\Rightarrow F(1 - i\\frac{\\beta}{k}) = A - B $$\n",
    "\n",
    "B = F - A\n",
    "\n",
    "$$ \\Rightarrow F(2 - i\\frac{\\beta}{k}) = 2A $$\n",
    "$$ \\Rightarrow F = \\frac{2}{2 - i\\frac{\\beta}{k}}A $$\n",
    "\n",
    "This is not the neatest form but it works. Similarly for B.\n",
    "\n",
    "$$ \\Rightarrow (A+B)(1 - i\\frac{\\beta}{k}) = A - B $$\n",
    "$$ \\Rightarrow A(- i\\frac{\\beta}{k}) = -B(2 - i\\frac{\\beta}{k}) $$\n",
    "$$ \\Rightarrow A = \\frac{(2 - i\\frac{\\beta}{k})}{(i\\frac{\\beta}{k})}B $$\n",
    "\n",
    "And then just square magnitude them (remember to conjugate) and get the results. Presto! The form we've done here is a bit ugly, the book recommends $\\beta = \\frac{mV_0}{\\hbar^2 k}$. We kind of kept the k out of it. Oops. "
   ]
  },
  {
   "cell_type": "markdown",
   "id": "a650fe7d",
   "metadata": {},
   "source": [
    "<a id='P4'></a>\n",
    "\n",
    "# Problem 4 \\[Back to [top](#toc)\\]\n",
    "$$\\label{P4}$$\n",
    "\n",
    "*The Hamiltonian of the one-dimensional harmonic oscillator*\n",
    "\n",
    "$$ H = \\frac{p^2}{2m} + \\frac 12 m \\omega^2 x^2, $$\n",
    "\n",
    "*can be written as*\n",
    "\n",
    "$$ H = \\hbar \\omega (a^\\dagger a + \\frac12) $$\n",
    "\n",
    "*where a is the annihilation operator*\n",
    "\n",
    "$$ a = \\sqrt{\\frac{m\\omega}{2\\hbar}} (x + \\frac{ip}{m\\omega}) $$\n",
    "\n",
    "*a) Use the method of creation and annihilation operators to derive the groundstate wave function, $\\psi_0(x') = <x'|0>$, with the condition a|0> = 0.*"
   ]
  },
  {
   "cell_type": "markdown",
   "id": "c99b1cbd",
   "metadata": {},
   "source": [
    "So, the trick is and always has been \"once you're on the lowest rung, apply the annihilation operator *agaain* to get zero. Which is provided in the problem. So, We have:\n",
    "\n",
    "$$  a_- \\psi_0 = 0$$\n",
    "\n",
    "Now if we trust the form given to us this is:\n",
    "\n",
    "$$ \\sqrt{\\frac{m\\omega}{2\\hbar}} (x + \\frac{\\hbar}{m\\omega}\\frac{\\partial}{\\partial x}) \\psi_0 = 0 $$\n",
    "$$ \\Rightarrow \\frac{\\hbar}{m\\omega}\\frac{\\partial}{\\partial x}\\psi_0 = -x\\psi_0 $$\n",
    "$$ \\Rightarrow \\frac{\\partial}{\\partial x}\\psi_0 = -\\frac{m\\omega}{\\hbar}x\\psi_0 $$\n",
    "\n"
   ]
  },
  {
   "cell_type": "markdown",
   "id": "d5f9f3ac",
   "metadata": {},
   "source": [
    "This form is known as one that shows up in $e^{-ax^2}$ types. Thus...\n",
    "\n",
    "$$ \\psi_0 = Ae^{-\\left( \\frac{m\\omega}{2\\hbar} \\right)x^2} $$\n",
    "\n",
    "Which is the wavefunction barring normalizaiton."
   ]
  },
  {
   "cell_type": "markdown",
   "id": "a178c4fa",
   "metadata": {},
   "source": [
    "*b) Normalize $\\psi_0(x')$*"
   ]
  },
  {
   "cell_type": "markdown",
   "id": "72f98fcf",
   "metadata": {},
   "source": [
    "Square it and integrate over all space and set to 1.\n",
    "\n",
    "$$ \\int_{-\\infty}^{\\infty} A^2 e^{-\\left( \\frac{m\\omega}{\\hbar}\\right) x^2} dx $$\n",
    "\n",
    "This integral is actually provided on the cheat sheet, nice.\n",
    "\n",
    "$$ = A^2 \\sqrt\\pi \\sqrt{\\frac{\\hbar}{m\\omega}} $$\n",
    "\n",
    "And so if this equals 1 A must equal\n",
    "\n",
    "$$ A = \\left( \\frac{m\\omega}{\\pi\\hbar}\\right)^{1/4} $$\n",
    "\n",
    "And thus we are normalized."
   ]
  },
  {
   "cell_type": "markdown",
   "id": "d53b82d0",
   "metadata": {},
   "source": [
    "*c) Find the probability of finding the particle outside the classically allowed region.*"
   ]
  },
  {
   "cell_type": "markdown",
   "id": "29e007c1",
   "metadata": {},
   "source": [
    "So. Hang on. Where is the boundary of the classically allowed region? It would be where the potential energy equals the original kinetic energy. If we examine the hamiltonian classically:\n",
    "\n",
    "$$ \\frac12 mv^2 = \\frac12 m \\omega^2 x^2 $$\n",
    "\n",
    "Which \\ontinues the relation to\n",
    "\n",
    "$$ v^2 = \\omega^2 x^2 $$\n",
    "\n",
    "For any given particle with initial v, the classically allowed region ends at x. However, how does this translate to our quantum oscillator? Well, we actually can correlate it. We can set the momentum to zero to find the edge, since we know the total energy at the ground state: $E = \\frac12 \\hbar \\omega$. Mamorized, yes, but we can also derive it by letting the Hamiltonian act on the wavefunction via the Schrodinger equation. \n",
    "\n",
    "With no momentum considerations, that is no \"kinetic energy\", we find a bound of:\n",
    "\n",
    "$$ \\frac12 \\hbar \\omega = \\frac12 m \\omega^2 x^2 $$\n",
    "\n",
    "Which means that the ends of our oscillator, classically, would be:\n",
    "\n",
    "$$ x = \\sqrt{\\frac{\\hbar}{\\omega m}} $$\n",
    "\n",
    "Which if you'll note is the inverse argument in the exponent of our wavefunction.\n",
    "\n",
    "$$ \\psi_0 = Ae^{-\\left( \\frac{m\\omega}{2\\hbar} \\right)x^2} $$"
   ]
  },
  {
   "cell_type": "markdown",
   "id": "7a667fb5",
   "metadata": {},
   "source": [
    "However, what we need is the probability. Sure, at the x boundary we *get* a neat number, but what use is it? Well, there's a hint in the provided equations::\n",
    "\n",
    "$$ \\int_0^1 e^{-x^2} dx = 0.7468 $$\n",
    "\n",
    "The *edge of the classically allowed region* is *when we reach this point in the integral*. We just need to find a way to extract it. Let's call the classical limit $x_0$\n",
    "\n",
    "$$ A^2 \\int_{-\\infty}^{x_0} e^{-\\left( \\frac{1}{x_0^2} \\right)x^2} dx $$\n",
    "$$ = 2A^2 \\int_{0}^{x_0} e^{-\\left( \\frac{1}{x_0^2}  \\right)x^2} dx $$\n",
    "\n",
    "Perform a variable substitution. Let us instead of integrating with respect to x, do it with respect to $x/x_0$. Let this new variable be z. Thus dz = dx/$x_0$\n",
    "\n",
    "$$ = 2A^2 \\int_{0}^{1} e^{-z^2} x_0 dz $$\n",
    "$$ = 2A^2 x_0 0.7468 $$\n",
    "\n",
    "Which is sufficient.\n",
    "\n",
    "$$P = 2 \\sqrt{\\frac{m\\omega}{\\pi \\hbar}} \\sqrt{\\frac{\\hbar}{\\omega m}} 0.7468 $$\n",
    "$$ = \\frac{1.4936}{\\sqrt\\pi} = 0.843$$\n",
    "\n",
    "This is the probability of it inside. OUTSIDE is 0.157, or 15.7%. "
   ]
  },
  {
   "cell_type": "markdown",
   "id": "0bf2cd3d",
   "metadata": {},
   "source": [
    "<a id='P5'></a>\n",
    "\n",
    "# Problem 5 \\[Back to [top](#toc)\\]\n",
    "$$\\label{P5}$$\n",
    "\n",
    "*The Hamiltonian fo a system is given by*\n",
    "\n",
    "$$ \\begin{pmatrix}\n",
    "1+\\lambda & 0 & 0 & 0 \\\\\n",
    "0 & 8 & 0 & 0 \\\\\n",
    "0 & 0 & 3 & -2\\lambda \\\\\n",
    "0 & 0 & -2\\lambda & 7 \\\\\n",
    "\\end{pmatrix}$$\n",
    "\n",
    "*a) Decompose this Hamiltonian into H = $H_0 + V$, where $H_0$ is the unperturbed Hamiltonian and V is the perturbation proportional to $\\lambda$. Find the eigenvalues and the eigenstates of hte unperturbed Hamiltonian $H_0$.*"
   ]
  },
  {
   "cell_type": "markdown",
   "id": "07d60147",
   "metadata": {},
   "source": [
    "Simple decomposition appears to go like this:\n",
    "\n",
    "$$ \\begin{pmatrix}\n",
    "1 & 0 & 0 & 0 \\\\\n",
    "0 & 8 & 0 & 0 \\\\\n",
    "0 & 0 & 3 & 0\\\\\n",
    "0 & 0 & 0 & 7 \\\\\n",
    "\\end{pmatrix} + \\begin{pmatrix}\n",
    "\\lambda & 0 & 0 & 0 \\\\\n",
    "0 & 0 & 0 & 0 \\\\\n",
    "0 & 0 & 0 & -2\\lambda \\\\\n",
    "0 & 0 & -2\\lambda & 0 \\\\\n",
    "\\end{pmatrix}$$\n",
    "\n",
    "And now we throw out the perturbation and examine just the unperturbed $H_0$\n",
    "$$ \\begin{pmatrix}\n",
    "1 & 0 & 0 & 0 \\\\\n",
    "0 & 8 & 0 & 0 \\\\\n",
    "0 & 0 & 3 & 0\\\\\n",
    "0 & 0 & 0 & 7 \\\\\n",
    "\\end{pmatrix} $$\n",
    "\n",
    "For a diagonal matrix, eigenstates are obvious. they are the four unit vectors (1,0,0,0) (0,1,0,0) (0,0,1,0) and (0,0,0,1) with eigenvalues 1, 8, 3, and 7. \n"
   ]
  },
  {
   "cell_type": "markdown",
   "id": "c32fe5fb",
   "metadata": {},
   "source": [
    "*b) Diagonalize H to find the exact eigenvalues of H. Expand each eigenvalue to order $\\lambda^2$.*"
   ]
  },
  {
   "cell_type": "markdown",
   "id": "bcbf92dc",
   "metadata": {},
   "source": [
    "So, one way to diagonalize is to find the eigenvectors and construct the result from that. However, for a 4x4 matrix, even one with a lot of zeroes, that will be a mess, and would involve finding the eigenvalues *first*, which is gonna be a no-no. So, what other ways can we diagonalize things?\n",
    "\n",
    "Actually, we might be able to do it by *starting* the full process and identifying a pattern. So, since $\\lambda$ is being used, let's have E be the eigenvalues. 4x4 matrix can't just easliy have a determinat taken.\n",
    "\n",
    "HOWEVER, we can try a different sort of diagonalization: just take the bottom right corner and diagonalize THAT. This weay we can say the much simpler...\n",
    "\n",
    "$$ (3-E)(7-E) - 4\\lambda^2 = 0 $$\n",
    "$$ (21-4\\lambda^2) - 10E + E^2 = 0$$\n",
    "\n",
    "Which can be solved with the quadratic formula for E.\n",
    "\n",
    "$$ E = \\frac{10 \\pm \\sqrt{100 - 4(21-4\\lambda^2)}}{2} $$\n",
    "$$ = \\frac{10 \\pm \\sqrt{16 + 16\\lambda^2}}{2} $$\n",
    "$$ = \\frac{10 \\pm 4\\sqrt{1+\\lambda^2}}{2} $$\n",
    "$$ = 5 \\pm 2\\sqrt{1+\\lambda^2} $$\n",
    "\n",
    "So these are the eigenvalues. Bit awkward, but sensible enough. From this we can find the eigenvectors... wait we don't need to do that! These Eigenvalues are entirely independent from the others, the top two can have no influecne on them! Hah! So in that case we really do need to expand to second order.\n",
    "\n",
    "The other two eigenvalues are 8 and $1+\\lambda$ for the eigenvectors (1,0,0,0) and (0,1,0,0). The others vectors? Unknown.\n",
    "\n",
    "Anyway the other eigenvalues are, to second order, $5 \\pm 2(1 + \\frac{\\lambda^2}{2})$\n",
    "\n",
    "It occcurs to us that we *did not even get to the diagonalization step* here, so we technically *did not follow the instructions*. HMMMMM. Notably if we do this only to first order we get energies of 3 and 7 as expected. \n",
    "\n",
    "Anyway we are unsure how we were supppsoed to do this, but we can always add the energies back and diagonalize the matrix that way. So at least we HAVE the diagonal matrix. \n",
    "\n",
    "And now we throw out the perturbation and examine just the unperturbed $H_0$\n",
    "$$ \\begin{pmatrix}\n",
    "1+\\lambda & 0 & 0 & 0 \\\\\n",
    "0 & 8 & 0 & 0 \\\\\n",
    "0 & 0 & 5 - 2\\sqrt{1+\\lambda^2} & 0\\\\\n",
    "0 & 0 & 0 & 5 + 2\\sqrt{1+\\lambda^2} \\\\\n",
    "\\end{pmatrix} $$\n",
    "\n"
   ]
  },
  {
   "cell_type": "markdown",
   "id": "9d366982",
   "metadata": {},
   "source": [
    "To be clear if we were to complete the diagonalization so that $SMS^{-1} = D$, then \n",
    "\n",
    "$$ S^{-1} = \\begin{bmatrix} A_{11} & A_{12}\\\\ \n",
    "A_{21} & A_{22} \\end{bmatrix} $$\n",
    "\n",
    "Where $A_1$ is the first eigenvector and $A_2$ is the second. "
   ]
  },
  {
   "cell_type": "markdown",
   "id": "c2efbf82",
   "metadata": {},
   "source": [
    "*c) Using first and second-order nondegenerate perturbaiton theory, find the approximate eigenvalues of H. Compare with the exact values obtained in part b).*"
   ]
  },
  {
   "cell_type": "markdown",
   "id": "c4eec9b3",
   "metadata": {},
   "source": [
    "First order perturbation theory for energies is:\n",
    "\n",
    "$$ E_n^1 = <\\psi_n^0| H' |\\psi_n^0> $$\n",
    "\n",
    "In this case our \"ground state wavefunctions\" are the eigenvectors. Which are, in the ground unperturbed state, just the four basic unit vectors. So we can get energy adjustments pretty easy by sandwiching and since all of them are basic unit vectors, it's amazingly simple. The first two are extremely basic: $+\\lambda$ and $+0$, which matches our \"independent\" ideas from the previous part. However, in first order, the *other* two also have $+0$, which we know is incorrect. Thus, we turn to *second* order perturbaiton theory, which is provided by the sheet:\n",
    "\n",
    "$$ E_n^{(2)} \\sum_{m \\neq n} \\frac{|<m|V|n>|^2}{E_n^0-E_m^0} $$\n",
    "\n",
    "So now we add together all the off-terms. The second order approximation does not adjust the first two (as expected) but it will adjust the others. However as each one only has one off-diagonal term, there is only one adjustment.\n",
    "\n",
    "$$ \\frac{4\\lambda^2}{3-7} = -\\lambda^2$$\n",
    "$$ \\frac{4\\lambda^2}{7-3} = \\lambda^2$$\n",
    "\n",
    "So what's really interesting here is that there's a half factor in part b) that's not present here, EXCEPT that's canceled out by the 2 so we have perfect agreement.\n",
    "\n",
    "This does imply that using third order perturbaiton theory would be pointless. "
   ]
  },
  {
   "cell_type": "markdown",
   "id": "47881908",
   "metadata": {},
   "source": [
    "<a id='P6'></a>\n",
    "\n",
    "# Problem 6 \\[Back to [top](#toc)\\]\n",
    "$$\\label{P6}$$\n",
    "\n",
    "*Consider a grounded conducting spherical shell of radius R, and compute the total charge on this shell under the following three conditions:*\n",
    "\n",
    "*a) A charge $q_{in}$ is placed interior to the shell at a distance $r_{in}$ from the center of the shell.*"
   ]
  },
  {
   "cell_type": "markdown",
   "id": "177bb313",
   "metadata": {},
   "source": [
    "**IMMEDIATE KNOWLEDGE**\n",
    "\n",
    "Unless I'm crazy the conductor has to match the charge of the internal charge, but opposite, in order to oppose it. The reason I know that's not it is because it's too simple... so naturally it's going to be spherical method of images. Quick lookup reveales nothing, oh boy. \n",
    "\n",
    "**QUICK LOOKUP**\n",
    "\n",
    "It is SPHERICAL method of images! Just need to know the spherical image equations! Or, alternatively, know how to derive them. The memorized version has there be an interior charge q, exterior \"image\" q', distance to q b, and distance from center to image of s.\n",
    "\n",
    "$$ b = \\frac{R^2}{s} $$\n",
    "$$ q' = -\\frac{R}{s}q = -\\frac{b}{R}q $$\n",
    "\n",
    "This effectively solves where all the images are. Invert the relations to find the interior point.\n",
    "\n",
    "Now, as this will be on an exam, we should figure out how to derive this. The biggest thing to know is that the sphere is V=0, so we need to create a situation where the spherical shell has an equipotential surface. The best way to do it is just to get the potentials on any given point and combine them.\n",
    "\n",
    "$$ \\varphi = \\frac{1}{4\\pi \\epsilon_0} \\left[ \\frac{q}{\\sqrt{s^2 + R^2 - 2sRcos\\theta}} + \\frac{q'}{\\sqrt{b^2+R^2-2bRcos\\theta}} \\right] = 0$$\n",
    "\n",
    "The terms inside are just q/r in any situation, it just so happens that r changes based on what angle we have. If we can't get the exact relation, the relations at $\\theta=0$ and $\\theta = \\pi/2$ are sufficient, which is to say, the radii simplify to either $s^2+R^2$ or $(s-R)^2$ form. Solve the equations for these and get two results. Combining these provides\n",
    "\n",
    "$$ q^2b = q'^2s $$\n",
    "\n",
    "Substitute this back into the original two to get\n",
    "\n",
    "$$sb^2 - (s^2+R^2)b + sR^2 = 0$$\n",
    "\n",
    "Which can be solved to get the b= and q'= results. Or, honestly, just memorize the spherical mirror. The relations aren't that complicated. In fact, a hint: just memorize $b=R^2/s$, the other one can be determined from common sense as the potentials at the shell have to equal zero."
   ]
  },
  {
   "cell_type": "markdown",
   "id": "d5353e43",
   "metadata": {},
   "source": [
    "ANYWAY *ahem* HERE WE GO. Now that we have the actual charges, now we can... uh... what's the charge on the conductor agian? \n",
    "\n",
    "...\n",
    "\n",
    "I mean by method of images we could find the surface charge density and then find the actual total charge by integrating but. \n",
    "\n",
    "Here's the thing. \n",
    "\n",
    "By Gauss' law the result needs to be a net neutral charge. Which means that the shell has to have -q on it. No matter what. In fact, if we add charges on the outside, the charge of the shells will just adjust.\n",
    "\n",
    "So while method of images is cool we did just waste a ton of time, we could have just jumped to the end. "
   ]
  },
  {
   "cell_type": "markdown",
   "id": "afff428e",
   "metadata": {},
   "source": [
    "*b) A charge $q_{out}$ is placed exterior to the shell at a distance $r_{out}$ from the center of the shell.*"
   ]
  },
  {
   "cell_type": "markdown",
   "id": "de90fe14",
   "metadata": {},
   "source": [
    "THE ONLY DIFFERENCE HERE is now the charge on the shell is different due to it being the reciprocal problem. We act as though a charge is inside of it and *that* charge is the one that is mirrored on the sphere's surface! AHA, found the trick! Anyway just do the relation in reverse. "
   ]
  },
  {
   "cell_type": "markdown",
   "id": "ec396aaa",
   "metadata": {},
   "source": [
    "*c) Three charges are palced eitehr inside or outside the shell at hte locations indicated in the figure.*\n",
    "\n",
    "**DIAGRAM:** *The figure shows three charges, one inside a shell, two outside the shell. Each are at their own different unique position, and the two exterior ones are at different distances.*"
   ]
  },
  {
   "cell_type": "markdown",
   "id": "8bc629cc",
   "metadata": {},
   "source": [
    "Treat each individual charge separately, mirror them all, count up the charge inside the spehre's bounds at the end. That'll be the charge on the sphere. "
   ]
  },
  {
   "cell_type": "markdown",
   "id": "c53d667d",
   "metadata": {},
   "source": [
    "<a id='P7'></a>\n",
    "\n",
    "# Problem 7 \\[Back to [top](#toc)\\]\n",
    "$$\\label{P7}$$\n",
    "\n",
    "*a) A wire carries a constant current I down the z-axis, while two other wires parallel to the z-axis are located at x = $\\pm$ d and each carries a current I/2 in the opposite direction (see figure). Compute the leading-order combined magnetic fields of this system along the y and x axes where x>>d and y>>d. Based on these calculations how does the azimuthal component of hte field depend on $\\phi$ at large values of $\\rho = \\sqrt{x^2+y^2}$ (i.e. does it go like cos($m\\phi$) or sin($m\\phi$) for particular value of m)?*"
   ]
  },
  {
   "cell_type": "markdown",
   "id": "5c38d975",
   "metadata": {},
   "source": [
    "**QUICK LOOKUP**\n",
    "\n",
    "Okay so this is just adding a bunchy of magnetic fields since all the currents are constant. We can do this. \n",
    "\n",
    "The magnetic field for a line current is:\n",
    "\n",
    "$$ \\vec B = \\frac{\\mu_0 I}{2\\pi r} \\hat \\phi $$ \n",
    "\n",
    "We'll need this in cartesian though, so we have\n",
    "\n",
    "$$ \\vec B = \\frac{\\mu_0 I}{2\\pi r} (cos\\phi \\hat y - sin\\phi \\hat x) $$ \n",
    "\n",
    "$$ \\vec B = \\frac{\\mu_0 I}{2\\pi r} (\\frac xr \\hat y - \\frac yr \\hat x) $$ \n",
    "\n",
    "$$ \\vec B = \\frac{\\mu_0 I}{2\\pi r^2} (x \\hat y - y \\hat x) $$ "
   ]
  },
  {
   "cell_type": "markdown",
   "id": "70078341",
   "metadata": {},
   "source": [
    "Now this is just the centered wire. All the other wires are goign the other way, so replace I with -I/2, and then do a *coordinate transformation* for them. Remember, r = $\\sqrt{x^2 + y^2}$! That transformation has to be done as well!\n",
    "\n",
    "$$ \\vec B = -\\frac{\\mu_0 I}{4\\pi ((x\\pm d)^2+y^2)} ((x \\pm d) \\hat y - y \\hat x) $$ \n",
    "\n",
    "So the total field is...\n",
    "\n",
    "$$ \\vec B =\\frac{\\mu_0 I}{2\\pi (x^2+y^2)} (x \\hat y - y \\hat x) - \\frac{\\mu_0 I}{4\\pi ((x-d)^2+y^2)} ((x - d) \\hat y - y \\hat x) - \\frac{\\mu_0 I}{4\\pi ((x+d)^2+y^2)} ((x + d) \\hat y - y \\hat x)  $$\n",
    "\n",
    "$$ \\vec B =\\frac{\\mu_0 I}{2\\pi} \\left[ \\frac{1}{(x^2+y^2)} (x \\hat y - y \\hat x) - \\frac{1}{2((x-d)^2+y^2)} ((x - d) \\hat y - y \\hat x) - \\frac{1}{2((x+d)^2+y^2)} ((x + d) \\hat y - y \\hat x) \\right] $$"
   ]
  },
  {
   "cell_type": "markdown",
   "id": "deee0100",
   "metadata": {},
   "source": [
    "Fortunately for us, we don't need to worry about the field near the wires, only really far away *and* on the axis. Let's set y to zero first.\n",
    "\n",
    "$$ \\vec B =\\frac{\\mu_0 I}{2\\pi} \\left[ \\frac{1}{(x^2)} (x \\hat y) - \\frac{1}{2((x-d)^2)} ((x - d) \\hat y) -\\frac{1}{2((x+d)^2)} ((x + d) \\hat y) \\right] $$\n",
    "\n",
    "As expected only y components remain, sensible directionality. Now, we set x >> d. except, whoops, this results in full-scale cancelation, so we need another order, say, 1 >> $d^2/x^2$. Which means it's time for some *expansions*.\n",
    "\n",
    "$$ \\vec B =\\frac{\\mu_0 I}{2\\pi} \\left[ \\frac{1}{(x)} ( \\hat y) - \\frac{1}{2((x^2-2xd+d^2))} ((x - d) \\hat y) -\\frac{1}{2((x^2+2xd+d^2)^2)} ((x + d) \\hat y) \\right] $$"
   ]
  },
  {
   "cell_type": "markdown",
   "id": "ba4f9839",
   "metadata": {},
   "source": [
    "$$ \\vec B =\\frac{\\mu_0 I}{2\\pi} \\left[ \\frac{1}{(x)} ( \\hat y) - \\frac{x-d}{2x^2((1-2d/x+d^2/x^2))} ( \\hat y) - \\frac{x+d}{2x^2((1+2d/x+d^2/x^2))} ( \\hat y) \\right] $$\n",
    "\n",
    "$$ \\vec B =\\frac{\\mu_0 I}{2\\pi} \\left[ \\frac{1}{(x)} ( \\hat y) - \\frac{x-d}{2x^2((1-2d/x))} ( \\hat y) - \\frac{x+d}{2x^2((1+2d/x))} ( \\hat y) \\right] $$\n",
    "\n",
    "$$ \\vec B =\\frac{\\mu_0 I}{2\\pi} \\left[ \\frac{1}{(x)} ( \\hat y) - \\frac{x-d}{2(x^2-2dx)} ( \\hat y) - \\frac{x+d}{2(x^2+2dx)} ( \\hat y) \\right] $$"
   ]
  },
  {
   "cell_type": "markdown",
   "id": "07f360a1",
   "metadata": {},
   "source": [
    "And that's at very large x. What of very large y? Well, set x to zero...\n",
    "\n",
    "$$ \\vec B =\\frac{\\mu_0 I}{2\\pi} \\left[ \\frac{1}{(y^2)} (- y \\hat x) - \\frac{1}{2(d^2+y^2)} (-d \\hat y - y \\hat x) - \\frac{1}{2(d^2+y^2)} (d \\hat y - y \\hat x) \\right] $$\n",
    "\n",
    "Hmm, those y componetns cancel exactly, as expected. Also the remaining terms combine. \n",
    "\n",
    "$$ \\vec B =\\frac{\\mu_0 I}{2\\pi} \\left[ \\frac{1}{(y^2)} (- y \\hat x) - \\frac{1}{(d^2+y^2)} ( - y \\hat x) \\right] $$\n",
    "\n",
    "To first order this goes to zero. But it also goes to zero to second order! Goodness! And it's already *at* third order approximation. Well! Now if we consider the leading order from the previous part to be the same leading order here, it's just 0.\n",
    "\n",
    "Now the fact that one has an entire order higher than the previous one indicates that we are on a cosine situation. When at large distances in x the magnetic field is strong, but when in y it is weak, specificlaly a form $cos(\\phi)$, with m=1, as we hit the high twice as we move around. \n",
    "\n",
    "naturally for the second part of this problem it'll be $cos(2\\phi)$ as we now will hit both sides, but let's actually use our arguments there."
   ]
  },
  {
   "cell_type": "markdown",
   "id": "aefe87d1",
   "metadata": {},
   "source": [
    "*b) A wire carries a constant current I down the z axis, while four other wires parallel to the z axis are located at x=$\\pm$d and y=$\\pm$d and each carries the current I/4 in teh opposite direction (see figure). Compute the leading-order combined magnetic fields of this system along x axis where y>>d. Based on these calculations how does the azimuthal component of hte field dpeend on $\\phi$ at large values of $\\rho=\\sqrt{x^2+y^2}$.(i.e. does it go like cos($m\\phi$) or sin($m\\phi$) for particular value of m)?*\n",
    "\n",
    "**DIAGRAM:** *Two figures, one for each of the above situations. Diagram one is three wires in a line, diagram two is a plus shape of wires.*"
   ]
  },
  {
   "cell_type": "markdown",
   "id": "1e697718",
   "metadata": {},
   "source": [
    "You know what, we can actually determine the cosine form *algorithmically* here. First of all, we know from the previous part that the \"flat\" arrangement and the \"in line\" arrangement have different orders. A line will have a second order term, but the flat will only have a third-order term in this arrangement. Thus we can say for sure that we have $cos(2\\phi)$ as the form of the field. HOWEVER, the fact that the in-line fields do nto cancel the cnetral one entirely interfere with this. "
   ]
  },
  {
   "cell_type": "markdown",
   "id": "3dba7fb8",
   "metadata": {},
   "source": [
    "But we can still know that the in-line ones provide an order more of pwoer than the flat ones. Which means... aha! The leading-order term will always *ignore* the flat ones! Thus, the form will be like the x-axis in both cases, just with weaker field. \n",
    "\n",
    "$$ \\vec B =\\frac{\\mu_0 I}{2\\pi} \\left[ \\frac{1}{(x)} ( \\hat y) - \\frac{x-d}{4(x^2-2dx)} ( \\hat y) - \\frac{x+d}{4(x^2+2dx)} ( \\hat y) \\right] $$\n",
    "\n",
    "Replace x with y for the other viewpoint. Only real change is 1/4. "
   ]
  },
  {
   "cell_type": "markdown",
   "id": "7caadb7b",
   "metadata": {},
   "source": [
    "<a id='P8'></a>\n",
    "\n",
    "# Problem 8 \\[Back to [top](#toc)\\]\n",
    "$$\\label{P8}$$\n",
    "\n",
    "*Consider a three-phase transmission line consisting of three concentric conductors, as shown in the figure. THe spaces between teh conductors are empty and the currents carried by the three conductors are:*\n",
    "\n",
    "$$ I_1 = I_0 cos(kx-\\omega t) $$\n",
    "$$ I_2 = I_0 cos(kz - \\omega t + 2\\pi/3) $$\n",
    "$$ I_3 = I_0 cos(kz - \\omega t + 4\\pi/3) $$\n",
    "\n",
    "*a) Compute the electric and magnetic fields of the TEM wave propogating down this wire for all three regions.*"
   ]
  },
  {
   "cell_type": "markdown",
   "id": "f49effa6",
   "metadata": {},
   "source": [
    "So, since the electric currents are being FORCED, the induced current is not a concern--whatever current is induced is going to either be part of the current or pushed aside by the driving current. In short, this is not an induction problem. \n",
    "\n",
    "We are also told the waves are TEM, so we know we have radial and circulating symmetry. Also due to the shape of the wires we can use\n",
    "\n",
    "$$ \\vec B = \\frac{\\mu_0 I}{2\\pi r} \\hat \\phi $$\n",
    "\n",
    "So this is the field outside the pipes. Inside we suspect they are zero, but let's just check to make sure... yeah quick lookup confirms, the actual field only arises due to interior wires. \n",
    "\n",
    "There is a minor awkwardness to this, though. There are actually four regions of field-- outside all three, outside two, outside one, and then inside the first because it's not hollow, it's solid. So we aren't sure what the problem exactly is asking for in regards to this, though a TEM wave can't relaly be said to be \"propogating\" on the outside. Regardless, we'll still solve all four. Region I is the center, region IV is the exteiror. \n",
    "\n",
    "For our interior we will need magnetic field that scales with radius, which basically just means a scaling factor to make the total current be relative to the interior cross section. Or...\n",
    "\n",
    "$$ \\vec B_I = \\frac{\\mu_0 I_1 r^2/r_1^2}{2\\pi r} \\hat \\phi = \\frac{\\mu_0 I_1 r}{2\\pi r_1^2} \\hat \\phi $$\n",
    "\n",
    "And then regions II, III, and IV are just additions of the interior fields. All of which will act completley in the $\\hat \\phi$ direction, circulating, which means the E fields will be radial. Neat!\n",
    "\n",
    "$$ \\vec B_{II} = \\frac{\\mu_0 I_1}{2\\pi r} \\hat \\phi $$\n",
    "\n",
    "$$ \\vec B_{III} = \\frac{\\mu_0 (I_1+I_2)}{2\\pi r} \\hat \\phi $$\n",
    "\n",
    "$$ \\vec B_{IV} = \\frac{\\mu_0 (I_1+I_2+I_3)}{2\\pi r} \\hat \\phi $$\n",
    "\n",
    "One may ask, why are we sure the magnetic fields are just additive? Well, because the currents *cannot* be changed, they are being forced. Now, we know the electric fields are going to have similar forms, and will be *radial* in direction. To figure out the specifics, though, we should go for maxwell's equations in free space.\n",
    "\n"
   ]
  },
  {
   "cell_type": "markdown",
   "id": "b2409cfd",
   "metadata": {},
   "source": [
    "Okay I'm having doubts so let's examine this a little closer. A wire carrying an alternating current I has no charge density, so Maxwell's Equations are:\n",
    "\n",
    "$$\\nabla \\cdot E = \\nabla \\cdot B = 0$$\n",
    "$$\\nabla \\times E = -\\frac{\\partial\\vec B}{\\partial t}$$\n",
    "$$\\nabla \\times B = \\mu_0 \\vec j + \\frac{1}{c^2}\\frac{\\partial\\vec E}{\\partial t}$$\n",
    "\n",
    "In our case current density is some $I_t \\hat z$, for cylindrical coordinates (or cartesian if we want to do it that way). However, examining the book on page 668 indicates that we use the equations for free space for a coaxial cable, the I pops out without that. WE are unsure why, but I *think* it's because the areas between the cables are free space, and the parts that are sources are not where the TEM wave actually travels. This, fortunately, means:\n",
    "\n",
    "$$\\nabla \\cdot E = \\nabla \\cdot B = 0$$\n",
    "$$\\nabla \\times E = -\\frac{\\partial\\vec B}{\\partial t}$$\n",
    "$$\\nabla \\times B = \\frac{1}{c^2}\\frac{\\partial\\vec E}{\\partial t}$$\n",
    "\n",
    "Which, you know, the relation like this or very similar to this would have to be true in order for what we observe to be an actual legitimate TEM wave. If they weren't in synch it wouldn't be a wave! Actually yes the equations would reduce to this everywhere except on the boundaries, which we can handle separately.\n",
    "\n",
    "The FULL realization of this requires at least having some idea how the cylindrical curl formula works. Fortunately since we can deduce hte direction of E as purely radial and know B is rotational, the relaiton is direct. \n",
    "\n",
    "$$ \\nabla \\times \\vec E = \\frac{\\partial \\vec E}{\\partial z} \\hat \\phi = -\\frac{\\partial \\vec B}{\\partial t} $$\n",
    "\n",
    "Anyway, from logic we know E has the same cos form as B does, just with a different leading coefficient. B provides $-\\omega$ to the mix, and E provides k. So the result needs to be $\\omega/k$, or...\n",
    "\n",
    "$$ \\vec E_I = \\frac{\\omega}{k} \\frac{\\mu_0  I_1 r}{2\\pi r_1^2} \\hat r $$\n",
    "\n",
    "$$ \\vec E_{II} = \\frac{\\omega}{k}\\frac{\\mu_0 I_1}{2\\pi r} \\hat r $$\n",
    "\n",
    "$$ \\vec E_{III} =\\frac{\\omega}{k} \\frac{\\mu_0 (I_1+I_2)}{2\\pi r} \\hat r $$\n",
    "\n",
    "$$ \\vec E_{IV} = \\frac{\\omega}{k}\\frac{\\mu_0 (I_1+I_2+I_3)}{2\\pi r} \\hat r $$\n",
    "\n",
    "Now part of me thinks we have to figure out how to connect thigns at the boundaries, except... we don't have any undefined constants, everything just appears to *be*. The one that's questionable is the magnetic field interior to the first one, but we *know* that inteiror field works due to Gauss' law, and the electric field only depends on the magnetic field. (In fact we could have applied this argument to all the coaxial cables, just treating them as various shells of current... ugh.)\n",
    "\n",
    "Anyway, all of these TEM waves are good. Are the signs right? Well, when I is positive, power flows in the z direction for each current individually. E cross B should give this value, and the radial outward and counterclowckwise directions do, in fact, cross to go \"up\" in z, so the signs are good. "
   ]
  },
  {
   "cell_type": "markdown",
   "id": "8119f7f8",
   "metadata": {},
   "source": [
    "*b) Compute the total power carri8ed down this cable by the electromagnetic wave.*\n",
    "\n",
    "**DIAGRAM:** *Figure shows a solid dot of r1, and two rings around it of r2 and r3 respectively.*"
   ]
  },
  {
   "cell_type": "markdown",
   "id": "832d629d",
   "metadata": {},
   "source": [
    "This is presumably going to involve the Poynting Vector. Let's see. Naturally we also want time averaged power to get something constant. This turns out to be very simple:\n",
    "\n",
    "$$ \\vec P = \\int <\\vec S> dA $$\n",
    "\n",
    "So integrate the (average) Poynting Vector over a cross section to get what we want. \n",
    "\n",
    "$$ \\vec S = \\mu_0 (\\vec E \\times \\vec B)$$\n",
    "\n",
    "Now because E is always radial and B is always cycling, we know the Poynting vector is carrying power directly forward. Cylindrical coors are probably best, so it's the +z direction. As for the magnitude...\n",
    "\n",
    "$$ \\vec S_I = \\frac{\\mu_0 \\omega I_1^2 r^2}{4k\\pi^2 r_1^4} \\hat z $$\n",
    "\n",
    "$$ \\vec S_{II} = \\frac{\\mu_0 \\omega I_1^2}{4k\\pi^2 r^2} \\hat z $$\n",
    "\n",
    "$$ \\vec S_{III} = \\frac{\\mu_0 \\omega (I_1+I_2)^2}{4k\\pi^2 r^2} \\hat z $$\n",
    "\n",
    "$$ \\vec S_{IV} = \\frac{\\mu_0 \\omega (I_1+I_2+I_3)^2}{4k\\pi^2 r^2} \\hat z $$"
   ]
  },
  {
   "cell_type": "markdown",
   "id": "8d8ac5a0",
   "metadata": {},
   "source": [
    "So there's a lot of stuff here. First, the time averages. everything here is going to be in temrs of sin and cos. sin and cos in isolation have 0 as the average value, but the combinations... coscos averages of the same argument are 1/2 on the time average. However, there are *other* arguments involved. \n",
    "\n",
    "Regardless from this we can easily just read out the time averaged poynting vector for I and II. However, III and IV will have mixed arguments that will take closer examination.\n",
    "\n",
    "The parts that are the *same* argument will simply evaluate to 1/2 as usual, so that would be the \"diagonals\" if this were a matrix, adding to a total of 1. However, the off-diagonals are:\n",
    "\n",
    "$$ I_0^2 cos(kx-\\omega t)cos(kz - \\omega t + 2\\pi/3) = I_0^2 \\frac12 (cos(-2\\pi/3) + cos(2kz-2\\omega t + 2\\pi/3))$$\n",
    "\n",
    "Note that there's a time-varrying part and a non-time varrying part. The time varrying part will average out to 0, but the *other* part... That's -1/2, which beocmes -1/4 due to the leading half term on the relation. So what we have is +1/2 +1/2 -1/4 -1/4 is 1/2! Same as the previous ones! \n",
    "\n",
    "So now we think of the 3x3 case. It contains the 2x2, 1/2. It also contains another diagonal term, which is also 1/2. But what of the two other diagonals? Well, one of them is just the first cirrent mixed with the third, which has the phase factor $4\\pi/3$. Cosine is symmetric about 0 and $\\pi$ so this causes no difference whatsoever, the result is -1/4. This also occurs for 2 and 3's mixture, as their combination can be offset by a factor of $2\\pi/3$ and become identical. Thus, we end up with six off-diagonal elements of -1/4 and three diagonal elements of 1/2... which means exterior of the wire there is nothing! Which means this is a well designed system!"
   ]
  },
  {
   "cell_type": "markdown",
   "id": "a43cd8d8",
   "metadata": {},
   "source": [
    "$$ <\\vec S_I> = \\frac{\\mu_0 \\omega I_0^2 r^2}{8k\\pi^2 r_1^4} \\hat z $$\n",
    "\n",
    "$$ <\\vec S_{II}> = \\frac{\\mu_0 \\omega I_0^2} {8k\\pi^2 r^2} \\hat z $$\n",
    "\n",
    "$$ <\\vec S_{III}> = \\frac{\\mu_0 \\omega I_0^2}{8k\\pi^2 r^2} \\hat z $$\n",
    "\n",
    "$$ <\\vec S_{IV}> = 0 $$"
   ]
  },
  {
   "cell_type": "markdown",
   "id": "1c22d5f8",
   "metadata": {},
   "source": [
    "Sadly, though, to get actual *power* we still need our integral.\n",
    "\n",
    "$$ \\vec P = \\int <\\vec S> dA $$\n",
    "\n",
    "The cross sectional area will be rings, and as we have no angular dependence, we can just pull out a factor of $2\\pi$. Thus the integral is done over eitehr $r^2$ or $1/r^2$, which are both somewaht simple forms. \n",
    "\n",
    "$$ <\\vec P_I> = \\frac{\\mu_0 \\omega I_0^2 }{24k\\pi^2 r_1} \\hat z $$\n",
    "\n",
    "$$ <\\vec P_{II}> = \\frac{\\mu_0 \\omega I_0^2} {8k\\pi^2} \\left[ \\frac{1}{r_1} - \\frac{1}{r_2} \\right] \\hat z $$\n",
    "\n",
    "$$ <\\vec P_{III}> = \\frac{\\mu_0 \\omega I_0^2}{8k\\pi^2} \\left[ \\frac{1}{r_2} - \\frac{1}{r_3} \\right] \\hat z $$\n",
    "\n",
    "$$ <\\vec P_{IV}> = 0 $$"
   ]
  },
  {
   "cell_type": "markdown",
   "id": "cbd69c04",
   "metadata": {},
   "source": [
    "<a id='P9'></a>\n",
    "\n",
    "# Problem 9 \\[Back to [top](#toc)\\]\n",
    "$$\\label{P9}$$\n",
    "\n",
    "*a) A point mass of mass m moves along the x-axis under the influence of a conservative force derivable from the potential energy V(x)*\n",
    "\n",
    "$$ \\frac12 m\\omega^2 (x+a)^2 \\text{ for } x\\leq -a $$\n",
    "$$ 0 \\text{ for } -a < x < a $$\n",
    "$$ \\frac12 m\\omega^2 (x-a)^2 \\text{ for } x \\geq a $$\n",
    "\n",
    "*with a a positive constant. The system is in contact, with a reservoir at temperature T. From the canonical partition function, find the internal energy. What is the internal energy in the limit of a approaching 0?*"
   ]
  },
  {
   "cell_type": "markdown",
   "id": "3367d968",
   "metadata": {},
   "source": [
    "The important thing to remember here is:\n",
    "\n",
    "$$ F = -\\frac{dU}{dx} $$\n",
    "\n",
    "So we have the potential energy, and we can rather easily just take the negative derivative to get the force.\n",
    "\n",
    "$$ -m\\omega^2 (x+a) \\text{ for } x\\leq -a $$\n",
    "$$ 0 \\text{ for } -a < x < a $$\n",
    "$$ -m\\omega^2 (x-a) \\text{ for } x \\geq a $$\n",
    "\n",
    "So now we have both potential energy at each location and a force value. We need to find the internal energy from the canonical partition function. Question is, what exactly is the canonical partition function?"
   ]
  },
  {
   "cell_type": "markdown",
   "id": "d0868a27",
   "metadata": {},
   "source": [
    "It all arises from the Boltzmann Distribution Fucntion, $\\mathcal P(s) = \\frac1Z e^{-E(s)/kT}$. Which is so important it apparenly should be memorized. Basically, this equation correlates a probability of a certain state s. It is, in essence, the normalizing factor that makes it so all states s can be integrated to 1 for the total probability. \n",
    "\n",
    "In general:\n",
    "\n",
    "$$ Z = \\sum_s e^{-E(s)/kT} $$\n",
    "\n",
    "Which is a rather obvious normalization. Not that it's one particuarly easy to *calculate*, but it is what it is. Every state s has a probability, and usual probability rules apply. \n",
    "\n",
    "The *canonical* partition function is a partition function specifically for the canonical ensemble, which is noted above. So, technically, we have everything we should need, one would think. Except we have a probability, and not a measure of internal energy. \n",
    "\n",
    "One thing we can do is convert the sum to an integral since obviously our energies are going to be over the variable x. \n",
    "\n",
    "$$ Z = \\int_{-\\infty}^\\infty e^{-E(x)/kT} dx $$\n",
    "\n",
    "fun fact: 1/kT can also be written as $\\beta$ to save space, if desired. "
   ]
  },
  {
   "cell_type": "markdown",
   "id": "b00d97ba",
   "metadata": {},
   "source": [
    "Anyway, we can do some quick math. The total energy will be kintic plus potential energy. We have potential given to us by our expression, and kinetic for one particle is just $\\frac{p^2}{2m}$ with p being the momentum. (it can also be $\\frac12 m v^2$ but we'll be using momentum to play nicer wtih the way people tend to work with partition fucntions). \n",
    "\n",
    "First of all, the above integral is actually incorrect. To integrate a partition function one needs to go over phase space, which includes both the actual coordinate q (x) and its momentum p. The full relation we need is:\n",
    "\n",
    "$$ d(everything) = \\frac{d\\omega}{N!h^{3N}} $$\n",
    "\n",
    "Though in our case we only have one particle so N vanishes to simply be\n",
    "\n",
    "$$ \\frac{d\\omega}{h} $$\n",
    "\n",
    "So the *actual* integral can be written as\n",
    "\n",
    "$$ Z = \\frac{1}{h} \\int e^{-E(x,p)/kT} d\\omega $$"
   ]
  },
  {
   "cell_type": "markdown",
   "id": "0bc3c5e1",
   "metadata": {},
   "source": [
    "Now to actually integrate we need to go over all momentum and all position possibilities. \n",
    "\n",
    "$$ Z = \\frac{1}{h} \\int e^{-\\left( \\frac{p^2}{2m} + V(x) \\right)/kT} dxdp $$\n",
    "\n",
    "Which is a bit awkward. But we can use it:\n",
    "\n",
    "$$ U = -\\left[ \\frac{\\partial}{\\partial \\beta} lnZ \\right]_{E_r} $$\n",
    "\n",
    "Though this is just the *average* energy, which is equal to the *most likely* energy. But is this the true internal energy? Well... the internal energy is all energy that isn't the *kinetic* energy. So the partition function we actually need to deal with just concerns itself with the internals! \n",
    "\n",
    "$$ Z = \\frac{1}{h} \\int e^{-V(x)/kT} dxdp $$\n",
    "\n",
    "Work does indicate that the value we are looking for now is the average energy of just this part of the partition function. So our final thing we need is:\n",
    "\n",
    "$$ U = -\\frac{\\partial}{\\partial \\beta} ln \\left[\\frac{1}{h} \\int e^{-V(x)\\beta} dxdp\\right] $$"
   ]
  },
  {
   "cell_type": "markdown",
   "id": "dc8ed3bc",
   "metadata": {},
   "source": [
    "The trick now is... how on earth do we actually do this integral? The integral over x is fine enough, just integrate from negative to positive infinity. It's the integral over *momentum* that's the issue. We have no limits on momentum so it can go to infinity, it seems. What do we do?\n",
    "\n",
    "Well, we need to realize that earlier we messed up a bit. We stated that we needed to integrate over all phase space, when what we actually needed to integrate over was all possible *states*, s. Now if the states we cared about depended on both p and x this would be different, but they depend only on x. Since we're finding just the internal energy, we can do that--the total energy would also need to be done over momentum. In fact, we can see this because in the full case we would have a momentum-dependent exponential times a position-dependent potential, each one could be pulled out of the other's integral just fine, and so they could be integrated separately and independently.\n",
    "\n",
    "That said even with this realization the situation isn't exactly neat.\n",
    "\n",
    "$$ U = -\\frac{\\partial}{\\partial \\beta} ln \\left[\\frac{1}{h} \\int_{-\\infty}^\\infty e^{-V(x)\\beta} dx\\right] $$"
   ]
  },
  {
   "cell_type": "markdown",
   "id": "71d29b30",
   "metadata": {},
   "source": [
    "Let's take the integral. Remember, V(x) is...\n",
    "\n",
    "$$ \\frac12 m\\omega^2 (x+a)^2 \\text{ for } x\\leq -a $$\n",
    "$$ 0 \\text{ for } -a < x < a $$\n",
    "$$ \\frac12 m\\omega^2 (x-a)^2 \\text{ for } x \\geq a $$\n",
    "\n",
    "Now, we need to think a little carefully here. What we have here are *offset gaussians*, which means actually integrating them mechanically is a bad idea. However, one thing we can say is that they are offset *symmetrically*, so the left side and the right side provide half of a gaussian in integration, so together they would simply be the total integral of\n",
    "\n",
    "$$ e^{-\\frac12 m\\omega^2 x^2\\beta} $$\n",
    "\n",
    "With an additional contribution from the center, which would just be e to 0, aka 1, which integrates to the legth of our \"hump\" 2a. So our integral is 2a plus the gaussian contribution. However, what is the Gaussian Integral?\n",
    "\n",
    "Well, if we can memorize it, $\\sqrt{\\frac{\\pi}{a}}$ where a is the leading contant. For our integral this is somewaht complicated, so we end up with:\n",
    "\n",
    "$$ \\sqrt{\\frac{2 \\pi}{m\\omega^2 \\beta}} $$\n",
    "\n",
    "So the total integral is\n",
    "\n",
    "$$ 2a + \\sqrt{\\frac{2 \\pi}{m\\omega^2 \\beta}} $$\n",
    "\n",
    "And our calculation is now:\n",
    "\n",
    "$$ U = -\\frac{\\partial}{\\partial \\beta} ln \\left[\\frac{2a}{h} + \\sqrt{\\frac{2 \\pi}{h^2m\\omega^2 \\beta}} \\right] $$"
   ]
  },
  {
   "cell_type": "markdown",
   "id": "b7f6dd56",
   "metadata": {},
   "source": [
    "Chain rule can evaluate at this point, lnx goes to 1/x so we have:\n",
    "\n",
    "$$ U = -\\frac{1}{\\frac{2a}{h} + \\sqrt{\\frac{2 \\pi}{h^2m\\omega^2 \\beta}}}\\sqrt{\\frac{h^2m\\omega^2 \\beta}{2 \\pi}} \\frac{1}{2} \\frac{-2 \\pi}{h^2m\\omega^2 \\beta^2} $$\n",
    "\n",
    "Signs cancel, making it positive. Good.\n",
    "\n",
    "$$ U = \\frac{1}{\\frac{2a}{h} + \\sqrt{\\frac{2 \\pi}{h^2m\\omega^2 \\beta}}}\\sqrt{\\frac{h^2m\\omega^2 \\beta}{2 \\pi}} \\frac{1}{2} \\frac{2 \\pi}{h^2m\\omega^2 \\beta^2} $$\n",
    "\n",
    "And technically this is our answer. If we set a=0 it simplifies further.\n",
    "\n",
    "$$ U = \\frac{1}{\\sqrt{\\frac{2 \\pi}{h^2m\\omega^2 \\beta}}}\\sqrt{\\frac{h^2m\\omega^2 \\beta}{2 \\pi}} \\frac{1}{2} \\frac{2 \\pi}{h^2m\\omega^2 \\beta^2} $$\n",
    "\n",
    "Of note: we probably actually don't need h sicne we did not acutally *integrate over all of parameter space.*\n",
    "\n",
    "$$ U = \\frac{1}{\\frac{2 \\pi}{h^2m\\omega^2 \\beta}}\\frac{1}{2} \\frac{2 \\pi}{h^2m\\omega^2 \\beta^2} $$\n",
    "\n",
    "$$ U = \\frac{1}{2}kT $$\n",
    "\n",
    "Huh... would you look at that. Fascinating. This is a clear manifestation of the Equipartition Theorem with a single degree of freedom. Seeing as we specifically left off the momentum coordiante and were only working with x, this makes perfect sense. "
   ]
  },
  {
   "cell_type": "markdown",
   "id": "fdbc6714",
   "metadata": {},
   "source": [
    "*b) A system has two energy levels, one with energy $E_1$ and degenreacy $g_1$, the other with energy $E_2$ and degeneracy $g_2$. Find the entropy S in terms of k (the Boltzman constant), $g_1, g_2, p_1,$ and $p_2$, where $p_i(i = 1,2)$ is the probability that the system is found in the $i^{th}$ energy level.*"
   ]
  },
  {
   "cell_type": "markdown",
   "id": "584f0060",
   "metadata": {},
   "source": [
    "So, in genreal if we wish to find an entropy from a partition function we use the relation:\n",
    "\n",
    "$$ S = -\\left( \\frac{\\partial F}{\\partial T} \\right)_{V,N} $$\n",
    "\n",
    "F is the Helmholtz free energy, which has the genreal form:\n",
    "\n",
    "$$ -kTln(Z) $$\n",
    "\n",
    "Now from before we know that Z does in fact depend on temperature, so this is probably going to be slightly annoying. Furthermore, the partition function uses energy values, but we are told to use only probabilities and degeneracy numbers, so we may have to make some substitutions. \n",
    "\n",
    "As a reminder the probabilities can be attained easily from the Botlzmann Distribution Function\n",
    "\n",
    "$$\\mathcal P(s) = \\frac1Z e^{-E(s)/kT}$$\n",
    "\n",
    "Including degeneracies this is\n",
    "\n",
    "$$\\mathcal P(s) = \\frac1Z g_s e^{-E_s/kT}$$\n",
    "$$ Z = \\sum_s g_s e^{-E_s/kT} $$\n"
   ]
  },
  {
   "cell_type": "markdown",
   "id": "b6e021a0",
   "metadata": {},
   "source": [
    "Wait, hold on... don't we just have a direct relation for this?\n",
    "\n",
    "$$ S = -k\\sum_i p_i ln p_i  $$\n",
    "\n",
    "Which is already in the terms we would want. Is there any reason at all the equation would be different for a degenerate system? Let's go ahead and derive from scratch. The entroy from F still holds, the question remains: Does F still get defined the same way? Yes! Degeneracy does not change F = -kTlnZ, rest easy. (The derivation is not simple, requires the backward differentiation of a series of lns, but the addition of a constant degeneracy to each term has no effect beyond changing Z itself.)\n",
    "\n",
    "However the derivation of the above probability rule does NOT hold. See:\n",
    "\n",
    "$$ \\langle ln p_i \\rangle = -lnZ -\\langle E_i \\rangle/kT + lng_i $$\n",
    "$$ = (F-U)/kT + lng_i = -S/k+lng_i $$\n",
    "\n",
    "There is now an extra degeneracy term here. So we end up with an extra final term:\n",
    "\n",
    "$$ S = k lng_i - k \\langle ln p_i \\rangle $$\n",
    "$$ S = k lng_i - k \\sum p_i ln p_i $$\n",
    "\n",
    "Which is in the form that was desired.\n",
    "\n",
    "Note: without memory of the final form, re-deriving this depends on finding out (F-U)/kT equaling -S/k. This is derived from U = F + TS, which is just one of those relations to just cram into your head as much as possible. In fact now's probably a good time to label the primary forms of stuff: U, F, H, and G. \n",
    "\n",
    "F = U-TS\n",
    "\n",
    "H = U+PV\n",
    "\n",
    "G = U - TS + PV\n",
    "\n",
    "Now U has a much more intiutive meaning as it is just the internal energy, hence why the expectation of the energy above just flat *is* U. \n",
    "\n",
    "Another fun day in statmech. "
   ]
  },
  {
   "cell_type": "markdown",
   "id": "9e42f28c",
   "metadata": {},
   "source": [
    "<a id='P10'></a>\n",
    "\n",
    "# Problem 10 \\[Back to [top](#toc)\\]\n",
    "$$\\label{P10}$$\n",
    "\n",
    "*Parts a) and b) are independent.*\n",
    "\n",
    "*a) Use contour integration in teh complex plane to evaluate*\n",
    "\n",
    "$$ \\int_0^\\infty \\frac{cosx}{coshx} dx $$"
   ]
  },
  {
   "cell_type": "markdown",
   "id": "77b1cd75",
   "metadata": {},
   "source": [
    "**FINAL RUN WHATEVER**\n",
    "\n",
    "OKAY so this was a pain, the technique required is *Rectangular Contour Integration* which is NOT present in my mathematical textbook, YAY! (Though base contour integration is).\n",
    "\n",
    "In essence, we don't integrate around a circular contour, but a rectangular one. The ends of the rectangle are sent to infinity, while one of the other sides is on the axis and the other is placed somewhere in complex space. THe one on the axis is the one we want to find, but the one in complex space is going to be set to a very specific value to make it possible to relate it back: in the a+bi form, it will sit at b=2$\\pi$ so we can take advantage of the cyclic nature of cosh in exponential form. \n",
    "\n",
    "So first let's justify the ends of the rectangle integrating to zero. This is actually somewhat easy, just examine the exponential form of cosh: $\\frac12 (e^z+e^{-z})$. If we add an imaginary component of $2\\pi i$ the exponentials will just cycle back to where they started, and the definition does not change, and at very large values of z cosh is gonna overblow and thus reduce the value to zero at the ends. Technically speaking this only happens at the ends, what of the other values of i we pass through? Well, the imaginary exponentials are limited in value to plus or minus one, meanwhile the part that explodes still explodes and no one cares. This will apply if we go up *or* down.\n",
    "\n",
    "Anyway, ENDS OF THE RECTANGLE ARE NOTHING. As for the edges? Well, the bottom one is just the integral we want (though doubled in size, be careful). The top one is:\n",
    "\n",
    "$$ \\int_{\\infty}^{-\\infty} \\frac{cos(x+2\\pi i)}{cosh(x+2\\pi i)} dx$$\n",
    "\n",
    "We just discussed why cosh doesn't care at all about this, but how does cos change with this adjustment?\n",
    "\n",
    "$$ \\int_{\\infty}^{-\\infty} \\frac{e^{ix}e^{-2\\pi} + e^{-ix}e^{2\\pi}}{cosh(x)} dx$$\n",
    "\n",
    "ANyway, we're using a contour, so we need to consider poles. Do we have any? ACTUALLY YES! cosh(x) does have a few in the complex plane, anywhere that the cycling angles are inverted on the two sides will cancel. Which means the 90 and -90 \"degree\" angles with no real component, as the real parts have opposite exponent sign. aka, poles of $\\pi i/2, 3\\pi i/2.$\n",
    "\n",
    "So now that we have poles we need to find the *residues* which is going to be a pain since we can't just divide things out. But let's examine the Residue Theorem anyway... (for single poles).\n",
    "\n",
    "$$ lim (z-z_0) f(z) \\rightarrow \\frac{(z-z_0)cosz}{coshz} $$\n",
    "\n",
    "The issue here is that we can't divide out the hole so I don't know how to take this limit! ...Wait it's a zero over zero form, just apply L'Hopital. \n",
    "\n",
    "$$ \\frac{ - (z-z_0) sinz + cosz}{ sinhz } $$\n",
    "\n",
    "This does not have the difficluties, our residues are going to be\n",
    "\n",
    "$$ \\frac{cosz_0}{sinhz_0} = \\frac{e^{-\\pi/2} + e^{\\pi/2}}{2e^{i\\pi/2}} $$\n",
    "\n",
    "OR\n",
    "\n",
    "$$ = \\frac{e^{-3\\pi/2} + e^{3\\pi/2}}{2e^{3i\\pi/2}} $$"
   ]
  },
  {
   "cell_type": "markdown",
   "id": "f32c7514",
   "metadata": {},
   "source": [
    "So we *think* we can reduce these residues to \n",
    "\n",
    "$$ -i \\frac12 cosh\\frac\\pi2 $$\n",
    "\n",
    "$$ i \\frac12 cosh\\frac{3\\pi}{2} $$\n",
    "\n",
    "However we really aren't sure. THAT SAID, spending a TON more time on this would be kind of pointless so LET'S JUST PRETEND LIKE WE KNOW THE RESIDUES!\n",
    "\n",
    "Anyway the contour integral is $2\\pi i \\Sigma Res$ Just condense the residues into $\\Sigma$. ANYWAY, now let's return to doing the integrals.\n",
    "\n",
    "$$ \\int_{-\\infty}^{\\infty} \\frac{e^{ix} + e^{-ix}}{cosh(x)} dx + \\int_{\\infty}^{-\\infty} \\frac{e^{ix}e^{-2\\pi} + e^{-ix}e^{2\\pi}}{cosh(x)} dx$$"
   ]
  },
  {
   "cell_type": "markdown",
   "id": "9f360b5e",
   "metadata": {},
   "source": [
    "So we just realized something. And by realize I mean the thing we were looking up pointed it out. We did not have to do both parts of the cosine, we could just use a single exponential.\n",
    "\n",
    "$$ \\int_{-\\infty}^{\\infty} \\frac{e^{ix}}{cosh(x)} dx + \\int_{\\infty}^{-\\infty} \\frac{e^{ix}e^{-2\\pi}}{cosh(x)} dx$$\n",
    "$$ (1-e^{-2\\pi})\\int_{-\\infty}^{\\infty} \\frac{e^{ix}}{cosh(x)} dx$$"
   ]
  },
  {
   "cell_type": "markdown",
   "id": "e002a420",
   "metadata": {},
   "source": [
    "If we examine the residues JUST for this part, we end up with\n",
    "\n",
    "$$ (1-e^{-2\\pi})\\int_{-\\infty}^{\\infty} \\frac{e^{ix}}{cosh(x)} dx = \\pi (e^{-\\pi/2} - e^{-3\\pi/2} ) $$\n",
    "\n",
    "Which we CAN in fact use to get a result:\n",
    "\n",
    "$$ \\int_{-\\infty}^{\\infty} \\frac{e^{ix}}{cosh(x)} dx = \\pi \\frac{e^{-\\pi/2} - e^{-3\\pi/2}}{1-e^{-2\\pi}} $$\n",
    "\n",
    "Which can be simplified, yes, but it IS the answer as, we note, $e^{ix} = cosx+isinx$ and the residues are purely real so the imaginary part goes away, giving us what we started out with. The computer says this becomes\n",
    "\n",
    "$$ \\int_{-\\infty}^{\\infty} \\frac{cosx}{coshx} dx = \\pi \\frac{1}{2cosh(\\pi/2)} $$\n",
    "\n",
    "And divide by 2 since we actually wanted 0 to infinity.\n",
    "\n",
    "$$ \\int_{0}^{\\infty} \\frac{cosx}{coshx} dx = \\pi \\frac{1}{4cosh(\\pi/2)} $$\n",
    "\n",
    "Answer search suggests we have an extra factor of 1/2 here that needs to be removed, but I also think trying to get this exact detail right probably isn't worth my time at this point. "
   ]
  },
  {
   "cell_type": "markdown",
   "id": "deb8f8c6",
   "metadata": {},
   "source": [
    "*b) Consider four linearly independent vectors spanning a 4-dimensional vector space: $v_1 -- v_4$, (0 0 1 1), (1 0 -1 0), (1 2 0 2), (2 1 1 1). From these vectors, construct the first three elements of an orthonormal basis using the Gram-Schmidt method.*"
   ]
  },
  {
   "cell_type": "markdown",
   "id": "74f24e55",
   "metadata": {},
   "source": [
    "**QUICK LOOKUP**\n",
    "\n",
    "Agh, why, this will take forever... but fine...\n",
    "\n",
    "The Gram-Schmidt formula was provided in the verison of the exam that did this, albeit in a somewhat odd form, but to be clear let's state it as we understand it. The components of the method are the projection operation:\n",
    "\n",
    "$$ proj_{\\vec u} \\vec v = \\frac{\\langle \\vec v , \\vec u \\rangle}{\\langle \\vec u , \\vec u \\rangle}\\vec u $$\n",
    "\n",
    "Which is then combined into the process:\n",
    "\n",
    "$$ \\vec u_n = \\vec v_n - \\sum_{j=1}^{n-1} proj_{\\vec u_j} \\vec v_n $$\n",
    "\n",
    "So the vectors we start with are vs and we end with the us. In this case the inner product is just a dot product. Select the simplest v to serve as our first u, honestly the first one looks the best so...\n",
    "\n",
    "$$ \\vec u_1 = (0,0,1,1) $$\n",
    "\n",
    "And from here on out it's all grunt work. Fortunately we're not being asked for all *four* elements, surprisingly. "
   ]
  },
  {
   "cell_type": "markdown",
   "id": "0714f458",
   "metadata": {},
   "source": [
    "$$ \\vec u_2 = (1,0,-1,0) - \\frac{-1}{2} (0,0,1,1)  = (1,0,-1/2, 1/2)$$"
   ]
  },
  {
   "cell_type": "markdown",
   "id": "ac1549b9",
   "metadata": {},
   "source": [
    "And then the third (and last) one we need to do...\n",
    "\n",
    "$$ \\vec u_3 = (1,2,0,2) - \\frac{2}{2}(0,0,1,1) - \\frac{2}{3/2}(1,0,-1/2,1/2) = (-1/3, 2, -1/3, 1/3) $$\n",
    "\n",
    "And these certainly are orthogonal! WE can actually prove it by examining the positions of the zeroes, fortunately they're in the right spot to make visual inspection easy. "
   ]
  },
  {
   "cell_type": "markdown",
   "id": "ac557787",
   "metadata": {},
   "source": [
    "NOTE: The G-S Process only provides the *orthognal* vectors. If we want to make them *orthonormal*, we have a different problem that's just... well making everything a unit vector. This isn't too hard, just divide everything by the magnitude.\n",
    "\n",
    "$$ \\vec u_1 = (0,0,1/\\sqrt{2}, 1/\\sqrt{2}) $$\n",
    "$$ \\vec u_2 = (1/\\sqrt{2}, 0, -1/2\\sqrt{2}, 1/2\\sqrt{2}) $$\n",
    "$$ \\vec u_3 = (\\sqrt{13/3})(-1/3,2,-1/3,1/3) $$"
   ]
  },
  {
   "cell_type": "code",
   "execution_count": null,
   "id": "f9df9229",
   "metadata": {},
   "outputs": [],
   "source": []
  }
 ],
 "metadata": {
  "kernelspec": {
   "display_name": "Python 3 (ipykernel)",
   "language": "python",
   "name": "python3"
  },
  "language_info": {
   "codemirror_mode": {
    "name": "ipython",
    "version": 3
   },
   "file_extension": ".py",
   "mimetype": "text/x-python",
   "name": "python",
   "nbconvert_exporter": "python",
   "pygments_lexer": "ipython3",
   "version": "3.7.9"
  }
 },
 "nbformat": 4,
 "nbformat_minor": 5
}
