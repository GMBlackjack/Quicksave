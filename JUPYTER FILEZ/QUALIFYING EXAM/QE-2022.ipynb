{
 "cells": [
  {
   "cell_type": "markdown",
   "id": "0c1bfe81",
   "metadata": {},
   "source": [
    "# Qualifying Exam 2022\n",
    "\n",
    "## Answers: Gabriel M Steward"
   ]
  },
  {
   "cell_type": "markdown",
   "id": "56664bc2",
   "metadata": {},
   "source": [
    "<a id='toc'></a>\n",
    "\n",
    "# Table of Contents\n",
    "$$\\label{toc}$$\n",
    "\n",
    "[Problem 1](#P1) (Rolling Down a Ramp)\n",
    "\n",
    "[Problem 2](#P2) (Central Force Lagrangian)\n",
    "\n",
    "[Problem 3](#P3) (Expectation Values)\n",
    "\n",
    "[Problem 4](#P4) (Spin in Magnetic Fields)\n",
    "\n",
    "[Problem 5](#P5) (3D Harmonic Oscillator Hamiltonian)\n",
    "\n",
    "[Problem 6](#P6) (Cylindrical Conductors)\n",
    "\n",
    "[Problem 7](#P7) (Wire Loop in a Solenoid)\n",
    "\n",
    "[Problem 8](#P8) (Indices of Refraction)\n",
    "\n",
    "[Problem 9](#P9) (Free Electron Gas)\n",
    "\n",
    "[Problem 10](#P10) (Fouriers and Integrals)"
   ]
  },
  {
   "cell_type": "markdown",
   "id": "cd9e5529",
   "metadata": {},
   "source": [
    "<a id='P1'></a>\n",
    "\n",
    "# Problem 1 \\[Back to [top](#toc)\\]\n",
    "$$\\label{P1}$$\n",
    "\n",
    "*A sphere of mass M and radius R rolls without slipping on a triangular block of mass m. THe block is free to move on a frictionless horizontal axis. THe system is subject to a uniform gravitational field.*\n",
    "\n",
    "*a) Find the Lagrangian and Lagrange's equations of motion.*\n",
    "\n",
    "**DIAGRAM:** *Just a ball on a ramp with angle $\\alpha$.*"
   ]
  },
  {
   "cell_type": "markdown",
   "id": "acd11ce1",
   "metadata": {},
   "source": [
    "**IMMEDIATE KNOWLEDGE**\n",
    "\n",
    "The problem mentions the ball rolling on the wedge, so we shall assume it remains on the wedge and we don't have to worry about what happens when it rolls off. (Though at the *end* we can probably determine this for any one case).\n",
    "\n",
    "So, Lagrangian Problem!\n",
    "\n",
    "PHASE I: ENERGIES\n",
    "\n",
    "$$\\frac12 MV^2 + \\frac12 mv^2 + \\frac12 I \\omega^2 $$\n",
    "\n",
    "Ah yes, moment of inertia for a sphere... 2/5 MR^2. (Aha, yes, memory was correct!)\n",
    "\n",
    "$$ Mgh $$\n",
    "\n",
    "The potential only applies to the ball, the wedge does not change its position."
   ]
  },
  {
   "cell_type": "markdown",
   "id": "eceac86b",
   "metadata": {},
   "source": [
    "PHASE II: coordinates.\n",
    "\n",
    "Let x be the displacement of the wedge from wherever it started. Let z be the distance from the ball to the bottom of the ramp. These two completley define the system, though we do have to be a bit careful with velocities.\n",
    "\n",
    "This makes h easy. $h = zsin\\alpha$\n",
    "\n",
    "The velocity of the ramp, v, is just the velocity of its coordinate, $v = \\dot x$.\n",
    "\n",
    "The angular velocity of the ball depends on how fast its coordinate z is changing. $z = R\\theta$ so $\\dot z = R\\omega $ and thus $\\omega = \\dot z / R$\n",
    "\n",
    "The last quantity we need is the ball's actual velocity V. Keep in mind we can't just say it's $\\dot z$, the only reason we could use that before is the no slipping rule. Our ball is *moving* with the ramp, so we have to take it component by component.\n",
    "\n",
    "$$ \\dot x + \\dot z cos\\alpha \\hat x; \\hat y \\dot z sin\\alpha $$\n",
    "\n",
    "A note on signs: $\\dot x$ is almost guaranteed to be negative, so the two don't add constructively, so the addition sign may be slightly misleading. Anyway, this makes the actual magnitude of the velocity \n",
    "\n",
    "$$ V^2 = \\dot x^2 + \\dot z^2 cos^2\\alpha + 2\\dot x \\dot z cos\\alpha + \\dot z^2 sin^2\\alpha  $$\n",
    "$$ = \\dot x^2 + \\dot z^2 + 2\\dot x \\dot z cos\\alpha $$\n",
    "\n",
    "So now we have our complete substitutions. \n"
   ]
  },
  {
   "cell_type": "markdown",
   "id": "0490e153",
   "metadata": {},
   "source": [
    "PHASE III: Lagrangian, T-U\n",
    "\n",
    "$$ \\mathcal L = \\frac12 M \\left(\\dot x^2 + \\dot z^2 + 2\\dot x \\dot z cos\\alpha \\right) + \\frac12 m \\dot x^2 + \\frac15 M\\dot z^2 - Mgzsin\\alpha$$\n",
    "\n",
    "We can re-arrange this to be easier to work with.\n",
    "\n",
    "$$ \\mathcal L =\\dot x^2(\\frac{m+M}{2}) + \\dot z^2(\\frac{7}{10} M) + M \\dot x \\dot z cos\\alpha - Mgzsin\\alpha $$"
   ]
  },
  {
   "cell_type": "markdown",
   "id": "e1bff38f",
   "metadata": {},
   "source": [
    "PHASE IV: E-L Equations. $\\partial_t (\\partial_{\\dot q} \\mathcal L) - \\partial_q \\mathcal L = 0$\n",
    "\n",
    "This doesn't look too bad. Do it for x and z.\n",
    "\n",
    "$$ \\ddot x(m+M) + \\ddot z M cos\\alpha = 0 $$\n",
    "$$ \\ddot z(\\frac{7}{10} M) + \\ddot x M cos\\alpha + Mgsin\\alpha = 0 $$\n",
    "\n",
    "Well this is certainly interesting, both equaitons for acceleraiton include each other.These are technically Lagrange's Equations of Motion. Naturally we will be doing more with them in the next part to get functions of time. "
   ]
  },
  {
   "cell_type": "markdown",
   "id": "bb6f43bf",
   "metadata": {},
   "source": [
    "*b) Integrate Lagrange's equaitons to determine the motion of hte system as a funciton of time, in terms of M, m, R, $\\alpha$, and g. Both objects are initially at rest.*"
   ]
  },
  {
   "cell_type": "markdown",
   "id": "be11c8eb",
   "metadata": {},
   "source": [
    "We note that R has completely canceled out given our choice of coordinates. This makes sense, though it may imply that there was an easier set of coordinates to use. Anyway, we can decouple the two equaitons, it seems, by setting each one equal to either x-acceleraitorn or z-acceleraiton, and then setting *those* equal to each other to get some results. Like so:\n",
    "\n",
    "$$ \\ddot x = -\\frac{\\ddot z M cos\\alpha}{m+M} $$\n",
    "$$ \\ddot x = -\\frac{\\ddot z (\\frac{7}{10} M) + Mgsin\\alpha}{Mcos\\alpha} $$\n",
    "\n",
    "And so...\n",
    "\n",
    "$$ -\\frac{\\ddot z M cos\\alpha}{m+M} = -\\frac{\\ddot z (\\frac{7}{10} M) + Mgsin\\alpha}{Mcos\\alpha} $$\n",
    "\n",
    "Aaaand that makes us cancel things out. Never mind, try direct substitution instead. We only have two unknowns, if there is a solution it is possible to find. \n",
    "\n",
    "$$ \\ddot z - \\frac{\\ddot z M cos\\alpha}{m+M} = -Mgsin\\alpha $$\n",
    "\n",
    "$$ \\Rightarrow \\ddot z = -\\frac{Mgsin\\alpha}{1-\\frac{M cos\\alpha}{m+M}} $$\n",
    "\n",
    "Now, that blorg of nonsense there? That's a *constant*, meaning z obeys the kinematic equations.\n",
    "\n",
    "$$ z = z_0 + \\dot z_0 t + \\frac12 \\ddot z t^2 $$\n",
    "\n",
    "If we're initially at rest and have zero displacement as our coordinate start, we end up with the simple\n",
    "\n",
    "$$ z = z_0 + \\frac12 \\ddot z t^2 $$"
   ]
  },
  {
   "cell_type": "markdown",
   "id": "2b646541",
   "metadata": {},
   "source": [
    "The exact same will be true of x, except $x_0$ is zero as the ramp is on the ground. \n",
    "\n",
    "$$ x = \\frac12 \\ddot x t^2 $$\n",
    "\n",
    "We just need to get the specific value for $\\ddot x$. Fortunately since we have a constant for $\\ddot z$ this is easier than the constant for it.\n",
    "\n",
    "$$ \\ddot x = -\\frac{\\ddot z M cos\\alpha}{m+M} $$\n",
    "\n",
    "And that is sufficient, both are constant accelerations, thus follow the basic kinematic equaiton. "
   ]
  },
  {
   "cell_type": "markdown",
   "id": "1978b879",
   "metadata": {},
   "source": [
    "<a id='P2'></a>\n",
    "\n",
    "# Problem 2 \\[Back to [top](#toc)\\]\n",
    "$$\\label{P2}$$\n",
    "\n",
    "*A particle of mass m moves under a central force*\n",
    "\n",
    "$$ \\vec F(r) = (-\\frac{k}{r^2} + \\frac{k'}{r^3})\\hat r $$\n",
    "\n",
    "*Where r is the distance from the fixed center of force and k is positive.*\n",
    "\n",
    "*a) Derive the equations of motion from the appropriate Lagrangian.*\n",
    "\n",
    "**QUICK LOOKUP**\n",
    "\n",
    "Hey look, we have a force, which means it's time for the version with FORCES OF CONSTRAINT! Actually, wait... we can just define a potential off of this. Consider the force of gravity's force:\n",
    "\n",
    "$$ GMm/r^2 $$\n",
    "\n",
    "versus its potential\n",
    "\n",
    "$$ -GMm/r $$\n",
    "\n",
    "Which is to say the indefinite integral of the force is what we need. \n",
    "\n",
    "$$ U = (\\frac{k}{r} - \\frac{k'}{2r^2}) $$\n",
    "\n",
    "This force, and thus potential energy, evidentially doesn't depend on the mass. (Now if the original was an acceleration, we would have to do mgh type stuff, but we do not). \n",
    "\n",
    "Regardless, that's the potential energy written down. Now we need the kinetic, which is just $\\frac12 mv^2$. The particle cannot rotate itself, it's just moving. \n",
    "\n",
    "So, that was, roundabout, PHASE I. Now Phase II: Coordinates! Technically we have two degrees of freedom, the object is going to be orbiting in a plane around a central force. r and $\\theta$ seem reasonable, since they are mentioned in part b). The only coordinate this changes is the velocity, which is well known for polar coordinates: $v^2 = \\dot r^2 + r^2\\dot \\theta^2$. \n",
    "\n",
    "PHASE III: Lagrangian, T-U.\n",
    "\n",
    "$$ \\mathcal L = \\frac12 m (\\dot r^2 + r^2 \\dot \\theta^2) - (\\frac{k}{r} - \\frac{k'}{2r^2}) $$"
   ]
  },
  {
   "cell_type": "markdown",
   "id": "9a57dae0",
   "metadata": {},
   "source": [
    "PHASE IV: The E-L equations. \n",
    "\n",
    "So we have $\\partial_t (\\partial_{\\dot q} \\mathcal L) - \\partial_q = 0$. We do this for $\\theta$ first since it's very simple.\n",
    "\n",
    "$$ m(r^2\\ddot\\theta + 2r\\dot r\\dot\\theta) = 0 $$\n",
    "$$ \\Rightarrow \\ddot\\theta = \\frac{2 \\dot r \\dot \\theta}{mr} $$"
   ]
  },
  {
   "cell_type": "markdown",
   "id": "3e6636fd",
   "metadata": {},
   "source": [
    "The r version has significantly more complication.\n",
    "\n",
    "$$ m\\ddot r - mr\\dot\\theta^2 - \\frac{k}{r^2} + \\frac{k'}{r^3} = 0 $$\n",
    "$$ \\Rightarrow \\ddot r = r\\dot\\theta^2 + \\frac{k}{mr^2} - \\frac{k'}{mr^3} $$\n",
    "\n",
    "Lookup indicates that we've got the signs wrong on the last part, they should match the signs of F originally. This is because the actual force/potential energy relation is $F = -\\frac{U}{dr}$ or $-\\nabla U$ if we need vector stuff. This adds another sign change, though it does make one wonder at the gravitational potential..."
   ]
  },
  {
   "cell_type": "markdown",
   "id": "4c7dda38",
   "metadata": {},
   "source": [
    "*b) Let l be the particle angular momentum and assume that $l^2>-mk'$. Find the equation of the orbit, r($\\theta$), where r and $\\theta$ are polar coordinates.*"
   ]
  },
  {
   "cell_type": "markdown",
   "id": "63414a34",
   "metadata": {},
   "source": [
    "Not at all sure how the angular momentum L is relevant, nor what it does here. Return later, but let's look at it. L=I$\\omega$ which can be written for a poitn particle as $mr^2\\dot \\theta$. So we can use this relation to rewrite some of our relations.\n",
    "\n",
    "$$ \\Rightarrow \\ddot\\theta = \\frac{2 r \\dot r \\dot \\theta^2}{L} $$\n",
    "\n",
    "$$ \\Rightarrow \\ddot r - r\\dot\\theta^2 - \\frac{k\\dot \\theta}{L} + \\frac{k'mr\\dot\\theta}{L^2} = 0 $$"
   ]
  },
  {
   "cell_type": "markdown",
   "id": "a30e4258",
   "metadata": {},
   "source": [
    "Not sure where to go from here, if anywhere...?"
   ]
  },
  {
   "cell_type": "markdown",
   "id": "36ec29d1",
   "metadata": {},
   "source": [
    "<a id='P3'></a>\n",
    "\n",
    "# Problem 3 \\[Back to [top](#toc)\\]\n",
    "$$\\label{P3}$$\n",
    "\n",
    "*A particle has the three-dimensional wave function*\n",
    "\n",
    "$$ \\psi (r) = Ne^{-\\alpha r} $$\n",
    "\n",
    "*where r is the magnitude of the position vector, $\\vec r$, N is the normalization constant and $\\alpha$ a real number.*\n",
    "\n",
    "*a) Normalize the wave function to unity.*"
   ]
  },
  {
   "cell_type": "markdown",
   "id": "173963fb",
   "metadata": {},
   "source": [
    "**IMMEDIATE KNOWLEDGE**\n",
    "\n",
    "It's just a funciton of r so while it is 3-D, integrations will be 1-D. To normalize, first we integrate and then figure out what to set N to. AS this is radial, the bounds are from r=0 to infinity. As this is quantum mechanics, the normalization is of the square absolute value. No complex numbers means no conjugates.\n",
    "\n",
    "$$ \\int_0^{\\infty} N^2 e^{-2\\alpha r} dr $$\n",
    "\n",
    "Naturally the normalization basically says the total probability must be r. \n",
    "\n",
    "$$ N^2 \\left[ e^{-2\\alpha r} \\frac{-1}{2\\alpha} \\right]_0^{\\infty} $$\n",
    "$$ \\frac{N^2}{2\\alpha} \\left[ - e^{-2\\alpha r} \\right]_0^{\\infty} $$\n",
    "$$ \\frac{N^2}{2\\alpha} \\left[ 0 + 1 \\right] $$\n",
    "$$ \\frac{N^2}{2\\alpha} $$\n",
    "\n",
    "So obviously $N = \\sqrt{2\\alpha}$"
   ]
  },
  {
   "cell_type": "markdown",
   "id": "fea55474",
   "metadata": {},
   "source": [
    "*b) Calculate the expectation values $<\\vec r>$, < r >, $< r^2 >$.*"
   ]
  },
  {
   "cell_type": "markdown",
   "id": "2dffeb12",
   "metadata": {},
   "source": [
    "First of all, the expectation of r vector is 0, this is a spherically symmetric wavefunction, its equal in every direction so it evens out to the middle. \n",
    "\n",
    "One way to think of the expectation in situations like this is the spot where there's 50% on one side and 50% on the other. Examining the integral, we see that this can be found if we find out where $e^{-2\\alpha r} = 1/2$, then we solve for r. This will get us the expectation for the magnitude. \n",
    "\n",
    "$$ <r> = \\frac{ln(1/2)}{-2\\alpha} $$\n",
    "\n",
    "Now this will be a positive value as the ln of somehting less than 1 is negative. That said it is the natural log, so it's not like this can be simplified any further.\n",
    "\n",
    "Now, onto a more interesting problem. What is the expectation of the square radius? This is quantum mechanics, it's not just the same as the normal radius magnitude squared. But we don't remember what the trick is so we leave it for now.\n",
    "\n",
    "The subtraciton rule for ln gets us\n",
    "\n",
    "$$ \\frac{ln(2)}{2\\alpha} $$\n",
    "\n",
    "but I don't think it goes any further. \n",
    "\n",
    "ALERT: It looks like using the definition of expectaiton value the actual answer is 1/2$\\alpha$. This does not divide it precisely in 50/50, closer to 63%. We should probably just trust the definition of expectation though. (See next part). "
   ]
  },
  {
   "cell_type": "markdown",
   "id": "cb06d634",
   "metadata": {},
   "source": [
    "**QUICK LOOKUP**\n",
    "\n",
    "The expectation value of a quantity is the integral over all space of that quanity times the probability distribution. So our integral is...\n",
    "\n",
    "$$ \\int_0^{\\infty} N^2 r^2 e^{-2\\alpha r} dr $$\n",
    "\n",
    "Now we just have to eval7uate this. This is a case of integration by parts. Which we re-derive every time from the product rule because of the tricks up its sleeve in organization. The double integration by parts gets us to\n",
    "\n",
    "$$ \\Rightarrow N^2 \\int_0^{\\infty} \\frac{e^{-2alpha r}}{2\\alpha^2} dr$$\n",
    "$$ \\Rightarrow \\frac{N^2}{2\\alpha^2} \\int_0^{\\infty} e^{-2\\alpha r} dr$$\n",
    "$$ \\Rightarrow \\frac{N^2}{2\\alpha^2} \\int_0^{\\infty} e^{-2\\alpha r} dr$$\n",
    "$$ \\Rightarrow \\frac{N^2}{4\\alpha^3} dr$$\n",
    "$$ \\Rightarrow \\frac{1}{2\\alpha^2} dr$$\n",
    "\n",
    "And this is the expectaiton of the square radius. But wait, isn't just the expectation of the magnitude? What of the vector? It still applies in this case, as everything is squared (and thus positive). The negative side of the domain would give the same (positive) result. (check this later, maybe?)\n",
    "\n",
    "We can also check our previous part this way. To not waste time, the computer did the integral. \n",
    "\n",
    "$$ N^2 \\frac{1}{4\\alpha^2} = \\frac{1}{2\\alpha} $$\n",
    "\n",
    "Hold on, that's different. Which one is right? The ln(2) value really does integrate to precisely 50%, but the other values... hmmm. The integral definition is the one given, and the one that seems more familiar, but it does not appear to actually lie at the fifty percent mark for the value x. "
   ]
  },
  {
   "cell_type": "markdown",
   "id": "69014f4d",
   "metadata": {},
   "source": [
    "*c) Find the momentum-space wavefunction.*"
   ]
  },
  {
   "cell_type": "markdown",
   "id": "e7a87139",
   "metadata": {},
   "source": [
    "**IMMEDIATE KNOWLEDGE**\n",
    "\n",
    "Believe it or not the Fourier Transform is provided so all we have to do is literally do the transform. \n",
    "\n",
    "$$ \\phi(\\vec k) = \\frac{1}{(2\\pi)^{3/2}} \\int_V  e^{i\\vec k \\cdot \\vec r} \\psi(\\vec r) d^3r $$ \n",
    "\n",
    "$$ (\\vec k = \\vec p /\\hbar) $$\n",
    "\n"
   ]
  },
  {
   "cell_type": "markdown",
   "id": "c261b887",
   "metadata": {},
   "source": [
    "So here's the thing, the vector r in this case is a constant. Complete radial symmetry. So there is no angular dependence whatsoever, so when we take itnegrals over angles we get the $4\\pi$ out. We still, of course, have the leading term of $r^2$. \n",
    "\n",
    "$$ \\frac{4\\pi N}{(2\\pi)^{3/2}} \\int_0^{\\infty} e^{ikr} e^{-\\alpha r}  r^2 dr $$\n",
    "$$ = \\frac{4\\pi N}{(2\\pi)^{3/2}} \\int_0^{\\infty} e^{(ik-\\alpha)r} r^2 dr $$\n",
    "\n",
    "Which is an integral that can be done by taking integration by parts twice but I'm not wasting time writing that out since I know I can do it, insead I'll just prove the on-the-spot derivation of integration by parts\n",
    "\n",
    "(uv)' = uv' + u'v\n",
    "\n",
    "$$ \\Rightarrow uv = \\int(uv') + \\int(u'v) $$\n",
    "\n",
    "And this is integration by parts, add bounds and evaluate for definite integrals. Anyway if we let ik-$\\alpha$ equal b then we get the result\n",
    "\n",
    "$$ = \\frac{4\\pi N}{(2\\pi)^{3/2}} \\left[ e^{-br} \\frac{b^2r^2 + 2br + 2}{-b^3} \\right]_0^\\infty $$"
   ]
  },
  {
   "cell_type": "markdown",
   "id": "3528249b",
   "metadata": {},
   "source": [
    "Which we can then actujally evaluate as \n",
    "\n",
    "$$ \\frac{4\\pi N}{(2\\pi)^{3/2}} \\frac{2}{b^3} $$\n",
    "\n",
    "b contains the k which contains the momentum. Note that hte previous parts did not have to be solved to do this, we haven't even substituted the value of N in here. "
   ]
  },
  {
   "cell_type": "markdown",
   "id": "a650fe7d",
   "metadata": {},
   "source": [
    "<a id='P4'></a>\n",
    "\n",
    "# Problem 4 \\[Back to [top](#toc)\\]\n",
    "$$\\label{P4}$$\n",
    "\n",
    "*Consider an electrom (spin 1/2) in a constant magnetic field pointing in teh positive y-direction, which is descrfibed by the Hamiltonian*\n",
    "\n",
    "$$ H = - \\frac{e}{m_e c} \\vec S \\cdot \\vec B = \\omega S_y $$\n",
    "\n",
    "*with*\n",
    "\n",
    "$$ S_y = \\frac{\\hbar}{2} \\begin{pmatrix} 0 & -i \\\\ i & 0 \\end{pmatrix} $$\n",
    "\n",
    "*a) At t=0, the electron has its 'spin up', i.e. the spin points into the positive z-direction, described by the state ket $|\\alpha>$ = (1 0). Derive the electron's state ket for t>0, $|\\alpha ; t>$, by applying the time-evolution operator $U(t) = exp(-iHt/\\hbar)$.*"
   ]
  },
  {
   "cell_type": "markdown",
   "id": "a178c4fa",
   "metadata": {},
   "source": [
    "*b) What is the probability of finding the electron with its spin pointing into the positive x-direction t>0? For this you may find ti useful to know that*\n",
    "\n",
    "$$ S_x = \\frac{\\hbar}{2} \\begin{pmatrix} 0 & 1 \\\\ 1 & 0 \\end{pmatrix} $$"
   ]
  },
  {
   "cell_type": "markdown",
   "id": "0bf2cd3d",
   "metadata": {},
   "source": [
    "<a id='P5'></a>\n",
    "\n",
    "# Problem 5 \\[Back to [top](#toc)\\]\n",
    "$$\\label{P5}$$\n",
    "\n",
    "*Consider a charged particle of mass m in a three-dimensional harmonmic oscillator--the Hamiltonian of which is given by*\n",
    "\n",
    "$$ H_0 = \\frac{p_x^2}{2m} + \\frac{p_y^2}{2m} + \\frac{p_z^2}{2m} + \\frac 12 m \\omega^2 (x^2 + y^2 + z^2) $$\n",
    "\n",
    "*a) What is the degeneracy of the states with energy $\\frac52 \\hbar \\omega$*"
   ]
  },
  {
   "cell_type": "markdown",
   "id": "de533563",
   "metadata": {},
   "source": [
    "**QUICK LOOKUP**"
   ]
  },
  {
   "cell_type": "markdown",
   "id": "5ad490c0",
   "metadata": {},
   "source": [
    "Instead of just relying on direct intuition, let's consider what the hamiltonian actually does.\n",
    "\n",
    "$$ H \\psi = E \\psi $$\n",
    "\n",
    "Note that the momentum (p) and position (xyz) operators are all, well, *operators* and not exactly directly what we normally expect. For the 1D harmonic oscillator we can pretty easily memorize that $E_n = \\hbar \\omega (n + 1/2)$. Does this apply to the 3D harmonic oscillator though? (Trying to prove this on the spot would involve ladder operations, so this seems like a bad idea). It does not, as the energies for the 3D harmonic oscillator are actually $E_n = \\hbar \\omega (n+3/2)$. But what are the degeneracies of the states?\n",
    "\n",
    "Well, we can actually tell pretty easily here. The ground state is n=0 of degeneracy 1. The state we want, 5/2, is n=1, which naturally means only one state is excited at a time, so it has degeneracy three. See, a better answer. However, we naturally might ask, what about higher states? So we should probably be careful about it and be thorough. \n",
    "\n",
    "We actually could have found this from the single harmonic oscillator state. Let each one be inedependent, if they're all in the ground state, each one offers 1/2 to the total, or 3/2 total. Any excited one will add 3/2, while the others are 1/2 and 1/2.\n",
    "\n",
    "IF we were to go to the second excited state, 7/2, we would have more options. There's n=2 for a single oscillator, but then there's n=1 for two oscillators as well, giving us 6 total options. Yay!"
   ]
  },
  {
   "cell_type": "markdown",
   "id": "e2424ee3",
   "metadata": {},
   "source": [
    "Some quick things to remember, the momentum operator can be written\n",
    "\n",
    "$$ p_x = i\\hbar \\frac{d}{dx} $$\n",
    "$$ p_x^2 = -\\hbar^2 \\frac{d}{dx^2} $$\n",
    "\n",
    "\n",
    "Replace x with whatever variable the momentum is with respect to. Position operators generally don't need to be replaced. "
   ]
  },
  {
   "cell_type": "markdown",
   "id": "2a716a7a",
   "metadata": {},
   "source": [
    "*b) Now the harmonic oscillator is made slightly anisotropic and at the same time the charged particle is exposed to a uniform magnetic field in the x-direction, $\\vec B = B\\hat x$, creating the perturbation*\n",
    "\n",
    "$$ V = \\frac 12 \\epsilon m \\omega^2 z^2 - \\frac{q}{2mc} \\vec B \\cdot \\vec L $$\n",
    "\n",
    "*with $\\epsilon$ << 1 and B sufficiently small such that the second term can also be treated as a small perturbation. Calculate to first order in V the shift in the energies of the states identified in part a) of this problem. Note that the term $\\frac 12 \\epsilon m \\omega^2 z^2$ creates only diagonal matrix elements, while ($-\\frac{q}{2mc} \\vec B \\cdot \\vec L$) produces one off-diagonal element and its hermitian conjugate. Hint: $L_x = yp_z - zp_y$*"
   ]
  },
  {
   "cell_type": "markdown",
   "id": "8d979014",
   "metadata": {},
   "source": [
    "PERTURBATION THEORY! EVERYONE'S FAVORITE! \n",
    "\n",
    "Now, the fundamental first-order perturbation theory formula is:\n",
    "\n",
    "$$ E_n^1 = \\langle \\psi_n^0 | H' | \\psi_n^0 \\rangle $$\n",
    "\n",
    "Is short, take the expectation value of the perturbation (V in our case, hamiltonion is just total energy). The new energy level is then\n",
    "\n",
    "$$ E_n = E_n^0 + E_n^1 $$\n",
    "\n",
    "Now, see, problem is that *now* we have the initial unperturbed wave functions at the value n involved. in some cases it is possible to get around without knowing these--if H' was constant, it coudl be pulled out and the self-inner-product of the wavefunctions would be zero. HOWEVER... obviously our perturbation is not only not a cosntant, but also somewhat complicated. Also furthermore our states are degenerate.. *however*, we do not need to use degenrerate perturbation theory for the energy shift, it is the shifting of the wavefunctionst hat breaks. Note that we are not asked for the wavefunctions! \n",
    "\n",
    "That said all three of the states are probably different given the nature of the situation, what fun.\n",
    "\n",
    "Anyway, the main issue is that we don't know the wavefunctions... but guess what is *provided* on the sheet for the Harmonic Oscillator?\n",
    "\n",
    "$$ \\langle n_x' | x | n_x \\rangle  = \\sqrt{\\frac{\\hbar}{2m\\omega}} \\left( \\sqrt{n_x} \\delta_{n_x',n_x-1} + \\sqrt{n_x+1} \\delta_{n_x',n_x+1} \\right)$$\n",
    "$$ \\langle n_x' | p_x | n_x \\rangle = i\\sqrt{\\frac{\\hbar m\\omega}{2}} \\left( -\\sqrt{n_x} \\delta_{n_x',n_x-1} + \\sqrt{n_x+1} \\delta_{n_x',n_x+1} \\right) $$\n",
    "\n",
    "Which gives us the tools we need! Will it be trivial now? Uh, no, there'll be quite a bit of math. But it's doable! \n",
    "\n",
    "So, Let's consider this generically first. Each wave function gets evaluated separately, once at the ground state, and once at the excited state. We're going to have to keep track of them *all*, oh boy, so many combinations. So, let's just find the gorund state perturbation for each individual oscillator first, and then add like we did before in part a). \n",
    "\n"
   ]
  },
  {
   "cell_type": "markdown",
   "id": "2be5509e",
   "metadata": {},
   "source": [
    "First of all, let's try the generic case, see if we can simplify anything there. The wavefunctions could be x, y, or z. \n",
    "\n",
    "$$ \\langle \\psi_n | \\frac 12 \\epsilon m \\omega^2 z^2 - \\frac{q}{2mc} \\vec B \\cdot \\vec L | \\psi_n \\rangle $$\n",
    "\n",
    "We would do good to remember that expectations add.\n",
    "\n",
    "$$ \\langle \\psi_n | \\frac 12 \\epsilon m \\omega^2 z^2 | \\psi_n \\rangle - \\langle \\psi_n | \\frac{q}{2mc} \\vec B \\cdot \\vec L | \\psi_n \\rangle $$\n",
    "\n",
    "Constants can be pulled out as expectations are techncially integrals.\n",
    "\n",
    "$$ \\frac 12 \\epsilon m \\omega^2 \\langle \\psi_n | z^2 | \\psi_n \\rangle - \\frac{q}{2mc} \\langle \\psi_n | \\vec B \\cdot \\vec L | \\psi_n \\rangle $$\n",
    "\n",
    "That first term we shall consider first. For x and y operators, its treated as a constant and comes right out. For the z version, however... ...hmm right we have forgotten the relation between square expectations and expectations. That'll need to be figured out before we continue."
   ]
  },
  {
   "cell_type": "markdown",
   "id": "4e7f7353",
   "metadata": {},
   "source": [
    "We may also want to expand out the dotted operators. As B only exists in the x direction, thus the result only cares about $L_x$.\n",
    "\n",
    "$$ \\vec B \\cdot \\vec L = BL_x = Byp_z - Bzp_y $$\n",
    "\n",
    "Which does allow us to simplify, but not enough that we can just apply what's provided on the final sheet.\n",
    "\n",
    "$$ \\frac 12 \\epsilon m \\omega^2 \\langle \\psi_n | z^2 | \\psi_n \\rangle - \\frac{qB}{2mc} \\langle \\psi_n | yp_z | \\psi_n \\rangle + \\frac{qB}{2mc} \\langle \\psi_n | zp_y | \\psi_n \\rangle $$"
   ]
  },
  {
   "cell_type": "markdown",
   "id": "47881908",
   "metadata": {},
   "source": [
    "<a id='P6'></a>\n",
    "\n",
    "# Problem 6 \\[Back to [top](#toc)\\]\n",
    "$$\\label{P6}$$\n",
    "\n",
    "*A long coaxial cable consists of two concentric cylindrical conductors with radii $R_1$ and $R_2$. The region between these two conductors is filled with a dielectric with a variable dielectric constant $\\epsilon = \\frac{\\epsilon_0}{1+\\rho/R_1}$, where $\\rho$ is the distance from the cable's axis. The two conductors carry uniform linear charge densities of $\\pm \\lambda$.*\n",
    "\n",
    "*a) What is the voltage difference between the two conductors?*"
   ]
  },
  {
   "cell_type": "markdown",
   "id": "954eeeaf",
   "metadata": {},
   "source": [
    "So, Cylindrical charge is symmetric to be considered a line charge outside of it and nothing inside of it, in terms of actual field. We're obviously giong to just need to know the actual field of a line charge.\n",
    "\n",
    "$$ \\vec E = \\frac{\\lambda}{2\\pi \\epsilon_0 \\rho} $$\n",
    "\n",
    "And this will be a radial field. Naturally the dielectric is going to change that $\\epsilon_0$, but since it's variable it'll be in an unusual way. Even with the dielectric present there's no change here, the overall field only exists between the two parts of the cable: inside the first one is zero, and outside the second one is zero as the charge densities were given linearly. \n",
    "\n",
    "At this point the question really becomes what does the dielectric change? "
   ]
  },
  {
   "cell_type": "markdown",
   "id": "c887623b",
   "metadata": {},
   "source": [
    "Anyway, we have a dielectric that is \"linear\" but variable, so we need to be a tad careful. Okay so looking it up, since we're only going through one dielectric and by gauss' law the outer charge does nothing, the result is as simple as\n",
    "\n",
    "$$ \\vec E = \\frac{\\lambda}{2\\pi \\epsilon \\rho} $$\n",
    "\n",
    "This is because the D-field is constant. Why is the D-field constant? Because D is the displacement field from FREE CHARGES, that is, the ones that make the system not electrically neutral. Thus the D-field arises from purely the inner cable and is constant out to the external cable, at which point it changes but we don't care about that. (D field is just $\\lambda / 2 \\pi a$ in this case.)\n",
    "\n",
    "Anyway, we have an electric field. Naturally it depends on the radius so let's substitute it in.\n",
    "\n",
    "$$ \\vec E = \\frac{\\lambda}{2\\pi \\frac{\\epsilon_0}{1+\\rho/R_1} \\rho} $$\n",
    "$$ = \\frac{\\lambda(1+\\rho/R_1)}{2\\pi\\epsilon_0 \\rho} $$\n",
    "$$ = \\frac{\\lambda}{2\\pi\\epsilon_0 \\rho} + \\frac{\\lambda}{2\\pi\\epsilon R_1} $$\n",
    "$$ = \\frac{\\lambda}{2\\pi\\epsilon_0}\\left( \\frac{1}{\\rho} + \\frac{1}{R_1} \\right) $$"
   ]
  },
  {
   "cell_type": "markdown",
   "id": "67382340",
   "metadata": {},
   "source": [
    "Now, to get the *potential* we need to note that $E = -\\nabla V$. Thing is we're currently in cylindrical coordiantes so we need to check to make sure a direct applciation is fine in the radial direction--we think so, but...Yes it's direct for radial, so we're actually safe to just take a basic integral to solve.\n",
    "\n",
    "$$ V = -\\int_{R_1}^{R_2}  \\frac{\\lambda}{2\\pi\\epsilon_0}\\left( \\frac{1}{\\rho} + \\frac{1}{R_1} \\right) d\\rho $$\n",
    "$$ \\Rightarrow V = -\\frac{\\lambda}{2\\pi\\epsilon_0} \\left[\\left( ln\\rho + \\frac{\\rho}{R_1} \\right) \\right]_{R_1}^{R_2}  $$\n",
    "$$ \\Rightarrow V = -\\frac{\\lambda}{2\\pi\\epsilon_0} \\left[\\left( lnR_2 + \\frac{R_2}{R_1} - lnR_1 - 1 \\right) \\right]  $$\n",
    "$$ \\Rightarrow V = -\\frac{\\lambda}{2\\pi\\epsilon_0} \\left( ln\\frac{R_2}{R_1} + \\frac{R_2-R_1}{R_1} \\right) $$\n",
    "\n",
    "The sign is entirely arbitrary, it was not specified if the inner or outer part was at that charge or otherwise. "
   ]
  },
  {
   "cell_type": "markdown",
   "id": "afff428e",
   "metadata": {},
   "source": [
    "*b) What is the charge distribution within the dielectric?*"
   ]
  },
  {
   "cell_type": "markdown",
   "id": "c0344364",
   "metadata": {},
   "source": [
    "For this we need to find the polarizaiton P. We already have the two other components:\n",
    "\n",
    "$$ D = \\frac{\\lambda}{2\\pi\\rho} $$\n",
    "$$ E = \\frac{\\lambda}{2\\pi\\epsilon\\rho} $$\n",
    "\n",
    "Well, the relationship to get P is $P = D-\\epsilon_0 E$. Which becomes:\n",
    "\n",
    "$$ P = \\frac{\\lambda}{2\\pi\\rho} - \\frac{\\epsilon_0}{\\epsilon}\\frac{\\lambda}{2\\pi\\rho} $$\n",
    "$$ = \\frac{\\lambda}{2\\pi\\rho} (1 - \\frac{\\epsilon_0}{\\epsilon}) $$\n",
    "$$ = \\frac{\\lambda}{2\\pi\\rho} (1 - 1 - \\frac{\\rho}{R_1}) $$\n",
    "$$ = -\\frac{\\lambda}{2\\pi\\rho} \\frac{\\rho}{R_1} $$\n",
    "$$ = -\\frac{\\lambda}{2\\pi R_1} $$\n",
    "\n",
    "And now we see why this specific oddly varying dielectric constant was chosen, because it makes this form neat. ANyway, with polarization in hand, the various relations are:\n",
    "\n",
    "$$ \\sigma = P \\cdot \\hat n $$\n",
    "$$ \\rho = -\\nabla \\cdot P $$\n",
    "\n",
    "For the record, *this* $\\rho$ is the volume charge distribution. While the problem does specify \"within\" we choose to believe surface charges are sufficiently \"within.\" "
   ]
  },
  {
   "cell_type": "markdown",
   "id": "967bc792",
   "metadata": {},
   "source": [
    "The first one isn't a problem, the unit vector is either plus or minus the radial one, and the direction is always radial, So we just...\n",
    "\n",
    "$$ \\sigma_1 = -\\frac{\\lambda}{2\\pi R_1} $$\n",
    "$$ \\sigma_2 = \\frac{\\lambda}{2\\pi R_1} $$\n",
    "\n",
    "Bit odd that the densities are the same at places with different surface area, but hte fields *are* overall different at the interior and exterior, so we'll go with it. (Plus the result is clearly do to the highly specific dielectric constant).\n",
    "\n",
    "The only issue is the volume charge, see, you'd have to memorize the cylindrical divergence operator, right? It seems so, though since we're purely in the radial direction it is the easy one.\n",
    "\n",
    "$$ \\nabla \\cdot A = \\frac{1}{\\rho} \\frac{\\partial}{\\partial \\rho} (\\rho A_\\rho) $$\n",
    "\n",
    "So while our thing is constant, it is going to end up equaling something due to that multiplciation. Specificlaly..\n",
    "\n",
    "$$ \\rho_{charge} = \\frac{\\lambda}{2\\pi \\rho_{position} R_1} $$\n",
    "\n",
    "Which... I guess? "
   ]
  },
  {
   "cell_type": "markdown",
   "id": "c53d667d",
   "metadata": {},
   "source": [
    "<a id='P7'></a>\n",
    "\n",
    "# Problem 7 \\[Back to [top](#toc)\\]\n",
    "$$\\label{P7}$$\n",
    "\n",
    "*A small wire loop with radius a and resistance $R_a$ is located inside a long solenoid with radius radius b>>a and resistance $R_b$*\n",
    "\n",
    "*a) Say the wire loop lies in the same plane as one of the loops in the solenoid, and the current in both the loop and solenoid is initially zero. After time t=0 a power supply drives an oscillating current is driven through the solenoid that has the form:: I = $I_b sin(\\omega t)$. What current flows through the wire loop? (You may assume $\\omega$ is much less than any natural frequency in the system).*"
   ]
  },
  {
   "cell_type": "markdown",
   "id": "cc80f623",
   "metadata": {},
   "source": [
    "So, right now, it isn't spinning. I can deal with that. First of all, we note that there are no charge distributions, so all electromagnetic fields have to arise. Secondly, solenoids have uniform magnetic fields within them. $B = \\mu n I$. In this case I is given as $I_b sin(\\omega t)$. We notably aren't told the density of the loops so we just leave it as n, even though to actually get a nuymber the density of loops in the solenoid (or the surface current K) is kind of required. \n",
    "\n",
    "Anyway, with the non-spinning loop, the force is dependent on magnetic flux, which is $\\Phi = BAcos\\theta$, but in this case the angle is dead-on so there's no cosine term, and the area is just the area of a circle, $\\pi a^2$. \n",
    "\n",
    "Anyway, EMF, which is our ElectroMotive Force, is given by the negative time derivative of the flux.\n",
    "\n",
    "$$ \\epsilon = -\\frac{d\\Phi}{dt} $$\n",
    "\n",
    "But we need to get the current from this... well, EMF is another way to think of voltage, that is, we can use Ohm's law! V=IR! We want to find I, and now have V and R. So V/R is what we need, and tah-dah!\n",
    "\n",
    "$$ I_{induced} = -\\pi a^2 \\mu_0 n I_b cos(\\omega t) \\omega / R_a $$\n",
    "\n",
    "The resistance of the solenoid doesn't factor into this because it's current is being driven forcefully. \n",
    "\n",
    "We note the negative sign in the current means its going the opposite direction as $I_b$ at any given moment. Nature abhors a change in flux, after all, and must work against it!"
   ]
  },
  {
   "cell_type": "markdown",
   "id": "aefe87d1",
   "metadata": {},
   "source": [
    "*b) Now say that a t=0 the current through the solenoid is initially zero and a power supply forces a constant current $I_\\alpha$ thorugh the loop. The wire loop then starts to rotate at a frequency $\\omega$ as shown. What current is driven through the solenoid?*\n",
    "\n",
    "**DIAGRAM:** *A solenoid viewed end-on with a wire loop rotating clockwise (that is drawn as a circle in the same plane as the solenoid cutaway). The loop is not centered and is actually lower.*"
   ]
  },
  {
   "cell_type": "markdown",
   "id": "81e9e1e2",
   "metadata": {},
   "source": [
    "Ahem, SO. What we need to do here is realize that we can solve the opposite problem, for the magnetic field of a spinning loop: pain. The magnetic field of a solenoid that would *make* a loop spin and have a constant current: not as bad! After all mutual inductance goes both ways... let's just be careful about this.\n",
    "\n",
    "So, let our mysterious current be I(t), it's being driven counterclockwise if positive, which means the constant magnetic field inside is $\\mu_0 n I(t)$, and the flux through the loop is then $\\pi a^2 \\mu_0 n I(t) cos\\theta $. We can relate the angle to the angular frequency and time. \n",
    "\n",
    "$$ \\Phi = \\pi a^2 \\mu_0 n I(t) cos(\\omega t) $$\n",
    "\n",
    "This will naturally flip sign as we continue which, uh, yeah of course it does it kind of has to. The only unknown in this flux is I(t), notably. This *is* the flux though, and the flux is the same between both objects, due to how mutual inductance works. Which means... the EMF voltage has to be the same for both as *well*. So just take the derivative with respect to t, right? Well... what form does I take? There are some things we can deduce, for instance, it must go like $cos(\\omega t)$ otherwise it wouldn't make physical sense--we need to be maximized when the loop is poining paralell or antiparalell, and it needs to drop to nothing when its perpendicular. This curiously means we can write:\n",
    "\n",
    "$$ \\Phi = \\pi a^2 \\mu_0 n I_? cos^2(\\omega t) $$\n",
    "\n",
    "Where the ? is just the amplitude of the current. Since we are assuming we are much larger than any natural frequency, the update must be instantaneous. This means the maghitude of the maximum is going to be the same as if the *loop was never turning*. So, we revert to Ohm's law, V=IR, in this case $V = I_\\alpha R_a$, and this is a constant. Take the negative time integral to get Flux, $\\Phi = -I_\\alpha R_a t$. Now the flux through the Solenoid is opposite, so we flip a sign and then take the time derivative again, showing that the induced V is just opposite sign, $V = -I_\\alpha R_a$. This makes sense due to conservation of energy: producing a change in V on one end, nature will try to counteract exactly. So... now we also know V=IR in the solenoid, so...\n",
    "\n",
    "$$ I_? = -I_\\alpha \\frac{R_a}{R_b}$$\n",
    "\n",
    "Which... hey wait a second we don't even have to plug this back into the flux, we just have the current now.\n",
    "\n",
    "$$ -I_\\alpha \\frac{R_a}{R_b}cos(\\omega t) $$\n",
    "\n",
    "Tah-dah! Beautiful. \n",
    "\n",
    "Probably could have done something like this for the first part... hmm... this might only have been easy since the current in the loop was time-independent, but regardless, it is solved. "
   ]
  },
  {
   "cell_type": "markdown",
   "id": "7caadb7b",
   "metadata": {},
   "source": [
    "<a id='P8'></a>\n",
    "\n",
    "# Problem 8 \\[Back to [top](#toc)\\]\n",
    "$$\\label{P8}$$\n",
    "\n",
    "*An electromagnetic wave, linearly polarized in the vertical direction and treaveling through vacuum, is normally incident upon a planar interface with a material than has different indices of refraction $n_R$ and $n_L$ for right-hand polarized and left-hand polarized waves (you may assume that $\\mu=\\mu_0$ everywhere for all polarizations.) Write down the electric field of the reflected wave. Is the polarization of this reflected wave linear, circular, or something else?*"
   ]
  },
  {
   "cell_type": "markdown",
   "id": "5275da01",
   "metadata": {},
   "source": [
    "**BASIC LOOKUPS**\n",
    "\n",
    "*slams hands into table* okay so we've got left and right polarized indices of refraction! This is certainly going to change things a lot for the field *inside* the material, but what we care about is the *reflected* wave, which is going to be... interesting. Anyway, we can look up information about this.\n",
    "\n",
    "The directions of the circular polarization are somewhat arbitrary (and change based on which formulation you're using), so we shalal associate counterclockwise/left with \"positive imaginary\" ($\\hat x + i \\hat y)$ and clockwise/right with \"negative imaginary\" ($\\hat x - i \\hat y$), naturally taking $\\hat x$ to be the original linear polarization and $\\hat z$ to be the direction of propogation. Our linearly polarized wave can be thought of as a combination of the two waves\n",
    "\n",
    "$$ \\vec E = \\frac12 E_0 \\left[ (\\hat x + i\\hat y)e^{i(kz - \\omega t)} + (\\hat x - i \\hat y)e^{i(kz - \\omega t)} \\right] $$\n",
    "\n",
    "The exponentials have to be identical otherwise the two portions wouldn't add up to a linearly polarized wave. \n",
    "\n",
    "A note: sign ambiguity runs rampant here. Do we use $e^{i(kz-\\omega t)}$ or $e^{i(kz+\\omega t)}$? What exactly is their difference? It in effect is a shift in time progression, which isn't unreasonable, but standard form is $kx-\\omega t$. \n",
    "\n",
    "Now inside the material we can say $k = n\\omega/c$, with n taking the values of the polarization in question...\n",
    "\n",
    "$$ \\vec E' = \\frac12 E_0' \\left[ (\\hat x + i\\hat y)e^{i(n_Lz\\omega/c - \\omega t)} + (\\hat x - i \\hat y)e^{i(n_Rz\\omega/c - \\omega t)} \\right] $$\n",
    "\n",
    "That said we don't actually use this because we only care about the reflection, not the propogation. "
   ]
  },
  {
   "cell_type": "markdown",
   "id": "778ddd71",
   "metadata": {},
   "source": [
    "At this poitn we should probably treat each part of the wave separately. The quesiton is now, how does a circularly polarized wave reflect? The trick is, reflection coefficients are usually given in terms of impednece Z, which depend on the constants $\\mu$ and $\\epsilon$. We know $\\mu$, but not $\\epsilon$--however, we can likely derive it from the index of refraction. Quick lookup shows it is $n = \\sqrt{\\mu \\epsilon}$. Convenient, that'll be easy to remember. Z is similar, at $\\sqrt{\\mu/\\epsilon}$. So if we know $\\mu$ and $\\epsilon$ we can find Z for the normal equations::\n",
    "\n",
    "$$ \\frac{E_R}{E_I} = \\frac{Z_2 cos\\theta_1 - Z_1 cos\\theta_2}{Z_1cos\\theta_1 + Z_2cos\\theta_2} = \\frac{Z_2-Z_1}{Z_1+Z_2} $$\n",
    "$$ \\frac{E_T}{E_I} = \\frac{2 Z_2 cos\\theta_2}{Z_1cos\\theta_1 + Z_2cos\\theta_2} = \\frac{2Z_2}{Z_1+Z_2} $$\n",
    "\n",
    "Note that the last equivlaence here only applies to direct striking where the angles are dead on. Which they are in this case. Now the magnitudes *will* depend on n, so the two reflected waves are not going to add into exactly what they were before, that's for sure. \n",
    "\n",
    "That said it's probably to remember this thing we just found, the reflectivity given in terms of n::\n",
    "\n",
    "$$ R = \\left| \\frac{n_1-n_2}{n_1+n_2} \\right|^2 $$\n",
    "\n",
    "For vacuum we have $n_1 = 1$ and for $n_2$ we have whatever circular polarization we have at the moment, so the magnitude change is...\n",
    "\n",
    "$$ R = \\left| \\frac{1-n_{LorR}}{1+n_{LorR}} \\right|^2 $$\n",
    "\n",
    "WHich is always going to be a positive value less than or equal to 1, which makes sense as reflection can't be more than incident. \n",
    "\n",
    "Tangent: we are very curious if we get a similar relation after working from Z. So, Z in terms of n is...\n",
    "\n",
    "$$ Z = \\sqrt{\\mu/\\epsilon} = \\sqrt{\\frac{\\mu^2}{n^2}} = \\frac{\\mu}{n} $$\n",
    "\n",
    "And in the reflection relation if everything has a $\\mu$ in it it cances to give\n",
    "\n",
    "$$ \\frac{E_R}{E_I} = \\frac{1/n_2 - 1/n_1}{1/n_2 + 1/n_1} = \\frac{n_1 - n_2}{n_1 + n_2}$$\n",
    "\n",
    "Which is the squrae root of hte reflectance. Looking things up reveals that this value here is what we want, the reflectance is squared, likely due to some kind of energy consideraiton (as energy invovles the squares). However, remembering both the Z and n forms might be helpful. REGARDLESS, in our case, our actual coefficients are goign to be:\n",
    "\n",
    "$$ \\frac{1 - n_{L|R}}{1 + n_{L|R}} $$\n",
    "\n",
    "\n"
   ]
  },
  {
   "cell_type": "markdown",
   "id": "475d397d",
   "metadata": {},
   "source": [
    "One thing we also note is that reflections of oncoming waves naturally reflect in the inverse direction, but we DO NOT add a sign as that's included in the ratio we already derived. $n_2$ is most likely larger for this reflection, which means the ratio is negative. \n",
    "\n",
    "$$ \\vec E = \\frac12 E_0 \\left[ \\frac{1 - n_{L}}{1 + n_{L}} (\\hat x + i\\hat y)e^{i(kz - \\omega t)} + \\frac{1 - n_{R}}{1 + n_{R}}  (\\hat x - i \\hat y)e^{i(kz - \\omega t)} \\right] $$"
   ]
  },
  {
   "cell_type": "markdown",
   "id": "9c5aa032",
   "metadata": {},
   "source": [
    "If $n_L = n_R$ we would end up with a linear wave coming back again, as the imaginary portions would entirely cancel, we'd just have less magnitude and opposite sign. However, they are *not* equal, so the things here do not cancel. So we do not end up with a linear polarization.\n",
    "\n",
    "We don't end up with a circular one, either: the imaginary components will *partially* cancel while the real ones will nto be affected, and therefore we will end up with some kind of elliptical polarization. "
   ]
  },
  {
   "cell_type": "markdown",
   "id": "cbd69c04",
   "metadata": {},
   "source": [
    "<a id='P9'></a>\n",
    "\n",
    "# Problem 9 \\[Back to [top](#toc)\\]\n",
    "$$\\label{P9}$$\n",
    "\n",
    "*Consider a free-electron gas in three dimensions at T=0, with N=$10^{22}$ electrons/$cm^3$.*\n",
    "\n",
    "*a) Derive the density of states, g(E).*"
   ]
  },
  {
   "cell_type": "markdown",
   "id": "c6012a3c",
   "metadata": {},
   "source": [
    "The number of single-particle states per unit energy is called the density of states. (pg 280 Thermal Physics). Anyway, for electrons it *is* equation 7.51:\n",
    "\n",
    "$$ g(\\epsilon) = \\frac{\\pi (8m)^{3/2}}{2h^3} V \\sqrt{\\epsilon} = \\frac{3N}{2\\epsilon_F^{3/2}} \\sqrt{\\epsilon}$$\n",
    "\n",
    "We just need to derive this from first principles for this problem. "
   ]
  },
  {
   "cell_type": "markdown",
   "id": "40bbef7a",
   "metadata": {},
   "source": [
    "To start, we have T=0. This is our basis for making a nice and clealy defined density of states. At zero temperature, basically *all* the allowed momentum states are filled, creating a very dense \"ball\" in \"momentum space.\" Since electrons are fermions and can't share, even at T=0 they are forced to occupy different momentum states.\n",
    "\n",
    "The basic energy for momentum is\n",
    "\n",
    "$$ \\epsilon = \\frac{|\\vec p|^2}{2m} $$\n",
    "\n",
    "Now each momentum is individually \n",
    "\n",
    "$$ p_j = \\frac{hn_j}{2L} $$\n",
    "\n",
    "So for three dimensions we end up with\n",
    "\n",
    "$$ \\epsilon = \\frac{h^2}{8mL^2} (n_x^2+n_y^2+n_z^2) $$\n",
    "\n",
    "Each n is an integer but in StatMech the fact that these only take integer values quickly becomes irrelevant. Imagine, now, a space filled with these n-values. At T=0, the maximum energy value is known as the *fermi energy*, $\\epsilon_F$. It can be defined by just setting $n_x$ to wahtever the max n is, and setting the others to zero. (Or, perhaps more likely, starting with fermi energy to limit how many n states can be filled.) \n",
    "\n",
    "Remember, though, that electrons have spin so each unique set of n-values actually has two states in it. Thus, we cna declare the total number of states enclosed N to be the volue of an eighth sphere (positive values) times two. \n",
    "\n",
    "$$ N = 2 \\frac18 \\frac43 \\pi n_{max}^3 = \\frac{\\pi n_{max}^3}{3}$$\n",
    "\n",
    "This allows us to restate the Fermi Energy as dependent on N and V isntead of the max value of n, which is annoying to write, using a clever power trick. Keep in mind this V is a single cell volume, that is, $L^3$. \n",
    "\n",
    "$$ \\epsilon_F = \\frac{h^2}{8m} \\left(\\frac{3N}{\\pi V}\\right)^{2/3}$$\n",
    "\n",
    "This depends on N/V, a ratio, so it is *intensive*. Anyway, now the fermi energy is strictly defined, we can turn our attention to the *total* energy. That is to say, the sum of all energies for each electron in each state.\n",
    "\n",
    "$$ U = 2\\int \\epsilon(n) dn^3 $$\n",
    "\n",
    "Again, 2 for spin degeneracy. At this point we declare the volume element of n-space to be spherical, with our variable \"n\" being replaced with radius. This means $dn^3 = n^2 sin\\theta dn d\\theta d\\phi$. Fortunately the \"density\" is entirely constant so nothing funky occurs here. \n",
    "\n",
    "$$ U = 2 \\int \\epsilon(n) n^2 sin\\theta dn d\\theta d\\phi = \\pi \\int_0^{n_{max}} \\epsilon(n) n^2 dn $$\n",
    "\n",
    "Which you *can* just evaluate given that we have an expresion for $\\epsilon(n)$, but that doesn't get us our goal: the *Density of states*. Instead, we want to make our active variable $\\epsilon$ instead of n. How exactly do we do that? Well, we have our energy already, just replace the different values with the \"n-radius.\"\n",
    "\n",
    "$$ \\epsilon = \\frac{h^2}{8mL^2} n^2 $$\n",
    "\n",
    "And we can solve for n as well here.\n",
    "\n",
    "$$ n = \\sqrt{\\frac{8mL^2}{h^2}}\\sqrt{\\epsilon} $$\n",
    "\n",
    "And we also need to adjust the infinitesimal from dn to d$\\epsilon$. Which of course just means taking the derivative of both sides of our n relation here.\n",
    "\n",
    "$$ dn = \\sqrt{\\frac{8mL^2}{h^2}}\\frac{1}{2\\sqrt{\\epsilon}} d\\epsilon $$\n",
    "\n",
    "And so now we can perform substitutions and get our relation in terms of $\\epsilon$! With bounds from 0 to the fermi energy, of course.\n",
    "\n",
    "$$ U = \\pi \\int_0^{\\epsilon_F} \\epsilon \\frac{8mL^2}{h^2} \\epsilon \\sqrt{\\frac{8mL^2}{h^2}}\\frac{1}{2\\sqrt{\\epsilon}} d\\epsilon $$\n",
    "\n",
    "$$ U = \\int_0^{\\epsilon_F} \\epsilon \\frac{\\pi}{2} \\left(\\frac{8mL^2}{h^2}\\right)^{3/2} \\sqrt{\\epsilon}  d\\epsilon $$"
   ]
  },
  {
   "cell_type": "markdown",
   "id": "c6a8ea68",
   "metadata": {},
   "source": [
    "So, anyway, we're actually done, the density of states is the quantity that satisfies $U = \\int \\epsilon g d\\epsilon$. Behold, it's right htere. Naturally there are ways to rewrite it. \n",
    "\n",
    "$$ g(\\epsilon) = \\frac{\\pi (8m)^{3/2}}{2h^3} V \\sqrt{\\epsilon} = \\frac{3N}{2\\epsilon_F^{3/2}} \\sqrt{\\epsilon}$$\n",
    "\n",
    "But this should be sufficient for what hte problem wants."
   ]
  },
  {
   "cell_type": "markdown",
   "id": "fdbc6714",
   "metadata": {},
   "source": [
    "*b) Calculate the chemical potential of the electrons (in eV).*"
   ]
  },
  {
   "cell_type": "markdown",
   "id": "b9133400",
   "metadata": {},
   "source": [
    "The chemical potential at zero tempreature is equal to the fermi energy. We already got that. Here it is again.\n",
    "\n",
    "$$ \\epsilon_F = \\frac{h^2}{8m} \\left(\\frac{3N}{\\pi V}\\right)^{2/3}$$\n",
    "\n",
    "Now, here's an absolutely shocking thing. We are told *how many we have*. 1e22... electrons per cubic centimeter, so that is our N/V value. m would be electron mass and h is planck's constant. WHich I totally khnow. ...and aren't on the cheat sheat, great, annoying, wonderful. Regardless it's a case of plug-in-and-find at that point, not gonna bother. "
   ]
  },
  {
   "cell_type": "markdown",
   "id": "f0b5e656",
   "metadata": {},
   "source": [
    "*c) Calculate the average energy per electron (in eV).*"
   ]
  },
  {
   "cell_type": "markdown",
   "id": "ee24aad4",
   "metadata": {},
   "source": [
    "This is actually able to be reasoned out. Integrate to find U. That's the total energy. Divide by N. Now you have average energy per electron. We suspect using the V version of the density of states will aid in this actually being calcuable.\n",
    "\n",
    "$$ U = \\frac{\\pi}{2} \\frac{(8m)^{3/2}V}{h^3} \\int_0^{\\epsilon_F} \\epsilon^{3/2}  d\\epsilon $$\n",
    "$$ = \\frac{\\pi}{2} \\frac{(8m)^{3/2}V}{h^3} \\frac 25 \\epsilon_F^{5/2}$$\n",
    "$$ = 5\\pi \\frac{(8m)^{3/2}V}{h^3} \\epsilon_F^{5/2}$$\n",
    "\n",
    "Divide by N to get average energy.\n",
    "\n",
    "$$ \\bar\\epsilon = 5\\pi \\frac{(8m)^{3/2}}{h^3} \\frac{V}{N} \\epsilon_F^{5/2}$$\n",
    "\n",
    "Which are all known constants, provisions, or in the case of the fermi energy would have been calculated in part b)."
   ]
  },
  {
   "cell_type": "markdown",
   "id": "9e42f28c",
   "metadata": {},
   "source": [
    "<a id='P10'></a>\n",
    "\n",
    "# Problem 10 \\[Back to [top](#toc)\\]\n",
    "$$\\label{P10}$$\n",
    "\n",
    "*Parts I) and II) are independent.*\n",
    "\n",
    "*I) Let C be the circle |z|=1, oriented counter-clockwise. (complex circle)*\n",
    "\n",
    "*a) Evaluate*\n",
    "\n",
    "$$ \\int_C \\frac{dz}{z^2 - 8z + 1} $$"
   ]
  },
  {
   "cell_type": "markdown",
   "id": "b549a28f",
   "metadata": {},
   "source": [
    "**BASIC LOOKUPS**\n",
    "\n",
    "Okay so if I recall correctly, any closed loop over the complex plain follows a specific rule based on the residues it has. This is just going to be a remedial remembering of Contour Integration. The first thing we do is locate any poles inside the contour, which we do by factoring out the quadratic function there in the denominator.\n",
    "\n",
    "The trick is how do we find this root on the spot? It's complex, so... hmm. Wait this equation has real zeroes according to geogebra, it must be factorizable somehow. Wait, we can just use the quadratic formulat.\n",
    "\n",
    "$$ \\frac{-b \\pm \\sqrt{b^2 - 4ac}}{2a} $$\n",
    "\n",
    "In our case this is\n",
    "\n",
    "$$ \\frac{8 \\pm \\sqrt{64 - 4}}{2} $$\n",
    "$$ \\frac{8 \\pm \\sqrt{60}}{2} $$\n",
    "$$ 4 \\pm \\sqrt{15} $$\n",
    "\n",
    "Now obviously the plus is outside our circle, but the minus? Well, it's less than one, though exactly what one it is is beyond us since sqrt(15) is irrational. \n",
    "\n",
    "$$ 4 - \\sqrt{15} $$\n",
    "\n",
    "It's very clsoe to 0 though. ANyway, we found our residue. The actual residue is provided:\n",
    "\n",
    "$$ Res = \\frac{1}{(n-1)!} lim_{z->z_0} \\partial_z^{n-1} ((z-z_0)^n f(z)) $$\n",
    "\n",
    "Anyway the residue THEOREM is not, which is the important part. ANd that is::\n",
    "\n",
    "$$ \\oint_\\gamma f(z) dz = 2\\pi i \\sum Res $$\n",
    "\n",
    "So we need to sum over all our residues (1). n is the multiplicity of the residue, eveyrthing else should be obvious. \n",
    "\n",
    "$$ Res = lim_{z->4-\\sqrt{15}} \\frac{1}{z-4-\\sqrt{15}} $$\n",
    "$$ = -\\frac{1}{2\\sqrt{15}} $$\n",
    "\n",
    "So if that's the residue then the integral is\n",
    "\n",
    "$$ \\oint f(z) dz = -\\frac{\\pi i}{\\sqrt{15}} $$"
   ]
  },
  {
   "cell_type": "markdown",
   "id": "deb8f8c6",
   "metadata": {},
   "source": [
    "*b) Use your result from a) to evaluate*\n",
    "\n",
    "$$ \\int_C \\frac{d\\theta}{4-cos\\theta} $$"
   ]
  },
  {
   "cell_type": "markdown",
   "id": "7cae6e14",
   "metadata": {},
   "source": [
    "Don't remember how to apply this, will take more involved research. \n",
    "\n",
    "**COMPLETION RUN**\n",
    "\n",
    "Okay so we can say $z = e^{i\\theta}$. It's possible to derive several relations from this, but most likely you just want to memorize the following relations.\n",
    "\n",
    "$$ cos\\theta = \\frac12(z + 1/z) $$\n",
    "$$ sin\\theta = -\\frac i2 (z-1/z) $$\n",
    "$$ d\\theta = -\\frac iz dz $$"
   ]
  },
  {
   "cell_type": "markdown",
   "id": "44d2b0a9",
   "metadata": {},
   "source": [
    "In our case this rather quickly turns the integral into:\n",
    "\n",
    "$$ \\int_C \\frac{-\\frac iz}{4 - \\frac z2 - \\frac{1}{2z}} dz $$\n",
    "\n",
    "Now this is going to be *somewhat* awkward, but we can convert this into a quadratic by moving the z down.\n",
    "\n",
    "$$ \\int_C \\frac{-i}{4z - \\frac{z^2}{2} - \\frac{1}{2}} dz $$\n",
    "\n",
    "Multiply by 1/1 or, perhaps more accurately, 2/2. \n",
    "\n",
    "$$ \\int_C \\frac{-2i}{8z - z^2 - 1} dz $$\n",
    "\n",
    "Distribute the minus sign and pull out the constants.\n",
    "\n",
    "$$ 2i \\int_C \\frac{1}{-8z + z^2 + 1} dz $$\n",
    "\n",
    "And hey would you look at that, thats the integral we already had. One thing we should check, though, is the *bounds*. Checking up, the circle defined has r=1, and we're integrating over the unit radius, which is what should be assumed, so yes the bounds are actually identical. So... the final result is...\n",
    "\n",
    "$$ \\frac{2\\pi}{\\sqrt{15}} $$\n",
    "\n",
    "Numerical methods confirm this value, though it was rough approximating with a circle.\n",
    "\n",
    "On closer inspection the problem actually asks for 0 to pi instead of 0 to 2pi, but the object is symmetric so just divide the area by two. \n",
    "\n",
    "$$ \\frac{\\pi}{\\sqrt{15}} $$\n",
    "\n",
    "CURIOUSLY, this is just how the integral works. The actual *area* of the circle made by 1/4-cos is surprisingly $\\pi/15$. Clearly there's similarity here, but this mix up got us sooo confused for a while. (gotta remember that integral is not always equal to cartesian area, ehe)."
   ]
  },
  {
   "cell_type": "markdown",
   "id": "4c169ef2",
   "metadata": {},
   "source": [
    "*II) Find the Fourier series of the function f(x) = |x|, defined in the interval [-a,a].*"
   ]
  },
  {
   "cell_type": "markdown",
   "id": "4718d216",
   "metadata": {},
   "source": [
    "**IMMEDIATE KNOWLEDGE**\n",
    "\n",
    "Wait, a... simple algorithmic problem? Oh, wait, the Fourier Series equation is not *given,* lovely. However, |x| over the interal is even, meaning we know this to be a cosine series! That is, the answer is of the form::\n",
    "\n",
    "$$ a_0 + \\sum_n a_n cos(n\\pi x / L) $$\n",
    "\n",
    "We would just need to know... the expressions for the constants. Which I no longer do. Becasue in front there's an L/2 and there's some weird orthogonality thing, dangit. "
   ]
  },
  {
   "cell_type": "markdown",
   "id": "1c95a106",
   "metadata": {},
   "source": [
    "**BASIC LOOKUPS**\n",
    "\n",
    "There are several ways to state the Fourier series, but one way to do it is \n",
    "\n",
    "$$ s(x) ~ A_0 + \\sum_{n=1} A_n cos(\\frac{2\\pi n x}{P}) + B_n sin(\\frac{2\\pi n x}{P}) $$\n",
    "\n",
    "s(x) is the function, P is the period, which is to say the entire length over the interval. It'd be 2a in this case, but it is often 2$\\pi$. \n",
    "\n",
    "The coefficients are given by\n",
    "\n",
    "$$ A_0 = \\frac{1}{P} \\int_{-P/2}^{P/2} s(x) dx $$\n",
    "$$ A_n = \\frac{2}{P} \\int_{-P/2}^{P/2} s(x) cos(\\frac{2\\pi n x}{P}) dx $$\n",
    "$$ B_n = \\frac{2}{P} \\int_{-P/2}^{P/2} s(x) sin(\\frac{2\\pi n x}{P}) dx $$"
   ]
  },
  {
   "cell_type": "markdown",
   "id": "2a6e4bab",
   "metadata": {},
   "source": [
    "Anyway, as mentioned we only need the cosine series since the odd series (sin) will not have any positive coefficient values. This does mean we keep $A_0$ though.\n",
    "\n",
    "$$ A_0 = \\frac{1}{2a} a^2 = \\frac{a}{2} $$\n",
    "\n",
    "Now as for the rest, we have\n",
    "\n",
    "$$ A_n = \\frac{1}{a} \\int_{-a}^{a} |x| cos(\\frac{\\pi n x}{a}) dx $$\n",
    "\n",
    "We can simplify this a bit by realizing that even times even is even, so the funciton is symmetrix about zero.\n",
    "\n",
    "$$ A_n = \\frac{2}{a} \\int_{0}^{a} x cos(\\frac{\\pi n x}{a}) dx $$\n",
    "\n",
    "Which can be integrated by parts to remove the x and get a result. "
   ]
  },
  {
   "cell_type": "markdown",
   "id": "008493e2",
   "metadata": {},
   "source": [
    "$$ A_n = \\frac{2}{a} \\left( \\left[ x sin(\\frac{n\\pi x}{a}) \\frac{a}{n\\pi} \\right]_{0}^a - \\int_{0}^a sin(\\frac{n\\pi x}{a}) dx\\right) $$"
   ]
  },
  {
   "cell_type": "markdown",
   "id": "6cc31bdf",
   "metadata": {},
   "source": [
    "$$ A_n = \\frac{2}{a} \\left( 0  + \\left[cos(\\frac{n\\pi x}{a})\\frac{a}{n\\pi} \\right]_{0}^{a}\\right) $$"
   ]
  },
  {
   "cell_type": "markdown",
   "id": "b47bdb1d",
   "metadata": {},
   "source": [
    "$$ A_n = \\frac{2}{n\\pi} \\left[cos(n\\pi) - 1 \\right] $$"
   ]
  },
  {
   "cell_type": "markdown",
   "id": "ab06a424",
   "metadata": {},
   "source": [
    "Anyway that part in the brackets evaluates to -1 for odd n and 0 for n, so only odd n terms exist. They are\n",
    "\n",
    "$$ A_n = -\\frac{2}{n\\pi} $$\n",
    "\n",
    "And that's all the things we need to define the fourier series. Check indicates that I have a sign error--ah it was originally in integration by parts, integrating from sine to cosine does add a sign. Fixed now. "
   ]
  }
 ],
 "metadata": {
  "kernelspec": {
   "display_name": "Python 3 (ipykernel)",
   "language": "python",
   "name": "python3"
  },
  "language_info": {
   "codemirror_mode": {
    "name": "ipython",
    "version": 3
   },
   "file_extension": ".py",
   "mimetype": "text/x-python",
   "name": "python",
   "nbconvert_exporter": "python",
   "pygments_lexer": "ipython3",
   "version": "3.7.9"
  }
 },
 "nbformat": 4,
 "nbformat_minor": 5
}
