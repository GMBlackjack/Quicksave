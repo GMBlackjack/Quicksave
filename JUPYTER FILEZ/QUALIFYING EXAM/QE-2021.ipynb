{
 "cells": [
  {
   "cell_type": "markdown",
   "id": "0c1bfe81",
   "metadata": {},
   "source": [
    "# Qualifying Exam 2021\n",
    "\n",
    "## Answers: Gabriel M Steward"
   ]
  },
  {
   "cell_type": "markdown",
   "id": "56664bc2",
   "metadata": {},
   "source": [
    "<a id='toc'></a>\n",
    "\n",
    "# Table of Contents\n",
    "$$\\label{toc}$$\n",
    "\n",
    "[Problem 1](#P1) (Orbits and Dust)\n",
    "\n",
    "[Problem 2](#P2) (Double Cans)\n",
    "\n",
    "[Problem 3](#P3) (Waves and Momentum Space)\n",
    "\n",
    "[Problem 4](#P4) (Harmonic Oscillator)\n",
    "\n",
    "[Problem 5](#P5) (Spin in a Magnetic Field)\n",
    "\n",
    "[Problem 6](#P6) (Shell Over a Plate)\n",
    "\n",
    "[Problem 7](#P7) (Dual Wires)\n",
    "\n",
    "[Problem 8](#P8) (Parallel Plate Fun)\n",
    "\n",
    "[Problem 9](#P9) (Van der Waals)\n",
    "\n",
    "[Problem 10](#P10) (Heat Diffusion)\n"
   ]
  },
  {
   "cell_type": "markdown",
   "id": "cd9e5529",
   "metadata": {},
   "source": [
    "<a id='P1'></a>\n",
    "\n",
    "# Problem 1 \\[Back to [top](#toc)\\]\n",
    "$$\\label{P1}$$\n",
    "\n",
    "*A planet of mass m is in orbit around a star of mass M. A uniform distribution of dust, with density $\\rho$, is present throughout the space.*\n",
    "\n",
    "*a) Show that, due to the dust, that there is an additional attractive central force on the planet. Determine this force in terms of r (the radial coordiante of the planet relative to the center of the star), m, $\\rho$, and the gravitational constant G.*"
   ]
  },
  {
   "cell_type": "markdown",
   "id": "7bb76d25",
   "metadata": {},
   "source": [
    "**IMMEDIATE KNOWLEDGE**\n",
    "\n",
    "Ahem. There was a ton of chaos here. Allow me to make this simple. \n",
    "\n",
    "The dust is not in a disc. It is in a uniform distribution. Everywhere. \n",
    "\n",
    "We have sperical symmetry. \n",
    "\n",
    "So Gauss' Law gives us the answer immediately. We draw a spherical gaussian surface around the star. By the shell theorem, all material exterior to the surface has no influence on a particle within it. All material within the surface is spherical symmetric and thus acts as a point mass. \n",
    "\n",
    "Thus, the force we have is literally just $\\frac{GmM}{r^2}$ like all the other forces, just in this case M is the total mass of a sphere, so $M = \\rho \\frac43 \\pi r^3 $\n",
    "\n",
    "And that is IT. AGH.\n",
    "\n",
    "(This is the additional force, it would be added to the force of the star as well. The full expression is below.)\n",
    "\n",
    "$$ F = - \\frac{Gm}{r^2}\\left(M + \\rho \\frac43 \\pi r^3 \\right) \\hat r $$"
   ]
  },
  {
   "cell_type": "markdown",
   "id": "bb6f43bf",
   "metadata": {},
   "source": [
    "*b) Consider a circular orbit of the planet with angular momentum L and radius R. Write down the equation satisfied by R, in terms of L, G, M, m, $\\rho$.*"
   ]
  },
  {
   "cell_type": "markdown",
   "id": "47d693ee",
   "metadata": {},
   "source": [
    "**IMMEDIATE KNOWLEDGE**\n",
    "\n",
    "This is effectively just an orbit with a more massive sun. The force is $\\frac{GmM*}{r^2}$ where $M*$ is just the mass of the sun added to the mass enclosed by the object. The difficulty will come in the next part where the enclsoed mass changes with the orbit. Ahahahhah... "
   ]
  },
  {
   "cell_type": "markdown",
   "id": "3f1f490a",
   "metadata": {},
   "source": [
    "Investigations later revealed that this should presumably been thought of as a Lagrangian problem instead. Oh well. Anyway, $F = -\\nabla U$ but this is purely radial so we can get the potential field easily enough by just integrating.\n",
    "\n",
    "$$ U = -\\frac{GmM}{r} + \\rho Gm \\frac23 \\pi r^2 $$\n",
    "\n",
    "Note that we've split up the terms as the additional one, being dependent on a positive power of r, did not swap the sign when it was integrated.\n",
    "\n",
    "Anyway, this is the potential energy. We also have the kinetic energy.\n",
    "\n",
    "$$ T = \\frac12 mv^2 $$.\n",
    "\n",
    "THis is PHASE I of solving a Lagrangian problem.\n",
    "\n",
    "PHASE II: COORDINATES!\n",
    "\n",
    "Just pick r and $\\theta$ and be done with it. This makes the velocity $v^2 = \\dot r^2 + r^2\\dot\\theta^2$ as per usual.\n",
    "\n",
    "PHASE III: LAGRANGIAN! T-U.\n",
    "\n",
    "$$ \\mathcal L = \\frac12 m (\\dot r^2 + r^2 \\dot \\theta^2) + \\frac{GmM}{r} - \\rho Gm \\frac23 \\pi r^2$$\n",
    "\n",
    "There we are."
   ]
  },
  {
   "cell_type": "markdown",
   "id": "a4fad0da",
   "metadata": {},
   "source": [
    "PHASE IV: E-L $\\partial_t \\partial_{\\dot q} - \\partial_q = 0$"
   ]
  },
  {
   "cell_type": "markdown",
   "id": "4fc1fa21",
   "metadata": {},
   "source": [
    "Do it once for each coordinate. Angular is much easier, as per usual.\n",
    "\n",
    "$$ mr^2\\ddot\\theta + 2mr\\dot r\\dot\\theta  = 0 $$\n",
    "$$ \\Rightarrow \\ddot \\theta = - \\frac{2\\dot r \\dot \\theta}{r} $$\n",
    "\n",
    "As for the radial... this'll be fun.\n",
    "\n",
    "$$ m\\ddot r - mr\\dot\\theta^2 + \\frac{GmM}{r^2} + \\rho Gm \\frac43 \\pi r = 0 $$\n",
    "$$ \\Rightarrow \\ddot r = r\\dot\\theta^2 - \\frac{GmM}{r^2} - \\rho Gm \\frac43 \\pi r $$\n",
    "\n",
    "Which we will note that the force F just exists there. Anyway, what we need is the equation satisfied by R, not $\\ddot r$. \n",
    "\n",
    "$$\\ddot \\theta = - \\frac{2\\dot r \\dot \\theta}{r} $$\n",
    "$$\\ddot r = r\\dot\\theta^2 - \\frac{GmM}{r^2} - \\rho Gm \\frac43 \\pi r $$\n",
    "\n",
    "...We're here *again*. For the love of...\n",
    "\n",
    "regardless *ahem* we can simplify this a bit, as r is unchanging we can remove all time derivatives of r.\n",
    "\n",
    "$$\\ddot \\theta = 0 $$\n",
    "$$0 = r\\dot\\theta^2 - \\frac{GmM}{r^2} - \\rho Gm \\frac43 \\pi r $$\n",
    "\n",
    "Which is simple enough and shows us that what we need to solve is:\n",
    "\n",
    "$$0 = r\\dot\\theta^2 - \\frac{GmM}{r^2} - \\rho Gm \\frac43 \\pi r $$\n",
    "\n",
    "For r, somehow. We can actually multiply through by $r^2...$\n",
    "\n",
    "$$\\Rightarrow GmM = r^3\\dot\\theta^2 - \\rho Gm \\frac43 \\pi r^3 $$\n",
    "$$\\Rightarrow \\frac{GmM}{\\dot \\theta^2 - \\rho Gm \\frac43 \\pi} = r^3$$"
   ]
  },
  {
   "cell_type": "markdown",
   "id": "acc3f053",
   "metadata": {},
   "source": [
    "Now that angular velocity isn't allowed to be there, sadly. Fortunately, L = $mr^2\\dot\\theta$ Unfortunately this means we need to back up since that'll change the distributions of our variables.\n",
    "\n",
    "$$0 = \\frac{L^2}{m^2r^3}- \\frac{GmM}{r^2} - \\rho Gm \\frac43 \\pi r $$\n",
    "\n",
    "Now when we multiply through the result isn't so simple.\n",
    "\n",
    "$$\\Rightarrow \\frac{L^2}{m^2} = GmMr + \\rho Gm \\frac43 \\pi r^4 $$\n",
    "\n",
    "And while the quartic equation *does* exist, it's not something we will just be able to pull out. "
   ]
  },
  {
   "cell_type": "markdown",
   "id": "6dcb3dd5",
   "metadata": {},
   "source": [
    "Anyway, let the mass of the inner dust be $\\mu$. Thus we can say...\n",
    "\n",
    "$$ F = \\frac{Gm(M+\\mu)}{R^2} $$\n",
    "\n",
    "Anyway since we're on a circular orbit, this is somewaht simple. We also have L so L=mvR, and v = $\\sqrt{\\frac{G(M+\\mu)}{R}}$. This is actually more useful for solving for R.\n",
    "\n",
    "$$ L = mR\\sqrt{\\frac{G(M+\\mu)}{R}} $$\n",
    "$$ \\Rightarrow L = m\\sqrt{G(M+\\mu)R} $$\n",
    "$$ \\Rightarrow \\frac{L^2}{m^2} = G(M+\\mu)R $$\n",
    "$$ \\Rightarrow \\frac{L^2}{G(M+\\mu)m^2} = R $$\n",
    "\n",
    "$$ \\mu = \\rho \\frac43 \\pi R^3 $$"
   ]
  },
  {
   "cell_type": "markdown",
   "id": "ff66d799",
   "metadata": {},
   "source": [
    "Annoyingly $\\mu$ depends on R so this is going to take some shuffling to get the answer for.\n",
    "\n",
    "$$ \\Rightarrow \\frac{L^2}{G(M+\\rho \\frac43 \\pi R^3)m^2} = R $$\n",
    "$$ \\Rightarrow \\frac{L^2}{Gm^2} = MR + \\rho \\frac43 \\pi R^4 $$ \n",
    "\n",
    "This... not sure how to solve this. Potentially should have treated this as a Lagrangian from the start. Oh well, try the other one. "
   ]
  },
  {
   "cell_type": "markdown",
   "id": "c5235357",
   "metadata": {},
   "source": [
    "*c) Now consider a non-circular orbit with angular momentum L where the radial coordiante exhibits small variations about R. Write down and solve the equation satisfied by the coordinate $\\eta = r-R$.*"
   ]
  },
  {
   "cell_type": "markdown",
   "id": "373c871c",
   "metadata": {},
   "source": [
    "And HERE is where it becomes a mechancis problem. Methinks a Lagrangian is the best way to handle this.\n",
    "\n",
    "PHASE I: energies. \n",
    "\n",
    "$$\\frac 12 mv^2$$\n",
    "$$ -\\frac{Gm(M+\\rho \\frac43 \\pi r^3)}{r} $$\n",
    "\n",
    "PHASE II: coordiantes.\n",
    "\n",
    "Okay so obviously we want the angle $\\theta$, peasured from the closest approach as this is traditional. We are likely *not* going to get an ellipse out of this, though. The other coordinate is actually provided, $\\eta$ is r-R, where r is our radial coordiante and R is our \"base\" circular radius. This means we just replace r with $\\eta + R$ in the potential energy. \n",
    "\n",
    "However, what of the velocity? It's normally $v^2 = \\dot r^2 + r^2 \\dot \\theta^2$. Well we can just replace r here as well, though it's much less pleasant to look at. $\\dot r = \\dot eta$ though. \n",
    "\n",
    "PHASE III: Lagrangian\n",
    "\n",
    "$$ \\mathcal L = \\frac12 m (\\dot \\eta^2 + (\\eta^2 + 2\\eta R + R^2) \\dot \\theta^2) +\\frac{GmM}{\\eta + R} +Gm(\\rho \\frac43 \\pi (\\eta + R)^2) $$"
   ]
  },
  {
   "cell_type": "markdown",
   "id": "fb9c5eee",
   "metadata": {},
   "source": [
    "PHASE IV: E-L $\\partial_t \\partial_{\\dot q} - \\partial_q = 0$\n",
    "\n",
    "In theory we just want this for $\\eta$, let's see if we can avoid doing it for $\\theta$ and still get a usable result. \n",
    "\n",
    "$$ m\\ddot \\eta - m \\eta \\dot\\theta^2 - m R \\dot\\theta^2 + \\frac{GmM}{(\\eta+R)^2} -\\frac83 Gm\\rho \\pi (\\eta + R) = 0  $$\n",
    "$$ \\ddot \\eta = + \\eta \\dot\\theta^2 + R \\dot\\theta^2 - \\frac{GM}{(\\eta+R)^2} + \\frac83 G\\rho \\pi (\\eta + R) $$\n",
    "\n",
    "Unfortunately this contains itself so we can't just solve. Annoying. The *angle* result...\n",
    "\n",
    "$$ \\ddot \\theta = 0 $$\n",
    "\n",
    "So hey at least that's nice. There's no angle acceleraiton. ...wait, there's no angular acceleration!?!? Conservation of angualr momentum makes sense, but this ain't going to be circular! Eh?? \n",
    "\n",
    "Clearly more review on central force is required. \n"
   ]
  },
  {
   "cell_type": "markdown",
   "id": "1978b879",
   "metadata": {},
   "source": [
    "<a id='P2'></a>\n",
    "\n",
    "# Problem 2 \\[Back to [top](#toc)\\]\n",
    "$$\\label{P2}$$\n",
    "\n",
    "*A uniform solid cyilinder of radius R and mass M rests on a horizontal surface with an identical cylinder resting on it, see figure. The upper cylinder is given an infinitesimal dispalcement such that both cylinders roll without slipping. THe system is subject to a uniform gravitattional field. In the following, consider the motion only for as long as the cylinders remain in contact.*\n",
    "\n",
    "*a) How many degress of freedom are in this problem?*\n",
    "\n",
    "**DIAGRAM:** *Two cylinders on top of each other, and then tilting away from each other.*"
   ]
  },
  {
   "cell_type": "markdown",
   "id": "70f03fa9",
   "metadata": {},
   "source": [
    "**IMMEDIATE KNOWLEDGE**\n",
    "\n",
    "So, each cylinder is uniform, so while they are rotating the amount they have rotated around their own axes is irrelevant. So long as they are in contact, they can be counted as a single object. Since we are rolling without slipping, we are translating along the gorund, so let's call that roll distance *s*. We also have the angle the second cylinder has rolled down the first one, call it $\\theta$. These two considerations are independent! One can imagine the bottom cylinder remaining stationary while the top rolls off it, or the bottom one sliding out from under the top one. So we essentially have position and orientation as our degrees of freedom--that is, 2 degrees of freedom. \n",
    "\n",
    "NOTE: it's amazing how the choice of \"wrong\" coordinates can destroy a problem. s should also be set as an angular coordinate. Let's call it $\\phi$. We'll figure out what precisely it is later. (It's the distance the cylinders have rotated around each other's pivots, or related to it, or something. Agh, which one is more natural?)"
   ]
  },
  {
   "cell_type": "markdown",
   "id": "4c7dda38",
   "metadata": {},
   "source": [
    "*b) Take the angle $\\theta$ shown in the figure as one of your coordinates and write the Lagrangian and the LAgrange's equations of motion. Identify conserved quantities.*"
   ]
  },
  {
   "cell_type": "markdown",
   "id": "630da04e",
   "metadata": {},
   "source": [
    "**IMMEDIATE KNOWLEDGE** \n",
    "\n",
    "Lagrangian time! First, energies.\n",
    "\n",
    "$$ \\frac 12 m_1 v_1^2 + \\frac 12 m_2 v_2^2 + \\frac 12 I \\omega_1^2 + \\frac 12 I \\omega_2^2  $$\n",
    "$$ m_2gh_2 $$\n",
    "\n",
    "Note that mass 1 never goes up or down so its potential energy is moot. \n",
    "\n",
    "PHASE II: Coordiantes.\n",
    "\n",
    "We have $\\phi$, the angle of rotaiton (which must be the same for both as they roll without slipping), and $\\theta$, the angle between the line drawn between the cylinders and the upright axis. Simple enough, but now we have to replace everything else we've gotten.\n",
    "\n",
    "$h_2$ is simple enough, its $2Rcos\\theta$, as we measure the zero of potential from the center of the first cylinder and we go up to the center of the second cylinder. Except it would be far more beneficial if we said that the initial potential energy was 0, since energy is conserved that means the total energy would always have to be zero. So instead define the zero point as the top point, and thus the potential height is $-2R(1-cos\\theta)$. Changes little, but will help with part c).\n",
    "\n",
    "The moment of inertia for a cylinder is... oh geez do we really have to calculate that? Ugh.\n",
    "\n",
    "$$ I_zz = \\int (y^2 + x^2) \\rho dV $$\n",
    "$$ = \\int (y^2 + x^2) \\rho dxdydz $$\n",
    "\n",
    "Except cylindrical coordinates would probably be better. \n",
    "\n",
    "$$ = \\rho \\int (r^2sin^2\\theta + r^2cos^2\\theta) r d\\theta dr dz $$\n",
    "$$ = \\rho \\int r^3(sin^2\\theta + cos^2\\theta) d\\theta dr dz $$\n",
    "$$ = \\rho \\int r^3 d\\theta dr dz $$\n",
    "$$ = 2\\pi H \\rho \\int r^3 dr $$\n",
    "$$ = 2\\pi H \\rho R^4/4 $$\n",
    "$$ = \\frac12 M R^2 $$\n",
    "\n",
    "Okay so that's the moment of inertia I. What else do we have? The angular and actual velocities. \n",
    "\n",
    "Our rolling $\\phi$ gives us an easy in-road to the two velocities for the first cylinder. It cannot slip, so if it moves, it has rolled that distance. Thus the velocity is just $R \\dot \\phi$ and the angular velocity is $\\dot \\phi$. The angular velocity of the other cylinder *also* has to be $\\dot \\phi$ as they roll without slipping--EXCEPT IN THE OPPOSITE DIRECTION! The angular momentums MUST cancel as they aren't slipping and the two cylinders are identical, so their rotaiton rates must be the same and opposite. The angular momentum becomes entirely irrelevant! It's cylinder 2's velocity that's the tricky one.\n",
    "\n",
    "The distance we have traveled is $\\theta 2R$ as the pivot is around both radii, which means the \"velocity\" along that distance is $\\dot \\theta 2R$. We have to think: do we need to consider the angular velocity of the entire system? Do we need an I for both cylinders together? We decide no, as we are modeling the speed of the center of the cylinder directly, and the moment of inertia is ultimatly just an addition of a lot of motions of small particles. Rotational energy *is* kinetic energy, just stated differently. \n",
    "\n",
    "Now, the actual velocity of the cylinder itself is $\\dot \\theta 2R$. Except this is going to be added to the motion of the bottom cylinder, which means we need to split it up by component and then add it all back together to get a total velocity. \n",
    "\n",
    "$$ \\dot \\theta 2R \\hat n = -\\dot \\theta 2R sin\\theta \\hat y + \\dot \\theta 2R cos\\theta \\hat x $$\n",
    "\n",
    "Thus...\n",
    "\n",
    "$$ v_2^2 = R^2\\dot\\phi^2 + 4\\dot \\theta^2 R^2 sin^2\\theta + 4\\dot \\theta^2 R^2 cos^2\\theta + 4R^2\\dot\\theta \\dot\\phi cos\\theta $$\n",
    "$$ = R^2\\dot\\phi^2 + 4\\dot \\theta^2 R^2 + 4R^2\\dot\\theta \\dot\\phi cos\\theta $$\n",
    "\n",
    "Which means we now have representaitons for all of our energies.\n"
   ]
  },
  {
   "cell_type": "markdown",
   "id": "9a2f6a82",
   "metadata": {},
   "source": [
    "PHASE III: Lagrangian, T-U. Let's substitute everything in and get...\n",
    "\n",
    "$$ \\mathcal L = \\frac12 M \\left[ R^2\\dot\\phi^2 + R^2\\dot\\phi^2 + 4\\dot \\theta^2 R^2 + 4R^2\\dot\\theta \\dot\\phi cos\\theta \\right] + \\frac14 M R^2 \\left[ \\dot \\phi^2 + \\dot \\phi^2\\right]+ 2 M g R (1-cos\\theta) $$\n",
    "$$ \\mathcal L = \\frac12 M \\left[ 2R^2\\dot\\phi^2 + 4\\dot \\theta^2 R^2 + 4R^2\\dot\\theta \\dot\\phi cos\\theta\\right] + \\frac12 M R^2 \\left[ \\dot \\phi^2\\right] + 2 M g R (1-cos\\theta) $$\n",
    "\n",
    "This is much neater than what we originally had, making us think these are either hte right coordinates or at least good coordinates. In fact we can pull out the radius...\n",
    "\n",
    "$$ \\mathcal L = \\frac12 MR^2 \\left[ 3\\dot\\phi^2 + 4\\dot \\theta^2 + 4\\dot\\theta \\dot\\phi cos\\theta \\right] + 2 M g R (1-cos\\theta) $$"
   ]
  },
  {
   "cell_type": "markdown",
   "id": "966903f8",
   "metadata": {},
   "source": [
    "PHASE IV: E-L Equations. $\\partial_t \\partial_{\\dot q} \\mathcal L - \\partial_q \\mathcal L = 0$. Once for each coordinate. Let's do the rolling angle $\\phi$ first since that's *really* simple.\n",
    "\n",
    "$$ 3MR^2\\ddot\\phi + 2MR^2\\ddot\\theta cos\\theta - 2MR^2\\dot\\theta^2 sin\\theta = 0 $$\n",
    "\n",
    "We talk about conserved quantities now. Since the lagrangian does not depend on $\\phi$ we know that it makes up a conserved quantity, which makes physical sense as both cylinders have to be rotating opposite and equal directions so the total angular momentum from spinning must be zero. However, in order to maintain this, there are now these extra terms in the middle here thrown around awkwardly.\n",
    "\n",
    "Also energy is conserved. Not sure if that helps us but the potential does not depend on t or velocities, so we're good. "
   ]
  },
  {
   "cell_type": "markdown",
   "id": "2f63e51d",
   "metadata": {},
   "source": [
    "$$ 4 MR^2 \\ddot\\theta + 2MR^2\\ddot\\phi cos\\theta - 2MR^2\\dot\\phi\\dot\\theta sin\\theta - 2MgRsin\\theta = 0 $$"
   ]
  },
  {
   "cell_type": "markdown",
   "id": "a3f42a18",
   "metadata": {},
   "source": [
    "These are Lagrange's equations of motion. The quantity that would be labeled $p_\\phi$ in a Hamiltonian is conserved, $p_\\theta$ is not. Energy is also conserved from basic considerations. The presence of couples velocities in the $\\theta$ equation is particuarly bothersome. "
   ]
  },
  {
   "cell_type": "markdown",
   "id": "584ad764",
   "metadata": {},
   "source": [
    "*c) Find a relation between $\\theta$ and $\\dot \\theta$ that can be used to solve for $\\theta$ as a function of time.*"
   ]
  },
  {
   "cell_type": "markdown",
   "id": "bf670476",
   "metadata": {},
   "source": [
    "So, let's consider that conserved \"momentum\". \n",
    "\n",
    "$$ p_\\phi = 3MR^2\\dot\\phi + 2MR^2\\dot\\theta cos\\theta $$\n",
    "\n",
    "It's conserved. It's constant. And, another thing we know, is the initial values of everything here: the initial angular velocities are zero. (more accurately \"infinitesimal\" but that means we can treat it as zero). Which means that the \"momentum\" here itself must ALSO be zero, and STAY zero as it is conserved. Neat! \n",
    "\n",
    "Let's rewrite it in the form we are going to use.\n",
    "\n",
    "$$ \\dot\\phi = \\frac{p_\\phi}{3MR^2} - \\frac{2MR^2\\dot\\theta cos\\theta}{3MR^2} $$\n",
    "$$ \\dot\\phi = \\frac{p_\\phi}{3MR^2} - \\frac{2\\dot\\theta cos\\theta}{3} $$\n",
    "\n",
    "Now as the angular \"momentum\" is always zero this simply reduces to\n",
    "\n",
    "$$ \\dot\\phi = - \\frac{2\\dot\\theta cos\\theta}{3} $$\n",
    "\n",
    "Now, check this out. This means we can define the $\\dot\\phi$ in terms of $\\dot\\theta$. And since energy is conserved we can turn to the HAMILTONIAN to bail us out here:\n",
    "\n",
    "$$ \\mathcal H = \\frac12 MR^2 \\left[ 3\\dot\\phi^2 + 4\\dot \\theta^2 + 4\\dot\\theta \\dot\\phi cos\\theta \\right] - 2 M g R (1-cos\\theta) = 0$$\n",
    "\n",
    "Remember that we set our potential energy to be zero initially and energy is conserved so we can set this to zero. ANd from that, we can solve for the angle! \n",
    "\n",
    "$$ \\mathcal H = \\frac12 MR^2 \\left[ \\frac 43 \\dot\\theta^2 cos^2\\theta + 4\\dot \\theta^2 - \\frac83 \\dot\\theta^2 cos^2\\theta \\right] - 2 M g R (1-cos\\theta) = 0$$"
   ]
  },
  {
   "cell_type": "markdown",
   "id": "bd9118b9",
   "metadata": {},
   "source": [
    "Which we can solve for $\\dot\\theta$ in terms of $\\theta$. The end result is:\n",
    "\n",
    "$$ \\dot\\theta = \\sqrt{\\frac{g(1-cos\\theta)}{R(1-\\frac13 cos^2\\theta)}} $$"
   ]
  },
  {
   "attachments": {
    "image.png": {
     "image/png": "[encoded data removed]"
    }
   },
   "cell_type": "markdown",
   "id": "e7cb059c",
   "metadata": {},
   "source": [
    "This seems reasonable! However we do know from online what it's supposed to be:\n",
    "\n",
    "![image.png](attachment:image.png)\n",
    "\n",
    "Is this the same? The FORM is right, so at least our logic was fine, but the denominator is clearly not equal. Something fishy is amiss.\n",
    "\n",
    "That said we don't think trying to track down the minute algebra error will be of much assistance in this endeavor. Might do it later. "
   ]
  },
  {
   "cell_type": "markdown",
   "id": "36ec29d1",
   "metadata": {},
   "source": [
    "<a id='P3'></a>\n",
    "\n",
    "# Problem 3 \\[Back to [top](#toc)\\]\n",
    "$$\\label{P3}$$\n",
    "\n",
    "*At t=0, a free particle is in a state given by the wave function:*\n",
    "\n",
    "$$ \\psi(r) = (\\frac{\\gamma}{\\pi})^{3/4} e^{-\\gamma r^2 / 2} $$\n",
    "\n",
    "*a) Derive the equivalent momentum-space wave function by Fourier transform.*"
   ]
  },
  {
   "cell_type": "markdown",
   "id": "0b5d31e5",
   "metadata": {},
   "source": [
    "**QUICK LOOKUP** \n",
    "\n",
    "Just need to know what the Fourier transform is... wait that's *provided* nevermind.\n",
    "\n",
    "**IMMEDIATE KNOWLEDGE**\n",
    "\n",
    "Okay so the Fourier transform is\n",
    "\n",
    "$$ \\frac{1}{(2\\pi)^{3/2}} \\int e^{-i\\vec k \\cdot \\vec r} \\psi(\\vec r) d\\vec r $$\n",
    "\n",
    "Right away we note that our radial \"vector\" is really just a function of r and thus always points in r. ...Wait, we don't remember what exactly k here represents... it contains momentum but how can we declare what the angle between it an r is at any given time? Ugh. Yeah will have to look more up on this one, nevermind. "
   ]
  },
  {
   "cell_type": "markdown",
   "id": "110b68f5",
   "metadata": {},
   "source": [
    "It is now clearer, as we are in spherical coordiantes the angle coudl be literally anything. So... the dot product should just go to $krcos\\theta$ right? Sure seems like it. \n",
    "\n",
    "$$ \\frac{1}{(2\\pi)^{3/2}} \\int e^{-ikrcos\\theta} \\psi(\\vec r) r^2sin\\theta drd\\theta d\\phi $$\n",
    "\n",
    "And we naturally substitute in our actual wavefunction\n",
    "\n",
    "$$ \\frac{1}{(2\\pi)^{3/2}} \\int e^{-ikrcos\\theta} (\\frac{\\gamma}{\\pi})^{3/4} e^{-\\gamma r^2 / 2}  r^2sin\\theta drd\\theta d\\phi $$\n",
    "\n",
    "$\\phi$ integral pops right out.\n",
    "\n",
    "$$ \\frac{1}{(2\\pi)^{1/2}} (\\frac{\\gamma}{\\pi})^{3/4} \\int e^{-ikrcos\\theta}  e^{-\\gamma r^2 / 2}  r^2sin\\theta drd\\theta $$"
   ]
  },
  {
   "cell_type": "markdown",
   "id": "4f55fec4",
   "metadata": {},
   "source": [
    "So just do the integral. The angle integral looks hard, but here's a thought:\n",
    "\n",
    "$$ dcos\\theta = -sin\\theta d\\theta $$\n",
    "\n",
    "Which changes this to:\n",
    "\n",
    "$$ \\frac{1}{(2\\pi)^{1/2}} (\\frac{\\gamma}{\\pi})^{3/4} \\int -e^{-ikrcos\\theta}  e^{-\\gamma r^2 / 2}  r^2 drdcos\\theta $$\n",
    "\n",
    "Which, you know, we *can* actually do. Though note that the cosine goes from 1 to -1 rather than 0 to $\\pi$.\n",
    "\n",
    "$$ \\frac{1}{(2\\pi)^{1/2}} (\\frac{\\gamma}{\\pi})^{3/4} \\int \\frac{1}{ikr}\\left(e^{ikr} - e^{-ikr}\\right)  e^{-\\gamma r^2 / 2}  r^2 dr $$\n",
    "\n",
    "Hey there's an exponential form of sine if I've ever seen one.\n",
    "\n",
    "$$ \\frac{1}{(2\\pi)^{1/2}} (\\frac{\\gamma}{\\pi})^{3/4} \\int \\frac{2sin(kr)}{kr}  e^{-\\gamma r^2 / 2}  r^2 dr $$\n",
    "\n",
    "That said it may not be the most help to actually doing the next integral step, unfortunately. \n",
    "\n",
    "$$ \\frac{1}{(2\\pi)^{1/2}} (\\frac{\\gamma}{\\pi})^{3/4} \\int \\frac{1}{ik}\\left(e^{ikr} - e^{-ikr}\\right)  e^{-\\gamma r^2 / 2}  r dr $$\n",
    "$$ \\frac{1}{ik(2\\pi)^{1/2}} (\\frac{\\gamma}{\\pi})^{3/4} \\int re^{-\\gamma r^2 / 2 + ikr} - re^{-\\gamma r^2 / 2 - ikr} dr $$\n",
    "\n",
    "Oh joy, it's time to complete the square. You know what we can just... do that later... mark this problem as *difficult* especially because the next few parts don't make sense either. "
   ]
  },
  {
   "cell_type": "markdown",
   "id": "5f55a925",
   "metadata": {},
   "source": [
    "ALL RIGHT it is time to COMPLETE THE SQUARE! Take something of the form:\n",
    "\n",
    "$$ ax^2 + bx + c = a(x+d)^2 + e$$\n",
    "\n",
    "So what are the procedures for doing this? Well, complete the square, first by ignoring c (in fact we don't even have a c in this problem but whatever). Consider what constant needs to be added to let the squaring exist. We can do this with\n",
    "\n",
    "$$ ax^2 + bx + c + \\frac{b^2}{4a^2} - \\frac{b^2}{4a^2} $$\n",
    "$$ a(x+\\frac{b}{2a})^2 + c - \\frac{b^2}{4a^2} $$\n",
    "\n",
    "Now applying this to OUR problem, we can get:\n",
    "\n",
    "$$ \\frac{1}{ik(2\\pi)^{1/2}} (\\frac{\\gamma}{\\pi})^{3/4} \\int re^{\\frac{-\\gamma}{2}(r -\\frac{ik}{\\gamma})^2}e^{-k^2/\\gamma^2} - re^{\\frac{-\\gamma}{2}(r +\\frac{ik}{\\gamma})^2}e^{-k^2/\\gamma^2} dr $$\n",
    "$$ \\frac{1}{ik(2\\pi)^{1/2}} (\\frac{\\gamma}{\\pi})^{3/4} e^{-k^2/\\gamma^2} \\int re^{\\frac{-\\gamma}{2}(r -\\frac{ik}{\\gamma})^2}- re^{\\frac{-\\gamma}{2}(r +\\frac{ik}{\\gamma})^2}dr $$\n"
   ]
  },
  {
   "cell_type": "markdown",
   "id": "0ea07d5a",
   "metadata": {},
   "source": [
    "The constant in the exponent can be ignored for thea ctual integration, we'll just need to revert later.\n",
    "\n",
    "Uuuuugy we have to integrate by parts first to get rid of that leading r... wait no that doesn't work, an $r^2$ form is not able to reduce. Terrifying. The integral given to us doesn't have a leading r though... which implies we probably made an algebra mistake. "
   ]
  },
  {
   "cell_type": "markdown",
   "id": "fea55474",
   "metadata": {},
   "source": [
    "*b) Calculate the probability density of finding the particle with momentum $\\hbar \\vec k$ at any later time. Is this probability isotropic?*"
   ]
  },
  {
   "cell_type": "markdown",
   "id": "69014f4d",
   "metadata": {},
   "source": [
    "*c) Is the particle in an eigenstate of $L^2$ (square of the angular momentum) and $L_z$ (its z-component)? Hint: the technique of completing hte square may be useful for this problem.*"
   ]
  },
  {
   "cell_type": "markdown",
   "id": "a650fe7d",
   "metadata": {},
   "source": [
    "<a id='P4'></a>\n",
    "\n",
    "# Problem 4 \\[Back to [top](#toc)\\]\n",
    "$$\\label{P4}$$\n",
    "\n",
    "*At t=0, a one-dimensional harmonic oscillator (Hamiltonian H = $\\frac{p^2}{2m} + \\frac12 m \\omega^2 x^2$), is in a state of corresponding to the wave function*\n",
    "\n",
    "$$ \\psi(x,0) = \\frac{1}{\\sqrt{2}} (1 - x/|x|) f(x) $$\n",
    "\n",
    "*where f(x) is real, normalized, and odd under space reflection.*\n",
    "\n",
    "*a) Determine, by explicit calculation, whether $\\psi(x,0)$ is or is not normalized.*"
   ]
  },
  {
   "cell_type": "markdown",
   "id": "6e754c0b",
   "metadata": {},
   "source": [
    "**IMMEDIATE KNOWLEDGE**\n",
    "\n",
    "I can just do this! A normalized wavefunciton is one where $\\int |\\psi^2| = 1$. We have no imaginary components so we don't have to conjugate anything, we just have...\n",
    "\n",
    "$$ \\int_{-\\infty}^{\\infty} |\\frac12 (1-x/|x|)^2 f^2(x)| dx $$"
   ]
  },
  {
   "cell_type": "markdown",
   "id": "6e807735",
   "metadata": {},
   "source": [
    "$$ \\frac12 \\int_{-\\infty}^{\\infty} f^2(x) |(1-x/|x|)^2| dx $$"
   ]
  },
  {
   "cell_type": "markdown",
   "id": "e1eb5f54",
   "metadata": {},
   "source": [
    "$$ \\frac12 \\int_{-\\infty}^{\\infty} f^2(x) |(2-2x/|x|)| dx $$\n",
    "\n",
    "This is interesting, we have eitehr 4 or 0, depending on which side of the number line we are on, positive or negative. Let's go with 4 and adjust the integration bounds accordingly. \n",
    "\n",
    "$$ 2 \\int_{-\\infty}^{0} f^2(x) dx $$\n",
    "\n",
    "This is half the bound f(x) was normalized on before, so it integrates to 1/2. And this will set the full integral to 1! CONFIRMED! "
   ]
  },
  {
   "cell_type": "markdown",
   "id": "a178c4fa",
   "metadata": {},
   "source": [
    "*b) What is the initial probability density at x=0?*\n",
    "\n",
    "It's 0. f(x) is odd, it has to be zero at the origin, and squaring it is not going to change that in any way. "
   ]
  },
  {
   "cell_type": "markdown",
   "id": "ab7dde5b",
   "metadata": {},
   "source": [
    "*c) What is the initial probability of finding the particle in the region [0, +infinity]? What is the initial probability of finding the particle in the region [-infinity, 0]?*"
   ]
  },
  {
   "cell_type": "markdown",
   "id": "3927f64d",
   "metadata": {},
   "source": [
    "The entire probability is contianed within the negative region, so the probability is 1 (initially). Thus the positive region has probability 0 (initially). "
   ]
  },
  {
   "cell_type": "markdown",
   "id": "cf3b577e",
   "metadata": {},
   "source": [
    "*d) Is there a time $t_1$ when we can be certain that the particle is in the region $x \\geq 0?$ IF so, find $t_1$. (Hint: consider utilizing expansions in terms of appropriate eigenfunctions.)*\n",
    "\n",
    "**CAN'T DO THIS WITH IMMEDIATE KNOWLEDGE**. (also this seems to be the bulk of the problem). "
   ]
  },
  {
   "cell_type": "markdown",
   "id": "0be97751",
   "metadata": {},
   "source": [
    "One may think the obvious route is to apply the time evolution operator.\n",
    "\n",
    "$$ U = e^{-i\\frac H\\hbar t} $$\n",
    "\n",
    "The problem is we don't know what f(x) is, so we can't extract the energies, and H isn't in a form that can deal with being squared over and over in a neat pattern. But we can just. Y'know. Multiply the two together and then square them to see if the probaiblity can ge deduced.\n",
    "\n",
    "The probability density over time is:\n",
    "\n",
    "$$ P = \\left(e^{i\\frac H\\hbar t} \\frac{1}{\\sqrt{2}} (1 - x/|x|) f(x)\\right) \\left( e^{-i\\frac H\\hbar t} \\frac{1}{\\sqrt{2}} (1 - x/|x|) f(x) \\right) $$\n",
    "\n",
    "Note that the time-evolution operator gets conjugated in this, nothing else does. We can pull out the constant, but everything else is potentially subject to the actions of the H operator.\n",
    "\n",
    "$$ P = \\frac12 \\left(e^{i\\frac H\\hbar t} (1 - x/|x|) f(x)\\right) \\left( e^{-i\\frac H\\hbar t} (1 - x/|x|) f(x) \\right) $$\n",
    "\n",
    "Hey, hold on a minute. We don't need to find the exact probability everywhere, we just need to know the general spread of the probability, when it'll all be on the other side. In that case, since our wavefunction *must* be a valid wavefunction, that is a sum of eigenstates, then when the hamiltonian acts on it it just produces some value of the energy E. \n",
    "\n",
    "$$ P = \\frac12 \\left(e^{i\\frac E\\hbar t} (1 - x/|x|) f(x)\\right) \\left( e^{-i\\frac E\\hbar t} (1 - x/|x|) f(x) \\right) $$\n",
    "\n",
    "And now we have no operators, so things may continue with normal algebra. However, it just returns to what we had before, as the conjugates cancel...\n",
    "\n",
    "$$ P = \\frac12 (1 - x/|x|)^2 f(x)^2 $$\n",
    "\n",
    "Which would imply that we *must* have our probability remain in the negative side. Which seems a little odd. \n",
    "\n",
    "Perhaps this is because the wavefunction we are given is not an eigenfunction, but rather a sum of eigenfunctions, thus meaning that $H|\\psi> = E|\\psi>$ is not directly applicable? "
   ]
  },
  {
   "cell_type": "markdown",
   "id": "643c948e",
   "metadata": {},
   "source": [
    "The cheat sheet gives us some suggestive relations::\n",
    "\n",
    "$$ H\\psi_n = (n+\\frac12) \\hbar\\omega \\psi_n $$ \n",
    "$$ \\psi_n(-x) = (-1)^n \\psi_n(x) $$\n",
    "$$ \\Psi(x,t) = e^{-i\\frac H\\hbar t}\\Psi(x,0) $$"
   ]
  },
  {
   "cell_type": "markdown",
   "id": "1b07a94b",
   "metadata": {},
   "source": [
    "That middle one gives us the criteria we are looking for. If we wish to inverse the input, we need to multiply the eigenstate by $(-1)^n$. This makes it even more clear that the state we are given is a linear combination of an unknown number of harmonic oscillator functions. Somehow the time evolution operator would have to adjust the signs of each wavefunction precisely, alternating between positive and negative adjustments, to fully flip the wavefunctions around. \n",
    "\n",
    "So let's think about what the time evolution operator is doing:\n",
    "\n",
    "$$ e^{-i\\frac H\\hbar t}\\Psi(x,0) = C_0 e^{-i\\frac{E_0}{\\hbar} t}\\psi_0 + C_1 e^{-i\\frac{E_1}{\\hbar} t}\\psi_1 + C_2 e^{-i\\frac{E_2}{\\hbar} t}\\psi_2 + ...  $$\n",
    "\n",
    "On to infinity. At t=0, we are told this converges to the $\\psi$ we were given.\n",
    "\n",
    "$$ C_0 \\psi_0 + C_1 \\psi_1 + C_2 \\psi_2 + ...  $$\n",
    "\n",
    "In order to converge to the *reverse* $\\psi$ we need\n",
    "\n",
    "$$ C_0 \\psi_0 - C_1 \\psi_1 + C_2 \\psi_2 - ...  $$\n",
    "\n",
    "The frequency at which the time-evolution operator cycles is dependent upon the value of E. WHich we have, see above, it depends on n. All frequencies are similar save for the $n+\\frac12$. We need the odds and evens to be able to synch up and cycle opposite each other at a specific time. \n",
    "\n",
    "The even frequencies are $\\frac12, \\frac52, \\frac92...$\n",
    "\n",
    "The odd frequencies are $\\frac32, \\frac72, \\frac{11}{2}...$\n",
    "\n",
    "Multiples of $2\\pi$ will make the result +1, while $\\pi$ (odd) will make the result -1. \n",
    "\n",
    "Essentially, this hinges upon there being a t such that\n",
    "\n",
    "(1,5,9,...)t = even\n",
    "\n",
    "(3,7,11,...)t = odd\n",
    "\n",
    "However, does such a thing exist? NO! Due to 1, t must be an integer, and integers cannot sort through things. "
   ]
  },
  {
   "cell_type": "markdown",
   "id": "8a4b459a",
   "metadata": {},
   "source": [
    "HOWEVER, we need to note that the ones we needed to multiply by the +1 were *even* functions. If we allow them to be multiplied by -1, then what we get as the final wavefunction is $-\\psi(-x)$. But when we square this to find the probability, the minus sign out front goes away! So the probability density still holds! Hah!\n",
    "\n",
    "So now all we need to do is get odd $pi$ multiples in the exponent. THIS can be done when\n",
    "\n",
    "$$ t = \\frac{2\\pi}{\\omega}  $$\n",
    "\n",
    "Which, when multiplied by *any* of the possible energies, produces an odd multiple of $\\pi$, which sets the time evolution operator to -1, which flips the sign of everything, and thus adjusts the probability over to the other side. HAH!"
   ]
  },
  {
   "cell_type": "markdown",
   "id": "0bf2cd3d",
   "metadata": {},
   "source": [
    "<a id='P5'></a>\n",
    "\n",
    "# Problem 5 \\[Back to [top](#toc)\\]\n",
    "$$\\label{P5}$$\n",
    "\n",
    "*A particle with spin quantum number s=1 is subject to an extermal magnetic field $\\vec B = B\\hat x$. The Hamiltonian of the system is $H = g\\vec B \\cdot \\vec S$. Ignore all spatial degrees of freedom.*\n",
    "\n",
    "*a) Obtian explicitly the spin matrices. $S_x, S_y, S_z$, in the basis of the eigenstates of $S^2$ and $S_z, |s,m_z>$*"
   ]
  },
  {
   "cell_type": "markdown",
   "id": "d09d2ccc",
   "metadata": {},
   "source": [
    "So we note first of all that the main difference here is that we're not dealing with spin 1/2. but spin *1*. So we're going to need to do some finagling to find what the actual spin matrices are. \n",
    "\n",
    "Spin is dictated by the two quantum numbers s and m. S is always positive, and m ranges from +s to -s with intervals of 1. s is fixed, but m can take -1 0 and 1. So we have THREE states to consider: (1,1) (1,0) and (1,-1). However since we have THREE states we need THREE eigenvalues and thus every matrix needs to be 3x3. Annoying, but doable. (The answers can even be looked up without too much difficulty). \n",
    "\n",
    "Relations we would have to have memorized:\n",
    "\n",
    "$$ S^2 |sm> = \\hbar^2 s (s+1) |sm> $$\n",
    "$$ S_z |sm> = \\hbar m |sm> $$\n",
    "\n",
    "We are helpfully *provided* some relations:\n",
    "\n",
    "$$ S_\\pm = S_x \\pm iS_y $$\n",
    "$$ S_\\pm|sm> \\hbar \\sqrt{s(s+1) - m(m\\pm1)} |s m\\pm1>$$"
   ]
  },
  {
   "cell_type": "markdown",
   "id": "057e290c",
   "metadata": {},
   "source": [
    "So we know the eigenvalues, but we *don't* know the eigenstates *or* the matrices! However, we can say that these matrices are hamiltonian-independent, so we do't need to worry about the magnetic part yet. *yet*.\n",
    "\n",
    "The general state will be (a,b,c). We should be able to define the matrix for any orientation of this we want, there's a lot of nonspecificity, so let's declare the eigenvectors to be (1,0,0) (0,1,0) and (0,0,1). Let these represent up, null, and down, respectively. \n",
    "\n",
    "In this case we can construct $S_z$ by inspection.\n",
    "\n",
    "$$ S_z = \\hbar\\begin{bmatrix} 1 & 0 & 0 \\\\\n",
    "0 & 0 & 0 \\\\\n",
    "0 & 0 & -1 \\end{bmatrix}$$"
   ]
  },
  {
   "cell_type": "markdown",
   "id": "96deb3f2",
   "metadata": {},
   "source": [
    "The raising and lowering operators can give us the other two. Let's start from the null spin state. Raising and lowering it gets two different relations:\n",
    "\n",
    "$$ S_x(0,1,0) + iS_y(0,1,0) = \\hbar \\sqrt2 (1,0,0) $$\n",
    "$$ S_x(0,1,0) - iS_y(0,1,0) = \\hbar \\sqrt2 (0,0,1) $$\n",
    "\n",
    "The $S_x$ appears in both of them, so we can create:\n",
    "\n",
    "$$ \\hbar \\sqrt2 (-1,0,1) + 2iS_y(0,1,0) = $$\n",
    "$$ \\frac{\\hbar}{\\sqrt2} (-1,0,1) = - iS_y(0,1,0) $$\n",
    "\n",
    "Unfortunately this only tells us the middle column for $S_y$, -i, 0, i times the constant. By nature we can argue we must have an antisymmetric (by conjugate) matrix but that doesn't fill in the corners. Fortunately we can get more relations from the up and down spin states. \n",
    "\n",
    "$$ S_x(1,0,0) + iS_y(1,0,0) = \\hbar \\sqrt2 (0,1,0) $$\n",
    "$$ S_x(0,0,1) - iS_y(0,0,1) = \\hbar \\sqrt2 (0,1,0) $$\n",
    "\n",
    "Therefore\n",
    "\n",
    "$$ S_x(1,0,0) + iS_y(1,0,0) = S_x(0,0,1) - iS_y(0,0,1) $$\n",
    "\n",
    "Not immediately helpful, though it does confirm our symmetries we discussed earlier. (Basically just a confirmation of the Hermitian property). Actually, no, this *does* tell us more! It says that columns 1 and 3 in $S_y$ differ only by a sign. To be a Hermitian matrix, which is necessary, that means the corners can only be 0 as the final result cannot be imaginary! Thus...\n",
    "\n",
    "$$ S_y = \\frac{\\hbar}{\\sqrt2}\\begin{bmatrix} 0 & -i & 0 \\\\\n",
    "i & 0 & -i \\\\\n",
    "0 & i & 0 \\end{bmatrix}$$\n",
    "\n",
    "Now that we know $S_y$ we can find $S_x$"
   ]
  },
  {
   "cell_type": "markdown",
   "id": "fc468a9f",
   "metadata": {},
   "source": [
    "$$ S_x(0,1,0) + iS_y(0,1,0) = \\hbar \\sqrt2 (1,0,0) $$\n",
    "$$ \\Rightarrow S_x(0,1,0) + \\frac{\\hbar}{\\sqrt2}(1,0,-1) = \\hbar \\sqrt2 (1,0,0) $$\n",
    "$$ \\Rightarrow S_x(0,1,0) = \\frac{\\hbar}{\\sqrt2} (1,0,1) $$\n",
    "\n",
    "Similar argumetns to before, must be hermitian. However we do need to concern ourselves with the corners: The \"cant be imaginary in the end\" doesn't help us here. Why are the corners zero? $S_y$ doesn't interact with them so it doesn't break any symmetries. Ah, but since $S_y$ provides nothing there and the result has nothing there, $S_x$ must also have nothing there. \n",
    "\n",
    "$$ S_x = \\frac{\\hbar}{\\sqrt2}\\begin{bmatrix} 0 & 1& 0 \\\\\n",
    "1 & 0 & 1 \\\\\n",
    "0 & 1 & 0 \\end{bmatrix}$$\n",
    "\n",
    "The three matirces match what we would expect. "
   ]
  },
  {
   "cell_type": "markdown",
   "id": "be4c0a65",
   "metadata": {},
   "source": [
    "*b) The particle is initially (t=0) in the state |1,1>. Find the evolved state of the particle at times t>0.*"
   ]
  },
  {
   "cell_type": "markdown",
   "id": "16347cf9",
   "metadata": {},
   "source": [
    "TIME EVOLUTION OPERATOR!\n",
    "\n",
    "$$ U = e^{-i\\frac H\\hbar t} $$\n",
    "\n",
    "Now, what acutally IS H today? $gBS_x$, okay! Anyway, to keep things simple make all variables C, leaving only the imaginary number i and matrices. \n",
    "\n",
    "$$ U = e^{-iC\\sigma_x} $$\n",
    "\n",
    "Note that we've \"pauliified\" the spin matrix since that leading constant goes into C. Now to actually use this we'll want it in matrix form, which is going to involve...\n",
    "\n",
    "$$ e^A = \\sum \\frac{A^n}{n!} = I + A + \\frac{A^2}{2} + \\frac{A^3}{6} + ...$$\n",
    "\n",
    "So what happens when we square the pauli version of the matrix? Well, unlike with the normal Pauli matrices which just flip back and forth, we end up with an interesting sequence:\n",
    "\n",
    "$$ \\begin{bmatrix} 0 & 1& 0 \\\\\n",
    "1 & 0 & 1 \\\\\n",
    "0 & 1 & 0 \\end{bmatrix},\\begin{bmatrix} 1 & 0 & 1 \\\\\n",
    "0 & 2 & 0 \\\\\n",
    "1 & 0 & 1 \\end{bmatrix},\\begin{bmatrix} 2 & 0 & 2 \\\\\n",
    "0 & 4 & 0 \\\\\n",
    "2 & 0 & 2 \\end{bmatrix},\\begin{bmatrix} 8 & 0 & 8 \\\\\n",
    "0 & 16 & 0 \\\\\n",
    "8 & 0 & 8 \\end{bmatrix},\\begin{bmatrix} 128 & 0 & 128 \\\\\n",
    "0 & 256 & 0 \\\\\n",
    "128 & 0 & 128 \\end{bmatrix},...\\begin{bmatrix} 2^{2^n-1} & 0 & 2^{2^n-1} \\\\\n",
    "0 & 2^{2^n} & 0 \\\\\n",
    "2^{2^n-1} & 0 & 2^{2^n-1} \\end{bmatrix}$$\n",
    "\n",
    "What a strange sequence... regardless we can pull it out like:\n",
    "\n",
    "$$ 2^{2^n-1}\\begin{bmatrix} 1 & 0 & 1 \\\\\n",
    "0 & 2 & 0 \\\\\n",
    "1 & 0 & 1 \\end{bmatrix}$$\n",
    "\n",
    "Notably n=0 here actually corresponds to squaring the matrix. Which means the actual sum we need to solve is:\n",
    "\n",
    "$$ \\sum \\frac{2^{2^n-1}}{(n+2)!} $$\n",
    "\n",
    "Except we need to consider the leading coefficients now. \n",
    "\n",
    "$$ \\sum \\frac{2^{2^n-1}}{(n+2)!}C^{n+2} $$"
   ]
  },
  {
   "attachments": {
    "image-2.png": {
     "image/png": "[encoded data removed]"
    }
   },
   "cell_type": "markdown",
   "id": "71fb389e",
   "metadata": {},
   "source": [
    "To put it simply, I don't know how to evaluate this series, and trying to have wolfram calculate the series says it DIVERGES. Wow. And yet we know this is the x matrix, it matches the spin-1 matrix we found online, and the calculator has found good results. So maybe there's a trick so that we don't have to write it out? \n",
    "\n",
    "Let's look at the time evolution operator in pure exponential form.\n",
    "\n",
    "$$ e^{-\\frac{igBt}{\\sqrt2} S_x} $$\n",
    "\n",
    "The thing is there appears to be a *rule* for an operator in an exponent acting on a ket, but I can't figure out what it is. TIME TO GO HUNTING! \n",
    "\n",
    "![image-2.png](attachment:image-2.png)\n",
    "\n",
    "This is the magic relation. It only works for Hermitian operators but we are an observable and we constructed it as such so YAY! \n",
    "\n",
    "But wait this means we need to know the energies of the individual states. Fortunately we do, we have them from $S_z$, $\\hbar, 0 , -\\hbar$. This means the time evolution operator eigenvalue in each case is...\n",
    "\n",
    "$$ e^{-\\frac{ig\\hbar t}{\\sqrt2}}, 1, e^{\\frac{ig\\hbar t}{\\sqrt2}} $$"
   ]
  },
  {
   "cell_type": "markdown",
   "id": "e570d087",
   "metadata": {},
   "source": [
    "But THESE are for the x operator's eigenvalues and, more importantly, eigenvectors. So we probaly should just go and find those then construct z-up out of them. We have the energies, we just need the vectors themselves so we can construct (1,0,0) with them. \n",
    "\n",
    "We considered glossing over this but one of the eigenvalues is 0, which means the calculation's gonna be a bit odd. The + and - energy value states are pretty straightforward, just solve the linear system. \n",
    "\n",
    "$$ (1/2, \\pm1/\\sqrt2, 1/2) $$\n",
    "\n",
    "However, the ZERO case is a bit different. For (a,b,c) we need:\n",
    "\n",
    "$$ b/\\sqrt2 = 0 $$\n",
    "$$ (a+c)/\\sqrt2 = 0 $$\n",
    "\n",
    "Which implies a=c and for normalization is \n",
    "\n",
    "$$ (1/\\sqrt2, 0, -1/\\sqrt2) $$\n",
    "\n",
    "And all three of these are akin to what we would find in z, just in x. EACH of them time evolves differently, notably the - case does not time evolve at all.\n",
    "\n",
    "$$ e^{\\mp\\frac{ig\\hbar t}{\\sqrt2}}(1/2, \\pm1/\\sqrt2, 1/2) $$\n",
    "$$ (1/\\sqrt2, 0, -1/\\sqrt2) $$"
   ]
  },
  {
   "cell_type": "markdown",
   "id": "6fd86700",
   "metadata": {},
   "source": [
    "Anyway, we need to find a linear combination of these that equal (1,0,0) at t=0. This is actually not hard to do, let up and down vectors be equal to each other, which cancels out the middle term, and then subtract off the null spin. \n",
    "\n",
    "$$ \\chi = \\frac12 \\chi_+ + \\frac{\\sqrt2}{2}\\chi_0 + \\frac12 \\chi_-$$\n",
    "\n",
    "And so applying the time evolution operator gives us...\n",
    "\n",
    "$$ \\frac12 \\left( e^{-\\frac{ig\\hbar t}{\\sqrt2}}\\frac12 + 1 + e^{\\frac{ig\\hbar t}{\\sqrt2}}\\frac12, e^{-\\frac{ig\\hbar t}{\\sqrt2}}\\frac{1}{\\sqrt2} - e^{\\frac{ig\\hbar t}{\\sqrt2}}\\frac{1}{\\sqrt2}, e^{-\\frac{ig\\hbar t}{\\sqrt2}}\\frac12 - 1 + e^{\\frac{ig\\hbar t}{\\sqrt2}}\\frac12\\right) $$\n",
    "\n",
    "A mess? Yes. Correct? I believe so, barring an algebra error or something. Note that at t=0 this is (1,0,0)"
   ]
  },
  {
   "cell_type": "markdown",
   "id": "7853a902",
   "metadata": {},
   "source": [
    "*c) What is the probability of finding the particle in the state |1,-1> as a function of time?*"
   ]
  },
  {
   "cell_type": "markdown",
   "id": "d310df33",
   "metadata": {},
   "source": [
    "Oh in this case we just need the square coefficient in front of the state we placed there in the generality. Spin down is 1/4. for the initial state. Once we apply the time evolution operator, this gains the egenvalue of the time evolution operator. So... $ \\frac14 e^{\\frac{2ig\\hbar t}{\\sqrt2}} $. This is our probability. "
   ]
  },
  {
   "cell_type": "markdown",
   "id": "47881908",
   "metadata": {},
   "source": [
    "<a id='P6'></a>\n",
    "\n",
    "# Problem 6 \\[Back to [top](#toc)\\]\n",
    "$$\\label{P6}$$\n",
    "\n",
    "*An insulating spherical shell of radius R carries a total charge Q uniformly distributed over its surface. The center of this sphere is located a distance 2R above an infinite grounded conducting plane. THere is also a negative point charge -q that lies a distance z from teh conducting surface along hte axis of the shell.*\n",
    "\n",
    "*a) Compute the net force on the point charge for all possible values of z above the conducting plane.*"
   ]
  },
  {
   "cell_type": "markdown",
   "id": "31b20c10",
   "metadata": {},
   "source": [
    "**IMMEDIATE KNOWLEDGE**\n",
    "\n",
    "This is a method of images problem! Remove the conducting plate, replace it with another spherical shell and point charge, but of opposite charge. \n",
    "\n",
    "To construct the final force, we will construct the global electric field by adding all four fields together. (Along the axis z, so this will make it a little easier. Fortunately everything is along z, so no funky angles here). \n",
    "\n",
    "While *inside* a shell, a particle feels no force from it, so while we are interior we can ignore it. While exterior, by Gauss' law, the shell produces a field akin to a point charge! \n",
    "\n",
    "Point charge electric field is:\n",
    "\n",
    "$$ E = \\frac{Q}{4\\pi \\epsilon_0 r^2} $$\n",
    "\n",
    "And F = qE. How brilliant! And the mirrored point charge will just replace Q with q, and we have to watch our signs. \n",
    "\n",
    "However, the r will adjust. None of these objects are at the origin. So with some adjustments, we can find the force due to each one with respect to z...\n",
    "\n",
    "$$ E_1 = \\frac{Q}{4\\pi \\epsilon_0 (2R - z)^2} $$\n",
    "$$ E_2 = \\frac{-Q}{4\\pi \\epsilon_0 (2R + z)^2} $$\n",
    "$$ E_3 = \\frac{q}{4\\pi \\epsilon_0 (2z)^2} $$\n",
    "\n",
    "Now we have two regines, one where $E_1$ is active, and one where it is not since we're inside $E_1$. Inside first:\n",
    "\n",
    "$$ F = -q\\left( \\frac{-Q}{4\\pi \\epsilon_0 (2R + z)^2} + \\frac{q}{4\\pi \\epsilon_0 (2z)^2} \\right) $$\n",
    "\n",
    "Note that the action of the mirrored -Q on the charge -q is positive, upward, which matches repulsive force we would expect. So our signs are good. For outside we just add the action of the primary shell. \n",
    "\n",
    "$$ F = -q\\left( - \\frac{Q}{4\\pi \\epsilon_0 (2R - z)^2} + \\frac{-Q}{4\\pi \\epsilon_0 (2R + z)^2} + \\frac{q}{4\\pi \\epsilon_0 (2z)^2} \\right) $$\n",
    "\n",
    "Notably we adjusted the leading sign since now that we're *above* the charge, the direction of repulsion/attraction has changed. Fortunatley it still works out. This is the answer! "
   ]
  },
  {
   "cell_type": "markdown",
   "id": "afff428e",
   "metadata": {},
   "source": [
    "*b) Is there any range of values for q that woudl result in the point charge feeling zero net force at some location inside the sphere? If so, what are the maximum and minimum values of q for which that is possible?*\n",
    "\n",
    "**DIAGRAM:** *A diagram of a gournded plate. z above the plate is a charge -q, and the charge is inside a shell at height 2R with total charge Q, R being the diameter of the shell.*"
   ]
  },
  {
   "cell_type": "markdown",
   "id": "c4fd7910",
   "metadata": {},
   "source": [
    "Using only the interior verison, we do see that there is, in fact, a positive and a negative term, so it's at least possible for everything to cancel out inside the sphere. Basically, we're asking to find the conditions on:\n",
    "\n",
    "$$ \\frac{q}{(2z)^2} - \\frac{Q}{(2R+z)^2} = 0 $$\n",
    "\n",
    "For R < z < 3R. Solve for q, and then use the limits of z to find our maxes and mins.\n",
    "\n",
    "$$ q = \\frac{4Qz^2}{(2R+z)^2} $$\n",
    "\n",
    "Now impose the z limits... no worrying about sign flips inside the sphere, there's no force. \n",
    "\n",
    "\n",
    "$$ q = \\frac{4QR^2}{9R^2} = 4Q/9 $$\n",
    "$$ q = \\frac{36QR^2}{25R^2} = 36Q/25 $$\n",
    "\n",
    "Okay so this might be the max and min since these are the edges of the sphere and... oh why not the center too.\n",
    "\n",
    "$$ q = 16Q/16 = Q $$\n",
    "\n",
    "It appears to be a smooth increase. If we wanted to be sure we would take a derivative, but this seems sufficient for now. \n"
   ]
  },
  {
   "cell_type": "markdown",
   "id": "c53d667d",
   "metadata": {},
   "source": [
    "<a id='P7'></a>\n",
    "\n",
    "# Problem 7 \\[Back to [top](#toc)\\]\n",
    "$$\\label{P7}$$\n",
    "\n",
    "*Consider two straight parallel wires carrying equal currents I in the same direction parallel to the z-axis that are located at [x,y] = [+D,0] and [x,y] = [-D,0].*\n",
    "\n",
    "*a) What is the leading-order expression for the magnetic field (magnitude and direction) along the x axis where x << D (i.e. close to the line halfway between the two wires).*"
   ]
  },
  {
   "cell_type": "markdown",
   "id": "bf250413",
   "metadata": {},
   "source": [
    "**QUICK LOOKUP**\n",
    "\n",
    "So what we need here is the magnetic field around a wire. I know what direction it's going by the right hand rule, but alas, that is insufficient. \n",
    "\n",
    "$$ \\vec B = \\frac{\\mu_0 I}{2\\pi r} \\hat \\phi $$ \n",
    "\n",
    "We'll need this in cartesian though, so we have\n",
    "\n",
    "$$ \\vec B = \\frac{\\mu_0 I}{2\\pi r} (cos\\phi \\hat y - sin\\phi \\hat x) $$ \n",
    "\n",
    "$$ \\vec B = \\frac{\\mu_0 I}{2\\pi r} (\\frac xr \\hat y - \\frac yr \\hat x) $$ \n",
    "\n",
    "$$ \\vec B = \\frac{\\mu_0 I}{2\\pi r^2} (x \\hat y - y \\hat x) $$ "
   ]
  },
  {
   "cell_type": "markdown",
   "id": "99cddc0e",
   "metadata": {},
   "source": [
    "Here's the thing though, this is a wire at the origin. We have two *offset* wires, offset specifically by D. Fortunately D is only an x offset, so this only changes x. That said $r^2 = x^2 + y^2$ so the radius variable is going to have to change as well. \n",
    "\n",
    "$$ \\vec B_+ = \\frac{\\mu_0 I}{2\\pi (y^2 + (x-D)^2)} ((x-D) \\hat y - y \\hat x) $$ \n",
    "$$ \\vec B_- = \\frac{\\mu_0 I}{2\\pi (y^2 + (x+D)^2)} ((x+D) \\hat y - y \\hat x) $$ \n",
    "\n",
    "At the origin these cancel, so this seems like it works. \n",
    "\n",
    "Anyway, for our first problem here, we are working along the x axis, so we need to set y=0.\n",
    "\n",
    "$$ \\vec B =  \\frac{\\mu_0 I}{2\\pi (x-D)^2} ((x-D) \\hat y) + \\frac{\\mu_0 I}{2\\pi ((x+D)^2)} ((x+D) \\hat y) $$\n",
    "\n",
    "At the origin this is zero, and it only points in y, good. And actually isn't this sufficient to find the answer? We are told to approximate, though, so we can't just submit this as the answer. Clean it up anyway, though. \n",
    "\n",
    "$$ \\vec B =  \\frac{\\mu_0 I}{2\\pi} \\hat y \\left[ \\frac{x-D}{(x-D)^2}+ \\frac{x+D}{(x+D)^2} \\right] $$"
   ]
  },
  {
   "cell_type": "markdown",
   "id": "5f66bf9e",
   "metadata": {},
   "source": [
    "To first order, D dominates and everything is zero. So we want to take things to second order, which means we could only get rid of $x^2/D^2$ terms. We do have some of thsoe in the denominators.\n",
    "\n",
    "$$ \\vec B =  \\frac{\\mu_0 I}{2\\pi}  \\left[ \\frac{x-D}{x^2-2xD+D^2}+ \\frac{x+D}{x^2+2xD+D^2} \\right]\\hat y $$\n",
    "$$ =  \\frac{\\mu_0 I}{2\\pi}  \\left[ \\frac{x-D}{D^2(x^2/D^2-2x/D+1)}+ \\frac{x+D}{D^2(x^2/D^2+2x/D+1)} \\right]\\hat y $$\n",
    "\n",
    "And so if we apply the second order apprxoimation we get\n",
    "\n",
    "$$ =  \\frac{\\mu_0 I}{2\\pi}  \\left[ \\frac{x-D}{D^2-2xD}+ \\frac{x+D}{D^2+2xD} \\right]\\hat y $$\n",
    "\n",
    "Which we suppose is our answer. "
   ]
  },
  {
   "cell_type": "markdown",
   "id": "aefe87d1",
   "metadata": {},
   "source": [
    "*d) Waht is the leading-order expression for the magnetic field (magnnitude and direction) along the y axis where y << D (i.e. clsoe to the line halfway between the two wires).*"
   ]
  },
  {
   "cell_type": "markdown",
   "id": "0fe833c4",
   "metadata": {},
   "source": [
    "So in the case of the y axis, it is x that equals zero.\n",
    "\n",
    "$$ \\vec B = \\frac{\\mu_0 I}{2\\pi (y^2 + D^2)} (-D \\hat y - y \\hat x) + \\frac{\\mu_0 I}{2\\pi (y^2 + D^2)} (D \\hat y - y \\hat x) $$ "
   ]
  },
  {
   "cell_type": "markdown",
   "id": "df8c3d5a",
   "metadata": {},
   "source": [
    "Note that the y direction completely cancels leaving us with only x directional stuff. \n",
    "\n",
    "$$ \\vec B = -\\frac{\\mu_0 I}{\\pi (y^2 + D^2)} (y \\hat x) $$ \n",
    "\n",
    "The D dominance here is much simpler to just apply. \n",
    "\n",
    "$$ \\vec B = -\\frac{\\mu_0 I}{\\pi D^2} (y \\hat x) $$ \n",
    "\n",
    "And there we go. "
   ]
  },
  {
   "cell_type": "markdown",
   "id": "398ceb94",
   "metadata": {},
   "source": [
    "*c) Sketch the magnetic field around the mid-line between the two wires. Does the field in this region have a nonzero curl?*"
   ]
  },
  {
   "attachments": {
    "image.png": {
     "image/png": "[encoded data removed]"
    }
   },
   "cell_type": "markdown",
   "id": "5ac06c06",
   "metadata": {},
   "source": [
    "![image.png](attachment:image.png)\n",
    "\n",
    "Something like this. "
   ]
  },
  {
   "attachments": {
    "image.png": {
     "image/png": "[encoded data removed]"
    }
   },
   "cell_type": "markdown",
   "id": "c4a8b7d2",
   "metadata": {},
   "source": [
    "![image.png](attachment:image.png)\n",
    "\n",
    "An actual diagram is like this, pointing out that the symmetry is not complete. But near the center it'll still look like it. \n",
    "\n",
    "Anyway, does this have a nonzero curl? Curl measures how much we're ciruclating. And, at the moment, there does not appear to be any circulation going on *between* the wires, so I'll say it's absolutely zero here. "
   ]
  },
  {
   "cell_type": "markdown",
   "id": "7caadb7b",
   "metadata": {},
   "source": [
    "<a id='P8'></a>\n",
    "\n",
    "# Problem 8 \\[Back to [top](#toc)\\]\n",
    "$$\\label{P8}$$\n",
    "\n",
    "*Consider two parallel plates separated by a distance d in the z-direction, which, under appropriate conditions, can serve as a transmission line for waves propogating in the x-direction. An extermal power supply causes the voltage difference between the two plates at x=0 to oscillate with time like $\\Delta V = V_0 cos\\omega t$. In addition, the space between the plates is filled with a dielectric with a permeability $\\mu_0$ and a permittivity similar to that of a plasma: $\\epsilon = \\epsilon_0 (1 - \\omega_P^2 / \\omega^2)$*\n",
    "\n",
    "*a) If $\\omega > \\omega_p$, write down expression for the electric and magnetic fields in terms of $V_0$, for all x>0 between the two conductors. You may assume both fields are everywhere transverse (that is, neither the electric nor the magnetic field has an x-component).*"
   ]
  },
  {
   "cell_type": "markdown",
   "id": "50f10cd2",
   "metadata": {},
   "source": [
    "**QUICK LOOKUP**\n",
    "\n",
    "This is a relatively basic \"capacitor with a dielectric in it\" situation. We can do this. The only problem will be the time dependence here. \n",
    "\n",
    "Oh no, reading it this is *not* a simple problem at all, it's not a difference between the plates that's being maintained, but rather a specific voltage only at a *single plane* that is *not* in line with the plates. Each plate is a z plate, this is an x plate. So what we have is a plane of arrows pointing 1 direction in E and then they are going to propogate out along the guiding plates to infinity both \"above\" and \"below\" the voltage, and B will point perpendicular. We can determine that we'll end up with a wave traveling in the x direction (or -x direction) symmetric about the x=0 plane. \n",
    "\n",
    "Beyond that it seems far more complicated now, especially because of the dielectric. But now that we've returned it's clearly a sort of WAVE GUIDE. (we know this is what it is since it's called a Transmission Line. This is even specifically a parallel-plate line. \n",
    "\n",
    "Note: in our lookups we found that $\\omega>\\omega_p$ corresponds to normal waves and $\\omega<\\omega_0$ corresponds to damped waves, and we don't care about the equal case here. (pure oscillation is what occurs, curiously). This is determined entirely by the sign of $\\epsilon.$ \n",
    "\n",
    "Anyway though, we'll add the dielectric in later, first let's get the non-dielectric problem solved. This situation is equivalent to a waveguide encountering a plane wave when we ignore fringing fields. Since the two plates are independent the TEM solution (head-on) exists, such as with a coaxial cable. For any \"guiding\" situation like this, we can have:\n",
    "\n",
    "$$ \\vec E = \\vec E_\\perp (y,z) e^{i(hx-\\omega t)} $$\n",
    "$$ \\vec B = \\vec B_\\perp (y,z) e^{i(hx-\\omega t)} $$\n",
    "\n",
    "z is the direction of propogation, and h is a scaled k, as k = $\\omega / c$. Naturally the speed of light in the medium is going to change once we adjust it, so $h = \\omega / \\sqrt{\\mu\\epsilon}$. For the first part, though, the dielectric simply isn't there. \n",
    "\n",
    "Anyway, due to symmetry, we know there can be no y dependence due to symmetry. There could be an z dependence, though. Fortunately as this is an ideal situaiton, the wave is just going to be absolutely transmitted, so if we can find the electric wave created at the initial position, we can just carry it forward. The voltage is provided, and across a flat distance it's constant, so we use E = V/d, where d is z in this case. \n",
    "\n",
    "The actual voltage (not the distance) would be $ \\vec V = zV_0 cos\\omega t \\hat z $, where we hold one side constant at zero and the other side varies between positive and negative voltages. If one side was not held at zero the result should be the same, this is just the simplest way to do it. This means that \n",
    "\n",
    "$$ \\vec E = V_0 cos(\\omega t) \\hat z $$\n",
    "$$ \\vec B = - \\sqrt{\\frac{\\epsilon_0}{\\mu_0}} V_0 cos(\\omega t) \\hat y $$\n",
    "\n",
    "Remember the direction of the magnetic field is the direction of propogation crossed into the electric field. The result is always perpendicular. Note that the z dependence of the potential is canceled out. E could have a positive or negative sign, but it doesn't matter. Also looks like this problem will use trig form rather than exponential.  \n",
    "\n",
    "Anyway, extending this wave along its propogaiton direction, we get...\n",
    "\n",
    "$$ \\vec E =  V_0 cos(kx - \\omega t) \\hat z $$\n",
    "$$ \\vec B = - \\sqrt{\\frac{\\epsilon_0}{\\mu_0}} V_0 cos(kx - \\omega t) \\hat y $$\n",
    "\n",
    "Which is the solution for forward propogating x waves in this transmission line WITHOUT the dielectric. \n",
    "\n",
    "WITH the dielectric... well we just replace $\\epsilon_0$ with $\\epsilon$ since it's positive in this case and we have no issue. Note that k is replaced with h, where h = $\\omega \\sqrt{\\mu \\epsilon}$. \n",
    "\n",
    "Of course this doesn't work for the other one since that means taking the square root of a negative. Which ain't good. But that's the next part!"
   ]
  },
  {
   "cell_type": "markdown",
   "id": "8119f7f8",
   "metadata": {},
   "source": [
    "*b) If $\\omega < \\omega_p$, write down expressions for the electric and magnetic fields in terms of $V_0$, for all x>0 between the two conductors. Again, you may assume both fields are everywhere transverse (that is, neither the electric nor the magnetic field has an x-component).*"
   ]
  },
  {
   "cell_type": "markdown",
   "id": "6ad02b3f",
   "metadata": {},
   "source": [
    "So, your $\\epsilon$ is in a weird material and is now negative, what now? We know the result indicates that what actually goes into the material is damped, but how exactly? \n",
    "\n",
    "THIS appares to not be simple and will require a full picture of complex permittivity. Which I am not understanding. Blegh. \n",
    "\n",
    "Wait! Found it! So if we have a wave of the form $Ee^{i(kx-\\omega t)}$ we know we can split it up into trig portions, a real cosine and an imaginary sine. *WELL*, k = $\\omega \\sqrt{\\mu\\epsilon}$, if $\\epsilon$ is negative this adds another i component! \n",
    "\n",
    "$$ Ee^{-\\omega\\sqrt{-\\mu\\epsilon} - i\\omega t} $$\n",
    "\n",
    "Now this can be split into two exponentials.The one with the imaginary number in it becomes our normal cosine. But the remaining one is real, thus becoming a *damping* term. \n",
    "\n",
    "$$ \\vec E = V_0 cos(\\omega t) e^{-\\omega \\sqrt{-\\mu\\epsilon}} \\hat z$$\n",
    "$$ \\vec E = - \\sqrt{\\frac{\\epsilon}{\\mu}} V_0 cos(\\omega t) e^{-\\omega \\sqrt{-\\mu\\epsilon}} \\hat y $$\n",
    " \n",
    "HAH! victory. "
   ]
  },
  {
   "cell_type": "markdown",
   "id": "cbd69c04",
   "metadata": {},
   "source": [
    "<a id='P9'></a>\n",
    "\n",
    "# Problem 9 \\[Back to [top](#toc)\\]\n",
    "$$\\label{P9}$$\n",
    "\n",
    "*The Van der Walls equation of state for one mole of a real (or imperfect) gas is given by*\n",
    "\n",
    "$$ (P + a/V^2) (V-b) = RT $$\n",
    "\n",
    "*a) Briefly, explain the physical meaning of the terms in the above equation that are not present in the case of an ideal (perfect) gas.*"
   ]
  },
  {
   "cell_type": "markdown",
   "id": "d8f3c089",
   "metadata": {},
   "source": [
    "So the ideal gas terms we don't care about, aka, PV=nRT. Notably n is absent here (Though since we are at 1 mole it's just suppressed, the full form is $(P+an^2/V^2)(V-nb) = nRT$). What we really care about are the parameters a and b. Now we can determine mathematically what they do: a would provide an overall increase in temperature while b would provide a decrease. But what, physically, are they?\n",
    "\n",
    "b is easier to explain, it represents a form of \"incompressibility\", that is, realistically, atoms can't be smashed together closer than a certain volume. If the volume ever equals b, the \"minimum volume\", then pressure shoots to infinity to compensate and we are not going to get anything useful out of this. \n",
    "\n",
    "What about a, though? It has to do with the positive intermolecular forces between various particles, as volume goes down, the distance between particles goes down as well, so that explains the relation with V. However, we can get more specific with this, as to why it's specificlaly the square volume. a is just some scaling constant dependent on the material. \n",
    "\n",
    "This can be derived rather quickly: potential energy of a particle due to all its neighbors is -aN/V, where N is the number of particles, and since there's energy for each particle, the total is $-aN^2/V$. Take the negative derivative with respect to volume to get pressure due to this, which gives us a $1/V^2$ term. Notably this will be negative, but the derivable form of the Van der Waals equation looks like this:\n",
    "\n",
    "$$ P = \\frac{NkT}{V-Nb} - \\frac{aN^2}{V^2}$$\n",
    "\n",
    "Naturally if we rearrange things we restore the plus sign. \n",
    "\n",
    "Notably the derivation of \"a\"'s contribution is heavily suspect due to simplifying asssumptions. But it functions better than an ideal gas!"
   ]
  },
  {
   "cell_type": "markdown",
   "id": "fdbc6714",
   "metadata": {},
   "source": [
    "*b) Sketch several isotherms from the Van der Waals equation in the PV plane, with P on the vertical axis. Identify the critical point.*"
   ]
  },
  {
   "cell_type": "markdown",
   "id": "9f802328",
   "metadata": {},
   "source": [
    "The isotherm idea is rather simple: hold T constant (isotherm, you can tell from the word) and let P and V vary with that. What shapes do we get? \n",
    "\n",
    "The main complication is that V is present in two places in the equation. But we can use reason to figure out the shapes.\n",
    "\n",
    "The b-component provides resistance, heavy resistance, to compressing. So when volume goes down, P goes up, and shoots up at whatever the minimum volumea ctually is. As volume increases this component goes down considerably and tapers off. In most situations this leaves a basic exponential decay curve. However, in some cases, the behavior of a's term can start dominating, and we get a section where the pressure goes *negative* along the isotherm, making a little \"pocket.\" Colder temperatures are more prone to the pocket, while warmer ones remove it. The *boundary* isotherm is the *critical temperature,* and the specific critical point is the saddle point on said isotherm. \n",
    "\n",
    "Which does reveal the way to solve the next part, which is to say the way where the first and second derivatives of P with respect to V are zero, the clear nature of the saddle point."
   ]
  },
  {
   "cell_type": "markdown",
   "id": "9205b60e",
   "metadata": {},
   "source": [
    "*c) Express a and b in terms of the critical values $T_c, V_c$, and $P_c$. Evaluate the ratio PV/RT at the critical point.*"
   ]
  },
  {
   "cell_type": "markdown",
   "id": "c0ec87d2",
   "metadata": {},
   "source": [
    "Using the P= version of the Van der Waals equation is superior here so we can take derivatives of P with respect to V and tune the parameters to find the saddle point. We keep the N's in since deriving the whole relations is sometimes worthwhile and they are just constants anyway. \n",
    "\n",
    "$$ P = \\frac{NkT}{V-Nb} - \\frac{aN^2}{V^2}$$\n",
    "$$ P' = -\\frac{NkT}{(V-Nb)^2} + 2\\frac{aN^2}{V^3}$$\n",
    "$$ P'' = 2\\frac{NkT}{(V-Nb)^3} - 6\\frac{aN^2}{V^4}$$\n",
    "\n",
    "Anyway set both derivatives to zero, see what we can find.\n",
    "\n",
    "$$ 0 = -\\frac{NkT}{(V-Nb)^2} + 2\\frac{aN^2}{V^3}$$\n",
    "$$ 0 = 2\\frac{NkT}{(V-Nb)^3} - 6\\frac{aN^2}{V^4}$$\n",
    "\n",
    "Technically speaking this is two equations two unknowns, with the unknowns being V and T. T is the easiest to isolate in both cases. EXCEPT we actually aren't asked to evaluate V and T... we're asked to express a and b! Still two equations two unknowns in that case, but now a is easier to extract.\n",
    "\n",
    "$$ a = \\frac{NkTV^3}{2N^2(V-Nb)^2} $$\n",
    "$$ a = \\frac{NkTV^4}{3N^2(V-Nb)^3} $$\n",
    "\n",
    "Both are positive, good sign. Set them equal, solve for b.\n",
    "\n",
    "$$ \\frac{NkTV^3}{2N^2(V-Nb)^2} = \\frac{NkTV^4}{3N^2(V-Nb)^3} $$\n",
    "$$ \\Rightarrow \\frac{1}{2} = \\frac{V}{3(V-Nb)} $$\n",
    "$$ \\Rightarrow 2 = \\frac{3(V-Nb)}{V} $$\n",
    "$$ \\Rightarrow V = 3Nb $$\n",
    "$$ \\Rightarrow b = V/3N $$\n",
    "\n",
    "Or in our specific case, replace N with 1.\n",
    "\n",
    "$$ b = V_c/3 $$\n",
    "\n"
   ]
  },
  {
   "cell_type": "markdown",
   "id": "2e28a614",
   "metadata": {},
   "source": [
    "Now rather than trying to deal with the powers of b that'll be needed to solve for a here... we can just return to the van der waals relation. After all, we are allowed to use the pressure.\n",
    "\n",
    "$$ P = \\frac{NkT}{2V/3} - \\frac{aN^2}{V^2}$$\n",
    "$$ \\Rightarrow \\frac{NkTV^2}{2V/3} - P = \\frac{aN^2}{V^2}$$\n",
    "$$ \\Rightarrow \\frac{NkT}{N^22V/3} - \\frac{PV^2}{N^2} = a$$\n",
    "$$ \\Rightarrow \\frac{3kT}{2NV} - \\frac{PV^2}{N^2} = a$$\n",
    "\n",
    "Of course in the form we want it'll be\n",
    "\n",
    "$$ \\Rightarrow \\frac{3RT}{2V} - PV^2 = a$$\n",
    "\n",
    "And this leads into the last part, finding PV/RT. We can actually extract it here by dividing through by RTV. \n",
    "\n",
    "$$ \\Rightarrow \\frac{3}{2V^2} - \\frac{PV}{RT} = \\frac{a}{RTV}$$\n",
    "$$ \\Rightarrow \\frac{3}{2V^2} - \\frac{a}{RTV} = \\frac{PV}{RT} $$\n",
    "\n",
    "Now, we can replace V with expressions of b.\n",
    "\n",
    "$$ \\Rightarrow \\frac{1}{6b^2} - \\frac{a}{3RTb} = \\frac{PV}{RT} $$\n",
    "\n",
    "Now, the problem does not mention needing to get rid of RT on the other side. BUT the original Van der Waals expression can do that for us, but we'd have to include an expression for P. Normally we'd consider this problem done at this point and move on.\n",
    "\n",
    "That said, we know from the text that $P_c = a/27b^2$, so the expression would actually be able to resolve. Let's go ahead and taket his to completion just to see.\n",
    "\n",
    "$$ RT = (P + a/V^2) (V-b) = (\\frac{a}{27b^2} + \\frac{a}{9b^2})(2b) = \\frac{8a}{27b}$$\n",
    "\n",
    "Which is also in the book, huh...\n",
    "\n",
    "ANYWAY, we can isnert this to get:\n",
    "\n",
    "$$ \\Rightarrow \\frac{1}{6b^2} - \\frac{9}{8} = \\frac{PV}{RT} $$\n",
    "\n",
    "Which... sure, I guess? Of course, this would require the expression for P, but we obtained expressions for a and b. A bit messy is fine, methinks. "
   ]
  },
  {
   "cell_type": "markdown",
   "id": "77473965",
   "metadata": {},
   "source": [
    "*d) At pressures below the critical point, the liquid and gas phases coexist, and the Van der Waals isotherms are unphysical. From your sketch in part b), consider an isotherm with $T<T_c$. Draw the correct isotherm. What are the physical reasons behind your choice?*"
   ]
  },
  {
   "cell_type": "markdown",
   "id": "00b99faa",
   "metadata": {},
   "source": [
    "The *correct* isotherm (realizing we forgot to actually draw the above ones heh no matter) will becomes straight lines at the dip. The volume may change along the isotherm, but the pressure will not. Why is this? Well...\n",
    "\n",
    "The physical reason for this is becasue the states represented by that section of the isotherm are unstable. We can see this if we were to draw a Gibbs Free Energy graph and notice tha tit loops back in on itself, crossing at a point-that point becomes a \"junction\" and the smallest Gibbs energy is taken, so all the other states are \"missed.\" We essentially have a discontinuity that forces a line at that junciton (one can think of it as a phse transition). This is where liquid-gas phase transitions take place. \n",
    "\n",
    "To actually *draw* these lines, we need to find the line where the area above the curve and the area under the curve are the same, and thus balance. This is done because, at the junction, the net change in the Gibbs Free Energy needs to be *zero*. This process is called the Maxwell Construction. (or you could plot the Gibbs Free Energy and find the location of the junction, that works too). "
   ]
  },
  {
   "cell_type": "markdown",
   "id": "9e42f28c",
   "metadata": {},
   "source": [
    "<a id='P10'></a>\n",
    "\n",
    "# Problem 10 \\[Back to [top](#toc)\\]\n",
    "$$\\label{P10}$$\n",
    "\n",
    "*Consider a one-dimensional rod of length l. The ends of the rod, located at x=0 and x=l, are maintained at temperature T=0. At t=0, the temperature of the rod for 0<x < l is constant and equal to $T_0$. The heat diffusion equation is*\n",
    "\n",
    "$$ \\frac{\\partial T(x,t)}{\\partial t} = \\alpha \\frac{\\partial^2 T(x,t)}{\\partial x^2} $$\n",
    "\n",
    "*where the positive constant $\\alpha$ is the thermal diffusivity of the rod. Solve the above equation to find the temperature distribution $T(x,t)$, throughout the rod for any $t>0$. Be sure to find the solution appropriate to the given boundary and initial conditions by determining all coefficients that appear in the general solution.*"
   ]
  },
  {
   "cell_type": "markdown",
   "id": "e7743db4",
   "metadata": {},
   "source": [
    "**QUICK LOOKUP**\n",
    "\n",
    "What we have here is a partial differential equation. I am actually quite familiar with the form, I just forget the steps. But this actually shouldnt' be too much of a problem as we can just grab the textbook and look through it, this is a standard setup.\n",
    "\n",
    "Regardless, we need our boundary conditions. They are provided by the problem: T(x,0) = $T_0$, which is our initial situation. We also have T(0,t) = 0 and T(l,t) = 0, as the ends of the rod are held constant. This suffices as the boundary condition.  \n",
    "\n",
    "First, let us find the steady state solution, that is, the one that does not depend on time. Well, that means the second spatial derivative has to be 0, which means the entire rod has to be temperature 0. Naturally this is what the rod will eventually cool to (or asymptotically approach).\n",
    "\n",
    "$$ T_E(x) = 0 $$"
   ]
  },
  {
   "cell_type": "markdown",
   "id": "aea4149f",
   "metadata": {},
   "source": [
    "Now for the sake of actually doing the problem in its entirity, let's think about this and do the steps explicitly. If we don't depend on time, we can write $0 = T''$, and so the basic solution here is $T = Cx + D$. Now obviously we THEN use the boundary conditions, and if they *weren't* zero we would have something here, but we don't so that's that, T(x)=0. \n",
    "\n",
    "To solve these sorts of things, we generally consider *displacement from equilibrium*. We usually represent this with v.\n",
    "\n",
    "$$ v(x,t) = T(x,t) - T_E(x) $$\n",
    "\n",
    "Of cousre in this case the steady state is zero so displacement from equilibrium *is* our result. Man, this problem is designed not to need a lot of these steps, huh? In fact, the entire point of finding the displacement is to make the problem one that *has* zero boundary conditions at the ends. "
   ]
  },
  {
   "cell_type": "markdown",
   "id": "bf48dbf4",
   "metadata": {},
   "source": [
    "So now that wse've proven ourselves that we're on what is known as a homogenous problem, we now apply everyone's favorite *separation of variables*. \n",
    "\n",
    "$$ T(x,t) = G(t)X(x) $$\n",
    "\n",
    "Normally I'd use T for the time dependent part, but we already have temperature. As per the usual situation with separation of variables, we substitute the division into the original equation and try to make one side t and one side x. \n",
    "\n",
    "$$ \\frac{\\partial G(t)}{\\partial t}X(x) = \\alpha \\frac{\\partial^2 X(x)}{\\partial x^2}T(t) $$\n",
    "$$ \\frac{\\partial G(t)}{\\partial t}\\frac{1}{\\alpha G(t)} =\\frac{\\partial^2 X(x)}{\\partial x^2}\\frac{1}{X(x)} $$\n",
    "\n",
    "The alpha is on the left hand side sicne that's usually what's done and it makes things follow the expected pattern. MIGHT make math easier, not sure, not gonna find out. Anyway the primary power of separation of variables is that the only way differential equations can be equal on both sides and independent of each other is if they equal a constant. This means we can split it up into two based on the constant $-\\lambda$, made negative for convenience reasons.\n",
    "\n",
    "$$ X'' = -\\lambda X $$\n",
    "$$ G' = -\\lambda \\alpha G $$\n",
    "\n",
    "Now the solution for G is well known, it's an exponential form. $G = Ce^{-\\lambda k t}$. C is the only unspecified quantity here and we can set it to match boundary conditions later.\n",
    "\n",
    "The *double* derivative is where our difficulty lies. "
   ]
  },
  {
   "cell_type": "markdown",
   "id": "74bbee9e",
   "metadata": {},
   "source": [
    "Now, the solutions to the secondary derivative here depend on the nature of $\\lambda$, if it's positive we get sines and cosines, if it's negative we get cosh and sinh, and if it's 0 we get the linear Cx+D solution. Now, naturally, the hyperbolic situaiton does not match our boundary conditions, and the linear one only has the trivial solution, so we get sines and cosines. Specificlaly...\n",
    "\n",
    "$$ X = Asin(\\sqrt\\lambda x) + Bcos(\\sqrt\\lambda x) $$\n",
    "\n",
    "Now in our case we have to be zero at x=0 at all times so that reduces us to simply\n",
    "\n",
    "$$ X = Asin(\\sqrt\\lambda x) $$. \n",
    "\n",
    "At this point it should be pretty obvious that $\\lambda$ can be any number of things, but it's related to an integer due to the l boundary condition. Solving for that condition gives us\n",
    "\n",
    "$$ \\lambda = \\frac{n^2\\pi^2}{l^2} $$\n",
    "\n",
    "Which means that our full solution is, for now\n",
    "\n",
    "$$ T = Ce^{-\\frac{n^2\\pi^2}{l^2}kt} sin(\\frac{n\\pi}{l}x) $$\n",
    "\n",
    "Now we still don't know what C is, and that n is specifiable to any integer. We have an initial condition, $T_0$, so if t=0 ... wait a minute! We can't have a constant initial condition this way! "
   ]
  },
  {
   "cell_type": "markdown",
   "id": "a3c4e17c",
   "metadata": {},
   "source": [
    "At this point we apply SUPERPOSITION, thinking that a solution must exist if we add a bunch of individual solutiosn together. (Note: obviously we do not count n=0, that would be pointless).\n",
    "\n",
    "$$ T = \\sum_n C_ne^{-\\frac{n^2\\pi^2}{l^2}kt} sin(\\frac{n\\pi}{l}x) $$\n",
    "\n",
    "Since we're summing over all n there's no need to specify, but now we need to specify all $C_n$ somehow. Now, let's return to our intiial condition at t=0. \n",
    "\n",
    "$$ T_0 = \\sum_n C_n sin(\\frac{n\\pi}{l}x) $$\n",
    "\n",
    "Anyway this is pretty clearly a Fourier Sine Series. Presumably just memorize the form of the constant rather than trying to rederive the Orthogonality of Sines.\n",
    "\n",
    "$$ C_n = \\frac{2}{l} \\int_0^l T_0 sin(\\frac{n\\pi}{l}x) dx $$\n",
    "\n",
    "Since this is just a constant instead of a funciton initial condition this is acutally rahter trivial.\n",
    "\n",
    "$$ C_n = \\frac{2T_0}{l} \\left[ -cos(\\frac{n\\pi}{l}x) \\frac{l}{n\\pi} \\right]_0^l $$\n",
    "$$ C_n = \\frac{2T_0}{n\\pi} \\left[ -cos(n\\pi) + 1\\right] $$\n",
    "\n",
    "The bracketed term is either 1 or 0 for any given one of these. Which means for even n we have 0, and for odd n we have\n",
    "\n",
    "$$ C_n = \\frac{2T_0}{n\\pi} $$\n",
    "\n",
    "Which is in fact the astandard answer and we have fully specified everything. Amazing what a textbook review can show. Anyway this problem reveals once again the importance of just knowing the Fourier Series, but the rest of this stuff can kind of just be intuited if you remember Separation of Variables and the basics of differential equation forms. Which I kind of know automatically at this point sooo... still worth reviewing. "
   ]
  },
  {
   "cell_type": "code",
   "execution_count": null,
   "id": "cccaac94",
   "metadata": {},
   "outputs": [],
   "source": []
  }
 ],
 "metadata": {
  "kernelspec": {
   "display_name": "Python 3 (ipykernel)",
   "language": "python",
   "name": "python3"
  },
  "language_info": {
   "codemirror_mode": {
    "name": "ipython",
    "version": 3
   },
   "file_extension": ".py",
   "mimetype": "text/x-python",
   "name": "python",
   "nbconvert_exporter": "python",
   "pygments_lexer": "ipython3",
   "version": "3.7.9"
  }
 },
 "nbformat": 4,
 "nbformat_minor": 5
}
