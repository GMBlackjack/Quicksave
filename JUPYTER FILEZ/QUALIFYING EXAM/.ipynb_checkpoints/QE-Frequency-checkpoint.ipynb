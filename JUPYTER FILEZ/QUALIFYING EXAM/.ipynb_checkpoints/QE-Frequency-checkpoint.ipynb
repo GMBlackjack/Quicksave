{
 "cells": [
  {
   "cell_type": "markdown",
   "id": "0c1bfe81",
   "metadata": {},
   "source": [
    "# Qualifying Problem Frequency\n",
    "\n",
    "## Answers: Gabriel M Steward"
   ]
  },
  {
   "cell_type": "markdown",
   "id": "cd9e5529",
   "metadata": {},
   "source": [
    "### What types of problems do we see most often across the history of the Qualifying Exam?"
   ]
  },
  {
   "cell_type": "markdown",
   "id": "46d59831",
   "metadata": {},
   "source": [
    "Note: this data only follows qualifying exams that have the modern format of 2 Mechancis 3 Quantum 3 EM 1 Stat Mech and 1 Math Methods problem (2009 Onward). EM is somewhat suspect as it saw a drastic change in old tests, so it'll have its own separate analysis. \n",
    "\n",
    "Note: sometimes problems are multiple concepts. In that case they are counted twice, as you'd need to know both to solve them in completion."
   ]
  },
  {
   "cell_type": "markdown",
   "id": "5c750a04",
   "metadata": {},
   "source": [
    "# MECHANICS (2 Questions) \n",
    "\n",
    "Lagrangian: 9\n",
    "\n",
    "Hamiltonian: 5\n",
    "\n",
    "Central Force: 5\n",
    "\n",
    "Moment of Inertia: 4\n",
    "\n",
    "Normal Modes: 3\n",
    "\n",
    "Lagrange Multipliers: 3\n",
    "\n",
    "Calculus of Variations/Geodesics: 2\n",
    "\n",
    "NOTES: Lagrange Multipliers seem rare, but it might just be because they are not always explicitly asked for and sometimes a problem's solution requires them without being obvious about it. The same can be said for Normal Modes, the solution may not obviously need them but they could be required. Central Force problems were more common in older exams. \n",
    "\n",
    "Obviously Lagrangians are by far the most common type of problem, often tied in with Hamiltonian problems. Calculus of Variations only shows up rarely. \n",
    "\n",
    "For Mechanics questions basically nothing is provided on the equation sheet, sometimes you'll be provided the moment of inertia tensor, other times not."
   ]
  },
  {
   "cell_type": "markdown",
   "id": "ec6ab80a",
   "metadata": {},
   "source": [
    "# QUANTUM MECHANICS (3 Questions)\n",
    "\n",
    "Wavefunction/Energy Level Probabilities: 8\n",
    "\n",
    "Hamiltonian: 7\n",
    "\n",
    "Perturbation Theory: 6\n",
    "\n",
    "Unusual Operators (Creation, annihilation, unitary, time evolution, rotation): 6\n",
    "\n",
    "Potential Well: 5\n",
    "\n",
    "Expectation Values: 4\n",
    "\n",
    "Spin Operators and States: 3\n",
    "\n",
    "Schrodinger's Equation: 3\n",
    "\n",
    "Momentum Space: 2\n",
    "\n",
    "Group Theory: 1\n",
    "\n",
    "Variational Method: 1\n",
    "\n",
    "Tensors: 1\n",
    "\n",
    "Dipole-Dipole Interaction: 1\n",
    "\n",
    "Thomas-Reiche-Kuhn sum Rule: 1\n",
    "\n",
    "Scattering: 1\n",
    "\n",
    "Note: harmonic oscillators show up a lot in a large variety of things, so be sure to have them in mind. The hydrogen atom is similar, though less often. Note that there are a large number of questions that appear only once, Quantum Mechanics appears particuarly suscpetible to drawing on entirely random things that are never asked again. The two thigns that *definitely* should be known absolutely are how to find energy level probabilities and how to use quantum hamiltonians of systems, these are almost always present. Can't say the same for the \"unusual operators\" category since while it showed up a lot, often the operators were unrealted to each other, or the question only dealt with one or two of them. Note that while Schrodinger's Equation is listed three times here, those were all on the same text, it seems that rarely are we actually quizzed on applying Schrodinger's equation. "
   ]
  },
  {
   "cell_type": "markdown",
   "id": "12dddaca",
   "metadata": {},
   "source": [
    "# ELECTROMAGNETICS (3 Questions)\n",
    "\n",
    "So I was told that the EM questions changed significantly after 2015, so here's hte distribution ignoring the 2015 tests and before.\n",
    "\n",
    "EM Waves On Medium Boundaries: 4\n",
    "\n",
    "Induction, Flux, and Induced Current: 4\n",
    "\n",
    "Leading Order Approximations: 3\n",
    "\n",
    "Method of Images: 3\n",
    "\n",
    "Dielectrics: 2\n",
    "\n",
    "Waveguides and Coaxial Cables: 2\n",
    "\n",
    "Magnetizable Matter: 2\n",
    "\n",
    "Partial Differential Equations (Separation of Variables): 1\n",
    "\n",
    "Note: for method of images, spherical method of images problems occur. Also, more than other categories, expect lots of out of the box thinking. For instance, \"EM wave on medim boundary\" is usually on a normal mateiral, but one time it was a perfect conductor, and another time it was a mesh of super fine wires. There's not a clear preference for anything on EM questions, though induction problems show up a bit more often than expected, while solving a boundary value problem from scratch is the least common. One of the most common tricks is to have a time-dependent component in an otherwise static situation; usually statics can still be used because of prevailing assumptions, but not always. "
   ]
  },
  {
   "cell_type": "markdown",
   "id": "5eeb00d3",
   "metadata": {},
   "source": [
    "From the older EM questions:\n",
    "\n",
    "Method of Images: +1\n",
    "\n",
    "Induction, Flux, and Induced Current: +1\n",
    "\n",
    "EM Waves On Medium Boundaries: +2\n",
    "\n",
    "Waveguides and Coaxial Cables: +4\n",
    "\n",
    "Dielectrics: +1\n",
    "\n",
    "Charge Distribution/Density: 2\n",
    "\n",
    "Wave Packets: 1\n",
    "\n",
    "Magnetic Acceleration: 1\n",
    "\n",
    "Piecewise Potentials: 1\n",
    "\n",
    "Ampere's Law: 1\n",
    "\n",
    "Potential Expansions: 1\n",
    "\n",
    "Relativistic Electrodynamics: 1\n",
    "\n",
    "Green's Theorem: 1\n",
    "\n",
    "The Vector Potential: 1\n",
    "\n",
    "Work: 1\n",
    "\n",
    "And some other ones I had a hard time classifying. \n",
    "\n",
    "Notes: so clearly there was a chang here, while the newer EM questions tend to focus on a handful of topics in creative ways, the old questiosn were all over the place and like throwing darts at a board. Though there was a strange preference for waveguide problems. Regardless, use the previous section. "
   ]
  },
  {
   "cell_type": "markdown",
   "id": "cee51c84",
   "metadata": {},
   "source": [
    "# STATISTICAL MECHANICS (1 Question)\n",
    "\n",
    "Partition Function: 4\n",
    "\n",
    "Equations of State: 3\n",
    "\n",
    "Phase Transitions: 2\n",
    "\n",
    "Energy Levels: 2\n",
    "\n",
    "Equipartition Theorem: 2\n",
    "\n",
    "Degeneracy: 1\n",
    "\n",
    "Bose Gas Condensation: 1\n",
    "\n",
    "Density of States: 1\n",
    "\n",
    "Notes: as you can tell this one is annoyingly evenly distributed, with a clear emphasis on partition functions and not much else. There's also a lot of terminology in these questions that need to be known to understand them, such as chemical potential, and energies are needed a *lot*. I'm not sure if the quesiton topics seem random or if I just don't remember StatMech well enough to see what these problems are *really* asking. But there's not a clear \"study this\" frequency here, unfortunately."
   ]
  },
  {
   "cell_type": "markdown",
   "id": "2c4a3fbe",
   "metadata": {},
   "source": [
    "# MATH METHODS (1 Question)\n",
    "\n",
    "Note: math methdos is rarely \"1 question\" its regualrly two packaged into one. \n",
    "\n",
    "Contour Integration: 10\n",
    "\n",
    "Fourier Series: 3\n",
    "\n",
    "Fourier Transform: 2\n",
    "\n",
    "Partial Differential Equations (Separation of Variables): 2\n",
    "\n",
    "Grahm-Schmidt Procedure: 1\n",
    "\n",
    "Cauchy-Reimann Equations: 1\n",
    "\n",
    "Cauchy's Theorem: 1\n",
    "\n",
    "Notes: as should be blatantly obvious, basically always expect to do a contour integral. Fortunately the residue theorem is usually provided, though it its entirely general form most often, and you'll still have to remember what the residue is used for. Don't let the relatively low numbers on the Fourier series and transform fool you, they are not only often part of other problems (such as Separation of Variables) but ALSO are often used in problems in OTHER sections of the exam. No, the Fourier Series definition is genreally not provided, so yes we will be suffering trying to remember the coefficients. "
   ]
  },
  {
   "cell_type": "code",
   "execution_count": null,
   "id": "cd995b02",
   "metadata": {},
   "outputs": [],
   "source": []
  }
 ],
 "metadata": {
  "kernelspec": {
   "display_name": "Python 3 (ipykernel)",
   "language": "python",
   "name": "python3"
  },
  "language_info": {
   "codemirror_mode": {
    "name": "ipython",
    "version": 3
   },
   "file_extension": ".py",
   "mimetype": "text/x-python",
   "name": "python",
   "nbconvert_exporter": "python",
   "pygments_lexer": "ipython3",
   "version": "3.7.9"
  }
 },
 "nbformat": 4,
 "nbformat_minor": 5
}
