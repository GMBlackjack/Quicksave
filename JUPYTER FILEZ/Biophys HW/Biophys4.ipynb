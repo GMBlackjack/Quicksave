{
 "cells": [
  {
   "cell_type": "markdown",
   "id": "20daffd7",
   "metadata": {},
   "source": [
    "# Homework 4: A Smorgasbord\n",
    "\n",
    "## Biophysics: PHYS 538\n",
    "## Gabriel M Steward\n",
    "## February 2022\n",
    "\n",
    "**Texts Referenced:**\n",
    "\n",
    "**Physical Biology of the Cell; Phillips, Kondev, Theriot, and Garcia.**\n",
    "\n",
    "**Extensive use of Google Search**\n",
    "\n",
    "Note: hopefully there's no awkward formating, but we're switching to using Jupyter rather than Word for homework, so there may be some unusual page breaks. "
   ]
  },
  {
   "cell_type": "markdown",
   "id": "7eb0aa40",
   "metadata": {},
   "source": [
    "## Problem 7.2\n",
    "\n",
    "**Average Occupancy From Statistical Mechanics**\n",
    "\n",
    "*Derive Equation 7.17. Use this equation to derive the average occupancy of a receptor with a single binding site as a function of the ligand concentration.* \n",
    "\n",
    "Equation 7.17 is given by:\n",
    "\n",
    "$$ \\langle N \\rangle = \\frac{1}{\\beta} \\frac{\\delta}{{\\delta \\mu}} ln\\mathcal{Z} $$\n",
    "\n",
    "Where N represents the particle number and $\\mathcal{Z}$ is the grand partition function. \n",
    "\n",
    "$$ \\mathcal{Z} = \\sum_{i} e^{-\\beta (E_s^{(i)}-µN_s^{(i)})} $$\n",
    "\n",
    "Now we just need to find the expected value. Just from normal expecttion rules, we know it is equal to\n",
    "\n",
    "$$ \\langle N \\rangle = \\frac{\\sum_{i} N_i e^{-\\beta (E_s^{(i)}-µN_s^{(i)})}}{\\mathcal{Z}} $$\n",
    "\n",
    "If we take the derivative of the grand partition function with respect to µ, we get the numerator times a constant $+\\beta$. So this becomes:\n",
    "\n",
    "$$ \\langle N \\rangle = \\frac{ \\frac{1}{\\beta} \\frac{\\delta}{{\\delta \\mu}} \\mathcal{Z} }{\\mathcal{Z}} $$\n",
    "\n",
    "By natural log rules we can pull the grand partition function into its own derivative and say\n",
    "\n",
    "$$ \\langle N \\rangle = \\frac{1}{\\beta} \\frac{\\delta}{{\\delta \\mu}} ln\\mathcal{Z} $$\n",
    "\n",
    "Which is exactly what we sought to show. "
   ]
  },
  {
   "cell_type": "markdown",
   "id": "182c522f",
   "metadata": {},
   "source": [
    "## Problem 7.6\n",
    "\n",
    "**Toy Model of Protein Folding**\n",
    "\n",
    "*A four-residue protein can take on the four different conformations shown in Figure 7.30. Three conformations are open and have energy $\\epsilon  (\\epsilon>0)$ and one is compact, and has energy zero.* \n",
    "\n",
    "((Figure not reproduced, but has four dots in a line, four dots in an L, four dots in a Z, and four dots in a square. Basically, tetris, without the T piece.)) \n",
    "\n",
    "*a) At temperature T, what is the probability, $p_o$, of finding the molecule in an open conformation? What is the probability, $p_c$, that is compact?*\n",
    "\n",
    "We have to be careful here, as there are not just \"four total arrangements\"—there are actually multiple ways to get the same arrangement. You can have a forward and backward-facing L, for instance. Assuming strictly 2D geometry, we can treat the final arrangement of the molecule as a series of probabilities: every added molecule has a chance of going right, left, or straight. The first molecule has no choice. The second molecule also has no choice. However, both the third and the fourth have full freedom of choice.\n",
    "\n",
    "Particle 3 can go left, middle, right. Particle 4, no matter hwich way particle 3 went, can also go left, middle, right. So we end up with the following arrangemetns: LL, LM, LR, ML, MM, MR, RL, RM, RR. So there are actually nine different ways to arrange the particles, just some happen to look the same. Specifically:\n",
    "\n",
    "Straight \"I\" piece: MM\n",
    "\"L\" piece: LM, RM, ML, MR\n",
    "\"Z\" piece: LR, RL\n",
    "\"Square\" piece: LL, RR\n",
    "\n",
    "So each of these arrangements has a weight: 1, 4, 2, and 2 respectively. 7/9 of these are open, 2/9 are compact. \n",
    "\n",
    "However, the states have different energies, so the probability is not simply 2/9, each of them gets a weight based on their energy. The compact states are treated as having energy zero, so each one has a weight of 1, or simply \"2\". The open states have an given energy and so have a weight of $e^{-\\beta(\\epsilon-µ)}$. Since there's seven of them, this gets multiplied by seven. We subsequently leave off µ since our number of particles in this chain cannot vary.\n",
    "\n",
    "To get the probability, divide the weight of comapct by the total weight. Stated mathematically, this is:\n",
    "\n",
    "$$ p_c = \\frac{2}{7e^{-\\beta\\epsilon}+2} $$\n",
    "\n",
    "Conversely, open is:\n",
    "\n",
    "$$ p_o = \\frac{7e^{-\\beta\\epsilon}}{7e^{-\\beta\\epsilon}+2} $$"
   ]
  },
  {
   "cell_type": "markdown",
   "id": "2de46b8a",
   "metadata": {},
   "source": [
    "*b) What happens to the probability $p_c$, calculated in a), in the limit of very large and very low temperatures?*\n",
    "\n",
    "We sometimes forget, but $\\beta = 1/kT$, so temperature is baked into our probability. \n",
    "\n",
    "As T goes to infinity, $\\beta$ goes to zero, and so the exponential approaches 1. This turns the probability of being compact to **2/9**. The differences in energy no longer matter, merely the number of different arrangements as there's plenty of energy to throw anything into any shape. \n",
    "\n",
    "As T goes to zero, $\\beta$ goes to infinity, and so the exponential approaches 0. This turns the probabilty of being compact to **1**, that is, guaranteed. Which makes sense, with absolutely no temperature you will almost always go to the absolute loweste enrgy state. \n"
   ]
  },
  {
   "cell_type": "markdown",
   "id": "b15f19f9",
   "metadata": {},
   "source": [
    "*c) What is the average energy of the molecule at temperature T?*\n",
    "\n",
    "To get an average you multiply the energy value itself times its probability. Since compact has an energy of zero, this becomes simply:\n",
    "\n",
    "$$ \\langle E \\rangle = \\epsilon\\frac{7e^{-\\beta\\epsilon}}{7e^{-\\beta\\epsilon}+2} $$"
   ]
  },
  {
   "cell_type": "markdown",
   "id": "66ffbbee",
   "metadata": {},
   "source": [
    "## Problem 8.9\n",
    "\n",
    "**Freely Jointed Chain in Three Dimensions**\n",
    "\n",
    "*a) Derive equation 8.69, use the result to derive the relation between force and esxtension, and make a plot of the resulting function.*\n",
    "\n",
    "Equation 8.39 is\n",
    "\n",
    "$$ z = \\frac{\\langle L \\rangle}{L_{tot}} = \\frac{2sinh(\\beta f a)}{4+2sinh(\\beta f a)} $$\n",
    "\n",
    "Where we keep in mind that z represents the extension."
   ]
  },
  {
   "cell_type": "markdown",
   "id": "ade7512c",
   "metadata": {},
   "source": [
    "Rather than attempting to perform the problem as the book seems to imply, we were directed to use the Partition Function Formulation. The book provides eq 8.70 for the \"can point in any direction\" case:\n",
    "\n",
    "$$ Z_1=\\int_0^{2π} d\\phi \\int_0^π e^{facos\\theta/k_BT} sin\\theta d\\theta $$\n",
    "\n",
    "Where the full partition Z_N is Z_1^N. \n",
    "\n",
    "Naturally we are in a discrete case and need to find the partition function of the six directions a single monomer can point. With two angles, $(\\theta,\\phi)$ we can represent all these directions. (0,0) (π,0) (π/2,0) (π/2,π/2) (π/2,π) (π/2,3π/2). The problem is we need to take this back from an integral to a sum. Rather than doing this with pure math, let's just think about how the energy is being represented in the integral. Usually, an exponential is given as $e^\\epsilon/kT$ or something similar. In this case, our $\\epsilon$ is $facos\\theta$. So in our discrete case, the energy contribution is either +fa, 0, or -fa—that is, the force times the distance and which direction we're pointing. All those 0 energy terms happen when the monomer isn't pointing along the z-axis. Note that this is only varying with $\\theta$, what of $\\phi$? Well, this is the problem with converting the integral into a direct sum: the $\\phi$ angle only matters when $\\theta$ is *not* equal to 0 or π, but converting it into a sum would prompt $\\phi$ to multiply everything by four. "
   ]
  },
  {
   "cell_type": "markdown",
   "id": "789bef90",
   "metadata": {},
   "source": [
    "So if we construct the partition function manually taking this into consideration, we end up with...\n",
    "\n",
    "$$ Z_1 = e^{fa/k_BT} + e^{-fa/k_BT} + 4e^0 = e^{fa/k_BT} + e^{-fa/k_BT} + 4 $$\n",
    "\n",
    "One \"up\" term, one \"down\" term, and four \"perpendicular\" terms, one for each direction. $Z_N$ is therefore\n",
    "\n",
    "$$ Z_N = (e^{fa/k_BT} + e^{-fa/k_BT} + 4)^N $$\n",
    "\n",
    "Now the Gibbs Free Energy is G(f)=$-k_BTlnZ_N$ which becomes\n",
    "\n",
    "$$ G(f)=-Nk_BTln \\left( e^{fa/k_BT} + e^{-fa/k_BT} + 4 \\right) $$\n",
    "$$ =-Nk_BTln \\left( 2cosh(\\frac{fa}/{k_BT}) + 4 \\right) $$\n",
    "$$ =-Nk_BTln \\left( 2cosh(\\beta fa) + 4 \\right) $$\n",
    "\n",
    "Which is a good sign as we have the term we want in the denominator right there. "
   ]
  },
  {
   "cell_type": "markdown",
   "id": "0d253a3a",
   "metadata": {},
   "source": [
    "Now, we know the expectation of L is given by -$\\partial G / \\partial f$ from Equation 8.72, which gives us:\n",
    "\n",
    "$$ \\frac{2sinh(\\beta fa) }{2cosh(\\beta fa) +4} $$\n",
    "\n",
    "Wait, already? But we were of the impression we still had to find $L_{tot}$, but this implies that the total length is already set to 1. Why is that? Well, think about it—our expectation value has a bound on it, -1 to 1, so naturally of course the total length would have to be 1, since the expectation value cannot exceed it. While we did not declare it, we also noted that N=$L_{tot}/a$, so the total length was always inherently present in our derivation from the first equation that we took from teh book. And so, we have our answer. "
   ]
  },
  {
   "cell_type": "markdown",
   "id": "4479824b",
   "metadata": {},
   "source": [
    "*b) In the small-force limit, the force-extension curve is linear; that is, in this regime, the polymer behaves like an ideal Hookean spring with a stiffness constant k $\\propto k_B T/L_{tot} a$. Demonstrate this claim and deduce the numerical factors that replace the proportionality with a strict equality.*"
   ]
  },
  {
   "cell_type": "markdown",
   "id": "ce236446",
   "metadata": {},
   "source": [
    "Graphing the above equation with $\\beta fa$=x provides the following."
   ]
  },
  {
   "attachments": {
    "Screen%20Shot%202022-03-06%20at%202.18.51%20PM.png": {
     "image/png": "[encoded data removed]"
    }
   },
   "cell_type": "markdown",
   "id": "f0f0221b",
   "metadata": {},
   "source": [
    "![Screen%20Shot%202022-03-06%20at%202.18.51%20PM.png](attachment:Screen%20Shot%202022-03-06%20at%202.18.51%20PM.png)"
   ]
  },
  {
   "cell_type": "markdown",
   "id": "27534f4e",
   "metadata": {},
   "source": [
    "This does, in fact, appear as a spring does—a linear section in the middle where it follows Hooke's law, and nonlinear sections that taper off as too much strain is applied to the spring. This should suffice as a demonstration: however, we need to figure out what the slope of that line *is*.\n",
    "\n",
    "In the small approximation, sinhx is just x. However, coshx actually evaluates to $1+x^2/2$. With this in mind, our small angle approximation for our z changes to:\n",
    "\n",
    "$$ z = \\frac{2\\beta fa }{2[1+\\frac{(\\beta fa)^2}{2}] +4} = \\frac{\\beta fa }{3+\\frac{(\\beta fa)^2}{2}} $$\n",
    "\n",
    "We now seek to get this into the form f=-kz, since z is the extension. After messing with the math a bit we realize something: coshx is nowhere near 3 for small x. The constant term dominates. \n",
    "\n",
    "$$  = \\frac{\\beta fa }{3} $$\n",
    "\n",
    "Which makes it easy to solve for f. \n",
    "\n",
    "$$ f = \\frac{3}{\\beta a}z = \\frac{3 k_BT}{a}z $$"
   ]
  },
  {
   "cell_type": "markdown",
   "id": "4dbb34e8",
   "metadata": {},
   "source": [
    "We note that our total L is not shown here—that's because it's equal to 1. If we want to increase the total extension of L's expectation, we just multiply by the total length. This makes the final relation...\n",
    "\n",
    "$$ f = \\frac{3 k_BT}{L_{tot}a}z $$\n",
    "\n",
    "or\n",
    "\n",
    "$$ k = -\\frac{3 k_BT}{L_{tot}a} $$\n",
    "\n",
    "Since, as we remember, Hooke's law is actually F=-kx, not F=kx. "
   ]
  },
  {
   "cell_type": "markdown",
   "id": "c9f8bc63",
   "metadata": {},
   "source": [
    "## Problem 21.2\n",
    "\n",
    "**Alignment Tools and Methods**\n",
    "\n",
    "*HIV virions wrap themselves with a lipid bilayer membrane as they bud off from infected cells; in this viral membrane envelope are \"spikes\" composed of two different proteins (actually glycoproteins), gp41 and gp120. The gp denotes glycoprotein, and the number indicates their molecular weight in kilodaltons. gp120 and gp41 ftogether form the trimeric envelope spike on the surface of HIV that functions in viral entry into a host cell. The primary receptor for pg120 is CD4, a protein found mainly on the white blood cells known as T-lymphocytes. gp120 avoids detection by the host immune system through a number of strategies, including rapid changes in sequence due to mutations.*\n",
    "\n",
    "*In this exercise, you will grab a sequence for gp120 and \"blast\" it to find relate dproteins. Use the \"Search database\" on the LANL HIV Sequence Databse site (www.hiv.lanl.gov/) to find a sequence for gp120; the compelte gp120 molecule has about 500 amino acids, so a complete DNA sequence will have rougly 1500 base pairs.*\n",
    "\n",
    "*With the BLAST website (www.ncbi.nlm.nih.gov/blast), open a new window and select \"Blastx\" under the \"Basic BLAST\" heading. Copy and paste your aprpoximately 1500 nucleotide sequence of gp120 into the top box under \"Enter Query Sequence.\" For the database, select \"Protein Data Bank proteins (pdb).\" What we are doing is having BLAST translate the gp120 nucleotide sequence into an amino acid sequence and then compare it with amino acid sequences of proteins in the PDB. Note that there are some proteins that appear multiple times in the PDB because their structures have been analyzed and determined more than once or in different contexts. Finally, push the \"BLAST\" button and wait for your results to appear on a new page.*\n",
    "\n",
    "*a) How does BLAST determine the ranking of the results from your search?*"
   ]
  },
  {
   "cell_type": "markdown",
   "id": "fe48822e",
   "metadata": {},
   "source": [
    "*b) For your top search result, identify the percentage of sequence identity with your query sequence. Explain how this number is determined.*"
   ]
  },
  {
   "cell_type": "markdown",
   "id": "e0e96a27",
   "metadata": {},
   "source": [
    "*c) You will notice that BLAST has used gaps in many of your alignments. What is the evolutionary significance of these gaps?*"
   ]
  },
  {
   "cell_type": "markdown",
   "id": "d5a72d8c",
   "metadata": {},
   "source": [
    "*d) For your top hit, how many alignments with this high a score or better would have been expected by chance?*"
   ]
  },
  {
   "cell_type": "markdown",
   "id": "dbcf3909",
   "metadata": {},
   "source": [
    "*e) Looking at your ranked list of results and using only the \"E-value,\" which hits do you expect to (possibly) have a genuine evolutionary relationship with your gp120 sequence and why?*"
   ]
  },
  {
   "cell_type": "markdown",
   "id": "58a0e1d2",
   "metadata": {},
   "source": [
    "## Bonus!\n",
    "\n",
    "**In addition to the above problems, send an email to ytreberg@uiaho.edu with a Cc to the other student(s) in your group. The email should contain 1-2 articles (if 2, must be on same topic) in PDF format that you want to have your classmates read and discuss. In the body of the email very briefly explain your choice(s).**"
   ]
  },
  {
   "cell_type": "code",
   "execution_count": null,
   "id": "94480f54",
   "metadata": {},
   "outputs": [],
   "source": []
  }
 ],
 "metadata": {
  "kernelspec": {
   "display_name": "Python 3 (ipykernel)",
   "language": "python",
   "name": "python3"
  },
  "language_info": {
   "codemirror_mode": {
    "name": "ipython",
    "version": 3
   },
   "file_extension": ".py",
   "mimetype": "text/x-python",
   "name": "python",
   "nbconvert_exporter": "python",
   "pygments_lexer": "ipython3",
   "version": "3.8.8"
  }
 },
 "nbformat": 4,
 "nbformat_minor": 5
}
